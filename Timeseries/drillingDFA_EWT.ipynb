{
 "cells": [
  {
   "cell_type": "code",
   "execution_count": 18,
   "metadata": {},
   "outputs": [],
   "source": [
    "import pickle\n",
    "import pandas as pd\n",
    "import numpy as np\n"
   ]
  },
  {
   "cell_type": "code",
   "execution_count": 19,
   "metadata": {},
   "outputs": [
    {
     "name": "stdout",
     "output_type": "stream",
     "text": []
    },
    {
     "name": "stdout",
     "output_type": "stream",
     "text": []
    }
   ],
   "source": [
    "# Replace 'file_path.pkl' with the actual path to your .pkl file\n",
    "file_path = '../../data/drilling.pkl'\n",
    "with open(file_path, 'rb') as file:\n",
    "    data = pickle.load(file)\n",
    "\n",
    "# Print or process the loaded data\n",
    "print(data)"
   ]
  },
  {
   "cell_type": "code",
   "execution_count": 20,
   "metadata": {},
   "outputs": [
    {
     "name": "stdout",
     "output_type": "stream",
     "text": []
    }
   ],
   "source": [
    "data.columns"
   ]
  },
  {
   "cell_type": "code",
   "execution_count": 21,
   "metadata": {},
   "outputs": [
    {
     "name": "stdout",
     "output_type": "stream",
     "text": []
    }
   ],
   "source": [
    "#Put the columnt ASMECD1_T as x\n",
    "x1 = data['ASMECD1_T']\n",
    "#Put the column ASMECD2_T as y\n",
    "x2 = data['ASMECD2_T']\n",
    "time=data['TIME']\n",
    "#convert time in seconds starting from 0\n",
    "time = pd.to_datetime(time)\n",
    "time = time - time[0]\n",
    "time = time.dt.total_seconds()\n",
    "#Convert the data to numpy arrays   \n",
    "x1 = np.array(x1)\n",
    "x2 = np.array(x2)\n",
    "#Convert the time to numpy array\n",
    "time = np.array(time)\n",
    "#Create the figure\n",
    "import matplotlib.pyplot as plt\n",
    "plt.figure(figsize=(10, 5))\n",
    "#Plot the data\n",
    "plt.plot(time, x1, label='ASMECD1_T')\n",
    "plt.plot(time, x2, label='ASMECD2_T')\n",
    "plt.xlabel('Time (s)')\n",
    "plt.ylabel('Value')\n",
    "plt.title('ASMECD1_T and ASMECD2_T vs Time')\n",
    "plt.legend()\n",
    "plt.grid()\n",
    "plt.show()"
   ]
  },
  {
   "cell_type": "code",
   "execution_count": 24,
   "metadata": {},
   "outputs": [
    {
     "name": "stdout",
     "output_type": "stream",
     "text": []
    }
   ],
   "source": [
    "data.head()"
   ]
  },
  {
   "cell_type": "code",
   "execution_count": 26,
   "metadata": {},
   "outputs": [
    {
     "name": "stdout",
     "output_type": "stream",
     "text": []
    }
   ],
   "source": [
    "#print the index of data\n",
    "print(data.index)\n",
    "#Print the columns of data\n",
    "print(data.columns)\n",
    "#Print the shape of data\n",
    "print(data.shape)"
   ]
  }
 ],
 "metadata": {
  "kernelspec": {
   "display_name": "ham",
   "language": "python",
   "name": "python3"
  },
  "language_info": {
   "codemirror_mode": {
    "name": "ipython",
    "version": 3
   },
   "file_extension": ".py",
   "mimetype": "text/x-python",
   "name": "python",
   "nbconvert_exporter": "python",
   "pygments_lexer": "ipython3",
   "version": "3.12.7"
  }
 },
 "nbformat": 4,
 "nbformat_minor": 2
}
