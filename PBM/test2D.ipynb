{
 "cells": [
  {
   "cell_type": "code",
   "execution_count": 5,
   "id": "6e10a653",
   "metadata": {},
   "outputs": [
    {
     "ename": "NameError",
     "evalue": "name 'th' is not defined",
     "output_type": "error",
     "traceback": [
      "\u001b[1;31m---------------------------------------------------------------------------\u001b[0m",
      "\u001b[1;31mNameError\u001b[0m                                 Traceback (most recent call last)",
      "Cell \u001b[1;32mIn[5], line 2\u001b[0m\n\u001b[0;32m      1\u001b[0m \u001b[38;5;66;03m# West: rows i = 1..Nx-1 use face De[i-1,:] → vectorized:\u001b[39;00m\n\u001b[1;32m----> 2\u001b[0m diag_w[\u001b[38;5;241m1\u001b[39m:, :]  \u001b[38;5;241m=\u001b[39m \u001b[38;5;241m-\u001b[39m \u001b[43mth\u001b[49m \u001b[38;5;241m*\u001b[39m dt \u001b[38;5;241m*\u001b[39m De[:,    :] \u001b[38;5;241m/\u001b[39m Cnp1[\u001b[38;5;241m1\u001b[39m:, :]\n\u001b[0;32m      3\u001b[0m \u001b[38;5;66;03m# East: rows i = 0..Nx-2 use face De[i,:]\u001b[39;00m\n\u001b[0;32m      4\u001b[0m diag_e[:\u001b[38;5;241m-\u001b[39m\u001b[38;5;241m1\u001b[39m, :] \u001b[38;5;241m=\u001b[39m \u001b[38;5;241m-\u001b[39m th \u001b[38;5;241m*\u001b[39m dt \u001b[38;5;241m*\u001b[39m De[:,    :] \u001b[38;5;241m/\u001b[39m Cnp1[:\u001b[38;5;241m-\u001b[39m\u001b[38;5;241m1\u001b[39m, :]\n",
      "\u001b[1;31mNameError\u001b[0m: name 'th' is not defined"
     ]
    }
   ],
   "source": [
    "            # West: rows i = 1..Nx-1 use face De[i-1,:] → vectorized:\n",
    "            diag_w[1:, :]  = - th * dt * De[:,    :] / Cnp1[1:, :]\n",
    "            # East: rows i = 0..Nx-2 use face De[i,:]\n",
    "            diag_e[:-1, :] = - th * dt * De[:,    :] / Cnp1[:-1, :]\n",
    "            # South: rows j = 1..Ny-1 use face Dn[:, j-1]\n",
    "            diag_s[:, 1:]  = - th * dt * Dn[:, :] / Cnp1[:, 1:]\n",
    "            # North: rows j = 0..Ny-2 use face Dn[:, j]\n",
    "            diag_n[:, :-1] = - th * dt * Dn[:,    :] / Cnp1[:, :-1]"
   ]
  }
 ],
 "metadata": {
  "kernelspec": {
   "display_name": "Courses",
   "language": "python",
   "name": "python3"
  },
  "language_info": {
   "codemirror_mode": {
    "name": "ipython",
    "version": 3
   },
   "file_extension": ".py",
   "mimetype": "text/x-python",
   "name": "python",
   "nbconvert_exporter": "python",
   "pygments_lexer": "ipython3",
   "version": "3.12.1"
  }
 },
 "nbformat": 4,
 "nbformat_minor": 5
}
