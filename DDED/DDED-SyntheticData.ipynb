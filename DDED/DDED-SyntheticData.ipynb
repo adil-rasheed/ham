{
 "cells": [
  {
   "cell_type": "code",
   "execution_count": 1,
   "id": "7c8572d6",
   "metadata": {},
   "outputs": [
    {
     "name": "stdout",
     "output_type": "stream",
     "text": [
      "Saved rawdata.csv with shape: (250000, 4)\n"
     ]
    }
   ],
   "source": [
    "# === Cell 1: 2D Heat Equation Simulation and Save to CSV ===\n",
    "\n",
    "import numpy as np\n",
    "import pandas as pd\n",
    "import matplotlib.pyplot as plt\n",
    "\n",
    "# Parameters\n",
    "nx, ny = 50, 50\n",
    "nt = 100\n",
    "lx, ly = 1.0, 1.0\n",
    "dx, dy = lx/nx, ly/ny\n",
    "dt = 0.001\n",
    "alpha = 0.01  # thermal diffusivity\n",
    "\n",
    "x = np.linspace(0, lx, nx)\n",
    "y = np.linspace(0, ly, ny)\n",
    "t = np.arange(0, nt*dt, dt)\n",
    "\n",
    "# Initialize temperature field\n",
    "u = np.zeros((nx, ny, nt))\n",
    "X, Y = np.meshgrid(x, y, indexing=\"ij\")\n",
    "u[:,:,0] = np.exp(-50*((X-0.5)**2 + (Y-0.5)**2))  # Gaussian IC\n",
    "\n",
    "# Time stepping (explicit FTCS)\n",
    "for k in range(0, nt-1):\n",
    "    u_xx = (np.roll(u[:,:,k], -1, axis=0) - 2*u[:,:,k] + np.roll(u[:,:,k], 1, axis=0)) / dx**2\n",
    "    u_yy = (np.roll(u[:,:,k], -1, axis=1) - 2*u[:,:,k] + np.roll(u[:,:,k], 1, axis=1)) / dy**2\n",
    "    u[:,:,k+1] = u[:,:,k] + alpha * dt * (u_xx + u_yy)\n",
    "\n",
    "# Save to CSV\n",
    "X, Y, T = np.meshgrid(x, y, t, indexing=\"ij\")\n",
    "df = pd.DataFrame({\n",
    "    \"x\": X.ravel(),\n",
    "    \"y\": Y.ravel(),\n",
    "    \"t\": T.ravel(),\n",
    "    \"u\": u.ravel()\n",
    "})\n",
    "df.to_csv(\"rawdata.csv\", index=False)\n",
    "print(\"Saved rawdata.csv with shape:\", df.shape)\n"
   ]
  },
  {
   "cell_type": "code",
   "execution_count": 2,
   "id": "e4722da7",
   "metadata": {},
   "outputs": [
    {
     "name": "stdout",
     "output_type": "stream",
     "text": [
      "     x    y      t             u\n",
      "0  0.0  0.0  0.000  1.388794e-11\n",
      "1  0.0  0.0  0.001  1.508033e-11\n",
      "2  0.0  0.0  0.002  1.634005e-11\n",
      "3  0.0  0.0  0.003  1.766995e-11\n",
      "4  0.0  0.0  0.004  1.907300e-11\n",
      "u.shape = (50, 50, 100)\n"
     ]
    }
   ],
   "source": [
    "# === Cell 2: Load Data ===\n",
    "df = pd.read_csv(\"rawdata.csv\")\n",
    "print(df.head())\n",
    "\n",
    "x = np.unique(df[\"x\"].values)\n",
    "y = np.unique(df[\"y\"].values)\n",
    "t = np.unique(df[\"t\"].values)\n",
    "\n",
    "u = df[\"u\"].values.reshape(len(x), len(y), len(t))\n",
    "print(\"u.shape =\", u.shape)\n"
   ]
  },
  {
   "cell_type": "code",
   "execution_count": 3,
   "id": "c9df2b4c",
   "metadata": {},
   "outputs": [
    {
     "data": {
      "application/vnd.jupyter.widget-view+json": {
       "model_id": "64c64c967c7c4deca729ae183dc0b4f3",
       "version_major": 2,
       "version_minor": 0
      },
      "text/plain": [
       "interactive(children=(IntSlider(value=0, description='k', max=99), Output()), _dom_classes=('widget-interact',…"
      ]
     },
     "metadata": {},
     "output_type": "display_data"
    },
    {
     "data": {
      "text/plain": [
       "<function __main__.plot_snapshot(k)>"
      ]
     },
     "execution_count": 3,
     "metadata": {},
     "output_type": "execute_result"
    }
   ],
   "source": [
    "import ipywidgets as widgets\n",
    "from ipywidgets import interact\n",
    "\n",
    "def plot_snapshot(k):\n",
    "    plt.figure(figsize=(6,6))\n",
    "    plt.contourf(x, y, u[:,:,k].T, 80, cmap=\"hot\")\n",
    "    plt.colorbar(label=\"Temperature u(x,y,t)\")\n",
    "    plt.title(f\"t = {t[k]:.3f}\")\n",
    "    plt.xlabel(\"x\"); plt.ylabel(\"y\")\n",
    "    plt.show()\n",
    "\n",
    "interact(plot_snapshot, k=widgets.IntSlider(min=0, max=len(t)-1, step=1, value=0))\n"
   ]
  },
  {
   "cell_type": "code",
   "execution_count": 4,
   "id": "2f4753fe",
   "metadata": {},
   "outputs": [
    {
     "name": "stdout",
     "output_type": "stream",
     "text": [
      "Derivatives computed: u_t, u_2t, u_x, u_2x, u_3x, u_y, u_2y, u_3y\n"
     ]
    }
   ],
   "source": [
    "# === Cell 3: Derivatives (central differences, higher order) ===\n",
    "\n",
    "nt, nx, ny = len(t), len(x), len(y)\n",
    "\n",
    "# Allocate arrays\n",
    "u_t   = np.zeros_like(u)\n",
    "u_2t  = np.zeros_like(u)\n",
    "u_x   = np.zeros_like(u)\n",
    "u_2x  = np.zeros_like(u)\n",
    "u_3x  = np.zeros_like(u)\n",
    "u_y   = np.zeros_like(u)\n",
    "u_2y  = np.zeros_like(u)\n",
    "u_3y  = np.zeros_like(u)\n",
    "\n",
    "# Loop over interior points (skip edges for higher-order stencils)\n",
    "for k in range(1, nt-1):\n",
    "    for i in range(2, nx-2):\n",
    "        for j in range(2, ny-2):\n",
    "            # Time derivatives\n",
    "            u_t[i,j,k]  = (u[i,j,k+1] - u[i,j,k-1]) / (2*dt)\n",
    "            u_2t[i,j,k] = (u[i,j,k+1] - 2*u[i,j,k] + u[i,j,k-1]) / (dt**2)\n",
    "\n",
    "            # Space derivatives (x direction)\n",
    "            u_x[i,j,k]  = (u[i+1,j,k] - u[i-1,j,k]) / (2*dx)\n",
    "            u_2x[i,j,k] = (u[i+1,j,k] - 2*u[i,j,k] + u[i-1,j,k]) / (dx**2)\n",
    "            u_3x[i,j,k] = (u[i+2,j,k] - 2*u[i+1,j,k] + 2*u[i-1,j,k] - u[i-2,j,k]) / (2*dx**3)\n",
    "\n",
    "            # Space derivatives (y direction)\n",
    "            u_y[i,j,k]  = (u[i,j+1,k] - u[i,j-1,k]) / (2*dy)\n",
    "            u_2y[i,j,k] = (u[i,j+1,k] - 2*u[i,j,k] + u[i,j-1,k]) / (dy**2)\n",
    "            u_3y[i,j,k] = (u[i,j+2,k] - 2*u[i,j+1,k] + 2*u[i,j-1,k] - u[i,j-2,k]) / (2*dy**3)\n",
    "\n",
    "print(\"Derivatives computed: u_t, u_2t, u_x, u_2x, u_3x, u_y, u_2y, u_3y\")\n"
   ]
  },
  {
   "cell_type": "code",
   "execution_count": 5,
   "id": "4551c8a2",
   "metadata": {},
   "outputs": [
    {
     "name": "stdout",
     "output_type": "stream",
     "text": [
      "Theta shape: (250000, 7)\n"
     ]
    }
   ],
   "source": [
    "# === Cell 4: Candidate Library with higher-order derivatives ===\n",
    "\n",
    "U    = u.ravel()\n",
    "Ut   = u_t.ravel()\n",
    "U2t  = u_2t.ravel()\n",
    "Ux   = u_x.ravel()\n",
    "U2x  = u_2x.ravel()\n",
    "U3x  = u_3x.ravel()\n",
    "Uy   = u_y.ravel()\n",
    "U2y  = u_2y.ravel()\n",
    "U3y  = u_3y.ravel()\n",
    "\n",
    "# Candidate terms (can add nonlinear ones if needed)\n",
    "Theta = np.column_stack([\n",
    "    U,\n",
    "    Ux, U2x, U3x,\n",
    "    Uy, U2y, U3y\n",
    "])\n",
    "\n",
    "feature_names = [\n",
    "    \"u\",\n",
    "    \"u_x\", \"u_xx\", \"u_xxx\",\n",
    "    \"u_y\", \"u_yy\", \"u_yyy\"\n",
    "]\n",
    "\n",
    "print(\"Theta shape:\", Theta.shape)\n"
   ]
  },
  {
   "cell_type": "code",
   "execution_count": 6,
   "id": "cc9df5db",
   "metadata": {},
   "outputs": [
    {
     "name": "stdout",
     "output_type": "stream",
     "text": [
      "Discovered PDE: u_t =\n",
      "  0.00086 * u\n",
      "  0.01002 * u_xx\n",
      "  0.01002 * u_yy\n"
     ]
    },
    {
     "data": {
      "image/png": "[encoded data removed]",
      "text/plain": [
       "<Figure size 800x500 with 1 Axes>"
      ]
     },
     "metadata": {},
     "output_type": "display_data"
    }
   ],
   "source": [
    "from sklearn.linear_model import Ridge\n",
    "\n",
    "target = Ut  # try U2t if you want to explore wave-like PDEs\n",
    "\n",
    "ridge = Ridge(alpha=1e-6, fit_intercept=False)\n",
    "ridge.fit(Theta, target)\n",
    "coeffs = ridge.coef_\n",
    "\n",
    "threshold = 1e-6\n",
    "for _ in range(10):\n",
    "    small_idx = np.abs(coeffs) < threshold\n",
    "    if np.all(small_idx): break\n",
    "    Theta_reduced = Theta[:, ~small_idx]\n",
    "    ridge.fit(Theta_reduced, target)\n",
    "    coeffs_reduced = ridge.coef_\n",
    "    coeffs = np.zeros_like(coeffs)\n",
    "    coeffs[~small_idx] = coeffs_reduced\n",
    "\n",
    "print(\"Discovered PDE: u_t =\")\n",
    "for name, c in zip(feature_names, coeffs):\n",
    "    if abs(c) > 1e-10:\n",
    "        print(f\"  {c:.5f} * {name}\")\n",
    "plt.figure(figsize=(8,5))\n",
    "plt.bar(feature_names, coeffs)\n",
    "plt.xticks(rotation=45)\n",
    "plt.ylabel(\"Coefficient value\")\n",
    "plt.title(\"Discovered PDE coefficients (Ridge + Thresholding)\")\n",
    "plt.grid(True, axis=\"y\", linestyle=\"--\", alpha=0.7)\n",
    "plt.show()\n"
   ]
  },
  {
   "cell_type": "code",
   "execution_count": 7,
   "id": "b24fdf72",
   "metadata": {},
   "outputs": [
    {
     "name": "stdout",
     "output_type": "stream",
     "text": [
      "Discovered PDE with Lasso: u_t =\n",
      "  0.00014 * u\n",
      "  0.01001 * u_xx\n",
      "  0.01001 * u_yy\n"
     ]
    },
    {
     "data": {
      "image/png": "[encoded data removed]",
      "text/plain": [
       "<Figure size 800x500 with 1 Axes>"
      ]
     },
     "metadata": {},
     "output_type": "display_data"
    }
   ],
   "source": [
    "from sklearn.linear_model import Lasso\n",
    "\n",
    "lasso = Lasso(alpha=1e-5, fit_intercept=False, max_iter=10000)\n",
    "lasso.fit(Theta, target)\n",
    "coeffs_lasso = lasso.coef_\n",
    "\n",
    "print(\"Discovered PDE with Lasso: u_t =\")\n",
    "for name, c in zip(feature_names, coeffs_lasso):\n",
    "    if abs(c) > 1e-10:\n",
    "        print(f\"  {c:.5f} * {name}\")\n",
    "plt.figure(figsize=(8,5))\n",
    "plt.bar(feature_names, coeffs_lasso)\n",
    "plt.xticks(rotation=45)\n",
    "plt.ylabel(\"Coefficient value\")\n",
    "plt.title(\"Discovered PDE coefficients (Lasso)\")\n",
    "plt.grid(True, axis=\"y\", linestyle=\"--\", alpha=0.7)\n",
    "plt.show()\n",
    "\n"
   ]
  }
 ],
 "metadata": {
  "kernelspec": {
   "display_name": "ham",
   "language": "python",
   "name": "python3"
  },
  "language_info": {
   "codemirror_mode": {
    "name": "ipython",
    "version": 3
   },
   "file_extension": ".py",
   "mimetype": "text/x-python",
   "name": "python",
   "nbconvert_exporter": "python",
   "pygments_lexer": "ipython3",
   "version": "3.13.7"
  }
 },
 "nbformat": 4,
 "nbformat_minor": 5
}
