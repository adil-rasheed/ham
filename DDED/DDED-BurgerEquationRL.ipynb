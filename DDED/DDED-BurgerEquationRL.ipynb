{
 "cells": [
  {
   "cell_type": "code",
   "execution_count": 15,
   "id": "ff7d395e",
   "metadata": {},
   "outputs": [
    {
     "name": "stdout",
     "output_type": "stream",
     "text": [
      "Saved burgers_rawdata.csv with shape: (20000, 3)\n"
     ]
    }
   ],
   "source": [
    "# === Cell 1: 1D Burgers' equation simulation and save to CSV ===\n",
    "import numpy as np\n",
    "import pandas as pd\n",
    "\n",
    "# Parameters\n",
    "nx = 100\n",
    "nt = 200\n",
    "Lx = 2.0 * np.pi\n",
    "dx = Lx / nx\n",
    "dt = 0.001\n",
    "nu = 0.01  # viscosity\n",
    "\n",
    "x = np.linspace(0, Lx, nx)\n",
    "t = np.arange(0, nt*dt, dt)\n",
    "\n",
    "# Initialize: sine wave\n",
    "u = np.zeros((nx, nt))\n",
    "u[:,0] = np.sin(x)\n",
    "\n",
    "# Time stepping (explicit scheme)\n",
    "for k in range(nt-1):\n",
    "    u_x = (np.roll(u[:,k], -1) - np.roll(u[:,k], 1)) / (2*dx)\n",
    "    u_xx = (np.roll(u[:,k], -1) - 2*u[:,k] + np.roll(u[:,k], 1)) / (dx**2)\n",
    "    u[:,k+1] = u[:,k] + dt * (-u[:,k]*u_x + nu*u_xx)\n",
    "\n",
    "# Save to CSV\n",
    "X, T = np.meshgrid(x, t, indexing=\"ij\")\n",
    "df = pd.DataFrame({\n",
    "    \"x\": X.ravel(),\n",
    "    \"t\": T.ravel(),\n",
    "    \"u\": u.ravel()\n",
    "})\n",
    "df.to_csv(\"burgers_rawdata.csv\", index=False)\n",
    "print(\"Saved burgers_rawdata.csv with shape:\", df.shape)\n"
   ]
  },
  {
   "cell_type": "code",
   "execution_count": 16,
   "id": "571f4c54",
   "metadata": {},
   "outputs": [
    {
     "name": "stdout",
     "output_type": "stream",
     "text": [
      "u.shape = (100, 200)\n"
     ]
    }
   ],
   "source": [
    "# === Cell 2: Load Data ===\n",
    "df = pd.read_csv(\"burgers_rawdata.csv\")\n",
    "x = np.unique(df[\"x\"].values)\n",
    "t = np.unique(df[\"t\"].values)\n",
    "u = df[\"u\"].values.reshape(len(x), len(t))\n",
    "print(\"u.shape =\", u.shape)\n"
   ]
  },
  {
   "cell_type": "code",
   "execution_count": 17,
   "id": "692e47f2",
   "metadata": {},
   "outputs": [
    {
     "name": "stdout",
     "output_type": "stream",
     "text": [
      "Derivatives computed: u_t, u_2t, u_x, u_2x, u_3x\n"
     ]
    }
   ],
   "source": [
    "# === Cell 3: Higher-order derivatives ===\n",
    "nx, nt = len(x), len(t)\n",
    "dx = x[1]-x[0]\n",
    "dt = t[1]-t[0]\n",
    "\n",
    "u_t   = np.zeros_like(u)\n",
    "u_2t  = np.zeros_like(u)\n",
    "u_x   = np.zeros_like(u)\n",
    "u_2x  = np.zeros_like(u)\n",
    "u_3x  = np.zeros_like(u)\n",
    "\n",
    "for k in range(1, nt-1):\n",
    "    for i in range(2, nx-2):\n",
    "        u_t[i,k]  = (u[i,k+1] - u[i,k-1]) / (2*dt)\n",
    "        u_2t[i,k] = (u[i,k+1] - 2*u[i,k] + u[i,k-1]) / (dt**2)\n",
    "\n",
    "        u_x[i,k]  = (u[i+1,k] - u[i-1,k]) / (2*dx)\n",
    "        u_2x[i,k] = (u[i+1,k] - 2*u[i,k] + u[i-1,k]) / (dx**2)\n",
    "        u_3x[i,k] = (u[i+2,k] - 2*u[i+1,k] + 2*u[i-1,k] - u[i-2,k]) / (2*dx**3)\n",
    "\n",
    "print(\"Derivatives computed: u_t, u_2t, u_x, u_2x, u_3x\")\n"
   ]
  },
  {
   "cell_type": "code",
   "execution_count": 18,
   "id": "81924d1e",
   "metadata": {},
   "outputs": [
    {
     "name": "stdout",
     "output_type": "stream",
     "text": [
      "Theta shape: (20000, 5)\n"
     ]
    }
   ],
   "source": [
    "# === Cell 4: Candidate Library ===\n",
    "U    = u.ravel()\n",
    "Ut   = u_t.ravel()\n",
    "U2t  = u_2t.ravel()\n",
    "Ux   = u_x.ravel()\n",
    "U2x  = u_2x.ravel()\n",
    "U3x  = u_3x.ravel()\n",
    "\n",
    "Theta = np.column_stack([\n",
    "    U,        # u\n",
    "    Ux,       # u_x\n",
    "    U2x,      # u_xx\n",
    "    U3x,      # u_xxx\n",
    "    U*Ux      # nonlinear u*u_x\n",
    "])\n",
    "\n",
    "# Python-safe names for geppy\n",
    "feature_names = [\"u\", \"ux\", \"uxx\", \"uxxx\", \"u_ux\"]\n",
    "\n",
    "print(\"Theta shape:\", Theta.shape)\n"
   ]
  },
  {
   "cell_type": "code",
   "execution_count": 19,
   "id": "ba2ff8c6",
   "metadata": {},
   "outputs": [
    {
     "name": "stdout",
     "output_type": "stream",
     "text": [
      "Ridge Regression PDE:\n",
      "u_t =\n",
      "  0.00018 * u\n",
      "  0.01026 * uxx\n",
      "  -1.01012 * u_ux\n"
     ]
    }
   ],
   "source": [
    "from sklearn.linear_model import Ridge\n",
    "\n",
    "ridge = Ridge(alpha=1e-6, fit_intercept=False)\n",
    "ridge.fit(Theta, Ut)\n",
    "coeffs = ridge.coef_\n",
    "\n",
    "print(\"Ridge Regression PDE:\")\n",
    "print(\"u_t =\")\n",
    "for name, c in zip(feature_names, coeffs):\n",
    "    if abs(c) > 1e-8:\n",
    "        print(f\"  {c:.5f} * {name}\")\n"
   ]
  },
  {
   "cell_type": "code",
   "execution_count": 20,
   "id": "eda62a31",
   "metadata": {},
   "outputs": [
    {
     "name": "stdout",
     "output_type": "stream",
     "text": [
      "Lasso Regression PDE:\n",
      "u_t =\n",
      "  -0.00667 * u\n",
      "  0.00329 * uxx\n",
      "  -1.00712 * u_ux\n"
     ]
    }
   ],
   "source": [
    "from sklearn.linear_model import Lasso\n",
    "\n",
    "lasso = Lasso(alpha=1e-4, fit_intercept=False, max_iter=20000)\n",
    "lasso.fit(Theta, Ut)\n",
    "coeffs_lasso = lasso.coef_\n",
    "\n",
    "print(\"Lasso Regression PDE:\")\n",
    "print(\"u_t =\")\n",
    "for name, c in zip(feature_names, coeffs_lasso):\n",
    "    if abs(c) > 1e-8:\n",
    "        print(f\"  {c:.5f} * {name}\")\n"
   ]
  },
  {
   "cell_type": "code",
   "execution_count": 30,
   "id": "9cff5688",
   "metadata": {},
   "outputs": [
    {
     "ename": "ImportError",
     "evalue": "cannot import name 'mutation' from 'geppy' (c:\\Users\\adil\\anaconda3\\envs\\ham\\Lib\\site-packages\\geppy\\__init__.py)",
     "output_type": "error",
     "traceback": [
      "\u001b[31m---------------------------------------------------------------------------\u001b[39m",
      "\u001b[31mImportError\u001b[39m                               Traceback (most recent call last)",
      "\u001b[36mCell\u001b[39m\u001b[36m \u001b[39m\u001b[32mIn[30]\u001b[39m\u001b[32m, line 7\u001b[39m\n\u001b[32m      5\u001b[39m \u001b[38;5;28;01mimport\u001b[39;00m\u001b[38;5;250m \u001b[39m\u001b[34;01moperator\u001b[39;00m\n\u001b[32m      6\u001b[39m \u001b[38;5;28;01mimport\u001b[39;00m\u001b[38;5;250m \u001b[39m\u001b[34;01mnumpy\u001b[39;00m\u001b[38;5;250m \u001b[39m\u001b[38;5;28;01mas\u001b[39;00m\u001b[38;5;250m \u001b[39m\u001b[34;01mnp\u001b[39;00m\n\u001b[32m----> \u001b[39m\u001b[32m7\u001b[39m \u001b[38;5;28;01mfrom\u001b[39;00m\u001b[38;5;250m \u001b[39m\u001b[34;01mgeppy\u001b[39;00m\u001b[38;5;250m \u001b[39m\u001b[38;5;28;01mimport\u001b[39;00m mutation, crossover, transposition\n\u001b[32m      8\u001b[39m \u001b[38;5;28;01mfrom\u001b[39;00m\u001b[38;5;250m \u001b[39m\u001b[34;01mdeap\u001b[39;00m\u001b[38;5;250m \u001b[39m\u001b[38;5;28;01mimport\u001b[39;00m base, tools, algorithms\n\u001b[32m     10\u001b[39m \u001b[38;5;66;03m# Primitive set\u001b[39;00m\n",
      "\u001b[31mImportError\u001b[39m: cannot import name 'mutation' from 'geppy' (c:\\Users\\adil\\anaconda3\\envs\\ham\\Lib\\site-packages\\geppy\\__init__.py)"
     ]
    }
   ],
   "source": [
    "# === Cell 7: GEP with geppy (final imports) ===\n",
    "# !pip install geppy deap\n",
    "\n",
    "import geppy as gep\n",
    "import operator\n",
    "import numpy as np\n",
    "from geppy import mutation, crossover, transposition\n",
    "from deap import base, tools, algorithms\n",
    "\n",
    "# Primitive set\n",
    "pset = gep.PrimitiveSet('PDE', input_names=feature_names)\n",
    "pset.add_function(operator.add, 2)\n",
    "pset.add_function(operator.sub, 2)\n",
    "pset.add_function(operator.mul, 2)\n",
    "pset.add_function(operator.truediv, 2)\n",
    "\n",
    "# Ephemeral constants\n",
    "pset.add_ephemeral_terminal(\"rand\", lambda: np.random.uniform(-2, 2))\n",
    "\n",
    "# Gene generator\n",
    "def gene_gen():\n",
    "    return gep.Gene(pset=pset, head_length=5)\n",
    "\n",
    "# Chromosome: 3 genes linked by addition\n",
    "ind = gep.Chromosome(gene_gen, n_genes=3, linker=operator.add)\n",
    "\n",
    "# Fitness\n",
    "def fitness(individual):\n",
    "    func = gep.compile(individual, pset)\n",
    "    try:\n",
    "        y_pred = np.array([func(*row) for row in Theta])\n",
    "        return -np.mean((y_pred - Ut)**2),\n",
    "    except Exception:\n",
    "        return -1e6,\n",
    "\n",
    "# DEAP toolbox\n",
    "toolbox = base.Toolbox()\n",
    "toolbox.register(\"evaluate\", fitness)\n",
    "toolbox.register(\"select\", tools.selTournament, tournsize=3)\n",
    "toolbox.register(\"mate\", crossover.one_point)\n",
    "toolbox.register(\"mutate\", mutation.uniform_point)\n",
    "toolbox.register(\"is_transposition\", transposition.is_transposition)\n",
    "toolbox.register(\"ris_transposition\", transposition.ris_transposition)\n",
    "toolbox.register(\"gene_transposition\", transposition.gene_transposition)\n",
    "\n",
    "# Population\n",
    "pop = gep.GepPopulation(30, ind)\n",
    "\n",
    "# Evolution\n",
    "algorithms.eaSimple(pop, toolbox, cxpb=0.4, mutpb=0.1, ngen=20, verbose=True)\n",
    "\n",
    "# Best individual\n",
    "best = tools.selBest(pop, 1)[0]\n",
    "print(\"Best GEP expression:\")\n",
    "print(gep.compile(best, pset))\n"
   ]
  }
 ],
 "metadata": {
  "kernelspec": {
   "display_name": "ham",
   "language": "python",
   "name": "python3"
  },
  "language_info": {
   "codemirror_mode": {
    "name": "ipython",
    "version": 3
   },
   "file_extension": ".py",
   "mimetype": "text/x-python",
   "name": "python",
   "nbconvert_exporter": "python",
   "pygments_lexer": "ipython3",
   "version": "3.13.7"
  }
 },
 "nbformat": 4,
 "nbformat_minor": 5
}
