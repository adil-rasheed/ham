{
 "cells": [
  {
   "cell_type": "code",
   "execution_count": 29,
   "id": "e13d7b9d",
   "metadata": {},
   "outputs": [
    {
     "data": {
      "application/vnd.plotly.v1+json": {
       "config": {
        "plotlyServerURL": "https://plot.ly"
       },
       "data": [
        {
         "hovertemplate": "Number of Components=%{x}<br>Cumulative Explained Variance (%)=%{y}<extra></extra>",
         "legendgroup": "",
         "line": {
          "color": "royalblue",
          "dash": "solid"
         },
         "marker": {
          "symbol": "circle"
         },
         "mode": "lines+markers",
         "name": "",
         "orientation": "v",
         "showlegend": false,
         "type": "scatter",
         "x": {
          "bdata": "AQIDBAUGBwgJCgs=",
          "dtype": "i1"
         },
         "xaxis": "x",
         "y": {
          "bdata": "m1MKSC/xRkDM9pWCGqhRQICmhhhkE1RAwkeV2YXqVUDJGrThIl9XQKipnxfTNVhA1cizHM6OWECEj4X/BcNYQCbWWiYB4lhAZEHFjYL9WED///////9YQA==",
          "dtype": "f8"
         },
         "yaxis": "y"
        }
       ],
       "layout": {
        "height": 700,
        "legend": {
         "tracegroupgap": 0
        },
        "template": {
         "data": {
          "bar": [
           {
            "error_x": {
             "color": "#2a3f5f"
            },
            "error_y": {
             "color": "#2a3f5f"
            },
            "marker": {
             "line": {
              "color": "#E5ECF6",
              "width": 0.5
             },
             "pattern": {
              "fillmode": "overlay",
              "size": 10,
              "solidity": 0.2
             }
            },
            "type": "bar"
           }
          ],
          "barpolar": [
           {
            "marker": {
             "line": {
              "color": "#E5ECF6",
              "width": 0.5
             },
             "pattern": {
              "fillmode": "overlay",
              "size": 10,
              "solidity": 0.2
             }
            },
            "type": "barpolar"
           }
          ],
          "carpet": [
           {
            "aaxis": {
             "endlinecolor": "#2a3f5f",
             "gridcolor": "white",
             "linecolor": "white",
             "minorgridcolor": "white",
             "startlinecolor": "#2a3f5f"
            },
            "baxis": {
             "endlinecolor": "#2a3f5f",
             "gridcolor": "white",
             "linecolor": "white",
             "minorgridcolor": "white",
             "startlinecolor": "#2a3f5f"
            },
            "type": "carpet"
           }
          ],
          "choropleth": [
           {
            "colorbar": {
             "outlinewidth": 0,
             "ticks": ""
            },
            "type": "choropleth"
           }
          ],
          "contour": [
           {
            "colorbar": {
             "outlinewidth": 0,
             "ticks": ""
            },
            "colorscale": [
             [
              0,
              "#0d0887"
             ],
             [
              0.1111111111111111,
              "#46039f"
             ],
             [
              0.2222222222222222,
              "#7201a8"
             ],
             [
              0.3333333333333333,
              "#9c179e"
             ],
             [
              0.4444444444444444,
              "#bd3786"
             ],
             [
              0.5555555555555556,
              "#d8576b"
             ],
             [
              0.6666666666666666,
              "#ed7953"
             ],
             [
              0.7777777777777778,
              "#fb9f3a"
             ],
             [
              0.8888888888888888,
              "#fdca26"
             ],
             [
              1,
              "#f0f921"
             ]
            ],
            "type": "contour"
           }
          ],
          "contourcarpet": [
           {
            "colorbar": {
             "outlinewidth": 0,
             "ticks": ""
            },
            "type": "contourcarpet"
           }
          ],
          "heatmap": [
           {
            "colorbar": {
             "outlinewidth": 0,
             "ticks": ""
            },
            "colorscale": [
             [
              0,
              "#0d0887"
             ],
             [
              0.1111111111111111,
              "#46039f"
             ],
             [
              0.2222222222222222,
              "#7201a8"
             ],
             [
              0.3333333333333333,
              "#9c179e"
             ],
             [
              0.4444444444444444,
              "#bd3786"
             ],
             [
              0.5555555555555556,
              "#d8576b"
             ],
             [
              0.6666666666666666,
              "#ed7953"
             ],
             [
              0.7777777777777778,
              "#fb9f3a"
             ],
             [
              0.8888888888888888,
              "#fdca26"
             ],
             [
              1,
              "#f0f921"
             ]
            ],
            "type": "heatmap"
           }
          ],
          "histogram": [
           {
            "marker": {
             "pattern": {
              "fillmode": "overlay",
              "size": 10,
              "solidity": 0.2
             }
            },
            "type": "histogram"
           }
          ],
          "histogram2d": [
           {
            "colorbar": {
             "outlinewidth": 0,
             "ticks": ""
            },
            "colorscale": [
             [
              0,
              "#0d0887"
             ],
             [
              0.1111111111111111,
              "#46039f"
             ],
             [
              0.2222222222222222,
              "#7201a8"
             ],
             [
              0.3333333333333333,
              "#9c179e"
             ],
             [
              0.4444444444444444,
              "#bd3786"
             ],
             [
              0.5555555555555556,
              "#d8576b"
             ],
             [
              0.6666666666666666,
              "#ed7953"
             ],
             [
              0.7777777777777778,
              "#fb9f3a"
             ],
             [
              0.8888888888888888,
              "#fdca26"
             ],
             [
              1,
              "#f0f921"
             ]
            ],
            "type": "histogram2d"
           }
          ],
          "histogram2dcontour": [
           {
            "colorbar": {
             "outlinewidth": 0,
             "ticks": ""
            },
            "colorscale": [
             [
              0,
              "#0d0887"
             ],
             [
              0.1111111111111111,
              "#46039f"
             ],
             [
              0.2222222222222222,
              "#7201a8"
             ],
             [
              0.3333333333333333,
              "#9c179e"
             ],
             [
              0.4444444444444444,
              "#bd3786"
             ],
             [
              0.5555555555555556,
              "#d8576b"
             ],
             [
              0.6666666666666666,
              "#ed7953"
             ],
             [
              0.7777777777777778,
              "#fb9f3a"
             ],
             [
              0.8888888888888888,
              "#fdca26"
             ],
             [
              1,
              "#f0f921"
             ]
            ],
            "type": "histogram2dcontour"
           }
          ],
          "mesh3d": [
           {
            "colorbar": {
             "outlinewidth": 0,
             "ticks": ""
            },
            "type": "mesh3d"
           }
          ],
          "parcoords": [
           {
            "line": {
             "colorbar": {
              "outlinewidth": 0,
              "ticks": ""
             }
            },
            "type": "parcoords"
           }
          ],
          "pie": [
           {
            "automargin": true,
            "type": "pie"
           }
          ],
          "scatter": [
           {
            "fillpattern": {
             "fillmode": "overlay",
             "size": 10,
             "solidity": 0.2
            },
            "type": "scatter"
           }
          ],
          "scatter3d": [
           {
            "line": {
             "colorbar": {
              "outlinewidth": 0,
              "ticks": ""
             }
            },
            "marker": {
             "colorbar": {
              "outlinewidth": 0,
              "ticks": ""
             }
            },
            "type": "scatter3d"
           }
          ],
          "scattercarpet": [
           {
            "marker": {
             "colorbar": {
              "outlinewidth": 0,
              "ticks": ""
             }
            },
            "type": "scattercarpet"
           }
          ],
          "scattergeo": [
           {
            "marker": {
             "colorbar": {
              "outlinewidth": 0,
              "ticks": ""
             }
            },
            "type": "scattergeo"
           }
          ],
          "scattergl": [
           {
            "marker": {
             "colorbar": {
              "outlinewidth": 0,
              "ticks": ""
             }
            },
            "type": "scattergl"
           }
          ],
          "scattermap": [
           {
            "marker": {
             "colorbar": {
              "outlinewidth": 0,
              "ticks": ""
             }
            },
            "type": "scattermap"
           }
          ],
          "scattermapbox": [
           {
            "marker": {
             "colorbar": {
              "outlinewidth": 0,
              "ticks": ""
             }
            },
            "type": "scattermapbox"
           }
          ],
          "scatterpolar": [
           {
            "marker": {
             "colorbar": {
              "outlinewidth": 0,
              "ticks": ""
             }
            },
            "type": "scatterpolar"
           }
          ],
          "scatterpolargl": [
           {
            "marker": {
             "colorbar": {
              "outlinewidth": 0,
              "ticks": ""
             }
            },
            "type": "scatterpolargl"
           }
          ],
          "scatterternary": [
           {
            "marker": {
             "colorbar": {
              "outlinewidth": 0,
              "ticks": ""
             }
            },
            "type": "scatterternary"
           }
          ],
          "surface": [
           {
            "colorbar": {
             "outlinewidth": 0,
             "ticks": ""
            },
            "colorscale": [
             [
              0,
              "#0d0887"
             ],
             [
              0.1111111111111111,
              "#46039f"
             ],
             [
              0.2222222222222222,
              "#7201a8"
             ],
             [
              0.3333333333333333,
              "#9c179e"
             ],
             [
              0.4444444444444444,
              "#bd3786"
             ],
             [
              0.5555555555555556,
              "#d8576b"
             ],
             [
              0.6666666666666666,
              "#ed7953"
             ],
             [
              0.7777777777777778,
              "#fb9f3a"
             ],
             [
              0.8888888888888888,
              "#fdca26"
             ],
             [
              1,
              "#f0f921"
             ]
            ],
            "type": "surface"
           }
          ],
          "table": [
           {
            "cells": {
             "fill": {
              "color": "#EBF0F8"
             },
             "line": {
              "color": "white"
             }
            },
            "header": {
             "fill": {
              "color": "#C8D4E3"
             },
             "line": {
              "color": "white"
             }
            },
            "type": "table"
           }
          ]
         },
         "layout": {
          "annotationdefaults": {
           "arrowcolor": "#2a3f5f",
           "arrowhead": 0,
           "arrowwidth": 1
          },
          "autotypenumbers": "strict",
          "coloraxis": {
           "colorbar": {
            "outlinewidth": 0,
            "ticks": ""
           }
          },
          "colorscale": {
           "diverging": [
            [
             0,
             "#8e0152"
            ],
            [
             0.1,
             "#c51b7d"
            ],
            [
             0.2,
             "#de77ae"
            ],
            [
             0.3,
             "#f1b6da"
            ],
            [
             0.4,
             "#fde0ef"
            ],
            [
             0.5,
             "#f7f7f7"
            ],
            [
             0.6,
             "#e6f5d0"
            ],
            [
             0.7,
             "#b8e186"
            ],
            [
             0.8,
             "#7fbc41"
            ],
            [
             0.9,
             "#4d9221"
            ],
            [
             1,
             "#276419"
            ]
           ],
           "sequential": [
            [
             0,
             "#0d0887"
            ],
            [
             0.1111111111111111,
             "#46039f"
            ],
            [
             0.2222222222222222,
             "#7201a8"
            ],
            [
             0.3333333333333333,
             "#9c179e"
            ],
            [
             0.4444444444444444,
             "#bd3786"
            ],
            [
             0.5555555555555556,
             "#d8576b"
            ],
            [
             0.6666666666666666,
             "#ed7953"
            ],
            [
             0.7777777777777778,
             "#fb9f3a"
            ],
            [
             0.8888888888888888,
             "#fdca26"
            ],
            [
             1,
             "#f0f921"
            ]
           ],
           "sequentialminus": [
            [
             0,
             "#0d0887"
            ],
            [
             0.1111111111111111,
             "#46039f"
            ],
            [
             0.2222222222222222,
             "#7201a8"
            ],
            [
             0.3333333333333333,
             "#9c179e"
            ],
            [
             0.4444444444444444,
             "#bd3786"
            ],
            [
             0.5555555555555556,
             "#d8576b"
            ],
            [
             0.6666666666666666,
             "#ed7953"
            ],
            [
             0.7777777777777778,
             "#fb9f3a"
            ],
            [
             0.8888888888888888,
             "#fdca26"
            ],
            [
             1,
             "#f0f921"
            ]
           ]
          },
          "colorway": [
           "#636efa",
           "#EF553B",
           "#00cc96",
           "#ab63fa",
           "#FFA15A",
           "#19d3f3",
           "#FF6692",
           "#B6E880",
           "#FF97FF",
           "#FECB52"
          ],
          "font": {
           "color": "#2a3f5f"
          },
          "geo": {
           "bgcolor": "white",
           "lakecolor": "white",
           "landcolor": "#E5ECF6",
           "showlakes": true,
           "showland": true,
           "subunitcolor": "white"
          },
          "hoverlabel": {
           "align": "left"
          },
          "hovermode": "closest",
          "mapbox": {
           "style": "light"
          },
          "paper_bgcolor": "white",
          "plot_bgcolor": "#E5ECF6",
          "polar": {
           "angularaxis": {
            "gridcolor": "white",
            "linecolor": "white",
            "ticks": ""
           },
           "bgcolor": "#E5ECF6",
           "radialaxis": {
            "gridcolor": "white",
            "linecolor": "white",
            "ticks": ""
           }
          },
          "scene": {
           "xaxis": {
            "backgroundcolor": "#E5ECF6",
            "gridcolor": "white",
            "gridwidth": 2,
            "linecolor": "white",
            "showbackground": true,
            "ticks": "",
            "zerolinecolor": "white"
           },
           "yaxis": {
            "backgroundcolor": "#E5ECF6",
            "gridcolor": "white",
            "gridwidth": 2,
            "linecolor": "white",
            "showbackground": true,
            "ticks": "",
            "zerolinecolor": "white"
           },
           "zaxis": {
            "backgroundcolor": "#E5ECF6",
            "gridcolor": "white",
            "gridwidth": 2,
            "linecolor": "white",
            "showbackground": true,
            "ticks": "",
            "zerolinecolor": "white"
           }
          },
          "shapedefaults": {
           "line": {
            "color": "#2a3f5f"
           }
          },
          "ternary": {
           "aaxis": {
            "gridcolor": "white",
            "linecolor": "white",
            "ticks": ""
           },
           "baxis": {
            "gridcolor": "white",
            "linecolor": "white",
            "ticks": ""
           },
           "bgcolor": "#E5ECF6",
           "caxis": {
            "gridcolor": "white",
            "linecolor": "white",
            "ticks": ""
           }
          },
          "title": {
           "x": 0.05
          },
          "xaxis": {
           "automargin": true,
           "gridcolor": "white",
           "linecolor": "white",
           "ticks": "",
           "title": {
            "standoff": 15
           },
           "zerolinecolor": "white",
           "zerolinewidth": 2
          },
          "yaxis": {
           "automargin": true,
           "gridcolor": "white",
           "linecolor": "white",
           "ticks": "",
           "title": {
            "standoff": 15
           },
           "zerolinecolor": "white",
           "zerolinewidth": 2
          }
         }
        },
        "title": {
         "text": "Explained Variance by Components"
        },
        "width": 1200,
        "xaxis": {
         "anchor": "y",
         "domain": [
          0,
          1
         ],
         "title": {
          "text": "Number of Components"
         }
        },
        "yaxis": {
         "anchor": "x",
         "domain": [
          0,
          1
         ],
         "title": {
          "text": "Cumulative Explained Variance (%)"
         }
        }
       }
      }
     },
     "metadata": {},
     "output_type": "display_data"
    },
    {
     "data": {
      "application/vnd.plotly.v1+json": {
       "config": {
        "plotlyServerURL": "https://plot.ly"
       },
       "data": [
        {
         "hovertemplate": "Category=Regular Menu<br>PC1=%{x}<br>PC2=%{y}<br>Menu Items=%{text}<extra></extra>",
         "legendgroup": "Regular Menu",
         "marker": {
          "color": "#636efa",
          "line": {
           "color": "DarkSlateGrey",
           "width": 0.5
          },
          "size": 9,
          "symbol": "circle"
         },
         "mode": "markers+text",
         "name": "Regular Menu",
         "orientation": "v",
         "showlegend": true,
         "text": [
          "McVeggie™ Burger",
          "McAloo Tikki Burger®",
          "McSpicy™ Paneer Burger",
          "Spicy Paneer Wrap",
          "American Veg Burger",
          "Veg Maharaja Mac",
          "Green Chilli Aloo Naan",
          "Pizza Puff",
          "Mc chicken Burger",
          "FILLET-O-FISH Burger",
          "Mc Spicy Chicken Burger",
          "Spicy Chicken Wrap",
          "Chicken Maharaja Mac",
          "American Chicken Burger",
          "Chicken Kebab Burger",
          "Green Chilli Kebab naan",
          "Mc Egg Masala Burger",
          "Mc Egg Burger for Happy Meal",
          "Ghee Rice with Mc Spicy Fried Chicken 1 pc",
          "McSpicy Fried Chicken 1 pc",
          "4 piece Chicken McNuggets",
          "6 piece Chicken McNuggets",
          "9 piece Chicken McNuggets",
          "2 piece Chicken Strips",
          "3 piece Chicken Strips",
          "5 piece Chicken Strips",
          "Regular Fries",
          "Medium Fries",
          "Large Fries",
          "Regular Wedges",
          "Medium Wedges",
          "Large Wedges",
          "L1 Coffee",
          "L1 Coffee with milk",
          "Double Chocochips Muffin",
          "Vanilla Chocochips Muffin"
         ],
         "textposition": "top center",
         "type": "scatter",
         "x": {
          "bdata": "1CyaKsnh9D9IG7nn1u3lPyEo0hVathJAomkTZIm3FECVQ5pbwR8IQIMAtMUnaRhAmXnNjUbt8D/6gYmXhoKmP3gzY63nKfw/I6mO0zrb9D/GcCBd5h8GQGrNktx5IhFAX8cZGHgYF0CSBH7lfnYGQFqMYk7qN+w/Jfost0aDwb98iavTI+b8PycP42jyJvc/7dn7c1psFUAAVbgGM37vPxbLzLb4IsS/8DD6AdzV7D82idMhguoDQG49EQ+d8OE/Swi3+rap/z/u68w8q7IFQBY3xNjMOda/Rygb4kMQ3T8haGbSGEr5PwaSwTWB+tu/BU8cFdTJzj/vXLGaIVTzP6J3tELCvALA8z4vF7pGAMB/KeWmXwflP9pEYTTS7eg/",
          "dtype": "f8"
         },
         "xaxis": "x",
         "y": {
          "bdata": "II0VdWDzpj81aAZL5gDQv9IchEb+PNc/4ulbMXf41T9a8ll9rYPEP6G57sjDGP0/pqhFKCGh4b+Tpje3MS31v926nyIVkdO/TpzUy3qb5b9BYlLGsp3VvyOxV5hin6S/yhTmT5fQ2z+lY3fzVF7ev7JO7WFMI9m/KFIgsTxK8L+VTA7kycD0v807B6FeOfW/VrZGDnYl5D8gAdpNYnr8v43lM/XS7/6/0SRh+G/g+r+ng53t7Mb0v8tVDZNuYQDA7Gv2dSib/b9lVQZDBaYHwC3zqaQf/fW/c5LX/8fH7b+XeY+qwKfTv1R72URrlPS/pUVfEk+I67/0m3U3lB7Qv4TVmcycvvy/ys++LS8w+r8QUZxia3uhP3TkSUuLoba/",
          "dtype": "f8"
         },
         "yaxis": "y"
        },
        {
         "hovertemplate": "Category=Breakfast Menu<br>PC1=%{x}<br>PC2=%{y}<br>Menu Items=%{text}<extra></extra>",
         "legendgroup": "Breakfast Menu",
         "marker": {
          "color": "#EF553B",
          "line": {
           "color": "DarkSlateGrey",
           "width": 0.5
          },
          "size": 9,
          "symbol": "circle"
         },
         "mode": "markers+text",
         "name": "Breakfast Menu",
         "orientation": "v",
         "showlegend": true,
         "text": [
          "Veg McMuffin",
          "Double Cheese McMuffin",
          "Spicy Egg McMuffin",
          "Sausage Mc Muffin",
          "Sausage Mc Muffin with egg",
          "Egg McMuffin",
          "Hot Cake with maple syrup",
          "Hash Brown",
          "Espresso",
          "Espresso Machiato",
          "Americano (S)",
          "Americano (R)",
          "Americano (L)",
          "Cappuccino (S)",
          "Cappuccino (R)"
         ],
         "textposition": "top center",
         "type": "scatter",
         "x": {
          "bdata": "TY05/W+H8z+0Uq87E/PwP7+eiz3wmfs/wKMQ462P9D/8/z4N6IwIQFHn4ltVAQBAK9JPo09Q9z+enFS86GvsvzrHcHl3kgHA3qjUqMfv/L+cCJ/zbp0CwJ4L1aABVALAyAS64KGQAsDHaMaGasfqv49GuQEVl8i/",
          "dtype": "f8"
         },
         "xaxis": "x",
         "y": {
          "bdata": "YnZghUAZ7b9EdQQUZFvzv45MeF2gbfi/0jFqYMrq9L8QJ13TkZP5vyovvoTTJvq/Ayx/+Y9g8z8tH9Sqdir8v5M3LFHUWwLAF0sP25O4/7/pcfx1DKv4v8kpzZskZfS/mpmMzSjQ7b+aDlzO1T3zvxWGTskHyOO/",
          "dtype": "f8"
         },
         "yaxis": "y"
        },
        {
         "hovertemplate": "Category=McCafe Menu<br>PC1=%{x}<br>PC2=%{y}<br>Menu Items=%{text}<extra></extra>",
         "legendgroup": "McCafe Menu",
         "marker": {
          "color": "#00cc96",
          "line": {
           "color": "DarkSlateGrey",
           "width": 0.5
          },
          "size": 9,
          "symbol": "circle"
         },
         "mode": "markers+text",
         "name": "McCafe Menu",
         "orientation": "v",
         "showlegend": true,
         "text": [
          "Cappuccino (L)",
          "Latte (S)",
          "Latte (R)",
          "Latte (L)",
          "Flat White (S)",
          "Flat White (R)",
          "Flat White (L)",
          "Mocha (S)",
          "Mocha (R)",
          "Mocha (L)",
          "Babycino",
          "Hot Chocolate (S)",
          "Hot Chocolate (R)",
          "Hot Chocolate (L)",
          "Premium Dark Hot Chocolate",
          "Double Dark Hot Chocolate",
          "English Breakfast (S)",
          "English Breakfast (R)",
          "English Breakfast (L)",
          "Moroccon Mint Green Tea (S)",
          "Moroccon Mint Green Tea (R)",
          "Moroccon Mint Green Tea (L)",
          "Strawberry Green Tea (S)",
          "Strawberry Green Tea (R)",
          "Strawberry Green Tea (L)",
          "Lemon Ice Tea",
          "Strawberry Ice Tea",
          "Green Apple Ice Tea",
          "Iced Coffee",
          "Cold Coffee Frappe",
          "Mocha Frappe",
          "Chocolate Oreo Frappe",
          "Strawberry Shake",
          "Chocolate Shake",
          "Mango Smoothie",
          "Mixed Berry Smoothie",
          "Raw Mango Cooler",
          "Mix Berry Cooler",
          "Sweet Lime Beverage",
          "Iced Americano",
          "American Mud Pie Shake",
          "Soft serve cone",
          "McSwirl ChocoDip",
          "Regular Soft Serve: Hot Fudge",
          "Medium Soft Serve: Hot Fudge",
          "Regular Soft Serve: Strawberry",
          "Medium Soft Serve: Strawberry",
          "Regular Soft Serve: Brownie with Hot Fudge",
          "Medium Soft Serve: Brownie with Hot Fudge",
          "Regular Blackforest",
          "Medium Blackforest"
         ],
         "textposition": "top center",
         "type": "scatter",
         "x": {
          "bdata": "zyCKb3MZzD/Hv7VSGg/ivyONif9uMr2/3BT2vQfy1z8RNLMWpTbVv3mqsSzhNsk/Mgf6fDRw4z8OILhJ3qLdv/XpoLudHDm/Gv9X8Hv93z8kIiMu5Zfyv9PmLNMLCde/rfIdz0r3mb8JrTIoWevqP6Uec9zGTOO/yIqoxlhM2L9sMhIvt4ICwGd3BeXJkQLAsoNfzyC1AsDZKgZN7mcCwF/K6RrccALAlw7NdcqHAsCGCtAVrFYCwBh2lJQDXQLABUHxmnRrAsD2G6qETowAwNSgfSmKDAHA+zx/I5kCAcBzJ+Zxdi/yv4jd2Oz1aOI/IHaBuuUB6z+/gRGD8a33P9lcaL3K4+K/dI+CZm2827+NsK58B6Pyv2RXAgLjLPO/bBis7sCaAMBi9/ZVmS0BwHj+hHSuwwDA8r5ESj/N9b9giwNJwuvhPyPfCciOh/u/3248cjhj77+9Ok5MGX/2vzVKB8nKf+q/pQHpJcYQ/L91spExnGj4v6tI6PCHZey/FrCYD13izL9VZYHzNarpv0Jk1gunTdg/",
          "dtype": "f8"
         },
         "xaxis": "x",
         "y": {
          "bdata": "kZqdGeDt0L9lS7znJX3vv0P8C/IZyeG/T7+DIkbkwb8U0L5+dYHpv1N5v6bAmtO/N8q/iigpqD/Dpgcq5WfMv6piBnnXzeE/lly1zyUp9T8J/iNK6Rzcv7aHJKTGU+w/7jg7lh1a/T8nangJFfgGQAWbyGBHa8G/Ihhu+dh01T+5JWykV734v+XKWVncH/a/dP1IEk9P77+mV3rYrO33v/YCnDaCKvW/75UDE9qp7L+gjwV4Yu73v1mvAfwmK/W/pCkXxTCs7L9RlgunmZPvP1vN4p2IqNk/iOpH+vEL2D+XNN0yIg/tP1RniRocfwFA3mnV6MBkC0AnHco3430RQLqK646gUABAQ1a+tKVaAECc4jV5q/cAQMzeKR5bxANA8wo29opv4z9L6M7JfazlPylQP47CL/Y/7Es8Zo+A1j8Wj3xUXp8MQHN+smfWZ/K/ZVkvhTNI4b/ocuezl4njvyEo5i/FPNs/bQOTWYZo4b+ZKBx/FuXhP7jRlU3stsE/YnMio0Zx9D8hhiz9RkHrP5oJRYh8zQpA",
          "dtype": "f8"
         },
         "yaxis": "y"
        },
        {
         "hovertemplate": "Category=Desserts Menu<br>PC1=%{x}<br>PC2=%{y}<br>Menu Items=%{text}<extra></extra>",
         "legendgroup": "Desserts Menu",
         "marker": {
          "color": "#ab63fa",
          "line": {
           "color": "DarkSlateGrey",
           "width": 0.5
          },
          "size": 9,
          "symbol": "circle"
         },
         "mode": "markers+text",
         "name": "Desserts Menu",
         "orientation": "v",
         "showlegend": true,
         "text": [
          "Small McFlurry - Oreo",
          "Regular McFlurry - Oreo"
         ],
         "textposition": "top center",
         "type": "scatter",
         "x": {
          "bdata": "qr5PDWKm978gg7k5+oXqvw==",
          "dtype": "f8"
         },
         "xaxis": "x",
         "y": {
          "bdata": "B36BDZKo578IBJoG0uHhPw==",
          "dtype": "f8"
         },
         "yaxis": "y"
        },
        {
         "hovertemplate": "Category=Gourmet Menu<br>PC1=%{x}<br>PC2=%{y}<br>Menu Items=%{text}<extra></extra>",
         "legendgroup": "Gourmet Menu",
         "marker": {
          "color": "#FFA15A",
          "line": {
           "color": "DarkSlateGrey",
           "width": 0.5
          },
          "size": 9,
          "symbol": "circle"
         },
         "mode": "markers+text",
         "name": "Gourmet Menu",
         "orientation": "v",
         "showlegend": true,
         "text": [
          "American Triple Cheese Chicken",
          "American Triple Cheese Veg",
          "Cheese Lava Burger",
          "Chicken Cheese Lava Burger",
          "Chunky Chipotle American Burger Chicken",
          "McSpicy Premium Chicken Burger",
          "McSpicy Premium Veg Burger",
          "Piri piri Mc Spicy Chicken Burger",
          "Piri piri Mc Spicy Veg Burger",
          "Cheesy Veg Nuggets (6pc)",
          "Cheesy Veg Nuggets (9pc)"
         ],
         "textposition": "top center",
         "type": "scatter",
         "x": {
          "bdata": "u8Td9/NwDUAPdXIOMzcOQDG5PN1IFRFAd47kXtCrGkBIwnPYFe0WQF0t4QmTcBpA6JfPozNvFUAdUZzWC+r/P83vxrnkVwRAtUkYS4ze4T8+Phop05r/Pw==",
          "dtype": "f8"
         },
         "xaxis": "x",
         "y": {
          "bdata": "wFYD4dd83b8E4CFYgEjIP+ZzfPmKYPY/cCbX72o3+j9cZyWiP6u9P2CIWHqlY+G/d4ZGnDvQuz8tnIlNXpm+v/hDHlJvZOE/Ky3UId6I9r+Dqf2Vk4vsvw==",
          "dtype": "f8"
         },
         "yaxis": "y"
        },
        {
         "hovertemplate": "Category=Beverages Menu<br>PC1=%{x}<br>PC2=%{y}<br>Menu Items=%{text}<extra></extra>",
         "legendgroup": "Beverages Menu",
         "marker": {
          "color": "#19d3f3",
          "line": {
           "color": "DarkSlateGrey",
           "width": 0.5
          },
          "size": 9,
          "symbol": "circle"
         },
         "mode": "markers+text",
         "name": "Beverages Menu",
         "orientation": "v",
         "showlegend": true,
         "text": [
          "Small Coca-Cola",
          "Medium Coca-Cola",
          "Large Coca-Cola",
          "Small Fanta Oragne",
          "Medium Fanta Orange",
          "Large Fanta Oragne",
          "Small Thums-up",
          "Medium Thums-up",
          "Large Thums-up",
          "Small Sprite",
          "Medium Sprite",
          "Large Sprite",
          "Coke Float",
          "Fanta Float",
          "Sprite Float",
          "Coke Zero Can",
          "Vedica Natural Mineral Water"
         ],
         "textposition": "top center",
         "type": "scatter",
         "x": {
          "bdata": "m46SgN7AAcBrAq2jAoEBwDpeqpgqHAHAN+Ti/1A7AcAiVCeZgMgAwJ/6ZuozEwDA3gnFaKndAcAoL9wJyagBwAj0kDFIVQHADI0azU6/AcB/udKU134BwFd4uoYQGQHA3KoopHUF/b/7FrYk0ln8v1mAS6wVzvy/hJsus0hiA8Ar/QUHnUMEwA==",
          "dtype": "f8"
         },
         "xaxis": "x",
         "y": {
          "bdata": "UMoZPjDI8j8c3PpqYPcDQMN5ZBIEVRJAnukBhjmk+j+giymBN2UJQJGgnBL0OhZARDM4yuCm7T+P+RJ4zjsBQCoHxkm1XhBA4npbfcPB9j8IrWBrR7YGQMvrJne3TRRABHXc6wPr8T8Egnm94/f2P24hpmomdPQ/N1mKp70s97+MkUlFlPDtvw==",
          "dtype": "f8"
         },
         "yaxis": "y"
        },
        {
         "hovertemplate": "Category=Condiments Menu<br>PC1=%{x}<br>PC2=%{y}<br>Menu Items=%{text}<extra></extra>",
         "legendgroup": "Condiments Menu",
         "marker": {
          "color": "#FF6692",
          "line": {
           "color": "DarkSlateGrey",
           "width": 0.5
          },
          "size": 9,
          "symbol": "circle"
         },
         "mode": "markers+text",
         "name": "Condiments Menu",
         "orientation": "v",
         "showlegend": true,
         "text": [
          "Mustard diping sauce",
          "BBQ diping sauce",
          "Chilli Sauce",
          "Piri Piri Mix",
          "Tomato Ketchup Sachets",
          "Maple Syrup",
          "Cheese Slice",
          "Sweet Corn",
          "Mixed Fruit Beverage"
         ],
         "textposition": "top center",
         "type": "scatter",
         "x": {
          "bdata": "/M004nnt97/vuWi7R+D+v583wsVlkwHAOh0llT3d/L+VGl0uH0vzv9UKlfiFOv+/cSsP9DVe9r+ifB8+UYr/v6IihV3xSQDA",
          "dtype": "f8"
         },
         "xaxis": "x",
         "y": {
          "bdata": "YVLnRff0+790hNKCaxP7vwJa164/FgLAHTtYYeDSAsA6rTpcmMwBwNDECnggd/C/W+QLXj+yAsBXN7p34U8AwOrLPWgtUuu/",
          "dtype": "f8"
         },
         "yaxis": "y"
        }
       ],
       "layout": {
        "height": 700,
        "legend": {
         "title": {
          "text": "Category"
         },
         "tracegroupgap": 0
        },
        "template": {
         "data": {
          "bar": [
           {
            "error_x": {
             "color": "#2a3f5f"
            },
            "error_y": {
             "color": "#2a3f5f"
            },
            "marker": {
             "line": {
              "color": "#E5ECF6",
              "width": 0.5
             },
             "pattern": {
              "fillmode": "overlay",
              "size": 10,
              "solidity": 0.2
             }
            },
            "type": "bar"
           }
          ],
          "barpolar": [
           {
            "marker": {
             "line": {
              "color": "#E5ECF6",
              "width": 0.5
             },
             "pattern": {
              "fillmode": "overlay",
              "size": 10,
              "solidity": 0.2
             }
            },
            "type": "barpolar"
           }
          ],
          "carpet": [
           {
            "aaxis": {
             "endlinecolor": "#2a3f5f",
             "gridcolor": "white",
             "linecolor": "white",
             "minorgridcolor": "white",
             "startlinecolor": "#2a3f5f"
            },
            "baxis": {
             "endlinecolor": "#2a3f5f",
             "gridcolor": "white",
             "linecolor": "white",
             "minorgridcolor": "white",
             "startlinecolor": "#2a3f5f"
            },
            "type": "carpet"
           }
          ],
          "choropleth": [
           {
            "colorbar": {
             "outlinewidth": 0,
             "ticks": ""
            },
            "type": "choropleth"
           }
          ],
          "contour": [
           {
            "colorbar": {
             "outlinewidth": 0,
             "ticks": ""
            },
            "colorscale": [
             [
              0,
              "#0d0887"
             ],
             [
              0.1111111111111111,
              "#46039f"
             ],
             [
              0.2222222222222222,
              "#7201a8"
             ],
             [
              0.3333333333333333,
              "#9c179e"
             ],
             [
              0.4444444444444444,
              "#bd3786"
             ],
             [
              0.5555555555555556,
              "#d8576b"
             ],
             [
              0.6666666666666666,
              "#ed7953"
             ],
             [
              0.7777777777777778,
              "#fb9f3a"
             ],
             [
              0.8888888888888888,
              "#fdca26"
             ],
             [
              1,
              "#f0f921"
             ]
            ],
            "type": "contour"
           }
          ],
          "contourcarpet": [
           {
            "colorbar": {
             "outlinewidth": 0,
             "ticks": ""
            },
            "type": "contourcarpet"
           }
          ],
          "heatmap": [
           {
            "colorbar": {
             "outlinewidth": 0,
             "ticks": ""
            },
            "colorscale": [
             [
              0,
              "#0d0887"
             ],
             [
              0.1111111111111111,
              "#46039f"
             ],
             [
              0.2222222222222222,
              "#7201a8"
             ],
             [
              0.3333333333333333,
              "#9c179e"
             ],
             [
              0.4444444444444444,
              "#bd3786"
             ],
             [
              0.5555555555555556,
              "#d8576b"
             ],
             [
              0.6666666666666666,
              "#ed7953"
             ],
             [
              0.7777777777777778,
              "#fb9f3a"
             ],
             [
              0.8888888888888888,
              "#fdca26"
             ],
             [
              1,
              "#f0f921"
             ]
            ],
            "type": "heatmap"
           }
          ],
          "histogram": [
           {
            "marker": {
             "pattern": {
              "fillmode": "overlay",
              "size": 10,
              "solidity": 0.2
             }
            },
            "type": "histogram"
           }
          ],
          "histogram2d": [
           {
            "colorbar": {
             "outlinewidth": 0,
             "ticks": ""
            },
            "colorscale": [
             [
              0,
              "#0d0887"
             ],
             [
              0.1111111111111111,
              "#46039f"
             ],
             [
              0.2222222222222222,
              "#7201a8"
             ],
             [
              0.3333333333333333,
              "#9c179e"
             ],
             [
              0.4444444444444444,
              "#bd3786"
             ],
             [
              0.5555555555555556,
              "#d8576b"
             ],
             [
              0.6666666666666666,
              "#ed7953"
             ],
             [
              0.7777777777777778,
              "#fb9f3a"
             ],
             [
              0.8888888888888888,
              "#fdca26"
             ],
             [
              1,
              "#f0f921"
             ]
            ],
            "type": "histogram2d"
           }
          ],
          "histogram2dcontour": [
           {
            "colorbar": {
             "outlinewidth": 0,
             "ticks": ""
            },
            "colorscale": [
             [
              0,
              "#0d0887"
             ],
             [
              0.1111111111111111,
              "#46039f"
             ],
             [
              0.2222222222222222,
              "#7201a8"
             ],
             [
              0.3333333333333333,
              "#9c179e"
             ],
             [
              0.4444444444444444,
              "#bd3786"
             ],
             [
              0.5555555555555556,
              "#d8576b"
             ],
             [
              0.6666666666666666,
              "#ed7953"
             ],
             [
              0.7777777777777778,
              "#fb9f3a"
             ],
             [
              0.8888888888888888,
              "#fdca26"
             ],
             [
              1,
              "#f0f921"
             ]
            ],
            "type": "histogram2dcontour"
           }
          ],
          "mesh3d": [
           {
            "colorbar": {
             "outlinewidth": 0,
             "ticks": ""
            },
            "type": "mesh3d"
           }
          ],
          "parcoords": [
           {
            "line": {
             "colorbar": {
              "outlinewidth": 0,
              "ticks": ""
             }
            },
            "type": "parcoords"
           }
          ],
          "pie": [
           {
            "automargin": true,
            "type": "pie"
           }
          ],
          "scatter": [
           {
            "fillpattern": {
             "fillmode": "overlay",
             "size": 10,
             "solidity": 0.2
            },
            "type": "scatter"
           }
          ],
          "scatter3d": [
           {
            "line": {
             "colorbar": {
              "outlinewidth": 0,
              "ticks": ""
             }
            },
            "marker": {
             "colorbar": {
              "outlinewidth": 0,
              "ticks": ""
             }
            },
            "type": "scatter3d"
           }
          ],
          "scattercarpet": [
           {
            "marker": {
             "colorbar": {
              "outlinewidth": 0,
              "ticks": ""
             }
            },
            "type": "scattercarpet"
           }
          ],
          "scattergeo": [
           {
            "marker": {
             "colorbar": {
              "outlinewidth": 0,
              "ticks": ""
             }
            },
            "type": "scattergeo"
           }
          ],
          "scattergl": [
           {
            "marker": {
             "colorbar": {
              "outlinewidth": 0,
              "ticks": ""
             }
            },
            "type": "scattergl"
           }
          ],
          "scattermap": [
           {
            "marker": {
             "colorbar": {
              "outlinewidth": 0,
              "ticks": ""
             }
            },
            "type": "scattermap"
           }
          ],
          "scattermapbox": [
           {
            "marker": {
             "colorbar": {
              "outlinewidth": 0,
              "ticks": ""
             }
            },
            "type": "scattermapbox"
           }
          ],
          "scatterpolar": [
           {
            "marker": {
             "colorbar": {
              "outlinewidth": 0,
              "ticks": ""
             }
            },
            "type": "scatterpolar"
           }
          ],
          "scatterpolargl": [
           {
            "marker": {
             "colorbar": {
              "outlinewidth": 0,
              "ticks": ""
             }
            },
            "type": "scatterpolargl"
           }
          ],
          "scatterternary": [
           {
            "marker": {
             "colorbar": {
              "outlinewidth": 0,
              "ticks": ""
             }
            },
            "type": "scatterternary"
           }
          ],
          "surface": [
           {
            "colorbar": {
             "outlinewidth": 0,
             "ticks": ""
            },
            "colorscale": [
             [
              0,
              "#0d0887"
             ],
             [
              0.1111111111111111,
              "#46039f"
             ],
             [
              0.2222222222222222,
              "#7201a8"
             ],
             [
              0.3333333333333333,
              "#9c179e"
             ],
             [
              0.4444444444444444,
              "#bd3786"
             ],
             [
              0.5555555555555556,
              "#d8576b"
             ],
             [
              0.6666666666666666,
              "#ed7953"
             ],
             [
              0.7777777777777778,
              "#fb9f3a"
             ],
             [
              0.8888888888888888,
              "#fdca26"
             ],
             [
              1,
              "#f0f921"
             ]
            ],
            "type": "surface"
           }
          ],
          "table": [
           {
            "cells": {
             "fill": {
              "color": "#EBF0F8"
             },
             "line": {
              "color": "white"
             }
            },
            "header": {
             "fill": {
              "color": "#C8D4E3"
             },
             "line": {
              "color": "white"
             }
            },
            "type": "table"
           }
          ]
         },
         "layout": {
          "annotationdefaults": {
           "arrowcolor": "#2a3f5f",
           "arrowhead": 0,
           "arrowwidth": 1
          },
          "autotypenumbers": "strict",
          "coloraxis": {
           "colorbar": {
            "outlinewidth": 0,
            "ticks": ""
           }
          },
          "colorscale": {
           "diverging": [
            [
             0,
             "#8e0152"
            ],
            [
             0.1,
             "#c51b7d"
            ],
            [
             0.2,
             "#de77ae"
            ],
            [
             0.3,
             "#f1b6da"
            ],
            [
             0.4,
             "#fde0ef"
            ],
            [
             0.5,
             "#f7f7f7"
            ],
            [
             0.6,
             "#e6f5d0"
            ],
            [
             0.7,
             "#b8e186"
            ],
            [
             0.8,
             "#7fbc41"
            ],
            [
             0.9,
             "#4d9221"
            ],
            [
             1,
             "#276419"
            ]
           ],
           "sequential": [
            [
             0,
             "#0d0887"
            ],
            [
             0.1111111111111111,
             "#46039f"
            ],
            [
             0.2222222222222222,
             "#7201a8"
            ],
            [
             0.3333333333333333,
             "#9c179e"
            ],
            [
             0.4444444444444444,
             "#bd3786"
            ],
            [
             0.5555555555555556,
             "#d8576b"
            ],
            [
             0.6666666666666666,
             "#ed7953"
            ],
            [
             0.7777777777777778,
             "#fb9f3a"
            ],
            [
             0.8888888888888888,
             "#fdca26"
            ],
            [
             1,
             "#f0f921"
            ]
           ],
           "sequentialminus": [
            [
             0,
             "#0d0887"
            ],
            [
             0.1111111111111111,
             "#46039f"
            ],
            [
             0.2222222222222222,
             "#7201a8"
            ],
            [
             0.3333333333333333,
             "#9c179e"
            ],
            [
             0.4444444444444444,
             "#bd3786"
            ],
            [
             0.5555555555555556,
             "#d8576b"
            ],
            [
             0.6666666666666666,
             "#ed7953"
            ],
            [
             0.7777777777777778,
             "#fb9f3a"
            ],
            [
             0.8888888888888888,
             "#fdca26"
            ],
            [
             1,
             "#f0f921"
            ]
           ]
          },
          "colorway": [
           "#636efa",
           "#EF553B",
           "#00cc96",
           "#ab63fa",
           "#FFA15A",
           "#19d3f3",
           "#FF6692",
           "#B6E880",
           "#FF97FF",
           "#FECB52"
          ],
          "font": {
           "color": "#2a3f5f"
          },
          "geo": {
           "bgcolor": "white",
           "lakecolor": "white",
           "landcolor": "#E5ECF6",
           "showlakes": true,
           "showland": true,
           "subunitcolor": "white"
          },
          "hoverlabel": {
           "align": "left"
          },
          "hovermode": "closest",
          "mapbox": {
           "style": "light"
          },
          "paper_bgcolor": "white",
          "plot_bgcolor": "#E5ECF6",
          "polar": {
           "angularaxis": {
            "gridcolor": "white",
            "linecolor": "white",
            "ticks": ""
           },
           "bgcolor": "#E5ECF6",
           "radialaxis": {
            "gridcolor": "white",
            "linecolor": "white",
            "ticks": ""
           }
          },
          "scene": {
           "xaxis": {
            "backgroundcolor": "#E5ECF6",
            "gridcolor": "white",
            "gridwidth": 2,
            "linecolor": "white",
            "showbackground": true,
            "ticks": "",
            "zerolinecolor": "white"
           },
           "yaxis": {
            "backgroundcolor": "#E5ECF6",
            "gridcolor": "white",
            "gridwidth": 2,
            "linecolor": "white",
            "showbackground": true,
            "ticks": "",
            "zerolinecolor": "white"
           },
           "zaxis": {
            "backgroundcolor": "#E5ECF6",
            "gridcolor": "white",
            "gridwidth": 2,
            "linecolor": "white",
            "showbackground": true,
            "ticks": "",
            "zerolinecolor": "white"
           }
          },
          "shapedefaults": {
           "line": {
            "color": "#2a3f5f"
           }
          },
          "ternary": {
           "aaxis": {
            "gridcolor": "white",
            "linecolor": "white",
            "ticks": ""
           },
           "baxis": {
            "gridcolor": "white",
            "linecolor": "white",
            "ticks": ""
           },
           "bgcolor": "#E5ECF6",
           "caxis": {
            "gridcolor": "white",
            "linecolor": "white",
            "ticks": ""
           }
          },
          "title": {
           "x": 0.05
          },
          "xaxis": {
           "automargin": true,
           "gridcolor": "white",
           "linecolor": "white",
           "ticks": "",
           "title": {
            "standoff": 15
           },
           "zerolinecolor": "white",
           "zerolinewidth": 2
          },
          "yaxis": {
           "automargin": true,
           "gridcolor": "white",
           "linecolor": "white",
           "ticks": "",
           "title": {
            "standoff": 15
           },
           "zerolinecolor": "white",
           "zerolinewidth": 2
          }
         }
        },
        "title": {
         "text": "Score Plot (PC1 (45.9%) vs PC2 (24.7%))"
        },
        "updatemenus": [
         {
          "buttons": [
           {
            "args": [
             {
              "xaxis.range": [
               -2.7863157847950886,
               7.3345657643985565
              ],
              "xaxis.title.text": "PC1 (45.9%)"
             }
            ],
            "label": "PC1 (45.9%)",
            "method": "relayout"
           },
           {
            "args": [
             {
              "xaxis.range": [
               -3.251671195978035,
               6.11332885731768
              ],
              "xaxis.title.text": "PC2 (24.7%)"
             }
            ],
            "label": "PC2 (24.7%)",
            "method": "relayout"
           },
           {
            "args": [
             {
              "xaxis.range": [
               -1.101385291360801,
               12.92868386224538
              ],
              "xaxis.title.text": "PC3 (9.7%)"
             }
            ],
            "label": "PC3 (9.7%)",
            "method": "relayout"
           },
           {
            "args": [
             {
              "xaxis.range": [
               -1.5338793786331826,
               4.081138840293959
              ],
              "xaxis.title.text": "PC4 (7.4%)"
             }
            ],
            "label": "PC4 (7.4%)",
            "method": "relayout"
           },
           {
            "args": [
             {
              "xaxis.range": [
               -2.295496608225782,
               2.5159267939154333
              ],
              "xaxis.title.text": "PC5 (5.8%)"
             }
            ],
            "label": "PC5 (5.8%)",
            "method": "relayout"
           },
           {
            "args": [
             {
              "xaxis.range": [
               -1.8914711078637119,
               3.3584782506729813
              ],
              "xaxis.title.text": "PC6 (3.4%)"
             }
            ],
            "label": "PC6 (3.4%)",
            "method": "relayout"
           },
           {
            "args": [
             {
              "xaxis.range": [
               -1.2062681374051458,
               1.4914896174875036
              ],
              "xaxis.title.text": "PC7 (1.4%)"
             }
            ],
            "label": "PC7 (1.4%)",
            "method": "relayout"
           },
           {
            "args": [
             {
              "xaxis.range": [
               -0.6648053482851103,
               1.3811310348126002
              ],
              "xaxis.title.text": "PC8 (0.8%)"
             }
            ],
            "label": "PC8 (0.8%)",
            "method": "relayout"
           },
           {
            "args": [
             {
              "xaxis.range": [
               -0.6514270178662375,
               1.9482219449985057
              ],
              "xaxis.title.text": "PC9 (0.5%)"
             }
            ],
            "label": "PC9 (0.5%)",
            "method": "relayout"
           },
           {
            "args": [
             {
              "xaxis.range": [
               -0.9373212266005373,
               1.2604562753028377
              ],
              "xaxis.title.text": "PC10 (0.4%)"
             }
            ],
            "label": "PC10 (0.4%)",
            "method": "relayout"
           },
           {
            "args": [
             {
              "xaxis.range": [
               -0.17451430271790744,
               0.5431833092141283
              ],
              "xaxis.title.text": "PC11 (0.0%)"
             }
            ],
            "label": "PC11 (0.0%)",
            "method": "relayout"
           }
          ],
          "direction": "down",
          "showactive": true,
          "x": 0,
          "xanchor": "left",
          "y": 1.1
         },
         {
          "buttons": [
           {
            "args": [
             {
              "yaxis.range": [
               -2.7863157847950886,
               7.3345657643985565
              ],
              "yaxis.title.text": "PC1 (45.9%)"
             }
            ],
            "label": "PC1 (45.9%)",
            "method": "relayout"
           },
           {
            "args": [
             {
              "yaxis.range": [
               -3.251671195978035,
               6.11332885731768
              ],
              "yaxis.title.text": "PC2 (24.7%)"
             }
            ],
            "label": "PC2 (24.7%)",
            "method": "relayout"
           },
           {
            "args": [
             {
              "yaxis.range": [
               -1.101385291360801,
               12.92868386224538
              ],
              "yaxis.title.text": "PC3 (9.7%)"
             }
            ],
            "label": "PC3 (9.7%)",
            "method": "relayout"
           },
           {
            "args": [
             {
              "yaxis.range": [
               -1.5338793786331826,
               4.081138840293959
              ],
              "yaxis.title.text": "PC4 (7.4%)"
             }
            ],
            "label": "PC4 (7.4%)",
            "method": "relayout"
           },
           {
            "args": [
             {
              "yaxis.range": [
               -2.295496608225782,
               2.5159267939154333
              ],
              "yaxis.title.text": "PC5 (5.8%)"
             }
            ],
            "label": "PC5 (5.8%)",
            "method": "relayout"
           },
           {
            "args": [
             {
              "yaxis.range": [
               -1.8914711078637119,
               3.3584782506729813
              ],
              "yaxis.title.text": "PC6 (3.4%)"
             }
            ],
            "label": "PC6 (3.4%)",
            "method": "relayout"
           },
           {
            "args": [
             {
              "yaxis.range": [
               -1.2062681374051458,
               1.4914896174875036
              ],
              "yaxis.title.text": "PC7 (1.4%)"
             }
            ],
            "label": "PC7 (1.4%)",
            "method": "relayout"
           },
           {
            "args": [
             {
              "yaxis.range": [
               -0.6648053482851103,
               1.3811310348126002
              ],
              "yaxis.title.text": "PC8 (0.8%)"
             }
            ],
            "label": "PC8 (0.8%)",
            "method": "relayout"
           },
           {
            "args": [
             {
              "yaxis.range": [
               -0.6514270178662375,
               1.9482219449985057
              ],
              "yaxis.title.text": "PC9 (0.5%)"
             }
            ],
            "label": "PC9 (0.5%)",
            "method": "relayout"
           },
           {
            "args": [
             {
              "yaxis.range": [
               -0.9373212266005373,
               1.2604562753028377
              ],
              "yaxis.title.text": "PC10 (0.4%)"
             }
            ],
            "label": "PC10 (0.4%)",
            "method": "relayout"
           },
           {
            "args": [
             {
              "yaxis.range": [
               -0.17451430271790744,
               0.5431833092141283
              ],
              "yaxis.title.text": "PC11 (0.0%)"
             }
            ],
            "label": "PC11 (0.0%)",
            "method": "relayout"
           }
          ],
          "direction": "down",
          "showactive": true,
          "x": 0.15,
          "xanchor": "left",
          "y": 1.1
         }
        ],
        "width": 1200,
        "xaxis": {
         "anchor": "y",
         "domain": [
          0,
          1
         ],
         "title": {
          "text": "PC1 (45.9%)"
         }
        },
        "yaxis": {
         "anchor": "x",
         "domain": [
          0,
          1
         ],
         "title": {
          "text": "PC2 (24.7%)"
         }
        }
       }
      }
     },
     "metadata": {},
     "output_type": "display_data"
    },
    {
     "data": {
      "application/vnd.plotly.v1+json": {
       "config": {
        "plotlyServerURL": "https://plot.ly"
       },
       "data": [
        {
         "line": {
          "color": "black",
          "dash": "dash"
         },
         "mode": "lines",
         "name": "r=1",
         "type": "scatter",
         "x": {
          "bdata": "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",
          "dtype": "f8"
         },
         "y": {
          "bdata": "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",
          "dtype": "f8"
         }
        },
        {
         "line": {
          "color": "gray",
          "dash": "dot"
         },
         "mode": "lines",
         "name": "r=0.5",
         "type": "scatter",
         "x": {
          "bdata": "AAAAAAAA4D8Jm3X6MP7fP9G8LR7E+N8/qGwoCLrv3z8hqfy9E+PfP+3Vuq3S0t8/a1rDrfi+3z96dZH8h6ffP6VMekCDjN8/+T1gh+1t3z8sfVpGykvfPyMGUVkdJt8/CvCMAuv83j+8LT3qN9DeP1fJ7x0JoN4/QKr/D2Rs3j8U9vaWTjXeP2oe5uzO+t0/bK6vruu83T+07Ejbq3vdPwRn79IWN90/wn5TVjTv3D9dDriFDKTcP+lAB+CnVdw/mbbcQQ8E3D/VEYXkS6/bP+4J81xnV9s/nSGqmmv82j+oIJ/mYp7aPyBxDuJXPdo/9oFIhVXZ2T+SUXQeZ3LZP2JESFCYCNk/VGy5EPWb2D9PZ6GniSzYP8n7Wq1iutc/pptVCY1F1z+a9p/wFc7WPzjGaeQKVNY/9/58sHnX1T9Akq5pcFjVP8LuRmz91tQ/Am1iWi9T1D8910kaFc3TP1w8w9S9RNM/3T5b8zi60j8ZEaceli3SP4VRfzzlntE/APozbjYO0T9DlrkOmnvQP2jsn2FBzs8/MyNFOrahzj/JpsWgtHHNPxIHufJePsw/ug0J7tcHyz+MWgStQs7JPwKOZqLCkcg/9HRWlXtSxz88qVqdkRDGP3QcRR4pzMQ/wAIWxGaFwz/tlNZ+bzzCP4whbH5o8cA/PszHXO5Ivz+XU3Bjgqu8P4EoHr3YCro/PXfncz1ntz+iyhPn/MC0P7fsecJjGLI/1T6q633brj+PUSVYt4KpP89bMYUOJ6Q/cWYdAj2SnT8YLdU3BdOSP39fQllZI4A/GxSXBquEZb+BwOsuE+WKv10zA6f4Mpi/svOZtVV4ob/GX3WHNdWmv0isq5eAL6y/AhjD/03DsL8iOkGa9myzvw855QxtFLa/PjXQiGS5uL/rL16HkFu7v9+dzNKk+r2/q+prxypLwL8jL6egK5fBvziWTG0v4cK/SuYb3xApxL92x5flqm7Fv6JdNrLYsca/622KvHXyx780l2TGXTDJvxQm7N9sa8q/5w2va3+jy79AkagictjMvyIlPhgiCs6/4Rsyvmw4z7+Y0kX0lzHQvzDZuegkxdC/iSeDjsxW0b/4/4tufubRv/pcd0oqdNK/hwN3HsD/0r+69hojMInTv4EYGs9qENS/rsMT2WCV1L+mLEo5AxjVv45WVStDmNW/AGzOLxIW1r+iSvMNYpHWv5gSQtUkCte/BIsM30yA178NLgPQzPPXv8yvt5mXZNi/btQWfKDS2L/LatkG2z3Zv7pB7Bo7ptm/g+/O67QL2r+8Q+kAPW7av/A81zbIzdq/nFyrwEsq278ENScpvYPbv5AN6lMS2tu/gXuVfkEt3L/SzedBQX3cv4IszJIIyty/XExgw44T3b+8me+Dy1ndv+y94+O2nN2/4GOqUknc3b9kIpCgexjev+dykP9GUd6/g50aBKWG3r/cg8ulj7jev+41HEAB596/AD0Fk/QR379RipbDZDnfv0L4g1xNXd+/Nk6mTqp9379yuHDxd5rfv82mWgOzs9+/NAY+qljJ379SyqlzZtvfvxC+KFXa6d+/7JJ8rLL0379zKM0/7vvfv4oGzD2M/9+/igbMPYz/379zKM0/7vvfv+ySfKyy9N+/EL4oVdrp379SyqlzZtvfvzQGPqpYyd+/zaZaA7Oz379yuHDxd5rfvzdOpk6qfd+/QviDXE1d379QipbDZDnfvwA9BZP0Ed+/7jUcQAHn3r/dg8ulj7jev4SdGgSlht6/6HKQ/0ZR3r9lIpCgexjev+FjqlJJ3N2/7L3j47ac3b+7me+Dy1ndv11MYMOOE92/gyzMkgjK3L/TzedBQX3cv4J7lX5BLdy/kQ3qUxLa278DNScpvYPbv5tcq8BLKtu/8TzXNsjN2r+9Q+kAPW7av4Xvzuu0C9q/u0HsGjum2b/MatkG2z3Zv2/UFnyg0ti/y6+3mZdk2L8LLgPQzPPXvwaLDN9MgNe/mhJC1SQK17+jSvMNYpHWvwFszi8SFta/kFZVK0OY1b+kLEo5AxjVv7DDE9lgldS/ghgaz2oQ1L+89hojMInTv4kDdx7A/9K/+1x3Sip00r/6/4tufubRv4sng47MVtG/Ltm56CTF0L+W0kX0lzHQv94bMr5sOM+/HiU+GCIKzr88kagictjMv+QNr2t/o8u/Gybs32xryr87l2TGXTDJv/Ntirx18se/pl02stixxr96x5flqm7Fv07mG98QKcS/PJZMbS/hwr8kL6egK5fBv6vqa8cqS8C/4J3M0qT6vb/rL16HkFu7vzc10Ihkubi/CDnlDG0Utr8bOkGa9myzv/oXw/9Nw7C/aqyrl4AvrL/nX3WHNdWmv9TzmbVVeKG/gDMDp/gymL/HwOsuE+WKvzYVlwarhGW/OV9CWVkjgD8VLdU3BdOSP25mHQI9kp0/zVsxhQ4npD+OUSVYt4KpP+M+qut9264/vux5wmMYsj+pyhPn/MC0P0R353M9Z7c/cSgevdgKuj+HU3Bjgqu8Py3Mx1zuSL8/hyFsfmjxwD/plNZ+bzzCP7wCFsRmhcM/cBxFHinMxD88qVqdkRDGP/N0VpV7Usc/AY5mosKRyD+MWgStQs7JP70NCe7XB8s/Fge58l4+zD/MpsWgtHHNPzYjRTq2oc4/YOyfYUHOzz9AlrkOmnvQP/35M242DtE/glF/POWe0T8XEaceli3SP9s+W/M4utI/WzzD1L1E0z8810kaFc3TPwJtYlovU9Q/wu5GbP3W1D9Bkq5pcFjVP/f+fLB519U/OcZp5ApU1j+b9p/wFc7WP6ibVQmNRdc/xvtarWK61z9MZ6GniSzYP1FsuRD1m9g/YERIUJgI2T+RUXQeZ3LZP/WBSIVV2dk/H3EO4lc92j+oIJ/mYp7aP50hqppr/No/7gnzXGdX2z/VEYXkS6/bP5q23EEPBNw/6kAH4KdV3D9eDriFDKTcP8N+U1Y079w/Amfv0hY33T+y7Ejbq3vdP2uur67rvN0/aR7m7M763T8T9vaWTjXePz+q/w9kbN4/V8nvHQmg3j+7LT3qN9DePwnwjALr/N4/IwZRWR0m3z8sfVpGykvfP/k9YIftbd8/pUx6QIOM3z96dZH8h6ffP2taw634vt8/7NW6rdLS3z8gqfy9E+PfP6hsKAi6798/0bwtHsT43z8Jm3X6MP7fPwAAAAAAAOA/",
          "dtype": "f8"
         },
         "y": {
          "bdata": "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",
          "dtype": "f8"
         }
        },
        {
         "marker": {
          "color": "crimson",
          "size": 9
         },
         "mode": "markers+text",
         "name": "Variables",
         "text": [
          "Per Serve Size",
          "Energy (kCal)",
          "Protein (g)",
          "Total fat (g)",
          "Sat Fat (g)",
          "Trans fat (g)",
          "Cholesterols (mg)",
          "Total carbohydrate (g)",
          "Total Sugars (g)",
          "Added Sugars (g)",
          "Sodium (mg)"
         ],
         "textposition": "top center",
         "type": "scatter",
         "x": {
          "bdata": "9nHzCMaUsL8uPr+flKvaP6IDuAX3sNo/0ZZFloRx2z+lnU+gp8zXP4S9Jv6MuKg/0kZh3ObWzz8NwndJ4LjQP8yDpe5Uu7i/mor4qt8Hv7+IoKiVgFraPw==",
          "dtype": "f8"
         },
         "y": {
          "bdata": "SLIirKry1z+89zdCxYvHP3ZVxdRKzq2/gInygR/WeL/SQMIZfzGyP+AMSioQo7e/3S7r+2Hgub8yQhTHFKjbP10BNpyJ1+E/1rOT0s+G4T84JgyXUK6ivw==",
          "dtype": "f8"
         }
        }
       ],
       "layout": {
        "height": 700,
        "template": {
         "data": {
          "bar": [
           {
            "error_x": {
             "color": "#2a3f5f"
            },
            "error_y": {
             "color": "#2a3f5f"
            },
            "marker": {
             "line": {
              "color": "#E5ECF6",
              "width": 0.5
             },
             "pattern": {
              "fillmode": "overlay",
              "size": 10,
              "solidity": 0.2
             }
            },
            "type": "bar"
           }
          ],
          "barpolar": [
           {
            "marker": {
             "line": {
              "color": "#E5ECF6",
              "width": 0.5
             },
             "pattern": {
              "fillmode": "overlay",
              "size": 10,
              "solidity": 0.2
             }
            },
            "type": "barpolar"
           }
          ],
          "carpet": [
           {
            "aaxis": {
             "endlinecolor": "#2a3f5f",
             "gridcolor": "white",
             "linecolor": "white",
             "minorgridcolor": "white",
             "startlinecolor": "#2a3f5f"
            },
            "baxis": {
             "endlinecolor": "#2a3f5f",
             "gridcolor": "white",
             "linecolor": "white",
             "minorgridcolor": "white",
             "startlinecolor": "#2a3f5f"
            },
            "type": "carpet"
           }
          ],
          "choropleth": [
           {
            "colorbar": {
             "outlinewidth": 0,
             "ticks": ""
            },
            "type": "choropleth"
           }
          ],
          "contour": [
           {
            "colorbar": {
             "outlinewidth": 0,
             "ticks": ""
            },
            "colorscale": [
             [
              0,
              "#0d0887"
             ],
             [
              0.1111111111111111,
              "#46039f"
             ],
             [
              0.2222222222222222,
              "#7201a8"
             ],
             [
              0.3333333333333333,
              "#9c179e"
             ],
             [
              0.4444444444444444,
              "#bd3786"
             ],
             [
              0.5555555555555556,
              "#d8576b"
             ],
             [
              0.6666666666666666,
              "#ed7953"
             ],
             [
              0.7777777777777778,
              "#fb9f3a"
             ],
             [
              0.8888888888888888,
              "#fdca26"
             ],
             [
              1,
              "#f0f921"
             ]
            ],
            "type": "contour"
           }
          ],
          "contourcarpet": [
           {
            "colorbar": {
             "outlinewidth": 0,
             "ticks": ""
            },
            "type": "contourcarpet"
           }
          ],
          "heatmap": [
           {
            "colorbar": {
             "outlinewidth": 0,
             "ticks": ""
            },
            "colorscale": [
             [
              0,
              "#0d0887"
             ],
             [
              0.1111111111111111,
              "#46039f"
             ],
             [
              0.2222222222222222,
              "#7201a8"
             ],
             [
              0.3333333333333333,
              "#9c179e"
             ],
             [
              0.4444444444444444,
              "#bd3786"
             ],
             [
              0.5555555555555556,
              "#d8576b"
             ],
             [
              0.6666666666666666,
              "#ed7953"
             ],
             [
              0.7777777777777778,
              "#fb9f3a"
             ],
             [
              0.8888888888888888,
              "#fdca26"
             ],
             [
              1,
              "#f0f921"
             ]
            ],
            "type": "heatmap"
           }
          ],
          "histogram": [
           {
            "marker": {
             "pattern": {
              "fillmode": "overlay",
              "size": 10,
              "solidity": 0.2
             }
            },
            "type": "histogram"
           }
          ],
          "histogram2d": [
           {
            "colorbar": {
             "outlinewidth": 0,
             "ticks": ""
            },
            "colorscale": [
             [
              0,
              "#0d0887"
             ],
             [
              0.1111111111111111,
              "#46039f"
             ],
             [
              0.2222222222222222,
              "#7201a8"
             ],
             [
              0.3333333333333333,
              "#9c179e"
             ],
             [
              0.4444444444444444,
              "#bd3786"
             ],
             [
              0.5555555555555556,
              "#d8576b"
             ],
             [
              0.6666666666666666,
              "#ed7953"
             ],
             [
              0.7777777777777778,
              "#fb9f3a"
             ],
             [
              0.8888888888888888,
              "#fdca26"
             ],
             [
              1,
              "#f0f921"
             ]
            ],
            "type": "histogram2d"
           }
          ],
          "histogram2dcontour": [
           {
            "colorbar": {
             "outlinewidth": 0,
             "ticks": ""
            },
            "colorscale": [
             [
              0,
              "#0d0887"
             ],
             [
              0.1111111111111111,
              "#46039f"
             ],
             [
              0.2222222222222222,
              "#7201a8"
             ],
             [
              0.3333333333333333,
              "#9c179e"
             ],
             [
              0.4444444444444444,
              "#bd3786"
             ],
             [
              0.5555555555555556,
              "#d8576b"
             ],
             [
              0.6666666666666666,
              "#ed7953"
             ],
             [
              0.7777777777777778,
              "#fb9f3a"
             ],
             [
              0.8888888888888888,
              "#fdca26"
             ],
             [
              1,
              "#f0f921"
             ]
            ],
            "type": "histogram2dcontour"
           }
          ],
          "mesh3d": [
           {
            "colorbar": {
             "outlinewidth": 0,
             "ticks": ""
            },
            "type": "mesh3d"
           }
          ],
          "parcoords": [
           {
            "line": {
             "colorbar": {
              "outlinewidth": 0,
              "ticks": ""
             }
            },
            "type": "parcoords"
           }
          ],
          "pie": [
           {
            "automargin": true,
            "type": "pie"
           }
          ],
          "scatter": [
           {
            "fillpattern": {
             "fillmode": "overlay",
             "size": 10,
             "solidity": 0.2
            },
            "type": "scatter"
           }
          ],
          "scatter3d": [
           {
            "line": {
             "colorbar": {
              "outlinewidth": 0,
              "ticks": ""
             }
            },
            "marker": {
             "colorbar": {
              "outlinewidth": 0,
              "ticks": ""
             }
            },
            "type": "scatter3d"
           }
          ],
          "scattercarpet": [
           {
            "marker": {
             "colorbar": {
              "outlinewidth": 0,
              "ticks": ""
             }
            },
            "type": "scattercarpet"
           }
          ],
          "scattergeo": [
           {
            "marker": {
             "colorbar": {
              "outlinewidth": 0,
              "ticks": ""
             }
            },
            "type": "scattergeo"
           }
          ],
          "scattergl": [
           {
            "marker": {
             "colorbar": {
              "outlinewidth": 0,
              "ticks": ""
             }
            },
            "type": "scattergl"
           }
          ],
          "scattermap": [
           {
            "marker": {
             "colorbar": {
              "outlinewidth": 0,
              "ticks": ""
             }
            },
            "type": "scattermap"
           }
          ],
          "scattermapbox": [
           {
            "marker": {
             "colorbar": {
              "outlinewidth": 0,
              "ticks": ""
             }
            },
            "type": "scattermapbox"
           }
          ],
          "scatterpolar": [
           {
            "marker": {
             "colorbar": {
              "outlinewidth": 0,
              "ticks": ""
             }
            },
            "type": "scatterpolar"
           }
          ],
          "scatterpolargl": [
           {
            "marker": {
             "colorbar": {
              "outlinewidth": 0,
              "ticks": ""
             }
            },
            "type": "scatterpolargl"
           }
          ],
          "scatterternary": [
           {
            "marker": {
             "colorbar": {
              "outlinewidth": 0,
              "ticks": ""
             }
            },
            "type": "scatterternary"
           }
          ],
          "surface": [
           {
            "colorbar": {
             "outlinewidth": 0,
             "ticks": ""
            },
            "colorscale": [
             [
              0,
              "#0d0887"
             ],
             [
              0.1111111111111111,
              "#46039f"
             ],
             [
              0.2222222222222222,
              "#7201a8"
             ],
             [
              0.3333333333333333,
              "#9c179e"
             ],
             [
              0.4444444444444444,
              "#bd3786"
             ],
             [
              0.5555555555555556,
              "#d8576b"
             ],
             [
              0.6666666666666666,
              "#ed7953"
             ],
             [
              0.7777777777777778,
              "#fb9f3a"
             ],
             [
              0.8888888888888888,
              "#fdca26"
             ],
             [
              1,
              "#f0f921"
             ]
            ],
            "type": "surface"
           }
          ],
          "table": [
           {
            "cells": {
             "fill": {
              "color": "#EBF0F8"
             },
             "line": {
              "color": "white"
             }
            },
            "header": {
             "fill": {
              "color": "#C8D4E3"
             },
             "line": {
              "color": "white"
             }
            },
            "type": "table"
           }
          ]
         },
         "layout": {
          "annotationdefaults": {
           "arrowcolor": "#2a3f5f",
           "arrowhead": 0,
           "arrowwidth": 1
          },
          "autotypenumbers": "strict",
          "coloraxis": {
           "colorbar": {
            "outlinewidth": 0,
            "ticks": ""
           }
          },
          "colorscale": {
           "diverging": [
            [
             0,
             "#8e0152"
            ],
            [
             0.1,
             "#c51b7d"
            ],
            [
             0.2,
             "#de77ae"
            ],
            [
             0.3,
             "#f1b6da"
            ],
            [
             0.4,
             "#fde0ef"
            ],
            [
             0.5,
             "#f7f7f7"
            ],
            [
             0.6,
             "#e6f5d0"
            ],
            [
             0.7,
             "#b8e186"
            ],
            [
             0.8,
             "#7fbc41"
            ],
            [
             0.9,
             "#4d9221"
            ],
            [
             1,
             "#276419"
            ]
           ],
           "sequential": [
            [
             0,
             "#0d0887"
            ],
            [
             0.1111111111111111,
             "#46039f"
            ],
            [
             0.2222222222222222,
             "#7201a8"
            ],
            [
             0.3333333333333333,
             "#9c179e"
            ],
            [
             0.4444444444444444,
             "#bd3786"
            ],
            [
             0.5555555555555556,
             "#d8576b"
            ],
            [
             0.6666666666666666,
             "#ed7953"
            ],
            [
             0.7777777777777778,
             "#fb9f3a"
            ],
            [
             0.8888888888888888,
             "#fdca26"
            ],
            [
             1,
             "#f0f921"
            ]
           ],
           "sequentialminus": [
            [
             0,
             "#0d0887"
            ],
            [
             0.1111111111111111,
             "#46039f"
            ],
            [
             0.2222222222222222,
             "#7201a8"
            ],
            [
             0.3333333333333333,
             "#9c179e"
            ],
            [
             0.4444444444444444,
             "#bd3786"
            ],
            [
             0.5555555555555556,
             "#d8576b"
            ],
            [
             0.6666666666666666,
             "#ed7953"
            ],
            [
             0.7777777777777778,
             "#fb9f3a"
            ],
            [
             0.8888888888888888,
             "#fdca26"
            ],
            [
             1,
             "#f0f921"
            ]
           ]
          },
          "colorway": [
           "#636efa",
           "#EF553B",
           "#00cc96",
           "#ab63fa",
           "#FFA15A",
           "#19d3f3",
           "#FF6692",
           "#B6E880",
           "#FF97FF",
           "#FECB52"
          ],
          "font": {
           "color": "#2a3f5f"
          },
          "geo": {
           "bgcolor": "white",
           "lakecolor": "white",
           "landcolor": "#E5ECF6",
           "showlakes": true,
           "showland": true,
           "subunitcolor": "white"
          },
          "hoverlabel": {
           "align": "left"
          },
          "hovermode": "closest",
          "mapbox": {
           "style": "light"
          },
          "paper_bgcolor": "white",
          "plot_bgcolor": "#E5ECF6",
          "polar": {
           "angularaxis": {
            "gridcolor": "white",
            "linecolor": "white",
            "ticks": ""
           },
           "bgcolor": "#E5ECF6",
           "radialaxis": {
            "gridcolor": "white",
            "linecolor": "white",
            "ticks": ""
           }
          },
          "scene": {
           "xaxis": {
            "backgroundcolor": "#E5ECF6",
            "gridcolor": "white",
            "gridwidth": 2,
            "linecolor": "white",
            "showbackground": true,
            "ticks": "",
            "zerolinecolor": "white"
           },
           "yaxis": {
            "backgroundcolor": "#E5ECF6",
            "gridcolor": "white",
            "gridwidth": 2,
            "linecolor": "white",
            "showbackground": true,
            "ticks": "",
            "zerolinecolor": "white"
           },
           "zaxis": {
            "backgroundcolor": "#E5ECF6",
            "gridcolor": "white",
            "gridwidth": 2,
            "linecolor": "white",
            "showbackground": true,
            "ticks": "",
            "zerolinecolor": "white"
           }
          },
          "shapedefaults": {
           "line": {
            "color": "#2a3f5f"
           }
          },
          "ternary": {
           "aaxis": {
            "gridcolor": "white",
            "linecolor": "white",
            "ticks": ""
           },
           "baxis": {
            "gridcolor": "white",
            "linecolor": "white",
            "ticks": ""
           },
           "bgcolor": "#E5ECF6",
           "caxis": {
            "gridcolor": "white",
            "linecolor": "white",
            "ticks": ""
           }
          },
          "title": {
           "x": 0.05
          },
          "xaxis": {
           "automargin": true,
           "gridcolor": "white",
           "linecolor": "white",
           "ticks": "",
           "title": {
            "standoff": 15
           },
           "zerolinecolor": "white",
           "zerolinewidth": 2
          },
          "yaxis": {
           "automargin": true,
           "gridcolor": "white",
           "linecolor": "white",
           "ticks": "",
           "title": {
            "standoff": 15
           },
           "zerolinecolor": "white",
           "zerolinewidth": 2
          }
         }
        },
        "title": {
         "text": "Correlation Loading Plot (PC1 vs PC2)"
        },
        "width": 1200,
        "xaxis": {
         "scaleanchor": "y",
         "title": {
          "text": "PC1 (45.9%)"
         }
        },
        "yaxis": {
         "scaleratio": 1,
         "title": {
          "text": "PC2 (24.7%)"
         }
        }
       }
      }
     },
     "metadata": {},
     "output_type": "display_data"
    },
    {
     "data": {
      "application/vnd.plotly.v1+json": {
       "config": {
        "plotlyServerURL": "https://plot.ly"
       },
       "data": [
        {
         "hovertemplate": "Variable=%{x}<br>PC1=%{y}<extra></extra>",
         "legendgroup": "",
         "marker": {
          "color": "#636efa",
          "pattern": {
           "shape": ""
          }
         },
         "name": "",
         "orientation": "v",
         "showlegend": false,
         "textposition": "auto",
         "texttemplate": "%{y:.2f}",
         "type": "bar",
         "x": [
          "Per Serve Size",
          "Energy (kCal)",
          "Protein (g)",
          "Total fat (g)",
          "Sat Fat (g)",
          "Trans fat (g)",
          "Cholesterols (mg)",
          "Total carbohydrate (g)",
          "Total Sugars (g)",
          "Added Sugars (g)",
          "Sodium (mg)"
         ],
         "xaxis": "x",
         "y": {
          "bdata": "9nHzCMaUsL8uPr+flKvaP6IDuAX3sNo/0ZZFloRx2z+lnU+gp8zXP4S9Jv6MuKg/0kZh3ObWzz8NwndJ4LjQP8yDpe5Uu7i/mor4qt8Hv7+IoKiVgFraPw==",
          "dtype": "f8"
         },
         "yaxis": "y"
        }
       ],
       "layout": {
        "barmode": "relative",
        "height": 700,
        "legend": {
         "tracegroupgap": 0
        },
        "template": {
         "data": {
          "bar": [
           {
            "error_x": {
             "color": "#2a3f5f"
            },
            "error_y": {
             "color": "#2a3f5f"
            },
            "marker": {
             "line": {
              "color": "#E5ECF6",
              "width": 0.5
             },
             "pattern": {
              "fillmode": "overlay",
              "size": 10,
              "solidity": 0.2
             }
            },
            "type": "bar"
           }
          ],
          "barpolar": [
           {
            "marker": {
             "line": {
              "color": "#E5ECF6",
              "width": 0.5
             },
             "pattern": {
              "fillmode": "overlay",
              "size": 10,
              "solidity": 0.2
             }
            },
            "type": "barpolar"
           }
          ],
          "carpet": [
           {
            "aaxis": {
             "endlinecolor": "#2a3f5f",
             "gridcolor": "white",
             "linecolor": "white",
             "minorgridcolor": "white",
             "startlinecolor": "#2a3f5f"
            },
            "baxis": {
             "endlinecolor": "#2a3f5f",
             "gridcolor": "white",
             "linecolor": "white",
             "minorgridcolor": "white",
             "startlinecolor": "#2a3f5f"
            },
            "type": "carpet"
           }
          ],
          "choropleth": [
           {
            "colorbar": {
             "outlinewidth": 0,
             "ticks": ""
            },
            "type": "choropleth"
           }
          ],
          "contour": [
           {
            "colorbar": {
             "outlinewidth": 0,
             "ticks": ""
            },
            "colorscale": [
             [
              0,
              "#0d0887"
             ],
             [
              0.1111111111111111,
              "#46039f"
             ],
             [
              0.2222222222222222,
              "#7201a8"
             ],
             [
              0.3333333333333333,
              "#9c179e"
             ],
             [
              0.4444444444444444,
              "#bd3786"
             ],
             [
              0.5555555555555556,
              "#d8576b"
             ],
             [
              0.6666666666666666,
              "#ed7953"
             ],
             [
              0.7777777777777778,
              "#fb9f3a"
             ],
             [
              0.8888888888888888,
              "#fdca26"
             ],
             [
              1,
              "#f0f921"
             ]
            ],
            "type": "contour"
           }
          ],
          "contourcarpet": [
           {
            "colorbar": {
             "outlinewidth": 0,
             "ticks": ""
            },
            "type": "contourcarpet"
           }
          ],
          "heatmap": [
           {
            "colorbar": {
             "outlinewidth": 0,
             "ticks": ""
            },
            "colorscale": [
             [
              0,
              "#0d0887"
             ],
             [
              0.1111111111111111,
              "#46039f"
             ],
             [
              0.2222222222222222,
              "#7201a8"
             ],
             [
              0.3333333333333333,
              "#9c179e"
             ],
             [
              0.4444444444444444,
              "#bd3786"
             ],
             [
              0.5555555555555556,
              "#d8576b"
             ],
             [
              0.6666666666666666,
              "#ed7953"
             ],
             [
              0.7777777777777778,
              "#fb9f3a"
             ],
             [
              0.8888888888888888,
              "#fdca26"
             ],
             [
              1,
              "#f0f921"
             ]
            ],
            "type": "heatmap"
           }
          ],
          "histogram": [
           {
            "marker": {
             "pattern": {
              "fillmode": "overlay",
              "size": 10,
              "solidity": 0.2
             }
            },
            "type": "histogram"
           }
          ],
          "histogram2d": [
           {
            "colorbar": {
             "outlinewidth": 0,
             "ticks": ""
            },
            "colorscale": [
             [
              0,
              "#0d0887"
             ],
             [
              0.1111111111111111,
              "#46039f"
             ],
             [
              0.2222222222222222,
              "#7201a8"
             ],
             [
              0.3333333333333333,
              "#9c179e"
             ],
             [
              0.4444444444444444,
              "#bd3786"
             ],
             [
              0.5555555555555556,
              "#d8576b"
             ],
             [
              0.6666666666666666,
              "#ed7953"
             ],
             [
              0.7777777777777778,
              "#fb9f3a"
             ],
             [
              0.8888888888888888,
              "#fdca26"
             ],
             [
              1,
              "#f0f921"
             ]
            ],
            "type": "histogram2d"
           }
          ],
          "histogram2dcontour": [
           {
            "colorbar": {
             "outlinewidth": 0,
             "ticks": ""
            },
            "colorscale": [
             [
              0,
              "#0d0887"
             ],
             [
              0.1111111111111111,
              "#46039f"
             ],
             [
              0.2222222222222222,
              "#7201a8"
             ],
             [
              0.3333333333333333,
              "#9c179e"
             ],
             [
              0.4444444444444444,
              "#bd3786"
             ],
             [
              0.5555555555555556,
              "#d8576b"
             ],
             [
              0.6666666666666666,
              "#ed7953"
             ],
             [
              0.7777777777777778,
              "#fb9f3a"
             ],
             [
              0.8888888888888888,
              "#fdca26"
             ],
             [
              1,
              "#f0f921"
             ]
            ],
            "type": "histogram2dcontour"
           }
          ],
          "mesh3d": [
           {
            "colorbar": {
             "outlinewidth": 0,
             "ticks": ""
            },
            "type": "mesh3d"
           }
          ],
          "parcoords": [
           {
            "line": {
             "colorbar": {
              "outlinewidth": 0,
              "ticks": ""
             }
            },
            "type": "parcoords"
           }
          ],
          "pie": [
           {
            "automargin": true,
            "type": "pie"
           }
          ],
          "scatter": [
           {
            "fillpattern": {
             "fillmode": "overlay",
             "size": 10,
             "solidity": 0.2
            },
            "type": "scatter"
           }
          ],
          "scatter3d": [
           {
            "line": {
             "colorbar": {
              "outlinewidth": 0,
              "ticks": ""
             }
            },
            "marker": {
             "colorbar": {
              "outlinewidth": 0,
              "ticks": ""
             }
            },
            "type": "scatter3d"
           }
          ],
          "scattercarpet": [
           {
            "marker": {
             "colorbar": {
              "outlinewidth": 0,
              "ticks": ""
             }
            },
            "type": "scattercarpet"
           }
          ],
          "scattergeo": [
           {
            "marker": {
             "colorbar": {
              "outlinewidth": 0,
              "ticks": ""
             }
            },
            "type": "scattergeo"
           }
          ],
          "scattergl": [
           {
            "marker": {
             "colorbar": {
              "outlinewidth": 0,
              "ticks": ""
             }
            },
            "type": "scattergl"
           }
          ],
          "scattermap": [
           {
            "marker": {
             "colorbar": {
              "outlinewidth": 0,
              "ticks": ""
             }
            },
            "type": "scattermap"
           }
          ],
          "scattermapbox": [
           {
            "marker": {
             "colorbar": {
              "outlinewidth": 0,
              "ticks": ""
             }
            },
            "type": "scattermapbox"
           }
          ],
          "scatterpolar": [
           {
            "marker": {
             "colorbar": {
              "outlinewidth": 0,
              "ticks": ""
             }
            },
            "type": "scatterpolar"
           }
          ],
          "scatterpolargl": [
           {
            "marker": {
             "colorbar": {
              "outlinewidth": 0,
              "ticks": ""
             }
            },
            "type": "scatterpolargl"
           }
          ],
          "scatterternary": [
           {
            "marker": {
             "colorbar": {
              "outlinewidth": 0,
              "ticks": ""
             }
            },
            "type": "scatterternary"
           }
          ],
          "surface": [
           {
            "colorbar": {
             "outlinewidth": 0,
             "ticks": ""
            },
            "colorscale": [
             [
              0,
              "#0d0887"
             ],
             [
              0.1111111111111111,
              "#46039f"
             ],
             [
              0.2222222222222222,
              "#7201a8"
             ],
             [
              0.3333333333333333,
              "#9c179e"
             ],
             [
              0.4444444444444444,
              "#bd3786"
             ],
             [
              0.5555555555555556,
              "#d8576b"
             ],
             [
              0.6666666666666666,
              "#ed7953"
             ],
             [
              0.7777777777777778,
              "#fb9f3a"
             ],
             [
              0.8888888888888888,
              "#fdca26"
             ],
             [
              1,
              "#f0f921"
             ]
            ],
            "type": "surface"
           }
          ],
          "table": [
           {
            "cells": {
             "fill": {
              "color": "#EBF0F8"
             },
             "line": {
              "color": "white"
             }
            },
            "header": {
             "fill": {
              "color": "#C8D4E3"
             },
             "line": {
              "color": "white"
             }
            },
            "type": "table"
           }
          ]
         },
         "layout": {
          "annotationdefaults": {
           "arrowcolor": "#2a3f5f",
           "arrowhead": 0,
           "arrowwidth": 1
          },
          "autotypenumbers": "strict",
          "coloraxis": {
           "colorbar": {
            "outlinewidth": 0,
            "ticks": ""
           }
          },
          "colorscale": {
           "diverging": [
            [
             0,
             "#8e0152"
            ],
            [
             0.1,
             "#c51b7d"
            ],
            [
             0.2,
             "#de77ae"
            ],
            [
             0.3,
             "#f1b6da"
            ],
            [
             0.4,
             "#fde0ef"
            ],
            [
             0.5,
             "#f7f7f7"
            ],
            [
             0.6,
             "#e6f5d0"
            ],
            [
             0.7,
             "#b8e186"
            ],
            [
             0.8,
             "#7fbc41"
            ],
            [
             0.9,
             "#4d9221"
            ],
            [
             1,
             "#276419"
            ]
           ],
           "sequential": [
            [
             0,
             "#0d0887"
            ],
            [
             0.1111111111111111,
             "#46039f"
            ],
            [
             0.2222222222222222,
             "#7201a8"
            ],
            [
             0.3333333333333333,
             "#9c179e"
            ],
            [
             0.4444444444444444,
             "#bd3786"
            ],
            [
             0.5555555555555556,
             "#d8576b"
            ],
            [
             0.6666666666666666,
             "#ed7953"
            ],
            [
             0.7777777777777778,
             "#fb9f3a"
            ],
            [
             0.8888888888888888,
             "#fdca26"
            ],
            [
             1,
             "#f0f921"
            ]
           ],
           "sequentialminus": [
            [
             0,
             "#0d0887"
            ],
            [
             0.1111111111111111,
             "#46039f"
            ],
            [
             0.2222222222222222,
             "#7201a8"
            ],
            [
             0.3333333333333333,
             "#9c179e"
            ],
            [
             0.4444444444444444,
             "#bd3786"
            ],
            [
             0.5555555555555556,
             "#d8576b"
            ],
            [
             0.6666666666666666,
             "#ed7953"
            ],
            [
             0.7777777777777778,
             "#fb9f3a"
            ],
            [
             0.8888888888888888,
             "#fdca26"
            ],
            [
             1,
             "#f0f921"
            ]
           ]
          },
          "colorway": [
           "#636efa",
           "#EF553B",
           "#00cc96",
           "#ab63fa",
           "#FFA15A",
           "#19d3f3",
           "#FF6692",
           "#B6E880",
           "#FF97FF",
           "#FECB52"
          ],
          "font": {
           "color": "#2a3f5f"
          },
          "geo": {
           "bgcolor": "white",
           "lakecolor": "white",
           "landcolor": "#E5ECF6",
           "showlakes": true,
           "showland": true,
           "subunitcolor": "white"
          },
          "hoverlabel": {
           "align": "left"
          },
          "hovermode": "closest",
          "mapbox": {
           "style": "light"
          },
          "paper_bgcolor": "white",
          "plot_bgcolor": "#E5ECF6",
          "polar": {
           "angularaxis": {
            "gridcolor": "white",
            "linecolor": "white",
            "ticks": ""
           },
           "bgcolor": "#E5ECF6",
           "radialaxis": {
            "gridcolor": "white",
            "linecolor": "white",
            "ticks": ""
           }
          },
          "scene": {
           "xaxis": {
            "backgroundcolor": "#E5ECF6",
            "gridcolor": "white",
            "gridwidth": 2,
            "linecolor": "white",
            "showbackground": true,
            "ticks": "",
            "zerolinecolor": "white"
           },
           "yaxis": {
            "backgroundcolor": "#E5ECF6",
            "gridcolor": "white",
            "gridwidth": 2,
            "linecolor": "white",
            "showbackground": true,
            "ticks": "",
            "zerolinecolor": "white"
           },
           "zaxis": {
            "backgroundcolor": "#E5ECF6",
            "gridcolor": "white",
            "gridwidth": 2,
            "linecolor": "white",
            "showbackground": true,
            "ticks": "",
            "zerolinecolor": "white"
           }
          },
          "shapedefaults": {
           "line": {
            "color": "#2a3f5f"
           }
          },
          "ternary": {
           "aaxis": {
            "gridcolor": "white",
            "linecolor": "white",
            "ticks": ""
           },
           "baxis": {
            "gridcolor": "white",
            "linecolor": "white",
            "ticks": ""
           },
           "bgcolor": "#E5ECF6",
           "caxis": {
            "gridcolor": "white",
            "linecolor": "white",
            "ticks": ""
           }
          },
          "title": {
           "x": 0.05
          },
          "xaxis": {
           "automargin": true,
           "gridcolor": "white",
           "linecolor": "white",
           "ticks": "",
           "title": {
            "standoff": 15
           },
           "zerolinecolor": "white",
           "zerolinewidth": 2
          },
          "yaxis": {
           "automargin": true,
           "gridcolor": "white",
           "linecolor": "white",
           "ticks": "",
           "title": {
            "standoff": 15
           },
           "zerolinecolor": "white",
           "zerolinewidth": 2
          }
         }
        },
        "title": {
         "text": "Loadings Histogram for PC1 (45.9%)"
        },
        "width": 1200,
        "xaxis": {
         "anchor": "y",
         "domain": [
          0,
          1
         ],
         "tickangle": -45,
         "title": {
          "text": "Variable"
         }
        },
        "yaxis": {
         "anchor": "x",
         "domain": [
          0,
          1
         ],
         "title": {
          "text": "PC1"
         }
        }
       }
      }
     },
     "metadata": {},
     "output_type": "display_data"
    },
    {
     "data": {
      "application/vnd.plotly.v1+json": {
       "config": {
        "plotlyServerURL": "https://plot.ly"
       },
       "data": [
        {
         "hovertemplate": "Variable=%{x}<br>PC2=%{y}<extra></extra>",
         "legendgroup": "",
         "marker": {
          "color": "#636efa",
          "pattern": {
           "shape": ""
          }
         },
         "name": "",
         "orientation": "v",
         "showlegend": false,
         "textposition": "auto",
         "texttemplate": "%{y:.2f}",
         "type": "bar",
         "x": [
          "Per Serve Size",
          "Energy (kCal)",
          "Protein (g)",
          "Total fat (g)",
          "Sat Fat (g)",
          "Trans fat (g)",
          "Cholesterols (mg)",
          "Total carbohydrate (g)",
          "Total Sugars (g)",
          "Added Sugars (g)",
          "Sodium (mg)"
         ],
         "xaxis": "x",
         "y": {
          "bdata": "SLIirKry1z+89zdCxYvHP3ZVxdRKzq2/gInygR/WeL/SQMIZfzGyP+AMSioQo7e/3S7r+2Hgub8yQhTHFKjbP10BNpyJ1+E/1rOT0s+G4T84JgyXUK6ivw==",
          "dtype": "f8"
         },
         "yaxis": "y"
        }
       ],
       "layout": {
        "barmode": "relative",
        "height": 700,
        "legend": {
         "tracegroupgap": 0
        },
        "template": {
         "data": {
          "bar": [
           {
            "error_x": {
             "color": "#2a3f5f"
            },
            "error_y": {
             "color": "#2a3f5f"
            },
            "marker": {
             "line": {
              "color": "#E5ECF6",
              "width": 0.5
             },
             "pattern": {
              "fillmode": "overlay",
              "size": 10,
              "solidity": 0.2
             }
            },
            "type": "bar"
           }
          ],
          "barpolar": [
           {
            "marker": {
             "line": {
              "color": "#E5ECF6",
              "width": 0.5
             },
             "pattern": {
              "fillmode": "overlay",
              "size": 10,
              "solidity": 0.2
             }
            },
            "type": "barpolar"
           }
          ],
          "carpet": [
           {
            "aaxis": {
             "endlinecolor": "#2a3f5f",
             "gridcolor": "white",
             "linecolor": "white",
             "minorgridcolor": "white",
             "startlinecolor": "#2a3f5f"
            },
            "baxis": {
             "endlinecolor": "#2a3f5f",
             "gridcolor": "white",
             "linecolor": "white",
             "minorgridcolor": "white",
             "startlinecolor": "#2a3f5f"
            },
            "type": "carpet"
           }
          ],
          "choropleth": [
           {
            "colorbar": {
             "outlinewidth": 0,
             "ticks": ""
            },
            "type": "choropleth"
           }
          ],
          "contour": [
           {
            "colorbar": {
             "outlinewidth": 0,
             "ticks": ""
            },
            "colorscale": [
             [
              0,
              "#0d0887"
             ],
             [
              0.1111111111111111,
              "#46039f"
             ],
             [
              0.2222222222222222,
              "#7201a8"
             ],
             [
              0.3333333333333333,
              "#9c179e"
             ],
             [
              0.4444444444444444,
              "#bd3786"
             ],
             [
              0.5555555555555556,
              "#d8576b"
             ],
             [
              0.6666666666666666,
              "#ed7953"
             ],
             [
              0.7777777777777778,
              "#fb9f3a"
             ],
             [
              0.8888888888888888,
              "#fdca26"
             ],
             [
              1,
              "#f0f921"
             ]
            ],
            "type": "contour"
           }
          ],
          "contourcarpet": [
           {
            "colorbar": {
             "outlinewidth": 0,
             "ticks": ""
            },
            "type": "contourcarpet"
           }
          ],
          "heatmap": [
           {
            "colorbar": {
             "outlinewidth": 0,
             "ticks": ""
            },
            "colorscale": [
             [
              0,
              "#0d0887"
             ],
             [
              0.1111111111111111,
              "#46039f"
             ],
             [
              0.2222222222222222,
              "#7201a8"
             ],
             [
              0.3333333333333333,
              "#9c179e"
             ],
             [
              0.4444444444444444,
              "#bd3786"
             ],
             [
              0.5555555555555556,
              "#d8576b"
             ],
             [
              0.6666666666666666,
              "#ed7953"
             ],
             [
              0.7777777777777778,
              "#fb9f3a"
             ],
             [
              0.8888888888888888,
              "#fdca26"
             ],
             [
              1,
              "#f0f921"
             ]
            ],
            "type": "heatmap"
           }
          ],
          "histogram": [
           {
            "marker": {
             "pattern": {
              "fillmode": "overlay",
              "size": 10,
              "solidity": 0.2
             }
            },
            "type": "histogram"
           }
          ],
          "histogram2d": [
           {
            "colorbar": {
             "outlinewidth": 0,
             "ticks": ""
            },
            "colorscale": [
             [
              0,
              "#0d0887"
             ],
             [
              0.1111111111111111,
              "#46039f"
             ],
             [
              0.2222222222222222,
              "#7201a8"
             ],
             [
              0.3333333333333333,
              "#9c179e"
             ],
             [
              0.4444444444444444,
              "#bd3786"
             ],
             [
              0.5555555555555556,
              "#d8576b"
             ],
             [
              0.6666666666666666,
              "#ed7953"
             ],
             [
              0.7777777777777778,
              "#fb9f3a"
             ],
             [
              0.8888888888888888,
              "#fdca26"
             ],
             [
              1,
              "#f0f921"
             ]
            ],
            "type": "histogram2d"
           }
          ],
          "histogram2dcontour": [
           {
            "colorbar": {
             "outlinewidth": 0,
             "ticks": ""
            },
            "colorscale": [
             [
              0,
              "#0d0887"
             ],
             [
              0.1111111111111111,
              "#46039f"
             ],
             [
              0.2222222222222222,
              "#7201a8"
             ],
             [
              0.3333333333333333,
              "#9c179e"
             ],
             [
              0.4444444444444444,
              "#bd3786"
             ],
             [
              0.5555555555555556,
              "#d8576b"
             ],
             [
              0.6666666666666666,
              "#ed7953"
             ],
             [
              0.7777777777777778,
              "#fb9f3a"
             ],
             [
              0.8888888888888888,
              "#fdca26"
             ],
             [
              1,
              "#f0f921"
             ]
            ],
            "type": "histogram2dcontour"
           }
          ],
          "mesh3d": [
           {
            "colorbar": {
             "outlinewidth": 0,
             "ticks": ""
            },
            "type": "mesh3d"
           }
          ],
          "parcoords": [
           {
            "line": {
             "colorbar": {
              "outlinewidth": 0,
              "ticks": ""
             }
            },
            "type": "parcoords"
           }
          ],
          "pie": [
           {
            "automargin": true,
            "type": "pie"
           }
          ],
          "scatter": [
           {
            "fillpattern": {
             "fillmode": "overlay",
             "size": 10,
             "solidity": 0.2
            },
            "type": "scatter"
           }
          ],
          "scatter3d": [
           {
            "line": {
             "colorbar": {
              "outlinewidth": 0,
              "ticks": ""
             }
            },
            "marker": {
             "colorbar": {
              "outlinewidth": 0,
              "ticks": ""
             }
            },
            "type": "scatter3d"
           }
          ],
          "scattercarpet": [
           {
            "marker": {
             "colorbar": {
              "outlinewidth": 0,
              "ticks": ""
             }
            },
            "type": "scattercarpet"
           }
          ],
          "scattergeo": [
           {
            "marker": {
             "colorbar": {
              "outlinewidth": 0,
              "ticks": ""
             }
            },
            "type": "scattergeo"
           }
          ],
          "scattergl": [
           {
            "marker": {
             "colorbar": {
              "outlinewidth": 0,
              "ticks": ""
             }
            },
            "type": "scattergl"
           }
          ],
          "scattermap": [
           {
            "marker": {
             "colorbar": {
              "outlinewidth": 0,
              "ticks": ""
             }
            },
            "type": "scattermap"
           }
          ],
          "scattermapbox": [
           {
            "marker": {
             "colorbar": {
              "outlinewidth": 0,
              "ticks": ""
             }
            },
            "type": "scattermapbox"
           }
          ],
          "scatterpolar": [
           {
            "marker": {
             "colorbar": {
              "outlinewidth": 0,
              "ticks": ""
             }
            },
            "type": "scatterpolar"
           }
          ],
          "scatterpolargl": [
           {
            "marker": {
             "colorbar": {
              "outlinewidth": 0,
              "ticks": ""
             }
            },
            "type": "scatterpolargl"
           }
          ],
          "scatterternary": [
           {
            "marker": {
             "colorbar": {
              "outlinewidth": 0,
              "ticks": ""
             }
            },
            "type": "scatterternary"
           }
          ],
          "surface": [
           {
            "colorbar": {
             "outlinewidth": 0,
             "ticks": ""
            },
            "colorscale": [
             [
              0,
              "#0d0887"
             ],
             [
              0.1111111111111111,
              "#46039f"
             ],
             [
              0.2222222222222222,
              "#7201a8"
             ],
             [
              0.3333333333333333,
              "#9c179e"
             ],
             [
              0.4444444444444444,
              "#bd3786"
             ],
             [
              0.5555555555555556,
              "#d8576b"
             ],
             [
              0.6666666666666666,
              "#ed7953"
             ],
             [
              0.7777777777777778,
              "#fb9f3a"
             ],
             [
              0.8888888888888888,
              "#fdca26"
             ],
             [
              1,
              "#f0f921"
             ]
            ],
            "type": "surface"
           }
          ],
          "table": [
           {
            "cells": {
             "fill": {
              "color": "#EBF0F8"
             },
             "line": {
              "color": "white"
             }
            },
            "header": {
             "fill": {
              "color": "#C8D4E3"
             },
             "line": {
              "color": "white"
             }
            },
            "type": "table"
           }
          ]
         },
         "layout": {
          "annotationdefaults": {
           "arrowcolor": "#2a3f5f",
           "arrowhead": 0,
           "arrowwidth": 1
          },
          "autotypenumbers": "strict",
          "coloraxis": {
           "colorbar": {
            "outlinewidth": 0,
            "ticks": ""
           }
          },
          "colorscale": {
           "diverging": [
            [
             0,
             "#8e0152"
            ],
            [
             0.1,
             "#c51b7d"
            ],
            [
             0.2,
             "#de77ae"
            ],
            [
             0.3,
             "#f1b6da"
            ],
            [
             0.4,
             "#fde0ef"
            ],
            [
             0.5,
             "#f7f7f7"
            ],
            [
             0.6,
             "#e6f5d0"
            ],
            [
             0.7,
             "#b8e186"
            ],
            [
             0.8,
             "#7fbc41"
            ],
            [
             0.9,
             "#4d9221"
            ],
            [
             1,
             "#276419"
            ]
           ],
           "sequential": [
            [
             0,
             "#0d0887"
            ],
            [
             0.1111111111111111,
             "#46039f"
            ],
            [
             0.2222222222222222,
             "#7201a8"
            ],
            [
             0.3333333333333333,
             "#9c179e"
            ],
            [
             0.4444444444444444,
             "#bd3786"
            ],
            [
             0.5555555555555556,
             "#d8576b"
            ],
            [
             0.6666666666666666,
             "#ed7953"
            ],
            [
             0.7777777777777778,
             "#fb9f3a"
            ],
            [
             0.8888888888888888,
             "#fdca26"
            ],
            [
             1,
             "#f0f921"
            ]
           ],
           "sequentialminus": [
            [
             0,
             "#0d0887"
            ],
            [
             0.1111111111111111,
             "#46039f"
            ],
            [
             0.2222222222222222,
             "#7201a8"
            ],
            [
             0.3333333333333333,
             "#9c179e"
            ],
            [
             0.4444444444444444,
             "#bd3786"
            ],
            [
             0.5555555555555556,
             "#d8576b"
            ],
            [
             0.6666666666666666,
             "#ed7953"
            ],
            [
             0.7777777777777778,
             "#fb9f3a"
            ],
            [
             0.8888888888888888,
             "#fdca26"
            ],
            [
             1,
             "#f0f921"
            ]
           ]
          },
          "colorway": [
           "#636efa",
           "#EF553B",
           "#00cc96",
           "#ab63fa",
           "#FFA15A",
           "#19d3f3",
           "#FF6692",
           "#B6E880",
           "#FF97FF",
           "#FECB52"
          ],
          "font": {
           "color": "#2a3f5f"
          },
          "geo": {
           "bgcolor": "white",
           "lakecolor": "white",
           "landcolor": "#E5ECF6",
           "showlakes": true,
           "showland": true,
           "subunitcolor": "white"
          },
          "hoverlabel": {
           "align": "left"
          },
          "hovermode": "closest",
          "mapbox": {
           "style": "light"
          },
          "paper_bgcolor": "white",
          "plot_bgcolor": "#E5ECF6",
          "polar": {
           "angularaxis": {
            "gridcolor": "white",
            "linecolor": "white",
            "ticks": ""
           },
           "bgcolor": "#E5ECF6",
           "radialaxis": {
            "gridcolor": "white",
            "linecolor": "white",
            "ticks": ""
           }
          },
          "scene": {
           "xaxis": {
            "backgroundcolor": "#E5ECF6",
            "gridcolor": "white",
            "gridwidth": 2,
            "linecolor": "white",
            "showbackground": true,
            "ticks": "",
            "zerolinecolor": "white"
           },
           "yaxis": {
            "backgroundcolor": "#E5ECF6",
            "gridcolor": "white",
            "gridwidth": 2,
            "linecolor": "white",
            "showbackground": true,
            "ticks": "",
            "zerolinecolor": "white"
           },
           "zaxis": {
            "backgroundcolor": "#E5ECF6",
            "gridcolor": "white",
            "gridwidth": 2,
            "linecolor": "white",
            "showbackground": true,
            "ticks": "",
            "zerolinecolor": "white"
           }
          },
          "shapedefaults": {
           "line": {
            "color": "#2a3f5f"
           }
          },
          "ternary": {
           "aaxis": {
            "gridcolor": "white",
            "linecolor": "white",
            "ticks": ""
           },
           "baxis": {
            "gridcolor": "white",
            "linecolor": "white",
            "ticks": ""
           },
           "bgcolor": "#E5ECF6",
           "caxis": {
            "gridcolor": "white",
            "linecolor": "white",
            "ticks": ""
           }
          },
          "title": {
           "x": 0.05
          },
          "xaxis": {
           "automargin": true,
           "gridcolor": "white",
           "linecolor": "white",
           "ticks": "",
           "title": {
            "standoff": 15
           },
           "zerolinecolor": "white",
           "zerolinewidth": 2
          },
          "yaxis": {
           "automargin": true,
           "gridcolor": "white",
           "linecolor": "white",
           "ticks": "",
           "title": {
            "standoff": 15
           },
           "zerolinecolor": "white",
           "zerolinewidth": 2
          }
         }
        },
        "title": {
         "text": "Loadings Histogram for PC2 (24.7%)"
        },
        "width": 1200,
        "xaxis": {
         "anchor": "y",
         "domain": [
          0,
          1
         ],
         "tickangle": -45,
         "title": {
          "text": "Variable"
         }
        },
        "yaxis": {
         "anchor": "x",
         "domain": [
          0,
          1
         ],
         "title": {
          "text": "PC2"
         }
        }
       }
      }
     },
     "metadata": {},
     "output_type": "display_data"
    },
    {
     "data": {
      "application/vnd.plotly.v1+json": {
       "config": {
        "plotlyServerURL": "https://plot.ly"
       },
       "data": [
        {
         "hovertemplate": "Variable=%{x}<br>PC3=%{y}<extra></extra>",
         "legendgroup": "",
         "marker": {
          "color": "#636efa",
          "pattern": {
           "shape": ""
          }
         },
         "name": "",
         "orientation": "v",
         "showlegend": false,
         "textposition": "auto",
         "texttemplate": "%{y:.2f}",
         "type": "bar",
         "x": [
          "Per Serve Size",
          "Energy (kCal)",
          "Protein (g)",
          "Total fat (g)",
          "Sat Fat (g)",
          "Trans fat (g)",
          "Cholesterols (mg)",
          "Total carbohydrate (g)",
          "Total Sugars (g)",
          "Added Sugars (g)",
          "Sodium (mg)"
         ],
         "xaxis": "x",
         "y": {
          "bdata": "klde6lW8wT+Rs3kENLuePyNTU3NcZLk/ujIVOjY3rz+oMKKKj6nHv56NdIfD2e0/vLCJgWYcyL8Mt4BA5me3v3ym7vQOvKU/996AQLmKtj8pYBs3yby3Pw==",
          "dtype": "f8"
         },
         "yaxis": "y"
        }
       ],
       "layout": {
        "barmode": "relative",
        "height": 700,
        "legend": {
         "tracegroupgap": 0
        },
        "template": {
         "data": {
          "bar": [
           {
            "error_x": {
             "color": "#2a3f5f"
            },
            "error_y": {
             "color": "#2a3f5f"
            },
            "marker": {
             "line": {
              "color": "#E5ECF6",
              "width": 0.5
             },
             "pattern": {
              "fillmode": "overlay",
              "size": 10,
              "solidity": 0.2
             }
            },
            "type": "bar"
           }
          ],
          "barpolar": [
           {
            "marker": {
             "line": {
              "color": "#E5ECF6",
              "width": 0.5
             },
             "pattern": {
              "fillmode": "overlay",
              "size": 10,
              "solidity": 0.2
             }
            },
            "type": "barpolar"
           }
          ],
          "carpet": [
           {
            "aaxis": {
             "endlinecolor": "#2a3f5f",
             "gridcolor": "white",
             "linecolor": "white",
             "minorgridcolor": "white",
             "startlinecolor": "#2a3f5f"
            },
            "baxis": {
             "endlinecolor": "#2a3f5f",
             "gridcolor": "white",
             "linecolor": "white",
             "minorgridcolor": "white",
             "startlinecolor": "#2a3f5f"
            },
            "type": "carpet"
           }
          ],
          "choropleth": [
           {
            "colorbar": {
             "outlinewidth": 0,
             "ticks": ""
            },
            "type": "choropleth"
           }
          ],
          "contour": [
           {
            "colorbar": {
             "outlinewidth": 0,
             "ticks": ""
            },
            "colorscale": [
             [
              0,
              "#0d0887"
             ],
             [
              0.1111111111111111,
              "#46039f"
             ],
             [
              0.2222222222222222,
              "#7201a8"
             ],
             [
              0.3333333333333333,
              "#9c179e"
             ],
             [
              0.4444444444444444,
              "#bd3786"
             ],
             [
              0.5555555555555556,
              "#d8576b"
             ],
             [
              0.6666666666666666,
              "#ed7953"
             ],
             [
              0.7777777777777778,
              "#fb9f3a"
             ],
             [
              0.8888888888888888,
              "#fdca26"
             ],
             [
              1,
              "#f0f921"
             ]
            ],
            "type": "contour"
           }
          ],
          "contourcarpet": [
           {
            "colorbar": {
             "outlinewidth": 0,
             "ticks": ""
            },
            "type": "contourcarpet"
           }
          ],
          "heatmap": [
           {
            "colorbar": {
             "outlinewidth": 0,
             "ticks": ""
            },
            "colorscale": [
             [
              0,
              "#0d0887"
             ],
             [
              0.1111111111111111,
              "#46039f"
             ],
             [
              0.2222222222222222,
              "#7201a8"
             ],
             [
              0.3333333333333333,
              "#9c179e"
             ],
             [
              0.4444444444444444,
              "#bd3786"
             ],
             [
              0.5555555555555556,
              "#d8576b"
             ],
             [
              0.6666666666666666,
              "#ed7953"
             ],
             [
              0.7777777777777778,
              "#fb9f3a"
             ],
             [
              0.8888888888888888,
              "#fdca26"
             ],
             [
              1,
              "#f0f921"
             ]
            ],
            "type": "heatmap"
           }
          ],
          "histogram": [
           {
            "marker": {
             "pattern": {
              "fillmode": "overlay",
              "size": 10,
              "solidity": 0.2
             }
            },
            "type": "histogram"
           }
          ],
          "histogram2d": [
           {
            "colorbar": {
             "outlinewidth": 0,
             "ticks": ""
            },
            "colorscale": [
             [
              0,
              "#0d0887"
             ],
             [
              0.1111111111111111,
              "#46039f"
             ],
             [
              0.2222222222222222,
              "#7201a8"
             ],
             [
              0.3333333333333333,
              "#9c179e"
             ],
             [
              0.4444444444444444,
              "#bd3786"
             ],
             [
              0.5555555555555556,
              "#d8576b"
             ],
             [
              0.6666666666666666,
              "#ed7953"
             ],
             [
              0.7777777777777778,
              "#fb9f3a"
             ],
             [
              0.8888888888888888,
              "#fdca26"
             ],
             [
              1,
              "#f0f921"
             ]
            ],
            "type": "histogram2d"
           }
          ],
          "histogram2dcontour": [
           {
            "colorbar": {
             "outlinewidth": 0,
             "ticks": ""
            },
            "colorscale": [
             [
              0,
              "#0d0887"
             ],
             [
              0.1111111111111111,
              "#46039f"
             ],
             [
              0.2222222222222222,
              "#7201a8"
             ],
             [
              0.3333333333333333,
              "#9c179e"
             ],
             [
              0.4444444444444444,
              "#bd3786"
             ],
             [
              0.5555555555555556,
              "#d8576b"
             ],
             [
              0.6666666666666666,
              "#ed7953"
             ],
             [
              0.7777777777777778,
              "#fb9f3a"
             ],
             [
              0.8888888888888888,
              "#fdca26"
             ],
             [
              1,
              "#f0f921"
             ]
            ],
            "type": "histogram2dcontour"
           }
          ],
          "mesh3d": [
           {
            "colorbar": {
             "outlinewidth": 0,
             "ticks": ""
            },
            "type": "mesh3d"
           }
          ],
          "parcoords": [
           {
            "line": {
             "colorbar": {
              "outlinewidth": 0,
              "ticks": ""
             }
            },
            "type": "parcoords"
           }
          ],
          "pie": [
           {
            "automargin": true,
            "type": "pie"
           }
          ],
          "scatter": [
           {
            "fillpattern": {
             "fillmode": "overlay",
             "size": 10,
             "solidity": 0.2
            },
            "type": "scatter"
           }
          ],
          "scatter3d": [
           {
            "line": {
             "colorbar": {
              "outlinewidth": 0,
              "ticks": ""
             }
            },
            "marker": {
             "colorbar": {
              "outlinewidth": 0,
              "ticks": ""
             }
            },
            "type": "scatter3d"
           }
          ],
          "scattercarpet": [
           {
            "marker": {
             "colorbar": {
              "outlinewidth": 0,
              "ticks": ""
             }
            },
            "type": "scattercarpet"
           }
          ],
          "scattergeo": [
           {
            "marker": {
             "colorbar": {
              "outlinewidth": 0,
              "ticks": ""
             }
            },
            "type": "scattergeo"
           }
          ],
          "scattergl": [
           {
            "marker": {
             "colorbar": {
              "outlinewidth": 0,
              "ticks": ""
             }
            },
            "type": "scattergl"
           }
          ],
          "scattermap": [
           {
            "marker": {
             "colorbar": {
              "outlinewidth": 0,
              "ticks": ""
             }
            },
            "type": "scattermap"
           }
          ],
          "scattermapbox": [
           {
            "marker": {
             "colorbar": {
              "outlinewidth": 0,
              "ticks": ""
             }
            },
            "type": "scattermapbox"
           }
          ],
          "scatterpolar": [
           {
            "marker": {
             "colorbar": {
              "outlinewidth": 0,
              "ticks": ""
             }
            },
            "type": "scatterpolar"
           }
          ],
          "scatterpolargl": [
           {
            "marker": {
             "colorbar": {
              "outlinewidth": 0,
              "ticks": ""
             }
            },
            "type": "scatterpolargl"
           }
          ],
          "scatterternary": [
           {
            "marker": {
             "colorbar": {
              "outlinewidth": 0,
              "ticks": ""
             }
            },
            "type": "scatterternary"
           }
          ],
          "surface": [
           {
            "colorbar": {
             "outlinewidth": 0,
             "ticks": ""
            },
            "colorscale": [
             [
              0,
              "#0d0887"
             ],
             [
              0.1111111111111111,
              "#46039f"
             ],
             [
              0.2222222222222222,
              "#7201a8"
             ],
             [
              0.3333333333333333,
              "#9c179e"
             ],
             [
              0.4444444444444444,
              "#bd3786"
             ],
             [
              0.5555555555555556,
              "#d8576b"
             ],
             [
              0.6666666666666666,
              "#ed7953"
             ],
             [
              0.7777777777777778,
              "#fb9f3a"
             ],
             [
              0.8888888888888888,
              "#fdca26"
             ],
             [
              1,
              "#f0f921"
             ]
            ],
            "type": "surface"
           }
          ],
          "table": [
           {
            "cells": {
             "fill": {
              "color": "#EBF0F8"
             },
             "line": {
              "color": "white"
             }
            },
            "header": {
             "fill": {
              "color": "#C8D4E3"
             },
             "line": {
              "color": "white"
             }
            },
            "type": "table"
           }
          ]
         },
         "layout": {
          "annotationdefaults": {
           "arrowcolor": "#2a3f5f",
           "arrowhead": 0,
           "arrowwidth": 1
          },
          "autotypenumbers": "strict",
          "coloraxis": {
           "colorbar": {
            "outlinewidth": 0,
            "ticks": ""
           }
          },
          "colorscale": {
           "diverging": [
            [
             0,
             "#8e0152"
            ],
            [
             0.1,
             "#c51b7d"
            ],
            [
             0.2,
             "#de77ae"
            ],
            [
             0.3,
             "#f1b6da"
            ],
            [
             0.4,
             "#fde0ef"
            ],
            [
             0.5,
             "#f7f7f7"
            ],
            [
             0.6,
             "#e6f5d0"
            ],
            [
             0.7,
             "#b8e186"
            ],
            [
             0.8,
             "#7fbc41"
            ],
            [
             0.9,
             "#4d9221"
            ],
            [
             1,
             "#276419"
            ]
           ],
           "sequential": [
            [
             0,
             "#0d0887"
            ],
            [
             0.1111111111111111,
             "#46039f"
            ],
            [
             0.2222222222222222,
             "#7201a8"
            ],
            [
             0.3333333333333333,
             "#9c179e"
            ],
            [
             0.4444444444444444,
             "#bd3786"
            ],
            [
             0.5555555555555556,
             "#d8576b"
            ],
            [
             0.6666666666666666,
             "#ed7953"
            ],
            [
             0.7777777777777778,
             "#fb9f3a"
            ],
            [
             0.8888888888888888,
             "#fdca26"
            ],
            [
             1,
             "#f0f921"
            ]
           ],
           "sequentialminus": [
            [
             0,
             "#0d0887"
            ],
            [
             0.1111111111111111,
             "#46039f"
            ],
            [
             0.2222222222222222,
             "#7201a8"
            ],
            [
             0.3333333333333333,
             "#9c179e"
            ],
            [
             0.4444444444444444,
             "#bd3786"
            ],
            [
             0.5555555555555556,
             "#d8576b"
            ],
            [
             0.6666666666666666,
             "#ed7953"
            ],
            [
             0.7777777777777778,
             "#fb9f3a"
            ],
            [
             0.8888888888888888,
             "#fdca26"
            ],
            [
             1,
             "#f0f921"
            ]
           ]
          },
          "colorway": [
           "#636efa",
           "#EF553B",
           "#00cc96",
           "#ab63fa",
           "#FFA15A",
           "#19d3f3",
           "#FF6692",
           "#B6E880",
           "#FF97FF",
           "#FECB52"
          ],
          "font": {
           "color": "#2a3f5f"
          },
          "geo": {
           "bgcolor": "white",
           "lakecolor": "white",
           "landcolor": "#E5ECF6",
           "showlakes": true,
           "showland": true,
           "subunitcolor": "white"
          },
          "hoverlabel": {
           "align": "left"
          },
          "hovermode": "closest",
          "mapbox": {
           "style": "light"
          },
          "paper_bgcolor": "white",
          "plot_bgcolor": "#E5ECF6",
          "polar": {
           "angularaxis": {
            "gridcolor": "white",
            "linecolor": "white",
            "ticks": ""
           },
           "bgcolor": "#E5ECF6",
           "radialaxis": {
            "gridcolor": "white",
            "linecolor": "white",
            "ticks": ""
           }
          },
          "scene": {
           "xaxis": {
            "backgroundcolor": "#E5ECF6",
            "gridcolor": "white",
            "gridwidth": 2,
            "linecolor": "white",
            "showbackground": true,
            "ticks": "",
            "zerolinecolor": "white"
           },
           "yaxis": {
            "backgroundcolor": "#E5ECF6",
            "gridcolor": "white",
            "gridwidth": 2,
            "linecolor": "white",
            "showbackground": true,
            "ticks": "",
            "zerolinecolor": "white"
           },
           "zaxis": {
            "backgroundcolor": "#E5ECF6",
            "gridcolor": "white",
            "gridwidth": 2,
            "linecolor": "white",
            "showbackground": true,
            "ticks": "",
            "zerolinecolor": "white"
           }
          },
          "shapedefaults": {
           "line": {
            "color": "#2a3f5f"
           }
          },
          "ternary": {
           "aaxis": {
            "gridcolor": "white",
            "linecolor": "white",
            "ticks": ""
           },
           "baxis": {
            "gridcolor": "white",
            "linecolor": "white",
            "ticks": ""
           },
           "bgcolor": "#E5ECF6",
           "caxis": {
            "gridcolor": "white",
            "linecolor": "white",
            "ticks": ""
           }
          },
          "title": {
           "x": 0.05
          },
          "xaxis": {
           "automargin": true,
           "gridcolor": "white",
           "linecolor": "white",
           "ticks": "",
           "title": {
            "standoff": 15
           },
           "zerolinecolor": "white",
           "zerolinewidth": 2
          },
          "yaxis": {
           "automargin": true,
           "gridcolor": "white",
           "linecolor": "white",
           "ticks": "",
           "title": {
            "standoff": 15
           },
           "zerolinecolor": "white",
           "zerolinewidth": 2
          }
         }
        },
        "title": {
         "text": "Loadings Histogram for PC3 (9.7%)"
        },
        "width": 1200,
        "xaxis": {
         "anchor": "y",
         "domain": [
          0,
          1
         ],
         "tickangle": -45,
         "title": {
          "text": "Variable"
         }
        },
        "yaxis": {
         "anchor": "x",
         "domain": [
          0,
          1
         ],
         "title": {
          "text": "PC3"
         }
        }
       }
      }
     },
     "metadata": {},
     "output_type": "display_data"
    },
    {
     "data": {
      "application/vnd.plotly.v1+json": {
       "config": {
        "plotlyServerURL": "https://plot.ly"
       },
       "data": [
        {
         "hovertemplate": "Menu Category=Regular Menu<br>Hotelling's T²=%{x}<br>Q Residuals=%{y}<br>Menu Items=%{text}<extra></extra>",
         "legendgroup": "Regular Menu",
         "marker": {
          "color": "#636efa",
          "line": {
           "color": "DarkSlateGrey",
           "width": 0.5
          },
          "size": 9,
          "symbol": "circle"
         },
         "mode": "markers+text",
         "name": "Regular Menu",
         "orientation": "v",
         "showlegend": true,
         "text": [
          "McVeggie™ Burger",
          "McAloo Tikki Burger®",
          "McSpicy™ Paneer Burger",
          "Spicy Paneer Wrap",
          "American Veg Burger",
          "Veg Maharaja Mac",
          "Green Chilli Aloo Naan",
          "Pizza Puff",
          "Mc chicken Burger",
          "FILLET-O-FISH Burger",
          "Mc Spicy Chicken Burger",
          "Spicy Chicken Wrap",
          "Chicken Maharaja Mac",
          "American Chicken Burger",
          "Chicken Kebab Burger",
          "Green Chilli Kebab naan",
          "Mc Egg Masala Burger",
          "Mc Egg Burger for Happy Meal",
          "Ghee Rice with Mc Spicy Fried Chicken 1 pc",
          "McSpicy Fried Chicken 1 pc",
          "4 piece Chicken McNuggets",
          "6 piece Chicken McNuggets",
          "9 piece Chicken McNuggets",
          "2 piece Chicken Strips",
          "3 piece Chicken Strips",
          "5 piece Chicken Strips",
          "Regular Fries",
          "Medium Fries",
          "Large Fries",
          "Regular Wedges",
          "Medium Wedges",
          "Large Wedges",
          "L1 Coffee",
          "L1 Coffee with milk",
          "Double Chocochips Muffin",
          "Vanilla Chocochips Muffin"
         ],
         "textposition": "top center",
         "type": "scatter",
         "x": {
          "bdata": "diH7Vlql1T/T+W+TSrO9P66hhdWOiRFA5+ChGotuFUD4MweLGvr8P5hjewsWMCFA9jIYXjBU1T8sFADCwJvkPwobyuc8vuQ/5BFSuy4i4D86um1rlOr4P/U6ATHqFg1APUpoZriyGkDo9RFIAFH6P19PHzDl+co/SLnRQM+c2D8/jrg1Yjv0Px799Spe+/A/caxeCb9QF0D5aeSfsbH1P1XrrBGSDvY/Qh78NIYp8z8rdybvVo/9P44dOF22pPk/WyQ0YnlFAEBGUIQZKqwSQLqzrc6T+OY/k28PjyL71j8fM3e4t/LgPx6FNV/QqeQ/vB/wVSAk0j9+yTibIP/TP7h+20SWLgJATjkOsPne/D9ZNtADXAO2P8yHxmBNhL8/",
          "dtype": "f8"
         },
         "xaxis": "x",
         "y": {
          "bdata": "AAAAAECL6TkAAAAA8IQDOgAAAAAgXx46AAAAAGiyCToAAAAAEgDnOQAAAACgmgE6AAAAAKAj6jkAAAAAAAzkOQAAAACgcuY5AAAAAED40jkAAAAAQAjUOQAAAACA7OI5AAAAAJDD9TkAAAAAIMfhOQAAAACg6eM5AAAAQAaI1DkAAAAAgAkCOgAAACDvcQI6AAAAACzWCzoAAAAA0rvkOQAAAACgUsw5AAAAAEDT2zkAAAAAALjgOQAAAADApuQ5AAAAQOog8jkAAAAAACAROgAAAABqpuo5AAAAACDc7jkAAAAA4Gn2OQAAAABEA9Y5AAAAANBt2DkAAAAgdiLhOQAAAAAAYdI5AAAAAABR0TkAAAAAgAn1OQAAAACAxPc5",
          "dtype": "f8"
         },
         "yaxis": "y"
        },
        {
         "hovertemplate": "Menu Category=Breakfast Menu<br>Hotelling's T²=%{x}<br>Q Residuals=%{y}<br>Menu Items=%{text}<extra></extra>",
         "legendgroup": "Breakfast Menu",
         "marker": {
          "color": "#EF553B",
          "line": {
           "color": "DarkSlateGrey",
           "width": 0.5
          },
          "size": 9,
          "symbol": "circle"
         },
         "mode": "markers+text",
         "name": "Breakfast Menu",
         "orientation": "v",
         "showlegend": true,
         "text": [
          "Veg McMuffin",
          "Double Cheese McMuffin",
          "Spicy Egg McMuffin",
          "Sausage Mc Muffin",
          "Sausage Mc Muffin with egg",
          "Egg McMuffin",
          "Hot Cake with maple syrup",
          "Hash Brown",
          "Espresso",
          "Espresso Machiato",
          "Americano (S)",
          "Americano (R)",
          "Americano (L)",
          "Cappuccino (S)",
          "Cappuccino (R)"
         ],
         "textposition": "top center",
         "type": "scatter",
         "x": {
          "bdata": "onhrPt0q4z+29JcN4VLoP0kTBpAeI/c/+q4TdZiQ7j9wYwGmHHAGQHJlKTXFZPw/ciVUm6207j+Bg7U25bf0Pwwdtt13IAdAlSXWKdq8AEC2+JbENyP/P9rpIPDZMPo/gMptYJos9j9WNddwtXHlP/5m0W1b6MI/",
          "dtype": "f8"
         },
         "xaxis": "x",
         "y": {
          "bdata": "AAAAAEAF2zkAAAAAQDLdOQAAAIBAlgE6AAAAAAAowDkAAAAAKJEHOgAAAADATw86AAAAAAj65DkAAAAAgIbiOQAAAABAztw5AAAAAEBs0TkAAAAAAJ3XOQAAAAAAMOQ5AAAAABBD+jkAAAAAiAXFOQAAAADQvtM5",
          "dtype": "f8"
         },
         "yaxis": "y"
        },
        {
         "hovertemplate": "Menu Category=McCafe Menu<br>Hotelling's T²=%{x}<br>Q Residuals=%{y}<br>Menu Items=%{text}<extra></extra>",
         "legendgroup": "McCafe Menu",
         "marker": {
          "color": "#00cc96",
          "line": {
           "color": "DarkSlateGrey",
           "width": 0.5
          },
          "size": 9,
          "symbol": "circle"
         },
         "mode": "markers+text",
         "name": "McCafe Menu",
         "orientation": "v",
         "showlegend": true,
         "text": [
          "Cappuccino (L)",
          "Latte (S)",
          "Latte (R)",
          "Latte (L)",
          "Flat White (S)",
          "Flat White (R)",
          "Flat White (L)",
          "Mocha (S)",
          "Mocha (R)",
          "Mocha (L)",
          "Babycino",
          "Hot Chocolate (S)",
          "Hot Chocolate (R)",
          "Hot Chocolate (L)",
          "Premium Dark Hot Chocolate",
          "Double Dark Hot Chocolate",
          "English Breakfast (S)",
          "English Breakfast (R)",
          "English Breakfast (L)",
          "Moroccon Mint Green Tea (S)",
          "Moroccon Mint Green Tea (R)",
          "Moroccon Mint Green Tea (L)",
          "Strawberry Green Tea (S)",
          "Strawberry Green Tea (R)",
          "Strawberry Green Tea (L)",
          "Lemon Ice Tea",
          "Strawberry Ice Tea",
          "Green Apple Ice Tea",
          "Iced Coffee",
          "Cold Coffee Frappe",
          "Mocha Frappe",
          "Chocolate Oreo Frappe",
          "Strawberry Shake",
          "Chocolate Shake",
          "Mango Smoothie",
          "Mixed Berry Smoothie",
          "Raw Mango Cooler",
          "Mix Berry Cooler",
          "Sweet Lime Beverage",
          "Iced Americano",
          "American Mud Pie Shake",
          "Soft serve cone",
          "McSwirl ChocoDip",
          "Regular Soft Serve: Hot Fudge",
          "Medium Soft Serve: Hot Fudge",
          "Regular Soft Serve: Strawberry",
          "Medium Soft Serve: Strawberry",
          "Regular Soft Serve: Brownie with Hot Fudge",
          "Medium Soft Serve: Brownie with Hot Fudge",
          "Regular Blackforest",
          "Medium Blackforest"
         ],
         "textposition": "top center",
         "type": "scatter",
         "x": {
          "bdata": "eqe+5ywNoj9MeSjm6c7aP8icRo1Rt70/6FkZ/TjgoT8SzD1eA1XQP6tWspiLlqU/r2gGYcbssj9Eie5KRQSvP3y0SLrrHb0/ufbmK0Mm5j8HYXhKOqnVP1lrTHvXEdQ/0BriTlHJ8z9f5DeqKVoJQC+a8HgdMbQ/5HyCqg7isT/UOfus1wb/P+5map4KUvw/osSrDm729j+P7+xVxu39P+f2t2zEIfs/e5h5B4659T/KoGGzJM/9P9X6cu82/vo/WBgWC3eG9T86fqJqtUnzP+p6PBUyr+4/ELXqIclS7j+WuCcC0+LhPzlgAqs6K/0/gCB47vvLEUDsTUwVEtcdQMU7NBf4jfk/QKCP/Kop+T+8xFrt6b7+PwmgOrfgOARArXlMw2im7z9tVITKJFDxP7Odqbt2Ofk/FqW0zj5z2j+4FGszzg8TQD5Fmi8EKvE/xMY5KNsO0z9CLssdp+rgP8DFagWx6Mk/sUg/aa385j8RnFxij27iPxBYI30E38Q/OoR9UBCE4z9oCmORATfZP9SVLyh3nBBA",
          "dtype": "f8"
         },
         "xaxis": "x",
         "y": {
          "bdata": "AAAAAMi84jkAAAAAAJPHOQAAAAAQotk5AAAAIOPK5DkAAAAAINPMOQAAAAAgFOU5AAAAABgp8DkAAAAAACK1OQAAABDmD9A5AAAAAIAK4DkAAAAAADm5OQAAAIAQqMQ5AAAAAHrW4DkAAAAABPLyOQAAAAAAJcQ5AAAAAIBd3DkAAAAAACzaOQAAAAAIduY5AAAAAJDc9jkAAAAAQPTYOQAAAABIpeQ5AAAAAARZ9zkAAAAAQMrZOQAAAAAgJuI5AAAAAMQv9zkAAAAAQNDYOQAAAACAhtM5AAAAAEBj3DkAAAAAkHDVOQAAAACABuQ5AAAAACBG6TkAAAAAIOb0OQAAAAAgJuY5AAAAAADR4TkAAAAAQPLgOQAAAAAoBOo5AAAAAAAd2zkAAAAAAPjmOQAAAACA+OI5AAAAAIDIxDkAAAAAgG3zOQAAAACASs45AAAAAGCl1TkAAAAApCDROQAAAABAC9I5AAAAAAAuzTkAAAAAxILROQAAAABA49A5AAAAANDP3TkAAAAA0K3dOQAAAABQV/E5",
          "dtype": "f8"
         },
         "yaxis": "y"
        },
        {
         "hovertemplate": "Menu Category=Desserts Menu<br>Hotelling's T²=%{x}<br>Q Residuals=%{y}<br>Menu Items=%{text}<extra></extra>",
         "legendgroup": "Desserts Menu",
         "marker": {
          "color": "#ab63fa",
          "line": {
           "color": "DarkSlateGrey",
           "width": 0.5
          },
          "size": 9,
          "symbol": "circle"
         },
         "mode": "markers+text",
         "name": "Desserts Menu",
         "orientation": "v",
         "showlegend": true,
         "text": [
          "Small McFlurry - Oreo",
          "Regular McFlurry - Oreo"
         ],
         "textposition": "top center",
         "type": "scatter",
         "x": {
          "bdata": "Uk45tVxH5D/M8J+B7g3QPw==",
          "dtype": "f8"
         },
         "xaxis": "x",
         "y": {
          "bdata": "AAAAAKBy0DkAAAAAgKPQOQ==",
          "dtype": "f8"
         },
         "yaxis": "y"
        },
        {
         "hovertemplate": "Menu Category=Gourmet Menu<br>Hotelling's T²=%{x}<br>Q Residuals=%{y}<br>Menu Items=%{text}<extra></extra>",
         "legendgroup": "Gourmet Menu",
         "marker": {
          "color": "#FFA15A",
          "line": {
           "color": "DarkSlateGrey",
           "width": 0.5
          },
          "size": 9,
          "symbol": "circle"
         },
         "mode": "markers+text",
         "name": "Gourmet Menu",
         "orientation": "v",
         "showlegend": true,
         "text": [
          "American Triple Cheese Chicken",
          "American Triple Cheese Veg",
          "Cheese Lava Burger",
          "Chicken Cheese Lava Burger",
          "Chunky Chipotle American Burger Chicken",
          "McSpicy Premium Chicken Burger",
          "McSpicy Premium Veg Burger",
          "Piri piri Mc Spicy Chicken Burger",
          "Piri piri Mc Spicy Veg Burger",
          "Cheesy Veg Nuggets (6pc)",
          "Cheesy Veg Nuggets (9pc)"
         ],
         "textposition": "top center",
         "type": "scatter",
         "x": {
          "bdata": "lNcChjcXBkD+h0ZFdbcGQHInF39qVBFAsex7MBGXI0BtV69C0A0aQHHAgwKjhyFAnOtyOBvGFkBPtaIdemTpPzXriuJBPPY/DMlWGrVM6T8Okj08+QvxPw==",
          "dtype": "f8"
         },
         "xaxis": "x",
         "y": {
          "bdata": "AAAAAADM5zkAAAAAoAjkOQAAAADRivM5AAAAAMhXAToAAAAAyBUGOgAAAABI9g86AAAAANAnAjqwmRlFLlrqOQAAAABQRvQ5AAAAAIBS3TkAAAAAwCDpOQ==",
          "dtype": "f8"
         },
         "yaxis": "y"
        },
        {
         "hovertemplate": "Menu Category=Beverages Menu<br>Hotelling's T²=%{x}<br>Q Residuals=%{y}<br>Menu Items=%{text}<extra></extra>",
         "legendgroup": "Beverages Menu",
         "marker": {
          "color": "#19d3f3",
          "line": {
           "color": "DarkSlateGrey",
           "width": 0.5
          },
          "size": 9,
          "symbol": "circle"
         },
         "mode": "markers+text",
         "name": "Beverages Menu",
         "orientation": "v",
         "showlegend": true,
         "text": [
          "Small Coca-Cola",
          "Medium Coca-Cola",
          "Large Coca-Cola",
          "Small Fanta Oragne",
          "Medium Fanta Orange",
          "Large Fanta Oragne",
          "Small Thums-up",
          "Medium Thums-up",
          "Large Thums-up",
          "Small Sprite",
          "Medium Sprite",
          "Large Sprite",
          "Coke Float",
          "Fanta Float",
          "Sprite Float",
          "Coke Zero Can",
          "Vedica Natural Mineral Water"
         ],
         "textposition": "top center",
         "type": "scatter",
         "x": {
          "bdata": "AjAoMl+29z9aqgEutOUJQDosGf5RPyFASvxVSbMB/z9lp/VjSUwSQAtLWwb7SyhA9NoLjo/b9D+0pnH5HV0FQKF1Z6XaVRxApKIDeUl++z++BVfImUUPQMvvrz07viRAiEI0pVTN8T9DxHtPSRH2P2DXzZ2s4fM/iBpXjrHx/j/O7oy1T3z5Pw==",
          "dtype": "f8"
         },
         "xaxis": "x",
         "y": {
          "bdata": "AAAAACAI5TkAAAAAQNL5OQAAAACgKQ86AAAAAAgQ6DkAAAAAAJH7OQAAAAAoHws6AAAAACAt5DkAAAAAEP73OQAAAACANgc6AAAAAEBa5jkAAAAAkD/6OQAAAABtyRE6AAAAAIDY2zkAAAAAgHziOQAAAAAok+M5AAAAAIAM6TkAAAAAkLL0OQ==",
          "dtype": "f8"
         },
         "yaxis": "y"
        },
        {
         "hovertemplate": "Menu Category=Condiments Menu<br>Hotelling's T²=%{x}<br>Q Residuals=%{y}<br>Menu Items=%{text}<extra></extra>",
         "legendgroup": "Condiments Menu",
         "marker": {
          "color": "#FF6692",
          "line": {
           "color": "DarkSlateGrey",
           "width": 0.5
          },
          "size": 9,
          "symbol": "circle"
         },
         "mode": "markers+text",
         "name": "Condiments Menu",
         "orientation": "v",
         "showlegend": true,
         "text": [
          "Mustard diping sauce",
          "BBQ diping sauce",
          "Chilli Sauce",
          "Piri Piri Mix",
          "Tomato Ketchup Sachets",
          "Maple Syrup",
          "Cheese Slice",
          "Sweet Corn",
          "Mixed Fruit Beverage"
         ],
         "textposition": "top center",
         "type": "scatter",
         "x": {
          "bdata": "EKIez7cJ+T/Dv2EF1aP8Pz+Ey0fPrAZAMSUlgqBuBUDk/uY17NoAQF2oXhRGTfI/EJS0+eEmA0Ds30BOO2ECQGSE2EZnbfE/",
          "dtype": "f8"
         },
         "xaxis": "x",
         "y": {
          "bdata": "AAAAACCm7zkAAAAAIDDpOQAAAACAcOY5AAAAAEAT7TkAAAAAyKUHOgAAAAAgcuE5AAAAAAC85zkAAAAAgEjhOQAAAAAApb45",
          "dtype": "f8"
         },
         "yaxis": "y"
        }
       ],
       "layout": {
        "height": 700,
        "legend": {
         "title": {
          "text": "Menu Category"
         },
         "tracegroupgap": 0
        },
        "template": {
         "data": {
          "bar": [
           {
            "error_x": {
             "color": "#2a3f5f"
            },
            "error_y": {
             "color": "#2a3f5f"
            },
            "marker": {
             "line": {
              "color": "#E5ECF6",
              "width": 0.5
             },
             "pattern": {
              "fillmode": "overlay",
              "size": 10,
              "solidity": 0.2
             }
            },
            "type": "bar"
           }
          ],
          "barpolar": [
           {
            "marker": {
             "line": {
              "color": "#E5ECF6",
              "width": 0.5
             },
             "pattern": {
              "fillmode": "overlay",
              "size": 10,
              "solidity": 0.2
             }
            },
            "type": "barpolar"
           }
          ],
          "carpet": [
           {
            "aaxis": {
             "endlinecolor": "#2a3f5f",
             "gridcolor": "white",
             "linecolor": "white",
             "minorgridcolor": "white",
             "startlinecolor": "#2a3f5f"
            },
            "baxis": {
             "endlinecolor": "#2a3f5f",
             "gridcolor": "white",
             "linecolor": "white",
             "minorgridcolor": "white",
             "startlinecolor": "#2a3f5f"
            },
            "type": "carpet"
           }
          ],
          "choropleth": [
           {
            "colorbar": {
             "outlinewidth": 0,
             "ticks": ""
            },
            "type": "choropleth"
           }
          ],
          "contour": [
           {
            "colorbar": {
             "outlinewidth": 0,
             "ticks": ""
            },
            "colorscale": [
             [
              0,
              "#0d0887"
             ],
             [
              0.1111111111111111,
              "#46039f"
             ],
             [
              0.2222222222222222,
              "#7201a8"
             ],
             [
              0.3333333333333333,
              "#9c179e"
             ],
             [
              0.4444444444444444,
              "#bd3786"
             ],
             [
              0.5555555555555556,
              "#d8576b"
             ],
             [
              0.6666666666666666,
              "#ed7953"
             ],
             [
              0.7777777777777778,
              "#fb9f3a"
             ],
             [
              0.8888888888888888,
              "#fdca26"
             ],
             [
              1,
              "#f0f921"
             ]
            ],
            "type": "contour"
           }
          ],
          "contourcarpet": [
           {
            "colorbar": {
             "outlinewidth": 0,
             "ticks": ""
            },
            "type": "contourcarpet"
           }
          ],
          "heatmap": [
           {
            "colorbar": {
             "outlinewidth": 0,
             "ticks": ""
            },
            "colorscale": [
             [
              0,
              "#0d0887"
             ],
             [
              0.1111111111111111,
              "#46039f"
             ],
             [
              0.2222222222222222,
              "#7201a8"
             ],
             [
              0.3333333333333333,
              "#9c179e"
             ],
             [
              0.4444444444444444,
              "#bd3786"
             ],
             [
              0.5555555555555556,
              "#d8576b"
             ],
             [
              0.6666666666666666,
              "#ed7953"
             ],
             [
              0.7777777777777778,
              "#fb9f3a"
             ],
             [
              0.8888888888888888,
              "#fdca26"
             ],
             [
              1,
              "#f0f921"
             ]
            ],
            "type": "heatmap"
           }
          ],
          "histogram": [
           {
            "marker": {
             "pattern": {
              "fillmode": "overlay",
              "size": 10,
              "solidity": 0.2
             }
            },
            "type": "histogram"
           }
          ],
          "histogram2d": [
           {
            "colorbar": {
             "outlinewidth": 0,
             "ticks": ""
            },
            "colorscale": [
             [
              0,
              "#0d0887"
             ],
             [
              0.1111111111111111,
              "#46039f"
             ],
             [
              0.2222222222222222,
              "#7201a8"
             ],
             [
              0.3333333333333333,
              "#9c179e"
             ],
             [
              0.4444444444444444,
              "#bd3786"
             ],
             [
              0.5555555555555556,
              "#d8576b"
             ],
             [
              0.6666666666666666,
              "#ed7953"
             ],
             [
              0.7777777777777778,
              "#fb9f3a"
             ],
             [
              0.8888888888888888,
              "#fdca26"
             ],
             [
              1,
              "#f0f921"
             ]
            ],
            "type": "histogram2d"
           }
          ],
          "histogram2dcontour": [
           {
            "colorbar": {
             "outlinewidth": 0,
             "ticks": ""
            },
            "colorscale": [
             [
              0,
              "#0d0887"
             ],
             [
              0.1111111111111111,
              "#46039f"
             ],
             [
              0.2222222222222222,
              "#7201a8"
             ],
             [
              0.3333333333333333,
              "#9c179e"
             ],
             [
              0.4444444444444444,
              "#bd3786"
             ],
             [
              0.5555555555555556,
              "#d8576b"
             ],
             [
              0.6666666666666666,
              "#ed7953"
             ],
             [
              0.7777777777777778,
              "#fb9f3a"
             ],
             [
              0.8888888888888888,
              "#fdca26"
             ],
             [
              1,
              "#f0f921"
             ]
            ],
            "type": "histogram2dcontour"
           }
          ],
          "mesh3d": [
           {
            "colorbar": {
             "outlinewidth": 0,
             "ticks": ""
            },
            "type": "mesh3d"
           }
          ],
          "parcoords": [
           {
            "line": {
             "colorbar": {
              "outlinewidth": 0,
              "ticks": ""
             }
            },
            "type": "parcoords"
           }
          ],
          "pie": [
           {
            "automargin": true,
            "type": "pie"
           }
          ],
          "scatter": [
           {
            "fillpattern": {
             "fillmode": "overlay",
             "size": 10,
             "solidity": 0.2
            },
            "type": "scatter"
           }
          ],
          "scatter3d": [
           {
            "line": {
             "colorbar": {
              "outlinewidth": 0,
              "ticks": ""
             }
            },
            "marker": {
             "colorbar": {
              "outlinewidth": 0,
              "ticks": ""
             }
            },
            "type": "scatter3d"
           }
          ],
          "scattercarpet": [
           {
            "marker": {
             "colorbar": {
              "outlinewidth": 0,
              "ticks": ""
             }
            },
            "type": "scattercarpet"
           }
          ],
          "scattergeo": [
           {
            "marker": {
             "colorbar": {
              "outlinewidth": 0,
              "ticks": ""
             }
            },
            "type": "scattergeo"
           }
          ],
          "scattergl": [
           {
            "marker": {
             "colorbar": {
              "outlinewidth": 0,
              "ticks": ""
             }
            },
            "type": "scattergl"
           }
          ],
          "scattermap": [
           {
            "marker": {
             "colorbar": {
              "outlinewidth": 0,
              "ticks": ""
             }
            },
            "type": "scattermap"
           }
          ],
          "scattermapbox": [
           {
            "marker": {
             "colorbar": {
              "outlinewidth": 0,
              "ticks": ""
             }
            },
            "type": "scattermapbox"
           }
          ],
          "scatterpolar": [
           {
            "marker": {
             "colorbar": {
              "outlinewidth": 0,
              "ticks": ""
             }
            },
            "type": "scatterpolar"
           }
          ],
          "scatterpolargl": [
           {
            "marker": {
             "colorbar": {
              "outlinewidth": 0,
              "ticks": ""
             }
            },
            "type": "scatterpolargl"
           }
          ],
          "scatterternary": [
           {
            "marker": {
             "colorbar": {
              "outlinewidth": 0,
              "ticks": ""
             }
            },
            "type": "scatterternary"
           }
          ],
          "surface": [
           {
            "colorbar": {
             "outlinewidth": 0,
             "ticks": ""
            },
            "colorscale": [
             [
              0,
              "#0d0887"
             ],
             [
              0.1111111111111111,
              "#46039f"
             ],
             [
              0.2222222222222222,
              "#7201a8"
             ],
             [
              0.3333333333333333,
              "#9c179e"
             ],
             [
              0.4444444444444444,
              "#bd3786"
             ],
             [
              0.5555555555555556,
              "#d8576b"
             ],
             [
              0.6666666666666666,
              "#ed7953"
             ],
             [
              0.7777777777777778,
              "#fb9f3a"
             ],
             [
              0.8888888888888888,
              "#fdca26"
             ],
             [
              1,
              "#f0f921"
             ]
            ],
            "type": "surface"
           }
          ],
          "table": [
           {
            "cells": {
             "fill": {
              "color": "#EBF0F8"
             },
             "line": {
              "color": "white"
             }
            },
            "header": {
             "fill": {
              "color": "#C8D4E3"
             },
             "line": {
              "color": "white"
             }
            },
            "type": "table"
           }
          ]
         },
         "layout": {
          "annotationdefaults": {
           "arrowcolor": "#2a3f5f",
           "arrowhead": 0,
           "arrowwidth": 1
          },
          "autotypenumbers": "strict",
          "coloraxis": {
           "colorbar": {
            "outlinewidth": 0,
            "ticks": ""
           }
          },
          "colorscale": {
           "diverging": [
            [
             0,
             "#8e0152"
            ],
            [
             0.1,
             "#c51b7d"
            ],
            [
             0.2,
             "#de77ae"
            ],
            [
             0.3,
             "#f1b6da"
            ],
            [
             0.4,
             "#fde0ef"
            ],
            [
             0.5,
             "#f7f7f7"
            ],
            [
             0.6,
             "#e6f5d0"
            ],
            [
             0.7,
             "#b8e186"
            ],
            [
             0.8,
             "#7fbc41"
            ],
            [
             0.9,
             "#4d9221"
            ],
            [
             1,
             "#276419"
            ]
           ],
           "sequential": [
            [
             0,
             "#0d0887"
            ],
            [
             0.1111111111111111,
             "#46039f"
            ],
            [
             0.2222222222222222,
             "#7201a8"
            ],
            [
             0.3333333333333333,
             "#9c179e"
            ],
            [
             0.4444444444444444,
             "#bd3786"
            ],
            [
             0.5555555555555556,
             "#d8576b"
            ],
            [
             0.6666666666666666,
             "#ed7953"
            ],
            [
             0.7777777777777778,
             "#fb9f3a"
            ],
            [
             0.8888888888888888,
             "#fdca26"
            ],
            [
             1,
             "#f0f921"
            ]
           ],
           "sequentialminus": [
            [
             0,
             "#0d0887"
            ],
            [
             0.1111111111111111,
             "#46039f"
            ],
            [
             0.2222222222222222,
             "#7201a8"
            ],
            [
             0.3333333333333333,
             "#9c179e"
            ],
            [
             0.4444444444444444,
             "#bd3786"
            ],
            [
             0.5555555555555556,
             "#d8576b"
            ],
            [
             0.6666666666666666,
             "#ed7953"
            ],
            [
             0.7777777777777778,
             "#fb9f3a"
            ],
            [
             0.8888888888888888,
             "#fdca26"
            ],
            [
             1,
             "#f0f921"
            ]
           ]
          },
          "colorway": [
           "#636efa",
           "#EF553B",
           "#00cc96",
           "#ab63fa",
           "#FFA15A",
           "#19d3f3",
           "#FF6692",
           "#B6E880",
           "#FF97FF",
           "#FECB52"
          ],
          "font": {
           "color": "#2a3f5f"
          },
          "geo": {
           "bgcolor": "white",
           "lakecolor": "white",
           "landcolor": "#E5ECF6",
           "showlakes": true,
           "showland": true,
           "subunitcolor": "white"
          },
          "hoverlabel": {
           "align": "left"
          },
          "hovermode": "closest",
          "mapbox": {
           "style": "light"
          },
          "paper_bgcolor": "white",
          "plot_bgcolor": "#E5ECF6",
          "polar": {
           "angularaxis": {
            "gridcolor": "white",
            "linecolor": "white",
            "ticks": ""
           },
           "bgcolor": "#E5ECF6",
           "radialaxis": {
            "gridcolor": "white",
            "linecolor": "white",
            "ticks": ""
           }
          },
          "scene": {
           "xaxis": {
            "backgroundcolor": "#E5ECF6",
            "gridcolor": "white",
            "gridwidth": 2,
            "linecolor": "white",
            "showbackground": true,
            "ticks": "",
            "zerolinecolor": "white"
           },
           "yaxis": {
            "backgroundcolor": "#E5ECF6",
            "gridcolor": "white",
            "gridwidth": 2,
            "linecolor": "white",
            "showbackground": true,
            "ticks": "",
            "zerolinecolor": "white"
           },
           "zaxis": {
            "backgroundcolor": "#E5ECF6",
            "gridcolor": "white",
            "gridwidth": 2,
            "linecolor": "white",
            "showbackground": true,
            "ticks": "",
            "zerolinecolor": "white"
           }
          },
          "shapedefaults": {
           "line": {
            "color": "#2a3f5f"
           }
          },
          "ternary": {
           "aaxis": {
            "gridcolor": "white",
            "linecolor": "white",
            "ticks": ""
           },
           "baxis": {
            "gridcolor": "white",
            "linecolor": "white",
            "ticks": ""
           },
           "bgcolor": "#E5ECF6",
           "caxis": {
            "gridcolor": "white",
            "linecolor": "white",
            "ticks": ""
           }
          },
          "title": {
           "x": 0.05
          },
          "xaxis": {
           "automargin": true,
           "gridcolor": "white",
           "linecolor": "white",
           "ticks": "",
           "title": {
            "standoff": 15
           },
           "zerolinecolor": "white",
           "zerolinewidth": 2
          },
          "yaxis": {
           "automargin": true,
           "gridcolor": "white",
           "linecolor": "white",
           "ticks": "",
           "title": {
            "standoff": 15
           },
           "zerolinecolor": "white",
           "zerolinewidth": 2
          }
         }
        },
        "title": {
         "text": "Outlier Detection: Hotelling’s T² vs Q Residuals"
        },
        "width": 1200,
        "xaxis": {
         "anchor": "y",
         "domain": [
          0,
          1
         ],
         "title": {
          "text": "Hotelling's T²"
         }
        },
        "yaxis": {
         "anchor": "x",
         "domain": [
          0,
          1
         ],
         "title": {
          "text": "Q Residuals"
         }
        }
       }
      }
     },
     "metadata": {},
     "output_type": "display_data"
    }
   ],
   "source": [
    "import pandas as pd\n",
    "import numpy as np\n",
    "import plotly.express as px\n",
    "import plotly.graph_objects as go\n",
    "from sklearn.preprocessing import StandardScaler\n",
    "from sklearn.decomposition import PCA\n",
    "from sklearn.impute import SimpleImputer\n",
    "\n",
    "# ----------------------\n",
    "# Load data\n",
    "# ----------------------\n",
    "df = pd.read_csv(\"./data/macdonald.csv\")\n",
    "\n",
    "# Drop unwanted column if present\n",
    "if \"gOrml\" in df.columns:\n",
    "    df = df.drop(columns=[\"gOrml\"])\n",
    "\n",
    "# Separate metadata and numeric features\n",
    "meta_cols = [\"Menu Category\", \"Menu Items\"]\n",
    "X = df.drop(columns=meta_cols)\n",
    "meta = df[meta_cols]\n",
    "\n",
    "# ----------------------\n",
    "# Handle missing values\n",
    "# ----------------------\n",
    "imputer = SimpleImputer(strategy=\"mean\")\n",
    "X_imputed = imputer.fit_transform(X)\n",
    "\n",
    "# ----------------------\n",
    "# Standardize data\n",
    "# ----------------------\n",
    "scaler = StandardScaler()\n",
    "X_scaled = scaler.fit_transform(X_imputed)\n",
    "\n",
    "# ----------------------\n",
    "# PCA\n",
    "# ----------------------\n",
    "pca = PCA()\n",
    "X_pca = pca.fit_transform(X_scaled)\n",
    "\n",
    "# Explained variance for labels\n",
    "explained_var_ratio = pca.explained_variance_ratio_ * 100\n",
    "pcs = [f\"PC{i+1}\" for i in range(X_pca.shape[1])]\n",
    "\n",
    "def pc_label(pc):\n",
    "    idx = int(pc.replace(\"PC\", \"\")) - 1\n",
    "    return f\"{pc} ({explained_var_ratio[idx]:.1f}%)\"\n",
    "\n",
    "# ----------------------\n",
    "# 1. Explained variance plot\n",
    "# ----------------------\n",
    "cum_explained = np.cumsum(explained_var_ratio)\n",
    "fig_var = px.line(\n",
    "    x=range(1, len(cum_explained) + 1),\n",
    "    y=cum_explained,\n",
    "    markers=True,\n",
    "    labels={\"x\": \"Number of Components\", \"y\": \"Cumulative Explained Variance (%)\"},\n",
    "    title=\"Explained Variance by Components\"\n",
    ")\n",
    "fig_var.update_traces(line=dict(color=\"royalblue\"))\n",
    "fig_var.update_layout(width=1200, height=700)\n",
    "fig_var.show()\n",
    "\n",
    "# ----------------------\n",
    "# 2. Interactive 2D Score Plot (choose PCs separately for X and Y)\n",
    "# ----------------------\n",
    "score_df = pd.DataFrame(X_pca, columns=pcs)\n",
    "score_df[\"Menu Category\"] = meta[\"Menu Category\"].values\n",
    "score_df[\"Menu Items\"] = meta[\"Menu Items\"].values\n",
    "\n",
    "# Default axes\n",
    "x_pc, y_pc = \"PC1\", \"PC2\"\n",
    "\n",
    "fig_score = px.scatter(\n",
    "    score_df,\n",
    "    x=x_pc, y=y_pc,\n",
    "    color=\"Menu Category\",\n",
    "    text=\"Menu Items\",\n",
    "    title=f\"Score Plot ({pc_label(x_pc)} vs {pc_label(y_pc)})\",\n",
    "    labels={\"Menu Category\": \"Category\"}\n",
    ")\n",
    "fig_score.update_traces(marker=dict(size=9, line=dict(width=0.5, color=\"DarkSlateGrey\")),\n",
    "                        textposition=\"top center\")\n",
    "\n",
    "# Dropdowns\n",
    "x_buttons, y_buttons = [], []\n",
    "for pc in pcs:\n",
    "    x_buttons.append(dict(\n",
    "        label=pc_label(pc), method=\"relayout\",\n",
    "        args=[{\"xaxis.title.text\": pc_label(pc),\n",
    "               \"xaxis.range\": [score_df[pc].min()*1.1, score_df[pc].max()*1.1]}]\n",
    "    ))\n",
    "    y_buttons.append(dict(\n",
    "        label=pc_label(pc), method=\"relayout\",\n",
    "        args=[{\"yaxis.title.text\": pc_label(pc),\n",
    "               \"yaxis.range\": [score_df[pc].min()*1.1, score_df[pc].max()*1.1]}]\n",
    "    ))\n",
    "\n",
    "fig_score.update_layout(\n",
    "    width=1200, height=700,\n",
    "    xaxis=dict(title=pc_label(x_pc)),\n",
    "    yaxis=dict(title=pc_label(y_pc)),\n",
    "    updatemenus=[\n",
    "        dict(buttons=x_buttons, direction=\"down\", x=0.0, y=1.1, showactive=True, xanchor=\"left\"),\n",
    "        dict(buttons=y_buttons, direction=\"down\", x=0.15, y=1.1, showactive=True, xanchor=\"left\")\n",
    "    ]\n",
    ")\n",
    "fig_score.show()\n",
    "\n",
    "# ----------------------\n",
    "# 3. Correlation Loading Plot\n",
    "# ----------------------\n",
    "loadings = pd.DataFrame(\n",
    "    pca.components_.T[:, 0:2],\n",
    "    columns=[\"PC1\", \"PC2\"],\n",
    "    index=X.columns\n",
    ")\n",
    "\n",
    "theta = np.linspace(0, 2 * np.pi, 300)\n",
    "circle1 = go.Scatter(x=np.cos(theta), y=np.sin(theta),\n",
    "                     mode=\"lines\", name=\"r=1\",\n",
    "                     line=dict(color=\"black\", dash=\"dash\"))\n",
    "circle05 = go.Scatter(x=0.5*np.cos(theta), y=0.5*np.sin(theta),\n",
    "                      mode=\"lines\", name=\"r=0.5\",\n",
    "                      line=dict(color=\"gray\", dash=\"dot\"))\n",
    "points = go.Scatter(x=loadings[\"PC1\"], y=loadings[\"PC2\"],\n",
    "                    mode=\"markers+text\",\n",
    "                    text=loadings.index,\n",
    "                    textposition=\"top center\",\n",
    "                    marker=dict(color=\"crimson\", size=9),\n",
    "                    name=\"Variables\")\n",
    "\n",
    "fig_corr = go.Figure([circle1, circle05, points])\n",
    "fig_corr.update_layout(\n",
    "    title=\"Correlation Loading Plot (PC1 vs PC2)\",\n",
    "    width=1200, height=700,\n",
    "    xaxis=dict(title=pc_label(\"PC1\"), scaleanchor=\"y\"),\n",
    "    yaxis=dict(title=pc_label(\"PC2\"), scaleratio=1)\n",
    ")\n",
    "fig_corr.show()\n",
    "\n",
    "# ----------------------\n",
    "# 4. Loading histograms (PC1, PC2, PC3)\n",
    "# ----------------------\n",
    "loading_df = pd.DataFrame(\n",
    "    pca.components_.T[:, 0:3],\n",
    "    columns=[\"PC1\", \"PC2\", \"PC3\"],\n",
    "    index=X.columns\n",
    ").reset_index().rename(columns={\"index\": \"Variable\"})\n",
    "\n",
    "for pc in [\"PC1\", \"PC2\", \"PC3\"]:\n",
    "    fig_load = px.bar(\n",
    "        loading_df, x=\"Variable\", y=pc,\n",
    "        title=f\"Loadings Histogram for {pc_label(pc)}\",\n",
    "        text_auto=\".2f\"\n",
    "    )\n",
    "    fig_load.update_layout(xaxis_tickangle=-45,\n",
    "                           width=1200, height=700)\n",
    "    fig_load.show()\n",
    "\n",
    "# ----------------------\n",
    "# 5. Hotelling’s T² vs Q residuals (Outlier detection)\n",
    "# ----------------------\n",
    "scores = X_pca[:, :2]\n",
    "T2 = np.sum((scores / np.std(scores, axis=0))**2, axis=1)\n",
    "X_reconstructed = pca.inverse_transform(X_pca)\n",
    "Q = np.sum((X_scaled - X_reconstructed)**2, axis=1)\n",
    "\n",
    "outlier_df = pd.DataFrame({\"Hotelling_T2\": T2, \"Q_residuals\": Q,\n",
    "                           \"Menu Items\": meta[\"Menu Items\"],\n",
    "                           \"Menu Category\": meta[\"Menu Category\"]})\n",
    "\n",
    "fig_outlier = px.scatter(\n",
    "    outlier_df,\n",
    "    x=\"Hotelling_T2\", y=\"Q_residuals\",\n",
    "    color=\"Menu Category\", text=\"Menu Items\",\n",
    "    title=\"Outlier Detection: Hotelling’s T² vs Q Residuals\",\n",
    "    labels={\"Hotelling_T2\": \"Hotelling's T²\", \"Q_residuals\": \"Q Residuals\"}\n",
    ")\n",
    "fig_outlier.update_traces(marker=dict(size=9, line=dict(width=0.5, color=\"DarkSlateGrey\")),\n",
    "                          textposition=\"top center\")\n",
    "fig_outlier.update_layout(width=1200, height=700)\n",
    "fig_outlier.show()\n"
   ]
  }
 ],
 "metadata": {
  "kernelspec": {
   "display_name": "Courses",
   "language": "python",
   "name": "python3"
  },
  "language_info": {
   "codemirror_mode": {
    "name": "ipython",
    "version": 3
   },
   "file_extension": ".py",
   "mimetype": "text/x-python",
   "name": "python",
   "nbconvert_exporter": "python",
   "pygments_lexer": "ipython3",
   "version": "3.12.1"
  }
 },
 "nbformat": 4,
 "nbformat_minor": 5
}
