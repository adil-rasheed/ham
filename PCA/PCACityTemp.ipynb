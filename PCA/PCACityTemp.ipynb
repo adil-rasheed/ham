{
 "cells": [
  {
   "cell_type": "code",
   "execution_count": 1,
   "id": "16b30fe1",
   "metadata": {},
   "outputs": [],
   "source": [
    "# ===================== City Temperatures — All Interactive Plots =====================\n",
    "# pip install pandas numpy plotly openpyxl scikit-learn ipywidgets\n",
    "\n",
    "from pathlib import Path\n",
    "import numpy as np\n",
    "import pandas as pd\n",
    "import plotly.express as px\n",
    "import plotly.graph_objects as go\n",
    "from sklearn.decomposition import PCA\n",
    "from sklearn.preprocessing import StandardScaler\n",
    "from sklearn.impute import SimpleImputer\n",
    "\n",
    "# ----------------------------- Constants & Parsing -----------------------------\n",
    "MONTH_NAMES = [\"Jan\",\"Feb\",\"Mar\",\"Apr\",\"May\",\"Jun\",\"Jul\",\"Aug\",\"Sep\",\"Oct\",\"Nov\",\"Dec\"]\n",
    "MONTH_MAP = {\n",
    "    \"jan\":1,\"january\":1,\"1\":1,\"01\":1,\n",
    "    \"feb\":2,\"february\":2,\"2\":2,\"02\":2,\n",
    "    \"mar\":3,\"march\":3,\"3\":3,\"03\":3,\n",
    "    \"apr\":4,\"april\":4,\"4\":4,\"04\":4,\n",
    "    \"may\":5,\"5\":5,\"05\":5,\n",
    "    \"jun\":6,\"june\":6,\"6\":6,\"06\":6,\n",
    "    \"jul\":7,\"july\":7,\"7\":7,\"07\":7,\n",
    "    \"aug\":8,\"august\":8,\"8\":8,\"08\":8,\n",
    "    \"sep\":9,\"sept\":9,\"september\":9,\"9\":9,\"09\":9,\n",
    "    \"oct\":10,\"october\":10,\"10\":10,\n",
    "    \"nov\":11,\"november\":11,\"11\":11,\n",
    "    \"dec\":12,\"december\":12,\"12\":12,\n",
    "}\n",
    "def parse_month_header(colname: str):\n",
    "    s = str(colname).strip()\n",
    "    try:\n",
    "        n = int(s)\n",
    "        if 1 <= n <= 12:\n",
    "            return n\n",
    "    except Exception:\n",
    "        pass\n",
    "    key3 = s.lower()[:3]\n",
    "    return MONTH_MAP.get(key3, MONTH_MAP.get(s.lower(), np.nan))\n",
    "\n",
    "# ----------------------------- Robust Path Resolver -----------------------------\n",
    "def resolve_xlsx_path(xlsx_path=None, filename_candidates=(\"CityTemp.xlsx\",\"citytemp.xlsx\")) -> Path:\n",
    "    \"\"\"Find Excel path from explicit path, ./data/, ./, or shallow rglob under base dir.\"\"\"\n",
    "    if xlsx_path:\n",
    "        p = Path(xlsx_path)\n",
    "        if p.exists():\n",
    "            return p\n",
    "    base = Path(__file__).resolve().parent if \"__file__\" in globals() else Path.cwd()\n",
    "    candidates = []\n",
    "    for fn in filename_candidates:\n",
    "        candidates += [base/\"data\"/fn, base/fn]\n",
    "    for p in candidates:\n",
    "        if p.exists():\n",
    "            return p\n",
    "    for fn in filename_candidates:\n",
    "        matches = list(base.rglob(fn))\n",
    "        if matches:\n",
    "            return matches[0]\n",
    "    tried = \"\\n  - \" + \"\\n  - \".join(str(p) for p in candidates)\n",
    "    raise FileNotFoundError(f\"Could not find Excel. Tried:{tried}\\nWorking directory: {base}\")\n",
    "\n",
    "# ----------------------------- Load & Tidy Data -----------------------------\n",
    "def load_city_temps(xlsx_path=None, sheet=0):\n",
    "    \"\"\"\n",
    "    Load Excel: first column is City; 12 month columns (auto-detect by name, else next 12).\n",
    "    Returns (df, city_col, month_cols, col_to_num).\n",
    "    \"\"\"\n",
    "    xlsx_path = resolve_xlsx_path(xlsx_path)\n",
    "    df = pd.read_excel(xlsx_path, sheet_name=sheet)\n",
    "    df.columns = [str(c).strip() for c in df.columns]\n",
    "    city_col = df.columns[0]\n",
    "    cand = [c for c in df.columns if c != city_col]\n",
    "\n",
    "    col_to_num = {}\n",
    "    for c in cand:\n",
    "        n = parse_month_header(c)\n",
    "        if pd.notna(n) and 1 <= int(n) <= 12:\n",
    "            col_to_num.setdefault(c, int(n))  # keep first occurrence per month\n",
    "\n",
    "    if len(set(col_to_num.values())) < 12 and len(cand) >= 12:\n",
    "        month_cols = cand[:12]\n",
    "        col_to_num = {c: i+1 for i, c in enumerate(month_cols)}\n",
    "    else:\n",
    "        month_cols = sorted(col_to_num, key=lambda c: col_to_num[c])\n",
    "\n",
    "    for c in month_cols:\n",
    "        df[c] = pd.to_numeric(df[c], errors=\"coerce\")\n",
    "\n",
    "    print(f\"Loaded: {xlsx_path.resolve()}\")\n",
    "    return df, city_col, month_cols, col_to_num\n",
    "\n",
    "def to_long(df, city_col, month_cols, col_to_num):\n",
    "    \"\"\"Wide -> long (City, Month, Temperature) with ordered month labels.\"\"\"\n",
    "    long_df = df[[city_col] + month_cols].melt(\n",
    "        id_vars=[city_col], value_vars=month_cols, var_name=\"MonthCol\", value_name=\"Temperature\"\n",
    "    ).dropna(subset=[\"Temperature\"])\n",
    "    long_df[\"MonthNum\"] = long_df[\"MonthCol\"].map(col_to_num)\n",
    "    long_df[\"Month\"] = long_df[\"MonthNum\"].apply(lambda n: MONTH_NAMES[int(n)-1] if pd.notna(n) else str(n))\n",
    "    return long_df.sort_values([\"MonthNum\", city_col])\n",
    "\n",
    "# ----------------------------- Figures -----------------------------\n",
    "def fig_line_monthly(long_df, city_col, S=800):\n",
    "    fig = px.line(\n",
    "        long_df, x=\"Month\", y=\"Temperature\", color=city_col,\n",
    "        markers=True, title=\"Monthly Temperature by City\",\n",
    "        labels={\"Month\":\"Month\", city_col:\"City\"}\n",
    "    )\n",
    "    fig.update_layout(\n",
    "        xaxis=dict(type=\"category\", categoryorder=\"array\", categoryarray=MONTH_NAMES),\n",
    "        hovermode=\"x unified\", legend_title_text=\"Click a city to toggle\",\n",
    "        margin=dict(l=40,r=20,t=80,b=40)\n",
    "    )\n",
    "    n = len(fig.data)\n",
    "    fig.update_layout(updatemenus=[dict(\n",
    "        type=\"buttons\", direction=\"right\", x=1, xanchor=\"right\", y=1.15, yanchor=\"top\",\n",
    "        buttons=[dict(label=\"Show All\", method=\"update\", args=[{\"visible\":[True]*n}]),\n",
    "                 dict(label=\"Hide All\", method=\"update\", args=[{\"visible\":[False]*n}])]\n",
    "    )])\n",
    "    fig.update_layout(width=S*1.5, height=S, autosize=False)\n",
    "    return fig\n",
    "\n",
    "def fig_scatter3d_month_picker(df, city_col, col_to_num, S=800):\n",
    "    \"\"\"3D scatter with dropdowns to pick X/Y/Z months; labels and show/hide buttons.\"\"\"\n",
    "    if not col_to_num:\n",
    "        month_cols = [c for c in df.columns if c != city_col][:12]\n",
    "        col_to_num = {c:i+1 for i,c in enumerate(month_cols)}\n",
    "    num_to_col   = {v:k for k,v in col_to_num.items()}\n",
    "    num_to_label = {i: MONTH_NAMES[i-1] for i in range(1,13)}\n",
    "    cities       = df[city_col].astype(str).tolist()\n",
    "    n_cities     = len(cities)\n",
    "    def month_values(m): return df[num_to_col[m]].astype(float).tolist()\n",
    "    M = {m: month_values(m) for m in range(1,13)}          # precompute\n",
    "    mx,my,mz = 1,2,3\n",
    "    traces = [go.Scatter3d(\n",
    "        x=[M[mx][i]], y=[M[my][i]], z=[M[mz][i]],\n",
    "        mode=\"markers\", name=city, text=[city], textfont=dict(size=10),\n",
    "        marker=dict(size=6),\n",
    "        customdata=[[num_to_label[mx], num_to_label[my], num_to_label[mz]]],\n",
    "        hovertemplate=\"<b>%{text}</b><br>X (%{customdata[0]}): %{x}<br>\"\n",
    "                      \"Y (%{customdata[1]}): %{y}<br>Z (%{customdata[2]}): %{z}<extra></extra>\"\n",
    "    ) for i, city in enumerate(cities)]\n",
    "    fig = go.Figure(traces)\n",
    "\n",
    "    def axis_button(axis, m):\n",
    "        vals = [[M[m][i]] for i in range(n_cities)]\n",
    "        axis_idx = {\"x\":0,\"y\":1,\"z\":2}[axis]\n",
    "        new_custom = []\n",
    "        for i in range(n_cities):\n",
    "            cur = list(traces[i].customdata[0]); cur[axis_idx] = num_to_label[m]\n",
    "            new_custom.append([cur])\n",
    "        return dict(method=\"update\",\n",
    "                    args=[{axis: vals, \"customdata\": new_custom},\n",
    "                          {f\"scene.{axis}axis.title.text\": num_to_label[m]}],\n",
    "                    label=num_to_label[m])\n",
    "\n",
    "    def axis_dropdown(axis, xpos):\n",
    "        return dict(type=\"dropdown\", x=xpos, y=1.12, xanchor=\"center\", yanchor=\"top\",\n",
    "                    direction=\"down\", showactive=True,\n",
    "                    buttons=[axis_button(axis, m) for m in range(1,13)],\n",
    "                    pad={\"t\":4,\"b\":2,\"r\":2,\"l\":2})\n",
    "    def label_anno(txt, xpos):\n",
    "        return dict(text=txt, x=xpos, y=1.18, xref=\"paper\", yref=\"paper\",\n",
    "                    xanchor=\"center\", yanchor=\"top\", showarrow=False)\n",
    "\n",
    "    # show/hide & labels on/off\n",
    "    showhide_menu = dict(type=\"buttons\", x=0.93, y=1.12, xanchor=\"center\", yanchor=\"top\",\n",
    "                         direction=\"right\",\n",
    "                         buttons=[dict(label=\"Show All\", method=\"update\", args=[{\"visible\":[True]*n_cities}]),\n",
    "                                  dict(label=\"Hide All\", method=\"update\", args=[{\"visible\":[False]*n_cities}])])\n",
    "    def labels_button(on=True):\n",
    "        modes = [(\"markers+text\" if on else \"markers\")] * n_cities\n",
    "        return dict(label=(\"Labels: On\" if on else \"Labels: Off\"), method=\"update\", args=[{\"mode\": modes}])\n",
    "    labels_menu = dict(type=\"buttons\", x=0.78, y=1.12, xanchor=\"center\", yanchor=\"top\",\n",
    "                       direction=\"right\", buttons=[labels_button(True), labels_button(False)])\n",
    "\n",
    "    xpos_x, xpos_y, xpos_z = 0.14, 0.39, 0.64\n",
    "    fig.update_layout(\n",
    "        scene=dict(xaxis_title=num_to_label[mx], yaxis_title=num_to_label[my], zaxis_title=num_to_label[mz],\n",
    "                   xaxis=dict(showspikes=False), yaxis=dict(showspikes=False), zaxis=dict(showspikes=False)),\n",
    "        legend_title_text=\"Toggle cities\",\n",
    "        margin=dict(l=10,r=10,t=140,b=10),\n",
    "        updatemenus=[axis_dropdown('x', xpos_x), axis_dropdown('y', xpos_y), axis_dropdown('z', xpos_z),\n",
    "                     labels_menu, showhide_menu],\n",
    "        annotations=[label_anno(\"X Month\", xpos_x), label_anno(\"Y Month\", xpos_y), label_anno(\"Z Month\", xpos_z),\n",
    "                     label_anno(\"Point Labels\", 0.78), label_anno(\"Cities\", 0.93)],\n",
    "        title_y=0.92, width=S*1.75, height=S, autosize=False\n",
    "    )\n",
    "    return fig\n",
    "\n",
    "# ----------------------------- PCA Utilities & Plots -----------------------------\n",
    "def compute_pca_matrix(df, city_col, month_cols, retain=0.95):\n",
    "    \"\"\"\n",
    "    Matrix (rows=cities, cols=months) -> impute -> standardize -> full PCA.\n",
    "    Returns selected-k PCA pieces, plus full variance arrays for scree & cumulative plots.\n",
    "    \"\"\"\n",
    "    X = df[month_cols].apply(pd.to_numeric, errors=\"coerce\").values\n",
    "    cities = df[city_col].astype(str).values\n",
    "    X_proc = SimpleImputer(strategy=\"mean\").fit_transform(X)\n",
    "    X_proc = StandardScaler().fit_transform(X_proc)\n",
    "\n",
    "    # Full PCA for EVR curves\n",
    "    pca_full = PCA().fit(X_proc)\n",
    "    full_var_all = pca_full.explained_variance_ratio_ * 100.0   # per-PC %\n",
    "    full_eig_all = pca_full.explained_variance_                  # eigenvalues\n",
    "    cumvar_all   = np.cumsum(pca_full.explained_variance_ratio_) * 100.0\n",
    "\n",
    "    # Choose k to reach retain (min 2)\n",
    "    k = max(2, int(np.searchsorted(np.cumsum(pca_full.explained_variance_ratio_), retain) + 1))\n",
    "\n",
    "    # Fit final PCA with k comps (used by axis picker & residual map)\n",
    "    pca = PCA(n_components=k, random_state=0)\n",
    "    Z = pca.fit_transform(X_proc)        # scores\n",
    "    P = pca.components_.T                # loadings\n",
    "    eig = pca.explained_variance_\n",
    "    var = pca.explained_variance_ratio_ * 100.0\n",
    "\n",
    "    return {\n",
    "        \"X_proc\":X_proc, \"Z\":Z, \"P\":P, \"eig\":eig, \"var\":var, \"k\":k, \"cities\":cities,\n",
    "        \"full_var_all\": full_var_all, \"full_eig_all\": full_eig_all, \"cumvar_all\": cumvar_all,\n",
    "        \"retain\": retain\n",
    "    }\n",
    "\n",
    "def fig_pca_axis_picker(Z, cities, var, S=1000):\n",
    "    \"\"\"2D PCA scatter with dropdowns to pick ±PC for X and Y; city labels shown.\"\"\"\n",
    "    k = Z.shape[1]; pcx,pcy = 1,2\n",
    "    fig = go.Figure()\n",
    "    fig.add_trace(go.Scatter(\n",
    "        x=Z[:,pcx-1], y=Z[:,pcy-1], mode=\"markers+text\",\n",
    "        text=cities, textposition=\"top center\", textfont=dict(size=10),\n",
    "        marker=dict(size=8, opacity=0.9),\n",
    "        hovertemplate=\"<b>%{text}</b><br>PCX=%{x:.3f}<br>PCY=%{y:.3f}<extra></extra>\"\n",
    "    ))\n",
    "    fig.add_hline(y=0); fig.add_vline(x=0)\n",
    "    def title_pc(i, neg=False): return f\"{'-' if neg else ''}PC{i} ({var[i-1]:.1f}%)\"\n",
    "    fig.update_xaxes(title_text=title_pc(pcx)); fig.update_yaxes(title_text=title_pc(pcy))\n",
    "    SMALL = dict(font=dict(size=10), pad={\"t\":1,\"b\":1,\"l\":1,\"r\":1}, bgcolor=\"rgba(255,255,255,0.6)\")\n",
    "    def pc_dropdown(axis, xpos):\n",
    "        buttons=[]\n",
    "        for j in range(1, k+1):\n",
    "            if axis=='x':\n",
    "                buttons += [dict(label=f\"PC{j} ({var[j-1]:.0f}%)\", method=\"update\",\n",
    "                                 args=[{\"x\":[Z[:,j-1]]}, {\"xaxis.title.text\": title_pc(j)}]),\n",
    "                            dict(label=f\"-PC{j}\", method=\"update\",\n",
    "                                 args=[{\"x\":[-Z[:,j-1]]}, {\"xaxis.title.text\": title_pc(j,True)}])]\n",
    "            else:\n",
    "                buttons += [dict(label=f\"PC{j} ({var[j-1]:.0f}%)\", method=\"update\",\n",
    "                                 args=[{\"y\":[Z[:,j-1]]}, {\"yaxis.title.text\": title_pc(j)}]),\n",
    "                            dict(label=f\"-PC{j}\", method=\"update\",\n",
    "                                 args=[{\"y\":[-Z[:,j-1]]}, {\"yaxis.title.text\": title_pc(j,True)}])]\n",
    "        d = dict(type=\"dropdown\", x=xpos, y=1.08, xanchor=\"center\", yanchor=\"top\",\n",
    "                 direction=\"down\", showactive=True, buttons=buttons); d.update(SMALL); return d\n",
    "    def label_anno(txt, xpos):\n",
    "        return dict(text=txt, x=xpos, y=1.13, xref=\"paper\", yref=\"paper\",\n",
    "                    xanchor=\"center\", yanchor=\"top\", showarrow=False, font=dict(size=11))\n",
    "    xpos_xpc, xpos_ypc = 0.34, 0.58\n",
    "    fig.update_layout(\n",
    "        title=\"PCA — Pick PCs (± direction) • City names shown\",\n",
    "        updatemenus=[pc_dropdown('x', xpos_xpc), pc_dropdown('y', xpos_ypc)],\n",
    "        annotations=[label_anno(\"X PC\", xpos_xpc), label_anno(\"Y PC\", xpos_ypc)],\n",
    "        margin=dict(l=60,r=20,t=105,b=60), hovermode=\"closest\",\n",
    "        width=S, height=S, autosize=False\n",
    "    )\n",
    "    return fig\n",
    "\n",
    "def fig_pca_residual_map(X_proc, Z, P, eig, cities, alpha=0.01, S=700):\n",
    "    \"\"\"Residual map: Hotelling T² vs Q residual with empirical thresholds (top 1%).\"\"\"\n",
    "    X_hat = Z @ P.T\n",
    "    R = X_proc - X_hat\n",
    "    Q = np.sum(R**2, axis=1)\n",
    "    T2 = np.sum((Z**2) / eig, axis=1)\n",
    "    Q_thr  = float(np.quantile(Q,  1 - alpha))\n",
    "    T2_thr = float(np.quantile(T2, 1 - alpha))\n",
    "    out_df = pd.DataFrame({\"City\":cities,\"Q_residual\":Q,\"T2\":T2})\n",
    "    outliers = out_df[(Q > Q_thr) | (T2 > T2_thr)].sort_values([\"Q_residual\",\"T2\"], ascending=False)\n",
    "    if len(outliers):\n",
    "        print(f\"Outliers (alpha = {alpha:.2%})\\n\"); print(outliers.to_string(index=False))\n",
    "    else:\n",
    "        print(f\"No outliers at alpha = {alpha:.2%}\")\n",
    "    fig = go.Figure()\n",
    "    fig.add_trace(go.Scatter(\n",
    "        x=T2, y=Q, mode=\"markers+text\", text=cities, textposition=\"top center\", textfont=dict(size=10),\n",
    "        marker=dict(size=8, opacity=0.9),\n",
    "        hovertemplate=\"<b>%{text}</b><br>T²=%{x:.3f}<br>Q=%{y:.3f}<extra></extra>\"\n",
    "    ))\n",
    "    fig.add_vline(x=T2_thr, line_dash=\"dash\"); fig.add_hline(y=Q_thr, line_dash=\"dash\")\n",
    "    fig.update_xaxes(title=\"Hotelling T²\"); fig.update_yaxes(title=\"Q residual (SPE)\")\n",
    "    fig.update_layout(title=f\"PCA Residual Outlier Map (α={alpha}, k={Z.shape[1]})\",\n",
    "                      margin=dict(l=60,r=20,t=80,b=60), hovermode=\"closest\",\n",
    "                      width=900, height=S, autosize=False)\n",
    "    return fig\n",
    "\n",
    "# -------- Explained Variance Plots (scree and cumulative) --------\n",
    "def fig_pca_scree(full_var_all, k_selected, S=700):\n",
    "    \"\"\"Scree plot: explained variance ratio (%) per component with a vertical line at selected k.\"\"\"\n",
    "    comps = np.arange(1, len(full_var_all)+1)\n",
    "    fig = go.Figure()\n",
    "    fig.add_bar(x=comps, y=full_var_all, name=\"Explained variance (%)\")\n",
    "    fig.add_vline(x=k_selected + 0.5, line_dash=\"dash\",\n",
    "                  annotation_text=f\"k = {k_selected}\", annotation_position=\"top\")\n",
    "    fig.update_xaxes(title=\"Principal component\")\n",
    "    fig.update_yaxes(title=\"Explained variance (%)\", rangemode=\"tozero\")\n",
    "    fig.update_layout(title=\"PCA Scree Plot (per-component explained variance)\",\n",
    "                      margin=dict(l=60,r=20,t=80,b=60), hovermode=\"x unified\",\n",
    "                      width=900, height=S, autosize=False, showlegend=False)\n",
    "    return fig\n",
    "\n",
    "def fig_pca_cumulative(cumvar_all, k_selected, retain=0.95, S=700):\n",
    "    \"\"\"Cumulative explained variance (%) with horizontal retain line and vertical k marker.\"\"\"\n",
    "    comps = np.arange(1, len(cumvar_all)+1)\n",
    "    fig = go.Figure()\n",
    "    fig.add_scatter(x=comps, y=cumvar_all, mode=\"lines+markers\", name=\"Cumulative EVR (%)\")\n",
    "    fig.add_hline(y=retain*100.0, line_dash=\"dash\",\n",
    "                  annotation_text=f\"{retain*100:.0f}% threshold\", annotation_position=\"bottom right\")\n",
    "    fig.add_vline(x=k_selected + 0.5, line_dash=\"dash\",\n",
    "                  annotation_text=f\"k = {k_selected}\", annotation_position=\"top\")\n",
    "    fig.update_xaxes(title=\"Principal component\")\n",
    "    fig.update_yaxes(title=\"Cumulative explained variance (%)\", rangemode=\"tozero\")\n",
    "    fig.update_layout(title=\"PCA Cumulative Explained Variance\",\n",
    "                      margin=dict(l=60,r=20,t=80,b=60), hovermode=\"x unified\",\n",
    "                      width=900, height=S, autosize=False, showlegend=False)\n",
    "    return fig\n",
    "\n",
    "# ----------------------------- LOO PCA — Clickable Widget -----------------------------\n",
    "def fig_loo_pca_widget(df, city_col, month_cols, S=800):\n",
    "    \"\"\"\n",
    "    Interactive LOO PCA (2 PCs): click any BLUE city to recompute PCA trained\n",
    "    without that city; RED points show the LOO projection; titles show LOO vs full variance.\n",
    "    Returns a VBox to display in Jupyter.\n",
    "    \"\"\"\n",
    "    import plotly.graph_objects as go\n",
    "    from ipywidgets import HTML, VBox\n",
    "\n",
    "    X = df[month_cols].apply(pd.to_numeric, errors=\"coerce\").values\n",
    "    cities = df[city_col].astype(str).values\n",
    "    n = X.shape[0]\n",
    "    idx_all = np.arange(n)\n",
    "\n",
    "    def project_with_pca_2pc(X, train_idx):\n",
    "        imp = SimpleImputer(strategy=\"mean\").fit(X[train_idx])\n",
    "        X_imp_train = imp.transform(X[train_idx]); X_imp_full = imp.transform(X)\n",
    "        scaler = StandardScaler().fit(X_imp_train)\n",
    "        X_std_train = scaler.transform(X_imp_train); X_std_full = scaler.transform(X_imp_full)\n",
    "        pca = PCA(n_components=2, random_state=0).fit(X_std_train)\n",
    "        scores_full = pca.transform(X_std_full); var = pca.explained_variance_ratio_ * 100.0\n",
    "        return scores_full, var\n",
    "\n",
    "    full_scores, full_var = project_with_pca_2pc(X, idx_all)\n",
    "    fig = go.FigureWidget()\n",
    "    # Trace 0: LOO (red)\n",
    "    fig.add_scatter(x=full_scores[:,0], y=full_scores[:,1], mode=\"markers+text\",\n",
    "                    text=cities, textposition=\"top center\", textfont=dict(size=10),\n",
    "                    marker=dict(size=8, opacity=0.9, color=\"red\"),\n",
    "                    name=\"LOO (train without selected city)\")\n",
    "    # Trace 1: Full (blue) — clickable\n",
    "    fig.add_scatter(x=full_scores[:,0], y=full_scores[:,1], mode=\"markers+text\",\n",
    "                    text=cities, textposition=\"bottom center\", textfont=dict(size=10),\n",
    "                    marker=dict(size=8, opacity=0.9, color=\"blue\"),\n",
    "                    name=\"Full (train with all cities)\")\n",
    "    fig.add_hline(y=0, line_width=1); fig.add_vline(x=0, line_width=1)\n",
    "    fig.update_xaxes(title=f\"PC1 (full {full_var[0]:.1f}%)\")\n",
    "    fig.update_yaxes(title=f\"PC2 (full {full_var[1]:.1f}%)\", scaleanchor=\"x\", scaleratio=1)\n",
    "    fig.update_layout(title=\"LOO PCA (click a blue city to recompute)\",\n",
    "                      margin=dict(l=60,r=20,t=80,b=60), hovermode=\"closest\",\n",
    "                      legend=dict(orientation=\"h\", yanchor=\"bottom\", y=1.02, xanchor=\"left\", x=0.0),\n",
    "                      width=S, height=S, autosize=False)\n",
    "    info = HTML(value=\"<b>Click a blue city to compute the LOO model…</b>\")\n",
    "\n",
    "    def handle_click(trace, points, selector):\n",
    "        if not points.point_inds: return\n",
    "        i = points.point_inds[0]; city = cities[i]\n",
    "        train_idx = np.delete(idx_all, i)\n",
    "        loo_scores, loo_var = project_with_pca_2pc(X, train_idx)\n",
    "        full_scores_now, full_var_now = project_with_pca_2pc(X, idx_all)\n",
    "        with fig.batch_update():\n",
    "            fig.data[0].x, fig.data[0].y, fig.data[0].text = loo_scores[:,0], loo_scores[:,1], cities\n",
    "            fig.data[1].x, fig.data[1].y, fig.data[1].text = full_scores_now[:,0], full_scores_now[:,1], cities\n",
    "            fig.layout.xaxis.title = f\"PC1 (LOO {loo_var[0]:.1f}% | full {full_var_now[0]:.1f}%)\"\n",
    "            fig.layout.yaxis.title = f\"PC2 (LOO {loo_var[1]:.1f}% | full {full_var_now[1]:.1f}%)\"\n",
    "            fig.layout.title = f\"LOO PCA — removed: {city}\"\n",
    "        info.value = (f\"<b>Removed:</b> {city} &nbsp; | &nbsp; \"\n",
    "                      f\"<b>LOO var:</b> ({loo_var[0]:.1f}%, {loo_var[1]:.1f}%) &nbsp; | &nbsp; \"\n",
    "                      f\"<b>Full var:</b> ({full_var_now[0]:.1f}%, {full_var_now[1]:.1f}%)\")\n",
    "\n",
    "    fig.data[1].on_click(handle_click)  # attach to blue trace\n",
    "    return VBox([info, fig])\n",
    "\n",
    "# ----------------------------- LOO PCA — Dropdown Fallback (no widgets) -----------------------------\n",
    "def fig_loo_pca_dropdown(df, city_col, month_cols, S=800):\n",
    "    \"\"\"\n",
    "    LOO PCA without ipywidgets: use a dropdown to choose the city to leave out.\n",
    "    Red = LOO projection (trained without selected city); Blue = full model.\n",
    "    \"\"\"\n",
    "    import plotly.graph_objects as go\n",
    "\n",
    "    # Data matrix\n",
    "    X = df[month_cols].apply(pd.to_numeric, errors=\"coerce\").values\n",
    "    cities = df[city_col].astype(str).values\n",
    "    n = X.shape[0]\n",
    "    idx_all = np.arange(n)\n",
    "\n",
    "    def project_with_pca_2pc(X, train_idx):\n",
    "        imp = SimpleImputer(strategy=\"mean\").fit(X[train_idx])\n",
    "        X_imp_train = imp.transform(X[train_idx]); X_imp_full = imp.transform(X)\n",
    "        scaler = StandardScaler().fit(X_imp_train)\n",
    "        X_std_train = scaler.transform(X_imp_train); X_std_full = scaler.transform(X_imp_full)\n",
    "        pca = PCA(n_components=2, random_state=0).fit(X_std_train)\n",
    "        scores_full = pca.transform(X_std_full)          # (n_cities, 2)\n",
    "        var = pca.explained_variance_ratio_ * 100.0      # (2,)\n",
    "        return scores_full, var\n",
    "\n",
    "    # Full model once\n",
    "    full_scores, full_var = project_with_pca_2pc(X, idx_all)\n",
    "\n",
    "    # Precompute LOO for each city\n",
    "    loo_scores = []\n",
    "    loo_vars = []\n",
    "    for i in range(n):\n",
    "        train_idx = np.delete(idx_all, i)\n",
    "        s, v = project_with_pca_2pc(X, train_idx)\n",
    "        loo_scores.append(s); loo_vars.append(v)\n",
    "\n",
    "    # Base fig with two traces\n",
    "    fig = go.Figure()\n",
    "    # Trace 0: LOO (red) — start as full\n",
    "    fig.add_trace(go.Scatter(\n",
    "        x=full_scores[:,0], y=full_scores[:,1],\n",
    "        mode=\"markers+text\", text=cities, textposition=\"top center\", textfont=dict(size=10),\n",
    "        marker=dict(size=8, opacity=0.9, color=\"red\"),\n",
    "        name=\"LOO (train without selected city)\"\n",
    "    ))\n",
    "    # Trace 1: Full (blue)\n",
    "    fig.add_trace(go.Scatter(\n",
    "        x=full_scores[:,0], y=full_scores[:,1],\n",
    "        mode=\"markers+text\", text=cities, textposition=\"bottom center\", textfont=dict(size=10),\n",
    "        marker=dict(size=8, opacity=0.9, color=\"blue\"),\n",
    "        name=\"Full (train with all cities)\"\n",
    "    ))\n",
    "\n",
    "    # Crosshairs + layout\n",
    "    fig.add_hline(y=0, line_width=1); fig.add_vline(x=0, line_width=1)\n",
    "    fig.update_xaxes(title=f\"PC1 (full {full_var[0]:.1f}%)\")\n",
    "    fig.update_yaxes(title=f\"PC2 (full {full_var[1]:.1f}%)\", scaleanchor=\"x\", scaleratio=1)\n",
    "    fig.update_layout(\n",
    "        title=\"LOO PCA — choose a city to leave out\",\n",
    "        margin=dict(l=60, r=20, t=90, b=60),\n",
    "        hovermode=\"closest\",\n",
    "        legend=dict(orientation=\"h\", yanchor=\"bottom\", y=1.02, xanchor=\"left\", x=0.0),\n",
    "        width=S, height=S, autosize=False\n",
    "    )\n",
    "\n",
    "    # Build dropdown buttons\n",
    "    buttons = []\n",
    "    # Button 0: reset (no LOO)\n",
    "    buttons.append(dict(\n",
    "        label=\"— Select city —\",\n",
    "        method=\"update\",\n",
    "        args=[\n",
    "            {\"x\":[full_scores[:,0], full_scores[:,0]],\n",
    "             \"y\":[full_scores[:,1], full_scores[:,1]],\n",
    "             \"text\":[cities, cities]},\n",
    "            {\"xaxis.title.text\": f\"PC1 (full {full_var[0]:.1f}%)\",\n",
    "             \"yaxis.title.text\": f\"PC2 (full {full_var[1]:.1f}%)\",\n",
    "             \"title\": \"LOO PCA — choose a city to leave out\"}\n",
    "        ]\n",
    "    ))\n",
    "    # One button per city\n",
    "    for i, city in enumerate(cities):\n",
    "        loo_s = loo_scores[i]; loo_v = loo_vars[i]\n",
    "        buttons.append(dict(\n",
    "            label=str(city),\n",
    "            method=\"update\",\n",
    "            args=[\n",
    "                {\"x\":[loo_s[:,0], full_scores[:,0]], \"y\":[loo_s[:,1], full_scores[:,1]],\n",
    "                 \"text\":[cities, cities]},\n",
    "                {\"xaxis.title.text\": f\"PC1 (LOO {loo_v[0]:.1f}% | full {full_var[0]:.1f}%)\",\n",
    "                 \"yaxis.title.text\": f\"PC2 (LOO {loo_v[1]:.1f}% | full {full_var[1]:.1f}%)\",\n",
    "                 \"title\": f\"LOO PCA — removed: {city}\"}\n",
    "            ]\n",
    "        ))\n",
    "\n",
    "    fig.update_layout(\n",
    "        updatemenus=[dict(\n",
    "            type=\"dropdown\", direction=\"down\",\n",
    "            x=0.02, xanchor=\"left\", y=1.18, yanchor=\"top\",\n",
    "            buttons=buttons, showactive=True\n",
    "        )],\n",
    "        annotations=[dict(\n",
    "            text=\"Leave out:\", x=0.02, y=1.23, xref=\"paper\", yref=\"paper\",\n",
    "            xanchor=\"left\", yanchor=\"top\", showarrow=False\n",
    "        )]\n",
    "    )\n",
    "    return fig"
   ]
  },
  {
   "cell_type": "code",
   "execution_count": 2,
   "id": "aae59283",
   "metadata": {},
   "outputs": [
    {
     "name": "stdout",
     "output_type": "stream",
     "text": [
      "Loaded: D:\\Codes\\ham\\PCA\\data\\CityTemp.xlsx\n"
     ]
    }
   ],
   "source": [
    "BASE_DIR = Path(__file__).resolve().parent if \"__file__\" in globals() else Path.cwd()\n",
    "XLSX = (BASE_DIR / \"data\" / \"CityTemp.xlsx\")\n",
    "df, city_col, month_cols, col_to_num = load_city_temps(XLSX, sheet=0)\n",
    "long_df = to_long(df, city_col, month_cols, col_to_num)"
   ]
  },
  {
   "cell_type": "code",
   "execution_count": 3,
   "id": "65cf80ed",
   "metadata": {},
   "outputs": [
    {
     "data": {
      "application/vnd.plotly.v1+json": {
       "config": {
        "plotlyServerURL": "https://plot.ly"
       },
       "data": [
        {
         "hovertemplate": "City=Amsterdam<br>Month=%{x}<br>Temperature=%{y}<extra></extra>",
         "legendgroup": "Amsterdam",
         "line": {
          "color": "#636efa",
          "dash": "solid"
         },
         "marker": {
          "symbol": "circle"
         },
         "mode": "lines+markers",
         "name": "Amsterdam",
         "orientation": "v",
         "showlegend": true,
         "type": "scatter",
         "x": [
          "Jan",
          "Feb",
          "Mar",
          "Apr",
          "May",
          "Jun",
          "Jul",
          "Aug",
          "Sep",
          "Oct",
          "Nov",
          "Dec"
         ],
         "xaxis": "x",
         "y": {
          "bdata": "AAAAAAAAAEAAAAAAAAAAQAAAAAAAABRAAAAAAAAAIEAAAAAAAAAoQAAAAAAAAC5AAAAAAAAAMUAAAAAAAAAxQAAAAAAAAC5AAAAAAAAAJkAAAAAAAAAYQAAAAAAAAAhA",
          "dtype": "f8"
         },
         "yaxis": "y"
        },
        {
         "hovertemplate": "City=Ankara<br>Month=%{x}<br>Temperature=%{y}<extra></extra>",
         "legendgroup": "Ankara",
         "line": {
          "color": "#EF553B",
          "dash": "solid"
         },
         "marker": {
          "symbol": "circle"
         },
         "mode": "lines+markers",
         "name": "Ankara",
         "orientation": "v",
         "showlegend": true,
         "type": "scatter",
         "x": [
          "Jan",
          "Feb",
          "Mar",
          "Apr",
          "May",
          "Jun",
          "Jul",
          "Aug",
          "Sep",
          "Oct",
          "Nov",
          "Dec"
         ],
         "xaxis": "x",
         "y": {
          "bdata": "AAAAAAAA8D8AAAAAAAAAAAAAAAAAABhAAAAAAAAAKEAAAAAAAAAxQAAAAAAAADNAAAAAAAAAN0AAAAAAAAA2QAAAAAAAADJAAAAAAAAALEAAAAAAAAAgQAAAAAAAAABA",
          "dtype": "f8"
         },
         "yaxis": "y"
        },
        {
         "hovertemplate": "City=Athens<br>Month=%{x}<br>Temperature=%{y}<extra></extra>",
         "legendgroup": "Athens",
         "line": {
          "color": "#00cc96",
          "dash": "solid"
         },
         "marker": {
          "symbol": "circle"
         },
         "mode": "lines+markers",
         "name": "Athens",
         "orientation": "v",
         "showlegend": true,
         "type": "scatter",
         "x": [
          "Jan",
          "Feb",
          "Mar",
          "Apr",
          "May",
          "Jun",
          "Jul",
          "Aug",
          "Sep",
          "Oct",
          "Nov",
          "Dec"
         ],
         "xaxis": "x",
         "y": {
          "bdata": "AAAAAAAAIkAAAAAAAAAkQAAAAAAAAChAAAAAAAAAMEAAAAAAAAA1QAAAAAAAADpAAAAAAAAAPUAAAAAAAAA8QAAAAAAAADhAAAAAAAAANEAAAAAAAAAuQAAAAAAAACZA",
          "dtype": "f8"
         },
         "yaxis": "y"
        },
        {
         "hovertemplate": "City=Belgrade<br>Month=%{x}<br>Temperature=%{y}<extra></extra>",
         "legendgroup": "Belgrade",
         "line": {
          "color": "#ab63fa",
          "dash": "solid"
         },
         "marker": {
          "symbol": "circle"
         },
         "mode": "lines+markers",
         "name": "Belgrade",
         "orientation": "v",
         "showlegend": true,
         "type": "scatter",
         "x": [
          "Jan",
          "Feb",
          "Mar",
          "Apr",
          "May",
          "Jun",
          "Jul",
          "Aug",
          "Sep",
          "Oct",
          "Nov",
          "Dec"
         ],
         "xaxis": "x",
         "y": {
          "bdata": "AAAAAAAA8D8AAAAAAAAIQAAAAAAAACBAAAAAAAAAKkAAAAAAAAAxQAAAAAAAADZAAAAAAAAAN0AAAAAAAAA3QAAAAAAAADNAAAAAAAAALEAAAAAAAAAgQAAAAAAAABhA",
          "dtype": "f8"
         },
         "yaxis": "y"
        },
        {
         "hovertemplate": "City=Berlin<br>Month=%{x}<br>Temperature=%{y}<extra></extra>",
         "legendgroup": "Berlin",
         "line": {
          "color": "#FFA15A",
          "dash": "solid"
         },
         "marker": {
          "symbol": "circle"
         },
         "mode": "lines+markers",
         "name": "Berlin",
         "orientation": "v",
         "showlegend": true,
         "type": "scatter",
         "x": [
          "Jan",
          "Feb",
          "Mar",
          "Apr",
          "May",
          "Jun",
          "Jul",
          "Aug",
          "Sep",
          "Oct",
          "Nov",
          "Dec"
         ],
         "xaxis": "x",
         "y": {
          "bdata": "AAAAAAAAAMAAAAAAAADwPwAAAAAAABBAAAAAAAAAJEAAAAAAAAAsQAAAAAAAADJAAAAAAAAANUAAAAAAAAAzQAAAAAAAADBAAAAAAAAAJEAAAAAAAAAQQAAAAAAAAAAA",
          "dtype": "f8"
         },
         "yaxis": "y"
        },
        {
         "hovertemplate": "City=Bern<br>Month=%{x}<br>Temperature=%{y}<extra></extra>",
         "legendgroup": "Bern",
         "line": {
          "color": "#19d3f3",
          "dash": "solid"
         },
         "marker": {
          "symbol": "circle"
         },
         "mode": "lines+markers",
         "name": "Bern",
         "orientation": "v",
         "showlegend": true,
         "type": "scatter",
         "x": [
          "Jan",
          "Feb",
          "Mar",
          "Apr",
          "May",
          "Jun",
          "Jul",
          "Aug",
          "Sep",
          "Oct",
          "Nov",
          "Dec"
         ],
         "xaxis": "x",
         "y": {
          "bdata": "AAAAAAAA8D8AAAAAAADwPwAAAAAAABhAAAAAAAAAJEAAAAAAAAAqQAAAAAAAADFAAAAAAAAAMkAAAAAAAAAzQAAAAAAAAC5AAAAAAAAAJEAAAAAAAAAQQAAAAAAAAPA/",
          "dtype": "f8"
         },
         "yaxis": "y"
        },
        {
         "hovertemplate": "City=Bonn<br>Month=%{x}<br>Temperature=%{y}<extra></extra>",
         "legendgroup": "Bonn",
         "line": {
          "color": "#FF6692",
          "dash": "solid"
         },
         "marker": {
          "symbol": "circle"
         },
         "mode": "lines+markers",
         "name": "Bonn",
         "orientation": "v",
         "showlegend": true,
         "type": "scatter",
         "x": [
          "Jan",
          "Feb",
          "Mar",
          "Apr",
          "May",
          "Jun",
          "Jul",
          "Aug",
          "Sep",
          "Oct",
          "Nov",
          "Dec"
         ],
         "xaxis": "x",
         "y": {
          "bdata": "AAAAAAAA8D8AAAAAAAAAQAAAAAAAABxAAAAAAAAAJkAAAAAAAAAsQAAAAAAAADJAAAAAAAAANEAAAAAAAAAwQAAAAAAAADBAAAAAAAAAJkAAAAAAAAAcQAAAAAAAAABA",
          "dtype": "f8"
         },
         "yaxis": "y"
        },
        {
         "hovertemplate": "City=Bratislava<br>Month=%{x}<br>Temperature=%{y}<extra></extra>",
         "legendgroup": "Bratislava",
         "line": {
          "color": "#B6E880",
          "dash": "solid"
         },
         "marker": {
          "symbol": "circle"
         },
         "mode": "lines+markers",
         "name": "Bratislava",
         "orientation": "v",
         "showlegend": true,
         "type": "scatter",
         "x": [
          "Jan",
          "Feb",
          "Mar",
          "Apr",
          "May",
          "Jun",
          "Jul",
          "Aug",
          "Sep",
          "Oct",
          "Nov",
          "Dec"
         ],
         "xaxis": "x",
         "y": {
          "bdata": "mpmZmZmZ2b8zMzMzMzPzPwAAAAAAABZAAAAAAAAAJkAAAAAAAAAwQJqZmZmZGTNAzczMzMxMNUAzMzMzM7M0QM3MzMzMzC9AzczMzMzMJECamZmZmZkTQGZmZmZmZuY/",
          "dtype": "f8"
         },
         "yaxis": "y"
        },
        {
         "hovertemplate": "City=Bruxells<br>Month=%{x}<br>Temperature=%{y}<extra></extra>",
         "legendgroup": "Bruxells",
         "line": {
          "color": "#FF97FF",
          "dash": "solid"
         },
         "marker": {
          "symbol": "circle"
         },
         "mode": "lines+markers",
         "name": "Bruxells",
         "orientation": "v",
         "showlegend": true,
         "type": "scatter",
         "x": [
          "Jan",
          "Feb",
          "Mar",
          "Apr",
          "May",
          "Jun",
          "Jul",
          "Aug",
          "Sep",
          "Oct",
          "Nov",
          "Dec"
         ],
         "xaxis": "x",
         "y": {
          "bdata": "AAAAAAAA8D8AAAAAAAAQQAAAAAAAABxAAAAAAAAAJkAAAAAAAAAqQAAAAAAAADJAAAAAAAAAM0AAAAAAAAAyQAAAAAAAADFAAAAAAAAAKEAAAAAAAAAcQAAAAAAAAAhA",
          "dtype": "f8"
         },
         "yaxis": "y"
        },
        {
         "hovertemplate": "City=Bucarest<br>Month=%{x}<br>Temperature=%{y}<extra></extra>",
         "legendgroup": "Bucarest",
         "line": {
          "color": "#FECB52",
          "dash": "solid"
         },
         "marker": {
          "symbol": "circle"
         },
         "mode": "lines+markers",
         "name": "Bucarest",
         "orientation": "v",
         "showlegend": true,
         "type": "scatter",
         "x": [
          "Jan",
          "Feb",
          "Mar",
          "Apr",
          "May",
          "Jun",
          "Jul",
          "Aug",
          "Sep",
          "Oct",
          "Nov",
          "Dec"
         ],
         "xaxis": "x",
         "y": {
          "bdata": "AAAAAAAAEMAAAAAAAAAAwAAAAAAAABhAAAAAAAAAKEAAAAAAAAAxQAAAAAAAADVAAAAAAAAAN0AAAAAAAAA3QAAAAAAAADJAAAAAAAAAKkAAAAAAAAAcQAAAAAAAAPA/",
          "dtype": "f8"
         },
         "yaxis": "y"
        },
        {
         "hovertemplate": "City=Budapest<br>Month=%{x}<br>Temperature=%{y}<extra></extra>",
         "legendgroup": "Budapest",
         "line": {
          "color": "#636efa",
          "dash": "solid"
         },
         "marker": {
          "symbol": "circle"
         },
         "mode": "lines+markers",
         "name": "Budapest",
         "orientation": "v",
         "showlegend": true,
         "type": "scatter",
         "x": [
          "Jan",
          "Feb",
          "Mar",
          "Apr",
          "May",
          "Jun",
          "Jul",
          "Aug",
          "Sep",
          "Oct",
          "Nov",
          "Dec"
         ],
         "xaxis": "x",
         "y": {
          "bdata": "AAAAAAAAAMAAAAAAAADwPwAAAAAAABxAAAAAAAAAKkAAAAAAAAAxQAAAAAAAADVAAAAAAAAAN0AAAAAAAAA3QAAAAAAAADJAAAAAAAAAKkAAAAAAAAAYQAAAAAAAAPA/",
          "dtype": "f8"
         },
         "yaxis": "y"
        },
        {
         "hovertemplate": "City=Copenhagen<br>Month=%{x}<br>Temperature=%{y}<extra></extra>",
         "legendgroup": "Copenhagen",
         "line": {
          "color": "#EF553B",
          "dash": "solid"
         },
         "marker": {
          "symbol": "circle"
         },
         "mode": "lines+markers",
         "name": "Copenhagen",
         "orientation": "v",
         "showlegend": true,
         "type": "scatter",
         "x": [
          "Jan",
          "Feb",
          "Mar",
          "Apr",
          "May",
          "Jun",
          "Jul",
          "Aug",
          "Sep",
          "Oct",
          "Nov",
          "Dec"
         ],
         "xaxis": "x",
         "y": {
          "bdata": "AAAAAAAA8L8AAAAAAAAAAAAAAAAAAAhAAAAAAAAAIEAAAAAAAAAqQAAAAAAAADFAAAAAAAAAMkAAAAAAAAAyQAAAAAAAACxAAAAAAAAAIkAAAAAAAAAQQAAAAAAAAABA",
          "dtype": "f8"
         },
         "yaxis": "y"
        },
        {
         "hovertemplate": "City=Dublin<br>Month=%{x}<br>Temperature=%{y}<extra></extra>",
         "legendgroup": "Dublin",
         "line": {
          "color": "#00cc96",
          "dash": "solid"
         },
         "marker": {
          "symbol": "circle"
         },
         "mode": "lines+markers",
         "name": "Dublin",
         "orientation": "v",
         "showlegend": true,
         "type": "scatter",
         "x": [
          "Jan",
          "Feb",
          "Mar",
          "Apr",
          "May",
          "Jun",
          "Jul",
          "Aug",
          "Sep",
          "Oct",
          "Nov",
          "Dec"
         ],
         "xaxis": "x",
         "y": {
          "bdata": "AAAAAAAACEAAAAAAAAAQQAAAAAAAABhAAAAAAAAAIEAAAAAAAAAmQAAAAAAAACxAAAAAAAAAMEAAAAAAAAAsQAAAAAAAAChAAAAAAAAAIkAAAAAAAAAYQAAAAAAAABBA",
          "dtype": "f8"
         },
         "yaxis": "y"
        },
        {
         "hovertemplate": "City=Edinburgh<br>Month=%{x}<br>Temperature=%{y}<extra></extra>",
         "legendgroup": "Edinburgh",
         "line": {
          "color": "#ab63fa",
          "dash": "solid"
         },
         "marker": {
          "symbol": "circle"
         },
         "mode": "lines+markers",
         "name": "Edinburgh",
         "orientation": "v",
         "showlegend": true,
         "type": "scatter",
         "x": [
          "Jan",
          "Feb",
          "Mar",
          "Apr",
          "May",
          "Jun",
          "Jul",
          "Aug",
          "Sep",
          "Oct",
          "Nov",
          "Dec"
         ],
         "xaxis": "x",
         "y": {
          "bdata": "AAAAAAAAFsAzMzMzMzMXwM3MzMzMzPS/ZmZmZmZmFECamZmZmZkmQGZmZmZmZi9AzczMzMzMMkBmZmZmZuYwQDMzMzMzMydAzczMzMzMGECamZmZmZm5P5qZmZmZmQ3A",
          "dtype": "f8"
         },
         "yaxis": "y"
        },
        {
         "hovertemplate": "City=Helsinki<br>Month=%{x}<br>Temperature=%{y}<extra></extra>",
         "legendgroup": "Helsinki",
         "line": {
          "color": "#FFA15A",
          "dash": "solid"
         },
         "marker": {
          "symbol": "circle"
         },
         "mode": "lines+markers",
         "name": "Helsinki",
         "orientation": "v",
         "showlegend": true,
         "type": "scatter",
         "x": [
          "Jan",
          "Feb",
          "Mar",
          "Apr",
          "May",
          "Jun",
          "Jul",
          "Aug",
          "Sep",
          "Oct",
          "Nov",
          "Dec"
         ],
         "xaxis": "x",
         "y": {
          "bdata": "AAAAAAAAIsAAAAAAAAAgwAAAAAAAABDAAAAAAAAACEAAAAAAAAAkQAAAAAAAAC5AAAAAAAAAMkAAAAAAAAAwQAAAAAAAACZAAAAAAAAAEEAAAAAAAADwvwAAAAAAABjA",
          "dtype": "f8"
         },
         "yaxis": "y"
        },
        {
         "hovertemplate": "City=Lisbon<br>Month=%{x}<br>Temperature=%{y}<extra></extra>",
         "legendgroup": "Lisbon",
         "line": {
          "color": "#19d3f3",
          "dash": "solid"
         },
         "marker": {
          "symbol": "circle"
         },
         "mode": "lines+markers",
         "name": "Lisbon",
         "orientation": "v",
         "showlegend": true,
         "type": "scatter",
         "x": [
          "Jan",
          "Feb",
          "Mar",
          "Apr",
          "May",
          "Jun",
          "Jul",
          "Aug",
          "Sep",
          "Oct",
          "Nov",
          "Dec"
         ],
         "xaxis": "x",
         "y": {
          "bdata": "AAAAAAAAJkAAAAAAAAAoQAAAAAAAAC5AAAAAAAAAMUAAAAAAAAAzQAAAAAAAADdAAAAAAAAAOUAAAAAAAAA4QAAAAAAAADdAAAAAAAAAM0AAAAAAAAAsQAAAAAAAACZA",
          "dtype": "f8"
         },
         "yaxis": "y"
        },
        {
         "hovertemplate": "City=Ljubljana<br>Month=%{x}<br>Temperature=%{y}<extra></extra>",
         "legendgroup": "Ljubljana",
         "line": {
          "color": "#FF6692",
          "dash": "solid"
         },
         "marker": {
          "symbol": "circle"
         },
         "mode": "lines+markers",
         "name": "Ljubljana",
         "orientation": "v",
         "showlegend": true,
         "type": "scatter",
         "x": [
          "Jan",
          "Feb",
          "Mar",
          "Apr",
          "May",
          "Jun",
          "Jul",
          "Aug",
          "Sep",
          "Oct",
          "Nov",
          "Dec"
         ],
         "xaxis": "x",
         "y": {
          "bdata": "MzMzMzMz0z9mZmZmZmb+PwAAAAAAABpAmpmZmZmZJUCamZmZmZkvQJqZmZmZGTNAzczMzMxMNUCamZmZmZk0QAAAAAAAADBAZmZmZmZmJkBmZmZmZmYWQDMzMzMzM/M/",
          "dtype": "f8"
         },
         "yaxis": "y"
        },
        {
         "hovertemplate": "City=London<br>Month=%{x}<br>Temperature=%{y}<extra></extra>",
         "legendgroup": "London",
         "line": {
          "color": "#B6E880",
          "dash": "solid"
         },
         "marker": {
          "symbol": "circle"
         },
         "mode": "lines+markers",
         "name": "London",
         "orientation": "v",
         "showlegend": true,
         "type": "scatter",
         "x": [
          "Jan",
          "Feb",
          "Mar",
          "Apr",
          "May",
          "Jun",
          "Jul",
          "Aug",
          "Sep",
          "Oct",
          "Nov",
          "Dec"
         ],
         "xaxis": "x",
         "y": {
          "bdata": "AAAAAAAAHEAAAAAAAAAgQAAAAAAAACRAAAAAAAAAKkAAAAAAAAAxQAAAAAAAADRAAAAAAAAANkAAAAAAAAA1QAAAAAAAADNAAAAAAAAALkAAAAAAAAAkQAAAAAAAACBA",
          "dtype": "f8"
         },
         "yaxis": "y"
        },
        {
         "hovertemplate": "City=Luxemborg<br>Month=%{x}<br>Temperature=%{y}<extra></extra>",
         "legendgroup": "Luxemborg",
         "line": {
          "color": "#FF97FF",
          "dash": "solid"
         },
         "marker": {
          "symbol": "circle"
         },
         "mode": "lines+markers",
         "name": "Luxemborg",
         "orientation": "v",
         "showlegend": true,
         "type": "scatter",
         "x": [
          "Jan",
          "Feb",
          "Mar",
          "Apr",
          "May",
          "Jun",
          "Jul",
          "Aug",
          "Sep",
          "Oct",
          "Nov",
          "Dec"
         ],
         "xaxis": "x",
         "y": {
          "bdata": "AAAAAAAAAAAAAAAAAADwPwAAAAAAABxAAAAAAAAAJkAAAAAAAAAqQAAAAAAAADFAAAAAAAAAM0AAAAAAAAAyQAAAAAAAAC5AAAAAAAAAIkAAAAAAAAAQQAAAAAAAAABA",
          "dtype": "f8"
         },
         "yaxis": "y"
        },
        {
         "hovertemplate": "City=Madrid<br>Month=%{x}<br>Temperature=%{y}<extra></extra>",
         "legendgroup": "Madrid",
         "line": {
          "color": "#FECB52",
          "dash": "solid"
         },
         "marker": {
          "symbol": "circle"
         },
         "mode": "lines+markers",
         "name": "Madrid",
         "orientation": "v",
         "showlegend": true,
         "type": "scatter",
         "x": [
          "Jan",
          "Feb",
          "Mar",
          "Apr",
          "May",
          "Jun",
          "Jul",
          "Aug",
          "Sep",
          "Oct",
          "Nov",
          "Dec"
         ],
         "xaxis": "x",
         "y": {
          "bdata": "MzMzMzMzGUCamZmZmZkfQGZmZmZmZiZAzczMzMzMKUAzMzMzM7MwQDMzMzMzMzZAmpmZmZmZOUCamZmZmRk5QGZmZmZm5jRAMzMzMzMzLkDNzMzMzMwjQJqZmZmZmRtA",
          "dtype": "f8"
         },
         "yaxis": "y"
        },
        {
         "hovertemplate": "City=Marbella<br>Month=%{x}<br>Temperature=%{y}<extra></extra>",
         "legendgroup": "Marbella",
         "line": {
          "color": "#636efa",
          "dash": "solid"
         },
         "marker": {
          "symbol": "circle"
         },
         "mode": "lines+markers",
         "name": "Marbella",
         "orientation": "v",
         "showlegend": true,
         "type": "scatter",
         "x": [
          "Jan",
          "Feb",
          "Mar",
          "Apr",
          "May",
          "Jun",
          "Jul",
          "Aug",
          "Sep",
          "Oct",
          "Nov",
          "Dec"
         ],
         "xaxis": "x",
         "y": {
          "bdata": "AAAAAAAAMUAAAAAAAAAxQAAAAAAAADJAAAAAAAAANUAAAAAAAAA3QAAAAAAAADtAAAAAAAAAPUAAAAAAAAA+QAAAAAAAADtAAAAAAAAAN0AAAAAAAAA0QAAAAAAAADFA",
          "dtype": "f8"
         },
         "yaxis": "y"
        },
        {
         "hovertemplate": "City=Milan<br>Month=%{x}<br>Temperature=%{y}<extra></extra>",
         "legendgroup": "Milan",
         "line": {
          "color": "#EF553B",
          "dash": "solid"
         },
         "marker": {
          "symbol": "circle"
         },
         "mode": "lines+markers",
         "name": "Milan",
         "orientation": "v",
         "showlegend": true,
         "type": "scatter",
         "x": [
          "Jan",
          "Feb",
          "Mar",
          "Apr",
          "May",
          "Jun",
          "Jul",
          "Aug",
          "Sep",
          "Oct",
          "Nov",
          "Dec"
         ],
         "xaxis": "x",
         "y": {
          "bdata": "AAAAAAAABEDNzMzMzMwSQAAAAAAAACJAZmZmZmZmKEAAAAAAAAAxQM3MzMzMzDRAmpmZmZmZN0AAAAAAAAA3QDMzMzMzMzNAzczMzMzMKkDNzMzMzMwcQGZmZmZmZgpA",
          "dtype": "f8"
         },
         "yaxis": "y"
        },
        {
         "hovertemplate": "City=Moscow<br>Month=%{x}<br>Temperature=%{y}<extra></extra>",
         "legendgroup": "Moscow",
         "line": {
          "color": "#00cc96",
          "dash": "solid"
         },
         "marker": {
          "symbol": "circle"
         },
         "mode": "lines+markers",
         "name": "Moscow",
         "orientation": "v",
         "showlegend": true,
         "type": "scatter",
         "x": [
          "Jan",
          "Feb",
          "Mar",
          "Apr",
          "May",
          "Jun",
          "Jul",
          "Aug",
          "Sep",
          "Oct",
          "Nov",
          "Dec"
         ],
         "xaxis": "x",
         "y": {
          "bdata": "AAAAAAAALMAAAAAAAAAowAAAAAAAABjAAAAAAAAAGEAAAAAAAAAsQAAAAAAAAC5AAAAAAAAAMkAAAAAAAAAxQAAAAAAAAChAAAAAAAAAGEAAAAAAAAAAwAAAAAAAACTA",
          "dtype": "f8"
         },
         "yaxis": "y"
        },
        {
         "hovertemplate": "City=Oslo<br>Month=%{x}<br>Temperature=%{y}<extra></extra>",
         "legendgroup": "Oslo",
         "line": {
          "color": "#ab63fa",
          "dash": "solid"
         },
         "marker": {
          "symbol": "circle"
         },
         "mode": "lines+markers",
         "name": "Oslo",
         "orientation": "v",
         "showlegend": true,
         "type": "scatter",
         "x": [
          "Jan",
          "Feb",
          "Mar",
          "Apr",
          "May",
          "Jun",
          "Jul",
          "Aug",
          "Sep",
          "Oct",
          "Nov",
          "Dec"
         ],
         "xaxis": "x",
         "y": {
          "bdata": "AAAAAAAAFMAAAAAAAAAQwAAAAAAAAPA/AAAAAAAAFEAAAAAAAAAmQAAAAAAAADBAAAAAAAAAMUAAAAAAAAAwQAAAAAAAACZAAAAAAAAAHEAAAAAAAAAAQAAAAAAAAAhA",
          "dtype": "f8"
         },
         "yaxis": "y"
        },
        {
         "hovertemplate": "City=Paris<br>Month=%{x}<br>Temperature=%{y}<extra></extra>",
         "legendgroup": "Paris",
         "line": {
          "color": "#FFA15A",
          "dash": "solid"
         },
         "marker": {
          "symbol": "circle"
         },
         "mode": "lines+markers",
         "name": "Paris",
         "orientation": "v",
         "showlegend": true,
         "type": "scatter",
         "x": [
          "Jan",
          "Feb",
          "Mar",
          "Apr",
          "May",
          "Jun",
          "Jul",
          "Aug",
          "Sep",
          "Oct",
          "Nov",
          "Dec"
         ],
         "xaxis": "x",
         "y": {
          "bdata": "AAAAAAAAEEAAAAAAAAAUQAAAAAAAACJAAAAAAAAAKkAAAAAAAAAwQAAAAAAAADNAAAAAAAAANkAAAAAAAAA1QAAAAAAAADJAAAAAAAAAKkAAAAAAAAAcQAAAAAAAABBA",
          "dtype": "f8"
         },
         "yaxis": "y"
        },
        {
         "hovertemplate": "City=Prague<br>Month=%{x}<br>Temperature=%{y}<extra></extra>",
         "legendgroup": "Prague",
         "line": {
          "color": "#19d3f3",
          "dash": "solid"
         },
         "marker": {
          "symbol": "circle"
         },
         "mode": "lines+markers",
         "name": "Prague",
         "orientation": "v",
         "showlegend": true,
         "type": "scatter",
         "x": [
          "Jan",
          "Feb",
          "Mar",
          "Apr",
          "May",
          "Jun",
          "Jul",
          "Aug",
          "Sep",
          "Oct",
          "Nov",
          "Dec"
         ],
         "xaxis": "x",
         "y": {
          "bdata": "AAAAAAAAAMAAAAAAAADwvwAAAAAAABBAAAAAAAAAJkAAAAAAAAAuQAAAAAAAADNAAAAAAAAANUAAAAAAAAA0QAAAAAAAADBAAAAAAAAAJEAAAAAAAAAQQAAAAAAAAAAA",
          "dtype": "f8"
         },
         "yaxis": "y"
        },
        {
         "hovertemplate": "City=Rome<br>Month=%{x}<br>Temperature=%{y}<extra></extra>",
         "legendgroup": "Rome",
         "line": {
          "color": "#FF6692",
          "dash": "solid"
         },
         "marker": {
          "symbol": "circle"
         },
         "mode": "lines+markers",
         "name": "Rome",
         "orientation": "v",
         "showlegend": true,
         "type": "scatter",
         "x": [
          "Jan",
          "Feb",
          "Mar",
          "Apr",
          "May",
          "Jun",
          "Jul",
          "Aug",
          "Sep",
          "Oct",
          "Nov",
          "Dec"
         ],
         "xaxis": "x",
         "y": {
          "bdata": "AAAAAAAAHEAAAAAAAAAgQAAAAAAAACZAAAAAAAAALEAAAAAAAAAyQAAAAAAAADdAAAAAAAAAOUAAAAAAAAA5QAAAAAAAADZAAAAAAAAAMUAAAAAAAAAoQAAAAAAAACJA",
          "dtype": "f8"
         },
         "yaxis": "y"
        },
        {
         "hovertemplate": "City=Skopje<br>Month=%{x}<br>Temperature=%{y}<extra></extra>",
         "legendgroup": "Skopje",
         "line": {
          "color": "#B6E880",
          "dash": "solid"
         },
         "marker": {
          "symbol": "circle"
         },
         "mode": "lines+markers",
         "name": "Skopje",
         "orientation": "v",
         "showlegend": true,
         "type": "scatter",
         "x": [
          "Jan",
          "Feb",
          "Mar",
          "Apr",
          "May",
          "Jun",
          "Jul",
          "Aug",
          "Sep",
          "Oct",
          "Nov",
          "Dec"
         ],
         "xaxis": "x",
         "y": {
          "bdata": "mpmZmZmZuT/NzMzMzMwEQGZmZmZmZh5AMzMzMzMzKEDNzMzMzEwxQAAAAAAAgDVAzczMzMzMN0DNzMzMzMw3QM3MzMzMzDJAMzMzMzMzKkAAAAAAAAAaQDMzMzMzM/s/",
          "dtype": "f8"
         },
         "yaxis": "y"
        },
        {
         "hovertemplate": "City=Sofia<br>Month=%{x}<br>Temperature=%{y}<extra></extra>",
         "legendgroup": "Sofia",
         "line": {
          "color": "#FF97FF",
          "dash": "solid"
         },
         "marker": {
          "symbol": "circle"
         },
         "mode": "lines+markers",
         "name": "Sofia",
         "orientation": "v",
         "showlegend": true,
         "type": "scatter",
         "x": [
          "Jan",
          "Feb",
          "Mar",
          "Apr",
          "May",
          "Jun",
          "Jul",
          "Aug",
          "Sep",
          "Oct",
          "Nov",
          "Dec"
         ],
         "xaxis": "x",
         "y": {
          "bdata": "AAAAAAAA8L8AAAAAAADwPwAAAAAAABxAAAAAAAAAKEAAAAAAAAAwQAAAAAAAADNAAAAAAAAANkAAAAAAAAA1QAAAAAAAADFAAAAAAAAAKEAAAAAAAAAcQAAAAAAAAPA/",
          "dtype": "f8"
         },
         "yaxis": "y"
        },
        {
         "hovertemplate": "City=St. Petersberg<br>Month=%{x}<br>Temperature=%{y}<extra></extra>",
         "legendgroup": "St. Petersberg",
         "line": {
          "color": "#FECB52",
          "dash": "solid"
         },
         "marker": {
          "symbol": "circle"
         },
         "mode": "lines+markers",
         "name": "St. Petersberg",
         "orientation": "v",
         "showlegend": true,
         "type": "scatter",
         "x": [
          "Jan",
          "Feb",
          "Mar",
          "Apr",
          "May",
          "Jun",
          "Jul",
          "Aug",
          "Sep",
          "Oct",
          "Nov",
          "Dec"
         ],
         "xaxis": "x",
         "y": {
          "bdata": "zczMzMzMEEAAAAAAAAASQM3MzMzMzBhAMzMzMzMzIECamZmZmZklQAAAAAAAACtAmpmZmZmZLkBmZmZmZmYuQAAAAAAAACpAmpmZmZmZI0DNzMzMzMwaQM3MzMzMzBBA",
          "dtype": "f8"
         },
         "yaxis": "y"
        },
        {
         "hovertemplate": "City=Stockholm<br>Month=%{x}<br>Temperature=%{y}<extra></extra>",
         "legendgroup": "Stockholm",
         "line": {
          "color": "#636efa",
          "dash": "solid"
         },
         "marker": {
          "symbol": "circle"
         },
         "mode": "lines+markers",
         "name": "Stockholm",
         "orientation": "v",
         "showlegend": true,
         "type": "scatter",
         "x": [
          "Jan",
          "Feb",
          "Mar",
          "Apr",
          "May",
          "Jun",
          "Jul",
          "Aug",
          "Sep",
          "Oct",
          "Nov",
          "Dec"
         ],
         "xaxis": "x",
         "y": {
          "bdata": "AAAAAAAAEMAAAAAAAAAQwAAAAAAAAPC/AAAAAAAAGEAAAAAAAAAmQAAAAAAAADBAAAAAAAAAM0AAAAAAAAAxQAAAAAAAAChAAAAAAAAAHEAAAAAAAAAAQAAAAAAAAPC/",
          "dtype": "f8"
         },
         "yaxis": "y"
        },
        {
         "hovertemplate": "City=Vienna<br>Month=%{x}<br>Temperature=%{y}<extra></extra>",
         "legendgroup": "Vienna",
         "line": {
          "color": "#EF553B",
          "dash": "solid"
         },
         "marker": {
          "symbol": "circle"
         },
         "mode": "lines+markers",
         "name": "Vienna",
         "orientation": "v",
         "showlegend": true,
         "type": "scatter",
         "x": [
          "Jan",
          "Feb",
          "Mar",
          "Apr",
          "May",
          "Jun",
          "Jul",
          "Aug",
          "Sep",
          "Oct",
          "Nov",
          "Dec"
         ],
         "xaxis": "x",
         "y": {
          "bdata": "AAAAAAAA8L8AAAAAAADwPwAAAAAAABhAAAAAAAAAKEAAAAAAAAAuQAAAAAAAACZAAAAAAAAALkAAAAAAAAA1QAAAAAAAADFAAAAAAAAAJkAAAAAAAAAYQAAAAAAAAABA",
          "dtype": "f8"
         },
         "yaxis": "y"
        },
        {
         "hovertemplate": "City=Warsaw<br>Month=%{x}<br>Temperature=%{y}<extra></extra>",
         "legendgroup": "Warsaw",
         "line": {
          "color": "#00cc96",
          "dash": "solid"
         },
         "marker": {
          "symbol": "circle"
         },
         "mode": "lines+markers",
         "name": "Warsaw",
         "orientation": "v",
         "showlegend": true,
         "type": "scatter",
         "x": [
          "Jan",
          "Feb",
          "Mar",
          "Apr",
          "May",
          "Jun",
          "Jul",
          "Aug",
          "Sep",
          "Oct",
          "Nov",
          "Dec"
         ],
         "xaxis": "x",
         "y": {
          "bdata": "AAAAAAAAFMAAAAAAAAAQwAAAAAAAAAhAAAAAAAAAIkAAAAAAAAAwQAAAAAAAADJAAAAAAAAANUAAAAAAAAAzQAAAAAAAADBAAAAAAAAAJEAAAAAAAAAQQAAAAAAAAABA",
          "dtype": "f8"
         },
         "yaxis": "y"
        }
       ],
       "layout": {
        "autosize": false,
        "height": 800,
        "hovermode": "x unified",
        "legend": {
         "title": {
          "text": "Click a city to toggle"
         },
         "tracegroupgap": 0
        },
        "margin": {
         "b": 40,
         "l": 40,
         "r": 20,
         "t": 80
        },
        "template": {
         "data": {
          "bar": [
           {
            "error_x": {
             "color": "#2a3f5f"
            },
            "error_y": {
             "color": "#2a3f5f"
            },
            "marker": {
             "line": {
              "color": "#E5ECF6",
              "width": 0.5
             },
             "pattern": {
              "fillmode": "overlay",
              "size": 10,
              "solidity": 0.2
             }
            },
            "type": "bar"
           }
          ],
          "barpolar": [
           {
            "marker": {
             "line": {
              "color": "#E5ECF6",
              "width": 0.5
             },
             "pattern": {
              "fillmode": "overlay",
              "size": 10,
              "solidity": 0.2
             }
            },
            "type": "barpolar"
           }
          ],
          "carpet": [
           {
            "aaxis": {
             "endlinecolor": "#2a3f5f",
             "gridcolor": "white",
             "linecolor": "white",
             "minorgridcolor": "white",
             "startlinecolor": "#2a3f5f"
            },
            "baxis": {
             "endlinecolor": "#2a3f5f",
             "gridcolor": "white",
             "linecolor": "white",
             "minorgridcolor": "white",
             "startlinecolor": "#2a3f5f"
            },
            "type": "carpet"
           }
          ],
          "choropleth": [
           {
            "colorbar": {
             "outlinewidth": 0,
             "ticks": ""
            },
            "type": "choropleth"
           }
          ],
          "contour": [
           {
            "colorbar": {
             "outlinewidth": 0,
             "ticks": ""
            },
            "colorscale": [
             [
              0,
              "#0d0887"
             ],
             [
              0.1111111111111111,
              "#46039f"
             ],
             [
              0.2222222222222222,
              "#7201a8"
             ],
             [
              0.3333333333333333,
              "#9c179e"
             ],
             [
              0.4444444444444444,
              "#bd3786"
             ],
             [
              0.5555555555555556,
              "#d8576b"
             ],
             [
              0.6666666666666666,
              "#ed7953"
             ],
             [
              0.7777777777777778,
              "#fb9f3a"
             ],
             [
              0.8888888888888888,
              "#fdca26"
             ],
             [
              1,
              "#f0f921"
             ]
            ],
            "type": "contour"
           }
          ],
          "contourcarpet": [
           {
            "colorbar": {
             "outlinewidth": 0,
             "ticks": ""
            },
            "type": "contourcarpet"
           }
          ],
          "heatmap": [
           {
            "colorbar": {
             "outlinewidth": 0,
             "ticks": ""
            },
            "colorscale": [
             [
              0,
              "#0d0887"
             ],
             [
              0.1111111111111111,
              "#46039f"
             ],
             [
              0.2222222222222222,
              "#7201a8"
             ],
             [
              0.3333333333333333,
              "#9c179e"
             ],
             [
              0.4444444444444444,
              "#bd3786"
             ],
             [
              0.5555555555555556,
              "#d8576b"
             ],
             [
              0.6666666666666666,
              "#ed7953"
             ],
             [
              0.7777777777777778,
              "#fb9f3a"
             ],
             [
              0.8888888888888888,
              "#fdca26"
             ],
             [
              1,
              "#f0f921"
             ]
            ],
            "type": "heatmap"
           }
          ],
          "histogram": [
           {
            "marker": {
             "pattern": {
              "fillmode": "overlay",
              "size": 10,
              "solidity": 0.2
             }
            },
            "type": "histogram"
           }
          ],
          "histogram2d": [
           {
            "colorbar": {
             "outlinewidth": 0,
             "ticks": ""
            },
            "colorscale": [
             [
              0,
              "#0d0887"
             ],
             [
              0.1111111111111111,
              "#46039f"
             ],
             [
              0.2222222222222222,
              "#7201a8"
             ],
             [
              0.3333333333333333,
              "#9c179e"
             ],
             [
              0.4444444444444444,
              "#bd3786"
             ],
             [
              0.5555555555555556,
              "#d8576b"
             ],
             [
              0.6666666666666666,
              "#ed7953"
             ],
             [
              0.7777777777777778,
              "#fb9f3a"
             ],
             [
              0.8888888888888888,
              "#fdca26"
             ],
             [
              1,
              "#f0f921"
             ]
            ],
            "type": "histogram2d"
           }
          ],
          "histogram2dcontour": [
           {
            "colorbar": {
             "outlinewidth": 0,
             "ticks": ""
            },
            "colorscale": [
             [
              0,
              "#0d0887"
             ],
             [
              0.1111111111111111,
              "#46039f"
             ],
             [
              0.2222222222222222,
              "#7201a8"
             ],
             [
              0.3333333333333333,
              "#9c179e"
             ],
             [
              0.4444444444444444,
              "#bd3786"
             ],
             [
              0.5555555555555556,
              "#d8576b"
             ],
             [
              0.6666666666666666,
              "#ed7953"
             ],
             [
              0.7777777777777778,
              "#fb9f3a"
             ],
             [
              0.8888888888888888,
              "#fdca26"
             ],
             [
              1,
              "#f0f921"
             ]
            ],
            "type": "histogram2dcontour"
           }
          ],
          "mesh3d": [
           {
            "colorbar": {
             "outlinewidth": 0,
             "ticks": ""
            },
            "type": "mesh3d"
           }
          ],
          "parcoords": [
           {
            "line": {
             "colorbar": {
              "outlinewidth": 0,
              "ticks": ""
             }
            },
            "type": "parcoords"
           }
          ],
          "pie": [
           {
            "automargin": true,
            "type": "pie"
           }
          ],
          "scatter": [
           {
            "fillpattern": {
             "fillmode": "overlay",
             "size": 10,
             "solidity": 0.2
            },
            "type": "scatter"
           }
          ],
          "scatter3d": [
           {
            "line": {
             "colorbar": {
              "outlinewidth": 0,
              "ticks": ""
             }
            },
            "marker": {
             "colorbar": {
              "outlinewidth": 0,
              "ticks": ""
             }
            },
            "type": "scatter3d"
           }
          ],
          "scattercarpet": [
           {
            "marker": {
             "colorbar": {
              "outlinewidth": 0,
              "ticks": ""
             }
            },
            "type": "scattercarpet"
           }
          ],
          "scattergeo": [
           {
            "marker": {
             "colorbar": {
              "outlinewidth": 0,
              "ticks": ""
             }
            },
            "type": "scattergeo"
           }
          ],
          "scattergl": [
           {
            "marker": {
             "colorbar": {
              "outlinewidth": 0,
              "ticks": ""
             }
            },
            "type": "scattergl"
           }
          ],
          "scattermap": [
           {
            "marker": {
             "colorbar": {
              "outlinewidth": 0,
              "ticks": ""
             }
            },
            "type": "scattermap"
           }
          ],
          "scattermapbox": [
           {
            "marker": {
             "colorbar": {
              "outlinewidth": 0,
              "ticks": ""
             }
            },
            "type": "scattermapbox"
           }
          ],
          "scatterpolar": [
           {
            "marker": {
             "colorbar": {
              "outlinewidth": 0,
              "ticks": ""
             }
            },
            "type": "scatterpolar"
           }
          ],
          "scatterpolargl": [
           {
            "marker": {
             "colorbar": {
              "outlinewidth": 0,
              "ticks": ""
             }
            },
            "type": "scatterpolargl"
           }
          ],
          "scatterternary": [
           {
            "marker": {
             "colorbar": {
              "outlinewidth": 0,
              "ticks": ""
             }
            },
            "type": "scatterternary"
           }
          ],
          "surface": [
           {
            "colorbar": {
             "outlinewidth": 0,
             "ticks": ""
            },
            "colorscale": [
             [
              0,
              "#0d0887"
             ],
             [
              0.1111111111111111,
              "#46039f"
             ],
             [
              0.2222222222222222,
              "#7201a8"
             ],
             [
              0.3333333333333333,
              "#9c179e"
             ],
             [
              0.4444444444444444,
              "#bd3786"
             ],
             [
              0.5555555555555556,
              "#d8576b"
             ],
             [
              0.6666666666666666,
              "#ed7953"
             ],
             [
              0.7777777777777778,
              "#fb9f3a"
             ],
             [
              0.8888888888888888,
              "#fdca26"
             ],
             [
              1,
              "#f0f921"
             ]
            ],
            "type": "surface"
           }
          ],
          "table": [
           {
            "cells": {
             "fill": {
              "color": "#EBF0F8"
             },
             "line": {
              "color": "white"
             }
            },
            "header": {
             "fill": {
              "color": "#C8D4E3"
             },
             "line": {
              "color": "white"
             }
            },
            "type": "table"
           }
          ]
         },
         "layout": {
          "annotationdefaults": {
           "arrowcolor": "#2a3f5f",
           "arrowhead": 0,
           "arrowwidth": 1
          },
          "autotypenumbers": "strict",
          "coloraxis": {
           "colorbar": {
            "outlinewidth": 0,
            "ticks": ""
           }
          },
          "colorscale": {
           "diverging": [
            [
             0,
             "#8e0152"
            ],
            [
             0.1,
             "#c51b7d"
            ],
            [
             0.2,
             "#de77ae"
            ],
            [
             0.3,
             "#f1b6da"
            ],
            [
             0.4,
             "#fde0ef"
            ],
            [
             0.5,
             "#f7f7f7"
            ],
            [
             0.6,
             "#e6f5d0"
            ],
            [
             0.7,
             "#b8e186"
            ],
            [
             0.8,
             "#7fbc41"
            ],
            [
             0.9,
             "#4d9221"
            ],
            [
             1,
             "#276419"
            ]
           ],
           "sequential": [
            [
             0,
             "#0d0887"
            ],
            [
             0.1111111111111111,
             "#46039f"
            ],
            [
             0.2222222222222222,
             "#7201a8"
            ],
            [
             0.3333333333333333,
             "#9c179e"
            ],
            [
             0.4444444444444444,
             "#bd3786"
            ],
            [
             0.5555555555555556,
             "#d8576b"
            ],
            [
             0.6666666666666666,
             "#ed7953"
            ],
            [
             0.7777777777777778,
             "#fb9f3a"
            ],
            [
             0.8888888888888888,
             "#fdca26"
            ],
            [
             1,
             "#f0f921"
            ]
           ],
           "sequentialminus": [
            [
             0,
             "#0d0887"
            ],
            [
             0.1111111111111111,
             "#46039f"
            ],
            [
             0.2222222222222222,
             "#7201a8"
            ],
            [
             0.3333333333333333,
             "#9c179e"
            ],
            [
             0.4444444444444444,
             "#bd3786"
            ],
            [
             0.5555555555555556,
             "#d8576b"
            ],
            [
             0.6666666666666666,
             "#ed7953"
            ],
            [
             0.7777777777777778,
             "#fb9f3a"
            ],
            [
             0.8888888888888888,
             "#fdca26"
            ],
            [
             1,
             "#f0f921"
            ]
           ]
          },
          "colorway": [
           "#636efa",
           "#EF553B",
           "#00cc96",
           "#ab63fa",
           "#FFA15A",
           "#19d3f3",
           "#FF6692",
           "#B6E880",
           "#FF97FF",
           "#FECB52"
          ],
          "font": {
           "color": "#2a3f5f"
          },
          "geo": {
           "bgcolor": "white",
           "lakecolor": "white",
           "landcolor": "#E5ECF6",
           "showlakes": true,
           "showland": true,
           "subunitcolor": "white"
          },
          "hoverlabel": {
           "align": "left"
          },
          "hovermode": "closest",
          "mapbox": {
           "style": "light"
          },
          "paper_bgcolor": "white",
          "plot_bgcolor": "#E5ECF6",
          "polar": {
           "angularaxis": {
            "gridcolor": "white",
            "linecolor": "white",
            "ticks": ""
           },
           "bgcolor": "#E5ECF6",
           "radialaxis": {
            "gridcolor": "white",
            "linecolor": "white",
            "ticks": ""
           }
          },
          "scene": {
           "xaxis": {
            "backgroundcolor": "#E5ECF6",
            "gridcolor": "white",
            "gridwidth": 2,
            "linecolor": "white",
            "showbackground": true,
            "ticks": "",
            "zerolinecolor": "white"
           },
           "yaxis": {
            "backgroundcolor": "#E5ECF6",
            "gridcolor": "white",
            "gridwidth": 2,
            "linecolor": "white",
            "showbackground": true,
            "ticks": "",
            "zerolinecolor": "white"
           },
           "zaxis": {
            "backgroundcolor": "#E5ECF6",
            "gridcolor": "white",
            "gridwidth": 2,
            "linecolor": "white",
            "showbackground": true,
            "ticks": "",
            "zerolinecolor": "white"
           }
          },
          "shapedefaults": {
           "line": {
            "color": "#2a3f5f"
           }
          },
          "ternary": {
           "aaxis": {
            "gridcolor": "white",
            "linecolor": "white",
            "ticks": ""
           },
           "baxis": {
            "gridcolor": "white",
            "linecolor": "white",
            "ticks": ""
           },
           "bgcolor": "#E5ECF6",
           "caxis": {
            "gridcolor": "white",
            "linecolor": "white",
            "ticks": ""
           }
          },
          "title": {
           "x": 0.05
          },
          "xaxis": {
           "automargin": true,
           "gridcolor": "white",
           "linecolor": "white",
           "ticks": "",
           "title": {
            "standoff": 15
           },
           "zerolinecolor": "white",
           "zerolinewidth": 2
          },
          "yaxis": {
           "automargin": true,
           "gridcolor": "white",
           "linecolor": "white",
           "ticks": "",
           "title": {
            "standoff": 15
           },
           "zerolinecolor": "white",
           "zerolinewidth": 2
          }
         }
        },
        "title": {
         "text": "Monthly Temperature by City"
        },
        "updatemenus": [
         {
          "buttons": [
           {
            "args": [
             {
              "visible": [
               true,
               true,
               true,
               true,
               true,
               true,
               true,
               true,
               true,
               true,
               true,
               true,
               true,
               true,
               true,
               true,
               true,
               true,
               true,
               true,
               true,
               true,
               true,
               true,
               true,
               true,
               true,
               true,
               true,
               true,
               true,
               true,
               true
              ]
             }
            ],
            "label": "Show All",
            "method": "update"
           },
           {
            "args": [
             {
              "visible": [
               false,
               false,
               false,
               false,
               false,
               false,
               false,
               false,
               false,
               false,
               false,
               false,
               false,
               false,
               false,
               false,
               false,
               false,
               false,
               false,
               false,
               false,
               false,
               false,
               false,
               false,
               false,
               false,
               false,
               false,
               false,
               false,
               false
              ]
             }
            ],
            "label": "Hide All",
            "method": "update"
           }
          ],
          "direction": "right",
          "type": "buttons",
          "x": 1,
          "xanchor": "right",
          "y": 1.15,
          "yanchor": "top"
         }
        ],
        "width": 1200,
        "xaxis": {
         "anchor": "y",
         "categoryarray": [
          "Jan",
          "Feb",
          "Mar",
          "Apr",
          "May",
          "Jun",
          "Jul",
          "Aug",
          "Sep",
          "Oct",
          "Nov",
          "Dec"
         ],
         "categoryorder": "array",
         "domain": [
          0,
          1
         ],
         "title": {
          "text": "Month"
         },
         "type": "category"
        },
        "yaxis": {
         "anchor": "x",
         "domain": [
          0,
          1
         ],
         "title": {
          "text": "Temperature"
         }
        }
       }
      }
     },
     "metadata": {},
     "output_type": "display_data"
    }
   ],
   "source": [
    "# 1) Line chart\n",
    "fig1 = fig_line_monthly(long_df, city_col); fig1.show()"
   ]
  },
  {
   "cell_type": "code",
   "execution_count": 4,
   "id": "8d1247c5",
   "metadata": {},
   "outputs": [
    {
     "data": {
      "application/vnd.plotly.v1+json": {
       "config": {
        "plotlyServerURL": "https://plot.ly"
       },
       "data": [
        {
         "customdata": [
          [
           "Jan",
           "Feb",
           "Mar"
          ]
         ],
         "hovertemplate": "<b>%{text}</b><br>X (%{customdata[0]}): %{x}<br>Y (%{customdata[1]}): %{y}<br>Z (%{customdata[2]}): %{z}<extra></extra>",
         "marker": {
          "size": 6
         },
         "mode": "markers",
         "name": "Amsterdam",
         "text": [
          "Amsterdam"
         ],
         "textfont": {
          "size": 10
         },
         "type": "scatter3d",
         "x": [
          2
         ],
         "y": [
          2
         ],
         "z": [
          5
         ]
        },
        {
         "customdata": [
          [
           "Jan",
           "Feb",
           "Mar"
          ]
         ],
         "hovertemplate": "<b>%{text}</b><br>X (%{customdata[0]}): %{x}<br>Y (%{customdata[1]}): %{y}<br>Z (%{customdata[2]}): %{z}<extra></extra>",
         "marker": {
          "size": 6
         },
         "mode": "markers",
         "name": "Ankara",
         "text": [
          "Ankara"
         ],
         "textfont": {
          "size": 10
         },
         "type": "scatter3d",
         "x": [
          1
         ],
         "y": [
          0
         ],
         "z": [
          6
         ]
        },
        {
         "customdata": [
          [
           "Jan",
           "Feb",
           "Mar"
          ]
         ],
         "hovertemplate": "<b>%{text}</b><br>X (%{customdata[0]}): %{x}<br>Y (%{customdata[1]}): %{y}<br>Z (%{customdata[2]}): %{z}<extra></extra>",
         "marker": {
          "size": 6
         },
         "mode": "markers",
         "name": "Athens",
         "text": [
          "Athens"
         ],
         "textfont": {
          "size": 10
         },
         "type": "scatter3d",
         "x": [
          9
         ],
         "y": [
          10
         ],
         "z": [
          12
         ]
        },
        {
         "customdata": [
          [
           "Jan",
           "Feb",
           "Mar"
          ]
         ],
         "hovertemplate": "<b>%{text}</b><br>X (%{customdata[0]}): %{x}<br>Y (%{customdata[1]}): %{y}<br>Z (%{customdata[2]}): %{z}<extra></extra>",
         "marker": {
          "size": 6
         },
         "mode": "markers",
         "name": "Belgrade",
         "text": [
          "Belgrade"
         ],
         "textfont": {
          "size": 10
         },
         "type": "scatter3d",
         "x": [
          1
         ],
         "y": [
          3
         ],
         "z": [
          8
         ]
        },
        {
         "customdata": [
          [
           "Jan",
           "Feb",
           "Mar"
          ]
         ],
         "hovertemplate": "<b>%{text}</b><br>X (%{customdata[0]}): %{x}<br>Y (%{customdata[1]}): %{y}<br>Z (%{customdata[2]}): %{z}<extra></extra>",
         "marker": {
          "size": 6
         },
         "mode": "markers",
         "name": "Berlin",
         "text": [
          "Berlin"
         ],
         "textfont": {
          "size": 10
         },
         "type": "scatter3d",
         "x": [
          -2
         ],
         "y": [
          1
         ],
         "z": [
          4
         ]
        },
        {
         "customdata": [
          [
           "Jan",
           "Feb",
           "Mar"
          ]
         ],
         "hovertemplate": "<b>%{text}</b><br>X (%{customdata[0]}): %{x}<br>Y (%{customdata[1]}): %{y}<br>Z (%{customdata[2]}): %{z}<extra></extra>",
         "marker": {
          "size": 6
         },
         "mode": "markers",
         "name": "Bern",
         "text": [
          "Bern"
         ],
         "textfont": {
          "size": 10
         },
         "type": "scatter3d",
         "x": [
          1
         ],
         "y": [
          1
         ],
         "z": [
          6
         ]
        },
        {
         "customdata": [
          [
           "Jan",
           "Feb",
           "Mar"
          ]
         ],
         "hovertemplate": "<b>%{text}</b><br>X (%{customdata[0]}): %{x}<br>Y (%{customdata[1]}): %{y}<br>Z (%{customdata[2]}): %{z}<extra></extra>",
         "marker": {
          "size": 6
         },
         "mode": "markers",
         "name": "Bonn",
         "text": [
          "Bonn"
         ],
         "textfont": {
          "size": 10
         },
         "type": "scatter3d",
         "x": [
          1
         ],
         "y": [
          2
         ],
         "z": [
          7
         ]
        },
        {
         "customdata": [
          [
           "Jan",
           "Feb",
           "Mar"
          ]
         ],
         "hovertemplate": "<b>%{text}</b><br>X (%{customdata[0]}): %{x}<br>Y (%{customdata[1]}): %{y}<br>Z (%{customdata[2]}): %{z}<extra></extra>",
         "marker": {
          "size": 6
         },
         "mode": "markers",
         "name": "Bruxells",
         "text": [
          "Bruxells"
         ],
         "textfont": {
          "size": 10
         },
         "type": "scatter3d",
         "x": [
          1
         ],
         "y": [
          4
         ],
         "z": [
          7
         ]
        },
        {
         "customdata": [
          [
           "Jan",
           "Feb",
           "Mar"
          ]
         ],
         "hovertemplate": "<b>%{text}</b><br>X (%{customdata[0]}): %{x}<br>Y (%{customdata[1]}): %{y}<br>Z (%{customdata[2]}): %{z}<extra></extra>",
         "marker": {
          "size": 6
         },
         "mode": "markers",
         "name": "Bucarest",
         "text": [
          "Bucarest"
         ],
         "textfont": {
          "size": 10
         },
         "type": "scatter3d",
         "x": [
          -4
         ],
         "y": [
          -2
         ],
         "z": [
          6
         ]
        },
        {
         "customdata": [
          [
           "Jan",
           "Feb",
           "Mar"
          ]
         ],
         "hovertemplate": "<b>%{text}</b><br>X (%{customdata[0]}): %{x}<br>Y (%{customdata[1]}): %{y}<br>Z (%{customdata[2]}): %{z}<extra></extra>",
         "marker": {
          "size": 6
         },
         "mode": "markers",
         "name": "Budapest",
         "text": [
          "Budapest"
         ],
         "textfont": {
          "size": 10
         },
         "type": "scatter3d",
         "x": [
          -2
         ],
         "y": [
          1
         ],
         "z": [
          7
         ]
        },
        {
         "customdata": [
          [
           "Jan",
           "Feb",
           "Mar"
          ]
         ],
         "hovertemplate": "<b>%{text}</b><br>X (%{customdata[0]}): %{x}<br>Y (%{customdata[1]}): %{y}<br>Z (%{customdata[2]}): %{z}<extra></extra>",
         "marker": {
          "size": 6
         },
         "mode": "markers",
         "name": "Copenhagen",
         "text": [
          "Copenhagen"
         ],
         "textfont": {
          "size": 10
         },
         "type": "scatter3d",
         "x": [
          -1
         ],
         "y": [
          0
         ],
         "z": [
          3
         ]
        },
        {
         "customdata": [
          [
           "Jan",
           "Feb",
           "Mar"
          ]
         ],
         "hovertemplate": "<b>%{text}</b><br>X (%{customdata[0]}): %{x}<br>Y (%{customdata[1]}): %{y}<br>Z (%{customdata[2]}): %{z}<extra></extra>",
         "marker": {
          "size": 6
         },
         "mode": "markers",
         "name": "Dublin",
         "text": [
          "Dublin"
         ],
         "textfont": {
          "size": 10
         },
         "type": "scatter3d",
         "x": [
          3
         ],
         "y": [
          4
         ],
         "z": [
          6
         ]
        },
        {
         "customdata": [
          [
           "Jan",
           "Feb",
           "Mar"
          ]
         ],
         "hovertemplate": "<b>%{text}</b><br>X (%{customdata[0]}): %{x}<br>Y (%{customdata[1]}): %{y}<br>Z (%{customdata[2]}): %{z}<extra></extra>",
         "marker": {
          "size": 6
         },
         "mode": "markers",
         "name": "Helsinki",
         "text": [
          "Helsinki"
         ],
         "textfont": {
          "size": 10
         },
         "type": "scatter3d",
         "x": [
          -9
         ],
         "y": [
          -8
         ],
         "z": [
          -4
         ]
        },
        {
         "customdata": [
          [
           "Jan",
           "Feb",
           "Mar"
          ]
         ],
         "hovertemplate": "<b>%{text}</b><br>X (%{customdata[0]}): %{x}<br>Y (%{customdata[1]}): %{y}<br>Z (%{customdata[2]}): %{z}<extra></extra>",
         "marker": {
          "size": 6
         },
         "mode": "markers",
         "name": "Lisbon",
         "text": [
          "Lisbon"
         ],
         "textfont": {
          "size": 10
         },
         "type": "scatter3d",
         "x": [
          11
         ],
         "y": [
          12
         ],
         "z": [
          15
         ]
        },
        {
         "customdata": [
          [
           "Jan",
           "Feb",
           "Mar"
          ]
         ],
         "hovertemplate": "<b>%{text}</b><br>X (%{customdata[0]}): %{x}<br>Y (%{customdata[1]}): %{y}<br>Z (%{customdata[2]}): %{z}<extra></extra>",
         "marker": {
          "size": 6
         },
         "mode": "markers",
         "name": "London",
         "text": [
          "London"
         ],
         "textfont": {
          "size": 10
         },
         "type": "scatter3d",
         "x": [
          7
         ],
         "y": [
          8
         ],
         "z": [
          10
         ]
        },
        {
         "customdata": [
          [
           "Jan",
           "Feb",
           "Mar"
          ]
         ],
         "hovertemplate": "<b>%{text}</b><br>X (%{customdata[0]}): %{x}<br>Y (%{customdata[1]}): %{y}<br>Z (%{customdata[2]}): %{z}<extra></extra>",
         "marker": {
          "size": 6
         },
         "mode": "markers",
         "name": "Luxemborg",
         "text": [
          "Luxemborg"
         ],
         "textfont": {
          "size": 10
         },
         "type": "scatter3d",
         "x": [
          0
         ],
         "y": [
          1
         ],
         "z": [
          7
         ]
        },
        {
         "customdata": [
          [
           "Jan",
           "Feb",
           "Mar"
          ]
         ],
         "hovertemplate": "<b>%{text}</b><br>X (%{customdata[0]}): %{x}<br>Y (%{customdata[1]}): %{y}<br>Z (%{customdata[2]}): %{z}<extra></extra>",
         "marker": {
          "size": 6
         },
         "mode": "markers",
         "name": "Marbella",
         "text": [
          "Marbella"
         ],
         "textfont": {
          "size": 10
         },
         "type": "scatter3d",
         "x": [
          17
         ],
         "y": [
          17
         ],
         "z": [
          18
         ]
        },
        {
         "customdata": [
          [
           "Jan",
           "Feb",
           "Mar"
          ]
         ],
         "hovertemplate": "<b>%{text}</b><br>X (%{customdata[0]}): %{x}<br>Y (%{customdata[1]}): %{y}<br>Z (%{customdata[2]}): %{z}<extra></extra>",
         "marker": {
          "size": 6
         },
         "mode": "markers",
         "name": "Moscow",
         "text": [
          "Moscow"
         ],
         "textfont": {
          "size": 10
         },
         "type": "scatter3d",
         "x": [
          -14
         ],
         "y": [
          -12
         ],
         "z": [
          -6
         ]
        },
        {
         "customdata": [
          [
           "Jan",
           "Feb",
           "Mar"
          ]
         ],
         "hovertemplate": "<b>%{text}</b><br>X (%{customdata[0]}): %{x}<br>Y (%{customdata[1]}): %{y}<br>Z (%{customdata[2]}): %{z}<extra></extra>",
         "marker": {
          "size": 6
         },
         "mode": "markers",
         "name": "Oslo",
         "text": [
          "Oslo"
         ],
         "textfont": {
          "size": 10
         },
         "type": "scatter3d",
         "x": [
          -5
         ],
         "y": [
          -4
         ],
         "z": [
          1
         ]
        },
        {
         "customdata": [
          [
           "Jan",
           "Feb",
           "Mar"
          ]
         ],
         "hovertemplate": "<b>%{text}</b><br>X (%{customdata[0]}): %{x}<br>Y (%{customdata[1]}): %{y}<br>Z (%{customdata[2]}): %{z}<extra></extra>",
         "marker": {
          "size": 6
         },
         "mode": "markers",
         "name": "Paris",
         "text": [
          "Paris"
         ],
         "textfont": {
          "size": 10
         },
         "type": "scatter3d",
         "x": [
          4
         ],
         "y": [
          5
         ],
         "z": [
          9
         ]
        },
        {
         "customdata": [
          [
           "Jan",
           "Feb",
           "Mar"
          ]
         ],
         "hovertemplate": "<b>%{text}</b><br>X (%{customdata[0]}): %{x}<br>Y (%{customdata[1]}): %{y}<br>Z (%{customdata[2]}): %{z}<extra></extra>",
         "marker": {
          "size": 6
         },
         "mode": "markers",
         "name": "Prague",
         "text": [
          "Prague"
         ],
         "textfont": {
          "size": 10
         },
         "type": "scatter3d",
         "x": [
          -2
         ],
         "y": [
          -1
         ],
         "z": [
          4
         ]
        },
        {
         "customdata": [
          [
           "Jan",
           "Feb",
           "Mar"
          ]
         ],
         "hovertemplate": "<b>%{text}</b><br>X (%{customdata[0]}): %{x}<br>Y (%{customdata[1]}): %{y}<br>Z (%{customdata[2]}): %{z}<extra></extra>",
         "marker": {
          "size": 6
         },
         "mode": "markers",
         "name": "Rome",
         "text": [
          "Rome"
         ],
         "textfont": {
          "size": 10
         },
         "type": "scatter3d",
         "x": [
          7
         ],
         "y": [
          8
         ],
         "z": [
          11
         ]
        },
        {
         "customdata": [
          [
           "Jan",
           "Feb",
           "Mar"
          ]
         ],
         "hovertemplate": "<b>%{text}</b><br>X (%{customdata[0]}): %{x}<br>Y (%{customdata[1]}): %{y}<br>Z (%{customdata[2]}): %{z}<extra></extra>",
         "marker": {
          "size": 6
         },
         "mode": "markers",
         "name": "Sofia",
         "text": [
          "Sofia"
         ],
         "textfont": {
          "size": 10
         },
         "type": "scatter3d",
         "x": [
          -1
         ],
         "y": [
          1
         ],
         "z": [
          7
         ]
        },
        {
         "customdata": [
          [
           "Jan",
           "Feb",
           "Mar"
          ]
         ],
         "hovertemplate": "<b>%{text}</b><br>X (%{customdata[0]}): %{x}<br>Y (%{customdata[1]}): %{y}<br>Z (%{customdata[2]}): %{z}<extra></extra>",
         "marker": {
          "size": 6
         },
         "mode": "markers",
         "name": "Stockholm",
         "text": [
          "Stockholm"
         ],
         "textfont": {
          "size": 10
         },
         "type": "scatter3d",
         "x": [
          -4
         ],
         "y": [
          -4
         ],
         "z": [
          -1
         ]
        },
        {
         "customdata": [
          [
           "Jan",
           "Feb",
           "Mar"
          ]
         ],
         "hovertemplate": "<b>%{text}</b><br>X (%{customdata[0]}): %{x}<br>Y (%{customdata[1]}): %{y}<br>Z (%{customdata[2]}): %{z}<extra></extra>",
         "marker": {
          "size": 6
         },
         "mode": "markers",
         "name": "Vienna",
         "text": [
          "Vienna"
         ],
         "textfont": {
          "size": 10
         },
         "type": "scatter3d",
         "x": [
          -1
         ],
         "y": [
          1
         ],
         "z": [
          6
         ]
        },
        {
         "customdata": [
          [
           "Jan",
           "Feb",
           "Mar"
          ]
         ],
         "hovertemplate": "<b>%{text}</b><br>X (%{customdata[0]}): %{x}<br>Y (%{customdata[1]}): %{y}<br>Z (%{customdata[2]}): %{z}<extra></extra>",
         "marker": {
          "size": 6
         },
         "mode": "markers",
         "name": "Warsaw",
         "text": [
          "Warsaw"
         ],
         "textfont": {
          "size": 10
         },
         "type": "scatter3d",
         "x": [
          -5
         ],
         "y": [
          -4
         ],
         "z": [
          3
         ]
        },
        {
         "customdata": [
          [
           "Jan",
           "Feb",
           "Mar"
          ]
         ],
         "hovertemplate": "<b>%{text}</b><br>X (%{customdata[0]}): %{x}<br>Y (%{customdata[1]}): %{y}<br>Z (%{customdata[2]}): %{z}<extra></extra>",
         "marker": {
          "size": 6
         },
         "mode": "markers",
         "name": "Bratislava",
         "text": [
          "Bratislava"
         ],
         "textfont": {
          "size": 10
         },
         "type": "scatter3d",
         "x": [
          -0.4
         ],
         "y": [
          1.2
         ],
         "z": [
          5.5
         ]
        },
        {
         "customdata": [
          [
           "Jan",
           "Feb",
           "Mar"
          ]
         ],
         "hovertemplate": "<b>%{text}</b><br>X (%{customdata[0]}): %{x}<br>Y (%{customdata[1]}): %{y}<br>Z (%{customdata[2]}): %{z}<extra></extra>",
         "marker": {
          "size": 6
         },
         "mode": "markers",
         "name": "St. Petersberg",
         "text": [
          "St. Petersberg"
         ],
         "textfont": {
          "size": 10
         },
         "type": "scatter3d",
         "x": [
          4.2
         ],
         "y": [
          4.5
         ],
         "z": [
          6.2
         ]
        },
        {
         "customdata": [
          [
           "Jan",
           "Feb",
           "Mar"
          ]
         ],
         "hovertemplate": "<b>%{text}</b><br>X (%{customdata[0]}): %{x}<br>Y (%{customdata[1]}): %{y}<br>Z (%{customdata[2]}): %{z}<extra></extra>",
         "marker": {
          "size": 6
         },
         "mode": "markers",
         "name": "Ljubljana",
         "text": [
          "Ljubljana"
         ],
         "textfont": {
          "size": 10
         },
         "type": "scatter3d",
         "x": [
          0.3
         ],
         "y": [
          1.9
         ],
         "z": [
          6.5
         ]
        },
        {
         "customdata": [
          [
           "Jan",
           "Feb",
           "Mar"
          ]
         ],
         "hovertemplate": "<b>%{text}</b><br>X (%{customdata[0]}): %{x}<br>Y (%{customdata[1]}): %{y}<br>Z (%{customdata[2]}): %{z}<extra></extra>",
         "marker": {
          "size": 6
         },
         "mode": "markers",
         "name": "Madrid",
         "text": [
          "Madrid"
         ],
         "textfont": {
          "size": 10
         },
         "type": "scatter3d",
         "x": [
          6.3
         ],
         "y": [
          7.9
         ],
         "z": [
          11.2
         ]
        },
        {
         "customdata": [
          [
           "Jan",
           "Feb",
           "Mar"
          ]
         ],
         "hovertemplate": "<b>%{text}</b><br>X (%{customdata[0]}): %{x}<br>Y (%{customdata[1]}): %{y}<br>Z (%{customdata[2]}): %{z}<extra></extra>",
         "marker": {
          "size": 6
         },
         "mode": "markers",
         "name": "Milan",
         "text": [
          "Milan"
         ],
         "textfont": {
          "size": 10
         },
         "type": "scatter3d",
         "x": [
          2.5
         ],
         "y": [
          4.7
         ],
         "z": [
          9
         ]
        },
        {
         "customdata": [
          [
           "Jan",
           "Feb",
           "Mar"
          ]
         ],
         "hovertemplate": "<b>%{text}</b><br>X (%{customdata[0]}): %{x}<br>Y (%{customdata[1]}): %{y}<br>Z (%{customdata[2]}): %{z}<extra></extra>",
         "marker": {
          "size": 6
         },
         "mode": "markers",
         "name": "Edinburgh",
         "text": [
          "Edinburgh"
         ],
         "textfont": {
          "size": 10
         },
         "type": "scatter3d",
         "x": [
          -5.5
         ],
         "y": [
          -5.8
         ],
         "z": [
          -1.3
         ]
        },
        {
         "customdata": [
          [
           "Jan",
           "Feb",
           "Mar"
          ]
         ],
         "hovertemplate": "<b>%{text}</b><br>X (%{customdata[0]}): %{x}<br>Y (%{customdata[1]}): %{y}<br>Z (%{customdata[2]}): %{z}<extra></extra>",
         "marker": {
          "size": 6
         },
         "mode": "markers",
         "name": "Skopje",
         "text": [
          "Skopje"
         ],
         "textfont": {
          "size": 10
         },
         "type": "scatter3d",
         "x": [
          0.1
         ],
         "y": [
          2.6
         ],
         "z": [
          7.6
         ]
        }
       ],
       "layout": {
        "annotations": [
         {
          "showarrow": false,
          "text": "X Month",
          "x": 0.14,
          "xanchor": "center",
          "xref": "paper",
          "y": 1.18,
          "yanchor": "top",
          "yref": "paper"
         },
         {
          "showarrow": false,
          "text": "Y Month",
          "x": 0.39,
          "xanchor": "center",
          "xref": "paper",
          "y": 1.18,
          "yanchor": "top",
          "yref": "paper"
         },
         {
          "showarrow": false,
          "text": "Z Month",
          "x": 0.64,
          "xanchor": "center",
          "xref": "paper",
          "y": 1.18,
          "yanchor": "top",
          "yref": "paper"
         },
         {
          "showarrow": false,
          "text": "Point Labels",
          "x": 0.78,
          "xanchor": "center",
          "xref": "paper",
          "y": 1.18,
          "yanchor": "top",
          "yref": "paper"
         },
         {
          "showarrow": false,
          "text": "Cities",
          "x": 0.93,
          "xanchor": "center",
          "xref": "paper",
          "y": 1.18,
          "yanchor": "top",
          "yref": "paper"
         }
        ],
        "autosize": false,
        "height": 800,
        "legend": {
         "title": {
          "text": "Toggle cities"
         }
        },
        "margin": {
         "b": 10,
         "l": 10,
         "r": 10,
         "t": 140
        },
        "scene": {
         "xaxis": {
          "showspikes": false,
          "title": {
           "text": "Jan"
          }
         },
         "yaxis": {
          "showspikes": false,
          "title": {
           "text": "Feb"
          }
         },
         "zaxis": {
          "showspikes": false,
          "title": {
           "text": "Mar"
          }
         }
        },
        "template": {
         "data": {
          "bar": [
           {
            "error_x": {
             "color": "#2a3f5f"
            },
            "error_y": {
             "color": "#2a3f5f"
            },
            "marker": {
             "line": {
              "color": "#E5ECF6",
              "width": 0.5
             },
             "pattern": {
              "fillmode": "overlay",
              "size": 10,
              "solidity": 0.2
             }
            },
            "type": "bar"
           }
          ],
          "barpolar": [
           {
            "marker": {
             "line": {
              "color": "#E5ECF6",
              "width": 0.5
             },
             "pattern": {
              "fillmode": "overlay",
              "size": 10,
              "solidity": 0.2
             }
            },
            "type": "barpolar"
           }
          ],
          "carpet": [
           {
            "aaxis": {
             "endlinecolor": "#2a3f5f",
             "gridcolor": "white",
             "linecolor": "white",
             "minorgridcolor": "white",
             "startlinecolor": "#2a3f5f"
            },
            "baxis": {
             "endlinecolor": "#2a3f5f",
             "gridcolor": "white",
             "linecolor": "white",
             "minorgridcolor": "white",
             "startlinecolor": "#2a3f5f"
            },
            "type": "carpet"
           }
          ],
          "choropleth": [
           {
            "colorbar": {
             "outlinewidth": 0,
             "ticks": ""
            },
            "type": "choropleth"
           }
          ],
          "contour": [
           {
            "colorbar": {
             "outlinewidth": 0,
             "ticks": ""
            },
            "colorscale": [
             [
              0,
              "#0d0887"
             ],
             [
              0.1111111111111111,
              "#46039f"
             ],
             [
              0.2222222222222222,
              "#7201a8"
             ],
             [
              0.3333333333333333,
              "#9c179e"
             ],
             [
              0.4444444444444444,
              "#bd3786"
             ],
             [
              0.5555555555555556,
              "#d8576b"
             ],
             [
              0.6666666666666666,
              "#ed7953"
             ],
             [
              0.7777777777777778,
              "#fb9f3a"
             ],
             [
              0.8888888888888888,
              "#fdca26"
             ],
             [
              1,
              "#f0f921"
             ]
            ],
            "type": "contour"
           }
          ],
          "contourcarpet": [
           {
            "colorbar": {
             "outlinewidth": 0,
             "ticks": ""
            },
            "type": "contourcarpet"
           }
          ],
          "heatmap": [
           {
            "colorbar": {
             "outlinewidth": 0,
             "ticks": ""
            },
            "colorscale": [
             [
              0,
              "#0d0887"
             ],
             [
              0.1111111111111111,
              "#46039f"
             ],
             [
              0.2222222222222222,
              "#7201a8"
             ],
             [
              0.3333333333333333,
              "#9c179e"
             ],
             [
              0.4444444444444444,
              "#bd3786"
             ],
             [
              0.5555555555555556,
              "#d8576b"
             ],
             [
              0.6666666666666666,
              "#ed7953"
             ],
             [
              0.7777777777777778,
              "#fb9f3a"
             ],
             [
              0.8888888888888888,
              "#fdca26"
             ],
             [
              1,
              "#f0f921"
             ]
            ],
            "type": "heatmap"
           }
          ],
          "histogram": [
           {
            "marker": {
             "pattern": {
              "fillmode": "overlay",
              "size": 10,
              "solidity": 0.2
             }
            },
            "type": "histogram"
           }
          ],
          "histogram2d": [
           {
            "colorbar": {
             "outlinewidth": 0,
             "ticks": ""
            },
            "colorscale": [
             [
              0,
              "#0d0887"
             ],
             [
              0.1111111111111111,
              "#46039f"
             ],
             [
              0.2222222222222222,
              "#7201a8"
             ],
             [
              0.3333333333333333,
              "#9c179e"
             ],
             [
              0.4444444444444444,
              "#bd3786"
             ],
             [
              0.5555555555555556,
              "#d8576b"
             ],
             [
              0.6666666666666666,
              "#ed7953"
             ],
             [
              0.7777777777777778,
              "#fb9f3a"
             ],
             [
              0.8888888888888888,
              "#fdca26"
             ],
             [
              1,
              "#f0f921"
             ]
            ],
            "type": "histogram2d"
           }
          ],
          "histogram2dcontour": [
           {
            "colorbar": {
             "outlinewidth": 0,
             "ticks": ""
            },
            "colorscale": [
             [
              0,
              "#0d0887"
             ],
             [
              0.1111111111111111,
              "#46039f"
             ],
             [
              0.2222222222222222,
              "#7201a8"
             ],
             [
              0.3333333333333333,
              "#9c179e"
             ],
             [
              0.4444444444444444,
              "#bd3786"
             ],
             [
              0.5555555555555556,
              "#d8576b"
             ],
             [
              0.6666666666666666,
              "#ed7953"
             ],
             [
              0.7777777777777778,
              "#fb9f3a"
             ],
             [
              0.8888888888888888,
              "#fdca26"
             ],
             [
              1,
              "#f0f921"
             ]
            ],
            "type": "histogram2dcontour"
           }
          ],
          "mesh3d": [
           {
            "colorbar": {
             "outlinewidth": 0,
             "ticks": ""
            },
            "type": "mesh3d"
           }
          ],
          "parcoords": [
           {
            "line": {
             "colorbar": {
              "outlinewidth": 0,
              "ticks": ""
             }
            },
            "type": "parcoords"
           }
          ],
          "pie": [
           {
            "automargin": true,
            "type": "pie"
           }
          ],
          "scatter": [
           {
            "fillpattern": {
             "fillmode": "overlay",
             "size": 10,
             "solidity": 0.2
            },
            "type": "scatter"
           }
          ],
          "scatter3d": [
           {
            "line": {
             "colorbar": {
              "outlinewidth": 0,
              "ticks": ""
             }
            },
            "marker": {
             "colorbar": {
              "outlinewidth": 0,
              "ticks": ""
             }
            },
            "type": "scatter3d"
           }
          ],
          "scattercarpet": [
           {
            "marker": {
             "colorbar": {
              "outlinewidth": 0,
              "ticks": ""
             }
            },
            "type": "scattercarpet"
           }
          ],
          "scattergeo": [
           {
            "marker": {
             "colorbar": {
              "outlinewidth": 0,
              "ticks": ""
             }
            },
            "type": "scattergeo"
           }
          ],
          "scattergl": [
           {
            "marker": {
             "colorbar": {
              "outlinewidth": 0,
              "ticks": ""
             }
            },
            "type": "scattergl"
           }
          ],
          "scattermap": [
           {
            "marker": {
             "colorbar": {
              "outlinewidth": 0,
              "ticks": ""
             }
            },
            "type": "scattermap"
           }
          ],
          "scattermapbox": [
           {
            "marker": {
             "colorbar": {
              "outlinewidth": 0,
              "ticks": ""
             }
            },
            "type": "scattermapbox"
           }
          ],
          "scatterpolar": [
           {
            "marker": {
             "colorbar": {
              "outlinewidth": 0,
              "ticks": ""
             }
            },
            "type": "scatterpolar"
           }
          ],
          "scatterpolargl": [
           {
            "marker": {
             "colorbar": {
              "outlinewidth": 0,
              "ticks": ""
             }
            },
            "type": "scatterpolargl"
           }
          ],
          "scatterternary": [
           {
            "marker": {
             "colorbar": {
              "outlinewidth": 0,
              "ticks": ""
             }
            },
            "type": "scatterternary"
           }
          ],
          "surface": [
           {
            "colorbar": {
             "outlinewidth": 0,
             "ticks": ""
            },
            "colorscale": [
             [
              0,
              "#0d0887"
             ],
             [
              0.1111111111111111,
              "#46039f"
             ],
             [
              0.2222222222222222,
              "#7201a8"
             ],
             [
              0.3333333333333333,
              "#9c179e"
             ],
             [
              0.4444444444444444,
              "#bd3786"
             ],
             [
              0.5555555555555556,
              "#d8576b"
             ],
             [
              0.6666666666666666,
              "#ed7953"
             ],
             [
              0.7777777777777778,
              "#fb9f3a"
             ],
             [
              0.8888888888888888,
              "#fdca26"
             ],
             [
              1,
              "#f0f921"
             ]
            ],
            "type": "surface"
           }
          ],
          "table": [
           {
            "cells": {
             "fill": {
              "color": "#EBF0F8"
             },
             "line": {
              "color": "white"
             }
            },
            "header": {
             "fill": {
              "color": "#C8D4E3"
             },
             "line": {
              "color": "white"
             }
            },
            "type": "table"
           }
          ]
         },
         "layout": {
          "annotationdefaults": {
           "arrowcolor": "#2a3f5f",
           "arrowhead": 0,
           "arrowwidth": 1
          },
          "autotypenumbers": "strict",
          "coloraxis": {
           "colorbar": {
            "outlinewidth": 0,
            "ticks": ""
           }
          },
          "colorscale": {
           "diverging": [
            [
             0,
             "#8e0152"
            ],
            [
             0.1,
             "#c51b7d"
            ],
            [
             0.2,
             "#de77ae"
            ],
            [
             0.3,
             "#f1b6da"
            ],
            [
             0.4,
             "#fde0ef"
            ],
            [
             0.5,
             "#f7f7f7"
            ],
            [
             0.6,
             "#e6f5d0"
            ],
            [
             0.7,
             "#b8e186"
            ],
            [
             0.8,
             "#7fbc41"
            ],
            [
             0.9,
             "#4d9221"
            ],
            [
             1,
             "#276419"
            ]
           ],
           "sequential": [
            [
             0,
             "#0d0887"
            ],
            [
             0.1111111111111111,
             "#46039f"
            ],
            [
             0.2222222222222222,
             "#7201a8"
            ],
            [
             0.3333333333333333,
             "#9c179e"
            ],
            [
             0.4444444444444444,
             "#bd3786"
            ],
            [
             0.5555555555555556,
             "#d8576b"
            ],
            [
             0.6666666666666666,
             "#ed7953"
            ],
            [
             0.7777777777777778,
             "#fb9f3a"
            ],
            [
             0.8888888888888888,
             "#fdca26"
            ],
            [
             1,
             "#f0f921"
            ]
           ],
           "sequentialminus": [
            [
             0,
             "#0d0887"
            ],
            [
             0.1111111111111111,
             "#46039f"
            ],
            [
             0.2222222222222222,
             "#7201a8"
            ],
            [
             0.3333333333333333,
             "#9c179e"
            ],
            [
             0.4444444444444444,
             "#bd3786"
            ],
            [
             0.5555555555555556,
             "#d8576b"
            ],
            [
             0.6666666666666666,
             "#ed7953"
            ],
            [
             0.7777777777777778,
             "#fb9f3a"
            ],
            [
             0.8888888888888888,
             "#fdca26"
            ],
            [
             1,
             "#f0f921"
            ]
           ]
          },
          "colorway": [
           "#636efa",
           "#EF553B",
           "#00cc96",
           "#ab63fa",
           "#FFA15A",
           "#19d3f3",
           "#FF6692",
           "#B6E880",
           "#FF97FF",
           "#FECB52"
          ],
          "font": {
           "color": "#2a3f5f"
          },
          "geo": {
           "bgcolor": "white",
           "lakecolor": "white",
           "landcolor": "#E5ECF6",
           "showlakes": true,
           "showland": true,
           "subunitcolor": "white"
          },
          "hoverlabel": {
           "align": "left"
          },
          "hovermode": "closest",
          "mapbox": {
           "style": "light"
          },
          "paper_bgcolor": "white",
          "plot_bgcolor": "#E5ECF6",
          "polar": {
           "angularaxis": {
            "gridcolor": "white",
            "linecolor": "white",
            "ticks": ""
           },
           "bgcolor": "#E5ECF6",
           "radialaxis": {
            "gridcolor": "white",
            "linecolor": "white",
            "ticks": ""
           }
          },
          "scene": {
           "xaxis": {
            "backgroundcolor": "#E5ECF6",
            "gridcolor": "white",
            "gridwidth": 2,
            "linecolor": "white",
            "showbackground": true,
            "ticks": "",
            "zerolinecolor": "white"
           },
           "yaxis": {
            "backgroundcolor": "#E5ECF6",
            "gridcolor": "white",
            "gridwidth": 2,
            "linecolor": "white",
            "showbackground": true,
            "ticks": "",
            "zerolinecolor": "white"
           },
           "zaxis": {
            "backgroundcolor": "#E5ECF6",
            "gridcolor": "white",
            "gridwidth": 2,
            "linecolor": "white",
            "showbackground": true,
            "ticks": "",
            "zerolinecolor": "white"
           }
          },
          "shapedefaults": {
           "line": {
            "color": "#2a3f5f"
           }
          },
          "ternary": {
           "aaxis": {
            "gridcolor": "white",
            "linecolor": "white",
            "ticks": ""
           },
           "baxis": {
            "gridcolor": "white",
            "linecolor": "white",
            "ticks": ""
           },
           "bgcolor": "#E5ECF6",
           "caxis": {
            "gridcolor": "white",
            "linecolor": "white",
            "ticks": ""
           }
          },
          "title": {
           "x": 0.05
          },
          "xaxis": {
           "automargin": true,
           "gridcolor": "white",
           "linecolor": "white",
           "ticks": "",
           "title": {
            "standoff": 15
           },
           "zerolinecolor": "white",
           "zerolinewidth": 2
          },
          "yaxis": {
           "automargin": true,
           "gridcolor": "white",
           "linecolor": "white",
           "ticks": "",
           "title": {
            "standoff": 15
           },
           "zerolinecolor": "white",
           "zerolinewidth": 2
          }
         }
        },
        "title": {
         "y": 0.92
        },
        "updatemenus": [
         {
          "buttons": [
           {
            "args": [
             {
              "customdata": [
               [
                [
                 "Jan",
                 "Feb",
                 "Mar"
                ]
               ],
               [
                [
                 "Jan",
                 "Feb",
                 "Mar"
                ]
               ],
               [
                [
                 "Jan",
                 "Feb",
                 "Mar"
                ]
               ],
               [
                [
                 "Jan",
                 "Feb",
                 "Mar"
                ]
               ],
               [
                [
                 "Jan",
                 "Feb",
                 "Mar"
                ]
               ],
               [
                [
                 "Jan",
                 "Feb",
                 "Mar"
                ]
               ],
               [
                [
                 "Jan",
                 "Feb",
                 "Mar"
                ]
               ],
               [
                [
                 "Jan",
                 "Feb",
                 "Mar"
                ]
               ],
               [
                [
                 "Jan",
                 "Feb",
                 "Mar"
                ]
               ],
               [
                [
                 "Jan",
                 "Feb",
                 "Mar"
                ]
               ],
               [
                [
                 "Jan",
                 "Feb",
                 "Mar"
                ]
               ],
               [
                [
                 "Jan",
                 "Feb",
                 "Mar"
                ]
               ],
               [
                [
                 "Jan",
                 "Feb",
                 "Mar"
                ]
               ],
               [
                [
                 "Jan",
                 "Feb",
                 "Mar"
                ]
               ],
               [
                [
                 "Jan",
                 "Feb",
                 "Mar"
                ]
               ],
               [
                [
                 "Jan",
                 "Feb",
                 "Mar"
                ]
               ],
               [
                [
                 "Jan",
                 "Feb",
                 "Mar"
                ]
               ],
               [
                [
                 "Jan",
                 "Feb",
                 "Mar"
                ]
               ],
               [
                [
                 "Jan",
                 "Feb",
                 "Mar"
                ]
               ],
               [
                [
                 "Jan",
                 "Feb",
                 "Mar"
                ]
               ],
               [
                [
                 "Jan",
                 "Feb",
                 "Mar"
                ]
               ],
               [
                [
                 "Jan",
                 "Feb",
                 "Mar"
                ]
               ],
               [
                [
                 "Jan",
                 "Feb",
                 "Mar"
                ]
               ],
               [
                [
                 "Jan",
                 "Feb",
                 "Mar"
                ]
               ],
               [
                [
                 "Jan",
                 "Feb",
                 "Mar"
                ]
               ],
               [
                [
                 "Jan",
                 "Feb",
                 "Mar"
                ]
               ],
               [
                [
                 "Jan",
                 "Feb",
                 "Mar"
                ]
               ],
               [
                [
                 "Jan",
                 "Feb",
                 "Mar"
                ]
               ],
               [
                [
                 "Jan",
                 "Feb",
                 "Mar"
                ]
               ],
               [
                [
                 "Jan",
                 "Feb",
                 "Mar"
                ]
               ],
               [
                [
                 "Jan",
                 "Feb",
                 "Mar"
                ]
               ],
               [
                [
                 "Jan",
                 "Feb",
                 "Mar"
                ]
               ],
               [
                [
                 "Jan",
                 "Feb",
                 "Mar"
                ]
               ]
              ],
              "x": [
               [
                2
               ],
               [
                1
               ],
               [
                9
               ],
               [
                1
               ],
               [
                -2
               ],
               [
                1
               ],
               [
                1
               ],
               [
                1
               ],
               [
                -4
               ],
               [
                -2
               ],
               [
                -1
               ],
               [
                3
               ],
               [
                -9
               ],
               [
                11
               ],
               [
                7
               ],
               [
                0
               ],
               [
                17
               ],
               [
                -14
               ],
               [
                -5
               ],
               [
                4
               ],
               [
                -2
               ],
               [
                7
               ],
               [
                -1
               ],
               [
                -4
               ],
               [
                -1
               ],
               [
                -5
               ],
               [
                -0.4
               ],
               [
                4.2
               ],
               [
                0.3
               ],
               [
                6.3
               ],
               [
                2.5
               ],
               [
                -5.5
               ],
               [
                0.1
               ]
              ]
             },
             {
              "scene.xaxis.title.text": "Jan"
             }
            ],
            "label": "Jan",
            "method": "update"
           },
           {
            "args": [
             {
              "customdata": [
               [
                [
                 "Feb",
                 "Feb",
                 "Mar"
                ]
               ],
               [
                [
                 "Feb",
                 "Feb",
                 "Mar"
                ]
               ],
               [
                [
                 "Feb",
                 "Feb",
                 "Mar"
                ]
               ],
               [
                [
                 "Feb",
                 "Feb",
                 "Mar"
                ]
               ],
               [
                [
                 "Feb",
                 "Feb",
                 "Mar"
                ]
               ],
               [
                [
                 "Feb",
                 "Feb",
                 "Mar"
                ]
               ],
               [
                [
                 "Feb",
                 "Feb",
                 "Mar"
                ]
               ],
               [
                [
                 "Feb",
                 "Feb",
                 "Mar"
                ]
               ],
               [
                [
                 "Feb",
                 "Feb",
                 "Mar"
                ]
               ],
               [
                [
                 "Feb",
                 "Feb",
                 "Mar"
                ]
               ],
               [
                [
                 "Feb",
                 "Feb",
                 "Mar"
                ]
               ],
               [
                [
                 "Feb",
                 "Feb",
                 "Mar"
                ]
               ],
               [
                [
                 "Feb",
                 "Feb",
                 "Mar"
                ]
               ],
               [
                [
                 "Feb",
                 "Feb",
                 "Mar"
                ]
               ],
               [
                [
                 "Feb",
                 "Feb",
                 "Mar"
                ]
               ],
               [
                [
                 "Feb",
                 "Feb",
                 "Mar"
                ]
               ],
               [
                [
                 "Feb",
                 "Feb",
                 "Mar"
                ]
               ],
               [
                [
                 "Feb",
                 "Feb",
                 "Mar"
                ]
               ],
               [
                [
                 "Feb",
                 "Feb",
                 "Mar"
                ]
               ],
               [
                [
                 "Feb",
                 "Feb",
                 "Mar"
                ]
               ],
               [
                [
                 "Feb",
                 "Feb",
                 "Mar"
                ]
               ],
               [
                [
                 "Feb",
                 "Feb",
                 "Mar"
                ]
               ],
               [
                [
                 "Feb",
                 "Feb",
                 "Mar"
                ]
               ],
               [
                [
                 "Feb",
                 "Feb",
                 "Mar"
                ]
               ],
               [
                [
                 "Feb",
                 "Feb",
                 "Mar"
                ]
               ],
               [
                [
                 "Feb",
                 "Feb",
                 "Mar"
                ]
               ],
               [
                [
                 "Feb",
                 "Feb",
                 "Mar"
                ]
               ],
               [
                [
                 "Feb",
                 "Feb",
                 "Mar"
                ]
               ],
               [
                [
                 "Feb",
                 "Feb",
                 "Mar"
                ]
               ],
               [
                [
                 "Feb",
                 "Feb",
                 "Mar"
                ]
               ],
               [
                [
                 "Feb",
                 "Feb",
                 "Mar"
                ]
               ],
               [
                [
                 "Feb",
                 "Feb",
                 "Mar"
                ]
               ],
               [
                [
                 "Feb",
                 "Feb",
                 "Mar"
                ]
               ]
              ],
              "x": [
               [
                2
               ],
               [
                0
               ],
               [
                10
               ],
               [
                3
               ],
               [
                1
               ],
               [
                1
               ],
               [
                2
               ],
               [
                4
               ],
               [
                -2
               ],
               [
                1
               ],
               [
                0
               ],
               [
                4
               ],
               [
                -8
               ],
               [
                12
               ],
               [
                8
               ],
               [
                1
               ],
               [
                17
               ],
               [
                -12
               ],
               [
                -4
               ],
               [
                5
               ],
               [
                -1
               ],
               [
                8
               ],
               [
                1
               ],
               [
                -4
               ],
               [
                1
               ],
               [
                -4
               ],
               [
                1.2
               ],
               [
                4.5
               ],
               [
                1.9
               ],
               [
                7.9
               ],
               [
                4.7
               ],
               [
                -5.8
               ],
               [
                2.6
               ]
              ]
             },
             {
              "scene.xaxis.title.text": "Feb"
             }
            ],
            "label": "Feb",
            "method": "update"
           },
           {
            "args": [
             {
              "customdata": [
               [
                [
                 "Mar",
                 "Feb",
                 "Mar"
                ]
               ],
               [
                [
                 "Mar",
                 "Feb",
                 "Mar"
                ]
               ],
               [
                [
                 "Mar",
                 "Feb",
                 "Mar"
                ]
               ],
               [
                [
                 "Mar",
                 "Feb",
                 "Mar"
                ]
               ],
               [
                [
                 "Mar",
                 "Feb",
                 "Mar"
                ]
               ],
               [
                [
                 "Mar",
                 "Feb",
                 "Mar"
                ]
               ],
               [
                [
                 "Mar",
                 "Feb",
                 "Mar"
                ]
               ],
               [
                [
                 "Mar",
                 "Feb",
                 "Mar"
                ]
               ],
               [
                [
                 "Mar",
                 "Feb",
                 "Mar"
                ]
               ],
               [
                [
                 "Mar",
                 "Feb",
                 "Mar"
                ]
               ],
               [
                [
                 "Mar",
                 "Feb",
                 "Mar"
                ]
               ],
               [
                [
                 "Mar",
                 "Feb",
                 "Mar"
                ]
               ],
               [
                [
                 "Mar",
                 "Feb",
                 "Mar"
                ]
               ],
               [
                [
                 "Mar",
                 "Feb",
                 "Mar"
                ]
               ],
               [
                [
                 "Mar",
                 "Feb",
                 "Mar"
                ]
               ],
               [
                [
                 "Mar",
                 "Feb",
                 "Mar"
                ]
               ],
               [
                [
                 "Mar",
                 "Feb",
                 "Mar"
                ]
               ],
               [
                [
                 "Mar",
                 "Feb",
                 "Mar"
                ]
               ],
               [
                [
                 "Mar",
                 "Feb",
                 "Mar"
                ]
               ],
               [
                [
                 "Mar",
                 "Feb",
                 "Mar"
                ]
               ],
               [
                [
                 "Mar",
                 "Feb",
                 "Mar"
                ]
               ],
               [
                [
                 "Mar",
                 "Feb",
                 "Mar"
                ]
               ],
               [
                [
                 "Mar",
                 "Feb",
                 "Mar"
                ]
               ],
               [
                [
                 "Mar",
                 "Feb",
                 "Mar"
                ]
               ],
               [
                [
                 "Mar",
                 "Feb",
                 "Mar"
                ]
               ],
               [
                [
                 "Mar",
                 "Feb",
                 "Mar"
                ]
               ],
               [
                [
                 "Mar",
                 "Feb",
                 "Mar"
                ]
               ],
               [
                [
                 "Mar",
                 "Feb",
                 "Mar"
                ]
               ],
               [
                [
                 "Mar",
                 "Feb",
                 "Mar"
                ]
               ],
               [
                [
                 "Mar",
                 "Feb",
                 "Mar"
                ]
               ],
               [
                [
                 "Mar",
                 "Feb",
                 "Mar"
                ]
               ],
               [
                [
                 "Mar",
                 "Feb",
                 "Mar"
                ]
               ],
               [
                [
                 "Mar",
                 "Feb",
                 "Mar"
                ]
               ]
              ],
              "x": [
               [
                5
               ],
               [
                6
               ],
               [
                12
               ],
               [
                8
               ],
               [
                4
               ],
               [
                6
               ],
               [
                7
               ],
               [
                7
               ],
               [
                6
               ],
               [
                7
               ],
               [
                3
               ],
               [
                6
               ],
               [
                -4
               ],
               [
                15
               ],
               [
                10
               ],
               [
                7
               ],
               [
                18
               ],
               [
                -6
               ],
               [
                1
               ],
               [
                9
               ],
               [
                4
               ],
               [
                11
               ],
               [
                7
               ],
               [
                -1
               ],
               [
                6
               ],
               [
                3
               ],
               [
                5.5
               ],
               [
                6.2
               ],
               [
                6.5
               ],
               [
                11.2
               ],
               [
                9
               ],
               [
                -1.3
               ],
               [
                7.6
               ]
              ]
             },
             {
              "scene.xaxis.title.text": "Mar"
             }
            ],
            "label": "Mar",
            "method": "update"
           },
           {
            "args": [
             {
              "customdata": [
               [
                [
                 "Apr",
                 "Feb",
                 "Mar"
                ]
               ],
               [
                [
                 "Apr",
                 "Feb",
                 "Mar"
                ]
               ],
               [
                [
                 "Apr",
                 "Feb",
                 "Mar"
                ]
               ],
               [
                [
                 "Apr",
                 "Feb",
                 "Mar"
                ]
               ],
               [
                [
                 "Apr",
                 "Feb",
                 "Mar"
                ]
               ],
               [
                [
                 "Apr",
                 "Feb",
                 "Mar"
                ]
               ],
               [
                [
                 "Apr",
                 "Feb",
                 "Mar"
                ]
               ],
               [
                [
                 "Apr",
                 "Feb",
                 "Mar"
                ]
               ],
               [
                [
                 "Apr",
                 "Feb",
                 "Mar"
                ]
               ],
               [
                [
                 "Apr",
                 "Feb",
                 "Mar"
                ]
               ],
               [
                [
                 "Apr",
                 "Feb",
                 "Mar"
                ]
               ],
               [
                [
                 "Apr",
                 "Feb",
                 "Mar"
                ]
               ],
               [
                [
                 "Apr",
                 "Feb",
                 "Mar"
                ]
               ],
               [
                [
                 "Apr",
                 "Feb",
                 "Mar"
                ]
               ],
               [
                [
                 "Apr",
                 "Feb",
                 "Mar"
                ]
               ],
               [
                [
                 "Apr",
                 "Feb",
                 "Mar"
                ]
               ],
               [
                [
                 "Apr",
                 "Feb",
                 "Mar"
                ]
               ],
               [
                [
                 "Apr",
                 "Feb",
                 "Mar"
                ]
               ],
               [
                [
                 "Apr",
                 "Feb",
                 "Mar"
                ]
               ],
               [
                [
                 "Apr",
                 "Feb",
                 "Mar"
                ]
               ],
               [
                [
                 "Apr",
                 "Feb",
                 "Mar"
                ]
               ],
               [
                [
                 "Apr",
                 "Feb",
                 "Mar"
                ]
               ],
               [
                [
                 "Apr",
                 "Feb",
                 "Mar"
                ]
               ],
               [
                [
                 "Apr",
                 "Feb",
                 "Mar"
                ]
               ],
               [
                [
                 "Apr",
                 "Feb",
                 "Mar"
                ]
               ],
               [
                [
                 "Apr",
                 "Feb",
                 "Mar"
                ]
               ],
               [
                [
                 "Apr",
                 "Feb",
                 "Mar"
                ]
               ],
               [
                [
                 "Apr",
                 "Feb",
                 "Mar"
                ]
               ],
               [
                [
                 "Apr",
                 "Feb",
                 "Mar"
                ]
               ],
               [
                [
                 "Apr",
                 "Feb",
                 "Mar"
                ]
               ],
               [
                [
                 "Apr",
                 "Feb",
                 "Mar"
                ]
               ],
               [
                [
                 "Apr",
                 "Feb",
                 "Mar"
                ]
               ],
               [
                [
                 "Apr",
                 "Feb",
                 "Mar"
                ]
               ]
              ],
              "x": [
               [
                8
               ],
               [
                12
               ],
               [
                16
               ],
               [
                13
               ],
               [
                10
               ],
               [
                10
               ],
               [
                11
               ],
               [
                11
               ],
               [
                12
               ],
               [
                13
               ],
               [
                8
               ],
               [
                8
               ],
               [
                3
               ],
               [
                17
               ],
               [
                13
               ],
               [
                11
               ],
               [
                21
               ],
               [
                6
               ],
               [
                5
               ],
               [
                13
               ],
               [
                11
               ],
               [
                14
               ],
               [
                12
               ],
               [
                6
               ],
               [
                12
               ],
               [
                9
               ],
               [
                11
               ],
               [
                8.1
               ],
               [
                10.8
               ],
               [
                12.9
               ],
               [
                12.2
               ],
               [
                5.1
               ],
               [
                12.1
               ]
              ]
             },
             {
              "scene.xaxis.title.text": "Apr"
             }
            ],
            "label": "Apr",
            "method": "update"
           },
           {
            "args": [
             {
              "customdata": [
               [
                [
                 "May",
                 "Feb",
                 "Mar"
                ]
               ],
               [
                [
                 "May",
                 "Feb",
                 "Mar"
                ]
               ],
               [
                [
                 "May",
                 "Feb",
                 "Mar"
                ]
               ],
               [
                [
                 "May",
                 "Feb",
                 "Mar"
                ]
               ],
               [
                [
                 "May",
                 "Feb",
                 "Mar"
                ]
               ],
               [
                [
                 "May",
                 "Feb",
                 "Mar"
                ]
               ],
               [
                [
                 "May",
                 "Feb",
                 "Mar"
                ]
               ],
               [
                [
                 "May",
                 "Feb",
                 "Mar"
                ]
               ],
               [
                [
                 "May",
                 "Feb",
                 "Mar"
                ]
               ],
               [
                [
                 "May",
                 "Feb",
                 "Mar"
                ]
               ],
               [
                [
                 "May",
                 "Feb",
                 "Mar"
                ]
               ],
               [
                [
                 "May",
                 "Feb",
                 "Mar"
                ]
               ],
               [
                [
                 "May",
                 "Feb",
                 "Mar"
                ]
               ],
               [
                [
                 "May",
                 "Feb",
                 "Mar"
                ]
               ],
               [
                [
                 "May",
                 "Feb",
                 "Mar"
                ]
               ],
               [
                [
                 "May",
                 "Feb",
                 "Mar"
                ]
               ],
               [
                [
                 "May",
                 "Feb",
                 "Mar"
                ]
               ],
               [
                [
                 "May",
                 "Feb",
                 "Mar"
                ]
               ],
               [
                [
                 "May",
                 "Feb",
                 "Mar"
                ]
               ],
               [
                [
                 "May",
                 "Feb",
                 "Mar"
                ]
               ],
               [
                [
                 "May",
                 "Feb",
                 "Mar"
                ]
               ],
               [
                [
                 "May",
                 "Feb",
                 "Mar"
                ]
               ],
               [
                [
                 "May",
                 "Feb",
                 "Mar"
                ]
               ],
               [
                [
                 "May",
                 "Feb",
                 "Mar"
                ]
               ],
               [
                [
                 "May",
                 "Feb",
                 "Mar"
                ]
               ],
               [
                [
                 "May",
                 "Feb",
                 "Mar"
                ]
               ],
               [
                [
                 "May",
                 "Feb",
                 "Mar"
                ]
               ],
               [
                [
                 "May",
                 "Feb",
                 "Mar"
                ]
               ],
               [
                [
                 "May",
                 "Feb",
                 "Mar"
                ]
               ],
               [
                [
                 "May",
                 "Feb",
                 "Mar"
                ]
               ],
               [
                [
                 "May",
                 "Feb",
                 "Mar"
                ]
               ],
               [
                [
                 "May",
                 "Feb",
                 "Mar"
                ]
               ],
               [
                [
                 "May",
                 "Feb",
                 "Mar"
                ]
               ]
              ],
              "x": [
               [
                12
               ],
               [
                17
               ],
               [
                21
               ],
               [
                17
               ],
               [
                14
               ],
               [
                13
               ],
               [
                14
               ],
               [
                13
               ],
               [
                17
               ],
               [
                17
               ],
               [
                13
               ],
               [
                11
               ],
               [
                10
               ],
               [
                19
               ],
               [
                17
               ],
               [
                13
               ],
               [
                23
               ],
               [
                14
               ],
               [
                11
               ],
               [
                16
               ],
               [
                15
               ],
               [
                18
               ],
               [
                16
               ],
               [
                11
               ],
               [
                15
               ],
               [
                16
               ],
               [
                16
               ],
               [
                10.8
               ],
               [
                15.8
               ],
               [
                16.7
               ],
               [
                17
               ],
               [
                11.3
               ],
               [
                17.3
               ]
              ]
             },
             {
              "scene.xaxis.title.text": "May"
             }
            ],
            "label": "May",
            "method": "update"
           },
           {
            "args": [
             {
              "customdata": [
               [
                [
                 "Jun",
                 "Feb",
                 "Mar"
                ]
               ],
               [
                [
                 "Jun",
                 "Feb",
                 "Mar"
                ]
               ],
               [
                [
                 "Jun",
                 "Feb",
                 "Mar"
                ]
               ],
               [
                [
                 "Jun",
                 "Feb",
                 "Mar"
                ]
               ],
               [
                [
                 "Jun",
                 "Feb",
                 "Mar"
                ]
               ],
               [
                [
                 "Jun",
                 "Feb",
                 "Mar"
                ]
               ],
               [
                [
                 "Jun",
                 "Feb",
                 "Mar"
                ]
               ],
               [
                [
                 "Jun",
                 "Feb",
                 "Mar"
                ]
               ],
               [
                [
                 "Jun",
                 "Feb",
                 "Mar"
                ]
               ],
               [
                [
                 "Jun",
                 "Feb",
                 "Mar"
                ]
               ],
               [
                [
                 "Jun",
                 "Feb",
                 "Mar"
                ]
               ],
               [
                [
                 "Jun",
                 "Feb",
                 "Mar"
                ]
               ],
               [
                [
                 "Jun",
                 "Feb",
                 "Mar"
                ]
               ],
               [
                [
                 "Jun",
                 "Feb",
                 "Mar"
                ]
               ],
               [
                [
                 "Jun",
                 "Feb",
                 "Mar"
                ]
               ],
               [
                [
                 "Jun",
                 "Feb",
                 "Mar"
                ]
               ],
               [
                [
                 "Jun",
                 "Feb",
                 "Mar"
                ]
               ],
               [
                [
                 "Jun",
                 "Feb",
                 "Mar"
                ]
               ],
               [
                [
                 "Jun",
                 "Feb",
                 "Mar"
                ]
               ],
               [
                [
                 "Jun",
                 "Feb",
                 "Mar"
                ]
               ],
               [
                [
                 "Jun",
                 "Feb",
                 "Mar"
                ]
               ],
               [
                [
                 "Jun",
                 "Feb",
                 "Mar"
                ]
               ],
               [
                [
                 "Jun",
                 "Feb",
                 "Mar"
                ]
               ],
               [
                [
                 "Jun",
                 "Feb",
                 "Mar"
                ]
               ],
               [
                [
                 "Jun",
                 "Feb",
                 "Mar"
                ]
               ],
               [
                [
                 "Jun",
                 "Feb",
                 "Mar"
                ]
               ],
               [
                [
                 "Jun",
                 "Feb",
                 "Mar"
                ]
               ],
               [
                [
                 "Jun",
                 "Feb",
                 "Mar"
                ]
               ],
               [
                [
                 "Jun",
                 "Feb",
                 "Mar"
                ]
               ],
               [
                [
                 "Jun",
                 "Feb",
                 "Mar"
                ]
               ],
               [
                [
                 "Jun",
                 "Feb",
                 "Mar"
                ]
               ],
               [
                [
                 "Jun",
                 "Feb",
                 "Mar"
                ]
               ],
               [
                [
                 "Jun",
                 "Feb",
                 "Mar"
                ]
               ]
              ],
              "x": [
               [
                15
               ],
               [
                19
               ],
               [
                26
               ],
               [
                22
               ],
               [
                18
               ],
               [
                17
               ],
               [
                18
               ],
               [
                18
               ],
               [
                21
               ],
               [
                21
               ],
               [
                17
               ],
               [
                14
               ],
               [
                15
               ],
               [
                23
               ],
               [
                20
               ],
               [
                17
               ],
               [
                27
               ],
               [
                15
               ],
               [
                16
               ],
               [
                19
               ],
               [
                19
               ],
               [
                23
               ],
               [
                19
               ],
               [
                16
               ],
               [
                11
               ],
               [
                18
               ],
               [
                19.1
               ],
               [
                13.5
               ],
               [
                19.1
               ],
               [
                22.2
               ],
               [
                20.8
               ],
               [
                15.7
               ],
               [
                21.5
               ]
              ]
             },
             {
              "scene.xaxis.title.text": "Jun"
             }
            ],
            "label": "Jun",
            "method": "update"
           },
           {
            "args": [
             {
              "customdata": [
               [
                [
                 "Jul",
                 "Feb",
                 "Mar"
                ]
               ],
               [
                [
                 "Jul",
                 "Feb",
                 "Mar"
                ]
               ],
               [
                [
                 "Jul",
                 "Feb",
                 "Mar"
                ]
               ],
               [
                [
                 "Jul",
                 "Feb",
                 "Mar"
                ]
               ],
               [
                [
                 "Jul",
                 "Feb",
                 "Mar"
                ]
               ],
               [
                [
                 "Jul",
                 "Feb",
                 "Mar"
                ]
               ],
               [
                [
                 "Jul",
                 "Feb",
                 "Mar"
                ]
               ],
               [
                [
                 "Jul",
                 "Feb",
                 "Mar"
                ]
               ],
               [
                [
                 "Jul",
                 "Feb",
                 "Mar"
                ]
               ],
               [
                [
                 "Jul",
                 "Feb",
                 "Mar"
                ]
               ],
               [
                [
                 "Jul",
                 "Feb",
                 "Mar"
                ]
               ],
               [
                [
                 "Jul",
                 "Feb",
                 "Mar"
                ]
               ],
               [
                [
                 "Jul",
                 "Feb",
                 "Mar"
                ]
               ],
               [
                [
                 "Jul",
                 "Feb",
                 "Mar"
                ]
               ],
               [
                [
                 "Jul",
                 "Feb",
                 "Mar"
                ]
               ],
               [
                [
                 "Jul",
                 "Feb",
                 "Mar"
                ]
               ],
               [
                [
                 "Jul",
                 "Feb",
                 "Mar"
                ]
               ],
               [
                [
                 "Jul",
                 "Feb",
                 "Mar"
                ]
               ],
               [
                [
                 "Jul",
                 "Feb",
                 "Mar"
                ]
               ],
               [
                [
                 "Jul",
                 "Feb",
                 "Mar"
                ]
               ],
               [
                [
                 "Jul",
                 "Feb",
                 "Mar"
                ]
               ],
               [
                [
                 "Jul",
                 "Feb",
                 "Mar"
                ]
               ],
               [
                [
                 "Jul",
                 "Feb",
                 "Mar"
                ]
               ],
               [
                [
                 "Jul",
                 "Feb",
                 "Mar"
                ]
               ],
               [
                [
                 "Jul",
                 "Feb",
                 "Mar"
                ]
               ],
               [
                [
                 "Jul",
                 "Feb",
                 "Mar"
                ]
               ],
               [
                [
                 "Jul",
                 "Feb",
                 "Mar"
                ]
               ],
               [
                [
                 "Jul",
                 "Feb",
                 "Mar"
                ]
               ],
               [
                [
                 "Jul",
                 "Feb",
                 "Mar"
                ]
               ],
               [
                [
                 "Jul",
                 "Feb",
                 "Mar"
                ]
               ],
               [
                [
                 "Jul",
                 "Feb",
                 "Mar"
                ]
               ],
               [
                [
                 "Jul",
                 "Feb",
                 "Mar"
                ]
               ],
               [
                [
                 "Jul",
                 "Feb",
                 "Mar"
                ]
               ]
              ],
              "x": [
               [
                17
               ],
               [
                23
               ],
               [
                29
               ],
               [
                23
               ],
               [
                21
               ],
               [
                18
               ],
               [
                20
               ],
               [
                19
               ],
               [
                23
               ],
               [
                23
               ],
               [
                18
               ],
               [
                16
               ],
               [
                18
               ],
               [
                25
               ],
               [
                22
               ],
               [
                19
               ],
               [
                29
               ],
               [
                18
               ],
               [
                17
               ],
               [
                22
               ],
               [
                21
               ],
               [
                25
               ],
               [
                22
               ],
               [
                19
               ],
               [
                15
               ],
               [
                21
               ],
               [
                21.3
               ],
               [
                15.3
               ],
               [
                21.3
               ],
               [
                25.6
               ],
               [
                23.6
               ],
               [
                18.8
               ],
               [
                23.8
               ]
              ]
             },
             {
              "scene.xaxis.title.text": "Jul"
             }
            ],
            "label": "Jul",
            "method": "update"
           },
           {
            "args": [
             {
              "customdata": [
               [
                [
                 "Aug",
                 "Feb",
                 "Mar"
                ]
               ],
               [
                [
                 "Aug",
                 "Feb",
                 "Mar"
                ]
               ],
               [
                [
                 "Aug",
                 "Feb",
                 "Mar"
                ]
               ],
               [
                [
                 "Aug",
                 "Feb",
                 "Mar"
                ]
               ],
               [
                [
                 "Aug",
                 "Feb",
                 "Mar"
                ]
               ],
               [
                [
                 "Aug",
                 "Feb",
                 "Mar"
                ]
               ],
               [
                [
                 "Aug",
                 "Feb",
                 "Mar"
                ]
               ],
               [
                [
                 "Aug",
                 "Feb",
                 "Mar"
                ]
               ],
               [
                [
                 "Aug",
                 "Feb",
                 "Mar"
                ]
               ],
               [
                [
                 "Aug",
                 "Feb",
                 "Mar"
                ]
               ],
               [
                [
                 "Aug",
                 "Feb",
                 "Mar"
                ]
               ],
               [
                [
                 "Aug",
                 "Feb",
                 "Mar"
                ]
               ],
               [
                [
                 "Aug",
                 "Feb",
                 "Mar"
                ]
               ],
               [
                [
                 "Aug",
                 "Feb",
                 "Mar"
                ]
               ],
               [
                [
                 "Aug",
                 "Feb",
                 "Mar"
                ]
               ],
               [
                [
                 "Aug",
                 "Feb",
                 "Mar"
                ]
               ],
               [
                [
                 "Aug",
                 "Feb",
                 "Mar"
                ]
               ],
               [
                [
                 "Aug",
                 "Feb",
                 "Mar"
                ]
               ],
               [
                [
                 "Aug",
                 "Feb",
                 "Mar"
                ]
               ],
               [
                [
                 "Aug",
                 "Feb",
                 "Mar"
                ]
               ],
               [
                [
                 "Aug",
                 "Feb",
                 "Mar"
                ]
               ],
               [
                [
                 "Aug",
                 "Feb",
                 "Mar"
                ]
               ],
               [
                [
                 "Aug",
                 "Feb",
                 "Mar"
                ]
               ],
               [
                [
                 "Aug",
                 "Feb",
                 "Mar"
                ]
               ],
               [
                [
                 "Aug",
                 "Feb",
                 "Mar"
                ]
               ],
               [
                [
                 "Aug",
                 "Feb",
                 "Mar"
                ]
               ],
               [
                [
                 "Aug",
                 "Feb",
                 "Mar"
                ]
               ],
               [
                [
                 "Aug",
                 "Feb",
                 "Mar"
                ]
               ],
               [
                [
                 "Aug",
                 "Feb",
                 "Mar"
                ]
               ],
               [
                [
                 "Aug",
                 "Feb",
                 "Mar"
                ]
               ],
               [
                [
                 "Aug",
                 "Feb",
                 "Mar"
                ]
               ],
               [
                [
                 "Aug",
                 "Feb",
                 "Mar"
                ]
               ],
               [
                [
                 "Aug",
                 "Feb",
                 "Mar"
                ]
               ]
              ],
              "x": [
               [
                17
               ],
               [
                22
               ],
               [
                28
               ],
               [
                23
               ],
               [
                19
               ],
               [
                19
               ],
               [
                16
               ],
               [
                18
               ],
               [
                23
               ],
               [
                23
               ],
               [
                18
               ],
               [
                14
               ],
               [
                16
               ],
               [
                24
               ],
               [
                21
               ],
               [
                18
               ],
               [
                30
               ],
               [
                17
               ],
               [
                16
               ],
               [
                21
               ],
               [
                20
               ],
               [
                25
               ],
               [
                21
               ],
               [
                17
               ],
               [
                21
               ],
               [
                19
               ],
               [
                20.7
               ],
               [
                15.2
               ],
               [
                20.6
               ],
               [
                25.1
               ],
               [
                23
               ],
               [
                16.9
               ],
               [
                23.8
               ]
              ]
             },
             {
              "scene.xaxis.title.text": "Aug"
             }
            ],
            "label": "Aug",
            "method": "update"
           },
           {
            "args": [
             {
              "customdata": [
               [
                [
                 "Sep",
                 "Feb",
                 "Mar"
                ]
               ],
               [
                [
                 "Sep",
                 "Feb",
                 "Mar"
                ]
               ],
               [
                [
                 "Sep",
                 "Feb",
                 "Mar"
                ]
               ],
               [
                [
                 "Sep",
                 "Feb",
                 "Mar"
                ]
               ],
               [
                [
                 "Sep",
                 "Feb",
                 "Mar"
                ]
               ],
               [
                [
                 "Sep",
                 "Feb",
                 "Mar"
                ]
               ],
               [
                [
                 "Sep",
                 "Feb",
                 "Mar"
                ]
               ],
               [
                [
                 "Sep",
                 "Feb",
                 "Mar"
                ]
               ],
               [
                [
                 "Sep",
                 "Feb",
                 "Mar"
                ]
               ],
               [
                [
                 "Sep",
                 "Feb",
                 "Mar"
                ]
               ],
               [
                [
                 "Sep",
                 "Feb",
                 "Mar"
                ]
               ],
               [
                [
                 "Sep",
                 "Feb",
                 "Mar"
                ]
               ],
               [
                [
                 "Sep",
                 "Feb",
                 "Mar"
                ]
               ],
               [
                [
                 "Sep",
                 "Feb",
                 "Mar"
                ]
               ],
               [
                [
                 "Sep",
                 "Feb",
                 "Mar"
                ]
               ],
               [
                [
                 "Sep",
                 "Feb",
                 "Mar"
                ]
               ],
               [
                [
                 "Sep",
                 "Feb",
                 "Mar"
                ]
               ],
               [
                [
                 "Sep",
                 "Feb",
                 "Mar"
                ]
               ],
               [
                [
                 "Sep",
                 "Feb",
                 "Mar"
                ]
               ],
               [
                [
                 "Sep",
                 "Feb",
                 "Mar"
                ]
               ],
               [
                [
                 "Sep",
                 "Feb",
                 "Mar"
                ]
               ],
               [
                [
                 "Sep",
                 "Feb",
                 "Mar"
                ]
               ],
               [
                [
                 "Sep",
                 "Feb",
                 "Mar"
                ]
               ],
               [
                [
                 "Sep",
                 "Feb",
                 "Mar"
                ]
               ],
               [
                [
                 "Sep",
                 "Feb",
                 "Mar"
                ]
               ],
               [
                [
                 "Sep",
                 "Feb",
                 "Mar"
                ]
               ],
               [
                [
                 "Sep",
                 "Feb",
                 "Mar"
                ]
               ],
               [
                [
                 "Sep",
                 "Feb",
                 "Mar"
                ]
               ],
               [
                [
                 "Sep",
                 "Feb",
                 "Mar"
                ]
               ],
               [
                [
                 "Sep",
                 "Feb",
                 "Mar"
                ]
               ],
               [
                [
                 "Sep",
                 "Feb",
                 "Mar"
                ]
               ],
               [
                [
                 "Sep",
                 "Feb",
                 "Mar"
                ]
               ],
               [
                [
                 "Sep",
                 "Feb",
                 "Mar"
                ]
               ]
              ],
              "x": [
               [
                15
               ],
               [
                18
               ],
               [
                24
               ],
               [
                19
               ],
               [
                16
               ],
               [
                15
               ],
               [
                16
               ],
               [
                17
               ],
               [
                18
               ],
               [
                18
               ],
               [
                14
               ],
               [
                12
               ],
               [
                11
               ],
               [
                23
               ],
               [
                19
               ],
               [
                15
               ],
               [
                27
               ],
               [
                12
               ],
               [
                11
               ],
               [
                18
               ],
               [
                16
               ],
               [
                22
               ],
               [
                17
               ],
               [
                12
               ],
               [
                17
               ],
               [
                16
               ],
               [
                15.9
               ],
               [
                13
               ],
               [
                16
               ],
               [
                20.9
               ],
               [
                19.2
               ],
               [
                11.6
               ],
               [
                18.8
               ]
              ]
             },
             {
              "scene.xaxis.title.text": "Sep"
             }
            ],
            "label": "Sep",
            "method": "update"
           },
           {
            "args": [
             {
              "customdata": [
               [
                [
                 "Oct",
                 "Feb",
                 "Mar"
                ]
               ],
               [
                [
                 "Oct",
                 "Feb",
                 "Mar"
                ]
               ],
               [
                [
                 "Oct",
                 "Feb",
                 "Mar"
                ]
               ],
               [
                [
                 "Oct",
                 "Feb",
                 "Mar"
                ]
               ],
               [
                [
                 "Oct",
                 "Feb",
                 "Mar"
                ]
               ],
               [
                [
                 "Oct",
                 "Feb",
                 "Mar"
                ]
               ],
               [
                [
                 "Oct",
                 "Feb",
                 "Mar"
                ]
               ],
               [
                [
                 "Oct",
                 "Feb",
                 "Mar"
                ]
               ],
               [
                [
                 "Oct",
                 "Feb",
                 "Mar"
                ]
               ],
               [
                [
                 "Oct",
                 "Feb",
                 "Mar"
                ]
               ],
               [
                [
                 "Oct",
                 "Feb",
                 "Mar"
                ]
               ],
               [
                [
                 "Oct",
                 "Feb",
                 "Mar"
                ]
               ],
               [
                [
                 "Oct",
                 "Feb",
                 "Mar"
                ]
               ],
               [
                [
                 "Oct",
                 "Feb",
                 "Mar"
                ]
               ],
               [
                [
                 "Oct",
                 "Feb",
                 "Mar"
                ]
               ],
               [
                [
                 "Oct",
                 "Feb",
                 "Mar"
                ]
               ],
               [
                [
                 "Oct",
                 "Feb",
                 "Mar"
                ]
               ],
               [
                [
                 "Oct",
                 "Feb",
                 "Mar"
                ]
               ],
               [
                [
                 "Oct",
                 "Feb",
                 "Mar"
                ]
               ],
               [
                [
                 "Oct",
                 "Feb",
                 "Mar"
                ]
               ],
               [
                [
                 "Oct",
                 "Feb",
                 "Mar"
                ]
               ],
               [
                [
                 "Oct",
                 "Feb",
                 "Mar"
                ]
               ],
               [
                [
                 "Oct",
                 "Feb",
                 "Mar"
                ]
               ],
               [
                [
                 "Oct",
                 "Feb",
                 "Mar"
                ]
               ],
               [
                [
                 "Oct",
                 "Feb",
                 "Mar"
                ]
               ],
               [
                [
                 "Oct",
                 "Feb",
                 "Mar"
                ]
               ],
               [
                [
                 "Oct",
                 "Feb",
                 "Mar"
                ]
               ],
               [
                [
                 "Oct",
                 "Feb",
                 "Mar"
                ]
               ],
               [
                [
                 "Oct",
                 "Feb",
                 "Mar"
                ]
               ],
               [
                [
                 "Oct",
                 "Feb",
                 "Mar"
                ]
               ],
               [
                [
                 "Oct",
                 "Feb",
                 "Mar"
                ]
               ],
               [
                [
                 "Oct",
                 "Feb",
                 "Mar"
                ]
               ],
               [
                [
                 "Oct",
                 "Feb",
                 "Mar"
                ]
               ]
              ],
              "x": [
               [
                11
               ],
               [
                14
               ],
               [
                20
               ],
               [
                14
               ],
               [
                10
               ],
               [
                10
               ],
               [
                11
               ],
               [
                12
               ],
               [
                13
               ],
               [
                13
               ],
               [
                9
               ],
               [
                9
               ],
               [
                4
               ],
               [
                19
               ],
               [
                15
               ],
               [
                9
               ],
               [
                23
               ],
               [
                6
               ],
               [
                7
               ],
               [
                13
               ],
               [
                10
               ],
               [
                17
               ],
               [
                12
               ],
               [
                7
               ],
               [
                11
               ],
               [
                10
               ],
               [
                10.4
               ],
               [
                9.8
               ],
               [
                11.2
               ],
               [
                15.1
               ],
               [
                13.4
               ],
               [
                6.2
               ],
               [
                13.1
               ]
              ]
             },
             {
              "scene.xaxis.title.text": "Oct"
             }
            ],
            "label": "Oct",
            "method": "update"
           },
           {
            "args": [
             {
              "customdata": [
               [
                [
                 "Nov",
                 "Feb",
                 "Mar"
                ]
               ],
               [
                [
                 "Nov",
                 "Feb",
                 "Mar"
                ]
               ],
               [
                [
                 "Nov",
                 "Feb",
                 "Mar"
                ]
               ],
               [
                [
                 "Nov",
                 "Feb",
                 "Mar"
                ]
               ],
               [
                [
                 "Nov",
                 "Feb",
                 "Mar"
                ]
               ],
               [
                [
                 "Nov",
                 "Feb",
                 "Mar"
                ]
               ],
               [
                [
                 "Nov",
                 "Feb",
                 "Mar"
                ]
               ],
               [
                [
                 "Nov",
                 "Feb",
                 "Mar"
                ]
               ],
               [
                [
                 "Nov",
                 "Feb",
                 "Mar"
                ]
               ],
               [
                [
                 "Nov",
                 "Feb",
                 "Mar"
                ]
               ],
               [
                [
                 "Nov",
                 "Feb",
                 "Mar"
                ]
               ],
               [
                [
                 "Nov",
                 "Feb",
                 "Mar"
                ]
               ],
               [
                [
                 "Nov",
                 "Feb",
                 "Mar"
                ]
               ],
               [
                [
                 "Nov",
                 "Feb",
                 "Mar"
                ]
               ],
               [
                [
                 "Nov",
                 "Feb",
                 "Mar"
                ]
               ],
               [
                [
                 "Nov",
                 "Feb",
                 "Mar"
                ]
               ],
               [
                [
                 "Nov",
                 "Feb",
                 "Mar"
                ]
               ],
               [
                [
                 "Nov",
                 "Feb",
                 "Mar"
                ]
               ],
               [
                [
                 "Nov",
                 "Feb",
                 "Mar"
                ]
               ],
               [
                [
                 "Nov",
                 "Feb",
                 "Mar"
                ]
               ],
               [
                [
                 "Nov",
                 "Feb",
                 "Mar"
                ]
               ],
               [
                [
                 "Nov",
                 "Feb",
                 "Mar"
                ]
               ],
               [
                [
                 "Nov",
                 "Feb",
                 "Mar"
                ]
               ],
               [
                [
                 "Nov",
                 "Feb",
                 "Mar"
                ]
               ],
               [
                [
                 "Nov",
                 "Feb",
                 "Mar"
                ]
               ],
               [
                [
                 "Nov",
                 "Feb",
                 "Mar"
                ]
               ],
               [
                [
                 "Nov",
                 "Feb",
                 "Mar"
                ]
               ],
               [
                [
                 "Nov",
                 "Feb",
                 "Mar"
                ]
               ],
               [
                [
                 "Nov",
                 "Feb",
                 "Mar"
                ]
               ],
               [
                [
                 "Nov",
                 "Feb",
                 "Mar"
                ]
               ],
               [
                [
                 "Nov",
                 "Feb",
                 "Mar"
                ]
               ],
               [
                [
                 "Nov",
                 "Feb",
                 "Mar"
                ]
               ],
               [
                [
                 "Nov",
                 "Feb",
                 "Mar"
                ]
               ]
              ],
              "x": [
               [
                6
               ],
               [
                8
               ],
               [
                15
               ],
               [
                8
               ],
               [
                4
               ],
               [
                4
               ],
               [
                7
               ],
               [
                7
               ],
               [
                7
               ],
               [
                6
               ],
               [
                4
               ],
               [
                6
               ],
               [
                -1
               ],
               [
                14
               ],
               [
                10
               ],
               [
                4
               ],
               [
                20
               ],
               [
                -2
               ],
               [
                2
               ],
               [
                7
               ],
               [
                4
               ],
               [
                12
               ],
               [
                7
               ],
               [
                2
               ],
               [
                6
               ],
               [
                4
               ],
               [
                4.9
               ],
               [
                6.7
               ],
               [
                5.6
               ],
               [
                9.9
               ],
               [
                7.2
               ],
               [
                0.1
               ],
               [
                6.5
               ]
              ]
             },
             {
              "scene.xaxis.title.text": "Nov"
             }
            ],
            "label": "Nov",
            "method": "update"
           },
           {
            "args": [
             {
              "customdata": [
               [
                [
                 "Dec",
                 "Feb",
                 "Mar"
                ]
               ],
               [
                [
                 "Dec",
                 "Feb",
                 "Mar"
                ]
               ],
               [
                [
                 "Dec",
                 "Feb",
                 "Mar"
                ]
               ],
               [
                [
                 "Dec",
                 "Feb",
                 "Mar"
                ]
               ],
               [
                [
                 "Dec",
                 "Feb",
                 "Mar"
                ]
               ],
               [
                [
                 "Dec",
                 "Feb",
                 "Mar"
                ]
               ],
               [
                [
                 "Dec",
                 "Feb",
                 "Mar"
                ]
               ],
               [
                [
                 "Dec",
                 "Feb",
                 "Mar"
                ]
               ],
               [
                [
                 "Dec",
                 "Feb",
                 "Mar"
                ]
               ],
               [
                [
                 "Dec",
                 "Feb",
                 "Mar"
                ]
               ],
               [
                [
                 "Dec",
                 "Feb",
                 "Mar"
                ]
               ],
               [
                [
                 "Dec",
                 "Feb",
                 "Mar"
                ]
               ],
               [
                [
                 "Dec",
                 "Feb",
                 "Mar"
                ]
               ],
               [
                [
                 "Dec",
                 "Feb",
                 "Mar"
                ]
               ],
               [
                [
                 "Dec",
                 "Feb",
                 "Mar"
                ]
               ],
               [
                [
                 "Dec",
                 "Feb",
                 "Mar"
                ]
               ],
               [
                [
                 "Dec",
                 "Feb",
                 "Mar"
                ]
               ],
               [
                [
                 "Dec",
                 "Feb",
                 "Mar"
                ]
               ],
               [
                [
                 "Dec",
                 "Feb",
                 "Mar"
                ]
               ],
               [
                [
                 "Dec",
                 "Feb",
                 "Mar"
                ]
               ],
               [
                [
                 "Dec",
                 "Feb",
                 "Mar"
                ]
               ],
               [
                [
                 "Dec",
                 "Feb",
                 "Mar"
                ]
               ],
               [
                [
                 "Dec",
                 "Feb",
                 "Mar"
                ]
               ],
               [
                [
                 "Dec",
                 "Feb",
                 "Mar"
                ]
               ],
               [
                [
                 "Dec",
                 "Feb",
                 "Mar"
                ]
               ],
               [
                [
                 "Dec",
                 "Feb",
                 "Mar"
                ]
               ],
               [
                [
                 "Dec",
                 "Feb",
                 "Mar"
                ]
               ],
               [
                [
                 "Dec",
                 "Feb",
                 "Mar"
                ]
               ],
               [
                [
                 "Dec",
                 "Feb",
                 "Mar"
                ]
               ],
               [
                [
                 "Dec",
                 "Feb",
                 "Mar"
                ]
               ],
               [
                [
                 "Dec",
                 "Feb",
                 "Mar"
                ]
               ],
               [
                [
                 "Dec",
                 "Feb",
                 "Mar"
                ]
               ],
               [
                [
                 "Dec",
                 "Feb",
                 "Mar"
                ]
               ]
              ],
              "x": [
               [
                3
               ],
               [
                2
               ],
               [
                11
               ],
               [
                6
               ],
               [
                0
               ],
               [
                1
               ],
               [
                2
               ],
               [
                3
               ],
               [
                1
               ],
               [
                1
               ],
               [
                2
               ],
               [
                4
               ],
               [
                -6
               ],
               [
                11
               ],
               [
                8
               ],
               [
                2
               ],
               [
                17
               ],
               [
                -10
               ],
               [
                3
               ],
               [
                4
               ],
               [
                0
               ],
               [
                9
               ],
               [
                1
               ],
               [
                -1
               ],
               [
                2
               ],
               [
                2
               ],
               [
                0.7
               ],
               [
                4.2
               ],
               [
                1.2
               ],
               [
                6.9
               ],
               [
                3.3
               ],
               [
                -3.7
               ],
               [
                1.7
               ]
              ]
             },
             {
              "scene.xaxis.title.text": "Dec"
             }
            ],
            "label": "Dec",
            "method": "update"
           }
          ],
          "direction": "down",
          "pad": {
           "b": 2,
           "l": 2,
           "r": 2,
           "t": 4
          },
          "showactive": true,
          "type": "dropdown",
          "x": 0.14,
          "xanchor": "center",
          "y": 1.12,
          "yanchor": "top"
         },
         {
          "buttons": [
           {
            "args": [
             {
              "customdata": [
               [
                [
                 "Jan",
                 "Jan",
                 "Mar"
                ]
               ],
               [
                [
                 "Jan",
                 "Jan",
                 "Mar"
                ]
               ],
               [
                [
                 "Jan",
                 "Jan",
                 "Mar"
                ]
               ],
               [
                [
                 "Jan",
                 "Jan",
                 "Mar"
                ]
               ],
               [
                [
                 "Jan",
                 "Jan",
                 "Mar"
                ]
               ],
               [
                [
                 "Jan",
                 "Jan",
                 "Mar"
                ]
               ],
               [
                [
                 "Jan",
                 "Jan",
                 "Mar"
                ]
               ],
               [
                [
                 "Jan",
                 "Jan",
                 "Mar"
                ]
               ],
               [
                [
                 "Jan",
                 "Jan",
                 "Mar"
                ]
               ],
               [
                [
                 "Jan",
                 "Jan",
                 "Mar"
                ]
               ],
               [
                [
                 "Jan",
                 "Jan",
                 "Mar"
                ]
               ],
               [
                [
                 "Jan",
                 "Jan",
                 "Mar"
                ]
               ],
               [
                [
                 "Jan",
                 "Jan",
                 "Mar"
                ]
               ],
               [
                [
                 "Jan",
                 "Jan",
                 "Mar"
                ]
               ],
               [
                [
                 "Jan",
                 "Jan",
                 "Mar"
                ]
               ],
               [
                [
                 "Jan",
                 "Jan",
                 "Mar"
                ]
               ],
               [
                [
                 "Jan",
                 "Jan",
                 "Mar"
                ]
               ],
               [
                [
                 "Jan",
                 "Jan",
                 "Mar"
                ]
               ],
               [
                [
                 "Jan",
                 "Jan",
                 "Mar"
                ]
               ],
               [
                [
                 "Jan",
                 "Jan",
                 "Mar"
                ]
               ],
               [
                [
                 "Jan",
                 "Jan",
                 "Mar"
                ]
               ],
               [
                [
                 "Jan",
                 "Jan",
                 "Mar"
                ]
               ],
               [
                [
                 "Jan",
                 "Jan",
                 "Mar"
                ]
               ],
               [
                [
                 "Jan",
                 "Jan",
                 "Mar"
                ]
               ],
               [
                [
                 "Jan",
                 "Jan",
                 "Mar"
                ]
               ],
               [
                [
                 "Jan",
                 "Jan",
                 "Mar"
                ]
               ],
               [
                [
                 "Jan",
                 "Jan",
                 "Mar"
                ]
               ],
               [
                [
                 "Jan",
                 "Jan",
                 "Mar"
                ]
               ],
               [
                [
                 "Jan",
                 "Jan",
                 "Mar"
                ]
               ],
               [
                [
                 "Jan",
                 "Jan",
                 "Mar"
                ]
               ],
               [
                [
                 "Jan",
                 "Jan",
                 "Mar"
                ]
               ],
               [
                [
                 "Jan",
                 "Jan",
                 "Mar"
                ]
               ],
               [
                [
                 "Jan",
                 "Jan",
                 "Mar"
                ]
               ]
              ],
              "y": [
               [
                2
               ],
               [
                1
               ],
               [
                9
               ],
               [
                1
               ],
               [
                -2
               ],
               [
                1
               ],
               [
                1
               ],
               [
                1
               ],
               [
                -4
               ],
               [
                -2
               ],
               [
                -1
               ],
               [
                3
               ],
               [
                -9
               ],
               [
                11
               ],
               [
                7
               ],
               [
                0
               ],
               [
                17
               ],
               [
                -14
               ],
               [
                -5
               ],
               [
                4
               ],
               [
                -2
               ],
               [
                7
               ],
               [
                -1
               ],
               [
                -4
               ],
               [
                -1
               ],
               [
                -5
               ],
               [
                -0.4
               ],
               [
                4.2
               ],
               [
                0.3
               ],
               [
                6.3
               ],
               [
                2.5
               ],
               [
                -5.5
               ],
               [
                0.1
               ]
              ]
             },
             {
              "scene.yaxis.title.text": "Jan"
             }
            ],
            "label": "Jan",
            "method": "update"
           },
           {
            "args": [
             {
              "customdata": [
               [
                [
                 "Jan",
                 "Feb",
                 "Mar"
                ]
               ],
               [
                [
                 "Jan",
                 "Feb",
                 "Mar"
                ]
               ],
               [
                [
                 "Jan",
                 "Feb",
                 "Mar"
                ]
               ],
               [
                [
                 "Jan",
                 "Feb",
                 "Mar"
                ]
               ],
               [
                [
                 "Jan",
                 "Feb",
                 "Mar"
                ]
               ],
               [
                [
                 "Jan",
                 "Feb",
                 "Mar"
                ]
               ],
               [
                [
                 "Jan",
                 "Feb",
                 "Mar"
                ]
               ],
               [
                [
                 "Jan",
                 "Feb",
                 "Mar"
                ]
               ],
               [
                [
                 "Jan",
                 "Feb",
                 "Mar"
                ]
               ],
               [
                [
                 "Jan",
                 "Feb",
                 "Mar"
                ]
               ],
               [
                [
                 "Jan",
                 "Feb",
                 "Mar"
                ]
               ],
               [
                [
                 "Jan",
                 "Feb",
                 "Mar"
                ]
               ],
               [
                [
                 "Jan",
                 "Feb",
                 "Mar"
                ]
               ],
               [
                [
                 "Jan",
                 "Feb",
                 "Mar"
                ]
               ],
               [
                [
                 "Jan",
                 "Feb",
                 "Mar"
                ]
               ],
               [
                [
                 "Jan",
                 "Feb",
                 "Mar"
                ]
               ],
               [
                [
                 "Jan",
                 "Feb",
                 "Mar"
                ]
               ],
               [
                [
                 "Jan",
                 "Feb",
                 "Mar"
                ]
               ],
               [
                [
                 "Jan",
                 "Feb",
                 "Mar"
                ]
               ],
               [
                [
                 "Jan",
                 "Feb",
                 "Mar"
                ]
               ],
               [
                [
                 "Jan",
                 "Feb",
                 "Mar"
                ]
               ],
               [
                [
                 "Jan",
                 "Feb",
                 "Mar"
                ]
               ],
               [
                [
                 "Jan",
                 "Feb",
                 "Mar"
                ]
               ],
               [
                [
                 "Jan",
                 "Feb",
                 "Mar"
                ]
               ],
               [
                [
                 "Jan",
                 "Feb",
                 "Mar"
                ]
               ],
               [
                [
                 "Jan",
                 "Feb",
                 "Mar"
                ]
               ],
               [
                [
                 "Jan",
                 "Feb",
                 "Mar"
                ]
               ],
               [
                [
                 "Jan",
                 "Feb",
                 "Mar"
                ]
               ],
               [
                [
                 "Jan",
                 "Feb",
                 "Mar"
                ]
               ],
               [
                [
                 "Jan",
                 "Feb",
                 "Mar"
                ]
               ],
               [
                [
                 "Jan",
                 "Feb",
                 "Mar"
                ]
               ],
               [
                [
                 "Jan",
                 "Feb",
                 "Mar"
                ]
               ],
               [
                [
                 "Jan",
                 "Feb",
                 "Mar"
                ]
               ]
              ],
              "y": [
               [
                2
               ],
               [
                0
               ],
               [
                10
               ],
               [
                3
               ],
               [
                1
               ],
               [
                1
               ],
               [
                2
               ],
               [
                4
               ],
               [
                -2
               ],
               [
                1
               ],
               [
                0
               ],
               [
                4
               ],
               [
                -8
               ],
               [
                12
               ],
               [
                8
               ],
               [
                1
               ],
               [
                17
               ],
               [
                -12
               ],
               [
                -4
               ],
               [
                5
               ],
               [
                -1
               ],
               [
                8
               ],
               [
                1
               ],
               [
                -4
               ],
               [
                1
               ],
               [
                -4
               ],
               [
                1.2
               ],
               [
                4.5
               ],
               [
                1.9
               ],
               [
                7.9
               ],
               [
                4.7
               ],
               [
                -5.8
               ],
               [
                2.6
               ]
              ]
             },
             {
              "scene.yaxis.title.text": "Feb"
             }
            ],
            "label": "Feb",
            "method": "update"
           },
           {
            "args": [
             {
              "customdata": [
               [
                [
                 "Jan",
                 "Mar",
                 "Mar"
                ]
               ],
               [
                [
                 "Jan",
                 "Mar",
                 "Mar"
                ]
               ],
               [
                [
                 "Jan",
                 "Mar",
                 "Mar"
                ]
               ],
               [
                [
                 "Jan",
                 "Mar",
                 "Mar"
                ]
               ],
               [
                [
                 "Jan",
                 "Mar",
                 "Mar"
                ]
               ],
               [
                [
                 "Jan",
                 "Mar",
                 "Mar"
                ]
               ],
               [
                [
                 "Jan",
                 "Mar",
                 "Mar"
                ]
               ],
               [
                [
                 "Jan",
                 "Mar",
                 "Mar"
                ]
               ],
               [
                [
                 "Jan",
                 "Mar",
                 "Mar"
                ]
               ],
               [
                [
                 "Jan",
                 "Mar",
                 "Mar"
                ]
               ],
               [
                [
                 "Jan",
                 "Mar",
                 "Mar"
                ]
               ],
               [
                [
                 "Jan",
                 "Mar",
                 "Mar"
                ]
               ],
               [
                [
                 "Jan",
                 "Mar",
                 "Mar"
                ]
               ],
               [
                [
                 "Jan",
                 "Mar",
                 "Mar"
                ]
               ],
               [
                [
                 "Jan",
                 "Mar",
                 "Mar"
                ]
               ],
               [
                [
                 "Jan",
                 "Mar",
                 "Mar"
                ]
               ],
               [
                [
                 "Jan",
                 "Mar",
                 "Mar"
                ]
               ],
               [
                [
                 "Jan",
                 "Mar",
                 "Mar"
                ]
               ],
               [
                [
                 "Jan",
                 "Mar",
                 "Mar"
                ]
               ],
               [
                [
                 "Jan",
                 "Mar",
                 "Mar"
                ]
               ],
               [
                [
                 "Jan",
                 "Mar",
                 "Mar"
                ]
               ],
               [
                [
                 "Jan",
                 "Mar",
                 "Mar"
                ]
               ],
               [
                [
                 "Jan",
                 "Mar",
                 "Mar"
                ]
               ],
               [
                [
                 "Jan",
                 "Mar",
                 "Mar"
                ]
               ],
               [
                [
                 "Jan",
                 "Mar",
                 "Mar"
                ]
               ],
               [
                [
                 "Jan",
                 "Mar",
                 "Mar"
                ]
               ],
               [
                [
                 "Jan",
                 "Mar",
                 "Mar"
                ]
               ],
               [
                [
                 "Jan",
                 "Mar",
                 "Mar"
                ]
               ],
               [
                [
                 "Jan",
                 "Mar",
                 "Mar"
                ]
               ],
               [
                [
                 "Jan",
                 "Mar",
                 "Mar"
                ]
               ],
               [
                [
                 "Jan",
                 "Mar",
                 "Mar"
                ]
               ],
               [
                [
                 "Jan",
                 "Mar",
                 "Mar"
                ]
               ],
               [
                [
                 "Jan",
                 "Mar",
                 "Mar"
                ]
               ]
              ],
              "y": [
               [
                5
               ],
               [
                6
               ],
               [
                12
               ],
               [
                8
               ],
               [
                4
               ],
               [
                6
               ],
               [
                7
               ],
               [
                7
               ],
               [
                6
               ],
               [
                7
               ],
               [
                3
               ],
               [
                6
               ],
               [
                -4
               ],
               [
                15
               ],
               [
                10
               ],
               [
                7
               ],
               [
                18
               ],
               [
                -6
               ],
               [
                1
               ],
               [
                9
               ],
               [
                4
               ],
               [
                11
               ],
               [
                7
               ],
               [
                -1
               ],
               [
                6
               ],
               [
                3
               ],
               [
                5.5
               ],
               [
                6.2
               ],
               [
                6.5
               ],
               [
                11.2
               ],
               [
                9
               ],
               [
                -1.3
               ],
               [
                7.6
               ]
              ]
             },
             {
              "scene.yaxis.title.text": "Mar"
             }
            ],
            "label": "Mar",
            "method": "update"
           },
           {
            "args": [
             {
              "customdata": [
               [
                [
                 "Jan",
                 "Apr",
                 "Mar"
                ]
               ],
               [
                [
                 "Jan",
                 "Apr",
                 "Mar"
                ]
               ],
               [
                [
                 "Jan",
                 "Apr",
                 "Mar"
                ]
               ],
               [
                [
                 "Jan",
                 "Apr",
                 "Mar"
                ]
               ],
               [
                [
                 "Jan",
                 "Apr",
                 "Mar"
                ]
               ],
               [
                [
                 "Jan",
                 "Apr",
                 "Mar"
                ]
               ],
               [
                [
                 "Jan",
                 "Apr",
                 "Mar"
                ]
               ],
               [
                [
                 "Jan",
                 "Apr",
                 "Mar"
                ]
               ],
               [
                [
                 "Jan",
                 "Apr",
                 "Mar"
                ]
               ],
               [
                [
                 "Jan",
                 "Apr",
                 "Mar"
                ]
               ],
               [
                [
                 "Jan",
                 "Apr",
                 "Mar"
                ]
               ],
               [
                [
                 "Jan",
                 "Apr",
                 "Mar"
                ]
               ],
               [
                [
                 "Jan",
                 "Apr",
                 "Mar"
                ]
               ],
               [
                [
                 "Jan",
                 "Apr",
                 "Mar"
                ]
               ],
               [
                [
                 "Jan",
                 "Apr",
                 "Mar"
                ]
               ],
               [
                [
                 "Jan",
                 "Apr",
                 "Mar"
                ]
               ],
               [
                [
                 "Jan",
                 "Apr",
                 "Mar"
                ]
               ],
               [
                [
                 "Jan",
                 "Apr",
                 "Mar"
                ]
               ],
               [
                [
                 "Jan",
                 "Apr",
                 "Mar"
                ]
               ],
               [
                [
                 "Jan",
                 "Apr",
                 "Mar"
                ]
               ],
               [
                [
                 "Jan",
                 "Apr",
                 "Mar"
                ]
               ],
               [
                [
                 "Jan",
                 "Apr",
                 "Mar"
                ]
               ],
               [
                [
                 "Jan",
                 "Apr",
                 "Mar"
                ]
               ],
               [
                [
                 "Jan",
                 "Apr",
                 "Mar"
                ]
               ],
               [
                [
                 "Jan",
                 "Apr",
                 "Mar"
                ]
               ],
               [
                [
                 "Jan",
                 "Apr",
                 "Mar"
                ]
               ],
               [
                [
                 "Jan",
                 "Apr",
                 "Mar"
                ]
               ],
               [
                [
                 "Jan",
                 "Apr",
                 "Mar"
                ]
               ],
               [
                [
                 "Jan",
                 "Apr",
                 "Mar"
                ]
               ],
               [
                [
                 "Jan",
                 "Apr",
                 "Mar"
                ]
               ],
               [
                [
                 "Jan",
                 "Apr",
                 "Mar"
                ]
               ],
               [
                [
                 "Jan",
                 "Apr",
                 "Mar"
                ]
               ],
               [
                [
                 "Jan",
                 "Apr",
                 "Mar"
                ]
               ]
              ],
              "y": [
               [
                8
               ],
               [
                12
               ],
               [
                16
               ],
               [
                13
               ],
               [
                10
               ],
               [
                10
               ],
               [
                11
               ],
               [
                11
               ],
               [
                12
               ],
               [
                13
               ],
               [
                8
               ],
               [
                8
               ],
               [
                3
               ],
               [
                17
               ],
               [
                13
               ],
               [
                11
               ],
               [
                21
               ],
               [
                6
               ],
               [
                5
               ],
               [
                13
               ],
               [
                11
               ],
               [
                14
               ],
               [
                12
               ],
               [
                6
               ],
               [
                12
               ],
               [
                9
               ],
               [
                11
               ],
               [
                8.1
               ],
               [
                10.8
               ],
               [
                12.9
               ],
               [
                12.2
               ],
               [
                5.1
               ],
               [
                12.1
               ]
              ]
             },
             {
              "scene.yaxis.title.text": "Apr"
             }
            ],
            "label": "Apr",
            "method": "update"
           },
           {
            "args": [
             {
              "customdata": [
               [
                [
                 "Jan",
                 "May",
                 "Mar"
                ]
               ],
               [
                [
                 "Jan",
                 "May",
                 "Mar"
                ]
               ],
               [
                [
                 "Jan",
                 "May",
                 "Mar"
                ]
               ],
               [
                [
                 "Jan",
                 "May",
                 "Mar"
                ]
               ],
               [
                [
                 "Jan",
                 "May",
                 "Mar"
                ]
               ],
               [
                [
                 "Jan",
                 "May",
                 "Mar"
                ]
               ],
               [
                [
                 "Jan",
                 "May",
                 "Mar"
                ]
               ],
               [
                [
                 "Jan",
                 "May",
                 "Mar"
                ]
               ],
               [
                [
                 "Jan",
                 "May",
                 "Mar"
                ]
               ],
               [
                [
                 "Jan",
                 "May",
                 "Mar"
                ]
               ],
               [
                [
                 "Jan",
                 "May",
                 "Mar"
                ]
               ],
               [
                [
                 "Jan",
                 "May",
                 "Mar"
                ]
               ],
               [
                [
                 "Jan",
                 "May",
                 "Mar"
                ]
               ],
               [
                [
                 "Jan",
                 "May",
                 "Mar"
                ]
               ],
               [
                [
                 "Jan",
                 "May",
                 "Mar"
                ]
               ],
               [
                [
                 "Jan",
                 "May",
                 "Mar"
                ]
               ],
               [
                [
                 "Jan",
                 "May",
                 "Mar"
                ]
               ],
               [
                [
                 "Jan",
                 "May",
                 "Mar"
                ]
               ],
               [
                [
                 "Jan",
                 "May",
                 "Mar"
                ]
               ],
               [
                [
                 "Jan",
                 "May",
                 "Mar"
                ]
               ],
               [
                [
                 "Jan",
                 "May",
                 "Mar"
                ]
               ],
               [
                [
                 "Jan",
                 "May",
                 "Mar"
                ]
               ],
               [
                [
                 "Jan",
                 "May",
                 "Mar"
                ]
               ],
               [
                [
                 "Jan",
                 "May",
                 "Mar"
                ]
               ],
               [
                [
                 "Jan",
                 "May",
                 "Mar"
                ]
               ],
               [
                [
                 "Jan",
                 "May",
                 "Mar"
                ]
               ],
               [
                [
                 "Jan",
                 "May",
                 "Mar"
                ]
               ],
               [
                [
                 "Jan",
                 "May",
                 "Mar"
                ]
               ],
               [
                [
                 "Jan",
                 "May",
                 "Mar"
                ]
               ],
               [
                [
                 "Jan",
                 "May",
                 "Mar"
                ]
               ],
               [
                [
                 "Jan",
                 "May",
                 "Mar"
                ]
               ],
               [
                [
                 "Jan",
                 "May",
                 "Mar"
                ]
               ],
               [
                [
                 "Jan",
                 "May",
                 "Mar"
                ]
               ]
              ],
              "y": [
               [
                12
               ],
               [
                17
               ],
               [
                21
               ],
               [
                17
               ],
               [
                14
               ],
               [
                13
               ],
               [
                14
               ],
               [
                13
               ],
               [
                17
               ],
               [
                17
               ],
               [
                13
               ],
               [
                11
               ],
               [
                10
               ],
               [
                19
               ],
               [
                17
               ],
               [
                13
               ],
               [
                23
               ],
               [
                14
               ],
               [
                11
               ],
               [
                16
               ],
               [
                15
               ],
               [
                18
               ],
               [
                16
               ],
               [
                11
               ],
               [
                15
               ],
               [
                16
               ],
               [
                16
               ],
               [
                10.8
               ],
               [
                15.8
               ],
               [
                16.7
               ],
               [
                17
               ],
               [
                11.3
               ],
               [
                17.3
               ]
              ]
             },
             {
              "scene.yaxis.title.text": "May"
             }
            ],
            "label": "May",
            "method": "update"
           },
           {
            "args": [
             {
              "customdata": [
               [
                [
                 "Jan",
                 "Jun",
                 "Mar"
                ]
               ],
               [
                [
                 "Jan",
                 "Jun",
                 "Mar"
                ]
               ],
               [
                [
                 "Jan",
                 "Jun",
                 "Mar"
                ]
               ],
               [
                [
                 "Jan",
                 "Jun",
                 "Mar"
                ]
               ],
               [
                [
                 "Jan",
                 "Jun",
                 "Mar"
                ]
               ],
               [
                [
                 "Jan",
                 "Jun",
                 "Mar"
                ]
               ],
               [
                [
                 "Jan",
                 "Jun",
                 "Mar"
                ]
               ],
               [
                [
                 "Jan",
                 "Jun",
                 "Mar"
                ]
               ],
               [
                [
                 "Jan",
                 "Jun",
                 "Mar"
                ]
               ],
               [
                [
                 "Jan",
                 "Jun",
                 "Mar"
                ]
               ],
               [
                [
                 "Jan",
                 "Jun",
                 "Mar"
                ]
               ],
               [
                [
                 "Jan",
                 "Jun",
                 "Mar"
                ]
               ],
               [
                [
                 "Jan",
                 "Jun",
                 "Mar"
                ]
               ],
               [
                [
                 "Jan",
                 "Jun",
                 "Mar"
                ]
               ],
               [
                [
                 "Jan",
                 "Jun",
                 "Mar"
                ]
               ],
               [
                [
                 "Jan",
                 "Jun",
                 "Mar"
                ]
               ],
               [
                [
                 "Jan",
                 "Jun",
                 "Mar"
                ]
               ],
               [
                [
                 "Jan",
                 "Jun",
                 "Mar"
                ]
               ],
               [
                [
                 "Jan",
                 "Jun",
                 "Mar"
                ]
               ],
               [
                [
                 "Jan",
                 "Jun",
                 "Mar"
                ]
               ],
               [
                [
                 "Jan",
                 "Jun",
                 "Mar"
                ]
               ],
               [
                [
                 "Jan",
                 "Jun",
                 "Mar"
                ]
               ],
               [
                [
                 "Jan",
                 "Jun",
                 "Mar"
                ]
               ],
               [
                [
                 "Jan",
                 "Jun",
                 "Mar"
                ]
               ],
               [
                [
                 "Jan",
                 "Jun",
                 "Mar"
                ]
               ],
               [
                [
                 "Jan",
                 "Jun",
                 "Mar"
                ]
               ],
               [
                [
                 "Jan",
                 "Jun",
                 "Mar"
                ]
               ],
               [
                [
                 "Jan",
                 "Jun",
                 "Mar"
                ]
               ],
               [
                [
                 "Jan",
                 "Jun",
                 "Mar"
                ]
               ],
               [
                [
                 "Jan",
                 "Jun",
                 "Mar"
                ]
               ],
               [
                [
                 "Jan",
                 "Jun",
                 "Mar"
                ]
               ],
               [
                [
                 "Jan",
                 "Jun",
                 "Mar"
                ]
               ],
               [
                [
                 "Jan",
                 "Jun",
                 "Mar"
                ]
               ]
              ],
              "y": [
               [
                15
               ],
               [
                19
               ],
               [
                26
               ],
               [
                22
               ],
               [
                18
               ],
               [
                17
               ],
               [
                18
               ],
               [
                18
               ],
               [
                21
               ],
               [
                21
               ],
               [
                17
               ],
               [
                14
               ],
               [
                15
               ],
               [
                23
               ],
               [
                20
               ],
               [
                17
               ],
               [
                27
               ],
               [
                15
               ],
               [
                16
               ],
               [
                19
               ],
               [
                19
               ],
               [
                23
               ],
               [
                19
               ],
               [
                16
               ],
               [
                11
               ],
               [
                18
               ],
               [
                19.1
               ],
               [
                13.5
               ],
               [
                19.1
               ],
               [
                22.2
               ],
               [
                20.8
               ],
               [
                15.7
               ],
               [
                21.5
               ]
              ]
             },
             {
              "scene.yaxis.title.text": "Jun"
             }
            ],
            "label": "Jun",
            "method": "update"
           },
           {
            "args": [
             {
              "customdata": [
               [
                [
                 "Jan",
                 "Jul",
                 "Mar"
                ]
               ],
               [
                [
                 "Jan",
                 "Jul",
                 "Mar"
                ]
               ],
               [
                [
                 "Jan",
                 "Jul",
                 "Mar"
                ]
               ],
               [
                [
                 "Jan",
                 "Jul",
                 "Mar"
                ]
               ],
               [
                [
                 "Jan",
                 "Jul",
                 "Mar"
                ]
               ],
               [
                [
                 "Jan",
                 "Jul",
                 "Mar"
                ]
               ],
               [
                [
                 "Jan",
                 "Jul",
                 "Mar"
                ]
               ],
               [
                [
                 "Jan",
                 "Jul",
                 "Mar"
                ]
               ],
               [
                [
                 "Jan",
                 "Jul",
                 "Mar"
                ]
               ],
               [
                [
                 "Jan",
                 "Jul",
                 "Mar"
                ]
               ],
               [
                [
                 "Jan",
                 "Jul",
                 "Mar"
                ]
               ],
               [
                [
                 "Jan",
                 "Jul",
                 "Mar"
                ]
               ],
               [
                [
                 "Jan",
                 "Jul",
                 "Mar"
                ]
               ],
               [
                [
                 "Jan",
                 "Jul",
                 "Mar"
                ]
               ],
               [
                [
                 "Jan",
                 "Jul",
                 "Mar"
                ]
               ],
               [
                [
                 "Jan",
                 "Jul",
                 "Mar"
                ]
               ],
               [
                [
                 "Jan",
                 "Jul",
                 "Mar"
                ]
               ],
               [
                [
                 "Jan",
                 "Jul",
                 "Mar"
                ]
               ],
               [
                [
                 "Jan",
                 "Jul",
                 "Mar"
                ]
               ],
               [
                [
                 "Jan",
                 "Jul",
                 "Mar"
                ]
               ],
               [
                [
                 "Jan",
                 "Jul",
                 "Mar"
                ]
               ],
               [
                [
                 "Jan",
                 "Jul",
                 "Mar"
                ]
               ],
               [
                [
                 "Jan",
                 "Jul",
                 "Mar"
                ]
               ],
               [
                [
                 "Jan",
                 "Jul",
                 "Mar"
                ]
               ],
               [
                [
                 "Jan",
                 "Jul",
                 "Mar"
                ]
               ],
               [
                [
                 "Jan",
                 "Jul",
                 "Mar"
                ]
               ],
               [
                [
                 "Jan",
                 "Jul",
                 "Mar"
                ]
               ],
               [
                [
                 "Jan",
                 "Jul",
                 "Mar"
                ]
               ],
               [
                [
                 "Jan",
                 "Jul",
                 "Mar"
                ]
               ],
               [
                [
                 "Jan",
                 "Jul",
                 "Mar"
                ]
               ],
               [
                [
                 "Jan",
                 "Jul",
                 "Mar"
                ]
               ],
               [
                [
                 "Jan",
                 "Jul",
                 "Mar"
                ]
               ],
               [
                [
                 "Jan",
                 "Jul",
                 "Mar"
                ]
               ]
              ],
              "y": [
               [
                17
               ],
               [
                23
               ],
               [
                29
               ],
               [
                23
               ],
               [
                21
               ],
               [
                18
               ],
               [
                20
               ],
               [
                19
               ],
               [
                23
               ],
               [
                23
               ],
               [
                18
               ],
               [
                16
               ],
               [
                18
               ],
               [
                25
               ],
               [
                22
               ],
               [
                19
               ],
               [
                29
               ],
               [
                18
               ],
               [
                17
               ],
               [
                22
               ],
               [
                21
               ],
               [
                25
               ],
               [
                22
               ],
               [
                19
               ],
               [
                15
               ],
               [
                21
               ],
               [
                21.3
               ],
               [
                15.3
               ],
               [
                21.3
               ],
               [
                25.6
               ],
               [
                23.6
               ],
               [
                18.8
               ],
               [
                23.8
               ]
              ]
             },
             {
              "scene.yaxis.title.text": "Jul"
             }
            ],
            "label": "Jul",
            "method": "update"
           },
           {
            "args": [
             {
              "customdata": [
               [
                [
                 "Jan",
                 "Aug",
                 "Mar"
                ]
               ],
               [
                [
                 "Jan",
                 "Aug",
                 "Mar"
                ]
               ],
               [
                [
                 "Jan",
                 "Aug",
                 "Mar"
                ]
               ],
               [
                [
                 "Jan",
                 "Aug",
                 "Mar"
                ]
               ],
               [
                [
                 "Jan",
                 "Aug",
                 "Mar"
                ]
               ],
               [
                [
                 "Jan",
                 "Aug",
                 "Mar"
                ]
               ],
               [
                [
                 "Jan",
                 "Aug",
                 "Mar"
                ]
               ],
               [
                [
                 "Jan",
                 "Aug",
                 "Mar"
                ]
               ],
               [
                [
                 "Jan",
                 "Aug",
                 "Mar"
                ]
               ],
               [
                [
                 "Jan",
                 "Aug",
                 "Mar"
                ]
               ],
               [
                [
                 "Jan",
                 "Aug",
                 "Mar"
                ]
               ],
               [
                [
                 "Jan",
                 "Aug",
                 "Mar"
                ]
               ],
               [
                [
                 "Jan",
                 "Aug",
                 "Mar"
                ]
               ],
               [
                [
                 "Jan",
                 "Aug",
                 "Mar"
                ]
               ],
               [
                [
                 "Jan",
                 "Aug",
                 "Mar"
                ]
               ],
               [
                [
                 "Jan",
                 "Aug",
                 "Mar"
                ]
               ],
               [
                [
                 "Jan",
                 "Aug",
                 "Mar"
                ]
               ],
               [
                [
                 "Jan",
                 "Aug",
                 "Mar"
                ]
               ],
               [
                [
                 "Jan",
                 "Aug",
                 "Mar"
                ]
               ],
               [
                [
                 "Jan",
                 "Aug",
                 "Mar"
                ]
               ],
               [
                [
                 "Jan",
                 "Aug",
                 "Mar"
                ]
               ],
               [
                [
                 "Jan",
                 "Aug",
                 "Mar"
                ]
               ],
               [
                [
                 "Jan",
                 "Aug",
                 "Mar"
                ]
               ],
               [
                [
                 "Jan",
                 "Aug",
                 "Mar"
                ]
               ],
               [
                [
                 "Jan",
                 "Aug",
                 "Mar"
                ]
               ],
               [
                [
                 "Jan",
                 "Aug",
                 "Mar"
                ]
               ],
               [
                [
                 "Jan",
                 "Aug",
                 "Mar"
                ]
               ],
               [
                [
                 "Jan",
                 "Aug",
                 "Mar"
                ]
               ],
               [
                [
                 "Jan",
                 "Aug",
                 "Mar"
                ]
               ],
               [
                [
                 "Jan",
                 "Aug",
                 "Mar"
                ]
               ],
               [
                [
                 "Jan",
                 "Aug",
                 "Mar"
                ]
               ],
               [
                [
                 "Jan",
                 "Aug",
                 "Mar"
                ]
               ],
               [
                [
                 "Jan",
                 "Aug",
                 "Mar"
                ]
               ]
              ],
              "y": [
               [
                17
               ],
               [
                22
               ],
               [
                28
               ],
               [
                23
               ],
               [
                19
               ],
               [
                19
               ],
               [
                16
               ],
               [
                18
               ],
               [
                23
               ],
               [
                23
               ],
               [
                18
               ],
               [
                14
               ],
               [
                16
               ],
               [
                24
               ],
               [
                21
               ],
               [
                18
               ],
               [
                30
               ],
               [
                17
               ],
               [
                16
               ],
               [
                21
               ],
               [
                20
               ],
               [
                25
               ],
               [
                21
               ],
               [
                17
               ],
               [
                21
               ],
               [
                19
               ],
               [
                20.7
               ],
               [
                15.2
               ],
               [
                20.6
               ],
               [
                25.1
               ],
               [
                23
               ],
               [
                16.9
               ],
               [
                23.8
               ]
              ]
             },
             {
              "scene.yaxis.title.text": "Aug"
             }
            ],
            "label": "Aug",
            "method": "update"
           },
           {
            "args": [
             {
              "customdata": [
               [
                [
                 "Jan",
                 "Sep",
                 "Mar"
                ]
               ],
               [
                [
                 "Jan",
                 "Sep",
                 "Mar"
                ]
               ],
               [
                [
                 "Jan",
                 "Sep",
                 "Mar"
                ]
               ],
               [
                [
                 "Jan",
                 "Sep",
                 "Mar"
                ]
               ],
               [
                [
                 "Jan",
                 "Sep",
                 "Mar"
                ]
               ],
               [
                [
                 "Jan",
                 "Sep",
                 "Mar"
                ]
               ],
               [
                [
                 "Jan",
                 "Sep",
                 "Mar"
                ]
               ],
               [
                [
                 "Jan",
                 "Sep",
                 "Mar"
                ]
               ],
               [
                [
                 "Jan",
                 "Sep",
                 "Mar"
                ]
               ],
               [
                [
                 "Jan",
                 "Sep",
                 "Mar"
                ]
               ],
               [
                [
                 "Jan",
                 "Sep",
                 "Mar"
                ]
               ],
               [
                [
                 "Jan",
                 "Sep",
                 "Mar"
                ]
               ],
               [
                [
                 "Jan",
                 "Sep",
                 "Mar"
                ]
               ],
               [
                [
                 "Jan",
                 "Sep",
                 "Mar"
                ]
               ],
               [
                [
                 "Jan",
                 "Sep",
                 "Mar"
                ]
               ],
               [
                [
                 "Jan",
                 "Sep",
                 "Mar"
                ]
               ],
               [
                [
                 "Jan",
                 "Sep",
                 "Mar"
                ]
               ],
               [
                [
                 "Jan",
                 "Sep",
                 "Mar"
                ]
               ],
               [
                [
                 "Jan",
                 "Sep",
                 "Mar"
                ]
               ],
               [
                [
                 "Jan",
                 "Sep",
                 "Mar"
                ]
               ],
               [
                [
                 "Jan",
                 "Sep",
                 "Mar"
                ]
               ],
               [
                [
                 "Jan",
                 "Sep",
                 "Mar"
                ]
               ],
               [
                [
                 "Jan",
                 "Sep",
                 "Mar"
                ]
               ],
               [
                [
                 "Jan",
                 "Sep",
                 "Mar"
                ]
               ],
               [
                [
                 "Jan",
                 "Sep",
                 "Mar"
                ]
               ],
               [
                [
                 "Jan",
                 "Sep",
                 "Mar"
                ]
               ],
               [
                [
                 "Jan",
                 "Sep",
                 "Mar"
                ]
               ],
               [
                [
                 "Jan",
                 "Sep",
                 "Mar"
                ]
               ],
               [
                [
                 "Jan",
                 "Sep",
                 "Mar"
                ]
               ],
               [
                [
                 "Jan",
                 "Sep",
                 "Mar"
                ]
               ],
               [
                [
                 "Jan",
                 "Sep",
                 "Mar"
                ]
               ],
               [
                [
                 "Jan",
                 "Sep",
                 "Mar"
                ]
               ],
               [
                [
                 "Jan",
                 "Sep",
                 "Mar"
                ]
               ]
              ],
              "y": [
               [
                15
               ],
               [
                18
               ],
               [
                24
               ],
               [
                19
               ],
               [
                16
               ],
               [
                15
               ],
               [
                16
               ],
               [
                17
               ],
               [
                18
               ],
               [
                18
               ],
               [
                14
               ],
               [
                12
               ],
               [
                11
               ],
               [
                23
               ],
               [
                19
               ],
               [
                15
               ],
               [
                27
               ],
               [
                12
               ],
               [
                11
               ],
               [
                18
               ],
               [
                16
               ],
               [
                22
               ],
               [
                17
               ],
               [
                12
               ],
               [
                17
               ],
               [
                16
               ],
               [
                15.9
               ],
               [
                13
               ],
               [
                16
               ],
               [
                20.9
               ],
               [
                19.2
               ],
               [
                11.6
               ],
               [
                18.8
               ]
              ]
             },
             {
              "scene.yaxis.title.text": "Sep"
             }
            ],
            "label": "Sep",
            "method": "update"
           },
           {
            "args": [
             {
              "customdata": [
               [
                [
                 "Jan",
                 "Oct",
                 "Mar"
                ]
               ],
               [
                [
                 "Jan",
                 "Oct",
                 "Mar"
                ]
               ],
               [
                [
                 "Jan",
                 "Oct",
                 "Mar"
                ]
               ],
               [
                [
                 "Jan",
                 "Oct",
                 "Mar"
                ]
               ],
               [
                [
                 "Jan",
                 "Oct",
                 "Mar"
                ]
               ],
               [
                [
                 "Jan",
                 "Oct",
                 "Mar"
                ]
               ],
               [
                [
                 "Jan",
                 "Oct",
                 "Mar"
                ]
               ],
               [
                [
                 "Jan",
                 "Oct",
                 "Mar"
                ]
               ],
               [
                [
                 "Jan",
                 "Oct",
                 "Mar"
                ]
               ],
               [
                [
                 "Jan",
                 "Oct",
                 "Mar"
                ]
               ],
               [
                [
                 "Jan",
                 "Oct",
                 "Mar"
                ]
               ],
               [
                [
                 "Jan",
                 "Oct",
                 "Mar"
                ]
               ],
               [
                [
                 "Jan",
                 "Oct",
                 "Mar"
                ]
               ],
               [
                [
                 "Jan",
                 "Oct",
                 "Mar"
                ]
               ],
               [
                [
                 "Jan",
                 "Oct",
                 "Mar"
                ]
               ],
               [
                [
                 "Jan",
                 "Oct",
                 "Mar"
                ]
               ],
               [
                [
                 "Jan",
                 "Oct",
                 "Mar"
                ]
               ],
               [
                [
                 "Jan",
                 "Oct",
                 "Mar"
                ]
               ],
               [
                [
                 "Jan",
                 "Oct",
                 "Mar"
                ]
               ],
               [
                [
                 "Jan",
                 "Oct",
                 "Mar"
                ]
               ],
               [
                [
                 "Jan",
                 "Oct",
                 "Mar"
                ]
               ],
               [
                [
                 "Jan",
                 "Oct",
                 "Mar"
                ]
               ],
               [
                [
                 "Jan",
                 "Oct",
                 "Mar"
                ]
               ],
               [
                [
                 "Jan",
                 "Oct",
                 "Mar"
                ]
               ],
               [
                [
                 "Jan",
                 "Oct",
                 "Mar"
                ]
               ],
               [
                [
                 "Jan",
                 "Oct",
                 "Mar"
                ]
               ],
               [
                [
                 "Jan",
                 "Oct",
                 "Mar"
                ]
               ],
               [
                [
                 "Jan",
                 "Oct",
                 "Mar"
                ]
               ],
               [
                [
                 "Jan",
                 "Oct",
                 "Mar"
                ]
               ],
               [
                [
                 "Jan",
                 "Oct",
                 "Mar"
                ]
               ],
               [
                [
                 "Jan",
                 "Oct",
                 "Mar"
                ]
               ],
               [
                [
                 "Jan",
                 "Oct",
                 "Mar"
                ]
               ],
               [
                [
                 "Jan",
                 "Oct",
                 "Mar"
                ]
               ]
              ],
              "y": [
               [
                11
               ],
               [
                14
               ],
               [
                20
               ],
               [
                14
               ],
               [
                10
               ],
               [
                10
               ],
               [
                11
               ],
               [
                12
               ],
               [
                13
               ],
               [
                13
               ],
               [
                9
               ],
               [
                9
               ],
               [
                4
               ],
               [
                19
               ],
               [
                15
               ],
               [
                9
               ],
               [
                23
               ],
               [
                6
               ],
               [
                7
               ],
               [
                13
               ],
               [
                10
               ],
               [
                17
               ],
               [
                12
               ],
               [
                7
               ],
               [
                11
               ],
               [
                10
               ],
               [
                10.4
               ],
               [
                9.8
               ],
               [
                11.2
               ],
               [
                15.1
               ],
               [
                13.4
               ],
               [
                6.2
               ],
               [
                13.1
               ]
              ]
             },
             {
              "scene.yaxis.title.text": "Oct"
             }
            ],
            "label": "Oct",
            "method": "update"
           },
           {
            "args": [
             {
              "customdata": [
               [
                [
                 "Jan",
                 "Nov",
                 "Mar"
                ]
               ],
               [
                [
                 "Jan",
                 "Nov",
                 "Mar"
                ]
               ],
               [
                [
                 "Jan",
                 "Nov",
                 "Mar"
                ]
               ],
               [
                [
                 "Jan",
                 "Nov",
                 "Mar"
                ]
               ],
               [
                [
                 "Jan",
                 "Nov",
                 "Mar"
                ]
               ],
               [
                [
                 "Jan",
                 "Nov",
                 "Mar"
                ]
               ],
               [
                [
                 "Jan",
                 "Nov",
                 "Mar"
                ]
               ],
               [
                [
                 "Jan",
                 "Nov",
                 "Mar"
                ]
               ],
               [
                [
                 "Jan",
                 "Nov",
                 "Mar"
                ]
               ],
               [
                [
                 "Jan",
                 "Nov",
                 "Mar"
                ]
               ],
               [
                [
                 "Jan",
                 "Nov",
                 "Mar"
                ]
               ],
               [
                [
                 "Jan",
                 "Nov",
                 "Mar"
                ]
               ],
               [
                [
                 "Jan",
                 "Nov",
                 "Mar"
                ]
               ],
               [
                [
                 "Jan",
                 "Nov",
                 "Mar"
                ]
               ],
               [
                [
                 "Jan",
                 "Nov",
                 "Mar"
                ]
               ],
               [
                [
                 "Jan",
                 "Nov",
                 "Mar"
                ]
               ],
               [
                [
                 "Jan",
                 "Nov",
                 "Mar"
                ]
               ],
               [
                [
                 "Jan",
                 "Nov",
                 "Mar"
                ]
               ],
               [
                [
                 "Jan",
                 "Nov",
                 "Mar"
                ]
               ],
               [
                [
                 "Jan",
                 "Nov",
                 "Mar"
                ]
               ],
               [
                [
                 "Jan",
                 "Nov",
                 "Mar"
                ]
               ],
               [
                [
                 "Jan",
                 "Nov",
                 "Mar"
                ]
               ],
               [
                [
                 "Jan",
                 "Nov",
                 "Mar"
                ]
               ],
               [
                [
                 "Jan",
                 "Nov",
                 "Mar"
                ]
               ],
               [
                [
                 "Jan",
                 "Nov",
                 "Mar"
                ]
               ],
               [
                [
                 "Jan",
                 "Nov",
                 "Mar"
                ]
               ],
               [
                [
                 "Jan",
                 "Nov",
                 "Mar"
                ]
               ],
               [
                [
                 "Jan",
                 "Nov",
                 "Mar"
                ]
               ],
               [
                [
                 "Jan",
                 "Nov",
                 "Mar"
                ]
               ],
               [
                [
                 "Jan",
                 "Nov",
                 "Mar"
                ]
               ],
               [
                [
                 "Jan",
                 "Nov",
                 "Mar"
                ]
               ],
               [
                [
                 "Jan",
                 "Nov",
                 "Mar"
                ]
               ],
               [
                [
                 "Jan",
                 "Nov",
                 "Mar"
                ]
               ]
              ],
              "y": [
               [
                6
               ],
               [
                8
               ],
               [
                15
               ],
               [
                8
               ],
               [
                4
               ],
               [
                4
               ],
               [
                7
               ],
               [
                7
               ],
               [
                7
               ],
               [
                6
               ],
               [
                4
               ],
               [
                6
               ],
               [
                -1
               ],
               [
                14
               ],
               [
                10
               ],
               [
                4
               ],
               [
                20
               ],
               [
                -2
               ],
               [
                2
               ],
               [
                7
               ],
               [
                4
               ],
               [
                12
               ],
               [
                7
               ],
               [
                2
               ],
               [
                6
               ],
               [
                4
               ],
               [
                4.9
               ],
               [
                6.7
               ],
               [
                5.6
               ],
               [
                9.9
               ],
               [
                7.2
               ],
               [
                0.1
               ],
               [
                6.5
               ]
              ]
             },
             {
              "scene.yaxis.title.text": "Nov"
             }
            ],
            "label": "Nov",
            "method": "update"
           },
           {
            "args": [
             {
              "customdata": [
               [
                [
                 "Jan",
                 "Dec",
                 "Mar"
                ]
               ],
               [
                [
                 "Jan",
                 "Dec",
                 "Mar"
                ]
               ],
               [
                [
                 "Jan",
                 "Dec",
                 "Mar"
                ]
               ],
               [
                [
                 "Jan",
                 "Dec",
                 "Mar"
                ]
               ],
               [
                [
                 "Jan",
                 "Dec",
                 "Mar"
                ]
               ],
               [
                [
                 "Jan",
                 "Dec",
                 "Mar"
                ]
               ],
               [
                [
                 "Jan",
                 "Dec",
                 "Mar"
                ]
               ],
               [
                [
                 "Jan",
                 "Dec",
                 "Mar"
                ]
               ],
               [
                [
                 "Jan",
                 "Dec",
                 "Mar"
                ]
               ],
               [
                [
                 "Jan",
                 "Dec",
                 "Mar"
                ]
               ],
               [
                [
                 "Jan",
                 "Dec",
                 "Mar"
                ]
               ],
               [
                [
                 "Jan",
                 "Dec",
                 "Mar"
                ]
               ],
               [
                [
                 "Jan",
                 "Dec",
                 "Mar"
                ]
               ],
               [
                [
                 "Jan",
                 "Dec",
                 "Mar"
                ]
               ],
               [
                [
                 "Jan",
                 "Dec",
                 "Mar"
                ]
               ],
               [
                [
                 "Jan",
                 "Dec",
                 "Mar"
                ]
               ],
               [
                [
                 "Jan",
                 "Dec",
                 "Mar"
                ]
               ],
               [
                [
                 "Jan",
                 "Dec",
                 "Mar"
                ]
               ],
               [
                [
                 "Jan",
                 "Dec",
                 "Mar"
                ]
               ],
               [
                [
                 "Jan",
                 "Dec",
                 "Mar"
                ]
               ],
               [
                [
                 "Jan",
                 "Dec",
                 "Mar"
                ]
               ],
               [
                [
                 "Jan",
                 "Dec",
                 "Mar"
                ]
               ],
               [
                [
                 "Jan",
                 "Dec",
                 "Mar"
                ]
               ],
               [
                [
                 "Jan",
                 "Dec",
                 "Mar"
                ]
               ],
               [
                [
                 "Jan",
                 "Dec",
                 "Mar"
                ]
               ],
               [
                [
                 "Jan",
                 "Dec",
                 "Mar"
                ]
               ],
               [
                [
                 "Jan",
                 "Dec",
                 "Mar"
                ]
               ],
               [
                [
                 "Jan",
                 "Dec",
                 "Mar"
                ]
               ],
               [
                [
                 "Jan",
                 "Dec",
                 "Mar"
                ]
               ],
               [
                [
                 "Jan",
                 "Dec",
                 "Mar"
                ]
               ],
               [
                [
                 "Jan",
                 "Dec",
                 "Mar"
                ]
               ],
               [
                [
                 "Jan",
                 "Dec",
                 "Mar"
                ]
               ],
               [
                [
                 "Jan",
                 "Dec",
                 "Mar"
                ]
               ]
              ],
              "y": [
               [
                3
               ],
               [
                2
               ],
               [
                11
               ],
               [
                6
               ],
               [
                0
               ],
               [
                1
               ],
               [
                2
               ],
               [
                3
               ],
               [
                1
               ],
               [
                1
               ],
               [
                2
               ],
               [
                4
               ],
               [
                -6
               ],
               [
                11
               ],
               [
                8
               ],
               [
                2
               ],
               [
                17
               ],
               [
                -10
               ],
               [
                3
               ],
               [
                4
               ],
               [
                0
               ],
               [
                9
               ],
               [
                1
               ],
               [
                -1
               ],
               [
                2
               ],
               [
                2
               ],
               [
                0.7
               ],
               [
                4.2
               ],
               [
                1.2
               ],
               [
                6.9
               ],
               [
                3.3
               ],
               [
                -3.7
               ],
               [
                1.7
               ]
              ]
             },
             {
              "scene.yaxis.title.text": "Dec"
             }
            ],
            "label": "Dec",
            "method": "update"
           }
          ],
          "direction": "down",
          "pad": {
           "b": 2,
           "l": 2,
           "r": 2,
           "t": 4
          },
          "showactive": true,
          "type": "dropdown",
          "x": 0.39,
          "xanchor": "center",
          "y": 1.12,
          "yanchor": "top"
         },
         {
          "buttons": [
           {
            "args": [
             {
              "customdata": [
               [
                [
                 "Jan",
                 "Feb",
                 "Jan"
                ]
               ],
               [
                [
                 "Jan",
                 "Feb",
                 "Jan"
                ]
               ],
               [
                [
                 "Jan",
                 "Feb",
                 "Jan"
                ]
               ],
               [
                [
                 "Jan",
                 "Feb",
                 "Jan"
                ]
               ],
               [
                [
                 "Jan",
                 "Feb",
                 "Jan"
                ]
               ],
               [
                [
                 "Jan",
                 "Feb",
                 "Jan"
                ]
               ],
               [
                [
                 "Jan",
                 "Feb",
                 "Jan"
                ]
               ],
               [
                [
                 "Jan",
                 "Feb",
                 "Jan"
                ]
               ],
               [
                [
                 "Jan",
                 "Feb",
                 "Jan"
                ]
               ],
               [
                [
                 "Jan",
                 "Feb",
                 "Jan"
                ]
               ],
               [
                [
                 "Jan",
                 "Feb",
                 "Jan"
                ]
               ],
               [
                [
                 "Jan",
                 "Feb",
                 "Jan"
                ]
               ],
               [
                [
                 "Jan",
                 "Feb",
                 "Jan"
                ]
               ],
               [
                [
                 "Jan",
                 "Feb",
                 "Jan"
                ]
               ],
               [
                [
                 "Jan",
                 "Feb",
                 "Jan"
                ]
               ],
               [
                [
                 "Jan",
                 "Feb",
                 "Jan"
                ]
               ],
               [
                [
                 "Jan",
                 "Feb",
                 "Jan"
                ]
               ],
               [
                [
                 "Jan",
                 "Feb",
                 "Jan"
                ]
               ],
               [
                [
                 "Jan",
                 "Feb",
                 "Jan"
                ]
               ],
               [
                [
                 "Jan",
                 "Feb",
                 "Jan"
                ]
               ],
               [
                [
                 "Jan",
                 "Feb",
                 "Jan"
                ]
               ],
               [
                [
                 "Jan",
                 "Feb",
                 "Jan"
                ]
               ],
               [
                [
                 "Jan",
                 "Feb",
                 "Jan"
                ]
               ],
               [
                [
                 "Jan",
                 "Feb",
                 "Jan"
                ]
               ],
               [
                [
                 "Jan",
                 "Feb",
                 "Jan"
                ]
               ],
               [
                [
                 "Jan",
                 "Feb",
                 "Jan"
                ]
               ],
               [
                [
                 "Jan",
                 "Feb",
                 "Jan"
                ]
               ],
               [
                [
                 "Jan",
                 "Feb",
                 "Jan"
                ]
               ],
               [
                [
                 "Jan",
                 "Feb",
                 "Jan"
                ]
               ],
               [
                [
                 "Jan",
                 "Feb",
                 "Jan"
                ]
               ],
               [
                [
                 "Jan",
                 "Feb",
                 "Jan"
                ]
               ],
               [
                [
                 "Jan",
                 "Feb",
                 "Jan"
                ]
               ],
               [
                [
                 "Jan",
                 "Feb",
                 "Jan"
                ]
               ]
              ],
              "z": [
               [
                2
               ],
               [
                1
               ],
               [
                9
               ],
               [
                1
               ],
               [
                -2
               ],
               [
                1
               ],
               [
                1
               ],
               [
                1
               ],
               [
                -4
               ],
               [
                -2
               ],
               [
                -1
               ],
               [
                3
               ],
               [
                -9
               ],
               [
                11
               ],
               [
                7
               ],
               [
                0
               ],
               [
                17
               ],
               [
                -14
               ],
               [
                -5
               ],
               [
                4
               ],
               [
                -2
               ],
               [
                7
               ],
               [
                -1
               ],
               [
                -4
               ],
               [
                -1
               ],
               [
                -5
               ],
               [
                -0.4
               ],
               [
                4.2
               ],
               [
                0.3
               ],
               [
                6.3
               ],
               [
                2.5
               ],
               [
                -5.5
               ],
               [
                0.1
               ]
              ]
             },
             {
              "scene.zaxis.title.text": "Jan"
             }
            ],
            "label": "Jan",
            "method": "update"
           },
           {
            "args": [
             {
              "customdata": [
               [
                [
                 "Jan",
                 "Feb",
                 "Feb"
                ]
               ],
               [
                [
                 "Jan",
                 "Feb",
                 "Feb"
                ]
               ],
               [
                [
                 "Jan",
                 "Feb",
                 "Feb"
                ]
               ],
               [
                [
                 "Jan",
                 "Feb",
                 "Feb"
                ]
               ],
               [
                [
                 "Jan",
                 "Feb",
                 "Feb"
                ]
               ],
               [
                [
                 "Jan",
                 "Feb",
                 "Feb"
                ]
               ],
               [
                [
                 "Jan",
                 "Feb",
                 "Feb"
                ]
               ],
               [
                [
                 "Jan",
                 "Feb",
                 "Feb"
                ]
               ],
               [
                [
                 "Jan",
                 "Feb",
                 "Feb"
                ]
               ],
               [
                [
                 "Jan",
                 "Feb",
                 "Feb"
                ]
               ],
               [
                [
                 "Jan",
                 "Feb",
                 "Feb"
                ]
               ],
               [
                [
                 "Jan",
                 "Feb",
                 "Feb"
                ]
               ],
               [
                [
                 "Jan",
                 "Feb",
                 "Feb"
                ]
               ],
               [
                [
                 "Jan",
                 "Feb",
                 "Feb"
                ]
               ],
               [
                [
                 "Jan",
                 "Feb",
                 "Feb"
                ]
               ],
               [
                [
                 "Jan",
                 "Feb",
                 "Feb"
                ]
               ],
               [
                [
                 "Jan",
                 "Feb",
                 "Feb"
                ]
               ],
               [
                [
                 "Jan",
                 "Feb",
                 "Feb"
                ]
               ],
               [
                [
                 "Jan",
                 "Feb",
                 "Feb"
                ]
               ],
               [
                [
                 "Jan",
                 "Feb",
                 "Feb"
                ]
               ],
               [
                [
                 "Jan",
                 "Feb",
                 "Feb"
                ]
               ],
               [
                [
                 "Jan",
                 "Feb",
                 "Feb"
                ]
               ],
               [
                [
                 "Jan",
                 "Feb",
                 "Feb"
                ]
               ],
               [
                [
                 "Jan",
                 "Feb",
                 "Feb"
                ]
               ],
               [
                [
                 "Jan",
                 "Feb",
                 "Feb"
                ]
               ],
               [
                [
                 "Jan",
                 "Feb",
                 "Feb"
                ]
               ],
               [
                [
                 "Jan",
                 "Feb",
                 "Feb"
                ]
               ],
               [
                [
                 "Jan",
                 "Feb",
                 "Feb"
                ]
               ],
               [
                [
                 "Jan",
                 "Feb",
                 "Feb"
                ]
               ],
               [
                [
                 "Jan",
                 "Feb",
                 "Feb"
                ]
               ],
               [
                [
                 "Jan",
                 "Feb",
                 "Feb"
                ]
               ],
               [
                [
                 "Jan",
                 "Feb",
                 "Feb"
                ]
               ],
               [
                [
                 "Jan",
                 "Feb",
                 "Feb"
                ]
               ]
              ],
              "z": [
               [
                2
               ],
               [
                0
               ],
               [
                10
               ],
               [
                3
               ],
               [
                1
               ],
               [
                1
               ],
               [
                2
               ],
               [
                4
               ],
               [
                -2
               ],
               [
                1
               ],
               [
                0
               ],
               [
                4
               ],
               [
                -8
               ],
               [
                12
               ],
               [
                8
               ],
               [
                1
               ],
               [
                17
               ],
               [
                -12
               ],
               [
                -4
               ],
               [
                5
               ],
               [
                -1
               ],
               [
                8
               ],
               [
                1
               ],
               [
                -4
               ],
               [
                1
               ],
               [
                -4
               ],
               [
                1.2
               ],
               [
                4.5
               ],
               [
                1.9
               ],
               [
                7.9
               ],
               [
                4.7
               ],
               [
                -5.8
               ],
               [
                2.6
               ]
              ]
             },
             {
              "scene.zaxis.title.text": "Feb"
             }
            ],
            "label": "Feb",
            "method": "update"
           },
           {
            "args": [
             {
              "customdata": [
               [
                [
                 "Jan",
                 "Feb",
                 "Mar"
                ]
               ],
               [
                [
                 "Jan",
                 "Feb",
                 "Mar"
                ]
               ],
               [
                [
                 "Jan",
                 "Feb",
                 "Mar"
                ]
               ],
               [
                [
                 "Jan",
                 "Feb",
                 "Mar"
                ]
               ],
               [
                [
                 "Jan",
                 "Feb",
                 "Mar"
                ]
               ],
               [
                [
                 "Jan",
                 "Feb",
                 "Mar"
                ]
               ],
               [
                [
                 "Jan",
                 "Feb",
                 "Mar"
                ]
               ],
               [
                [
                 "Jan",
                 "Feb",
                 "Mar"
                ]
               ],
               [
                [
                 "Jan",
                 "Feb",
                 "Mar"
                ]
               ],
               [
                [
                 "Jan",
                 "Feb",
                 "Mar"
                ]
               ],
               [
                [
                 "Jan",
                 "Feb",
                 "Mar"
                ]
               ],
               [
                [
                 "Jan",
                 "Feb",
                 "Mar"
                ]
               ],
               [
                [
                 "Jan",
                 "Feb",
                 "Mar"
                ]
               ],
               [
                [
                 "Jan",
                 "Feb",
                 "Mar"
                ]
               ],
               [
                [
                 "Jan",
                 "Feb",
                 "Mar"
                ]
               ],
               [
                [
                 "Jan",
                 "Feb",
                 "Mar"
                ]
               ],
               [
                [
                 "Jan",
                 "Feb",
                 "Mar"
                ]
               ],
               [
                [
                 "Jan",
                 "Feb",
                 "Mar"
                ]
               ],
               [
                [
                 "Jan",
                 "Feb",
                 "Mar"
                ]
               ],
               [
                [
                 "Jan",
                 "Feb",
                 "Mar"
                ]
               ],
               [
                [
                 "Jan",
                 "Feb",
                 "Mar"
                ]
               ],
               [
                [
                 "Jan",
                 "Feb",
                 "Mar"
                ]
               ],
               [
                [
                 "Jan",
                 "Feb",
                 "Mar"
                ]
               ],
               [
                [
                 "Jan",
                 "Feb",
                 "Mar"
                ]
               ],
               [
                [
                 "Jan",
                 "Feb",
                 "Mar"
                ]
               ],
               [
                [
                 "Jan",
                 "Feb",
                 "Mar"
                ]
               ],
               [
                [
                 "Jan",
                 "Feb",
                 "Mar"
                ]
               ],
               [
                [
                 "Jan",
                 "Feb",
                 "Mar"
                ]
               ],
               [
                [
                 "Jan",
                 "Feb",
                 "Mar"
                ]
               ],
               [
                [
                 "Jan",
                 "Feb",
                 "Mar"
                ]
               ],
               [
                [
                 "Jan",
                 "Feb",
                 "Mar"
                ]
               ],
               [
                [
                 "Jan",
                 "Feb",
                 "Mar"
                ]
               ],
               [
                [
                 "Jan",
                 "Feb",
                 "Mar"
                ]
               ]
              ],
              "z": [
               [
                5
               ],
               [
                6
               ],
               [
                12
               ],
               [
                8
               ],
               [
                4
               ],
               [
                6
               ],
               [
                7
               ],
               [
                7
               ],
               [
                6
               ],
               [
                7
               ],
               [
                3
               ],
               [
                6
               ],
               [
                -4
               ],
               [
                15
               ],
               [
                10
               ],
               [
                7
               ],
               [
                18
               ],
               [
                -6
               ],
               [
                1
               ],
               [
                9
               ],
               [
                4
               ],
               [
                11
               ],
               [
                7
               ],
               [
                -1
               ],
               [
                6
               ],
               [
                3
               ],
               [
                5.5
               ],
               [
                6.2
               ],
               [
                6.5
               ],
               [
                11.2
               ],
               [
                9
               ],
               [
                -1.3
               ],
               [
                7.6
               ]
              ]
             },
             {
              "scene.zaxis.title.text": "Mar"
             }
            ],
            "label": "Mar",
            "method": "update"
           },
           {
            "args": [
             {
              "customdata": [
               [
                [
                 "Jan",
                 "Feb",
                 "Apr"
                ]
               ],
               [
                [
                 "Jan",
                 "Feb",
                 "Apr"
                ]
               ],
               [
                [
                 "Jan",
                 "Feb",
                 "Apr"
                ]
               ],
               [
                [
                 "Jan",
                 "Feb",
                 "Apr"
                ]
               ],
               [
                [
                 "Jan",
                 "Feb",
                 "Apr"
                ]
               ],
               [
                [
                 "Jan",
                 "Feb",
                 "Apr"
                ]
               ],
               [
                [
                 "Jan",
                 "Feb",
                 "Apr"
                ]
               ],
               [
                [
                 "Jan",
                 "Feb",
                 "Apr"
                ]
               ],
               [
                [
                 "Jan",
                 "Feb",
                 "Apr"
                ]
               ],
               [
                [
                 "Jan",
                 "Feb",
                 "Apr"
                ]
               ],
               [
                [
                 "Jan",
                 "Feb",
                 "Apr"
                ]
               ],
               [
                [
                 "Jan",
                 "Feb",
                 "Apr"
                ]
               ],
               [
                [
                 "Jan",
                 "Feb",
                 "Apr"
                ]
               ],
               [
                [
                 "Jan",
                 "Feb",
                 "Apr"
                ]
               ],
               [
                [
                 "Jan",
                 "Feb",
                 "Apr"
                ]
               ],
               [
                [
                 "Jan",
                 "Feb",
                 "Apr"
                ]
               ],
               [
                [
                 "Jan",
                 "Feb",
                 "Apr"
                ]
               ],
               [
                [
                 "Jan",
                 "Feb",
                 "Apr"
                ]
               ],
               [
                [
                 "Jan",
                 "Feb",
                 "Apr"
                ]
               ],
               [
                [
                 "Jan",
                 "Feb",
                 "Apr"
                ]
               ],
               [
                [
                 "Jan",
                 "Feb",
                 "Apr"
                ]
               ],
               [
                [
                 "Jan",
                 "Feb",
                 "Apr"
                ]
               ],
               [
                [
                 "Jan",
                 "Feb",
                 "Apr"
                ]
               ],
               [
                [
                 "Jan",
                 "Feb",
                 "Apr"
                ]
               ],
               [
                [
                 "Jan",
                 "Feb",
                 "Apr"
                ]
               ],
               [
                [
                 "Jan",
                 "Feb",
                 "Apr"
                ]
               ],
               [
                [
                 "Jan",
                 "Feb",
                 "Apr"
                ]
               ],
               [
                [
                 "Jan",
                 "Feb",
                 "Apr"
                ]
               ],
               [
                [
                 "Jan",
                 "Feb",
                 "Apr"
                ]
               ],
               [
                [
                 "Jan",
                 "Feb",
                 "Apr"
                ]
               ],
               [
                [
                 "Jan",
                 "Feb",
                 "Apr"
                ]
               ],
               [
                [
                 "Jan",
                 "Feb",
                 "Apr"
                ]
               ],
               [
                [
                 "Jan",
                 "Feb",
                 "Apr"
                ]
               ]
              ],
              "z": [
               [
                8
               ],
               [
                12
               ],
               [
                16
               ],
               [
                13
               ],
               [
                10
               ],
               [
                10
               ],
               [
                11
               ],
               [
                11
               ],
               [
                12
               ],
               [
                13
               ],
               [
                8
               ],
               [
                8
               ],
               [
                3
               ],
               [
                17
               ],
               [
                13
               ],
               [
                11
               ],
               [
                21
               ],
               [
                6
               ],
               [
                5
               ],
               [
                13
               ],
               [
                11
               ],
               [
                14
               ],
               [
                12
               ],
               [
                6
               ],
               [
                12
               ],
               [
                9
               ],
               [
                11
               ],
               [
                8.1
               ],
               [
                10.8
               ],
               [
                12.9
               ],
               [
                12.2
               ],
               [
                5.1
               ],
               [
                12.1
               ]
              ]
             },
             {
              "scene.zaxis.title.text": "Apr"
             }
            ],
            "label": "Apr",
            "method": "update"
           },
           {
            "args": [
             {
              "customdata": [
               [
                [
                 "Jan",
                 "Feb",
                 "May"
                ]
               ],
               [
                [
                 "Jan",
                 "Feb",
                 "May"
                ]
               ],
               [
                [
                 "Jan",
                 "Feb",
                 "May"
                ]
               ],
               [
                [
                 "Jan",
                 "Feb",
                 "May"
                ]
               ],
               [
                [
                 "Jan",
                 "Feb",
                 "May"
                ]
               ],
               [
                [
                 "Jan",
                 "Feb",
                 "May"
                ]
               ],
               [
                [
                 "Jan",
                 "Feb",
                 "May"
                ]
               ],
               [
                [
                 "Jan",
                 "Feb",
                 "May"
                ]
               ],
               [
                [
                 "Jan",
                 "Feb",
                 "May"
                ]
               ],
               [
                [
                 "Jan",
                 "Feb",
                 "May"
                ]
               ],
               [
                [
                 "Jan",
                 "Feb",
                 "May"
                ]
               ],
               [
                [
                 "Jan",
                 "Feb",
                 "May"
                ]
               ],
               [
                [
                 "Jan",
                 "Feb",
                 "May"
                ]
               ],
               [
                [
                 "Jan",
                 "Feb",
                 "May"
                ]
               ],
               [
                [
                 "Jan",
                 "Feb",
                 "May"
                ]
               ],
               [
                [
                 "Jan",
                 "Feb",
                 "May"
                ]
               ],
               [
                [
                 "Jan",
                 "Feb",
                 "May"
                ]
               ],
               [
                [
                 "Jan",
                 "Feb",
                 "May"
                ]
               ],
               [
                [
                 "Jan",
                 "Feb",
                 "May"
                ]
               ],
               [
                [
                 "Jan",
                 "Feb",
                 "May"
                ]
               ],
               [
                [
                 "Jan",
                 "Feb",
                 "May"
                ]
               ],
               [
                [
                 "Jan",
                 "Feb",
                 "May"
                ]
               ],
               [
                [
                 "Jan",
                 "Feb",
                 "May"
                ]
               ],
               [
                [
                 "Jan",
                 "Feb",
                 "May"
                ]
               ],
               [
                [
                 "Jan",
                 "Feb",
                 "May"
                ]
               ],
               [
                [
                 "Jan",
                 "Feb",
                 "May"
                ]
               ],
               [
                [
                 "Jan",
                 "Feb",
                 "May"
                ]
               ],
               [
                [
                 "Jan",
                 "Feb",
                 "May"
                ]
               ],
               [
                [
                 "Jan",
                 "Feb",
                 "May"
                ]
               ],
               [
                [
                 "Jan",
                 "Feb",
                 "May"
                ]
               ],
               [
                [
                 "Jan",
                 "Feb",
                 "May"
                ]
               ],
               [
                [
                 "Jan",
                 "Feb",
                 "May"
                ]
               ],
               [
                [
                 "Jan",
                 "Feb",
                 "May"
                ]
               ]
              ],
              "z": [
               [
                12
               ],
               [
                17
               ],
               [
                21
               ],
               [
                17
               ],
               [
                14
               ],
               [
                13
               ],
               [
                14
               ],
               [
                13
               ],
               [
                17
               ],
               [
                17
               ],
               [
                13
               ],
               [
                11
               ],
               [
                10
               ],
               [
                19
               ],
               [
                17
               ],
               [
                13
               ],
               [
                23
               ],
               [
                14
               ],
               [
                11
               ],
               [
                16
               ],
               [
                15
               ],
               [
                18
               ],
               [
                16
               ],
               [
                11
               ],
               [
                15
               ],
               [
                16
               ],
               [
                16
               ],
               [
                10.8
               ],
               [
                15.8
               ],
               [
                16.7
               ],
               [
                17
               ],
               [
                11.3
               ],
               [
                17.3
               ]
              ]
             },
             {
              "scene.zaxis.title.text": "May"
             }
            ],
            "label": "May",
            "method": "update"
           },
           {
            "args": [
             {
              "customdata": [
               [
                [
                 "Jan",
                 "Feb",
                 "Jun"
                ]
               ],
               [
                [
                 "Jan",
                 "Feb",
                 "Jun"
                ]
               ],
               [
                [
                 "Jan",
                 "Feb",
                 "Jun"
                ]
               ],
               [
                [
                 "Jan",
                 "Feb",
                 "Jun"
                ]
               ],
               [
                [
                 "Jan",
                 "Feb",
                 "Jun"
                ]
               ],
               [
                [
                 "Jan",
                 "Feb",
                 "Jun"
                ]
               ],
               [
                [
                 "Jan",
                 "Feb",
                 "Jun"
                ]
               ],
               [
                [
                 "Jan",
                 "Feb",
                 "Jun"
                ]
               ],
               [
                [
                 "Jan",
                 "Feb",
                 "Jun"
                ]
               ],
               [
                [
                 "Jan",
                 "Feb",
                 "Jun"
                ]
               ],
               [
                [
                 "Jan",
                 "Feb",
                 "Jun"
                ]
               ],
               [
                [
                 "Jan",
                 "Feb",
                 "Jun"
                ]
               ],
               [
                [
                 "Jan",
                 "Feb",
                 "Jun"
                ]
               ],
               [
                [
                 "Jan",
                 "Feb",
                 "Jun"
                ]
               ],
               [
                [
                 "Jan",
                 "Feb",
                 "Jun"
                ]
               ],
               [
                [
                 "Jan",
                 "Feb",
                 "Jun"
                ]
               ],
               [
                [
                 "Jan",
                 "Feb",
                 "Jun"
                ]
               ],
               [
                [
                 "Jan",
                 "Feb",
                 "Jun"
                ]
               ],
               [
                [
                 "Jan",
                 "Feb",
                 "Jun"
                ]
               ],
               [
                [
                 "Jan",
                 "Feb",
                 "Jun"
                ]
               ],
               [
                [
                 "Jan",
                 "Feb",
                 "Jun"
                ]
               ],
               [
                [
                 "Jan",
                 "Feb",
                 "Jun"
                ]
               ],
               [
                [
                 "Jan",
                 "Feb",
                 "Jun"
                ]
               ],
               [
                [
                 "Jan",
                 "Feb",
                 "Jun"
                ]
               ],
               [
                [
                 "Jan",
                 "Feb",
                 "Jun"
                ]
               ],
               [
                [
                 "Jan",
                 "Feb",
                 "Jun"
                ]
               ],
               [
                [
                 "Jan",
                 "Feb",
                 "Jun"
                ]
               ],
               [
                [
                 "Jan",
                 "Feb",
                 "Jun"
                ]
               ],
               [
                [
                 "Jan",
                 "Feb",
                 "Jun"
                ]
               ],
               [
                [
                 "Jan",
                 "Feb",
                 "Jun"
                ]
               ],
               [
                [
                 "Jan",
                 "Feb",
                 "Jun"
                ]
               ],
               [
                [
                 "Jan",
                 "Feb",
                 "Jun"
                ]
               ],
               [
                [
                 "Jan",
                 "Feb",
                 "Jun"
                ]
               ]
              ],
              "z": [
               [
                15
               ],
               [
                19
               ],
               [
                26
               ],
               [
                22
               ],
               [
                18
               ],
               [
                17
               ],
               [
                18
               ],
               [
                18
               ],
               [
                21
               ],
               [
                21
               ],
               [
                17
               ],
               [
                14
               ],
               [
                15
               ],
               [
                23
               ],
               [
                20
               ],
               [
                17
               ],
               [
                27
               ],
               [
                15
               ],
               [
                16
               ],
               [
                19
               ],
               [
                19
               ],
               [
                23
               ],
               [
                19
               ],
               [
                16
               ],
               [
                11
               ],
               [
                18
               ],
               [
                19.1
               ],
               [
                13.5
               ],
               [
                19.1
               ],
               [
                22.2
               ],
               [
                20.8
               ],
               [
                15.7
               ],
               [
                21.5
               ]
              ]
             },
             {
              "scene.zaxis.title.text": "Jun"
             }
            ],
            "label": "Jun",
            "method": "update"
           },
           {
            "args": [
             {
              "customdata": [
               [
                [
                 "Jan",
                 "Feb",
                 "Jul"
                ]
               ],
               [
                [
                 "Jan",
                 "Feb",
                 "Jul"
                ]
               ],
               [
                [
                 "Jan",
                 "Feb",
                 "Jul"
                ]
               ],
               [
                [
                 "Jan",
                 "Feb",
                 "Jul"
                ]
               ],
               [
                [
                 "Jan",
                 "Feb",
                 "Jul"
                ]
               ],
               [
                [
                 "Jan",
                 "Feb",
                 "Jul"
                ]
               ],
               [
                [
                 "Jan",
                 "Feb",
                 "Jul"
                ]
               ],
               [
                [
                 "Jan",
                 "Feb",
                 "Jul"
                ]
               ],
               [
                [
                 "Jan",
                 "Feb",
                 "Jul"
                ]
               ],
               [
                [
                 "Jan",
                 "Feb",
                 "Jul"
                ]
               ],
               [
                [
                 "Jan",
                 "Feb",
                 "Jul"
                ]
               ],
               [
                [
                 "Jan",
                 "Feb",
                 "Jul"
                ]
               ],
               [
                [
                 "Jan",
                 "Feb",
                 "Jul"
                ]
               ],
               [
                [
                 "Jan",
                 "Feb",
                 "Jul"
                ]
               ],
               [
                [
                 "Jan",
                 "Feb",
                 "Jul"
                ]
               ],
               [
                [
                 "Jan",
                 "Feb",
                 "Jul"
                ]
               ],
               [
                [
                 "Jan",
                 "Feb",
                 "Jul"
                ]
               ],
               [
                [
                 "Jan",
                 "Feb",
                 "Jul"
                ]
               ],
               [
                [
                 "Jan",
                 "Feb",
                 "Jul"
                ]
               ],
               [
                [
                 "Jan",
                 "Feb",
                 "Jul"
                ]
               ],
               [
                [
                 "Jan",
                 "Feb",
                 "Jul"
                ]
               ],
               [
                [
                 "Jan",
                 "Feb",
                 "Jul"
                ]
               ],
               [
                [
                 "Jan",
                 "Feb",
                 "Jul"
                ]
               ],
               [
                [
                 "Jan",
                 "Feb",
                 "Jul"
                ]
               ],
               [
                [
                 "Jan",
                 "Feb",
                 "Jul"
                ]
               ],
               [
                [
                 "Jan",
                 "Feb",
                 "Jul"
                ]
               ],
               [
                [
                 "Jan",
                 "Feb",
                 "Jul"
                ]
               ],
               [
                [
                 "Jan",
                 "Feb",
                 "Jul"
                ]
               ],
               [
                [
                 "Jan",
                 "Feb",
                 "Jul"
                ]
               ],
               [
                [
                 "Jan",
                 "Feb",
                 "Jul"
                ]
               ],
               [
                [
                 "Jan",
                 "Feb",
                 "Jul"
                ]
               ],
               [
                [
                 "Jan",
                 "Feb",
                 "Jul"
                ]
               ],
               [
                [
                 "Jan",
                 "Feb",
                 "Jul"
                ]
               ]
              ],
              "z": [
               [
                17
               ],
               [
                23
               ],
               [
                29
               ],
               [
                23
               ],
               [
                21
               ],
               [
                18
               ],
               [
                20
               ],
               [
                19
               ],
               [
                23
               ],
               [
                23
               ],
               [
                18
               ],
               [
                16
               ],
               [
                18
               ],
               [
                25
               ],
               [
                22
               ],
               [
                19
               ],
               [
                29
               ],
               [
                18
               ],
               [
                17
               ],
               [
                22
               ],
               [
                21
               ],
               [
                25
               ],
               [
                22
               ],
               [
                19
               ],
               [
                15
               ],
               [
                21
               ],
               [
                21.3
               ],
               [
                15.3
               ],
               [
                21.3
               ],
               [
                25.6
               ],
               [
                23.6
               ],
               [
                18.8
               ],
               [
                23.8
               ]
              ]
             },
             {
              "scene.zaxis.title.text": "Jul"
             }
            ],
            "label": "Jul",
            "method": "update"
           },
           {
            "args": [
             {
              "customdata": [
               [
                [
                 "Jan",
                 "Feb",
                 "Aug"
                ]
               ],
               [
                [
                 "Jan",
                 "Feb",
                 "Aug"
                ]
               ],
               [
                [
                 "Jan",
                 "Feb",
                 "Aug"
                ]
               ],
               [
                [
                 "Jan",
                 "Feb",
                 "Aug"
                ]
               ],
               [
                [
                 "Jan",
                 "Feb",
                 "Aug"
                ]
               ],
               [
                [
                 "Jan",
                 "Feb",
                 "Aug"
                ]
               ],
               [
                [
                 "Jan",
                 "Feb",
                 "Aug"
                ]
               ],
               [
                [
                 "Jan",
                 "Feb",
                 "Aug"
                ]
               ],
               [
                [
                 "Jan",
                 "Feb",
                 "Aug"
                ]
               ],
               [
                [
                 "Jan",
                 "Feb",
                 "Aug"
                ]
               ],
               [
                [
                 "Jan",
                 "Feb",
                 "Aug"
                ]
               ],
               [
                [
                 "Jan",
                 "Feb",
                 "Aug"
                ]
               ],
               [
                [
                 "Jan",
                 "Feb",
                 "Aug"
                ]
               ],
               [
                [
                 "Jan",
                 "Feb",
                 "Aug"
                ]
               ],
               [
                [
                 "Jan",
                 "Feb",
                 "Aug"
                ]
               ],
               [
                [
                 "Jan",
                 "Feb",
                 "Aug"
                ]
               ],
               [
                [
                 "Jan",
                 "Feb",
                 "Aug"
                ]
               ],
               [
                [
                 "Jan",
                 "Feb",
                 "Aug"
                ]
               ],
               [
                [
                 "Jan",
                 "Feb",
                 "Aug"
                ]
               ],
               [
                [
                 "Jan",
                 "Feb",
                 "Aug"
                ]
               ],
               [
                [
                 "Jan",
                 "Feb",
                 "Aug"
                ]
               ],
               [
                [
                 "Jan",
                 "Feb",
                 "Aug"
                ]
               ],
               [
                [
                 "Jan",
                 "Feb",
                 "Aug"
                ]
               ],
               [
                [
                 "Jan",
                 "Feb",
                 "Aug"
                ]
               ],
               [
                [
                 "Jan",
                 "Feb",
                 "Aug"
                ]
               ],
               [
                [
                 "Jan",
                 "Feb",
                 "Aug"
                ]
               ],
               [
                [
                 "Jan",
                 "Feb",
                 "Aug"
                ]
               ],
               [
                [
                 "Jan",
                 "Feb",
                 "Aug"
                ]
               ],
               [
                [
                 "Jan",
                 "Feb",
                 "Aug"
                ]
               ],
               [
                [
                 "Jan",
                 "Feb",
                 "Aug"
                ]
               ],
               [
                [
                 "Jan",
                 "Feb",
                 "Aug"
                ]
               ],
               [
                [
                 "Jan",
                 "Feb",
                 "Aug"
                ]
               ],
               [
                [
                 "Jan",
                 "Feb",
                 "Aug"
                ]
               ]
              ],
              "z": [
               [
                17
               ],
               [
                22
               ],
               [
                28
               ],
               [
                23
               ],
               [
                19
               ],
               [
                19
               ],
               [
                16
               ],
               [
                18
               ],
               [
                23
               ],
               [
                23
               ],
               [
                18
               ],
               [
                14
               ],
               [
                16
               ],
               [
                24
               ],
               [
                21
               ],
               [
                18
               ],
               [
                30
               ],
               [
                17
               ],
               [
                16
               ],
               [
                21
               ],
               [
                20
               ],
               [
                25
               ],
               [
                21
               ],
               [
                17
               ],
               [
                21
               ],
               [
                19
               ],
               [
                20.7
               ],
               [
                15.2
               ],
               [
                20.6
               ],
               [
                25.1
               ],
               [
                23
               ],
               [
                16.9
               ],
               [
                23.8
               ]
              ]
             },
             {
              "scene.zaxis.title.text": "Aug"
             }
            ],
            "label": "Aug",
            "method": "update"
           },
           {
            "args": [
             {
              "customdata": [
               [
                [
                 "Jan",
                 "Feb",
                 "Sep"
                ]
               ],
               [
                [
                 "Jan",
                 "Feb",
                 "Sep"
                ]
               ],
               [
                [
                 "Jan",
                 "Feb",
                 "Sep"
                ]
               ],
               [
                [
                 "Jan",
                 "Feb",
                 "Sep"
                ]
               ],
               [
                [
                 "Jan",
                 "Feb",
                 "Sep"
                ]
               ],
               [
                [
                 "Jan",
                 "Feb",
                 "Sep"
                ]
               ],
               [
                [
                 "Jan",
                 "Feb",
                 "Sep"
                ]
               ],
               [
                [
                 "Jan",
                 "Feb",
                 "Sep"
                ]
               ],
               [
                [
                 "Jan",
                 "Feb",
                 "Sep"
                ]
               ],
               [
                [
                 "Jan",
                 "Feb",
                 "Sep"
                ]
               ],
               [
                [
                 "Jan",
                 "Feb",
                 "Sep"
                ]
               ],
               [
                [
                 "Jan",
                 "Feb",
                 "Sep"
                ]
               ],
               [
                [
                 "Jan",
                 "Feb",
                 "Sep"
                ]
               ],
               [
                [
                 "Jan",
                 "Feb",
                 "Sep"
                ]
               ],
               [
                [
                 "Jan",
                 "Feb",
                 "Sep"
                ]
               ],
               [
                [
                 "Jan",
                 "Feb",
                 "Sep"
                ]
               ],
               [
                [
                 "Jan",
                 "Feb",
                 "Sep"
                ]
               ],
               [
                [
                 "Jan",
                 "Feb",
                 "Sep"
                ]
               ],
               [
                [
                 "Jan",
                 "Feb",
                 "Sep"
                ]
               ],
               [
                [
                 "Jan",
                 "Feb",
                 "Sep"
                ]
               ],
               [
                [
                 "Jan",
                 "Feb",
                 "Sep"
                ]
               ],
               [
                [
                 "Jan",
                 "Feb",
                 "Sep"
                ]
               ],
               [
                [
                 "Jan",
                 "Feb",
                 "Sep"
                ]
               ],
               [
                [
                 "Jan",
                 "Feb",
                 "Sep"
                ]
               ],
               [
                [
                 "Jan",
                 "Feb",
                 "Sep"
                ]
               ],
               [
                [
                 "Jan",
                 "Feb",
                 "Sep"
                ]
               ],
               [
                [
                 "Jan",
                 "Feb",
                 "Sep"
                ]
               ],
               [
                [
                 "Jan",
                 "Feb",
                 "Sep"
                ]
               ],
               [
                [
                 "Jan",
                 "Feb",
                 "Sep"
                ]
               ],
               [
                [
                 "Jan",
                 "Feb",
                 "Sep"
                ]
               ],
               [
                [
                 "Jan",
                 "Feb",
                 "Sep"
                ]
               ],
               [
                [
                 "Jan",
                 "Feb",
                 "Sep"
                ]
               ],
               [
                [
                 "Jan",
                 "Feb",
                 "Sep"
                ]
               ]
              ],
              "z": [
               [
                15
               ],
               [
                18
               ],
               [
                24
               ],
               [
                19
               ],
               [
                16
               ],
               [
                15
               ],
               [
                16
               ],
               [
                17
               ],
               [
                18
               ],
               [
                18
               ],
               [
                14
               ],
               [
                12
               ],
               [
                11
               ],
               [
                23
               ],
               [
                19
               ],
               [
                15
               ],
               [
                27
               ],
               [
                12
               ],
               [
                11
               ],
               [
                18
               ],
               [
                16
               ],
               [
                22
               ],
               [
                17
               ],
               [
                12
               ],
               [
                17
               ],
               [
                16
               ],
               [
                15.9
               ],
               [
                13
               ],
               [
                16
               ],
               [
                20.9
               ],
               [
                19.2
               ],
               [
                11.6
               ],
               [
                18.8
               ]
              ]
             },
             {
              "scene.zaxis.title.text": "Sep"
             }
            ],
            "label": "Sep",
            "method": "update"
           },
           {
            "args": [
             {
              "customdata": [
               [
                [
                 "Jan",
                 "Feb",
                 "Oct"
                ]
               ],
               [
                [
                 "Jan",
                 "Feb",
                 "Oct"
                ]
               ],
               [
                [
                 "Jan",
                 "Feb",
                 "Oct"
                ]
               ],
               [
                [
                 "Jan",
                 "Feb",
                 "Oct"
                ]
               ],
               [
                [
                 "Jan",
                 "Feb",
                 "Oct"
                ]
               ],
               [
                [
                 "Jan",
                 "Feb",
                 "Oct"
                ]
               ],
               [
                [
                 "Jan",
                 "Feb",
                 "Oct"
                ]
               ],
               [
                [
                 "Jan",
                 "Feb",
                 "Oct"
                ]
               ],
               [
                [
                 "Jan",
                 "Feb",
                 "Oct"
                ]
               ],
               [
                [
                 "Jan",
                 "Feb",
                 "Oct"
                ]
               ],
               [
                [
                 "Jan",
                 "Feb",
                 "Oct"
                ]
               ],
               [
                [
                 "Jan",
                 "Feb",
                 "Oct"
                ]
               ],
               [
                [
                 "Jan",
                 "Feb",
                 "Oct"
                ]
               ],
               [
                [
                 "Jan",
                 "Feb",
                 "Oct"
                ]
               ],
               [
                [
                 "Jan",
                 "Feb",
                 "Oct"
                ]
               ],
               [
                [
                 "Jan",
                 "Feb",
                 "Oct"
                ]
               ],
               [
                [
                 "Jan",
                 "Feb",
                 "Oct"
                ]
               ],
               [
                [
                 "Jan",
                 "Feb",
                 "Oct"
                ]
               ],
               [
                [
                 "Jan",
                 "Feb",
                 "Oct"
                ]
               ],
               [
                [
                 "Jan",
                 "Feb",
                 "Oct"
                ]
               ],
               [
                [
                 "Jan",
                 "Feb",
                 "Oct"
                ]
               ],
               [
                [
                 "Jan",
                 "Feb",
                 "Oct"
                ]
               ],
               [
                [
                 "Jan",
                 "Feb",
                 "Oct"
                ]
               ],
               [
                [
                 "Jan",
                 "Feb",
                 "Oct"
                ]
               ],
               [
                [
                 "Jan",
                 "Feb",
                 "Oct"
                ]
               ],
               [
                [
                 "Jan",
                 "Feb",
                 "Oct"
                ]
               ],
               [
                [
                 "Jan",
                 "Feb",
                 "Oct"
                ]
               ],
               [
                [
                 "Jan",
                 "Feb",
                 "Oct"
                ]
               ],
               [
                [
                 "Jan",
                 "Feb",
                 "Oct"
                ]
               ],
               [
                [
                 "Jan",
                 "Feb",
                 "Oct"
                ]
               ],
               [
                [
                 "Jan",
                 "Feb",
                 "Oct"
                ]
               ],
               [
                [
                 "Jan",
                 "Feb",
                 "Oct"
                ]
               ],
               [
                [
                 "Jan",
                 "Feb",
                 "Oct"
                ]
               ]
              ],
              "z": [
               [
                11
               ],
               [
                14
               ],
               [
                20
               ],
               [
                14
               ],
               [
                10
               ],
               [
                10
               ],
               [
                11
               ],
               [
                12
               ],
               [
                13
               ],
               [
                13
               ],
               [
                9
               ],
               [
                9
               ],
               [
                4
               ],
               [
                19
               ],
               [
                15
               ],
               [
                9
               ],
               [
                23
               ],
               [
                6
               ],
               [
                7
               ],
               [
                13
               ],
               [
                10
               ],
               [
                17
               ],
               [
                12
               ],
               [
                7
               ],
               [
                11
               ],
               [
                10
               ],
               [
                10.4
               ],
               [
                9.8
               ],
               [
                11.2
               ],
               [
                15.1
               ],
               [
                13.4
               ],
               [
                6.2
               ],
               [
                13.1
               ]
              ]
             },
             {
              "scene.zaxis.title.text": "Oct"
             }
            ],
            "label": "Oct",
            "method": "update"
           },
           {
            "args": [
             {
              "customdata": [
               [
                [
                 "Jan",
                 "Feb",
                 "Nov"
                ]
               ],
               [
                [
                 "Jan",
                 "Feb",
                 "Nov"
                ]
               ],
               [
                [
                 "Jan",
                 "Feb",
                 "Nov"
                ]
               ],
               [
                [
                 "Jan",
                 "Feb",
                 "Nov"
                ]
               ],
               [
                [
                 "Jan",
                 "Feb",
                 "Nov"
                ]
               ],
               [
                [
                 "Jan",
                 "Feb",
                 "Nov"
                ]
               ],
               [
                [
                 "Jan",
                 "Feb",
                 "Nov"
                ]
               ],
               [
                [
                 "Jan",
                 "Feb",
                 "Nov"
                ]
               ],
               [
                [
                 "Jan",
                 "Feb",
                 "Nov"
                ]
               ],
               [
                [
                 "Jan",
                 "Feb",
                 "Nov"
                ]
               ],
               [
                [
                 "Jan",
                 "Feb",
                 "Nov"
                ]
               ],
               [
                [
                 "Jan",
                 "Feb",
                 "Nov"
                ]
               ],
               [
                [
                 "Jan",
                 "Feb",
                 "Nov"
                ]
               ],
               [
                [
                 "Jan",
                 "Feb",
                 "Nov"
                ]
               ],
               [
                [
                 "Jan",
                 "Feb",
                 "Nov"
                ]
               ],
               [
                [
                 "Jan",
                 "Feb",
                 "Nov"
                ]
               ],
               [
                [
                 "Jan",
                 "Feb",
                 "Nov"
                ]
               ],
               [
                [
                 "Jan",
                 "Feb",
                 "Nov"
                ]
               ],
               [
                [
                 "Jan",
                 "Feb",
                 "Nov"
                ]
               ],
               [
                [
                 "Jan",
                 "Feb",
                 "Nov"
                ]
               ],
               [
                [
                 "Jan",
                 "Feb",
                 "Nov"
                ]
               ],
               [
                [
                 "Jan",
                 "Feb",
                 "Nov"
                ]
               ],
               [
                [
                 "Jan",
                 "Feb",
                 "Nov"
                ]
               ],
               [
                [
                 "Jan",
                 "Feb",
                 "Nov"
                ]
               ],
               [
                [
                 "Jan",
                 "Feb",
                 "Nov"
                ]
               ],
               [
                [
                 "Jan",
                 "Feb",
                 "Nov"
                ]
               ],
               [
                [
                 "Jan",
                 "Feb",
                 "Nov"
                ]
               ],
               [
                [
                 "Jan",
                 "Feb",
                 "Nov"
                ]
               ],
               [
                [
                 "Jan",
                 "Feb",
                 "Nov"
                ]
               ],
               [
                [
                 "Jan",
                 "Feb",
                 "Nov"
                ]
               ],
               [
                [
                 "Jan",
                 "Feb",
                 "Nov"
                ]
               ],
               [
                [
                 "Jan",
                 "Feb",
                 "Nov"
                ]
               ],
               [
                [
                 "Jan",
                 "Feb",
                 "Nov"
                ]
               ]
              ],
              "z": [
               [
                6
               ],
               [
                8
               ],
               [
                15
               ],
               [
                8
               ],
               [
                4
               ],
               [
                4
               ],
               [
                7
               ],
               [
                7
               ],
               [
                7
               ],
               [
                6
               ],
               [
                4
               ],
               [
                6
               ],
               [
                -1
               ],
               [
                14
               ],
               [
                10
               ],
               [
                4
               ],
               [
                20
               ],
               [
                -2
               ],
               [
                2
               ],
               [
                7
               ],
               [
                4
               ],
               [
                12
               ],
               [
                7
               ],
               [
                2
               ],
               [
                6
               ],
               [
                4
               ],
               [
                4.9
               ],
               [
                6.7
               ],
               [
                5.6
               ],
               [
                9.9
               ],
               [
                7.2
               ],
               [
                0.1
               ],
               [
                6.5
               ]
              ]
             },
             {
              "scene.zaxis.title.text": "Nov"
             }
            ],
            "label": "Nov",
            "method": "update"
           },
           {
            "args": [
             {
              "customdata": [
               [
                [
                 "Jan",
                 "Feb",
                 "Dec"
                ]
               ],
               [
                [
                 "Jan",
                 "Feb",
                 "Dec"
                ]
               ],
               [
                [
                 "Jan",
                 "Feb",
                 "Dec"
                ]
               ],
               [
                [
                 "Jan",
                 "Feb",
                 "Dec"
                ]
               ],
               [
                [
                 "Jan",
                 "Feb",
                 "Dec"
                ]
               ],
               [
                [
                 "Jan",
                 "Feb",
                 "Dec"
                ]
               ],
               [
                [
                 "Jan",
                 "Feb",
                 "Dec"
                ]
               ],
               [
                [
                 "Jan",
                 "Feb",
                 "Dec"
                ]
               ],
               [
                [
                 "Jan",
                 "Feb",
                 "Dec"
                ]
               ],
               [
                [
                 "Jan",
                 "Feb",
                 "Dec"
                ]
               ],
               [
                [
                 "Jan",
                 "Feb",
                 "Dec"
                ]
               ],
               [
                [
                 "Jan",
                 "Feb",
                 "Dec"
                ]
               ],
               [
                [
                 "Jan",
                 "Feb",
                 "Dec"
                ]
               ],
               [
                [
                 "Jan",
                 "Feb",
                 "Dec"
                ]
               ],
               [
                [
                 "Jan",
                 "Feb",
                 "Dec"
                ]
               ],
               [
                [
                 "Jan",
                 "Feb",
                 "Dec"
                ]
               ],
               [
                [
                 "Jan",
                 "Feb",
                 "Dec"
                ]
               ],
               [
                [
                 "Jan",
                 "Feb",
                 "Dec"
                ]
               ],
               [
                [
                 "Jan",
                 "Feb",
                 "Dec"
                ]
               ],
               [
                [
                 "Jan",
                 "Feb",
                 "Dec"
                ]
               ],
               [
                [
                 "Jan",
                 "Feb",
                 "Dec"
                ]
               ],
               [
                [
                 "Jan",
                 "Feb",
                 "Dec"
                ]
               ],
               [
                [
                 "Jan",
                 "Feb",
                 "Dec"
                ]
               ],
               [
                [
                 "Jan",
                 "Feb",
                 "Dec"
                ]
               ],
               [
                [
                 "Jan",
                 "Feb",
                 "Dec"
                ]
               ],
               [
                [
                 "Jan",
                 "Feb",
                 "Dec"
                ]
               ],
               [
                [
                 "Jan",
                 "Feb",
                 "Dec"
                ]
               ],
               [
                [
                 "Jan",
                 "Feb",
                 "Dec"
                ]
               ],
               [
                [
                 "Jan",
                 "Feb",
                 "Dec"
                ]
               ],
               [
                [
                 "Jan",
                 "Feb",
                 "Dec"
                ]
               ],
               [
                [
                 "Jan",
                 "Feb",
                 "Dec"
                ]
               ],
               [
                [
                 "Jan",
                 "Feb",
                 "Dec"
                ]
               ],
               [
                [
                 "Jan",
                 "Feb",
                 "Dec"
                ]
               ]
              ],
              "z": [
               [
                3
               ],
               [
                2
               ],
               [
                11
               ],
               [
                6
               ],
               [
                0
               ],
               [
                1
               ],
               [
                2
               ],
               [
                3
               ],
               [
                1
               ],
               [
                1
               ],
               [
                2
               ],
               [
                4
               ],
               [
                -6
               ],
               [
                11
               ],
               [
                8
               ],
               [
                2
               ],
               [
                17
               ],
               [
                -10
               ],
               [
                3
               ],
               [
                4
               ],
               [
                0
               ],
               [
                9
               ],
               [
                1
               ],
               [
                -1
               ],
               [
                2
               ],
               [
                2
               ],
               [
                0.7
               ],
               [
                4.2
               ],
               [
                1.2
               ],
               [
                6.9
               ],
               [
                3.3
               ],
               [
                -3.7
               ],
               [
                1.7
               ]
              ]
             },
             {
              "scene.zaxis.title.text": "Dec"
             }
            ],
            "label": "Dec",
            "method": "update"
           }
          ],
          "direction": "down",
          "pad": {
           "b": 2,
           "l": 2,
           "r": 2,
           "t": 4
          },
          "showactive": true,
          "type": "dropdown",
          "x": 0.64,
          "xanchor": "center",
          "y": 1.12,
          "yanchor": "top"
         },
         {
          "buttons": [
           {
            "args": [
             {
              "mode": [
               "markers+text",
               "markers+text",
               "markers+text",
               "markers+text",
               "markers+text",
               "markers+text",
               "markers+text",
               "markers+text",
               "markers+text",
               "markers+text",
               "markers+text",
               "markers+text",
               "markers+text",
               "markers+text",
               "markers+text",
               "markers+text",
               "markers+text",
               "markers+text",
               "markers+text",
               "markers+text",
               "markers+text",
               "markers+text",
               "markers+text",
               "markers+text",
               "markers+text",
               "markers+text",
               "markers+text",
               "markers+text",
               "markers+text",
               "markers+text",
               "markers+text",
               "markers+text",
               "markers+text"
              ]
             }
            ],
            "label": "Labels: On",
            "method": "update"
           },
           {
            "args": [
             {
              "mode": [
               "markers",
               "markers",
               "markers",
               "markers",
               "markers",
               "markers",
               "markers",
               "markers",
               "markers",
               "markers",
               "markers",
               "markers",
               "markers",
               "markers",
               "markers",
               "markers",
               "markers",
               "markers",
               "markers",
               "markers",
               "markers",
               "markers",
               "markers",
               "markers",
               "markers",
               "markers",
               "markers",
               "markers",
               "markers",
               "markers",
               "markers",
               "markers",
               "markers"
              ]
             }
            ],
            "label": "Labels: Off",
            "method": "update"
           }
          ],
          "direction": "right",
          "type": "buttons",
          "x": 0.78,
          "xanchor": "center",
          "y": 1.12,
          "yanchor": "top"
         },
         {
          "buttons": [
           {
            "args": [
             {
              "visible": [
               true,
               true,
               true,
               true,
               true,
               true,
               true,
               true,
               true,
               true,
               true,
               true,
               true,
               true,
               true,
               true,
               true,
               true,
               true,
               true,
               true,
               true,
               true,
               true,
               true,
               true,
               true,
               true,
               true,
               true,
               true,
               true,
               true
              ]
             }
            ],
            "label": "Show All",
            "method": "update"
           },
           {
            "args": [
             {
              "visible": [
               false,
               false,
               false,
               false,
               false,
               false,
               false,
               false,
               false,
               false,
               false,
               false,
               false,
               false,
               false,
               false,
               false,
               false,
               false,
               false,
               false,
               false,
               false,
               false,
               false,
               false,
               false,
               false,
               false,
               false,
               false,
               false,
               false
              ]
             }
            ],
            "label": "Hide All",
            "method": "update"
           }
          ],
          "direction": "right",
          "type": "buttons",
          "x": 0.93,
          "xanchor": "center",
          "y": 1.12,
          "yanchor": "top"
         }
        ],
        "width": 1400
       }
      }
     },
     "metadata": {},
     "output_type": "display_data"
    }
   ],
   "source": [
    "# 2) 3D month-picker\n",
    "fig2 = fig_scatter3d_month_picker(df, city_col, col_to_num); fig2.show()"
   ]
  },
  {
   "cell_type": "code",
   "execution_count": 5,
   "id": "58120e63",
   "metadata": {},
   "outputs": [
    {
     "data": {
      "application/vnd.plotly.v1+json": {
       "config": {
        "plotlyServerURL": "https://plot.ly"
       },
       "data": [
        {
         "hovertemplate": "<b>%{text}</b><br>PCX=%{x:.3f}<br>PCY=%{y:.3f}<extra></extra>",
         "marker": {
          "opacity": 0.9,
          "size": 8
         },
         "mode": "markers+text",
         "text": [
          "Amsterdam",
          "Ankara",
          "Athens",
          "Belgrade",
          "Berlin",
          "Bern",
          "Bonn",
          "Bruxells",
          "Bucarest",
          "Budapest",
          "Copenhagen",
          "Dublin",
          "Helsinki",
          "Lisbon",
          "London",
          "Luxemborg",
          "Marbella",
          "Moscow",
          "Oslo",
          "Paris",
          "Prague",
          "Rome",
          "Sofia",
          "Stockholm",
          "Vienna",
          "Warsaw",
          "Bratislava",
          "St. Petersberg",
          "Ljubljana",
          "Madrid",
          "Milan",
          "Edinburgh",
          "Skopje"
         ],
         "textfont": {
          "size": 10
         },
         "textposition": "top center",
         "type": "scatter",
         "x": {
          "bdata": "j8BANju++b9yjuHVH93qPyd8xZoSDxlAwcw2cUM5/T+JLx09M5zyvz4NSifMOfW/v3XUrXhL47+Ghx0Qnn7Tv8NI1QVr1OA/bkdfybA76z/DTQhWMAoAwBvFfLtxxAHAvcQf+UbCFsDl5ePBFtUVQCRnJhtjfwNAA5YspTT187+v9NaQ2MgiQKwgTfQndRbAMt8j2JURDsBBOtQz7aDzP+LiSC2Rwu2/LngFl7M1EEBJfzg/2e7OP2uZIqVTVQ3Azo+2Uaz08r+/fsBYanD2vyT6B45v79W/kY3zb7jy/r+3JRMnKnW7v8TrOQlcXgpAGETVxKMH+z+WaHSOYk4RwOueXlxyXfU/",
          "dtype": "f8"
         },
         "y": {
          "bdata": "VUjniR9X+T8YfNoNdaXov+BGmffnSu6/GX3E9Dr4479kkrd1MtrTv8IcPAeuGuU/DbZIRwhI6D/fY8XiJw3vP7EiRRE3Vfq/qpV+d9T69L9tsaZEVlXgP2BlrfFjuwRAP+hmPKna6r+sF8vjnaHpP9TC9PkH1u0//jF0ugCX5T8Jy6u5TKbWP+Jg1LvvhwPAxHVM3Lj74j/rn03n+VfUP3S5qVq20ee/SKv1iaYqtr//Kq/BReHhv5PYpaI2c7S/OIFi7TMh8j9L3DwNsM3uv3Nvk2uFduG/FOKmt24sBkBTt/okhrvTv5vhRzkhMse/antPqSAV4b8gVVe2EwThv+MSprAFsPO/",
          "dtype": "f8"
         }
        }
       ],
       "layout": {
        "annotations": [
         {
          "font": {
           "size": 11
          },
          "showarrow": false,
          "text": "X PC",
          "x": 0.34,
          "xanchor": "center",
          "xref": "paper",
          "y": 1.13,
          "yanchor": "top",
          "yref": "paper"
         },
         {
          "font": {
           "size": 11
          },
          "showarrow": false,
          "text": "Y PC",
          "x": 0.58,
          "xanchor": "center",
          "xref": "paper",
          "y": 1.13,
          "yanchor": "top",
          "yref": "paper"
         }
        ],
        "autosize": false,
        "height": 1000,
        "hovermode": "closest",
        "margin": {
         "b": 60,
         "l": 60,
         "r": 20,
         "t": 105
        },
        "shapes": [
         {
          "type": "line",
          "x0": 0,
          "x1": 1,
          "xref": "x domain",
          "y0": 0,
          "y1": 0,
          "yref": "y"
         },
         {
          "type": "line",
          "x0": 0,
          "x1": 0,
          "xref": "x",
          "y0": 0,
          "y1": 1,
          "yref": "y domain"
         }
        ],
        "template": {
         "data": {
          "bar": [
           {
            "error_x": {
             "color": "#2a3f5f"
            },
            "error_y": {
             "color": "#2a3f5f"
            },
            "marker": {
             "line": {
              "color": "#E5ECF6",
              "width": 0.5
             },
             "pattern": {
              "fillmode": "overlay",
              "size": 10,
              "solidity": 0.2
             }
            },
            "type": "bar"
           }
          ],
          "barpolar": [
           {
            "marker": {
             "line": {
              "color": "#E5ECF6",
              "width": 0.5
             },
             "pattern": {
              "fillmode": "overlay",
              "size": 10,
              "solidity": 0.2
             }
            },
            "type": "barpolar"
           }
          ],
          "carpet": [
           {
            "aaxis": {
             "endlinecolor": "#2a3f5f",
             "gridcolor": "white",
             "linecolor": "white",
             "minorgridcolor": "white",
             "startlinecolor": "#2a3f5f"
            },
            "baxis": {
             "endlinecolor": "#2a3f5f",
             "gridcolor": "white",
             "linecolor": "white",
             "minorgridcolor": "white",
             "startlinecolor": "#2a3f5f"
            },
            "type": "carpet"
           }
          ],
          "choropleth": [
           {
            "colorbar": {
             "outlinewidth": 0,
             "ticks": ""
            },
            "type": "choropleth"
           }
          ],
          "contour": [
           {
            "colorbar": {
             "outlinewidth": 0,
             "ticks": ""
            },
            "colorscale": [
             [
              0,
              "#0d0887"
             ],
             [
              0.1111111111111111,
              "#46039f"
             ],
             [
              0.2222222222222222,
              "#7201a8"
             ],
             [
              0.3333333333333333,
              "#9c179e"
             ],
             [
              0.4444444444444444,
              "#bd3786"
             ],
             [
              0.5555555555555556,
              "#d8576b"
             ],
             [
              0.6666666666666666,
              "#ed7953"
             ],
             [
              0.7777777777777778,
              "#fb9f3a"
             ],
             [
              0.8888888888888888,
              "#fdca26"
             ],
             [
              1,
              "#f0f921"
             ]
            ],
            "type": "contour"
           }
          ],
          "contourcarpet": [
           {
            "colorbar": {
             "outlinewidth": 0,
             "ticks": ""
            },
            "type": "contourcarpet"
           }
          ],
          "heatmap": [
           {
            "colorbar": {
             "outlinewidth": 0,
             "ticks": ""
            },
            "colorscale": [
             [
              0,
              "#0d0887"
             ],
             [
              0.1111111111111111,
              "#46039f"
             ],
             [
              0.2222222222222222,
              "#7201a8"
             ],
             [
              0.3333333333333333,
              "#9c179e"
             ],
             [
              0.4444444444444444,
              "#bd3786"
             ],
             [
              0.5555555555555556,
              "#d8576b"
             ],
             [
              0.6666666666666666,
              "#ed7953"
             ],
             [
              0.7777777777777778,
              "#fb9f3a"
             ],
             [
              0.8888888888888888,
              "#fdca26"
             ],
             [
              1,
              "#f0f921"
             ]
            ],
            "type": "heatmap"
           }
          ],
          "histogram": [
           {
            "marker": {
             "pattern": {
              "fillmode": "overlay",
              "size": 10,
              "solidity": 0.2
             }
            },
            "type": "histogram"
           }
          ],
          "histogram2d": [
           {
            "colorbar": {
             "outlinewidth": 0,
             "ticks": ""
            },
            "colorscale": [
             [
              0,
              "#0d0887"
             ],
             [
              0.1111111111111111,
              "#46039f"
             ],
             [
              0.2222222222222222,
              "#7201a8"
             ],
             [
              0.3333333333333333,
              "#9c179e"
             ],
             [
              0.4444444444444444,
              "#bd3786"
             ],
             [
              0.5555555555555556,
              "#d8576b"
             ],
             [
              0.6666666666666666,
              "#ed7953"
             ],
             [
              0.7777777777777778,
              "#fb9f3a"
             ],
             [
              0.8888888888888888,
              "#fdca26"
             ],
             [
              1,
              "#f0f921"
             ]
            ],
            "type": "histogram2d"
           }
          ],
          "histogram2dcontour": [
           {
            "colorbar": {
             "outlinewidth": 0,
             "ticks": ""
            },
            "colorscale": [
             [
              0,
              "#0d0887"
             ],
             [
              0.1111111111111111,
              "#46039f"
             ],
             [
              0.2222222222222222,
              "#7201a8"
             ],
             [
              0.3333333333333333,
              "#9c179e"
             ],
             [
              0.4444444444444444,
              "#bd3786"
             ],
             [
              0.5555555555555556,
              "#d8576b"
             ],
             [
              0.6666666666666666,
              "#ed7953"
             ],
             [
              0.7777777777777778,
              "#fb9f3a"
             ],
             [
              0.8888888888888888,
              "#fdca26"
             ],
             [
              1,
              "#f0f921"
             ]
            ],
            "type": "histogram2dcontour"
           }
          ],
          "mesh3d": [
           {
            "colorbar": {
             "outlinewidth": 0,
             "ticks": ""
            },
            "type": "mesh3d"
           }
          ],
          "parcoords": [
           {
            "line": {
             "colorbar": {
              "outlinewidth": 0,
              "ticks": ""
             }
            },
            "type": "parcoords"
           }
          ],
          "pie": [
           {
            "automargin": true,
            "type": "pie"
           }
          ],
          "scatter": [
           {
            "fillpattern": {
             "fillmode": "overlay",
             "size": 10,
             "solidity": 0.2
            },
            "type": "scatter"
           }
          ],
          "scatter3d": [
           {
            "line": {
             "colorbar": {
              "outlinewidth": 0,
              "ticks": ""
             }
            },
            "marker": {
             "colorbar": {
              "outlinewidth": 0,
              "ticks": ""
             }
            },
            "type": "scatter3d"
           }
          ],
          "scattercarpet": [
           {
            "marker": {
             "colorbar": {
              "outlinewidth": 0,
              "ticks": ""
             }
            },
            "type": "scattercarpet"
           }
          ],
          "scattergeo": [
           {
            "marker": {
             "colorbar": {
              "outlinewidth": 0,
              "ticks": ""
             }
            },
            "type": "scattergeo"
           }
          ],
          "scattergl": [
           {
            "marker": {
             "colorbar": {
              "outlinewidth": 0,
              "ticks": ""
             }
            },
            "type": "scattergl"
           }
          ],
          "scattermap": [
           {
            "marker": {
             "colorbar": {
              "outlinewidth": 0,
              "ticks": ""
             }
            },
            "type": "scattermap"
           }
          ],
          "scattermapbox": [
           {
            "marker": {
             "colorbar": {
              "outlinewidth": 0,
              "ticks": ""
             }
            },
            "type": "scattermapbox"
           }
          ],
          "scatterpolar": [
           {
            "marker": {
             "colorbar": {
              "outlinewidth": 0,
              "ticks": ""
             }
            },
            "type": "scatterpolar"
           }
          ],
          "scatterpolargl": [
           {
            "marker": {
             "colorbar": {
              "outlinewidth": 0,
              "ticks": ""
             }
            },
            "type": "scatterpolargl"
           }
          ],
          "scatterternary": [
           {
            "marker": {
             "colorbar": {
              "outlinewidth": 0,
              "ticks": ""
             }
            },
            "type": "scatterternary"
           }
          ],
          "surface": [
           {
            "colorbar": {
             "outlinewidth": 0,
             "ticks": ""
            },
            "colorscale": [
             [
              0,
              "#0d0887"
             ],
             [
              0.1111111111111111,
              "#46039f"
             ],
             [
              0.2222222222222222,
              "#7201a8"
             ],
             [
              0.3333333333333333,
              "#9c179e"
             ],
             [
              0.4444444444444444,
              "#bd3786"
             ],
             [
              0.5555555555555556,
              "#d8576b"
             ],
             [
              0.6666666666666666,
              "#ed7953"
             ],
             [
              0.7777777777777778,
              "#fb9f3a"
             ],
             [
              0.8888888888888888,
              "#fdca26"
             ],
             [
              1,
              "#f0f921"
             ]
            ],
            "type": "surface"
           }
          ],
          "table": [
           {
            "cells": {
             "fill": {
              "color": "#EBF0F8"
             },
             "line": {
              "color": "white"
             }
            },
            "header": {
             "fill": {
              "color": "#C8D4E3"
             },
             "line": {
              "color": "white"
             }
            },
            "type": "table"
           }
          ]
         },
         "layout": {
          "annotationdefaults": {
           "arrowcolor": "#2a3f5f",
           "arrowhead": 0,
           "arrowwidth": 1
          },
          "autotypenumbers": "strict",
          "coloraxis": {
           "colorbar": {
            "outlinewidth": 0,
            "ticks": ""
           }
          },
          "colorscale": {
           "diverging": [
            [
             0,
             "#8e0152"
            ],
            [
             0.1,
             "#c51b7d"
            ],
            [
             0.2,
             "#de77ae"
            ],
            [
             0.3,
             "#f1b6da"
            ],
            [
             0.4,
             "#fde0ef"
            ],
            [
             0.5,
             "#f7f7f7"
            ],
            [
             0.6,
             "#e6f5d0"
            ],
            [
             0.7,
             "#b8e186"
            ],
            [
             0.8,
             "#7fbc41"
            ],
            [
             0.9,
             "#4d9221"
            ],
            [
             1,
             "#276419"
            ]
           ],
           "sequential": [
            [
             0,
             "#0d0887"
            ],
            [
             0.1111111111111111,
             "#46039f"
            ],
            [
             0.2222222222222222,
             "#7201a8"
            ],
            [
             0.3333333333333333,
             "#9c179e"
            ],
            [
             0.4444444444444444,
             "#bd3786"
            ],
            [
             0.5555555555555556,
             "#d8576b"
            ],
            [
             0.6666666666666666,
             "#ed7953"
            ],
            [
             0.7777777777777778,
             "#fb9f3a"
            ],
            [
             0.8888888888888888,
             "#fdca26"
            ],
            [
             1,
             "#f0f921"
            ]
           ],
           "sequentialminus": [
            [
             0,
             "#0d0887"
            ],
            [
             0.1111111111111111,
             "#46039f"
            ],
            [
             0.2222222222222222,
             "#7201a8"
            ],
            [
             0.3333333333333333,
             "#9c179e"
            ],
            [
             0.4444444444444444,
             "#bd3786"
            ],
            [
             0.5555555555555556,
             "#d8576b"
            ],
            [
             0.6666666666666666,
             "#ed7953"
            ],
            [
             0.7777777777777778,
             "#fb9f3a"
            ],
            [
             0.8888888888888888,
             "#fdca26"
            ],
            [
             1,
             "#f0f921"
            ]
           ]
          },
          "colorway": [
           "#636efa",
           "#EF553B",
           "#00cc96",
           "#ab63fa",
           "#FFA15A",
           "#19d3f3",
           "#FF6692",
           "#B6E880",
           "#FF97FF",
           "#FECB52"
          ],
          "font": {
           "color": "#2a3f5f"
          },
          "geo": {
           "bgcolor": "white",
           "lakecolor": "white",
           "landcolor": "#E5ECF6",
           "showlakes": true,
           "showland": true,
           "subunitcolor": "white"
          },
          "hoverlabel": {
           "align": "left"
          },
          "hovermode": "closest",
          "mapbox": {
           "style": "light"
          },
          "paper_bgcolor": "white",
          "plot_bgcolor": "#E5ECF6",
          "polar": {
           "angularaxis": {
            "gridcolor": "white",
            "linecolor": "white",
            "ticks": ""
           },
           "bgcolor": "#E5ECF6",
           "radialaxis": {
            "gridcolor": "white",
            "linecolor": "white",
            "ticks": ""
           }
          },
          "scene": {
           "xaxis": {
            "backgroundcolor": "#E5ECF6",
            "gridcolor": "white",
            "gridwidth": 2,
            "linecolor": "white",
            "showbackground": true,
            "ticks": "",
            "zerolinecolor": "white"
           },
           "yaxis": {
            "backgroundcolor": "#E5ECF6",
            "gridcolor": "white",
            "gridwidth": 2,
            "linecolor": "white",
            "showbackground": true,
            "ticks": "",
            "zerolinecolor": "white"
           },
           "zaxis": {
            "backgroundcolor": "#E5ECF6",
            "gridcolor": "white",
            "gridwidth": 2,
            "linecolor": "white",
            "showbackground": true,
            "ticks": "",
            "zerolinecolor": "white"
           }
          },
          "shapedefaults": {
           "line": {
            "color": "#2a3f5f"
           }
          },
          "ternary": {
           "aaxis": {
            "gridcolor": "white",
            "linecolor": "white",
            "ticks": ""
           },
           "baxis": {
            "gridcolor": "white",
            "linecolor": "white",
            "ticks": ""
           },
           "bgcolor": "#E5ECF6",
           "caxis": {
            "gridcolor": "white",
            "linecolor": "white",
            "ticks": ""
           }
          },
          "title": {
           "x": 0.05
          },
          "xaxis": {
           "automargin": true,
           "gridcolor": "white",
           "linecolor": "white",
           "ticks": "",
           "title": {
            "standoff": 15
           },
           "zerolinecolor": "white",
           "zerolinewidth": 2
          },
          "yaxis": {
           "automargin": true,
           "gridcolor": "white",
           "linecolor": "white",
           "ticks": "",
           "title": {
            "standoff": 15
           },
           "zerolinecolor": "white",
           "zerolinewidth": 2
          }
         }
        },
        "title": {
         "text": "PCA — Pick PCs (± direction) • City names shown"
        },
        "updatemenus": [
         {
          "bgcolor": "rgba(255,255,255,0.6)",
          "buttons": [
           {
            "args": [
             {
              "x": [
               [
                -1.6089431876426123,
                0.8394927193989601,
                6.264719408324743,
                1.8264803335594453,
                -1.1631348025575525,
                -1.326610711549463,
                -0.6029628176799448,
                -0.30460311483158653,
                0.5259299386910005,
                0.8510364468622649,
                -2.0049750062259775,
                -2.2209200522853627,
                -5.689723866046902,
                5.458094625029365,
                2.437200748547996,
                -1.2473646595111638,
                9.392277265777322,
                -5.614410226066109,
                -3.7585865865657064,
                1.2267887138911109,
                -0.9300008663622885,
                4.052442893704251,
                0.24166408144901144,
                -3.6666634465392938,
                -1.184734648887559,
                -1.4024451701042577,
                -0.34273899908285643,
                -1.9342579243756044,
                -0.10725654081320256,
                3.296073982315166,
                1.6893651665489013,
                -4.3265478380727895,
                1.3353141411006912
               ]
              ]
             },
             {
              "xaxis.title.text": "PC1 (85.0%)"
             }
            ],
            "label": "PC1 (85%)",
            "method": "update"
           },
           {
            "args": [
             {
              "x": [
               [
                1.6089431876426123,
                -0.8394927193989601,
                -6.264719408324743,
                -1.8264803335594453,
                1.1631348025575525,
                1.326610711549463,
                0.6029628176799448,
                0.30460311483158653,
                -0.5259299386910005,
                -0.8510364468622649,
                2.0049750062259775,
                2.2209200522853627,
                5.689723866046902,
                -5.458094625029365,
                -2.437200748547996,
                1.2473646595111638,
                -9.392277265777322,
                5.614410226066109,
                3.7585865865657064,
                -1.2267887138911109,
                0.9300008663622885,
                -4.052442893704251,
                -0.24166408144901144,
                3.6666634465392938,
                1.184734648887559,
                1.4024451701042577,
                0.34273899908285643,
                1.9342579243756044,
                0.10725654081320256,
                -3.296073982315166,
                -1.6893651665489013,
                4.3265478380727895,
                -1.3353141411006912
               ]
              ]
             },
             {
              "xaxis.title.text": "-PC1 (85.0%)"
             }
            ],
            "label": "-PC1",
            "method": "update"
           },
           {
            "args": [
             {
              "x": [
               [
                1.5837703120091835,
                -0.7701974173140824,
                -0.9466438136971327,
                -0.6240515499702354,
                -0.31019269462402677,
                0.6595068112664182,
                0.7587930099741144,
                0.9703559331056758,
                -1.6458044695483915,
                -1.3112377803566724,
                0.5104171124308273,
                2.59149922190106,
                -0.8391920261121938,
                0.800978608044479,
                0.9323768503146206,
                0.6746829644849297,
                0.3539001286691677,
                -2.44137522451284,
                0.5932277968128621,
                0.31786964023785796,
                -0.7443496485482641,
                -0.08658829563289061,
                -0.5587490828414444,
                -0.0798830172624057,
                1.1331061623423704,
                -0.9626083620595492,
                -0.5457179165928053,
                2.7716955516627966,
                -0.3083205567480622,
                -0.18121733948624982,
                -0.533829050716901,
                -0.5317476807928507,
                -1.230474176439366
               ]
              ]
             },
             {
              "xaxis.title.text": "PC2 (10.2%)"
             }
            ],
            "label": "PC2 (10%)",
            "method": "update"
           },
           {
            "args": [
             {
              "x": [
               [
                -1.5837703120091835,
                0.7701974173140824,
                0.9466438136971327,
                0.6240515499702354,
                0.31019269462402677,
                -0.6595068112664182,
                -0.7587930099741144,
                -0.9703559331056758,
                1.6458044695483915,
                1.3112377803566724,
                -0.5104171124308273,
                -2.59149922190106,
                0.8391920261121938,
                -0.800978608044479,
                -0.9323768503146206,
                -0.6746829644849297,
                -0.3539001286691677,
                2.44137522451284,
                -0.5932277968128621,
                -0.31786964023785796,
                0.7443496485482641,
                0.08658829563289061,
                0.5587490828414444,
                0.0798830172624057,
                -1.1331061623423704,
                0.9626083620595492,
                0.5457179165928053,
                -2.7716955516627966,
                0.3083205567480622,
                0.18121733948624982,
                0.533829050716901,
                0.5317476807928507,
                1.230474176439366
               ]
              ]
             },
             {
              "xaxis.title.text": "-PC2 (10.2%)"
             }
            ],
            "label": "-PC2",
            "method": "update"
           }
          ],
          "direction": "down",
          "font": {
           "size": 10
          },
          "pad": {
           "b": 1,
           "l": 1,
           "r": 1,
           "t": 1
          },
          "showactive": true,
          "type": "dropdown",
          "x": 0.34,
          "xanchor": "center",
          "y": 1.08,
          "yanchor": "top"
         },
         {
          "bgcolor": "rgba(255,255,255,0.6)",
          "buttons": [
           {
            "args": [
             {
              "y": [
               [
                -1.6089431876426123,
                0.8394927193989601,
                6.264719408324743,
                1.8264803335594453,
                -1.1631348025575525,
                -1.326610711549463,
                -0.6029628176799448,
                -0.30460311483158653,
                0.5259299386910005,
                0.8510364468622649,
                -2.0049750062259775,
                -2.2209200522853627,
                -5.689723866046902,
                5.458094625029365,
                2.437200748547996,
                -1.2473646595111638,
                9.392277265777322,
                -5.614410226066109,
                -3.7585865865657064,
                1.2267887138911109,
                -0.9300008663622885,
                4.052442893704251,
                0.24166408144901144,
                -3.6666634465392938,
                -1.184734648887559,
                -1.4024451701042577,
                -0.34273899908285643,
                -1.9342579243756044,
                -0.10725654081320256,
                3.296073982315166,
                1.6893651665489013,
                -4.3265478380727895,
                1.3353141411006912
               ]
              ]
             },
             {
              "yaxis.title.text": "PC1 (85.0%)"
             }
            ],
            "label": "PC1 (85%)",
            "method": "update"
           },
           {
            "args": [
             {
              "y": [
               [
                1.6089431876426123,
                -0.8394927193989601,
                -6.264719408324743,
                -1.8264803335594453,
                1.1631348025575525,
                1.326610711549463,
                0.6029628176799448,
                0.30460311483158653,
                -0.5259299386910005,
                -0.8510364468622649,
                2.0049750062259775,
                2.2209200522853627,
                5.689723866046902,
                -5.458094625029365,
                -2.437200748547996,
                1.2473646595111638,
                -9.392277265777322,
                5.614410226066109,
                3.7585865865657064,
                -1.2267887138911109,
                0.9300008663622885,
                -4.052442893704251,
                -0.24166408144901144,
                3.6666634465392938,
                1.184734648887559,
                1.4024451701042577,
                0.34273899908285643,
                1.9342579243756044,
                0.10725654081320256,
                -3.296073982315166,
                -1.6893651665489013,
                4.3265478380727895,
                -1.3353141411006912
               ]
              ]
             },
             {
              "yaxis.title.text": "-PC1 (85.0%)"
             }
            ],
            "label": "-PC1",
            "method": "update"
           },
           {
            "args": [
             {
              "y": [
               [
                1.5837703120091835,
                -0.7701974173140824,
                -0.9466438136971327,
                -0.6240515499702354,
                -0.31019269462402677,
                0.6595068112664182,
                0.7587930099741144,
                0.9703559331056758,
                -1.6458044695483915,
                -1.3112377803566724,
                0.5104171124308273,
                2.59149922190106,
                -0.8391920261121938,
                0.800978608044479,
                0.9323768503146206,
                0.6746829644849297,
                0.3539001286691677,
                -2.44137522451284,
                0.5932277968128621,
                0.31786964023785796,
                -0.7443496485482641,
                -0.08658829563289061,
                -0.5587490828414444,
                -0.0798830172624057,
                1.1331061623423704,
                -0.9626083620595492,
                -0.5457179165928053,
                2.7716955516627966,
                -0.3083205567480622,
                -0.18121733948624982,
                -0.533829050716901,
                -0.5317476807928507,
                -1.230474176439366
               ]
              ]
             },
             {
              "yaxis.title.text": "PC2 (10.2%)"
             }
            ],
            "label": "PC2 (10%)",
            "method": "update"
           },
           {
            "args": [
             {
              "y": [
               [
                -1.5837703120091835,
                0.7701974173140824,
                0.9466438136971327,
                0.6240515499702354,
                0.31019269462402677,
                -0.6595068112664182,
                -0.7587930099741144,
                -0.9703559331056758,
                1.6458044695483915,
                1.3112377803566724,
                -0.5104171124308273,
                -2.59149922190106,
                0.8391920261121938,
                -0.800978608044479,
                -0.9323768503146206,
                -0.6746829644849297,
                -0.3539001286691677,
                2.44137522451284,
                -0.5932277968128621,
                -0.31786964023785796,
                0.7443496485482641,
                0.08658829563289061,
                0.5587490828414444,
                0.0798830172624057,
                -1.1331061623423704,
                0.9626083620595492,
                0.5457179165928053,
                -2.7716955516627966,
                0.3083205567480622,
                0.18121733948624982,
                0.533829050716901,
                0.5317476807928507,
                1.230474176439366
               ]
              ]
             },
             {
              "yaxis.title.text": "-PC2 (10.2%)"
             }
            ],
            "label": "-PC2",
            "method": "update"
           }
          ],
          "direction": "down",
          "font": {
           "size": 10
          },
          "pad": {
           "b": 1,
           "l": 1,
           "r": 1,
           "t": 1
          },
          "showactive": true,
          "type": "dropdown",
          "x": 0.58,
          "xanchor": "center",
          "y": 1.08,
          "yanchor": "top"
         }
        ],
        "width": 1000,
        "xaxis": {
         "title": {
          "text": "PC1 (85.0%)"
         }
        },
        "yaxis": {
         "title": {
          "text": "PC2 (10.2%)"
         }
        }
       }
      }
     },
     "metadata": {},
     "output_type": "display_data"
    }
   ],
   "source": [
    "# 3) PCA axis picker + Explained variance + Residual map\n",
    "p = compute_pca_matrix(df, city_col, month_cols, retain=0.95)\n",
    "fig3 = fig_pca_axis_picker(p[\"Z\"], p[\"cities\"], p[\"var\"]); fig3.show()"
   ]
  },
  {
   "cell_type": "code",
   "execution_count": 6,
   "id": "c4e5d5c2",
   "metadata": {},
   "outputs": [
    {
     "data": {
      "application/vnd.plotly.v1+json": {
       "config": {
        "plotlyServerURL": "https://plot.ly"
       },
       "data": [
        {
         "name": "Explained variance (%)",
         "type": "bar",
         "x": {
          "bdata": "AQAAAAIAAAADAAAABAAAAAUAAAAGAAAABwAAAAgAAAAJAAAACgAAAAsAAAAMAAAA",
          "dtype": "i4"
         },
         "y": {
          "bdata": "jVXkDUFBVUAHyzWtTV4kQBUVBE/yQgFAEo7fqT0h7D87s6rBtuziPzKYLh3jvto/oEtdMTLxzz/9K45M54vCP0GSkr3FjcA/gjmyOed0vT9RWg23DSSyP9Ep83SJuaQ/",
          "dtype": "f8"
         }
        }
       ],
       "layout": {
        "annotations": [
         {
          "showarrow": false,
          "text": "k = 2",
          "x": 2.5,
          "xanchor": "center",
          "xref": "x",
          "y": 1,
          "yanchor": "bottom",
          "yref": "y domain"
         }
        ],
        "autosize": false,
        "height": 700,
        "hovermode": "x unified",
        "margin": {
         "b": 60,
         "l": 60,
         "r": 20,
         "t": 80
        },
        "shapes": [
         {
          "line": {
           "dash": "dash"
          },
          "type": "line",
          "x0": 2.5,
          "x1": 2.5,
          "xref": "x",
          "y0": 0,
          "y1": 1,
          "yref": "y domain"
         }
        ],
        "showlegend": false,
        "template": {
         "data": {
          "bar": [
           {
            "error_x": {
             "color": "#2a3f5f"
            },
            "error_y": {
             "color": "#2a3f5f"
            },
            "marker": {
             "line": {
              "color": "#E5ECF6",
              "width": 0.5
             },
             "pattern": {
              "fillmode": "overlay",
              "size": 10,
              "solidity": 0.2
             }
            },
            "type": "bar"
           }
          ],
          "barpolar": [
           {
            "marker": {
             "line": {
              "color": "#E5ECF6",
              "width": 0.5
             },
             "pattern": {
              "fillmode": "overlay",
              "size": 10,
              "solidity": 0.2
             }
            },
            "type": "barpolar"
           }
          ],
          "carpet": [
           {
            "aaxis": {
             "endlinecolor": "#2a3f5f",
             "gridcolor": "white",
             "linecolor": "white",
             "minorgridcolor": "white",
             "startlinecolor": "#2a3f5f"
            },
            "baxis": {
             "endlinecolor": "#2a3f5f",
             "gridcolor": "white",
             "linecolor": "white",
             "minorgridcolor": "white",
             "startlinecolor": "#2a3f5f"
            },
            "type": "carpet"
           }
          ],
          "choropleth": [
           {
            "colorbar": {
             "outlinewidth": 0,
             "ticks": ""
            },
            "type": "choropleth"
           }
          ],
          "contour": [
           {
            "colorbar": {
             "outlinewidth": 0,
             "ticks": ""
            },
            "colorscale": [
             [
              0,
              "#0d0887"
             ],
             [
              0.1111111111111111,
              "#46039f"
             ],
             [
              0.2222222222222222,
              "#7201a8"
             ],
             [
              0.3333333333333333,
              "#9c179e"
             ],
             [
              0.4444444444444444,
              "#bd3786"
             ],
             [
              0.5555555555555556,
              "#d8576b"
             ],
             [
              0.6666666666666666,
              "#ed7953"
             ],
             [
              0.7777777777777778,
              "#fb9f3a"
             ],
             [
              0.8888888888888888,
              "#fdca26"
             ],
             [
              1,
              "#f0f921"
             ]
            ],
            "type": "contour"
           }
          ],
          "contourcarpet": [
           {
            "colorbar": {
             "outlinewidth": 0,
             "ticks": ""
            },
            "type": "contourcarpet"
           }
          ],
          "heatmap": [
           {
            "colorbar": {
             "outlinewidth": 0,
             "ticks": ""
            },
            "colorscale": [
             [
              0,
              "#0d0887"
             ],
             [
              0.1111111111111111,
              "#46039f"
             ],
             [
              0.2222222222222222,
              "#7201a8"
             ],
             [
              0.3333333333333333,
              "#9c179e"
             ],
             [
              0.4444444444444444,
              "#bd3786"
             ],
             [
              0.5555555555555556,
              "#d8576b"
             ],
             [
              0.6666666666666666,
              "#ed7953"
             ],
             [
              0.7777777777777778,
              "#fb9f3a"
             ],
             [
              0.8888888888888888,
              "#fdca26"
             ],
             [
              1,
              "#f0f921"
             ]
            ],
            "type": "heatmap"
           }
          ],
          "histogram": [
           {
            "marker": {
             "pattern": {
              "fillmode": "overlay",
              "size": 10,
              "solidity": 0.2
             }
            },
            "type": "histogram"
           }
          ],
          "histogram2d": [
           {
            "colorbar": {
             "outlinewidth": 0,
             "ticks": ""
            },
            "colorscale": [
             [
              0,
              "#0d0887"
             ],
             [
              0.1111111111111111,
              "#46039f"
             ],
             [
              0.2222222222222222,
              "#7201a8"
             ],
             [
              0.3333333333333333,
              "#9c179e"
             ],
             [
              0.4444444444444444,
              "#bd3786"
             ],
             [
              0.5555555555555556,
              "#d8576b"
             ],
             [
              0.6666666666666666,
              "#ed7953"
             ],
             [
              0.7777777777777778,
              "#fb9f3a"
             ],
             [
              0.8888888888888888,
              "#fdca26"
             ],
             [
              1,
              "#f0f921"
             ]
            ],
            "type": "histogram2d"
           }
          ],
          "histogram2dcontour": [
           {
            "colorbar": {
             "outlinewidth": 0,
             "ticks": ""
            },
            "colorscale": [
             [
              0,
              "#0d0887"
             ],
             [
              0.1111111111111111,
              "#46039f"
             ],
             [
              0.2222222222222222,
              "#7201a8"
             ],
             [
              0.3333333333333333,
              "#9c179e"
             ],
             [
              0.4444444444444444,
              "#bd3786"
             ],
             [
              0.5555555555555556,
              "#d8576b"
             ],
             [
              0.6666666666666666,
              "#ed7953"
             ],
             [
              0.7777777777777778,
              "#fb9f3a"
             ],
             [
              0.8888888888888888,
              "#fdca26"
             ],
             [
              1,
              "#f0f921"
             ]
            ],
            "type": "histogram2dcontour"
           }
          ],
          "mesh3d": [
           {
            "colorbar": {
             "outlinewidth": 0,
             "ticks": ""
            },
            "type": "mesh3d"
           }
          ],
          "parcoords": [
           {
            "line": {
             "colorbar": {
              "outlinewidth": 0,
              "ticks": ""
             }
            },
            "type": "parcoords"
           }
          ],
          "pie": [
           {
            "automargin": true,
            "type": "pie"
           }
          ],
          "scatter": [
           {
            "fillpattern": {
             "fillmode": "overlay",
             "size": 10,
             "solidity": 0.2
            },
            "type": "scatter"
           }
          ],
          "scatter3d": [
           {
            "line": {
             "colorbar": {
              "outlinewidth": 0,
              "ticks": ""
             }
            },
            "marker": {
             "colorbar": {
              "outlinewidth": 0,
              "ticks": ""
             }
            },
            "type": "scatter3d"
           }
          ],
          "scattercarpet": [
           {
            "marker": {
             "colorbar": {
              "outlinewidth": 0,
              "ticks": ""
             }
            },
            "type": "scattercarpet"
           }
          ],
          "scattergeo": [
           {
            "marker": {
             "colorbar": {
              "outlinewidth": 0,
              "ticks": ""
             }
            },
            "type": "scattergeo"
           }
          ],
          "scattergl": [
           {
            "marker": {
             "colorbar": {
              "outlinewidth": 0,
              "ticks": ""
             }
            },
            "type": "scattergl"
           }
          ],
          "scattermap": [
           {
            "marker": {
             "colorbar": {
              "outlinewidth": 0,
              "ticks": ""
             }
            },
            "type": "scattermap"
           }
          ],
          "scattermapbox": [
           {
            "marker": {
             "colorbar": {
              "outlinewidth": 0,
              "ticks": ""
             }
            },
            "type": "scattermapbox"
           }
          ],
          "scatterpolar": [
           {
            "marker": {
             "colorbar": {
              "outlinewidth": 0,
              "ticks": ""
             }
            },
            "type": "scatterpolar"
           }
          ],
          "scatterpolargl": [
           {
            "marker": {
             "colorbar": {
              "outlinewidth": 0,
              "ticks": ""
             }
            },
            "type": "scatterpolargl"
           }
          ],
          "scatterternary": [
           {
            "marker": {
             "colorbar": {
              "outlinewidth": 0,
              "ticks": ""
             }
            },
            "type": "scatterternary"
           }
          ],
          "surface": [
           {
            "colorbar": {
             "outlinewidth": 0,
             "ticks": ""
            },
            "colorscale": [
             [
              0,
              "#0d0887"
             ],
             [
              0.1111111111111111,
              "#46039f"
             ],
             [
              0.2222222222222222,
              "#7201a8"
             ],
             [
              0.3333333333333333,
              "#9c179e"
             ],
             [
              0.4444444444444444,
              "#bd3786"
             ],
             [
              0.5555555555555556,
              "#d8576b"
             ],
             [
              0.6666666666666666,
              "#ed7953"
             ],
             [
              0.7777777777777778,
              "#fb9f3a"
             ],
             [
              0.8888888888888888,
              "#fdca26"
             ],
             [
              1,
              "#f0f921"
             ]
            ],
            "type": "surface"
           }
          ],
          "table": [
           {
            "cells": {
             "fill": {
              "color": "#EBF0F8"
             },
             "line": {
              "color": "white"
             }
            },
            "header": {
             "fill": {
              "color": "#C8D4E3"
             },
             "line": {
              "color": "white"
             }
            },
            "type": "table"
           }
          ]
         },
         "layout": {
          "annotationdefaults": {
           "arrowcolor": "#2a3f5f",
           "arrowhead": 0,
           "arrowwidth": 1
          },
          "autotypenumbers": "strict",
          "coloraxis": {
           "colorbar": {
            "outlinewidth": 0,
            "ticks": ""
           }
          },
          "colorscale": {
           "diverging": [
            [
             0,
             "#8e0152"
            ],
            [
             0.1,
             "#c51b7d"
            ],
            [
             0.2,
             "#de77ae"
            ],
            [
             0.3,
             "#f1b6da"
            ],
            [
             0.4,
             "#fde0ef"
            ],
            [
             0.5,
             "#f7f7f7"
            ],
            [
             0.6,
             "#e6f5d0"
            ],
            [
             0.7,
             "#b8e186"
            ],
            [
             0.8,
             "#7fbc41"
            ],
            [
             0.9,
             "#4d9221"
            ],
            [
             1,
             "#276419"
            ]
           ],
           "sequential": [
            [
             0,
             "#0d0887"
            ],
            [
             0.1111111111111111,
             "#46039f"
            ],
            [
             0.2222222222222222,
             "#7201a8"
            ],
            [
             0.3333333333333333,
             "#9c179e"
            ],
            [
             0.4444444444444444,
             "#bd3786"
            ],
            [
             0.5555555555555556,
             "#d8576b"
            ],
            [
             0.6666666666666666,
             "#ed7953"
            ],
            [
             0.7777777777777778,
             "#fb9f3a"
            ],
            [
             0.8888888888888888,
             "#fdca26"
            ],
            [
             1,
             "#f0f921"
            ]
           ],
           "sequentialminus": [
            [
             0,
             "#0d0887"
            ],
            [
             0.1111111111111111,
             "#46039f"
            ],
            [
             0.2222222222222222,
             "#7201a8"
            ],
            [
             0.3333333333333333,
             "#9c179e"
            ],
            [
             0.4444444444444444,
             "#bd3786"
            ],
            [
             0.5555555555555556,
             "#d8576b"
            ],
            [
             0.6666666666666666,
             "#ed7953"
            ],
            [
             0.7777777777777778,
             "#fb9f3a"
            ],
            [
             0.8888888888888888,
             "#fdca26"
            ],
            [
             1,
             "#f0f921"
            ]
           ]
          },
          "colorway": [
           "#636efa",
           "#EF553B",
           "#00cc96",
           "#ab63fa",
           "#FFA15A",
           "#19d3f3",
           "#FF6692",
           "#B6E880",
           "#FF97FF",
           "#FECB52"
          ],
          "font": {
           "color": "#2a3f5f"
          },
          "geo": {
           "bgcolor": "white",
           "lakecolor": "white",
           "landcolor": "#E5ECF6",
           "showlakes": true,
           "showland": true,
           "subunitcolor": "white"
          },
          "hoverlabel": {
           "align": "left"
          },
          "hovermode": "closest",
          "mapbox": {
           "style": "light"
          },
          "paper_bgcolor": "white",
          "plot_bgcolor": "#E5ECF6",
          "polar": {
           "angularaxis": {
            "gridcolor": "white",
            "linecolor": "white",
            "ticks": ""
           },
           "bgcolor": "#E5ECF6",
           "radialaxis": {
            "gridcolor": "white",
            "linecolor": "white",
            "ticks": ""
           }
          },
          "scene": {
           "xaxis": {
            "backgroundcolor": "#E5ECF6",
            "gridcolor": "white",
            "gridwidth": 2,
            "linecolor": "white",
            "showbackground": true,
            "ticks": "",
            "zerolinecolor": "white"
           },
           "yaxis": {
            "backgroundcolor": "#E5ECF6",
            "gridcolor": "white",
            "gridwidth": 2,
            "linecolor": "white",
            "showbackground": true,
            "ticks": "",
            "zerolinecolor": "white"
           },
           "zaxis": {
            "backgroundcolor": "#E5ECF6",
            "gridcolor": "white",
            "gridwidth": 2,
            "linecolor": "white",
            "showbackground": true,
            "ticks": "",
            "zerolinecolor": "white"
           }
          },
          "shapedefaults": {
           "line": {
            "color": "#2a3f5f"
           }
          },
          "ternary": {
           "aaxis": {
            "gridcolor": "white",
            "linecolor": "white",
            "ticks": ""
           },
           "baxis": {
            "gridcolor": "white",
            "linecolor": "white",
            "ticks": ""
           },
           "bgcolor": "#E5ECF6",
           "caxis": {
            "gridcolor": "white",
            "linecolor": "white",
            "ticks": ""
           }
          },
          "title": {
           "x": 0.05
          },
          "xaxis": {
           "automargin": true,
           "gridcolor": "white",
           "linecolor": "white",
           "ticks": "",
           "title": {
            "standoff": 15
           },
           "zerolinecolor": "white",
           "zerolinewidth": 2
          },
          "yaxis": {
           "automargin": true,
           "gridcolor": "white",
           "linecolor": "white",
           "ticks": "",
           "title": {
            "standoff": 15
           },
           "zerolinecolor": "white",
           "zerolinewidth": 2
          }
         }
        },
        "title": {
         "text": "PCA Scree Plot (per-component explained variance)"
        },
        "width": 900,
        "xaxis": {
         "title": {
          "text": "Principal component"
         }
        },
        "yaxis": {
         "rangemode": "tozero",
         "title": {
          "text": "Explained variance (%)"
         }
        }
       }
      }
     },
     "metadata": {},
     "output_type": "display_data"
    }
   ],
   "source": [
    "# 4) Explained variance — scree\n",
    "fig4 = fig_pca_scree(p[\"full_var_all\"], p[\"k\"]); fig4.show()"
   ]
  },
  {
   "cell_type": "code",
   "execution_count": 7,
   "id": "1aba32a0",
   "metadata": {},
   "outputs": [
    {
     "data": {
      "application/vnd.plotly.v1+json": {
       "config": {
        "plotlyServerURL": "https://plot.ly"
       },
       "data": [
        {
         "mode": "lines+markers",
         "name": "Cumulative EVR (%)",
         "type": "scatter",
         "x": {
          "bdata": "AQAAAAIAAAADAAAABAAAAAUAAAAGAAAABwAAAAgAAAAJAAAACgAAAAsAAAAMAAAA",
          "dtype": "i4"
         },
         "y": {
          "bdata": "jVXkDUFBVUDtDovDCs1XQJYvA1YiV1hAsu5W0WSPWEAYRNo+PrVYQLFy9yH9z1hAViEQu/XfWEBsaLauO+lYQLUxlZGC8VhAQ55jy9/4WECaYdHOaP1YQP///////1hA",
          "dtype": "f8"
         }
        }
       ],
       "layout": {
        "annotations": [
         {
          "showarrow": false,
          "text": "95% threshold",
          "x": 1,
          "xanchor": "right",
          "xref": "x domain",
          "y": 95,
          "yanchor": "top",
          "yref": "y"
         },
         {
          "showarrow": false,
          "text": "k = 2",
          "x": 2.5,
          "xanchor": "center",
          "xref": "x",
          "y": 1,
          "yanchor": "bottom",
          "yref": "y domain"
         }
        ],
        "autosize": false,
        "height": 700,
        "hovermode": "x unified",
        "margin": {
         "b": 60,
         "l": 60,
         "r": 20,
         "t": 80
        },
        "shapes": [
         {
          "line": {
           "dash": "dash"
          },
          "type": "line",
          "x0": 0,
          "x1": 1,
          "xref": "x domain",
          "y0": 95,
          "y1": 95,
          "yref": "y"
         },
         {
          "line": {
           "dash": "dash"
          },
          "type": "line",
          "x0": 2.5,
          "x1": 2.5,
          "xref": "x",
          "y0": 0,
          "y1": 1,
          "yref": "y domain"
         }
        ],
        "showlegend": false,
        "template": {
         "data": {
          "bar": [
           {
            "error_x": {
             "color": "#2a3f5f"
            },
            "error_y": {
             "color": "#2a3f5f"
            },
            "marker": {
             "line": {
              "color": "#E5ECF6",
              "width": 0.5
             },
             "pattern": {
              "fillmode": "overlay",
              "size": 10,
              "solidity": 0.2
             }
            },
            "type": "bar"
           }
          ],
          "barpolar": [
           {
            "marker": {
             "line": {
              "color": "#E5ECF6",
              "width": 0.5
             },
             "pattern": {
              "fillmode": "overlay",
              "size": 10,
              "solidity": 0.2
             }
            },
            "type": "barpolar"
           }
          ],
          "carpet": [
           {
            "aaxis": {
             "endlinecolor": "#2a3f5f",
             "gridcolor": "white",
             "linecolor": "white",
             "minorgridcolor": "white",
             "startlinecolor": "#2a3f5f"
            },
            "baxis": {
             "endlinecolor": "#2a3f5f",
             "gridcolor": "white",
             "linecolor": "white",
             "minorgridcolor": "white",
             "startlinecolor": "#2a3f5f"
            },
            "type": "carpet"
           }
          ],
          "choropleth": [
           {
            "colorbar": {
             "outlinewidth": 0,
             "ticks": ""
            },
            "type": "choropleth"
           }
          ],
          "contour": [
           {
            "colorbar": {
             "outlinewidth": 0,
             "ticks": ""
            },
            "colorscale": [
             [
              0,
              "#0d0887"
             ],
             [
              0.1111111111111111,
              "#46039f"
             ],
             [
              0.2222222222222222,
              "#7201a8"
             ],
             [
              0.3333333333333333,
              "#9c179e"
             ],
             [
              0.4444444444444444,
              "#bd3786"
             ],
             [
              0.5555555555555556,
              "#d8576b"
             ],
             [
              0.6666666666666666,
              "#ed7953"
             ],
             [
              0.7777777777777778,
              "#fb9f3a"
             ],
             [
              0.8888888888888888,
              "#fdca26"
             ],
             [
              1,
              "#f0f921"
             ]
            ],
            "type": "contour"
           }
          ],
          "contourcarpet": [
           {
            "colorbar": {
             "outlinewidth": 0,
             "ticks": ""
            },
            "type": "contourcarpet"
           }
          ],
          "heatmap": [
           {
            "colorbar": {
             "outlinewidth": 0,
             "ticks": ""
            },
            "colorscale": [
             [
              0,
              "#0d0887"
             ],
             [
              0.1111111111111111,
              "#46039f"
             ],
             [
              0.2222222222222222,
              "#7201a8"
             ],
             [
              0.3333333333333333,
              "#9c179e"
             ],
             [
              0.4444444444444444,
              "#bd3786"
             ],
             [
              0.5555555555555556,
              "#d8576b"
             ],
             [
              0.6666666666666666,
              "#ed7953"
             ],
             [
              0.7777777777777778,
              "#fb9f3a"
             ],
             [
              0.8888888888888888,
              "#fdca26"
             ],
             [
              1,
              "#f0f921"
             ]
            ],
            "type": "heatmap"
           }
          ],
          "histogram": [
           {
            "marker": {
             "pattern": {
              "fillmode": "overlay",
              "size": 10,
              "solidity": 0.2
             }
            },
            "type": "histogram"
           }
          ],
          "histogram2d": [
           {
            "colorbar": {
             "outlinewidth": 0,
             "ticks": ""
            },
            "colorscale": [
             [
              0,
              "#0d0887"
             ],
             [
              0.1111111111111111,
              "#46039f"
             ],
             [
              0.2222222222222222,
              "#7201a8"
             ],
             [
              0.3333333333333333,
              "#9c179e"
             ],
             [
              0.4444444444444444,
              "#bd3786"
             ],
             [
              0.5555555555555556,
              "#d8576b"
             ],
             [
              0.6666666666666666,
              "#ed7953"
             ],
             [
              0.7777777777777778,
              "#fb9f3a"
             ],
             [
              0.8888888888888888,
              "#fdca26"
             ],
             [
              1,
              "#f0f921"
             ]
            ],
            "type": "histogram2d"
           }
          ],
          "histogram2dcontour": [
           {
            "colorbar": {
             "outlinewidth": 0,
             "ticks": ""
            },
            "colorscale": [
             [
              0,
              "#0d0887"
             ],
             [
              0.1111111111111111,
              "#46039f"
             ],
             [
              0.2222222222222222,
              "#7201a8"
             ],
             [
              0.3333333333333333,
              "#9c179e"
             ],
             [
              0.4444444444444444,
              "#bd3786"
             ],
             [
              0.5555555555555556,
              "#d8576b"
             ],
             [
              0.6666666666666666,
              "#ed7953"
             ],
             [
              0.7777777777777778,
              "#fb9f3a"
             ],
             [
              0.8888888888888888,
              "#fdca26"
             ],
             [
              1,
              "#f0f921"
             ]
            ],
            "type": "histogram2dcontour"
           }
          ],
          "mesh3d": [
           {
            "colorbar": {
             "outlinewidth": 0,
             "ticks": ""
            },
            "type": "mesh3d"
           }
          ],
          "parcoords": [
           {
            "line": {
             "colorbar": {
              "outlinewidth": 0,
              "ticks": ""
             }
            },
            "type": "parcoords"
           }
          ],
          "pie": [
           {
            "automargin": true,
            "type": "pie"
           }
          ],
          "scatter": [
           {
            "fillpattern": {
             "fillmode": "overlay",
             "size": 10,
             "solidity": 0.2
            },
            "type": "scatter"
           }
          ],
          "scatter3d": [
           {
            "line": {
             "colorbar": {
              "outlinewidth": 0,
              "ticks": ""
             }
            },
            "marker": {
             "colorbar": {
              "outlinewidth": 0,
              "ticks": ""
             }
            },
            "type": "scatter3d"
           }
          ],
          "scattercarpet": [
           {
            "marker": {
             "colorbar": {
              "outlinewidth": 0,
              "ticks": ""
             }
            },
            "type": "scattercarpet"
           }
          ],
          "scattergeo": [
           {
            "marker": {
             "colorbar": {
              "outlinewidth": 0,
              "ticks": ""
             }
            },
            "type": "scattergeo"
           }
          ],
          "scattergl": [
           {
            "marker": {
             "colorbar": {
              "outlinewidth": 0,
              "ticks": ""
             }
            },
            "type": "scattergl"
           }
          ],
          "scattermap": [
           {
            "marker": {
             "colorbar": {
              "outlinewidth": 0,
              "ticks": ""
             }
            },
            "type": "scattermap"
           }
          ],
          "scattermapbox": [
           {
            "marker": {
             "colorbar": {
              "outlinewidth": 0,
              "ticks": ""
             }
            },
            "type": "scattermapbox"
           }
          ],
          "scatterpolar": [
           {
            "marker": {
             "colorbar": {
              "outlinewidth": 0,
              "ticks": ""
             }
            },
            "type": "scatterpolar"
           }
          ],
          "scatterpolargl": [
           {
            "marker": {
             "colorbar": {
              "outlinewidth": 0,
              "ticks": ""
             }
            },
            "type": "scatterpolargl"
           }
          ],
          "scatterternary": [
           {
            "marker": {
             "colorbar": {
              "outlinewidth": 0,
              "ticks": ""
             }
            },
            "type": "scatterternary"
           }
          ],
          "surface": [
           {
            "colorbar": {
             "outlinewidth": 0,
             "ticks": ""
            },
            "colorscale": [
             [
              0,
              "#0d0887"
             ],
             [
              0.1111111111111111,
              "#46039f"
             ],
             [
              0.2222222222222222,
              "#7201a8"
             ],
             [
              0.3333333333333333,
              "#9c179e"
             ],
             [
              0.4444444444444444,
              "#bd3786"
             ],
             [
              0.5555555555555556,
              "#d8576b"
             ],
             [
              0.6666666666666666,
              "#ed7953"
             ],
             [
              0.7777777777777778,
              "#fb9f3a"
             ],
             [
              0.8888888888888888,
              "#fdca26"
             ],
             [
              1,
              "#f0f921"
             ]
            ],
            "type": "surface"
           }
          ],
          "table": [
           {
            "cells": {
             "fill": {
              "color": "#EBF0F8"
             },
             "line": {
              "color": "white"
             }
            },
            "header": {
             "fill": {
              "color": "#C8D4E3"
             },
             "line": {
              "color": "white"
             }
            },
            "type": "table"
           }
          ]
         },
         "layout": {
          "annotationdefaults": {
           "arrowcolor": "#2a3f5f",
           "arrowhead": 0,
           "arrowwidth": 1
          },
          "autotypenumbers": "strict",
          "coloraxis": {
           "colorbar": {
            "outlinewidth": 0,
            "ticks": ""
           }
          },
          "colorscale": {
           "diverging": [
            [
             0,
             "#8e0152"
            ],
            [
             0.1,
             "#c51b7d"
            ],
            [
             0.2,
             "#de77ae"
            ],
            [
             0.3,
             "#f1b6da"
            ],
            [
             0.4,
             "#fde0ef"
            ],
            [
             0.5,
             "#f7f7f7"
            ],
            [
             0.6,
             "#e6f5d0"
            ],
            [
             0.7,
             "#b8e186"
            ],
            [
             0.8,
             "#7fbc41"
            ],
            [
             0.9,
             "#4d9221"
            ],
            [
             1,
             "#276419"
            ]
           ],
           "sequential": [
            [
             0,
             "#0d0887"
            ],
            [
             0.1111111111111111,
             "#46039f"
            ],
            [
             0.2222222222222222,
             "#7201a8"
            ],
            [
             0.3333333333333333,
             "#9c179e"
            ],
            [
             0.4444444444444444,
             "#bd3786"
            ],
            [
             0.5555555555555556,
             "#d8576b"
            ],
            [
             0.6666666666666666,
             "#ed7953"
            ],
            [
             0.7777777777777778,
             "#fb9f3a"
            ],
            [
             0.8888888888888888,
             "#fdca26"
            ],
            [
             1,
             "#f0f921"
            ]
           ],
           "sequentialminus": [
            [
             0,
             "#0d0887"
            ],
            [
             0.1111111111111111,
             "#46039f"
            ],
            [
             0.2222222222222222,
             "#7201a8"
            ],
            [
             0.3333333333333333,
             "#9c179e"
            ],
            [
             0.4444444444444444,
             "#bd3786"
            ],
            [
             0.5555555555555556,
             "#d8576b"
            ],
            [
             0.6666666666666666,
             "#ed7953"
            ],
            [
             0.7777777777777778,
             "#fb9f3a"
            ],
            [
             0.8888888888888888,
             "#fdca26"
            ],
            [
             1,
             "#f0f921"
            ]
           ]
          },
          "colorway": [
           "#636efa",
           "#EF553B",
           "#00cc96",
           "#ab63fa",
           "#FFA15A",
           "#19d3f3",
           "#FF6692",
           "#B6E880",
           "#FF97FF",
           "#FECB52"
          ],
          "font": {
           "color": "#2a3f5f"
          },
          "geo": {
           "bgcolor": "white",
           "lakecolor": "white",
           "landcolor": "#E5ECF6",
           "showlakes": true,
           "showland": true,
           "subunitcolor": "white"
          },
          "hoverlabel": {
           "align": "left"
          },
          "hovermode": "closest",
          "mapbox": {
           "style": "light"
          },
          "paper_bgcolor": "white",
          "plot_bgcolor": "#E5ECF6",
          "polar": {
           "angularaxis": {
            "gridcolor": "white",
            "linecolor": "white",
            "ticks": ""
           },
           "bgcolor": "#E5ECF6",
           "radialaxis": {
            "gridcolor": "white",
            "linecolor": "white",
            "ticks": ""
           }
          },
          "scene": {
           "xaxis": {
            "backgroundcolor": "#E5ECF6",
            "gridcolor": "white",
            "gridwidth": 2,
            "linecolor": "white",
            "showbackground": true,
            "ticks": "",
            "zerolinecolor": "white"
           },
           "yaxis": {
            "backgroundcolor": "#E5ECF6",
            "gridcolor": "white",
            "gridwidth": 2,
            "linecolor": "white",
            "showbackground": true,
            "ticks": "",
            "zerolinecolor": "white"
           },
           "zaxis": {
            "backgroundcolor": "#E5ECF6",
            "gridcolor": "white",
            "gridwidth": 2,
            "linecolor": "white",
            "showbackground": true,
            "ticks": "",
            "zerolinecolor": "white"
           }
          },
          "shapedefaults": {
           "line": {
            "color": "#2a3f5f"
           }
          },
          "ternary": {
           "aaxis": {
            "gridcolor": "white",
            "linecolor": "white",
            "ticks": ""
           },
           "baxis": {
            "gridcolor": "white",
            "linecolor": "white",
            "ticks": ""
           },
           "bgcolor": "#E5ECF6",
           "caxis": {
            "gridcolor": "white",
            "linecolor": "white",
            "ticks": ""
           }
          },
          "title": {
           "x": 0.05
          },
          "xaxis": {
           "automargin": true,
           "gridcolor": "white",
           "linecolor": "white",
           "ticks": "",
           "title": {
            "standoff": 15
           },
           "zerolinecolor": "white",
           "zerolinewidth": 2
          },
          "yaxis": {
           "automargin": true,
           "gridcolor": "white",
           "linecolor": "white",
           "ticks": "",
           "title": {
            "standoff": 15
           },
           "zerolinecolor": "white",
           "zerolinewidth": 2
          }
         }
        },
        "title": {
         "text": "PCA Cumulative Explained Variance"
        },
        "width": 900,
        "xaxis": {
         "title": {
          "text": "Principal component"
         }
        },
        "yaxis": {
         "rangemode": "tozero",
         "title": {
          "text": "Cumulative explained variance (%)"
         }
        }
       }
      }
     },
     "metadata": {},
     "output_type": "display_data"
    }
   ],
   "source": [
    "# 5) Explained variance — cumulative\n",
    "fig5 = fig_pca_cumulative(p[\"cumvar_all\"], p[\"k\"], retain=p[\"retain\"]); fig5.show()"
   ]
  },
  {
   "cell_type": "code",
   "execution_count": 8,
   "id": "4604a625",
   "metadata": {},
   "outputs": [
    {
     "name": "stdout",
     "output_type": "stream",
     "text": [
      "Outliers (alpha = 1.00%)\n",
      "\n",
      "    City  Q_residual       T2\n",
      "  Vienna    5.603110 1.152162\n",
      "Marbella    0.301382 8.483886\n"
     ]
    },
    {
     "data": {
      "application/vnd.plotly.v1+json": {
       "config": {
        "plotlyServerURL": "https://plot.ly"
       },
       "data": [
        {
         "hovertemplate": "<b>%{text}</b><br>T²=%{x:.3f}<br>Q=%{y:.3f}<extra></extra>",
         "marker": {
          "opacity": 0.9,
          "size": 8
         },
         "mode": "markers+text",
         "text": [
          "Amsterdam",
          "Ankara",
          "Athens",
          "Belgrade",
          "Berlin",
          "Bern",
          "Bonn",
          "Bruxells",
          "Bucarest",
          "Budapest",
          "Copenhagen",
          "Dublin",
          "Helsinki",
          "Lisbon",
          "London",
          "Luxemborg",
          "Marbella",
          "Moscow",
          "Oslo",
          "Paris",
          "Prague",
          "Rome",
          "Sofia",
          "Stockholm",
          "Vienna",
          "Warsaw",
          "Bratislava",
          "St. Petersberg",
          "Ljubljana",
          "Madrid",
          "Milan",
          "Edinburgh",
          "Skopje"
         ],
         "textfont": {
          "size": 10
         },
         "textposition": "top center",
         "type": "scatter",
         "x": {
          "bdata": "idsD8/vjAUB91O8smjThP4bf/jLnwxFArhArd+QI5D87uaVrQzvKP4/5Z1Z+ZeA/B1zQaDZz3z/1HpgnpzDoP7zl31Z8ZwFA4YHlwOXt9j+qwyJebtfiP4YZmd/FMBdAMDtjAfgVDUBOmS3RfLkKQETKanHTEfQ/otNRBklK4D96wXnav/cgQNJMtvO65h5A4lhiRYbz+T/1rDwXbZLMP4+X4pvWsuA/cdqlgrsR+T+mxEVtmTXQP6XQgOfJhvQ/jm7/9kBv8j/+vflmf4LtP+C6KAr1rM8/tY5NKhPOGUCK2Zaj6pazP0+15Wg88PA/hEBH5f3U3z9qWzUIPAcAQL8rSE/w7vU/",
          "dtype": "f8"
         },
         "y": {
          "bdata": "vpQcbzJM0T8Kec9wXzbeP3yeKVCedeM/pTLNvjuZ0j8O4SgvaI7NP9hka4/vDNc/6QcMi+396z9PNCjaO/3bP0B1hAQXFtg/fJfofcut0j+cpscEP/DKPzW/lKTRic0/x2c0Zb+/5z+XBsuXAVC/P8LPCvyFy8M/ktWdbTki4j9e4sYA2UnTP4bJihnJkeo/cX/GK1BZ9z+KyEOAZ5XRP+rjh2tfwMU/BFN44yfR0D+ZzeWGsS3RP5j56f61LuY/6QwMlpVpFkAIXIUPE4XnP9yCRQ/m1tA/u/Ch24JxtD9k/7Cgnz7JP/wzBd1LWeg/pPSCkPE0zz9sMfp74T/bPyd4f1Z5psc/",
          "dtype": "f8"
         }
        }
       ],
       "layout": {
        "autosize": false,
        "height": 700,
        "hovermode": "closest",
        "margin": {
         "b": 60,
         "l": 60,
         "r": 20,
         "t": 80
        },
        "shapes": [
         {
          "line": {
           "dash": "dash"
          },
          "type": "line",
          "x0": 8.241145421187618,
          "x1": 8.241145421187618,
          "xref": "x",
          "y0": 0,
          "y1": 1,
          "yref": "y domain"
         },
         {
          "line": {
           "dash": "dash"
          },
          "type": "line",
          "x0": 0,
          "x1": 1,
          "xref": "x domain",
          "y0": 4.277092179269186,
          "y1": 4.277092179269186,
          "yref": "y"
         }
        ],
        "template": {
         "data": {
          "bar": [
           {
            "error_x": {
             "color": "#2a3f5f"
            },
            "error_y": {
             "color": "#2a3f5f"
            },
            "marker": {
             "line": {
              "color": "#E5ECF6",
              "width": 0.5
             },
             "pattern": {
              "fillmode": "overlay",
              "size": 10,
              "solidity": 0.2
             }
            },
            "type": "bar"
           }
          ],
          "barpolar": [
           {
            "marker": {
             "line": {
              "color": "#E5ECF6",
              "width": 0.5
             },
             "pattern": {
              "fillmode": "overlay",
              "size": 10,
              "solidity": 0.2
             }
            },
            "type": "barpolar"
           }
          ],
          "carpet": [
           {
            "aaxis": {
             "endlinecolor": "#2a3f5f",
             "gridcolor": "white",
             "linecolor": "white",
             "minorgridcolor": "white",
             "startlinecolor": "#2a3f5f"
            },
            "baxis": {
             "endlinecolor": "#2a3f5f",
             "gridcolor": "white",
             "linecolor": "white",
             "minorgridcolor": "white",
             "startlinecolor": "#2a3f5f"
            },
            "type": "carpet"
           }
          ],
          "choropleth": [
           {
            "colorbar": {
             "outlinewidth": 0,
             "ticks": ""
            },
            "type": "choropleth"
           }
          ],
          "contour": [
           {
            "colorbar": {
             "outlinewidth": 0,
             "ticks": ""
            },
            "colorscale": [
             [
              0,
              "#0d0887"
             ],
             [
              0.1111111111111111,
              "#46039f"
             ],
             [
              0.2222222222222222,
              "#7201a8"
             ],
             [
              0.3333333333333333,
              "#9c179e"
             ],
             [
              0.4444444444444444,
              "#bd3786"
             ],
             [
              0.5555555555555556,
              "#d8576b"
             ],
             [
              0.6666666666666666,
              "#ed7953"
             ],
             [
              0.7777777777777778,
              "#fb9f3a"
             ],
             [
              0.8888888888888888,
              "#fdca26"
             ],
             [
              1,
              "#f0f921"
             ]
            ],
            "type": "contour"
           }
          ],
          "contourcarpet": [
           {
            "colorbar": {
             "outlinewidth": 0,
             "ticks": ""
            },
            "type": "contourcarpet"
           }
          ],
          "heatmap": [
           {
            "colorbar": {
             "outlinewidth": 0,
             "ticks": ""
            },
            "colorscale": [
             [
              0,
              "#0d0887"
             ],
             [
              0.1111111111111111,
              "#46039f"
             ],
             [
              0.2222222222222222,
              "#7201a8"
             ],
             [
              0.3333333333333333,
              "#9c179e"
             ],
             [
              0.4444444444444444,
              "#bd3786"
             ],
             [
              0.5555555555555556,
              "#d8576b"
             ],
             [
              0.6666666666666666,
              "#ed7953"
             ],
             [
              0.7777777777777778,
              "#fb9f3a"
             ],
             [
              0.8888888888888888,
              "#fdca26"
             ],
             [
              1,
              "#f0f921"
             ]
            ],
            "type": "heatmap"
           }
          ],
          "histogram": [
           {
            "marker": {
             "pattern": {
              "fillmode": "overlay",
              "size": 10,
              "solidity": 0.2
             }
            },
            "type": "histogram"
           }
          ],
          "histogram2d": [
           {
            "colorbar": {
             "outlinewidth": 0,
             "ticks": ""
            },
            "colorscale": [
             [
              0,
              "#0d0887"
             ],
             [
              0.1111111111111111,
              "#46039f"
             ],
             [
              0.2222222222222222,
              "#7201a8"
             ],
             [
              0.3333333333333333,
              "#9c179e"
             ],
             [
              0.4444444444444444,
              "#bd3786"
             ],
             [
              0.5555555555555556,
              "#d8576b"
             ],
             [
              0.6666666666666666,
              "#ed7953"
             ],
             [
              0.7777777777777778,
              "#fb9f3a"
             ],
             [
              0.8888888888888888,
              "#fdca26"
             ],
             [
              1,
              "#f0f921"
             ]
            ],
            "type": "histogram2d"
           }
          ],
          "histogram2dcontour": [
           {
            "colorbar": {
             "outlinewidth": 0,
             "ticks": ""
            },
            "colorscale": [
             [
              0,
              "#0d0887"
             ],
             [
              0.1111111111111111,
              "#46039f"
             ],
             [
              0.2222222222222222,
              "#7201a8"
             ],
             [
              0.3333333333333333,
              "#9c179e"
             ],
             [
              0.4444444444444444,
              "#bd3786"
             ],
             [
              0.5555555555555556,
              "#d8576b"
             ],
             [
              0.6666666666666666,
              "#ed7953"
             ],
             [
              0.7777777777777778,
              "#fb9f3a"
             ],
             [
              0.8888888888888888,
              "#fdca26"
             ],
             [
              1,
              "#f0f921"
             ]
            ],
            "type": "histogram2dcontour"
           }
          ],
          "mesh3d": [
           {
            "colorbar": {
             "outlinewidth": 0,
             "ticks": ""
            },
            "type": "mesh3d"
           }
          ],
          "parcoords": [
           {
            "line": {
             "colorbar": {
              "outlinewidth": 0,
              "ticks": ""
             }
            },
            "type": "parcoords"
           }
          ],
          "pie": [
           {
            "automargin": true,
            "type": "pie"
           }
          ],
          "scatter": [
           {
            "fillpattern": {
             "fillmode": "overlay",
             "size": 10,
             "solidity": 0.2
            },
            "type": "scatter"
           }
          ],
          "scatter3d": [
           {
            "line": {
             "colorbar": {
              "outlinewidth": 0,
              "ticks": ""
             }
            },
            "marker": {
             "colorbar": {
              "outlinewidth": 0,
              "ticks": ""
             }
            },
            "type": "scatter3d"
           }
          ],
          "scattercarpet": [
           {
            "marker": {
             "colorbar": {
              "outlinewidth": 0,
              "ticks": ""
             }
            },
            "type": "scattercarpet"
           }
          ],
          "scattergeo": [
           {
            "marker": {
             "colorbar": {
              "outlinewidth": 0,
              "ticks": ""
             }
            },
            "type": "scattergeo"
           }
          ],
          "scattergl": [
           {
            "marker": {
             "colorbar": {
              "outlinewidth": 0,
              "ticks": ""
             }
            },
            "type": "scattergl"
           }
          ],
          "scattermap": [
           {
            "marker": {
             "colorbar": {
              "outlinewidth": 0,
              "ticks": ""
             }
            },
            "type": "scattermap"
           }
          ],
          "scattermapbox": [
           {
            "marker": {
             "colorbar": {
              "outlinewidth": 0,
              "ticks": ""
             }
            },
            "type": "scattermapbox"
           }
          ],
          "scatterpolar": [
           {
            "marker": {
             "colorbar": {
              "outlinewidth": 0,
              "ticks": ""
             }
            },
            "type": "scatterpolar"
           }
          ],
          "scatterpolargl": [
           {
            "marker": {
             "colorbar": {
              "outlinewidth": 0,
              "ticks": ""
             }
            },
            "type": "scatterpolargl"
           }
          ],
          "scatterternary": [
           {
            "marker": {
             "colorbar": {
              "outlinewidth": 0,
              "ticks": ""
             }
            },
            "type": "scatterternary"
           }
          ],
          "surface": [
           {
            "colorbar": {
             "outlinewidth": 0,
             "ticks": ""
            },
            "colorscale": [
             [
              0,
              "#0d0887"
             ],
             [
              0.1111111111111111,
              "#46039f"
             ],
             [
              0.2222222222222222,
              "#7201a8"
             ],
             [
              0.3333333333333333,
              "#9c179e"
             ],
             [
              0.4444444444444444,
              "#bd3786"
             ],
             [
              0.5555555555555556,
              "#d8576b"
             ],
             [
              0.6666666666666666,
              "#ed7953"
             ],
             [
              0.7777777777777778,
              "#fb9f3a"
             ],
             [
              0.8888888888888888,
              "#fdca26"
             ],
             [
              1,
              "#f0f921"
             ]
            ],
            "type": "surface"
           }
          ],
          "table": [
           {
            "cells": {
             "fill": {
              "color": "#EBF0F8"
             },
             "line": {
              "color": "white"
             }
            },
            "header": {
             "fill": {
              "color": "#C8D4E3"
             },
             "line": {
              "color": "white"
             }
            },
            "type": "table"
           }
          ]
         },
         "layout": {
          "annotationdefaults": {
           "arrowcolor": "#2a3f5f",
           "arrowhead": 0,
           "arrowwidth": 1
          },
          "autotypenumbers": "strict",
          "coloraxis": {
           "colorbar": {
            "outlinewidth": 0,
            "ticks": ""
           }
          },
          "colorscale": {
           "diverging": [
            [
             0,
             "#8e0152"
            ],
            [
             0.1,
             "#c51b7d"
            ],
            [
             0.2,
             "#de77ae"
            ],
            [
             0.3,
             "#f1b6da"
            ],
            [
             0.4,
             "#fde0ef"
            ],
            [
             0.5,
             "#f7f7f7"
            ],
            [
             0.6,
             "#e6f5d0"
            ],
            [
             0.7,
             "#b8e186"
            ],
            [
             0.8,
             "#7fbc41"
            ],
            [
             0.9,
             "#4d9221"
            ],
            [
             1,
             "#276419"
            ]
           ],
           "sequential": [
            [
             0,
             "#0d0887"
            ],
            [
             0.1111111111111111,
             "#46039f"
            ],
            [
             0.2222222222222222,
             "#7201a8"
            ],
            [
             0.3333333333333333,
             "#9c179e"
            ],
            [
             0.4444444444444444,
             "#bd3786"
            ],
            [
             0.5555555555555556,
             "#d8576b"
            ],
            [
             0.6666666666666666,
             "#ed7953"
            ],
            [
             0.7777777777777778,
             "#fb9f3a"
            ],
            [
             0.8888888888888888,
             "#fdca26"
            ],
            [
             1,
             "#f0f921"
            ]
           ],
           "sequentialminus": [
            [
             0,
             "#0d0887"
            ],
            [
             0.1111111111111111,
             "#46039f"
            ],
            [
             0.2222222222222222,
             "#7201a8"
            ],
            [
             0.3333333333333333,
             "#9c179e"
            ],
            [
             0.4444444444444444,
             "#bd3786"
            ],
            [
             0.5555555555555556,
             "#d8576b"
            ],
            [
             0.6666666666666666,
             "#ed7953"
            ],
            [
             0.7777777777777778,
             "#fb9f3a"
            ],
            [
             0.8888888888888888,
             "#fdca26"
            ],
            [
             1,
             "#f0f921"
            ]
           ]
          },
          "colorway": [
           "#636efa",
           "#EF553B",
           "#00cc96",
           "#ab63fa",
           "#FFA15A",
           "#19d3f3",
           "#FF6692",
           "#B6E880",
           "#FF97FF",
           "#FECB52"
          ],
          "font": {
           "color": "#2a3f5f"
          },
          "geo": {
           "bgcolor": "white",
           "lakecolor": "white",
           "landcolor": "#E5ECF6",
           "showlakes": true,
           "showland": true,
           "subunitcolor": "white"
          },
          "hoverlabel": {
           "align": "left"
          },
          "hovermode": "closest",
          "mapbox": {
           "style": "light"
          },
          "paper_bgcolor": "white",
          "plot_bgcolor": "#E5ECF6",
          "polar": {
           "angularaxis": {
            "gridcolor": "white",
            "linecolor": "white",
            "ticks": ""
           },
           "bgcolor": "#E5ECF6",
           "radialaxis": {
            "gridcolor": "white",
            "linecolor": "white",
            "ticks": ""
           }
          },
          "scene": {
           "xaxis": {
            "backgroundcolor": "#E5ECF6",
            "gridcolor": "white",
            "gridwidth": 2,
            "linecolor": "white",
            "showbackground": true,
            "ticks": "",
            "zerolinecolor": "white"
           },
           "yaxis": {
            "backgroundcolor": "#E5ECF6",
            "gridcolor": "white",
            "gridwidth": 2,
            "linecolor": "white",
            "showbackground": true,
            "ticks": "",
            "zerolinecolor": "white"
           },
           "zaxis": {
            "backgroundcolor": "#E5ECF6",
            "gridcolor": "white",
            "gridwidth": 2,
            "linecolor": "white",
            "showbackground": true,
            "ticks": "",
            "zerolinecolor": "white"
           }
          },
          "shapedefaults": {
           "line": {
            "color": "#2a3f5f"
           }
          },
          "ternary": {
           "aaxis": {
            "gridcolor": "white",
            "linecolor": "white",
            "ticks": ""
           },
           "baxis": {
            "gridcolor": "white",
            "linecolor": "white",
            "ticks": ""
           },
           "bgcolor": "#E5ECF6",
           "caxis": {
            "gridcolor": "white",
            "linecolor": "white",
            "ticks": ""
           }
          },
          "title": {
           "x": 0.05
          },
          "xaxis": {
           "automargin": true,
           "gridcolor": "white",
           "linecolor": "white",
           "ticks": "",
           "title": {
            "standoff": 15
           },
           "zerolinecolor": "white",
           "zerolinewidth": 2
          },
          "yaxis": {
           "automargin": true,
           "gridcolor": "white",
           "linecolor": "white",
           "ticks": "",
           "title": {
            "standoff": 15
           },
           "zerolinecolor": "white",
           "zerolinewidth": 2
          }
         }
        },
        "title": {
         "text": "PCA Residual Outlier Map (α=0.01, k=2)"
        },
        "width": 900,
        "xaxis": {
         "title": {
          "text": "Hotelling T²"
         }
        },
        "yaxis": {
         "title": {
          "text": "Q residual (SPE)"
         }
        }
       }
      }
     },
     "metadata": {},
     "output_type": "display_data"
    }
   ],
   "source": [
    "# 6) Residual outlier map\n",
    "fig6 = fig_pca_residual_map(p[\"X_proc\"], p[\"Z\"], p[\"P\"], p[\"eig\"], p[\"cities\"]); fig6.show()"
   ]
  },
  {
   "cell_type": "code",
   "execution_count": 9,
   "id": "1906466e",
   "metadata": {},
   "outputs": [
    {
     "name": "stdout",
     "output_type": "stream",
     "text": [
      "LOO PCA widget unavailable: Please install anywidget to use the FigureWidget class\n",
      "Falling back to dropdown-based figure (no widgets needed).\n"
     ]
    },
    {
     "data": {
      "application/vnd.plotly.v1+json": {
       "config": {
        "plotlyServerURL": "https://plot.ly"
       },
       "data": [
        {
         "marker": {
          "color": "red",
          "opacity": 0.9,
          "size": 8
         },
         "mode": "markers+text",
         "name": "LOO (train without selected city)",
         "text": [
          "Amsterdam",
          "Ankara",
          "Athens",
          "Belgrade",
          "Berlin",
          "Bern",
          "Bonn",
          "Bruxells",
          "Bucarest",
          "Budapest",
          "Copenhagen",
          "Dublin",
          "Helsinki",
          "Lisbon",
          "London",
          "Luxemborg",
          "Marbella",
          "Moscow",
          "Oslo",
          "Paris",
          "Prague",
          "Rome",
          "Sofia",
          "Stockholm",
          "Vienna",
          "Warsaw",
          "Bratislava",
          "St. Petersberg",
          "Ljubljana",
          "Madrid",
          "Milan",
          "Edinburgh",
          "Skopje"
         ],
         "textfont": {
          "size": 10
         },
         "textposition": "top center",
         "type": "scatter",
         "x": {
          "bdata": "h8BANju++b92juHVH93qPy18xZoSDxlAycw2cUM5/T+MLx09M5zyv0INSifMOfW/wnXUrXhL47+Lhx0Qnn7Tv6tI1QVr1OA/ZUdfybA76z/FTQhWMAoAwBrFfLtxxAHAwsQf+UbCFsDq5ePBFtUVQCxnJhtjfwNACZYspTT187+09NaQ2MgiQLEgTfQndRbAOt8j2JURDsBHOtQz7aDzP+7iSC2Rwu2/MXgFl7M1EEAkfzg/2e7OP2+ZIqVTVQ3A1Y+2Uaz08r/LfsBYanD2vyz6B45v79W/jo3zb7jy/r/RJRMnKnW7v8jrOQlcXgpAG0TVxKMH+z+YaHSOYk4RwOyeXlxyXfU/",
          "dtype": "f8"
         },
         "y": {
          "bdata": "ZkjniR9X+T8ifNoNdaXov0BHmffnSu6/P33E9Dr4479Jkrd1MtrTv9ccPAeuGuU/FbZIRwhI6D/fY8XiJw3vP7IiRRE3Vfq/sZV+d9T69L+NsaZEVlXgP2dlrfFjuwRA3udmPKna6r9YF8vjnaHpP6jC9PkH1u0/DjJ0ugCX5T/iyau5TKbWP8lg1LvvhwPAAXZM3Lj74j/Cn03n+VfUP2S5qVq20ee/Oq31iaYqtr8GK6/BReHhv7DWpaI2c7S/P4Fi7TMh8j8z3DwNsM3uv29vk2uFduG/GuKmt24sBkBRt/okhrvTv1niRzkhMse/hHtPqSAV4b/XVFe2EwThv+0SprAFsPO/",
          "dtype": "f8"
         }
        },
        {
         "marker": {
          "color": "blue",
          "opacity": 0.9,
          "size": 8
         },
         "mode": "markers+text",
         "name": "Full (train with all cities)",
         "text": [
          "Amsterdam",
          "Ankara",
          "Athens",
          "Belgrade",
          "Berlin",
          "Bern",
          "Bonn",
          "Bruxells",
          "Bucarest",
          "Budapest",
          "Copenhagen",
          "Dublin",
          "Helsinki",
          "Lisbon",
          "London",
          "Luxemborg",
          "Marbella",
          "Moscow",
          "Oslo",
          "Paris",
          "Prague",
          "Rome",
          "Sofia",
          "Stockholm",
          "Vienna",
          "Warsaw",
          "Bratislava",
          "St. Petersberg",
          "Ljubljana",
          "Madrid",
          "Milan",
          "Edinburgh",
          "Skopje"
         ],
         "textfont": {
          "size": 10
         },
         "textposition": "bottom center",
         "type": "scatter",
         "x": {
          "bdata": "h8BANju++b92juHVH93qPy18xZoSDxlAycw2cUM5/T+MLx09M5zyv0INSifMOfW/wnXUrXhL47+Lhx0Qnn7Tv6tI1QVr1OA/ZUdfybA76z/FTQhWMAoAwBrFfLtxxAHAwsQf+UbCFsDq5ePBFtUVQCxnJhtjfwNACZYspTT187+09NaQ2MgiQLEgTfQndRbAOt8j2JURDsBHOtQz7aDzP+7iSC2Rwu2/MXgFl7M1EEAkfzg/2e7OP2+ZIqVTVQ3A1Y+2Uaz08r/LfsBYanD2vyz6B45v79W/jo3zb7jy/r/RJRMnKnW7v8jrOQlcXgpAG0TVxKMH+z+YaHSOYk4RwOyeXlxyXfU/",
          "dtype": "f8"
         },
         "y": {
          "bdata": "ZkjniR9X+T8ifNoNdaXov0BHmffnSu6/P33E9Dr4479Jkrd1MtrTv9ccPAeuGuU/FbZIRwhI6D/fY8XiJw3vP7IiRRE3Vfq/sZV+d9T69L+NsaZEVlXgP2dlrfFjuwRA3udmPKna6r9YF8vjnaHpP6jC9PkH1u0/DjJ0ugCX5T/iyau5TKbWP8lg1LvvhwPAAXZM3Lj74j/Cn03n+VfUP2S5qVq20ee/Oq31iaYqtr8GK6/BReHhv7DWpaI2c7S/P4Fi7TMh8j8z3DwNsM3uv29vk2uFduG/GuKmt24sBkBRt/okhrvTv1niRzkhMse/hHtPqSAV4b/XVFe2EwThv+0SprAFsPO/",
          "dtype": "f8"
         }
        }
       ],
       "layout": {
        "annotations": [
         {
          "showarrow": false,
          "text": "Leave out:",
          "x": 0.02,
          "xanchor": "left",
          "xref": "paper",
          "y": 1.23,
          "yanchor": "top",
          "yref": "paper"
         }
        ],
        "autosize": false,
        "height": 800,
        "hovermode": "closest",
        "legend": {
         "orientation": "h",
         "x": 0,
         "xanchor": "left",
         "y": 1.02,
         "yanchor": "bottom"
        },
        "margin": {
         "b": 60,
         "l": 60,
         "r": 20,
         "t": 90
        },
        "shapes": [
         {
          "line": {
           "width": 1
          },
          "type": "line",
          "x0": 0,
          "x1": 1,
          "xref": "x domain",
          "y0": 0,
          "y1": 0,
          "yref": "y"
         },
         {
          "line": {
           "width": 1
          },
          "type": "line",
          "x0": 0,
          "x1": 0,
          "xref": "x",
          "y0": 0,
          "y1": 1,
          "yref": "y domain"
         }
        ],
        "template": {
         "data": {
          "bar": [
           {
            "error_x": {
             "color": "#2a3f5f"
            },
            "error_y": {
             "color": "#2a3f5f"
            },
            "marker": {
             "line": {
              "color": "#E5ECF6",
              "width": 0.5
             },
             "pattern": {
              "fillmode": "overlay",
              "size": 10,
              "solidity": 0.2
             }
            },
            "type": "bar"
           }
          ],
          "barpolar": [
           {
            "marker": {
             "line": {
              "color": "#E5ECF6",
              "width": 0.5
             },
             "pattern": {
              "fillmode": "overlay",
              "size": 10,
              "solidity": 0.2
             }
            },
            "type": "barpolar"
           }
          ],
          "carpet": [
           {
            "aaxis": {
             "endlinecolor": "#2a3f5f",
             "gridcolor": "white",
             "linecolor": "white",
             "minorgridcolor": "white",
             "startlinecolor": "#2a3f5f"
            },
            "baxis": {
             "endlinecolor": "#2a3f5f",
             "gridcolor": "white",
             "linecolor": "white",
             "minorgridcolor": "white",
             "startlinecolor": "#2a3f5f"
            },
            "type": "carpet"
           }
          ],
          "choropleth": [
           {
            "colorbar": {
             "outlinewidth": 0,
             "ticks": ""
            },
            "type": "choropleth"
           }
          ],
          "contour": [
           {
            "colorbar": {
             "outlinewidth": 0,
             "ticks": ""
            },
            "colorscale": [
             [
              0,
              "#0d0887"
             ],
             [
              0.1111111111111111,
              "#46039f"
             ],
             [
              0.2222222222222222,
              "#7201a8"
             ],
             [
              0.3333333333333333,
              "#9c179e"
             ],
             [
              0.4444444444444444,
              "#bd3786"
             ],
             [
              0.5555555555555556,
              "#d8576b"
             ],
             [
              0.6666666666666666,
              "#ed7953"
             ],
             [
              0.7777777777777778,
              "#fb9f3a"
             ],
             [
              0.8888888888888888,
              "#fdca26"
             ],
             [
              1,
              "#f0f921"
             ]
            ],
            "type": "contour"
           }
          ],
          "contourcarpet": [
           {
            "colorbar": {
             "outlinewidth": 0,
             "ticks": ""
            },
            "type": "contourcarpet"
           }
          ],
          "heatmap": [
           {
            "colorbar": {
             "outlinewidth": 0,
             "ticks": ""
            },
            "colorscale": [
             [
              0,
              "#0d0887"
             ],
             [
              0.1111111111111111,
              "#46039f"
             ],
             [
              0.2222222222222222,
              "#7201a8"
             ],
             [
              0.3333333333333333,
              "#9c179e"
             ],
             [
              0.4444444444444444,
              "#bd3786"
             ],
             [
              0.5555555555555556,
              "#d8576b"
             ],
             [
              0.6666666666666666,
              "#ed7953"
             ],
             [
              0.7777777777777778,
              "#fb9f3a"
             ],
             [
              0.8888888888888888,
              "#fdca26"
             ],
             [
              1,
              "#f0f921"
             ]
            ],
            "type": "heatmap"
           }
          ],
          "histogram": [
           {
            "marker": {
             "pattern": {
              "fillmode": "overlay",
              "size": 10,
              "solidity": 0.2
             }
            },
            "type": "histogram"
           }
          ],
          "histogram2d": [
           {
            "colorbar": {
             "outlinewidth": 0,
             "ticks": ""
            },
            "colorscale": [
             [
              0,
              "#0d0887"
             ],
             [
              0.1111111111111111,
              "#46039f"
             ],
             [
              0.2222222222222222,
              "#7201a8"
             ],
             [
              0.3333333333333333,
              "#9c179e"
             ],
             [
              0.4444444444444444,
              "#bd3786"
             ],
             [
              0.5555555555555556,
              "#d8576b"
             ],
             [
              0.6666666666666666,
              "#ed7953"
             ],
             [
              0.7777777777777778,
              "#fb9f3a"
             ],
             [
              0.8888888888888888,
              "#fdca26"
             ],
             [
              1,
              "#f0f921"
             ]
            ],
            "type": "histogram2d"
           }
          ],
          "histogram2dcontour": [
           {
            "colorbar": {
             "outlinewidth": 0,
             "ticks": ""
            },
            "colorscale": [
             [
              0,
              "#0d0887"
             ],
             [
              0.1111111111111111,
              "#46039f"
             ],
             [
              0.2222222222222222,
              "#7201a8"
             ],
             [
              0.3333333333333333,
              "#9c179e"
             ],
             [
              0.4444444444444444,
              "#bd3786"
             ],
             [
              0.5555555555555556,
              "#d8576b"
             ],
             [
              0.6666666666666666,
              "#ed7953"
             ],
             [
              0.7777777777777778,
              "#fb9f3a"
             ],
             [
              0.8888888888888888,
              "#fdca26"
             ],
             [
              1,
              "#f0f921"
             ]
            ],
            "type": "histogram2dcontour"
           }
          ],
          "mesh3d": [
           {
            "colorbar": {
             "outlinewidth": 0,
             "ticks": ""
            },
            "type": "mesh3d"
           }
          ],
          "parcoords": [
           {
            "line": {
             "colorbar": {
              "outlinewidth": 0,
              "ticks": ""
             }
            },
            "type": "parcoords"
           }
          ],
          "pie": [
           {
            "automargin": true,
            "type": "pie"
           }
          ],
          "scatter": [
           {
            "fillpattern": {
             "fillmode": "overlay",
             "size": 10,
             "solidity": 0.2
            },
            "type": "scatter"
           }
          ],
          "scatter3d": [
           {
            "line": {
             "colorbar": {
              "outlinewidth": 0,
              "ticks": ""
             }
            },
            "marker": {
             "colorbar": {
              "outlinewidth": 0,
              "ticks": ""
             }
            },
            "type": "scatter3d"
           }
          ],
          "scattercarpet": [
           {
            "marker": {
             "colorbar": {
              "outlinewidth": 0,
              "ticks": ""
             }
            },
            "type": "scattercarpet"
           }
          ],
          "scattergeo": [
           {
            "marker": {
             "colorbar": {
              "outlinewidth": 0,
              "ticks": ""
             }
            },
            "type": "scattergeo"
           }
          ],
          "scattergl": [
           {
            "marker": {
             "colorbar": {
              "outlinewidth": 0,
              "ticks": ""
             }
            },
            "type": "scattergl"
           }
          ],
          "scattermap": [
           {
            "marker": {
             "colorbar": {
              "outlinewidth": 0,
              "ticks": ""
             }
            },
            "type": "scattermap"
           }
          ],
          "scattermapbox": [
           {
            "marker": {
             "colorbar": {
              "outlinewidth": 0,
              "ticks": ""
             }
            },
            "type": "scattermapbox"
           }
          ],
          "scatterpolar": [
           {
            "marker": {
             "colorbar": {
              "outlinewidth": 0,
              "ticks": ""
             }
            },
            "type": "scatterpolar"
           }
          ],
          "scatterpolargl": [
           {
            "marker": {
             "colorbar": {
              "outlinewidth": 0,
              "ticks": ""
             }
            },
            "type": "scatterpolargl"
           }
          ],
          "scatterternary": [
           {
            "marker": {
             "colorbar": {
              "outlinewidth": 0,
              "ticks": ""
             }
            },
            "type": "scatterternary"
           }
          ],
          "surface": [
           {
            "colorbar": {
             "outlinewidth": 0,
             "ticks": ""
            },
            "colorscale": [
             [
              0,
              "#0d0887"
             ],
             [
              0.1111111111111111,
              "#46039f"
             ],
             [
              0.2222222222222222,
              "#7201a8"
             ],
             [
              0.3333333333333333,
              "#9c179e"
             ],
             [
              0.4444444444444444,
              "#bd3786"
             ],
             [
              0.5555555555555556,
              "#d8576b"
             ],
             [
              0.6666666666666666,
              "#ed7953"
             ],
             [
              0.7777777777777778,
              "#fb9f3a"
             ],
             [
              0.8888888888888888,
              "#fdca26"
             ],
             [
              1,
              "#f0f921"
             ]
            ],
            "type": "surface"
           }
          ],
          "table": [
           {
            "cells": {
             "fill": {
              "color": "#EBF0F8"
             },
             "line": {
              "color": "white"
             }
            },
            "header": {
             "fill": {
              "color": "#C8D4E3"
             },
             "line": {
              "color": "white"
             }
            },
            "type": "table"
           }
          ]
         },
         "layout": {
          "annotationdefaults": {
           "arrowcolor": "#2a3f5f",
           "arrowhead": 0,
           "arrowwidth": 1
          },
          "autotypenumbers": "strict",
          "coloraxis": {
           "colorbar": {
            "outlinewidth": 0,
            "ticks": ""
           }
          },
          "colorscale": {
           "diverging": [
            [
             0,
             "#8e0152"
            ],
            [
             0.1,
             "#c51b7d"
            ],
            [
             0.2,
             "#de77ae"
            ],
            [
             0.3,
             "#f1b6da"
            ],
            [
             0.4,
             "#fde0ef"
            ],
            [
             0.5,
             "#f7f7f7"
            ],
            [
             0.6,
             "#e6f5d0"
            ],
            [
             0.7,
             "#b8e186"
            ],
            [
             0.8,
             "#7fbc41"
            ],
            [
             0.9,
             "#4d9221"
            ],
            [
             1,
             "#276419"
            ]
           ],
           "sequential": [
            [
             0,
             "#0d0887"
            ],
            [
             0.1111111111111111,
             "#46039f"
            ],
            [
             0.2222222222222222,
             "#7201a8"
            ],
            [
             0.3333333333333333,
             "#9c179e"
            ],
            [
             0.4444444444444444,
             "#bd3786"
            ],
            [
             0.5555555555555556,
             "#d8576b"
            ],
            [
             0.6666666666666666,
             "#ed7953"
            ],
            [
             0.7777777777777778,
             "#fb9f3a"
            ],
            [
             0.8888888888888888,
             "#fdca26"
            ],
            [
             1,
             "#f0f921"
            ]
           ],
           "sequentialminus": [
            [
             0,
             "#0d0887"
            ],
            [
             0.1111111111111111,
             "#46039f"
            ],
            [
             0.2222222222222222,
             "#7201a8"
            ],
            [
             0.3333333333333333,
             "#9c179e"
            ],
            [
             0.4444444444444444,
             "#bd3786"
            ],
            [
             0.5555555555555556,
             "#d8576b"
            ],
            [
             0.6666666666666666,
             "#ed7953"
            ],
            [
             0.7777777777777778,
             "#fb9f3a"
            ],
            [
             0.8888888888888888,
             "#fdca26"
            ],
            [
             1,
             "#f0f921"
            ]
           ]
          },
          "colorway": [
           "#636efa",
           "#EF553B",
           "#00cc96",
           "#ab63fa",
           "#FFA15A",
           "#19d3f3",
           "#FF6692",
           "#B6E880",
           "#FF97FF",
           "#FECB52"
          ],
          "font": {
           "color": "#2a3f5f"
          },
          "geo": {
           "bgcolor": "white",
           "lakecolor": "white",
           "landcolor": "#E5ECF6",
           "showlakes": true,
           "showland": true,
           "subunitcolor": "white"
          },
          "hoverlabel": {
           "align": "left"
          },
          "hovermode": "closest",
          "mapbox": {
           "style": "light"
          },
          "paper_bgcolor": "white",
          "plot_bgcolor": "#E5ECF6",
          "polar": {
           "angularaxis": {
            "gridcolor": "white",
            "linecolor": "white",
            "ticks": ""
           },
           "bgcolor": "#E5ECF6",
           "radialaxis": {
            "gridcolor": "white",
            "linecolor": "white",
            "ticks": ""
           }
          },
          "scene": {
           "xaxis": {
            "backgroundcolor": "#E5ECF6",
            "gridcolor": "white",
            "gridwidth": 2,
            "linecolor": "white",
            "showbackground": true,
            "ticks": "",
            "zerolinecolor": "white"
           },
           "yaxis": {
            "backgroundcolor": "#E5ECF6",
            "gridcolor": "white",
            "gridwidth": 2,
            "linecolor": "white",
            "showbackground": true,
            "ticks": "",
            "zerolinecolor": "white"
           },
           "zaxis": {
            "backgroundcolor": "#E5ECF6",
            "gridcolor": "white",
            "gridwidth": 2,
            "linecolor": "white",
            "showbackground": true,
            "ticks": "",
            "zerolinecolor": "white"
           }
          },
          "shapedefaults": {
           "line": {
            "color": "#2a3f5f"
           }
          },
          "ternary": {
           "aaxis": {
            "gridcolor": "white",
            "linecolor": "white",
            "ticks": ""
           },
           "baxis": {
            "gridcolor": "white",
            "linecolor": "white",
            "ticks": ""
           },
           "bgcolor": "#E5ECF6",
           "caxis": {
            "gridcolor": "white",
            "linecolor": "white",
            "ticks": ""
           }
          },
          "title": {
           "x": 0.05
          },
          "xaxis": {
           "automargin": true,
           "gridcolor": "white",
           "linecolor": "white",
           "ticks": "",
           "title": {
            "standoff": 15
           },
           "zerolinecolor": "white",
           "zerolinewidth": 2
          },
          "yaxis": {
           "automargin": true,
           "gridcolor": "white",
           "linecolor": "white",
           "ticks": "",
           "title": {
            "standoff": 15
           },
           "zerolinecolor": "white",
           "zerolinewidth": 2
          }
         }
        },
        "title": {
         "text": "LOO PCA — choose a city to leave out"
        },
        "updatemenus": [
         {
          "buttons": [
           {
            "args": [
             {
              "text": [
               [
                "Amsterdam",
                "Ankara",
                "Athens",
                "Belgrade",
                "Berlin",
                "Bern",
                "Bonn",
                "Bruxells",
                "Bucarest",
                "Budapest",
                "Copenhagen",
                "Dublin",
                "Helsinki",
                "Lisbon",
                "London",
                "Luxemborg",
                "Marbella",
                "Moscow",
                "Oslo",
                "Paris",
                "Prague",
                "Rome",
                "Sofia",
                "Stockholm",
                "Vienna",
                "Warsaw",
                "Bratislava",
                "St. Petersberg",
                "Ljubljana",
                "Madrid",
                "Milan",
                "Edinburgh",
                "Skopje"
               ],
               [
                "Amsterdam",
                "Ankara",
                "Athens",
                "Belgrade",
                "Berlin",
                "Bern",
                "Bonn",
                "Bruxells",
                "Bucarest",
                "Budapest",
                "Copenhagen",
                "Dublin",
                "Helsinki",
                "Lisbon",
                "London",
                "Luxemborg",
                "Marbella",
                "Moscow",
                "Oslo",
                "Paris",
                "Prague",
                "Rome",
                "Sofia",
                "Stockholm",
                "Vienna",
                "Warsaw",
                "Bratislava",
                "St. Petersberg",
                "Ljubljana",
                "Madrid",
                "Milan",
                "Edinburgh",
                "Skopje"
               ]
              ],
              "x": [
               [
                -1.6089431876426106,
                0.8394927193989605,
                6.264719408324749,
                1.826480333559447,
                -1.1631348025575532,
                -1.3266107115494639,
                -0.6029628176799451,
                -0.3046031148315868,
                0.5259299386909978,
                0.8510364468622639,
                -2.0049750062259784,
                -2.2209200522853623,
                -5.689723866046906,
                5.45809462502937,
                2.4372007485479994,
                -1.2473646595111652,
                9.39227726577733,
                -5.614410226066114,
                -3.75858658656571,
                1.2267887138911122,
                -0.9300008663622898,
                4.052442893704254,
                0.24166408144901041,
                -3.6666634465392955,
                -1.1847346488875605,
                -1.4024451701042604,
                -0.3427389990828569,
                -1.9342579243756037,
                -0.10725654081320292,
                3.2960739823151677,
                1.689365166548902,
                -4.326547838072791,
                1.3353141411006915
               ],
               [
                -1.6089431876426106,
                0.8394927193989605,
                6.264719408324749,
                1.826480333559447,
                -1.1631348025575532,
                -1.3266107115494639,
                -0.6029628176799451,
                -0.3046031148315868,
                0.5259299386909978,
                0.8510364468622639,
                -2.0049750062259784,
                -2.2209200522853623,
                -5.689723866046906,
                5.45809462502937,
                2.4372007485479994,
                -1.2473646595111652,
                9.39227726577733,
                -5.614410226066114,
                -3.75858658656571,
                1.2267887138911122,
                -0.9300008663622898,
                4.052442893704254,
                0.24166408144901041,
                -3.6666634465392955,
                -1.1847346488875605,
                -1.4024451701042604,
                -0.3427389990828569,
                -1.9342579243756037,
                -0.10725654081320292,
                3.2960739823151677,
                1.689365166548902,
                -4.326547838072791,
                1.3353141411006915
               ]
              ],
              "y": [
               [
                1.5837703120091873,
                -0.7701974173140835,
                -0.9466438136971433,
                -0.6240515499702396,
                -0.31019269462402527,
                0.6595068112664205,
                0.7587930099741153,
                0.9703559331056758,
                -1.6458044695483918,
                -1.311237780356674,
                0.5104171124308309,
                2.591499221901063,
                -0.839192026112183,
                0.8009786080444696,
                0.9323768503146157,
                0.6746829644849315,
                0.3539001286691513,
                -2.441375224512829,
                0.5932277968128689,
                0.3178696402378557,
                -0.7443496485482624,
                -0.08658829563289752,
                -0.5587490828414452,
                -0.07988301726239899,
                1.133106162342372,
                -0.9626083620595466,
                -0.5457179165928049,
                2.7716955516627992,
                -0.3083205567480621,
                -0.1812173394862551,
                -0.5338290507169039,
                -0.5317476807928426,
                -1.2304741764393683
               ],
               [
                1.5837703120091873,
                -0.7701974173140835,
                -0.9466438136971433,
                -0.6240515499702396,
                -0.31019269462402527,
                0.6595068112664205,
                0.7587930099741153,
                0.9703559331056758,
                -1.6458044695483918,
                -1.311237780356674,
                0.5104171124308309,
                2.591499221901063,
                -0.839192026112183,
                0.8009786080444696,
                0.9323768503146157,
                0.6746829644849315,
                0.3539001286691513,
                -2.441375224512829,
                0.5932277968128689,
                0.3178696402378557,
                -0.7443496485482624,
                -0.08658829563289752,
                -0.5587490828414452,
                -0.07988301726239899,
                1.133106162342372,
                -0.9626083620595466,
                -0.5457179165928049,
                2.7716955516627992,
                -0.3083205567480621,
                -0.1812173394862551,
                -0.5338290507169039,
                -0.5317476807928426,
                -1.2304741764393683
               ]
              ]
             },
             {
              "title": "LOO PCA — choose a city to leave out",
              "xaxis.title.text": "PC1 (full 85.0%)",
              "yaxis.title.text": "PC2 (full 10.2%)"
             }
            ],
            "label": "— Select city —",
            "method": "update"
           },
           {
            "args": [
             {
              "text": [
               [
                "Amsterdam",
                "Ankara",
                "Athens",
                "Belgrade",
                "Berlin",
                "Bern",
                "Bonn",
                "Bruxells",
                "Bucarest",
                "Budapest",
                "Copenhagen",
                "Dublin",
                "Helsinki",
                "Lisbon",
                "London",
                "Luxemborg",
                "Marbella",
                "Moscow",
                "Oslo",
                "Paris",
                "Prague",
                "Rome",
                "Sofia",
                "Stockholm",
                "Vienna",
                "Warsaw",
                "Bratislava",
                "St. Petersberg",
                "Ljubljana",
                "Madrid",
                "Milan",
                "Edinburgh",
                "Skopje"
               ],
               [
                "Amsterdam",
                "Ankara",
                "Athens",
                "Belgrade",
                "Berlin",
                "Bern",
                "Bonn",
                "Bruxells",
                "Bucarest",
                "Budapest",
                "Copenhagen",
                "Dublin",
                "Helsinki",
                "Lisbon",
                "London",
                "Luxemborg",
                "Marbella",
                "Moscow",
                "Oslo",
                "Paris",
                "Prague",
                "Rome",
                "Sofia",
                "Stockholm",
                "Vienna",
                "Warsaw",
                "Bratislava",
                "St. Petersberg",
                "Ljubljana",
                "Madrid",
                "Milan",
                "Edinburgh",
                "Skopje"
               ]
              ],
              "x": [
               [
                -1.6571476516834256,
                0.7861042488512996,
                6.167589558263134,
                1.7643550736515923,
                -1.2008888966762452,
                -1.3698957320596423,
                -0.6526023968870168,
                -0.3603221884516902,
                0.47973267450755214,
                0.8011487980518609,
                -2.040420291075184,
                -2.2673577250663906,
                -5.684406329005515,
                5.355383023680525,
                2.360825692062782,
                -1.2905507962536,
                9.259726017584093,
                -5.602279828124293,
                -3.778878040868095,
                1.1646667723141302,
                -0.9666183916227192,
                3.967488655277608,
                0.19229486939570264,
                -3.682827943558426,
                -1.23863119567473,
                -1.4346284667608085,
                -0.3848920316502047,
                -1.9859022087680516,
                -0.1534514236068671,
                3.2194583841086644,
                1.6283961575022503,
                -4.334220280688589,
                1.2816042415468754
               ],
               [
                -1.6089431876426106,
                0.8394927193989605,
                6.264719408324749,
                1.826480333559447,
                -1.1631348025575532,
                -1.3266107115494639,
                -0.6029628176799451,
                -0.3046031148315868,
                0.5259299386909978,
                0.8510364468622639,
                -2.0049750062259784,
                -2.2209200522853623,
                -5.689723866046906,
                5.45809462502937,
                2.4372007485479994,
                -1.2473646595111652,
                9.39227726577733,
                -5.614410226066114,
                -3.75858658656571,
                1.2267887138911122,
                -0.9300008663622898,
                4.052442893704254,
                0.24166408144901041,
                -3.6666634465392955,
                -1.1847346488875605,
                -1.4024451701042604,
                -0.3427389990828569,
                -1.9342579243756037,
                -0.10725654081320292,
                3.2960739823151677,
                1.689365166548902,
                -4.326547838072791,
                1.3353141411006915
               ]
              ],
              "y": [
               [
                1.624404327825605,
                -0.7260980490530026,
                -0.9496015300167846,
                -0.5813091364159205,
                -0.24799237576021296,
                0.7194890155015013,
                0.8137900307863849,
                1.0182564304649018,
                -1.5864281553493214,
                -1.2501971713356441,
                0.5672010972983694,
                2.639415774676125,
                -0.7570959130337552,
                0.8084992341678402,
                0.9563838425003433,
                0.7425344441048711,
                0.33218544005393674,
                -2.3352909560583224,
                0.6564368958802222,
                0.3632881724744651,
                -0.6763242753480305,
                -0.07434671999035532,
                -0.5009130741630341,
                -0.014321144832359137,
                1.1961320159672064,
                -0.898411751778898,
                -0.48374748337591367,
                2.812660093313392,
                -0.25227928088828344,
                -0.161446015062122,
                -0.4922796848872671,
                -0.4573066505160635,
                -1.1808831193242684
               ],
               [
                1.5837703120091873,
                -0.7701974173140835,
                -0.9466438136971433,
                -0.6240515499702396,
                -0.31019269462402527,
                0.6595068112664205,
                0.7587930099741153,
                0.9703559331056758,
                -1.6458044695483918,
                -1.311237780356674,
                0.5104171124308309,
                2.591499221901063,
                -0.839192026112183,
                0.8009786080444696,
                0.9323768503146157,
                0.6746829644849315,
                0.3539001286691513,
                -2.441375224512829,
                0.5932277968128689,
                0.3178696402378557,
                -0.7443496485482624,
                -0.08658829563289752,
                -0.5587490828414452,
                -0.07988301726239899,
                1.133106162342372,
                -0.9626083620595466,
                -0.5457179165928049,
                2.7716955516627992,
                -0.3083205567480621,
                -0.1812173394862551,
                -0.5338290507169039,
                -0.5317476807928426,
                -1.2304741764393683
               ]
              ]
             },
             {
              "title": "LOO PCA — removed: Amsterdam",
              "xaxis.title.text": "PC1 (LOO 85.5% | full 85.0%)",
              "yaxis.title.text": "PC2 (LOO 9.7% | full 10.2%)"
             }
            ],
            "label": "Amsterdam",
            "method": "update"
           },
           {
            "args": [
             {
              "text": [
               [
                "Amsterdam",
                "Ankara",
                "Athens",
                "Belgrade",
                "Berlin",
                "Bern",
                "Bonn",
                "Bruxells",
                "Bucarest",
                "Budapest",
                "Copenhagen",
                "Dublin",
                "Helsinki",
                "Lisbon",
                "London",
                "Luxemborg",
                "Marbella",
                "Moscow",
                "Oslo",
                "Paris",
                "Prague",
                "Rome",
                "Sofia",
                "Stockholm",
                "Vienna",
                "Warsaw",
                "Bratislava",
                "St. Petersberg",
                "Ljubljana",
                "Madrid",
                "Milan",
                "Edinburgh",
                "Skopje"
               ],
               [
                "Amsterdam",
                "Ankara",
                "Athens",
                "Belgrade",
                "Berlin",
                "Bern",
                "Bonn",
                "Bruxells",
                "Bucarest",
                "Budapest",
                "Copenhagen",
                "Dublin",
                "Helsinki",
                "Lisbon",
                "London",
                "Luxemborg",
                "Marbella",
                "Moscow",
                "Oslo",
                "Paris",
                "Prague",
                "Rome",
                "Sofia",
                "Stockholm",
                "Vienna",
                "Warsaw",
                "Bratislava",
                "St. Petersberg",
                "Ljubljana",
                "Madrid",
                "Milan",
                "Edinburgh",
                "Skopje"
               ]
              ],
              "x": [
               [
                -1.5628216536212254,
                0.8551721123524856,
                6.210243602052894,
                1.8286186768453505,
                -1.1217800963352844,
                -1.2845199601795882,
                -0.569961886255692,
                -0.2756769143352803,
                0.5453880505555619,
                0.866421218038861,
                -1.9533211957513938,
                -2.167064240131554,
                -5.589816784012178,
                5.4127557578458365,
                2.431605838246895,
                -1.2064590060121159,
                9.296119536609046,
                -5.513646112284824,
                -3.684280832154749,
                1.2367241119017442,
                -0.8920620245689973,
                4.025624407500525,
                0.2646739613044551,
                -3.593279171350279,
                -1.1431456670869935,
                -1.3574496548284751,
                -0.3119328230200585,
                -1.884415873690586,
                -0.07958141949898315,
                3.279044193072622,
                1.6937774976931204,
                -4.2442987857425,
                1.3445172491938455
               ],
               [
                -1.6089431876426106,
                0.8394927193989605,
                6.264719408324749,
                1.826480333559447,
                -1.1631348025575532,
                -1.3266107115494639,
                -0.6029628176799451,
                -0.3046031148315868,
                0.5259299386909978,
                0.8510364468622639,
                -2.0049750062259784,
                -2.2209200522853623,
                -5.689723866046906,
                5.45809462502937,
                2.4372007485479994,
                -1.2473646595111652,
                9.39227726577733,
                -5.614410226066114,
                -3.75858658656571,
                1.2267887138911122,
                -0.9300008663622898,
                4.052442893704254,
                0.24166408144901041,
                -3.6666634465392955,
                -1.1847346488875605,
                -1.4024451701042604,
                -0.3427389990828569,
                -1.9342579243756037,
                -0.10725654081320292,
                3.2960739823151677,
                1.689365166548902,
                -4.326547838072791,
                1.3353141411006915
               ]
              ],
              "y": [
               [
                1.5464688970550344,
                -0.7760836769696604,
                -0.969742073608153,
                -0.6457929259724118,
                -0.330185746373244,
                0.6286218555396375,
                0.7277623510653777,
                0.934773770615386,
                -1.6448523575584937,
                -1.319112632123847,
                0.4807306706443735,
                2.5370470677278627,
                -0.8454012436593166,
                0.7579418044125776,
                0.8916349282838495,
                0.6406231347934137,
                0.3098336572405687,
                -2.412996179907148,
                0.5619224506676433,
                0.28712883268018013,
                -0.7578152995281994,
                -0.11783686366087227,
                -0.572473567714158,
                -0.09857337546724285,
                1.1145723405215204,
                -0.9696114355402762,
                -0.5640995438016689,
                2.717470910639453,
                -0.3295340683403563,
                -0.21496582024643449,
                -0.5569820320050205,
                -0.5432865444288225,
                -1.243270961951212
               ],
               [
                1.5837703120091873,
                -0.7701974173140835,
                -0.9466438136971433,
                -0.6240515499702396,
                -0.31019269462402527,
                0.6595068112664205,
                0.7587930099741153,
                0.9703559331056758,
                -1.6458044695483918,
                -1.311237780356674,
                0.5104171124308309,
                2.591499221901063,
                -0.839192026112183,
                0.8009786080444696,
                0.9323768503146157,
                0.6746829644849315,
                0.3539001286691513,
                -2.441375224512829,
                0.5932277968128689,
                0.3178696402378557,
                -0.7443496485482624,
                -0.08658829563289752,
                -0.5587490828414452,
                -0.07988301726239899,
                1.133106162342372,
                -0.9626083620595466,
                -0.5457179165928049,
                2.7716955516627992,
                -0.3083205567480621,
                -0.1812173394862551,
                -0.5338290507169039,
                -0.5317476807928426,
                -1.2304741764393683
               ]
              ]
             },
             {
              "title": "LOO PCA — removed: Ankara",
              "xaxis.title.text": "PC1 (LOO 85.2% | full 85.0%)",
              "yaxis.title.text": "PC2 (LOO 10.1% | full 10.2%)"
             }
            ],
            "label": "Ankara",
            "method": "update"
           },
           {
            "args": [
             {
              "text": [
               [
                "Amsterdam",
                "Ankara",
                "Athens",
                "Belgrade",
                "Berlin",
                "Bern",
                "Bonn",
                "Bruxells",
                "Bucarest",
                "Budapest",
                "Copenhagen",
                "Dublin",
                "Helsinki",
                "Lisbon",
                "London",
                "Luxemborg",
                "Marbella",
                "Moscow",
                "Oslo",
                "Paris",
                "Prague",
                "Rome",
                "Sofia",
                "Stockholm",
                "Vienna",
                "Warsaw",
                "Bratislava",
                "St. Petersberg",
                "Ljubljana",
                "Madrid",
                "Milan",
                "Edinburgh",
                "Skopje"
               ],
               [
                "Amsterdam",
                "Ankara",
                "Athens",
                "Belgrade",
                "Berlin",
                "Bern",
                "Bonn",
                "Bruxells",
                "Bucarest",
                "Budapest",
                "Copenhagen",
                "Dublin",
                "Helsinki",
                "Lisbon",
                "London",
                "Luxemborg",
                "Marbella",
                "Moscow",
                "Oslo",
                "Paris",
                "Prague",
                "Rome",
                "Sofia",
                "Stockholm",
                "Vienna",
                "Warsaw",
                "Bratislava",
                "St. Petersberg",
                "Ljubljana",
                "Madrid",
                "Milan",
                "Edinburgh",
                "Skopje"
               ]
              ],
              "x": [
               [
                -1.4860172125007027,
                1.0927047527645546,
                6.747444330410001,
                2.1140713845295234,
                -1.0045877934269336,
                -1.1895008679649026,
                -0.43253559473704767,
                -0.12277452039827977,
                0.7749028484288784,
                1.104539051765163,
                -1.8909283400100685,
                -2.140972105482929,
                -5.708969946379046,
                5.880561964751326,
                2.7316346330369417,
                -1.1098769448055492,
                9.984581305299624,
                -5.6109821760384655,
                -3.71639750164649,
                1.47448779661703,
                -0.7586907504152254,
                4.4301824048921,
                0.46250671940996524,
                -3.6114114692339334,
                -1.0444024961263607,
                -1.2431998777457975,
                -0.15093143019732294,
                -1.8426928982130624,
                0.09316153295888713,
                3.6399741492402535,
                1.9683140658442426,
                -4.295002546660627,
                1.6082518624442546
               ],
               [
                -1.6089431876426106,
                0.8394927193989605,
                6.264719408324749,
                1.826480333559447,
                -1.1631348025575532,
                -1.3266107115494639,
                -0.6029628176799451,
                -0.3046031148315868,
                0.5259299386909978,
                0.8510364468622639,
                -2.0049750062259784,
                -2.2209200522853623,
                -5.689723866046906,
                5.45809462502937,
                2.4372007485479994,
                -1.2473646595111652,
                9.39227726577733,
                -5.614410226066114,
                -3.75858658656571,
                1.2267887138911122,
                -0.9300008663622898,
                4.052442893704254,
                0.24166408144901041,
                -3.6666634465392955,
                -1.1847346488875605,
                -1.4024451701042604,
                -0.3427389990828569,
                -1.9342579243756037,
                -0.10725654081320292,
                3.2960739823151677,
                1.689365166548902,
                -4.326547838072791,
                1.3353141411006915
               ]
              ],
              "y": [
               [
                1.663469019952364,
                -0.8427752223818806,
                -1.1339847612730385,
                -0.7164969090837658,
                -0.34546599278089374,
                0.66953060938137,
                0.7665062028412554,
                0.9883082138756342,
                -1.7512483713749767,
                -1.4260038221761473,
                0.5416276312760235,
                2.7118665805569644,
                -0.800751210461655,
                0.6941534595173052,
                0.8927481980311782,
                0.6750830887436285,
                0.1626180321794843,
                -2.453413175578337,
                0.6685307341339416,
                0.2581398464417192,
                -0.8003221397872672,
                -0.19722003767494675,
                -0.6253651713686068,
                -0.04395410090220875,
                1.1995459075084025,
                -0.9984819182576616,
                -0.6105949333459402,
                2.9020308158081347,
                -0.36637456364299176,
                -0.3057994870391664,
                -0.640758356786356,
                -0.5118927358943062,
                -1.3572401917103
               ],
               [
                1.5837703120091873,
                -0.7701974173140835,
                -0.9466438136971433,
                -0.6240515499702396,
                -0.31019269462402527,
                0.6595068112664205,
                0.7587930099741153,
                0.9703559331056758,
                -1.6458044695483918,
                -1.311237780356674,
                0.5104171124308309,
                2.591499221901063,
                -0.839192026112183,
                0.8009786080444696,
                0.9323768503146157,
                0.6746829644849315,
                0.3539001286691513,
                -2.441375224512829,
                0.5932277968128689,
                0.3178696402378557,
                -0.7443496485482624,
                -0.08658829563289752,
                -0.5587490828414452,
                -0.07988301726239899,
                1.133106162342372,
                -0.9626083620595466,
                -0.5457179165928049,
                2.7716955516627992,
                -0.3083205567480621,
                -0.1812173394862551,
                -0.5338290507169039,
                -0.5317476807928426,
                -1.2304741764393683
               ]
              ]
             },
             {
              "title": "LOO PCA — removed: Athens",
              "xaxis.title.text": "PC1 (LOO 83.6% | full 85.0%)",
              "yaxis.title.text": "PC2 (LOO 11.2% | full 10.2%)"
             }
            ],
            "label": "Athens",
            "method": "update"
           },
           {
            "args": [
             {
              "text": [
               [
                "Amsterdam",
                "Ankara",
                "Athens",
                "Belgrade",
                "Berlin",
                "Bern",
                "Bonn",
                "Bruxells",
                "Bucarest",
                "Budapest",
                "Copenhagen",
                "Dublin",
                "Helsinki",
                "Lisbon",
                "London",
                "Luxemborg",
                "Marbella",
                "Moscow",
                "Oslo",
                "Paris",
                "Prague",
                "Rome",
                "Sofia",
                "Stockholm",
                "Vienna",
                "Warsaw",
                "Bratislava",
                "St. Petersberg",
                "Ljubljana",
                "Madrid",
                "Milan",
                "Edinburgh",
                "Skopje"
               ],
               [
                "Amsterdam",
                "Ankara",
                "Athens",
                "Belgrade",
                "Berlin",
                "Bern",
                "Bonn",
                "Bruxells",
                "Bucarest",
                "Budapest",
                "Copenhagen",
                "Dublin",
                "Helsinki",
                "Lisbon",
                "London",
                "Luxemborg",
                "Marbella",
                "Moscow",
                "Oslo",
                "Paris",
                "Prague",
                "Rome",
                "Sofia",
                "Stockholm",
                "Vienna",
                "Warsaw",
                "Bratislava",
                "St. Petersberg",
                "Ljubljana",
                "Madrid",
                "Milan",
                "Edinburgh",
                "Skopje"
               ]
              ],
              "x": [
               [
                -1.5390426395196894,
                0.8878631733959642,
                6.259612386942256,
                1.8666180482710863,
                -1.0943647378147645,
                -1.2572739542262885,
                -0.5417295578764535,
                -0.24632226166835286,
                0.5800780304394051,
                0.90132744108245,
                -1.9280963862000509,
                -2.146526737032853,
                -5.573493901693123,
                5.457748520975818,
                2.4674225860657777,
                -1.1791435603265041,
                9.353031369615552,
                -5.497231781572376,
                -3.663375456808355,
                1.2699057158560134,
                -0.8623047402542809,
                4.068457452481615,
                0.296052168267649,
                -3.5721380783279733,
                -1.121134433248203,
                -1.3300514017563103,
                -0.28169910952097515,
                -1.8632512433326465,
                -0.04911605617375328,
                3.3195033659309305,
                1.7295008480166973,
                -4.224770363815665,
                1.3805633420984926
               ],
               [
                -1.6089431876426106,
                0.8394927193989605,
                6.264719408324749,
                1.826480333559447,
                -1.1631348025575532,
                -1.3266107115494639,
                -0.6029628176799451,
                -0.3046031148315868,
                0.5259299386909978,
                0.8510364468622639,
                -2.0049750062259784,
                -2.2209200522853623,
                -5.689723866046906,
                5.45809462502937,
                2.4372007485479994,
                -1.2473646595111652,
                9.39227726577733,
                -5.614410226066114,
                -3.75858658656571,
                1.2267887138911122,
                -0.9300008663622898,
                4.052442893704254,
                0.24166408144901041,
                -3.6666634465392955,
                -1.1847346488875605,
                -1.4024451701042604,
                -0.3427389990828569,
                -1.9342579243756037,
                -0.10725654081320292,
                3.2960739823151677,
                1.689365166548902,
                -4.326547838072791,
                1.3353141411006915
               ]
              ],
              "y": [
               [
                1.5536843598281904,
                -0.7847117800497141,
                -0.9769082559375944,
                -0.6382070820408048,
                -0.32467319142928436,
                0.6358746905082572,
                0.7327450997049065,
                0.9426466859324041,
                -1.646422995740576,
                -1.319626105233664,
                0.4931905655418633,
                2.552262422793123,
                -0.8351484670867849,
                0.7558599047913703,
                0.8956204477855224,
                0.653447610269126,
                0.3013641304657524,
                -2.417916638640623,
                0.587697694416587,
                0.2892592393773964,
                -0.7537682043899879,
                -0.11747627550144268,
                -0.5739038256124492,
                -0.08731211102617979,
                1.1127451629673144,
                -0.960469286222486,
                -0.5613634338036516,
                2.729305107472711,
                -0.3272992359853329,
                -0.2128607612707445,
                -0.5564673061446541,
                -0.5349682212877924,
                -1.244407026491562
               ],
               [
                1.5837703120091873,
                -0.7701974173140835,
                -0.9466438136971433,
                -0.6240515499702396,
                -0.31019269462402527,
                0.6595068112664205,
                0.7587930099741153,
                0.9703559331056758,
                -1.6458044695483918,
                -1.311237780356674,
                0.5104171124308309,
                2.591499221901063,
                -0.839192026112183,
                0.8009786080444696,
                0.9323768503146157,
                0.6746829644849315,
                0.3539001286691513,
                -2.441375224512829,
                0.5932277968128689,
                0.3178696402378557,
                -0.7443496485482624,
                -0.08658829563289752,
                -0.5587490828414452,
                -0.07988301726239899,
                1.133106162342372,
                -0.9626083620595466,
                -0.5457179165928049,
                2.7716955516627992,
                -0.3083205567480621,
                -0.1812173394862551,
                -0.5338290507169039,
                -0.5317476807928426,
                -1.2304741764393683
               ]
              ]
             },
             {
              "title": "LOO PCA — removed: Belgrade",
              "xaxis.title.text": "PC1 (LOO 85.0% | full 85.0%)",
              "yaxis.title.text": "PC2 (LOO 10.2% | full 10.2%)"
             }
            ],
            "label": "Belgrade",
            "method": "update"
           },
           {
            "args": [
             {
              "text": [
               [
                "Amsterdam",
                "Ankara",
                "Athens",
                "Belgrade",
                "Berlin",
                "Bern",
                "Bonn",
                "Bruxells",
                "Bucarest",
                "Budapest",
                "Copenhagen",
                "Dublin",
                "Helsinki",
                "Lisbon",
                "London",
                "Luxemborg",
                "Marbella",
                "Moscow",
                "Oslo",
                "Paris",
                "Prague",
                "Rome",
                "Sofia",
                "Stockholm",
                "Vienna",
                "Warsaw",
                "Bratislava",
                "St. Petersberg",
                "Ljubljana",
                "Madrid",
                "Milan",
                "Edinburgh",
                "Skopje"
               ],
               [
                "Amsterdam",
                "Ankara",
                "Athens",
                "Belgrade",
                "Berlin",
                "Bern",
                "Bonn",
                "Bruxells",
                "Bucarest",
                "Budapest",
                "Copenhagen",
                "Dublin",
                "Helsinki",
                "Lisbon",
                "London",
                "Luxemborg",
                "Marbella",
                "Moscow",
                "Oslo",
                "Paris",
                "Prague",
                "Rome",
                "Sofia",
                "Stockholm",
                "Vienna",
                "Warsaw",
                "Bratislava",
                "St. Petersberg",
                "Ljubljana",
                "Madrid",
                "Milan",
                "Edinburgh",
                "Skopje"
               ]
              ],
              "x": [
               [
                -1.6222639455745576,
                0.7924234879519356,
                6.146730318033736,
                1.766325323640703,
                -1.1845265816534483,
                -1.3451068488960645,
                -0.6304332906760873,
                -0.3360271853044702,
                0.4821627073791443,
                0.8025886542540134,
                -2.0141688099176123,
                -2.2254636189996564,
                -5.6517472629091765,
                5.3513815403024365,
                2.3702169514953715,
                -1.2668641547054722,
                9.234209809058546,
                -5.578984699782016,
                -3.7439665412120218,
                1.1746441290319753,
                -0.9547020008091535,
                3.963744942099107,
                0.20211597606475779,
                -3.654311543275582,
                -1.2043498530826289,
                -1.4201957875001887,
                -0.37498532278200125,
                -1.9424168141192162,
                -0.14226973480505317,
                3.2168105688082136,
                1.6305318567765534,
                -4.306207928481763,
                1.2805790779362278
               ],
               [
                -1.6089431876426106,
                0.8394927193989605,
                6.264719408324749,
                1.826480333559447,
                -1.1631348025575532,
                -1.3266107115494639,
                -0.6029628176799451,
                -0.3046031148315868,
                0.5259299386909978,
                0.8510364468622639,
                -2.0049750062259784,
                -2.2209200522853623,
                -5.689723866046906,
                5.45809462502937,
                2.4372007485479994,
                -1.2473646595111652,
                9.39227726577733,
                -5.614410226066114,
                -3.75858658656571,
                1.2267887138911122,
                -0.9300008663622898,
                4.052442893704254,
                0.24166408144901041,
                -3.6666634465392955,
                -1.1847346488875605,
                -1.4024451701042604,
                -0.3427389990828569,
                -1.9342579243756037,
                -0.10725654081320292,
                3.2960739823151677,
                1.689365166548902,
                -4.326547838072791,
                1.3353141411006915
               ]
              ],
              "y": [
               [
                1.5508754994214076,
                -0.7699400001270139,
                -0.9366422083334036,
                -0.6235235820640328,
                -0.3153105955159819,
                0.6392744894402781,
                0.740327972286594,
                0.9482948530733017,
                -1.6344455819459325,
                -1.3033074122665738,
                0.4920521465713577,
                2.546176914417564,
                -0.8412998190535564,
                0.7866007205086439,
                0.9129526991961936,
                0.6560055590372079,
                0.348427431318162,
                -2.426532371689053,
                0.5729685124491517,
                0.30577439110920257,
                -0.7444714607563724,
                -0.09055535201825851,
                -0.5611869924077163,
                -0.08997196646764438,
                1.099775708558468,
                -0.9611370953767362,
                -0.5485033992814855,
                2.722987443002783,
                -0.3140844610252666,
                -0.18318788414231077,
                -0.5341755193964062,
                -0.5369992846094389,
                -1.2225299494291155
               ],
               [
                1.5837703120091873,
                -0.7701974173140835,
                -0.9466438136971433,
                -0.6240515499702396,
                -0.31019269462402527,
                0.6595068112664205,
                0.7587930099741153,
                0.9703559331056758,
                -1.6458044695483918,
                -1.311237780356674,
                0.5104171124308309,
                2.591499221901063,
                -0.839192026112183,
                0.8009786080444696,
                0.9323768503146157,
                0.6746829644849315,
                0.3539001286691513,
                -2.441375224512829,
                0.5932277968128689,
                0.3178696402378557,
                -0.7443496485482624,
                -0.08658829563289752,
                -0.5587490828414452,
                -0.07988301726239899,
                1.133106162342372,
                -0.9626083620595466,
                -0.5457179165928049,
                2.7716955516627992,
                -0.3083205567480621,
                -0.1812173394862551,
                -0.5338290507169039,
                -0.5317476807928426,
                -1.2304741764393683
               ]
              ]
             },
             {
              "title": "LOO PCA — removed: Berlin",
              "xaxis.title.text": "PC1 (LOO 85.0% | full 85.0%)",
              "yaxis.title.text": "PC2 (LOO 10.2% | full 10.2%)"
             }
            ],
            "label": "Berlin",
            "method": "update"
           },
           {
            "args": [
             {
              "text": [
               [
                "Amsterdam",
                "Ankara",
                "Athens",
                "Belgrade",
                "Berlin",
                "Bern",
                "Bonn",
                "Bruxells",
                "Bucarest",
                "Budapest",
                "Copenhagen",
                "Dublin",
                "Helsinki",
                "Lisbon",
                "London",
                "Luxemborg",
                "Marbella",
                "Moscow",
                "Oslo",
                "Paris",
                "Prague",
                "Rome",
                "Sofia",
                "Stockholm",
                "Vienna",
                "Warsaw",
                "Bratislava",
                "St. Petersberg",
                "Ljubljana",
                "Madrid",
                "Milan",
                "Edinburgh",
                "Skopje"
               ],
               [
                "Amsterdam",
                "Ankara",
                "Athens",
                "Belgrade",
                "Berlin",
                "Bern",
                "Bonn",
                "Bruxells",
                "Bucarest",
                "Budapest",
                "Copenhagen",
                "Dublin",
                "Helsinki",
                "Lisbon",
                "London",
                "Luxemborg",
                "Marbella",
                "Moscow",
                "Oslo",
                "Paris",
                "Prague",
                "Rome",
                "Sofia",
                "Stockholm",
                "Vienna",
                "Warsaw",
                "Bratislava",
                "St. Petersberg",
                "Ljubljana",
                "Madrid",
                "Milan",
                "Edinburgh",
                "Skopje"
               ]
              ],
              "x": [
               [
                -1.6334790937808756,
                0.7904727292359696,
                6.150844678972696,
                1.7638164173005302,
                -1.1894185364038576,
                -1.3539407062893254,
                -0.6371597226136343,
                -0.34439495951995364,
                0.48096734964103166,
                0.8012930840691601,
                -2.0231132626891664,
                -2.2390891465160654,
                -5.660018334601084,
                5.350019886416003,
                2.3655674445592747,
                -1.2751060223548454,
                9.237561238688556,
                -5.583510490633802,
                -3.75538517583262,
                1.1704885936661162,
                -0.9588086542192935,
                3.9627428453847027,
                0.1988533280813376,
                -3.662712858278846,
                -1.2156911717921963,
                -1.4241848102930663,
                -0.3786513987031462,
                -1.9568492369971224,
                -0.14632262250002018,
                3.21597712699092,
                1.629023484926322,
                -4.313813194004242,
                1.2800804838012128
               ],
               [
                -1.6089431876426106,
                0.8394927193989605,
                6.264719408324749,
                1.826480333559447,
                -1.1631348025575532,
                -1.3266107115494639,
                -0.6029628176799451,
                -0.3046031148315868,
                0.5259299386909978,
                0.8510364468622639,
                -2.0049750062259784,
                -2.2209200522853623,
                -5.689723866046906,
                5.45809462502937,
                2.4372007485479994,
                -1.2473646595111652,
                9.39227726577733,
                -5.614410226066114,
                -3.75858658656571,
                1.2267887138911122,
                -0.9300008663622898,
                4.052442893704254,
                0.24166408144901041,
                -3.6666634465392955,
                -1.1847346488875605,
                -1.4024451701042604,
                -0.3427389990828569,
                -1.9342579243756037,
                -0.10725654081320292,
                3.2960739823151677,
                1.689365166548902,
                -4.326547838072791,
                1.3353141411006915
               ]
              ],
              "y": [
               [
                1.592321234777193,
                -0.7411816584618278,
                -0.9262231489160462,
                -0.5991519448156377,
                -0.2855493757394504,
                0.6706106939526905,
                0.7721234869131155,
                0.981163187856529,
                -1.605035979451985,
                -1.2802797860676538,
                0.5309367614469243,
                2.5881041313275843,
                -0.7945414765905197,
                0.7985649950634255,
                0.9368285041214189,
                0.6851590879112803,
                0.3503851885638007,
                -2.376370352502761,
                0.6211927443824553,
                0.32691312868668654,
                -0.7157164196281569,
                -0.07276294479548125,
                -0.5334013965265678,
                -0.04809932223186683,
                1.1455943623428828,
                -0.9228248897925139,
                -0.521961561404236,
                2.7659770581321643,
                -0.2874723600029312,
                -0.1702157922843102,
                -0.5154917428797423,
                -0.4963136134992587,
                -1.202670105934515
               ],
               [
                1.5837703120091873,
                -0.7701974173140835,
                -0.9466438136971433,
                -0.6240515499702396,
                -0.31019269462402527,
                0.6595068112664205,
                0.7587930099741153,
                0.9703559331056758,
                -1.6458044695483918,
                -1.311237780356674,
                0.5104171124308309,
                2.591499221901063,
                -0.839192026112183,
                0.8009786080444696,
                0.9323768503146157,
                0.6746829644849315,
                0.3539001286691513,
                -2.441375224512829,
                0.5932277968128689,
                0.3178696402378557,
                -0.7443496485482624,
                -0.08658829563289752,
                -0.5587490828414452,
                -0.07988301726239899,
                1.133106162342372,
                -0.9626083620595466,
                -0.5457179165928049,
                2.7716955516627992,
                -0.3083205567480621,
                -0.1812173394862551,
                -0.5338290507169039,
                -0.5317476807928426,
                -1.2304741764393683
               ]
              ]
             },
             {
              "title": "LOO PCA — removed: Bern",
              "xaxis.title.text": "PC1 (LOO 85.1% | full 85.0%)",
              "yaxis.title.text": "PC2 (LOO 10.2% | full 10.2%)"
             }
            ],
            "label": "Bern",
            "method": "update"
           },
           {
            "args": [
             {
              "text": [
               [
                "Amsterdam",
                "Ankara",
                "Athens",
                "Belgrade",
                "Berlin",
                "Bern",
                "Bonn",
                "Bruxells",
                "Bucarest",
                "Budapest",
                "Copenhagen",
                "Dublin",
                "Helsinki",
                "Lisbon",
                "London",
                "Luxemborg",
                "Marbella",
                "Moscow",
                "Oslo",
                "Paris",
                "Prague",
                "Rome",
                "Sofia",
                "Stockholm",
                "Vienna",
                "Warsaw",
                "Bratislava",
                "St. Petersberg",
                "Ljubljana",
                "Madrid",
                "Milan",
                "Edinburgh",
                "Skopje"
               ],
               [
                "Amsterdam",
                "Ankara",
                "Athens",
                "Belgrade",
                "Berlin",
                "Bern",
                "Bonn",
                "Bruxells",
                "Bucarest",
                "Budapest",
                "Copenhagen",
                "Dublin",
                "Helsinki",
                "Lisbon",
                "London",
                "Luxemborg",
                "Marbella",
                "Moscow",
                "Oslo",
                "Paris",
                "Prague",
                "Rome",
                "Sofia",
                "Stockholm",
                "Vienna",
                "Warsaw",
                "Bratislava",
                "St. Petersberg",
                "Ljubljana",
                "Madrid",
                "Milan",
                "Edinburgh",
                "Skopje"
               ]
              ],
              "x": [
               [
                -1.6124577550164008,
                0.8123854662448968,
                6.168007962687827,
                1.7861190746998215,
                -1.167346487858023,
                -1.328513062483772,
                -0.6246206563545628,
                -0.32579957933342446,
                0.50695126842928,
                0.8267019883987744,
                -1.99904391027365,
                -2.2233737701707468,
                -5.63046893889252,
                5.362515839303473,
                2.3810447788910842,
                -1.2532343044034238,
                9.25116626827988,
                -5.552504756598209,
                -3.7305983933348124,
                1.1902071049272165,
                -0.9348524893460594,
                3.982100405294971,
                0.22126188023410637,
                -3.637125633279952,
                -1.1829436950566763,
                -1.402391170276097,
                -0.3548481081806541,
                -1.9380238186499616,
                -0.12345041990913999,
                3.238110242244973,
                1.6513876918005772,
                -4.286451926707036,
                1.3054682483336777
               ],
               [
                -1.6089431876426106,
                0.8394927193989605,
                6.264719408324749,
                1.826480333559447,
                -1.1631348025575532,
                -1.3266107115494639,
                -0.6029628176799451,
                -0.3046031148315868,
                0.5259299386909978,
                0.8510364468622639,
                -2.0049750062259784,
                -2.2209200522853623,
                -5.689723866046906,
                5.45809462502937,
                2.4372007485479994,
                -1.2473646595111652,
                9.39227726577733,
                -5.614410226066114,
                -3.75858658656571,
                1.2267887138911122,
                -0.9300008663622898,
                4.052442893704254,
                0.24166408144901041,
                -3.6666634465392955,
                -1.1847346488875605,
                -1.4024451701042604,
                -0.3427389990828569,
                -1.9342579243756037,
                -0.10725654081320292,
                3.2960739823151677,
                1.689365166548902,
                -4.326547838072791,
                1.3353141411006915
               ]
              ],
              "y": [
               [
                1.5908709566218795,
                -0.7386963117716221,
                -0.914281897210117,
                -0.5935821178599224,
                -0.28334545022541907,
                0.6750490993229615,
                0.7664844127976264,
                0.9790320991002064,
                -1.6044453110222319,
                -1.2747895232830584,
                0.531705812756408,
                2.5832648222696046,
                -0.7983293852340821,
                0.8074501641441194,
                0.9428048375891277,
                0.687402962753018,
                0.36582002516835227,
                -2.383320607168807,
                0.6178000960302591,
                0.334440283307091,
                -0.7127368713946942,
                -0.0635505566860887,
                -0.5324310327421382,
                -0.049722487645035514,
                1.1469790541710674,
                -0.924123681305465,
                -0.5166732204141155,
                2.7627014061969715,
                -0.2826325934517265,
                -0.1570468625186223,
                -0.5058283882067519,
                -0.4961806181764137,
                -1.1936047031147556
               ],
               [
                1.5837703120091873,
                -0.7701974173140835,
                -0.9466438136971433,
                -0.6240515499702396,
                -0.31019269462402527,
                0.6595068112664205,
                0.7587930099741153,
                0.9703559331056758,
                -1.6458044695483918,
                -1.311237780356674,
                0.5104171124308309,
                2.591499221901063,
                -0.839192026112183,
                0.8009786080444696,
                0.9323768503146157,
                0.6746829644849315,
                0.3539001286691513,
                -2.441375224512829,
                0.5932277968128689,
                0.3178696402378557,
                -0.7443496485482624,
                -0.08658829563289752,
                -0.5587490828414452,
                -0.07988301726239899,
                1.133106162342372,
                -0.9626083620595466,
                -0.5457179165928049,
                2.7716955516627992,
                -0.3083205567480621,
                -0.1812173394862551,
                -0.5338290507169039,
                -0.5317476807928426,
                -1.2304741764393683
               ]
              ]
             },
             {
              "title": "LOO PCA — removed: Bonn",
              "xaxis.title.text": "PC1 (LOO 85.3% | full 85.0%)",
              "yaxis.title.text": "PC2 (LOO 10.1% | full 10.2%)"
             }
            ],
            "label": "Bonn",
            "method": "update"
           },
           {
            "args": [
             {
              "text": [
               [
                "Amsterdam",
                "Ankara",
                "Athens",
                "Belgrade",
                "Berlin",
                "Bern",
                "Bonn",
                "Bruxells",
                "Bucarest",
                "Budapest",
                "Copenhagen",
                "Dublin",
                "Helsinki",
                "Lisbon",
                "London",
                "Luxemborg",
                "Marbella",
                "Moscow",
                "Oslo",
                "Paris",
                "Prague",
                "Rome",
                "Sofia",
                "Stockholm",
                "Vienna",
                "Warsaw",
                "Bratislava",
                "St. Petersberg",
                "Ljubljana",
                "Madrid",
                "Milan",
                "Edinburgh",
                "Skopje"
               ],
               [
                "Amsterdam",
                "Ankara",
                "Athens",
                "Belgrade",
                "Berlin",
                "Bern",
                "Bonn",
                "Bruxells",
                "Bucarest",
                "Budapest",
                "Copenhagen",
                "Dublin",
                "Helsinki",
                "Lisbon",
                "London",
                "Luxemborg",
                "Marbella",
                "Moscow",
                "Oslo",
                "Paris",
                "Prague",
                "Rome",
                "Sofia",
                "Stockholm",
                "Vienna",
                "Warsaw",
                "Bratislava",
                "St. Petersberg",
                "Ljubljana",
                "Madrid",
                "Milan",
                "Edinburgh",
                "Skopje"
               ]
              ],
              "x": [
               [
                -1.6014030288573076,
                0.8207882466469851,
                6.173415718569821,
                1.7932202855328119,
                -1.1562653725956455,
                -1.3202815405026271,
                -0.6080074542644758,
                -0.3143613344195114,
                0.5129084170981761,
                0.8333827025417898,
                -1.9887167655020817,
                -2.207200586239316,
                -5.620384706272243,
                5.372187329280795,
                2.3927420802423036,
                -1.2424353207923933,
                9.255539538422576,
                -5.541467139664129,
                -3.719385316385485,
                1.2002632435842815,
                -0.9253733013269595,
                3.988100848547442,
                0.23044395590928546,
                -3.626877442344929,
                -1.1787734272361672,
                -1.3904397105822666,
                -0.34516419198645726,
                -1.9248797488933325,
                -0.11365827602888973,
                3.2430166745658133,
                1.6592168039044637,
                -4.276158696322623,
                1.3116461809507869
               ],
               [
                -1.6089431876426106,
                0.8394927193989605,
                6.264719408324749,
                1.826480333559447,
                -1.1631348025575532,
                -1.3266107115494639,
                -0.6029628176799451,
                -0.3046031148315868,
                0.5259299386909978,
                0.8510364468622639,
                -2.0049750062259784,
                -2.2209200522853623,
                -5.689723866046906,
                5.45809462502937,
                2.4372007485479994,
                -1.2473646595111652,
                9.39227726577733,
                -5.614410226066114,
                -3.75858658656571,
                1.2267887138911122,
                -0.9300008663622898,
                4.052442893704254,
                0.24166408144901041,
                -3.6666634465392955,
                -1.1847346488875605,
                -1.4024451701042604,
                -0.3427389990828569,
                -1.9342579243756037,
                -0.10725654081320292,
                3.2960739823151677,
                1.689365166548902,
                -4.326547838072791,
                1.3353141411006915
               ]
              ],
              "y": [
               [
                1.5938127049811481,
                -0.729685820777284,
                -0.905463706986588,
                -0.5880402339768034,
                -0.2790025009292021,
                0.6807222606569164,
                0.7727283026832446,
                0.9796713985853551,
                -1.5981116839696508,
                -1.268414459085555,
                0.5370631336857309,
                2.5903936454704586,
                -0.7944173804349133,
                0.8146111851136766,
                0.9504315923363513,
                0.6943661566733895,
                0.37731786963915603,
                -2.3790778607061225,
                0.6229131316822848,
                0.34247541105239987,
                -0.7058245268574876,
                -0.05781428942488359,
                -0.5242974616049896,
                -0.04413640128121277,
                1.151698324201842,
                -0.9169905350568179,
                -0.5071036509187647,
                2.7681453816066224,
                -0.2735378585345699,
                -0.15006577204388188,
                -0.4985420933934237,
                -0.48972916791674403,
                -1.1864236958843262
               ],
               [
                1.5837703120091873,
                -0.7701974173140835,
                -0.9466438136971433,
                -0.6240515499702396,
                -0.31019269462402527,
                0.6595068112664205,
                0.7587930099741153,
                0.9703559331056758,
                -1.6458044695483918,
                -1.311237780356674,
                0.5104171124308309,
                2.591499221901063,
                -0.839192026112183,
                0.8009786080444696,
                0.9323768503146157,
                0.6746829644849315,
                0.3539001286691513,
                -2.441375224512829,
                0.5932277968128689,
                0.3178696402378557,
                -0.7443496485482624,
                -0.08658829563289752,
                -0.5587490828414452,
                -0.07988301726239899,
                1.133106162342372,
                -0.9626083620595466,
                -0.5457179165928049,
                2.7716955516627992,
                -0.3083205567480621,
                -0.1812173394862551,
                -0.5338290507169039,
                -0.5317476807928426,
                -1.2304741764393683
               ]
              ]
             },
             {
              "title": "LOO PCA — removed: Bruxells",
              "xaxis.title.text": "PC1 (LOO 85.3% | full 85.0%)",
              "yaxis.title.text": "PC2 (LOO 10.0% | full 10.2%)"
             }
            ],
            "label": "Bruxells",
            "method": "update"
           },
           {
            "args": [
             {
              "text": [
               [
                "Amsterdam",
                "Ankara",
                "Athens",
                "Belgrade",
                "Berlin",
                "Bern",
                "Bonn",
                "Bruxells",
                "Bucarest",
                "Budapest",
                "Copenhagen",
                "Dublin",
                "Helsinki",
                "Lisbon",
                "London",
                "Luxemborg",
                "Marbella",
                "Moscow",
                "Oslo",
                "Paris",
                "Prague",
                "Rome",
                "Sofia",
                "Stockholm",
                "Vienna",
                "Warsaw",
                "Bratislava",
                "St. Petersberg",
                "Ljubljana",
                "Madrid",
                "Milan",
                "Edinburgh",
                "Skopje"
               ],
               [
                "Amsterdam",
                "Ankara",
                "Athens",
                "Belgrade",
                "Berlin",
                "Bern",
                "Bonn",
                "Bruxells",
                "Bucarest",
                "Budapest",
                "Copenhagen",
                "Dublin",
                "Helsinki",
                "Lisbon",
                "London",
                "Luxemborg",
                "Marbella",
                "Moscow",
                "Oslo",
                "Paris",
                "Prague",
                "Rome",
                "Sofia",
                "Stockholm",
                "Vienna",
                "Warsaw",
                "Bratislava",
                "St. Petersberg",
                "Ljubljana",
                "Madrid",
                "Milan",
                "Edinburgh",
                "Skopje"
               ]
              ],
              "x": [
               [
                -1.5726272730865551,
                0.84314506951856,
                6.210795911239529,
                1.8199367926041732,
                -1.1339568634177863,
                -1.293555836336851,
                -0.5816413849598511,
                -0.2857810041051591,
                0.529144324131464,
                0.8538608944370317,
                -1.9639089869333624,
                -2.1751073273001578,
                -5.608935736161296,
                5.413691716463896,
                2.4287713690578494,
                -1.2170102062554475,
                9.305348849028423,
                -5.541901953762334,
                -3.6994379933850294,
                1.230546181894762,
                -0.9044345053854649,
                4.023661683216387,
                0.2518850780942438,
                -3.6072820410240194,
                -1.158858794060367,
                -1.375268159336682,
                -0.3218326260088043,
                -1.8913066983811444,
                -0.0891267590331462,
                3.2777608385338,
                1.6871459447008361,
                -4.260060359121888,
                1.3354841792658556
               ],
               [
                -1.6089431876426106,
                0.8394927193989605,
                6.264719408324749,
                1.826480333559447,
                -1.1631348025575532,
                -1.3266107115494639,
                -0.6029628176799451,
                -0.3046031148315868,
                0.5259299386909978,
                0.8510364468622639,
                -2.0049750062259784,
                -2.2209200522853623,
                -5.689723866046906,
                5.45809462502937,
                2.4372007485479994,
                -1.2473646595111652,
                9.39227726577733,
                -5.614410226066114,
                -3.75858658656571,
                1.2267887138911122,
                -0.9300008663622898,
                4.052442893704254,
                0.24166408144901041,
                -3.6666634465392955,
                -1.1847346488875605,
                -1.4024451701042604,
                -0.3427389990828569,
                -1.9342579243756037,
                -0.10725654081320292,
                3.2960739823151677,
                1.689365166548902,
                -4.326547838072791,
                1.3353141411006915
               ]
              ],
              "y": [
               [
                1.5249857222422512,
                -0.8084754255279549,
                -1.0130641621461947,
                -0.6703911495020921,
                -0.3604423732934658,
                0.6075630796121284,
                0.7070301126793436,
                0.9173017688002042,
                -1.6670161779936246,
                -1.3447974962997558,
                0.4560560384515814,
                2.5196049745408793,
                -0.8788527908609138,
                0.7296816380873534,
                0.8620627788618289,
                0.622626077012518,
                0.27294495405167196,
                -2.4431553279773963,
                0.5434831870019831,
                0.25789607456339897,
                -0.7861095599574817,
                -0.15066874664022087,
                -0.5968732211826953,
                -0.13101699269954642,
                1.1054282329882759,
                -0.9952995888485409,
                -0.5945200156508941,
                2.7006453931049577,
                -0.35851619416015573,
                -0.25191322999439575,
                -0.5900368168991132,
                -0.5773353142704584,
                -1.2758416260871002
               ],
               [
                1.5837703120091873,
                -0.7701974173140835,
                -0.9466438136971433,
                -0.6240515499702396,
                -0.31019269462402527,
                0.6595068112664205,
                0.7587930099741153,
                0.9703559331056758,
                -1.6458044695483918,
                -1.311237780356674,
                0.5104171124308309,
                2.591499221901063,
                -0.839192026112183,
                0.8009786080444696,
                0.9323768503146157,
                0.6746829644849315,
                0.3539001286691513,
                -2.441375224512829,
                0.5932277968128689,
                0.3178696402378557,
                -0.7443496485482624,
                -0.08658829563289752,
                -0.5587490828414452,
                -0.07988301726239899,
                1.133106162342372,
                -0.9626083620595466,
                -0.5457179165928049,
                2.7716955516627992,
                -0.3083205567480621,
                -0.1812173394862551,
                -0.5338290507169039,
                -0.5317476807928426,
                -1.2304741764393683
               ]
              ]
             },
             {
              "title": "LOO PCA — removed: Bucarest",
              "xaxis.title.text": "PC1 (LOO 85.7% | full 85.0%)",
              "yaxis.title.text": "PC2 (LOO 9.6% | full 10.2%)"
             }
            ],
            "label": "Bucarest",
            "method": "update"
           },
           {
            "args": [
             {
              "text": [
               [
                "Amsterdam",
                "Ankara",
                "Athens",
                "Belgrade",
                "Berlin",
                "Bern",
                "Bonn",
                "Bruxells",
                "Bucarest",
                "Budapest",
                "Copenhagen",
                "Dublin",
                "Helsinki",
                "Lisbon",
                "London",
                "Luxemborg",
                "Marbella",
                "Moscow",
                "Oslo",
                "Paris",
                "Prague",
                "Rome",
                "Sofia",
                "Stockholm",
                "Vienna",
                "Warsaw",
                "Bratislava",
                "St. Petersberg",
                "Ljubljana",
                "Madrid",
                "Milan",
                "Edinburgh",
                "Skopje"
               ],
               [
                "Amsterdam",
                "Ankara",
                "Athens",
                "Belgrade",
                "Berlin",
                "Bern",
                "Bonn",
                "Bruxells",
                "Bucarest",
                "Budapest",
                "Copenhagen",
                "Dublin",
                "Helsinki",
                "Lisbon",
                "London",
                "Luxemborg",
                "Marbella",
                "Moscow",
                "Oslo",
                "Paris",
                "Prague",
                "Rome",
                "Sofia",
                "Stockholm",
                "Vienna",
                "Warsaw",
                "Bratislava",
                "St. Petersberg",
                "Ljubljana",
                "Madrid",
                "Milan",
                "Edinburgh",
                "Skopje"
               ]
              ],
              "x": [
               [
                -1.565361575688223,
                0.8559338416886525,
                6.217936952107205,
                1.8319049965429641,
                -1.1232057011922387,
                -1.2845489667746022,
                -0.5716368732074353,
                -0.27702495336773525,
                0.5461062739468729,
                0.8676755708448312,
                -1.95423226144809,
                -2.170226708853961,
                -5.594729095924037,
                5.418349552418745,
                2.4341568324442218,
                -1.2066003182094027,
                9.30811443131064,
                -5.52046989212832,
                -3.6867945919659024,
                1.2383956582291233,
                -0.8915624498490649,
                4.030801657155221,
                0.26452858511507027,
                -3.595420365378025,
                -1.1465323829390055,
                -1.3590183785645755,
                -0.31118381177590126,
                -1.8871677720468285,
                -0.07918062362124617,
                3.283677762278305,
                1.695801616855719,
                -4.247413632424878,
                1.3466021952667309
               ],
               [
                -1.6089431876426106,
                0.8394927193989605,
                6.264719408324749,
                1.826480333559447,
                -1.1631348025575532,
                -1.3266107115494639,
                -0.6029628176799451,
                -0.3046031148315868,
                0.5259299386909978,
                0.8510364468622639,
                -2.0049750062259784,
                -2.2209200522853623,
                -5.689723866046906,
                5.45809462502937,
                2.4372007485479994,
                -1.2473646595111652,
                9.39227726577733,
                -5.614410226066114,
                -3.75858658656571,
                1.2267887138911122,
                -0.9300008663622898,
                4.052442893704254,
                0.24166408144901041,
                -3.6666634465392955,
                -1.1847346488875605,
                -1.4024451701042604,
                -0.3427389990828569,
                -1.9342579243756037,
                -0.10725654081320292,
                3.2960739823151677,
                1.689365166548902,
                -4.326547838072791,
                1.3353141411006915
               ]
              ],
              "y": [
               [
                1.5269010392233628,
                -0.8041048013851984,
                -1.0118474868390575,
                -0.662877946444559,
                -0.34138473440191774,
                0.6239929096366749,
                0.7163319638170129,
                0.9262539699057875,
                -1.6627847385563677,
                -1.3280728576277356,
                0.4652260903057913,
                2.526215534157705,
                -0.8662448021441481,
                0.7369489189289201,
                0.8703145960666033,
                0.6411941674945371,
                0.2731202714967938,
                -2.4290547439047137,
                0.5437470238278941,
                0.27654906753490505,
                -0.7683486663915723,
                -0.1472745936044011,
                -0.5855503667091867,
                -0.12126558042136615,
                1.1088564847092528,
                -0.9918452000675262,
                -0.5751126421624981,
                2.704228959170475,
                -0.34168697728706776,
                -0.23801531423640507,
                -0.5720824672591625,
                -0.5623254466293648,
                -1.2580744878312056
               ],
               [
                1.5837703120091873,
                -0.7701974173140835,
                -0.9466438136971433,
                -0.6240515499702396,
                -0.31019269462402527,
                0.6595068112664205,
                0.7587930099741153,
                0.9703559331056758,
                -1.6458044695483918,
                -1.311237780356674,
                0.5104171124308309,
                2.591499221901063,
                -0.839192026112183,
                0.8009786080444696,
                0.9323768503146157,
                0.6746829644849315,
                0.3539001286691513,
                -2.441375224512829,
                0.5932277968128689,
                0.3178696402378557,
                -0.7443496485482624,
                -0.08658829563289752,
                -0.5587490828414452,
                -0.07988301726239899,
                1.133106162342372,
                -0.9626083620595466,
                -0.5457179165928049,
                2.7716955516627992,
                -0.3083205567480621,
                -0.1812173394862551,
                -0.5338290507169039,
                -0.5317476807928426,
                -1.2304741764393683
               ]
              ]
             },
             {
              "title": "LOO PCA — removed: Budapest",
              "xaxis.title.text": "PC1 (LOO 85.4% | full 85.0%)",
              "yaxis.title.text": "PC2 (LOO 9.8% | full 10.2%)"
             }
            ],
            "label": "Budapest",
            "method": "update"
           },
           {
            "args": [
             {
              "text": [
               [
                "Amsterdam",
                "Ankara",
                "Athens",
                "Belgrade",
                "Berlin",
                "Bern",
                "Bonn",
                "Bruxells",
                "Bucarest",
                "Budapest",
                "Copenhagen",
                "Dublin",
                "Helsinki",
                "Lisbon",
                "London",
                "Luxemborg",
                "Marbella",
                "Moscow",
                "Oslo",
                "Paris",
                "Prague",
                "Rome",
                "Sofia",
                "Stockholm",
                "Vienna",
                "Warsaw",
                "Bratislava",
                "St. Petersberg",
                "Ljubljana",
                "Madrid",
                "Milan",
                "Edinburgh",
                "Skopje"
               ],
               [
                "Amsterdam",
                "Ankara",
                "Athens",
                "Belgrade",
                "Berlin",
                "Bern",
                "Bonn",
                "Bruxells",
                "Bucarest",
                "Budapest",
                "Copenhagen",
                "Dublin",
                "Helsinki",
                "Lisbon",
                "London",
                "Luxemborg",
                "Marbella",
                "Moscow",
                "Oslo",
                "Paris",
                "Prague",
                "Rome",
                "Sofia",
                "Stockholm",
                "Vienna",
                "Warsaw",
                "Bratislava",
                "St. Petersberg",
                "Ljubljana",
                "Madrid",
                "Milan",
                "Edinburgh",
                "Skopje"
               ]
              ],
              "x": [
               [
                -1.6582330585496403,
                0.7714011054603818,
                6.144554841236511,
                1.7478210833823256,
                -1.2136334787190717,
                -1.377346734342506,
                -0.6597156385224644,
                -0.3648071245760548,
                0.4615970279604368,
                0.783186772651556,
                -2.049938312213158,
                -2.2661409665349828,
                -5.698351320205159,
                5.344213489081218,
                2.350758572284678,
                -1.2982275057103512,
                9.24137025052664,
                -5.619751543809902,
                -3.787766417390145,
                1.1532715289765725,
                -0.9822078649399911,
                3.952023357815313,
                0.17872280566119006,
                -3.695098891555511,
                -1.2350835669816236,
                -1.4497550158697319,
                -0.4011534139771681,
                -1.9823831776417027,
                -0.16820909958805122,
                3.202806717322829,
                1.6120839477660187,
                -4.348114309289888,
                1.2621676280782745
               ],
               [
                -1.6089431876426106,
                0.8394927193989605,
                6.264719408324749,
                1.826480333559447,
                -1.1631348025575532,
                -1.3266107115494639,
                -0.6029628176799451,
                -0.3046031148315868,
                0.5259299386909978,
                0.8510364468622639,
                -2.0049750062259784,
                -2.2209200522853623,
                -5.689723866046906,
                5.45809462502937,
                2.4372007485479994,
                -1.2473646595111652,
                9.39227726577733,
                -5.614410226066114,
                -3.75858658656571,
                1.2267887138911122,
                -0.9300008663622898,
                4.052442893704254,
                0.24166408144901041,
                -3.6666634465392955,
                -1.1847346488875605,
                -1.4024451701042604,
                -0.3427389990828569,
                -1.9342579243756037,
                -0.10725654081320292,
                3.2960739823151677,
                1.689365166548902,
                -4.326547838072791,
                1.3353141411006915
               ]
              ],
              "y": [
               [
                1.5882399030401242,
                -0.7465151019315648,
                -0.9453855090616795,
                -0.6082115211110336,
                -0.2877242657612719,
                0.6750172568654021,
                0.7722810946847936,
                0.9808027700559898,
                -1.6102719285515497,
                -1.280236786774294,
                0.5234538926288953,
                2.5859079247687085,
                -0.8035829253373833,
                0.7942954961035577,
                0.929546478436352,
                0.6899920248613156,
                0.3356614481806009,
                -2.379505273740306,
                0.6059988311068026,
                0.3284951216045686,
                -0.717186968766666,
                -0.08467149098720084,
                -0.5334612187480183,
                -0.0590472432092074,
                1.1528454451181795,
                -0.9344348141390362,
                -0.5231680047016204,
                2.764666208584721,
                -0.2883718436517561,
                -0.17700967345056134,
                -0.5173282329421304,
                -0.5025327238433123,
                -1.2051044767025234
               ],
               [
                1.5837703120091873,
                -0.7701974173140835,
                -0.9466438136971433,
                -0.6240515499702396,
                -0.31019269462402527,
                0.6595068112664205,
                0.7587930099741153,
                0.9703559331056758,
                -1.6458044695483918,
                -1.311237780356674,
                0.5104171124308309,
                2.591499221901063,
                -0.839192026112183,
                0.8009786080444696,
                0.9323768503146157,
                0.6746829644849315,
                0.3539001286691513,
                -2.441375224512829,
                0.5932277968128689,
                0.3178696402378557,
                -0.7443496485482624,
                -0.08658829563289752,
                -0.5587490828414452,
                -0.07988301726239899,
                1.133106162342372,
                -0.9626083620595466,
                -0.5457179165928049,
                2.7716955516627992,
                -0.3083205567480621,
                -0.1812173394862551,
                -0.5338290507169039,
                -0.5317476807928426,
                -1.2304741764393683
               ]
              ]
             },
             {
              "title": "LOO PCA — removed: Copenhagen",
              "xaxis.title.text": "PC1 (LOO 85.0% | full 85.0%)",
              "yaxis.title.text": "PC2 (LOO 10.2% | full 10.2%)"
             }
            ],
            "label": "Copenhagen",
            "method": "update"
           },
           {
            "args": [
             {
              "text": [
               [
                "Amsterdam",
                "Ankara",
                "Athens",
                "Belgrade",
                "Berlin",
                "Bern",
                "Bonn",
                "Bruxells",
                "Bucarest",
                "Budapest",
                "Copenhagen",
                "Dublin",
                "Helsinki",
                "Lisbon",
                "London",
                "Luxemborg",
                "Marbella",
                "Moscow",
                "Oslo",
                "Paris",
                "Prague",
                "Rome",
                "Sofia",
                "Stockholm",
                "Vienna",
                "Warsaw",
                "Bratislava",
                "St. Petersberg",
                "Ljubljana",
                "Madrid",
                "Milan",
                "Edinburgh",
                "Skopje"
               ],
               [
                "Amsterdam",
                "Ankara",
                "Athens",
                "Belgrade",
                "Berlin",
                "Bern",
                "Bonn",
                "Bruxells",
                "Bucarest",
                "Budapest",
                "Copenhagen",
                "Dublin",
                "Helsinki",
                "Lisbon",
                "London",
                "Luxemborg",
                "Marbella",
                "Moscow",
                "Oslo",
                "Paris",
                "Prague",
                "Rome",
                "Sofia",
                "Stockholm",
                "Vienna",
                "Warsaw",
                "Bratislava",
                "St. Petersberg",
                "Ljubljana",
                "Madrid",
                "Milan",
                "Edinburgh",
                "Skopje"
               ]
              ],
              "x": [
               [
                -1.6977689468314583,
                0.7752261518769975,
                6.208456428802241,
                1.7628606493617784,
                -1.230123901702486,
                -1.403148378359726,
                -0.6915772950773171,
                -0.3907562304090287,
                0.4703763002715675,
                0.7938064563966327,
                -2.0788690119013484,
                -2.3243164191823635,
                -5.745784663844306,
                5.375725251988746,
                2.355893414608918,
                -1.3271920791983574,
                9.320766578763697,
                -5.661106963810277,
                -3.8344374107296013,
                1.1527853790931624,
                -0.9925120820071734,
                3.9860549505887786,
                0.17414772729609904,
                -3.7331665122093027,
                -1.2665378940739083,
                -1.4646355162059372,
                -0.40543908579266,
                -2.03720579908261,
                -0.17355006849394608,
                3.2349295827605244,
                1.62817835996269,
                -4.387264737659835,
                1.2818693456174475
               ],
               [
                -1.6089431876426106,
                0.8394927193989605,
                6.264719408324749,
                1.826480333559447,
                -1.1631348025575532,
                -1.3266107115494639,
                -0.6029628176799451,
                -0.3046031148315868,
                0.5259299386909978,
                0.8510364468622639,
                -2.0049750062259784,
                -2.2209200522853623,
                -5.689723866046906,
                5.45809462502937,
                2.4372007485479994,
                -1.2473646595111652,
                9.39227726577733,
                -5.614410226066114,
                -3.75858658656571,
                1.2267887138911122,
                -0.9300008663622898,
                4.052442893704254,
                0.24166408144901041,
                -3.6666634465392955,
                -1.1847346488875605,
                -1.4024451701042604,
                -0.3427389990828569,
                -1.9342579243756037,
                -0.10725654081320292,
                3.2960739823151677,
                1.689365166548902,
                -4.326547838072791,
                1.3353141411006915
               ]
              ],
              "y": [
               [
                1.7065585999312969,
                -0.6953482776964632,
                -0.9927715029745607,
                -0.5736310424730505,
                -0.21198866197057004,
                0.7782296663995226,
                0.8442522305480843,
                1.072573885830744,
                -1.5649719817959309,
                -1.2363480461808252,
                0.6189602740017428,
                2.694229744053106,
                -0.6853402231476843,
                0.7977157941617098,
                0.9683496891262078,
                0.7836168056353265,
                0.2768360892922143,
                -2.247768577710581,
                0.7087919074463406,
                0.3836640022252957,
                -0.6459549578588035,
                -0.0749955486665775,
                -0.4782292948252631,
                0.038109218302062535,
                1.3301921842989237,
                -0.8600557248905937,
                -0.46740285250735153,
                2.8891062108200654,
                -0.23512901385531507,
                -0.16879448990768856,
                -0.48384250594224154,
                -0.4001303842992301,
                -1.1742534713168058
               ],
               [
                1.5837703120091873,
                -0.7701974173140835,
                -0.9466438136971433,
                -0.6240515499702396,
                -0.31019269462402527,
                0.6595068112664205,
                0.7587930099741153,
                0.9703559331056758,
                -1.6458044695483918,
                -1.311237780356674,
                0.5104171124308309,
                2.591499221901063,
                -0.839192026112183,
                0.8009786080444696,
                0.9323768503146157,
                0.6746829644849315,
                0.3539001286691513,
                -2.441375224512829,
                0.5932277968128689,
                0.3178696402378557,
                -0.7443496485482624,
                -0.08658829563289752,
                -0.5587490828414452,
                -0.07988301726239899,
                1.133106162342372,
                -0.9626083620595466,
                -0.5457179165928049,
                2.7716955516627992,
                -0.3083205567480621,
                -0.1812173394862551,
                -0.5338290507169039,
                -0.5317476807928426,
                -1.2304741764393683
               ]
              ]
             },
             {
              "title": "LOO PCA — removed: Dublin",
              "xaxis.title.text": "PC1 (LOO 86.3% | full 85.0%)",
              "yaxis.title.text": "PC2 (LOO 8.8% | full 10.2%)"
             }
            ],
            "label": "Dublin",
            "method": "update"
           },
           {
            "args": [
             {
              "text": [
               [
                "Amsterdam",
                "Ankara",
                "Athens",
                "Belgrade",
                "Berlin",
                "Bern",
                "Bonn",
                "Bruxells",
                "Bucarest",
                "Budapest",
                "Copenhagen",
                "Dublin",
                "Helsinki",
                "Lisbon",
                "London",
                "Luxemborg",
                "Marbella",
                "Moscow",
                "Oslo",
                "Paris",
                "Prague",
                "Rome",
                "Sofia",
                "Stockholm",
                "Vienna",
                "Warsaw",
                "Bratislava",
                "St. Petersberg",
                "Ljubljana",
                "Madrid",
                "Milan",
                "Edinburgh",
                "Skopje"
               ],
               [
                "Amsterdam",
                "Ankara",
                "Athens",
                "Belgrade",
                "Berlin",
                "Bern",
                "Bonn",
                "Bruxells",
                "Bucarest",
                "Budapest",
                "Copenhagen",
                "Dublin",
                "Helsinki",
                "Lisbon",
                "London",
                "Luxemborg",
                "Marbella",
                "Moscow",
                "Oslo",
                "Paris",
                "Prague",
                "Rome",
                "Sofia",
                "Stockholm",
                "Vienna",
                "Warsaw",
                "Bratislava",
                "St. Petersberg",
                "Ljubljana",
                "Madrid",
                "Milan",
                "Edinburgh",
                "Skopje"
               ]
              ],
              "x": [
               [
                -1.833233510240012,
                0.6799818444490366,
                6.267908187357175,
                1.696869358835915,
                -1.3887610517014266,
                -1.545612491466789,
                -0.7934462953307022,
                -0.4852613823283811,
                0.35046057203723274,
                0.690042816240674,
                -2.2563267932210076,
                -2.4552231454803253,
                -6.083034646376271,
                5.464947428815593,
                2.3402980749644313,
                -1.4602600657704863,
                9.51734586551386,
                -5.998985201589974,
                -4.071316451861505,
                1.0898370746740305,
                -1.14938293235911,
                3.994459435690166,
                0.06702320000562087,
                -3.9834800400297885,
                -1.3767920422870377,
                -1.6408841595835635,
                -0.5430848586813319,
                -2.157649018152826,
                -0.2974817875296193,
                3.208999092662344,
                1.5540741534698517,
                -4.667853550147644,
                1.1827876730456002
               ],
               [
                -1.6089431876426106,
                0.8394927193989605,
                6.264719408324749,
                1.826480333559447,
                -1.1631348025575532,
                -1.3266107115494639,
                -0.6029628176799451,
                -0.3046031148315868,
                0.5259299386909978,
                0.8510364468622639,
                -2.0049750062259784,
                -2.2209200522853623,
                -5.689723866046906,
                5.45809462502937,
                2.4372007485479994,
                -1.2473646595111652,
                9.39227726577733,
                -5.614410226066114,
                -3.75858658656571,
                1.2267887138911122,
                -0.9300008663622898,
                4.052442893704254,
                0.24166408144901041,
                -3.6666634465392955,
                -1.1847346488875605,
                -1.4024451701042604,
                -0.3427389990828569,
                -1.9342579243756037,
                -0.10725654081320292,
                3.2960739823151677,
                1.689365166548902,
                -4.326547838072791,
                1.3353141411006915
               ]
              ],
              "y": [
               [
                1.5675424761928938,
                -0.8219253595721668,
                -0.8808772539333819,
                -0.6378157344105532,
                -0.3566805781635232,
                0.622115210436882,
                0.7320019024833632,
                0.9565031758268574,
                -1.7177544665213507,
                -1.370824430285989,
                0.47325344457523527,
                2.5980146575830414,
                -0.9299860292427862,
                0.8638671862748207,
                0.958035536641902,
                0.6415674573205931,
                0.46823631888698863,
                -2.6519083363936202,
                0.5572128822288559,
                0.3080611800398583,
                -0.8094833762591678,
                -0.040379990449886105,
                -0.609110720855267,
                -0.12938288561921904,
                1.017891124062175,
                -1.0451327713599932,
                -0.5956693565664284,
                2.7799724293718158,
                -0.34547871443680356,
                -0.12396681087961382,
                -0.5404188692892705,
                -0.6058216948863376,
                -1.2616436320427122
               ],
               [
                1.5837703120091873,
                -0.7701974173140835,
                -0.9466438136971433,
                -0.6240515499702396,
                -0.31019269462402527,
                0.6595068112664205,
                0.7587930099741153,
                0.9703559331056758,
                -1.6458044695483918,
                -1.311237780356674,
                0.5104171124308309,
                2.591499221901063,
                -0.839192026112183,
                0.8009786080444696,
                0.9323768503146157,
                0.6746829644849315,
                0.3539001286691513,
                -2.441375224512829,
                0.5932277968128689,
                0.3178696402378557,
                -0.7443496485482624,
                -0.08658829563289752,
                -0.5587490828414452,
                -0.07988301726239899,
                1.133106162342372,
                -0.9626083620595466,
                -0.5457179165928049,
                2.7716955516627992,
                -0.3083205567480621,
                -0.1812173394862551,
                -0.5338290507169039,
                -0.5317476807928426,
                -1.2304741764393683
               ]
              ]
             },
             {
              "title": "LOO PCA — removed: Helsinki",
              "xaxis.title.text": "PC1 (LOO 84.2% | full 85.0%)",
              "yaxis.title.text": "PC2 (LOO 10.8% | full 10.2%)"
             }
            ],
            "label": "Helsinki",
            "method": "update"
           },
           {
            "args": [
             {
              "text": [
               [
                "Amsterdam",
                "Ankara",
                "Athens",
                "Belgrade",
                "Berlin",
                "Bern",
                "Bonn",
                "Bruxells",
                "Bucarest",
                "Budapest",
                "Copenhagen",
                "Dublin",
                "Helsinki",
                "Lisbon",
                "London",
                "Luxemborg",
                "Marbella",
                "Moscow",
                "Oslo",
                "Paris",
                "Prague",
                "Rome",
                "Sofia",
                "Stockholm",
                "Vienna",
                "Warsaw",
                "Bratislava",
                "St. Petersberg",
                "Ljubljana",
                "Madrid",
                "Milan",
                "Edinburgh",
                "Skopje"
               ],
               [
                "Amsterdam",
                "Ankara",
                "Athens",
                "Belgrade",
                "Berlin",
                "Bern",
                "Bonn",
                "Bruxells",
                "Bucarest",
                "Budapest",
                "Copenhagen",
                "Dublin",
                "Helsinki",
                "Lisbon",
                "London",
                "Luxemborg",
                "Marbella",
                "Moscow",
                "Oslo",
                "Paris",
                "Prague",
                "Rome",
                "Sofia",
                "Stockholm",
                "Vienna",
                "Warsaw",
                "Bratislava",
                "St. Petersberg",
                "Ljubljana",
                "Madrid",
                "Milan",
                "Edinburgh",
                "Skopje"
               ]
              ],
              "x": [
               [
                -1.459049211445088,
                1.0330808474005664,
                6.5991509343911865,
                2.04481266744055,
                -1.022585419916628,
                -1.1798127043220679,
                -0.4323596054571922,
                -0.12307422885665088,
                0.7020755849399167,
                1.0386373141693253,
                -1.882100308402791,
                -2.0801889626154924,
                -5.683535272658942,
                5.794228648517859,
                2.6885683566163783,
                -1.0985532881511184,
                9.827371829308532,
                -5.61402212882876,
                -3.6861724153542816,
                1.440046283459481,
                -0.7879033437815985,
                4.337061049267545,
                0.4208453810913925,
                -3.5973686498227164,
                -1.0203142715457219,
                -1.2758600927378652,
                -0.18407423540487824,
                -1.782378914992327,
                0.0611878060844467,
                3.556702897429114,
                1.9050126800222882,
                -4.2793555708893685,
                1.5341549935627652
               ],
               [
                -1.6089431876426106,
                0.8394927193989605,
                6.264719408324749,
                1.826480333559447,
                -1.1631348025575532,
                -1.3266107115494639,
                -0.6029628176799451,
                -0.3046031148315868,
                0.5259299386909978,
                0.8510364468622639,
                -2.0049750062259784,
                -2.2209200522853623,
                -5.689723866046906,
                5.45809462502937,
                2.4372007485479994,
                -1.2473646595111652,
                9.39227726577733,
                -5.614410226066114,
                -3.75858658656571,
                1.2267887138911122,
                -0.9300008663622898,
                4.052442893704254,
                0.24166408144901041,
                -3.6666634465392955,
                -1.1847346488875605,
                -1.4024451701042604,
                -0.3427389990828569,
                -1.9342579243756037,
                -0.10725654081320292,
                3.2960739823151677,
                1.689365166548902,
                -4.326547838072791,
                1.3353141411006915
               ]
              ],
              "y": [
               [
                1.6222054268856354,
                -0.7553855953973744,
                -0.8464061592258626,
                -0.5871153924493119,
                -0.3059945072933949,
                0.6849156485579497,
                0.7803252451336266,
                1.0038275744963119,
                -1.6564603849769406,
                -1.3065424928895983,
                0.5282610393907942,
                2.6497759489073327,
                -0.8928880828730097,
                0.9128081331153711,
                1.0132780354873843,
                0.6984886713903017,
                0.5197847151202655,
                -2.5613491652951783,
                0.5960004885224347,
                0.3682160850315436,
                -0.7484829812180246,
                -0.0015807680969131053,
                -0.5458940022299494,
                -0.09065192440006391,
                1.147794775420608,
                -0.9829577259306181,
                -0.5303236335985809,
                2.837185415090664,
                -0.2845089180302607,
                -0.0955929027750048,
                -0.48957000167736514,
                -0.5613077056506632,
                -1.2070467254267363
               ],
               [
                1.5837703120091873,
                -0.7701974173140835,
                -0.9466438136971433,
                -0.6240515499702396,
                -0.31019269462402527,
                0.6595068112664205,
                0.7587930099741153,
                0.9703559331056758,
                -1.6458044695483918,
                -1.311237780356674,
                0.5104171124308309,
                2.591499221901063,
                -0.839192026112183,
                0.8009786080444696,
                0.9323768503146157,
                0.6746829644849315,
                0.3539001286691513,
                -2.441375224512829,
                0.5932277968128689,
                0.3178696402378557,
                -0.7443496485482624,
                -0.08658829563289752,
                -0.5587490828414452,
                -0.07988301726239899,
                1.133106162342372,
                -0.9626083620595466,
                -0.5457179165928049,
                2.7716955516627992,
                -0.3083205567480621,
                -0.1812173394862551,
                -0.5338290507169039,
                -0.5317476807928426,
                -1.2304741764393683
               ]
              ]
             },
             {
              "title": "LOO PCA — removed: Lisbon",
              "xaxis.title.text": "PC1 (LOO 84.1% | full 85.0%)",
              "yaxis.title.text": "PC2 (LOO 10.8% | full 10.2%)"
             }
            ],
            "label": "Lisbon",
            "method": "update"
           },
           {
            "args": [
             {
              "text": [
               [
                "Amsterdam",
                "Ankara",
                "Athens",
                "Belgrade",
                "Berlin",
                "Bern",
                "Bonn",
                "Bruxells",
                "Bucarest",
                "Budapest",
                "Copenhagen",
                "Dublin",
                "Helsinki",
                "Lisbon",
                "London",
                "Luxemborg",
                "Marbella",
                "Moscow",
                "Oslo",
                "Paris",
                "Prague",
                "Rome",
                "Sofia",
                "Stockholm",
                "Vienna",
                "Warsaw",
                "Bratislava",
                "St. Petersberg",
                "Ljubljana",
                "Madrid",
                "Milan",
                "Edinburgh",
                "Skopje"
               ],
               [
                "Amsterdam",
                "Ankara",
                "Athens",
                "Belgrade",
                "Berlin",
                "Bern",
                "Bonn",
                "Bruxells",
                "Bucarest",
                "Budapest",
                "Copenhagen",
                "Dublin",
                "Helsinki",
                "Lisbon",
                "London",
                "Luxemborg",
                "Marbella",
                "Moscow",
                "Oslo",
                "Paris",
                "Prague",
                "Rome",
                "Sofia",
                "Stockholm",
                "Vienna",
                "Warsaw",
                "Bratislava",
                "St. Petersberg",
                "Ljubljana",
                "Madrid",
                "Milan",
                "Edinburgh",
                "Skopje"
               ]
              ],
              "x": [
               [
                -1.5146435740915212,
                0.9059571890887834,
                6.298261473442748,
                1.8877771096337619,
                -1.0817582422272911,
                -1.2395059928499237,
                -0.5205472042910919,
                -0.2225391408243025,
                0.5889987446061715,
                0.9141061547763109,
                -1.9135107199017907,
                -2.1176205673202615,
                -5.58243996115879,
                5.5042826969642205,
                2.503443933692537,
                -1.1612268713400253,
                9.412787609014645,
                -5.517219724802063,
                -3.6555093818031894,
                1.2965618071800096,
                -0.8526667990171075,
                4.103446567941035,
                0.31228071719550904,
                -3.5676517307353435,
                -1.0968928860050182,
                -1.323059675678047,
                -0.26759918928039594,
                -1.8317508621616787,
                -0.032352141410395004,
                3.3513972264166547,
                1.7521464707817642,
                -4.226026823454739,
                1.3965177213113618
               ],
               [
                -1.6089431876426106,
                0.8394927193989605,
                6.264719408324749,
                1.826480333559447,
                -1.1631348025575532,
                -1.3266107115494639,
                -0.6029628176799451,
                -0.3046031148315868,
                0.5259299386909978,
                0.8510364468622639,
                -2.0049750062259784,
                -2.2209200522853623,
                -5.689723866046906,
                5.45809462502937,
                2.4372007485479994,
                -1.2473646595111652,
                9.39227726577733,
                -5.614410226066114,
                -3.75858658656571,
                1.2267887138911122,
                -0.9300008663622898,
                4.052442893704254,
                0.24166408144901041,
                -3.6666634465392955,
                -1.1847346488875605,
                -1.4024451701042604,
                -0.3427389990828569,
                -1.9342579243756037,
                -0.10725654081320292,
                3.2960739823151677,
                1.689365166548902,
                -4.326547838072791,
                1.3353141411006915
               ]
              ],
              "y": [
               [
                1.5929736427656584,
                -0.735412720637244,
                -0.8694808930949854,
                -0.5795730590001776,
                -0.2851969513739698,
                0.6791973916640482,
                0.7735121065501847,
                0.9906378959978595,
                -1.6071927168033742,
                -1.2703266126050972,
                0.5257666108526836,
                2.591294105107925,
                -0.8337514259703516,
                0.8576522941703298,
                0.9692482053447516,
                0.6942386473129887,
                0.44183142563026845,
                -2.4439714672434634,
                0.5989101563790874,
                0.35339398468765887,
                -0.716647465985675,
                -0.028069331051006525,
                -0.527134511465274,
                -0.06636983824761924,
                1.1388838470286176,
                -0.9435657115604253,
                -0.5151861079244543,
                2.773463305437756,
                -0.27779813251997953,
                -0.11956848567670458,
                -0.48826440290920037,
                -0.5209303211659051,
                -1.1833152583501594
               ],
               [
                1.5837703120091873,
                -0.7701974173140835,
                -0.9466438136971433,
                -0.6240515499702396,
                -0.31019269462402527,
                0.6595068112664205,
                0.7587930099741153,
                0.9703559331056758,
                -1.6458044695483918,
                -1.311237780356674,
                0.5104171124308309,
                2.591499221901063,
                -0.839192026112183,
                0.8009786080444696,
                0.9323768503146157,
                0.6746829644849315,
                0.3539001286691513,
                -2.441375224512829,
                0.5932277968128689,
                0.3178696402378557,
                -0.7443496485482624,
                -0.08658829563289752,
                -0.5587490828414452,
                -0.07988301726239899,
                1.133106162342372,
                -0.9626083620595466,
                -0.5457179165928049,
                2.7716955516627992,
                -0.3083205567480621,
                -0.1812173394862551,
                -0.5338290507169039,
                -0.5317476807928426,
                -1.2304741764393683
               ]
              ]
             },
             {
              "title": "LOO PCA — removed: London",
              "xaxis.title.text": "PC1 (LOO 85.0% | full 85.0%)",
              "yaxis.title.text": "PC2 (LOO 10.2% | full 10.2%)"
             }
            ],
            "label": "London",
            "method": "update"
           },
           {
            "args": [
             {
              "text": [
               [
                "Amsterdam",
                "Ankara",
                "Athens",
                "Belgrade",
                "Berlin",
                "Bern",
                "Bonn",
                "Bruxells",
                "Bucarest",
                "Budapest",
                "Copenhagen",
                "Dublin",
                "Helsinki",
                "Lisbon",
                "London",
                "Luxemborg",
                "Marbella",
                "Moscow",
                "Oslo",
                "Paris",
                "Prague",
                "Rome",
                "Sofia",
                "Stockholm",
                "Vienna",
                "Warsaw",
                "Bratislava",
                "St. Petersberg",
                "Ljubljana",
                "Madrid",
                "Milan",
                "Edinburgh",
                "Skopje"
               ],
               [
                "Amsterdam",
                "Ankara",
                "Athens",
                "Belgrade",
                "Berlin",
                "Bern",
                "Bonn",
                "Bruxells",
                "Bucarest",
                "Budapest",
                "Copenhagen",
                "Dublin",
                "Helsinki",
                "Lisbon",
                "London",
                "Luxemborg",
                "Marbella",
                "Moscow",
                "Oslo",
                "Paris",
                "Prague",
                "Rome",
                "Sofia",
                "Stockholm",
                "Vienna",
                "Warsaw",
                "Bratislava",
                "St. Petersberg",
                "Ljubljana",
                "Madrid",
                "Milan",
                "Edinburgh",
                "Skopje"
               ]
              ],
              "x": [
               [
                -1.630083621661208,
                0.7930551519660556,
                6.15265793406334,
                1.766753258554588,
                -1.1879627008737048,
                -1.3503490746531643,
                -0.6355064859676637,
                -0.3410766474091934,
                0.4842119004821695,
                0.8045036469344888,
                -2.0208019733337683,
                -2.236734556351745,
                -5.66025156651313,
                5.35349485177473,
                2.368294549609741,
                -1.2725949099394094,
                9.241101094849936,
                -5.581615710527679,
                -3.753791168935956,
                1.1730769002582935,
                -0.9568933286800012,
                3.9654746768487237,
                0.2015416518231253,
                -3.662398440516675,
                -1.2083100718924549,
                -1.4226294869809188,
                -0.3766299966785986,
                -1.9534234636127743,
                -0.14399841071062194,
                3.2177743025908567,
                1.6313329437421802,
                -4.313410834471063,
                1.282594676272088
               ],
               [
                -1.6089431876426106,
                0.8394927193989605,
                6.264719408324749,
                1.826480333559447,
                -1.1631348025575532,
                -1.3266107115494639,
                -0.6029628176799451,
                -0.3046031148315868,
                0.5259299386909978,
                0.8510364468622639,
                -2.0049750062259784,
                -2.2209200522853623,
                -5.689723866046906,
                5.45809462502937,
                2.4372007485479994,
                -1.2473646595111652,
                9.39227726577733,
                -5.614410226066114,
                -3.75858658656571,
                1.2267887138911122,
                -0.9300008663622898,
                4.052442893704254,
                0.24166408144901041,
                -3.6666634465392955,
                -1.1847346488875605,
                -1.4024451701042604,
                -0.3427389990828569,
                -1.9342579243756037,
                -0.10725654081320292,
                3.2960739823151677,
                1.689365166548902,
                -4.326547838072791,
                1.3353141411006915
               ]
              ],
              "y": [
               [
                1.594835209956308,
                -0.7378524210597502,
                -0.9210850209069812,
                -0.6009148939948402,
                -0.285485665556853,
                0.6702110546217774,
                0.7694648211452139,
                0.9800267179305294,
                -1.6053902319673536,
                -1.2810360203548783,
                0.5311152851906201,
                2.586030373832244,
                -0.7905109441416159,
                0.7983198610966861,
                0.9372123076521572,
                0.6797180950168477,
                0.35153398837084066,
                -2.3730904873025165,
                0.6188434649251016,
                0.32605998071985176,
                -0.7168185320644309,
                -0.07013713077614145,
                -0.5342546043950444,
                -0.045698848893567616,
                1.1423712018767787,
                -0.9251985328061899,
                -0.5223202611961697,
                2.765947781117757,
                -0.2870370917420672,
                -0.16739141634901636,
                -0.5140660612072745,
                -0.49282999311350206,
                -1.200853890607674
               ],
               [
                1.5837703120091873,
                -0.7701974173140835,
                -0.9466438136971433,
                -0.6240515499702396,
                -0.31019269462402527,
                0.6595068112664205,
                0.7587930099741153,
                0.9703559331056758,
                -1.6458044695483918,
                -1.311237780356674,
                0.5104171124308309,
                2.591499221901063,
                -0.839192026112183,
                0.8009786080444696,
                0.9323768503146157,
                0.6746829644849315,
                0.3539001286691513,
                -2.441375224512829,
                0.5932277968128689,
                0.3178696402378557,
                -0.7443496485482624,
                -0.08658829563289752,
                -0.5587490828414452,
                -0.07988301726239899,
                1.133106162342372,
                -0.9626083620595466,
                -0.5457179165928049,
                2.7716955516627992,
                -0.3083205567480621,
                -0.1812173394862551,
                -0.5338290507169039,
                -0.5317476807928426,
                -1.2304741764393683
               ]
              ]
             },
             {
              "title": "LOO PCA — removed: Luxemborg",
              "xaxis.title.text": "PC1 (LOO 85.2% | full 85.0%)",
              "yaxis.title.text": "PC2 (LOO 10.1% | full 10.2%)"
             }
            ],
            "label": "Luxemborg",
            "method": "update"
           },
           {
            "args": [
             {
              "text": [
               [
                "Amsterdam",
                "Ankara",
                "Athens",
                "Belgrade",
                "Berlin",
                "Bern",
                "Bonn",
                "Bruxells",
                "Bucarest",
                "Budapest",
                "Copenhagen",
                "Dublin",
                "Helsinki",
                "Lisbon",
                "London",
                "Luxemborg",
                "Marbella",
                "Moscow",
                "Oslo",
                "Paris",
                "Prague",
                "Rome",
                "Sofia",
                "Stockholm",
                "Vienna",
                "Warsaw",
                "Bratislava",
                "St. Petersberg",
                "Ljubljana",
                "Madrid",
                "Milan",
                "Edinburgh",
                "Skopje"
               ],
               [
                "Amsterdam",
                "Ankara",
                "Athens",
                "Belgrade",
                "Berlin",
                "Bern",
                "Bonn",
                "Bruxells",
                "Bucarest",
                "Budapest",
                "Copenhagen",
                "Dublin",
                "Helsinki",
                "Lisbon",
                "London",
                "Luxemborg",
                "Marbella",
                "Moscow",
                "Oslo",
                "Paris",
                "Prague",
                "Rome",
                "Sofia",
                "Stockholm",
                "Vienna",
                "Warsaw",
                "Bratislava",
                "St. Petersberg",
                "Ljubljana",
                "Madrid",
                "Milan",
                "Edinburgh",
                "Skopje"
               ]
              ],
              "x": [
               [
                -1.4449916810317052,
                1.276036921038899,
                7.361983348513059,
                2.3740677110985615,
                -0.9883300302356832,
                -1.15569593987846,
                -0.3302208301137556,
                0.011607209938267922,
                0.9075680363442638,
                1.267308356799744,
                -1.9213646462565868,
                -2.1283605758026067,
                -6.0932498943127165,
                6.486898775336505,
                3.0855143441504387,
                -1.06979994285552,
                10.908352901772778,
                -6.0061332814359805,
                -3.898484154787856,
                1.709608697959329,
                -0.7309444683171153,
                4.887755043644639,
                0.599172031647233,
                -3.8031292723041683,
                -0.9438148288588393,
                -1.258405509141676,
                -0.07282996924923829,
                -1.7958218820430818,
                0.19686114741931715,
                4.018982334826348,
                2.2114115099268448,
                -4.557463524347765,
                1.8042649623293008
               ],
               [
                -1.6089431876426106,
                0.8394927193989605,
                6.264719408324749,
                1.826480333559447,
                -1.1631348025575532,
                -1.3266107115494639,
                -0.6029628176799451,
                -0.3046031148315868,
                0.5259299386909978,
                0.8510364468622639,
                -2.0049750062259784,
                -2.2209200522853623,
                -5.689723866046906,
                5.45809462502937,
                2.4372007485479994,
                -1.2473646595111652,
                9.39227726577733,
                -5.614410226066114,
                -3.75858658656571,
                1.2267887138911122,
                -0.9300008663622898,
                4.052442893704254,
                0.24166408144901041,
                -3.6666634465392955,
                -1.1847346488875605,
                -1.4024451701042604,
                -0.3427389990828569,
                -1.9342579243756037,
                -0.10725654081320292,
                3.2960739823151677,
                1.689365166548902,
                -4.326547838072791,
                1.3353141411006915
               ]
              ],
              "y": [
               [
                1.762328353375093,
                -0.8368566778574861,
                -0.9270640657819232,
                -0.6527433158894912,
                -0.34432248780198127,
                0.7191627682396327,
                0.8597860529045948,
                1.0882473130893322,
                -1.8248021088965507,
                -1.45488495880264,
                0.5691791789639402,
                2.8927704080921144,
                -0.9648934364032935,
                0.9792210909027333,
                1.0935916011044062,
                0.7430428280623969,
                0.5459874849943144,
                -2.8074226270694695,
                0.6644765298643779,
                0.3768733380550146,
                -0.8308708682185499,
                -0.01307211567463873,
                -0.6162995142970681,
                -0.08516618943861104,
                1.1764306065925851,
                -1.0724246507860287,
                -0.6030912088058831,
                3.086921066803524,
                -0.3338611653133747,
                -0.12481952051633662,
                -0.5624266802322346,
                -0.609836610563314,
                -1.3471729337008724
               ],
               [
                1.5837703120091873,
                -0.7701974173140835,
                -0.9466438136971433,
                -0.6240515499702396,
                -0.31019269462402527,
                0.6595068112664205,
                0.7587930099741153,
                0.9703559331056758,
                -1.6458044695483918,
                -1.311237780356674,
                0.5104171124308309,
                2.591499221901063,
                -0.839192026112183,
                0.8009786080444696,
                0.9323768503146157,
                0.6746829644849315,
                0.3539001286691513,
                -2.441375224512829,
                0.5932277968128689,
                0.3178696402378557,
                -0.7443496485482624,
                -0.08658829563289752,
                -0.5587490828414452,
                -0.07988301726239899,
                1.133106162342372,
                -0.9626083620595466,
                -0.5457179165928049,
                2.7716955516627992,
                -0.3083205567480621,
                -0.1812173394862551,
                -0.5338290507169039,
                -0.5317476807928426,
                -1.2304741764393683
               ]
              ]
             },
             {
              "title": "LOO PCA — removed: Marbella",
              "xaxis.title.text": "PC1 (LOO 80.9% | full 85.0%)",
              "yaxis.title.text": "PC2 (LOO 13.0% | full 10.2%)"
             }
            ],
            "label": "Marbella",
            "method": "update"
           },
           {
            "args": [
             {
              "text": [
               [
                "Amsterdam",
                "Ankara",
                "Athens",
                "Belgrade",
                "Berlin",
                "Bern",
                "Bonn",
                "Bruxells",
                "Bucarest",
                "Budapest",
                "Copenhagen",
                "Dublin",
                "Helsinki",
                "Lisbon",
                "London",
                "Luxemborg",
                "Marbella",
                "Moscow",
                "Oslo",
                "Paris",
                "Prague",
                "Rome",
                "Sofia",
                "Stockholm",
                "Vienna",
                "Warsaw",
                "Bratislava",
                "St. Petersberg",
                "Ljubljana",
                "Madrid",
                "Milan",
                "Edinburgh",
                "Skopje"
               ],
               [
                "Amsterdam",
                "Ankara",
                "Athens",
                "Belgrade",
                "Berlin",
                "Bern",
                "Bonn",
                "Bruxells",
                "Bucarest",
                "Budapest",
                "Copenhagen",
                "Dublin",
                "Helsinki",
                "Lisbon",
                "London",
                "Luxemborg",
                "Marbella",
                "Moscow",
                "Oslo",
                "Paris",
                "Prague",
                "Rome",
                "Sofia",
                "Stockholm",
                "Vienna",
                "Warsaw",
                "Bratislava",
                "St. Petersberg",
                "Ljubljana",
                "Madrid",
                "Milan",
                "Edinburgh",
                "Skopje"
               ]
              ],
              "x": [
               [
                -1.7985610030021446,
                0.649997149656205,
                6.294174214705732,
                1.6905433514905346,
                -1.410390978794403,
                -1.5393150282399077,
                -0.7852161272845428,
                -0.46967034098508276,
                0.2900765001605488,
                0.6436446190241338,
                -2.2487639540371345,
                -2.38707618461093,
                -6.139455083616384,
                5.524670263216043,
                2.3903193454741385,
                -1.4526151125885798,
                9.600113380454,
                -6.14036611679711,
                -4.061876500799416,
                1.104794063722633,
                -1.1856561328164101,
                4.027569179899582,
                0.04032540042375248,
                -4.003895238894383,
                -1.3840690027291331,
                -1.6806558909332214,
                -0.5618299432869879,
                -2.0853678603633274,
                -0.30684262914827787,
                3.2426468530196697,
                1.5540636816440196,
                -4.706965206816212,
                1.155284216055485
               ],
               [
                -1.6089431876426106,
                0.8394927193989605,
                6.264719408324749,
                1.826480333559447,
                -1.1631348025575532,
                -1.3266107115494639,
                -0.6029628176799451,
                -0.3046031148315868,
                0.5259299386909978,
                0.8510364468622639,
                -2.0049750062259784,
                -2.2209200522853623,
                -5.689723866046906,
                5.45809462502937,
                2.4372007485479994,
                -1.2473646595111652,
                9.39227726577733,
                -5.614410226066114,
                -3.75858658656571,
                1.2267887138911122,
                -0.9300008663622898,
                4.052442893704254,
                0.24166408144901041,
                -3.6666634465392955,
                -1.1847346488875605,
                -1.4024451701042604,
                -0.3427389990828569,
                -1.9342579243756037,
                -0.10725654081320292,
                3.2960739823151677,
                1.689365166548902,
                -4.326547838072791,
                1.3353141411006915
               ]
              ],
              "y": [
               [
                1.5008858370322713,
                -0.8367291493169706,
                -0.8053905444627186,
                -0.6732069190347266,
                -0.4655141178527454,
                0.5405254255714396,
                0.6690364627279101,
                0.8904299677231425,
                -1.7981764866876118,
                -1.4258444387315614,
                0.3631785626883168,
                2.525756535381791,
                -1.2278523840969835,
                0.986180827731845,
                1.0112641801556752,
                0.5476372365195399,
                0.7058332379637546,
                -2.8394614311091204,
                0.3469116481308924,
                0.3069014828969982,
                -0.9031647780697674,
                -0.012859973994302564,
                -0.6618243366180293,
                -0.3429479419400361,
                1.1164241174359881,
                -1.138836451212313,
                -0.6564468641112932,
                2.730081608107184,
                -0.40521359301334653,
                -0.16007280488387965,
                -0.5723906325873079,
                -0.8365418707529236,
                -1.3180338427002314
               ],
               [
                1.5837703120091873,
                -0.7701974173140835,
                -0.9466438136971433,
                -0.6240515499702396,
                -0.31019269462402527,
                0.6595068112664205,
                0.7587930099741153,
                0.9703559331056758,
                -1.6458044695483918,
                -1.311237780356674,
                0.5104171124308309,
                2.591499221901063,
                -0.839192026112183,
                0.8009786080444696,
                0.9323768503146157,
                0.6746829644849315,
                0.3539001286691513,
                -2.441375224512829,
                0.5932277968128689,
                0.3178696402378557,
                -0.7443496485482624,
                -0.08658829563289752,
                -0.5587490828414452,
                -0.07988301726239899,
                1.133106162342372,
                -0.9626083620595466,
                -0.5457179165928049,
                2.7716955516627992,
                -0.3083205567480621,
                -0.1812173394862551,
                -0.5338290507169039,
                -0.5317476807928426,
                -1.2304741764393683
               ]
              ]
             },
             {
              "title": "LOO PCA — removed: Moscow",
              "xaxis.title.text": "PC1 (LOO 85.4% | full 85.0%)",
              "yaxis.title.text": "PC2 (LOO 9.6% | full 10.2%)"
             }
            ],
            "label": "Moscow",
            "method": "update"
           },
           {
            "args": [
             {
              "text": [
               [
                "Amsterdam",
                "Ankara",
                "Athens",
                "Belgrade",
                "Berlin",
                "Bern",
                "Bonn",
                "Bruxells",
                "Bucarest",
                "Budapest",
                "Copenhagen",
                "Dublin",
                "Helsinki",
                "Lisbon",
                "London",
                "Luxemborg",
                "Marbella",
                "Moscow",
                "Oslo",
                "Paris",
                "Prague",
                "Rome",
                "Sofia",
                "Stockholm",
                "Vienna",
                "Warsaw",
                "Bratislava",
                "St. Petersberg",
                "Ljubljana",
                "Madrid",
                "Milan",
                "Edinburgh",
                "Skopje"
               ],
               [
                "Amsterdam",
                "Ankara",
                "Athens",
                "Belgrade",
                "Berlin",
                "Bern",
                "Bonn",
                "Bruxells",
                "Bucarest",
                "Budapest",
                "Copenhagen",
                "Dublin",
                "Helsinki",
                "Lisbon",
                "London",
                "Luxemborg",
                "Marbella",
                "Moscow",
                "Oslo",
                "Paris",
                "Prague",
                "Rome",
                "Sofia",
                "Stockholm",
                "Vienna",
                "Warsaw",
                "Bratislava",
                "St. Petersberg",
                "Ljubljana",
                "Madrid",
                "Milan",
                "Edinburgh",
                "Skopje"
               ]
              ],
              "x": [
               [
                -1.7399789520788833,
                0.729380845450676,
                6.183389538451531,
                1.7212134137268789,
                -1.2880910277566773,
                -1.4537972062561817,
                -0.72471877424657,
                -0.4239990716488757,
                0.414895253383997,
                0.7419059388220954,
                -2.1391342206789923,
                -2.3598585971706365,
                -5.849867208853946,
                5.375615162759621,
                2.3329620922333527,
                -1.3720957734979462,
                9.334410084392731,
                -5.760424208909878,
                -3.9077825999173466,
                1.1176602328848668,
                -1.0516855325449008,
                3.9582662157945174,
                0.12713786946500708,
                -3.813592582716972,
                -1.295165016959613,
                -1.5259580159967463,
                -0.4633983381117239,
                -2.070255246594859,
                -0.2278629470834702,
                3.193982426128157,
                1.5810442944373455,
                -4.477511750827881,
                1.225531104003977
               ],
               [
                -1.6089431876426106,
                0.8394927193989605,
                6.264719408324749,
                1.826480333559447,
                -1.1631348025575532,
                -1.3266107115494639,
                -0.6029628176799451,
                -0.3046031148315868,
                0.5259299386909978,
                0.8510364468622639,
                -2.0049750062259784,
                -2.2209200522853623,
                -5.689723866046906,
                5.45809462502937,
                2.4372007485479994,
                -1.2473646595111652,
                9.39227726577733,
                -5.614410226066114,
                -3.75858658656571,
                1.2267887138911122,
                -0.9300008663622898,
                4.052442893704254,
                0.24166408144901041,
                -3.6666634465392955,
                -1.1847346488875605,
                -1.4024451701042604,
                -0.3427389990828569,
                -1.9342579243756037,
                -0.10725654081320292,
                3.2960739823151677,
                1.689365166548902,
                -4.326547838072791,
                1.3353141411006915
               ]
              ],
              "y": [
               [
                1.6146429464962722,
                -0.755733380439524,
                -0.9840445563862529,
                -0.6278381395978989,
                -0.2782461360341827,
                0.6968261280115252,
                0.7925845488930978,
                1.0022359538218375,
                -1.6330235629290881,
                -1.2919497180228927,
                0.53477931294517,
                2.627555803983825,
                -0.7903640804905823,
                0.7889875916742594,
                0.9323441445557439,
                0.708749369026242,
                0.3034998800878413,
                -2.380964960445135,
                0.6073664874189436,
                0.3368307950856999,
                -0.716044431279654,
                -0.10273511805157409,
                -0.5337510541927729,
                -0.04785328507669029,
                1.1720661271499613,
                -0.9541965400637661,
                -0.5211278760882749,
                2.808787577896899,
                -0.28444962735521784,
                -0.18728519927152756,
                -0.5225874196585146,
                -0.49011891363968174,
                -1.2175761806051437
               ],
               [
                1.5837703120091873,
                -0.7701974173140835,
                -0.9466438136971433,
                -0.6240515499702396,
                -0.31019269462402527,
                0.6595068112664205,
                0.7587930099741153,
                0.9703559331056758,
                -1.6458044695483918,
                -1.311237780356674,
                0.5104171124308309,
                2.591499221901063,
                -0.839192026112183,
                0.8009786080444696,
                0.9323768503146157,
                0.6746829644849315,
                0.3539001286691513,
                -2.441375224512829,
                0.5932277968128689,
                0.3178696402378557,
                -0.7443496485482624,
                -0.08658829563289752,
                -0.5587490828414452,
                -0.07988301726239899,
                1.133106162342372,
                -0.9626083620595466,
                -0.5457179165928049,
                2.7716955516627992,
                -0.3083205567480621,
                -0.1812173394862551,
                -0.5338290507169039,
                -0.5317476807928426,
                -1.2304741764393683
               ]
              ]
             },
             {
              "title": "LOO PCA — removed: Oslo",
              "xaxis.title.text": "PC1 (LOO 85.0% | full 85.0%)",
              "yaxis.title.text": "PC2 (LOO 10.4% | full 10.2%)"
             }
            ],
            "label": "Oslo",
            "method": "update"
           },
           {
            "args": [
             {
              "text": [
               [
                "Amsterdam",
                "Ankara",
                "Athens",
                "Belgrade",
                "Berlin",
                "Bern",
                "Bonn",
                "Bruxells",
                "Bucarest",
                "Budapest",
                "Copenhagen",
                "Dublin",
                "Helsinki",
                "Lisbon",
                "London",
                "Luxemborg",
                "Marbella",
                "Moscow",
                "Oslo",
                "Paris",
                "Prague",
                "Rome",
                "Sofia",
                "Stockholm",
                "Vienna",
                "Warsaw",
                "Bratislava",
                "St. Petersberg",
                "Ljubljana",
                "Madrid",
                "Milan",
                "Edinburgh",
                "Skopje"
               ],
               [
                "Amsterdam",
                "Ankara",
                "Athens",
                "Belgrade",
                "Berlin",
                "Bern",
                "Bonn",
                "Bruxells",
                "Bucarest",
                "Budapest",
                "Copenhagen",
                "Dublin",
                "Helsinki",
                "Lisbon",
                "London",
                "Luxemborg",
                "Marbella",
                "Moscow",
                "Oslo",
                "Paris",
                "Prague",
                "Rome",
                "Sofia",
                "Stockholm",
                "Vienna",
                "Warsaw",
                "Bratislava",
                "St. Petersberg",
                "Ljubljana",
                "Madrid",
                "Milan",
                "Edinburgh",
                "Skopje"
               ]
              ],
              "x": [
               [
                -1.549108089868642,
                0.8655353347959929,
                6.219968558289753,
                1.8399501741656477,
                -1.1103244142943696,
                -1.2701786198460439,
                -0.5558774248428541,
                -0.2613771518273404,
                0.55505256165796,
                0.8771665793840575,
                -1.9412319706937136,
                -2.1514945036026556,
                -5.580707512498469,
                5.427227101549162,
                2.4447594765069933,
                -1.191564276207127,
                9.309708662928978,
                -5.5074470339069554,
                -3.6732251262797346,
                1.2501554006166071,
                -0.8805049247316906,
                4.037544822083485,
                0.2763413074439292,
                -3.5826487883290796,
                -1.1296773968224447,
                -1.3484715994615084,
                -0.3005114172999001,
                -1.8684460541827606,
                -0.06787902043907174,
                3.2913223094589865,
                1.7053398345442938,
                -4.234218615997508,
                1.3549772183226325
               ],
               [
                -1.6089431876426106,
                0.8394927193989605,
                6.264719408324749,
                1.826480333559447,
                -1.1631348025575532,
                -1.3266107115494639,
                -0.6029628176799451,
                -0.3046031148315868,
                0.5259299386909978,
                0.8510364468622639,
                -2.0049750062259784,
                -2.2209200522853623,
                -5.689723866046906,
                5.45809462502937,
                2.4372007485479994,
                -1.2473646595111652,
                9.39227726577733,
                -5.614410226066114,
                -3.75858658656571,
                1.2267887138911122,
                -0.9300008663622898,
                4.052442893704254,
                0.24166408144901041,
                -3.6666634465392955,
                -1.1847346488875605,
                -1.4024451701042604,
                -0.3427389990828569,
                -1.9342579243756037,
                -0.10725654081320292,
                3.2960739823151677,
                1.689365166548902,
                -4.326547838072791,
                1.3353141411006915
               ]
              ],
              "y": [
               [
                1.572238151933745,
                -0.7506102878127111,
                -0.9157459325601531,
                -0.6039378202997975,
                -0.29812614848853813,
                0.659116887638321,
                0.756853884481878,
                0.9668941344038987,
                -1.6147740469591907,
                -1.2849133055803745,
                0.5129738915341133,
                2.565888776278433,
                -0.8214926484181831,
                0.805300892559453,
                0.9327569843241085,
                0.6727461003564014,
                0.36933572262284753,
                -2.4078405120452304,
                0.5944240882076636,
                0.3233313225869205,
                -0.7267925233387804,
                -0.06976274416496753,
                -0.5428659503276394,
                -0.07062405790465695,
                1.121122061194323,
                -0.9425708975603128,
                -0.5296565000138855,
                2.7442606720165807,
                -0.29469979461779955,
                -0.16362934647680952,
                -0.5152084073078678,
                -0.5176040768464777,
                -1.2030572468283893
               ],
               [
                1.5837703120091873,
                -0.7701974173140835,
                -0.9466438136971433,
                -0.6240515499702396,
                -0.31019269462402527,
                0.6595068112664205,
                0.7587930099741153,
                0.9703559331056758,
                -1.6458044695483918,
                -1.311237780356674,
                0.5104171124308309,
                2.591499221901063,
                -0.839192026112183,
                0.8009786080444696,
                0.9323768503146157,
                0.6746829644849315,
                0.3539001286691513,
                -2.441375224512829,
                0.5932277968128689,
                0.3178696402378557,
                -0.7443496485482624,
                -0.08658829563289752,
                -0.5587490828414452,
                -0.07988301726239899,
                1.133106162342372,
                -0.9626083620595466,
                -0.5457179165928049,
                2.7716955516627992,
                -0.3083205567480621,
                -0.1812173394862551,
                -0.5338290507169039,
                -0.5317476807928426,
                -1.2304741764393683
               ]
              ]
             },
             {
              "title": "LOO PCA — removed: Paris",
              "xaxis.title.text": "PC1 (LOO 85.0% | full 85.0%)",
              "yaxis.title.text": "PC2 (LOO 10.2% | full 10.2%)"
             }
            ],
            "label": "Paris",
            "method": "update"
           },
           {
            "args": [
             {
              "text": [
               [
                "Amsterdam",
                "Ankara",
                "Athens",
                "Belgrade",
                "Berlin",
                "Bern",
                "Bonn",
                "Bruxells",
                "Bucarest",
                "Budapest",
                "Copenhagen",
                "Dublin",
                "Helsinki",
                "Lisbon",
                "London",
                "Luxemborg",
                "Marbella",
                "Moscow",
                "Oslo",
                "Paris",
                "Prague",
                "Rome",
                "Sofia",
                "Stockholm",
                "Vienna",
                "Warsaw",
                "Bratislava",
                "St. Petersberg",
                "Ljubljana",
                "Madrid",
                "Milan",
                "Edinburgh",
                "Skopje"
               ],
               [
                "Amsterdam",
                "Ankara",
                "Athens",
                "Belgrade",
                "Berlin",
                "Bern",
                "Bonn",
                "Bruxells",
                "Bucarest",
                "Budapest",
                "Copenhagen",
                "Dublin",
                "Helsinki",
                "Lisbon",
                "London",
                "Luxemborg",
                "Marbella",
                "Moscow",
                "Oslo",
                "Paris",
                "Prague",
                "Rome",
                "Sofia",
                "Stockholm",
                "Vienna",
                "Warsaw",
                "Bratislava",
                "St. Petersberg",
                "Ljubljana",
                "Madrid",
                "Milan",
                "Edinburgh",
                "Skopje"
               ]
              ],
              "x": [
               [
                -1.6140356213206506,
                0.7984992384390034,
                6.152557239149132,
                1.7729973175212586,
                -1.1771547808161087,
                -1.3373099336173813,
                -0.6224456827508895,
                -0.32782859120660346,
                0.4880094166652364,
                0.8089167724226816,
                -2.006276889411882,
                -2.216109937682776,
                -5.6443867748032375,
                5.358536880139031,
                2.3778193336470923,
                -1.2590097878241642,
                9.24048503346775,
                -5.572967175620646,
                -3.7359118237372204,
                1.181906875052898,
                -0.9477881527884271,
                3.9703807368068995,
                0.20882994765711602,
                -3.6466897497983686,
                -1.1974113341010453,
                -1.4138466935108143,
                -0.36797977429842504,
                -1.9331793171263367,
                -0.13516018538984226,
                3.2235274449083606,
                1.6372324454851488,
                -4.298888099409154,
                1.2868934710639384
               ],
               [
                -1.6089431876426106,
                0.8394927193989605,
                6.264719408324749,
                1.826480333559447,
                -1.1631348025575532,
                -1.3266107115494639,
                -0.6029628176799451,
                -0.3046031148315868,
                0.5259299386909978,
                0.8510364468622639,
                -2.0049750062259784,
                -2.2209200522853623,
                -5.689723866046906,
                5.45809462502937,
                2.4372007485479994,
                -1.2473646595111652,
                9.39227726577733,
                -5.614410226066114,
                -3.75858658656571,
                1.2267887138911122,
                -0.9300008663622898,
                4.052442893704254,
                0.24166408144901041,
                -3.6666634465392955,
                -1.1847346488875605,
                -1.4024451701042604,
                -0.3427389990828569,
                -1.9342579243756037,
                -0.10725654081320292,
                3.2960739823151677,
                1.689365166548902,
                -4.326547838072791,
                1.3353141411006915
               ]
              ],
              "y": [
               [
                1.5333704094165272,
                -0.7837813787919378,
                -0.9481940600311023,
                -0.6345901657442372,
                -0.32952722002477974,
                0.6274655754671868,
                0.7267775051845489,
                0.9343380175052738,
                -1.6474749286630201,
                -1.3135078886008638,
                0.4770367830265803,
                2.5303108766388593,
                -0.863583924609856,
                0.7784561756090167,
                0.9018675224897565,
                0.6449785731712032,
                0.3441900977284791,
                -2.4437012216782388,
                0.5533391076405613,
                0.2956489137253733,
                -0.7559804910801768,
                -0.10279373265384524,
                -0.5733821727681194,
                -0.1093503775913541,
                1.0896357943751764,
                -0.9769072167369289,
                -0.5592443598629421,
                2.7069181908868463,
                -0.32584725902507944,
                -0.1963488844453233,
                -0.5458581424383255,
                -0.5562854905794868,
                -1.2339551186199489
               ],
               [
                1.5837703120091873,
                -0.7701974173140835,
                -0.9466438136971433,
                -0.6240515499702396,
                -0.31019269462402527,
                0.6595068112664205,
                0.7587930099741153,
                0.9703559331056758,
                -1.6458044695483918,
                -1.311237780356674,
                0.5104171124308309,
                2.591499221901063,
                -0.839192026112183,
                0.8009786080444696,
                0.9323768503146157,
                0.6746829644849315,
                0.3539001286691513,
                -2.441375224512829,
                0.5932277968128689,
                0.3178696402378557,
                -0.7443496485482624,
                -0.08658829563289752,
                -0.5587490828414452,
                -0.07988301726239899,
                1.133106162342372,
                -0.9626083620595466,
                -0.5457179165928049,
                2.7716955516627992,
                -0.3083205567480621,
                -0.1812173394862551,
                -0.5338290507169039,
                -0.5317476807928426,
                -1.2304741764393683
               ]
              ]
             },
             {
              "title": "LOO PCA — removed: Prague",
              "xaxis.title.text": "PC1 (LOO 85.2% | full 85.0%)",
              "yaxis.title.text": "PC2 (LOO 10.1% | full 10.2%)"
             }
            ],
            "label": "Prague",
            "method": "update"
           },
           {
            "args": [
             {
              "text": [
               [
                "Amsterdam",
                "Ankara",
                "Athens",
                "Belgrade",
                "Berlin",
                "Bern",
                "Bonn",
                "Bruxells",
                "Bucarest",
                "Budapest",
                "Copenhagen",
                "Dublin",
                "Helsinki",
                "Lisbon",
                "London",
                "Luxemborg",
                "Marbella",
                "Moscow",
                "Oslo",
                "Paris",
                "Prague",
                "Rome",
                "Sofia",
                "Stockholm",
                "Vienna",
                "Warsaw",
                "Bratislava",
                "St. Petersberg",
                "Ljubljana",
                "Madrid",
                "Milan",
                "Edinburgh",
                "Skopje"
               ],
               [
                "Amsterdam",
                "Ankara",
                "Athens",
                "Belgrade",
                "Berlin",
                "Bern",
                "Bonn",
                "Bruxells",
                "Bucarest",
                "Budapest",
                "Copenhagen",
                "Dublin",
                "Helsinki",
                "Lisbon",
                "London",
                "Luxemborg",
                "Marbella",
                "Moscow",
                "Oslo",
                "Paris",
                "Prague",
                "Rome",
                "Sofia",
                "Stockholm",
                "Vienna",
                "Warsaw",
                "Bratislava",
                "St. Petersberg",
                "Ljubljana",
                "Madrid",
                "Milan",
                "Edinburgh",
                "Skopje"
               ]
              ],
              "x": [
               [
                -1.4900109640384949,
                0.9740086647936297,
                6.4375313239395116,
                1.9672907900210344,
                -1.044298716891905,
                -1.2091091367949478,
                -0.480131030093028,
                -0.17731250578670593,
                0.6586552171169371,
                0.9837946547137959,
                -1.891444507665588,
                -2.1103015068851314,
                -5.600927941394313,
                5.624074375487274,
                2.5813304393909573,
                -1.1307978874627609,
                9.58570129962776,
                -5.524816749111711,
                -3.6568649898046086,
                1.3610813561464674,
                -0.8102460626475901,
                4.210293887029316,
                0.37030371877917084,
                -3.564570081173223,
                -1.0626125973880565,
                -1.2839055887413153,
                -0.22024238776329488,
                -1.8198455004950385,
                0.017461769863905505,
                3.446701384658931,
                1.8278089899570955,
                -4.229752762211749,
                1.4714469318529906
               ],
               [
                -1.6089431876426106,
                0.8394927193989605,
                6.264719408324749,
                1.826480333559447,
                -1.1631348025575532,
                -1.3266107115494639,
                -0.6029628176799451,
                -0.3046031148315868,
                0.5259299386909978,
                0.8510364468622639,
                -2.0049750062259784,
                -2.2209200522853623,
                -5.689723866046906,
                5.45809462502937,
                2.4372007485479994,
                -1.2473646595111652,
                9.39227726577733,
                -5.614410226066114,
                -3.75858658656571,
                1.2267887138911122,
                -0.9300008663622898,
                4.052442893704254,
                0.24166408144901041,
                -3.6666634465392955,
                -1.1847346488875605,
                -1.4024451701042604,
                -0.3427389990828569,
                -1.9342579243756037,
                -0.10725654081320292,
                3.2960739823151677,
                1.689365166548902,
                -4.326547838072791,
                1.3353141411006915
               ]
              ],
              "y": [
               [
                1.5928560826354432,
                -0.7763850405444919,
                -0.9604267658664967,
                -0.6320653584743763,
                -0.31559207330041533,
                0.6586165804128715,
                0.7620134157078629,
                0.9716358692541012,
                -1.6586228069898805,
                -1.3249743354413457,
                0.5136279447645813,
                2.608867721283319,
                -0.8427401302945583,
                0.796909060643248,
                0.9344495123644482,
                0.6749419671454923,
                0.3451862399602146,
                -2.450108425773152,
                0.6020013271245962,
                0.31395797915297047,
                -0.7518146061621965,
                -0.09486357719327126,
                -0.5655989058531445,
                -0.07886684296475202,
                1.1419228831868584,
                -0.9641204441244092,
                -0.5523881008731524,
                2.7887227409623003,
                -0.3140674361789942,
                -0.1933604474839579,
                -0.5448135375118274,
                -0.5343369361272723,
                -1.2454271306338842
               ],
               [
                1.5837703120091873,
                -0.7701974173140835,
                -0.9466438136971433,
                -0.6240515499702396,
                -0.31019269462402527,
                0.6595068112664205,
                0.7587930099741153,
                0.9703559331056758,
                -1.6458044695483918,
                -1.311237780356674,
                0.5104171124308309,
                2.591499221901063,
                -0.839192026112183,
                0.8009786080444696,
                0.9323768503146157,
                0.6746829644849315,
                0.3539001286691513,
                -2.441375224512829,
                0.5932277968128689,
                0.3178696402378557,
                -0.7443496485482624,
                -0.08658829563289752,
                -0.5587490828414452,
                -0.07988301726239899,
                1.133106162342372,
                -0.9626083620595466,
                -0.5457179165928049,
                2.7716955516627992,
                -0.3083205567480621,
                -0.1812173394862551,
                -0.5338290507169039,
                -0.5317476807928426,
                -1.2304741764393683
               ]
              ]
             },
             {
              "title": "LOO PCA — removed: Rome",
              "xaxis.title.text": "PC1 (LOO 84.4% | full 85.0%)",
              "yaxis.title.text": "PC2 (LOO 10.6% | full 10.2%)"
             }
            ],
            "label": "Rome",
            "method": "update"
           },
           {
            "args": [
             {
              "text": [
               [
                "Amsterdam",
                "Ankara",
                "Athens",
                "Belgrade",
                "Berlin",
                "Bern",
                "Bonn",
                "Bruxells",
                "Bucarest",
                "Budapest",
                "Copenhagen",
                "Dublin",
                "Helsinki",
                "Lisbon",
                "London",
                "Luxemborg",
                "Marbella",
                "Moscow",
                "Oslo",
                "Paris",
                "Prague",
                "Rome",
                "Sofia",
                "Stockholm",
                "Vienna",
                "Warsaw",
                "Bratislava",
                "St. Petersberg",
                "Ljubljana",
                "Madrid",
                "Milan",
                "Edinburgh",
                "Skopje"
               ],
               [
                "Amsterdam",
                "Ankara",
                "Athens",
                "Belgrade",
                "Berlin",
                "Bern",
                "Bonn",
                "Bruxells",
                "Bucarest",
                "Budapest",
                "Copenhagen",
                "Dublin",
                "Helsinki",
                "Lisbon",
                "London",
                "Luxemborg",
                "Marbella",
                "Moscow",
                "Oslo",
                "Paris",
                "Prague",
                "Rome",
                "Sofia",
                "Stockholm",
                "Vienna",
                "Warsaw",
                "Bratislava",
                "St. Petersberg",
                "Ljubljana",
                "Madrid",
                "Milan",
                "Edinburgh",
                "Skopje"
               ]
              ],
              "x": [
               [
                -1.5775192727843164,
                0.8342074512157575,
                6.18098780883296,
                1.8072597107857395,
                -1.139165851172495,
                -1.2997193114995715,
                -0.5865331926566875,
                -0.29273782819374744,
                0.5243254869474555,
                0.8450489936048766,
                -1.9679815566614574,
                -2.1795120611259904,
                -5.600621647174096,
                5.386947233755862,
                2.4101954360901345,
                -1.2212384165471286,
                9.264382729597614,
                -5.527554638251943,
                -3.695694942143515,
                1.216784712995412,
                -0.9094398281513318,
                4.001063980987506,
                0.24496468372742117,
                -3.6058682198650445,
                -1.1596159848231558,
                -1.3747842792393263,
                -0.3305364061965181,
                -1.8971572816053806,
                -0.0985050374247773,
                3.2555213492251593,
                1.6718047863167462,
                -4.256690294902136,
                1.3223463700633986
               ],
               [
                -1.6089431876426106,
                0.8394927193989605,
                6.264719408324749,
                1.826480333559447,
                -1.1631348025575532,
                -1.3266107115494639,
                -0.6029628176799451,
                -0.3046031148315868,
                0.5259299386909978,
                0.8510364468622639,
                -2.0049750062259784,
                -2.2209200522853623,
                -5.689723866046906,
                5.45809462502937,
                2.4372007485479994,
                -1.2473646595111652,
                9.39227726577733,
                -5.614410226066114,
                -3.75858658656571,
                1.2267887138911122,
                -0.9300008663622898,
                4.052442893704254,
                0.24166408144901041,
                -3.6666634465392955,
                -1.1847346488875605,
                -1.4024451701042604,
                -0.3427389990828569,
                -1.9342579243756037,
                -0.10725654081320292,
                3.2960739823151677,
                1.689365166548902,
                -4.326547838072791,
                1.3353141411006915
               ]
              ],
              "y": [
               [
                1.5435379701115415,
                -0.7748529301526935,
                -0.957400463112285,
                -0.6342298302770161,
                -0.3222052006336501,
                0.6346718447681724,
                0.734077615138254,
                0.9407386469908211,
                -1.6369488701129304,
                -1.307127124608,
                0.4842872901041558,
                2.5384334381576172,
                -0.8458326114716024,
                0.7707323536040684,
                0.8995861789910542,
                0.6511400432781275,
                0.3258672533703819,
                -2.4181531880468286,
                0.5639550038127158,
                0.2972967910854633,
                -0.7494097133843645,
                -0.1073423273699721,
                -0.5642277928123025,
                -0.09841577847433186,
                1.1085589373130649,
                -0.9659521436967472,
                -0.5538170942839513,
                2.715766748804912,
                -0.31988839642572325,
                -0.20022952045210504,
                -0.5440991981217125,
                -0.5424648568707501,
                -1.2302808680356894
               ],
               [
                1.5837703120091873,
                -0.7701974173140835,
                -0.9466438136971433,
                -0.6240515499702396,
                -0.31019269462402527,
                0.6595068112664205,
                0.7587930099741153,
                0.9703559331056758,
                -1.6458044695483918,
                -1.311237780356674,
                0.5104171124308309,
                2.591499221901063,
                -0.839192026112183,
                0.8009786080444696,
                0.9323768503146157,
                0.6746829644849315,
                0.3539001286691513,
                -2.441375224512829,
                0.5932277968128689,
                0.3178696402378557,
                -0.7443496485482624,
                -0.08658829563289752,
                -0.5587490828414452,
                -0.07988301726239899,
                1.133106162342372,
                -0.9626083620595466,
                -0.5457179165928049,
                2.7716955516627992,
                -0.3083205567480621,
                -0.1812173394862551,
                -0.5338290507169039,
                -0.5317476807928426,
                -1.2304741764393683
               ]
              ]
             },
             {
              "title": "LOO PCA — removed: Sofia",
              "xaxis.title.text": "PC1 (LOO 85.1% | full 85.0%)",
              "yaxis.title.text": "PC2 (LOO 10.1% | full 10.2%)"
             }
            ],
            "label": "Sofia",
            "method": "update"
           },
           {
            "args": [
             {
              "text": [
               [
                "Amsterdam",
                "Ankara",
                "Athens",
                "Belgrade",
                "Berlin",
                "Bern",
                "Bonn",
                "Bruxells",
                "Bucarest",
                "Budapest",
                "Copenhagen",
                "Dublin",
                "Helsinki",
                "Lisbon",
                "London",
                "Luxemborg",
                "Marbella",
                "Moscow",
                "Oslo",
                "Paris",
                "Prague",
                "Rome",
                "Sofia",
                "Stockholm",
                "Vienna",
                "Warsaw",
                "Bratislava",
                "St. Petersberg",
                "Ljubljana",
                "Madrid",
                "Milan",
                "Edinburgh",
                "Skopje"
               ],
               [
                "Amsterdam",
                "Ankara",
                "Athens",
                "Belgrade",
                "Berlin",
                "Bern",
                "Bonn",
                "Bruxells",
                "Bucarest",
                "Budapest",
                "Copenhagen",
                "Dublin",
                "Helsinki",
                "Lisbon",
                "London",
                "Luxemborg",
                "Marbella",
                "Moscow",
                "Oslo",
                "Paris",
                "Prague",
                "Rome",
                "Sofia",
                "Stockholm",
                "Vienna",
                "Warsaw",
                "Bratislava",
                "St. Petersberg",
                "Ljubljana",
                "Madrid",
                "Milan",
                "Edinburgh",
                "Skopje"
               ]
              ],
              "x": [
               [
                -1.7303029396355076,
                0.7289728754354341,
                6.168601664401781,
                1.7176572838492894,
                -1.2833142438481155,
                -1.4452563956413544,
                -0.7170362668652426,
                -0.41852333354851634,
                0.41490393579977075,
                0.7419036558154808,
                -2.131071755153566,
                -2.3449709504001817,
                -5.835071052503001,
                5.367367647829698,
                2.331853064673363,
                -1.3644728120334868,
                9.312778484797583,
                -5.749709288003769,
                -3.89532086600061,
                1.118884931969241,
                -1.0486250957437613,
                3.9505750035942837,
                0.13054570107176622,
                -3.804179521306817,
                -1.2914784892501956,
                -1.5227299491035247,
                -0.4590309113235213,
                -2.0566613175487127,
                -0.22232301051887562,
                3.189969886194967,
                1.5813080757417985,
                -4.464843174588097,
                1.2254196405355842
               ],
               [
                -1.6089431876426106,
                0.8394927193989605,
                6.264719408324749,
                1.826480333559447,
                -1.1631348025575532,
                -1.3266107115494639,
                -0.6029628176799451,
                -0.3046031148315868,
                0.5259299386909978,
                0.8510364468622639,
                -2.0049750062259784,
                -2.2209200522853623,
                -5.689723866046906,
                5.45809462502937,
                2.4372007485479994,
                -1.2473646595111652,
                9.39227726577733,
                -5.614410226066114,
                -3.75858658656571,
                1.2267887138911122,
                -0.9300008663622898,
                4.052442893704254,
                0.24166408144901041,
                -3.6666634465392955,
                -1.1847346488875605,
                -1.4024451701042604,
                -0.3427389990828569,
                -1.9342579243756037,
                -0.10725654081320292,
                3.2960739823151677,
                1.689365166548902,
                -4.326547838072791,
                1.3353141411006915
               ]
              ],
              "y": [
               [
                1.5767379735038147,
                -0.7765745549932225,
                -0.9426855111364695,
                -0.6244811715566961,
                -0.30962260637007916,
                0.6569871592115137,
                0.758795015250789,
                0.9711739632517961,
                -1.6463605827025711,
                -1.3103204149643208,
                0.5040431066436426,
                2.5881708083960078,
                -0.8385836769551598,
                0.8023448821659772,
                0.9271587133201803,
                0.6760317174323421,
                0.3525482873630147,
                -2.4602186472494445,
                0.590776996305895,
                0.3170693019281867,
                -0.7473932029189896,
                -0.0841494205140645,
                -0.5589285786250777,
                -0.07999322902825538,
                1.1025502287942177,
                -0.9731987780335837,
                -0.5489633025253218,
                2.765533205149705,
                -0.3092595166337228,
                -0.16920556869452158,
                -0.5305259704089473,
                -0.5320044257061783,
                -1.2274454287287124
               ],
               [
                1.5837703120091873,
                -0.7701974173140835,
                -0.9466438136971433,
                -0.6240515499702396,
                -0.31019269462402527,
                0.6595068112664205,
                0.7587930099741153,
                0.9703559331056758,
                -1.6458044695483918,
                -1.311237780356674,
                0.5104171124308309,
                2.591499221901063,
                -0.839192026112183,
                0.8009786080444696,
                0.9323768503146157,
                0.6746829644849315,
                0.3539001286691513,
                -2.441375224512829,
                0.5932277968128689,
                0.3178696402378557,
                -0.7443496485482624,
                -0.08658829563289752,
                -0.5587490828414452,
                -0.07988301726239899,
                1.133106162342372,
                -0.9626083620595466,
                -0.5457179165928049,
                2.7716955516627992,
                -0.3083205567480621,
                -0.1812173394862551,
                -0.5338290507169039,
                -0.5317476807928426,
                -1.2304741764393683
               ]
              ]
             },
             {
              "title": "LOO PCA — removed: Stockholm",
              "xaxis.title.text": "PC1 (LOO 84.7% | full 85.0%)",
              "yaxis.title.text": "PC2 (LOO 10.5% | full 10.2%)"
             }
            ],
            "label": "Stockholm",
            "method": "update"
           },
           {
            "args": [
             {
              "text": [
               [
                "Amsterdam",
                "Ankara",
                "Athens",
                "Belgrade",
                "Berlin",
                "Bern",
                "Bonn",
                "Bruxells",
                "Bucarest",
                "Budapest",
                "Copenhagen",
                "Dublin",
                "Helsinki",
                "Lisbon",
                "London",
                "Luxemborg",
                "Marbella",
                "Moscow",
                "Oslo",
                "Paris",
                "Prague",
                "Rome",
                "Sofia",
                "Stockholm",
                "Vienna",
                "Warsaw",
                "Bratislava",
                "St. Petersberg",
                "Ljubljana",
                "Madrid",
                "Milan",
                "Edinburgh",
                "Skopje"
               ],
               [
                "Amsterdam",
                "Ankara",
                "Athens",
                "Belgrade",
                "Berlin",
                "Bern",
                "Bonn",
                "Bruxells",
                "Bucarest",
                "Budapest",
                "Copenhagen",
                "Dublin",
                "Helsinki",
                "Lisbon",
                "London",
                "Luxemborg",
                "Marbella",
                "Moscow",
                "Oslo",
                "Paris",
                "Prague",
                "Rome",
                "Sofia",
                "Stockholm",
                "Vienna",
                "Warsaw",
                "Bratislava",
                "St. Petersberg",
                "Ljubljana",
                "Madrid",
                "Milan",
                "Edinburgh",
                "Skopje"
               ]
              ],
              "x": [
               [
                -1.6875218268720142,
                0.8002410629817724,
                6.228069916246081,
                1.800863575121337,
                -1.1853439890440114,
                -1.37761617133767,
                -0.6468262089976027,
                -0.36098865977354827,
                0.5196720858202865,
                0.8372937970401215,
                -2.0423484953489353,
                -2.3076065770571716,
                -5.669099361339847,
                5.375005244698794,
                2.3638134724972346,
                -1.2937312083316599,
                9.298565085687786,
                -5.588586480702535,
                -3.7778697499849723,
                1.1703185498152566,
                -0.9435727864813704,
                4.001179813089145,
                0.20873299993006952,
                -3.673052729231943,
                -1.3256049926388502,
                -1.4181489294897511,
                -0.3667028275098628,
                -2.037272514861684,
                -0.13725941444202422,
                3.2554154019682175,
                1.6557653058798822,
                -4.322349622338912,
                1.320961242369528
               ],
               [
                -1.6089431876426106,
                0.8394927193989605,
                6.264719408324749,
                1.826480333559447,
                -1.1631348025575532,
                -1.3266107115494639,
                -0.6029628176799451,
                -0.3046031148315868,
                0.5259299386909978,
                0.8510364468622639,
                -2.0049750062259784,
                -2.2209200522853623,
                -5.689723866046906,
                5.45809462502937,
                2.4372007485479994,
                -1.2473646595111652,
                9.39227726577733,
                -5.614410226066114,
                -3.75858658656571,
                1.2267887138911122,
                -0.9300008663622898,
                4.052442893704254,
                0.24166408144901041,
                -3.6666634465392955,
                -1.1847346488875605,
                -1.4024451701042604,
                -0.3427389990828569,
                -1.9342579243756037,
                -0.10725654081320292,
                3.2960739823151677,
                1.689365166548902,
                -4.326547838072791,
                1.3353141411006915
               ]
              ],
              "y": [
               [
                1.6216743376957372,
                -0.7419839506788837,
                -0.9072572245832751,
                -0.592500385680144,
                -0.2734284407887168,
                0.6892801329200047,
                0.7986168160897533,
                1.0034514017754914,
                -1.6210458855437306,
                -1.2877574242622438,
                0.5518699774872524,
                2.6370687727184112,
                -0.783913506230556,
                0.8286147600714349,
                0.9679542436404187,
                0.7041036494815037,
                0.3758471254777131,
                -2.413866033786212,
                0.6476891572589422,
                0.3464297971129608,
                -0.7126591556994405,
                -0.051399055697990026,
                -0.5324780314165143,
                -0.02695296211467965,
                1.1144785772190697,
                -0.9274235407985302,
                -0.513450728436301,
                2.8106784580977786,
                -0.2740647460923441,
                -0.14203276997683267,
                -0.5013167717062491,
                -0.4799183584233623,
                -1.199829657911397
               ],
               [
                1.5837703120091873,
                -0.7701974173140835,
                -0.9466438136971433,
                -0.6240515499702396,
                -0.31019269462402527,
                0.6595068112664205,
                0.7587930099741153,
                0.9703559331056758,
                -1.6458044695483918,
                -1.311237780356674,
                0.5104171124308309,
                2.591499221901063,
                -0.839192026112183,
                0.8009786080444696,
                0.9323768503146157,
                0.6746829644849315,
                0.3539001286691513,
                -2.441375224512829,
                0.5932277968128689,
                0.3178696402378557,
                -0.7443496485482624,
                -0.08658829563289752,
                -0.5587490828414452,
                -0.07988301726239899,
                1.133106162342372,
                -0.9626083620595466,
                -0.5457179165928049,
                2.7716955516627992,
                -0.3083205567480621,
                -0.1812173394862551,
                -0.5338290507169039,
                -0.5317476807928426,
                -1.2304741764393683
               ]
              ]
             },
             {
              "title": "LOO PCA — removed: Vienna",
              "xaxis.title.text": "PC1 (LOO 86.5% | full 85.0%)",
              "yaxis.title.text": "PC2 (LOO 10.2% | full 10.2%)"
             }
            ],
            "label": "Vienna",
            "method": "update"
           },
           {
            "args": [
             {
              "text": [
               [
                "Amsterdam",
                "Ankara",
                "Athens",
                "Belgrade",
                "Berlin",
                "Bern",
                "Bonn",
                "Bruxells",
                "Bucarest",
                "Budapest",
                "Copenhagen",
                "Dublin",
                "Helsinki",
                "Lisbon",
                "London",
                "Luxemborg",
                "Marbella",
                "Moscow",
                "Oslo",
                "Paris",
                "Prague",
                "Rome",
                "Sofia",
                "Stockholm",
                "Vienna",
                "Warsaw",
                "Bratislava",
                "St. Petersberg",
                "Ljubljana",
                "Madrid",
                "Milan",
                "Edinburgh",
                "Skopje"
               ],
               [
                "Amsterdam",
                "Ankara",
                "Athens",
                "Belgrade",
                "Berlin",
                "Bern",
                "Bonn",
                "Bruxells",
                "Bucarest",
                "Budapest",
                "Copenhagen",
                "Dublin",
                "Helsinki",
                "Lisbon",
                "London",
                "Luxemborg",
                "Marbella",
                "Moscow",
                "Oslo",
                "Paris",
                "Prague",
                "Rome",
                "Sofia",
                "Stockholm",
                "Vienna",
                "Warsaw",
                "Bratislava",
                "St. Petersberg",
                "Ljubljana",
                "Madrid",
                "Milan",
                "Edinburgh",
                "Skopje"
               ]
              ],
              "x": [
               [
                -1.6297816112271357,
                0.7835258127726716,
                6.150845774151903,
                1.759197962463045,
                -1.1945104280115426,
                -1.3530437168304361,
                -0.6371344950666759,
                -0.3420473059840826,
                0.46772230693833383,
                0.7930963021263547,
                -2.0252003389924544,
                -2.229725106827774,
                -5.676081171559981,
                5.360010149208019,
                2.372626893180084,
                -1.2753401634044637,
                9.250726798591165,
                -5.6077035474850305,
                -3.762945343417556,
                1.172964640291637,
                -0.9662760014209522,
                3.9647287172166696,
                0.19333669406498924,
                -3.6720814674009294,
                -1.2123598177710064,
                -1.4370605110223296,
                -0.38272235466831367,
                -1.9457906382149692,
                -0.14909049561639015,
                3.217500998346876,
                1.6273561321218741,
                -4.3256503669678334,
                1.273845189393904
               ],
               [
                -1.6089431876426106,
                0.8394927193989605,
                6.264719408324749,
                1.826480333559447,
                -1.1631348025575532,
                -1.3266107115494639,
                -0.6029628176799451,
                -0.3046031148315868,
                0.5259299386909978,
                0.8510364468622639,
                -2.0049750062259784,
                -2.2209200522853623,
                -5.689723866046906,
                5.45809462502937,
                2.4372007485479994,
                -1.2473646595111652,
                9.39227726577733,
                -5.614410226066114,
                -3.75858658656571,
                1.2267887138911122,
                -0.9300008663622898,
                4.052442893704254,
                0.24166408144901041,
                -3.6666634465392955,
                -1.1847346488875605,
                -1.4024451701042604,
                -0.3427389990828569,
                -1.9342579243756037,
                -0.10725654081320292,
                3.2960739823151677,
                1.689365166548902,
                -4.326547838072791,
                1.3353141411006915
               ]
              ],
              "y": [
               [
                1.5328009609788888,
                -0.7884966178358522,
                -0.9404310220685717,
                -0.6396714974000927,
                -0.3425490764592583,
                0.6124490295408773,
                0.7219125264340309,
                0.9252688833058128,
                -1.6599723033870237,
                -1.3299685863034716,
                0.47095682934646255,
                2.531448998402395,
                -0.8815934505904267,
                0.7838692865273867,
                0.9078781790294984,
                0.6307996510291133,
                0.35700283730175003,
                -2.465876134658033,
                0.5524679328402994,
                0.28822038266635797,
                -0.7715313788643153,
                -0.1000346693354466,
                -0.5848948087107214,
                -0.12141468448489834,
                1.0838757902728595,
                -0.9756183970745881,
                -0.5711525295893373,
                2.7072375638754456,
                -0.33588807211919486,
                -0.20097351164136126,
                -0.5535143010081863,
                -0.5717102893261274,
                -1.2465159177688614
               ],
               [
                1.5837703120091873,
                -0.7701974173140835,
                -0.9466438136971433,
                -0.6240515499702396,
                -0.31019269462402527,
                0.6595068112664205,
                0.7587930099741153,
                0.9703559331056758,
                -1.6458044695483918,
                -1.311237780356674,
                0.5104171124308309,
                2.591499221901063,
                -0.839192026112183,
                0.8009786080444696,
                0.9323768503146157,
                0.6746829644849315,
                0.3539001286691513,
                -2.441375224512829,
                0.5932277968128689,
                0.3178696402378557,
                -0.7443496485482624,
                -0.08658829563289752,
                -0.5587490828414452,
                -0.07988301726239899,
                1.133106162342372,
                -0.9626083620595466,
                -0.5457179165928049,
                2.7716955516627992,
                -0.3083205567480621,
                -0.1812173394862551,
                -0.5338290507169039,
                -0.5317476807928426,
                -1.2304741764393683
               ]
              ]
             },
             {
              "title": "LOO PCA — removed: Warsaw",
              "xaxis.title.text": "PC1 (LOO 85.3% | full 85.0%)",
              "yaxis.title.text": "PC2 (LOO 10.1% | full 10.2%)"
             }
            ],
            "label": "Warsaw",
            "method": "update"
           },
           {
            "args": [
             {
              "text": [
               [
                "Amsterdam",
                "Ankara",
                "Athens",
                "Belgrade",
                "Berlin",
                "Bern",
                "Bonn",
                "Bruxells",
                "Bucarest",
                "Budapest",
                "Copenhagen",
                "Dublin",
                "Helsinki",
                "Lisbon",
                "London",
                "Luxemborg",
                "Marbella",
                "Moscow",
                "Oslo",
                "Paris",
                "Prague",
                "Rome",
                "Sofia",
                "Stockholm",
                "Vienna",
                "Warsaw",
                "Bratislava",
                "St. Petersberg",
                "Ljubljana",
                "Madrid",
                "Milan",
                "Edinburgh",
                "Skopje"
               ],
               [
                "Amsterdam",
                "Ankara",
                "Athens",
                "Belgrade",
                "Berlin",
                "Bern",
                "Bonn",
                "Bruxells",
                "Bucarest",
                "Budapest",
                "Copenhagen",
                "Dublin",
                "Helsinki",
                "Lisbon",
                "London",
                "Luxemborg",
                "Marbella",
                "Moscow",
                "Oslo",
                "Paris",
                "Prague",
                "Rome",
                "Sofia",
                "Stockholm",
                "Vienna",
                "Warsaw",
                "Bratislava",
                "St. Petersberg",
                "Ljubljana",
                "Madrid",
                "Milan",
                "Edinburgh",
                "Skopje"
               ]
              ],
              "x": [
               [
                -1.596220039779273,
                0.8172238917791245,
                6.164625017803483,
                1.7899667740800025,
                -1.1574304052405817,
                -1.3186860900352846,
                -0.6050041549827768,
                -0.3111800516573142,
                0.5081121456172009,
                0.8279601104995629,
                -1.986480499155146,
                -2.1995085778850325,
                -5.618680757884614,
                5.368993474369101,
                2.3918934760284594,
                -1.2406396638816424,
                9.247110726283937,
                -5.543725740652914,
                -3.7142156164162934,
                1.1981228810104254,
                -0.9274540097720286,
                3.983779937590052,
                0.22745528524621,
                -3.62447433339431,
                -1.1778461708227914,
                -1.391787843648913,
                -0.3485990228047143,
                -1.9170396643332814,
                -0.11649999555200166,
                3.237473122450649,
                1.6540654021350771,
                -4.275082851567511,
                1.3051742217684248
               ],
               [
                -1.6089431876426106,
                0.8394927193989605,
                6.264719408324749,
                1.826480333559447,
                -1.1631348025575532,
                -1.3266107115494639,
                -0.6029628176799451,
                -0.3046031148315868,
                0.5259299386909978,
                0.8510364468622639,
                -2.0049750062259784,
                -2.2209200522853623,
                -5.689723866046906,
                5.45809462502937,
                2.4372007485479994,
                -1.2473646595111652,
                9.39227726577733,
                -5.614410226066114,
                -3.75858658656571,
                1.2267887138911122,
                -0.9300008663622898,
                4.052442893704254,
                0.24166408144901041,
                -3.6666634465392955,
                -1.1847346488875605,
                -1.4024451701042604,
                -0.3427389990828569,
                -1.9342579243756037,
                -0.10725654081320292,
                3.2960739823151677,
                1.689365166548902,
                -4.326547838072791,
                1.3353141411006915
               ]
              ],
              "y": [
               [
                1.5403203248816264,
                -0.7768561548603407,
                -0.9483581574012128,
                -0.6310908158536428,
                -0.3224119000000164,
                0.6340174333344739,
                0.730820201154113,
                0.9377113049144472,
                -1.6397797225368682,
                -1.3071441609183843,
                0.48537284749798015,
                2.5367397499743793,
                -0.8484707896987489,
                0.7754288188253261,
                0.903962578470193,
                0.650068694037921,
                0.3373074440924981,
                -2.426463453391106,
                0.5642155873514644,
                0.29933172746018133,
                -0.7490796526902829,
                -0.10192004461363943,
                -0.5664782594685871,
                -0.09873721684297675,
                1.0987421865630753,
                -0.9673698525566444,
                -0.5513866718506913,
                2.713113408569733,
                -0.31813260988048214,
                -0.19377976391646476,
                -0.5405077665029099,
                -0.5433307933936603,
                -1.227241192601444
               ],
               [
                1.5837703120091873,
                -0.7701974173140835,
                -0.9466438136971433,
                -0.6240515499702396,
                -0.31019269462402527,
                0.6595068112664205,
                0.7587930099741153,
                0.9703559331056758,
                -1.6458044695483918,
                -1.311237780356674,
                0.5104171124308309,
                2.591499221901063,
                -0.839192026112183,
                0.8009786080444696,
                0.9323768503146157,
                0.6746829644849315,
                0.3539001286691513,
                -2.441375224512829,
                0.5932277968128689,
                0.3178696402378557,
                -0.7443496485482624,
                -0.08658829563289752,
                -0.5587490828414452,
                -0.07988301726239899,
                1.133106162342372,
                -0.9626083620595466,
                -0.5457179165928049,
                2.7716955516627992,
                -0.3083205567480621,
                -0.1812173394862551,
                -0.5338290507169039,
                -0.5317476807928426,
                -1.2304741764393683
               ]
              ]
             },
             {
              "title": "LOO PCA — removed: Bratislava",
              "xaxis.title.text": "PC1 (LOO 85.1% | full 85.0%)",
              "yaxis.title.text": "PC2 (LOO 10.1% | full 10.2%)"
             }
            ],
            "label": "Bratislava",
            "method": "update"
           },
           {
            "args": [
             {
              "text": [
               [
                "Amsterdam",
                "Ankara",
                "Athens",
                "Belgrade",
                "Berlin",
                "Bern",
                "Bonn",
                "Bruxells",
                "Bucarest",
                "Budapest",
                "Copenhagen",
                "Dublin",
                "Helsinki",
                "Lisbon",
                "London",
                "Luxemborg",
                "Marbella",
                "Moscow",
                "Oslo",
                "Paris",
                "Prague",
                "Rome",
                "Sofia",
                "Stockholm",
                "Vienna",
                "Warsaw",
                "Bratislava",
                "St. Petersberg",
                "Ljubljana",
                "Madrid",
                "Milan",
                "Edinburgh",
                "Skopje"
               ],
               [
                "Amsterdam",
                "Ankara",
                "Athens",
                "Belgrade",
                "Berlin",
                "Bern",
                "Bonn",
                "Bruxells",
                "Bucarest",
                "Budapest",
                "Copenhagen",
                "Dublin",
                "Helsinki",
                "Lisbon",
                "London",
                "Luxemborg",
                "Marbella",
                "Moscow",
                "Oslo",
                "Paris",
                "Prague",
                "Rome",
                "Sofia",
                "Stockholm",
                "Vienna",
                "Warsaw",
                "Bratislava",
                "St. Petersberg",
                "Ljubljana",
                "Madrid",
                "Milan",
                "Edinburgh",
                "Skopje"
               ]
              ],
              "x": [
               [
                -1.6905686853967072,
                0.7833681278399902,
                6.215026193239536,
                1.7700902139465975,
                -1.2186058236931472,
                -1.395945361446654,
                -0.6756840542482261,
                -0.3824541145105007,
                0.4772916200870012,
                0.8011486427649003,
                -2.0684060592213593,
                -2.3101567926065902,
                -5.730475528862262,
                5.381552056605639,
                2.3648163378133065,
                -1.3169106658460015,
                9.321950032721759,
                -5.648634258524023,
                -3.820596655567537,
                1.161424943044325,
                -0.9814931452584217,
                3.9908546893383625,
                0.18326803503193762,
                -3.7184532274469015,
                -1.2762588221602844,
                -1.4529874856870506,
                -0.39436413679452176,
                -2.028104558652711,
                -0.16268918723431858,
                3.240843761086366,
                1.635895512373317,
                -4.372137982029765,
                1.2892918206412336
               ],
               [
                -1.6089431876426106,
                0.8394927193989605,
                6.264719408324749,
                1.826480333559447,
                -1.1631348025575532,
                -1.3266107115494639,
                -0.6029628176799451,
                -0.3046031148315868,
                0.5259299386909978,
                0.8510364468622639,
                -2.0049750062259784,
                -2.2209200522853623,
                -5.689723866046906,
                5.45809462502937,
                2.4372007485479994,
                -1.2473646595111652,
                9.39227726577733,
                -5.614410226066114,
                -3.75858658656571,
                1.2267887138911122,
                -0.9300008663622898,
                4.052442893704254,
                0.24166408144901041,
                -3.6666634465392955,
                -1.1847346488875605,
                -1.4024451701042604,
                -0.3427389990828569,
                -1.9342579243756037,
                -0.10725654081320292,
                3.2960739823151677,
                1.689365166548902,
                -4.326547838072791,
                1.3353141411006915
               ]
              ],
              "y": [
               [
                1.7009392673456594,
                -0.700642091690129,
                -0.9820678923920434,
                -0.5611922648792685,
                -0.2035915315128073,
                0.7801450058089989,
                0.8666428099138106,
                1.07898322859961,
                -1.5658343145172822,
                -1.230985300572415,
                0.6260333574404343,
                2.715406531466381,
                -0.6893334643900433,
                0.814675258089841,
                0.984224912870715,
                0.8007653259673497,
                0.2919881169756811,
                -2.2668967981237755,
                0.7264070650309067,
                0.39557680648212035,
                -0.6374704782685656,
                -0.06933006825222857,
                -0.4723097794841387,
                0.043464800824600025,
                1.2881982957980265,
                -0.8512329480555606,
                -0.4555079365071603,
                2.894880950065246,
                -0.22357798681527435,
                -0.16014647561848636,
                -0.47579755165735743,
                -0.3978693326148341,
                -1.1696645672627655
               ],
               [
                1.5837703120091873,
                -0.7701974173140835,
                -0.9466438136971433,
                -0.6240515499702396,
                -0.31019269462402527,
                0.6595068112664205,
                0.7587930099741153,
                0.9703559331056758,
                -1.6458044695483918,
                -1.311237780356674,
                0.5104171124308309,
                2.591499221901063,
                -0.839192026112183,
                0.8009786080444696,
                0.9323768503146157,
                0.6746829644849315,
                0.3539001286691513,
                -2.441375224512829,
                0.5932277968128689,
                0.3178696402378557,
                -0.7443496485482624,
                -0.08658829563289752,
                -0.5587490828414452,
                -0.07988301726239899,
                1.133106162342372,
                -0.9626083620595466,
                -0.5457179165928049,
                2.7716955516627992,
                -0.3083205567480621,
                -0.1812173394862551,
                -0.5338290507169039,
                -0.5317476807928426,
                -1.2304741764393683
               ]
              ]
             },
             {
              "title": "LOO PCA — removed: St. Petersberg",
              "xaxis.title.text": "PC1 (LOO 86.5% | full 85.0%)",
              "yaxis.title.text": "PC2 (LOO 8.5% | full 10.2%)"
             }
            ],
            "label": "St. Petersberg",
            "method": "update"
           },
           {
            "args": [
             {
              "text": [
               [
                "Amsterdam",
                "Ankara",
                "Athens",
                "Belgrade",
                "Berlin",
                "Bern",
                "Bonn",
                "Bruxells",
                "Bucarest",
                "Budapest",
                "Copenhagen",
                "Dublin",
                "Helsinki",
                "Lisbon",
                "London",
                "Luxemborg",
                "Marbella",
                "Moscow",
                "Oslo",
                "Paris",
                "Prague",
                "Rome",
                "Sofia",
                "Stockholm",
                "Vienna",
                "Warsaw",
                "Bratislava",
                "St. Petersberg",
                "Ljubljana",
                "Madrid",
                "Milan",
                "Edinburgh",
                "Skopje"
               ],
               [
                "Amsterdam",
                "Ankara",
                "Athens",
                "Belgrade",
                "Berlin",
                "Bern",
                "Bonn",
                "Bruxells",
                "Bucarest",
                "Budapest",
                "Copenhagen",
                "Dublin",
                "Helsinki",
                "Lisbon",
                "London",
                "Luxemborg",
                "Marbella",
                "Moscow",
                "Oslo",
                "Paris",
                "Prague",
                "Rome",
                "Sofia",
                "Stockholm",
                "Vienna",
                "Warsaw",
                "Bratislava",
                "St. Petersberg",
                "Ljubljana",
                "Madrid",
                "Milan",
                "Edinburgh",
                "Skopje"
               ]
              ],
              "x": [
               [
                -1.5882512453308106,
                0.8236892448180259,
                6.1684211284079495,
                1.7962422430245144,
                -1.149349000351223,
                -1.3104682874643503,
                -0.597377642872172,
                -0.3035670390748145,
                0.5148595829276825,
                0.8348446076501395,
                -1.9782585086788607,
                -2.191135553751649,
                -5.608439010585391,
                5.37354887017331,
                2.397815092454401,
                -1.232299784375501,
                9.24943575449478,
                -5.534159457733755,
                -3.705303309714988,
                1.205002062472898,
                -0.9195962560998036,
                3.988973228284766,
                0.2345775744483974,
                -3.6153826547428185,
                -1.1702714637822975,
                -1.3842109171034278,
                -0.3410774308444292,
                -1.9088115075175236,
                -0.1091263772934106,
                3.2434884625692755,
                1.6607237338067822,
                -4.265581904369836,
                1.311919388860731
               ],
               [
                -1.6089431876426106,
                0.8394927193989605,
                6.264719408324749,
                1.826480333559447,
                -1.1631348025575532,
                -1.3266107115494639,
                -0.6029628176799451,
                -0.3046031148315868,
                0.5259299386909978,
                0.8510364468622639,
                -2.0049750062259784,
                -2.2209200522853623,
                -5.689723866046906,
                5.45809462502937,
                2.4372007485479994,
                -1.2473646595111652,
                9.39227726577733,
                -5.614410226066114,
                -3.75858658656571,
                1.2267887138911122,
                -0.9300008663622898,
                4.052442893704254,
                0.24166408144901041,
                -3.6666634465392955,
                -1.1847346488875605,
                -1.4024451701042604,
                -0.3427389990828569,
                -1.9342579243756037,
                -0.10725654081320292,
                3.2960739823151677,
                1.689365166548902,
                -4.326547838072791,
                1.3353141411006915
               ]
              ],
              "y": [
               [
                1.5494714788515105,
                -0.7688034465096318,
                -0.9422759249033933,
                -0.6242772618337669,
                -0.3149303436340127,
                0.6408042132742311,
                0.7381918430331148,
                0.9457778092821424,
                -1.6311456748730702,
                -1.3004230844484375,
                0.4931528056649364,
                2.543888623408715,
                -0.8372562307581455,
                0.7800586279778415,
                0.9094322627966158,
                0.6561073662853119,
                0.33960612191760453,
                -2.415783385880589,
                0.5741887408539387,
                0.3046644866462855,
                -0.7423485485427836,
                -0.09523672114431406,
                -0.5593985613435837,
                -0.08907348588801951,
                1.1052407969020022,
                -0.9586076822755352,
                -0.5457087319827006,
                2.7206978730063613,
                -0.31190273048706296,
                -0.1874113113338509,
                -0.5343507676385789,
                -0.5335857503365772,
                -1.2206661365736216
               ],
               [
                1.5837703120091873,
                -0.7701974173140835,
                -0.9466438136971433,
                -0.6240515499702396,
                -0.31019269462402527,
                0.6595068112664205,
                0.7587930099741153,
                0.9703559331056758,
                -1.6458044695483918,
                -1.311237780356674,
                0.5104171124308309,
                2.591499221901063,
                -0.839192026112183,
                0.8009786080444696,
                0.9323768503146157,
                0.6746829644849315,
                0.3539001286691513,
                -2.441375224512829,
                0.5932277968128689,
                0.3178696402378557,
                -0.7443496485482624,
                -0.08658829563289752,
                -0.5587490828414452,
                -0.07988301726239899,
                1.133106162342372,
                -0.9626083620595466,
                -0.5457179165928049,
                2.7716955516627992,
                -0.3083205567480621,
                -0.1812173394862551,
                -0.5338290507169039,
                -0.5317476807928426,
                -1.2304741764393683
               ]
              ]
             },
             {
              "title": "LOO PCA — removed: Ljubljana",
              "xaxis.title.text": "PC1 (LOO 85.1% | full 85.0%)",
              "yaxis.title.text": "PC2 (LOO 10.2% | full 10.2%)"
             }
            ],
            "label": "Ljubljana",
            "method": "update"
           },
           {
            "args": [
             {
              "text": [
               [
                "Amsterdam",
                "Ankara",
                "Athens",
                "Belgrade",
                "Berlin",
                "Bern",
                "Bonn",
                "Bruxells",
                "Bucarest",
                "Budapest",
                "Copenhagen",
                "Dublin",
                "Helsinki",
                "Lisbon",
                "London",
                "Luxemborg",
                "Marbella",
                "Moscow",
                "Oslo",
                "Paris",
                "Prague",
                "Rome",
                "Sofia",
                "Stockholm",
                "Vienna",
                "Warsaw",
                "Bratislava",
                "St. Petersberg",
                "Ljubljana",
                "Madrid",
                "Milan",
                "Edinburgh",
                "Skopje"
               ],
               [
                "Amsterdam",
                "Ankara",
                "Athens",
                "Belgrade",
                "Berlin",
                "Bern",
                "Bonn",
                "Bruxells",
                "Bucarest",
                "Budapest",
                "Copenhagen",
                "Dublin",
                "Helsinki",
                "Lisbon",
                "London",
                "Luxemborg",
                "Marbella",
                "Moscow",
                "Oslo",
                "Paris",
                "Prague",
                "Rome",
                "Sofia",
                "Stockholm",
                "Vienna",
                "Warsaw",
                "Bratislava",
                "St. Petersberg",
                "Ljubljana",
                "Madrid",
                "Milan",
                "Edinburgh",
                "Skopje"
               ]
              ],
              "x": [
               [
                -1.5084537308881982,
                0.9433784072560001,
                6.369112807650358,
                1.9297918187693854,
                -1.0582765639176888,
                -1.2241771409158537,
                -0.5031878413171705,
                -0.2034533406283432,
                0.6317079291805737,
                0.9565231707790759,
                -1.9029831977433074,
                -2.123841978067993,
                -5.581242479095807,
                5.557770266164287,
                2.5367505221636675,
                -1.1452796467073718,
                9.49175562807959,
                -5.507303385013842,
                -3.6565049410058417,
                1.3292405349084095,
                -0.8257047992841205,
                4.155979276351264,
                0.3456199101261123,
                -3.561533216275426,
                -1.084489089860869,
                -1.2988573706172406,
                -0.2388684851256396,
                -1.8367663797406522,
                -0.0036234912045602276,
                3.402786433967426,
                1.7948653395016083,
                -4.219946245318354,
                1.441997711797947
               ],
               [
                -1.6089431876426106,
                0.8394927193989605,
                6.264719408324749,
                1.826480333559447,
                -1.1631348025575532,
                -1.3266107115494639,
                -0.6029628176799451,
                -0.3046031148315868,
                0.5259299386909978,
                0.8510364468622639,
                -2.0049750062259784,
                -2.2209200522853623,
                -5.689723866046906,
                5.45809462502937,
                2.4372007485479994,
                -1.2473646595111652,
                9.39227726577733,
                -5.614410226066114,
                -3.75858658656571,
                1.2267887138911122,
                -0.9300008663622898,
                4.052442893704254,
                0.24166408144901041,
                -3.6666634465392955,
                -1.1847346488875605,
                -1.4024451701042604,
                -0.3427389990828569,
                -1.9342579243756037,
                -0.10725654081320292,
                3.2960739823151677,
                1.689365166548902,
                -4.326547838072791,
                1.3353141411006915
               ]
              ],
              "y": [
               [
                1.5835636126096528,
                -0.7800475167419217,
                -0.9705624646308171,
                -0.6352164711839527,
                -0.31506340635299335,
                0.6592582694564965,
                0.7588966356605409,
                0.9682234132394154,
                -1.6565457236149805,
                -1.3194618084679444,
                0.5088802039351696,
                2.5956792056220395,
                -0.8437721370034468,
                0.7895613973610245,
                0.9268550459579402,
                0.6732534885121113,
                0.33124967310372827,
                -2.4381151278564706,
                0.5893523516781222,
                0.3125025442530015,
                -0.7492580456698524,
                -0.10282158059464089,
                -0.5650693538842817,
                -0.08764011049347,
                1.1391243715165564,
                -0.9673716057836756,
                -0.5492315660514884,
                2.7752891911474022,
                -0.3120977187350104,
                -0.19921880281005838,
                -0.5427012473908409,
                -0.5363362865480783,
                -1.2403772330493361
               ],
               [
                1.5837703120091873,
                -0.7701974173140835,
                -0.9466438136971433,
                -0.6240515499702396,
                -0.31019269462402527,
                0.6595068112664205,
                0.7587930099741153,
                0.9703559331056758,
                -1.6458044695483918,
                -1.311237780356674,
                0.5104171124308309,
                2.591499221901063,
                -0.839192026112183,
                0.8009786080444696,
                0.9323768503146157,
                0.6746829644849315,
                0.3539001286691513,
                -2.441375224512829,
                0.5932277968128689,
                0.3178696402378557,
                -0.7443496485482624,
                -0.08658829563289752,
                -0.5587490828414452,
                -0.07988301726239899,
                1.133106162342372,
                -0.9626083620595466,
                -0.5457179165928049,
                2.7716955516627992,
                -0.3083205567480621,
                -0.1812173394862551,
                -0.5338290507169039,
                -0.5317476807928426,
                -1.2304741764393683
               ]
              ]
             },
             {
              "title": "LOO PCA — removed: Madrid",
              "xaxis.title.text": "PC1 (LOO 84.7% | full 85.0%)",
              "yaxis.title.text": "PC2 (LOO 10.5% | full 10.2%)"
             }
            ],
            "label": "Madrid",
            "method": "update"
           },
           {
            "args": [
             {
              "text": [
               [
                "Amsterdam",
                "Ankara",
                "Athens",
                "Belgrade",
                "Berlin",
                "Bern",
                "Bonn",
                "Bruxells",
                "Bucarest",
                "Budapest",
                "Copenhagen",
                "Dublin",
                "Helsinki",
                "Lisbon",
                "London",
                "Luxemborg",
                "Marbella",
                "Moscow",
                "Oslo",
                "Paris",
                "Prague",
                "Rome",
                "Sofia",
                "Stockholm",
                "Vienna",
                "Warsaw",
                "Bratislava",
                "St. Petersberg",
                "Ljubljana",
                "Madrid",
                "Milan",
                "Edinburgh",
                "Skopje"
               ],
               [
                "Amsterdam",
                "Ankara",
                "Athens",
                "Belgrade",
                "Berlin",
                "Bern",
                "Bonn",
                "Bruxells",
                "Bucarest",
                "Budapest",
                "Copenhagen",
                "Dublin",
                "Helsinki",
                "Lisbon",
                "London",
                "Luxemborg",
                "Marbella",
                "Moscow",
                "Oslo",
                "Paris",
                "Prague",
                "Rome",
                "Sofia",
                "Stockholm",
                "Vienna",
                "Warsaw",
                "Bratislava",
                "St. Petersberg",
                "Ljubljana",
                "Madrid",
                "Milan",
                "Edinburgh",
                "Skopje"
               ]
              ],
              "x": [
               [
                -1.5416600705852666,
                0.8835562181181034,
                6.249705932793368,
                1.8596174710542404,
                -1.0974621247156415,
                -1.260836639700969,
                -0.5457804097857097,
                -0.2507808947831803,
                0.5750184491265444,
                0.8960750945277728,
                -1.9316423492540216,
                -2.1488619293704465,
                -5.5732210992561875,
                5.4489272907302615,
                2.460980416951004,
                -1.1823791142900317,
                9.340486936548638,
                -5.496978163390276,
                -3.6660302058948777,
                1.2651493701122805,
                -0.8664531744723158,
                4.0605237240499825,
                0.29214563319097925,
                -3.5740776083755,
                -1.1210446415373938,
                -1.333152373070651,
                -0.2858212257774692,
                -1.8655307141931918,
                -0.05327803172533352,
                3.3132527113927415,
                1.724443868603836,
                -4.22573943205965,
                1.3752909536421964
               ],
               [
                -1.6089431876426106,
                0.8394927193989605,
                6.264719408324749,
                1.826480333559447,
                -1.1631348025575532,
                -1.3266107115494639,
                -0.6029628176799451,
                -0.3046031148315868,
                0.5259299386909978,
                0.8510364468622639,
                -2.0049750062259784,
                -2.2209200522853623,
                -5.689723866046906,
                5.45809462502937,
                2.4372007485479994,
                -1.2473646595111652,
                9.39227726577733,
                -5.614410226066114,
                -3.75858658656571,
                1.2267887138911122,
                -0.9300008663622898,
                4.052442893704254,
                0.24166408144901041,
                -3.6666634465392955,
                -1.1847346488875605,
                -1.4024451701042604,
                -0.3427389990828569,
                -1.9342579243756037,
                -0.10725654081320292,
                3.2960739823151677,
                1.689365166548902,
                -4.326547838072791,
                1.3353141411006915
               ]
              ],
              "y": [
               [
                1.554055686788924,
                -0.7827893084132512,
                -0.9740077301001394,
                -0.6403555101319649,
                -0.31837797627209236,
                0.6427925510209207,
                0.7371040267872153,
                0.9466408759435727,
                -1.6471904990162223,
                -1.3134079599934199,
                0.49193223938551334,
                2.5528461436924736,
                -0.8344220901353997,
                0.763273739584437,
                0.8993227784466341,
                0.6574915994988252,
                0.30570736330721404,
                -2.4186295614579465,
                0.573731297242016,
                0.29801842490993613,
                -0.7498259992003398,
                -0.1143418322121848,
                -0.5683183537682596,
                -0.09084573327136815,
                1.1106735284699056,
                -0.9691620838365127,
                -0.5536034858463186,
                2.7307051742912014,
                -0.3189848865487475,
                -0.20251415956904623,
                -0.5453093820810913,
                -0.533217195478082,
                -1.2343010641174932
               ],
               [
                1.5837703120091873,
                -0.7701974173140835,
                -0.9466438136971433,
                -0.6240515499702396,
                -0.31019269462402527,
                0.6595068112664205,
                0.7587930099741153,
                0.9703559331056758,
                -1.6458044695483918,
                -1.311237780356674,
                0.5104171124308309,
                2.591499221901063,
                -0.839192026112183,
                0.8009786080444696,
                0.9323768503146157,
                0.6746829644849315,
                0.3539001286691513,
                -2.441375224512829,
                0.5932277968128689,
                0.3178696402378557,
                -0.7443496485482624,
                -0.08658829563289752,
                -0.5587490828414452,
                -0.07988301726239899,
                1.133106162342372,
                -0.9626083620595466,
                -0.5457179165928049,
                2.7716955516627992,
                -0.3083205567480621,
                -0.1812173394862551,
                -0.5338290507169039,
                -0.5317476807928426,
                -1.2304741764393683
               ]
              ]
             },
             {
              "title": "LOO PCA — removed: Milan",
              "xaxis.title.text": "PC1 (LOO 85.0% | full 85.0%)",
              "yaxis.title.text": "PC2 (LOO 10.2% | full 10.2%)"
             }
            ],
            "label": "Milan",
            "method": "update"
           },
           {
            "args": [
             {
              "text": [
               [
                "Amsterdam",
                "Ankara",
                "Athens",
                "Belgrade",
                "Berlin",
                "Bern",
                "Bonn",
                "Bruxells",
                "Bucarest",
                "Budapest",
                "Copenhagen",
                "Dublin",
                "Helsinki",
                "Lisbon",
                "London",
                "Luxemborg",
                "Marbella",
                "Moscow",
                "Oslo",
                "Paris",
                "Prague",
                "Rome",
                "Sofia",
                "Stockholm",
                "Vienna",
                "Warsaw",
                "Bratislava",
                "St. Petersberg",
                "Ljubljana",
                "Madrid",
                "Milan",
                "Edinburgh",
                "Skopje"
               ],
               [
                "Amsterdam",
                "Ankara",
                "Athens",
                "Belgrade",
                "Berlin",
                "Bern",
                "Bonn",
                "Bruxells",
                "Bucarest",
                "Budapest",
                "Copenhagen",
                "Dublin",
                "Helsinki",
                "Lisbon",
                "London",
                "Luxemborg",
                "Marbella",
                "Moscow",
                "Oslo",
                "Paris",
                "Prague",
                "Rome",
                "Sofia",
                "Stockholm",
                "Vienna",
                "Warsaw",
                "Bratislava",
                "St. Petersberg",
                "Ljubljana",
                "Madrid",
                "Milan",
                "Edinburgh",
                "Skopje"
               ]
              ],
              "x": [
               [
                -1.7577402538370797,
                0.711010140509585,
                6.191331051128927,
                1.707831679419487,
                -1.314795824269893,
                -1.4756039454493757,
                -0.7398488944263821,
                -0.4375023334845756,
                0.3918441746492232,
                0.7213585041912617,
                -2.165883297761551,
                -2.373166884106907,
                -5.90190172095497,
                5.389442614747576,
                2.3312929512044955,
                -1.3936505256515082,
                9.363759521301665,
                -5.822285884445594,
                -3.941957432181161,
                1.106330676548637,
                -1.0802694548278597,
                3.959351701418874,
                0.1086487140795937,
                -3.8519796527422554,
                -1.3182899334343006,
                -1.5588060587015227,
                -0.486775956225974,
                -2.0819357814860404,
                -0.24742340218047665,
                3.1915040107943184,
                1.5684331305724186,
                -4.5211427944274725,
                1.2076783656013657
               ],
               [
                -1.6089431876426106,
                0.8394927193989605,
                6.264719408324749,
                1.826480333559447,
                -1.1631348025575532,
                -1.3266107115494639,
                -0.6029628176799451,
                -0.3046031148315868,
                0.5259299386909978,
                0.8510364468622639,
                -2.0049750062259784,
                -2.2209200522853623,
                -5.689723866046906,
                5.45809462502937,
                2.4372007485479994,
                -1.2473646595111652,
                9.39227726577733,
                -5.614410226066114,
                -3.75858658656571,
                1.2267887138911122,
                -0.9300008663622898,
                4.052442893704254,
                0.24166408144901041,
                -3.6666634465392955,
                -1.1847346488875605,
                -1.4024451701042604,
                -0.3427389990828569,
                -1.9342579243756037,
                -0.10725654081320292,
                3.2960739823151677,
                1.689365166548902,
                -4.326547838072791,
                1.3353141411006915
               ]
              ],
              "y": [
               [
                1.5618345155997877,
                -0.7940250250799197,
                -0.9150109140146387,
                -0.6310253155625246,
                -0.33387865089878843,
                0.6332021458333954,
                0.7393028214240279,
                0.9540090669482205,
                -1.6736499552981656,
                -1.3347435612409182,
                0.4856878685584352,
                2.578756325504824,
                -0.8821680213505927,
                0.8215934520587923,
                0.935244690164484,
                0.6520854913976641,
                0.40035624705919615,
                -2.5304720262148614,
                0.5707413182042113,
                0.30782336957823875,
                -0.7747788462461035,
                -0.07032660838251657,
                -0.581749601400352,
                -0.10610713732650646,
                1.0662061922804134,
                -0.9997162242121197,
                -0.5692690644708195,
                2.7566845151678905,
                -0.32693246898925227,
                -0.15860310815873627,
                -0.5385268093461257,
                -0.567492543958571,
                -1.24254468158664
               ],
               [
                1.5837703120091873,
                -0.7701974173140835,
                -0.9466438136971433,
                -0.6240515499702396,
                -0.31019269462402527,
                0.6595068112664205,
                0.7587930099741153,
                0.9703559331056758,
                -1.6458044695483918,
                -1.311237780356674,
                0.5104171124308309,
                2.591499221901063,
                -0.839192026112183,
                0.8009786080444696,
                0.9323768503146157,
                0.6746829644849315,
                0.3539001286691513,
                -2.441375224512829,
                0.5932277968128689,
                0.3178696402378557,
                -0.7443496485482624,
                -0.08658829563289752,
                -0.5587490828414452,
                -0.07988301726239899,
                1.133106162342372,
                -0.9626083620595466,
                -0.5457179165928049,
                2.7716955516627992,
                -0.3083205567480621,
                -0.1812173394862551,
                -0.5338290507169039,
                -0.5317476807928426,
                -1.2304741764393683
               ]
              ]
             },
             {
              "title": "LOO PCA — removed: Edinburgh",
              "xaxis.title.text": "PC1 (LOO 84.6% | full 85.0%)",
              "yaxis.title.text": "PC2 (LOO 10.5% | full 10.2%)"
             }
            ],
            "label": "Edinburgh",
            "method": "update"
           },
           {
            "args": [
             {
              "text": [
               [
                "Amsterdam",
                "Ankara",
                "Athens",
                "Belgrade",
                "Berlin",
                "Bern",
                "Bonn",
                "Bruxells",
                "Bucarest",
                "Budapest",
                "Copenhagen",
                "Dublin",
                "Helsinki",
                "Lisbon",
                "London",
                "Luxemborg",
                "Marbella",
                "Moscow",
                "Oslo",
                "Paris",
                "Prague",
                "Rome",
                "Sofia",
                "Stockholm",
                "Vienna",
                "Warsaw",
                "Bratislava",
                "St. Petersberg",
                "Ljubljana",
                "Madrid",
                "Milan",
                "Edinburgh",
                "Skopje"
               ],
               [
                "Amsterdam",
                "Ankara",
                "Athens",
                "Belgrade",
                "Berlin",
                "Bern",
                "Bonn",
                "Bruxells",
                "Bucarest",
                "Budapest",
                "Copenhagen",
                "Dublin",
                "Helsinki",
                "Lisbon",
                "London",
                "Luxemborg",
                "Marbella",
                "Moscow",
                "Oslo",
                "Paris",
                "Prague",
                "Rome",
                "Sofia",
                "Stockholm",
                "Vienna",
                "Warsaw",
                "Bratislava",
                "St. Petersberg",
                "Ljubljana",
                "Madrid",
                "Milan",
                "Edinburgh",
                "Skopje"
               ]
              ],
              "x": [
               [
                -1.5558978111930926,
                0.8737296824001689,
                6.242309160893928,
                1.8507646221112113,
                -1.1083920437998807,
                -1.273031944362875,
                -0.5601922908895388,
                -0.2650104278166569,
                0.5669853785919169,
                0.8871808859270107,
                -1.942317082821352,
                -2.1650370856008476,
                -5.58127016583353,
                5.435681515437913,
                2.448424947985762,
                -1.1952343862075565,
                9.330376316730916,
                -5.5041779268222975,
                -3.6755919340622913,
                1.252996364779088,
                -0.8759115900532705,
                4.05070868449108,
                0.2813180036776732,
                -3.583098457599569,
                -1.1360781938106672,
                -1.3420175105707397,
                -0.2953944992808748,
                -1.881956460303645,
                -0.06353885358507033,
                3.3036424371072464,
                1.7144100238376427,
                -4.2343793593578045,
                1.3669137804180205
               ],
               [
                -1.6089431876426106,
                0.8394927193989605,
                6.264719408324749,
                1.826480333559447,
                -1.1631348025575532,
                -1.3266107115494639,
                -0.6029628176799451,
                -0.3046031148315868,
                0.5259299386909978,
                0.8510364468622639,
                -2.0049750062259784,
                -2.2209200522853623,
                -5.689723866046906,
                5.45809462502937,
                2.4372007485479994,
                -1.2473646595111652,
                9.39227726577733,
                -5.614410226066114,
                -3.75858658656571,
                1.2267887138911122,
                -0.9300008663622898,
                4.052442893704254,
                0.24166408144901041,
                -3.6666634465392955,
                -1.1847346488875605,
                -1.4024451701042604,
                -0.3427389990828569,
                -1.9342579243756037,
                -0.10725654081320292,
                3.2960739823151677,
                1.689365166548902,
                -4.326547838072791,
                1.3353141411006915
               ]
              ],
              "y": [
               [
                1.536565601872605,
                -0.8073792123050397,
                -1.0120889278713379,
                -0.6663558025126857,
                -0.3373824580237022,
                0.6270413315456752,
                0.7163342046215525,
                0.9276285699668108,
                -1.6700444202291416,
                -1.335167572200035,
                0.4738719504425886,
                2.536074095531306,
                -0.8468982824314504,
                0.7312856952269445,
                0.8722687616099938,
                0.6406990914039506,
                0.26353102432890246,
                -2.4301300783381135,
                0.5565888941882646,
                0.27547131534828834,
                -0.7694561755734487,
                -0.14517699859741312,
                -0.5895535017951232,
                -0.10806279378664903,
                1.0979178845995643,
                -0.9911598685166102,
                -0.5739853570904613,
                2.714654818607201,
                -0.3395646970569532,
                -0.23047402702666356,
                -0.5691264535257362,
                -0.5479266124130839,
                -1.2575080184463863
               ],
               [
                1.5837703120091873,
                -0.7701974173140835,
                -0.9466438136971433,
                -0.6240515499702396,
                -0.31019269462402527,
                0.6595068112664205,
                0.7587930099741153,
                0.9703559331056758,
                -1.6458044695483918,
                -1.311237780356674,
                0.5104171124308309,
                2.591499221901063,
                -0.839192026112183,
                0.8009786080444696,
                0.9323768503146157,
                0.6746829644849315,
                0.3539001286691513,
                -2.441375224512829,
                0.5932277968128689,
                0.3178696402378557,
                -0.7443496485482624,
                -0.08658829563289752,
                -0.5587490828414452,
                -0.07988301726239899,
                1.133106162342372,
                -0.9626083620595466,
                -0.5457179165928049,
                2.7716955516627992,
                -0.3083205567480621,
                -0.1812173394862551,
                -0.5338290507169039,
                -0.5317476807928426,
                -1.2304741764393683
               ]
              ]
             },
             {
              "title": "LOO PCA — removed: Skopje",
              "xaxis.title.text": "PC1 (LOO 85.3% | full 85.0%)",
              "yaxis.title.text": "PC2 (LOO 9.9% | full 10.2%)"
             }
            ],
            "label": "Skopje",
            "method": "update"
           }
          ],
          "direction": "down",
          "showactive": true,
          "type": "dropdown",
          "x": 0.02,
          "xanchor": "left",
          "y": 1.18,
          "yanchor": "top"
         }
        ],
        "width": 800,
        "xaxis": {
         "title": {
          "text": "PC1 (full 85.0%)"
         }
        },
        "yaxis": {
         "scaleanchor": "x",
         "scaleratio": 1,
         "title": {
          "text": "PC2 (full 10.2%)"
         }
        }
       }
      }
     },
     "metadata": {},
     "output_type": "display_data"
    }
   ],
   "source": [
    "# 7) LOO PCA\n",
    "try:\n",
    "    # Try the clickable widget version (requires ipywidgets)\n",
    "    from IPython.display import display\n",
    "    loo_widget = fig_loo_pca_widget(df, city_col, month_cols, S=800)\n",
    "    display(loo_widget)\n",
    "except Exception as e:\n",
    "    print(\"LOO PCA widget unavailable:\", e)\n",
    "    print(\"Falling back to dropdown-based figure (no widgets needed).\")\n",
    "    fig_loo = fig_loo_pca_dropdown(df, city_col, month_cols, S=800)\n",
    "    fig_loo.show()"
   ]
  }
 ],
 "metadata": {
  "kernelspec": {
   "display_name": "Courses",
   "language": "python",
   "name": "python3"
  },
  "language_info": {
   "codemirror_mode": {
    "name": "ipython",
    "version": 3
   },
   "file_extension": ".py",
   "mimetype": "text/x-python",
   "name": "python",
   "nbconvert_exporter": "python",
   "pygments_lexer": "ipython3",
   "version": "3.12.1"
  }
 },
 "nbformat": 4,
 "nbformat_minor": 5
}
