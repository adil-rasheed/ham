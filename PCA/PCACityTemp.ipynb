{
 "cells": [
  {
   "cell_type": "code",
   "execution_count": 37,
   "id": "16b30fe1",
   "metadata": {},
   "outputs": [],
   "source": [
    "# ===================== City Temperatures — All Interactive Plots =====================\n",
    "# pip install pandas numpy plotly openpyxl scikit-learn ipywidgets\n",
    "\n",
    "from pathlib import Path\n",
    "import numpy as np\n",
    "import pandas as pd\n",
    "import plotly.express as px\n",
    "import plotly.graph_objects as go\n",
    "from sklearn.decomposition import PCA\n",
    "from sklearn.preprocessing import StandardScaler\n",
    "from sklearn.impute import SimpleImputer\n",
    "\n",
    "# ----------------------------- Constants & Parsing -----------------------------\n",
    "MONTH_NAMES = [\"Jan\",\"Feb\",\"Mar\",\"Apr\",\"May\",\"Jun\",\"Jul\",\"Aug\",\"Sep\",\"Oct\",\"Nov\",\"Dec\"]\n",
    "MONTH_MAP = {\n",
    "    \"jan\":1,\"january\":1,\"1\":1,\"01\":1,\n",
    "    \"feb\":2,\"february\":2,\"2\":2,\"02\":2,\n",
    "    \"mar\":3,\"march\":3,\"3\":3,\"03\":3,\n",
    "    \"apr\":4,\"april\":4,\"4\":4,\"04\":4,\n",
    "    \"may\":5,\"5\":5,\"05\":5,\n",
    "    \"jun\":6,\"june\":6,\"6\":6,\"06\":6,\n",
    "    \"jul\":7,\"july\":7,\"7\":7,\"07\":7,\n",
    "    \"aug\":8,\"august\":8,\"8\":8,\"08\":8,\n",
    "    \"sep\":9,\"sept\":9,\"september\":9,\"9\":9,\"09\":9,\n",
    "    \"oct\":10,\"october\":10,\"10\":10,\n",
    "    \"nov\":11,\"november\":11,\"11\":11,\n",
    "    \"dec\":12,\"december\":12,\"12\":12,\n",
    "}\n",
    "def parse_month_header(colname: str):\n",
    "    s = str(colname).strip()\n",
    "    try:\n",
    "        n = int(s)\n",
    "        if 1 <= n <= 12:\n",
    "            return n\n",
    "    except Exception:\n",
    "        pass\n",
    "    key3 = s.lower()[:3]\n",
    "    return MONTH_MAP.get(key3, MONTH_MAP.get(s.lower(), np.nan))\n",
    "\n",
    "# ----------------------------- Robust Path Resolver -----------------------------\n",
    "def resolve_xlsx_path(xlsx_path=None, filename_candidates=(\"CityTemp.xlsx\",\"citytemp.xlsx\")) -> Path:\n",
    "    \"\"\"Find Excel path from explicit path, ./data/, ./, or shallow rglob under base dir.\"\"\"\n",
    "    if xlsx_path:\n",
    "        p = Path(xlsx_path)\n",
    "        if p.exists():\n",
    "            return p\n",
    "    base = Path(__file__).resolve().parent if \"__file__\" in globals() else Path.cwd()\n",
    "    candidates = []\n",
    "    for fn in filename_candidates:\n",
    "        candidates += [base/\"data\"/fn, base/fn]\n",
    "    for p in candidates:\n",
    "        if p.exists():\n",
    "            return p\n",
    "    for fn in filename_candidates:\n",
    "        matches = list(base.rglob(fn))\n",
    "        if matches:\n",
    "            return matches[0]\n",
    "    tried = \"\\n  - \" + \"\\n  - \".join(str(p) for p in candidates)\n",
    "    raise FileNotFoundError(f\"Could not find Excel. Tried:{tried}\\nWorking directory: {base}\")\n",
    "\n",
    "# ----------------------------- Load & Tidy Data -----------------------------\n",
    "def load_city_temps(xlsx_path=None, sheet=0):\n",
    "    \"\"\"\n",
    "    Load Excel: first column is City; 12 month columns (auto-detect by name, else next 12).\n",
    "    Returns (df, city_col, month_cols, col_to_num).\n",
    "    \"\"\"\n",
    "    xlsx_path = resolve_xlsx_path(xlsx_path)\n",
    "    df = pd.read_excel(xlsx_path, sheet_name=sheet)\n",
    "    df.columns = [str(c).strip() for c in df.columns]\n",
    "    city_col = df.columns[0]\n",
    "    cand = [c for c in df.columns if c != city_col]\n",
    "\n",
    "    col_to_num = {}\n",
    "    for c in cand:\n",
    "        n = parse_month_header(c)\n",
    "        if pd.notna(n) and 1 <= int(n) <= 12:\n",
    "            col_to_num.setdefault(c, int(n))  # keep first occurrence per month\n",
    "\n",
    "    if len(set(col_to_num.values())) < 12 and len(cand) >= 12:\n",
    "        month_cols = cand[:12]\n",
    "        col_to_num = {c: i+1 for i, c in enumerate(month_cols)}\n",
    "    else:\n",
    "        month_cols = sorted(col_to_num, key=lambda c: col_to_num[c])\n",
    "\n",
    "    for c in month_cols:\n",
    "        df[c] = pd.to_numeric(df[c], errors=\"coerce\")\n",
    "\n",
    "    print(f\"Loaded: {xlsx_path.resolve()}\")\n",
    "    return df, city_col, month_cols, col_to_num\n",
    "\n",
    "def to_long(df, city_col, month_cols, col_to_num):\n",
    "    \"\"\"Wide -> long (City, Month, Temperature) with ordered month labels.\"\"\"\n",
    "    long_df = df[[city_col] + month_cols].melt(\n",
    "        id_vars=[city_col], value_vars=month_cols, var_name=\"MonthCol\", value_name=\"Temperature\"\n",
    "    ).dropna(subset=[\"Temperature\"])\n",
    "    long_df[\"MonthNum\"] = long_df[\"MonthCol\"].map(col_to_num)\n",
    "    long_df[\"Month\"] = long_df[\"MonthNum\"].apply(lambda n: MONTH_NAMES[int(n)-1] if pd.notna(n) else str(n))\n",
    "    return long_df.sort_values([\"MonthNum\", city_col])\n",
    "\n",
    "# ----------------------------- Figures -----------------------------\n",
    "def fig_line_monthly(long_df, city_col, S=800):\n",
    "    fig = px.line(\n",
    "        long_df, x=\"Month\", y=\"Temperature\", color=city_col,\n",
    "        markers=True, title=\"Monthly Temperature by City\",\n",
    "        labels={\"Month\":\"Month\", city_col:\"City\"}\n",
    "    )\n",
    "    fig.update_layout(\n",
    "        xaxis=dict(type=\"category\", categoryorder=\"array\", categoryarray=MONTH_NAMES),\n",
    "        hovermode=\"x unified\", legend_title_text=\"Click a city to toggle\",\n",
    "        margin=dict(l=40,r=20,t=80,b=40)\n",
    "    )\n",
    "    n = len(fig.data)\n",
    "    fig.update_layout(updatemenus=[dict(\n",
    "        type=\"buttons\", direction=\"right\", x=1, xanchor=\"right\", y=1.15, yanchor=\"top\",\n",
    "        buttons=[dict(label=\"Show All\", method=\"update\", args=[{\"visible\":[True]*n}]),\n",
    "                 dict(label=\"Hide All\", method=\"update\", args=[{\"visible\":[False]*n}])]\n",
    "    )])\n",
    "    fig.update_layout(width=S*1.5, height=S, autosize=False)\n",
    "    return fig\n",
    "\n",
    "def fig_scatter3d_month_picker(df, city_col, col_to_num, S=800):\n",
    "    \"\"\"3D scatter with dropdowns to pick X/Y/Z months; labels and show/hide buttons.\"\"\"\n",
    "    if not col_to_num:\n",
    "        month_cols = [c for c in df.columns if c != city_col][:12]\n",
    "        col_to_num = {c:i+1 for i,c in enumerate(month_cols)}\n",
    "    num_to_col   = {v:k for k,v in col_to_num.items()}\n",
    "    num_to_label = {i: MONTH_NAMES[i-1] for i in range(1,13)}\n",
    "    cities       = df[city_col].astype(str).tolist()\n",
    "    n_cities     = len(cities)\n",
    "    def month_values(m): return df[num_to_col[m]].astype(float).tolist()\n",
    "    M = {m: month_values(m) for m in range(1,13)}          # precompute\n",
    "    mx,my,mz = 1,2,3\n",
    "    traces = [go.Scatter3d(\n",
    "        x=[M[mx][i]], y=[M[my][i]], z=[M[mz][i]],\n",
    "        mode=\"markers\", name=city, text=[city], textfont=dict(size=10),\n",
    "        marker=dict(size=6),\n",
    "        customdata=[[num_to_label[mx], num_to_label[my], num_to_label[mz]]],\n",
    "        hovertemplate=\"<b>%{text}</b><br>X (%{customdata[0]}): %{x}<br>\"\n",
    "                      \"Y (%{customdata[1]}): %{y}<br>Z (%{customdata[2]}): %{z}<extra></extra>\"\n",
    "    ) for i, city in enumerate(cities)]\n",
    "    fig = go.Figure(traces)\n",
    "\n",
    "    def axis_button(axis, m):\n",
    "        vals = [[M[m][i]] for i in range(n_cities)]\n",
    "        axis_idx = {\"x\":0,\"y\":1,\"z\":2}[axis]\n",
    "        new_custom = []\n",
    "        for i in range(n_cities):\n",
    "            cur = list(traces[i].customdata[0]); cur[axis_idx] = num_to_label[m]\n",
    "            new_custom.append([cur])\n",
    "        return dict(method=\"update\",\n",
    "                    args=[{axis: vals, \"customdata\": new_custom},\n",
    "                          {f\"scene.{axis}axis.title.text\": num_to_label[m]}],\n",
    "                    label=num_to_label[m])\n",
    "\n",
    "    def axis_dropdown(axis, xpos):\n",
    "        return dict(type=\"dropdown\", x=xpos, y=1.12, xanchor=\"center\", yanchor=\"top\",\n",
    "                    direction=\"down\", showactive=True,\n",
    "                    buttons=[axis_button(axis, m) for m in range(1,13)],\n",
    "                    pad={\"t\":4,\"b\":2,\"r\":2,\"l\":2})\n",
    "    def label_anno(txt, xpos):\n",
    "        return dict(text=txt, x=xpos, y=1.18, xref=\"paper\", yref=\"paper\",\n",
    "                    xanchor=\"center\", yanchor=\"top\", showarrow=False)\n",
    "\n",
    "    # show/hide & labels on/off\n",
    "    showhide_menu = dict(type=\"buttons\", x=0.93, y=1.12, xanchor=\"center\", yanchor=\"top\",\n",
    "                         direction=\"right\",\n",
    "                         buttons=[dict(label=\"Show All\", method=\"update\", args=[{\"visible\":[True]*n_cities}]),\n",
    "                                  dict(label=\"Hide All\", method=\"update\", args=[{\"visible\":[False]*n_cities}])])\n",
    "    def labels_button(on=True):\n",
    "        modes = [(\"markers+text\" if on else \"markers\")] * n_cities\n",
    "        return dict(label=(\"Labels: On\" if on else \"Labels: Off\"), method=\"update\", args=[{\"mode\": modes}])\n",
    "    labels_menu = dict(type=\"buttons\", x=0.78, y=1.12, xanchor=\"center\", yanchor=\"top\",\n",
    "                       direction=\"right\", buttons=[labels_button(True), labels_button(False)])\n",
    "\n",
    "    xpos_x, xpos_y, xpos_z = 0.14, 0.39, 0.64\n",
    "    fig.update_layout(\n",
    "        scene=dict(xaxis_title=num_to_label[mx], yaxis_title=num_to_label[my], zaxis_title=num_to_label[mz],\n",
    "                   xaxis=dict(showspikes=False), yaxis=dict(showspikes=False), zaxis=dict(showspikes=False)),\n",
    "        legend_title_text=\"Toggle cities\",\n",
    "        margin=dict(l=10,r=10,t=140,b=10),\n",
    "        updatemenus=[axis_dropdown('x', xpos_x), axis_dropdown('y', xpos_y), axis_dropdown('z', xpos_z),\n",
    "                     labels_menu, showhide_menu],\n",
    "        annotations=[label_anno(\"X Month\", xpos_x), label_anno(\"Y Month\", xpos_y), label_anno(\"Z Month\", xpos_z),\n",
    "                     label_anno(\"Point Labels\", 0.78), label_anno(\"Cities\", 0.93)],\n",
    "        title_y=0.92, width=S*1.75, height=S, autosize=False\n",
    "    )\n",
    "    return fig\n",
    "\n",
    "# ----------------------------- PCA Utilities & Plots -----------------------------\n",
    "def compute_pca_matrix(df, city_col, month_cols, retain=0.95):\n",
    "    \"\"\"\n",
    "    Matrix (rows=cities, cols=months) -> impute -> standardize -> full PCA.\n",
    "    Returns selected-k PCA pieces, plus full variance arrays for scree & cumulative plots.\n",
    "    \"\"\"\n",
    "    X = df[month_cols].apply(pd.to_numeric, errors=\"coerce\").values\n",
    "    cities = df[city_col].astype(str).values\n",
    "    X_proc = SimpleImputer(strategy=\"mean\").fit_transform(X)\n",
    "    X_proc = StandardScaler().fit_transform(X_proc)\n",
    "\n",
    "    # Full PCA for EVR curves\n",
    "    pca_full = PCA().fit(X_proc)\n",
    "    full_var_all = pca_full.explained_variance_ratio_ * 100.0   # per-PC %\n",
    "    full_eig_all = pca_full.explained_variance_                  # eigenvalues\n",
    "    cumvar_all   = np.cumsum(pca_full.explained_variance_ratio_) * 100.0\n",
    "\n",
    "    # Choose k to reach retain (min 2)\n",
    "    k = max(2, int(np.searchsorted(np.cumsum(pca_full.explained_variance_ratio_), retain) + 1))\n",
    "\n",
    "    # Fit final PCA with k comps (used by axis picker & residual map)\n",
    "    pca = PCA(n_components=k, random_state=0)\n",
    "    Z = pca.fit_transform(X_proc)        # scores\n",
    "    P = pca.components_.T                # loadings\n",
    "    eig = pca.explained_variance_\n",
    "    var = pca.explained_variance_ratio_ * 100.0\n",
    "\n",
    "    return {\n",
    "        \"X_proc\":X_proc, \"Z\":Z, \"P\":P, \"eig\":eig, \"var\":var, \"k\":k, \"cities\":cities,\n",
    "        \"full_var_all\": full_var_all, \"full_eig_all\": full_eig_all, \"cumvar_all\": cumvar_all,\n",
    "        \"retain\": retain\n",
    "    }\n",
    "\n",
    "def fig_pca_axis_picker(Z, cities, var, S=1000):\n",
    "    \"\"\"2D PCA scatter with dropdowns to pick ±PC for X and Y; city labels shown.\"\"\"\n",
    "    k = Z.shape[1]; pcx,pcy = 1,2\n",
    "    fig = go.Figure()\n",
    "    fig.add_trace(go.Scatter(\n",
    "        x=Z[:,pcx-1], y=Z[:,pcy-1], mode=\"markers+text\",\n",
    "        text=cities, textposition=\"top center\", textfont=dict(size=10),\n",
    "        marker=dict(size=8, opacity=0.9),\n",
    "        hovertemplate=\"<b>%{text}</b><br>PCX=%{x:.3f}<br>PCY=%{y:.3f}<extra></extra>\"\n",
    "    ))\n",
    "    fig.add_hline(y=0); fig.add_vline(x=0)\n",
    "    def title_pc(i, neg=False): return f\"{'-' if neg else ''}PC{i} ({var[i-1]:.1f}%)\"\n",
    "    fig.update_xaxes(title_text=title_pc(pcx)); fig.update_yaxes(title_text=title_pc(pcy))\n",
    "    SMALL = dict(font=dict(size=10), pad={\"t\":1,\"b\":1,\"l\":1,\"r\":1}, bgcolor=\"rgba(255,255,255,0.6)\")\n",
    "    def pc_dropdown(axis, xpos):\n",
    "        buttons=[]\n",
    "        for j in range(1, k+1):\n",
    "            if axis=='x':\n",
    "                buttons += [dict(label=f\"PC{j} ({var[j-1]:.0f}%)\", method=\"update\",\n",
    "                                 args=[{\"x\":[Z[:,j-1]]}, {\"xaxis.title.text\": title_pc(j)}]),\n",
    "                            dict(label=f\"-PC{j}\", method=\"update\",\n",
    "                                 args=[{\"x\":[-Z[:,j-1]]}, {\"xaxis.title.text\": title_pc(j,True)}])]\n",
    "            else:\n",
    "                buttons += [dict(label=f\"PC{j} ({var[j-1]:.0f}%)\", method=\"update\",\n",
    "                                 args=[{\"y\":[Z[:,j-1]]}, {\"yaxis.title.text\": title_pc(j)}]),\n",
    "                            dict(label=f\"-PC{j}\", method=\"update\",\n",
    "                                 args=[{\"y\":[-Z[:,j-1]]}, {\"yaxis.title.text\": title_pc(j,True)}])]\n",
    "        d = dict(type=\"dropdown\", x=xpos, y=1.08, xanchor=\"center\", yanchor=\"top\",\n",
    "                 direction=\"down\", showactive=True, buttons=buttons); d.update(SMALL); return d\n",
    "    def label_anno(txt, xpos):\n",
    "        return dict(text=txt, x=xpos, y=1.13, xref=\"paper\", yref=\"paper\",\n",
    "                    xanchor=\"center\", yanchor=\"top\", showarrow=False, font=dict(size=11))\n",
    "    xpos_xpc, xpos_ypc = 0.34, 0.58\n",
    "    fig.update_layout(\n",
    "        title=\"PCA — Pick PCs (± direction) • City names shown\",\n",
    "        updatemenus=[pc_dropdown('x', xpos_xpc), pc_dropdown('y', xpos_ypc)],\n",
    "        annotations=[label_anno(\"X PC\", xpos_xpc), label_anno(\"Y PC\", xpos_ypc)],\n",
    "        margin=dict(l=60,r=20,t=105,b=60), hovermode=\"closest\",\n",
    "        width=S, height=S, autosize=False\n",
    "    )\n",
    "    return fig\n",
    "\n",
    "def fig_pca_residual_map(X_proc, Z, P, eig, cities, alpha=0.01, S=700):\n",
    "    \"\"\"Residual map: Hotelling T² vs Q residual with empirical thresholds (top 1%).\"\"\"\n",
    "    X_hat = Z @ P.T\n",
    "    R = X_proc - X_hat\n",
    "    Q = np.sum(R**2, axis=1)\n",
    "    T2 = np.sum((Z**2) / eig, axis=1)\n",
    "    Q_thr  = float(np.quantile(Q,  1 - alpha))\n",
    "    T2_thr = float(np.quantile(T2, 1 - alpha))\n",
    "    out_df = pd.DataFrame({\"City\":cities,\"Q_residual\":Q,\"T2\":T2})\n",
    "    outliers = out_df[(Q > Q_thr) | (T2 > T2_thr)].sort_values([\"Q_residual\",\"T2\"], ascending=False)\n",
    "    if len(outliers):\n",
    "        print(f\"Outliers (alpha = {alpha:.2%})\\n\"); print(outliers.to_string(index=False))\n",
    "    else:\n",
    "        print(f\"No outliers at alpha = {alpha:.2%}\")\n",
    "    fig = go.Figure()\n",
    "    fig.add_trace(go.Scatter(\n",
    "        x=T2, y=Q, mode=\"markers+text\", text=cities, textposition=\"top center\", textfont=dict(size=10),\n",
    "        marker=dict(size=8, opacity=0.9),\n",
    "        hovertemplate=\"<b>%{text}</b><br>T²=%{x:.3f}<br>Q=%{y:.3f}<extra></extra>\"\n",
    "    ))\n",
    "    fig.add_vline(x=T2_thr, line_dash=\"dash\"); fig.add_hline(y=Q_thr, line_dash=\"dash\")\n",
    "    fig.update_xaxes(title=\"Hotelling T²\"); fig.update_yaxes(title=\"Q residual (SPE)\")\n",
    "    fig.update_layout(title=f\"PCA Residual Outlier Map (α={alpha}, k={Z.shape[1]})\",\n",
    "                      margin=dict(l=60,r=20,t=80,b=60), hovermode=\"closest\",\n",
    "                      width=900, height=S, autosize=False)\n",
    "    return fig\n",
    "\n",
    "# -------- Explained Variance Plots (scree and cumulative) --------\n",
    "def fig_pca_scree(full_var_all, k_selected, S=700):\n",
    "    \"\"\"Scree plot: explained variance ratio (%) per component with a vertical line at selected k.\"\"\"\n",
    "    comps = np.arange(1, len(full_var_all)+1)\n",
    "    fig = go.Figure()\n",
    "    fig.add_bar(x=comps, y=full_var_all, name=\"Explained variance (%)\")\n",
    "    fig.add_vline(x=k_selected + 0.5, line_dash=\"dash\",\n",
    "                  annotation_text=f\"k = {k_selected}\", annotation_position=\"top\")\n",
    "    fig.update_xaxes(title=\"Principal component\")\n",
    "    fig.update_yaxes(title=\"Explained variance (%)\", rangemode=\"tozero\")\n",
    "    fig.update_layout(title=\"PCA Scree Plot (per-component explained variance)\",\n",
    "                      margin=dict(l=60,r=20,t=80,b=60), hovermode=\"x unified\",\n",
    "                      width=900, height=S, autosize=False, showlegend=False)\n",
    "    return fig\n",
    "\n",
    "def fig_pca_cumulative(cumvar_all, k_selected, retain=0.95, S=700):\n",
    "    \"\"\"Cumulative explained variance (%) with horizontal retain line and vertical k marker.\"\"\"\n",
    "    comps = np.arange(1, len(cumvar_all)+1)\n",
    "    fig = go.Figure()\n",
    "    fig.add_scatter(x=comps, y=cumvar_all, mode=\"lines+markers\", name=\"Cumulative EVR (%)\")\n",
    "    fig.add_hline(y=retain*100.0, line_dash=\"dash\",\n",
    "                  annotation_text=f\"{retain*100:.0f}% threshold\", annotation_position=\"bottom right\")\n",
    "    fig.add_vline(x=k_selected + 0.5, line_dash=\"dash\",\n",
    "                  annotation_text=f\"k = {k_selected}\", annotation_position=\"top\")\n",
    "    fig.update_xaxes(title=\"Principal component\")\n",
    "    fig.update_yaxes(title=\"Cumulative explained variance (%)\", rangemode=\"tozero\")\n",
    "    fig.update_layout(title=\"PCA Cumulative Explained Variance\",\n",
    "                      margin=dict(l=60,r=20,t=80,b=60), hovermode=\"x unified\",\n",
    "                      width=900, height=S, autosize=False, showlegend=False)\n",
    "    return fig\n",
    "\n",
    "# ----------------------------- LOO PCA — Clickable Widget -----------------------------\n",
    "def fig_loo_pca_widget(df, city_col, month_cols, S=800):\n",
    "    \"\"\"\n",
    "    Interactive LOO PCA (2 PCs): click any BLUE city to recompute PCA trained\n",
    "    without that city; RED points show the LOO projection; titles show LOO vs full variance.\n",
    "    Returns a VBox to display in Jupyter.\n",
    "    \"\"\"\n",
    "    import plotly.graph_objects as go\n",
    "    from ipywidgets import HTML, VBox\n",
    "\n",
    "    X = df[month_cols].apply(pd.to_numeric, errors=\"coerce\").values\n",
    "    cities = df[city_col].astype(str).values\n",
    "    n = X.shape[0]\n",
    "    idx_all = np.arange(n)\n",
    "\n",
    "    def project_with_pca_2pc(X, train_idx):\n",
    "        imp = SimpleImputer(strategy=\"mean\").fit(X[train_idx])\n",
    "        X_imp_train = imp.transform(X[train_idx]); X_imp_full = imp.transform(X)\n",
    "        scaler = StandardScaler().fit(X_imp_train)\n",
    "        X_std_train = scaler.transform(X_imp_train); X_std_full = scaler.transform(X_imp_full)\n",
    "        pca = PCA(n_components=2, random_state=0).fit(X_std_train)\n",
    "        scores_full = pca.transform(X_std_full); var = pca.explained_variance_ratio_ * 100.0\n",
    "        return scores_full, var\n",
    "\n",
    "    full_scores, full_var = project_with_pca_2pc(X, idx_all)\n",
    "    fig = go.FigureWidget()\n",
    "    # Trace 0: LOO (red)\n",
    "    fig.add_scatter(x=full_scores[:,0], y=full_scores[:,1], mode=\"markers+text\",\n",
    "                    text=cities, textposition=\"top center\", textfont=dict(size=10),\n",
    "                    marker=dict(size=8, opacity=0.9, color=\"red\"),\n",
    "                    name=\"LOO (train without selected city)\")\n",
    "    # Trace 1: Full (blue) — clickable\n",
    "    fig.add_scatter(x=full_scores[:,0], y=full_scores[:,1], mode=\"markers+text\",\n",
    "                    text=cities, textposition=\"bottom center\", textfont=dict(size=10),\n",
    "                    marker=dict(size=8, opacity=0.9, color=\"blue\"),\n",
    "                    name=\"Full (train with all cities)\")\n",
    "    fig.add_hline(y=0, line_width=1); fig.add_vline(x=0, line_width=1)\n",
    "    fig.update_xaxes(title=f\"PC1 (full {full_var[0]:.1f}%)\")\n",
    "    fig.update_yaxes(title=f\"PC2 (full {full_var[1]:.1f}%)\", scaleanchor=\"x\", scaleratio=1)\n",
    "    fig.update_layout(title=\"LOO PCA (click a blue city to recompute)\",\n",
    "                      margin=dict(l=60,r=20,t=80,b=60), hovermode=\"closest\",\n",
    "                      legend=dict(orientation=\"h\", yanchor=\"bottom\", y=1.02, xanchor=\"left\", x=0.0),\n",
    "                      width=S, height=S, autosize=False)\n",
    "    info = HTML(value=\"<b>Click a blue city to compute the LOO model…</b>\")\n",
    "\n",
    "    def handle_click(trace, points, selector):\n",
    "        if not points.point_inds: return\n",
    "        i = points.point_inds[0]; city = cities[i]\n",
    "        train_idx = np.delete(idx_all, i)\n",
    "        loo_scores, loo_var = project_with_pca_2pc(X, train_idx)\n",
    "        full_scores_now, full_var_now = project_with_pca_2pc(X, idx_all)\n",
    "        with fig.batch_update():\n",
    "            fig.data[0].x, fig.data[0].y, fig.data[0].text = loo_scores[:,0], loo_scores[:,1], cities\n",
    "            fig.data[1].x, fig.data[1].y, fig.data[1].text = full_scores_now[:,0], full_scores_now[:,1], cities\n",
    "            fig.layout.xaxis.title = f\"PC1 (LOO {loo_var[0]:.1f}% | full {full_var_now[0]:.1f}%)\"\n",
    "            fig.layout.yaxis.title = f\"PC2 (LOO {loo_var[1]:.1f}% | full {full_var_now[1]:.1f}%)\"\n",
    "            fig.layout.title = f\"LOO PCA — removed: {city}\"\n",
    "        info.value = (f\"<b>Removed:</b> {city} &nbsp; | &nbsp; \"\n",
    "                      f\"<b>LOO var:</b> ({loo_var[0]:.1f}%, {loo_var[1]:.1f}%) &nbsp; | &nbsp; \"\n",
    "                      f\"<b>Full var:</b> ({full_var_now[0]:.1f}%, {full_var_now[1]:.1f}%)\")\n",
    "\n",
    "    fig.data[1].on_click(handle_click)  # attach to blue trace\n",
    "    return VBox([info, fig])\n",
    "\n",
    "# ----------------------------- LOO PCA — Dropdown Fallback (no widgets) -----------------------------\n",
    "def fig_loo_pca_dropdown(df, city_col, month_cols, S=800):\n",
    "    \"\"\"\n",
    "    LOO PCA without ipywidgets: use a dropdown to choose the city to leave out.\n",
    "    Red = LOO projection (trained without selected city); Blue = full model.\n",
    "    \"\"\"\n",
    "    import plotly.graph_objects as go\n",
    "\n",
    "    # Data matrix\n",
    "    X = df[month_cols].apply(pd.to_numeric, errors=\"coerce\").values\n",
    "    cities = df[city_col].astype(str).values\n",
    "    n = X.shape[0]\n",
    "    idx_all = np.arange(n)\n",
    "\n",
    "    def project_with_pca_2pc(X, train_idx):\n",
    "        imp = SimpleImputer(strategy=\"mean\").fit(X[train_idx])\n",
    "        X_imp_train = imp.transform(X[train_idx]); X_imp_full = imp.transform(X)\n",
    "        scaler = StandardScaler().fit(X_imp_train)\n",
    "        X_std_train = scaler.transform(X_imp_train); X_std_full = scaler.transform(X_imp_full)\n",
    "        pca = PCA(n_components=2, random_state=0).fit(X_std_train)\n",
    "        scores_full = pca.transform(X_std_full)          # (n_cities, 2)\n",
    "        var = pca.explained_variance_ratio_ * 100.0      # (2,)\n",
    "        return scores_full, var\n",
    "\n",
    "    # Full model once\n",
    "    full_scores, full_var = project_with_pca_2pc(X, idx_all)\n",
    "\n",
    "    # Precompute LOO for each city\n",
    "    loo_scores = []\n",
    "    loo_vars = []\n",
    "    for i in range(n):\n",
    "        train_idx = np.delete(idx_all, i)\n",
    "        s, v = project_with_pca_2pc(X, train_idx)\n",
    "        loo_scores.append(s); loo_vars.append(v)\n",
    "\n",
    "    # Base fig with two traces\n",
    "    fig = go.Figure()\n",
    "    # Trace 0: LOO (red) — start as full\n",
    "    fig.add_trace(go.Scatter(\n",
    "        x=full_scores[:,0], y=full_scores[:,1],\n",
    "        mode=\"markers+text\", text=cities, textposition=\"top center\", textfont=dict(size=10),\n",
    "        marker=dict(size=8, opacity=0.9, color=\"red\"),\n",
    "        name=\"LOO (train without selected city)\"\n",
    "    ))\n",
    "    # Trace 1: Full (blue)\n",
    "    fig.add_trace(go.Scatter(\n",
    "        x=full_scores[:,0], y=full_scores[:,1],\n",
    "        mode=\"markers+text\", text=cities, textposition=\"bottom center\", textfont=dict(size=10),\n",
    "        marker=dict(size=8, opacity=0.9, color=\"blue\"),\n",
    "        name=\"Full (train with all cities)\"\n",
    "    ))\n",
    "\n",
    "    # Crosshairs + layout\n",
    "    fig.add_hline(y=0, line_width=1); fig.add_vline(x=0, line_width=1)\n",
    "    fig.update_xaxes(title=f\"PC1 (full {full_var[0]:.1f}%)\")\n",
    "    fig.update_yaxes(title=f\"PC2 (full {full_var[1]:.1f}%)\", scaleanchor=\"x\", scaleratio=1)\n",
    "    fig.update_layout(\n",
    "        title=\"LOO PCA — choose a city to leave out\",\n",
    "        margin=dict(l=60, r=20, t=90, b=60),\n",
    "        hovermode=\"closest\",\n",
    "        legend=dict(orientation=\"h\", yanchor=\"bottom\", y=1.02, xanchor=\"left\", x=0.0),\n",
    "        width=S, height=S, autosize=False\n",
    "    )\n",
    "\n",
    "    # Build dropdown buttons\n",
    "    buttons = []\n",
    "    # Button 0: reset (no LOO)\n",
    "    buttons.append(dict(\n",
    "        label=\"— Select city —\",\n",
    "        method=\"update\",\n",
    "        args=[\n",
    "            {\"x\":[full_scores[:,0], full_scores[:,0]],\n",
    "             \"y\":[full_scores[:,1], full_scores[:,1]],\n",
    "             \"text\":[cities, cities]},\n",
    "            {\"xaxis.title.text\": f\"PC1 (full {full_var[0]:.1f}%)\",\n",
    "             \"yaxis.title.text\": f\"PC2 (full {full_var[1]:.1f}%)\",\n",
    "             \"title\": \"LOO PCA — choose a city to leave out\"}\n",
    "        ]\n",
    "    ))\n",
    "    # One button per city\n",
    "    for i, city in enumerate(cities):\n",
    "        loo_s = loo_scores[i]; loo_v = loo_vars[i]\n",
    "        buttons.append(dict(\n",
    "            label=str(city),\n",
    "            method=\"update\",\n",
    "            args=[\n",
    "                {\"x\":[loo_s[:,0], full_scores[:,0]], \"y\":[loo_s[:,1], full_scores[:,1]],\n",
    "                 \"text\":[cities, cities]},\n",
    "                {\"xaxis.title.text\": f\"PC1 (LOO {loo_v[0]:.1f}% | full {full_var[0]:.1f}%)\",\n",
    "                 \"yaxis.title.text\": f\"PC2 (LOO {loo_v[1]:.1f}% | full {full_var[1]:.1f}%)\",\n",
    "                 \"title\": f\"LOO PCA — removed: {city}\"}\n",
    "            ]\n",
    "        ))\n",
    "\n",
    "    fig.update_layout(\n",
    "        updatemenus=[dict(\n",
    "            type=\"dropdown\", direction=\"down\",\n",
    "            x=0.02, xanchor=\"left\", y=1.18, yanchor=\"top\",\n",
    "            buttons=buttons, showactive=True\n",
    "        )],\n",
    "        annotations=[dict(\n",
    "            text=\"Leave out:\", x=0.02, y=1.23, xref=\"paper\", yref=\"paper\",\n",
    "            xanchor=\"left\", yanchor=\"top\", showarrow=False\n",
    "        )]\n",
    "    )\n",
    "    return fig"
   ]
  },
  {
   "cell_type": "code",
   "execution_count": 38,
   "id": "aae59283",
   "metadata": {},
   "outputs": [
    {
     "name": "stdout",
     "output_type": "stream",
     "text": [
      "Loaded: /Users/adilrasheed/Codes/ham/PCA/data/CityTemp.xlsx\n"
     ]
    }
   ],
   "source": [
    "BASE_DIR = Path(__file__).resolve().parent if \"__file__\" in globals() else Path.cwd()\n",
    "XLSX = (BASE_DIR / \"data\" / \"CityTemp.xlsx\")\n",
    "df, city_col, month_cols, col_to_num = load_city_temps(XLSX, sheet=0)\n",
    "long_df = to_long(df, city_col, month_cols, col_to_num)"
   ]
  },
  {
   "cell_type": "code",
   "execution_count": 39,
   "id": "65cf80ed",
   "metadata": {},
   "outputs": [
    {
     "data": {
      "application/vnd.plotly.v1+json": {
       "config": {
        "plotlyServerURL": "https://plot.ly"
       },
       "data": [
        {
         "hovertemplate": "City=Amsterdam<br>Month=%{x}<br>Temperature=%{y}<extra></extra>",
         "legendgroup": "Amsterdam",
         "line": {
          "color": "#636efa",
          "dash": "solid"
         },
         "marker": {
          "symbol": "circle"
         },
         "mode": "lines+markers",
         "name": "Amsterdam",
         "orientation": "v",
         "showlegend": true,
         "type": "scatter",
         "x": [
          "Jan",
          "Feb",
          "Mar",
          "Apr",
          "May",
          "Jun",
          "Jul",
          "Aug",
          "Sep",
          "Oct",
          "Nov",
          "Dec"
         ],
         "xaxis": "x",
         "y": {
          "bdata": "AAAAAAAAAEAAAAAAAAAAQAAAAAAAABRAAAAAAAAAIEAAAAAAAAAoQAAAAAAAAC5AAAAAAAAAMUAAAAAAAAAxQAAAAAAAAC5AAAAAAAAAJkAAAAAAAAAYQAAAAAAAAAhA",
          "dtype": "f8"
         },
         "yaxis": "y"
        },
        {
         "hovertemplate": "City=Ankara<br>Month=%{x}<br>Temperature=%{y}<extra></extra>",
         "legendgroup": "Ankara",
         "line": {
          "color": "#EF553B",
          "dash": "solid"
         },
         "marker": {
          "symbol": "circle"
         },
         "mode": "lines+markers",
         "name": "Ankara",
         "orientation": "v",
         "showlegend": true,
         "type": "scatter",
         "x": [
          "Jan",
          "Feb",
          "Mar",
          "Apr",
          "May",
          "Jun",
          "Jul",
          "Aug",
          "Sep",
          "Oct",
          "Nov",
          "Dec"
         ],
         "xaxis": "x",
         "y": {
          "bdata": "AAAAAAAA8D8AAAAAAAAAAAAAAAAAABhAAAAAAAAAKEAAAAAAAAAxQAAAAAAAADNAAAAAAAAAN0AAAAAAAAA2QAAAAAAAADJAAAAAAAAALEAAAAAAAAAgQAAAAAAAAABA",
          "dtype": "f8"
         },
         "yaxis": "y"
        },
        {
         "hovertemplate": "City=Athens<br>Month=%{x}<br>Temperature=%{y}<extra></extra>",
         "legendgroup": "Athens",
         "line": {
          "color": "#00cc96",
          "dash": "solid"
         },
         "marker": {
          "symbol": "circle"
         },
         "mode": "lines+markers",
         "name": "Athens",
         "orientation": "v",
         "showlegend": true,
         "type": "scatter",
         "x": [
          "Jan",
          "Feb",
          "Mar",
          "Apr",
          "May",
          "Jun",
          "Jul",
          "Aug",
          "Sep",
          "Oct",
          "Nov",
          "Dec"
         ],
         "xaxis": "x",
         "y": {
          "bdata": "AAAAAAAAIkAAAAAAAAAkQAAAAAAAAChAAAAAAAAAMEAAAAAAAAA1QAAAAAAAADpAAAAAAAAAPUAAAAAAAAA8QAAAAAAAADhAAAAAAAAANEAAAAAAAAAuQAAAAAAAACZA",
          "dtype": "f8"
         },
         "yaxis": "y"
        },
        {
         "hovertemplate": "City=Belgrade<br>Month=%{x}<br>Temperature=%{y}<extra></extra>",
         "legendgroup": "Belgrade",
         "line": {
          "color": "#ab63fa",
          "dash": "solid"
         },
         "marker": {
          "symbol": "circle"
         },
         "mode": "lines+markers",
         "name": "Belgrade",
         "orientation": "v",
         "showlegend": true,
         "type": "scatter",
         "x": [
          "Jan",
          "Feb",
          "Mar",
          "Apr",
          "May",
          "Jun",
          "Jul",
          "Aug",
          "Sep",
          "Oct",
          "Nov",
          "Dec"
         ],
         "xaxis": "x",
         "y": {
          "bdata": "AAAAAAAA8D8AAAAAAAAIQAAAAAAAACBAAAAAAAAAKkAAAAAAAAAxQAAAAAAAADZAAAAAAAAAN0AAAAAAAAA3QAAAAAAAADNAAAAAAAAALEAAAAAAAAAgQAAAAAAAABhA",
          "dtype": "f8"
         },
         "yaxis": "y"
        },
        {
         "hovertemplate": "City=Berlin<br>Month=%{x}<br>Temperature=%{y}<extra></extra>",
         "legendgroup": "Berlin",
         "line": {
          "color": "#FFA15A",
          "dash": "solid"
         },
         "marker": {
          "symbol": "circle"
         },
         "mode": "lines+markers",
         "name": "Berlin",
         "orientation": "v",
         "showlegend": true,
         "type": "scatter",
         "x": [
          "Jan",
          "Feb",
          "Mar",
          "Apr",
          "May",
          "Jun",
          "Jul",
          "Aug",
          "Sep",
          "Oct",
          "Nov",
          "Dec"
         ],
         "xaxis": "x",
         "y": {
          "bdata": "AAAAAAAAAMAAAAAAAADwPwAAAAAAABBAAAAAAAAAJEAAAAAAAAAsQAAAAAAAADJAAAAAAAAANUAAAAAAAAAzQAAAAAAAADBAAAAAAAAAJEAAAAAAAAAQQAAAAAAAAAAA",
          "dtype": "f8"
         },
         "yaxis": "y"
        },
        {
         "hovertemplate": "City=Bern<br>Month=%{x}<br>Temperature=%{y}<extra></extra>",
         "legendgroup": "Bern",
         "line": {
          "color": "#19d3f3",
          "dash": "solid"
         },
         "marker": {
          "symbol": "circle"
         },
         "mode": "lines+markers",
         "name": "Bern",
         "orientation": "v",
         "showlegend": true,
         "type": "scatter",
         "x": [
          "Jan",
          "Feb",
          "Mar",
          "Apr",
          "May",
          "Jun",
          "Jul",
          "Aug",
          "Sep",
          "Oct",
          "Nov",
          "Dec"
         ],
         "xaxis": "x",
         "y": {
          "bdata": "AAAAAAAA8D8AAAAAAADwPwAAAAAAABhAAAAAAAAAJEAAAAAAAAAqQAAAAAAAADFAAAAAAAAAMkAAAAAAAAAzQAAAAAAAAC5AAAAAAAAAJEAAAAAAAAAQQAAAAAAAAPA/",
          "dtype": "f8"
         },
         "yaxis": "y"
        },
        {
         "hovertemplate": "City=Bonn<br>Month=%{x}<br>Temperature=%{y}<extra></extra>",
         "legendgroup": "Bonn",
         "line": {
          "color": "#FF6692",
          "dash": "solid"
         },
         "marker": {
          "symbol": "circle"
         },
         "mode": "lines+markers",
         "name": "Bonn",
         "orientation": "v",
         "showlegend": true,
         "type": "scatter",
         "x": [
          "Jan",
          "Feb",
          "Mar",
          "Apr",
          "May",
          "Jun",
          "Jul",
          "Aug",
          "Sep",
          "Oct",
          "Nov",
          "Dec"
         ],
         "xaxis": "x",
         "y": {
          "bdata": "AAAAAAAA8D8AAAAAAAAAQAAAAAAAABxAAAAAAAAAJkAAAAAAAAAsQAAAAAAAADJAAAAAAAAANEAAAAAAAAAwQAAAAAAAADBAAAAAAAAAJkAAAAAAAAAcQAAAAAAAAABA",
          "dtype": "f8"
         },
         "yaxis": "y"
        },
        {
         "hovertemplate": "City=Bratislava<br>Month=%{x}<br>Temperature=%{y}<extra></extra>",
         "legendgroup": "Bratislava",
         "line": {
          "color": "#B6E880",
          "dash": "solid"
         },
         "marker": {
          "symbol": "circle"
         },
         "mode": "lines+markers",
         "name": "Bratislava",
         "orientation": "v",
         "showlegend": true,
         "type": "scatter",
         "x": [
          "Jan",
          "Feb",
          "Mar",
          "Apr",
          "May",
          "Jun",
          "Jul",
          "Aug",
          "Sep",
          "Oct",
          "Nov",
          "Dec"
         ],
         "xaxis": "x",
         "y": {
          "bdata": "mpmZmZmZ2b8zMzMzMzPzPwAAAAAAABZAAAAAAAAAJkAAAAAAAAAwQJqZmZmZGTNAzczMzMxMNUAzMzMzM7M0QM3MzMzMzC9AzczMzMzMJECamZmZmZkTQGZmZmZmZuY/",
          "dtype": "f8"
         },
         "yaxis": "y"
        },
        {
         "hovertemplate": "City=Bruxells<br>Month=%{x}<br>Temperature=%{y}<extra></extra>",
         "legendgroup": "Bruxells",
         "line": {
          "color": "#FF97FF",
          "dash": "solid"
         },
         "marker": {
          "symbol": "circle"
         },
         "mode": "lines+markers",
         "name": "Bruxells",
         "orientation": "v",
         "showlegend": true,
         "type": "scatter",
         "x": [
          "Jan",
          "Feb",
          "Mar",
          "Apr",
          "May",
          "Jun",
          "Jul",
          "Aug",
          "Sep",
          "Oct",
          "Nov",
          "Dec"
         ],
         "xaxis": "x",
         "y": {
          "bdata": "AAAAAAAA8D8AAAAAAAAQQAAAAAAAABxAAAAAAAAAJkAAAAAAAAAqQAAAAAAAADJAAAAAAAAAM0AAAAAAAAAyQAAAAAAAADFAAAAAAAAAKEAAAAAAAAAcQAAAAAAAAAhA",
          "dtype": "f8"
         },
         "yaxis": "y"
        },
        {
         "hovertemplate": "City=Bucarest<br>Month=%{x}<br>Temperature=%{y}<extra></extra>",
         "legendgroup": "Bucarest",
         "line": {
          "color": "#FECB52",
          "dash": "solid"
         },
         "marker": {
          "symbol": "circle"
         },
         "mode": "lines+markers",
         "name": "Bucarest",
         "orientation": "v",
         "showlegend": true,
         "type": "scatter",
         "x": [
          "Jan",
          "Feb",
          "Mar",
          "Apr",
          "May",
          "Jun",
          "Jul",
          "Aug",
          "Sep",
          "Oct",
          "Nov",
          "Dec"
         ],
         "xaxis": "x",
         "y": {
          "bdata": "AAAAAAAAEMAAAAAAAAAAwAAAAAAAABhAAAAAAAAAKEAAAAAAAAAxQAAAAAAAADVAAAAAAAAAN0AAAAAAAAA3QAAAAAAAADJAAAAAAAAAKkAAAAAAAAAcQAAAAAAAAPA/",
          "dtype": "f8"
         },
         "yaxis": "y"
        },
        {
         "hovertemplate": "City=Budapest<br>Month=%{x}<br>Temperature=%{y}<extra></extra>",
         "legendgroup": "Budapest",
         "line": {
          "color": "#636efa",
          "dash": "solid"
         },
         "marker": {
          "symbol": "circle"
         },
         "mode": "lines+markers",
         "name": "Budapest",
         "orientation": "v",
         "showlegend": true,
         "type": "scatter",
         "x": [
          "Jan",
          "Feb",
          "Mar",
          "Apr",
          "May",
          "Jun",
          "Jul",
          "Aug",
          "Sep",
          "Oct",
          "Nov",
          "Dec"
         ],
         "xaxis": "x",
         "y": {
          "bdata": "AAAAAAAAAMAAAAAAAADwPwAAAAAAABxAAAAAAAAAKkAAAAAAAAAxQAAAAAAAADVAAAAAAAAAN0AAAAAAAAA3QAAAAAAAADJAAAAAAAAAKkAAAAAAAAAYQAAAAAAAAPA/",
          "dtype": "f8"
         },
         "yaxis": "y"
        },
        {
         "hovertemplate": "City=Copenhagen<br>Month=%{x}<br>Temperature=%{y}<extra></extra>",
         "legendgroup": "Copenhagen",
         "line": {
          "color": "#EF553B",
          "dash": "solid"
         },
         "marker": {
          "symbol": "circle"
         },
         "mode": "lines+markers",
         "name": "Copenhagen",
         "orientation": "v",
         "showlegend": true,
         "type": "scatter",
         "x": [
          "Jan",
          "Feb",
          "Mar",
          "Apr",
          "May",
          "Jun",
          "Jul",
          "Aug",
          "Sep",
          "Oct",
          "Nov",
          "Dec"
         ],
         "xaxis": "x",
         "y": {
          "bdata": "AAAAAAAA8L8AAAAAAAAAAAAAAAAAAAhAAAAAAAAAIEAAAAAAAAAqQAAAAAAAADFAAAAAAAAAMkAAAAAAAAAyQAAAAAAAACxAAAAAAAAAIkAAAAAAAAAQQAAAAAAAAABA",
          "dtype": "f8"
         },
         "yaxis": "y"
        },
        {
         "hovertemplate": "City=Dublin<br>Month=%{x}<br>Temperature=%{y}<extra></extra>",
         "legendgroup": "Dublin",
         "line": {
          "color": "#00cc96",
          "dash": "solid"
         },
         "marker": {
          "symbol": "circle"
         },
         "mode": "lines+markers",
         "name": "Dublin",
         "orientation": "v",
         "showlegend": true,
         "type": "scatter",
         "x": [
          "Jan",
          "Feb",
          "Mar",
          "Apr",
          "May",
          "Jun",
          "Jul",
          "Aug",
          "Sep",
          "Oct",
          "Nov",
          "Dec"
         ],
         "xaxis": "x",
         "y": {
          "bdata": "AAAAAAAACEAAAAAAAAAQQAAAAAAAABhAAAAAAAAAIEAAAAAAAAAmQAAAAAAAACxAAAAAAAAAMEAAAAAAAAAsQAAAAAAAAChAAAAAAAAAIkAAAAAAAAAYQAAAAAAAABBA",
          "dtype": "f8"
         },
         "yaxis": "y"
        },
        {
         "hovertemplate": "City=Edinburgh<br>Month=%{x}<br>Temperature=%{y}<extra></extra>",
         "legendgroup": "Edinburgh",
         "line": {
          "color": "#ab63fa",
          "dash": "solid"
         },
         "marker": {
          "symbol": "circle"
         },
         "mode": "lines+markers",
         "name": "Edinburgh",
         "orientation": "v",
         "showlegend": true,
         "type": "scatter",
         "x": [
          "Jan",
          "Feb",
          "Mar",
          "Apr",
          "May",
          "Jun",
          "Jul",
          "Aug",
          "Sep",
          "Oct",
          "Nov",
          "Dec"
         ],
         "xaxis": "x",
         "y": {
          "bdata": "AAAAAAAAFsAzMzMzMzMXwM3MzMzMzPS/ZmZmZmZmFECamZmZmZkmQGZmZmZmZi9AzczMzMzMMkBmZmZmZuYwQDMzMzMzMydAzczMzMzMGECamZmZmZm5P5qZmZmZmQ3A",
          "dtype": "f8"
         },
         "yaxis": "y"
        },
        {
         "hovertemplate": "City=Helsinki<br>Month=%{x}<br>Temperature=%{y}<extra></extra>",
         "legendgroup": "Helsinki",
         "line": {
          "color": "#FFA15A",
          "dash": "solid"
         },
         "marker": {
          "symbol": "circle"
         },
         "mode": "lines+markers",
         "name": "Helsinki",
         "orientation": "v",
         "showlegend": true,
         "type": "scatter",
         "x": [
          "Jan",
          "Feb",
          "Mar",
          "Apr",
          "May",
          "Jun",
          "Jul",
          "Aug",
          "Sep",
          "Oct",
          "Nov",
          "Dec"
         ],
         "xaxis": "x",
         "y": {
          "bdata": "AAAAAAAAIsAAAAAAAAAgwAAAAAAAABDAAAAAAAAACEAAAAAAAAAkQAAAAAAAAC5AAAAAAAAAMkAAAAAAAAAwQAAAAAAAACZAAAAAAAAAEEAAAAAAAADwvwAAAAAAABjA",
          "dtype": "f8"
         },
         "yaxis": "y"
        },
        {
         "hovertemplate": "City=Lisbon<br>Month=%{x}<br>Temperature=%{y}<extra></extra>",
         "legendgroup": "Lisbon",
         "line": {
          "color": "#19d3f3",
          "dash": "solid"
         },
         "marker": {
          "symbol": "circle"
         },
         "mode": "lines+markers",
         "name": "Lisbon",
         "orientation": "v",
         "showlegend": true,
         "type": "scatter",
         "x": [
          "Jan",
          "Feb",
          "Mar",
          "Apr",
          "May",
          "Jun",
          "Jul",
          "Aug",
          "Sep",
          "Oct",
          "Nov",
          "Dec"
         ],
         "xaxis": "x",
         "y": {
          "bdata": "AAAAAAAAJkAAAAAAAAAoQAAAAAAAAC5AAAAAAAAAMUAAAAAAAAAzQAAAAAAAADdAAAAAAAAAOUAAAAAAAAA4QAAAAAAAADdAAAAAAAAAM0AAAAAAAAAsQAAAAAAAACZA",
          "dtype": "f8"
         },
         "yaxis": "y"
        },
        {
         "hovertemplate": "City=Ljubljana<br>Month=%{x}<br>Temperature=%{y}<extra></extra>",
         "legendgroup": "Ljubljana",
         "line": {
          "color": "#FF6692",
          "dash": "solid"
         },
         "marker": {
          "symbol": "circle"
         },
         "mode": "lines+markers",
         "name": "Ljubljana",
         "orientation": "v",
         "showlegend": true,
         "type": "scatter",
         "x": [
          "Jan",
          "Feb",
          "Mar",
          "Apr",
          "May",
          "Jun",
          "Jul",
          "Aug",
          "Sep",
          "Oct",
          "Nov",
          "Dec"
         ],
         "xaxis": "x",
         "y": {
          "bdata": "MzMzMzMz0z9mZmZmZmb+PwAAAAAAABpAmpmZmZmZJUCamZmZmZkvQJqZmZmZGTNAzczMzMxMNUCamZmZmZk0QAAAAAAAADBAZmZmZmZmJkBmZmZmZmYWQDMzMzMzM/M/",
          "dtype": "f8"
         },
         "yaxis": "y"
        },
        {
         "hovertemplate": "City=London<br>Month=%{x}<br>Temperature=%{y}<extra></extra>",
         "legendgroup": "London",
         "line": {
          "color": "#B6E880",
          "dash": "solid"
         },
         "marker": {
          "symbol": "circle"
         },
         "mode": "lines+markers",
         "name": "London",
         "orientation": "v",
         "showlegend": true,
         "type": "scatter",
         "x": [
          "Jan",
          "Feb",
          "Mar",
          "Apr",
          "May",
          "Jun",
          "Jul",
          "Aug",
          "Sep",
          "Oct",
          "Nov",
          "Dec"
         ],
         "xaxis": "x",
         "y": {
          "bdata": "AAAAAAAAHEAAAAAAAAAgQAAAAAAAACRAAAAAAAAAKkAAAAAAAAAxQAAAAAAAADRAAAAAAAAANkAAAAAAAAA1QAAAAAAAADNAAAAAAAAALkAAAAAAAAAkQAAAAAAAACBA",
          "dtype": "f8"
         },
         "yaxis": "y"
        },
        {
         "hovertemplate": "City=Luxemborg<br>Month=%{x}<br>Temperature=%{y}<extra></extra>",
         "legendgroup": "Luxemborg",
         "line": {
          "color": "#FF97FF",
          "dash": "solid"
         },
         "marker": {
          "symbol": "circle"
         },
         "mode": "lines+markers",
         "name": "Luxemborg",
         "orientation": "v",
         "showlegend": true,
         "type": "scatter",
         "x": [
          "Jan",
          "Feb",
          "Mar",
          "Apr",
          "May",
          "Jun",
          "Jul",
          "Aug",
          "Sep",
          "Oct",
          "Nov",
          "Dec"
         ],
         "xaxis": "x",
         "y": {
          "bdata": "AAAAAAAAAAAAAAAAAADwPwAAAAAAABxAAAAAAAAAJkAAAAAAAAAqQAAAAAAAADFAAAAAAAAAM0AAAAAAAAAyQAAAAAAAAC5AAAAAAAAAIkAAAAAAAAAQQAAAAAAAAABA",
          "dtype": "f8"
         },
         "yaxis": "y"
        },
        {
         "hovertemplate": "City=Madrid<br>Month=%{x}<br>Temperature=%{y}<extra></extra>",
         "legendgroup": "Madrid",
         "line": {
          "color": "#FECB52",
          "dash": "solid"
         },
         "marker": {
          "symbol": "circle"
         },
         "mode": "lines+markers",
         "name": "Madrid",
         "orientation": "v",
         "showlegend": true,
         "type": "scatter",
         "x": [
          "Jan",
          "Feb",
          "Mar",
          "Apr",
          "May",
          "Jun",
          "Jul",
          "Aug",
          "Sep",
          "Oct",
          "Nov",
          "Dec"
         ],
         "xaxis": "x",
         "y": {
          "bdata": "MzMzMzMzGUCamZmZmZkfQGZmZmZmZiZAzczMzMzMKUAzMzMzM7MwQDMzMzMzMzZAmpmZmZmZOUCamZmZmRk5QGZmZmZm5jRAMzMzMzMzLkDNzMzMzMwjQJqZmZmZmRtA",
          "dtype": "f8"
         },
         "yaxis": "y"
        },
        {
         "hovertemplate": "City=Marbella<br>Month=%{x}<br>Temperature=%{y}<extra></extra>",
         "legendgroup": "Marbella",
         "line": {
          "color": "#636efa",
          "dash": "solid"
         },
         "marker": {
          "symbol": "circle"
         },
         "mode": "lines+markers",
         "name": "Marbella",
         "orientation": "v",
         "showlegend": true,
         "type": "scatter",
         "x": [
          "Jan",
          "Feb",
          "Mar",
          "Apr",
          "May",
          "Jun",
          "Jul",
          "Aug",
          "Sep",
          "Oct",
          "Nov",
          "Dec"
         ],
         "xaxis": "x",
         "y": {
          "bdata": "AAAAAAAAMUAAAAAAAAAxQAAAAAAAADJAAAAAAAAANUAAAAAAAAA3QAAAAAAAADtAAAAAAAAAPUAAAAAAAAA+QAAAAAAAADtAAAAAAAAAN0AAAAAAAAA0QAAAAAAAADFA",
          "dtype": "f8"
         },
         "yaxis": "y"
        },
        {
         "hovertemplate": "City=Milan<br>Month=%{x}<br>Temperature=%{y}<extra></extra>",
         "legendgroup": "Milan",
         "line": {
          "color": "#EF553B",
          "dash": "solid"
         },
         "marker": {
          "symbol": "circle"
         },
         "mode": "lines+markers",
         "name": "Milan",
         "orientation": "v",
         "showlegend": true,
         "type": "scatter",
         "x": [
          "Jan",
          "Feb",
          "Mar",
          "Apr",
          "May",
          "Jun",
          "Jul",
          "Aug",
          "Sep",
          "Oct",
          "Nov",
          "Dec"
         ],
         "xaxis": "x",
         "y": {
          "bdata": "AAAAAAAABEDNzMzMzMwSQAAAAAAAACJAZmZmZmZmKEAAAAAAAAAxQM3MzMzMzDRAmpmZmZmZN0AAAAAAAAA3QDMzMzMzMzNAzczMzMzMKkDNzMzMzMwcQGZmZmZmZgpA",
          "dtype": "f8"
         },
         "yaxis": "y"
        },
        {
         "hovertemplate": "City=Moscow<br>Month=%{x}<br>Temperature=%{y}<extra></extra>",
         "legendgroup": "Moscow",
         "line": {
          "color": "#00cc96",
          "dash": "solid"
         },
         "marker": {
          "symbol": "circle"
         },
         "mode": "lines+markers",
         "name": "Moscow",
         "orientation": "v",
         "showlegend": true,
         "type": "scatter",
         "x": [
          "Jan",
          "Feb",
          "Mar",
          "Apr",
          "May",
          "Jun",
          "Jul",
          "Aug",
          "Sep",
          "Oct",
          "Nov",
          "Dec"
         ],
         "xaxis": "x",
         "y": {
          "bdata": "AAAAAAAALMAAAAAAAAAowAAAAAAAABjAAAAAAAAAGEAAAAAAAAAsQAAAAAAAAC5AAAAAAAAAMkAAAAAAAAAxQAAAAAAAAChAAAAAAAAAGEAAAAAAAAAAwAAAAAAAACTA",
          "dtype": "f8"
         },
         "yaxis": "y"
        },
        {
         "hovertemplate": "City=Oslo<br>Month=%{x}<br>Temperature=%{y}<extra></extra>",
         "legendgroup": "Oslo",
         "line": {
          "color": "#ab63fa",
          "dash": "solid"
         },
         "marker": {
          "symbol": "circle"
         },
         "mode": "lines+markers",
         "name": "Oslo",
         "orientation": "v",
         "showlegend": true,
         "type": "scatter",
         "x": [
          "Jan",
          "Feb",
          "Mar",
          "Apr",
          "May",
          "Jun",
          "Jul",
          "Aug",
          "Sep",
          "Oct",
          "Nov",
          "Dec"
         ],
         "xaxis": "x",
         "y": {
          "bdata": "AAAAAAAAFMAAAAAAAAAQwAAAAAAAAPA/AAAAAAAAFEAAAAAAAAAmQAAAAAAAADBAAAAAAAAAMUAAAAAAAAAwQAAAAAAAACZAAAAAAAAAHEAAAAAAAAAAQAAAAAAAAAhA",
          "dtype": "f8"
         },
         "yaxis": "y"
        },
        {
         "hovertemplate": "City=Paris<br>Month=%{x}<br>Temperature=%{y}<extra></extra>",
         "legendgroup": "Paris",
         "line": {
          "color": "#FFA15A",
          "dash": "solid"
         },
         "marker": {
          "symbol": "circle"
         },
         "mode": "lines+markers",
         "name": "Paris",
         "orientation": "v",
         "showlegend": true,
         "type": "scatter",
         "x": [
          "Jan",
          "Feb",
          "Mar",
          "Apr",
          "May",
          "Jun",
          "Jul",
          "Aug",
          "Sep",
          "Oct",
          "Nov",
          "Dec"
         ],
         "xaxis": "x",
         "y": {
          "bdata": "AAAAAAAAEEAAAAAAAAAUQAAAAAAAACJAAAAAAAAAKkAAAAAAAAAwQAAAAAAAADNAAAAAAAAANkAAAAAAAAA1QAAAAAAAADJAAAAAAAAAKkAAAAAAAAAcQAAAAAAAABBA",
          "dtype": "f8"
         },
         "yaxis": "y"
        },
        {
         "hovertemplate": "City=Prague<br>Month=%{x}<br>Temperature=%{y}<extra></extra>",
         "legendgroup": "Prague",
         "line": {
          "color": "#19d3f3",
          "dash": "solid"
         },
         "marker": {
          "symbol": "circle"
         },
         "mode": "lines+markers",
         "name": "Prague",
         "orientation": "v",
         "showlegend": true,
         "type": "scatter",
         "x": [
          "Jan",
          "Feb",
          "Mar",
          "Apr",
          "May",
          "Jun",
          "Jul",
          "Aug",
          "Sep",
          "Oct",
          "Nov",
          "Dec"
         ],
         "xaxis": "x",
         "y": {
          "bdata": "AAAAAAAAAMAAAAAAAADwvwAAAAAAABBAAAAAAAAAJkAAAAAAAAAuQAAAAAAAADNAAAAAAAAANUAAAAAAAAA0QAAAAAAAADBAAAAAAAAAJEAAAAAAAAAQQAAAAAAAAAAA",
          "dtype": "f8"
         },
         "yaxis": "y"
        },
        {
         "hovertemplate": "City=Rome<br>Month=%{x}<br>Temperature=%{y}<extra></extra>",
         "legendgroup": "Rome",
         "line": {
          "color": "#FF6692",
          "dash": "solid"
         },
         "marker": {
          "symbol": "circle"
         },
         "mode": "lines+markers",
         "name": "Rome",
         "orientation": "v",
         "showlegend": true,
         "type": "scatter",
         "x": [
          "Jan",
          "Feb",
          "Mar",
          "Apr",
          "May",
          "Jun",
          "Jul",
          "Aug",
          "Sep",
          "Oct",
          "Nov",
          "Dec"
         ],
         "xaxis": "x",
         "y": {
          "bdata": "AAAAAAAAHEAAAAAAAAAgQAAAAAAAACZAAAAAAAAALEAAAAAAAAAyQAAAAAAAADdAAAAAAAAAOUAAAAAAAAA5QAAAAAAAADZAAAAAAAAAMUAAAAAAAAAoQAAAAAAAACJA",
          "dtype": "f8"
         },
         "yaxis": "y"
        },
        {
         "hovertemplate": "City=Skopje<br>Month=%{x}<br>Temperature=%{y}<extra></extra>",
         "legendgroup": "Skopje",
         "line": {
          "color": "#B6E880",
          "dash": "solid"
         },
         "marker": {
          "symbol": "circle"
         },
         "mode": "lines+markers",
         "name": "Skopje",
         "orientation": "v",
         "showlegend": true,
         "type": "scatter",
         "x": [
          "Jan",
          "Feb",
          "Mar",
          "Apr",
          "May",
          "Jun",
          "Jul",
          "Aug",
          "Sep",
          "Oct",
          "Nov",
          "Dec"
         ],
         "xaxis": "x",
         "y": {
          "bdata": "mpmZmZmZuT/NzMzMzMwEQGZmZmZmZh5AMzMzMzMzKEDNzMzMzEwxQAAAAAAAgDVAzczMzMzMN0DNzMzMzMw3QM3MzMzMzDJAMzMzMzMzKkAAAAAAAAAaQDMzMzMzM/s/",
          "dtype": "f8"
         },
         "yaxis": "y"
        },
        {
         "hovertemplate": "City=Sofia<br>Month=%{x}<br>Temperature=%{y}<extra></extra>",
         "legendgroup": "Sofia",
         "line": {
          "color": "#FF97FF",
          "dash": "solid"
         },
         "marker": {
          "symbol": "circle"
         },
         "mode": "lines+markers",
         "name": "Sofia",
         "orientation": "v",
         "showlegend": true,
         "type": "scatter",
         "x": [
          "Jan",
          "Feb",
          "Mar",
          "Apr",
          "May",
          "Jun",
          "Jul",
          "Aug",
          "Sep",
          "Oct",
          "Nov",
          "Dec"
         ],
         "xaxis": "x",
         "y": {
          "bdata": "AAAAAAAA8L8AAAAAAADwPwAAAAAAABxAAAAAAAAAKEAAAAAAAAAwQAAAAAAAADNAAAAAAAAANkAAAAAAAAA1QAAAAAAAADFAAAAAAAAAKEAAAAAAAAAcQAAAAAAAAPA/",
          "dtype": "f8"
         },
         "yaxis": "y"
        },
        {
         "hovertemplate": "City=St. Petersberg<br>Month=%{x}<br>Temperature=%{y}<extra></extra>",
         "legendgroup": "St. Petersberg",
         "line": {
          "color": "#FECB52",
          "dash": "solid"
         },
         "marker": {
          "symbol": "circle"
         },
         "mode": "lines+markers",
         "name": "St. Petersberg",
         "orientation": "v",
         "showlegend": true,
         "type": "scatter",
         "x": [
          "Jan",
          "Feb",
          "Mar",
          "Apr",
          "May",
          "Jun",
          "Jul",
          "Aug",
          "Sep",
          "Oct",
          "Nov",
          "Dec"
         ],
         "xaxis": "x",
         "y": {
          "bdata": "zczMzMzMEEAAAAAAAAASQM3MzMzMzBhAMzMzMzMzIECamZmZmZklQAAAAAAAACtAmpmZmZmZLkBmZmZmZmYuQAAAAAAAACpAmpmZmZmZI0DNzMzMzMwaQM3MzMzMzBBA",
          "dtype": "f8"
         },
         "yaxis": "y"
        },
        {
         "hovertemplate": "City=Stockholm<br>Month=%{x}<br>Temperature=%{y}<extra></extra>",
         "legendgroup": "Stockholm",
         "line": {
          "color": "#636efa",
          "dash": "solid"
         },
         "marker": {
          "symbol": "circle"
         },
         "mode": "lines+markers",
         "name": "Stockholm",
         "orientation": "v",
         "showlegend": true,
         "type": "scatter",
         "x": [
          "Jan",
          "Feb",
          "Mar",
          "Apr",
          "May",
          "Jun",
          "Jul",
          "Aug",
          "Sep",
          "Oct",
          "Nov",
          "Dec"
         ],
         "xaxis": "x",
         "y": {
          "bdata": "AAAAAAAAEMAAAAAAAAAQwAAAAAAAAPC/AAAAAAAAGEAAAAAAAAAmQAAAAAAAADBAAAAAAAAAM0AAAAAAAAAxQAAAAAAAAChAAAAAAAAAHEAAAAAAAAAAQAAAAAAAAPC/",
          "dtype": "f8"
         },
         "yaxis": "y"
        },
        {
         "hovertemplate": "City=Vienna<br>Month=%{x}<br>Temperature=%{y}<extra></extra>",
         "legendgroup": "Vienna",
         "line": {
          "color": "#EF553B",
          "dash": "solid"
         },
         "marker": {
          "symbol": "circle"
         },
         "mode": "lines+markers",
         "name": "Vienna",
         "orientation": "v",
         "showlegend": true,
         "type": "scatter",
         "x": [
          "Jan",
          "Feb",
          "Mar",
          "Apr",
          "May",
          "Jun",
          "Jul",
          "Aug",
          "Sep",
          "Oct",
          "Nov",
          "Dec"
         ],
         "xaxis": "x",
         "y": {
          "bdata": "AAAAAAAA8L8AAAAAAADwPwAAAAAAABhAAAAAAAAAKEAAAAAAAAAuQAAAAAAAACZAAAAAAAAALkAAAAAAAAA1QAAAAAAAADFAAAAAAAAAJkAAAAAAAAAYQAAAAAAAAABA",
          "dtype": "f8"
         },
         "yaxis": "y"
        },
        {
         "hovertemplate": "City=Warsaw<br>Month=%{x}<br>Temperature=%{y}<extra></extra>",
         "legendgroup": "Warsaw",
         "line": {
          "color": "#00cc96",
          "dash": "solid"
         },
         "marker": {
          "symbol": "circle"
         },
         "mode": "lines+markers",
         "name": "Warsaw",
         "orientation": "v",
         "showlegend": true,
         "type": "scatter",
         "x": [
          "Jan",
          "Feb",
          "Mar",
          "Apr",
          "May",
          "Jun",
          "Jul",
          "Aug",
          "Sep",
          "Oct",
          "Nov",
          "Dec"
         ],
         "xaxis": "x",
         "y": {
          "bdata": "AAAAAAAAFMAAAAAAAAAQwAAAAAAAAAhAAAAAAAAAIkAAAAAAAAAwQAAAAAAAADJAAAAAAAAANUAAAAAAAAAzQAAAAAAAADBAAAAAAAAAJEAAAAAAAAAQQAAAAAAAAABA",
          "dtype": "f8"
         },
         "yaxis": "y"
        }
       ],
       "layout": {
        "autosize": false,
        "height": 800,
        "hovermode": "x unified",
        "legend": {
         "title": {
          "text": "Click a city to toggle"
         },
         "tracegroupgap": 0
        },
        "margin": {
         "b": 40,
         "l": 40,
         "r": 20,
         "t": 80
        },
        "template": {
         "data": {
          "bar": [
           {
            "error_x": {
             "color": "#2a3f5f"
            },
            "error_y": {
             "color": "#2a3f5f"
            },
            "marker": {
             "line": {
              "color": "#E5ECF6",
              "width": 0.5
             },
             "pattern": {
              "fillmode": "overlay",
              "size": 10,
              "solidity": 0.2
             }
            },
            "type": "bar"
           }
          ],
          "barpolar": [
           {
            "marker": {
             "line": {
              "color": "#E5ECF6",
              "width": 0.5
             },
             "pattern": {
              "fillmode": "overlay",
              "size": 10,
              "solidity": 0.2
             }
            },
            "type": "barpolar"
           }
          ],
          "carpet": [
           {
            "aaxis": {
             "endlinecolor": "#2a3f5f",
             "gridcolor": "white",
             "linecolor": "white",
             "minorgridcolor": "white",
             "startlinecolor": "#2a3f5f"
            },
            "baxis": {
             "endlinecolor": "#2a3f5f",
             "gridcolor": "white",
             "linecolor": "white",
             "minorgridcolor": "white",
             "startlinecolor": "#2a3f5f"
            },
            "type": "carpet"
           }
          ],
          "choropleth": [
           {
            "colorbar": {
             "outlinewidth": 0,
             "ticks": ""
            },
            "type": "choropleth"
           }
          ],
          "contour": [
           {
            "colorbar": {
             "outlinewidth": 0,
             "ticks": ""
            },
            "colorscale": [
             [
              0,
              "#0d0887"
             ],
             [
              0.1111111111111111,
              "#46039f"
             ],
             [
              0.2222222222222222,
              "#7201a8"
             ],
             [
              0.3333333333333333,
              "#9c179e"
             ],
             [
              0.4444444444444444,
              "#bd3786"
             ],
             [
              0.5555555555555556,
              "#d8576b"
             ],
             [
              0.6666666666666666,
              "#ed7953"
             ],
             [
              0.7777777777777778,
              "#fb9f3a"
             ],
             [
              0.8888888888888888,
              "#fdca26"
             ],
             [
              1,
              "#f0f921"
             ]
            ],
            "type": "contour"
           }
          ],
          "contourcarpet": [
           {
            "colorbar": {
             "outlinewidth": 0,
             "ticks": ""
            },
            "type": "contourcarpet"
           }
          ],
          "heatmap": [
           {
            "colorbar": {
             "outlinewidth": 0,
             "ticks": ""
            },
            "colorscale": [
             [
              0,
              "#0d0887"
             ],
             [
              0.1111111111111111,
              "#46039f"
             ],
             [
              0.2222222222222222,
              "#7201a8"
             ],
             [
              0.3333333333333333,
              "#9c179e"
             ],
             [
              0.4444444444444444,
              "#bd3786"
             ],
             [
              0.5555555555555556,
              "#d8576b"
             ],
             [
              0.6666666666666666,
              "#ed7953"
             ],
             [
              0.7777777777777778,
              "#fb9f3a"
             ],
             [
              0.8888888888888888,
              "#fdca26"
             ],
             [
              1,
              "#f0f921"
             ]
            ],
            "type": "heatmap"
           }
          ],
          "histogram": [
           {
            "marker": {
             "pattern": {
              "fillmode": "overlay",
              "size": 10,
              "solidity": 0.2
             }
            },
            "type": "histogram"
           }
          ],
          "histogram2d": [
           {
            "colorbar": {
             "outlinewidth": 0,
             "ticks": ""
            },
            "colorscale": [
             [
              0,
              "#0d0887"
             ],
             [
              0.1111111111111111,
              "#46039f"
             ],
             [
              0.2222222222222222,
              "#7201a8"
             ],
             [
              0.3333333333333333,
              "#9c179e"
             ],
             [
              0.4444444444444444,
              "#bd3786"
             ],
             [
              0.5555555555555556,
              "#d8576b"
             ],
             [
              0.6666666666666666,
              "#ed7953"
             ],
             [
              0.7777777777777778,
              "#fb9f3a"
             ],
             [
              0.8888888888888888,
              "#fdca26"
             ],
             [
              1,
              "#f0f921"
             ]
            ],
            "type": "histogram2d"
           }
          ],
          "histogram2dcontour": [
           {
            "colorbar": {
             "outlinewidth": 0,
             "ticks": ""
            },
            "colorscale": [
             [
              0,
              "#0d0887"
             ],
             [
              0.1111111111111111,
              "#46039f"
             ],
             [
              0.2222222222222222,
              "#7201a8"
             ],
             [
              0.3333333333333333,
              "#9c179e"
             ],
             [
              0.4444444444444444,
              "#bd3786"
             ],
             [
              0.5555555555555556,
              "#d8576b"
             ],
             [
              0.6666666666666666,
              "#ed7953"
             ],
             [
              0.7777777777777778,
              "#fb9f3a"
             ],
             [
              0.8888888888888888,
              "#fdca26"
             ],
             [
              1,
              "#f0f921"
             ]
            ],
            "type": "histogram2dcontour"
           }
          ],
          "mesh3d": [
           {
            "colorbar": {
             "outlinewidth": 0,
             "ticks": ""
            },
            "type": "mesh3d"
           }
          ],
          "parcoords": [
           {
            "line": {
             "colorbar": {
              "outlinewidth": 0,
              "ticks": ""
             }
            },
            "type": "parcoords"
           }
          ],
          "pie": [
           {
            "automargin": true,
            "type": "pie"
           }
          ],
          "scatter": [
           {
            "fillpattern": {
             "fillmode": "overlay",
             "size": 10,
             "solidity": 0.2
            },
            "type": "scatter"
           }
          ],
          "scatter3d": [
           {
            "line": {
             "colorbar": {
              "outlinewidth": 0,
              "ticks": ""
             }
            },
            "marker": {
             "colorbar": {
              "outlinewidth": 0,
              "ticks": ""
             }
            },
            "type": "scatter3d"
           }
          ],
          "scattercarpet": [
           {
            "marker": {
             "colorbar": {
              "outlinewidth": 0,
              "ticks": ""
             }
            },
            "type": "scattercarpet"
           }
          ],
          "scattergeo": [
           {
            "marker": {
             "colorbar": {
              "outlinewidth": 0,
              "ticks": ""
             }
            },
            "type": "scattergeo"
           }
          ],
          "scattergl": [
           {
            "marker": {
             "colorbar": {
              "outlinewidth": 0,
              "ticks": ""
             }
            },
            "type": "scattergl"
           }
          ],
          "scattermap": [
           {
            "marker": {
             "colorbar": {
              "outlinewidth": 0,
              "ticks": ""
             }
            },
            "type": "scattermap"
           }
          ],
          "scattermapbox": [
           {
            "marker": {
             "colorbar": {
              "outlinewidth": 0,
              "ticks": ""
             }
            },
            "type": "scattermapbox"
           }
          ],
          "scatterpolar": [
           {
            "marker": {
             "colorbar": {
              "outlinewidth": 0,
              "ticks": ""
             }
            },
            "type": "scatterpolar"
           }
          ],
          "scatterpolargl": [
           {
            "marker": {
             "colorbar": {
              "outlinewidth": 0,
              "ticks": ""
             }
            },
            "type": "scatterpolargl"
           }
          ],
          "scatterternary": [
           {
            "marker": {
             "colorbar": {
              "outlinewidth": 0,
              "ticks": ""
             }
            },
            "type": "scatterternary"
           }
          ],
          "surface": [
           {
            "colorbar": {
             "outlinewidth": 0,
             "ticks": ""
            },
            "colorscale": [
             [
              0,
              "#0d0887"
             ],
             [
              0.1111111111111111,
              "#46039f"
             ],
             [
              0.2222222222222222,
              "#7201a8"
             ],
             [
              0.3333333333333333,
              "#9c179e"
             ],
             [
              0.4444444444444444,
              "#bd3786"
             ],
             [
              0.5555555555555556,
              "#d8576b"
             ],
             [
              0.6666666666666666,
              "#ed7953"
             ],
             [
              0.7777777777777778,
              "#fb9f3a"
             ],
             [
              0.8888888888888888,
              "#fdca26"
             ],
             [
              1,
              "#f0f921"
             ]
            ],
            "type": "surface"
           }
          ],
          "table": [
           {
            "cells": {
             "fill": {
              "color": "#EBF0F8"
             },
             "line": {
              "color": "white"
             }
            },
            "header": {
             "fill": {
              "color": "#C8D4E3"
             },
             "line": {
              "color": "white"
             }
            },
            "type": "table"
           }
          ]
         },
         "layout": {
          "annotationdefaults": {
           "arrowcolor": "#2a3f5f",
           "arrowhead": 0,
           "arrowwidth": 1
          },
          "autotypenumbers": "strict",
          "coloraxis": {
           "colorbar": {
            "outlinewidth": 0,
            "ticks": ""
           }
          },
          "colorscale": {
           "diverging": [
            [
             0,
             "#8e0152"
            ],
            [
             0.1,
             "#c51b7d"
            ],
            [
             0.2,
             "#de77ae"
            ],
            [
             0.3,
             "#f1b6da"
            ],
            [
             0.4,
             "#fde0ef"
            ],
            [
             0.5,
             "#f7f7f7"
            ],
            [
             0.6,
             "#e6f5d0"
            ],
            [
             0.7,
             "#b8e186"
            ],
            [
             0.8,
             "#7fbc41"
            ],
            [
             0.9,
             "#4d9221"
            ],
            [
             1,
             "#276419"
            ]
           ],
           "sequential": [
            [
             0,
             "#0d0887"
            ],
            [
             0.1111111111111111,
             "#46039f"
            ],
            [
             0.2222222222222222,
             "#7201a8"
            ],
            [
             0.3333333333333333,
             "#9c179e"
            ],
            [
             0.4444444444444444,
             "#bd3786"
            ],
            [
             0.5555555555555556,
             "#d8576b"
            ],
            [
             0.6666666666666666,
             "#ed7953"
            ],
            [
             0.7777777777777778,
             "#fb9f3a"
            ],
            [
             0.8888888888888888,
             "#fdca26"
            ],
            [
             1,
             "#f0f921"
            ]
           ],
           "sequentialminus": [
            [
             0,
             "#0d0887"
            ],
            [
             0.1111111111111111,
             "#46039f"
            ],
            [
             0.2222222222222222,
             "#7201a8"
            ],
            [
             0.3333333333333333,
             "#9c179e"
            ],
            [
             0.4444444444444444,
             "#bd3786"
            ],
            [
             0.5555555555555556,
             "#d8576b"
            ],
            [
             0.6666666666666666,
             "#ed7953"
            ],
            [
             0.7777777777777778,
             "#fb9f3a"
            ],
            [
             0.8888888888888888,
             "#fdca26"
            ],
            [
             1,
             "#f0f921"
            ]
           ]
          },
          "colorway": [
           "#636efa",
           "#EF553B",
           "#00cc96",
           "#ab63fa",
           "#FFA15A",
           "#19d3f3",
           "#FF6692",
           "#B6E880",
           "#FF97FF",
           "#FECB52"
          ],
          "font": {
           "color": "#2a3f5f"
          },
          "geo": {
           "bgcolor": "white",
           "lakecolor": "white",
           "landcolor": "#E5ECF6",
           "showlakes": true,
           "showland": true,
           "subunitcolor": "white"
          },
          "hoverlabel": {
           "align": "left"
          },
          "hovermode": "closest",
          "mapbox": {
           "style": "light"
          },
          "paper_bgcolor": "white",
          "plot_bgcolor": "#E5ECF6",
          "polar": {
           "angularaxis": {
            "gridcolor": "white",
            "linecolor": "white",
            "ticks": ""
           },
           "bgcolor": "#E5ECF6",
           "radialaxis": {
            "gridcolor": "white",
            "linecolor": "white",
            "ticks": ""
           }
          },
          "scene": {
           "xaxis": {
            "backgroundcolor": "#E5ECF6",
            "gridcolor": "white",
            "gridwidth": 2,
            "linecolor": "white",
            "showbackground": true,
            "ticks": "",
            "zerolinecolor": "white"
           },
           "yaxis": {
            "backgroundcolor": "#E5ECF6",
            "gridcolor": "white",
            "gridwidth": 2,
            "linecolor": "white",
            "showbackground": true,
            "ticks": "",
            "zerolinecolor": "white"
           },
           "zaxis": {
            "backgroundcolor": "#E5ECF6",
            "gridcolor": "white",
            "gridwidth": 2,
            "linecolor": "white",
            "showbackground": true,
            "ticks": "",
            "zerolinecolor": "white"
           }
          },
          "shapedefaults": {
           "line": {
            "color": "#2a3f5f"
           }
          },
          "ternary": {
           "aaxis": {
            "gridcolor": "white",
            "linecolor": "white",
            "ticks": ""
           },
           "baxis": {
            "gridcolor": "white",
            "linecolor": "white",
            "ticks": ""
           },
           "bgcolor": "#E5ECF6",
           "caxis": {
            "gridcolor": "white",
            "linecolor": "white",
            "ticks": ""
           }
          },
          "title": {
           "x": 0.05
          },
          "xaxis": {
           "automargin": true,
           "gridcolor": "white",
           "linecolor": "white",
           "ticks": "",
           "title": {
            "standoff": 15
           },
           "zerolinecolor": "white",
           "zerolinewidth": 2
          },
          "yaxis": {
           "automargin": true,
           "gridcolor": "white",
           "linecolor": "white",
           "ticks": "",
           "title": {
            "standoff": 15
           },
           "zerolinecolor": "white",
           "zerolinewidth": 2
          }
         }
        },
        "title": {
         "text": "Monthly Temperature by City"
        },
        "updatemenus": [
         {
          "buttons": [
           {
            "args": [
             {
              "visible": [
               true,
               true,
               true,
               true,
               true,
               true,
               true,
               true,
               true,
               true,
               true,
               true,
               true,
               true,
               true,
               true,
               true,
               true,
               true,
               true,
               true,
               true,
               true,
               true,
               true,
               true,
               true,
               true,
               true,
               true,
               true,
               true,
               true
              ]
             }
            ],
            "label": "Show All",
            "method": "update"
           },
           {
            "args": [
             {
              "visible": [
               false,
               false,
               false,
               false,
               false,
               false,
               false,
               false,
               false,
               false,
               false,
               false,
               false,
               false,
               false,
               false,
               false,
               false,
               false,
               false,
               false,
               false,
               false,
               false,
               false,
               false,
               false,
               false,
               false,
               false,
               false,
               false,
               false
              ]
             }
            ],
            "label": "Hide All",
            "method": "update"
           }
          ],
          "direction": "right",
          "type": "buttons",
          "x": 1,
          "xanchor": "right",
          "y": 1.15,
          "yanchor": "top"
         }
        ],
        "width": 1200,
        "xaxis": {
         "anchor": "y",
         "categoryarray": [
          "Jan",
          "Feb",
          "Mar",
          "Apr",
          "May",
          "Jun",
          "Jul",
          "Aug",
          "Sep",
          "Oct",
          "Nov",
          "Dec"
         ],
         "categoryorder": "array",
         "domain": [
          0,
          1
         ],
         "title": {
          "text": "Month"
         },
         "type": "category"
        },
        "yaxis": {
         "anchor": "x",
         "domain": [
          0,
          1
         ],
         "title": {
          "text": "Temperature"
         }
        }
       }
      }
     },
     "metadata": {},
     "output_type": "display_data"
    }
   ],
   "source": [
    "# 1) Line chart\n",
    "fig1 = fig_line_monthly(long_df, city_col); fig1.show()"
   ]
  },
  {
   "cell_type": "code",
   "execution_count": 40,
   "id": "8d1247c5",
   "metadata": {},
   "outputs": [
    {
     "data": {
      "application/vnd.plotly.v1+json": {
       "config": {
        "plotlyServerURL": "https://plot.ly"
       },
       "data": [
        {
         "customdata": [
          [
           "Jan",
           "Feb",
           "Mar"
          ]
         ],
         "hovertemplate": "<b>%{text}</b><br>X (%{customdata[0]}): %{x}<br>Y (%{customdata[1]}): %{y}<br>Z (%{customdata[2]}): %{z}<extra></extra>",
         "marker": {
          "size": 6
         },
         "mode": "markers",
         "name": "Amsterdam",
         "text": [
          "Amsterdam"
         ],
         "textfont": {
          "size": 10
         },
         "type": "scatter3d",
         "x": [
          2
         ],
         "y": [
          2
         ],
         "z": [
          5
         ]
        },
        {
         "customdata": [
          [
           "Jan",
           "Feb",
           "Mar"
          ]
         ],
         "hovertemplate": "<b>%{text}</b><br>X (%{customdata[0]}): %{x}<br>Y (%{customdata[1]}): %{y}<br>Z (%{customdata[2]}): %{z}<extra></extra>",
         "marker": {
          "size": 6
         },
         "mode": "markers",
         "name": "Ankara",
         "text": [
          "Ankara"
         ],
         "textfont": {
          "size": 10
         },
         "type": "scatter3d",
         "x": [
          1
         ],
         "y": [
          0
         ],
         "z": [
          6
         ]
        },
        {
         "customdata": [
          [
           "Jan",
           "Feb",
           "Mar"
          ]
         ],
         "hovertemplate": "<b>%{text}</b><br>X (%{customdata[0]}): %{x}<br>Y (%{customdata[1]}): %{y}<br>Z (%{customdata[2]}): %{z}<extra></extra>",
         "marker": {
          "size": 6
         },
         "mode": "markers",
         "name": "Athens",
         "text": [
          "Athens"
         ],
         "textfont": {
          "size": 10
         },
         "type": "scatter3d",
         "x": [
          9
         ],
         "y": [
          10
         ],
         "z": [
          12
         ]
        },
        {
         "customdata": [
          [
           "Jan",
           "Feb",
           "Mar"
          ]
         ],
         "hovertemplate": "<b>%{text}</b><br>X (%{customdata[0]}): %{x}<br>Y (%{customdata[1]}): %{y}<br>Z (%{customdata[2]}): %{z}<extra></extra>",
         "marker": {
          "size": 6
         },
         "mode": "markers",
         "name": "Belgrade",
         "text": [
          "Belgrade"
         ],
         "textfont": {
          "size": 10
         },
         "type": "scatter3d",
         "x": [
          1
         ],
         "y": [
          3
         ],
         "z": [
          8
         ]
        },
        {
         "customdata": [
          [
           "Jan",
           "Feb",
           "Mar"
          ]
         ],
         "hovertemplate": "<b>%{text}</b><br>X (%{customdata[0]}): %{x}<br>Y (%{customdata[1]}): %{y}<br>Z (%{customdata[2]}): %{z}<extra></extra>",
         "marker": {
          "size": 6
         },
         "mode": "markers",
         "name": "Berlin",
         "text": [
          "Berlin"
         ],
         "textfont": {
          "size": 10
         },
         "type": "scatter3d",
         "x": [
          -2
         ],
         "y": [
          1
         ],
         "z": [
          4
         ]
        },
        {
         "customdata": [
          [
           "Jan",
           "Feb",
           "Mar"
          ]
         ],
         "hovertemplate": "<b>%{text}</b><br>X (%{customdata[0]}): %{x}<br>Y (%{customdata[1]}): %{y}<br>Z (%{customdata[2]}): %{z}<extra></extra>",
         "marker": {
          "size": 6
         },
         "mode": "markers",
         "name": "Bern",
         "text": [
          "Bern"
         ],
         "textfont": {
          "size": 10
         },
         "type": "scatter3d",
         "x": [
          1
         ],
         "y": [
          1
         ],
         "z": [
          6
         ]
        },
        {
         "customdata": [
          [
           "Jan",
           "Feb",
           "Mar"
          ]
         ],
         "hovertemplate": "<b>%{text}</b><br>X (%{customdata[0]}): %{x}<br>Y (%{customdata[1]}): %{y}<br>Z (%{customdata[2]}): %{z}<extra></extra>",
         "marker": {
          "size": 6
         },
         "mode": "markers",
         "name": "Bonn",
         "text": [
          "Bonn"
         ],
         "textfont": {
          "size": 10
         },
         "type": "scatter3d",
         "x": [
          1
         ],
         "y": [
          2
         ],
         "z": [
          7
         ]
        },
        {
         "customdata": [
          [
           "Jan",
           "Feb",
           "Mar"
          ]
         ],
         "hovertemplate": "<b>%{text}</b><br>X (%{customdata[0]}): %{x}<br>Y (%{customdata[1]}): %{y}<br>Z (%{customdata[2]}): %{z}<extra></extra>",
         "marker": {
          "size": 6
         },
         "mode": "markers",
         "name": "Bruxells",
         "text": [
          "Bruxells"
         ],
         "textfont": {
          "size": 10
         },
         "type": "scatter3d",
         "x": [
          1
         ],
         "y": [
          4
         ],
         "z": [
          7
         ]
        },
        {
         "customdata": [
          [
           "Jan",
           "Feb",
           "Mar"
          ]
         ],
         "hovertemplate": "<b>%{text}</b><br>X (%{customdata[0]}): %{x}<br>Y (%{customdata[1]}): %{y}<br>Z (%{customdata[2]}): %{z}<extra></extra>",
         "marker": {
          "size": 6
         },
         "mode": "markers",
         "name": "Bucarest",
         "text": [
          "Bucarest"
         ],
         "textfont": {
          "size": 10
         },
         "type": "scatter3d",
         "x": [
          -4
         ],
         "y": [
          -2
         ],
         "z": [
          6
         ]
        },
        {
         "customdata": [
          [
           "Jan",
           "Feb",
           "Mar"
          ]
         ],
         "hovertemplate": "<b>%{text}</b><br>X (%{customdata[0]}): %{x}<br>Y (%{customdata[1]}): %{y}<br>Z (%{customdata[2]}): %{z}<extra></extra>",
         "marker": {
          "size": 6
         },
         "mode": "markers",
         "name": "Budapest",
         "text": [
          "Budapest"
         ],
         "textfont": {
          "size": 10
         },
         "type": "scatter3d",
         "x": [
          -2
         ],
         "y": [
          1
         ],
         "z": [
          7
         ]
        },
        {
         "customdata": [
          [
           "Jan",
           "Feb",
           "Mar"
          ]
         ],
         "hovertemplate": "<b>%{text}</b><br>X (%{customdata[0]}): %{x}<br>Y (%{customdata[1]}): %{y}<br>Z (%{customdata[2]}): %{z}<extra></extra>",
         "marker": {
          "size": 6
         },
         "mode": "markers",
         "name": "Copenhagen",
         "text": [
          "Copenhagen"
         ],
         "textfont": {
          "size": 10
         },
         "type": "scatter3d",
         "x": [
          -1
         ],
         "y": [
          0
         ],
         "z": [
          3
         ]
        },
        {
         "customdata": [
          [
           "Jan",
           "Feb",
           "Mar"
          ]
         ],
         "hovertemplate": "<b>%{text}</b><br>X (%{customdata[0]}): %{x}<br>Y (%{customdata[1]}): %{y}<br>Z (%{customdata[2]}): %{z}<extra></extra>",
         "marker": {
          "size": 6
         },
         "mode": "markers",
         "name": "Dublin",
         "text": [
          "Dublin"
         ],
         "textfont": {
          "size": 10
         },
         "type": "scatter3d",
         "x": [
          3
         ],
         "y": [
          4
         ],
         "z": [
          6
         ]
        },
        {
         "customdata": [
          [
           "Jan",
           "Feb",
           "Mar"
          ]
         ],
         "hovertemplate": "<b>%{text}</b><br>X (%{customdata[0]}): %{x}<br>Y (%{customdata[1]}): %{y}<br>Z (%{customdata[2]}): %{z}<extra></extra>",
         "marker": {
          "size": 6
         },
         "mode": "markers",
         "name": "Helsinki",
         "text": [
          "Helsinki"
         ],
         "textfont": {
          "size": 10
         },
         "type": "scatter3d",
         "x": [
          -9
         ],
         "y": [
          -8
         ],
         "z": [
          -4
         ]
        },
        {
         "customdata": [
          [
           "Jan",
           "Feb",
           "Mar"
          ]
         ],
         "hovertemplate": "<b>%{text}</b><br>X (%{customdata[0]}): %{x}<br>Y (%{customdata[1]}): %{y}<br>Z (%{customdata[2]}): %{z}<extra></extra>",
         "marker": {
          "size": 6
         },
         "mode": "markers",
         "name": "Lisbon",
         "text": [
          "Lisbon"
         ],
         "textfont": {
          "size": 10
         },
         "type": "scatter3d",
         "x": [
          11
         ],
         "y": [
          12
         ],
         "z": [
          15
         ]
        },
        {
         "customdata": [
          [
           "Jan",
           "Feb",
           "Mar"
          ]
         ],
         "hovertemplate": "<b>%{text}</b><br>X (%{customdata[0]}): %{x}<br>Y (%{customdata[1]}): %{y}<br>Z (%{customdata[2]}): %{z}<extra></extra>",
         "marker": {
          "size": 6
         },
         "mode": "markers",
         "name": "London",
         "text": [
          "London"
         ],
         "textfont": {
          "size": 10
         },
         "type": "scatter3d",
         "x": [
          7
         ],
         "y": [
          8
         ],
         "z": [
          10
         ]
        },
        {
         "customdata": [
          [
           "Jan",
           "Feb",
           "Mar"
          ]
         ],
         "hovertemplate": "<b>%{text}</b><br>X (%{customdata[0]}): %{x}<br>Y (%{customdata[1]}): %{y}<br>Z (%{customdata[2]}): %{z}<extra></extra>",
         "marker": {
          "size": 6
         },
         "mode": "markers",
         "name": "Luxemborg",
         "text": [
          "Luxemborg"
         ],
         "textfont": {
          "size": 10
         },
         "type": "scatter3d",
         "x": [
          0
         ],
         "y": [
          1
         ],
         "z": [
          7
         ]
        },
        {
         "customdata": [
          [
           "Jan",
           "Feb",
           "Mar"
          ]
         ],
         "hovertemplate": "<b>%{text}</b><br>X (%{customdata[0]}): %{x}<br>Y (%{customdata[1]}): %{y}<br>Z (%{customdata[2]}): %{z}<extra></extra>",
         "marker": {
          "size": 6
         },
         "mode": "markers",
         "name": "Marbella",
         "text": [
          "Marbella"
         ],
         "textfont": {
          "size": 10
         },
         "type": "scatter3d",
         "x": [
          17
         ],
         "y": [
          17
         ],
         "z": [
          18
         ]
        },
        {
         "customdata": [
          [
           "Jan",
           "Feb",
           "Mar"
          ]
         ],
         "hovertemplate": "<b>%{text}</b><br>X (%{customdata[0]}): %{x}<br>Y (%{customdata[1]}): %{y}<br>Z (%{customdata[2]}): %{z}<extra></extra>",
         "marker": {
          "size": 6
         },
         "mode": "markers",
         "name": "Moscow",
         "text": [
          "Moscow"
         ],
         "textfont": {
          "size": 10
         },
         "type": "scatter3d",
         "x": [
          -14
         ],
         "y": [
          -12
         ],
         "z": [
          -6
         ]
        },
        {
         "customdata": [
          [
           "Jan",
           "Feb",
           "Mar"
          ]
         ],
         "hovertemplate": "<b>%{text}</b><br>X (%{customdata[0]}): %{x}<br>Y (%{customdata[1]}): %{y}<br>Z (%{customdata[2]}): %{z}<extra></extra>",
         "marker": {
          "size": 6
         },
         "mode": "markers",
         "name": "Oslo",
         "text": [
          "Oslo"
         ],
         "textfont": {
          "size": 10
         },
         "type": "scatter3d",
         "x": [
          -5
         ],
         "y": [
          -4
         ],
         "z": [
          1
         ]
        },
        {
         "customdata": [
          [
           "Jan",
           "Feb",
           "Mar"
          ]
         ],
         "hovertemplate": "<b>%{text}</b><br>X (%{customdata[0]}): %{x}<br>Y (%{customdata[1]}): %{y}<br>Z (%{customdata[2]}): %{z}<extra></extra>",
         "marker": {
          "size": 6
         },
         "mode": "markers",
         "name": "Paris",
         "text": [
          "Paris"
         ],
         "textfont": {
          "size": 10
         },
         "type": "scatter3d",
         "x": [
          4
         ],
         "y": [
          5
         ],
         "z": [
          9
         ]
        },
        {
         "customdata": [
          [
           "Jan",
           "Feb",
           "Mar"
          ]
         ],
         "hovertemplate": "<b>%{text}</b><br>X (%{customdata[0]}): %{x}<br>Y (%{customdata[1]}): %{y}<br>Z (%{customdata[2]}): %{z}<extra></extra>",
         "marker": {
          "size": 6
         },
         "mode": "markers",
         "name": "Prague",
         "text": [
          "Prague"
         ],
         "textfont": {
          "size": 10
         },
         "type": "scatter3d",
         "x": [
          -2
         ],
         "y": [
          -1
         ],
         "z": [
          4
         ]
        },
        {
         "customdata": [
          [
           "Jan",
           "Feb",
           "Mar"
          ]
         ],
         "hovertemplate": "<b>%{text}</b><br>X (%{customdata[0]}): %{x}<br>Y (%{customdata[1]}): %{y}<br>Z (%{customdata[2]}): %{z}<extra></extra>",
         "marker": {
          "size": 6
         },
         "mode": "markers",
         "name": "Rome",
         "text": [
          "Rome"
         ],
         "textfont": {
          "size": 10
         },
         "type": "scatter3d",
         "x": [
          7
         ],
         "y": [
          8
         ],
         "z": [
          11
         ]
        },
        {
         "customdata": [
          [
           "Jan",
           "Feb",
           "Mar"
          ]
         ],
         "hovertemplate": "<b>%{text}</b><br>X (%{customdata[0]}): %{x}<br>Y (%{customdata[1]}): %{y}<br>Z (%{customdata[2]}): %{z}<extra></extra>",
         "marker": {
          "size": 6
         },
         "mode": "markers",
         "name": "Sofia",
         "text": [
          "Sofia"
         ],
         "textfont": {
          "size": 10
         },
         "type": "scatter3d",
         "x": [
          -1
         ],
         "y": [
          1
         ],
         "z": [
          7
         ]
        },
        {
         "customdata": [
          [
           "Jan",
           "Feb",
           "Mar"
          ]
         ],
         "hovertemplate": "<b>%{text}</b><br>X (%{customdata[0]}): %{x}<br>Y (%{customdata[1]}): %{y}<br>Z (%{customdata[2]}): %{z}<extra></extra>",
         "marker": {
          "size": 6
         },
         "mode": "markers",
         "name": "Stockholm",
         "text": [
          "Stockholm"
         ],
         "textfont": {
          "size": 10
         },
         "type": "scatter3d",
         "x": [
          -4
         ],
         "y": [
          -4
         ],
         "z": [
          -1
         ]
        },
        {
         "customdata": [
          [
           "Jan",
           "Feb",
           "Mar"
          ]
         ],
         "hovertemplate": "<b>%{text}</b><br>X (%{customdata[0]}): %{x}<br>Y (%{customdata[1]}): %{y}<br>Z (%{customdata[2]}): %{z}<extra></extra>",
         "marker": {
          "size": 6
         },
         "mode": "markers",
         "name": "Vienna",
         "text": [
          "Vienna"
         ],
         "textfont": {
          "size": 10
         },
         "type": "scatter3d",
         "x": [
          -1
         ],
         "y": [
          1
         ],
         "z": [
          6
         ]
        },
        {
         "customdata": [
          [
           "Jan",
           "Feb",
           "Mar"
          ]
         ],
         "hovertemplate": "<b>%{text}</b><br>X (%{customdata[0]}): %{x}<br>Y (%{customdata[1]}): %{y}<br>Z (%{customdata[2]}): %{z}<extra></extra>",
         "marker": {
          "size": 6
         },
         "mode": "markers",
         "name": "Warsaw",
         "text": [
          "Warsaw"
         ],
         "textfont": {
          "size": 10
         },
         "type": "scatter3d",
         "x": [
          -5
         ],
         "y": [
          -4
         ],
         "z": [
          3
         ]
        },
        {
         "customdata": [
          [
           "Jan",
           "Feb",
           "Mar"
          ]
         ],
         "hovertemplate": "<b>%{text}</b><br>X (%{customdata[0]}): %{x}<br>Y (%{customdata[1]}): %{y}<br>Z (%{customdata[2]}): %{z}<extra></extra>",
         "marker": {
          "size": 6
         },
         "mode": "markers",
         "name": "Bratislava",
         "text": [
          "Bratislava"
         ],
         "textfont": {
          "size": 10
         },
         "type": "scatter3d",
         "x": [
          -0.4
         ],
         "y": [
          1.2
         ],
         "z": [
          5.5
         ]
        },
        {
         "customdata": [
          [
           "Jan",
           "Feb",
           "Mar"
          ]
         ],
         "hovertemplate": "<b>%{text}</b><br>X (%{customdata[0]}): %{x}<br>Y (%{customdata[1]}): %{y}<br>Z (%{customdata[2]}): %{z}<extra></extra>",
         "marker": {
          "size": 6
         },
         "mode": "markers",
         "name": "St. Petersberg",
         "text": [
          "St. Petersberg"
         ],
         "textfont": {
          "size": 10
         },
         "type": "scatter3d",
         "x": [
          4.2
         ],
         "y": [
          4.5
         ],
         "z": [
          6.2
         ]
        },
        {
         "customdata": [
          [
           "Jan",
           "Feb",
           "Mar"
          ]
         ],
         "hovertemplate": "<b>%{text}</b><br>X (%{customdata[0]}): %{x}<br>Y (%{customdata[1]}): %{y}<br>Z (%{customdata[2]}): %{z}<extra></extra>",
         "marker": {
          "size": 6
         },
         "mode": "markers",
         "name": "Ljubljana",
         "text": [
          "Ljubljana"
         ],
         "textfont": {
          "size": 10
         },
         "type": "scatter3d",
         "x": [
          0.3
         ],
         "y": [
          1.9
         ],
         "z": [
          6.5
         ]
        },
        {
         "customdata": [
          [
           "Jan",
           "Feb",
           "Mar"
          ]
         ],
         "hovertemplate": "<b>%{text}</b><br>X (%{customdata[0]}): %{x}<br>Y (%{customdata[1]}): %{y}<br>Z (%{customdata[2]}): %{z}<extra></extra>",
         "marker": {
          "size": 6
         },
         "mode": "markers",
         "name": "Madrid",
         "text": [
          "Madrid"
         ],
         "textfont": {
          "size": 10
         },
         "type": "scatter3d",
         "x": [
          6.3
         ],
         "y": [
          7.9
         ],
         "z": [
          11.2
         ]
        },
        {
         "customdata": [
          [
           "Jan",
           "Feb",
           "Mar"
          ]
         ],
         "hovertemplate": "<b>%{text}</b><br>X (%{customdata[0]}): %{x}<br>Y (%{customdata[1]}): %{y}<br>Z (%{customdata[2]}): %{z}<extra></extra>",
         "marker": {
          "size": 6
         },
         "mode": "markers",
         "name": "Milan",
         "text": [
          "Milan"
         ],
         "textfont": {
          "size": 10
         },
         "type": "scatter3d",
         "x": [
          2.5
         ],
         "y": [
          4.7
         ],
         "z": [
          9
         ]
        },
        {
         "customdata": [
          [
           "Jan",
           "Feb",
           "Mar"
          ]
         ],
         "hovertemplate": "<b>%{text}</b><br>X (%{customdata[0]}): %{x}<br>Y (%{customdata[1]}): %{y}<br>Z (%{customdata[2]}): %{z}<extra></extra>",
         "marker": {
          "size": 6
         },
         "mode": "markers",
         "name": "Edinburgh",
         "text": [
          "Edinburgh"
         ],
         "textfont": {
          "size": 10
         },
         "type": "scatter3d",
         "x": [
          -5.5
         ],
         "y": [
          -5.8
         ],
         "z": [
          -1.3
         ]
        },
        {
         "customdata": [
          [
           "Jan",
           "Feb",
           "Mar"
          ]
         ],
         "hovertemplate": "<b>%{text}</b><br>X (%{customdata[0]}): %{x}<br>Y (%{customdata[1]}): %{y}<br>Z (%{customdata[2]}): %{z}<extra></extra>",
         "marker": {
          "size": 6
         },
         "mode": "markers",
         "name": "Skopje",
         "text": [
          "Skopje"
         ],
         "textfont": {
          "size": 10
         },
         "type": "scatter3d",
         "x": [
          0.1
         ],
         "y": [
          2.6
         ],
         "z": [
          7.6
         ]
        }
       ],
       "layout": {
        "annotations": [
         {
          "showarrow": false,
          "text": "X Month",
          "x": 0.14,
          "xanchor": "center",
          "xref": "paper",
          "y": 1.18,
          "yanchor": "top",
          "yref": "paper"
         },
         {
          "showarrow": false,
          "text": "Y Month",
          "x": 0.39,
          "xanchor": "center",
          "xref": "paper",
          "y": 1.18,
          "yanchor": "top",
          "yref": "paper"
         },
         {
          "showarrow": false,
          "text": "Z Month",
          "x": 0.64,
          "xanchor": "center",
          "xref": "paper",
          "y": 1.18,
          "yanchor": "top",
          "yref": "paper"
         },
         {
          "showarrow": false,
          "text": "Point Labels",
          "x": 0.78,
          "xanchor": "center",
          "xref": "paper",
          "y": 1.18,
          "yanchor": "top",
          "yref": "paper"
         },
         {
          "showarrow": false,
          "text": "Cities",
          "x": 0.93,
          "xanchor": "center",
          "xref": "paper",
          "y": 1.18,
          "yanchor": "top",
          "yref": "paper"
         }
        ],
        "autosize": false,
        "height": 800,
        "legend": {
         "title": {
          "text": "Toggle cities"
         }
        },
        "margin": {
         "b": 10,
         "l": 10,
         "r": 10,
         "t": 140
        },
        "scene": {
         "xaxis": {
          "showspikes": false,
          "title": {
           "text": "Jan"
          }
         },
         "yaxis": {
          "showspikes": false,
          "title": {
           "text": "Feb"
          }
         },
         "zaxis": {
          "showspikes": false,
          "title": {
           "text": "Mar"
          }
         }
        },
        "template": {
         "data": {
          "bar": [
           {
            "error_x": {
             "color": "#2a3f5f"
            },
            "error_y": {
             "color": "#2a3f5f"
            },
            "marker": {
             "line": {
              "color": "#E5ECF6",
              "width": 0.5
             },
             "pattern": {
              "fillmode": "overlay",
              "size": 10,
              "solidity": 0.2
             }
            },
            "type": "bar"
           }
          ],
          "barpolar": [
           {
            "marker": {
             "line": {
              "color": "#E5ECF6",
              "width": 0.5
             },
             "pattern": {
              "fillmode": "overlay",
              "size": 10,
              "solidity": 0.2
             }
            },
            "type": "barpolar"
           }
          ],
          "carpet": [
           {
            "aaxis": {
             "endlinecolor": "#2a3f5f",
             "gridcolor": "white",
             "linecolor": "white",
             "minorgridcolor": "white",
             "startlinecolor": "#2a3f5f"
            },
            "baxis": {
             "endlinecolor": "#2a3f5f",
             "gridcolor": "white",
             "linecolor": "white",
             "minorgridcolor": "white",
             "startlinecolor": "#2a3f5f"
            },
            "type": "carpet"
           }
          ],
          "choropleth": [
           {
            "colorbar": {
             "outlinewidth": 0,
             "ticks": ""
            },
            "type": "choropleth"
           }
          ],
          "contour": [
           {
            "colorbar": {
             "outlinewidth": 0,
             "ticks": ""
            },
            "colorscale": [
             [
              0,
              "#0d0887"
             ],
             [
              0.1111111111111111,
              "#46039f"
             ],
             [
              0.2222222222222222,
              "#7201a8"
             ],
             [
              0.3333333333333333,
              "#9c179e"
             ],
             [
              0.4444444444444444,
              "#bd3786"
             ],
             [
              0.5555555555555556,
              "#d8576b"
             ],
             [
              0.6666666666666666,
              "#ed7953"
             ],
             [
              0.7777777777777778,
              "#fb9f3a"
             ],
             [
              0.8888888888888888,
              "#fdca26"
             ],
             [
              1,
              "#f0f921"
             ]
            ],
            "type": "contour"
           }
          ],
          "contourcarpet": [
           {
            "colorbar": {
             "outlinewidth": 0,
             "ticks": ""
            },
            "type": "contourcarpet"
           }
          ],
          "heatmap": [
           {
            "colorbar": {
             "outlinewidth": 0,
             "ticks": ""
            },
            "colorscale": [
             [
              0,
              "#0d0887"
             ],
             [
              0.1111111111111111,
              "#46039f"
             ],
             [
              0.2222222222222222,
              "#7201a8"
             ],
             [
              0.3333333333333333,
              "#9c179e"
             ],
             [
              0.4444444444444444,
              "#bd3786"
             ],
             [
              0.5555555555555556,
              "#d8576b"
             ],
             [
              0.6666666666666666,
              "#ed7953"
             ],
             [
              0.7777777777777778,
              "#fb9f3a"
             ],
             [
              0.8888888888888888,
              "#fdca26"
             ],
             [
              1,
              "#f0f921"
             ]
            ],
            "type": "heatmap"
           }
          ],
          "histogram": [
           {
            "marker": {
             "pattern": {
              "fillmode": "overlay",
              "size": 10,
              "solidity": 0.2
             }
            },
            "type": "histogram"
           }
          ],
          "histogram2d": [
           {
            "colorbar": {
             "outlinewidth": 0,
             "ticks": ""
            },
            "colorscale": [
             [
              0,
              "#0d0887"
             ],
             [
              0.1111111111111111,
              "#46039f"
             ],
             [
              0.2222222222222222,
              "#7201a8"
             ],
             [
              0.3333333333333333,
              "#9c179e"
             ],
             [
              0.4444444444444444,
              "#bd3786"
             ],
             [
              0.5555555555555556,
              "#d8576b"
             ],
             [
              0.6666666666666666,
              "#ed7953"
             ],
             [
              0.7777777777777778,
              "#fb9f3a"
             ],
             [
              0.8888888888888888,
              "#fdca26"
             ],
             [
              1,
              "#f0f921"
             ]
            ],
            "type": "histogram2d"
           }
          ],
          "histogram2dcontour": [
           {
            "colorbar": {
             "outlinewidth": 0,
             "ticks": ""
            },
            "colorscale": [
             [
              0,
              "#0d0887"
             ],
             [
              0.1111111111111111,
              "#46039f"
             ],
             [
              0.2222222222222222,
              "#7201a8"
             ],
             [
              0.3333333333333333,
              "#9c179e"
             ],
             [
              0.4444444444444444,
              "#bd3786"
             ],
             [
              0.5555555555555556,
              "#d8576b"
             ],
             [
              0.6666666666666666,
              "#ed7953"
             ],
             [
              0.7777777777777778,
              "#fb9f3a"
             ],
             [
              0.8888888888888888,
              "#fdca26"
             ],
             [
              1,
              "#f0f921"
             ]
            ],
            "type": "histogram2dcontour"
           }
          ],
          "mesh3d": [
           {
            "colorbar": {
             "outlinewidth": 0,
             "ticks": ""
            },
            "type": "mesh3d"
           }
          ],
          "parcoords": [
           {
            "line": {
             "colorbar": {
              "outlinewidth": 0,
              "ticks": ""
             }
            },
            "type": "parcoords"
           }
          ],
          "pie": [
           {
            "automargin": true,
            "type": "pie"
           }
          ],
          "scatter": [
           {
            "fillpattern": {
             "fillmode": "overlay",
             "size": 10,
             "solidity": 0.2
            },
            "type": "scatter"
           }
          ],
          "scatter3d": [
           {
            "line": {
             "colorbar": {
              "outlinewidth": 0,
              "ticks": ""
             }
            },
            "marker": {
             "colorbar": {
              "outlinewidth": 0,
              "ticks": ""
             }
            },
            "type": "scatter3d"
           }
          ],
          "scattercarpet": [
           {
            "marker": {
             "colorbar": {
              "outlinewidth": 0,
              "ticks": ""
             }
            },
            "type": "scattercarpet"
           }
          ],
          "scattergeo": [
           {
            "marker": {
             "colorbar": {
              "outlinewidth": 0,
              "ticks": ""
             }
            },
            "type": "scattergeo"
           }
          ],
          "scattergl": [
           {
            "marker": {
             "colorbar": {
              "outlinewidth": 0,
              "ticks": ""
             }
            },
            "type": "scattergl"
           }
          ],
          "scattermap": [
           {
            "marker": {
             "colorbar": {
              "outlinewidth": 0,
              "ticks": ""
             }
            },
            "type": "scattermap"
           }
          ],
          "scattermapbox": [
           {
            "marker": {
             "colorbar": {
              "outlinewidth": 0,
              "ticks": ""
             }
            },
            "type": "scattermapbox"
           }
          ],
          "scatterpolar": [
           {
            "marker": {
             "colorbar": {
              "outlinewidth": 0,
              "ticks": ""
             }
            },
            "type": "scatterpolar"
           }
          ],
          "scatterpolargl": [
           {
            "marker": {
             "colorbar": {
              "outlinewidth": 0,
              "ticks": ""
             }
            },
            "type": "scatterpolargl"
           }
          ],
          "scatterternary": [
           {
            "marker": {
             "colorbar": {
              "outlinewidth": 0,
              "ticks": ""
             }
            },
            "type": "scatterternary"
           }
          ],
          "surface": [
           {
            "colorbar": {
             "outlinewidth": 0,
             "ticks": ""
            },
            "colorscale": [
             [
              0,
              "#0d0887"
             ],
             [
              0.1111111111111111,
              "#46039f"
             ],
             [
              0.2222222222222222,
              "#7201a8"
             ],
             [
              0.3333333333333333,
              "#9c179e"
             ],
             [
              0.4444444444444444,
              "#bd3786"
             ],
             [
              0.5555555555555556,
              "#d8576b"
             ],
             [
              0.6666666666666666,
              "#ed7953"
             ],
             [
              0.7777777777777778,
              "#fb9f3a"
             ],
             [
              0.8888888888888888,
              "#fdca26"
             ],
             [
              1,
              "#f0f921"
             ]
            ],
            "type": "surface"
           }
          ],
          "table": [
           {
            "cells": {
             "fill": {
              "color": "#EBF0F8"
             },
             "line": {
              "color": "white"
             }
            },
            "header": {
             "fill": {
              "color": "#C8D4E3"
             },
             "line": {
              "color": "white"
             }
            },
            "type": "table"
           }
          ]
         },
         "layout": {
          "annotationdefaults": {
           "arrowcolor": "#2a3f5f",
           "arrowhead": 0,
           "arrowwidth": 1
          },
          "autotypenumbers": "strict",
          "coloraxis": {
           "colorbar": {
            "outlinewidth": 0,
            "ticks": ""
           }
          },
          "colorscale": {
           "diverging": [
            [
             0,
             "#8e0152"
            ],
            [
             0.1,
             "#c51b7d"
            ],
            [
             0.2,
             "#de77ae"
            ],
            [
             0.3,
             "#f1b6da"
            ],
            [
             0.4,
             "#fde0ef"
            ],
            [
             0.5,
             "#f7f7f7"
            ],
            [
             0.6,
             "#e6f5d0"
            ],
            [
             0.7,
             "#b8e186"
            ],
            [
             0.8,
             "#7fbc41"
            ],
            [
             0.9,
             "#4d9221"
            ],
            [
             1,
             "#276419"
            ]
           ],
           "sequential": [
            [
             0,
             "#0d0887"
            ],
            [
             0.1111111111111111,
             "#46039f"
            ],
            [
             0.2222222222222222,
             "#7201a8"
            ],
            [
             0.3333333333333333,
             "#9c179e"
            ],
            [
             0.4444444444444444,
             "#bd3786"
            ],
            [
             0.5555555555555556,
             "#d8576b"
            ],
            [
             0.6666666666666666,
             "#ed7953"
            ],
            [
             0.7777777777777778,
             "#fb9f3a"
            ],
            [
             0.8888888888888888,
             "#fdca26"
            ],
            [
             1,
             "#f0f921"
            ]
           ],
           "sequentialminus": [
            [
             0,
             "#0d0887"
            ],
            [
             0.1111111111111111,
             "#46039f"
            ],
            [
             0.2222222222222222,
             "#7201a8"
            ],
            [
             0.3333333333333333,
             "#9c179e"
            ],
            [
             0.4444444444444444,
             "#bd3786"
            ],
            [
             0.5555555555555556,
             "#d8576b"
            ],
            [
             0.6666666666666666,
             "#ed7953"
            ],
            [
             0.7777777777777778,
             "#fb9f3a"
            ],
            [
             0.8888888888888888,
             "#fdca26"
            ],
            [
             1,
             "#f0f921"
            ]
           ]
          },
          "colorway": [
           "#636efa",
           "#EF553B",
           "#00cc96",
           "#ab63fa",
           "#FFA15A",
           "#19d3f3",
           "#FF6692",
           "#B6E880",
           "#FF97FF",
           "#FECB52"
          ],
          "font": {
           "color": "#2a3f5f"
          },
          "geo": {
           "bgcolor": "white",
           "lakecolor": "white",
           "landcolor": "#E5ECF6",
           "showlakes": true,
           "showland": true,
           "subunitcolor": "white"
          },
          "hoverlabel": {
           "align": "left"
          },
          "hovermode": "closest",
          "mapbox": {
           "style": "light"
          },
          "paper_bgcolor": "white",
          "plot_bgcolor": "#E5ECF6",
          "polar": {
           "angularaxis": {
            "gridcolor": "white",
            "linecolor": "white",
            "ticks": ""
           },
           "bgcolor": "#E5ECF6",
           "radialaxis": {
            "gridcolor": "white",
            "linecolor": "white",
            "ticks": ""
           }
          },
          "scene": {
           "xaxis": {
            "backgroundcolor": "#E5ECF6",
            "gridcolor": "white",
            "gridwidth": 2,
            "linecolor": "white",
            "showbackground": true,
            "ticks": "",
            "zerolinecolor": "white"
           },
           "yaxis": {
            "backgroundcolor": "#E5ECF6",
            "gridcolor": "white",
            "gridwidth": 2,
            "linecolor": "white",
            "showbackground": true,
            "ticks": "",
            "zerolinecolor": "white"
           },
           "zaxis": {
            "backgroundcolor": "#E5ECF6",
            "gridcolor": "white",
            "gridwidth": 2,
            "linecolor": "white",
            "showbackground": true,
            "ticks": "",
            "zerolinecolor": "white"
           }
          },
          "shapedefaults": {
           "line": {
            "color": "#2a3f5f"
           }
          },
          "ternary": {
           "aaxis": {
            "gridcolor": "white",
            "linecolor": "white",
            "ticks": ""
           },
           "baxis": {
            "gridcolor": "white",
            "linecolor": "white",
            "ticks": ""
           },
           "bgcolor": "#E5ECF6",
           "caxis": {
            "gridcolor": "white",
            "linecolor": "white",
            "ticks": ""
           }
          },
          "title": {
           "x": 0.05
          },
          "xaxis": {
           "automargin": true,
           "gridcolor": "white",
           "linecolor": "white",
           "ticks": "",
           "title": {
            "standoff": 15
           },
           "zerolinecolor": "white",
           "zerolinewidth": 2
          },
          "yaxis": {
           "automargin": true,
           "gridcolor": "white",
           "linecolor": "white",
           "ticks": "",
           "title": {
            "standoff": 15
           },
           "zerolinecolor": "white",
           "zerolinewidth": 2
          }
         }
        },
        "title": {
         "y": 0.92
        },
        "updatemenus": [
         {
          "buttons": [
           {
            "args": [
             {
              "customdata": [
               [
                [
                 "Jan",
                 "Feb",
                 "Mar"
                ]
               ],
               [
                [
                 "Jan",
                 "Feb",
                 "Mar"
                ]
               ],
               [
                [
                 "Jan",
                 "Feb",
                 "Mar"
                ]
               ],
               [
                [
                 "Jan",
                 "Feb",
                 "Mar"
                ]
               ],
               [
                [
                 "Jan",
                 "Feb",
                 "Mar"
                ]
               ],
               [
                [
                 "Jan",
                 "Feb",
                 "Mar"
                ]
               ],
               [
                [
                 "Jan",
                 "Feb",
                 "Mar"
                ]
               ],
               [
                [
                 "Jan",
                 "Feb",
                 "Mar"
                ]
               ],
               [
                [
                 "Jan",
                 "Feb",
                 "Mar"
                ]
               ],
               [
                [
                 "Jan",
                 "Feb",
                 "Mar"
                ]
               ],
               [
                [
                 "Jan",
                 "Feb",
                 "Mar"
                ]
               ],
               [
                [
                 "Jan",
                 "Feb",
                 "Mar"
                ]
               ],
               [
                [
                 "Jan",
                 "Feb",
                 "Mar"
                ]
               ],
               [
                [
                 "Jan",
                 "Feb",
                 "Mar"
                ]
               ],
               [
                [
                 "Jan",
                 "Feb",
                 "Mar"
                ]
               ],
               [
                [
                 "Jan",
                 "Feb",
                 "Mar"
                ]
               ],
               [
                [
                 "Jan",
                 "Feb",
                 "Mar"
                ]
               ],
               [
                [
                 "Jan",
                 "Feb",
                 "Mar"
                ]
               ],
               [
                [
                 "Jan",
                 "Feb",
                 "Mar"
                ]
               ],
               [
                [
                 "Jan",
                 "Feb",
                 "Mar"
                ]
               ],
               [
                [
                 "Jan",
                 "Feb",
                 "Mar"
                ]
               ],
               [
                [
                 "Jan",
                 "Feb",
                 "Mar"
                ]
               ],
               [
                [
                 "Jan",
                 "Feb",
                 "Mar"
                ]
               ],
               [
                [
                 "Jan",
                 "Feb",
                 "Mar"
                ]
               ],
               [
                [
                 "Jan",
                 "Feb",
                 "Mar"
                ]
               ],
               [
                [
                 "Jan",
                 "Feb",
                 "Mar"
                ]
               ],
               [
                [
                 "Jan",
                 "Feb",
                 "Mar"
                ]
               ],
               [
                [
                 "Jan",
                 "Feb",
                 "Mar"
                ]
               ],
               [
                [
                 "Jan",
                 "Feb",
                 "Mar"
                ]
               ],
               [
                [
                 "Jan",
                 "Feb",
                 "Mar"
                ]
               ],
               [
                [
                 "Jan",
                 "Feb",
                 "Mar"
                ]
               ],
               [
                [
                 "Jan",
                 "Feb",
                 "Mar"
                ]
               ],
               [
                [
                 "Jan",
                 "Feb",
                 "Mar"
                ]
               ]
              ],
              "x": [
               [
                2
               ],
               [
                1
               ],
               [
                9
               ],
               [
                1
               ],
               [
                -2
               ],
               [
                1
               ],
               [
                1
               ],
               [
                1
               ],
               [
                -4
               ],
               [
                -2
               ],
               [
                -1
               ],
               [
                3
               ],
               [
                -9
               ],
               [
                11
               ],
               [
                7
               ],
               [
                0
               ],
               [
                17
               ],
               [
                -14
               ],
               [
                -5
               ],
               [
                4
               ],
               [
                -2
               ],
               [
                7
               ],
               [
                -1
               ],
               [
                -4
               ],
               [
                -1
               ],
               [
                -5
               ],
               [
                -0.4
               ],
               [
                4.2
               ],
               [
                0.3
               ],
               [
                6.3
               ],
               [
                2.5
               ],
               [
                -5.5
               ],
               [
                0.1
               ]
              ]
             },
             {
              "scene.xaxis.title.text": "Jan"
             }
            ],
            "label": "Jan",
            "method": "update"
           },
           {
            "args": [
             {
              "customdata": [
               [
                [
                 "Feb",
                 "Feb",
                 "Mar"
                ]
               ],
               [
                [
                 "Feb",
                 "Feb",
                 "Mar"
                ]
               ],
               [
                [
                 "Feb",
                 "Feb",
                 "Mar"
                ]
               ],
               [
                [
                 "Feb",
                 "Feb",
                 "Mar"
                ]
               ],
               [
                [
                 "Feb",
                 "Feb",
                 "Mar"
                ]
               ],
               [
                [
                 "Feb",
                 "Feb",
                 "Mar"
                ]
               ],
               [
                [
                 "Feb",
                 "Feb",
                 "Mar"
                ]
               ],
               [
                [
                 "Feb",
                 "Feb",
                 "Mar"
                ]
               ],
               [
                [
                 "Feb",
                 "Feb",
                 "Mar"
                ]
               ],
               [
                [
                 "Feb",
                 "Feb",
                 "Mar"
                ]
               ],
               [
                [
                 "Feb",
                 "Feb",
                 "Mar"
                ]
               ],
               [
                [
                 "Feb",
                 "Feb",
                 "Mar"
                ]
               ],
               [
                [
                 "Feb",
                 "Feb",
                 "Mar"
                ]
               ],
               [
                [
                 "Feb",
                 "Feb",
                 "Mar"
                ]
               ],
               [
                [
                 "Feb",
                 "Feb",
                 "Mar"
                ]
               ],
               [
                [
                 "Feb",
                 "Feb",
                 "Mar"
                ]
               ],
               [
                [
                 "Feb",
                 "Feb",
                 "Mar"
                ]
               ],
               [
                [
                 "Feb",
                 "Feb",
                 "Mar"
                ]
               ],
               [
                [
                 "Feb",
                 "Feb",
                 "Mar"
                ]
               ],
               [
                [
                 "Feb",
                 "Feb",
                 "Mar"
                ]
               ],
               [
                [
                 "Feb",
                 "Feb",
                 "Mar"
                ]
               ],
               [
                [
                 "Feb",
                 "Feb",
                 "Mar"
                ]
               ],
               [
                [
                 "Feb",
                 "Feb",
                 "Mar"
                ]
               ],
               [
                [
                 "Feb",
                 "Feb",
                 "Mar"
                ]
               ],
               [
                [
                 "Feb",
                 "Feb",
                 "Mar"
                ]
               ],
               [
                [
                 "Feb",
                 "Feb",
                 "Mar"
                ]
               ],
               [
                [
                 "Feb",
                 "Feb",
                 "Mar"
                ]
               ],
               [
                [
                 "Feb",
                 "Feb",
                 "Mar"
                ]
               ],
               [
                [
                 "Feb",
                 "Feb",
                 "Mar"
                ]
               ],
               [
                [
                 "Feb",
                 "Feb",
                 "Mar"
                ]
               ],
               [
                [
                 "Feb",
                 "Feb",
                 "Mar"
                ]
               ],
               [
                [
                 "Feb",
                 "Feb",
                 "Mar"
                ]
               ],
               [
                [
                 "Feb",
                 "Feb",
                 "Mar"
                ]
               ]
              ],
              "x": [
               [
                2
               ],
               [
                0
               ],
               [
                10
               ],
               [
                3
               ],
               [
                1
               ],
               [
                1
               ],
               [
                2
               ],
               [
                4
               ],
               [
                -2
               ],
               [
                1
               ],
               [
                0
               ],
               [
                4
               ],
               [
                -8
               ],
               [
                12
               ],
               [
                8
               ],
               [
                1
               ],
               [
                17
               ],
               [
                -12
               ],
               [
                -4
               ],
               [
                5
               ],
               [
                -1
               ],
               [
                8
               ],
               [
                1
               ],
               [
                -4
               ],
               [
                1
               ],
               [
                -4
               ],
               [
                1.2
               ],
               [
                4.5
               ],
               [
                1.9
               ],
               [
                7.9
               ],
               [
                4.7
               ],
               [
                -5.8
               ],
               [
                2.6
               ]
              ]
             },
             {
              "scene.xaxis.title.text": "Feb"
             }
            ],
            "label": "Feb",
            "method": "update"
           },
           {
            "args": [
             {
              "customdata": [
               [
                [
                 "Mar",
                 "Feb",
                 "Mar"
                ]
               ],
               [
                [
                 "Mar",
                 "Feb",
                 "Mar"
                ]
               ],
               [
                [
                 "Mar",
                 "Feb",
                 "Mar"
                ]
               ],
               [
                [
                 "Mar",
                 "Feb",
                 "Mar"
                ]
               ],
               [
                [
                 "Mar",
                 "Feb",
                 "Mar"
                ]
               ],
               [
                [
                 "Mar",
                 "Feb",
                 "Mar"
                ]
               ],
               [
                [
                 "Mar",
                 "Feb",
                 "Mar"
                ]
               ],
               [
                [
                 "Mar",
                 "Feb",
                 "Mar"
                ]
               ],
               [
                [
                 "Mar",
                 "Feb",
                 "Mar"
                ]
               ],
               [
                [
                 "Mar",
                 "Feb",
                 "Mar"
                ]
               ],
               [
                [
                 "Mar",
                 "Feb",
                 "Mar"
                ]
               ],
               [
                [
                 "Mar",
                 "Feb",
                 "Mar"
                ]
               ],
               [
                [
                 "Mar",
                 "Feb",
                 "Mar"
                ]
               ],
               [
                [
                 "Mar",
                 "Feb",
                 "Mar"
                ]
               ],
               [
                [
                 "Mar",
                 "Feb",
                 "Mar"
                ]
               ],
               [
                [
                 "Mar",
                 "Feb",
                 "Mar"
                ]
               ],
               [
                [
                 "Mar",
                 "Feb",
                 "Mar"
                ]
               ],
               [
                [
                 "Mar",
                 "Feb",
                 "Mar"
                ]
               ],
               [
                [
                 "Mar",
                 "Feb",
                 "Mar"
                ]
               ],
               [
                [
                 "Mar",
                 "Feb",
                 "Mar"
                ]
               ],
               [
                [
                 "Mar",
                 "Feb",
                 "Mar"
                ]
               ],
               [
                [
                 "Mar",
                 "Feb",
                 "Mar"
                ]
               ],
               [
                [
                 "Mar",
                 "Feb",
                 "Mar"
                ]
               ],
               [
                [
                 "Mar",
                 "Feb",
                 "Mar"
                ]
               ],
               [
                [
                 "Mar",
                 "Feb",
                 "Mar"
                ]
               ],
               [
                [
                 "Mar",
                 "Feb",
                 "Mar"
                ]
               ],
               [
                [
                 "Mar",
                 "Feb",
                 "Mar"
                ]
               ],
               [
                [
                 "Mar",
                 "Feb",
                 "Mar"
                ]
               ],
               [
                [
                 "Mar",
                 "Feb",
                 "Mar"
                ]
               ],
               [
                [
                 "Mar",
                 "Feb",
                 "Mar"
                ]
               ],
               [
                [
                 "Mar",
                 "Feb",
                 "Mar"
                ]
               ],
               [
                [
                 "Mar",
                 "Feb",
                 "Mar"
                ]
               ],
               [
                [
                 "Mar",
                 "Feb",
                 "Mar"
                ]
               ]
              ],
              "x": [
               [
                5
               ],
               [
                6
               ],
               [
                12
               ],
               [
                8
               ],
               [
                4
               ],
               [
                6
               ],
               [
                7
               ],
               [
                7
               ],
               [
                6
               ],
               [
                7
               ],
               [
                3
               ],
               [
                6
               ],
               [
                -4
               ],
               [
                15
               ],
               [
                10
               ],
               [
                7
               ],
               [
                18
               ],
               [
                -6
               ],
               [
                1
               ],
               [
                9
               ],
               [
                4
               ],
               [
                11
               ],
               [
                7
               ],
               [
                -1
               ],
               [
                6
               ],
               [
                3
               ],
               [
                5.5
               ],
               [
                6.2
               ],
               [
                6.5
               ],
               [
                11.2
               ],
               [
                9
               ],
               [
                -1.3
               ],
               [
                7.6
               ]
              ]
             },
             {
              "scene.xaxis.title.text": "Mar"
             }
            ],
            "label": "Mar",
            "method": "update"
           },
           {
            "args": [
             {
              "customdata": [
               [
                [
                 "Apr",
                 "Feb",
                 "Mar"
                ]
               ],
               [
                [
                 "Apr",
                 "Feb",
                 "Mar"
                ]
               ],
               [
                [
                 "Apr",
                 "Feb",
                 "Mar"
                ]
               ],
               [
                [
                 "Apr",
                 "Feb",
                 "Mar"
                ]
               ],
               [
                [
                 "Apr",
                 "Feb",
                 "Mar"
                ]
               ],
               [
                [
                 "Apr",
                 "Feb",
                 "Mar"
                ]
               ],
               [
                [
                 "Apr",
                 "Feb",
                 "Mar"
                ]
               ],
               [
                [
                 "Apr",
                 "Feb",
                 "Mar"
                ]
               ],
               [
                [
                 "Apr",
                 "Feb",
                 "Mar"
                ]
               ],
               [
                [
                 "Apr",
                 "Feb",
                 "Mar"
                ]
               ],
               [
                [
                 "Apr",
                 "Feb",
                 "Mar"
                ]
               ],
               [
                [
                 "Apr",
                 "Feb",
                 "Mar"
                ]
               ],
               [
                [
                 "Apr",
                 "Feb",
                 "Mar"
                ]
               ],
               [
                [
                 "Apr",
                 "Feb",
                 "Mar"
                ]
               ],
               [
                [
                 "Apr",
                 "Feb",
                 "Mar"
                ]
               ],
               [
                [
                 "Apr",
                 "Feb",
                 "Mar"
                ]
               ],
               [
                [
                 "Apr",
                 "Feb",
                 "Mar"
                ]
               ],
               [
                [
                 "Apr",
                 "Feb",
                 "Mar"
                ]
               ],
               [
                [
                 "Apr",
                 "Feb",
                 "Mar"
                ]
               ],
               [
                [
                 "Apr",
                 "Feb",
                 "Mar"
                ]
               ],
               [
                [
                 "Apr",
                 "Feb",
                 "Mar"
                ]
               ],
               [
                [
                 "Apr",
                 "Feb",
                 "Mar"
                ]
               ],
               [
                [
                 "Apr",
                 "Feb",
                 "Mar"
                ]
               ],
               [
                [
                 "Apr",
                 "Feb",
                 "Mar"
                ]
               ],
               [
                [
                 "Apr",
                 "Feb",
                 "Mar"
                ]
               ],
               [
                [
                 "Apr",
                 "Feb",
                 "Mar"
                ]
               ],
               [
                [
                 "Apr",
                 "Feb",
                 "Mar"
                ]
               ],
               [
                [
                 "Apr",
                 "Feb",
                 "Mar"
                ]
               ],
               [
                [
                 "Apr",
                 "Feb",
                 "Mar"
                ]
               ],
               [
                [
                 "Apr",
                 "Feb",
                 "Mar"
                ]
               ],
               [
                [
                 "Apr",
                 "Feb",
                 "Mar"
                ]
               ],
               [
                [
                 "Apr",
                 "Feb",
                 "Mar"
                ]
               ],
               [
                [
                 "Apr",
                 "Feb",
                 "Mar"
                ]
               ]
              ],
              "x": [
               [
                8
               ],
               [
                12
               ],
               [
                16
               ],
               [
                13
               ],
               [
                10
               ],
               [
                10
               ],
               [
                11
               ],
               [
                11
               ],
               [
                12
               ],
               [
                13
               ],
               [
                8
               ],
               [
                8
               ],
               [
                3
               ],
               [
                17
               ],
               [
                13
               ],
               [
                11
               ],
               [
                21
               ],
               [
                6
               ],
               [
                5
               ],
               [
                13
               ],
               [
                11
               ],
               [
                14
               ],
               [
                12
               ],
               [
                6
               ],
               [
                12
               ],
               [
                9
               ],
               [
                11
               ],
               [
                8.1
               ],
               [
                10.8
               ],
               [
                12.9
               ],
               [
                12.2
               ],
               [
                5.1
               ],
               [
                12.1
               ]
              ]
             },
             {
              "scene.xaxis.title.text": "Apr"
             }
            ],
            "label": "Apr",
            "method": "update"
           },
           {
            "args": [
             {
              "customdata": [
               [
                [
                 "May",
                 "Feb",
                 "Mar"
                ]
               ],
               [
                [
                 "May",
                 "Feb",
                 "Mar"
                ]
               ],
               [
                [
                 "May",
                 "Feb",
                 "Mar"
                ]
               ],
               [
                [
                 "May",
                 "Feb",
                 "Mar"
                ]
               ],
               [
                [
                 "May",
                 "Feb",
                 "Mar"
                ]
               ],
               [
                [
                 "May",
                 "Feb",
                 "Mar"
                ]
               ],
               [
                [
                 "May",
                 "Feb",
                 "Mar"
                ]
               ],
               [
                [
                 "May",
                 "Feb",
                 "Mar"
                ]
               ],
               [
                [
                 "May",
                 "Feb",
                 "Mar"
                ]
               ],
               [
                [
                 "May",
                 "Feb",
                 "Mar"
                ]
               ],
               [
                [
                 "May",
                 "Feb",
                 "Mar"
                ]
               ],
               [
                [
                 "May",
                 "Feb",
                 "Mar"
                ]
               ],
               [
                [
                 "May",
                 "Feb",
                 "Mar"
                ]
               ],
               [
                [
                 "May",
                 "Feb",
                 "Mar"
                ]
               ],
               [
                [
                 "May",
                 "Feb",
                 "Mar"
                ]
               ],
               [
                [
                 "May",
                 "Feb",
                 "Mar"
                ]
               ],
               [
                [
                 "May",
                 "Feb",
                 "Mar"
                ]
               ],
               [
                [
                 "May",
                 "Feb",
                 "Mar"
                ]
               ],
               [
                [
                 "May",
                 "Feb",
                 "Mar"
                ]
               ],
               [
                [
                 "May",
                 "Feb",
                 "Mar"
                ]
               ],
               [
                [
                 "May",
                 "Feb",
                 "Mar"
                ]
               ],
               [
                [
                 "May",
                 "Feb",
                 "Mar"
                ]
               ],
               [
                [
                 "May",
                 "Feb",
                 "Mar"
                ]
               ],
               [
                [
                 "May",
                 "Feb",
                 "Mar"
                ]
               ],
               [
                [
                 "May",
                 "Feb",
                 "Mar"
                ]
               ],
               [
                [
                 "May",
                 "Feb",
                 "Mar"
                ]
               ],
               [
                [
                 "May",
                 "Feb",
                 "Mar"
                ]
               ],
               [
                [
                 "May",
                 "Feb",
                 "Mar"
                ]
               ],
               [
                [
                 "May",
                 "Feb",
                 "Mar"
                ]
               ],
               [
                [
                 "May",
                 "Feb",
                 "Mar"
                ]
               ],
               [
                [
                 "May",
                 "Feb",
                 "Mar"
                ]
               ],
               [
                [
                 "May",
                 "Feb",
                 "Mar"
                ]
               ],
               [
                [
                 "May",
                 "Feb",
                 "Mar"
                ]
               ]
              ],
              "x": [
               [
                12
               ],
               [
                17
               ],
               [
                21
               ],
               [
                17
               ],
               [
                14
               ],
               [
                13
               ],
               [
                14
               ],
               [
                13
               ],
               [
                17
               ],
               [
                17
               ],
               [
                13
               ],
               [
                11
               ],
               [
                10
               ],
               [
                19
               ],
               [
                17
               ],
               [
                13
               ],
               [
                23
               ],
               [
                14
               ],
               [
                11
               ],
               [
                16
               ],
               [
                15
               ],
               [
                18
               ],
               [
                16
               ],
               [
                11
               ],
               [
                15
               ],
               [
                16
               ],
               [
                16
               ],
               [
                10.8
               ],
               [
                15.8
               ],
               [
                16.7
               ],
               [
                17
               ],
               [
                11.3
               ],
               [
                17.3
               ]
              ]
             },
             {
              "scene.xaxis.title.text": "May"
             }
            ],
            "label": "May",
            "method": "update"
           },
           {
            "args": [
             {
              "customdata": [
               [
                [
                 "Jun",
                 "Feb",
                 "Mar"
                ]
               ],
               [
                [
                 "Jun",
                 "Feb",
                 "Mar"
                ]
               ],
               [
                [
                 "Jun",
                 "Feb",
                 "Mar"
                ]
               ],
               [
                [
                 "Jun",
                 "Feb",
                 "Mar"
                ]
               ],
               [
                [
                 "Jun",
                 "Feb",
                 "Mar"
                ]
               ],
               [
                [
                 "Jun",
                 "Feb",
                 "Mar"
                ]
               ],
               [
                [
                 "Jun",
                 "Feb",
                 "Mar"
                ]
               ],
               [
                [
                 "Jun",
                 "Feb",
                 "Mar"
                ]
               ],
               [
                [
                 "Jun",
                 "Feb",
                 "Mar"
                ]
               ],
               [
                [
                 "Jun",
                 "Feb",
                 "Mar"
                ]
               ],
               [
                [
                 "Jun",
                 "Feb",
                 "Mar"
                ]
               ],
               [
                [
                 "Jun",
                 "Feb",
                 "Mar"
                ]
               ],
               [
                [
                 "Jun",
                 "Feb",
                 "Mar"
                ]
               ],
               [
                [
                 "Jun",
                 "Feb",
                 "Mar"
                ]
               ],
               [
                [
                 "Jun",
                 "Feb",
                 "Mar"
                ]
               ],
               [
                [
                 "Jun",
                 "Feb",
                 "Mar"
                ]
               ],
               [
                [
                 "Jun",
                 "Feb",
                 "Mar"
                ]
               ],
               [
                [
                 "Jun",
                 "Feb",
                 "Mar"
                ]
               ],
               [
                [
                 "Jun",
                 "Feb",
                 "Mar"
                ]
               ],
               [
                [
                 "Jun",
                 "Feb",
                 "Mar"
                ]
               ],
               [
                [
                 "Jun",
                 "Feb",
                 "Mar"
                ]
               ],
               [
                [
                 "Jun",
                 "Feb",
                 "Mar"
                ]
               ],
               [
                [
                 "Jun",
                 "Feb",
                 "Mar"
                ]
               ],
               [
                [
                 "Jun",
                 "Feb",
                 "Mar"
                ]
               ],
               [
                [
                 "Jun",
                 "Feb",
                 "Mar"
                ]
               ],
               [
                [
                 "Jun",
                 "Feb",
                 "Mar"
                ]
               ],
               [
                [
                 "Jun",
                 "Feb",
                 "Mar"
                ]
               ],
               [
                [
                 "Jun",
                 "Feb",
                 "Mar"
                ]
               ],
               [
                [
                 "Jun",
                 "Feb",
                 "Mar"
                ]
               ],
               [
                [
                 "Jun",
                 "Feb",
                 "Mar"
                ]
               ],
               [
                [
                 "Jun",
                 "Feb",
                 "Mar"
                ]
               ],
               [
                [
                 "Jun",
                 "Feb",
                 "Mar"
                ]
               ],
               [
                [
                 "Jun",
                 "Feb",
                 "Mar"
                ]
               ]
              ],
              "x": [
               [
                15
               ],
               [
                19
               ],
               [
                26
               ],
               [
                22
               ],
               [
                18
               ],
               [
                17
               ],
               [
                18
               ],
               [
                18
               ],
               [
                21
               ],
               [
                21
               ],
               [
                17
               ],
               [
                14
               ],
               [
                15
               ],
               [
                23
               ],
               [
                20
               ],
               [
                17
               ],
               [
                27
               ],
               [
                15
               ],
               [
                16
               ],
               [
                19
               ],
               [
                19
               ],
               [
                23
               ],
               [
                19
               ],
               [
                16
               ],
               [
                11
               ],
               [
                18
               ],
               [
                19.1
               ],
               [
                13.5
               ],
               [
                19.1
               ],
               [
                22.2
               ],
               [
                20.8
               ],
               [
                15.7
               ],
               [
                21.5
               ]
              ]
             },
             {
              "scene.xaxis.title.text": "Jun"
             }
            ],
            "label": "Jun",
            "method": "update"
           },
           {
            "args": [
             {
              "customdata": [
               [
                [
                 "Jul",
                 "Feb",
                 "Mar"
                ]
               ],
               [
                [
                 "Jul",
                 "Feb",
                 "Mar"
                ]
               ],
               [
                [
                 "Jul",
                 "Feb",
                 "Mar"
                ]
               ],
               [
                [
                 "Jul",
                 "Feb",
                 "Mar"
                ]
               ],
               [
                [
                 "Jul",
                 "Feb",
                 "Mar"
                ]
               ],
               [
                [
                 "Jul",
                 "Feb",
                 "Mar"
                ]
               ],
               [
                [
                 "Jul",
                 "Feb",
                 "Mar"
                ]
               ],
               [
                [
                 "Jul",
                 "Feb",
                 "Mar"
                ]
               ],
               [
                [
                 "Jul",
                 "Feb",
                 "Mar"
                ]
               ],
               [
                [
                 "Jul",
                 "Feb",
                 "Mar"
                ]
               ],
               [
                [
                 "Jul",
                 "Feb",
                 "Mar"
                ]
               ],
               [
                [
                 "Jul",
                 "Feb",
                 "Mar"
                ]
               ],
               [
                [
                 "Jul",
                 "Feb",
                 "Mar"
                ]
               ],
               [
                [
                 "Jul",
                 "Feb",
                 "Mar"
                ]
               ],
               [
                [
                 "Jul",
                 "Feb",
                 "Mar"
                ]
               ],
               [
                [
                 "Jul",
                 "Feb",
                 "Mar"
                ]
               ],
               [
                [
                 "Jul",
                 "Feb",
                 "Mar"
                ]
               ],
               [
                [
                 "Jul",
                 "Feb",
                 "Mar"
                ]
               ],
               [
                [
                 "Jul",
                 "Feb",
                 "Mar"
                ]
               ],
               [
                [
                 "Jul",
                 "Feb",
                 "Mar"
                ]
               ],
               [
                [
                 "Jul",
                 "Feb",
                 "Mar"
                ]
               ],
               [
                [
                 "Jul",
                 "Feb",
                 "Mar"
                ]
               ],
               [
                [
                 "Jul",
                 "Feb",
                 "Mar"
                ]
               ],
               [
                [
                 "Jul",
                 "Feb",
                 "Mar"
                ]
               ],
               [
                [
                 "Jul",
                 "Feb",
                 "Mar"
                ]
               ],
               [
                [
                 "Jul",
                 "Feb",
                 "Mar"
                ]
               ],
               [
                [
                 "Jul",
                 "Feb",
                 "Mar"
                ]
               ],
               [
                [
                 "Jul",
                 "Feb",
                 "Mar"
                ]
               ],
               [
                [
                 "Jul",
                 "Feb",
                 "Mar"
                ]
               ],
               [
                [
                 "Jul",
                 "Feb",
                 "Mar"
                ]
               ],
               [
                [
                 "Jul",
                 "Feb",
                 "Mar"
                ]
               ],
               [
                [
                 "Jul",
                 "Feb",
                 "Mar"
                ]
               ],
               [
                [
                 "Jul",
                 "Feb",
                 "Mar"
                ]
               ]
              ],
              "x": [
               [
                17
               ],
               [
                23
               ],
               [
                29
               ],
               [
                23
               ],
               [
                21
               ],
               [
                18
               ],
               [
                20
               ],
               [
                19
               ],
               [
                23
               ],
               [
                23
               ],
               [
                18
               ],
               [
                16
               ],
               [
                18
               ],
               [
                25
               ],
               [
                22
               ],
               [
                19
               ],
               [
                29
               ],
               [
                18
               ],
               [
                17
               ],
               [
                22
               ],
               [
                21
               ],
               [
                25
               ],
               [
                22
               ],
               [
                19
               ],
               [
                15
               ],
               [
                21
               ],
               [
                21.3
               ],
               [
                15.3
               ],
               [
                21.3
               ],
               [
                25.6
               ],
               [
                23.6
               ],
               [
                18.8
               ],
               [
                23.8
               ]
              ]
             },
             {
              "scene.xaxis.title.text": "Jul"
             }
            ],
            "label": "Jul",
            "method": "update"
           },
           {
            "args": [
             {
              "customdata": [
               [
                [
                 "Aug",
                 "Feb",
                 "Mar"
                ]
               ],
               [
                [
                 "Aug",
                 "Feb",
                 "Mar"
                ]
               ],
               [
                [
                 "Aug",
                 "Feb",
                 "Mar"
                ]
               ],
               [
                [
                 "Aug",
                 "Feb",
                 "Mar"
                ]
               ],
               [
                [
                 "Aug",
                 "Feb",
                 "Mar"
                ]
               ],
               [
                [
                 "Aug",
                 "Feb",
                 "Mar"
                ]
               ],
               [
                [
                 "Aug",
                 "Feb",
                 "Mar"
                ]
               ],
               [
                [
                 "Aug",
                 "Feb",
                 "Mar"
                ]
               ],
               [
                [
                 "Aug",
                 "Feb",
                 "Mar"
                ]
               ],
               [
                [
                 "Aug",
                 "Feb",
                 "Mar"
                ]
               ],
               [
                [
                 "Aug",
                 "Feb",
                 "Mar"
                ]
               ],
               [
                [
                 "Aug",
                 "Feb",
                 "Mar"
                ]
               ],
               [
                [
                 "Aug",
                 "Feb",
                 "Mar"
                ]
               ],
               [
                [
                 "Aug",
                 "Feb",
                 "Mar"
                ]
               ],
               [
                [
                 "Aug",
                 "Feb",
                 "Mar"
                ]
               ],
               [
                [
                 "Aug",
                 "Feb",
                 "Mar"
                ]
               ],
               [
                [
                 "Aug",
                 "Feb",
                 "Mar"
                ]
               ],
               [
                [
                 "Aug",
                 "Feb",
                 "Mar"
                ]
               ],
               [
                [
                 "Aug",
                 "Feb",
                 "Mar"
                ]
               ],
               [
                [
                 "Aug",
                 "Feb",
                 "Mar"
                ]
               ],
               [
                [
                 "Aug",
                 "Feb",
                 "Mar"
                ]
               ],
               [
                [
                 "Aug",
                 "Feb",
                 "Mar"
                ]
               ],
               [
                [
                 "Aug",
                 "Feb",
                 "Mar"
                ]
               ],
               [
                [
                 "Aug",
                 "Feb",
                 "Mar"
                ]
               ],
               [
                [
                 "Aug",
                 "Feb",
                 "Mar"
                ]
               ],
               [
                [
                 "Aug",
                 "Feb",
                 "Mar"
                ]
               ],
               [
                [
                 "Aug",
                 "Feb",
                 "Mar"
                ]
               ],
               [
                [
                 "Aug",
                 "Feb",
                 "Mar"
                ]
               ],
               [
                [
                 "Aug",
                 "Feb",
                 "Mar"
                ]
               ],
               [
                [
                 "Aug",
                 "Feb",
                 "Mar"
                ]
               ],
               [
                [
                 "Aug",
                 "Feb",
                 "Mar"
                ]
               ],
               [
                [
                 "Aug",
                 "Feb",
                 "Mar"
                ]
               ],
               [
                [
                 "Aug",
                 "Feb",
                 "Mar"
                ]
               ]
              ],
              "x": [
               [
                17
               ],
               [
                22
               ],
               [
                28
               ],
               [
                23
               ],
               [
                19
               ],
               [
                19
               ],
               [
                16
               ],
               [
                18
               ],
               [
                23
               ],
               [
                23
               ],
               [
                18
               ],
               [
                14
               ],
               [
                16
               ],
               [
                24
               ],
               [
                21
               ],
               [
                18
               ],
               [
                30
               ],
               [
                17
               ],
               [
                16
               ],
               [
                21
               ],
               [
                20
               ],
               [
                25
               ],
               [
                21
               ],
               [
                17
               ],
               [
                21
               ],
               [
                19
               ],
               [
                20.7
               ],
               [
                15.2
               ],
               [
                20.6
               ],
               [
                25.1
               ],
               [
                23
               ],
               [
                16.9
               ],
               [
                23.8
               ]
              ]
             },
             {
              "scene.xaxis.title.text": "Aug"
             }
            ],
            "label": "Aug",
            "method": "update"
           },
           {
            "args": [
             {
              "customdata": [
               [
                [
                 "Sep",
                 "Feb",
                 "Mar"
                ]
               ],
               [
                [
                 "Sep",
                 "Feb",
                 "Mar"
                ]
               ],
               [
                [
                 "Sep",
                 "Feb",
                 "Mar"
                ]
               ],
               [
                [
                 "Sep",
                 "Feb",
                 "Mar"
                ]
               ],
               [
                [
                 "Sep",
                 "Feb",
                 "Mar"
                ]
               ],
               [
                [
                 "Sep",
                 "Feb",
                 "Mar"
                ]
               ],
               [
                [
                 "Sep",
                 "Feb",
                 "Mar"
                ]
               ],
               [
                [
                 "Sep",
                 "Feb",
                 "Mar"
                ]
               ],
               [
                [
                 "Sep",
                 "Feb",
                 "Mar"
                ]
               ],
               [
                [
                 "Sep",
                 "Feb",
                 "Mar"
                ]
               ],
               [
                [
                 "Sep",
                 "Feb",
                 "Mar"
                ]
               ],
               [
                [
                 "Sep",
                 "Feb",
                 "Mar"
                ]
               ],
               [
                [
                 "Sep",
                 "Feb",
                 "Mar"
                ]
               ],
               [
                [
                 "Sep",
                 "Feb",
                 "Mar"
                ]
               ],
               [
                [
                 "Sep",
                 "Feb",
                 "Mar"
                ]
               ],
               [
                [
                 "Sep",
                 "Feb",
                 "Mar"
                ]
               ],
               [
                [
                 "Sep",
                 "Feb",
                 "Mar"
                ]
               ],
               [
                [
                 "Sep",
                 "Feb",
                 "Mar"
                ]
               ],
               [
                [
                 "Sep",
                 "Feb",
                 "Mar"
                ]
               ],
               [
                [
                 "Sep",
                 "Feb",
                 "Mar"
                ]
               ],
               [
                [
                 "Sep",
                 "Feb",
                 "Mar"
                ]
               ],
               [
                [
                 "Sep",
                 "Feb",
                 "Mar"
                ]
               ],
               [
                [
                 "Sep",
                 "Feb",
                 "Mar"
                ]
               ],
               [
                [
                 "Sep",
                 "Feb",
                 "Mar"
                ]
               ],
               [
                [
                 "Sep",
                 "Feb",
                 "Mar"
                ]
               ],
               [
                [
                 "Sep",
                 "Feb",
                 "Mar"
                ]
               ],
               [
                [
                 "Sep",
                 "Feb",
                 "Mar"
                ]
               ],
               [
                [
                 "Sep",
                 "Feb",
                 "Mar"
                ]
               ],
               [
                [
                 "Sep",
                 "Feb",
                 "Mar"
                ]
               ],
               [
                [
                 "Sep",
                 "Feb",
                 "Mar"
                ]
               ],
               [
                [
                 "Sep",
                 "Feb",
                 "Mar"
                ]
               ],
               [
                [
                 "Sep",
                 "Feb",
                 "Mar"
                ]
               ],
               [
                [
                 "Sep",
                 "Feb",
                 "Mar"
                ]
               ]
              ],
              "x": [
               [
                15
               ],
               [
                18
               ],
               [
                24
               ],
               [
                19
               ],
               [
                16
               ],
               [
                15
               ],
               [
                16
               ],
               [
                17
               ],
               [
                18
               ],
               [
                18
               ],
               [
                14
               ],
               [
                12
               ],
               [
                11
               ],
               [
                23
               ],
               [
                19
               ],
               [
                15
               ],
               [
                27
               ],
               [
                12
               ],
               [
                11
               ],
               [
                18
               ],
               [
                16
               ],
               [
                22
               ],
               [
                17
               ],
               [
                12
               ],
               [
                17
               ],
               [
                16
               ],
               [
                15.9
               ],
               [
                13
               ],
               [
                16
               ],
               [
                20.9
               ],
               [
                19.2
               ],
               [
                11.6
               ],
               [
                18.8
               ]
              ]
             },
             {
              "scene.xaxis.title.text": "Sep"
             }
            ],
            "label": "Sep",
            "method": "update"
           },
           {
            "args": [
             {
              "customdata": [
               [
                [
                 "Oct",
                 "Feb",
                 "Mar"
                ]
               ],
               [
                [
                 "Oct",
                 "Feb",
                 "Mar"
                ]
               ],
               [
                [
                 "Oct",
                 "Feb",
                 "Mar"
                ]
               ],
               [
                [
                 "Oct",
                 "Feb",
                 "Mar"
                ]
               ],
               [
                [
                 "Oct",
                 "Feb",
                 "Mar"
                ]
               ],
               [
                [
                 "Oct",
                 "Feb",
                 "Mar"
                ]
               ],
               [
                [
                 "Oct",
                 "Feb",
                 "Mar"
                ]
               ],
               [
                [
                 "Oct",
                 "Feb",
                 "Mar"
                ]
               ],
               [
                [
                 "Oct",
                 "Feb",
                 "Mar"
                ]
               ],
               [
                [
                 "Oct",
                 "Feb",
                 "Mar"
                ]
               ],
               [
                [
                 "Oct",
                 "Feb",
                 "Mar"
                ]
               ],
               [
                [
                 "Oct",
                 "Feb",
                 "Mar"
                ]
               ],
               [
                [
                 "Oct",
                 "Feb",
                 "Mar"
                ]
               ],
               [
                [
                 "Oct",
                 "Feb",
                 "Mar"
                ]
               ],
               [
                [
                 "Oct",
                 "Feb",
                 "Mar"
                ]
               ],
               [
                [
                 "Oct",
                 "Feb",
                 "Mar"
                ]
               ],
               [
                [
                 "Oct",
                 "Feb",
                 "Mar"
                ]
               ],
               [
                [
                 "Oct",
                 "Feb",
                 "Mar"
                ]
               ],
               [
                [
                 "Oct",
                 "Feb",
                 "Mar"
                ]
               ],
               [
                [
                 "Oct",
                 "Feb",
                 "Mar"
                ]
               ],
               [
                [
                 "Oct",
                 "Feb",
                 "Mar"
                ]
               ],
               [
                [
                 "Oct",
                 "Feb",
                 "Mar"
                ]
               ],
               [
                [
                 "Oct",
                 "Feb",
                 "Mar"
                ]
               ],
               [
                [
                 "Oct",
                 "Feb",
                 "Mar"
                ]
               ],
               [
                [
                 "Oct",
                 "Feb",
                 "Mar"
                ]
               ],
               [
                [
                 "Oct",
                 "Feb",
                 "Mar"
                ]
               ],
               [
                [
                 "Oct",
                 "Feb",
                 "Mar"
                ]
               ],
               [
                [
                 "Oct",
                 "Feb",
                 "Mar"
                ]
               ],
               [
                [
                 "Oct",
                 "Feb",
                 "Mar"
                ]
               ],
               [
                [
                 "Oct",
                 "Feb",
                 "Mar"
                ]
               ],
               [
                [
                 "Oct",
                 "Feb",
                 "Mar"
                ]
               ],
               [
                [
                 "Oct",
                 "Feb",
                 "Mar"
                ]
               ],
               [
                [
                 "Oct",
                 "Feb",
                 "Mar"
                ]
               ]
              ],
              "x": [
               [
                11
               ],
               [
                14
               ],
               [
                20
               ],
               [
                14
               ],
               [
                10
               ],
               [
                10
               ],
               [
                11
               ],
               [
                12
               ],
               [
                13
               ],
               [
                13
               ],
               [
                9
               ],
               [
                9
               ],
               [
                4
               ],
               [
                19
               ],
               [
                15
               ],
               [
                9
               ],
               [
                23
               ],
               [
                6
               ],
               [
                7
               ],
               [
                13
               ],
               [
                10
               ],
               [
                17
               ],
               [
                12
               ],
               [
                7
               ],
               [
                11
               ],
               [
                10
               ],
               [
                10.4
               ],
               [
                9.8
               ],
               [
                11.2
               ],
               [
                15.1
               ],
               [
                13.4
               ],
               [
                6.2
               ],
               [
                13.1
               ]
              ]
             },
             {
              "scene.xaxis.title.text": "Oct"
             }
            ],
            "label": "Oct",
            "method": "update"
           },
           {
            "args": [
             {
              "customdata": [
               [
                [
                 "Nov",
                 "Feb",
                 "Mar"
                ]
               ],
               [
                [
                 "Nov",
                 "Feb",
                 "Mar"
                ]
               ],
               [
                [
                 "Nov",
                 "Feb",
                 "Mar"
                ]
               ],
               [
                [
                 "Nov",
                 "Feb",
                 "Mar"
                ]
               ],
               [
                [
                 "Nov",
                 "Feb",
                 "Mar"
                ]
               ],
               [
                [
                 "Nov",
                 "Feb",
                 "Mar"
                ]
               ],
               [
                [
                 "Nov",
                 "Feb",
                 "Mar"
                ]
               ],
               [
                [
                 "Nov",
                 "Feb",
                 "Mar"
                ]
               ],
               [
                [
                 "Nov",
                 "Feb",
                 "Mar"
                ]
               ],
               [
                [
                 "Nov",
                 "Feb",
                 "Mar"
                ]
               ],
               [
                [
                 "Nov",
                 "Feb",
                 "Mar"
                ]
               ],
               [
                [
                 "Nov",
                 "Feb",
                 "Mar"
                ]
               ],
               [
                [
                 "Nov",
                 "Feb",
                 "Mar"
                ]
               ],
               [
                [
                 "Nov",
                 "Feb",
                 "Mar"
                ]
               ],
               [
                [
                 "Nov",
                 "Feb",
                 "Mar"
                ]
               ],
               [
                [
                 "Nov",
                 "Feb",
                 "Mar"
                ]
               ],
               [
                [
                 "Nov",
                 "Feb",
                 "Mar"
                ]
               ],
               [
                [
                 "Nov",
                 "Feb",
                 "Mar"
                ]
               ],
               [
                [
                 "Nov",
                 "Feb",
                 "Mar"
                ]
               ],
               [
                [
                 "Nov",
                 "Feb",
                 "Mar"
                ]
               ],
               [
                [
                 "Nov",
                 "Feb",
                 "Mar"
                ]
               ],
               [
                [
                 "Nov",
                 "Feb",
                 "Mar"
                ]
               ],
               [
                [
                 "Nov",
                 "Feb",
                 "Mar"
                ]
               ],
               [
                [
                 "Nov",
                 "Feb",
                 "Mar"
                ]
               ],
               [
                [
                 "Nov",
                 "Feb",
                 "Mar"
                ]
               ],
               [
                [
                 "Nov",
                 "Feb",
                 "Mar"
                ]
               ],
               [
                [
                 "Nov",
                 "Feb",
                 "Mar"
                ]
               ],
               [
                [
                 "Nov",
                 "Feb",
                 "Mar"
                ]
               ],
               [
                [
                 "Nov",
                 "Feb",
                 "Mar"
                ]
               ],
               [
                [
                 "Nov",
                 "Feb",
                 "Mar"
                ]
               ],
               [
                [
                 "Nov",
                 "Feb",
                 "Mar"
                ]
               ],
               [
                [
                 "Nov",
                 "Feb",
                 "Mar"
                ]
               ],
               [
                [
                 "Nov",
                 "Feb",
                 "Mar"
                ]
               ]
              ],
              "x": [
               [
                6
               ],
               [
                8
               ],
               [
                15
               ],
               [
                8
               ],
               [
                4
               ],
               [
                4
               ],
               [
                7
               ],
               [
                7
               ],
               [
                7
               ],
               [
                6
               ],
               [
                4
               ],
               [
                6
               ],
               [
                -1
               ],
               [
                14
               ],
               [
                10
               ],
               [
                4
               ],
               [
                20
               ],
               [
                -2
               ],
               [
                2
               ],
               [
                7
               ],
               [
                4
               ],
               [
                12
               ],
               [
                7
               ],
               [
                2
               ],
               [
                6
               ],
               [
                4
               ],
               [
                4.9
               ],
               [
                6.7
               ],
               [
                5.6
               ],
               [
                9.9
               ],
               [
                7.2
               ],
               [
                0.1
               ],
               [
                6.5
               ]
              ]
             },
             {
              "scene.xaxis.title.text": "Nov"
             }
            ],
            "label": "Nov",
            "method": "update"
           },
           {
            "args": [
             {
              "customdata": [
               [
                [
                 "Dec",
                 "Feb",
                 "Mar"
                ]
               ],
               [
                [
                 "Dec",
                 "Feb",
                 "Mar"
                ]
               ],
               [
                [
                 "Dec",
                 "Feb",
                 "Mar"
                ]
               ],
               [
                [
                 "Dec",
                 "Feb",
                 "Mar"
                ]
               ],
               [
                [
                 "Dec",
                 "Feb",
                 "Mar"
                ]
               ],
               [
                [
                 "Dec",
                 "Feb",
                 "Mar"
                ]
               ],
               [
                [
                 "Dec",
                 "Feb",
                 "Mar"
                ]
               ],
               [
                [
                 "Dec",
                 "Feb",
                 "Mar"
                ]
               ],
               [
                [
                 "Dec",
                 "Feb",
                 "Mar"
                ]
               ],
               [
                [
                 "Dec",
                 "Feb",
                 "Mar"
                ]
               ],
               [
                [
                 "Dec",
                 "Feb",
                 "Mar"
                ]
               ],
               [
                [
                 "Dec",
                 "Feb",
                 "Mar"
                ]
               ],
               [
                [
                 "Dec",
                 "Feb",
                 "Mar"
                ]
               ],
               [
                [
                 "Dec",
                 "Feb",
                 "Mar"
                ]
               ],
               [
                [
                 "Dec",
                 "Feb",
                 "Mar"
                ]
               ],
               [
                [
                 "Dec",
                 "Feb",
                 "Mar"
                ]
               ],
               [
                [
                 "Dec",
                 "Feb",
                 "Mar"
                ]
               ],
               [
                [
                 "Dec",
                 "Feb",
                 "Mar"
                ]
               ],
               [
                [
                 "Dec",
                 "Feb",
                 "Mar"
                ]
               ],
               [
                [
                 "Dec",
                 "Feb",
                 "Mar"
                ]
               ],
               [
                [
                 "Dec",
                 "Feb",
                 "Mar"
                ]
               ],
               [
                [
                 "Dec",
                 "Feb",
                 "Mar"
                ]
               ],
               [
                [
                 "Dec",
                 "Feb",
                 "Mar"
                ]
               ],
               [
                [
                 "Dec",
                 "Feb",
                 "Mar"
                ]
               ],
               [
                [
                 "Dec",
                 "Feb",
                 "Mar"
                ]
               ],
               [
                [
                 "Dec",
                 "Feb",
                 "Mar"
                ]
               ],
               [
                [
                 "Dec",
                 "Feb",
                 "Mar"
                ]
               ],
               [
                [
                 "Dec",
                 "Feb",
                 "Mar"
                ]
               ],
               [
                [
                 "Dec",
                 "Feb",
                 "Mar"
                ]
               ],
               [
                [
                 "Dec",
                 "Feb",
                 "Mar"
                ]
               ],
               [
                [
                 "Dec",
                 "Feb",
                 "Mar"
                ]
               ],
               [
                [
                 "Dec",
                 "Feb",
                 "Mar"
                ]
               ],
               [
                [
                 "Dec",
                 "Feb",
                 "Mar"
                ]
               ]
              ],
              "x": [
               [
                3
               ],
               [
                2
               ],
               [
                11
               ],
               [
                6
               ],
               [
                0
               ],
               [
                1
               ],
               [
                2
               ],
               [
                3
               ],
               [
                1
               ],
               [
                1
               ],
               [
                2
               ],
               [
                4
               ],
               [
                -6
               ],
               [
                11
               ],
               [
                8
               ],
               [
                2
               ],
               [
                17
               ],
               [
                -10
               ],
               [
                3
               ],
               [
                4
               ],
               [
                0
               ],
               [
                9
               ],
               [
                1
               ],
               [
                -1
               ],
               [
                2
               ],
               [
                2
               ],
               [
                0.7
               ],
               [
                4.2
               ],
               [
                1.2
               ],
               [
                6.9
               ],
               [
                3.3
               ],
               [
                -3.7
               ],
               [
                1.7
               ]
              ]
             },
             {
              "scene.xaxis.title.text": "Dec"
             }
            ],
            "label": "Dec",
            "method": "update"
           }
          ],
          "direction": "down",
          "pad": {
           "b": 2,
           "l": 2,
           "r": 2,
           "t": 4
          },
          "showactive": true,
          "type": "dropdown",
          "x": 0.14,
          "xanchor": "center",
          "y": 1.12,
          "yanchor": "top"
         },
         {
          "buttons": [
           {
            "args": [
             {
              "customdata": [
               [
                [
                 "Jan",
                 "Jan",
                 "Mar"
                ]
               ],
               [
                [
                 "Jan",
                 "Jan",
                 "Mar"
                ]
               ],
               [
                [
                 "Jan",
                 "Jan",
                 "Mar"
                ]
               ],
               [
                [
                 "Jan",
                 "Jan",
                 "Mar"
                ]
               ],
               [
                [
                 "Jan",
                 "Jan",
                 "Mar"
                ]
               ],
               [
                [
                 "Jan",
                 "Jan",
                 "Mar"
                ]
               ],
               [
                [
                 "Jan",
                 "Jan",
                 "Mar"
                ]
               ],
               [
                [
                 "Jan",
                 "Jan",
                 "Mar"
                ]
               ],
               [
                [
                 "Jan",
                 "Jan",
                 "Mar"
                ]
               ],
               [
                [
                 "Jan",
                 "Jan",
                 "Mar"
                ]
               ],
               [
                [
                 "Jan",
                 "Jan",
                 "Mar"
                ]
               ],
               [
                [
                 "Jan",
                 "Jan",
                 "Mar"
                ]
               ],
               [
                [
                 "Jan",
                 "Jan",
                 "Mar"
                ]
               ],
               [
                [
                 "Jan",
                 "Jan",
                 "Mar"
                ]
               ],
               [
                [
                 "Jan",
                 "Jan",
                 "Mar"
                ]
               ],
               [
                [
                 "Jan",
                 "Jan",
                 "Mar"
                ]
               ],
               [
                [
                 "Jan",
                 "Jan",
                 "Mar"
                ]
               ],
               [
                [
                 "Jan",
                 "Jan",
                 "Mar"
                ]
               ],
               [
                [
                 "Jan",
                 "Jan",
                 "Mar"
                ]
               ],
               [
                [
                 "Jan",
                 "Jan",
                 "Mar"
                ]
               ],
               [
                [
                 "Jan",
                 "Jan",
                 "Mar"
                ]
               ],
               [
                [
                 "Jan",
                 "Jan",
                 "Mar"
                ]
               ],
               [
                [
                 "Jan",
                 "Jan",
                 "Mar"
                ]
               ],
               [
                [
                 "Jan",
                 "Jan",
                 "Mar"
                ]
               ],
               [
                [
                 "Jan",
                 "Jan",
                 "Mar"
                ]
               ],
               [
                [
                 "Jan",
                 "Jan",
                 "Mar"
                ]
               ],
               [
                [
                 "Jan",
                 "Jan",
                 "Mar"
                ]
               ],
               [
                [
                 "Jan",
                 "Jan",
                 "Mar"
                ]
               ],
               [
                [
                 "Jan",
                 "Jan",
                 "Mar"
                ]
               ],
               [
                [
                 "Jan",
                 "Jan",
                 "Mar"
                ]
               ],
               [
                [
                 "Jan",
                 "Jan",
                 "Mar"
                ]
               ],
               [
                [
                 "Jan",
                 "Jan",
                 "Mar"
                ]
               ],
               [
                [
                 "Jan",
                 "Jan",
                 "Mar"
                ]
               ]
              ],
              "y": [
               [
                2
               ],
               [
                1
               ],
               [
                9
               ],
               [
                1
               ],
               [
                -2
               ],
               [
                1
               ],
               [
                1
               ],
               [
                1
               ],
               [
                -4
               ],
               [
                -2
               ],
               [
                -1
               ],
               [
                3
               ],
               [
                -9
               ],
               [
                11
               ],
               [
                7
               ],
               [
                0
               ],
               [
                17
               ],
               [
                -14
               ],
               [
                -5
               ],
               [
                4
               ],
               [
                -2
               ],
               [
                7
               ],
               [
                -1
               ],
               [
                -4
               ],
               [
                -1
               ],
               [
                -5
               ],
               [
                -0.4
               ],
               [
                4.2
               ],
               [
                0.3
               ],
               [
                6.3
               ],
               [
                2.5
               ],
               [
                -5.5
               ],
               [
                0.1
               ]
              ]
             },
             {
              "scene.yaxis.title.text": "Jan"
             }
            ],
            "label": "Jan",
            "method": "update"
           },
           {
            "args": [
             {
              "customdata": [
               [
                [
                 "Jan",
                 "Feb",
                 "Mar"
                ]
               ],
               [
                [
                 "Jan",
                 "Feb",
                 "Mar"
                ]
               ],
               [
                [
                 "Jan",
                 "Feb",
                 "Mar"
                ]
               ],
               [
                [
                 "Jan",
                 "Feb",
                 "Mar"
                ]
               ],
               [
                [
                 "Jan",
                 "Feb",
                 "Mar"
                ]
               ],
               [
                [
                 "Jan",
                 "Feb",
                 "Mar"
                ]
               ],
               [
                [
                 "Jan",
                 "Feb",
                 "Mar"
                ]
               ],
               [
                [
                 "Jan",
                 "Feb",
                 "Mar"
                ]
               ],
               [
                [
                 "Jan",
                 "Feb",
                 "Mar"
                ]
               ],
               [
                [
                 "Jan",
                 "Feb",
                 "Mar"
                ]
               ],
               [
                [
                 "Jan",
                 "Feb",
                 "Mar"
                ]
               ],
               [
                [
                 "Jan",
                 "Feb",
                 "Mar"
                ]
               ],
               [
                [
                 "Jan",
                 "Feb",
                 "Mar"
                ]
               ],
               [
                [
                 "Jan",
                 "Feb",
                 "Mar"
                ]
               ],
               [
                [
                 "Jan",
                 "Feb",
                 "Mar"
                ]
               ],
               [
                [
                 "Jan",
                 "Feb",
                 "Mar"
                ]
               ],
               [
                [
                 "Jan",
                 "Feb",
                 "Mar"
                ]
               ],
               [
                [
                 "Jan",
                 "Feb",
                 "Mar"
                ]
               ],
               [
                [
                 "Jan",
                 "Feb",
                 "Mar"
                ]
               ],
               [
                [
                 "Jan",
                 "Feb",
                 "Mar"
                ]
               ],
               [
                [
                 "Jan",
                 "Feb",
                 "Mar"
                ]
               ],
               [
                [
                 "Jan",
                 "Feb",
                 "Mar"
                ]
               ],
               [
                [
                 "Jan",
                 "Feb",
                 "Mar"
                ]
               ],
               [
                [
                 "Jan",
                 "Feb",
                 "Mar"
                ]
               ],
               [
                [
                 "Jan",
                 "Feb",
                 "Mar"
                ]
               ],
               [
                [
                 "Jan",
                 "Feb",
                 "Mar"
                ]
               ],
               [
                [
                 "Jan",
                 "Feb",
                 "Mar"
                ]
               ],
               [
                [
                 "Jan",
                 "Feb",
                 "Mar"
                ]
               ],
               [
                [
                 "Jan",
                 "Feb",
                 "Mar"
                ]
               ],
               [
                [
                 "Jan",
                 "Feb",
                 "Mar"
                ]
               ],
               [
                [
                 "Jan",
                 "Feb",
                 "Mar"
                ]
               ],
               [
                [
                 "Jan",
                 "Feb",
                 "Mar"
                ]
               ],
               [
                [
                 "Jan",
                 "Feb",
                 "Mar"
                ]
               ]
              ],
              "y": [
               [
                2
               ],
               [
                0
               ],
               [
                10
               ],
               [
                3
               ],
               [
                1
               ],
               [
                1
               ],
               [
                2
               ],
               [
                4
               ],
               [
                -2
               ],
               [
                1
               ],
               [
                0
               ],
               [
                4
               ],
               [
                -8
               ],
               [
                12
               ],
               [
                8
               ],
               [
                1
               ],
               [
                17
               ],
               [
                -12
               ],
               [
                -4
               ],
               [
                5
               ],
               [
                -1
               ],
               [
                8
               ],
               [
                1
               ],
               [
                -4
               ],
               [
                1
               ],
               [
                -4
               ],
               [
                1.2
               ],
               [
                4.5
               ],
               [
                1.9
               ],
               [
                7.9
               ],
               [
                4.7
               ],
               [
                -5.8
               ],
               [
                2.6
               ]
              ]
             },
             {
              "scene.yaxis.title.text": "Feb"
             }
            ],
            "label": "Feb",
            "method": "update"
           },
           {
            "args": [
             {
              "customdata": [
               [
                [
                 "Jan",
                 "Mar",
                 "Mar"
                ]
               ],
               [
                [
                 "Jan",
                 "Mar",
                 "Mar"
                ]
               ],
               [
                [
                 "Jan",
                 "Mar",
                 "Mar"
                ]
               ],
               [
                [
                 "Jan",
                 "Mar",
                 "Mar"
                ]
               ],
               [
                [
                 "Jan",
                 "Mar",
                 "Mar"
                ]
               ],
               [
                [
                 "Jan",
                 "Mar",
                 "Mar"
                ]
               ],
               [
                [
                 "Jan",
                 "Mar",
                 "Mar"
                ]
               ],
               [
                [
                 "Jan",
                 "Mar",
                 "Mar"
                ]
               ],
               [
                [
                 "Jan",
                 "Mar",
                 "Mar"
                ]
               ],
               [
                [
                 "Jan",
                 "Mar",
                 "Mar"
                ]
               ],
               [
                [
                 "Jan",
                 "Mar",
                 "Mar"
                ]
               ],
               [
                [
                 "Jan",
                 "Mar",
                 "Mar"
                ]
               ],
               [
                [
                 "Jan",
                 "Mar",
                 "Mar"
                ]
               ],
               [
                [
                 "Jan",
                 "Mar",
                 "Mar"
                ]
               ],
               [
                [
                 "Jan",
                 "Mar",
                 "Mar"
                ]
               ],
               [
                [
                 "Jan",
                 "Mar",
                 "Mar"
                ]
               ],
               [
                [
                 "Jan",
                 "Mar",
                 "Mar"
                ]
               ],
               [
                [
                 "Jan",
                 "Mar",
                 "Mar"
                ]
               ],
               [
                [
                 "Jan",
                 "Mar",
                 "Mar"
                ]
               ],
               [
                [
                 "Jan",
                 "Mar",
                 "Mar"
                ]
               ],
               [
                [
                 "Jan",
                 "Mar",
                 "Mar"
                ]
               ],
               [
                [
                 "Jan",
                 "Mar",
                 "Mar"
                ]
               ],
               [
                [
                 "Jan",
                 "Mar",
                 "Mar"
                ]
               ],
               [
                [
                 "Jan",
                 "Mar",
                 "Mar"
                ]
               ],
               [
                [
                 "Jan",
                 "Mar",
                 "Mar"
                ]
               ],
               [
                [
                 "Jan",
                 "Mar",
                 "Mar"
                ]
               ],
               [
                [
                 "Jan",
                 "Mar",
                 "Mar"
                ]
               ],
               [
                [
                 "Jan",
                 "Mar",
                 "Mar"
                ]
               ],
               [
                [
                 "Jan",
                 "Mar",
                 "Mar"
                ]
               ],
               [
                [
                 "Jan",
                 "Mar",
                 "Mar"
                ]
               ],
               [
                [
                 "Jan",
                 "Mar",
                 "Mar"
                ]
               ],
               [
                [
                 "Jan",
                 "Mar",
                 "Mar"
                ]
               ],
               [
                [
                 "Jan",
                 "Mar",
                 "Mar"
                ]
               ]
              ],
              "y": [
               [
                5
               ],
               [
                6
               ],
               [
                12
               ],
               [
                8
               ],
               [
                4
               ],
               [
                6
               ],
               [
                7
               ],
               [
                7
               ],
               [
                6
               ],
               [
                7
               ],
               [
                3
               ],
               [
                6
               ],
               [
                -4
               ],
               [
                15
               ],
               [
                10
               ],
               [
                7
               ],
               [
                18
               ],
               [
                -6
               ],
               [
                1
               ],
               [
                9
               ],
               [
                4
               ],
               [
                11
               ],
               [
                7
               ],
               [
                -1
               ],
               [
                6
               ],
               [
                3
               ],
               [
                5.5
               ],
               [
                6.2
               ],
               [
                6.5
               ],
               [
                11.2
               ],
               [
                9
               ],
               [
                -1.3
               ],
               [
                7.6
               ]
              ]
             },
             {
              "scene.yaxis.title.text": "Mar"
             }
            ],
            "label": "Mar",
            "method": "update"
           },
           {
            "args": [
             {
              "customdata": [
               [
                [
                 "Jan",
                 "Apr",
                 "Mar"
                ]
               ],
               [
                [
                 "Jan",
                 "Apr",
                 "Mar"
                ]
               ],
               [
                [
                 "Jan",
                 "Apr",
                 "Mar"
                ]
               ],
               [
                [
                 "Jan",
                 "Apr",
                 "Mar"
                ]
               ],
               [
                [
                 "Jan",
                 "Apr",
                 "Mar"
                ]
               ],
               [
                [
                 "Jan",
                 "Apr",
                 "Mar"
                ]
               ],
               [
                [
                 "Jan",
                 "Apr",
                 "Mar"
                ]
               ],
               [
                [
                 "Jan",
                 "Apr",
                 "Mar"
                ]
               ],
               [
                [
                 "Jan",
                 "Apr",
                 "Mar"
                ]
               ],
               [
                [
                 "Jan",
                 "Apr",
                 "Mar"
                ]
               ],
               [
                [
                 "Jan",
                 "Apr",
                 "Mar"
                ]
               ],
               [
                [
                 "Jan",
                 "Apr",
                 "Mar"
                ]
               ],
               [
                [
                 "Jan",
                 "Apr",
                 "Mar"
                ]
               ],
               [
                [
                 "Jan",
                 "Apr",
                 "Mar"
                ]
               ],
               [
                [
                 "Jan",
                 "Apr",
                 "Mar"
                ]
               ],
               [
                [
                 "Jan",
                 "Apr",
                 "Mar"
                ]
               ],
               [
                [
                 "Jan",
                 "Apr",
                 "Mar"
                ]
               ],
               [
                [
                 "Jan",
                 "Apr",
                 "Mar"
                ]
               ],
               [
                [
                 "Jan",
                 "Apr",
                 "Mar"
                ]
               ],
               [
                [
                 "Jan",
                 "Apr",
                 "Mar"
                ]
               ],
               [
                [
                 "Jan",
                 "Apr",
                 "Mar"
                ]
               ],
               [
                [
                 "Jan",
                 "Apr",
                 "Mar"
                ]
               ],
               [
                [
                 "Jan",
                 "Apr",
                 "Mar"
                ]
               ],
               [
                [
                 "Jan",
                 "Apr",
                 "Mar"
                ]
               ],
               [
                [
                 "Jan",
                 "Apr",
                 "Mar"
                ]
               ],
               [
                [
                 "Jan",
                 "Apr",
                 "Mar"
                ]
               ],
               [
                [
                 "Jan",
                 "Apr",
                 "Mar"
                ]
               ],
               [
                [
                 "Jan",
                 "Apr",
                 "Mar"
                ]
               ],
               [
                [
                 "Jan",
                 "Apr",
                 "Mar"
                ]
               ],
               [
                [
                 "Jan",
                 "Apr",
                 "Mar"
                ]
               ],
               [
                [
                 "Jan",
                 "Apr",
                 "Mar"
                ]
               ],
               [
                [
                 "Jan",
                 "Apr",
                 "Mar"
                ]
               ],
               [
                [
                 "Jan",
                 "Apr",
                 "Mar"
                ]
               ]
              ],
              "y": [
               [
                8
               ],
               [
                12
               ],
               [
                16
               ],
               [
                13
               ],
               [
                10
               ],
               [
                10
               ],
               [
                11
               ],
               [
                11
               ],
               [
                12
               ],
               [
                13
               ],
               [
                8
               ],
               [
                8
               ],
               [
                3
               ],
               [
                17
               ],
               [
                13
               ],
               [
                11
               ],
               [
                21
               ],
               [
                6
               ],
               [
                5
               ],
               [
                13
               ],
               [
                11
               ],
               [
                14
               ],
               [
                12
               ],
               [
                6
               ],
               [
                12
               ],
               [
                9
               ],
               [
                11
               ],
               [
                8.1
               ],
               [
                10.8
               ],
               [
                12.9
               ],
               [
                12.2
               ],
               [
                5.1
               ],
               [
                12.1
               ]
              ]
             },
             {
              "scene.yaxis.title.text": "Apr"
             }
            ],
            "label": "Apr",
            "method": "update"
           },
           {
            "args": [
             {
              "customdata": [
               [
                [
                 "Jan",
                 "May",
                 "Mar"
                ]
               ],
               [
                [
                 "Jan",
                 "May",
                 "Mar"
                ]
               ],
               [
                [
                 "Jan",
                 "May",
                 "Mar"
                ]
               ],
               [
                [
                 "Jan",
                 "May",
                 "Mar"
                ]
               ],
               [
                [
                 "Jan",
                 "May",
                 "Mar"
                ]
               ],
               [
                [
                 "Jan",
                 "May",
                 "Mar"
                ]
               ],
               [
                [
                 "Jan",
                 "May",
                 "Mar"
                ]
               ],
               [
                [
                 "Jan",
                 "May",
                 "Mar"
                ]
               ],
               [
                [
                 "Jan",
                 "May",
                 "Mar"
                ]
               ],
               [
                [
                 "Jan",
                 "May",
                 "Mar"
                ]
               ],
               [
                [
                 "Jan",
                 "May",
                 "Mar"
                ]
               ],
               [
                [
                 "Jan",
                 "May",
                 "Mar"
                ]
               ],
               [
                [
                 "Jan",
                 "May",
                 "Mar"
                ]
               ],
               [
                [
                 "Jan",
                 "May",
                 "Mar"
                ]
               ],
               [
                [
                 "Jan",
                 "May",
                 "Mar"
                ]
               ],
               [
                [
                 "Jan",
                 "May",
                 "Mar"
                ]
               ],
               [
                [
                 "Jan",
                 "May",
                 "Mar"
                ]
               ],
               [
                [
                 "Jan",
                 "May",
                 "Mar"
                ]
               ],
               [
                [
                 "Jan",
                 "May",
                 "Mar"
                ]
               ],
               [
                [
                 "Jan",
                 "May",
                 "Mar"
                ]
               ],
               [
                [
                 "Jan",
                 "May",
                 "Mar"
                ]
               ],
               [
                [
                 "Jan",
                 "May",
                 "Mar"
                ]
               ],
               [
                [
                 "Jan",
                 "May",
                 "Mar"
                ]
               ],
               [
                [
                 "Jan",
                 "May",
                 "Mar"
                ]
               ],
               [
                [
                 "Jan",
                 "May",
                 "Mar"
                ]
               ],
               [
                [
                 "Jan",
                 "May",
                 "Mar"
                ]
               ],
               [
                [
                 "Jan",
                 "May",
                 "Mar"
                ]
               ],
               [
                [
                 "Jan",
                 "May",
                 "Mar"
                ]
               ],
               [
                [
                 "Jan",
                 "May",
                 "Mar"
                ]
               ],
               [
                [
                 "Jan",
                 "May",
                 "Mar"
                ]
               ],
               [
                [
                 "Jan",
                 "May",
                 "Mar"
                ]
               ],
               [
                [
                 "Jan",
                 "May",
                 "Mar"
                ]
               ],
               [
                [
                 "Jan",
                 "May",
                 "Mar"
                ]
               ]
              ],
              "y": [
               [
                12
               ],
               [
                17
               ],
               [
                21
               ],
               [
                17
               ],
               [
                14
               ],
               [
                13
               ],
               [
                14
               ],
               [
                13
               ],
               [
                17
               ],
               [
                17
               ],
               [
                13
               ],
               [
                11
               ],
               [
                10
               ],
               [
                19
               ],
               [
                17
               ],
               [
                13
               ],
               [
                23
               ],
               [
                14
               ],
               [
                11
               ],
               [
                16
               ],
               [
                15
               ],
               [
                18
               ],
               [
                16
               ],
               [
                11
               ],
               [
                15
               ],
               [
                16
               ],
               [
                16
               ],
               [
                10.8
               ],
               [
                15.8
               ],
               [
                16.7
               ],
               [
                17
               ],
               [
                11.3
               ],
               [
                17.3
               ]
              ]
             },
             {
              "scene.yaxis.title.text": "May"
             }
            ],
            "label": "May",
            "method": "update"
           },
           {
            "args": [
             {
              "customdata": [
               [
                [
                 "Jan",
                 "Jun",
                 "Mar"
                ]
               ],
               [
                [
                 "Jan",
                 "Jun",
                 "Mar"
                ]
               ],
               [
                [
                 "Jan",
                 "Jun",
                 "Mar"
                ]
               ],
               [
                [
                 "Jan",
                 "Jun",
                 "Mar"
                ]
               ],
               [
                [
                 "Jan",
                 "Jun",
                 "Mar"
                ]
               ],
               [
                [
                 "Jan",
                 "Jun",
                 "Mar"
                ]
               ],
               [
                [
                 "Jan",
                 "Jun",
                 "Mar"
                ]
               ],
               [
                [
                 "Jan",
                 "Jun",
                 "Mar"
                ]
               ],
               [
                [
                 "Jan",
                 "Jun",
                 "Mar"
                ]
               ],
               [
                [
                 "Jan",
                 "Jun",
                 "Mar"
                ]
               ],
               [
                [
                 "Jan",
                 "Jun",
                 "Mar"
                ]
               ],
               [
                [
                 "Jan",
                 "Jun",
                 "Mar"
                ]
               ],
               [
                [
                 "Jan",
                 "Jun",
                 "Mar"
                ]
               ],
               [
                [
                 "Jan",
                 "Jun",
                 "Mar"
                ]
               ],
               [
                [
                 "Jan",
                 "Jun",
                 "Mar"
                ]
               ],
               [
                [
                 "Jan",
                 "Jun",
                 "Mar"
                ]
               ],
               [
                [
                 "Jan",
                 "Jun",
                 "Mar"
                ]
               ],
               [
                [
                 "Jan",
                 "Jun",
                 "Mar"
                ]
               ],
               [
                [
                 "Jan",
                 "Jun",
                 "Mar"
                ]
               ],
               [
                [
                 "Jan",
                 "Jun",
                 "Mar"
                ]
               ],
               [
                [
                 "Jan",
                 "Jun",
                 "Mar"
                ]
               ],
               [
                [
                 "Jan",
                 "Jun",
                 "Mar"
                ]
               ],
               [
                [
                 "Jan",
                 "Jun",
                 "Mar"
                ]
               ],
               [
                [
                 "Jan",
                 "Jun",
                 "Mar"
                ]
               ],
               [
                [
                 "Jan",
                 "Jun",
                 "Mar"
                ]
               ],
               [
                [
                 "Jan",
                 "Jun",
                 "Mar"
                ]
               ],
               [
                [
                 "Jan",
                 "Jun",
                 "Mar"
                ]
               ],
               [
                [
                 "Jan",
                 "Jun",
                 "Mar"
                ]
               ],
               [
                [
                 "Jan",
                 "Jun",
                 "Mar"
                ]
               ],
               [
                [
                 "Jan",
                 "Jun",
                 "Mar"
                ]
               ],
               [
                [
                 "Jan",
                 "Jun",
                 "Mar"
                ]
               ],
               [
                [
                 "Jan",
                 "Jun",
                 "Mar"
                ]
               ],
               [
                [
                 "Jan",
                 "Jun",
                 "Mar"
                ]
               ]
              ],
              "y": [
               [
                15
               ],
               [
                19
               ],
               [
                26
               ],
               [
                22
               ],
               [
                18
               ],
               [
                17
               ],
               [
                18
               ],
               [
                18
               ],
               [
                21
               ],
               [
                21
               ],
               [
                17
               ],
               [
                14
               ],
               [
                15
               ],
               [
                23
               ],
               [
                20
               ],
               [
                17
               ],
               [
                27
               ],
               [
                15
               ],
               [
                16
               ],
               [
                19
               ],
               [
                19
               ],
               [
                23
               ],
               [
                19
               ],
               [
                16
               ],
               [
                11
               ],
               [
                18
               ],
               [
                19.1
               ],
               [
                13.5
               ],
               [
                19.1
               ],
               [
                22.2
               ],
               [
                20.8
               ],
               [
                15.7
               ],
               [
                21.5
               ]
              ]
             },
             {
              "scene.yaxis.title.text": "Jun"
             }
            ],
            "label": "Jun",
            "method": "update"
           },
           {
            "args": [
             {
              "customdata": [
               [
                [
                 "Jan",
                 "Jul",
                 "Mar"
                ]
               ],
               [
                [
                 "Jan",
                 "Jul",
                 "Mar"
                ]
               ],
               [
                [
                 "Jan",
                 "Jul",
                 "Mar"
                ]
               ],
               [
                [
                 "Jan",
                 "Jul",
                 "Mar"
                ]
               ],
               [
                [
                 "Jan",
                 "Jul",
                 "Mar"
                ]
               ],
               [
                [
                 "Jan",
                 "Jul",
                 "Mar"
                ]
               ],
               [
                [
                 "Jan",
                 "Jul",
                 "Mar"
                ]
               ],
               [
                [
                 "Jan",
                 "Jul",
                 "Mar"
                ]
               ],
               [
                [
                 "Jan",
                 "Jul",
                 "Mar"
                ]
               ],
               [
                [
                 "Jan",
                 "Jul",
                 "Mar"
                ]
               ],
               [
                [
                 "Jan",
                 "Jul",
                 "Mar"
                ]
               ],
               [
                [
                 "Jan",
                 "Jul",
                 "Mar"
                ]
               ],
               [
                [
                 "Jan",
                 "Jul",
                 "Mar"
                ]
               ],
               [
                [
                 "Jan",
                 "Jul",
                 "Mar"
                ]
               ],
               [
                [
                 "Jan",
                 "Jul",
                 "Mar"
                ]
               ],
               [
                [
                 "Jan",
                 "Jul",
                 "Mar"
                ]
               ],
               [
                [
                 "Jan",
                 "Jul",
                 "Mar"
                ]
               ],
               [
                [
                 "Jan",
                 "Jul",
                 "Mar"
                ]
               ],
               [
                [
                 "Jan",
                 "Jul",
                 "Mar"
                ]
               ],
               [
                [
                 "Jan",
                 "Jul",
                 "Mar"
                ]
               ],
               [
                [
                 "Jan",
                 "Jul",
                 "Mar"
                ]
               ],
               [
                [
                 "Jan",
                 "Jul",
                 "Mar"
                ]
               ],
               [
                [
                 "Jan",
                 "Jul",
                 "Mar"
                ]
               ],
               [
                [
                 "Jan",
                 "Jul",
                 "Mar"
                ]
               ],
               [
                [
                 "Jan",
                 "Jul",
                 "Mar"
                ]
               ],
               [
                [
                 "Jan",
                 "Jul",
                 "Mar"
                ]
               ],
               [
                [
                 "Jan",
                 "Jul",
                 "Mar"
                ]
               ],
               [
                [
                 "Jan",
                 "Jul",
                 "Mar"
                ]
               ],
               [
                [
                 "Jan",
                 "Jul",
                 "Mar"
                ]
               ],
               [
                [
                 "Jan",
                 "Jul",
                 "Mar"
                ]
               ],
               [
                [
                 "Jan",
                 "Jul",
                 "Mar"
                ]
               ],
               [
                [
                 "Jan",
                 "Jul",
                 "Mar"
                ]
               ],
               [
                [
                 "Jan",
                 "Jul",
                 "Mar"
                ]
               ]
              ],
              "y": [
               [
                17
               ],
               [
                23
               ],
               [
                29
               ],
               [
                23
               ],
               [
                21
               ],
               [
                18
               ],
               [
                20
               ],
               [
                19
               ],
               [
                23
               ],
               [
                23
               ],
               [
                18
               ],
               [
                16
               ],
               [
                18
               ],
               [
                25
               ],
               [
                22
               ],
               [
                19
               ],
               [
                29
               ],
               [
                18
               ],
               [
                17
               ],
               [
                22
               ],
               [
                21
               ],
               [
                25
               ],
               [
                22
               ],
               [
                19
               ],
               [
                15
               ],
               [
                21
               ],
               [
                21.3
               ],
               [
                15.3
               ],
               [
                21.3
               ],
               [
                25.6
               ],
               [
                23.6
               ],
               [
                18.8
               ],
               [
                23.8
               ]
              ]
             },
             {
              "scene.yaxis.title.text": "Jul"
             }
            ],
            "label": "Jul",
            "method": "update"
           },
           {
            "args": [
             {
              "customdata": [
               [
                [
                 "Jan",
                 "Aug",
                 "Mar"
                ]
               ],
               [
                [
                 "Jan",
                 "Aug",
                 "Mar"
                ]
               ],
               [
                [
                 "Jan",
                 "Aug",
                 "Mar"
                ]
               ],
               [
                [
                 "Jan",
                 "Aug",
                 "Mar"
                ]
               ],
               [
                [
                 "Jan",
                 "Aug",
                 "Mar"
                ]
               ],
               [
                [
                 "Jan",
                 "Aug",
                 "Mar"
                ]
               ],
               [
                [
                 "Jan",
                 "Aug",
                 "Mar"
                ]
               ],
               [
                [
                 "Jan",
                 "Aug",
                 "Mar"
                ]
               ],
               [
                [
                 "Jan",
                 "Aug",
                 "Mar"
                ]
               ],
               [
                [
                 "Jan",
                 "Aug",
                 "Mar"
                ]
               ],
               [
                [
                 "Jan",
                 "Aug",
                 "Mar"
                ]
               ],
               [
                [
                 "Jan",
                 "Aug",
                 "Mar"
                ]
               ],
               [
                [
                 "Jan",
                 "Aug",
                 "Mar"
                ]
               ],
               [
                [
                 "Jan",
                 "Aug",
                 "Mar"
                ]
               ],
               [
                [
                 "Jan",
                 "Aug",
                 "Mar"
                ]
               ],
               [
                [
                 "Jan",
                 "Aug",
                 "Mar"
                ]
               ],
               [
                [
                 "Jan",
                 "Aug",
                 "Mar"
                ]
               ],
               [
                [
                 "Jan",
                 "Aug",
                 "Mar"
                ]
               ],
               [
                [
                 "Jan",
                 "Aug",
                 "Mar"
                ]
               ],
               [
                [
                 "Jan",
                 "Aug",
                 "Mar"
                ]
               ],
               [
                [
                 "Jan",
                 "Aug",
                 "Mar"
                ]
               ],
               [
                [
                 "Jan",
                 "Aug",
                 "Mar"
                ]
               ],
               [
                [
                 "Jan",
                 "Aug",
                 "Mar"
                ]
               ],
               [
                [
                 "Jan",
                 "Aug",
                 "Mar"
                ]
               ],
               [
                [
                 "Jan",
                 "Aug",
                 "Mar"
                ]
               ],
               [
                [
                 "Jan",
                 "Aug",
                 "Mar"
                ]
               ],
               [
                [
                 "Jan",
                 "Aug",
                 "Mar"
                ]
               ],
               [
                [
                 "Jan",
                 "Aug",
                 "Mar"
                ]
               ],
               [
                [
                 "Jan",
                 "Aug",
                 "Mar"
                ]
               ],
               [
                [
                 "Jan",
                 "Aug",
                 "Mar"
                ]
               ],
               [
                [
                 "Jan",
                 "Aug",
                 "Mar"
                ]
               ],
               [
                [
                 "Jan",
                 "Aug",
                 "Mar"
                ]
               ],
               [
                [
                 "Jan",
                 "Aug",
                 "Mar"
                ]
               ]
              ],
              "y": [
               [
                17
               ],
               [
                22
               ],
               [
                28
               ],
               [
                23
               ],
               [
                19
               ],
               [
                19
               ],
               [
                16
               ],
               [
                18
               ],
               [
                23
               ],
               [
                23
               ],
               [
                18
               ],
               [
                14
               ],
               [
                16
               ],
               [
                24
               ],
               [
                21
               ],
               [
                18
               ],
               [
                30
               ],
               [
                17
               ],
               [
                16
               ],
               [
                21
               ],
               [
                20
               ],
               [
                25
               ],
               [
                21
               ],
               [
                17
               ],
               [
                21
               ],
               [
                19
               ],
               [
                20.7
               ],
               [
                15.2
               ],
               [
                20.6
               ],
               [
                25.1
               ],
               [
                23
               ],
               [
                16.9
               ],
               [
                23.8
               ]
              ]
             },
             {
              "scene.yaxis.title.text": "Aug"
             }
            ],
            "label": "Aug",
            "method": "update"
           },
           {
            "args": [
             {
              "customdata": [
               [
                [
                 "Jan",
                 "Sep",
                 "Mar"
                ]
               ],
               [
                [
                 "Jan",
                 "Sep",
                 "Mar"
                ]
               ],
               [
                [
                 "Jan",
                 "Sep",
                 "Mar"
                ]
               ],
               [
                [
                 "Jan",
                 "Sep",
                 "Mar"
                ]
               ],
               [
                [
                 "Jan",
                 "Sep",
                 "Mar"
                ]
               ],
               [
                [
                 "Jan",
                 "Sep",
                 "Mar"
                ]
               ],
               [
                [
                 "Jan",
                 "Sep",
                 "Mar"
                ]
               ],
               [
                [
                 "Jan",
                 "Sep",
                 "Mar"
                ]
               ],
               [
                [
                 "Jan",
                 "Sep",
                 "Mar"
                ]
               ],
               [
                [
                 "Jan",
                 "Sep",
                 "Mar"
                ]
               ],
               [
                [
                 "Jan",
                 "Sep",
                 "Mar"
                ]
               ],
               [
                [
                 "Jan",
                 "Sep",
                 "Mar"
                ]
               ],
               [
                [
                 "Jan",
                 "Sep",
                 "Mar"
                ]
               ],
               [
                [
                 "Jan",
                 "Sep",
                 "Mar"
                ]
               ],
               [
                [
                 "Jan",
                 "Sep",
                 "Mar"
                ]
               ],
               [
                [
                 "Jan",
                 "Sep",
                 "Mar"
                ]
               ],
               [
                [
                 "Jan",
                 "Sep",
                 "Mar"
                ]
               ],
               [
                [
                 "Jan",
                 "Sep",
                 "Mar"
                ]
               ],
               [
                [
                 "Jan",
                 "Sep",
                 "Mar"
                ]
               ],
               [
                [
                 "Jan",
                 "Sep",
                 "Mar"
                ]
               ],
               [
                [
                 "Jan",
                 "Sep",
                 "Mar"
                ]
               ],
               [
                [
                 "Jan",
                 "Sep",
                 "Mar"
                ]
               ],
               [
                [
                 "Jan",
                 "Sep",
                 "Mar"
                ]
               ],
               [
                [
                 "Jan",
                 "Sep",
                 "Mar"
                ]
               ],
               [
                [
                 "Jan",
                 "Sep",
                 "Mar"
                ]
               ],
               [
                [
                 "Jan",
                 "Sep",
                 "Mar"
                ]
               ],
               [
                [
                 "Jan",
                 "Sep",
                 "Mar"
                ]
               ],
               [
                [
                 "Jan",
                 "Sep",
                 "Mar"
                ]
               ],
               [
                [
                 "Jan",
                 "Sep",
                 "Mar"
                ]
               ],
               [
                [
                 "Jan",
                 "Sep",
                 "Mar"
                ]
               ],
               [
                [
                 "Jan",
                 "Sep",
                 "Mar"
                ]
               ],
               [
                [
                 "Jan",
                 "Sep",
                 "Mar"
                ]
               ],
               [
                [
                 "Jan",
                 "Sep",
                 "Mar"
                ]
               ]
              ],
              "y": [
               [
                15
               ],
               [
                18
               ],
               [
                24
               ],
               [
                19
               ],
               [
                16
               ],
               [
                15
               ],
               [
                16
               ],
               [
                17
               ],
               [
                18
               ],
               [
                18
               ],
               [
                14
               ],
               [
                12
               ],
               [
                11
               ],
               [
                23
               ],
               [
                19
               ],
               [
                15
               ],
               [
                27
               ],
               [
                12
               ],
               [
                11
               ],
               [
                18
               ],
               [
                16
               ],
               [
                22
               ],
               [
                17
               ],
               [
                12
               ],
               [
                17
               ],
               [
                16
               ],
               [
                15.9
               ],
               [
                13
               ],
               [
                16
               ],
               [
                20.9
               ],
               [
                19.2
               ],
               [
                11.6
               ],
               [
                18.8
               ]
              ]
             },
             {
              "scene.yaxis.title.text": "Sep"
             }
            ],
            "label": "Sep",
            "method": "update"
           },
           {
            "args": [
             {
              "customdata": [
               [
                [
                 "Jan",
                 "Oct",
                 "Mar"
                ]
               ],
               [
                [
                 "Jan",
                 "Oct",
                 "Mar"
                ]
               ],
               [
                [
                 "Jan",
                 "Oct",
                 "Mar"
                ]
               ],
               [
                [
                 "Jan",
                 "Oct",
                 "Mar"
                ]
               ],
               [
                [
                 "Jan",
                 "Oct",
                 "Mar"
                ]
               ],
               [
                [
                 "Jan",
                 "Oct",
                 "Mar"
                ]
               ],
               [
                [
                 "Jan",
                 "Oct",
                 "Mar"
                ]
               ],
               [
                [
                 "Jan",
                 "Oct",
                 "Mar"
                ]
               ],
               [
                [
                 "Jan",
                 "Oct",
                 "Mar"
                ]
               ],
               [
                [
                 "Jan",
                 "Oct",
                 "Mar"
                ]
               ],
               [
                [
                 "Jan",
                 "Oct",
                 "Mar"
                ]
               ],
               [
                [
                 "Jan",
                 "Oct",
                 "Mar"
                ]
               ],
               [
                [
                 "Jan",
                 "Oct",
                 "Mar"
                ]
               ],
               [
                [
                 "Jan",
                 "Oct",
                 "Mar"
                ]
               ],
               [
                [
                 "Jan",
                 "Oct",
                 "Mar"
                ]
               ],
               [
                [
                 "Jan",
                 "Oct",
                 "Mar"
                ]
               ],
               [
                [
                 "Jan",
                 "Oct",
                 "Mar"
                ]
               ],
               [
                [
                 "Jan",
                 "Oct",
                 "Mar"
                ]
               ],
               [
                [
                 "Jan",
                 "Oct",
                 "Mar"
                ]
               ],
               [
                [
                 "Jan",
                 "Oct",
                 "Mar"
                ]
               ],
               [
                [
                 "Jan",
                 "Oct",
                 "Mar"
                ]
               ],
               [
                [
                 "Jan",
                 "Oct",
                 "Mar"
                ]
               ],
               [
                [
                 "Jan",
                 "Oct",
                 "Mar"
                ]
               ],
               [
                [
                 "Jan",
                 "Oct",
                 "Mar"
                ]
               ],
               [
                [
                 "Jan",
                 "Oct",
                 "Mar"
                ]
               ],
               [
                [
                 "Jan",
                 "Oct",
                 "Mar"
                ]
               ],
               [
                [
                 "Jan",
                 "Oct",
                 "Mar"
                ]
               ],
               [
                [
                 "Jan",
                 "Oct",
                 "Mar"
                ]
               ],
               [
                [
                 "Jan",
                 "Oct",
                 "Mar"
                ]
               ],
               [
                [
                 "Jan",
                 "Oct",
                 "Mar"
                ]
               ],
               [
                [
                 "Jan",
                 "Oct",
                 "Mar"
                ]
               ],
               [
                [
                 "Jan",
                 "Oct",
                 "Mar"
                ]
               ],
               [
                [
                 "Jan",
                 "Oct",
                 "Mar"
                ]
               ]
              ],
              "y": [
               [
                11
               ],
               [
                14
               ],
               [
                20
               ],
               [
                14
               ],
               [
                10
               ],
               [
                10
               ],
               [
                11
               ],
               [
                12
               ],
               [
                13
               ],
               [
                13
               ],
               [
                9
               ],
               [
                9
               ],
               [
                4
               ],
               [
                19
               ],
               [
                15
               ],
               [
                9
               ],
               [
                23
               ],
               [
                6
               ],
               [
                7
               ],
               [
                13
               ],
               [
                10
               ],
               [
                17
               ],
               [
                12
               ],
               [
                7
               ],
               [
                11
               ],
               [
                10
               ],
               [
                10.4
               ],
               [
                9.8
               ],
               [
                11.2
               ],
               [
                15.1
               ],
               [
                13.4
               ],
               [
                6.2
               ],
               [
                13.1
               ]
              ]
             },
             {
              "scene.yaxis.title.text": "Oct"
             }
            ],
            "label": "Oct",
            "method": "update"
           },
           {
            "args": [
             {
              "customdata": [
               [
                [
                 "Jan",
                 "Nov",
                 "Mar"
                ]
               ],
               [
                [
                 "Jan",
                 "Nov",
                 "Mar"
                ]
               ],
               [
                [
                 "Jan",
                 "Nov",
                 "Mar"
                ]
               ],
               [
                [
                 "Jan",
                 "Nov",
                 "Mar"
                ]
               ],
               [
                [
                 "Jan",
                 "Nov",
                 "Mar"
                ]
               ],
               [
                [
                 "Jan",
                 "Nov",
                 "Mar"
                ]
               ],
               [
                [
                 "Jan",
                 "Nov",
                 "Mar"
                ]
               ],
               [
                [
                 "Jan",
                 "Nov",
                 "Mar"
                ]
               ],
               [
                [
                 "Jan",
                 "Nov",
                 "Mar"
                ]
               ],
               [
                [
                 "Jan",
                 "Nov",
                 "Mar"
                ]
               ],
               [
                [
                 "Jan",
                 "Nov",
                 "Mar"
                ]
               ],
               [
                [
                 "Jan",
                 "Nov",
                 "Mar"
                ]
               ],
               [
                [
                 "Jan",
                 "Nov",
                 "Mar"
                ]
               ],
               [
                [
                 "Jan",
                 "Nov",
                 "Mar"
                ]
               ],
               [
                [
                 "Jan",
                 "Nov",
                 "Mar"
                ]
               ],
               [
                [
                 "Jan",
                 "Nov",
                 "Mar"
                ]
               ],
               [
                [
                 "Jan",
                 "Nov",
                 "Mar"
                ]
               ],
               [
                [
                 "Jan",
                 "Nov",
                 "Mar"
                ]
               ],
               [
                [
                 "Jan",
                 "Nov",
                 "Mar"
                ]
               ],
               [
                [
                 "Jan",
                 "Nov",
                 "Mar"
                ]
               ],
               [
                [
                 "Jan",
                 "Nov",
                 "Mar"
                ]
               ],
               [
                [
                 "Jan",
                 "Nov",
                 "Mar"
                ]
               ],
               [
                [
                 "Jan",
                 "Nov",
                 "Mar"
                ]
               ],
               [
                [
                 "Jan",
                 "Nov",
                 "Mar"
                ]
               ],
               [
                [
                 "Jan",
                 "Nov",
                 "Mar"
                ]
               ],
               [
                [
                 "Jan",
                 "Nov",
                 "Mar"
                ]
               ],
               [
                [
                 "Jan",
                 "Nov",
                 "Mar"
                ]
               ],
               [
                [
                 "Jan",
                 "Nov",
                 "Mar"
                ]
               ],
               [
                [
                 "Jan",
                 "Nov",
                 "Mar"
                ]
               ],
               [
                [
                 "Jan",
                 "Nov",
                 "Mar"
                ]
               ],
               [
                [
                 "Jan",
                 "Nov",
                 "Mar"
                ]
               ],
               [
                [
                 "Jan",
                 "Nov",
                 "Mar"
                ]
               ],
               [
                [
                 "Jan",
                 "Nov",
                 "Mar"
                ]
               ]
              ],
              "y": [
               [
                6
               ],
               [
                8
               ],
               [
                15
               ],
               [
                8
               ],
               [
                4
               ],
               [
                4
               ],
               [
                7
               ],
               [
                7
               ],
               [
                7
               ],
               [
                6
               ],
               [
                4
               ],
               [
                6
               ],
               [
                -1
               ],
               [
                14
               ],
               [
                10
               ],
               [
                4
               ],
               [
                20
               ],
               [
                -2
               ],
               [
                2
               ],
               [
                7
               ],
               [
                4
               ],
               [
                12
               ],
               [
                7
               ],
               [
                2
               ],
               [
                6
               ],
               [
                4
               ],
               [
                4.9
               ],
               [
                6.7
               ],
               [
                5.6
               ],
               [
                9.9
               ],
               [
                7.2
               ],
               [
                0.1
               ],
               [
                6.5
               ]
              ]
             },
             {
              "scene.yaxis.title.text": "Nov"
             }
            ],
            "label": "Nov",
            "method": "update"
           },
           {
            "args": [
             {
              "customdata": [
               [
                [
                 "Jan",
                 "Dec",
                 "Mar"
                ]
               ],
               [
                [
                 "Jan",
                 "Dec",
                 "Mar"
                ]
               ],
               [
                [
                 "Jan",
                 "Dec",
                 "Mar"
                ]
               ],
               [
                [
                 "Jan",
                 "Dec",
                 "Mar"
                ]
               ],
               [
                [
                 "Jan",
                 "Dec",
                 "Mar"
                ]
               ],
               [
                [
                 "Jan",
                 "Dec",
                 "Mar"
                ]
               ],
               [
                [
                 "Jan",
                 "Dec",
                 "Mar"
                ]
               ],
               [
                [
                 "Jan",
                 "Dec",
                 "Mar"
                ]
               ],
               [
                [
                 "Jan",
                 "Dec",
                 "Mar"
                ]
               ],
               [
                [
                 "Jan",
                 "Dec",
                 "Mar"
                ]
               ],
               [
                [
                 "Jan",
                 "Dec",
                 "Mar"
                ]
               ],
               [
                [
                 "Jan",
                 "Dec",
                 "Mar"
                ]
               ],
               [
                [
                 "Jan",
                 "Dec",
                 "Mar"
                ]
               ],
               [
                [
                 "Jan",
                 "Dec",
                 "Mar"
                ]
               ],
               [
                [
                 "Jan",
                 "Dec",
                 "Mar"
                ]
               ],
               [
                [
                 "Jan",
                 "Dec",
                 "Mar"
                ]
               ],
               [
                [
                 "Jan",
                 "Dec",
                 "Mar"
                ]
               ],
               [
                [
                 "Jan",
                 "Dec",
                 "Mar"
                ]
               ],
               [
                [
                 "Jan",
                 "Dec",
                 "Mar"
                ]
               ],
               [
                [
                 "Jan",
                 "Dec",
                 "Mar"
                ]
               ],
               [
                [
                 "Jan",
                 "Dec",
                 "Mar"
                ]
               ],
               [
                [
                 "Jan",
                 "Dec",
                 "Mar"
                ]
               ],
               [
                [
                 "Jan",
                 "Dec",
                 "Mar"
                ]
               ],
               [
                [
                 "Jan",
                 "Dec",
                 "Mar"
                ]
               ],
               [
                [
                 "Jan",
                 "Dec",
                 "Mar"
                ]
               ],
               [
                [
                 "Jan",
                 "Dec",
                 "Mar"
                ]
               ],
               [
                [
                 "Jan",
                 "Dec",
                 "Mar"
                ]
               ],
               [
                [
                 "Jan",
                 "Dec",
                 "Mar"
                ]
               ],
               [
                [
                 "Jan",
                 "Dec",
                 "Mar"
                ]
               ],
               [
                [
                 "Jan",
                 "Dec",
                 "Mar"
                ]
               ],
               [
                [
                 "Jan",
                 "Dec",
                 "Mar"
                ]
               ],
               [
                [
                 "Jan",
                 "Dec",
                 "Mar"
                ]
               ],
               [
                [
                 "Jan",
                 "Dec",
                 "Mar"
                ]
               ]
              ],
              "y": [
               [
                3
               ],
               [
                2
               ],
               [
                11
               ],
               [
                6
               ],
               [
                0
               ],
               [
                1
               ],
               [
                2
               ],
               [
                3
               ],
               [
                1
               ],
               [
                1
               ],
               [
                2
               ],
               [
                4
               ],
               [
                -6
               ],
               [
                11
               ],
               [
                8
               ],
               [
                2
               ],
               [
                17
               ],
               [
                -10
               ],
               [
                3
               ],
               [
                4
               ],
               [
                0
               ],
               [
                9
               ],
               [
                1
               ],
               [
                -1
               ],
               [
                2
               ],
               [
                2
               ],
               [
                0.7
               ],
               [
                4.2
               ],
               [
                1.2
               ],
               [
                6.9
               ],
               [
                3.3
               ],
               [
                -3.7
               ],
               [
                1.7
               ]
              ]
             },
             {
              "scene.yaxis.title.text": "Dec"
             }
            ],
            "label": "Dec",
            "method": "update"
           }
          ],
          "direction": "down",
          "pad": {
           "b": 2,
           "l": 2,
           "r": 2,
           "t": 4
          },
          "showactive": true,
          "type": "dropdown",
          "x": 0.39,
          "xanchor": "center",
          "y": 1.12,
          "yanchor": "top"
         },
         {
          "buttons": [
           {
            "args": [
             {
              "customdata": [
               [
                [
                 "Jan",
                 "Feb",
                 "Jan"
                ]
               ],
               [
                [
                 "Jan",
                 "Feb",
                 "Jan"
                ]
               ],
               [
                [
                 "Jan",
                 "Feb",
                 "Jan"
                ]
               ],
               [
                [
                 "Jan",
                 "Feb",
                 "Jan"
                ]
               ],
               [
                [
                 "Jan",
                 "Feb",
                 "Jan"
                ]
               ],
               [
                [
                 "Jan",
                 "Feb",
                 "Jan"
                ]
               ],
               [
                [
                 "Jan",
                 "Feb",
                 "Jan"
                ]
               ],
               [
                [
                 "Jan",
                 "Feb",
                 "Jan"
                ]
               ],
               [
                [
                 "Jan",
                 "Feb",
                 "Jan"
                ]
               ],
               [
                [
                 "Jan",
                 "Feb",
                 "Jan"
                ]
               ],
               [
                [
                 "Jan",
                 "Feb",
                 "Jan"
                ]
               ],
               [
                [
                 "Jan",
                 "Feb",
                 "Jan"
                ]
               ],
               [
                [
                 "Jan",
                 "Feb",
                 "Jan"
                ]
               ],
               [
                [
                 "Jan",
                 "Feb",
                 "Jan"
                ]
               ],
               [
                [
                 "Jan",
                 "Feb",
                 "Jan"
                ]
               ],
               [
                [
                 "Jan",
                 "Feb",
                 "Jan"
                ]
               ],
               [
                [
                 "Jan",
                 "Feb",
                 "Jan"
                ]
               ],
               [
                [
                 "Jan",
                 "Feb",
                 "Jan"
                ]
               ],
               [
                [
                 "Jan",
                 "Feb",
                 "Jan"
                ]
               ],
               [
                [
                 "Jan",
                 "Feb",
                 "Jan"
                ]
               ],
               [
                [
                 "Jan",
                 "Feb",
                 "Jan"
                ]
               ],
               [
                [
                 "Jan",
                 "Feb",
                 "Jan"
                ]
               ],
               [
                [
                 "Jan",
                 "Feb",
                 "Jan"
                ]
               ],
               [
                [
                 "Jan",
                 "Feb",
                 "Jan"
                ]
               ],
               [
                [
                 "Jan",
                 "Feb",
                 "Jan"
                ]
               ],
               [
                [
                 "Jan",
                 "Feb",
                 "Jan"
                ]
               ],
               [
                [
                 "Jan",
                 "Feb",
                 "Jan"
                ]
               ],
               [
                [
                 "Jan",
                 "Feb",
                 "Jan"
                ]
               ],
               [
                [
                 "Jan",
                 "Feb",
                 "Jan"
                ]
               ],
               [
                [
                 "Jan",
                 "Feb",
                 "Jan"
                ]
               ],
               [
                [
                 "Jan",
                 "Feb",
                 "Jan"
                ]
               ],
               [
                [
                 "Jan",
                 "Feb",
                 "Jan"
                ]
               ],
               [
                [
                 "Jan",
                 "Feb",
                 "Jan"
                ]
               ]
              ],
              "z": [
               [
                2
               ],
               [
                1
               ],
               [
                9
               ],
               [
                1
               ],
               [
                -2
               ],
               [
                1
               ],
               [
                1
               ],
               [
                1
               ],
               [
                -4
               ],
               [
                -2
               ],
               [
                -1
               ],
               [
                3
               ],
               [
                -9
               ],
               [
                11
               ],
               [
                7
               ],
               [
                0
               ],
               [
                17
               ],
               [
                -14
               ],
               [
                -5
               ],
               [
                4
               ],
               [
                -2
               ],
               [
                7
               ],
               [
                -1
               ],
               [
                -4
               ],
               [
                -1
               ],
               [
                -5
               ],
               [
                -0.4
               ],
               [
                4.2
               ],
               [
                0.3
               ],
               [
                6.3
               ],
               [
                2.5
               ],
               [
                -5.5
               ],
               [
                0.1
               ]
              ]
             },
             {
              "scene.zaxis.title.text": "Jan"
             }
            ],
            "label": "Jan",
            "method": "update"
           },
           {
            "args": [
             {
              "customdata": [
               [
                [
                 "Jan",
                 "Feb",
                 "Feb"
                ]
               ],
               [
                [
                 "Jan",
                 "Feb",
                 "Feb"
                ]
               ],
               [
                [
                 "Jan",
                 "Feb",
                 "Feb"
                ]
               ],
               [
                [
                 "Jan",
                 "Feb",
                 "Feb"
                ]
               ],
               [
                [
                 "Jan",
                 "Feb",
                 "Feb"
                ]
               ],
               [
                [
                 "Jan",
                 "Feb",
                 "Feb"
                ]
               ],
               [
                [
                 "Jan",
                 "Feb",
                 "Feb"
                ]
               ],
               [
                [
                 "Jan",
                 "Feb",
                 "Feb"
                ]
               ],
               [
                [
                 "Jan",
                 "Feb",
                 "Feb"
                ]
               ],
               [
                [
                 "Jan",
                 "Feb",
                 "Feb"
                ]
               ],
               [
                [
                 "Jan",
                 "Feb",
                 "Feb"
                ]
               ],
               [
                [
                 "Jan",
                 "Feb",
                 "Feb"
                ]
               ],
               [
                [
                 "Jan",
                 "Feb",
                 "Feb"
                ]
               ],
               [
                [
                 "Jan",
                 "Feb",
                 "Feb"
                ]
               ],
               [
                [
                 "Jan",
                 "Feb",
                 "Feb"
                ]
               ],
               [
                [
                 "Jan",
                 "Feb",
                 "Feb"
                ]
               ],
               [
                [
                 "Jan",
                 "Feb",
                 "Feb"
                ]
               ],
               [
                [
                 "Jan",
                 "Feb",
                 "Feb"
                ]
               ],
               [
                [
                 "Jan",
                 "Feb",
                 "Feb"
                ]
               ],
               [
                [
                 "Jan",
                 "Feb",
                 "Feb"
                ]
               ],
               [
                [
                 "Jan",
                 "Feb",
                 "Feb"
                ]
               ],
               [
                [
                 "Jan",
                 "Feb",
                 "Feb"
                ]
               ],
               [
                [
                 "Jan",
                 "Feb",
                 "Feb"
                ]
               ],
               [
                [
                 "Jan",
                 "Feb",
                 "Feb"
                ]
               ],
               [
                [
                 "Jan",
                 "Feb",
                 "Feb"
                ]
               ],
               [
                [
                 "Jan",
                 "Feb",
                 "Feb"
                ]
               ],
               [
                [
                 "Jan",
                 "Feb",
                 "Feb"
                ]
               ],
               [
                [
                 "Jan",
                 "Feb",
                 "Feb"
                ]
               ],
               [
                [
                 "Jan",
                 "Feb",
                 "Feb"
                ]
               ],
               [
                [
                 "Jan",
                 "Feb",
                 "Feb"
                ]
               ],
               [
                [
                 "Jan",
                 "Feb",
                 "Feb"
                ]
               ],
               [
                [
                 "Jan",
                 "Feb",
                 "Feb"
                ]
               ],
               [
                [
                 "Jan",
                 "Feb",
                 "Feb"
                ]
               ]
              ],
              "z": [
               [
                2
               ],
               [
                0
               ],
               [
                10
               ],
               [
                3
               ],
               [
                1
               ],
               [
                1
               ],
               [
                2
               ],
               [
                4
               ],
               [
                -2
               ],
               [
                1
               ],
               [
                0
               ],
               [
                4
               ],
               [
                -8
               ],
               [
                12
               ],
               [
                8
               ],
               [
                1
               ],
               [
                17
               ],
               [
                -12
               ],
               [
                -4
               ],
               [
                5
               ],
               [
                -1
               ],
               [
                8
               ],
               [
                1
               ],
               [
                -4
               ],
               [
                1
               ],
               [
                -4
               ],
               [
                1.2
               ],
               [
                4.5
               ],
               [
                1.9
               ],
               [
                7.9
               ],
               [
                4.7
               ],
               [
                -5.8
               ],
               [
                2.6
               ]
              ]
             },
             {
              "scene.zaxis.title.text": "Feb"
             }
            ],
            "label": "Feb",
            "method": "update"
           },
           {
            "args": [
             {
              "customdata": [
               [
                [
                 "Jan",
                 "Feb",
                 "Mar"
                ]
               ],
               [
                [
                 "Jan",
                 "Feb",
                 "Mar"
                ]
               ],
               [
                [
                 "Jan",
                 "Feb",
                 "Mar"
                ]
               ],
               [
                [
                 "Jan",
                 "Feb",
                 "Mar"
                ]
               ],
               [
                [
                 "Jan",
                 "Feb",
                 "Mar"
                ]
               ],
               [
                [
                 "Jan",
                 "Feb",
                 "Mar"
                ]
               ],
               [
                [
                 "Jan",
                 "Feb",
                 "Mar"
                ]
               ],
               [
                [
                 "Jan",
                 "Feb",
                 "Mar"
                ]
               ],
               [
                [
                 "Jan",
                 "Feb",
                 "Mar"
                ]
               ],
               [
                [
                 "Jan",
                 "Feb",
                 "Mar"
                ]
               ],
               [
                [
                 "Jan",
                 "Feb",
                 "Mar"
                ]
               ],
               [
                [
                 "Jan",
                 "Feb",
                 "Mar"
                ]
               ],
               [
                [
                 "Jan",
                 "Feb",
                 "Mar"
                ]
               ],
               [
                [
                 "Jan",
                 "Feb",
                 "Mar"
                ]
               ],
               [
                [
                 "Jan",
                 "Feb",
                 "Mar"
                ]
               ],
               [
                [
                 "Jan",
                 "Feb",
                 "Mar"
                ]
               ],
               [
                [
                 "Jan",
                 "Feb",
                 "Mar"
                ]
               ],
               [
                [
                 "Jan",
                 "Feb",
                 "Mar"
                ]
               ],
               [
                [
                 "Jan",
                 "Feb",
                 "Mar"
                ]
               ],
               [
                [
                 "Jan",
                 "Feb",
                 "Mar"
                ]
               ],
               [
                [
                 "Jan",
                 "Feb",
                 "Mar"
                ]
               ],
               [
                [
                 "Jan",
                 "Feb",
                 "Mar"
                ]
               ],
               [
                [
                 "Jan",
                 "Feb",
                 "Mar"
                ]
               ],
               [
                [
                 "Jan",
                 "Feb",
                 "Mar"
                ]
               ],
               [
                [
                 "Jan",
                 "Feb",
                 "Mar"
                ]
               ],
               [
                [
                 "Jan",
                 "Feb",
                 "Mar"
                ]
               ],
               [
                [
                 "Jan",
                 "Feb",
                 "Mar"
                ]
               ],
               [
                [
                 "Jan",
                 "Feb",
                 "Mar"
                ]
               ],
               [
                [
                 "Jan",
                 "Feb",
                 "Mar"
                ]
               ],
               [
                [
                 "Jan",
                 "Feb",
                 "Mar"
                ]
               ],
               [
                [
                 "Jan",
                 "Feb",
                 "Mar"
                ]
               ],
               [
                [
                 "Jan",
                 "Feb",
                 "Mar"
                ]
               ],
               [
                [
                 "Jan",
                 "Feb",
                 "Mar"
                ]
               ]
              ],
              "z": [
               [
                5
               ],
               [
                6
               ],
               [
                12
               ],
               [
                8
               ],
               [
                4
               ],
               [
                6
               ],
               [
                7
               ],
               [
                7
               ],
               [
                6
               ],
               [
                7
               ],
               [
                3
               ],
               [
                6
               ],
               [
                -4
               ],
               [
                15
               ],
               [
                10
               ],
               [
                7
               ],
               [
                18
               ],
               [
                -6
               ],
               [
                1
               ],
               [
                9
               ],
               [
                4
               ],
               [
                11
               ],
               [
                7
               ],
               [
                -1
               ],
               [
                6
               ],
               [
                3
               ],
               [
                5.5
               ],
               [
                6.2
               ],
               [
                6.5
               ],
               [
                11.2
               ],
               [
                9
               ],
               [
                -1.3
               ],
               [
                7.6
               ]
              ]
             },
             {
              "scene.zaxis.title.text": "Mar"
             }
            ],
            "label": "Mar",
            "method": "update"
           },
           {
            "args": [
             {
              "customdata": [
               [
                [
                 "Jan",
                 "Feb",
                 "Apr"
                ]
               ],
               [
                [
                 "Jan",
                 "Feb",
                 "Apr"
                ]
               ],
               [
                [
                 "Jan",
                 "Feb",
                 "Apr"
                ]
               ],
               [
                [
                 "Jan",
                 "Feb",
                 "Apr"
                ]
               ],
               [
                [
                 "Jan",
                 "Feb",
                 "Apr"
                ]
               ],
               [
                [
                 "Jan",
                 "Feb",
                 "Apr"
                ]
               ],
               [
                [
                 "Jan",
                 "Feb",
                 "Apr"
                ]
               ],
               [
                [
                 "Jan",
                 "Feb",
                 "Apr"
                ]
               ],
               [
                [
                 "Jan",
                 "Feb",
                 "Apr"
                ]
               ],
               [
                [
                 "Jan",
                 "Feb",
                 "Apr"
                ]
               ],
               [
                [
                 "Jan",
                 "Feb",
                 "Apr"
                ]
               ],
               [
                [
                 "Jan",
                 "Feb",
                 "Apr"
                ]
               ],
               [
                [
                 "Jan",
                 "Feb",
                 "Apr"
                ]
               ],
               [
                [
                 "Jan",
                 "Feb",
                 "Apr"
                ]
               ],
               [
                [
                 "Jan",
                 "Feb",
                 "Apr"
                ]
               ],
               [
                [
                 "Jan",
                 "Feb",
                 "Apr"
                ]
               ],
               [
                [
                 "Jan",
                 "Feb",
                 "Apr"
                ]
               ],
               [
                [
                 "Jan",
                 "Feb",
                 "Apr"
                ]
               ],
               [
                [
                 "Jan",
                 "Feb",
                 "Apr"
                ]
               ],
               [
                [
                 "Jan",
                 "Feb",
                 "Apr"
                ]
               ],
               [
                [
                 "Jan",
                 "Feb",
                 "Apr"
                ]
               ],
               [
                [
                 "Jan",
                 "Feb",
                 "Apr"
                ]
               ],
               [
                [
                 "Jan",
                 "Feb",
                 "Apr"
                ]
               ],
               [
                [
                 "Jan",
                 "Feb",
                 "Apr"
                ]
               ],
               [
                [
                 "Jan",
                 "Feb",
                 "Apr"
                ]
               ],
               [
                [
                 "Jan",
                 "Feb",
                 "Apr"
                ]
               ],
               [
                [
                 "Jan",
                 "Feb",
                 "Apr"
                ]
               ],
               [
                [
                 "Jan",
                 "Feb",
                 "Apr"
                ]
               ],
               [
                [
                 "Jan",
                 "Feb",
                 "Apr"
                ]
               ],
               [
                [
                 "Jan",
                 "Feb",
                 "Apr"
                ]
               ],
               [
                [
                 "Jan",
                 "Feb",
                 "Apr"
                ]
               ],
               [
                [
                 "Jan",
                 "Feb",
                 "Apr"
                ]
               ],
               [
                [
                 "Jan",
                 "Feb",
                 "Apr"
                ]
               ]
              ],
              "z": [
               [
                8
               ],
               [
                12
               ],
               [
                16
               ],
               [
                13
               ],
               [
                10
               ],
               [
                10
               ],
               [
                11
               ],
               [
                11
               ],
               [
                12
               ],
               [
                13
               ],
               [
                8
               ],
               [
                8
               ],
               [
                3
               ],
               [
                17
               ],
               [
                13
               ],
               [
                11
               ],
               [
                21
               ],
               [
                6
               ],
               [
                5
               ],
               [
                13
               ],
               [
                11
               ],
               [
                14
               ],
               [
                12
               ],
               [
                6
               ],
               [
                12
               ],
               [
                9
               ],
               [
                11
               ],
               [
                8.1
               ],
               [
                10.8
               ],
               [
                12.9
               ],
               [
                12.2
               ],
               [
                5.1
               ],
               [
                12.1
               ]
              ]
             },
             {
              "scene.zaxis.title.text": "Apr"
             }
            ],
            "label": "Apr",
            "method": "update"
           },
           {
            "args": [
             {
              "customdata": [
               [
                [
                 "Jan",
                 "Feb",
                 "May"
                ]
               ],
               [
                [
                 "Jan",
                 "Feb",
                 "May"
                ]
               ],
               [
                [
                 "Jan",
                 "Feb",
                 "May"
                ]
               ],
               [
                [
                 "Jan",
                 "Feb",
                 "May"
                ]
               ],
               [
                [
                 "Jan",
                 "Feb",
                 "May"
                ]
               ],
               [
                [
                 "Jan",
                 "Feb",
                 "May"
                ]
               ],
               [
                [
                 "Jan",
                 "Feb",
                 "May"
                ]
               ],
               [
                [
                 "Jan",
                 "Feb",
                 "May"
                ]
               ],
               [
                [
                 "Jan",
                 "Feb",
                 "May"
                ]
               ],
               [
                [
                 "Jan",
                 "Feb",
                 "May"
                ]
               ],
               [
                [
                 "Jan",
                 "Feb",
                 "May"
                ]
               ],
               [
                [
                 "Jan",
                 "Feb",
                 "May"
                ]
               ],
               [
                [
                 "Jan",
                 "Feb",
                 "May"
                ]
               ],
               [
                [
                 "Jan",
                 "Feb",
                 "May"
                ]
               ],
               [
                [
                 "Jan",
                 "Feb",
                 "May"
                ]
               ],
               [
                [
                 "Jan",
                 "Feb",
                 "May"
                ]
               ],
               [
                [
                 "Jan",
                 "Feb",
                 "May"
                ]
               ],
               [
                [
                 "Jan",
                 "Feb",
                 "May"
                ]
               ],
               [
                [
                 "Jan",
                 "Feb",
                 "May"
                ]
               ],
               [
                [
                 "Jan",
                 "Feb",
                 "May"
                ]
               ],
               [
                [
                 "Jan",
                 "Feb",
                 "May"
                ]
               ],
               [
                [
                 "Jan",
                 "Feb",
                 "May"
                ]
               ],
               [
                [
                 "Jan",
                 "Feb",
                 "May"
                ]
               ],
               [
                [
                 "Jan",
                 "Feb",
                 "May"
                ]
               ],
               [
                [
                 "Jan",
                 "Feb",
                 "May"
                ]
               ],
               [
                [
                 "Jan",
                 "Feb",
                 "May"
                ]
               ],
               [
                [
                 "Jan",
                 "Feb",
                 "May"
                ]
               ],
               [
                [
                 "Jan",
                 "Feb",
                 "May"
                ]
               ],
               [
                [
                 "Jan",
                 "Feb",
                 "May"
                ]
               ],
               [
                [
                 "Jan",
                 "Feb",
                 "May"
                ]
               ],
               [
                [
                 "Jan",
                 "Feb",
                 "May"
                ]
               ],
               [
                [
                 "Jan",
                 "Feb",
                 "May"
                ]
               ],
               [
                [
                 "Jan",
                 "Feb",
                 "May"
                ]
               ]
              ],
              "z": [
               [
                12
               ],
               [
                17
               ],
               [
                21
               ],
               [
                17
               ],
               [
                14
               ],
               [
                13
               ],
               [
                14
               ],
               [
                13
               ],
               [
                17
               ],
               [
                17
               ],
               [
                13
               ],
               [
                11
               ],
               [
                10
               ],
               [
                19
               ],
               [
                17
               ],
               [
                13
               ],
               [
                23
               ],
               [
                14
               ],
               [
                11
               ],
               [
                16
               ],
               [
                15
               ],
               [
                18
               ],
               [
                16
               ],
               [
                11
               ],
               [
                15
               ],
               [
                16
               ],
               [
                16
               ],
               [
                10.8
               ],
               [
                15.8
               ],
               [
                16.7
               ],
               [
                17
               ],
               [
                11.3
               ],
               [
                17.3
               ]
              ]
             },
             {
              "scene.zaxis.title.text": "May"
             }
            ],
            "label": "May",
            "method": "update"
           },
           {
            "args": [
             {
              "customdata": [
               [
                [
                 "Jan",
                 "Feb",
                 "Jun"
                ]
               ],
               [
                [
                 "Jan",
                 "Feb",
                 "Jun"
                ]
               ],
               [
                [
                 "Jan",
                 "Feb",
                 "Jun"
                ]
               ],
               [
                [
                 "Jan",
                 "Feb",
                 "Jun"
                ]
               ],
               [
                [
                 "Jan",
                 "Feb",
                 "Jun"
                ]
               ],
               [
                [
                 "Jan",
                 "Feb",
                 "Jun"
                ]
               ],
               [
                [
                 "Jan",
                 "Feb",
                 "Jun"
                ]
               ],
               [
                [
                 "Jan",
                 "Feb",
                 "Jun"
                ]
               ],
               [
                [
                 "Jan",
                 "Feb",
                 "Jun"
                ]
               ],
               [
                [
                 "Jan",
                 "Feb",
                 "Jun"
                ]
               ],
               [
                [
                 "Jan",
                 "Feb",
                 "Jun"
                ]
               ],
               [
                [
                 "Jan",
                 "Feb",
                 "Jun"
                ]
               ],
               [
                [
                 "Jan",
                 "Feb",
                 "Jun"
                ]
               ],
               [
                [
                 "Jan",
                 "Feb",
                 "Jun"
                ]
               ],
               [
                [
                 "Jan",
                 "Feb",
                 "Jun"
                ]
               ],
               [
                [
                 "Jan",
                 "Feb",
                 "Jun"
                ]
               ],
               [
                [
                 "Jan",
                 "Feb",
                 "Jun"
                ]
               ],
               [
                [
                 "Jan",
                 "Feb",
                 "Jun"
                ]
               ],
               [
                [
                 "Jan",
                 "Feb",
                 "Jun"
                ]
               ],
               [
                [
                 "Jan",
                 "Feb",
                 "Jun"
                ]
               ],
               [
                [
                 "Jan",
                 "Feb",
                 "Jun"
                ]
               ],
               [
                [
                 "Jan",
                 "Feb",
                 "Jun"
                ]
               ],
               [
                [
                 "Jan",
                 "Feb",
                 "Jun"
                ]
               ],
               [
                [
                 "Jan",
                 "Feb",
                 "Jun"
                ]
               ],
               [
                [
                 "Jan",
                 "Feb",
                 "Jun"
                ]
               ],
               [
                [
                 "Jan",
                 "Feb",
                 "Jun"
                ]
               ],
               [
                [
                 "Jan",
                 "Feb",
                 "Jun"
                ]
               ],
               [
                [
                 "Jan",
                 "Feb",
                 "Jun"
                ]
               ],
               [
                [
                 "Jan",
                 "Feb",
                 "Jun"
                ]
               ],
               [
                [
                 "Jan",
                 "Feb",
                 "Jun"
                ]
               ],
               [
                [
                 "Jan",
                 "Feb",
                 "Jun"
                ]
               ],
               [
                [
                 "Jan",
                 "Feb",
                 "Jun"
                ]
               ],
               [
                [
                 "Jan",
                 "Feb",
                 "Jun"
                ]
               ]
              ],
              "z": [
               [
                15
               ],
               [
                19
               ],
               [
                26
               ],
               [
                22
               ],
               [
                18
               ],
               [
                17
               ],
               [
                18
               ],
               [
                18
               ],
               [
                21
               ],
               [
                21
               ],
               [
                17
               ],
               [
                14
               ],
               [
                15
               ],
               [
                23
               ],
               [
                20
               ],
               [
                17
               ],
               [
                27
               ],
               [
                15
               ],
               [
                16
               ],
               [
                19
               ],
               [
                19
               ],
               [
                23
               ],
               [
                19
               ],
               [
                16
               ],
               [
                11
               ],
               [
                18
               ],
               [
                19.1
               ],
               [
                13.5
               ],
               [
                19.1
               ],
               [
                22.2
               ],
               [
                20.8
               ],
               [
                15.7
               ],
               [
                21.5
               ]
              ]
             },
             {
              "scene.zaxis.title.text": "Jun"
             }
            ],
            "label": "Jun",
            "method": "update"
           },
           {
            "args": [
             {
              "customdata": [
               [
                [
                 "Jan",
                 "Feb",
                 "Jul"
                ]
               ],
               [
                [
                 "Jan",
                 "Feb",
                 "Jul"
                ]
               ],
               [
                [
                 "Jan",
                 "Feb",
                 "Jul"
                ]
               ],
               [
                [
                 "Jan",
                 "Feb",
                 "Jul"
                ]
               ],
               [
                [
                 "Jan",
                 "Feb",
                 "Jul"
                ]
               ],
               [
                [
                 "Jan",
                 "Feb",
                 "Jul"
                ]
               ],
               [
                [
                 "Jan",
                 "Feb",
                 "Jul"
                ]
               ],
               [
                [
                 "Jan",
                 "Feb",
                 "Jul"
                ]
               ],
               [
                [
                 "Jan",
                 "Feb",
                 "Jul"
                ]
               ],
               [
                [
                 "Jan",
                 "Feb",
                 "Jul"
                ]
               ],
               [
                [
                 "Jan",
                 "Feb",
                 "Jul"
                ]
               ],
               [
                [
                 "Jan",
                 "Feb",
                 "Jul"
                ]
               ],
               [
                [
                 "Jan",
                 "Feb",
                 "Jul"
                ]
               ],
               [
                [
                 "Jan",
                 "Feb",
                 "Jul"
                ]
               ],
               [
                [
                 "Jan",
                 "Feb",
                 "Jul"
                ]
               ],
               [
                [
                 "Jan",
                 "Feb",
                 "Jul"
                ]
               ],
               [
                [
                 "Jan",
                 "Feb",
                 "Jul"
                ]
               ],
               [
                [
                 "Jan",
                 "Feb",
                 "Jul"
                ]
               ],
               [
                [
                 "Jan",
                 "Feb",
                 "Jul"
                ]
               ],
               [
                [
                 "Jan",
                 "Feb",
                 "Jul"
                ]
               ],
               [
                [
                 "Jan",
                 "Feb",
                 "Jul"
                ]
               ],
               [
                [
                 "Jan",
                 "Feb",
                 "Jul"
                ]
               ],
               [
                [
                 "Jan",
                 "Feb",
                 "Jul"
                ]
               ],
               [
                [
                 "Jan",
                 "Feb",
                 "Jul"
                ]
               ],
               [
                [
                 "Jan",
                 "Feb",
                 "Jul"
                ]
               ],
               [
                [
                 "Jan",
                 "Feb",
                 "Jul"
                ]
               ],
               [
                [
                 "Jan",
                 "Feb",
                 "Jul"
                ]
               ],
               [
                [
                 "Jan",
                 "Feb",
                 "Jul"
                ]
               ],
               [
                [
                 "Jan",
                 "Feb",
                 "Jul"
                ]
               ],
               [
                [
                 "Jan",
                 "Feb",
                 "Jul"
                ]
               ],
               [
                [
                 "Jan",
                 "Feb",
                 "Jul"
                ]
               ],
               [
                [
                 "Jan",
                 "Feb",
                 "Jul"
                ]
               ],
               [
                [
                 "Jan",
                 "Feb",
                 "Jul"
                ]
               ]
              ],
              "z": [
               [
                17
               ],
               [
                23
               ],
               [
                29
               ],
               [
                23
               ],
               [
                21
               ],
               [
                18
               ],
               [
                20
               ],
               [
                19
               ],
               [
                23
               ],
               [
                23
               ],
               [
                18
               ],
               [
                16
               ],
               [
                18
               ],
               [
                25
               ],
               [
                22
               ],
               [
                19
               ],
               [
                29
               ],
               [
                18
               ],
               [
                17
               ],
               [
                22
               ],
               [
                21
               ],
               [
                25
               ],
               [
                22
               ],
               [
                19
               ],
               [
                15
               ],
               [
                21
               ],
               [
                21.3
               ],
               [
                15.3
               ],
               [
                21.3
               ],
               [
                25.6
               ],
               [
                23.6
               ],
               [
                18.8
               ],
               [
                23.8
               ]
              ]
             },
             {
              "scene.zaxis.title.text": "Jul"
             }
            ],
            "label": "Jul",
            "method": "update"
           },
           {
            "args": [
             {
              "customdata": [
               [
                [
                 "Jan",
                 "Feb",
                 "Aug"
                ]
               ],
               [
                [
                 "Jan",
                 "Feb",
                 "Aug"
                ]
               ],
               [
                [
                 "Jan",
                 "Feb",
                 "Aug"
                ]
               ],
               [
                [
                 "Jan",
                 "Feb",
                 "Aug"
                ]
               ],
               [
                [
                 "Jan",
                 "Feb",
                 "Aug"
                ]
               ],
               [
                [
                 "Jan",
                 "Feb",
                 "Aug"
                ]
               ],
               [
                [
                 "Jan",
                 "Feb",
                 "Aug"
                ]
               ],
               [
                [
                 "Jan",
                 "Feb",
                 "Aug"
                ]
               ],
               [
                [
                 "Jan",
                 "Feb",
                 "Aug"
                ]
               ],
               [
                [
                 "Jan",
                 "Feb",
                 "Aug"
                ]
               ],
               [
                [
                 "Jan",
                 "Feb",
                 "Aug"
                ]
               ],
               [
                [
                 "Jan",
                 "Feb",
                 "Aug"
                ]
               ],
               [
                [
                 "Jan",
                 "Feb",
                 "Aug"
                ]
               ],
               [
                [
                 "Jan",
                 "Feb",
                 "Aug"
                ]
               ],
               [
                [
                 "Jan",
                 "Feb",
                 "Aug"
                ]
               ],
               [
                [
                 "Jan",
                 "Feb",
                 "Aug"
                ]
               ],
               [
                [
                 "Jan",
                 "Feb",
                 "Aug"
                ]
               ],
               [
                [
                 "Jan",
                 "Feb",
                 "Aug"
                ]
               ],
               [
                [
                 "Jan",
                 "Feb",
                 "Aug"
                ]
               ],
               [
                [
                 "Jan",
                 "Feb",
                 "Aug"
                ]
               ],
               [
                [
                 "Jan",
                 "Feb",
                 "Aug"
                ]
               ],
               [
                [
                 "Jan",
                 "Feb",
                 "Aug"
                ]
               ],
               [
                [
                 "Jan",
                 "Feb",
                 "Aug"
                ]
               ],
               [
                [
                 "Jan",
                 "Feb",
                 "Aug"
                ]
               ],
               [
                [
                 "Jan",
                 "Feb",
                 "Aug"
                ]
               ],
               [
                [
                 "Jan",
                 "Feb",
                 "Aug"
                ]
               ],
               [
                [
                 "Jan",
                 "Feb",
                 "Aug"
                ]
               ],
               [
                [
                 "Jan",
                 "Feb",
                 "Aug"
                ]
               ],
               [
                [
                 "Jan",
                 "Feb",
                 "Aug"
                ]
               ],
               [
                [
                 "Jan",
                 "Feb",
                 "Aug"
                ]
               ],
               [
                [
                 "Jan",
                 "Feb",
                 "Aug"
                ]
               ],
               [
                [
                 "Jan",
                 "Feb",
                 "Aug"
                ]
               ],
               [
                [
                 "Jan",
                 "Feb",
                 "Aug"
                ]
               ]
              ],
              "z": [
               [
                17
               ],
               [
                22
               ],
               [
                28
               ],
               [
                23
               ],
               [
                19
               ],
               [
                19
               ],
               [
                16
               ],
               [
                18
               ],
               [
                23
               ],
               [
                23
               ],
               [
                18
               ],
               [
                14
               ],
               [
                16
               ],
               [
                24
               ],
               [
                21
               ],
               [
                18
               ],
               [
                30
               ],
               [
                17
               ],
               [
                16
               ],
               [
                21
               ],
               [
                20
               ],
               [
                25
               ],
               [
                21
               ],
               [
                17
               ],
               [
                21
               ],
               [
                19
               ],
               [
                20.7
               ],
               [
                15.2
               ],
               [
                20.6
               ],
               [
                25.1
               ],
               [
                23
               ],
               [
                16.9
               ],
               [
                23.8
               ]
              ]
             },
             {
              "scene.zaxis.title.text": "Aug"
             }
            ],
            "label": "Aug",
            "method": "update"
           },
           {
            "args": [
             {
              "customdata": [
               [
                [
                 "Jan",
                 "Feb",
                 "Sep"
                ]
               ],
               [
                [
                 "Jan",
                 "Feb",
                 "Sep"
                ]
               ],
               [
                [
                 "Jan",
                 "Feb",
                 "Sep"
                ]
               ],
               [
                [
                 "Jan",
                 "Feb",
                 "Sep"
                ]
               ],
               [
                [
                 "Jan",
                 "Feb",
                 "Sep"
                ]
               ],
               [
                [
                 "Jan",
                 "Feb",
                 "Sep"
                ]
               ],
               [
                [
                 "Jan",
                 "Feb",
                 "Sep"
                ]
               ],
               [
                [
                 "Jan",
                 "Feb",
                 "Sep"
                ]
               ],
               [
                [
                 "Jan",
                 "Feb",
                 "Sep"
                ]
               ],
               [
                [
                 "Jan",
                 "Feb",
                 "Sep"
                ]
               ],
               [
                [
                 "Jan",
                 "Feb",
                 "Sep"
                ]
               ],
               [
                [
                 "Jan",
                 "Feb",
                 "Sep"
                ]
               ],
               [
                [
                 "Jan",
                 "Feb",
                 "Sep"
                ]
               ],
               [
                [
                 "Jan",
                 "Feb",
                 "Sep"
                ]
               ],
               [
                [
                 "Jan",
                 "Feb",
                 "Sep"
                ]
               ],
               [
                [
                 "Jan",
                 "Feb",
                 "Sep"
                ]
               ],
               [
                [
                 "Jan",
                 "Feb",
                 "Sep"
                ]
               ],
               [
                [
                 "Jan",
                 "Feb",
                 "Sep"
                ]
               ],
               [
                [
                 "Jan",
                 "Feb",
                 "Sep"
                ]
               ],
               [
                [
                 "Jan",
                 "Feb",
                 "Sep"
                ]
               ],
               [
                [
                 "Jan",
                 "Feb",
                 "Sep"
                ]
               ],
               [
                [
                 "Jan",
                 "Feb",
                 "Sep"
                ]
               ],
               [
                [
                 "Jan",
                 "Feb",
                 "Sep"
                ]
               ],
               [
                [
                 "Jan",
                 "Feb",
                 "Sep"
                ]
               ],
               [
                [
                 "Jan",
                 "Feb",
                 "Sep"
                ]
               ],
               [
                [
                 "Jan",
                 "Feb",
                 "Sep"
                ]
               ],
               [
                [
                 "Jan",
                 "Feb",
                 "Sep"
                ]
               ],
               [
                [
                 "Jan",
                 "Feb",
                 "Sep"
                ]
               ],
               [
                [
                 "Jan",
                 "Feb",
                 "Sep"
                ]
               ],
               [
                [
                 "Jan",
                 "Feb",
                 "Sep"
                ]
               ],
               [
                [
                 "Jan",
                 "Feb",
                 "Sep"
                ]
               ],
               [
                [
                 "Jan",
                 "Feb",
                 "Sep"
                ]
               ],
               [
                [
                 "Jan",
                 "Feb",
                 "Sep"
                ]
               ]
              ],
              "z": [
               [
                15
               ],
               [
                18
               ],
               [
                24
               ],
               [
                19
               ],
               [
                16
               ],
               [
                15
               ],
               [
                16
               ],
               [
                17
               ],
               [
                18
               ],
               [
                18
               ],
               [
                14
               ],
               [
                12
               ],
               [
                11
               ],
               [
                23
               ],
               [
                19
               ],
               [
                15
               ],
               [
                27
               ],
               [
                12
               ],
               [
                11
               ],
               [
                18
               ],
               [
                16
               ],
               [
                22
               ],
               [
                17
               ],
               [
                12
               ],
               [
                17
               ],
               [
                16
               ],
               [
                15.9
               ],
               [
                13
               ],
               [
                16
               ],
               [
                20.9
               ],
               [
                19.2
               ],
               [
                11.6
               ],
               [
                18.8
               ]
              ]
             },
             {
              "scene.zaxis.title.text": "Sep"
             }
            ],
            "label": "Sep",
            "method": "update"
           },
           {
            "args": [
             {
              "customdata": [
               [
                [
                 "Jan",
                 "Feb",
                 "Oct"
                ]
               ],
               [
                [
                 "Jan",
                 "Feb",
                 "Oct"
                ]
               ],
               [
                [
                 "Jan",
                 "Feb",
                 "Oct"
                ]
               ],
               [
                [
                 "Jan",
                 "Feb",
                 "Oct"
                ]
               ],
               [
                [
                 "Jan",
                 "Feb",
                 "Oct"
                ]
               ],
               [
                [
                 "Jan",
                 "Feb",
                 "Oct"
                ]
               ],
               [
                [
                 "Jan",
                 "Feb",
                 "Oct"
                ]
               ],
               [
                [
                 "Jan",
                 "Feb",
                 "Oct"
                ]
               ],
               [
                [
                 "Jan",
                 "Feb",
                 "Oct"
                ]
               ],
               [
                [
                 "Jan",
                 "Feb",
                 "Oct"
                ]
               ],
               [
                [
                 "Jan",
                 "Feb",
                 "Oct"
                ]
               ],
               [
                [
                 "Jan",
                 "Feb",
                 "Oct"
                ]
               ],
               [
                [
                 "Jan",
                 "Feb",
                 "Oct"
                ]
               ],
               [
                [
                 "Jan",
                 "Feb",
                 "Oct"
                ]
               ],
               [
                [
                 "Jan",
                 "Feb",
                 "Oct"
                ]
               ],
               [
                [
                 "Jan",
                 "Feb",
                 "Oct"
                ]
               ],
               [
                [
                 "Jan",
                 "Feb",
                 "Oct"
                ]
               ],
               [
                [
                 "Jan",
                 "Feb",
                 "Oct"
                ]
               ],
               [
                [
                 "Jan",
                 "Feb",
                 "Oct"
                ]
               ],
               [
                [
                 "Jan",
                 "Feb",
                 "Oct"
                ]
               ],
               [
                [
                 "Jan",
                 "Feb",
                 "Oct"
                ]
               ],
               [
                [
                 "Jan",
                 "Feb",
                 "Oct"
                ]
               ],
               [
                [
                 "Jan",
                 "Feb",
                 "Oct"
                ]
               ],
               [
                [
                 "Jan",
                 "Feb",
                 "Oct"
                ]
               ],
               [
                [
                 "Jan",
                 "Feb",
                 "Oct"
                ]
               ],
               [
                [
                 "Jan",
                 "Feb",
                 "Oct"
                ]
               ],
               [
                [
                 "Jan",
                 "Feb",
                 "Oct"
                ]
               ],
               [
                [
                 "Jan",
                 "Feb",
                 "Oct"
                ]
               ],
               [
                [
                 "Jan",
                 "Feb",
                 "Oct"
                ]
               ],
               [
                [
                 "Jan",
                 "Feb",
                 "Oct"
                ]
               ],
               [
                [
                 "Jan",
                 "Feb",
                 "Oct"
                ]
               ],
               [
                [
                 "Jan",
                 "Feb",
                 "Oct"
                ]
               ],
               [
                [
                 "Jan",
                 "Feb",
                 "Oct"
                ]
               ]
              ],
              "z": [
               [
                11
               ],
               [
                14
               ],
               [
                20
               ],
               [
                14
               ],
               [
                10
               ],
               [
                10
               ],
               [
                11
               ],
               [
                12
               ],
               [
                13
               ],
               [
                13
               ],
               [
                9
               ],
               [
                9
               ],
               [
                4
               ],
               [
                19
               ],
               [
                15
               ],
               [
                9
               ],
               [
                23
               ],
               [
                6
               ],
               [
                7
               ],
               [
                13
               ],
               [
                10
               ],
               [
                17
               ],
               [
                12
               ],
               [
                7
               ],
               [
                11
               ],
               [
                10
               ],
               [
                10.4
               ],
               [
                9.8
               ],
               [
                11.2
               ],
               [
                15.1
               ],
               [
                13.4
               ],
               [
                6.2
               ],
               [
                13.1
               ]
              ]
             },
             {
              "scene.zaxis.title.text": "Oct"
             }
            ],
            "label": "Oct",
            "method": "update"
           },
           {
            "args": [
             {
              "customdata": [
               [
                [
                 "Jan",
                 "Feb",
                 "Nov"
                ]
               ],
               [
                [
                 "Jan",
                 "Feb",
                 "Nov"
                ]
               ],
               [
                [
                 "Jan",
                 "Feb",
                 "Nov"
                ]
               ],
               [
                [
                 "Jan",
                 "Feb",
                 "Nov"
                ]
               ],
               [
                [
                 "Jan",
                 "Feb",
                 "Nov"
                ]
               ],
               [
                [
                 "Jan",
                 "Feb",
                 "Nov"
                ]
               ],
               [
                [
                 "Jan",
                 "Feb",
                 "Nov"
                ]
               ],
               [
                [
                 "Jan",
                 "Feb",
                 "Nov"
                ]
               ],
               [
                [
                 "Jan",
                 "Feb",
                 "Nov"
                ]
               ],
               [
                [
                 "Jan",
                 "Feb",
                 "Nov"
                ]
               ],
               [
                [
                 "Jan",
                 "Feb",
                 "Nov"
                ]
               ],
               [
                [
                 "Jan",
                 "Feb",
                 "Nov"
                ]
               ],
               [
                [
                 "Jan",
                 "Feb",
                 "Nov"
                ]
               ],
               [
                [
                 "Jan",
                 "Feb",
                 "Nov"
                ]
               ],
               [
                [
                 "Jan",
                 "Feb",
                 "Nov"
                ]
               ],
               [
                [
                 "Jan",
                 "Feb",
                 "Nov"
                ]
               ],
               [
                [
                 "Jan",
                 "Feb",
                 "Nov"
                ]
               ],
               [
                [
                 "Jan",
                 "Feb",
                 "Nov"
                ]
               ],
               [
                [
                 "Jan",
                 "Feb",
                 "Nov"
                ]
               ],
               [
                [
                 "Jan",
                 "Feb",
                 "Nov"
                ]
               ],
               [
                [
                 "Jan",
                 "Feb",
                 "Nov"
                ]
               ],
               [
                [
                 "Jan",
                 "Feb",
                 "Nov"
                ]
               ],
               [
                [
                 "Jan",
                 "Feb",
                 "Nov"
                ]
               ],
               [
                [
                 "Jan",
                 "Feb",
                 "Nov"
                ]
               ],
               [
                [
                 "Jan",
                 "Feb",
                 "Nov"
                ]
               ],
               [
                [
                 "Jan",
                 "Feb",
                 "Nov"
                ]
               ],
               [
                [
                 "Jan",
                 "Feb",
                 "Nov"
                ]
               ],
               [
                [
                 "Jan",
                 "Feb",
                 "Nov"
                ]
               ],
               [
                [
                 "Jan",
                 "Feb",
                 "Nov"
                ]
               ],
               [
                [
                 "Jan",
                 "Feb",
                 "Nov"
                ]
               ],
               [
                [
                 "Jan",
                 "Feb",
                 "Nov"
                ]
               ],
               [
                [
                 "Jan",
                 "Feb",
                 "Nov"
                ]
               ],
               [
                [
                 "Jan",
                 "Feb",
                 "Nov"
                ]
               ]
              ],
              "z": [
               [
                6
               ],
               [
                8
               ],
               [
                15
               ],
               [
                8
               ],
               [
                4
               ],
               [
                4
               ],
               [
                7
               ],
               [
                7
               ],
               [
                7
               ],
               [
                6
               ],
               [
                4
               ],
               [
                6
               ],
               [
                -1
               ],
               [
                14
               ],
               [
                10
               ],
               [
                4
               ],
               [
                20
               ],
               [
                -2
               ],
               [
                2
               ],
               [
                7
               ],
               [
                4
               ],
               [
                12
               ],
               [
                7
               ],
               [
                2
               ],
               [
                6
               ],
               [
                4
               ],
               [
                4.9
               ],
               [
                6.7
               ],
               [
                5.6
               ],
               [
                9.9
               ],
               [
                7.2
               ],
               [
                0.1
               ],
               [
                6.5
               ]
              ]
             },
             {
              "scene.zaxis.title.text": "Nov"
             }
            ],
            "label": "Nov",
            "method": "update"
           },
           {
            "args": [
             {
              "customdata": [
               [
                [
                 "Jan",
                 "Feb",
                 "Dec"
                ]
               ],
               [
                [
                 "Jan",
                 "Feb",
                 "Dec"
                ]
               ],
               [
                [
                 "Jan",
                 "Feb",
                 "Dec"
                ]
               ],
               [
                [
                 "Jan",
                 "Feb",
                 "Dec"
                ]
               ],
               [
                [
                 "Jan",
                 "Feb",
                 "Dec"
                ]
               ],
               [
                [
                 "Jan",
                 "Feb",
                 "Dec"
                ]
               ],
               [
                [
                 "Jan",
                 "Feb",
                 "Dec"
                ]
               ],
               [
                [
                 "Jan",
                 "Feb",
                 "Dec"
                ]
               ],
               [
                [
                 "Jan",
                 "Feb",
                 "Dec"
                ]
               ],
               [
                [
                 "Jan",
                 "Feb",
                 "Dec"
                ]
               ],
               [
                [
                 "Jan",
                 "Feb",
                 "Dec"
                ]
               ],
               [
                [
                 "Jan",
                 "Feb",
                 "Dec"
                ]
               ],
               [
                [
                 "Jan",
                 "Feb",
                 "Dec"
                ]
               ],
               [
                [
                 "Jan",
                 "Feb",
                 "Dec"
                ]
               ],
               [
                [
                 "Jan",
                 "Feb",
                 "Dec"
                ]
               ],
               [
                [
                 "Jan",
                 "Feb",
                 "Dec"
                ]
               ],
               [
                [
                 "Jan",
                 "Feb",
                 "Dec"
                ]
               ],
               [
                [
                 "Jan",
                 "Feb",
                 "Dec"
                ]
               ],
               [
                [
                 "Jan",
                 "Feb",
                 "Dec"
                ]
               ],
               [
                [
                 "Jan",
                 "Feb",
                 "Dec"
                ]
               ],
               [
                [
                 "Jan",
                 "Feb",
                 "Dec"
                ]
               ],
               [
                [
                 "Jan",
                 "Feb",
                 "Dec"
                ]
               ],
               [
                [
                 "Jan",
                 "Feb",
                 "Dec"
                ]
               ],
               [
                [
                 "Jan",
                 "Feb",
                 "Dec"
                ]
               ],
               [
                [
                 "Jan",
                 "Feb",
                 "Dec"
                ]
               ],
               [
                [
                 "Jan",
                 "Feb",
                 "Dec"
                ]
               ],
               [
                [
                 "Jan",
                 "Feb",
                 "Dec"
                ]
               ],
               [
                [
                 "Jan",
                 "Feb",
                 "Dec"
                ]
               ],
               [
                [
                 "Jan",
                 "Feb",
                 "Dec"
                ]
               ],
               [
                [
                 "Jan",
                 "Feb",
                 "Dec"
                ]
               ],
               [
                [
                 "Jan",
                 "Feb",
                 "Dec"
                ]
               ],
               [
                [
                 "Jan",
                 "Feb",
                 "Dec"
                ]
               ],
               [
                [
                 "Jan",
                 "Feb",
                 "Dec"
                ]
               ]
              ],
              "z": [
               [
                3
               ],
               [
                2
               ],
               [
                11
               ],
               [
                6
               ],
               [
                0
               ],
               [
                1
               ],
               [
                2
               ],
               [
                3
               ],
               [
                1
               ],
               [
                1
               ],
               [
                2
               ],
               [
                4
               ],
               [
                -6
               ],
               [
                11
               ],
               [
                8
               ],
               [
                2
               ],
               [
                17
               ],
               [
                -10
               ],
               [
                3
               ],
               [
                4
               ],
               [
                0
               ],
               [
                9
               ],
               [
                1
               ],
               [
                -1
               ],
               [
                2
               ],
               [
                2
               ],
               [
                0.7
               ],
               [
                4.2
               ],
               [
                1.2
               ],
               [
                6.9
               ],
               [
                3.3
               ],
               [
                -3.7
               ],
               [
                1.7
               ]
              ]
             },
             {
              "scene.zaxis.title.text": "Dec"
             }
            ],
            "label": "Dec",
            "method": "update"
           }
          ],
          "direction": "down",
          "pad": {
           "b": 2,
           "l": 2,
           "r": 2,
           "t": 4
          },
          "showactive": true,
          "type": "dropdown",
          "x": 0.64,
          "xanchor": "center",
          "y": 1.12,
          "yanchor": "top"
         },
         {
          "buttons": [
           {
            "args": [
             {
              "mode": [
               "markers+text",
               "markers+text",
               "markers+text",
               "markers+text",
               "markers+text",
               "markers+text",
               "markers+text",
               "markers+text",
               "markers+text",
               "markers+text",
               "markers+text",
               "markers+text",
               "markers+text",
               "markers+text",
               "markers+text",
               "markers+text",
               "markers+text",
               "markers+text",
               "markers+text",
               "markers+text",
               "markers+text",
               "markers+text",
               "markers+text",
               "markers+text",
               "markers+text",
               "markers+text",
               "markers+text",
               "markers+text",
               "markers+text",
               "markers+text",
               "markers+text",
               "markers+text",
               "markers+text"
              ]
             }
            ],
            "label": "Labels: On",
            "method": "update"
           },
           {
            "args": [
             {
              "mode": [
               "markers",
               "markers",
               "markers",
               "markers",
               "markers",
               "markers",
               "markers",
               "markers",
               "markers",
               "markers",
               "markers",
               "markers",
               "markers",
               "markers",
               "markers",
               "markers",
               "markers",
               "markers",
               "markers",
               "markers",
               "markers",
               "markers",
               "markers",
               "markers",
               "markers",
               "markers",
               "markers",
               "markers",
               "markers",
               "markers",
               "markers",
               "markers",
               "markers"
              ]
             }
            ],
            "label": "Labels: Off",
            "method": "update"
           }
          ],
          "direction": "right",
          "type": "buttons",
          "x": 0.78,
          "xanchor": "center",
          "y": 1.12,
          "yanchor": "top"
         },
         {
          "buttons": [
           {
            "args": [
             {
              "visible": [
               true,
               true,
               true,
               true,
               true,
               true,
               true,
               true,
               true,
               true,
               true,
               true,
               true,
               true,
               true,
               true,
               true,
               true,
               true,
               true,
               true,
               true,
               true,
               true,
               true,
               true,
               true,
               true,
               true,
               true,
               true,
               true,
               true
              ]
             }
            ],
            "label": "Show All",
            "method": "update"
           },
           {
            "args": [
             {
              "visible": [
               false,
               false,
               false,
               false,
               false,
               false,
               false,
               false,
               false,
               false,
               false,
               false,
               false,
               false,
               false,
               false,
               false,
               false,
               false,
               false,
               false,
               false,
               false,
               false,
               false,
               false,
               false,
               false,
               false,
               false,
               false,
               false,
               false
              ]
             }
            ],
            "label": "Hide All",
            "method": "update"
           }
          ],
          "direction": "right",
          "type": "buttons",
          "x": 0.93,
          "xanchor": "center",
          "y": 1.12,
          "yanchor": "top"
         }
        ],
        "width": 1400
       }
      }
     },
     "metadata": {},
     "output_type": "display_data"
    }
   ],
   "source": [
    "# 2) 3D month-picker\n",
    "fig2 = fig_scatter3d_month_picker(df, city_col, col_to_num); fig2.show()"
   ]
  },
  {
   "cell_type": "code",
   "execution_count": 41,
   "id": "58120e63",
   "metadata": {},
   "outputs": [
    {
     "data": {
      "application/vnd.plotly.v1+json": {
       "config": {
        "plotlyServerURL": "https://plot.ly"
       },
       "data": [
        {
         "hovertemplate": "<b>%{text}</b><br>PCX=%{x:.3f}<br>PCY=%{y:.3f}<extra></extra>",
         "marker": {
          "opacity": 0.9,
          "size": 8
         },
         "mode": "markers+text",
         "text": [
          "Amsterdam",
          "Ankara",
          "Athens",
          "Belgrade",
          "Berlin",
          "Bern",
          "Bonn",
          "Bruxells",
          "Bucarest",
          "Budapest",
          "Copenhagen",
          "Dublin",
          "Helsinki",
          "Lisbon",
          "London",
          "Luxemborg",
          "Marbella",
          "Moscow",
          "Oslo",
          "Paris",
          "Prague",
          "Rome",
          "Sofia",
          "Stockholm",
          "Vienna",
          "Warsaw",
          "Bratislava",
          "St. Petersberg",
          "Ljubljana",
          "Madrid",
          "Milan",
          "Edinburgh",
          "Skopje"
         ],
         "textfont": {
          "size": 10
         },
         "textposition": "top center",
         "type": "scatter",
         "x": {
          "bdata": "e8BANju++b9tjuHVH93qPyp8xZoSDxlAxMw2cUM5/T+KLx09M5zyv0INSifMOfW/xXXUrXhL47+Ihx0Qnn7Tv7BI1QVr1OA/bEdfybA76z/DTQhWMAoAwBnFfLtxxAHAvsQf+UbCFsDm5ePBFtUVQCRnJhtjfwNAB5YspTT187+x9NaQ2MgiQKogTfQndRbAMN8j2JURDsBAOtQz7aDzP+jiSC2Rwu2/LngFl7M1EEA1fzg/2e7OP2qZIqVTVQ3Azo+2Uaz08r/CfsBYanD2vx/6B45v79W/jo3zb7jy/r+4JRMnKnW7v8XrOQlcXgpAF0TVxKMH+z+VaHSOYk4RwOueXlxyXfU/",
          "dtype": "f8"
         },
         "y": {
          "bdata": "WEjniR9X+b8SfNoNdaXoP9hGmffnSu4/Hn3E9Dr44z9Zkrd1MtrTP74cPAeuGuW/A7ZIRwhI6L/QY8XiJw3vv6siRRE3Vfo/qJV+d9T69D9ssaZEVlXgv1plrfFjuwTAKuhmPKna6j+jF8vjnaHpv8vC9PkH1u2/+DF0ugCX5b/8yqu5TKbWv9pg1LvvhwNAwnVM3Lj74r/ln03n+VfUv225qVq20ec/Rqv1iaYqtj//Kq/BReHhP2fYpaI2c7Q/M4Fi7TMh8r9F3DwNsM3uP29vk2uFduE/EeKmt24sBsBPt/okhrvTP6DhRzkhMsc/ZXtPqSAV4T8UVVe2EwThP98SprAFsPM/",
          "dtype": "f8"
         }
        }
       ],
       "layout": {
        "annotations": [
         {
          "font": {
           "size": 11
          },
          "showarrow": false,
          "text": "X PC",
          "x": 0.34,
          "xanchor": "center",
          "xref": "paper",
          "y": 1.13,
          "yanchor": "top",
          "yref": "paper"
         },
         {
          "font": {
           "size": 11
          },
          "showarrow": false,
          "text": "Y PC",
          "x": 0.58,
          "xanchor": "center",
          "xref": "paper",
          "y": 1.13,
          "yanchor": "top",
          "yref": "paper"
         }
        ],
        "autosize": false,
        "height": 1000,
        "hovermode": "closest",
        "margin": {
         "b": 60,
         "l": 60,
         "r": 20,
         "t": 105
        },
        "shapes": [
         {
          "type": "line",
          "x0": 0,
          "x1": 1,
          "xref": "x domain",
          "y0": 0,
          "y1": 0,
          "yref": "y"
         },
         {
          "type": "line",
          "x0": 0,
          "x1": 0,
          "xref": "x",
          "y0": 0,
          "y1": 1,
          "yref": "y domain"
         }
        ],
        "template": {
         "data": {
          "bar": [
           {
            "error_x": {
             "color": "#2a3f5f"
            },
            "error_y": {
             "color": "#2a3f5f"
            },
            "marker": {
             "line": {
              "color": "#E5ECF6",
              "width": 0.5
             },
             "pattern": {
              "fillmode": "overlay",
              "size": 10,
              "solidity": 0.2
             }
            },
            "type": "bar"
           }
          ],
          "barpolar": [
           {
            "marker": {
             "line": {
              "color": "#E5ECF6",
              "width": 0.5
             },
             "pattern": {
              "fillmode": "overlay",
              "size": 10,
              "solidity": 0.2
             }
            },
            "type": "barpolar"
           }
          ],
          "carpet": [
           {
            "aaxis": {
             "endlinecolor": "#2a3f5f",
             "gridcolor": "white",
             "linecolor": "white",
             "minorgridcolor": "white",
             "startlinecolor": "#2a3f5f"
            },
            "baxis": {
             "endlinecolor": "#2a3f5f",
             "gridcolor": "white",
             "linecolor": "white",
             "minorgridcolor": "white",
             "startlinecolor": "#2a3f5f"
            },
            "type": "carpet"
           }
          ],
          "choropleth": [
           {
            "colorbar": {
             "outlinewidth": 0,
             "ticks": ""
            },
            "type": "choropleth"
           }
          ],
          "contour": [
           {
            "colorbar": {
             "outlinewidth": 0,
             "ticks": ""
            },
            "colorscale": [
             [
              0,
              "#0d0887"
             ],
             [
              0.1111111111111111,
              "#46039f"
             ],
             [
              0.2222222222222222,
              "#7201a8"
             ],
             [
              0.3333333333333333,
              "#9c179e"
             ],
             [
              0.4444444444444444,
              "#bd3786"
             ],
             [
              0.5555555555555556,
              "#d8576b"
             ],
             [
              0.6666666666666666,
              "#ed7953"
             ],
             [
              0.7777777777777778,
              "#fb9f3a"
             ],
             [
              0.8888888888888888,
              "#fdca26"
             ],
             [
              1,
              "#f0f921"
             ]
            ],
            "type": "contour"
           }
          ],
          "contourcarpet": [
           {
            "colorbar": {
             "outlinewidth": 0,
             "ticks": ""
            },
            "type": "contourcarpet"
           }
          ],
          "heatmap": [
           {
            "colorbar": {
             "outlinewidth": 0,
             "ticks": ""
            },
            "colorscale": [
             [
              0,
              "#0d0887"
             ],
             [
              0.1111111111111111,
              "#46039f"
             ],
             [
              0.2222222222222222,
              "#7201a8"
             ],
             [
              0.3333333333333333,
              "#9c179e"
             ],
             [
              0.4444444444444444,
              "#bd3786"
             ],
             [
              0.5555555555555556,
              "#d8576b"
             ],
             [
              0.6666666666666666,
              "#ed7953"
             ],
             [
              0.7777777777777778,
              "#fb9f3a"
             ],
             [
              0.8888888888888888,
              "#fdca26"
             ],
             [
              1,
              "#f0f921"
             ]
            ],
            "type": "heatmap"
           }
          ],
          "histogram": [
           {
            "marker": {
             "pattern": {
              "fillmode": "overlay",
              "size": 10,
              "solidity": 0.2
             }
            },
            "type": "histogram"
           }
          ],
          "histogram2d": [
           {
            "colorbar": {
             "outlinewidth": 0,
             "ticks": ""
            },
            "colorscale": [
             [
              0,
              "#0d0887"
             ],
             [
              0.1111111111111111,
              "#46039f"
             ],
             [
              0.2222222222222222,
              "#7201a8"
             ],
             [
              0.3333333333333333,
              "#9c179e"
             ],
             [
              0.4444444444444444,
              "#bd3786"
             ],
             [
              0.5555555555555556,
              "#d8576b"
             ],
             [
              0.6666666666666666,
              "#ed7953"
             ],
             [
              0.7777777777777778,
              "#fb9f3a"
             ],
             [
              0.8888888888888888,
              "#fdca26"
             ],
             [
              1,
              "#f0f921"
             ]
            ],
            "type": "histogram2d"
           }
          ],
          "histogram2dcontour": [
           {
            "colorbar": {
             "outlinewidth": 0,
             "ticks": ""
            },
            "colorscale": [
             [
              0,
              "#0d0887"
             ],
             [
              0.1111111111111111,
              "#46039f"
             ],
             [
              0.2222222222222222,
              "#7201a8"
             ],
             [
              0.3333333333333333,
              "#9c179e"
             ],
             [
              0.4444444444444444,
              "#bd3786"
             ],
             [
              0.5555555555555556,
              "#d8576b"
             ],
             [
              0.6666666666666666,
              "#ed7953"
             ],
             [
              0.7777777777777778,
              "#fb9f3a"
             ],
             [
              0.8888888888888888,
              "#fdca26"
             ],
             [
              1,
              "#f0f921"
             ]
            ],
            "type": "histogram2dcontour"
           }
          ],
          "mesh3d": [
           {
            "colorbar": {
             "outlinewidth": 0,
             "ticks": ""
            },
            "type": "mesh3d"
           }
          ],
          "parcoords": [
           {
            "line": {
             "colorbar": {
              "outlinewidth": 0,
              "ticks": ""
             }
            },
            "type": "parcoords"
           }
          ],
          "pie": [
           {
            "automargin": true,
            "type": "pie"
           }
          ],
          "scatter": [
           {
            "fillpattern": {
             "fillmode": "overlay",
             "size": 10,
             "solidity": 0.2
            },
            "type": "scatter"
           }
          ],
          "scatter3d": [
           {
            "line": {
             "colorbar": {
              "outlinewidth": 0,
              "ticks": ""
             }
            },
            "marker": {
             "colorbar": {
              "outlinewidth": 0,
              "ticks": ""
             }
            },
            "type": "scatter3d"
           }
          ],
          "scattercarpet": [
           {
            "marker": {
             "colorbar": {
              "outlinewidth": 0,
              "ticks": ""
             }
            },
            "type": "scattercarpet"
           }
          ],
          "scattergeo": [
           {
            "marker": {
             "colorbar": {
              "outlinewidth": 0,
              "ticks": ""
             }
            },
            "type": "scattergeo"
           }
          ],
          "scattergl": [
           {
            "marker": {
             "colorbar": {
              "outlinewidth": 0,
              "ticks": ""
             }
            },
            "type": "scattergl"
           }
          ],
          "scattermap": [
           {
            "marker": {
             "colorbar": {
              "outlinewidth": 0,
              "ticks": ""
             }
            },
            "type": "scattermap"
           }
          ],
          "scattermapbox": [
           {
            "marker": {
             "colorbar": {
              "outlinewidth": 0,
              "ticks": ""
             }
            },
            "type": "scattermapbox"
           }
          ],
          "scatterpolar": [
           {
            "marker": {
             "colorbar": {
              "outlinewidth": 0,
              "ticks": ""
             }
            },
            "type": "scatterpolar"
           }
          ],
          "scatterpolargl": [
           {
            "marker": {
             "colorbar": {
              "outlinewidth": 0,
              "ticks": ""
             }
            },
            "type": "scatterpolargl"
           }
          ],
          "scatterternary": [
           {
            "marker": {
             "colorbar": {
              "outlinewidth": 0,
              "ticks": ""
             }
            },
            "type": "scatterternary"
           }
          ],
          "surface": [
           {
            "colorbar": {
             "outlinewidth": 0,
             "ticks": ""
            },
            "colorscale": [
             [
              0,
              "#0d0887"
             ],
             [
              0.1111111111111111,
              "#46039f"
             ],
             [
              0.2222222222222222,
              "#7201a8"
             ],
             [
              0.3333333333333333,
              "#9c179e"
             ],
             [
              0.4444444444444444,
              "#bd3786"
             ],
             [
              0.5555555555555556,
              "#d8576b"
             ],
             [
              0.6666666666666666,
              "#ed7953"
             ],
             [
              0.7777777777777778,
              "#fb9f3a"
             ],
             [
              0.8888888888888888,
              "#fdca26"
             ],
             [
              1,
              "#f0f921"
             ]
            ],
            "type": "surface"
           }
          ],
          "table": [
           {
            "cells": {
             "fill": {
              "color": "#EBF0F8"
             },
             "line": {
              "color": "white"
             }
            },
            "header": {
             "fill": {
              "color": "#C8D4E3"
             },
             "line": {
              "color": "white"
             }
            },
            "type": "table"
           }
          ]
         },
         "layout": {
          "annotationdefaults": {
           "arrowcolor": "#2a3f5f",
           "arrowhead": 0,
           "arrowwidth": 1
          },
          "autotypenumbers": "strict",
          "coloraxis": {
           "colorbar": {
            "outlinewidth": 0,
            "ticks": ""
           }
          },
          "colorscale": {
           "diverging": [
            [
             0,
             "#8e0152"
            ],
            [
             0.1,
             "#c51b7d"
            ],
            [
             0.2,
             "#de77ae"
            ],
            [
             0.3,
             "#f1b6da"
            ],
            [
             0.4,
             "#fde0ef"
            ],
            [
             0.5,
             "#f7f7f7"
            ],
            [
             0.6,
             "#e6f5d0"
            ],
            [
             0.7,
             "#b8e186"
            ],
            [
             0.8,
             "#7fbc41"
            ],
            [
             0.9,
             "#4d9221"
            ],
            [
             1,
             "#276419"
            ]
           ],
           "sequential": [
            [
             0,
             "#0d0887"
            ],
            [
             0.1111111111111111,
             "#46039f"
            ],
            [
             0.2222222222222222,
             "#7201a8"
            ],
            [
             0.3333333333333333,
             "#9c179e"
            ],
            [
             0.4444444444444444,
             "#bd3786"
            ],
            [
             0.5555555555555556,
             "#d8576b"
            ],
            [
             0.6666666666666666,
             "#ed7953"
            ],
            [
             0.7777777777777778,
             "#fb9f3a"
            ],
            [
             0.8888888888888888,
             "#fdca26"
            ],
            [
             1,
             "#f0f921"
            ]
           ],
           "sequentialminus": [
            [
             0,
             "#0d0887"
            ],
            [
             0.1111111111111111,
             "#46039f"
            ],
            [
             0.2222222222222222,
             "#7201a8"
            ],
            [
             0.3333333333333333,
             "#9c179e"
            ],
            [
             0.4444444444444444,
             "#bd3786"
            ],
            [
             0.5555555555555556,
             "#d8576b"
            ],
            [
             0.6666666666666666,
             "#ed7953"
            ],
            [
             0.7777777777777778,
             "#fb9f3a"
            ],
            [
             0.8888888888888888,
             "#fdca26"
            ],
            [
             1,
             "#f0f921"
            ]
           ]
          },
          "colorway": [
           "#636efa",
           "#EF553B",
           "#00cc96",
           "#ab63fa",
           "#FFA15A",
           "#19d3f3",
           "#FF6692",
           "#B6E880",
           "#FF97FF",
           "#FECB52"
          ],
          "font": {
           "color": "#2a3f5f"
          },
          "geo": {
           "bgcolor": "white",
           "lakecolor": "white",
           "landcolor": "#E5ECF6",
           "showlakes": true,
           "showland": true,
           "subunitcolor": "white"
          },
          "hoverlabel": {
           "align": "left"
          },
          "hovermode": "closest",
          "mapbox": {
           "style": "light"
          },
          "paper_bgcolor": "white",
          "plot_bgcolor": "#E5ECF6",
          "polar": {
           "angularaxis": {
            "gridcolor": "white",
            "linecolor": "white",
            "ticks": ""
           },
           "bgcolor": "#E5ECF6",
           "radialaxis": {
            "gridcolor": "white",
            "linecolor": "white",
            "ticks": ""
           }
          },
          "scene": {
           "xaxis": {
            "backgroundcolor": "#E5ECF6",
            "gridcolor": "white",
            "gridwidth": 2,
            "linecolor": "white",
            "showbackground": true,
            "ticks": "",
            "zerolinecolor": "white"
           },
           "yaxis": {
            "backgroundcolor": "#E5ECF6",
            "gridcolor": "white",
            "gridwidth": 2,
            "linecolor": "white",
            "showbackground": true,
            "ticks": "",
            "zerolinecolor": "white"
           },
           "zaxis": {
            "backgroundcolor": "#E5ECF6",
            "gridcolor": "white",
            "gridwidth": 2,
            "linecolor": "white",
            "showbackground": true,
            "ticks": "",
            "zerolinecolor": "white"
           }
          },
          "shapedefaults": {
           "line": {
            "color": "#2a3f5f"
           }
          },
          "ternary": {
           "aaxis": {
            "gridcolor": "white",
            "linecolor": "white",
            "ticks": ""
           },
           "baxis": {
            "gridcolor": "white",
            "linecolor": "white",
            "ticks": ""
           },
           "bgcolor": "#E5ECF6",
           "caxis": {
            "gridcolor": "white",
            "linecolor": "white",
            "ticks": ""
           }
          },
          "title": {
           "x": 0.05
          },
          "xaxis": {
           "automargin": true,
           "gridcolor": "white",
           "linecolor": "white",
           "ticks": "",
           "title": {
            "standoff": 15
           },
           "zerolinecolor": "white",
           "zerolinewidth": 2
          },
          "yaxis": {
           "automargin": true,
           "gridcolor": "white",
           "linecolor": "white",
           "ticks": "",
           "title": {
            "standoff": 15
           },
           "zerolinecolor": "white",
           "zerolinewidth": 2
          }
         }
        },
        "title": {
         "text": "PCA — Pick PCs (± direction) • City names shown"
        },
        "updatemenus": [
         {
          "bgcolor": "rgba(255,255,255,0.6)",
          "buttons": [
           {
            "args": [
             {
              "x": [
               [
                -1.608943187642608,
                0.8394927193989595,
                6.264719408324746,
                1.826480333559446,
                -1.1631348025575527,
                -1.3266107115494639,
                -0.6029628176799454,
                -0.30460311483158664,
                0.5259299386909984,
                0.8510364468622647,
                -2.0049750062259775,
                -2.220920052285362,
                -5.6897238660469025,
                5.458094625029366,
                2.437200748547996,
                -1.2473646595111647,
                9.392277265777325,
                -5.6144102260661075,
                -3.7585865865657055,
                1.2267887138911107,
                -0.9300008663622892,
                4.052442893704251,
                0.2416640814490109,
                -3.6666634465392933,
                -1.184734648887559,
                -1.4024451701042584,
                -0.34273899908285616,
                -1.9342579243756037,
                -0.10725654081320257,
                3.2960739823151664,
                1.6893651665489011,
                -4.326547838072789,
                1.3353141411006912
               ]
              ]
             },
             {
              "xaxis.title.text": "PC1 (85.0%)"
             }
            ],
            "label": "PC1 (85%)",
            "method": "update"
           },
           {
            "args": [
             {
              "x": [
               [
                1.608943187642608,
                -0.8394927193989595,
                -6.264719408324746,
                -1.826480333559446,
                1.1631348025575527,
                1.3266107115494639,
                0.6029628176799454,
                0.30460311483158664,
                -0.5259299386909984,
                -0.8510364468622647,
                2.0049750062259775,
                2.220920052285362,
                5.6897238660469025,
                -5.458094625029366,
                -2.437200748547996,
                1.2473646595111647,
                -9.392277265777325,
                5.6144102260661075,
                3.7585865865657055,
                -1.2267887138911107,
                0.9300008663622892,
                -4.052442893704251,
                -0.2416640814490109,
                3.6666634465392933,
                1.184734648887559,
                1.4024451701042584,
                0.34273899908285616,
                1.9342579243756037,
                0.10725654081320257,
                -3.2960739823151664,
                -1.6893651665489011,
                4.326547838072789,
                -1.3353141411006912
               ]
              ]
             },
             {
              "xaxis.title.text": "-PC1 (85.0%)"
             }
            ],
            "label": "-PC1",
            "method": "update"
           },
           {
            "args": [
             {
              "x": [
               [
                -1.5837703120091842,
                0.7701974173140818,
                0.9466438136971318,
                0.6240515499702359,
                0.31019269462402616,
                -0.6595068112664177,
                -0.7587930099741133,
                -0.9703559331056741,
                1.6458044695483902,
                1.311237780356672,
                -0.5104171124308272,
                -2.5914992219010573,
                0.8391920261121915,
                -0.800978608044478,
                -0.9323768503146196,
                -0.674682964484929,
                -0.353900128669167,
                2.4413752245128366,
                -0.5932277968128619,
                -0.31786964023785763,
                0.7443496485482634,
                0.08658829563289058,
                0.5587490828414444,
                0.07988301726240508,
                -1.1331061623423693,
                0.9626083620595486,
                0.5457179165928049,
                -2.7716955516627952,
                0.30832055674806197,
                0.18121733948624996,
                0.5338290507169005,
                0.5317476807928494,
                1.2304741764393652
               ]
              ]
             },
             {
              "xaxis.title.text": "PC2 (10.2%)"
             }
            ],
            "label": "PC2 (10%)",
            "method": "update"
           },
           {
            "args": [
             {
              "x": [
               [
                1.5837703120091842,
                -0.7701974173140818,
                -0.9466438136971318,
                -0.6240515499702359,
                -0.31019269462402616,
                0.6595068112664177,
                0.7587930099741133,
                0.9703559331056741,
                -1.6458044695483902,
                -1.311237780356672,
                0.5104171124308272,
                2.5914992219010573,
                -0.8391920261121915,
                0.800978608044478,
                0.9323768503146196,
                0.674682964484929,
                0.353900128669167,
                -2.4413752245128366,
                0.5932277968128619,
                0.31786964023785763,
                -0.7443496485482634,
                -0.08658829563289058,
                -0.5587490828414444,
                -0.07988301726240508,
                1.1331061623423693,
                -0.9626083620595486,
                -0.5457179165928049,
                2.7716955516627952,
                -0.30832055674806197,
                -0.18121733948624996,
                -0.5338290507169005,
                -0.5317476807928494,
                -1.2304741764393652
               ]
              ]
             },
             {
              "xaxis.title.text": "-PC2 (10.2%)"
             }
            ],
            "label": "-PC2",
            "method": "update"
           }
          ],
          "direction": "down",
          "font": {
           "size": 10
          },
          "pad": {
           "b": 1,
           "l": 1,
           "r": 1,
           "t": 1
          },
          "showactive": true,
          "type": "dropdown",
          "x": 0.34,
          "xanchor": "center",
          "y": 1.08,
          "yanchor": "top"
         },
         {
          "bgcolor": "rgba(255,255,255,0.6)",
          "buttons": [
           {
            "args": [
             {
              "y": [
               [
                -1.608943187642608,
                0.8394927193989595,
                6.264719408324746,
                1.826480333559446,
                -1.1631348025575527,
                -1.3266107115494639,
                -0.6029628176799454,
                -0.30460311483158664,
                0.5259299386909984,
                0.8510364468622647,
                -2.0049750062259775,
                -2.220920052285362,
                -5.6897238660469025,
                5.458094625029366,
                2.437200748547996,
                -1.2473646595111647,
                9.392277265777325,
                -5.6144102260661075,
                -3.7585865865657055,
                1.2267887138911107,
                -0.9300008663622892,
                4.052442893704251,
                0.2416640814490109,
                -3.6666634465392933,
                -1.184734648887559,
                -1.4024451701042584,
                -0.34273899908285616,
                -1.9342579243756037,
                -0.10725654081320257,
                3.2960739823151664,
                1.6893651665489011,
                -4.326547838072789,
                1.3353141411006912
               ]
              ]
             },
             {
              "yaxis.title.text": "PC1 (85.0%)"
             }
            ],
            "label": "PC1 (85%)",
            "method": "update"
           },
           {
            "args": [
             {
              "y": [
               [
                1.608943187642608,
                -0.8394927193989595,
                -6.264719408324746,
                -1.826480333559446,
                1.1631348025575527,
                1.3266107115494639,
                0.6029628176799454,
                0.30460311483158664,
                -0.5259299386909984,
                -0.8510364468622647,
                2.0049750062259775,
                2.220920052285362,
                5.6897238660469025,
                -5.458094625029366,
                -2.437200748547996,
                1.2473646595111647,
                -9.392277265777325,
                5.6144102260661075,
                3.7585865865657055,
                -1.2267887138911107,
                0.9300008663622892,
                -4.052442893704251,
                -0.2416640814490109,
                3.6666634465392933,
                1.184734648887559,
                1.4024451701042584,
                0.34273899908285616,
                1.9342579243756037,
                0.10725654081320257,
                -3.2960739823151664,
                -1.6893651665489011,
                4.326547838072789,
                -1.3353141411006912
               ]
              ]
             },
             {
              "yaxis.title.text": "-PC1 (85.0%)"
             }
            ],
            "label": "-PC1",
            "method": "update"
           },
           {
            "args": [
             {
              "y": [
               [
                -1.5837703120091842,
                0.7701974173140818,
                0.9466438136971318,
                0.6240515499702359,
                0.31019269462402616,
                -0.6595068112664177,
                -0.7587930099741133,
                -0.9703559331056741,
                1.6458044695483902,
                1.311237780356672,
                -0.5104171124308272,
                -2.5914992219010573,
                0.8391920261121915,
                -0.800978608044478,
                -0.9323768503146196,
                -0.674682964484929,
                -0.353900128669167,
                2.4413752245128366,
                -0.5932277968128619,
                -0.31786964023785763,
                0.7443496485482634,
                0.08658829563289058,
                0.5587490828414444,
                0.07988301726240508,
                -1.1331061623423693,
                0.9626083620595486,
                0.5457179165928049,
                -2.7716955516627952,
                0.30832055674806197,
                0.18121733948624996,
                0.5338290507169005,
                0.5317476807928494,
                1.2304741764393652
               ]
              ]
             },
             {
              "yaxis.title.text": "PC2 (10.2%)"
             }
            ],
            "label": "PC2 (10%)",
            "method": "update"
           },
           {
            "args": [
             {
              "y": [
               [
                1.5837703120091842,
                -0.7701974173140818,
                -0.9466438136971318,
                -0.6240515499702359,
                -0.31019269462402616,
                0.6595068112664177,
                0.7587930099741133,
                0.9703559331056741,
                -1.6458044695483902,
                -1.311237780356672,
                0.5104171124308272,
                2.5914992219010573,
                -0.8391920261121915,
                0.800978608044478,
                0.9323768503146196,
                0.674682964484929,
                0.353900128669167,
                -2.4413752245128366,
                0.5932277968128619,
                0.31786964023785763,
                -0.7443496485482634,
                -0.08658829563289058,
                -0.5587490828414444,
                -0.07988301726240508,
                1.1331061623423693,
                -0.9626083620595486,
                -0.5457179165928049,
                2.7716955516627952,
                -0.30832055674806197,
                -0.18121733948624996,
                -0.5338290507169005,
                -0.5317476807928494,
                -1.2304741764393652
               ]
              ]
             },
             {
              "yaxis.title.text": "-PC2 (10.2%)"
             }
            ],
            "label": "-PC2",
            "method": "update"
           }
          ],
          "direction": "down",
          "font": {
           "size": 10
          },
          "pad": {
           "b": 1,
           "l": 1,
           "r": 1,
           "t": 1
          },
          "showactive": true,
          "type": "dropdown",
          "x": 0.58,
          "xanchor": "center",
          "y": 1.08,
          "yanchor": "top"
         }
        ],
        "width": 1000,
        "xaxis": {
         "title": {
          "text": "PC1 (85.0%)"
         }
        },
        "yaxis": {
         "title": {
          "text": "PC2 (10.2%)"
         }
        }
       }
      }
     },
     "metadata": {},
     "output_type": "display_data"
    }
   ],
   "source": [
    "# 3) PCA axis picker + Explained variance + Residual map\n",
    "p = compute_pca_matrix(df, city_col, month_cols, retain=0.95)\n",
    "fig3 = fig_pca_axis_picker(p[\"Z\"], p[\"cities\"], p[\"var\"]); fig3.show()"
   ]
  },
  {
   "cell_type": "code",
   "execution_count": 42,
   "id": "c4e5d5c2",
   "metadata": {},
   "outputs": [
    {
     "data": {
      "application/vnd.plotly.v1+json": {
       "config": {
        "plotlyServerURL": "https://plot.ly"
       },
       "data": [
        {
         "name": "Explained variance (%)",
         "type": "bar",
         "x": {
          "bdata": "AQIDBAUGBwgJCgsM",
          "dtype": "i1"
         },
         "y": {
          "bdata": "jVXkDUFBVUD9yjWtTV4kQBAVBE/yQgFAJY7fqT0h7D8zs6rBtuziPy+YLh3jvto/mEtdMTLxzz/6K45M54vCP0SSkr3FjcA/gDmyOed0vT9UWg23DSSyP84p83SJuaQ/",
          "dtype": "f8"
         }
        }
       ],
       "layout": {
        "annotations": [
         {
          "showarrow": false,
          "text": "k = 2",
          "x": 2.5,
          "xanchor": "center",
          "xref": "x",
          "y": 1,
          "yanchor": "bottom",
          "yref": "y domain"
         }
        ],
        "autosize": false,
        "height": 700,
        "hovermode": "x unified",
        "margin": {
         "b": 60,
         "l": 60,
         "r": 20,
         "t": 80
        },
        "shapes": [
         {
          "line": {
           "dash": "dash"
          },
          "type": "line",
          "x0": 2.5,
          "x1": 2.5,
          "xref": "x",
          "y0": 0,
          "y1": 1,
          "yref": "y domain"
         }
        ],
        "showlegend": false,
        "template": {
         "data": {
          "bar": [
           {
            "error_x": {
             "color": "#2a3f5f"
            },
            "error_y": {
             "color": "#2a3f5f"
            },
            "marker": {
             "line": {
              "color": "#E5ECF6",
              "width": 0.5
             },
             "pattern": {
              "fillmode": "overlay",
              "size": 10,
              "solidity": 0.2
             }
            },
            "type": "bar"
           }
          ],
          "barpolar": [
           {
            "marker": {
             "line": {
              "color": "#E5ECF6",
              "width": 0.5
             },
             "pattern": {
              "fillmode": "overlay",
              "size": 10,
              "solidity": 0.2
             }
            },
            "type": "barpolar"
           }
          ],
          "carpet": [
           {
            "aaxis": {
             "endlinecolor": "#2a3f5f",
             "gridcolor": "white",
             "linecolor": "white",
             "minorgridcolor": "white",
             "startlinecolor": "#2a3f5f"
            },
            "baxis": {
             "endlinecolor": "#2a3f5f",
             "gridcolor": "white",
             "linecolor": "white",
             "minorgridcolor": "white",
             "startlinecolor": "#2a3f5f"
            },
            "type": "carpet"
           }
          ],
          "choropleth": [
           {
            "colorbar": {
             "outlinewidth": 0,
             "ticks": ""
            },
            "type": "choropleth"
           }
          ],
          "contour": [
           {
            "colorbar": {
             "outlinewidth": 0,
             "ticks": ""
            },
            "colorscale": [
             [
              0,
              "#0d0887"
             ],
             [
              0.1111111111111111,
              "#46039f"
             ],
             [
              0.2222222222222222,
              "#7201a8"
             ],
             [
              0.3333333333333333,
              "#9c179e"
             ],
             [
              0.4444444444444444,
              "#bd3786"
             ],
             [
              0.5555555555555556,
              "#d8576b"
             ],
             [
              0.6666666666666666,
              "#ed7953"
             ],
             [
              0.7777777777777778,
              "#fb9f3a"
             ],
             [
              0.8888888888888888,
              "#fdca26"
             ],
             [
              1,
              "#f0f921"
             ]
            ],
            "type": "contour"
           }
          ],
          "contourcarpet": [
           {
            "colorbar": {
             "outlinewidth": 0,
             "ticks": ""
            },
            "type": "contourcarpet"
           }
          ],
          "heatmap": [
           {
            "colorbar": {
             "outlinewidth": 0,
             "ticks": ""
            },
            "colorscale": [
             [
              0,
              "#0d0887"
             ],
             [
              0.1111111111111111,
              "#46039f"
             ],
             [
              0.2222222222222222,
              "#7201a8"
             ],
             [
              0.3333333333333333,
              "#9c179e"
             ],
             [
              0.4444444444444444,
              "#bd3786"
             ],
             [
              0.5555555555555556,
              "#d8576b"
             ],
             [
              0.6666666666666666,
              "#ed7953"
             ],
             [
              0.7777777777777778,
              "#fb9f3a"
             ],
             [
              0.8888888888888888,
              "#fdca26"
             ],
             [
              1,
              "#f0f921"
             ]
            ],
            "type": "heatmap"
           }
          ],
          "histogram": [
           {
            "marker": {
             "pattern": {
              "fillmode": "overlay",
              "size": 10,
              "solidity": 0.2
             }
            },
            "type": "histogram"
           }
          ],
          "histogram2d": [
           {
            "colorbar": {
             "outlinewidth": 0,
             "ticks": ""
            },
            "colorscale": [
             [
              0,
              "#0d0887"
             ],
             [
              0.1111111111111111,
              "#46039f"
             ],
             [
              0.2222222222222222,
              "#7201a8"
             ],
             [
              0.3333333333333333,
              "#9c179e"
             ],
             [
              0.4444444444444444,
              "#bd3786"
             ],
             [
              0.5555555555555556,
              "#d8576b"
             ],
             [
              0.6666666666666666,
              "#ed7953"
             ],
             [
              0.7777777777777778,
              "#fb9f3a"
             ],
             [
              0.8888888888888888,
              "#fdca26"
             ],
             [
              1,
              "#f0f921"
             ]
            ],
            "type": "histogram2d"
           }
          ],
          "histogram2dcontour": [
           {
            "colorbar": {
             "outlinewidth": 0,
             "ticks": ""
            },
            "colorscale": [
             [
              0,
              "#0d0887"
             ],
             [
              0.1111111111111111,
              "#46039f"
             ],
             [
              0.2222222222222222,
              "#7201a8"
             ],
             [
              0.3333333333333333,
              "#9c179e"
             ],
             [
              0.4444444444444444,
              "#bd3786"
             ],
             [
              0.5555555555555556,
              "#d8576b"
             ],
             [
              0.6666666666666666,
              "#ed7953"
             ],
             [
              0.7777777777777778,
              "#fb9f3a"
             ],
             [
              0.8888888888888888,
              "#fdca26"
             ],
             [
              1,
              "#f0f921"
             ]
            ],
            "type": "histogram2dcontour"
           }
          ],
          "mesh3d": [
           {
            "colorbar": {
             "outlinewidth": 0,
             "ticks": ""
            },
            "type": "mesh3d"
           }
          ],
          "parcoords": [
           {
            "line": {
             "colorbar": {
              "outlinewidth": 0,
              "ticks": ""
             }
            },
            "type": "parcoords"
           }
          ],
          "pie": [
           {
            "automargin": true,
            "type": "pie"
           }
          ],
          "scatter": [
           {
            "fillpattern": {
             "fillmode": "overlay",
             "size": 10,
             "solidity": 0.2
            },
            "type": "scatter"
           }
          ],
          "scatter3d": [
           {
            "line": {
             "colorbar": {
              "outlinewidth": 0,
              "ticks": ""
             }
            },
            "marker": {
             "colorbar": {
              "outlinewidth": 0,
              "ticks": ""
             }
            },
            "type": "scatter3d"
           }
          ],
          "scattercarpet": [
           {
            "marker": {
             "colorbar": {
              "outlinewidth": 0,
              "ticks": ""
             }
            },
            "type": "scattercarpet"
           }
          ],
          "scattergeo": [
           {
            "marker": {
             "colorbar": {
              "outlinewidth": 0,
              "ticks": ""
             }
            },
            "type": "scattergeo"
           }
          ],
          "scattergl": [
           {
            "marker": {
             "colorbar": {
              "outlinewidth": 0,
              "ticks": ""
             }
            },
            "type": "scattergl"
           }
          ],
          "scattermap": [
           {
            "marker": {
             "colorbar": {
              "outlinewidth": 0,
              "ticks": ""
             }
            },
            "type": "scattermap"
           }
          ],
          "scattermapbox": [
           {
            "marker": {
             "colorbar": {
              "outlinewidth": 0,
              "ticks": ""
             }
            },
            "type": "scattermapbox"
           }
          ],
          "scatterpolar": [
           {
            "marker": {
             "colorbar": {
              "outlinewidth": 0,
              "ticks": ""
             }
            },
            "type": "scatterpolar"
           }
          ],
          "scatterpolargl": [
           {
            "marker": {
             "colorbar": {
              "outlinewidth": 0,
              "ticks": ""
             }
            },
            "type": "scatterpolargl"
           }
          ],
          "scatterternary": [
           {
            "marker": {
             "colorbar": {
              "outlinewidth": 0,
              "ticks": ""
             }
            },
            "type": "scatterternary"
           }
          ],
          "surface": [
           {
            "colorbar": {
             "outlinewidth": 0,
             "ticks": ""
            },
            "colorscale": [
             [
              0,
              "#0d0887"
             ],
             [
              0.1111111111111111,
              "#46039f"
             ],
             [
              0.2222222222222222,
              "#7201a8"
             ],
             [
              0.3333333333333333,
              "#9c179e"
             ],
             [
              0.4444444444444444,
              "#bd3786"
             ],
             [
              0.5555555555555556,
              "#d8576b"
             ],
             [
              0.6666666666666666,
              "#ed7953"
             ],
             [
              0.7777777777777778,
              "#fb9f3a"
             ],
             [
              0.8888888888888888,
              "#fdca26"
             ],
             [
              1,
              "#f0f921"
             ]
            ],
            "type": "surface"
           }
          ],
          "table": [
           {
            "cells": {
             "fill": {
              "color": "#EBF0F8"
             },
             "line": {
              "color": "white"
             }
            },
            "header": {
             "fill": {
              "color": "#C8D4E3"
             },
             "line": {
              "color": "white"
             }
            },
            "type": "table"
           }
          ]
         },
         "layout": {
          "annotationdefaults": {
           "arrowcolor": "#2a3f5f",
           "arrowhead": 0,
           "arrowwidth": 1
          },
          "autotypenumbers": "strict",
          "coloraxis": {
           "colorbar": {
            "outlinewidth": 0,
            "ticks": ""
           }
          },
          "colorscale": {
           "diverging": [
            [
             0,
             "#8e0152"
            ],
            [
             0.1,
             "#c51b7d"
            ],
            [
             0.2,
             "#de77ae"
            ],
            [
             0.3,
             "#f1b6da"
            ],
            [
             0.4,
             "#fde0ef"
            ],
            [
             0.5,
             "#f7f7f7"
            ],
            [
             0.6,
             "#e6f5d0"
            ],
            [
             0.7,
             "#b8e186"
            ],
            [
             0.8,
             "#7fbc41"
            ],
            [
             0.9,
             "#4d9221"
            ],
            [
             1,
             "#276419"
            ]
           ],
           "sequential": [
            [
             0,
             "#0d0887"
            ],
            [
             0.1111111111111111,
             "#46039f"
            ],
            [
             0.2222222222222222,
             "#7201a8"
            ],
            [
             0.3333333333333333,
             "#9c179e"
            ],
            [
             0.4444444444444444,
             "#bd3786"
            ],
            [
             0.5555555555555556,
             "#d8576b"
            ],
            [
             0.6666666666666666,
             "#ed7953"
            ],
            [
             0.7777777777777778,
             "#fb9f3a"
            ],
            [
             0.8888888888888888,
             "#fdca26"
            ],
            [
             1,
             "#f0f921"
            ]
           ],
           "sequentialminus": [
            [
             0,
             "#0d0887"
            ],
            [
             0.1111111111111111,
             "#46039f"
            ],
            [
             0.2222222222222222,
             "#7201a8"
            ],
            [
             0.3333333333333333,
             "#9c179e"
            ],
            [
             0.4444444444444444,
             "#bd3786"
            ],
            [
             0.5555555555555556,
             "#d8576b"
            ],
            [
             0.6666666666666666,
             "#ed7953"
            ],
            [
             0.7777777777777778,
             "#fb9f3a"
            ],
            [
             0.8888888888888888,
             "#fdca26"
            ],
            [
             1,
             "#f0f921"
            ]
           ]
          },
          "colorway": [
           "#636efa",
           "#EF553B",
           "#00cc96",
           "#ab63fa",
           "#FFA15A",
           "#19d3f3",
           "#FF6692",
           "#B6E880",
           "#FF97FF",
           "#FECB52"
          ],
          "font": {
           "color": "#2a3f5f"
          },
          "geo": {
           "bgcolor": "white",
           "lakecolor": "white",
           "landcolor": "#E5ECF6",
           "showlakes": true,
           "showland": true,
           "subunitcolor": "white"
          },
          "hoverlabel": {
           "align": "left"
          },
          "hovermode": "closest",
          "mapbox": {
           "style": "light"
          },
          "paper_bgcolor": "white",
          "plot_bgcolor": "#E5ECF6",
          "polar": {
           "angularaxis": {
            "gridcolor": "white",
            "linecolor": "white",
            "ticks": ""
           },
           "bgcolor": "#E5ECF6",
           "radialaxis": {
            "gridcolor": "white",
            "linecolor": "white",
            "ticks": ""
           }
          },
          "scene": {
           "xaxis": {
            "backgroundcolor": "#E5ECF6",
            "gridcolor": "white",
            "gridwidth": 2,
            "linecolor": "white",
            "showbackground": true,
            "ticks": "",
            "zerolinecolor": "white"
           },
           "yaxis": {
            "backgroundcolor": "#E5ECF6",
            "gridcolor": "white",
            "gridwidth": 2,
            "linecolor": "white",
            "showbackground": true,
            "ticks": "",
            "zerolinecolor": "white"
           },
           "zaxis": {
            "backgroundcolor": "#E5ECF6",
            "gridcolor": "white",
            "gridwidth": 2,
            "linecolor": "white",
            "showbackground": true,
            "ticks": "",
            "zerolinecolor": "white"
           }
          },
          "shapedefaults": {
           "line": {
            "color": "#2a3f5f"
           }
          },
          "ternary": {
           "aaxis": {
            "gridcolor": "white",
            "linecolor": "white",
            "ticks": ""
           },
           "baxis": {
            "gridcolor": "white",
            "linecolor": "white",
            "ticks": ""
           },
           "bgcolor": "#E5ECF6",
           "caxis": {
            "gridcolor": "white",
            "linecolor": "white",
            "ticks": ""
           }
          },
          "title": {
           "x": 0.05
          },
          "xaxis": {
           "automargin": true,
           "gridcolor": "white",
           "linecolor": "white",
           "ticks": "",
           "title": {
            "standoff": 15
           },
           "zerolinecolor": "white",
           "zerolinewidth": 2
          },
          "yaxis": {
           "automargin": true,
           "gridcolor": "white",
           "linecolor": "white",
           "ticks": "",
           "title": {
            "standoff": 15
           },
           "zerolinecolor": "white",
           "zerolinewidth": 2
          }
         }
        },
        "title": {
         "text": "PCA Scree Plot (per-component explained variance)"
        },
        "width": 900,
        "xaxis": {
         "title": {
          "text": "Principal component"
         }
        },
        "yaxis": {
         "rangemode": "tozero",
         "title": {
          "text": "Explained variance (%)"
         }
        }
       }
      }
     },
     "metadata": {},
     "output_type": "display_data"
    }
   ],
   "source": [
    "# 4) Explained variance — scree\n",
    "fig4 = fig_pca_scree(p[\"full_var_all\"], p[\"k\"]); fig4.show()"
   ]
  },
  {
   "cell_type": "code",
   "execution_count": 43,
   "id": "1aba32a0",
   "metadata": {},
   "outputs": [
    {
     "data": {
      "application/vnd.plotly.v1+json": {
       "config": {
        "plotlyServerURL": "https://plot.ly"
       },
       "data": [
        {
         "mode": "lines+markers",
         "name": "Cumulative EVR (%)",
         "type": "scatter",
         "x": {
          "bdata": "AQIDBAUGBwgJCgsM",
          "dtype": "i1"
         },
         "y": {
          "bdata": "jVXkDUFBVUDtDovDCs1XQJYvA1YiV1hAs+5W0WSPWEAZRNo+PrVYQLFy9yH9z1hAVyEQu/XfWEBtaLauO+lYQLYxlZGC8VhARJ5jy9/4WECaYdHOaP1YQAAAAAAAAFlA",
          "dtype": "f8"
         }
        }
       ],
       "layout": {
        "annotations": [
         {
          "showarrow": false,
          "text": "95% threshold",
          "x": 1,
          "xanchor": "right",
          "xref": "x domain",
          "y": 95,
          "yanchor": "top",
          "yref": "y"
         },
         {
          "showarrow": false,
          "text": "k = 2",
          "x": 2.5,
          "xanchor": "center",
          "xref": "x",
          "y": 1,
          "yanchor": "bottom",
          "yref": "y domain"
         }
        ],
        "autosize": false,
        "height": 700,
        "hovermode": "x unified",
        "margin": {
         "b": 60,
         "l": 60,
         "r": 20,
         "t": 80
        },
        "shapes": [
         {
          "line": {
           "dash": "dash"
          },
          "type": "line",
          "x0": 0,
          "x1": 1,
          "xref": "x domain",
          "y0": 95,
          "y1": 95,
          "yref": "y"
         },
         {
          "line": {
           "dash": "dash"
          },
          "type": "line",
          "x0": 2.5,
          "x1": 2.5,
          "xref": "x",
          "y0": 0,
          "y1": 1,
          "yref": "y domain"
         }
        ],
        "showlegend": false,
        "template": {
         "data": {
          "bar": [
           {
            "error_x": {
             "color": "#2a3f5f"
            },
            "error_y": {
             "color": "#2a3f5f"
            },
            "marker": {
             "line": {
              "color": "#E5ECF6",
              "width": 0.5
             },
             "pattern": {
              "fillmode": "overlay",
              "size": 10,
              "solidity": 0.2
             }
            },
            "type": "bar"
           }
          ],
          "barpolar": [
           {
            "marker": {
             "line": {
              "color": "#E5ECF6",
              "width": 0.5
             },
             "pattern": {
              "fillmode": "overlay",
              "size": 10,
              "solidity": 0.2
             }
            },
            "type": "barpolar"
           }
          ],
          "carpet": [
           {
            "aaxis": {
             "endlinecolor": "#2a3f5f",
             "gridcolor": "white",
             "linecolor": "white",
             "minorgridcolor": "white",
             "startlinecolor": "#2a3f5f"
            },
            "baxis": {
             "endlinecolor": "#2a3f5f",
             "gridcolor": "white",
             "linecolor": "white",
             "minorgridcolor": "white",
             "startlinecolor": "#2a3f5f"
            },
            "type": "carpet"
           }
          ],
          "choropleth": [
           {
            "colorbar": {
             "outlinewidth": 0,
             "ticks": ""
            },
            "type": "choropleth"
           }
          ],
          "contour": [
           {
            "colorbar": {
             "outlinewidth": 0,
             "ticks": ""
            },
            "colorscale": [
             [
              0,
              "#0d0887"
             ],
             [
              0.1111111111111111,
              "#46039f"
             ],
             [
              0.2222222222222222,
              "#7201a8"
             ],
             [
              0.3333333333333333,
              "#9c179e"
             ],
             [
              0.4444444444444444,
              "#bd3786"
             ],
             [
              0.5555555555555556,
              "#d8576b"
             ],
             [
              0.6666666666666666,
              "#ed7953"
             ],
             [
              0.7777777777777778,
              "#fb9f3a"
             ],
             [
              0.8888888888888888,
              "#fdca26"
             ],
             [
              1,
              "#f0f921"
             ]
            ],
            "type": "contour"
           }
          ],
          "contourcarpet": [
           {
            "colorbar": {
             "outlinewidth": 0,
             "ticks": ""
            },
            "type": "contourcarpet"
           }
          ],
          "heatmap": [
           {
            "colorbar": {
             "outlinewidth": 0,
             "ticks": ""
            },
            "colorscale": [
             [
              0,
              "#0d0887"
             ],
             [
              0.1111111111111111,
              "#46039f"
             ],
             [
              0.2222222222222222,
              "#7201a8"
             ],
             [
              0.3333333333333333,
              "#9c179e"
             ],
             [
              0.4444444444444444,
              "#bd3786"
             ],
             [
              0.5555555555555556,
              "#d8576b"
             ],
             [
              0.6666666666666666,
              "#ed7953"
             ],
             [
              0.7777777777777778,
              "#fb9f3a"
             ],
             [
              0.8888888888888888,
              "#fdca26"
             ],
             [
              1,
              "#f0f921"
             ]
            ],
            "type": "heatmap"
           }
          ],
          "histogram": [
           {
            "marker": {
             "pattern": {
              "fillmode": "overlay",
              "size": 10,
              "solidity": 0.2
             }
            },
            "type": "histogram"
           }
          ],
          "histogram2d": [
           {
            "colorbar": {
             "outlinewidth": 0,
             "ticks": ""
            },
            "colorscale": [
             [
              0,
              "#0d0887"
             ],
             [
              0.1111111111111111,
              "#46039f"
             ],
             [
              0.2222222222222222,
              "#7201a8"
             ],
             [
              0.3333333333333333,
              "#9c179e"
             ],
             [
              0.4444444444444444,
              "#bd3786"
             ],
             [
              0.5555555555555556,
              "#d8576b"
             ],
             [
              0.6666666666666666,
              "#ed7953"
             ],
             [
              0.7777777777777778,
              "#fb9f3a"
             ],
             [
              0.8888888888888888,
              "#fdca26"
             ],
             [
              1,
              "#f0f921"
             ]
            ],
            "type": "histogram2d"
           }
          ],
          "histogram2dcontour": [
           {
            "colorbar": {
             "outlinewidth": 0,
             "ticks": ""
            },
            "colorscale": [
             [
              0,
              "#0d0887"
             ],
             [
              0.1111111111111111,
              "#46039f"
             ],
             [
              0.2222222222222222,
              "#7201a8"
             ],
             [
              0.3333333333333333,
              "#9c179e"
             ],
             [
              0.4444444444444444,
              "#bd3786"
             ],
             [
              0.5555555555555556,
              "#d8576b"
             ],
             [
              0.6666666666666666,
              "#ed7953"
             ],
             [
              0.7777777777777778,
              "#fb9f3a"
             ],
             [
              0.8888888888888888,
              "#fdca26"
             ],
             [
              1,
              "#f0f921"
             ]
            ],
            "type": "histogram2dcontour"
           }
          ],
          "mesh3d": [
           {
            "colorbar": {
             "outlinewidth": 0,
             "ticks": ""
            },
            "type": "mesh3d"
           }
          ],
          "parcoords": [
           {
            "line": {
             "colorbar": {
              "outlinewidth": 0,
              "ticks": ""
             }
            },
            "type": "parcoords"
           }
          ],
          "pie": [
           {
            "automargin": true,
            "type": "pie"
           }
          ],
          "scatter": [
           {
            "fillpattern": {
             "fillmode": "overlay",
             "size": 10,
             "solidity": 0.2
            },
            "type": "scatter"
           }
          ],
          "scatter3d": [
           {
            "line": {
             "colorbar": {
              "outlinewidth": 0,
              "ticks": ""
             }
            },
            "marker": {
             "colorbar": {
              "outlinewidth": 0,
              "ticks": ""
             }
            },
            "type": "scatter3d"
           }
          ],
          "scattercarpet": [
           {
            "marker": {
             "colorbar": {
              "outlinewidth": 0,
              "ticks": ""
             }
            },
            "type": "scattercarpet"
           }
          ],
          "scattergeo": [
           {
            "marker": {
             "colorbar": {
              "outlinewidth": 0,
              "ticks": ""
             }
            },
            "type": "scattergeo"
           }
          ],
          "scattergl": [
           {
            "marker": {
             "colorbar": {
              "outlinewidth": 0,
              "ticks": ""
             }
            },
            "type": "scattergl"
           }
          ],
          "scattermap": [
           {
            "marker": {
             "colorbar": {
              "outlinewidth": 0,
              "ticks": ""
             }
            },
            "type": "scattermap"
           }
          ],
          "scattermapbox": [
           {
            "marker": {
             "colorbar": {
              "outlinewidth": 0,
              "ticks": ""
             }
            },
            "type": "scattermapbox"
           }
          ],
          "scatterpolar": [
           {
            "marker": {
             "colorbar": {
              "outlinewidth": 0,
              "ticks": ""
             }
            },
            "type": "scatterpolar"
           }
          ],
          "scatterpolargl": [
           {
            "marker": {
             "colorbar": {
              "outlinewidth": 0,
              "ticks": ""
             }
            },
            "type": "scatterpolargl"
           }
          ],
          "scatterternary": [
           {
            "marker": {
             "colorbar": {
              "outlinewidth": 0,
              "ticks": ""
             }
            },
            "type": "scatterternary"
           }
          ],
          "surface": [
           {
            "colorbar": {
             "outlinewidth": 0,
             "ticks": ""
            },
            "colorscale": [
             [
              0,
              "#0d0887"
             ],
             [
              0.1111111111111111,
              "#46039f"
             ],
             [
              0.2222222222222222,
              "#7201a8"
             ],
             [
              0.3333333333333333,
              "#9c179e"
             ],
             [
              0.4444444444444444,
              "#bd3786"
             ],
             [
              0.5555555555555556,
              "#d8576b"
             ],
             [
              0.6666666666666666,
              "#ed7953"
             ],
             [
              0.7777777777777778,
              "#fb9f3a"
             ],
             [
              0.8888888888888888,
              "#fdca26"
             ],
             [
              1,
              "#f0f921"
             ]
            ],
            "type": "surface"
           }
          ],
          "table": [
           {
            "cells": {
             "fill": {
              "color": "#EBF0F8"
             },
             "line": {
              "color": "white"
             }
            },
            "header": {
             "fill": {
              "color": "#C8D4E3"
             },
             "line": {
              "color": "white"
             }
            },
            "type": "table"
           }
          ]
         },
         "layout": {
          "annotationdefaults": {
           "arrowcolor": "#2a3f5f",
           "arrowhead": 0,
           "arrowwidth": 1
          },
          "autotypenumbers": "strict",
          "coloraxis": {
           "colorbar": {
            "outlinewidth": 0,
            "ticks": ""
           }
          },
          "colorscale": {
           "diverging": [
            [
             0,
             "#8e0152"
            ],
            [
             0.1,
             "#c51b7d"
            ],
            [
             0.2,
             "#de77ae"
            ],
            [
             0.3,
             "#f1b6da"
            ],
            [
             0.4,
             "#fde0ef"
            ],
            [
             0.5,
             "#f7f7f7"
            ],
            [
             0.6,
             "#e6f5d0"
            ],
            [
             0.7,
             "#b8e186"
            ],
            [
             0.8,
             "#7fbc41"
            ],
            [
             0.9,
             "#4d9221"
            ],
            [
             1,
             "#276419"
            ]
           ],
           "sequential": [
            [
             0,
             "#0d0887"
            ],
            [
             0.1111111111111111,
             "#46039f"
            ],
            [
             0.2222222222222222,
             "#7201a8"
            ],
            [
             0.3333333333333333,
             "#9c179e"
            ],
            [
             0.4444444444444444,
             "#bd3786"
            ],
            [
             0.5555555555555556,
             "#d8576b"
            ],
            [
             0.6666666666666666,
             "#ed7953"
            ],
            [
             0.7777777777777778,
             "#fb9f3a"
            ],
            [
             0.8888888888888888,
             "#fdca26"
            ],
            [
             1,
             "#f0f921"
            ]
           ],
           "sequentialminus": [
            [
             0,
             "#0d0887"
            ],
            [
             0.1111111111111111,
             "#46039f"
            ],
            [
             0.2222222222222222,
             "#7201a8"
            ],
            [
             0.3333333333333333,
             "#9c179e"
            ],
            [
             0.4444444444444444,
             "#bd3786"
            ],
            [
             0.5555555555555556,
             "#d8576b"
            ],
            [
             0.6666666666666666,
             "#ed7953"
            ],
            [
             0.7777777777777778,
             "#fb9f3a"
            ],
            [
             0.8888888888888888,
             "#fdca26"
            ],
            [
             1,
             "#f0f921"
            ]
           ]
          },
          "colorway": [
           "#636efa",
           "#EF553B",
           "#00cc96",
           "#ab63fa",
           "#FFA15A",
           "#19d3f3",
           "#FF6692",
           "#B6E880",
           "#FF97FF",
           "#FECB52"
          ],
          "font": {
           "color": "#2a3f5f"
          },
          "geo": {
           "bgcolor": "white",
           "lakecolor": "white",
           "landcolor": "#E5ECF6",
           "showlakes": true,
           "showland": true,
           "subunitcolor": "white"
          },
          "hoverlabel": {
           "align": "left"
          },
          "hovermode": "closest",
          "mapbox": {
           "style": "light"
          },
          "paper_bgcolor": "white",
          "plot_bgcolor": "#E5ECF6",
          "polar": {
           "angularaxis": {
            "gridcolor": "white",
            "linecolor": "white",
            "ticks": ""
           },
           "bgcolor": "#E5ECF6",
           "radialaxis": {
            "gridcolor": "white",
            "linecolor": "white",
            "ticks": ""
           }
          },
          "scene": {
           "xaxis": {
            "backgroundcolor": "#E5ECF6",
            "gridcolor": "white",
            "gridwidth": 2,
            "linecolor": "white",
            "showbackground": true,
            "ticks": "",
            "zerolinecolor": "white"
           },
           "yaxis": {
            "backgroundcolor": "#E5ECF6",
            "gridcolor": "white",
            "gridwidth": 2,
            "linecolor": "white",
            "showbackground": true,
            "ticks": "",
            "zerolinecolor": "white"
           },
           "zaxis": {
            "backgroundcolor": "#E5ECF6",
            "gridcolor": "white",
            "gridwidth": 2,
            "linecolor": "white",
            "showbackground": true,
            "ticks": "",
            "zerolinecolor": "white"
           }
          },
          "shapedefaults": {
           "line": {
            "color": "#2a3f5f"
           }
          },
          "ternary": {
           "aaxis": {
            "gridcolor": "white",
            "linecolor": "white",
            "ticks": ""
           },
           "baxis": {
            "gridcolor": "white",
            "linecolor": "white",
            "ticks": ""
           },
           "bgcolor": "#E5ECF6",
           "caxis": {
            "gridcolor": "white",
            "linecolor": "white",
            "ticks": ""
           }
          },
          "title": {
           "x": 0.05
          },
          "xaxis": {
           "automargin": true,
           "gridcolor": "white",
           "linecolor": "white",
           "ticks": "",
           "title": {
            "standoff": 15
           },
           "zerolinecolor": "white",
           "zerolinewidth": 2
          },
          "yaxis": {
           "automargin": true,
           "gridcolor": "white",
           "linecolor": "white",
           "ticks": "",
           "title": {
            "standoff": 15
           },
           "zerolinecolor": "white",
           "zerolinewidth": 2
          }
         }
        },
        "title": {
         "text": "PCA Cumulative Explained Variance"
        },
        "width": 900,
        "xaxis": {
         "title": {
          "text": "Principal component"
         }
        },
        "yaxis": {
         "rangemode": "tozero",
         "title": {
          "text": "Cumulative explained variance (%)"
         }
        }
       }
      }
     },
     "metadata": {},
     "output_type": "display_data"
    }
   ],
   "source": [
    "# 5) Explained variance — cumulative\n",
    "fig5 = fig_pca_cumulative(p[\"cumvar_all\"], p[\"k\"], retain=p[\"retain\"]); fig5.show()"
   ]
  },
  {
   "cell_type": "code",
   "execution_count": 44,
   "id": "4604a625",
   "metadata": {},
   "outputs": [
    {
     "name": "stdout",
     "output_type": "stream",
     "text": [
      "Outliers (alpha = 1.00%)\n",
      "\n",
      "    City  Q_residual       T2\n",
      "  Vienna    5.603110 1.152162\n",
      "Marbella    0.301382 8.483886\n"
     ]
    },
    {
     "data": {
      "application/vnd.plotly.v1+json": {
       "config": {
        "plotlyServerURL": "https://plot.ly"
       },
       "data": [
        {
         "hovertemplate": "<b>%{text}</b><br>T²=%{x:.3f}<br>Q=%{y:.3f}<extra></extra>",
         "marker": {
          "opacity": 0.9,
          "size": 8
         },
         "mode": "markers+text",
         "text": [
          "Amsterdam",
          "Ankara",
          "Athens",
          "Belgrade",
          "Berlin",
          "Bern",
          "Bonn",
          "Bruxells",
          "Bucarest",
          "Budapest",
          "Copenhagen",
          "Dublin",
          "Helsinki",
          "Lisbon",
          "London",
          "Luxemborg",
          "Marbella",
          "Moscow",
          "Oslo",
          "Paris",
          "Prague",
          "Rome",
          "Sofia",
          "Stockholm",
          "Vienna",
          "Warsaw",
          "Bratislava",
          "St. Petersberg",
          "Ljubljana",
          "Madrid",
          "Milan",
          "Edinburgh",
          "Skopje"
         ],
         "textfont": {
          "size": 10
         },
         "textposition": "top center",
         "type": "scatter",
         "x": {
          "bdata": "ktsD8/vjAUB91O8smjThP4rf/jLnwxFAvBArd+QI5D84uaVrQzvKP5P5Z1Z+ZeA/AVzQaDZz3z/rHpgnpzDoP73l31Z8ZwFA6YHlwOXt9j+swyJebtfiP4UZmd/FMBdALDtjAfgVDUBQmS3RfLkKQEPKanHTEfQ/pNNRBklK4D9+wXnav/cgQMxMtvO65h5A31hiRYbz+T/yrDwXbZLMP4+X4pvWsuA/cdqlgrsR+T+uxEVtmTXQP6PQgOfJhvQ/jm7/9kBv8j8Evvlmf4LtP+K6KAr1rM8/vI5NKhPOGUCN2Zaj6pazP1C15Wg88PA/gUBH5f3U3z9nWzUIPAcAQMIrSE/w7vU/",
          "dtype": "f8"
         },
         "y": {
          "bdata": "wpQcbzJM0T8Bec9wXzbeP3ieKVCedeM/pjLNvjuZ0j//4CgvaI7NP9pka4/vDNc/7AcMi+396z9MNCjaO/3bP0l1hAQXFtg/fpfofcut0j+cpscEP/DKPzO/lKTRic0/xGc0Zb+/5z+mBsuXAVC/P8TPCvyFy8M/k9WdbTki4j9A4sYA2UnTP4fJihnJkeo/cn/GK1BZ9z+MyEOAZ5XRP+Tjh2tfwMU/AlN44yfR0D+ZzeWGsS3RP5n56f61LuY/6QwMlpVpFkAQXIUPE4XnP9mCRQ/m1tA/v/Ch24JxtD9i/7Cgnz7JPwI0Bd1LWeg/rfSCkPE0zz9qMfp74T/bPy94f1Z5psc/",
          "dtype": "f8"
         }
        }
       ],
       "layout": {
        "autosize": false,
        "height": 700,
        "hovermode": "closest",
        "margin": {
         "b": 60,
         "l": 60,
         "r": 20,
         "t": 80
        },
        "shapes": [
         {
          "line": {
           "dash": "dash"
          },
          "type": "line",
          "x0": 8.241145421187621,
          "x1": 8.241145421187621,
          "xref": "x",
          "y0": 0,
          "y1": 1,
          "yref": "y domain"
         },
         {
          "line": {
           "dash": "dash"
          },
          "type": "line",
          "x0": 0,
          "x1": 1,
          "xref": "x domain",
          "y0": 4.277092179269187,
          "y1": 4.277092179269187,
          "yref": "y"
         }
        ],
        "template": {
         "data": {
          "bar": [
           {
            "error_x": {
             "color": "#2a3f5f"
            },
            "error_y": {
             "color": "#2a3f5f"
            },
            "marker": {
             "line": {
              "color": "#E5ECF6",
              "width": 0.5
             },
             "pattern": {
              "fillmode": "overlay",
              "size": 10,
              "solidity": 0.2
             }
            },
            "type": "bar"
           }
          ],
          "barpolar": [
           {
            "marker": {
             "line": {
              "color": "#E5ECF6",
              "width": 0.5
             },
             "pattern": {
              "fillmode": "overlay",
              "size": 10,
              "solidity": 0.2
             }
            },
            "type": "barpolar"
           }
          ],
          "carpet": [
           {
            "aaxis": {
             "endlinecolor": "#2a3f5f",
             "gridcolor": "white",
             "linecolor": "white",
             "minorgridcolor": "white",
             "startlinecolor": "#2a3f5f"
            },
            "baxis": {
             "endlinecolor": "#2a3f5f",
             "gridcolor": "white",
             "linecolor": "white",
             "minorgridcolor": "white",
             "startlinecolor": "#2a3f5f"
            },
            "type": "carpet"
           }
          ],
          "choropleth": [
           {
            "colorbar": {
             "outlinewidth": 0,
             "ticks": ""
            },
            "type": "choropleth"
           }
          ],
          "contour": [
           {
            "colorbar": {
             "outlinewidth": 0,
             "ticks": ""
            },
            "colorscale": [
             [
              0,
              "#0d0887"
             ],
             [
              0.1111111111111111,
              "#46039f"
             ],
             [
              0.2222222222222222,
              "#7201a8"
             ],
             [
              0.3333333333333333,
              "#9c179e"
             ],
             [
              0.4444444444444444,
              "#bd3786"
             ],
             [
              0.5555555555555556,
              "#d8576b"
             ],
             [
              0.6666666666666666,
              "#ed7953"
             ],
             [
              0.7777777777777778,
              "#fb9f3a"
             ],
             [
              0.8888888888888888,
              "#fdca26"
             ],
             [
              1,
              "#f0f921"
             ]
            ],
            "type": "contour"
           }
          ],
          "contourcarpet": [
           {
            "colorbar": {
             "outlinewidth": 0,
             "ticks": ""
            },
            "type": "contourcarpet"
           }
          ],
          "heatmap": [
           {
            "colorbar": {
             "outlinewidth": 0,
             "ticks": ""
            },
            "colorscale": [
             [
              0,
              "#0d0887"
             ],
             [
              0.1111111111111111,
              "#46039f"
             ],
             [
              0.2222222222222222,
              "#7201a8"
             ],
             [
              0.3333333333333333,
              "#9c179e"
             ],
             [
              0.4444444444444444,
              "#bd3786"
             ],
             [
              0.5555555555555556,
              "#d8576b"
             ],
             [
              0.6666666666666666,
              "#ed7953"
             ],
             [
              0.7777777777777778,
              "#fb9f3a"
             ],
             [
              0.8888888888888888,
              "#fdca26"
             ],
             [
              1,
              "#f0f921"
             ]
            ],
            "type": "heatmap"
           }
          ],
          "histogram": [
           {
            "marker": {
             "pattern": {
              "fillmode": "overlay",
              "size": 10,
              "solidity": 0.2
             }
            },
            "type": "histogram"
           }
          ],
          "histogram2d": [
           {
            "colorbar": {
             "outlinewidth": 0,
             "ticks": ""
            },
            "colorscale": [
             [
              0,
              "#0d0887"
             ],
             [
              0.1111111111111111,
              "#46039f"
             ],
             [
              0.2222222222222222,
              "#7201a8"
             ],
             [
              0.3333333333333333,
              "#9c179e"
             ],
             [
              0.4444444444444444,
              "#bd3786"
             ],
             [
              0.5555555555555556,
              "#d8576b"
             ],
             [
              0.6666666666666666,
              "#ed7953"
             ],
             [
              0.7777777777777778,
              "#fb9f3a"
             ],
             [
              0.8888888888888888,
              "#fdca26"
             ],
             [
              1,
              "#f0f921"
             ]
            ],
            "type": "histogram2d"
           }
          ],
          "histogram2dcontour": [
           {
            "colorbar": {
             "outlinewidth": 0,
             "ticks": ""
            },
            "colorscale": [
             [
              0,
              "#0d0887"
             ],
             [
              0.1111111111111111,
              "#46039f"
             ],
             [
              0.2222222222222222,
              "#7201a8"
             ],
             [
              0.3333333333333333,
              "#9c179e"
             ],
             [
              0.4444444444444444,
              "#bd3786"
             ],
             [
              0.5555555555555556,
              "#d8576b"
             ],
             [
              0.6666666666666666,
              "#ed7953"
             ],
             [
              0.7777777777777778,
              "#fb9f3a"
             ],
             [
              0.8888888888888888,
              "#fdca26"
             ],
             [
              1,
              "#f0f921"
             ]
            ],
            "type": "histogram2dcontour"
           }
          ],
          "mesh3d": [
           {
            "colorbar": {
             "outlinewidth": 0,
             "ticks": ""
            },
            "type": "mesh3d"
           }
          ],
          "parcoords": [
           {
            "line": {
             "colorbar": {
              "outlinewidth": 0,
              "ticks": ""
             }
            },
            "type": "parcoords"
           }
          ],
          "pie": [
           {
            "automargin": true,
            "type": "pie"
           }
          ],
          "scatter": [
           {
            "fillpattern": {
             "fillmode": "overlay",
             "size": 10,
             "solidity": 0.2
            },
            "type": "scatter"
           }
          ],
          "scatter3d": [
           {
            "line": {
             "colorbar": {
              "outlinewidth": 0,
              "ticks": ""
             }
            },
            "marker": {
             "colorbar": {
              "outlinewidth": 0,
              "ticks": ""
             }
            },
            "type": "scatter3d"
           }
          ],
          "scattercarpet": [
           {
            "marker": {
             "colorbar": {
              "outlinewidth": 0,
              "ticks": ""
             }
            },
            "type": "scattercarpet"
           }
          ],
          "scattergeo": [
           {
            "marker": {
             "colorbar": {
              "outlinewidth": 0,
              "ticks": ""
             }
            },
            "type": "scattergeo"
           }
          ],
          "scattergl": [
           {
            "marker": {
             "colorbar": {
              "outlinewidth": 0,
              "ticks": ""
             }
            },
            "type": "scattergl"
           }
          ],
          "scattermap": [
           {
            "marker": {
             "colorbar": {
              "outlinewidth": 0,
              "ticks": ""
             }
            },
            "type": "scattermap"
           }
          ],
          "scattermapbox": [
           {
            "marker": {
             "colorbar": {
              "outlinewidth": 0,
              "ticks": ""
             }
            },
            "type": "scattermapbox"
           }
          ],
          "scatterpolar": [
           {
            "marker": {
             "colorbar": {
              "outlinewidth": 0,
              "ticks": ""
             }
            },
            "type": "scatterpolar"
           }
          ],
          "scatterpolargl": [
           {
            "marker": {
             "colorbar": {
              "outlinewidth": 0,
              "ticks": ""
             }
            },
            "type": "scatterpolargl"
           }
          ],
          "scatterternary": [
           {
            "marker": {
             "colorbar": {
              "outlinewidth": 0,
              "ticks": ""
             }
            },
            "type": "scatterternary"
           }
          ],
          "surface": [
           {
            "colorbar": {
             "outlinewidth": 0,
             "ticks": ""
            },
            "colorscale": [
             [
              0,
              "#0d0887"
             ],
             [
              0.1111111111111111,
              "#46039f"
             ],
             [
              0.2222222222222222,
              "#7201a8"
             ],
             [
              0.3333333333333333,
              "#9c179e"
             ],
             [
              0.4444444444444444,
              "#bd3786"
             ],
             [
              0.5555555555555556,
              "#d8576b"
             ],
             [
              0.6666666666666666,
              "#ed7953"
             ],
             [
              0.7777777777777778,
              "#fb9f3a"
             ],
             [
              0.8888888888888888,
              "#fdca26"
             ],
             [
              1,
              "#f0f921"
             ]
            ],
            "type": "surface"
           }
          ],
          "table": [
           {
            "cells": {
             "fill": {
              "color": "#EBF0F8"
             },
             "line": {
              "color": "white"
             }
            },
            "header": {
             "fill": {
              "color": "#C8D4E3"
             },
             "line": {
              "color": "white"
             }
            },
            "type": "table"
           }
          ]
         },
         "layout": {
          "annotationdefaults": {
           "arrowcolor": "#2a3f5f",
           "arrowhead": 0,
           "arrowwidth": 1
          },
          "autotypenumbers": "strict",
          "coloraxis": {
           "colorbar": {
            "outlinewidth": 0,
            "ticks": ""
           }
          },
          "colorscale": {
           "diverging": [
            [
             0,
             "#8e0152"
            ],
            [
             0.1,
             "#c51b7d"
            ],
            [
             0.2,
             "#de77ae"
            ],
            [
             0.3,
             "#f1b6da"
            ],
            [
             0.4,
             "#fde0ef"
            ],
            [
             0.5,
             "#f7f7f7"
            ],
            [
             0.6,
             "#e6f5d0"
            ],
            [
             0.7,
             "#b8e186"
            ],
            [
             0.8,
             "#7fbc41"
            ],
            [
             0.9,
             "#4d9221"
            ],
            [
             1,
             "#276419"
            ]
           ],
           "sequential": [
            [
             0,
             "#0d0887"
            ],
            [
             0.1111111111111111,
             "#46039f"
            ],
            [
             0.2222222222222222,
             "#7201a8"
            ],
            [
             0.3333333333333333,
             "#9c179e"
            ],
            [
             0.4444444444444444,
             "#bd3786"
            ],
            [
             0.5555555555555556,
             "#d8576b"
            ],
            [
             0.6666666666666666,
             "#ed7953"
            ],
            [
             0.7777777777777778,
             "#fb9f3a"
            ],
            [
             0.8888888888888888,
             "#fdca26"
            ],
            [
             1,
             "#f0f921"
            ]
           ],
           "sequentialminus": [
            [
             0,
             "#0d0887"
            ],
            [
             0.1111111111111111,
             "#46039f"
            ],
            [
             0.2222222222222222,
             "#7201a8"
            ],
            [
             0.3333333333333333,
             "#9c179e"
            ],
            [
             0.4444444444444444,
             "#bd3786"
            ],
            [
             0.5555555555555556,
             "#d8576b"
            ],
            [
             0.6666666666666666,
             "#ed7953"
            ],
            [
             0.7777777777777778,
             "#fb9f3a"
            ],
            [
             0.8888888888888888,
             "#fdca26"
            ],
            [
             1,
             "#f0f921"
            ]
           ]
          },
          "colorway": [
           "#636efa",
           "#EF553B",
           "#00cc96",
           "#ab63fa",
           "#FFA15A",
           "#19d3f3",
           "#FF6692",
           "#B6E880",
           "#FF97FF",
           "#FECB52"
          ],
          "font": {
           "color": "#2a3f5f"
          },
          "geo": {
           "bgcolor": "white",
           "lakecolor": "white",
           "landcolor": "#E5ECF6",
           "showlakes": true,
           "showland": true,
           "subunitcolor": "white"
          },
          "hoverlabel": {
           "align": "left"
          },
          "hovermode": "closest",
          "mapbox": {
           "style": "light"
          },
          "paper_bgcolor": "white",
          "plot_bgcolor": "#E5ECF6",
          "polar": {
           "angularaxis": {
            "gridcolor": "white",
            "linecolor": "white",
            "ticks": ""
           },
           "bgcolor": "#E5ECF6",
           "radialaxis": {
            "gridcolor": "white",
            "linecolor": "white",
            "ticks": ""
           }
          },
          "scene": {
           "xaxis": {
            "backgroundcolor": "#E5ECF6",
            "gridcolor": "white",
            "gridwidth": 2,
            "linecolor": "white",
            "showbackground": true,
            "ticks": "",
            "zerolinecolor": "white"
           },
           "yaxis": {
            "backgroundcolor": "#E5ECF6",
            "gridcolor": "white",
            "gridwidth": 2,
            "linecolor": "white",
            "showbackground": true,
            "ticks": "",
            "zerolinecolor": "white"
           },
           "zaxis": {
            "backgroundcolor": "#E5ECF6",
            "gridcolor": "white",
            "gridwidth": 2,
            "linecolor": "white",
            "showbackground": true,
            "ticks": "",
            "zerolinecolor": "white"
           }
          },
          "shapedefaults": {
           "line": {
            "color": "#2a3f5f"
           }
          },
          "ternary": {
           "aaxis": {
            "gridcolor": "white",
            "linecolor": "white",
            "ticks": ""
           },
           "baxis": {
            "gridcolor": "white",
            "linecolor": "white",
            "ticks": ""
           },
           "bgcolor": "#E5ECF6",
           "caxis": {
            "gridcolor": "white",
            "linecolor": "white",
            "ticks": ""
           }
          },
          "title": {
           "x": 0.05
          },
          "xaxis": {
           "automargin": true,
           "gridcolor": "white",
           "linecolor": "white",
           "ticks": "",
           "title": {
            "standoff": 15
           },
           "zerolinecolor": "white",
           "zerolinewidth": 2
          },
          "yaxis": {
           "automargin": true,
           "gridcolor": "white",
           "linecolor": "white",
           "ticks": "",
           "title": {
            "standoff": 15
           },
           "zerolinecolor": "white",
           "zerolinewidth": 2
          }
         }
        },
        "title": {
         "text": "PCA Residual Outlier Map (α=0.01, k=2)"
        },
        "width": 900,
        "xaxis": {
         "title": {
          "text": "Hotelling T²"
         }
        },
        "yaxis": {
         "title": {
          "text": "Q residual (SPE)"
         }
        }
       }
      }
     },
     "metadata": {},
     "output_type": "display_data"
    }
   ],
   "source": [
    "# 6) Residual outlier map\n",
    "fig6 = fig_pca_residual_map(p[\"X_proc\"], p[\"Z\"], p[\"P\"], p[\"eig\"], p[\"cities\"]); fig6.show()"
   ]
  },
  {
   "cell_type": "code",
   "execution_count": 45,
   "id": "1906466e",
   "metadata": {},
   "outputs": [
    {
     "data": {
      "application/vnd.jupyter.widget-view+json": {
       "model_id": "08487dd5b2c644389589d6eca7a06cf4",
       "version_major": 2,
       "version_minor": 0
      },
      "text/plain": [
       "VBox(children=(HTML(value='<b>Click a blue city to compute the LOO model…</b>'), FigureWidget({\n",
       "    'data': [{…"
      ]
     },
     "metadata": {},
     "output_type": "display_data"
    }
   ],
   "source": [
    "# 7) LOO PCA\n",
    "try:\n",
    "    # Try the clickable widget version (requires ipywidgets)\n",
    "    from IPython.display import display\n",
    "    loo_widget = fig_loo_pca_widget(df, city_col, month_cols, S=800)\n",
    "    display(loo_widget)\n",
    "except Exception as e:\n",
    "    print(\"LOO PCA widget unavailable:\", e)\n",
    "    print(\"Falling back to dropdown-based figure (no widgets needed).\")\n",
    "    fig_loo = fig_loo_pca_dropdown(df, city_col, month_cols, S=800)\n",
    "    fig_loo.show()"
   ]
  }
 ],
 "metadata": {
  "kernelspec": {
   "display_name": "ham",
   "language": "python",
   "name": "python3"
  },
  "language_info": {
   "codemirror_mode": {
    "name": "ipython",
    "version": 3
   },
   "file_extension": ".py",
   "mimetype": "text/x-python",
   "name": "python",
   "nbconvert_exporter": "python",
   "pygments_lexer": "ipython3",
   "version": "3.12.7"
  }
 },
 "nbformat": 4,
 "nbformat_minor": 5
}
