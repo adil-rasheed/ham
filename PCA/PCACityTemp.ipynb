{
 "cells": [
  {
   "cell_type": "code",
   "execution_count": 2,
   "id": "16b30fe1",
   "metadata": {},
   "outputs": [
    {
     "name": "stdout",
     "output_type": "stream",
     "text": [
      "Loaded: /Users/adilrasheed/Codes/ham/PCA/data/CityTemp.xlsx\n"
     ]
    },
    {
     "data": {
      "application/vnd.plotly.v1+json": {
       "config": {
        "plotlyServerURL": "https://plot.ly"
       },
       "data": [
        {
         "hovertemplate": "City=Amsterdam<br>Month=%{x}<br>Temperature=%{y}<extra></extra>",
         "legendgroup": "Amsterdam",
         "line": {
          "color": "#636efa",
          "dash": "solid"
         },
         "marker": {
          "symbol": "circle"
         },
         "mode": "lines+markers",
         "name": "Amsterdam",
         "orientation": "v",
         "showlegend": true,
         "type": "scatter",
         "x": [
          "Jan",
          "Feb",
          "Mar",
          "Apr",
          "May",
          "Jun",
          "Jul",
          "Aug",
          "Sep",
          "Oct",
          "Nov",
          "Dec"
         ],
         "xaxis": "x",
         "y": {
          "bdata": "AAAAAAAAAEAAAAAAAAAAQAAAAAAAABRAAAAAAAAAIEAAAAAAAAAoQAAAAAAAAC5AAAAAAAAAMUAAAAAAAAAxQAAAAAAAAC5AAAAAAAAAJkAAAAAAAAAYQAAAAAAAAAhA",
          "dtype": "f8"
         },
         "yaxis": "y"
        },
        {
         "hovertemplate": "City=Ankara<br>Month=%{x}<br>Temperature=%{y}<extra></extra>",
         "legendgroup": "Ankara",
         "line": {
          "color": "#EF553B",
          "dash": "solid"
         },
         "marker": {
          "symbol": "circle"
         },
         "mode": "lines+markers",
         "name": "Ankara",
         "orientation": "v",
         "showlegend": true,
         "type": "scatter",
         "x": [
          "Jan",
          "Feb",
          "Mar",
          "Apr",
          "May",
          "Jun",
          "Jul",
          "Aug",
          "Sep",
          "Oct",
          "Nov",
          "Dec"
         ],
         "xaxis": "x",
         "y": {
          "bdata": "AAAAAAAA8D8AAAAAAAAAAAAAAAAAABhAAAAAAAAAKEAAAAAAAAAxQAAAAAAAADNAAAAAAAAAN0AAAAAAAAA2QAAAAAAAADJAAAAAAAAALEAAAAAAAAAgQAAAAAAAAABA",
          "dtype": "f8"
         },
         "yaxis": "y"
        },
        {
         "hovertemplate": "City=Athens<br>Month=%{x}<br>Temperature=%{y}<extra></extra>",
         "legendgroup": "Athens",
         "line": {
          "color": "#00cc96",
          "dash": "solid"
         },
         "marker": {
          "symbol": "circle"
         },
         "mode": "lines+markers",
         "name": "Athens",
         "orientation": "v",
         "showlegend": true,
         "type": "scatter",
         "x": [
          "Jan",
          "Feb",
          "Mar",
          "Apr",
          "May",
          "Jun",
          "Jul",
          "Aug",
          "Sep",
          "Oct",
          "Nov",
          "Dec"
         ],
         "xaxis": "x",
         "y": {
          "bdata": "AAAAAAAAIkAAAAAAAAAkQAAAAAAAAChAAAAAAAAAMEAAAAAAAAA1QAAAAAAAADpAAAAAAAAAPUAAAAAAAAA8QAAAAAAAADhAAAAAAAAANEAAAAAAAAAuQAAAAAAAACZA",
          "dtype": "f8"
         },
         "yaxis": "y"
        },
        {
         "hovertemplate": "City=Belgrade<br>Month=%{x}<br>Temperature=%{y}<extra></extra>",
         "legendgroup": "Belgrade",
         "line": {
          "color": "#ab63fa",
          "dash": "solid"
         },
         "marker": {
          "symbol": "circle"
         },
         "mode": "lines+markers",
         "name": "Belgrade",
         "orientation": "v",
         "showlegend": true,
         "type": "scatter",
         "x": [
          "Jan",
          "Feb",
          "Mar",
          "Apr",
          "May",
          "Jun",
          "Jul",
          "Aug",
          "Sep",
          "Oct",
          "Nov",
          "Dec"
         ],
         "xaxis": "x",
         "y": {
          "bdata": "AAAAAAAA8D8AAAAAAAAIQAAAAAAAACBAAAAAAAAAKkAAAAAAAAAxQAAAAAAAADZAAAAAAAAAN0AAAAAAAAA3QAAAAAAAADNAAAAAAAAALEAAAAAAAAAgQAAAAAAAABhA",
          "dtype": "f8"
         },
         "yaxis": "y"
        },
        {
         "hovertemplate": "City=Berlin<br>Month=%{x}<br>Temperature=%{y}<extra></extra>",
         "legendgroup": "Berlin",
         "line": {
          "color": "#FFA15A",
          "dash": "solid"
         },
         "marker": {
          "symbol": "circle"
         },
         "mode": "lines+markers",
         "name": "Berlin",
         "orientation": "v",
         "showlegend": true,
         "type": "scatter",
         "x": [
          "Jan",
          "Feb",
          "Mar",
          "Apr",
          "May",
          "Jun",
          "Jul",
          "Aug",
          "Sep",
          "Oct",
          "Nov",
          "Dec"
         ],
         "xaxis": "x",
         "y": {
          "bdata": "AAAAAAAAAMAAAAAAAADwPwAAAAAAABBAAAAAAAAAJEAAAAAAAAAsQAAAAAAAADJAAAAAAAAANUAAAAAAAAAzQAAAAAAAADBAAAAAAAAAJEAAAAAAAAAQQAAAAAAAAAAA",
          "dtype": "f8"
         },
         "yaxis": "y"
        },
        {
         "hovertemplate": "City=Bern<br>Month=%{x}<br>Temperature=%{y}<extra></extra>",
         "legendgroup": "Bern",
         "line": {
          "color": "#19d3f3",
          "dash": "solid"
         },
         "marker": {
          "symbol": "circle"
         },
         "mode": "lines+markers",
         "name": "Bern",
         "orientation": "v",
         "showlegend": true,
         "type": "scatter",
         "x": [
          "Jan",
          "Feb",
          "Mar",
          "Apr",
          "May",
          "Jun",
          "Jul",
          "Aug",
          "Sep",
          "Oct",
          "Nov",
          "Dec"
         ],
         "xaxis": "x",
         "y": {
          "bdata": "AAAAAAAA8D8AAAAAAADwPwAAAAAAABhAAAAAAAAAJEAAAAAAAAAqQAAAAAAAADFAAAAAAAAAMkAAAAAAAAAzQAAAAAAAAC5AAAAAAAAAJEAAAAAAAAAQQAAAAAAAAPA/",
          "dtype": "f8"
         },
         "yaxis": "y"
        },
        {
         "hovertemplate": "City=Bonn<br>Month=%{x}<br>Temperature=%{y}<extra></extra>",
         "legendgroup": "Bonn",
         "line": {
          "color": "#FF6692",
          "dash": "solid"
         },
         "marker": {
          "symbol": "circle"
         },
         "mode": "lines+markers",
         "name": "Bonn",
         "orientation": "v",
         "showlegend": true,
         "type": "scatter",
         "x": [
          "Jan",
          "Feb",
          "Mar",
          "Apr",
          "May",
          "Jun",
          "Jul",
          "Aug",
          "Sep",
          "Oct",
          "Nov",
          "Dec"
         ],
         "xaxis": "x",
         "y": {
          "bdata": "AAAAAAAA8D8AAAAAAAAAQAAAAAAAABxAAAAAAAAAJkAAAAAAAAAsQAAAAAAAADJAAAAAAAAANEAAAAAAAAAwQAAAAAAAADBAAAAAAAAAJkAAAAAAAAAcQAAAAAAAAABA",
          "dtype": "f8"
         },
         "yaxis": "y"
        },
        {
         "hovertemplate": "City=Bratislava<br>Month=%{x}<br>Temperature=%{y}<extra></extra>",
         "legendgroup": "Bratislava",
         "line": {
          "color": "#B6E880",
          "dash": "solid"
         },
         "marker": {
          "symbol": "circle"
         },
         "mode": "lines+markers",
         "name": "Bratislava",
         "orientation": "v",
         "showlegend": true,
         "type": "scatter",
         "x": [
          "Jan",
          "Feb",
          "Mar",
          "Apr",
          "May",
          "Jun",
          "Jul",
          "Aug",
          "Sep",
          "Oct",
          "Nov",
          "Dec"
         ],
         "xaxis": "x",
         "y": {
          "bdata": "mpmZmZmZ2b8zMzMzMzPzPwAAAAAAABZAAAAAAAAAJkAAAAAAAAAwQJqZmZmZGTNAzczMzMxMNUAzMzMzM7M0QM3MzMzMzC9AzczMzMzMJECamZmZmZkTQGZmZmZmZuY/",
          "dtype": "f8"
         },
         "yaxis": "y"
        },
        {
         "hovertemplate": "City=Bruxells<br>Month=%{x}<br>Temperature=%{y}<extra></extra>",
         "legendgroup": "Bruxells",
         "line": {
          "color": "#FF97FF",
          "dash": "solid"
         },
         "marker": {
          "symbol": "circle"
         },
         "mode": "lines+markers",
         "name": "Bruxells",
         "orientation": "v",
         "showlegend": true,
         "type": "scatter",
         "x": [
          "Jan",
          "Feb",
          "Mar",
          "Apr",
          "May",
          "Jun",
          "Jul",
          "Aug",
          "Sep",
          "Oct",
          "Nov",
          "Dec"
         ],
         "xaxis": "x",
         "y": {
          "bdata": "AAAAAAAA8D8AAAAAAAAQQAAAAAAAABxAAAAAAAAAJkAAAAAAAAAqQAAAAAAAADJAAAAAAAAAM0AAAAAAAAAyQAAAAAAAADFAAAAAAAAAKEAAAAAAAAAcQAAAAAAAAAhA",
          "dtype": "f8"
         },
         "yaxis": "y"
        },
        {
         "hovertemplate": "City=Bucarest<br>Month=%{x}<br>Temperature=%{y}<extra></extra>",
         "legendgroup": "Bucarest",
         "line": {
          "color": "#FECB52",
          "dash": "solid"
         },
         "marker": {
          "symbol": "circle"
         },
         "mode": "lines+markers",
         "name": "Bucarest",
         "orientation": "v",
         "showlegend": true,
         "type": "scatter",
         "x": [
          "Jan",
          "Feb",
          "Mar",
          "Apr",
          "May",
          "Jun",
          "Jul",
          "Aug",
          "Sep",
          "Oct",
          "Nov",
          "Dec"
         ],
         "xaxis": "x",
         "y": {
          "bdata": "AAAAAAAAEMAAAAAAAAAAwAAAAAAAABhAAAAAAAAAKEAAAAAAAAAxQAAAAAAAADVAAAAAAAAAN0AAAAAAAAA3QAAAAAAAADJAAAAAAAAAKkAAAAAAAAAcQAAAAAAAAPA/",
          "dtype": "f8"
         },
         "yaxis": "y"
        },
        {
         "hovertemplate": "City=Budapest<br>Month=%{x}<br>Temperature=%{y}<extra></extra>",
         "legendgroup": "Budapest",
         "line": {
          "color": "#636efa",
          "dash": "solid"
         },
         "marker": {
          "symbol": "circle"
         },
         "mode": "lines+markers",
         "name": "Budapest",
         "orientation": "v",
         "showlegend": true,
         "type": "scatter",
         "x": [
          "Jan",
          "Feb",
          "Mar",
          "Apr",
          "May",
          "Jun",
          "Jul",
          "Aug",
          "Sep",
          "Oct",
          "Nov",
          "Dec"
         ],
         "xaxis": "x",
         "y": {
          "bdata": "AAAAAAAAAMAAAAAAAADwPwAAAAAAABxAAAAAAAAAKkAAAAAAAAAxQAAAAAAAADVAAAAAAAAAN0AAAAAAAAA3QAAAAAAAADJAAAAAAAAAKkAAAAAAAAAYQAAAAAAAAPA/",
          "dtype": "f8"
         },
         "yaxis": "y"
        },
        {
         "hovertemplate": "City=Copenhagen<br>Month=%{x}<br>Temperature=%{y}<extra></extra>",
         "legendgroup": "Copenhagen",
         "line": {
          "color": "#EF553B",
          "dash": "solid"
         },
         "marker": {
          "symbol": "circle"
         },
         "mode": "lines+markers",
         "name": "Copenhagen",
         "orientation": "v",
         "showlegend": true,
         "type": "scatter",
         "x": [
          "Jan",
          "Feb",
          "Mar",
          "Apr",
          "May",
          "Jun",
          "Jul",
          "Aug",
          "Sep",
          "Oct",
          "Nov",
          "Dec"
         ],
         "xaxis": "x",
         "y": {
          "bdata": "AAAAAAAA8L8AAAAAAAAAAAAAAAAAAAhAAAAAAAAAIEAAAAAAAAAqQAAAAAAAADFAAAAAAAAAMkAAAAAAAAAyQAAAAAAAACxAAAAAAAAAIkAAAAAAAAAQQAAAAAAAAABA",
          "dtype": "f8"
         },
         "yaxis": "y"
        },
        {
         "hovertemplate": "City=Dublin<br>Month=%{x}<br>Temperature=%{y}<extra></extra>",
         "legendgroup": "Dublin",
         "line": {
          "color": "#00cc96",
          "dash": "solid"
         },
         "marker": {
          "symbol": "circle"
         },
         "mode": "lines+markers",
         "name": "Dublin",
         "orientation": "v",
         "showlegend": true,
         "type": "scatter",
         "x": [
          "Jan",
          "Feb",
          "Mar",
          "Apr",
          "May",
          "Jun",
          "Jul",
          "Aug",
          "Sep",
          "Oct",
          "Nov",
          "Dec"
         ],
         "xaxis": "x",
         "y": {
          "bdata": "AAAAAAAACEAAAAAAAAAQQAAAAAAAABhAAAAAAAAAIEAAAAAAAAAmQAAAAAAAACxAAAAAAAAAMEAAAAAAAAAsQAAAAAAAAChAAAAAAAAAIkAAAAAAAAAYQAAAAAAAABBA",
          "dtype": "f8"
         },
         "yaxis": "y"
        },
        {
         "hovertemplate": "City=Edinburgh<br>Month=%{x}<br>Temperature=%{y}<extra></extra>",
         "legendgroup": "Edinburgh",
         "line": {
          "color": "#ab63fa",
          "dash": "solid"
         },
         "marker": {
          "symbol": "circle"
         },
         "mode": "lines+markers",
         "name": "Edinburgh",
         "orientation": "v",
         "showlegend": true,
         "type": "scatter",
         "x": [
          "Jan",
          "Feb",
          "Mar",
          "Apr",
          "May",
          "Jun",
          "Jul",
          "Aug",
          "Sep",
          "Oct",
          "Nov",
          "Dec"
         ],
         "xaxis": "x",
         "y": {
          "bdata": "AAAAAAAAFsAzMzMzMzMXwM3MzMzMzPS/ZmZmZmZmFECamZmZmZkmQGZmZmZmZi9AzczMzMzMMkBmZmZmZuYwQDMzMzMzMydAzczMzMzMGECamZmZmZm5P5qZmZmZmQ3A",
          "dtype": "f8"
         },
         "yaxis": "y"
        },
        {
         "hovertemplate": "City=Helsinki<br>Month=%{x}<br>Temperature=%{y}<extra></extra>",
         "legendgroup": "Helsinki",
         "line": {
          "color": "#FFA15A",
          "dash": "solid"
         },
         "marker": {
          "symbol": "circle"
         },
         "mode": "lines+markers",
         "name": "Helsinki",
         "orientation": "v",
         "showlegend": true,
         "type": "scatter",
         "x": [
          "Jan",
          "Feb",
          "Mar",
          "Apr",
          "May",
          "Jun",
          "Jul",
          "Aug",
          "Sep",
          "Oct",
          "Nov",
          "Dec"
         ],
         "xaxis": "x",
         "y": {
          "bdata": "AAAAAAAAIsAAAAAAAAAgwAAAAAAAABDAAAAAAAAACEAAAAAAAAAkQAAAAAAAAC5AAAAAAAAAMkAAAAAAAAAwQAAAAAAAACZAAAAAAAAAEEAAAAAAAADwvwAAAAAAABjA",
          "dtype": "f8"
         },
         "yaxis": "y"
        },
        {
         "hovertemplate": "City=Lisbon<br>Month=%{x}<br>Temperature=%{y}<extra></extra>",
         "legendgroup": "Lisbon",
         "line": {
          "color": "#19d3f3",
          "dash": "solid"
         },
         "marker": {
          "symbol": "circle"
         },
         "mode": "lines+markers",
         "name": "Lisbon",
         "orientation": "v",
         "showlegend": true,
         "type": "scatter",
         "x": [
          "Jan",
          "Feb",
          "Mar",
          "Apr",
          "May",
          "Jun",
          "Jul",
          "Aug",
          "Sep",
          "Oct",
          "Nov",
          "Dec"
         ],
         "xaxis": "x",
         "y": {
          "bdata": "AAAAAAAAJkAAAAAAAAAoQAAAAAAAAC5AAAAAAAAAMUAAAAAAAAAzQAAAAAAAADdAAAAAAAAAOUAAAAAAAAA4QAAAAAAAADdAAAAAAAAAM0AAAAAAAAAsQAAAAAAAACZA",
          "dtype": "f8"
         },
         "yaxis": "y"
        },
        {
         "hovertemplate": "City=Ljubljana<br>Month=%{x}<br>Temperature=%{y}<extra></extra>",
         "legendgroup": "Ljubljana",
         "line": {
          "color": "#FF6692",
          "dash": "solid"
         },
         "marker": {
          "symbol": "circle"
         },
         "mode": "lines+markers",
         "name": "Ljubljana",
         "orientation": "v",
         "showlegend": true,
         "type": "scatter",
         "x": [
          "Jan",
          "Feb",
          "Mar",
          "Apr",
          "May",
          "Jun",
          "Jul",
          "Aug",
          "Sep",
          "Oct",
          "Nov",
          "Dec"
         ],
         "xaxis": "x",
         "y": {
          "bdata": "MzMzMzMz0z9mZmZmZmb+PwAAAAAAABpAmpmZmZmZJUCamZmZmZkvQJqZmZmZGTNAzczMzMxMNUCamZmZmZk0QAAAAAAAADBAZmZmZmZmJkBmZmZmZmYWQDMzMzMzM/M/",
          "dtype": "f8"
         },
         "yaxis": "y"
        },
        {
         "hovertemplate": "City=London<br>Month=%{x}<br>Temperature=%{y}<extra></extra>",
         "legendgroup": "London",
         "line": {
          "color": "#B6E880",
          "dash": "solid"
         },
         "marker": {
          "symbol": "circle"
         },
         "mode": "lines+markers",
         "name": "London",
         "orientation": "v",
         "showlegend": true,
         "type": "scatter",
         "x": [
          "Jan",
          "Feb",
          "Mar",
          "Apr",
          "May",
          "Jun",
          "Jul",
          "Aug",
          "Sep",
          "Oct",
          "Nov",
          "Dec"
         ],
         "xaxis": "x",
         "y": {
          "bdata": "AAAAAAAAHEAAAAAAAAAgQAAAAAAAACRAAAAAAAAAKkAAAAAAAAAxQAAAAAAAADRAAAAAAAAANkAAAAAAAAA1QAAAAAAAADNAAAAAAAAALkAAAAAAAAAkQAAAAAAAACBA",
          "dtype": "f8"
         },
         "yaxis": "y"
        },
        {
         "hovertemplate": "City=Luxemborg<br>Month=%{x}<br>Temperature=%{y}<extra></extra>",
         "legendgroup": "Luxemborg",
         "line": {
          "color": "#FF97FF",
          "dash": "solid"
         },
         "marker": {
          "symbol": "circle"
         },
         "mode": "lines+markers",
         "name": "Luxemborg",
         "orientation": "v",
         "showlegend": true,
         "type": "scatter",
         "x": [
          "Jan",
          "Feb",
          "Mar",
          "Apr",
          "May",
          "Jun",
          "Jul",
          "Aug",
          "Sep",
          "Oct",
          "Nov",
          "Dec"
         ],
         "xaxis": "x",
         "y": {
          "bdata": "AAAAAAAAAAAAAAAAAADwPwAAAAAAABxAAAAAAAAAJkAAAAAAAAAqQAAAAAAAADFAAAAAAAAAM0AAAAAAAAAyQAAAAAAAAC5AAAAAAAAAIkAAAAAAAAAQQAAAAAAAAABA",
          "dtype": "f8"
         },
         "yaxis": "y"
        },
        {
         "hovertemplate": "City=Madrid<br>Month=%{x}<br>Temperature=%{y}<extra></extra>",
         "legendgroup": "Madrid",
         "line": {
          "color": "#FECB52",
          "dash": "solid"
         },
         "marker": {
          "symbol": "circle"
         },
         "mode": "lines+markers",
         "name": "Madrid",
         "orientation": "v",
         "showlegend": true,
         "type": "scatter",
         "x": [
          "Jan",
          "Feb",
          "Mar",
          "Apr",
          "May",
          "Jun",
          "Jul",
          "Aug",
          "Sep",
          "Oct",
          "Nov",
          "Dec"
         ],
         "xaxis": "x",
         "y": {
          "bdata": "MzMzMzMzGUCamZmZmZkfQGZmZmZmZiZAzczMzMzMKUAzMzMzM7MwQDMzMzMzMzZAmpmZmZmZOUCamZmZmRk5QGZmZmZm5jRAMzMzMzMzLkDNzMzMzMwjQJqZmZmZmRtA",
          "dtype": "f8"
         },
         "yaxis": "y"
        },
        {
         "hovertemplate": "City=Marbella<br>Month=%{x}<br>Temperature=%{y}<extra></extra>",
         "legendgroup": "Marbella",
         "line": {
          "color": "#636efa",
          "dash": "solid"
         },
         "marker": {
          "symbol": "circle"
         },
         "mode": "lines+markers",
         "name": "Marbella",
         "orientation": "v",
         "showlegend": true,
         "type": "scatter",
         "x": [
          "Jan",
          "Feb",
          "Mar",
          "Apr",
          "May",
          "Jun",
          "Jul",
          "Aug",
          "Sep",
          "Oct",
          "Nov",
          "Dec"
         ],
         "xaxis": "x",
         "y": {
          "bdata": "AAAAAAAAMUAAAAAAAAAxQAAAAAAAADJAAAAAAAAANUAAAAAAAAA3QAAAAAAAADtAAAAAAAAAPUAAAAAAAAA+QAAAAAAAADtAAAAAAAAAN0AAAAAAAAA0QAAAAAAAADFA",
          "dtype": "f8"
         },
         "yaxis": "y"
        },
        {
         "hovertemplate": "City=Milan<br>Month=%{x}<br>Temperature=%{y}<extra></extra>",
         "legendgroup": "Milan",
         "line": {
          "color": "#EF553B",
          "dash": "solid"
         },
         "marker": {
          "symbol": "circle"
         },
         "mode": "lines+markers",
         "name": "Milan",
         "orientation": "v",
         "showlegend": true,
         "type": "scatter",
         "x": [
          "Jan",
          "Feb",
          "Mar",
          "Apr",
          "May",
          "Jun",
          "Jul",
          "Aug",
          "Sep",
          "Oct",
          "Nov",
          "Dec"
         ],
         "xaxis": "x",
         "y": {
          "bdata": "AAAAAAAABEDNzMzMzMwSQAAAAAAAACJAZmZmZmZmKEAAAAAAAAAxQM3MzMzMzDRAmpmZmZmZN0AAAAAAAAA3QDMzMzMzMzNAzczMzMzMKkDNzMzMzMwcQGZmZmZmZgpA",
          "dtype": "f8"
         },
         "yaxis": "y"
        },
        {
         "hovertemplate": "City=Moscow<br>Month=%{x}<br>Temperature=%{y}<extra></extra>",
         "legendgroup": "Moscow",
         "line": {
          "color": "#00cc96",
          "dash": "solid"
         },
         "marker": {
          "symbol": "circle"
         },
         "mode": "lines+markers",
         "name": "Moscow",
         "orientation": "v",
         "showlegend": true,
         "type": "scatter",
         "x": [
          "Jan",
          "Feb",
          "Mar",
          "Apr",
          "May",
          "Jun",
          "Jul",
          "Aug",
          "Sep",
          "Oct",
          "Nov",
          "Dec"
         ],
         "xaxis": "x",
         "y": {
          "bdata": "AAAAAAAALMAAAAAAAAAowAAAAAAAABjAAAAAAAAAGEAAAAAAAAAsQAAAAAAAAC5AAAAAAAAAMkAAAAAAAAAxQAAAAAAAAChAAAAAAAAAGEAAAAAAAAAAwAAAAAAAACTA",
          "dtype": "f8"
         },
         "yaxis": "y"
        },
        {
         "hovertemplate": "City=Oslo<br>Month=%{x}<br>Temperature=%{y}<extra></extra>",
         "legendgroup": "Oslo",
         "line": {
          "color": "#ab63fa",
          "dash": "solid"
         },
         "marker": {
          "symbol": "circle"
         },
         "mode": "lines+markers",
         "name": "Oslo",
         "orientation": "v",
         "showlegend": true,
         "type": "scatter",
         "x": [
          "Jan",
          "Feb",
          "Mar",
          "Apr",
          "May",
          "Jun",
          "Jul",
          "Aug",
          "Sep",
          "Oct",
          "Nov",
          "Dec"
         ],
         "xaxis": "x",
         "y": {
          "bdata": "AAAAAAAAFMAAAAAAAAAQwAAAAAAAAPA/AAAAAAAAFEAAAAAAAAAmQAAAAAAAADBAAAAAAAAAMUAAAAAAAAAwQAAAAAAAACZAAAAAAAAAHEAAAAAAAAAAQAAAAAAAAAhA",
          "dtype": "f8"
         },
         "yaxis": "y"
        },
        {
         "hovertemplate": "City=Paris<br>Month=%{x}<br>Temperature=%{y}<extra></extra>",
         "legendgroup": "Paris",
         "line": {
          "color": "#FFA15A",
          "dash": "solid"
         },
         "marker": {
          "symbol": "circle"
         },
         "mode": "lines+markers",
         "name": "Paris",
         "orientation": "v",
         "showlegend": true,
         "type": "scatter",
         "x": [
          "Jan",
          "Feb",
          "Mar",
          "Apr",
          "May",
          "Jun",
          "Jul",
          "Aug",
          "Sep",
          "Oct",
          "Nov",
          "Dec"
         ],
         "xaxis": "x",
         "y": {
          "bdata": "AAAAAAAAEEAAAAAAAAAUQAAAAAAAACJAAAAAAAAAKkAAAAAAAAAwQAAAAAAAADNAAAAAAAAANkAAAAAAAAA1QAAAAAAAADJAAAAAAAAAKkAAAAAAAAAcQAAAAAAAABBA",
          "dtype": "f8"
         },
         "yaxis": "y"
        },
        {
         "hovertemplate": "City=Prague<br>Month=%{x}<br>Temperature=%{y}<extra></extra>",
         "legendgroup": "Prague",
         "line": {
          "color": "#19d3f3",
          "dash": "solid"
         },
         "marker": {
          "symbol": "circle"
         },
         "mode": "lines+markers",
         "name": "Prague",
         "orientation": "v",
         "showlegend": true,
         "type": "scatter",
         "x": [
          "Jan",
          "Feb",
          "Mar",
          "Apr",
          "May",
          "Jun",
          "Jul",
          "Aug",
          "Sep",
          "Oct",
          "Nov",
          "Dec"
         ],
         "xaxis": "x",
         "y": {
          "bdata": "AAAAAAAAAMAAAAAAAADwvwAAAAAAABBAAAAAAAAAJkAAAAAAAAAuQAAAAAAAADNAAAAAAAAANUAAAAAAAAA0QAAAAAAAADBAAAAAAAAAJEAAAAAAAAAQQAAAAAAAAAAA",
          "dtype": "f8"
         },
         "yaxis": "y"
        },
        {
         "hovertemplate": "City=Rome<br>Month=%{x}<br>Temperature=%{y}<extra></extra>",
         "legendgroup": "Rome",
         "line": {
          "color": "#FF6692",
          "dash": "solid"
         },
         "marker": {
          "symbol": "circle"
         },
         "mode": "lines+markers",
         "name": "Rome",
         "orientation": "v",
         "showlegend": true,
         "type": "scatter",
         "x": [
          "Jan",
          "Feb",
          "Mar",
          "Apr",
          "May",
          "Jun",
          "Jul",
          "Aug",
          "Sep",
          "Oct",
          "Nov",
          "Dec"
         ],
         "xaxis": "x",
         "y": {
          "bdata": "AAAAAAAAHEAAAAAAAAAgQAAAAAAAACZAAAAAAAAALEAAAAAAAAAyQAAAAAAAADdAAAAAAAAAOUAAAAAAAAA5QAAAAAAAADZAAAAAAAAAMUAAAAAAAAAoQAAAAAAAACJA",
          "dtype": "f8"
         },
         "yaxis": "y"
        },
        {
         "hovertemplate": "City=Skopje<br>Month=%{x}<br>Temperature=%{y}<extra></extra>",
         "legendgroup": "Skopje",
         "line": {
          "color": "#B6E880",
          "dash": "solid"
         },
         "marker": {
          "symbol": "circle"
         },
         "mode": "lines+markers",
         "name": "Skopje",
         "orientation": "v",
         "showlegend": true,
         "type": "scatter",
         "x": [
          "Jan",
          "Feb",
          "Mar",
          "Apr",
          "May",
          "Jun",
          "Jul",
          "Aug",
          "Sep",
          "Oct",
          "Nov",
          "Dec"
         ],
         "xaxis": "x",
         "y": {
          "bdata": "mpmZmZmZuT/NzMzMzMwEQGZmZmZmZh5AMzMzMzMzKEDNzMzMzEwxQAAAAAAAgDVAzczMzMzMN0DNzMzMzMw3QM3MzMzMzDJAMzMzMzMzKkAAAAAAAAAaQDMzMzMzM/s/",
          "dtype": "f8"
         },
         "yaxis": "y"
        },
        {
         "hovertemplate": "City=Sofia<br>Month=%{x}<br>Temperature=%{y}<extra></extra>",
         "legendgroup": "Sofia",
         "line": {
          "color": "#FF97FF",
          "dash": "solid"
         },
         "marker": {
          "symbol": "circle"
         },
         "mode": "lines+markers",
         "name": "Sofia",
         "orientation": "v",
         "showlegend": true,
         "type": "scatter",
         "x": [
          "Jan",
          "Feb",
          "Mar",
          "Apr",
          "May",
          "Jun",
          "Jul",
          "Aug",
          "Sep",
          "Oct",
          "Nov",
          "Dec"
         ],
         "xaxis": "x",
         "y": {
          "bdata": "AAAAAAAA8L8AAAAAAADwPwAAAAAAABxAAAAAAAAAKEAAAAAAAAAwQAAAAAAAADNAAAAAAAAANkAAAAAAAAA1QAAAAAAAADFAAAAAAAAAKEAAAAAAAAAcQAAAAAAAAPA/",
          "dtype": "f8"
         },
         "yaxis": "y"
        },
        {
         "hovertemplate": "City=St. Petersberg<br>Month=%{x}<br>Temperature=%{y}<extra></extra>",
         "legendgroup": "St. Petersberg",
         "line": {
          "color": "#FECB52",
          "dash": "solid"
         },
         "marker": {
          "symbol": "circle"
         },
         "mode": "lines+markers",
         "name": "St. Petersberg",
         "orientation": "v",
         "showlegend": true,
         "type": "scatter",
         "x": [
          "Jan",
          "Feb",
          "Mar",
          "Apr",
          "May",
          "Jun",
          "Jul",
          "Aug",
          "Sep",
          "Oct",
          "Nov",
          "Dec"
         ],
         "xaxis": "x",
         "y": {
          "bdata": "zczMzMzMEEAAAAAAAAASQM3MzMzMzBhAMzMzMzMzIECamZmZmZklQAAAAAAAACtAmpmZmZmZLkBmZmZmZmYuQAAAAAAAACpAmpmZmZmZI0DNzMzMzMwaQM3MzMzMzBBA",
          "dtype": "f8"
         },
         "yaxis": "y"
        },
        {
         "hovertemplate": "City=Stockholm<br>Month=%{x}<br>Temperature=%{y}<extra></extra>",
         "legendgroup": "Stockholm",
         "line": {
          "color": "#636efa",
          "dash": "solid"
         },
         "marker": {
          "symbol": "circle"
         },
         "mode": "lines+markers",
         "name": "Stockholm",
         "orientation": "v",
         "showlegend": true,
         "type": "scatter",
         "x": [
          "Jan",
          "Feb",
          "Mar",
          "Apr",
          "May",
          "Jun",
          "Jul",
          "Aug",
          "Sep",
          "Oct",
          "Nov",
          "Dec"
         ],
         "xaxis": "x",
         "y": {
          "bdata": "AAAAAAAAEMAAAAAAAAAQwAAAAAAAAPC/AAAAAAAAGEAAAAAAAAAmQAAAAAAAADBAAAAAAAAAM0AAAAAAAAAxQAAAAAAAAChAAAAAAAAAHEAAAAAAAAAAQAAAAAAAAPC/",
          "dtype": "f8"
         },
         "yaxis": "y"
        },
        {
         "hovertemplate": "City=Vienna<br>Month=%{x}<br>Temperature=%{y}<extra></extra>",
         "legendgroup": "Vienna",
         "line": {
          "color": "#EF553B",
          "dash": "solid"
         },
         "marker": {
          "symbol": "circle"
         },
         "mode": "lines+markers",
         "name": "Vienna",
         "orientation": "v",
         "showlegend": true,
         "type": "scatter",
         "x": [
          "Jan",
          "Feb",
          "Mar",
          "Apr",
          "May",
          "Jun",
          "Jul",
          "Aug",
          "Sep",
          "Oct",
          "Nov",
          "Dec"
         ],
         "xaxis": "x",
         "y": {
          "bdata": "AAAAAAAA8L8AAAAAAADwPwAAAAAAABhAAAAAAAAAKEAAAAAAAAAuQAAAAAAAACZAAAAAAAAALkAAAAAAAAA1QAAAAAAAADFAAAAAAAAAJkAAAAAAAAAYQAAAAAAAAABA",
          "dtype": "f8"
         },
         "yaxis": "y"
        },
        {
         "hovertemplate": "City=Warsaw<br>Month=%{x}<br>Temperature=%{y}<extra></extra>",
         "legendgroup": "Warsaw",
         "line": {
          "color": "#00cc96",
          "dash": "solid"
         },
         "marker": {
          "symbol": "circle"
         },
         "mode": "lines+markers",
         "name": "Warsaw",
         "orientation": "v",
         "showlegend": true,
         "type": "scatter",
         "x": [
          "Jan",
          "Feb",
          "Mar",
          "Apr",
          "May",
          "Jun",
          "Jul",
          "Aug",
          "Sep",
          "Oct",
          "Nov",
          "Dec"
         ],
         "xaxis": "x",
         "y": {
          "bdata": "AAAAAAAAFMAAAAAAAAAQwAAAAAAAAAhAAAAAAAAAIkAAAAAAAAAwQAAAAAAAADJAAAAAAAAANUAAAAAAAAAzQAAAAAAAADBAAAAAAAAAJEAAAAAAAAAQQAAAAAAAAABA",
          "dtype": "f8"
         },
         "yaxis": "y"
        }
       ],
       "layout": {
        "autosize": false,
        "height": 800,
        "hovermode": "x unified",
        "legend": {
         "title": {
          "text": "Click a city to toggle"
         },
         "tracegroupgap": 0
        },
        "margin": {
         "b": 40,
         "l": 40,
         "r": 20,
         "t": 80
        },
        "template": {
         "data": {
          "bar": [
           {
            "error_x": {
             "color": "#2a3f5f"
            },
            "error_y": {
             "color": "#2a3f5f"
            },
            "marker": {
             "line": {
              "color": "#E5ECF6",
              "width": 0.5
             },
             "pattern": {
              "fillmode": "overlay",
              "size": 10,
              "solidity": 0.2
             }
            },
            "type": "bar"
           }
          ],
          "barpolar": [
           {
            "marker": {
             "line": {
              "color": "#E5ECF6",
              "width": 0.5
             },
             "pattern": {
              "fillmode": "overlay",
              "size": 10,
              "solidity": 0.2
             }
            },
            "type": "barpolar"
           }
          ],
          "carpet": [
           {
            "aaxis": {
             "endlinecolor": "#2a3f5f",
             "gridcolor": "white",
             "linecolor": "white",
             "minorgridcolor": "white",
             "startlinecolor": "#2a3f5f"
            },
            "baxis": {
             "endlinecolor": "#2a3f5f",
             "gridcolor": "white",
             "linecolor": "white",
             "minorgridcolor": "white",
             "startlinecolor": "#2a3f5f"
            },
            "type": "carpet"
           }
          ],
          "choropleth": [
           {
            "colorbar": {
             "outlinewidth": 0,
             "ticks": ""
            },
            "type": "choropleth"
           }
          ],
          "contour": [
           {
            "colorbar": {
             "outlinewidth": 0,
             "ticks": ""
            },
            "colorscale": [
             [
              0,
              "#0d0887"
             ],
             [
              0.1111111111111111,
              "#46039f"
             ],
             [
              0.2222222222222222,
              "#7201a8"
             ],
             [
              0.3333333333333333,
              "#9c179e"
             ],
             [
              0.4444444444444444,
              "#bd3786"
             ],
             [
              0.5555555555555556,
              "#d8576b"
             ],
             [
              0.6666666666666666,
              "#ed7953"
             ],
             [
              0.7777777777777778,
              "#fb9f3a"
             ],
             [
              0.8888888888888888,
              "#fdca26"
             ],
             [
              1,
              "#f0f921"
             ]
            ],
            "type": "contour"
           }
          ],
          "contourcarpet": [
           {
            "colorbar": {
             "outlinewidth": 0,
             "ticks": ""
            },
            "type": "contourcarpet"
           }
          ],
          "heatmap": [
           {
            "colorbar": {
             "outlinewidth": 0,
             "ticks": ""
            },
            "colorscale": [
             [
              0,
              "#0d0887"
             ],
             [
              0.1111111111111111,
              "#46039f"
             ],
             [
              0.2222222222222222,
              "#7201a8"
             ],
             [
              0.3333333333333333,
              "#9c179e"
             ],
             [
              0.4444444444444444,
              "#bd3786"
             ],
             [
              0.5555555555555556,
              "#d8576b"
             ],
             [
              0.6666666666666666,
              "#ed7953"
             ],
             [
              0.7777777777777778,
              "#fb9f3a"
             ],
             [
              0.8888888888888888,
              "#fdca26"
             ],
             [
              1,
              "#f0f921"
             ]
            ],
            "type": "heatmap"
           }
          ],
          "histogram": [
           {
            "marker": {
             "pattern": {
              "fillmode": "overlay",
              "size": 10,
              "solidity": 0.2
             }
            },
            "type": "histogram"
           }
          ],
          "histogram2d": [
           {
            "colorbar": {
             "outlinewidth": 0,
             "ticks": ""
            },
            "colorscale": [
             [
              0,
              "#0d0887"
             ],
             [
              0.1111111111111111,
              "#46039f"
             ],
             [
              0.2222222222222222,
              "#7201a8"
             ],
             [
              0.3333333333333333,
              "#9c179e"
             ],
             [
              0.4444444444444444,
              "#bd3786"
             ],
             [
              0.5555555555555556,
              "#d8576b"
             ],
             [
              0.6666666666666666,
              "#ed7953"
             ],
             [
              0.7777777777777778,
              "#fb9f3a"
             ],
             [
              0.8888888888888888,
              "#fdca26"
             ],
             [
              1,
              "#f0f921"
             ]
            ],
            "type": "histogram2d"
           }
          ],
          "histogram2dcontour": [
           {
            "colorbar": {
             "outlinewidth": 0,
             "ticks": ""
            },
            "colorscale": [
             [
              0,
              "#0d0887"
             ],
             [
              0.1111111111111111,
              "#46039f"
             ],
             [
              0.2222222222222222,
              "#7201a8"
             ],
             [
              0.3333333333333333,
              "#9c179e"
             ],
             [
              0.4444444444444444,
              "#bd3786"
             ],
             [
              0.5555555555555556,
              "#d8576b"
             ],
             [
              0.6666666666666666,
              "#ed7953"
             ],
             [
              0.7777777777777778,
              "#fb9f3a"
             ],
             [
              0.8888888888888888,
              "#fdca26"
             ],
             [
              1,
              "#f0f921"
             ]
            ],
            "type": "histogram2dcontour"
           }
          ],
          "mesh3d": [
           {
            "colorbar": {
             "outlinewidth": 0,
             "ticks": ""
            },
            "type": "mesh3d"
           }
          ],
          "parcoords": [
           {
            "line": {
             "colorbar": {
              "outlinewidth": 0,
              "ticks": ""
             }
            },
            "type": "parcoords"
           }
          ],
          "pie": [
           {
            "automargin": true,
            "type": "pie"
           }
          ],
          "scatter": [
           {
            "fillpattern": {
             "fillmode": "overlay",
             "size": 10,
             "solidity": 0.2
            },
            "type": "scatter"
           }
          ],
          "scatter3d": [
           {
            "line": {
             "colorbar": {
              "outlinewidth": 0,
              "ticks": ""
             }
            },
            "marker": {
             "colorbar": {
              "outlinewidth": 0,
              "ticks": ""
             }
            },
            "type": "scatter3d"
           }
          ],
          "scattercarpet": [
           {
            "marker": {
             "colorbar": {
              "outlinewidth": 0,
              "ticks": ""
             }
            },
            "type": "scattercarpet"
           }
          ],
          "scattergeo": [
           {
            "marker": {
             "colorbar": {
              "outlinewidth": 0,
              "ticks": ""
             }
            },
            "type": "scattergeo"
           }
          ],
          "scattergl": [
           {
            "marker": {
             "colorbar": {
              "outlinewidth": 0,
              "ticks": ""
             }
            },
            "type": "scattergl"
           }
          ],
          "scattermap": [
           {
            "marker": {
             "colorbar": {
              "outlinewidth": 0,
              "ticks": ""
             }
            },
            "type": "scattermap"
           }
          ],
          "scattermapbox": [
           {
            "marker": {
             "colorbar": {
              "outlinewidth": 0,
              "ticks": ""
             }
            },
            "type": "scattermapbox"
           }
          ],
          "scatterpolar": [
           {
            "marker": {
             "colorbar": {
              "outlinewidth": 0,
              "ticks": ""
             }
            },
            "type": "scatterpolar"
           }
          ],
          "scatterpolargl": [
           {
            "marker": {
             "colorbar": {
              "outlinewidth": 0,
              "ticks": ""
             }
            },
            "type": "scatterpolargl"
           }
          ],
          "scatterternary": [
           {
            "marker": {
             "colorbar": {
              "outlinewidth": 0,
              "ticks": ""
             }
            },
            "type": "scatterternary"
           }
          ],
          "surface": [
           {
            "colorbar": {
             "outlinewidth": 0,
             "ticks": ""
            },
            "colorscale": [
             [
              0,
              "#0d0887"
             ],
             [
              0.1111111111111111,
              "#46039f"
             ],
             [
              0.2222222222222222,
              "#7201a8"
             ],
             [
              0.3333333333333333,
              "#9c179e"
             ],
             [
              0.4444444444444444,
              "#bd3786"
             ],
             [
              0.5555555555555556,
              "#d8576b"
             ],
             [
              0.6666666666666666,
              "#ed7953"
             ],
             [
              0.7777777777777778,
              "#fb9f3a"
             ],
             [
              0.8888888888888888,
              "#fdca26"
             ],
             [
              1,
              "#f0f921"
             ]
            ],
            "type": "surface"
           }
          ],
          "table": [
           {
            "cells": {
             "fill": {
              "color": "#EBF0F8"
             },
             "line": {
              "color": "white"
             }
            },
            "header": {
             "fill": {
              "color": "#C8D4E3"
             },
             "line": {
              "color": "white"
             }
            },
            "type": "table"
           }
          ]
         },
         "layout": {
          "annotationdefaults": {
           "arrowcolor": "#2a3f5f",
           "arrowhead": 0,
           "arrowwidth": 1
          },
          "autotypenumbers": "strict",
          "coloraxis": {
           "colorbar": {
            "outlinewidth": 0,
            "ticks": ""
           }
          },
          "colorscale": {
           "diverging": [
            [
             0,
             "#8e0152"
            ],
            [
             0.1,
             "#c51b7d"
            ],
            [
             0.2,
             "#de77ae"
            ],
            [
             0.3,
             "#f1b6da"
            ],
            [
             0.4,
             "#fde0ef"
            ],
            [
             0.5,
             "#f7f7f7"
            ],
            [
             0.6,
             "#e6f5d0"
            ],
            [
             0.7,
             "#b8e186"
            ],
            [
             0.8,
             "#7fbc41"
            ],
            [
             0.9,
             "#4d9221"
            ],
            [
             1,
             "#276419"
            ]
           ],
           "sequential": [
            [
             0,
             "#0d0887"
            ],
            [
             0.1111111111111111,
             "#46039f"
            ],
            [
             0.2222222222222222,
             "#7201a8"
            ],
            [
             0.3333333333333333,
             "#9c179e"
            ],
            [
             0.4444444444444444,
             "#bd3786"
            ],
            [
             0.5555555555555556,
             "#d8576b"
            ],
            [
             0.6666666666666666,
             "#ed7953"
            ],
            [
             0.7777777777777778,
             "#fb9f3a"
            ],
            [
             0.8888888888888888,
             "#fdca26"
            ],
            [
             1,
             "#f0f921"
            ]
           ],
           "sequentialminus": [
            [
             0,
             "#0d0887"
            ],
            [
             0.1111111111111111,
             "#46039f"
            ],
            [
             0.2222222222222222,
             "#7201a8"
            ],
            [
             0.3333333333333333,
             "#9c179e"
            ],
            [
             0.4444444444444444,
             "#bd3786"
            ],
            [
             0.5555555555555556,
             "#d8576b"
            ],
            [
             0.6666666666666666,
             "#ed7953"
            ],
            [
             0.7777777777777778,
             "#fb9f3a"
            ],
            [
             0.8888888888888888,
             "#fdca26"
            ],
            [
             1,
             "#f0f921"
            ]
           ]
          },
          "colorway": [
           "#636efa",
           "#EF553B",
           "#00cc96",
           "#ab63fa",
           "#FFA15A",
           "#19d3f3",
           "#FF6692",
           "#B6E880",
           "#FF97FF",
           "#FECB52"
          ],
          "font": {
           "color": "#2a3f5f"
          },
          "geo": {
           "bgcolor": "white",
           "lakecolor": "white",
           "landcolor": "#E5ECF6",
           "showlakes": true,
           "showland": true,
           "subunitcolor": "white"
          },
          "hoverlabel": {
           "align": "left"
          },
          "hovermode": "closest",
          "mapbox": {
           "style": "light"
          },
          "paper_bgcolor": "white",
          "plot_bgcolor": "#E5ECF6",
          "polar": {
           "angularaxis": {
            "gridcolor": "white",
            "linecolor": "white",
            "ticks": ""
           },
           "bgcolor": "#E5ECF6",
           "radialaxis": {
            "gridcolor": "white",
            "linecolor": "white",
            "ticks": ""
           }
          },
          "scene": {
           "xaxis": {
            "backgroundcolor": "#E5ECF6",
            "gridcolor": "white",
            "gridwidth": 2,
            "linecolor": "white",
            "showbackground": true,
            "ticks": "",
            "zerolinecolor": "white"
           },
           "yaxis": {
            "backgroundcolor": "#E5ECF6",
            "gridcolor": "white",
            "gridwidth": 2,
            "linecolor": "white",
            "showbackground": true,
            "ticks": "",
            "zerolinecolor": "white"
           },
           "zaxis": {
            "backgroundcolor": "#E5ECF6",
            "gridcolor": "white",
            "gridwidth": 2,
            "linecolor": "white",
            "showbackground": true,
            "ticks": "",
            "zerolinecolor": "white"
           }
          },
          "shapedefaults": {
           "line": {
            "color": "#2a3f5f"
           }
          },
          "ternary": {
           "aaxis": {
            "gridcolor": "white",
            "linecolor": "white",
            "ticks": ""
           },
           "baxis": {
            "gridcolor": "white",
            "linecolor": "white",
            "ticks": ""
           },
           "bgcolor": "#E5ECF6",
           "caxis": {
            "gridcolor": "white",
            "linecolor": "white",
            "ticks": ""
           }
          },
          "title": {
           "x": 0.05
          },
          "xaxis": {
           "automargin": true,
           "gridcolor": "white",
           "linecolor": "white",
           "ticks": "",
           "title": {
            "standoff": 15
           },
           "zerolinecolor": "white",
           "zerolinewidth": 2
          },
          "yaxis": {
           "automargin": true,
           "gridcolor": "white",
           "linecolor": "white",
           "ticks": "",
           "title": {
            "standoff": 15
           },
           "zerolinecolor": "white",
           "zerolinewidth": 2
          }
         }
        },
        "title": {
         "text": "Monthly Temperature by City"
        },
        "updatemenus": [
         {
          "buttons": [
           {
            "args": [
             {
              "visible": [
               true,
               true,
               true,
               true,
               true,
               true,
               true,
               true,
               true,
               true,
               true,
               true,
               true,
               true,
               true,
               true,
               true,
               true,
               true,
               true,
               true,
               true,
               true,
               true,
               true,
               true,
               true,
               true,
               true,
               true,
               true,
               true,
               true
              ]
             }
            ],
            "label": "Show All",
            "method": "update"
           },
           {
            "args": [
             {
              "visible": [
               false,
               false,
               false,
               false,
               false,
               false,
               false,
               false,
               false,
               false,
               false,
               false,
               false,
               false,
               false,
               false,
               false,
               false,
               false,
               false,
               false,
               false,
               false,
               false,
               false,
               false,
               false,
               false,
               false,
               false,
               false,
               false,
               false
              ]
             }
            ],
            "label": "Hide All",
            "method": "update"
           }
          ],
          "direction": "right",
          "type": "buttons",
          "x": 1,
          "xanchor": "right",
          "y": 1.15,
          "yanchor": "top"
         }
        ],
        "width": 1200,
        "xaxis": {
         "anchor": "y",
         "categoryarray": [
          "Jan",
          "Feb",
          "Mar",
          "Apr",
          "May",
          "Jun",
          "Jul",
          "Aug",
          "Sep",
          "Oct",
          "Nov",
          "Dec"
         ],
         "categoryorder": "array",
         "domain": [
          0,
          1
         ],
         "title": {
          "text": "Month"
         },
         "type": "category"
        },
        "yaxis": {
         "anchor": "x",
         "domain": [
          0,
          1
         ],
         "title": {
          "text": "Temperature"
         }
        }
       }
      }
     },
     "metadata": {},
     "output_type": "display_data"
    },
    {
     "data": {
      "application/vnd.plotly.v1+json": {
       "config": {
        "plotlyServerURL": "https://plot.ly"
       },
       "data": [
        {
         "customdata": [
          [
           "Jan",
           "Feb",
           "Mar"
          ]
         ],
         "hovertemplate": "<b>%{text}</b><br>X (%{customdata[0]}): %{x}<br>Y (%{customdata[1]}): %{y}<br>Z (%{customdata[2]}): %{z}<extra></extra>",
         "marker": {
          "size": 6
         },
         "mode": "markers",
         "name": "Amsterdam",
         "text": [
          "Amsterdam"
         ],
         "textfont": {
          "size": 10
         },
         "type": "scatter3d",
         "x": [
          2
         ],
         "y": [
          2
         ],
         "z": [
          5
         ]
        },
        {
         "customdata": [
          [
           "Jan",
           "Feb",
           "Mar"
          ]
         ],
         "hovertemplate": "<b>%{text}</b><br>X (%{customdata[0]}): %{x}<br>Y (%{customdata[1]}): %{y}<br>Z (%{customdata[2]}): %{z}<extra></extra>",
         "marker": {
          "size": 6
         },
         "mode": "markers",
         "name": "Ankara",
         "text": [
          "Ankara"
         ],
         "textfont": {
          "size": 10
         },
         "type": "scatter3d",
         "x": [
          1
         ],
         "y": [
          0
         ],
         "z": [
          6
         ]
        },
        {
         "customdata": [
          [
           "Jan",
           "Feb",
           "Mar"
          ]
         ],
         "hovertemplate": "<b>%{text}</b><br>X (%{customdata[0]}): %{x}<br>Y (%{customdata[1]}): %{y}<br>Z (%{customdata[2]}): %{z}<extra></extra>",
         "marker": {
          "size": 6
         },
         "mode": "markers",
         "name": "Athens",
         "text": [
          "Athens"
         ],
         "textfont": {
          "size": 10
         },
         "type": "scatter3d",
         "x": [
          9
         ],
         "y": [
          10
         ],
         "z": [
          12
         ]
        },
        {
         "customdata": [
          [
           "Jan",
           "Feb",
           "Mar"
          ]
         ],
         "hovertemplate": "<b>%{text}</b><br>X (%{customdata[0]}): %{x}<br>Y (%{customdata[1]}): %{y}<br>Z (%{customdata[2]}): %{z}<extra></extra>",
         "marker": {
          "size": 6
         },
         "mode": "markers",
         "name": "Belgrade",
         "text": [
          "Belgrade"
         ],
         "textfont": {
          "size": 10
         },
         "type": "scatter3d",
         "x": [
          1
         ],
         "y": [
          3
         ],
         "z": [
          8
         ]
        },
        {
         "customdata": [
          [
           "Jan",
           "Feb",
           "Mar"
          ]
         ],
         "hovertemplate": "<b>%{text}</b><br>X (%{customdata[0]}): %{x}<br>Y (%{customdata[1]}): %{y}<br>Z (%{customdata[2]}): %{z}<extra></extra>",
         "marker": {
          "size": 6
         },
         "mode": "markers",
         "name": "Berlin",
         "text": [
          "Berlin"
         ],
         "textfont": {
          "size": 10
         },
         "type": "scatter3d",
         "x": [
          -2
         ],
         "y": [
          1
         ],
         "z": [
          4
         ]
        },
        {
         "customdata": [
          [
           "Jan",
           "Feb",
           "Mar"
          ]
         ],
         "hovertemplate": "<b>%{text}</b><br>X (%{customdata[0]}): %{x}<br>Y (%{customdata[1]}): %{y}<br>Z (%{customdata[2]}): %{z}<extra></extra>",
         "marker": {
          "size": 6
         },
         "mode": "markers",
         "name": "Bern",
         "text": [
          "Bern"
         ],
         "textfont": {
          "size": 10
         },
         "type": "scatter3d",
         "x": [
          1
         ],
         "y": [
          1
         ],
         "z": [
          6
         ]
        },
        {
         "customdata": [
          [
           "Jan",
           "Feb",
           "Mar"
          ]
         ],
         "hovertemplate": "<b>%{text}</b><br>X (%{customdata[0]}): %{x}<br>Y (%{customdata[1]}): %{y}<br>Z (%{customdata[2]}): %{z}<extra></extra>",
         "marker": {
          "size": 6
         },
         "mode": "markers",
         "name": "Bonn",
         "text": [
          "Bonn"
         ],
         "textfont": {
          "size": 10
         },
         "type": "scatter3d",
         "x": [
          1
         ],
         "y": [
          2
         ],
         "z": [
          7
         ]
        },
        {
         "customdata": [
          [
           "Jan",
           "Feb",
           "Mar"
          ]
         ],
         "hovertemplate": "<b>%{text}</b><br>X (%{customdata[0]}): %{x}<br>Y (%{customdata[1]}): %{y}<br>Z (%{customdata[2]}): %{z}<extra></extra>",
         "marker": {
          "size": 6
         },
         "mode": "markers",
         "name": "Bruxells",
         "text": [
          "Bruxells"
         ],
         "textfont": {
          "size": 10
         },
         "type": "scatter3d",
         "x": [
          1
         ],
         "y": [
          4
         ],
         "z": [
          7
         ]
        },
        {
         "customdata": [
          [
           "Jan",
           "Feb",
           "Mar"
          ]
         ],
         "hovertemplate": "<b>%{text}</b><br>X (%{customdata[0]}): %{x}<br>Y (%{customdata[1]}): %{y}<br>Z (%{customdata[2]}): %{z}<extra></extra>",
         "marker": {
          "size": 6
         },
         "mode": "markers",
         "name": "Bucarest",
         "text": [
          "Bucarest"
         ],
         "textfont": {
          "size": 10
         },
         "type": "scatter3d",
         "x": [
          -4
         ],
         "y": [
          -2
         ],
         "z": [
          6
         ]
        },
        {
         "customdata": [
          [
           "Jan",
           "Feb",
           "Mar"
          ]
         ],
         "hovertemplate": "<b>%{text}</b><br>X (%{customdata[0]}): %{x}<br>Y (%{customdata[1]}): %{y}<br>Z (%{customdata[2]}): %{z}<extra></extra>",
         "marker": {
          "size": 6
         },
         "mode": "markers",
         "name": "Budapest",
         "text": [
          "Budapest"
         ],
         "textfont": {
          "size": 10
         },
         "type": "scatter3d",
         "x": [
          -2
         ],
         "y": [
          1
         ],
         "z": [
          7
         ]
        },
        {
         "customdata": [
          [
           "Jan",
           "Feb",
           "Mar"
          ]
         ],
         "hovertemplate": "<b>%{text}</b><br>X (%{customdata[0]}): %{x}<br>Y (%{customdata[1]}): %{y}<br>Z (%{customdata[2]}): %{z}<extra></extra>",
         "marker": {
          "size": 6
         },
         "mode": "markers",
         "name": "Copenhagen",
         "text": [
          "Copenhagen"
         ],
         "textfont": {
          "size": 10
         },
         "type": "scatter3d",
         "x": [
          -1
         ],
         "y": [
          0
         ],
         "z": [
          3
         ]
        },
        {
         "customdata": [
          [
           "Jan",
           "Feb",
           "Mar"
          ]
         ],
         "hovertemplate": "<b>%{text}</b><br>X (%{customdata[0]}): %{x}<br>Y (%{customdata[1]}): %{y}<br>Z (%{customdata[2]}): %{z}<extra></extra>",
         "marker": {
          "size": 6
         },
         "mode": "markers",
         "name": "Dublin",
         "text": [
          "Dublin"
         ],
         "textfont": {
          "size": 10
         },
         "type": "scatter3d",
         "x": [
          3
         ],
         "y": [
          4
         ],
         "z": [
          6
         ]
        },
        {
         "customdata": [
          [
           "Jan",
           "Feb",
           "Mar"
          ]
         ],
         "hovertemplate": "<b>%{text}</b><br>X (%{customdata[0]}): %{x}<br>Y (%{customdata[1]}): %{y}<br>Z (%{customdata[2]}): %{z}<extra></extra>",
         "marker": {
          "size": 6
         },
         "mode": "markers",
         "name": "Helsinki",
         "text": [
          "Helsinki"
         ],
         "textfont": {
          "size": 10
         },
         "type": "scatter3d",
         "x": [
          -9
         ],
         "y": [
          -8
         ],
         "z": [
          -4
         ]
        },
        {
         "customdata": [
          [
           "Jan",
           "Feb",
           "Mar"
          ]
         ],
         "hovertemplate": "<b>%{text}</b><br>X (%{customdata[0]}): %{x}<br>Y (%{customdata[1]}): %{y}<br>Z (%{customdata[2]}): %{z}<extra></extra>",
         "marker": {
          "size": 6
         },
         "mode": "markers",
         "name": "Lisbon",
         "text": [
          "Lisbon"
         ],
         "textfont": {
          "size": 10
         },
         "type": "scatter3d",
         "x": [
          11
         ],
         "y": [
          12
         ],
         "z": [
          15
         ]
        },
        {
         "customdata": [
          [
           "Jan",
           "Feb",
           "Mar"
          ]
         ],
         "hovertemplate": "<b>%{text}</b><br>X (%{customdata[0]}): %{x}<br>Y (%{customdata[1]}): %{y}<br>Z (%{customdata[2]}): %{z}<extra></extra>",
         "marker": {
          "size": 6
         },
         "mode": "markers",
         "name": "London",
         "text": [
          "London"
         ],
         "textfont": {
          "size": 10
         },
         "type": "scatter3d",
         "x": [
          7
         ],
         "y": [
          8
         ],
         "z": [
          10
         ]
        },
        {
         "customdata": [
          [
           "Jan",
           "Feb",
           "Mar"
          ]
         ],
         "hovertemplate": "<b>%{text}</b><br>X (%{customdata[0]}): %{x}<br>Y (%{customdata[1]}): %{y}<br>Z (%{customdata[2]}): %{z}<extra></extra>",
         "marker": {
          "size": 6
         },
         "mode": "markers",
         "name": "Luxemborg",
         "text": [
          "Luxemborg"
         ],
         "textfont": {
          "size": 10
         },
         "type": "scatter3d",
         "x": [
          0
         ],
         "y": [
          1
         ],
         "z": [
          7
         ]
        },
        {
         "customdata": [
          [
           "Jan",
           "Feb",
           "Mar"
          ]
         ],
         "hovertemplate": "<b>%{text}</b><br>X (%{customdata[0]}): %{x}<br>Y (%{customdata[1]}): %{y}<br>Z (%{customdata[2]}): %{z}<extra></extra>",
         "marker": {
          "size": 6
         },
         "mode": "markers",
         "name": "Marbella",
         "text": [
          "Marbella"
         ],
         "textfont": {
          "size": 10
         },
         "type": "scatter3d",
         "x": [
          17
         ],
         "y": [
          17
         ],
         "z": [
          18
         ]
        },
        {
         "customdata": [
          [
           "Jan",
           "Feb",
           "Mar"
          ]
         ],
         "hovertemplate": "<b>%{text}</b><br>X (%{customdata[0]}): %{x}<br>Y (%{customdata[1]}): %{y}<br>Z (%{customdata[2]}): %{z}<extra></extra>",
         "marker": {
          "size": 6
         },
         "mode": "markers",
         "name": "Moscow",
         "text": [
          "Moscow"
         ],
         "textfont": {
          "size": 10
         },
         "type": "scatter3d",
         "x": [
          -14
         ],
         "y": [
          -12
         ],
         "z": [
          -6
         ]
        },
        {
         "customdata": [
          [
           "Jan",
           "Feb",
           "Mar"
          ]
         ],
         "hovertemplate": "<b>%{text}</b><br>X (%{customdata[0]}): %{x}<br>Y (%{customdata[1]}): %{y}<br>Z (%{customdata[2]}): %{z}<extra></extra>",
         "marker": {
          "size": 6
         },
         "mode": "markers",
         "name": "Oslo",
         "text": [
          "Oslo"
         ],
         "textfont": {
          "size": 10
         },
         "type": "scatter3d",
         "x": [
          -5
         ],
         "y": [
          -4
         ],
         "z": [
          1
         ]
        },
        {
         "customdata": [
          [
           "Jan",
           "Feb",
           "Mar"
          ]
         ],
         "hovertemplate": "<b>%{text}</b><br>X (%{customdata[0]}): %{x}<br>Y (%{customdata[1]}): %{y}<br>Z (%{customdata[2]}): %{z}<extra></extra>",
         "marker": {
          "size": 6
         },
         "mode": "markers",
         "name": "Paris",
         "text": [
          "Paris"
         ],
         "textfont": {
          "size": 10
         },
         "type": "scatter3d",
         "x": [
          4
         ],
         "y": [
          5
         ],
         "z": [
          9
         ]
        },
        {
         "customdata": [
          [
           "Jan",
           "Feb",
           "Mar"
          ]
         ],
         "hovertemplate": "<b>%{text}</b><br>X (%{customdata[0]}): %{x}<br>Y (%{customdata[1]}): %{y}<br>Z (%{customdata[2]}): %{z}<extra></extra>",
         "marker": {
          "size": 6
         },
         "mode": "markers",
         "name": "Prague",
         "text": [
          "Prague"
         ],
         "textfont": {
          "size": 10
         },
         "type": "scatter3d",
         "x": [
          -2
         ],
         "y": [
          -1
         ],
         "z": [
          4
         ]
        },
        {
         "customdata": [
          [
           "Jan",
           "Feb",
           "Mar"
          ]
         ],
         "hovertemplate": "<b>%{text}</b><br>X (%{customdata[0]}): %{x}<br>Y (%{customdata[1]}): %{y}<br>Z (%{customdata[2]}): %{z}<extra></extra>",
         "marker": {
          "size": 6
         },
         "mode": "markers",
         "name": "Rome",
         "text": [
          "Rome"
         ],
         "textfont": {
          "size": 10
         },
         "type": "scatter3d",
         "x": [
          7
         ],
         "y": [
          8
         ],
         "z": [
          11
         ]
        },
        {
         "customdata": [
          [
           "Jan",
           "Feb",
           "Mar"
          ]
         ],
         "hovertemplate": "<b>%{text}</b><br>X (%{customdata[0]}): %{x}<br>Y (%{customdata[1]}): %{y}<br>Z (%{customdata[2]}): %{z}<extra></extra>",
         "marker": {
          "size": 6
         },
         "mode": "markers",
         "name": "Sofia",
         "text": [
          "Sofia"
         ],
         "textfont": {
          "size": 10
         },
         "type": "scatter3d",
         "x": [
          -1
         ],
         "y": [
          1
         ],
         "z": [
          7
         ]
        },
        {
         "customdata": [
          [
           "Jan",
           "Feb",
           "Mar"
          ]
         ],
         "hovertemplate": "<b>%{text}</b><br>X (%{customdata[0]}): %{x}<br>Y (%{customdata[1]}): %{y}<br>Z (%{customdata[2]}): %{z}<extra></extra>",
         "marker": {
          "size": 6
         },
         "mode": "markers",
         "name": "Stockholm",
         "text": [
          "Stockholm"
         ],
         "textfont": {
          "size": 10
         },
         "type": "scatter3d",
         "x": [
          -4
         ],
         "y": [
          -4
         ],
         "z": [
          -1
         ]
        },
        {
         "customdata": [
          [
           "Jan",
           "Feb",
           "Mar"
          ]
         ],
         "hovertemplate": "<b>%{text}</b><br>X (%{customdata[0]}): %{x}<br>Y (%{customdata[1]}): %{y}<br>Z (%{customdata[2]}): %{z}<extra></extra>",
         "marker": {
          "size": 6
         },
         "mode": "markers",
         "name": "Vienna",
         "text": [
          "Vienna"
         ],
         "textfont": {
          "size": 10
         },
         "type": "scatter3d",
         "x": [
          -1
         ],
         "y": [
          1
         ],
         "z": [
          6
         ]
        },
        {
         "customdata": [
          [
           "Jan",
           "Feb",
           "Mar"
          ]
         ],
         "hovertemplate": "<b>%{text}</b><br>X (%{customdata[0]}): %{x}<br>Y (%{customdata[1]}): %{y}<br>Z (%{customdata[2]}): %{z}<extra></extra>",
         "marker": {
          "size": 6
         },
         "mode": "markers",
         "name": "Warsaw",
         "text": [
          "Warsaw"
         ],
         "textfont": {
          "size": 10
         },
         "type": "scatter3d",
         "x": [
          -5
         ],
         "y": [
          -4
         ],
         "z": [
          3
         ]
        },
        {
         "customdata": [
          [
           "Jan",
           "Feb",
           "Mar"
          ]
         ],
         "hovertemplate": "<b>%{text}</b><br>X (%{customdata[0]}): %{x}<br>Y (%{customdata[1]}): %{y}<br>Z (%{customdata[2]}): %{z}<extra></extra>",
         "marker": {
          "size": 6
         },
         "mode": "markers",
         "name": "Bratislava",
         "text": [
          "Bratislava"
         ],
         "textfont": {
          "size": 10
         },
         "type": "scatter3d",
         "x": [
          -0.4
         ],
         "y": [
          1.2
         ],
         "z": [
          5.5
         ]
        },
        {
         "customdata": [
          [
           "Jan",
           "Feb",
           "Mar"
          ]
         ],
         "hovertemplate": "<b>%{text}</b><br>X (%{customdata[0]}): %{x}<br>Y (%{customdata[1]}): %{y}<br>Z (%{customdata[2]}): %{z}<extra></extra>",
         "marker": {
          "size": 6
         },
         "mode": "markers",
         "name": "St. Petersberg",
         "text": [
          "St. Petersberg"
         ],
         "textfont": {
          "size": 10
         },
         "type": "scatter3d",
         "x": [
          4.2
         ],
         "y": [
          4.5
         ],
         "z": [
          6.2
         ]
        },
        {
         "customdata": [
          [
           "Jan",
           "Feb",
           "Mar"
          ]
         ],
         "hovertemplate": "<b>%{text}</b><br>X (%{customdata[0]}): %{x}<br>Y (%{customdata[1]}): %{y}<br>Z (%{customdata[2]}): %{z}<extra></extra>",
         "marker": {
          "size": 6
         },
         "mode": "markers",
         "name": "Ljubljana",
         "text": [
          "Ljubljana"
         ],
         "textfont": {
          "size": 10
         },
         "type": "scatter3d",
         "x": [
          0.3
         ],
         "y": [
          1.9
         ],
         "z": [
          6.5
         ]
        },
        {
         "customdata": [
          [
           "Jan",
           "Feb",
           "Mar"
          ]
         ],
         "hovertemplate": "<b>%{text}</b><br>X (%{customdata[0]}): %{x}<br>Y (%{customdata[1]}): %{y}<br>Z (%{customdata[2]}): %{z}<extra></extra>",
         "marker": {
          "size": 6
         },
         "mode": "markers",
         "name": "Madrid",
         "text": [
          "Madrid"
         ],
         "textfont": {
          "size": 10
         },
         "type": "scatter3d",
         "x": [
          6.3
         ],
         "y": [
          7.9
         ],
         "z": [
          11.2
         ]
        },
        {
         "customdata": [
          [
           "Jan",
           "Feb",
           "Mar"
          ]
         ],
         "hovertemplate": "<b>%{text}</b><br>X (%{customdata[0]}): %{x}<br>Y (%{customdata[1]}): %{y}<br>Z (%{customdata[2]}): %{z}<extra></extra>",
         "marker": {
          "size": 6
         },
         "mode": "markers",
         "name": "Milan",
         "text": [
          "Milan"
         ],
         "textfont": {
          "size": 10
         },
         "type": "scatter3d",
         "x": [
          2.5
         ],
         "y": [
          4.7
         ],
         "z": [
          9
         ]
        },
        {
         "customdata": [
          [
           "Jan",
           "Feb",
           "Mar"
          ]
         ],
         "hovertemplate": "<b>%{text}</b><br>X (%{customdata[0]}): %{x}<br>Y (%{customdata[1]}): %{y}<br>Z (%{customdata[2]}): %{z}<extra></extra>",
         "marker": {
          "size": 6
         },
         "mode": "markers",
         "name": "Edinburgh",
         "text": [
          "Edinburgh"
         ],
         "textfont": {
          "size": 10
         },
         "type": "scatter3d",
         "x": [
          -5.5
         ],
         "y": [
          -5.8
         ],
         "z": [
          -1.3
         ]
        },
        {
         "customdata": [
          [
           "Jan",
           "Feb",
           "Mar"
          ]
         ],
         "hovertemplate": "<b>%{text}</b><br>X (%{customdata[0]}): %{x}<br>Y (%{customdata[1]}): %{y}<br>Z (%{customdata[2]}): %{z}<extra></extra>",
         "marker": {
          "size": 6
         },
         "mode": "markers",
         "name": "Skopje",
         "text": [
          "Skopje"
         ],
         "textfont": {
          "size": 10
         },
         "type": "scatter3d",
         "x": [
          0.1
         ],
         "y": [
          2.6
         ],
         "z": [
          7.6
         ]
        }
       ],
       "layout": {
        "annotations": [
         {
          "showarrow": false,
          "text": "X Month",
          "x": 0.14,
          "xanchor": "center",
          "xref": "paper",
          "y": 1.18,
          "yanchor": "top",
          "yref": "paper"
         },
         {
          "showarrow": false,
          "text": "Y Month",
          "x": 0.39,
          "xanchor": "center",
          "xref": "paper",
          "y": 1.18,
          "yanchor": "top",
          "yref": "paper"
         },
         {
          "showarrow": false,
          "text": "Z Month",
          "x": 0.64,
          "xanchor": "center",
          "xref": "paper",
          "y": 1.18,
          "yanchor": "top",
          "yref": "paper"
         },
         {
          "showarrow": false,
          "text": "Point Labels",
          "x": 0.78,
          "xanchor": "center",
          "xref": "paper",
          "y": 1.18,
          "yanchor": "top",
          "yref": "paper"
         },
         {
          "showarrow": false,
          "text": "Cities",
          "x": 0.93,
          "xanchor": "center",
          "xref": "paper",
          "y": 1.18,
          "yanchor": "top",
          "yref": "paper"
         }
        ],
        "autosize": false,
        "height": 800,
        "legend": {
         "title": {
          "text": "Toggle cities"
         }
        },
        "margin": {
         "b": 10,
         "l": 10,
         "r": 10,
         "t": 140
        },
        "scene": {
         "xaxis": {
          "showspikes": false,
          "title": {
           "text": "Jan"
          }
         },
         "yaxis": {
          "showspikes": false,
          "title": {
           "text": "Feb"
          }
         },
         "zaxis": {
          "showspikes": false,
          "title": {
           "text": "Mar"
          }
         }
        },
        "template": {
         "data": {
          "bar": [
           {
            "error_x": {
             "color": "#2a3f5f"
            },
            "error_y": {
             "color": "#2a3f5f"
            },
            "marker": {
             "line": {
              "color": "#E5ECF6",
              "width": 0.5
             },
             "pattern": {
              "fillmode": "overlay",
              "size": 10,
              "solidity": 0.2
             }
            },
            "type": "bar"
           }
          ],
          "barpolar": [
           {
            "marker": {
             "line": {
              "color": "#E5ECF6",
              "width": 0.5
             },
             "pattern": {
              "fillmode": "overlay",
              "size": 10,
              "solidity": 0.2
             }
            },
            "type": "barpolar"
           }
          ],
          "carpet": [
           {
            "aaxis": {
             "endlinecolor": "#2a3f5f",
             "gridcolor": "white",
             "linecolor": "white",
             "minorgridcolor": "white",
             "startlinecolor": "#2a3f5f"
            },
            "baxis": {
             "endlinecolor": "#2a3f5f",
             "gridcolor": "white",
             "linecolor": "white",
             "minorgridcolor": "white",
             "startlinecolor": "#2a3f5f"
            },
            "type": "carpet"
           }
          ],
          "choropleth": [
           {
            "colorbar": {
             "outlinewidth": 0,
             "ticks": ""
            },
            "type": "choropleth"
           }
          ],
          "contour": [
           {
            "colorbar": {
             "outlinewidth": 0,
             "ticks": ""
            },
            "colorscale": [
             [
              0,
              "#0d0887"
             ],
             [
              0.1111111111111111,
              "#46039f"
             ],
             [
              0.2222222222222222,
              "#7201a8"
             ],
             [
              0.3333333333333333,
              "#9c179e"
             ],
             [
              0.4444444444444444,
              "#bd3786"
             ],
             [
              0.5555555555555556,
              "#d8576b"
             ],
             [
              0.6666666666666666,
              "#ed7953"
             ],
             [
              0.7777777777777778,
              "#fb9f3a"
             ],
             [
              0.8888888888888888,
              "#fdca26"
             ],
             [
              1,
              "#f0f921"
             ]
            ],
            "type": "contour"
           }
          ],
          "contourcarpet": [
           {
            "colorbar": {
             "outlinewidth": 0,
             "ticks": ""
            },
            "type": "contourcarpet"
           }
          ],
          "heatmap": [
           {
            "colorbar": {
             "outlinewidth": 0,
             "ticks": ""
            },
            "colorscale": [
             [
              0,
              "#0d0887"
             ],
             [
              0.1111111111111111,
              "#46039f"
             ],
             [
              0.2222222222222222,
              "#7201a8"
             ],
             [
              0.3333333333333333,
              "#9c179e"
             ],
             [
              0.4444444444444444,
              "#bd3786"
             ],
             [
              0.5555555555555556,
              "#d8576b"
             ],
             [
              0.6666666666666666,
              "#ed7953"
             ],
             [
              0.7777777777777778,
              "#fb9f3a"
             ],
             [
              0.8888888888888888,
              "#fdca26"
             ],
             [
              1,
              "#f0f921"
             ]
            ],
            "type": "heatmap"
           }
          ],
          "histogram": [
           {
            "marker": {
             "pattern": {
              "fillmode": "overlay",
              "size": 10,
              "solidity": 0.2
             }
            },
            "type": "histogram"
           }
          ],
          "histogram2d": [
           {
            "colorbar": {
             "outlinewidth": 0,
             "ticks": ""
            },
            "colorscale": [
             [
              0,
              "#0d0887"
             ],
             [
              0.1111111111111111,
              "#46039f"
             ],
             [
              0.2222222222222222,
              "#7201a8"
             ],
             [
              0.3333333333333333,
              "#9c179e"
             ],
             [
              0.4444444444444444,
              "#bd3786"
             ],
             [
              0.5555555555555556,
              "#d8576b"
             ],
             [
              0.6666666666666666,
              "#ed7953"
             ],
             [
              0.7777777777777778,
              "#fb9f3a"
             ],
             [
              0.8888888888888888,
              "#fdca26"
             ],
             [
              1,
              "#f0f921"
             ]
            ],
            "type": "histogram2d"
           }
          ],
          "histogram2dcontour": [
           {
            "colorbar": {
             "outlinewidth": 0,
             "ticks": ""
            },
            "colorscale": [
             [
              0,
              "#0d0887"
             ],
             [
              0.1111111111111111,
              "#46039f"
             ],
             [
              0.2222222222222222,
              "#7201a8"
             ],
             [
              0.3333333333333333,
              "#9c179e"
             ],
             [
              0.4444444444444444,
              "#bd3786"
             ],
             [
              0.5555555555555556,
              "#d8576b"
             ],
             [
              0.6666666666666666,
              "#ed7953"
             ],
             [
              0.7777777777777778,
              "#fb9f3a"
             ],
             [
              0.8888888888888888,
              "#fdca26"
             ],
             [
              1,
              "#f0f921"
             ]
            ],
            "type": "histogram2dcontour"
           }
          ],
          "mesh3d": [
           {
            "colorbar": {
             "outlinewidth": 0,
             "ticks": ""
            },
            "type": "mesh3d"
           }
          ],
          "parcoords": [
           {
            "line": {
             "colorbar": {
              "outlinewidth": 0,
              "ticks": ""
             }
            },
            "type": "parcoords"
           }
          ],
          "pie": [
           {
            "automargin": true,
            "type": "pie"
           }
          ],
          "scatter": [
           {
            "fillpattern": {
             "fillmode": "overlay",
             "size": 10,
             "solidity": 0.2
            },
            "type": "scatter"
           }
          ],
          "scatter3d": [
           {
            "line": {
             "colorbar": {
              "outlinewidth": 0,
              "ticks": ""
             }
            },
            "marker": {
             "colorbar": {
              "outlinewidth": 0,
              "ticks": ""
             }
            },
            "type": "scatter3d"
           }
          ],
          "scattercarpet": [
           {
            "marker": {
             "colorbar": {
              "outlinewidth": 0,
              "ticks": ""
             }
            },
            "type": "scattercarpet"
           }
          ],
          "scattergeo": [
           {
            "marker": {
             "colorbar": {
              "outlinewidth": 0,
              "ticks": ""
             }
            },
            "type": "scattergeo"
           }
          ],
          "scattergl": [
           {
            "marker": {
             "colorbar": {
              "outlinewidth": 0,
              "ticks": ""
             }
            },
            "type": "scattergl"
           }
          ],
          "scattermap": [
           {
            "marker": {
             "colorbar": {
              "outlinewidth": 0,
              "ticks": ""
             }
            },
            "type": "scattermap"
           }
          ],
          "scattermapbox": [
           {
            "marker": {
             "colorbar": {
              "outlinewidth": 0,
              "ticks": ""
             }
            },
            "type": "scattermapbox"
           }
          ],
          "scatterpolar": [
           {
            "marker": {
             "colorbar": {
              "outlinewidth": 0,
              "ticks": ""
             }
            },
            "type": "scatterpolar"
           }
          ],
          "scatterpolargl": [
           {
            "marker": {
             "colorbar": {
              "outlinewidth": 0,
              "ticks": ""
             }
            },
            "type": "scatterpolargl"
           }
          ],
          "scatterternary": [
           {
            "marker": {
             "colorbar": {
              "outlinewidth": 0,
              "ticks": ""
             }
            },
            "type": "scatterternary"
           }
          ],
          "surface": [
           {
            "colorbar": {
             "outlinewidth": 0,
             "ticks": ""
            },
            "colorscale": [
             [
              0,
              "#0d0887"
             ],
             [
              0.1111111111111111,
              "#46039f"
             ],
             [
              0.2222222222222222,
              "#7201a8"
             ],
             [
              0.3333333333333333,
              "#9c179e"
             ],
             [
              0.4444444444444444,
              "#bd3786"
             ],
             [
              0.5555555555555556,
              "#d8576b"
             ],
             [
              0.6666666666666666,
              "#ed7953"
             ],
             [
              0.7777777777777778,
              "#fb9f3a"
             ],
             [
              0.8888888888888888,
              "#fdca26"
             ],
             [
              1,
              "#f0f921"
             ]
            ],
            "type": "surface"
           }
          ],
          "table": [
           {
            "cells": {
             "fill": {
              "color": "#EBF0F8"
             },
             "line": {
              "color": "white"
             }
            },
            "header": {
             "fill": {
              "color": "#C8D4E3"
             },
             "line": {
              "color": "white"
             }
            },
            "type": "table"
           }
          ]
         },
         "layout": {
          "annotationdefaults": {
           "arrowcolor": "#2a3f5f",
           "arrowhead": 0,
           "arrowwidth": 1
          },
          "autotypenumbers": "strict",
          "coloraxis": {
           "colorbar": {
            "outlinewidth": 0,
            "ticks": ""
           }
          },
          "colorscale": {
           "diverging": [
            [
             0,
             "#8e0152"
            ],
            [
             0.1,
             "#c51b7d"
            ],
            [
             0.2,
             "#de77ae"
            ],
            [
             0.3,
             "#f1b6da"
            ],
            [
             0.4,
             "#fde0ef"
            ],
            [
             0.5,
             "#f7f7f7"
            ],
            [
             0.6,
             "#e6f5d0"
            ],
            [
             0.7,
             "#b8e186"
            ],
            [
             0.8,
             "#7fbc41"
            ],
            [
             0.9,
             "#4d9221"
            ],
            [
             1,
             "#276419"
            ]
           ],
           "sequential": [
            [
             0,
             "#0d0887"
            ],
            [
             0.1111111111111111,
             "#46039f"
            ],
            [
             0.2222222222222222,
             "#7201a8"
            ],
            [
             0.3333333333333333,
             "#9c179e"
            ],
            [
             0.4444444444444444,
             "#bd3786"
            ],
            [
             0.5555555555555556,
             "#d8576b"
            ],
            [
             0.6666666666666666,
             "#ed7953"
            ],
            [
             0.7777777777777778,
             "#fb9f3a"
            ],
            [
             0.8888888888888888,
             "#fdca26"
            ],
            [
             1,
             "#f0f921"
            ]
           ],
           "sequentialminus": [
            [
             0,
             "#0d0887"
            ],
            [
             0.1111111111111111,
             "#46039f"
            ],
            [
             0.2222222222222222,
             "#7201a8"
            ],
            [
             0.3333333333333333,
             "#9c179e"
            ],
            [
             0.4444444444444444,
             "#bd3786"
            ],
            [
             0.5555555555555556,
             "#d8576b"
            ],
            [
             0.6666666666666666,
             "#ed7953"
            ],
            [
             0.7777777777777778,
             "#fb9f3a"
            ],
            [
             0.8888888888888888,
             "#fdca26"
            ],
            [
             1,
             "#f0f921"
            ]
           ]
          },
          "colorway": [
           "#636efa",
           "#EF553B",
           "#00cc96",
           "#ab63fa",
           "#FFA15A",
           "#19d3f3",
           "#FF6692",
           "#B6E880",
           "#FF97FF",
           "#FECB52"
          ],
          "font": {
           "color": "#2a3f5f"
          },
          "geo": {
           "bgcolor": "white",
           "lakecolor": "white",
           "landcolor": "#E5ECF6",
           "showlakes": true,
           "showland": true,
           "subunitcolor": "white"
          },
          "hoverlabel": {
           "align": "left"
          },
          "hovermode": "closest",
          "mapbox": {
           "style": "light"
          },
          "paper_bgcolor": "white",
          "plot_bgcolor": "#E5ECF6",
          "polar": {
           "angularaxis": {
            "gridcolor": "white",
            "linecolor": "white",
            "ticks": ""
           },
           "bgcolor": "#E5ECF6",
           "radialaxis": {
            "gridcolor": "white",
            "linecolor": "white",
            "ticks": ""
           }
          },
          "scene": {
           "xaxis": {
            "backgroundcolor": "#E5ECF6",
            "gridcolor": "white",
            "gridwidth": 2,
            "linecolor": "white",
            "showbackground": true,
            "ticks": "",
            "zerolinecolor": "white"
           },
           "yaxis": {
            "backgroundcolor": "#E5ECF6",
            "gridcolor": "white",
            "gridwidth": 2,
            "linecolor": "white",
            "showbackground": true,
            "ticks": "",
            "zerolinecolor": "white"
           },
           "zaxis": {
            "backgroundcolor": "#E5ECF6",
            "gridcolor": "white",
            "gridwidth": 2,
            "linecolor": "white",
            "showbackground": true,
            "ticks": "",
            "zerolinecolor": "white"
           }
          },
          "shapedefaults": {
           "line": {
            "color": "#2a3f5f"
           }
          },
          "ternary": {
           "aaxis": {
            "gridcolor": "white",
            "linecolor": "white",
            "ticks": ""
           },
           "baxis": {
            "gridcolor": "white",
            "linecolor": "white",
            "ticks": ""
           },
           "bgcolor": "#E5ECF6",
           "caxis": {
            "gridcolor": "white",
            "linecolor": "white",
            "ticks": ""
           }
          },
          "title": {
           "x": 0.05
          },
          "xaxis": {
           "automargin": true,
           "gridcolor": "white",
           "linecolor": "white",
           "ticks": "",
           "title": {
            "standoff": 15
           },
           "zerolinecolor": "white",
           "zerolinewidth": 2
          },
          "yaxis": {
           "automargin": true,
           "gridcolor": "white",
           "linecolor": "white",
           "ticks": "",
           "title": {
            "standoff": 15
           },
           "zerolinecolor": "white",
           "zerolinewidth": 2
          }
         }
        },
        "title": {
         "y": 0.92
        },
        "updatemenus": [
         {
          "buttons": [
           {
            "args": [
             {
              "customdata": [
               [
                [
                 "Jan",
                 "Feb",
                 "Mar"
                ]
               ],
               [
                [
                 "Jan",
                 "Feb",
                 "Mar"
                ]
               ],
               [
                [
                 "Jan",
                 "Feb",
                 "Mar"
                ]
               ],
               [
                [
                 "Jan",
                 "Feb",
                 "Mar"
                ]
               ],
               [
                [
                 "Jan",
                 "Feb",
                 "Mar"
                ]
               ],
               [
                [
                 "Jan",
                 "Feb",
                 "Mar"
                ]
               ],
               [
                [
                 "Jan",
                 "Feb",
                 "Mar"
                ]
               ],
               [
                [
                 "Jan",
                 "Feb",
                 "Mar"
                ]
               ],
               [
                [
                 "Jan",
                 "Feb",
                 "Mar"
                ]
               ],
               [
                [
                 "Jan",
                 "Feb",
                 "Mar"
                ]
               ],
               [
                [
                 "Jan",
                 "Feb",
                 "Mar"
                ]
               ],
               [
                [
                 "Jan",
                 "Feb",
                 "Mar"
                ]
               ],
               [
                [
                 "Jan",
                 "Feb",
                 "Mar"
                ]
               ],
               [
                [
                 "Jan",
                 "Feb",
                 "Mar"
                ]
               ],
               [
                [
                 "Jan",
                 "Feb",
                 "Mar"
                ]
               ],
               [
                [
                 "Jan",
                 "Feb",
                 "Mar"
                ]
               ],
               [
                [
                 "Jan",
                 "Feb",
                 "Mar"
                ]
               ],
               [
                [
                 "Jan",
                 "Feb",
                 "Mar"
                ]
               ],
               [
                [
                 "Jan",
                 "Feb",
                 "Mar"
                ]
               ],
               [
                [
                 "Jan",
                 "Feb",
                 "Mar"
                ]
               ],
               [
                [
                 "Jan",
                 "Feb",
                 "Mar"
                ]
               ],
               [
                [
                 "Jan",
                 "Feb",
                 "Mar"
                ]
               ],
               [
                [
                 "Jan",
                 "Feb",
                 "Mar"
                ]
               ],
               [
                [
                 "Jan",
                 "Feb",
                 "Mar"
                ]
               ],
               [
                [
                 "Jan",
                 "Feb",
                 "Mar"
                ]
               ],
               [
                [
                 "Jan",
                 "Feb",
                 "Mar"
                ]
               ],
               [
                [
                 "Jan",
                 "Feb",
                 "Mar"
                ]
               ],
               [
                [
                 "Jan",
                 "Feb",
                 "Mar"
                ]
               ],
               [
                [
                 "Jan",
                 "Feb",
                 "Mar"
                ]
               ],
               [
                [
                 "Jan",
                 "Feb",
                 "Mar"
                ]
               ],
               [
                [
                 "Jan",
                 "Feb",
                 "Mar"
                ]
               ],
               [
                [
                 "Jan",
                 "Feb",
                 "Mar"
                ]
               ],
               [
                [
                 "Jan",
                 "Feb",
                 "Mar"
                ]
               ]
              ],
              "x": [
               [
                2
               ],
               [
                1
               ],
               [
                9
               ],
               [
                1
               ],
               [
                -2
               ],
               [
                1
               ],
               [
                1
               ],
               [
                1
               ],
               [
                -4
               ],
               [
                -2
               ],
               [
                -1
               ],
               [
                3
               ],
               [
                -9
               ],
               [
                11
               ],
               [
                7
               ],
               [
                0
               ],
               [
                17
               ],
               [
                -14
               ],
               [
                -5
               ],
               [
                4
               ],
               [
                -2
               ],
               [
                7
               ],
               [
                -1
               ],
               [
                -4
               ],
               [
                -1
               ],
               [
                -5
               ],
               [
                -0.4
               ],
               [
                4.2
               ],
               [
                0.3
               ],
               [
                6.3
               ],
               [
                2.5
               ],
               [
                -5.5
               ],
               [
                0.1
               ]
              ]
             },
             {
              "scene.xaxis.title.text": "Jan"
             }
            ],
            "label": "Jan",
            "method": "update"
           },
           {
            "args": [
             {
              "customdata": [
               [
                [
                 "Feb",
                 "Feb",
                 "Mar"
                ]
               ],
               [
                [
                 "Feb",
                 "Feb",
                 "Mar"
                ]
               ],
               [
                [
                 "Feb",
                 "Feb",
                 "Mar"
                ]
               ],
               [
                [
                 "Feb",
                 "Feb",
                 "Mar"
                ]
               ],
               [
                [
                 "Feb",
                 "Feb",
                 "Mar"
                ]
               ],
               [
                [
                 "Feb",
                 "Feb",
                 "Mar"
                ]
               ],
               [
                [
                 "Feb",
                 "Feb",
                 "Mar"
                ]
               ],
               [
                [
                 "Feb",
                 "Feb",
                 "Mar"
                ]
               ],
               [
                [
                 "Feb",
                 "Feb",
                 "Mar"
                ]
               ],
               [
                [
                 "Feb",
                 "Feb",
                 "Mar"
                ]
               ],
               [
                [
                 "Feb",
                 "Feb",
                 "Mar"
                ]
               ],
               [
                [
                 "Feb",
                 "Feb",
                 "Mar"
                ]
               ],
               [
                [
                 "Feb",
                 "Feb",
                 "Mar"
                ]
               ],
               [
                [
                 "Feb",
                 "Feb",
                 "Mar"
                ]
               ],
               [
                [
                 "Feb",
                 "Feb",
                 "Mar"
                ]
               ],
               [
                [
                 "Feb",
                 "Feb",
                 "Mar"
                ]
               ],
               [
                [
                 "Feb",
                 "Feb",
                 "Mar"
                ]
               ],
               [
                [
                 "Feb",
                 "Feb",
                 "Mar"
                ]
               ],
               [
                [
                 "Feb",
                 "Feb",
                 "Mar"
                ]
               ],
               [
                [
                 "Feb",
                 "Feb",
                 "Mar"
                ]
               ],
               [
                [
                 "Feb",
                 "Feb",
                 "Mar"
                ]
               ],
               [
                [
                 "Feb",
                 "Feb",
                 "Mar"
                ]
               ],
               [
                [
                 "Feb",
                 "Feb",
                 "Mar"
                ]
               ],
               [
                [
                 "Feb",
                 "Feb",
                 "Mar"
                ]
               ],
               [
                [
                 "Feb",
                 "Feb",
                 "Mar"
                ]
               ],
               [
                [
                 "Feb",
                 "Feb",
                 "Mar"
                ]
               ],
               [
                [
                 "Feb",
                 "Feb",
                 "Mar"
                ]
               ],
               [
                [
                 "Feb",
                 "Feb",
                 "Mar"
                ]
               ],
               [
                [
                 "Feb",
                 "Feb",
                 "Mar"
                ]
               ],
               [
                [
                 "Feb",
                 "Feb",
                 "Mar"
                ]
               ],
               [
                [
                 "Feb",
                 "Feb",
                 "Mar"
                ]
               ],
               [
                [
                 "Feb",
                 "Feb",
                 "Mar"
                ]
               ],
               [
                [
                 "Feb",
                 "Feb",
                 "Mar"
                ]
               ]
              ],
              "x": [
               [
                2
               ],
               [
                0
               ],
               [
                10
               ],
               [
                3
               ],
               [
                1
               ],
               [
                1
               ],
               [
                2
               ],
               [
                4
               ],
               [
                -2
               ],
               [
                1
               ],
               [
                0
               ],
               [
                4
               ],
               [
                -8
               ],
               [
                12
               ],
               [
                8
               ],
               [
                1
               ],
               [
                17
               ],
               [
                -12
               ],
               [
                -4
               ],
               [
                5
               ],
               [
                -1
               ],
               [
                8
               ],
               [
                1
               ],
               [
                -4
               ],
               [
                1
               ],
               [
                -4
               ],
               [
                1.2
               ],
               [
                4.5
               ],
               [
                1.9
               ],
               [
                7.9
               ],
               [
                4.7
               ],
               [
                -5.8
               ],
               [
                2.6
               ]
              ]
             },
             {
              "scene.xaxis.title.text": "Feb"
             }
            ],
            "label": "Feb",
            "method": "update"
           },
           {
            "args": [
             {
              "customdata": [
               [
                [
                 "Mar",
                 "Feb",
                 "Mar"
                ]
               ],
               [
                [
                 "Mar",
                 "Feb",
                 "Mar"
                ]
               ],
               [
                [
                 "Mar",
                 "Feb",
                 "Mar"
                ]
               ],
               [
                [
                 "Mar",
                 "Feb",
                 "Mar"
                ]
               ],
               [
                [
                 "Mar",
                 "Feb",
                 "Mar"
                ]
               ],
               [
                [
                 "Mar",
                 "Feb",
                 "Mar"
                ]
               ],
               [
                [
                 "Mar",
                 "Feb",
                 "Mar"
                ]
               ],
               [
                [
                 "Mar",
                 "Feb",
                 "Mar"
                ]
               ],
               [
                [
                 "Mar",
                 "Feb",
                 "Mar"
                ]
               ],
               [
                [
                 "Mar",
                 "Feb",
                 "Mar"
                ]
               ],
               [
                [
                 "Mar",
                 "Feb",
                 "Mar"
                ]
               ],
               [
                [
                 "Mar",
                 "Feb",
                 "Mar"
                ]
               ],
               [
                [
                 "Mar",
                 "Feb",
                 "Mar"
                ]
               ],
               [
                [
                 "Mar",
                 "Feb",
                 "Mar"
                ]
               ],
               [
                [
                 "Mar",
                 "Feb",
                 "Mar"
                ]
               ],
               [
                [
                 "Mar",
                 "Feb",
                 "Mar"
                ]
               ],
               [
                [
                 "Mar",
                 "Feb",
                 "Mar"
                ]
               ],
               [
                [
                 "Mar",
                 "Feb",
                 "Mar"
                ]
               ],
               [
                [
                 "Mar",
                 "Feb",
                 "Mar"
                ]
               ],
               [
                [
                 "Mar",
                 "Feb",
                 "Mar"
                ]
               ],
               [
                [
                 "Mar",
                 "Feb",
                 "Mar"
                ]
               ],
               [
                [
                 "Mar",
                 "Feb",
                 "Mar"
                ]
               ],
               [
                [
                 "Mar",
                 "Feb",
                 "Mar"
                ]
               ],
               [
                [
                 "Mar",
                 "Feb",
                 "Mar"
                ]
               ],
               [
                [
                 "Mar",
                 "Feb",
                 "Mar"
                ]
               ],
               [
                [
                 "Mar",
                 "Feb",
                 "Mar"
                ]
               ],
               [
                [
                 "Mar",
                 "Feb",
                 "Mar"
                ]
               ],
               [
                [
                 "Mar",
                 "Feb",
                 "Mar"
                ]
               ],
               [
                [
                 "Mar",
                 "Feb",
                 "Mar"
                ]
               ],
               [
                [
                 "Mar",
                 "Feb",
                 "Mar"
                ]
               ],
               [
                [
                 "Mar",
                 "Feb",
                 "Mar"
                ]
               ],
               [
                [
                 "Mar",
                 "Feb",
                 "Mar"
                ]
               ],
               [
                [
                 "Mar",
                 "Feb",
                 "Mar"
                ]
               ]
              ],
              "x": [
               [
                5
               ],
               [
                6
               ],
               [
                12
               ],
               [
                8
               ],
               [
                4
               ],
               [
                6
               ],
               [
                7
               ],
               [
                7
               ],
               [
                6
               ],
               [
                7
               ],
               [
                3
               ],
               [
                6
               ],
               [
                -4
               ],
               [
                15
               ],
               [
                10
               ],
               [
                7
               ],
               [
                18
               ],
               [
                -6
               ],
               [
                1
               ],
               [
                9
               ],
               [
                4
               ],
               [
                11
               ],
               [
                7
               ],
               [
                -1
               ],
               [
                6
               ],
               [
                3
               ],
               [
                5.5
               ],
               [
                6.2
               ],
               [
                6.5
               ],
               [
                11.2
               ],
               [
                9
               ],
               [
                -1.3
               ],
               [
                7.6
               ]
              ]
             },
             {
              "scene.xaxis.title.text": "Mar"
             }
            ],
            "label": "Mar",
            "method": "update"
           },
           {
            "args": [
             {
              "customdata": [
               [
                [
                 "Apr",
                 "Feb",
                 "Mar"
                ]
               ],
               [
                [
                 "Apr",
                 "Feb",
                 "Mar"
                ]
               ],
               [
                [
                 "Apr",
                 "Feb",
                 "Mar"
                ]
               ],
               [
                [
                 "Apr",
                 "Feb",
                 "Mar"
                ]
               ],
               [
                [
                 "Apr",
                 "Feb",
                 "Mar"
                ]
               ],
               [
                [
                 "Apr",
                 "Feb",
                 "Mar"
                ]
               ],
               [
                [
                 "Apr",
                 "Feb",
                 "Mar"
                ]
               ],
               [
                [
                 "Apr",
                 "Feb",
                 "Mar"
                ]
               ],
               [
                [
                 "Apr",
                 "Feb",
                 "Mar"
                ]
               ],
               [
                [
                 "Apr",
                 "Feb",
                 "Mar"
                ]
               ],
               [
                [
                 "Apr",
                 "Feb",
                 "Mar"
                ]
               ],
               [
                [
                 "Apr",
                 "Feb",
                 "Mar"
                ]
               ],
               [
                [
                 "Apr",
                 "Feb",
                 "Mar"
                ]
               ],
               [
                [
                 "Apr",
                 "Feb",
                 "Mar"
                ]
               ],
               [
                [
                 "Apr",
                 "Feb",
                 "Mar"
                ]
               ],
               [
                [
                 "Apr",
                 "Feb",
                 "Mar"
                ]
               ],
               [
                [
                 "Apr",
                 "Feb",
                 "Mar"
                ]
               ],
               [
                [
                 "Apr",
                 "Feb",
                 "Mar"
                ]
               ],
               [
                [
                 "Apr",
                 "Feb",
                 "Mar"
                ]
               ],
               [
                [
                 "Apr",
                 "Feb",
                 "Mar"
                ]
               ],
               [
                [
                 "Apr",
                 "Feb",
                 "Mar"
                ]
               ],
               [
                [
                 "Apr",
                 "Feb",
                 "Mar"
                ]
               ],
               [
                [
                 "Apr",
                 "Feb",
                 "Mar"
                ]
               ],
               [
                [
                 "Apr",
                 "Feb",
                 "Mar"
                ]
               ],
               [
                [
                 "Apr",
                 "Feb",
                 "Mar"
                ]
               ],
               [
                [
                 "Apr",
                 "Feb",
                 "Mar"
                ]
               ],
               [
                [
                 "Apr",
                 "Feb",
                 "Mar"
                ]
               ],
               [
                [
                 "Apr",
                 "Feb",
                 "Mar"
                ]
               ],
               [
                [
                 "Apr",
                 "Feb",
                 "Mar"
                ]
               ],
               [
                [
                 "Apr",
                 "Feb",
                 "Mar"
                ]
               ],
               [
                [
                 "Apr",
                 "Feb",
                 "Mar"
                ]
               ],
               [
                [
                 "Apr",
                 "Feb",
                 "Mar"
                ]
               ],
               [
                [
                 "Apr",
                 "Feb",
                 "Mar"
                ]
               ]
              ],
              "x": [
               [
                8
               ],
               [
                12
               ],
               [
                16
               ],
               [
                13
               ],
               [
                10
               ],
               [
                10
               ],
               [
                11
               ],
               [
                11
               ],
               [
                12
               ],
               [
                13
               ],
               [
                8
               ],
               [
                8
               ],
               [
                3
               ],
               [
                17
               ],
               [
                13
               ],
               [
                11
               ],
               [
                21
               ],
               [
                6
               ],
               [
                5
               ],
               [
                13
               ],
               [
                11
               ],
               [
                14
               ],
               [
                12
               ],
               [
                6
               ],
               [
                12
               ],
               [
                9
               ],
               [
                11
               ],
               [
                8.1
               ],
               [
                10.8
               ],
               [
                12.9
               ],
               [
                12.2
               ],
               [
                5.1
               ],
               [
                12.1
               ]
              ]
             },
             {
              "scene.xaxis.title.text": "Apr"
             }
            ],
            "label": "Apr",
            "method": "update"
           },
           {
            "args": [
             {
              "customdata": [
               [
                [
                 "May",
                 "Feb",
                 "Mar"
                ]
               ],
               [
                [
                 "May",
                 "Feb",
                 "Mar"
                ]
               ],
               [
                [
                 "May",
                 "Feb",
                 "Mar"
                ]
               ],
               [
                [
                 "May",
                 "Feb",
                 "Mar"
                ]
               ],
               [
                [
                 "May",
                 "Feb",
                 "Mar"
                ]
               ],
               [
                [
                 "May",
                 "Feb",
                 "Mar"
                ]
               ],
               [
                [
                 "May",
                 "Feb",
                 "Mar"
                ]
               ],
               [
                [
                 "May",
                 "Feb",
                 "Mar"
                ]
               ],
               [
                [
                 "May",
                 "Feb",
                 "Mar"
                ]
               ],
               [
                [
                 "May",
                 "Feb",
                 "Mar"
                ]
               ],
               [
                [
                 "May",
                 "Feb",
                 "Mar"
                ]
               ],
               [
                [
                 "May",
                 "Feb",
                 "Mar"
                ]
               ],
               [
                [
                 "May",
                 "Feb",
                 "Mar"
                ]
               ],
               [
                [
                 "May",
                 "Feb",
                 "Mar"
                ]
               ],
               [
                [
                 "May",
                 "Feb",
                 "Mar"
                ]
               ],
               [
                [
                 "May",
                 "Feb",
                 "Mar"
                ]
               ],
               [
                [
                 "May",
                 "Feb",
                 "Mar"
                ]
               ],
               [
                [
                 "May",
                 "Feb",
                 "Mar"
                ]
               ],
               [
                [
                 "May",
                 "Feb",
                 "Mar"
                ]
               ],
               [
                [
                 "May",
                 "Feb",
                 "Mar"
                ]
               ],
               [
                [
                 "May",
                 "Feb",
                 "Mar"
                ]
               ],
               [
                [
                 "May",
                 "Feb",
                 "Mar"
                ]
               ],
               [
                [
                 "May",
                 "Feb",
                 "Mar"
                ]
               ],
               [
                [
                 "May",
                 "Feb",
                 "Mar"
                ]
               ],
               [
                [
                 "May",
                 "Feb",
                 "Mar"
                ]
               ],
               [
                [
                 "May",
                 "Feb",
                 "Mar"
                ]
               ],
               [
                [
                 "May",
                 "Feb",
                 "Mar"
                ]
               ],
               [
                [
                 "May",
                 "Feb",
                 "Mar"
                ]
               ],
               [
                [
                 "May",
                 "Feb",
                 "Mar"
                ]
               ],
               [
                [
                 "May",
                 "Feb",
                 "Mar"
                ]
               ],
               [
                [
                 "May",
                 "Feb",
                 "Mar"
                ]
               ],
               [
                [
                 "May",
                 "Feb",
                 "Mar"
                ]
               ],
               [
                [
                 "May",
                 "Feb",
                 "Mar"
                ]
               ]
              ],
              "x": [
               [
                12
               ],
               [
                17
               ],
               [
                21
               ],
               [
                17
               ],
               [
                14
               ],
               [
                13
               ],
               [
                14
               ],
               [
                13
               ],
               [
                17
               ],
               [
                17
               ],
               [
                13
               ],
               [
                11
               ],
               [
                10
               ],
               [
                19
               ],
               [
                17
               ],
               [
                13
               ],
               [
                23
               ],
               [
                14
               ],
               [
                11
               ],
               [
                16
               ],
               [
                15
               ],
               [
                18
               ],
               [
                16
               ],
               [
                11
               ],
               [
                15
               ],
               [
                16
               ],
               [
                16
               ],
               [
                10.8
               ],
               [
                15.8
               ],
               [
                16.7
               ],
               [
                17
               ],
               [
                11.3
               ],
               [
                17.3
               ]
              ]
             },
             {
              "scene.xaxis.title.text": "May"
             }
            ],
            "label": "May",
            "method": "update"
           },
           {
            "args": [
             {
              "customdata": [
               [
                [
                 "Jun",
                 "Feb",
                 "Mar"
                ]
               ],
               [
                [
                 "Jun",
                 "Feb",
                 "Mar"
                ]
               ],
               [
                [
                 "Jun",
                 "Feb",
                 "Mar"
                ]
               ],
               [
                [
                 "Jun",
                 "Feb",
                 "Mar"
                ]
               ],
               [
                [
                 "Jun",
                 "Feb",
                 "Mar"
                ]
               ],
               [
                [
                 "Jun",
                 "Feb",
                 "Mar"
                ]
               ],
               [
                [
                 "Jun",
                 "Feb",
                 "Mar"
                ]
               ],
               [
                [
                 "Jun",
                 "Feb",
                 "Mar"
                ]
               ],
               [
                [
                 "Jun",
                 "Feb",
                 "Mar"
                ]
               ],
               [
                [
                 "Jun",
                 "Feb",
                 "Mar"
                ]
               ],
               [
                [
                 "Jun",
                 "Feb",
                 "Mar"
                ]
               ],
               [
                [
                 "Jun",
                 "Feb",
                 "Mar"
                ]
               ],
               [
                [
                 "Jun",
                 "Feb",
                 "Mar"
                ]
               ],
               [
                [
                 "Jun",
                 "Feb",
                 "Mar"
                ]
               ],
               [
                [
                 "Jun",
                 "Feb",
                 "Mar"
                ]
               ],
               [
                [
                 "Jun",
                 "Feb",
                 "Mar"
                ]
               ],
               [
                [
                 "Jun",
                 "Feb",
                 "Mar"
                ]
               ],
               [
                [
                 "Jun",
                 "Feb",
                 "Mar"
                ]
               ],
               [
                [
                 "Jun",
                 "Feb",
                 "Mar"
                ]
               ],
               [
                [
                 "Jun",
                 "Feb",
                 "Mar"
                ]
               ],
               [
                [
                 "Jun",
                 "Feb",
                 "Mar"
                ]
               ],
               [
                [
                 "Jun",
                 "Feb",
                 "Mar"
                ]
               ],
               [
                [
                 "Jun",
                 "Feb",
                 "Mar"
                ]
               ],
               [
                [
                 "Jun",
                 "Feb",
                 "Mar"
                ]
               ],
               [
                [
                 "Jun",
                 "Feb",
                 "Mar"
                ]
               ],
               [
                [
                 "Jun",
                 "Feb",
                 "Mar"
                ]
               ],
               [
                [
                 "Jun",
                 "Feb",
                 "Mar"
                ]
               ],
               [
                [
                 "Jun",
                 "Feb",
                 "Mar"
                ]
               ],
               [
                [
                 "Jun",
                 "Feb",
                 "Mar"
                ]
               ],
               [
                [
                 "Jun",
                 "Feb",
                 "Mar"
                ]
               ],
               [
                [
                 "Jun",
                 "Feb",
                 "Mar"
                ]
               ],
               [
                [
                 "Jun",
                 "Feb",
                 "Mar"
                ]
               ],
               [
                [
                 "Jun",
                 "Feb",
                 "Mar"
                ]
               ]
              ],
              "x": [
               [
                15
               ],
               [
                19
               ],
               [
                26
               ],
               [
                22
               ],
               [
                18
               ],
               [
                17
               ],
               [
                18
               ],
               [
                18
               ],
               [
                21
               ],
               [
                21
               ],
               [
                17
               ],
               [
                14
               ],
               [
                15
               ],
               [
                23
               ],
               [
                20
               ],
               [
                17
               ],
               [
                27
               ],
               [
                15
               ],
               [
                16
               ],
               [
                19
               ],
               [
                19
               ],
               [
                23
               ],
               [
                19
               ],
               [
                16
               ],
               [
                11
               ],
               [
                18
               ],
               [
                19.1
               ],
               [
                13.5
               ],
               [
                19.1
               ],
               [
                22.2
               ],
               [
                20.8
               ],
               [
                15.7
               ],
               [
                21.5
               ]
              ]
             },
             {
              "scene.xaxis.title.text": "Jun"
             }
            ],
            "label": "Jun",
            "method": "update"
           },
           {
            "args": [
             {
              "customdata": [
               [
                [
                 "Jul",
                 "Feb",
                 "Mar"
                ]
               ],
               [
                [
                 "Jul",
                 "Feb",
                 "Mar"
                ]
               ],
               [
                [
                 "Jul",
                 "Feb",
                 "Mar"
                ]
               ],
               [
                [
                 "Jul",
                 "Feb",
                 "Mar"
                ]
               ],
               [
                [
                 "Jul",
                 "Feb",
                 "Mar"
                ]
               ],
               [
                [
                 "Jul",
                 "Feb",
                 "Mar"
                ]
               ],
               [
                [
                 "Jul",
                 "Feb",
                 "Mar"
                ]
               ],
               [
                [
                 "Jul",
                 "Feb",
                 "Mar"
                ]
               ],
               [
                [
                 "Jul",
                 "Feb",
                 "Mar"
                ]
               ],
               [
                [
                 "Jul",
                 "Feb",
                 "Mar"
                ]
               ],
               [
                [
                 "Jul",
                 "Feb",
                 "Mar"
                ]
               ],
               [
                [
                 "Jul",
                 "Feb",
                 "Mar"
                ]
               ],
               [
                [
                 "Jul",
                 "Feb",
                 "Mar"
                ]
               ],
               [
                [
                 "Jul",
                 "Feb",
                 "Mar"
                ]
               ],
               [
                [
                 "Jul",
                 "Feb",
                 "Mar"
                ]
               ],
               [
                [
                 "Jul",
                 "Feb",
                 "Mar"
                ]
               ],
               [
                [
                 "Jul",
                 "Feb",
                 "Mar"
                ]
               ],
               [
                [
                 "Jul",
                 "Feb",
                 "Mar"
                ]
               ],
               [
                [
                 "Jul",
                 "Feb",
                 "Mar"
                ]
               ],
               [
                [
                 "Jul",
                 "Feb",
                 "Mar"
                ]
               ],
               [
                [
                 "Jul",
                 "Feb",
                 "Mar"
                ]
               ],
               [
                [
                 "Jul",
                 "Feb",
                 "Mar"
                ]
               ],
               [
                [
                 "Jul",
                 "Feb",
                 "Mar"
                ]
               ],
               [
                [
                 "Jul",
                 "Feb",
                 "Mar"
                ]
               ],
               [
                [
                 "Jul",
                 "Feb",
                 "Mar"
                ]
               ],
               [
                [
                 "Jul",
                 "Feb",
                 "Mar"
                ]
               ],
               [
                [
                 "Jul",
                 "Feb",
                 "Mar"
                ]
               ],
               [
                [
                 "Jul",
                 "Feb",
                 "Mar"
                ]
               ],
               [
                [
                 "Jul",
                 "Feb",
                 "Mar"
                ]
               ],
               [
                [
                 "Jul",
                 "Feb",
                 "Mar"
                ]
               ],
               [
                [
                 "Jul",
                 "Feb",
                 "Mar"
                ]
               ],
               [
                [
                 "Jul",
                 "Feb",
                 "Mar"
                ]
               ],
               [
                [
                 "Jul",
                 "Feb",
                 "Mar"
                ]
               ]
              ],
              "x": [
               [
                17
               ],
               [
                23
               ],
               [
                29
               ],
               [
                23
               ],
               [
                21
               ],
               [
                18
               ],
               [
                20
               ],
               [
                19
               ],
               [
                23
               ],
               [
                23
               ],
               [
                18
               ],
               [
                16
               ],
               [
                18
               ],
               [
                25
               ],
               [
                22
               ],
               [
                19
               ],
               [
                29
               ],
               [
                18
               ],
               [
                17
               ],
               [
                22
               ],
               [
                21
               ],
               [
                25
               ],
               [
                22
               ],
               [
                19
               ],
               [
                15
               ],
               [
                21
               ],
               [
                21.3
               ],
               [
                15.3
               ],
               [
                21.3
               ],
               [
                25.6
               ],
               [
                23.6
               ],
               [
                18.8
               ],
               [
                23.8
               ]
              ]
             },
             {
              "scene.xaxis.title.text": "Jul"
             }
            ],
            "label": "Jul",
            "method": "update"
           },
           {
            "args": [
             {
              "customdata": [
               [
                [
                 "Aug",
                 "Feb",
                 "Mar"
                ]
               ],
               [
                [
                 "Aug",
                 "Feb",
                 "Mar"
                ]
               ],
               [
                [
                 "Aug",
                 "Feb",
                 "Mar"
                ]
               ],
               [
                [
                 "Aug",
                 "Feb",
                 "Mar"
                ]
               ],
               [
                [
                 "Aug",
                 "Feb",
                 "Mar"
                ]
               ],
               [
                [
                 "Aug",
                 "Feb",
                 "Mar"
                ]
               ],
               [
                [
                 "Aug",
                 "Feb",
                 "Mar"
                ]
               ],
               [
                [
                 "Aug",
                 "Feb",
                 "Mar"
                ]
               ],
               [
                [
                 "Aug",
                 "Feb",
                 "Mar"
                ]
               ],
               [
                [
                 "Aug",
                 "Feb",
                 "Mar"
                ]
               ],
               [
                [
                 "Aug",
                 "Feb",
                 "Mar"
                ]
               ],
               [
                [
                 "Aug",
                 "Feb",
                 "Mar"
                ]
               ],
               [
                [
                 "Aug",
                 "Feb",
                 "Mar"
                ]
               ],
               [
                [
                 "Aug",
                 "Feb",
                 "Mar"
                ]
               ],
               [
                [
                 "Aug",
                 "Feb",
                 "Mar"
                ]
               ],
               [
                [
                 "Aug",
                 "Feb",
                 "Mar"
                ]
               ],
               [
                [
                 "Aug",
                 "Feb",
                 "Mar"
                ]
               ],
               [
                [
                 "Aug",
                 "Feb",
                 "Mar"
                ]
               ],
               [
                [
                 "Aug",
                 "Feb",
                 "Mar"
                ]
               ],
               [
                [
                 "Aug",
                 "Feb",
                 "Mar"
                ]
               ],
               [
                [
                 "Aug",
                 "Feb",
                 "Mar"
                ]
               ],
               [
                [
                 "Aug",
                 "Feb",
                 "Mar"
                ]
               ],
               [
                [
                 "Aug",
                 "Feb",
                 "Mar"
                ]
               ],
               [
                [
                 "Aug",
                 "Feb",
                 "Mar"
                ]
               ],
               [
                [
                 "Aug",
                 "Feb",
                 "Mar"
                ]
               ],
               [
                [
                 "Aug",
                 "Feb",
                 "Mar"
                ]
               ],
               [
                [
                 "Aug",
                 "Feb",
                 "Mar"
                ]
               ],
               [
                [
                 "Aug",
                 "Feb",
                 "Mar"
                ]
               ],
               [
                [
                 "Aug",
                 "Feb",
                 "Mar"
                ]
               ],
               [
                [
                 "Aug",
                 "Feb",
                 "Mar"
                ]
               ],
               [
                [
                 "Aug",
                 "Feb",
                 "Mar"
                ]
               ],
               [
                [
                 "Aug",
                 "Feb",
                 "Mar"
                ]
               ],
               [
                [
                 "Aug",
                 "Feb",
                 "Mar"
                ]
               ]
              ],
              "x": [
               [
                17
               ],
               [
                22
               ],
               [
                28
               ],
               [
                23
               ],
               [
                19
               ],
               [
                19
               ],
               [
                16
               ],
               [
                18
               ],
               [
                23
               ],
               [
                23
               ],
               [
                18
               ],
               [
                14
               ],
               [
                16
               ],
               [
                24
               ],
               [
                21
               ],
               [
                18
               ],
               [
                30
               ],
               [
                17
               ],
               [
                16
               ],
               [
                21
               ],
               [
                20
               ],
               [
                25
               ],
               [
                21
               ],
               [
                17
               ],
               [
                21
               ],
               [
                19
               ],
               [
                20.7
               ],
               [
                15.2
               ],
               [
                20.6
               ],
               [
                25.1
               ],
               [
                23
               ],
               [
                16.9
               ],
               [
                23.8
               ]
              ]
             },
             {
              "scene.xaxis.title.text": "Aug"
             }
            ],
            "label": "Aug",
            "method": "update"
           },
           {
            "args": [
             {
              "customdata": [
               [
                [
                 "Sep",
                 "Feb",
                 "Mar"
                ]
               ],
               [
                [
                 "Sep",
                 "Feb",
                 "Mar"
                ]
               ],
               [
                [
                 "Sep",
                 "Feb",
                 "Mar"
                ]
               ],
               [
                [
                 "Sep",
                 "Feb",
                 "Mar"
                ]
               ],
               [
                [
                 "Sep",
                 "Feb",
                 "Mar"
                ]
               ],
               [
                [
                 "Sep",
                 "Feb",
                 "Mar"
                ]
               ],
               [
                [
                 "Sep",
                 "Feb",
                 "Mar"
                ]
               ],
               [
                [
                 "Sep",
                 "Feb",
                 "Mar"
                ]
               ],
               [
                [
                 "Sep",
                 "Feb",
                 "Mar"
                ]
               ],
               [
                [
                 "Sep",
                 "Feb",
                 "Mar"
                ]
               ],
               [
                [
                 "Sep",
                 "Feb",
                 "Mar"
                ]
               ],
               [
                [
                 "Sep",
                 "Feb",
                 "Mar"
                ]
               ],
               [
                [
                 "Sep",
                 "Feb",
                 "Mar"
                ]
               ],
               [
                [
                 "Sep",
                 "Feb",
                 "Mar"
                ]
               ],
               [
                [
                 "Sep",
                 "Feb",
                 "Mar"
                ]
               ],
               [
                [
                 "Sep",
                 "Feb",
                 "Mar"
                ]
               ],
               [
                [
                 "Sep",
                 "Feb",
                 "Mar"
                ]
               ],
               [
                [
                 "Sep",
                 "Feb",
                 "Mar"
                ]
               ],
               [
                [
                 "Sep",
                 "Feb",
                 "Mar"
                ]
               ],
               [
                [
                 "Sep",
                 "Feb",
                 "Mar"
                ]
               ],
               [
                [
                 "Sep",
                 "Feb",
                 "Mar"
                ]
               ],
               [
                [
                 "Sep",
                 "Feb",
                 "Mar"
                ]
               ],
               [
                [
                 "Sep",
                 "Feb",
                 "Mar"
                ]
               ],
               [
                [
                 "Sep",
                 "Feb",
                 "Mar"
                ]
               ],
               [
                [
                 "Sep",
                 "Feb",
                 "Mar"
                ]
               ],
               [
                [
                 "Sep",
                 "Feb",
                 "Mar"
                ]
               ],
               [
                [
                 "Sep",
                 "Feb",
                 "Mar"
                ]
               ],
               [
                [
                 "Sep",
                 "Feb",
                 "Mar"
                ]
               ],
               [
                [
                 "Sep",
                 "Feb",
                 "Mar"
                ]
               ],
               [
                [
                 "Sep",
                 "Feb",
                 "Mar"
                ]
               ],
               [
                [
                 "Sep",
                 "Feb",
                 "Mar"
                ]
               ],
               [
                [
                 "Sep",
                 "Feb",
                 "Mar"
                ]
               ],
               [
                [
                 "Sep",
                 "Feb",
                 "Mar"
                ]
               ]
              ],
              "x": [
               [
                15
               ],
               [
                18
               ],
               [
                24
               ],
               [
                19
               ],
               [
                16
               ],
               [
                15
               ],
               [
                16
               ],
               [
                17
               ],
               [
                18
               ],
               [
                18
               ],
               [
                14
               ],
               [
                12
               ],
               [
                11
               ],
               [
                23
               ],
               [
                19
               ],
               [
                15
               ],
               [
                27
               ],
               [
                12
               ],
               [
                11
               ],
               [
                18
               ],
               [
                16
               ],
               [
                22
               ],
               [
                17
               ],
               [
                12
               ],
               [
                17
               ],
               [
                16
               ],
               [
                15.9
               ],
               [
                13
               ],
               [
                16
               ],
               [
                20.9
               ],
               [
                19.2
               ],
               [
                11.6
               ],
               [
                18.8
               ]
              ]
             },
             {
              "scene.xaxis.title.text": "Sep"
             }
            ],
            "label": "Sep",
            "method": "update"
           },
           {
            "args": [
             {
              "customdata": [
               [
                [
                 "Oct",
                 "Feb",
                 "Mar"
                ]
               ],
               [
                [
                 "Oct",
                 "Feb",
                 "Mar"
                ]
               ],
               [
                [
                 "Oct",
                 "Feb",
                 "Mar"
                ]
               ],
               [
                [
                 "Oct",
                 "Feb",
                 "Mar"
                ]
               ],
               [
                [
                 "Oct",
                 "Feb",
                 "Mar"
                ]
               ],
               [
                [
                 "Oct",
                 "Feb",
                 "Mar"
                ]
               ],
               [
                [
                 "Oct",
                 "Feb",
                 "Mar"
                ]
               ],
               [
                [
                 "Oct",
                 "Feb",
                 "Mar"
                ]
               ],
               [
                [
                 "Oct",
                 "Feb",
                 "Mar"
                ]
               ],
               [
                [
                 "Oct",
                 "Feb",
                 "Mar"
                ]
               ],
               [
                [
                 "Oct",
                 "Feb",
                 "Mar"
                ]
               ],
               [
                [
                 "Oct",
                 "Feb",
                 "Mar"
                ]
               ],
               [
                [
                 "Oct",
                 "Feb",
                 "Mar"
                ]
               ],
               [
                [
                 "Oct",
                 "Feb",
                 "Mar"
                ]
               ],
               [
                [
                 "Oct",
                 "Feb",
                 "Mar"
                ]
               ],
               [
                [
                 "Oct",
                 "Feb",
                 "Mar"
                ]
               ],
               [
                [
                 "Oct",
                 "Feb",
                 "Mar"
                ]
               ],
               [
                [
                 "Oct",
                 "Feb",
                 "Mar"
                ]
               ],
               [
                [
                 "Oct",
                 "Feb",
                 "Mar"
                ]
               ],
               [
                [
                 "Oct",
                 "Feb",
                 "Mar"
                ]
               ],
               [
                [
                 "Oct",
                 "Feb",
                 "Mar"
                ]
               ],
               [
                [
                 "Oct",
                 "Feb",
                 "Mar"
                ]
               ],
               [
                [
                 "Oct",
                 "Feb",
                 "Mar"
                ]
               ],
               [
                [
                 "Oct",
                 "Feb",
                 "Mar"
                ]
               ],
               [
                [
                 "Oct",
                 "Feb",
                 "Mar"
                ]
               ],
               [
                [
                 "Oct",
                 "Feb",
                 "Mar"
                ]
               ],
               [
                [
                 "Oct",
                 "Feb",
                 "Mar"
                ]
               ],
               [
                [
                 "Oct",
                 "Feb",
                 "Mar"
                ]
               ],
               [
                [
                 "Oct",
                 "Feb",
                 "Mar"
                ]
               ],
               [
                [
                 "Oct",
                 "Feb",
                 "Mar"
                ]
               ],
               [
                [
                 "Oct",
                 "Feb",
                 "Mar"
                ]
               ],
               [
                [
                 "Oct",
                 "Feb",
                 "Mar"
                ]
               ],
               [
                [
                 "Oct",
                 "Feb",
                 "Mar"
                ]
               ]
              ],
              "x": [
               [
                11
               ],
               [
                14
               ],
               [
                20
               ],
               [
                14
               ],
               [
                10
               ],
               [
                10
               ],
               [
                11
               ],
               [
                12
               ],
               [
                13
               ],
               [
                13
               ],
               [
                9
               ],
               [
                9
               ],
               [
                4
               ],
               [
                19
               ],
               [
                15
               ],
               [
                9
               ],
               [
                23
               ],
               [
                6
               ],
               [
                7
               ],
               [
                13
               ],
               [
                10
               ],
               [
                17
               ],
               [
                12
               ],
               [
                7
               ],
               [
                11
               ],
               [
                10
               ],
               [
                10.4
               ],
               [
                9.8
               ],
               [
                11.2
               ],
               [
                15.1
               ],
               [
                13.4
               ],
               [
                6.2
               ],
               [
                13.1
               ]
              ]
             },
             {
              "scene.xaxis.title.text": "Oct"
             }
            ],
            "label": "Oct",
            "method": "update"
           },
           {
            "args": [
             {
              "customdata": [
               [
                [
                 "Nov",
                 "Feb",
                 "Mar"
                ]
               ],
               [
                [
                 "Nov",
                 "Feb",
                 "Mar"
                ]
               ],
               [
                [
                 "Nov",
                 "Feb",
                 "Mar"
                ]
               ],
               [
                [
                 "Nov",
                 "Feb",
                 "Mar"
                ]
               ],
               [
                [
                 "Nov",
                 "Feb",
                 "Mar"
                ]
               ],
               [
                [
                 "Nov",
                 "Feb",
                 "Mar"
                ]
               ],
               [
                [
                 "Nov",
                 "Feb",
                 "Mar"
                ]
               ],
               [
                [
                 "Nov",
                 "Feb",
                 "Mar"
                ]
               ],
               [
                [
                 "Nov",
                 "Feb",
                 "Mar"
                ]
               ],
               [
                [
                 "Nov",
                 "Feb",
                 "Mar"
                ]
               ],
               [
                [
                 "Nov",
                 "Feb",
                 "Mar"
                ]
               ],
               [
                [
                 "Nov",
                 "Feb",
                 "Mar"
                ]
               ],
               [
                [
                 "Nov",
                 "Feb",
                 "Mar"
                ]
               ],
               [
                [
                 "Nov",
                 "Feb",
                 "Mar"
                ]
               ],
               [
                [
                 "Nov",
                 "Feb",
                 "Mar"
                ]
               ],
               [
                [
                 "Nov",
                 "Feb",
                 "Mar"
                ]
               ],
               [
                [
                 "Nov",
                 "Feb",
                 "Mar"
                ]
               ],
               [
                [
                 "Nov",
                 "Feb",
                 "Mar"
                ]
               ],
               [
                [
                 "Nov",
                 "Feb",
                 "Mar"
                ]
               ],
               [
                [
                 "Nov",
                 "Feb",
                 "Mar"
                ]
               ],
               [
                [
                 "Nov",
                 "Feb",
                 "Mar"
                ]
               ],
               [
                [
                 "Nov",
                 "Feb",
                 "Mar"
                ]
               ],
               [
                [
                 "Nov",
                 "Feb",
                 "Mar"
                ]
               ],
               [
                [
                 "Nov",
                 "Feb",
                 "Mar"
                ]
               ],
               [
                [
                 "Nov",
                 "Feb",
                 "Mar"
                ]
               ],
               [
                [
                 "Nov",
                 "Feb",
                 "Mar"
                ]
               ],
               [
                [
                 "Nov",
                 "Feb",
                 "Mar"
                ]
               ],
               [
                [
                 "Nov",
                 "Feb",
                 "Mar"
                ]
               ],
               [
                [
                 "Nov",
                 "Feb",
                 "Mar"
                ]
               ],
               [
                [
                 "Nov",
                 "Feb",
                 "Mar"
                ]
               ],
               [
                [
                 "Nov",
                 "Feb",
                 "Mar"
                ]
               ],
               [
                [
                 "Nov",
                 "Feb",
                 "Mar"
                ]
               ],
               [
                [
                 "Nov",
                 "Feb",
                 "Mar"
                ]
               ]
              ],
              "x": [
               [
                6
               ],
               [
                8
               ],
               [
                15
               ],
               [
                8
               ],
               [
                4
               ],
               [
                4
               ],
               [
                7
               ],
               [
                7
               ],
               [
                7
               ],
               [
                6
               ],
               [
                4
               ],
               [
                6
               ],
               [
                -1
               ],
               [
                14
               ],
               [
                10
               ],
               [
                4
               ],
               [
                20
               ],
               [
                -2
               ],
               [
                2
               ],
               [
                7
               ],
               [
                4
               ],
               [
                12
               ],
               [
                7
               ],
               [
                2
               ],
               [
                6
               ],
               [
                4
               ],
               [
                4.9
               ],
               [
                6.7
               ],
               [
                5.6
               ],
               [
                9.9
               ],
               [
                7.2
               ],
               [
                0.1
               ],
               [
                6.5
               ]
              ]
             },
             {
              "scene.xaxis.title.text": "Nov"
             }
            ],
            "label": "Nov",
            "method": "update"
           },
           {
            "args": [
             {
              "customdata": [
               [
                [
                 "Dec",
                 "Feb",
                 "Mar"
                ]
               ],
               [
                [
                 "Dec",
                 "Feb",
                 "Mar"
                ]
               ],
               [
                [
                 "Dec",
                 "Feb",
                 "Mar"
                ]
               ],
               [
                [
                 "Dec",
                 "Feb",
                 "Mar"
                ]
               ],
               [
                [
                 "Dec",
                 "Feb",
                 "Mar"
                ]
               ],
               [
                [
                 "Dec",
                 "Feb",
                 "Mar"
                ]
               ],
               [
                [
                 "Dec",
                 "Feb",
                 "Mar"
                ]
               ],
               [
                [
                 "Dec",
                 "Feb",
                 "Mar"
                ]
               ],
               [
                [
                 "Dec",
                 "Feb",
                 "Mar"
                ]
               ],
               [
                [
                 "Dec",
                 "Feb",
                 "Mar"
                ]
               ],
               [
                [
                 "Dec",
                 "Feb",
                 "Mar"
                ]
               ],
               [
                [
                 "Dec",
                 "Feb",
                 "Mar"
                ]
               ],
               [
                [
                 "Dec",
                 "Feb",
                 "Mar"
                ]
               ],
               [
                [
                 "Dec",
                 "Feb",
                 "Mar"
                ]
               ],
               [
                [
                 "Dec",
                 "Feb",
                 "Mar"
                ]
               ],
               [
                [
                 "Dec",
                 "Feb",
                 "Mar"
                ]
               ],
               [
                [
                 "Dec",
                 "Feb",
                 "Mar"
                ]
               ],
               [
                [
                 "Dec",
                 "Feb",
                 "Mar"
                ]
               ],
               [
                [
                 "Dec",
                 "Feb",
                 "Mar"
                ]
               ],
               [
                [
                 "Dec",
                 "Feb",
                 "Mar"
                ]
               ],
               [
                [
                 "Dec",
                 "Feb",
                 "Mar"
                ]
               ],
               [
                [
                 "Dec",
                 "Feb",
                 "Mar"
                ]
               ],
               [
                [
                 "Dec",
                 "Feb",
                 "Mar"
                ]
               ],
               [
                [
                 "Dec",
                 "Feb",
                 "Mar"
                ]
               ],
               [
                [
                 "Dec",
                 "Feb",
                 "Mar"
                ]
               ],
               [
                [
                 "Dec",
                 "Feb",
                 "Mar"
                ]
               ],
               [
                [
                 "Dec",
                 "Feb",
                 "Mar"
                ]
               ],
               [
                [
                 "Dec",
                 "Feb",
                 "Mar"
                ]
               ],
               [
                [
                 "Dec",
                 "Feb",
                 "Mar"
                ]
               ],
               [
                [
                 "Dec",
                 "Feb",
                 "Mar"
                ]
               ],
               [
                [
                 "Dec",
                 "Feb",
                 "Mar"
                ]
               ],
               [
                [
                 "Dec",
                 "Feb",
                 "Mar"
                ]
               ],
               [
                [
                 "Dec",
                 "Feb",
                 "Mar"
                ]
               ]
              ],
              "x": [
               [
                3
               ],
               [
                2
               ],
               [
                11
               ],
               [
                6
               ],
               [
                0
               ],
               [
                1
               ],
               [
                2
               ],
               [
                3
               ],
               [
                1
               ],
               [
                1
               ],
               [
                2
               ],
               [
                4
               ],
               [
                -6
               ],
               [
                11
               ],
               [
                8
               ],
               [
                2
               ],
               [
                17
               ],
               [
                -10
               ],
               [
                3
               ],
               [
                4
               ],
               [
                0
               ],
               [
                9
               ],
               [
                1
               ],
               [
                -1
               ],
               [
                2
               ],
               [
                2
               ],
               [
                0.7
               ],
               [
                4.2
               ],
               [
                1.2
               ],
               [
                6.9
               ],
               [
                3.3
               ],
               [
                -3.7
               ],
               [
                1.7
               ]
              ]
             },
             {
              "scene.xaxis.title.text": "Dec"
             }
            ],
            "label": "Dec",
            "method": "update"
           }
          ],
          "direction": "down",
          "pad": {
           "b": 2,
           "l": 2,
           "r": 2,
           "t": 4
          },
          "showactive": true,
          "type": "dropdown",
          "x": 0.14,
          "xanchor": "center",
          "y": 1.12,
          "yanchor": "top"
         },
         {
          "buttons": [
           {
            "args": [
             {
              "customdata": [
               [
                [
                 "Jan",
                 "Jan",
                 "Mar"
                ]
               ],
               [
                [
                 "Jan",
                 "Jan",
                 "Mar"
                ]
               ],
               [
                [
                 "Jan",
                 "Jan",
                 "Mar"
                ]
               ],
               [
                [
                 "Jan",
                 "Jan",
                 "Mar"
                ]
               ],
               [
                [
                 "Jan",
                 "Jan",
                 "Mar"
                ]
               ],
               [
                [
                 "Jan",
                 "Jan",
                 "Mar"
                ]
               ],
               [
                [
                 "Jan",
                 "Jan",
                 "Mar"
                ]
               ],
               [
                [
                 "Jan",
                 "Jan",
                 "Mar"
                ]
               ],
               [
                [
                 "Jan",
                 "Jan",
                 "Mar"
                ]
               ],
               [
                [
                 "Jan",
                 "Jan",
                 "Mar"
                ]
               ],
               [
                [
                 "Jan",
                 "Jan",
                 "Mar"
                ]
               ],
               [
                [
                 "Jan",
                 "Jan",
                 "Mar"
                ]
               ],
               [
                [
                 "Jan",
                 "Jan",
                 "Mar"
                ]
               ],
               [
                [
                 "Jan",
                 "Jan",
                 "Mar"
                ]
               ],
               [
                [
                 "Jan",
                 "Jan",
                 "Mar"
                ]
               ],
               [
                [
                 "Jan",
                 "Jan",
                 "Mar"
                ]
               ],
               [
                [
                 "Jan",
                 "Jan",
                 "Mar"
                ]
               ],
               [
                [
                 "Jan",
                 "Jan",
                 "Mar"
                ]
               ],
               [
                [
                 "Jan",
                 "Jan",
                 "Mar"
                ]
               ],
               [
                [
                 "Jan",
                 "Jan",
                 "Mar"
                ]
               ],
               [
                [
                 "Jan",
                 "Jan",
                 "Mar"
                ]
               ],
               [
                [
                 "Jan",
                 "Jan",
                 "Mar"
                ]
               ],
               [
                [
                 "Jan",
                 "Jan",
                 "Mar"
                ]
               ],
               [
                [
                 "Jan",
                 "Jan",
                 "Mar"
                ]
               ],
               [
                [
                 "Jan",
                 "Jan",
                 "Mar"
                ]
               ],
               [
                [
                 "Jan",
                 "Jan",
                 "Mar"
                ]
               ],
               [
                [
                 "Jan",
                 "Jan",
                 "Mar"
                ]
               ],
               [
                [
                 "Jan",
                 "Jan",
                 "Mar"
                ]
               ],
               [
                [
                 "Jan",
                 "Jan",
                 "Mar"
                ]
               ],
               [
                [
                 "Jan",
                 "Jan",
                 "Mar"
                ]
               ],
               [
                [
                 "Jan",
                 "Jan",
                 "Mar"
                ]
               ],
               [
                [
                 "Jan",
                 "Jan",
                 "Mar"
                ]
               ],
               [
                [
                 "Jan",
                 "Jan",
                 "Mar"
                ]
               ]
              ],
              "y": [
               [
                2
               ],
               [
                1
               ],
               [
                9
               ],
               [
                1
               ],
               [
                -2
               ],
               [
                1
               ],
               [
                1
               ],
               [
                1
               ],
               [
                -4
               ],
               [
                -2
               ],
               [
                -1
               ],
               [
                3
               ],
               [
                -9
               ],
               [
                11
               ],
               [
                7
               ],
               [
                0
               ],
               [
                17
               ],
               [
                -14
               ],
               [
                -5
               ],
               [
                4
               ],
               [
                -2
               ],
               [
                7
               ],
               [
                -1
               ],
               [
                -4
               ],
               [
                -1
               ],
               [
                -5
               ],
               [
                -0.4
               ],
               [
                4.2
               ],
               [
                0.3
               ],
               [
                6.3
               ],
               [
                2.5
               ],
               [
                -5.5
               ],
               [
                0.1
               ]
              ]
             },
             {
              "scene.yaxis.title.text": "Jan"
             }
            ],
            "label": "Jan",
            "method": "update"
           },
           {
            "args": [
             {
              "customdata": [
               [
                [
                 "Jan",
                 "Feb",
                 "Mar"
                ]
               ],
               [
                [
                 "Jan",
                 "Feb",
                 "Mar"
                ]
               ],
               [
                [
                 "Jan",
                 "Feb",
                 "Mar"
                ]
               ],
               [
                [
                 "Jan",
                 "Feb",
                 "Mar"
                ]
               ],
               [
                [
                 "Jan",
                 "Feb",
                 "Mar"
                ]
               ],
               [
                [
                 "Jan",
                 "Feb",
                 "Mar"
                ]
               ],
               [
                [
                 "Jan",
                 "Feb",
                 "Mar"
                ]
               ],
               [
                [
                 "Jan",
                 "Feb",
                 "Mar"
                ]
               ],
               [
                [
                 "Jan",
                 "Feb",
                 "Mar"
                ]
               ],
               [
                [
                 "Jan",
                 "Feb",
                 "Mar"
                ]
               ],
               [
                [
                 "Jan",
                 "Feb",
                 "Mar"
                ]
               ],
               [
                [
                 "Jan",
                 "Feb",
                 "Mar"
                ]
               ],
               [
                [
                 "Jan",
                 "Feb",
                 "Mar"
                ]
               ],
               [
                [
                 "Jan",
                 "Feb",
                 "Mar"
                ]
               ],
               [
                [
                 "Jan",
                 "Feb",
                 "Mar"
                ]
               ],
               [
                [
                 "Jan",
                 "Feb",
                 "Mar"
                ]
               ],
               [
                [
                 "Jan",
                 "Feb",
                 "Mar"
                ]
               ],
               [
                [
                 "Jan",
                 "Feb",
                 "Mar"
                ]
               ],
               [
                [
                 "Jan",
                 "Feb",
                 "Mar"
                ]
               ],
               [
                [
                 "Jan",
                 "Feb",
                 "Mar"
                ]
               ],
               [
                [
                 "Jan",
                 "Feb",
                 "Mar"
                ]
               ],
               [
                [
                 "Jan",
                 "Feb",
                 "Mar"
                ]
               ],
               [
                [
                 "Jan",
                 "Feb",
                 "Mar"
                ]
               ],
               [
                [
                 "Jan",
                 "Feb",
                 "Mar"
                ]
               ],
               [
                [
                 "Jan",
                 "Feb",
                 "Mar"
                ]
               ],
               [
                [
                 "Jan",
                 "Feb",
                 "Mar"
                ]
               ],
               [
                [
                 "Jan",
                 "Feb",
                 "Mar"
                ]
               ],
               [
                [
                 "Jan",
                 "Feb",
                 "Mar"
                ]
               ],
               [
                [
                 "Jan",
                 "Feb",
                 "Mar"
                ]
               ],
               [
                [
                 "Jan",
                 "Feb",
                 "Mar"
                ]
               ],
               [
                [
                 "Jan",
                 "Feb",
                 "Mar"
                ]
               ],
               [
                [
                 "Jan",
                 "Feb",
                 "Mar"
                ]
               ],
               [
                [
                 "Jan",
                 "Feb",
                 "Mar"
                ]
               ]
              ],
              "y": [
               [
                2
               ],
               [
                0
               ],
               [
                10
               ],
               [
                3
               ],
               [
                1
               ],
               [
                1
               ],
               [
                2
               ],
               [
                4
               ],
               [
                -2
               ],
               [
                1
               ],
               [
                0
               ],
               [
                4
               ],
               [
                -8
               ],
               [
                12
               ],
               [
                8
               ],
               [
                1
               ],
               [
                17
               ],
               [
                -12
               ],
               [
                -4
               ],
               [
                5
               ],
               [
                -1
               ],
               [
                8
               ],
               [
                1
               ],
               [
                -4
               ],
               [
                1
               ],
               [
                -4
               ],
               [
                1.2
               ],
               [
                4.5
               ],
               [
                1.9
               ],
               [
                7.9
               ],
               [
                4.7
               ],
               [
                -5.8
               ],
               [
                2.6
               ]
              ]
             },
             {
              "scene.yaxis.title.text": "Feb"
             }
            ],
            "label": "Feb",
            "method": "update"
           },
           {
            "args": [
             {
              "customdata": [
               [
                [
                 "Jan",
                 "Mar",
                 "Mar"
                ]
               ],
               [
                [
                 "Jan",
                 "Mar",
                 "Mar"
                ]
               ],
               [
                [
                 "Jan",
                 "Mar",
                 "Mar"
                ]
               ],
               [
                [
                 "Jan",
                 "Mar",
                 "Mar"
                ]
               ],
               [
                [
                 "Jan",
                 "Mar",
                 "Mar"
                ]
               ],
               [
                [
                 "Jan",
                 "Mar",
                 "Mar"
                ]
               ],
               [
                [
                 "Jan",
                 "Mar",
                 "Mar"
                ]
               ],
               [
                [
                 "Jan",
                 "Mar",
                 "Mar"
                ]
               ],
               [
                [
                 "Jan",
                 "Mar",
                 "Mar"
                ]
               ],
               [
                [
                 "Jan",
                 "Mar",
                 "Mar"
                ]
               ],
               [
                [
                 "Jan",
                 "Mar",
                 "Mar"
                ]
               ],
               [
                [
                 "Jan",
                 "Mar",
                 "Mar"
                ]
               ],
               [
                [
                 "Jan",
                 "Mar",
                 "Mar"
                ]
               ],
               [
                [
                 "Jan",
                 "Mar",
                 "Mar"
                ]
               ],
               [
                [
                 "Jan",
                 "Mar",
                 "Mar"
                ]
               ],
               [
                [
                 "Jan",
                 "Mar",
                 "Mar"
                ]
               ],
               [
                [
                 "Jan",
                 "Mar",
                 "Mar"
                ]
               ],
               [
                [
                 "Jan",
                 "Mar",
                 "Mar"
                ]
               ],
               [
                [
                 "Jan",
                 "Mar",
                 "Mar"
                ]
               ],
               [
                [
                 "Jan",
                 "Mar",
                 "Mar"
                ]
               ],
               [
                [
                 "Jan",
                 "Mar",
                 "Mar"
                ]
               ],
               [
                [
                 "Jan",
                 "Mar",
                 "Mar"
                ]
               ],
               [
                [
                 "Jan",
                 "Mar",
                 "Mar"
                ]
               ],
               [
                [
                 "Jan",
                 "Mar",
                 "Mar"
                ]
               ],
               [
                [
                 "Jan",
                 "Mar",
                 "Mar"
                ]
               ],
               [
                [
                 "Jan",
                 "Mar",
                 "Mar"
                ]
               ],
               [
                [
                 "Jan",
                 "Mar",
                 "Mar"
                ]
               ],
               [
                [
                 "Jan",
                 "Mar",
                 "Mar"
                ]
               ],
               [
                [
                 "Jan",
                 "Mar",
                 "Mar"
                ]
               ],
               [
                [
                 "Jan",
                 "Mar",
                 "Mar"
                ]
               ],
               [
                [
                 "Jan",
                 "Mar",
                 "Mar"
                ]
               ],
               [
                [
                 "Jan",
                 "Mar",
                 "Mar"
                ]
               ],
               [
                [
                 "Jan",
                 "Mar",
                 "Mar"
                ]
               ]
              ],
              "y": [
               [
                5
               ],
               [
                6
               ],
               [
                12
               ],
               [
                8
               ],
               [
                4
               ],
               [
                6
               ],
               [
                7
               ],
               [
                7
               ],
               [
                6
               ],
               [
                7
               ],
               [
                3
               ],
               [
                6
               ],
               [
                -4
               ],
               [
                15
               ],
               [
                10
               ],
               [
                7
               ],
               [
                18
               ],
               [
                -6
               ],
               [
                1
               ],
               [
                9
               ],
               [
                4
               ],
               [
                11
               ],
               [
                7
               ],
               [
                -1
               ],
               [
                6
               ],
               [
                3
               ],
               [
                5.5
               ],
               [
                6.2
               ],
               [
                6.5
               ],
               [
                11.2
               ],
               [
                9
               ],
               [
                -1.3
               ],
               [
                7.6
               ]
              ]
             },
             {
              "scene.yaxis.title.text": "Mar"
             }
            ],
            "label": "Mar",
            "method": "update"
           },
           {
            "args": [
             {
              "customdata": [
               [
                [
                 "Jan",
                 "Apr",
                 "Mar"
                ]
               ],
               [
                [
                 "Jan",
                 "Apr",
                 "Mar"
                ]
               ],
               [
                [
                 "Jan",
                 "Apr",
                 "Mar"
                ]
               ],
               [
                [
                 "Jan",
                 "Apr",
                 "Mar"
                ]
               ],
               [
                [
                 "Jan",
                 "Apr",
                 "Mar"
                ]
               ],
               [
                [
                 "Jan",
                 "Apr",
                 "Mar"
                ]
               ],
               [
                [
                 "Jan",
                 "Apr",
                 "Mar"
                ]
               ],
               [
                [
                 "Jan",
                 "Apr",
                 "Mar"
                ]
               ],
               [
                [
                 "Jan",
                 "Apr",
                 "Mar"
                ]
               ],
               [
                [
                 "Jan",
                 "Apr",
                 "Mar"
                ]
               ],
               [
                [
                 "Jan",
                 "Apr",
                 "Mar"
                ]
               ],
               [
                [
                 "Jan",
                 "Apr",
                 "Mar"
                ]
               ],
               [
                [
                 "Jan",
                 "Apr",
                 "Mar"
                ]
               ],
               [
                [
                 "Jan",
                 "Apr",
                 "Mar"
                ]
               ],
               [
                [
                 "Jan",
                 "Apr",
                 "Mar"
                ]
               ],
               [
                [
                 "Jan",
                 "Apr",
                 "Mar"
                ]
               ],
               [
                [
                 "Jan",
                 "Apr",
                 "Mar"
                ]
               ],
               [
                [
                 "Jan",
                 "Apr",
                 "Mar"
                ]
               ],
               [
                [
                 "Jan",
                 "Apr",
                 "Mar"
                ]
               ],
               [
                [
                 "Jan",
                 "Apr",
                 "Mar"
                ]
               ],
               [
                [
                 "Jan",
                 "Apr",
                 "Mar"
                ]
               ],
               [
                [
                 "Jan",
                 "Apr",
                 "Mar"
                ]
               ],
               [
                [
                 "Jan",
                 "Apr",
                 "Mar"
                ]
               ],
               [
                [
                 "Jan",
                 "Apr",
                 "Mar"
                ]
               ],
               [
                [
                 "Jan",
                 "Apr",
                 "Mar"
                ]
               ],
               [
                [
                 "Jan",
                 "Apr",
                 "Mar"
                ]
               ],
               [
                [
                 "Jan",
                 "Apr",
                 "Mar"
                ]
               ],
               [
                [
                 "Jan",
                 "Apr",
                 "Mar"
                ]
               ],
               [
                [
                 "Jan",
                 "Apr",
                 "Mar"
                ]
               ],
               [
                [
                 "Jan",
                 "Apr",
                 "Mar"
                ]
               ],
               [
                [
                 "Jan",
                 "Apr",
                 "Mar"
                ]
               ],
               [
                [
                 "Jan",
                 "Apr",
                 "Mar"
                ]
               ],
               [
                [
                 "Jan",
                 "Apr",
                 "Mar"
                ]
               ]
              ],
              "y": [
               [
                8
               ],
               [
                12
               ],
               [
                16
               ],
               [
                13
               ],
               [
                10
               ],
               [
                10
               ],
               [
                11
               ],
               [
                11
               ],
               [
                12
               ],
               [
                13
               ],
               [
                8
               ],
               [
                8
               ],
               [
                3
               ],
               [
                17
               ],
               [
                13
               ],
               [
                11
               ],
               [
                21
               ],
               [
                6
               ],
               [
                5
               ],
               [
                13
               ],
               [
                11
               ],
               [
                14
               ],
               [
                12
               ],
               [
                6
               ],
               [
                12
               ],
               [
                9
               ],
               [
                11
               ],
               [
                8.1
               ],
               [
                10.8
               ],
               [
                12.9
               ],
               [
                12.2
               ],
               [
                5.1
               ],
               [
                12.1
               ]
              ]
             },
             {
              "scene.yaxis.title.text": "Apr"
             }
            ],
            "label": "Apr",
            "method": "update"
           },
           {
            "args": [
             {
              "customdata": [
               [
                [
                 "Jan",
                 "May",
                 "Mar"
                ]
               ],
               [
                [
                 "Jan",
                 "May",
                 "Mar"
                ]
               ],
               [
                [
                 "Jan",
                 "May",
                 "Mar"
                ]
               ],
               [
                [
                 "Jan",
                 "May",
                 "Mar"
                ]
               ],
               [
                [
                 "Jan",
                 "May",
                 "Mar"
                ]
               ],
               [
                [
                 "Jan",
                 "May",
                 "Mar"
                ]
               ],
               [
                [
                 "Jan",
                 "May",
                 "Mar"
                ]
               ],
               [
                [
                 "Jan",
                 "May",
                 "Mar"
                ]
               ],
               [
                [
                 "Jan",
                 "May",
                 "Mar"
                ]
               ],
               [
                [
                 "Jan",
                 "May",
                 "Mar"
                ]
               ],
               [
                [
                 "Jan",
                 "May",
                 "Mar"
                ]
               ],
               [
                [
                 "Jan",
                 "May",
                 "Mar"
                ]
               ],
               [
                [
                 "Jan",
                 "May",
                 "Mar"
                ]
               ],
               [
                [
                 "Jan",
                 "May",
                 "Mar"
                ]
               ],
               [
                [
                 "Jan",
                 "May",
                 "Mar"
                ]
               ],
               [
                [
                 "Jan",
                 "May",
                 "Mar"
                ]
               ],
               [
                [
                 "Jan",
                 "May",
                 "Mar"
                ]
               ],
               [
                [
                 "Jan",
                 "May",
                 "Mar"
                ]
               ],
               [
                [
                 "Jan",
                 "May",
                 "Mar"
                ]
               ],
               [
                [
                 "Jan",
                 "May",
                 "Mar"
                ]
               ],
               [
                [
                 "Jan",
                 "May",
                 "Mar"
                ]
               ],
               [
                [
                 "Jan",
                 "May",
                 "Mar"
                ]
               ],
               [
                [
                 "Jan",
                 "May",
                 "Mar"
                ]
               ],
               [
                [
                 "Jan",
                 "May",
                 "Mar"
                ]
               ],
               [
                [
                 "Jan",
                 "May",
                 "Mar"
                ]
               ],
               [
                [
                 "Jan",
                 "May",
                 "Mar"
                ]
               ],
               [
                [
                 "Jan",
                 "May",
                 "Mar"
                ]
               ],
               [
                [
                 "Jan",
                 "May",
                 "Mar"
                ]
               ],
               [
                [
                 "Jan",
                 "May",
                 "Mar"
                ]
               ],
               [
                [
                 "Jan",
                 "May",
                 "Mar"
                ]
               ],
               [
                [
                 "Jan",
                 "May",
                 "Mar"
                ]
               ],
               [
                [
                 "Jan",
                 "May",
                 "Mar"
                ]
               ],
               [
                [
                 "Jan",
                 "May",
                 "Mar"
                ]
               ]
              ],
              "y": [
               [
                12
               ],
               [
                17
               ],
               [
                21
               ],
               [
                17
               ],
               [
                14
               ],
               [
                13
               ],
               [
                14
               ],
               [
                13
               ],
               [
                17
               ],
               [
                17
               ],
               [
                13
               ],
               [
                11
               ],
               [
                10
               ],
               [
                19
               ],
               [
                17
               ],
               [
                13
               ],
               [
                23
               ],
               [
                14
               ],
               [
                11
               ],
               [
                16
               ],
               [
                15
               ],
               [
                18
               ],
               [
                16
               ],
               [
                11
               ],
               [
                15
               ],
               [
                16
               ],
               [
                16
               ],
               [
                10.8
               ],
               [
                15.8
               ],
               [
                16.7
               ],
               [
                17
               ],
               [
                11.3
               ],
               [
                17.3
               ]
              ]
             },
             {
              "scene.yaxis.title.text": "May"
             }
            ],
            "label": "May",
            "method": "update"
           },
           {
            "args": [
             {
              "customdata": [
               [
                [
                 "Jan",
                 "Jun",
                 "Mar"
                ]
               ],
               [
                [
                 "Jan",
                 "Jun",
                 "Mar"
                ]
               ],
               [
                [
                 "Jan",
                 "Jun",
                 "Mar"
                ]
               ],
               [
                [
                 "Jan",
                 "Jun",
                 "Mar"
                ]
               ],
               [
                [
                 "Jan",
                 "Jun",
                 "Mar"
                ]
               ],
               [
                [
                 "Jan",
                 "Jun",
                 "Mar"
                ]
               ],
               [
                [
                 "Jan",
                 "Jun",
                 "Mar"
                ]
               ],
               [
                [
                 "Jan",
                 "Jun",
                 "Mar"
                ]
               ],
               [
                [
                 "Jan",
                 "Jun",
                 "Mar"
                ]
               ],
               [
                [
                 "Jan",
                 "Jun",
                 "Mar"
                ]
               ],
               [
                [
                 "Jan",
                 "Jun",
                 "Mar"
                ]
               ],
               [
                [
                 "Jan",
                 "Jun",
                 "Mar"
                ]
               ],
               [
                [
                 "Jan",
                 "Jun",
                 "Mar"
                ]
               ],
               [
                [
                 "Jan",
                 "Jun",
                 "Mar"
                ]
               ],
               [
                [
                 "Jan",
                 "Jun",
                 "Mar"
                ]
               ],
               [
                [
                 "Jan",
                 "Jun",
                 "Mar"
                ]
               ],
               [
                [
                 "Jan",
                 "Jun",
                 "Mar"
                ]
               ],
               [
                [
                 "Jan",
                 "Jun",
                 "Mar"
                ]
               ],
               [
                [
                 "Jan",
                 "Jun",
                 "Mar"
                ]
               ],
               [
                [
                 "Jan",
                 "Jun",
                 "Mar"
                ]
               ],
               [
                [
                 "Jan",
                 "Jun",
                 "Mar"
                ]
               ],
               [
                [
                 "Jan",
                 "Jun",
                 "Mar"
                ]
               ],
               [
                [
                 "Jan",
                 "Jun",
                 "Mar"
                ]
               ],
               [
                [
                 "Jan",
                 "Jun",
                 "Mar"
                ]
               ],
               [
                [
                 "Jan",
                 "Jun",
                 "Mar"
                ]
               ],
               [
                [
                 "Jan",
                 "Jun",
                 "Mar"
                ]
               ],
               [
                [
                 "Jan",
                 "Jun",
                 "Mar"
                ]
               ],
               [
                [
                 "Jan",
                 "Jun",
                 "Mar"
                ]
               ],
               [
                [
                 "Jan",
                 "Jun",
                 "Mar"
                ]
               ],
               [
                [
                 "Jan",
                 "Jun",
                 "Mar"
                ]
               ],
               [
                [
                 "Jan",
                 "Jun",
                 "Mar"
                ]
               ],
               [
                [
                 "Jan",
                 "Jun",
                 "Mar"
                ]
               ],
               [
                [
                 "Jan",
                 "Jun",
                 "Mar"
                ]
               ]
              ],
              "y": [
               [
                15
               ],
               [
                19
               ],
               [
                26
               ],
               [
                22
               ],
               [
                18
               ],
               [
                17
               ],
               [
                18
               ],
               [
                18
               ],
               [
                21
               ],
               [
                21
               ],
               [
                17
               ],
               [
                14
               ],
               [
                15
               ],
               [
                23
               ],
               [
                20
               ],
               [
                17
               ],
               [
                27
               ],
               [
                15
               ],
               [
                16
               ],
               [
                19
               ],
               [
                19
               ],
               [
                23
               ],
               [
                19
               ],
               [
                16
               ],
               [
                11
               ],
               [
                18
               ],
               [
                19.1
               ],
               [
                13.5
               ],
               [
                19.1
               ],
               [
                22.2
               ],
               [
                20.8
               ],
               [
                15.7
               ],
               [
                21.5
               ]
              ]
             },
             {
              "scene.yaxis.title.text": "Jun"
             }
            ],
            "label": "Jun",
            "method": "update"
           },
           {
            "args": [
             {
              "customdata": [
               [
                [
                 "Jan",
                 "Jul",
                 "Mar"
                ]
               ],
               [
                [
                 "Jan",
                 "Jul",
                 "Mar"
                ]
               ],
               [
                [
                 "Jan",
                 "Jul",
                 "Mar"
                ]
               ],
               [
                [
                 "Jan",
                 "Jul",
                 "Mar"
                ]
               ],
               [
                [
                 "Jan",
                 "Jul",
                 "Mar"
                ]
               ],
               [
                [
                 "Jan",
                 "Jul",
                 "Mar"
                ]
               ],
               [
                [
                 "Jan",
                 "Jul",
                 "Mar"
                ]
               ],
               [
                [
                 "Jan",
                 "Jul",
                 "Mar"
                ]
               ],
               [
                [
                 "Jan",
                 "Jul",
                 "Mar"
                ]
               ],
               [
                [
                 "Jan",
                 "Jul",
                 "Mar"
                ]
               ],
               [
                [
                 "Jan",
                 "Jul",
                 "Mar"
                ]
               ],
               [
                [
                 "Jan",
                 "Jul",
                 "Mar"
                ]
               ],
               [
                [
                 "Jan",
                 "Jul",
                 "Mar"
                ]
               ],
               [
                [
                 "Jan",
                 "Jul",
                 "Mar"
                ]
               ],
               [
                [
                 "Jan",
                 "Jul",
                 "Mar"
                ]
               ],
               [
                [
                 "Jan",
                 "Jul",
                 "Mar"
                ]
               ],
               [
                [
                 "Jan",
                 "Jul",
                 "Mar"
                ]
               ],
               [
                [
                 "Jan",
                 "Jul",
                 "Mar"
                ]
               ],
               [
                [
                 "Jan",
                 "Jul",
                 "Mar"
                ]
               ],
               [
                [
                 "Jan",
                 "Jul",
                 "Mar"
                ]
               ],
               [
                [
                 "Jan",
                 "Jul",
                 "Mar"
                ]
               ],
               [
                [
                 "Jan",
                 "Jul",
                 "Mar"
                ]
               ],
               [
                [
                 "Jan",
                 "Jul",
                 "Mar"
                ]
               ],
               [
                [
                 "Jan",
                 "Jul",
                 "Mar"
                ]
               ],
               [
                [
                 "Jan",
                 "Jul",
                 "Mar"
                ]
               ],
               [
                [
                 "Jan",
                 "Jul",
                 "Mar"
                ]
               ],
               [
                [
                 "Jan",
                 "Jul",
                 "Mar"
                ]
               ],
               [
                [
                 "Jan",
                 "Jul",
                 "Mar"
                ]
               ],
               [
                [
                 "Jan",
                 "Jul",
                 "Mar"
                ]
               ],
               [
                [
                 "Jan",
                 "Jul",
                 "Mar"
                ]
               ],
               [
                [
                 "Jan",
                 "Jul",
                 "Mar"
                ]
               ],
               [
                [
                 "Jan",
                 "Jul",
                 "Mar"
                ]
               ],
               [
                [
                 "Jan",
                 "Jul",
                 "Mar"
                ]
               ]
              ],
              "y": [
               [
                17
               ],
               [
                23
               ],
               [
                29
               ],
               [
                23
               ],
               [
                21
               ],
               [
                18
               ],
               [
                20
               ],
               [
                19
               ],
               [
                23
               ],
               [
                23
               ],
               [
                18
               ],
               [
                16
               ],
               [
                18
               ],
               [
                25
               ],
               [
                22
               ],
               [
                19
               ],
               [
                29
               ],
               [
                18
               ],
               [
                17
               ],
               [
                22
               ],
               [
                21
               ],
               [
                25
               ],
               [
                22
               ],
               [
                19
               ],
               [
                15
               ],
               [
                21
               ],
               [
                21.3
               ],
               [
                15.3
               ],
               [
                21.3
               ],
               [
                25.6
               ],
               [
                23.6
               ],
               [
                18.8
               ],
               [
                23.8
               ]
              ]
             },
             {
              "scene.yaxis.title.text": "Jul"
             }
            ],
            "label": "Jul",
            "method": "update"
           },
           {
            "args": [
             {
              "customdata": [
               [
                [
                 "Jan",
                 "Aug",
                 "Mar"
                ]
               ],
               [
                [
                 "Jan",
                 "Aug",
                 "Mar"
                ]
               ],
               [
                [
                 "Jan",
                 "Aug",
                 "Mar"
                ]
               ],
               [
                [
                 "Jan",
                 "Aug",
                 "Mar"
                ]
               ],
               [
                [
                 "Jan",
                 "Aug",
                 "Mar"
                ]
               ],
               [
                [
                 "Jan",
                 "Aug",
                 "Mar"
                ]
               ],
               [
                [
                 "Jan",
                 "Aug",
                 "Mar"
                ]
               ],
               [
                [
                 "Jan",
                 "Aug",
                 "Mar"
                ]
               ],
               [
                [
                 "Jan",
                 "Aug",
                 "Mar"
                ]
               ],
               [
                [
                 "Jan",
                 "Aug",
                 "Mar"
                ]
               ],
               [
                [
                 "Jan",
                 "Aug",
                 "Mar"
                ]
               ],
               [
                [
                 "Jan",
                 "Aug",
                 "Mar"
                ]
               ],
               [
                [
                 "Jan",
                 "Aug",
                 "Mar"
                ]
               ],
               [
                [
                 "Jan",
                 "Aug",
                 "Mar"
                ]
               ],
               [
                [
                 "Jan",
                 "Aug",
                 "Mar"
                ]
               ],
               [
                [
                 "Jan",
                 "Aug",
                 "Mar"
                ]
               ],
               [
                [
                 "Jan",
                 "Aug",
                 "Mar"
                ]
               ],
               [
                [
                 "Jan",
                 "Aug",
                 "Mar"
                ]
               ],
               [
                [
                 "Jan",
                 "Aug",
                 "Mar"
                ]
               ],
               [
                [
                 "Jan",
                 "Aug",
                 "Mar"
                ]
               ],
               [
                [
                 "Jan",
                 "Aug",
                 "Mar"
                ]
               ],
               [
                [
                 "Jan",
                 "Aug",
                 "Mar"
                ]
               ],
               [
                [
                 "Jan",
                 "Aug",
                 "Mar"
                ]
               ],
               [
                [
                 "Jan",
                 "Aug",
                 "Mar"
                ]
               ],
               [
                [
                 "Jan",
                 "Aug",
                 "Mar"
                ]
               ],
               [
                [
                 "Jan",
                 "Aug",
                 "Mar"
                ]
               ],
               [
                [
                 "Jan",
                 "Aug",
                 "Mar"
                ]
               ],
               [
                [
                 "Jan",
                 "Aug",
                 "Mar"
                ]
               ],
               [
                [
                 "Jan",
                 "Aug",
                 "Mar"
                ]
               ],
               [
                [
                 "Jan",
                 "Aug",
                 "Mar"
                ]
               ],
               [
                [
                 "Jan",
                 "Aug",
                 "Mar"
                ]
               ],
               [
                [
                 "Jan",
                 "Aug",
                 "Mar"
                ]
               ],
               [
                [
                 "Jan",
                 "Aug",
                 "Mar"
                ]
               ]
              ],
              "y": [
               [
                17
               ],
               [
                22
               ],
               [
                28
               ],
               [
                23
               ],
               [
                19
               ],
               [
                19
               ],
               [
                16
               ],
               [
                18
               ],
               [
                23
               ],
               [
                23
               ],
               [
                18
               ],
               [
                14
               ],
               [
                16
               ],
               [
                24
               ],
               [
                21
               ],
               [
                18
               ],
               [
                30
               ],
               [
                17
               ],
               [
                16
               ],
               [
                21
               ],
               [
                20
               ],
               [
                25
               ],
               [
                21
               ],
               [
                17
               ],
               [
                21
               ],
               [
                19
               ],
               [
                20.7
               ],
               [
                15.2
               ],
               [
                20.6
               ],
               [
                25.1
               ],
               [
                23
               ],
               [
                16.9
               ],
               [
                23.8
               ]
              ]
             },
             {
              "scene.yaxis.title.text": "Aug"
             }
            ],
            "label": "Aug",
            "method": "update"
           },
           {
            "args": [
             {
              "customdata": [
               [
                [
                 "Jan",
                 "Sep",
                 "Mar"
                ]
               ],
               [
                [
                 "Jan",
                 "Sep",
                 "Mar"
                ]
               ],
               [
                [
                 "Jan",
                 "Sep",
                 "Mar"
                ]
               ],
               [
                [
                 "Jan",
                 "Sep",
                 "Mar"
                ]
               ],
               [
                [
                 "Jan",
                 "Sep",
                 "Mar"
                ]
               ],
               [
                [
                 "Jan",
                 "Sep",
                 "Mar"
                ]
               ],
               [
                [
                 "Jan",
                 "Sep",
                 "Mar"
                ]
               ],
               [
                [
                 "Jan",
                 "Sep",
                 "Mar"
                ]
               ],
               [
                [
                 "Jan",
                 "Sep",
                 "Mar"
                ]
               ],
               [
                [
                 "Jan",
                 "Sep",
                 "Mar"
                ]
               ],
               [
                [
                 "Jan",
                 "Sep",
                 "Mar"
                ]
               ],
               [
                [
                 "Jan",
                 "Sep",
                 "Mar"
                ]
               ],
               [
                [
                 "Jan",
                 "Sep",
                 "Mar"
                ]
               ],
               [
                [
                 "Jan",
                 "Sep",
                 "Mar"
                ]
               ],
               [
                [
                 "Jan",
                 "Sep",
                 "Mar"
                ]
               ],
               [
                [
                 "Jan",
                 "Sep",
                 "Mar"
                ]
               ],
               [
                [
                 "Jan",
                 "Sep",
                 "Mar"
                ]
               ],
               [
                [
                 "Jan",
                 "Sep",
                 "Mar"
                ]
               ],
               [
                [
                 "Jan",
                 "Sep",
                 "Mar"
                ]
               ],
               [
                [
                 "Jan",
                 "Sep",
                 "Mar"
                ]
               ],
               [
                [
                 "Jan",
                 "Sep",
                 "Mar"
                ]
               ],
               [
                [
                 "Jan",
                 "Sep",
                 "Mar"
                ]
               ],
               [
                [
                 "Jan",
                 "Sep",
                 "Mar"
                ]
               ],
               [
                [
                 "Jan",
                 "Sep",
                 "Mar"
                ]
               ],
               [
                [
                 "Jan",
                 "Sep",
                 "Mar"
                ]
               ],
               [
                [
                 "Jan",
                 "Sep",
                 "Mar"
                ]
               ],
               [
                [
                 "Jan",
                 "Sep",
                 "Mar"
                ]
               ],
               [
                [
                 "Jan",
                 "Sep",
                 "Mar"
                ]
               ],
               [
                [
                 "Jan",
                 "Sep",
                 "Mar"
                ]
               ],
               [
                [
                 "Jan",
                 "Sep",
                 "Mar"
                ]
               ],
               [
                [
                 "Jan",
                 "Sep",
                 "Mar"
                ]
               ],
               [
                [
                 "Jan",
                 "Sep",
                 "Mar"
                ]
               ],
               [
                [
                 "Jan",
                 "Sep",
                 "Mar"
                ]
               ]
              ],
              "y": [
               [
                15
               ],
               [
                18
               ],
               [
                24
               ],
               [
                19
               ],
               [
                16
               ],
               [
                15
               ],
               [
                16
               ],
               [
                17
               ],
               [
                18
               ],
               [
                18
               ],
               [
                14
               ],
               [
                12
               ],
               [
                11
               ],
               [
                23
               ],
               [
                19
               ],
               [
                15
               ],
               [
                27
               ],
               [
                12
               ],
               [
                11
               ],
               [
                18
               ],
               [
                16
               ],
               [
                22
               ],
               [
                17
               ],
               [
                12
               ],
               [
                17
               ],
               [
                16
               ],
               [
                15.9
               ],
               [
                13
               ],
               [
                16
               ],
               [
                20.9
               ],
               [
                19.2
               ],
               [
                11.6
               ],
               [
                18.8
               ]
              ]
             },
             {
              "scene.yaxis.title.text": "Sep"
             }
            ],
            "label": "Sep",
            "method": "update"
           },
           {
            "args": [
             {
              "customdata": [
               [
                [
                 "Jan",
                 "Oct",
                 "Mar"
                ]
               ],
               [
                [
                 "Jan",
                 "Oct",
                 "Mar"
                ]
               ],
               [
                [
                 "Jan",
                 "Oct",
                 "Mar"
                ]
               ],
               [
                [
                 "Jan",
                 "Oct",
                 "Mar"
                ]
               ],
               [
                [
                 "Jan",
                 "Oct",
                 "Mar"
                ]
               ],
               [
                [
                 "Jan",
                 "Oct",
                 "Mar"
                ]
               ],
               [
                [
                 "Jan",
                 "Oct",
                 "Mar"
                ]
               ],
               [
                [
                 "Jan",
                 "Oct",
                 "Mar"
                ]
               ],
               [
                [
                 "Jan",
                 "Oct",
                 "Mar"
                ]
               ],
               [
                [
                 "Jan",
                 "Oct",
                 "Mar"
                ]
               ],
               [
                [
                 "Jan",
                 "Oct",
                 "Mar"
                ]
               ],
               [
                [
                 "Jan",
                 "Oct",
                 "Mar"
                ]
               ],
               [
                [
                 "Jan",
                 "Oct",
                 "Mar"
                ]
               ],
               [
                [
                 "Jan",
                 "Oct",
                 "Mar"
                ]
               ],
               [
                [
                 "Jan",
                 "Oct",
                 "Mar"
                ]
               ],
               [
                [
                 "Jan",
                 "Oct",
                 "Mar"
                ]
               ],
               [
                [
                 "Jan",
                 "Oct",
                 "Mar"
                ]
               ],
               [
                [
                 "Jan",
                 "Oct",
                 "Mar"
                ]
               ],
               [
                [
                 "Jan",
                 "Oct",
                 "Mar"
                ]
               ],
               [
                [
                 "Jan",
                 "Oct",
                 "Mar"
                ]
               ],
               [
                [
                 "Jan",
                 "Oct",
                 "Mar"
                ]
               ],
               [
                [
                 "Jan",
                 "Oct",
                 "Mar"
                ]
               ],
               [
                [
                 "Jan",
                 "Oct",
                 "Mar"
                ]
               ],
               [
                [
                 "Jan",
                 "Oct",
                 "Mar"
                ]
               ],
               [
                [
                 "Jan",
                 "Oct",
                 "Mar"
                ]
               ],
               [
                [
                 "Jan",
                 "Oct",
                 "Mar"
                ]
               ],
               [
                [
                 "Jan",
                 "Oct",
                 "Mar"
                ]
               ],
               [
                [
                 "Jan",
                 "Oct",
                 "Mar"
                ]
               ],
               [
                [
                 "Jan",
                 "Oct",
                 "Mar"
                ]
               ],
               [
                [
                 "Jan",
                 "Oct",
                 "Mar"
                ]
               ],
               [
                [
                 "Jan",
                 "Oct",
                 "Mar"
                ]
               ],
               [
                [
                 "Jan",
                 "Oct",
                 "Mar"
                ]
               ],
               [
                [
                 "Jan",
                 "Oct",
                 "Mar"
                ]
               ]
              ],
              "y": [
               [
                11
               ],
               [
                14
               ],
               [
                20
               ],
               [
                14
               ],
               [
                10
               ],
               [
                10
               ],
               [
                11
               ],
               [
                12
               ],
               [
                13
               ],
               [
                13
               ],
               [
                9
               ],
               [
                9
               ],
               [
                4
               ],
               [
                19
               ],
               [
                15
               ],
               [
                9
               ],
               [
                23
               ],
               [
                6
               ],
               [
                7
               ],
               [
                13
               ],
               [
                10
               ],
               [
                17
               ],
               [
                12
               ],
               [
                7
               ],
               [
                11
               ],
               [
                10
               ],
               [
                10.4
               ],
               [
                9.8
               ],
               [
                11.2
               ],
               [
                15.1
               ],
               [
                13.4
               ],
               [
                6.2
               ],
               [
                13.1
               ]
              ]
             },
             {
              "scene.yaxis.title.text": "Oct"
             }
            ],
            "label": "Oct",
            "method": "update"
           },
           {
            "args": [
             {
              "customdata": [
               [
                [
                 "Jan",
                 "Nov",
                 "Mar"
                ]
               ],
               [
                [
                 "Jan",
                 "Nov",
                 "Mar"
                ]
               ],
               [
                [
                 "Jan",
                 "Nov",
                 "Mar"
                ]
               ],
               [
                [
                 "Jan",
                 "Nov",
                 "Mar"
                ]
               ],
               [
                [
                 "Jan",
                 "Nov",
                 "Mar"
                ]
               ],
               [
                [
                 "Jan",
                 "Nov",
                 "Mar"
                ]
               ],
               [
                [
                 "Jan",
                 "Nov",
                 "Mar"
                ]
               ],
               [
                [
                 "Jan",
                 "Nov",
                 "Mar"
                ]
               ],
               [
                [
                 "Jan",
                 "Nov",
                 "Mar"
                ]
               ],
               [
                [
                 "Jan",
                 "Nov",
                 "Mar"
                ]
               ],
               [
                [
                 "Jan",
                 "Nov",
                 "Mar"
                ]
               ],
               [
                [
                 "Jan",
                 "Nov",
                 "Mar"
                ]
               ],
               [
                [
                 "Jan",
                 "Nov",
                 "Mar"
                ]
               ],
               [
                [
                 "Jan",
                 "Nov",
                 "Mar"
                ]
               ],
               [
                [
                 "Jan",
                 "Nov",
                 "Mar"
                ]
               ],
               [
                [
                 "Jan",
                 "Nov",
                 "Mar"
                ]
               ],
               [
                [
                 "Jan",
                 "Nov",
                 "Mar"
                ]
               ],
               [
                [
                 "Jan",
                 "Nov",
                 "Mar"
                ]
               ],
               [
                [
                 "Jan",
                 "Nov",
                 "Mar"
                ]
               ],
               [
                [
                 "Jan",
                 "Nov",
                 "Mar"
                ]
               ],
               [
                [
                 "Jan",
                 "Nov",
                 "Mar"
                ]
               ],
               [
                [
                 "Jan",
                 "Nov",
                 "Mar"
                ]
               ],
               [
                [
                 "Jan",
                 "Nov",
                 "Mar"
                ]
               ],
               [
                [
                 "Jan",
                 "Nov",
                 "Mar"
                ]
               ],
               [
                [
                 "Jan",
                 "Nov",
                 "Mar"
                ]
               ],
               [
                [
                 "Jan",
                 "Nov",
                 "Mar"
                ]
               ],
               [
                [
                 "Jan",
                 "Nov",
                 "Mar"
                ]
               ],
               [
                [
                 "Jan",
                 "Nov",
                 "Mar"
                ]
               ],
               [
                [
                 "Jan",
                 "Nov",
                 "Mar"
                ]
               ],
               [
                [
                 "Jan",
                 "Nov",
                 "Mar"
                ]
               ],
               [
                [
                 "Jan",
                 "Nov",
                 "Mar"
                ]
               ],
               [
                [
                 "Jan",
                 "Nov",
                 "Mar"
                ]
               ],
               [
                [
                 "Jan",
                 "Nov",
                 "Mar"
                ]
               ]
              ],
              "y": [
               [
                6
               ],
               [
                8
               ],
               [
                15
               ],
               [
                8
               ],
               [
                4
               ],
               [
                4
               ],
               [
                7
               ],
               [
                7
               ],
               [
                7
               ],
               [
                6
               ],
               [
                4
               ],
               [
                6
               ],
               [
                -1
               ],
               [
                14
               ],
               [
                10
               ],
               [
                4
               ],
               [
                20
               ],
               [
                -2
               ],
               [
                2
               ],
               [
                7
               ],
               [
                4
               ],
               [
                12
               ],
               [
                7
               ],
               [
                2
               ],
               [
                6
               ],
               [
                4
               ],
               [
                4.9
               ],
               [
                6.7
               ],
               [
                5.6
               ],
               [
                9.9
               ],
               [
                7.2
               ],
               [
                0.1
               ],
               [
                6.5
               ]
              ]
             },
             {
              "scene.yaxis.title.text": "Nov"
             }
            ],
            "label": "Nov",
            "method": "update"
           },
           {
            "args": [
             {
              "customdata": [
               [
                [
                 "Jan",
                 "Dec",
                 "Mar"
                ]
               ],
               [
                [
                 "Jan",
                 "Dec",
                 "Mar"
                ]
               ],
               [
                [
                 "Jan",
                 "Dec",
                 "Mar"
                ]
               ],
               [
                [
                 "Jan",
                 "Dec",
                 "Mar"
                ]
               ],
               [
                [
                 "Jan",
                 "Dec",
                 "Mar"
                ]
               ],
               [
                [
                 "Jan",
                 "Dec",
                 "Mar"
                ]
               ],
               [
                [
                 "Jan",
                 "Dec",
                 "Mar"
                ]
               ],
               [
                [
                 "Jan",
                 "Dec",
                 "Mar"
                ]
               ],
               [
                [
                 "Jan",
                 "Dec",
                 "Mar"
                ]
               ],
               [
                [
                 "Jan",
                 "Dec",
                 "Mar"
                ]
               ],
               [
                [
                 "Jan",
                 "Dec",
                 "Mar"
                ]
               ],
               [
                [
                 "Jan",
                 "Dec",
                 "Mar"
                ]
               ],
               [
                [
                 "Jan",
                 "Dec",
                 "Mar"
                ]
               ],
               [
                [
                 "Jan",
                 "Dec",
                 "Mar"
                ]
               ],
               [
                [
                 "Jan",
                 "Dec",
                 "Mar"
                ]
               ],
               [
                [
                 "Jan",
                 "Dec",
                 "Mar"
                ]
               ],
               [
                [
                 "Jan",
                 "Dec",
                 "Mar"
                ]
               ],
               [
                [
                 "Jan",
                 "Dec",
                 "Mar"
                ]
               ],
               [
                [
                 "Jan",
                 "Dec",
                 "Mar"
                ]
               ],
               [
                [
                 "Jan",
                 "Dec",
                 "Mar"
                ]
               ],
               [
                [
                 "Jan",
                 "Dec",
                 "Mar"
                ]
               ],
               [
                [
                 "Jan",
                 "Dec",
                 "Mar"
                ]
               ],
               [
                [
                 "Jan",
                 "Dec",
                 "Mar"
                ]
               ],
               [
                [
                 "Jan",
                 "Dec",
                 "Mar"
                ]
               ],
               [
                [
                 "Jan",
                 "Dec",
                 "Mar"
                ]
               ],
               [
                [
                 "Jan",
                 "Dec",
                 "Mar"
                ]
               ],
               [
                [
                 "Jan",
                 "Dec",
                 "Mar"
                ]
               ],
               [
                [
                 "Jan",
                 "Dec",
                 "Mar"
                ]
               ],
               [
                [
                 "Jan",
                 "Dec",
                 "Mar"
                ]
               ],
               [
                [
                 "Jan",
                 "Dec",
                 "Mar"
                ]
               ],
               [
                [
                 "Jan",
                 "Dec",
                 "Mar"
                ]
               ],
               [
                [
                 "Jan",
                 "Dec",
                 "Mar"
                ]
               ],
               [
                [
                 "Jan",
                 "Dec",
                 "Mar"
                ]
               ]
              ],
              "y": [
               [
                3
               ],
               [
                2
               ],
               [
                11
               ],
               [
                6
               ],
               [
                0
               ],
               [
                1
               ],
               [
                2
               ],
               [
                3
               ],
               [
                1
               ],
               [
                1
               ],
               [
                2
               ],
               [
                4
               ],
               [
                -6
               ],
               [
                11
               ],
               [
                8
               ],
               [
                2
               ],
               [
                17
               ],
               [
                -10
               ],
               [
                3
               ],
               [
                4
               ],
               [
                0
               ],
               [
                9
               ],
               [
                1
               ],
               [
                -1
               ],
               [
                2
               ],
               [
                2
               ],
               [
                0.7
               ],
               [
                4.2
               ],
               [
                1.2
               ],
               [
                6.9
               ],
               [
                3.3
               ],
               [
                -3.7
               ],
               [
                1.7
               ]
              ]
             },
             {
              "scene.yaxis.title.text": "Dec"
             }
            ],
            "label": "Dec",
            "method": "update"
           }
          ],
          "direction": "down",
          "pad": {
           "b": 2,
           "l": 2,
           "r": 2,
           "t": 4
          },
          "showactive": true,
          "type": "dropdown",
          "x": 0.39,
          "xanchor": "center",
          "y": 1.12,
          "yanchor": "top"
         },
         {
          "buttons": [
           {
            "args": [
             {
              "customdata": [
               [
                [
                 "Jan",
                 "Feb",
                 "Jan"
                ]
               ],
               [
                [
                 "Jan",
                 "Feb",
                 "Jan"
                ]
               ],
               [
                [
                 "Jan",
                 "Feb",
                 "Jan"
                ]
               ],
               [
                [
                 "Jan",
                 "Feb",
                 "Jan"
                ]
               ],
               [
                [
                 "Jan",
                 "Feb",
                 "Jan"
                ]
               ],
               [
                [
                 "Jan",
                 "Feb",
                 "Jan"
                ]
               ],
               [
                [
                 "Jan",
                 "Feb",
                 "Jan"
                ]
               ],
               [
                [
                 "Jan",
                 "Feb",
                 "Jan"
                ]
               ],
               [
                [
                 "Jan",
                 "Feb",
                 "Jan"
                ]
               ],
               [
                [
                 "Jan",
                 "Feb",
                 "Jan"
                ]
               ],
               [
                [
                 "Jan",
                 "Feb",
                 "Jan"
                ]
               ],
               [
                [
                 "Jan",
                 "Feb",
                 "Jan"
                ]
               ],
               [
                [
                 "Jan",
                 "Feb",
                 "Jan"
                ]
               ],
               [
                [
                 "Jan",
                 "Feb",
                 "Jan"
                ]
               ],
               [
                [
                 "Jan",
                 "Feb",
                 "Jan"
                ]
               ],
               [
                [
                 "Jan",
                 "Feb",
                 "Jan"
                ]
               ],
               [
                [
                 "Jan",
                 "Feb",
                 "Jan"
                ]
               ],
               [
                [
                 "Jan",
                 "Feb",
                 "Jan"
                ]
               ],
               [
                [
                 "Jan",
                 "Feb",
                 "Jan"
                ]
               ],
               [
                [
                 "Jan",
                 "Feb",
                 "Jan"
                ]
               ],
               [
                [
                 "Jan",
                 "Feb",
                 "Jan"
                ]
               ],
               [
                [
                 "Jan",
                 "Feb",
                 "Jan"
                ]
               ],
               [
                [
                 "Jan",
                 "Feb",
                 "Jan"
                ]
               ],
               [
                [
                 "Jan",
                 "Feb",
                 "Jan"
                ]
               ],
               [
                [
                 "Jan",
                 "Feb",
                 "Jan"
                ]
               ],
               [
                [
                 "Jan",
                 "Feb",
                 "Jan"
                ]
               ],
               [
                [
                 "Jan",
                 "Feb",
                 "Jan"
                ]
               ],
               [
                [
                 "Jan",
                 "Feb",
                 "Jan"
                ]
               ],
               [
                [
                 "Jan",
                 "Feb",
                 "Jan"
                ]
               ],
               [
                [
                 "Jan",
                 "Feb",
                 "Jan"
                ]
               ],
               [
                [
                 "Jan",
                 "Feb",
                 "Jan"
                ]
               ],
               [
                [
                 "Jan",
                 "Feb",
                 "Jan"
                ]
               ],
               [
                [
                 "Jan",
                 "Feb",
                 "Jan"
                ]
               ]
              ],
              "z": [
               [
                2
               ],
               [
                1
               ],
               [
                9
               ],
               [
                1
               ],
               [
                -2
               ],
               [
                1
               ],
               [
                1
               ],
               [
                1
               ],
               [
                -4
               ],
               [
                -2
               ],
               [
                -1
               ],
               [
                3
               ],
               [
                -9
               ],
               [
                11
               ],
               [
                7
               ],
               [
                0
               ],
               [
                17
               ],
               [
                -14
               ],
               [
                -5
               ],
               [
                4
               ],
               [
                -2
               ],
               [
                7
               ],
               [
                -1
               ],
               [
                -4
               ],
               [
                -1
               ],
               [
                -5
               ],
               [
                -0.4
               ],
               [
                4.2
               ],
               [
                0.3
               ],
               [
                6.3
               ],
               [
                2.5
               ],
               [
                -5.5
               ],
               [
                0.1
               ]
              ]
             },
             {
              "scene.zaxis.title.text": "Jan"
             }
            ],
            "label": "Jan",
            "method": "update"
           },
           {
            "args": [
             {
              "customdata": [
               [
                [
                 "Jan",
                 "Feb",
                 "Feb"
                ]
               ],
               [
                [
                 "Jan",
                 "Feb",
                 "Feb"
                ]
               ],
               [
                [
                 "Jan",
                 "Feb",
                 "Feb"
                ]
               ],
               [
                [
                 "Jan",
                 "Feb",
                 "Feb"
                ]
               ],
               [
                [
                 "Jan",
                 "Feb",
                 "Feb"
                ]
               ],
               [
                [
                 "Jan",
                 "Feb",
                 "Feb"
                ]
               ],
               [
                [
                 "Jan",
                 "Feb",
                 "Feb"
                ]
               ],
               [
                [
                 "Jan",
                 "Feb",
                 "Feb"
                ]
               ],
               [
                [
                 "Jan",
                 "Feb",
                 "Feb"
                ]
               ],
               [
                [
                 "Jan",
                 "Feb",
                 "Feb"
                ]
               ],
               [
                [
                 "Jan",
                 "Feb",
                 "Feb"
                ]
               ],
               [
                [
                 "Jan",
                 "Feb",
                 "Feb"
                ]
               ],
               [
                [
                 "Jan",
                 "Feb",
                 "Feb"
                ]
               ],
               [
                [
                 "Jan",
                 "Feb",
                 "Feb"
                ]
               ],
               [
                [
                 "Jan",
                 "Feb",
                 "Feb"
                ]
               ],
               [
                [
                 "Jan",
                 "Feb",
                 "Feb"
                ]
               ],
               [
                [
                 "Jan",
                 "Feb",
                 "Feb"
                ]
               ],
               [
                [
                 "Jan",
                 "Feb",
                 "Feb"
                ]
               ],
               [
                [
                 "Jan",
                 "Feb",
                 "Feb"
                ]
               ],
               [
                [
                 "Jan",
                 "Feb",
                 "Feb"
                ]
               ],
               [
                [
                 "Jan",
                 "Feb",
                 "Feb"
                ]
               ],
               [
                [
                 "Jan",
                 "Feb",
                 "Feb"
                ]
               ],
               [
                [
                 "Jan",
                 "Feb",
                 "Feb"
                ]
               ],
               [
                [
                 "Jan",
                 "Feb",
                 "Feb"
                ]
               ],
               [
                [
                 "Jan",
                 "Feb",
                 "Feb"
                ]
               ],
               [
                [
                 "Jan",
                 "Feb",
                 "Feb"
                ]
               ],
               [
                [
                 "Jan",
                 "Feb",
                 "Feb"
                ]
               ],
               [
                [
                 "Jan",
                 "Feb",
                 "Feb"
                ]
               ],
               [
                [
                 "Jan",
                 "Feb",
                 "Feb"
                ]
               ],
               [
                [
                 "Jan",
                 "Feb",
                 "Feb"
                ]
               ],
               [
                [
                 "Jan",
                 "Feb",
                 "Feb"
                ]
               ],
               [
                [
                 "Jan",
                 "Feb",
                 "Feb"
                ]
               ],
               [
                [
                 "Jan",
                 "Feb",
                 "Feb"
                ]
               ]
              ],
              "z": [
               [
                2
               ],
               [
                0
               ],
               [
                10
               ],
               [
                3
               ],
               [
                1
               ],
               [
                1
               ],
               [
                2
               ],
               [
                4
               ],
               [
                -2
               ],
               [
                1
               ],
               [
                0
               ],
               [
                4
               ],
               [
                -8
               ],
               [
                12
               ],
               [
                8
               ],
               [
                1
               ],
               [
                17
               ],
               [
                -12
               ],
               [
                -4
               ],
               [
                5
               ],
               [
                -1
               ],
               [
                8
               ],
               [
                1
               ],
               [
                -4
               ],
               [
                1
               ],
               [
                -4
               ],
               [
                1.2
               ],
               [
                4.5
               ],
               [
                1.9
               ],
               [
                7.9
               ],
               [
                4.7
               ],
               [
                -5.8
               ],
               [
                2.6
               ]
              ]
             },
             {
              "scene.zaxis.title.text": "Feb"
             }
            ],
            "label": "Feb",
            "method": "update"
           },
           {
            "args": [
             {
              "customdata": [
               [
                [
                 "Jan",
                 "Feb",
                 "Mar"
                ]
               ],
               [
                [
                 "Jan",
                 "Feb",
                 "Mar"
                ]
               ],
               [
                [
                 "Jan",
                 "Feb",
                 "Mar"
                ]
               ],
               [
                [
                 "Jan",
                 "Feb",
                 "Mar"
                ]
               ],
               [
                [
                 "Jan",
                 "Feb",
                 "Mar"
                ]
               ],
               [
                [
                 "Jan",
                 "Feb",
                 "Mar"
                ]
               ],
               [
                [
                 "Jan",
                 "Feb",
                 "Mar"
                ]
               ],
               [
                [
                 "Jan",
                 "Feb",
                 "Mar"
                ]
               ],
               [
                [
                 "Jan",
                 "Feb",
                 "Mar"
                ]
               ],
               [
                [
                 "Jan",
                 "Feb",
                 "Mar"
                ]
               ],
               [
                [
                 "Jan",
                 "Feb",
                 "Mar"
                ]
               ],
               [
                [
                 "Jan",
                 "Feb",
                 "Mar"
                ]
               ],
               [
                [
                 "Jan",
                 "Feb",
                 "Mar"
                ]
               ],
               [
                [
                 "Jan",
                 "Feb",
                 "Mar"
                ]
               ],
               [
                [
                 "Jan",
                 "Feb",
                 "Mar"
                ]
               ],
               [
                [
                 "Jan",
                 "Feb",
                 "Mar"
                ]
               ],
               [
                [
                 "Jan",
                 "Feb",
                 "Mar"
                ]
               ],
               [
                [
                 "Jan",
                 "Feb",
                 "Mar"
                ]
               ],
               [
                [
                 "Jan",
                 "Feb",
                 "Mar"
                ]
               ],
               [
                [
                 "Jan",
                 "Feb",
                 "Mar"
                ]
               ],
               [
                [
                 "Jan",
                 "Feb",
                 "Mar"
                ]
               ],
               [
                [
                 "Jan",
                 "Feb",
                 "Mar"
                ]
               ],
               [
                [
                 "Jan",
                 "Feb",
                 "Mar"
                ]
               ],
               [
                [
                 "Jan",
                 "Feb",
                 "Mar"
                ]
               ],
               [
                [
                 "Jan",
                 "Feb",
                 "Mar"
                ]
               ],
               [
                [
                 "Jan",
                 "Feb",
                 "Mar"
                ]
               ],
               [
                [
                 "Jan",
                 "Feb",
                 "Mar"
                ]
               ],
               [
                [
                 "Jan",
                 "Feb",
                 "Mar"
                ]
               ],
               [
                [
                 "Jan",
                 "Feb",
                 "Mar"
                ]
               ],
               [
                [
                 "Jan",
                 "Feb",
                 "Mar"
                ]
               ],
               [
                [
                 "Jan",
                 "Feb",
                 "Mar"
                ]
               ],
               [
                [
                 "Jan",
                 "Feb",
                 "Mar"
                ]
               ],
               [
                [
                 "Jan",
                 "Feb",
                 "Mar"
                ]
               ]
              ],
              "z": [
               [
                5
               ],
               [
                6
               ],
               [
                12
               ],
               [
                8
               ],
               [
                4
               ],
               [
                6
               ],
               [
                7
               ],
               [
                7
               ],
               [
                6
               ],
               [
                7
               ],
               [
                3
               ],
               [
                6
               ],
               [
                -4
               ],
               [
                15
               ],
               [
                10
               ],
               [
                7
               ],
               [
                18
               ],
               [
                -6
               ],
               [
                1
               ],
               [
                9
               ],
               [
                4
               ],
               [
                11
               ],
               [
                7
               ],
               [
                -1
               ],
               [
                6
               ],
               [
                3
               ],
               [
                5.5
               ],
               [
                6.2
               ],
               [
                6.5
               ],
               [
                11.2
               ],
               [
                9
               ],
               [
                -1.3
               ],
               [
                7.6
               ]
              ]
             },
             {
              "scene.zaxis.title.text": "Mar"
             }
            ],
            "label": "Mar",
            "method": "update"
           },
           {
            "args": [
             {
              "customdata": [
               [
                [
                 "Jan",
                 "Feb",
                 "Apr"
                ]
               ],
               [
                [
                 "Jan",
                 "Feb",
                 "Apr"
                ]
               ],
               [
                [
                 "Jan",
                 "Feb",
                 "Apr"
                ]
               ],
               [
                [
                 "Jan",
                 "Feb",
                 "Apr"
                ]
               ],
               [
                [
                 "Jan",
                 "Feb",
                 "Apr"
                ]
               ],
               [
                [
                 "Jan",
                 "Feb",
                 "Apr"
                ]
               ],
               [
                [
                 "Jan",
                 "Feb",
                 "Apr"
                ]
               ],
               [
                [
                 "Jan",
                 "Feb",
                 "Apr"
                ]
               ],
               [
                [
                 "Jan",
                 "Feb",
                 "Apr"
                ]
               ],
               [
                [
                 "Jan",
                 "Feb",
                 "Apr"
                ]
               ],
               [
                [
                 "Jan",
                 "Feb",
                 "Apr"
                ]
               ],
               [
                [
                 "Jan",
                 "Feb",
                 "Apr"
                ]
               ],
               [
                [
                 "Jan",
                 "Feb",
                 "Apr"
                ]
               ],
               [
                [
                 "Jan",
                 "Feb",
                 "Apr"
                ]
               ],
               [
                [
                 "Jan",
                 "Feb",
                 "Apr"
                ]
               ],
               [
                [
                 "Jan",
                 "Feb",
                 "Apr"
                ]
               ],
               [
                [
                 "Jan",
                 "Feb",
                 "Apr"
                ]
               ],
               [
                [
                 "Jan",
                 "Feb",
                 "Apr"
                ]
               ],
               [
                [
                 "Jan",
                 "Feb",
                 "Apr"
                ]
               ],
               [
                [
                 "Jan",
                 "Feb",
                 "Apr"
                ]
               ],
               [
                [
                 "Jan",
                 "Feb",
                 "Apr"
                ]
               ],
               [
                [
                 "Jan",
                 "Feb",
                 "Apr"
                ]
               ],
               [
                [
                 "Jan",
                 "Feb",
                 "Apr"
                ]
               ],
               [
                [
                 "Jan",
                 "Feb",
                 "Apr"
                ]
               ],
               [
                [
                 "Jan",
                 "Feb",
                 "Apr"
                ]
               ],
               [
                [
                 "Jan",
                 "Feb",
                 "Apr"
                ]
               ],
               [
                [
                 "Jan",
                 "Feb",
                 "Apr"
                ]
               ],
               [
                [
                 "Jan",
                 "Feb",
                 "Apr"
                ]
               ],
               [
                [
                 "Jan",
                 "Feb",
                 "Apr"
                ]
               ],
               [
                [
                 "Jan",
                 "Feb",
                 "Apr"
                ]
               ],
               [
                [
                 "Jan",
                 "Feb",
                 "Apr"
                ]
               ],
               [
                [
                 "Jan",
                 "Feb",
                 "Apr"
                ]
               ],
               [
                [
                 "Jan",
                 "Feb",
                 "Apr"
                ]
               ]
              ],
              "z": [
               [
                8
               ],
               [
                12
               ],
               [
                16
               ],
               [
                13
               ],
               [
                10
               ],
               [
                10
               ],
               [
                11
               ],
               [
                11
               ],
               [
                12
               ],
               [
                13
               ],
               [
                8
               ],
               [
                8
               ],
               [
                3
               ],
               [
                17
               ],
               [
                13
               ],
               [
                11
               ],
               [
                21
               ],
               [
                6
               ],
               [
                5
               ],
               [
                13
               ],
               [
                11
               ],
               [
                14
               ],
               [
                12
               ],
               [
                6
               ],
               [
                12
               ],
               [
                9
               ],
               [
                11
               ],
               [
                8.1
               ],
               [
                10.8
               ],
               [
                12.9
               ],
               [
                12.2
               ],
               [
                5.1
               ],
               [
                12.1
               ]
              ]
             },
             {
              "scene.zaxis.title.text": "Apr"
             }
            ],
            "label": "Apr",
            "method": "update"
           },
           {
            "args": [
             {
              "customdata": [
               [
                [
                 "Jan",
                 "Feb",
                 "May"
                ]
               ],
               [
                [
                 "Jan",
                 "Feb",
                 "May"
                ]
               ],
               [
                [
                 "Jan",
                 "Feb",
                 "May"
                ]
               ],
               [
                [
                 "Jan",
                 "Feb",
                 "May"
                ]
               ],
               [
                [
                 "Jan",
                 "Feb",
                 "May"
                ]
               ],
               [
                [
                 "Jan",
                 "Feb",
                 "May"
                ]
               ],
               [
                [
                 "Jan",
                 "Feb",
                 "May"
                ]
               ],
               [
                [
                 "Jan",
                 "Feb",
                 "May"
                ]
               ],
               [
                [
                 "Jan",
                 "Feb",
                 "May"
                ]
               ],
               [
                [
                 "Jan",
                 "Feb",
                 "May"
                ]
               ],
               [
                [
                 "Jan",
                 "Feb",
                 "May"
                ]
               ],
               [
                [
                 "Jan",
                 "Feb",
                 "May"
                ]
               ],
               [
                [
                 "Jan",
                 "Feb",
                 "May"
                ]
               ],
               [
                [
                 "Jan",
                 "Feb",
                 "May"
                ]
               ],
               [
                [
                 "Jan",
                 "Feb",
                 "May"
                ]
               ],
               [
                [
                 "Jan",
                 "Feb",
                 "May"
                ]
               ],
               [
                [
                 "Jan",
                 "Feb",
                 "May"
                ]
               ],
               [
                [
                 "Jan",
                 "Feb",
                 "May"
                ]
               ],
               [
                [
                 "Jan",
                 "Feb",
                 "May"
                ]
               ],
               [
                [
                 "Jan",
                 "Feb",
                 "May"
                ]
               ],
               [
                [
                 "Jan",
                 "Feb",
                 "May"
                ]
               ],
               [
                [
                 "Jan",
                 "Feb",
                 "May"
                ]
               ],
               [
                [
                 "Jan",
                 "Feb",
                 "May"
                ]
               ],
               [
                [
                 "Jan",
                 "Feb",
                 "May"
                ]
               ],
               [
                [
                 "Jan",
                 "Feb",
                 "May"
                ]
               ],
               [
                [
                 "Jan",
                 "Feb",
                 "May"
                ]
               ],
               [
                [
                 "Jan",
                 "Feb",
                 "May"
                ]
               ],
               [
                [
                 "Jan",
                 "Feb",
                 "May"
                ]
               ],
               [
                [
                 "Jan",
                 "Feb",
                 "May"
                ]
               ],
               [
                [
                 "Jan",
                 "Feb",
                 "May"
                ]
               ],
               [
                [
                 "Jan",
                 "Feb",
                 "May"
                ]
               ],
               [
                [
                 "Jan",
                 "Feb",
                 "May"
                ]
               ],
               [
                [
                 "Jan",
                 "Feb",
                 "May"
                ]
               ]
              ],
              "z": [
               [
                12
               ],
               [
                17
               ],
               [
                21
               ],
               [
                17
               ],
               [
                14
               ],
               [
                13
               ],
               [
                14
               ],
               [
                13
               ],
               [
                17
               ],
               [
                17
               ],
               [
                13
               ],
               [
                11
               ],
               [
                10
               ],
               [
                19
               ],
               [
                17
               ],
               [
                13
               ],
               [
                23
               ],
               [
                14
               ],
               [
                11
               ],
               [
                16
               ],
               [
                15
               ],
               [
                18
               ],
               [
                16
               ],
               [
                11
               ],
               [
                15
               ],
               [
                16
               ],
               [
                16
               ],
               [
                10.8
               ],
               [
                15.8
               ],
               [
                16.7
               ],
               [
                17
               ],
               [
                11.3
               ],
               [
                17.3
               ]
              ]
             },
             {
              "scene.zaxis.title.text": "May"
             }
            ],
            "label": "May",
            "method": "update"
           },
           {
            "args": [
             {
              "customdata": [
               [
                [
                 "Jan",
                 "Feb",
                 "Jun"
                ]
               ],
               [
                [
                 "Jan",
                 "Feb",
                 "Jun"
                ]
               ],
               [
                [
                 "Jan",
                 "Feb",
                 "Jun"
                ]
               ],
               [
                [
                 "Jan",
                 "Feb",
                 "Jun"
                ]
               ],
               [
                [
                 "Jan",
                 "Feb",
                 "Jun"
                ]
               ],
               [
                [
                 "Jan",
                 "Feb",
                 "Jun"
                ]
               ],
               [
                [
                 "Jan",
                 "Feb",
                 "Jun"
                ]
               ],
               [
                [
                 "Jan",
                 "Feb",
                 "Jun"
                ]
               ],
               [
                [
                 "Jan",
                 "Feb",
                 "Jun"
                ]
               ],
               [
                [
                 "Jan",
                 "Feb",
                 "Jun"
                ]
               ],
               [
                [
                 "Jan",
                 "Feb",
                 "Jun"
                ]
               ],
               [
                [
                 "Jan",
                 "Feb",
                 "Jun"
                ]
               ],
               [
                [
                 "Jan",
                 "Feb",
                 "Jun"
                ]
               ],
               [
                [
                 "Jan",
                 "Feb",
                 "Jun"
                ]
               ],
               [
                [
                 "Jan",
                 "Feb",
                 "Jun"
                ]
               ],
               [
                [
                 "Jan",
                 "Feb",
                 "Jun"
                ]
               ],
               [
                [
                 "Jan",
                 "Feb",
                 "Jun"
                ]
               ],
               [
                [
                 "Jan",
                 "Feb",
                 "Jun"
                ]
               ],
               [
                [
                 "Jan",
                 "Feb",
                 "Jun"
                ]
               ],
               [
                [
                 "Jan",
                 "Feb",
                 "Jun"
                ]
               ],
               [
                [
                 "Jan",
                 "Feb",
                 "Jun"
                ]
               ],
               [
                [
                 "Jan",
                 "Feb",
                 "Jun"
                ]
               ],
               [
                [
                 "Jan",
                 "Feb",
                 "Jun"
                ]
               ],
               [
                [
                 "Jan",
                 "Feb",
                 "Jun"
                ]
               ],
               [
                [
                 "Jan",
                 "Feb",
                 "Jun"
                ]
               ],
               [
                [
                 "Jan",
                 "Feb",
                 "Jun"
                ]
               ],
               [
                [
                 "Jan",
                 "Feb",
                 "Jun"
                ]
               ],
               [
                [
                 "Jan",
                 "Feb",
                 "Jun"
                ]
               ],
               [
                [
                 "Jan",
                 "Feb",
                 "Jun"
                ]
               ],
               [
                [
                 "Jan",
                 "Feb",
                 "Jun"
                ]
               ],
               [
                [
                 "Jan",
                 "Feb",
                 "Jun"
                ]
               ],
               [
                [
                 "Jan",
                 "Feb",
                 "Jun"
                ]
               ],
               [
                [
                 "Jan",
                 "Feb",
                 "Jun"
                ]
               ]
              ],
              "z": [
               [
                15
               ],
               [
                19
               ],
               [
                26
               ],
               [
                22
               ],
               [
                18
               ],
               [
                17
               ],
               [
                18
               ],
               [
                18
               ],
               [
                21
               ],
               [
                21
               ],
               [
                17
               ],
               [
                14
               ],
               [
                15
               ],
               [
                23
               ],
               [
                20
               ],
               [
                17
               ],
               [
                27
               ],
               [
                15
               ],
               [
                16
               ],
               [
                19
               ],
               [
                19
               ],
               [
                23
               ],
               [
                19
               ],
               [
                16
               ],
               [
                11
               ],
               [
                18
               ],
               [
                19.1
               ],
               [
                13.5
               ],
               [
                19.1
               ],
               [
                22.2
               ],
               [
                20.8
               ],
               [
                15.7
               ],
               [
                21.5
               ]
              ]
             },
             {
              "scene.zaxis.title.text": "Jun"
             }
            ],
            "label": "Jun",
            "method": "update"
           },
           {
            "args": [
             {
              "customdata": [
               [
                [
                 "Jan",
                 "Feb",
                 "Jul"
                ]
               ],
               [
                [
                 "Jan",
                 "Feb",
                 "Jul"
                ]
               ],
               [
                [
                 "Jan",
                 "Feb",
                 "Jul"
                ]
               ],
               [
                [
                 "Jan",
                 "Feb",
                 "Jul"
                ]
               ],
               [
                [
                 "Jan",
                 "Feb",
                 "Jul"
                ]
               ],
               [
                [
                 "Jan",
                 "Feb",
                 "Jul"
                ]
               ],
               [
                [
                 "Jan",
                 "Feb",
                 "Jul"
                ]
               ],
               [
                [
                 "Jan",
                 "Feb",
                 "Jul"
                ]
               ],
               [
                [
                 "Jan",
                 "Feb",
                 "Jul"
                ]
               ],
               [
                [
                 "Jan",
                 "Feb",
                 "Jul"
                ]
               ],
               [
                [
                 "Jan",
                 "Feb",
                 "Jul"
                ]
               ],
               [
                [
                 "Jan",
                 "Feb",
                 "Jul"
                ]
               ],
               [
                [
                 "Jan",
                 "Feb",
                 "Jul"
                ]
               ],
               [
                [
                 "Jan",
                 "Feb",
                 "Jul"
                ]
               ],
               [
                [
                 "Jan",
                 "Feb",
                 "Jul"
                ]
               ],
               [
                [
                 "Jan",
                 "Feb",
                 "Jul"
                ]
               ],
               [
                [
                 "Jan",
                 "Feb",
                 "Jul"
                ]
               ],
               [
                [
                 "Jan",
                 "Feb",
                 "Jul"
                ]
               ],
               [
                [
                 "Jan",
                 "Feb",
                 "Jul"
                ]
               ],
               [
                [
                 "Jan",
                 "Feb",
                 "Jul"
                ]
               ],
               [
                [
                 "Jan",
                 "Feb",
                 "Jul"
                ]
               ],
               [
                [
                 "Jan",
                 "Feb",
                 "Jul"
                ]
               ],
               [
                [
                 "Jan",
                 "Feb",
                 "Jul"
                ]
               ],
               [
                [
                 "Jan",
                 "Feb",
                 "Jul"
                ]
               ],
               [
                [
                 "Jan",
                 "Feb",
                 "Jul"
                ]
               ],
               [
                [
                 "Jan",
                 "Feb",
                 "Jul"
                ]
               ],
               [
                [
                 "Jan",
                 "Feb",
                 "Jul"
                ]
               ],
               [
                [
                 "Jan",
                 "Feb",
                 "Jul"
                ]
               ],
               [
                [
                 "Jan",
                 "Feb",
                 "Jul"
                ]
               ],
               [
                [
                 "Jan",
                 "Feb",
                 "Jul"
                ]
               ],
               [
                [
                 "Jan",
                 "Feb",
                 "Jul"
                ]
               ],
               [
                [
                 "Jan",
                 "Feb",
                 "Jul"
                ]
               ],
               [
                [
                 "Jan",
                 "Feb",
                 "Jul"
                ]
               ]
              ],
              "z": [
               [
                17
               ],
               [
                23
               ],
               [
                29
               ],
               [
                23
               ],
               [
                21
               ],
               [
                18
               ],
               [
                20
               ],
               [
                19
               ],
               [
                23
               ],
               [
                23
               ],
               [
                18
               ],
               [
                16
               ],
               [
                18
               ],
               [
                25
               ],
               [
                22
               ],
               [
                19
               ],
               [
                29
               ],
               [
                18
               ],
               [
                17
               ],
               [
                22
               ],
               [
                21
               ],
               [
                25
               ],
               [
                22
               ],
               [
                19
               ],
               [
                15
               ],
               [
                21
               ],
               [
                21.3
               ],
               [
                15.3
               ],
               [
                21.3
               ],
               [
                25.6
               ],
               [
                23.6
               ],
               [
                18.8
               ],
               [
                23.8
               ]
              ]
             },
             {
              "scene.zaxis.title.text": "Jul"
             }
            ],
            "label": "Jul",
            "method": "update"
           },
           {
            "args": [
             {
              "customdata": [
               [
                [
                 "Jan",
                 "Feb",
                 "Aug"
                ]
               ],
               [
                [
                 "Jan",
                 "Feb",
                 "Aug"
                ]
               ],
               [
                [
                 "Jan",
                 "Feb",
                 "Aug"
                ]
               ],
               [
                [
                 "Jan",
                 "Feb",
                 "Aug"
                ]
               ],
               [
                [
                 "Jan",
                 "Feb",
                 "Aug"
                ]
               ],
               [
                [
                 "Jan",
                 "Feb",
                 "Aug"
                ]
               ],
               [
                [
                 "Jan",
                 "Feb",
                 "Aug"
                ]
               ],
               [
                [
                 "Jan",
                 "Feb",
                 "Aug"
                ]
               ],
               [
                [
                 "Jan",
                 "Feb",
                 "Aug"
                ]
               ],
               [
                [
                 "Jan",
                 "Feb",
                 "Aug"
                ]
               ],
               [
                [
                 "Jan",
                 "Feb",
                 "Aug"
                ]
               ],
               [
                [
                 "Jan",
                 "Feb",
                 "Aug"
                ]
               ],
               [
                [
                 "Jan",
                 "Feb",
                 "Aug"
                ]
               ],
               [
                [
                 "Jan",
                 "Feb",
                 "Aug"
                ]
               ],
               [
                [
                 "Jan",
                 "Feb",
                 "Aug"
                ]
               ],
               [
                [
                 "Jan",
                 "Feb",
                 "Aug"
                ]
               ],
               [
                [
                 "Jan",
                 "Feb",
                 "Aug"
                ]
               ],
               [
                [
                 "Jan",
                 "Feb",
                 "Aug"
                ]
               ],
               [
                [
                 "Jan",
                 "Feb",
                 "Aug"
                ]
               ],
               [
                [
                 "Jan",
                 "Feb",
                 "Aug"
                ]
               ],
               [
                [
                 "Jan",
                 "Feb",
                 "Aug"
                ]
               ],
               [
                [
                 "Jan",
                 "Feb",
                 "Aug"
                ]
               ],
               [
                [
                 "Jan",
                 "Feb",
                 "Aug"
                ]
               ],
               [
                [
                 "Jan",
                 "Feb",
                 "Aug"
                ]
               ],
               [
                [
                 "Jan",
                 "Feb",
                 "Aug"
                ]
               ],
               [
                [
                 "Jan",
                 "Feb",
                 "Aug"
                ]
               ],
               [
                [
                 "Jan",
                 "Feb",
                 "Aug"
                ]
               ],
               [
                [
                 "Jan",
                 "Feb",
                 "Aug"
                ]
               ],
               [
                [
                 "Jan",
                 "Feb",
                 "Aug"
                ]
               ],
               [
                [
                 "Jan",
                 "Feb",
                 "Aug"
                ]
               ],
               [
                [
                 "Jan",
                 "Feb",
                 "Aug"
                ]
               ],
               [
                [
                 "Jan",
                 "Feb",
                 "Aug"
                ]
               ],
               [
                [
                 "Jan",
                 "Feb",
                 "Aug"
                ]
               ]
              ],
              "z": [
               [
                17
               ],
               [
                22
               ],
               [
                28
               ],
               [
                23
               ],
               [
                19
               ],
               [
                19
               ],
               [
                16
               ],
               [
                18
               ],
               [
                23
               ],
               [
                23
               ],
               [
                18
               ],
               [
                14
               ],
               [
                16
               ],
               [
                24
               ],
               [
                21
               ],
               [
                18
               ],
               [
                30
               ],
               [
                17
               ],
               [
                16
               ],
               [
                21
               ],
               [
                20
               ],
               [
                25
               ],
               [
                21
               ],
               [
                17
               ],
               [
                21
               ],
               [
                19
               ],
               [
                20.7
               ],
               [
                15.2
               ],
               [
                20.6
               ],
               [
                25.1
               ],
               [
                23
               ],
               [
                16.9
               ],
               [
                23.8
               ]
              ]
             },
             {
              "scene.zaxis.title.text": "Aug"
             }
            ],
            "label": "Aug",
            "method": "update"
           },
           {
            "args": [
             {
              "customdata": [
               [
                [
                 "Jan",
                 "Feb",
                 "Sep"
                ]
               ],
               [
                [
                 "Jan",
                 "Feb",
                 "Sep"
                ]
               ],
               [
                [
                 "Jan",
                 "Feb",
                 "Sep"
                ]
               ],
               [
                [
                 "Jan",
                 "Feb",
                 "Sep"
                ]
               ],
               [
                [
                 "Jan",
                 "Feb",
                 "Sep"
                ]
               ],
               [
                [
                 "Jan",
                 "Feb",
                 "Sep"
                ]
               ],
               [
                [
                 "Jan",
                 "Feb",
                 "Sep"
                ]
               ],
               [
                [
                 "Jan",
                 "Feb",
                 "Sep"
                ]
               ],
               [
                [
                 "Jan",
                 "Feb",
                 "Sep"
                ]
               ],
               [
                [
                 "Jan",
                 "Feb",
                 "Sep"
                ]
               ],
               [
                [
                 "Jan",
                 "Feb",
                 "Sep"
                ]
               ],
               [
                [
                 "Jan",
                 "Feb",
                 "Sep"
                ]
               ],
               [
                [
                 "Jan",
                 "Feb",
                 "Sep"
                ]
               ],
               [
                [
                 "Jan",
                 "Feb",
                 "Sep"
                ]
               ],
               [
                [
                 "Jan",
                 "Feb",
                 "Sep"
                ]
               ],
               [
                [
                 "Jan",
                 "Feb",
                 "Sep"
                ]
               ],
               [
                [
                 "Jan",
                 "Feb",
                 "Sep"
                ]
               ],
               [
                [
                 "Jan",
                 "Feb",
                 "Sep"
                ]
               ],
               [
                [
                 "Jan",
                 "Feb",
                 "Sep"
                ]
               ],
               [
                [
                 "Jan",
                 "Feb",
                 "Sep"
                ]
               ],
               [
                [
                 "Jan",
                 "Feb",
                 "Sep"
                ]
               ],
               [
                [
                 "Jan",
                 "Feb",
                 "Sep"
                ]
               ],
               [
                [
                 "Jan",
                 "Feb",
                 "Sep"
                ]
               ],
               [
                [
                 "Jan",
                 "Feb",
                 "Sep"
                ]
               ],
               [
                [
                 "Jan",
                 "Feb",
                 "Sep"
                ]
               ],
               [
                [
                 "Jan",
                 "Feb",
                 "Sep"
                ]
               ],
               [
                [
                 "Jan",
                 "Feb",
                 "Sep"
                ]
               ],
               [
                [
                 "Jan",
                 "Feb",
                 "Sep"
                ]
               ],
               [
                [
                 "Jan",
                 "Feb",
                 "Sep"
                ]
               ],
               [
                [
                 "Jan",
                 "Feb",
                 "Sep"
                ]
               ],
               [
                [
                 "Jan",
                 "Feb",
                 "Sep"
                ]
               ],
               [
                [
                 "Jan",
                 "Feb",
                 "Sep"
                ]
               ],
               [
                [
                 "Jan",
                 "Feb",
                 "Sep"
                ]
               ]
              ],
              "z": [
               [
                15
               ],
               [
                18
               ],
               [
                24
               ],
               [
                19
               ],
               [
                16
               ],
               [
                15
               ],
               [
                16
               ],
               [
                17
               ],
               [
                18
               ],
               [
                18
               ],
               [
                14
               ],
               [
                12
               ],
               [
                11
               ],
               [
                23
               ],
               [
                19
               ],
               [
                15
               ],
               [
                27
               ],
               [
                12
               ],
               [
                11
               ],
               [
                18
               ],
               [
                16
               ],
               [
                22
               ],
               [
                17
               ],
               [
                12
               ],
               [
                17
               ],
               [
                16
               ],
               [
                15.9
               ],
               [
                13
               ],
               [
                16
               ],
               [
                20.9
               ],
               [
                19.2
               ],
               [
                11.6
               ],
               [
                18.8
               ]
              ]
             },
             {
              "scene.zaxis.title.text": "Sep"
             }
            ],
            "label": "Sep",
            "method": "update"
           },
           {
            "args": [
             {
              "customdata": [
               [
                [
                 "Jan",
                 "Feb",
                 "Oct"
                ]
               ],
               [
                [
                 "Jan",
                 "Feb",
                 "Oct"
                ]
               ],
               [
                [
                 "Jan",
                 "Feb",
                 "Oct"
                ]
               ],
               [
                [
                 "Jan",
                 "Feb",
                 "Oct"
                ]
               ],
               [
                [
                 "Jan",
                 "Feb",
                 "Oct"
                ]
               ],
               [
                [
                 "Jan",
                 "Feb",
                 "Oct"
                ]
               ],
               [
                [
                 "Jan",
                 "Feb",
                 "Oct"
                ]
               ],
               [
                [
                 "Jan",
                 "Feb",
                 "Oct"
                ]
               ],
               [
                [
                 "Jan",
                 "Feb",
                 "Oct"
                ]
               ],
               [
                [
                 "Jan",
                 "Feb",
                 "Oct"
                ]
               ],
               [
                [
                 "Jan",
                 "Feb",
                 "Oct"
                ]
               ],
               [
                [
                 "Jan",
                 "Feb",
                 "Oct"
                ]
               ],
               [
                [
                 "Jan",
                 "Feb",
                 "Oct"
                ]
               ],
               [
                [
                 "Jan",
                 "Feb",
                 "Oct"
                ]
               ],
               [
                [
                 "Jan",
                 "Feb",
                 "Oct"
                ]
               ],
               [
                [
                 "Jan",
                 "Feb",
                 "Oct"
                ]
               ],
               [
                [
                 "Jan",
                 "Feb",
                 "Oct"
                ]
               ],
               [
                [
                 "Jan",
                 "Feb",
                 "Oct"
                ]
               ],
               [
                [
                 "Jan",
                 "Feb",
                 "Oct"
                ]
               ],
               [
                [
                 "Jan",
                 "Feb",
                 "Oct"
                ]
               ],
               [
                [
                 "Jan",
                 "Feb",
                 "Oct"
                ]
               ],
               [
                [
                 "Jan",
                 "Feb",
                 "Oct"
                ]
               ],
               [
                [
                 "Jan",
                 "Feb",
                 "Oct"
                ]
               ],
               [
                [
                 "Jan",
                 "Feb",
                 "Oct"
                ]
               ],
               [
                [
                 "Jan",
                 "Feb",
                 "Oct"
                ]
               ],
               [
                [
                 "Jan",
                 "Feb",
                 "Oct"
                ]
               ],
               [
                [
                 "Jan",
                 "Feb",
                 "Oct"
                ]
               ],
               [
                [
                 "Jan",
                 "Feb",
                 "Oct"
                ]
               ],
               [
                [
                 "Jan",
                 "Feb",
                 "Oct"
                ]
               ],
               [
                [
                 "Jan",
                 "Feb",
                 "Oct"
                ]
               ],
               [
                [
                 "Jan",
                 "Feb",
                 "Oct"
                ]
               ],
               [
                [
                 "Jan",
                 "Feb",
                 "Oct"
                ]
               ],
               [
                [
                 "Jan",
                 "Feb",
                 "Oct"
                ]
               ]
              ],
              "z": [
               [
                11
               ],
               [
                14
               ],
               [
                20
               ],
               [
                14
               ],
               [
                10
               ],
               [
                10
               ],
               [
                11
               ],
               [
                12
               ],
               [
                13
               ],
               [
                13
               ],
               [
                9
               ],
               [
                9
               ],
               [
                4
               ],
               [
                19
               ],
               [
                15
               ],
               [
                9
               ],
               [
                23
               ],
               [
                6
               ],
               [
                7
               ],
               [
                13
               ],
               [
                10
               ],
               [
                17
               ],
               [
                12
               ],
               [
                7
               ],
               [
                11
               ],
               [
                10
               ],
               [
                10.4
               ],
               [
                9.8
               ],
               [
                11.2
               ],
               [
                15.1
               ],
               [
                13.4
               ],
               [
                6.2
               ],
               [
                13.1
               ]
              ]
             },
             {
              "scene.zaxis.title.text": "Oct"
             }
            ],
            "label": "Oct",
            "method": "update"
           },
           {
            "args": [
             {
              "customdata": [
               [
                [
                 "Jan",
                 "Feb",
                 "Nov"
                ]
               ],
               [
                [
                 "Jan",
                 "Feb",
                 "Nov"
                ]
               ],
               [
                [
                 "Jan",
                 "Feb",
                 "Nov"
                ]
               ],
               [
                [
                 "Jan",
                 "Feb",
                 "Nov"
                ]
               ],
               [
                [
                 "Jan",
                 "Feb",
                 "Nov"
                ]
               ],
               [
                [
                 "Jan",
                 "Feb",
                 "Nov"
                ]
               ],
               [
                [
                 "Jan",
                 "Feb",
                 "Nov"
                ]
               ],
               [
                [
                 "Jan",
                 "Feb",
                 "Nov"
                ]
               ],
               [
                [
                 "Jan",
                 "Feb",
                 "Nov"
                ]
               ],
               [
                [
                 "Jan",
                 "Feb",
                 "Nov"
                ]
               ],
               [
                [
                 "Jan",
                 "Feb",
                 "Nov"
                ]
               ],
               [
                [
                 "Jan",
                 "Feb",
                 "Nov"
                ]
               ],
               [
                [
                 "Jan",
                 "Feb",
                 "Nov"
                ]
               ],
               [
                [
                 "Jan",
                 "Feb",
                 "Nov"
                ]
               ],
               [
                [
                 "Jan",
                 "Feb",
                 "Nov"
                ]
               ],
               [
                [
                 "Jan",
                 "Feb",
                 "Nov"
                ]
               ],
               [
                [
                 "Jan",
                 "Feb",
                 "Nov"
                ]
               ],
               [
                [
                 "Jan",
                 "Feb",
                 "Nov"
                ]
               ],
               [
                [
                 "Jan",
                 "Feb",
                 "Nov"
                ]
               ],
               [
                [
                 "Jan",
                 "Feb",
                 "Nov"
                ]
               ],
               [
                [
                 "Jan",
                 "Feb",
                 "Nov"
                ]
               ],
               [
                [
                 "Jan",
                 "Feb",
                 "Nov"
                ]
               ],
               [
                [
                 "Jan",
                 "Feb",
                 "Nov"
                ]
               ],
               [
                [
                 "Jan",
                 "Feb",
                 "Nov"
                ]
               ],
               [
                [
                 "Jan",
                 "Feb",
                 "Nov"
                ]
               ],
               [
                [
                 "Jan",
                 "Feb",
                 "Nov"
                ]
               ],
               [
                [
                 "Jan",
                 "Feb",
                 "Nov"
                ]
               ],
               [
                [
                 "Jan",
                 "Feb",
                 "Nov"
                ]
               ],
               [
                [
                 "Jan",
                 "Feb",
                 "Nov"
                ]
               ],
               [
                [
                 "Jan",
                 "Feb",
                 "Nov"
                ]
               ],
               [
                [
                 "Jan",
                 "Feb",
                 "Nov"
                ]
               ],
               [
                [
                 "Jan",
                 "Feb",
                 "Nov"
                ]
               ],
               [
                [
                 "Jan",
                 "Feb",
                 "Nov"
                ]
               ]
              ],
              "z": [
               [
                6
               ],
               [
                8
               ],
               [
                15
               ],
               [
                8
               ],
               [
                4
               ],
               [
                4
               ],
               [
                7
               ],
               [
                7
               ],
               [
                7
               ],
               [
                6
               ],
               [
                4
               ],
               [
                6
               ],
               [
                -1
               ],
               [
                14
               ],
               [
                10
               ],
               [
                4
               ],
               [
                20
               ],
               [
                -2
               ],
               [
                2
               ],
               [
                7
               ],
               [
                4
               ],
               [
                12
               ],
               [
                7
               ],
               [
                2
               ],
               [
                6
               ],
               [
                4
               ],
               [
                4.9
               ],
               [
                6.7
               ],
               [
                5.6
               ],
               [
                9.9
               ],
               [
                7.2
               ],
               [
                0.1
               ],
               [
                6.5
               ]
              ]
             },
             {
              "scene.zaxis.title.text": "Nov"
             }
            ],
            "label": "Nov",
            "method": "update"
           },
           {
            "args": [
             {
              "customdata": [
               [
                [
                 "Jan",
                 "Feb",
                 "Dec"
                ]
               ],
               [
                [
                 "Jan",
                 "Feb",
                 "Dec"
                ]
               ],
               [
                [
                 "Jan",
                 "Feb",
                 "Dec"
                ]
               ],
               [
                [
                 "Jan",
                 "Feb",
                 "Dec"
                ]
               ],
               [
                [
                 "Jan",
                 "Feb",
                 "Dec"
                ]
               ],
               [
                [
                 "Jan",
                 "Feb",
                 "Dec"
                ]
               ],
               [
                [
                 "Jan",
                 "Feb",
                 "Dec"
                ]
               ],
               [
                [
                 "Jan",
                 "Feb",
                 "Dec"
                ]
               ],
               [
                [
                 "Jan",
                 "Feb",
                 "Dec"
                ]
               ],
               [
                [
                 "Jan",
                 "Feb",
                 "Dec"
                ]
               ],
               [
                [
                 "Jan",
                 "Feb",
                 "Dec"
                ]
               ],
               [
                [
                 "Jan",
                 "Feb",
                 "Dec"
                ]
               ],
               [
                [
                 "Jan",
                 "Feb",
                 "Dec"
                ]
               ],
               [
                [
                 "Jan",
                 "Feb",
                 "Dec"
                ]
               ],
               [
                [
                 "Jan",
                 "Feb",
                 "Dec"
                ]
               ],
               [
                [
                 "Jan",
                 "Feb",
                 "Dec"
                ]
               ],
               [
                [
                 "Jan",
                 "Feb",
                 "Dec"
                ]
               ],
               [
                [
                 "Jan",
                 "Feb",
                 "Dec"
                ]
               ],
               [
                [
                 "Jan",
                 "Feb",
                 "Dec"
                ]
               ],
               [
                [
                 "Jan",
                 "Feb",
                 "Dec"
                ]
               ],
               [
                [
                 "Jan",
                 "Feb",
                 "Dec"
                ]
               ],
               [
                [
                 "Jan",
                 "Feb",
                 "Dec"
                ]
               ],
               [
                [
                 "Jan",
                 "Feb",
                 "Dec"
                ]
               ],
               [
                [
                 "Jan",
                 "Feb",
                 "Dec"
                ]
               ],
               [
                [
                 "Jan",
                 "Feb",
                 "Dec"
                ]
               ],
               [
                [
                 "Jan",
                 "Feb",
                 "Dec"
                ]
               ],
               [
                [
                 "Jan",
                 "Feb",
                 "Dec"
                ]
               ],
               [
                [
                 "Jan",
                 "Feb",
                 "Dec"
                ]
               ],
               [
                [
                 "Jan",
                 "Feb",
                 "Dec"
                ]
               ],
               [
                [
                 "Jan",
                 "Feb",
                 "Dec"
                ]
               ],
               [
                [
                 "Jan",
                 "Feb",
                 "Dec"
                ]
               ],
               [
                [
                 "Jan",
                 "Feb",
                 "Dec"
                ]
               ],
               [
                [
                 "Jan",
                 "Feb",
                 "Dec"
                ]
               ]
              ],
              "z": [
               [
                3
               ],
               [
                2
               ],
               [
                11
               ],
               [
                6
               ],
               [
                0
               ],
               [
                1
               ],
               [
                2
               ],
               [
                3
               ],
               [
                1
               ],
               [
                1
               ],
               [
                2
               ],
               [
                4
               ],
               [
                -6
               ],
               [
                11
               ],
               [
                8
               ],
               [
                2
               ],
               [
                17
               ],
               [
                -10
               ],
               [
                3
               ],
               [
                4
               ],
               [
                0
               ],
               [
                9
               ],
               [
                1
               ],
               [
                -1
               ],
               [
                2
               ],
               [
                2
               ],
               [
                0.7
               ],
               [
                4.2
               ],
               [
                1.2
               ],
               [
                6.9
               ],
               [
                3.3
               ],
               [
                -3.7
               ],
               [
                1.7
               ]
              ]
             },
             {
              "scene.zaxis.title.text": "Dec"
             }
            ],
            "label": "Dec",
            "method": "update"
           }
          ],
          "direction": "down",
          "pad": {
           "b": 2,
           "l": 2,
           "r": 2,
           "t": 4
          },
          "showactive": true,
          "type": "dropdown",
          "x": 0.64,
          "xanchor": "center",
          "y": 1.12,
          "yanchor": "top"
         },
         {
          "buttons": [
           {
            "args": [
             {
              "mode": [
               "markers+text",
               "markers+text",
               "markers+text",
               "markers+text",
               "markers+text",
               "markers+text",
               "markers+text",
               "markers+text",
               "markers+text",
               "markers+text",
               "markers+text",
               "markers+text",
               "markers+text",
               "markers+text",
               "markers+text",
               "markers+text",
               "markers+text",
               "markers+text",
               "markers+text",
               "markers+text",
               "markers+text",
               "markers+text",
               "markers+text",
               "markers+text",
               "markers+text",
               "markers+text",
               "markers+text",
               "markers+text",
               "markers+text",
               "markers+text",
               "markers+text",
               "markers+text",
               "markers+text"
              ]
             }
            ],
            "label": "Labels: On",
            "method": "update"
           },
           {
            "args": [
             {
              "mode": [
               "markers",
               "markers",
               "markers",
               "markers",
               "markers",
               "markers",
               "markers",
               "markers",
               "markers",
               "markers",
               "markers",
               "markers",
               "markers",
               "markers",
               "markers",
               "markers",
               "markers",
               "markers",
               "markers",
               "markers",
               "markers",
               "markers",
               "markers",
               "markers",
               "markers",
               "markers",
               "markers",
               "markers",
               "markers",
               "markers",
               "markers",
               "markers",
               "markers"
              ]
             }
            ],
            "label": "Labels: Off",
            "method": "update"
           }
          ],
          "direction": "right",
          "type": "buttons",
          "x": 0.78,
          "xanchor": "center",
          "y": 1.12,
          "yanchor": "top"
         },
         {
          "buttons": [
           {
            "args": [
             {
              "visible": [
               true,
               true,
               true,
               true,
               true,
               true,
               true,
               true,
               true,
               true,
               true,
               true,
               true,
               true,
               true,
               true,
               true,
               true,
               true,
               true,
               true,
               true,
               true,
               true,
               true,
               true,
               true,
               true,
               true,
               true,
               true,
               true,
               true
              ]
             }
            ],
            "label": "Show All",
            "method": "update"
           },
           {
            "args": [
             {
              "visible": [
               false,
               false,
               false,
               false,
               false,
               false,
               false,
               false,
               false,
               false,
               false,
               false,
               false,
               false,
               false,
               false,
               false,
               false,
               false,
               false,
               false,
               false,
               false,
               false,
               false,
               false,
               false,
               false,
               false,
               false,
               false,
               false,
               false
              ]
             }
            ],
            "label": "Hide All",
            "method": "update"
           }
          ],
          "direction": "right",
          "type": "buttons",
          "x": 0.93,
          "xanchor": "center",
          "y": 1.12,
          "yanchor": "top"
         }
        ],
        "width": 1400
       }
      }
     },
     "metadata": {},
     "output_type": "display_data"
    },
    {
     "data": {
      "application/vnd.plotly.v1+json": {
       "config": {
        "plotlyServerURL": "https://plot.ly"
       },
       "data": [
        {
         "hovertemplate": "<b>%{text}</b><br>PCX=%{x:.3f}<br>PCY=%{y:.3f}<extra></extra>",
         "marker": {
          "opacity": 0.9,
          "size": 8
         },
         "mode": "markers+text",
         "text": [
          "Amsterdam",
          "Ankara",
          "Athens",
          "Belgrade",
          "Berlin",
          "Bern",
          "Bonn",
          "Bruxells",
          "Bucarest",
          "Budapest",
          "Copenhagen",
          "Dublin",
          "Helsinki",
          "Lisbon",
          "London",
          "Luxemborg",
          "Marbella",
          "Moscow",
          "Oslo",
          "Paris",
          "Prague",
          "Rome",
          "Sofia",
          "Stockholm",
          "Vienna",
          "Warsaw",
          "Bratislava",
          "St. Petersberg",
          "Ljubljana",
          "Madrid",
          "Milan",
          "Edinburgh",
          "Skopje"
         ],
         "textfont": {
          "size": 10
         },
         "textposition": "top center",
         "type": "scatter",
         "x": {
          "bdata": "e8BANju++b9tjuHVH93qPyp8xZoSDxlAxMw2cUM5/T+KLx09M5zyv0INSifMOfW/xXXUrXhL47+Ihx0Qnn7Tv7BI1QVr1OA/bEdfybA76z/DTQhWMAoAwBnFfLtxxAHAvsQf+UbCFsDm5ePBFtUVQCRnJhtjfwNAB5YspTT187+x9NaQ2MgiQKogTfQndRbAMN8j2JURDsBAOtQz7aDzP+jiSC2Rwu2/LngFl7M1EEA1fzg/2e7OP2qZIqVTVQ3Azo+2Uaz08r/CfsBYanD2vx/6B45v79W/jo3zb7jy/r+4JRMnKnW7v8XrOQlcXgpAF0TVxKMH+z+VaHSOYk4RwOueXlxyXfU/",
          "dtype": "f8"
         },
         "y": {
          "bdata": "WEjniR9X+b8SfNoNdaXoP9hGmffnSu4/Hn3E9Dr44z9Zkrd1MtrTP74cPAeuGuW/A7ZIRwhI6L/QY8XiJw3vv6siRRE3Vfo/qJV+d9T69D9ssaZEVlXgv1plrfFjuwTAKuhmPKna6j+jF8vjnaHpv8vC9PkH1u2/+DF0ugCX5b/8yqu5TKbWv9pg1LvvhwNAwnVM3Lj74r/ln03n+VfUv225qVq20ec/Rqv1iaYqtj//Kq/BReHhP2fYpaI2c7Q/M4Fi7TMh8r9F3DwNsM3uP29vk2uFduE/EeKmt24sBsBPt/okhrvTP6DhRzkhMsc/ZXtPqSAV4T8UVVe2EwThP98SprAFsPM/",
          "dtype": "f8"
         }
        }
       ],
       "layout": {
        "annotations": [
         {
          "font": {
           "size": 11
          },
          "showarrow": false,
          "text": "X PC",
          "x": 0.34,
          "xanchor": "center",
          "xref": "paper",
          "y": 1.13,
          "yanchor": "top",
          "yref": "paper"
         },
         {
          "font": {
           "size": 11
          },
          "showarrow": false,
          "text": "Y PC",
          "x": 0.58,
          "xanchor": "center",
          "xref": "paper",
          "y": 1.13,
          "yanchor": "top",
          "yref": "paper"
         }
        ],
        "autosize": false,
        "height": 1000,
        "hovermode": "closest",
        "margin": {
         "b": 60,
         "l": 60,
         "r": 20,
         "t": 105
        },
        "shapes": [
         {
          "type": "line",
          "x0": 0,
          "x1": 1,
          "xref": "x domain",
          "y0": 0,
          "y1": 0,
          "yref": "y"
         },
         {
          "type": "line",
          "x0": 0,
          "x1": 0,
          "xref": "x",
          "y0": 0,
          "y1": 1,
          "yref": "y domain"
         }
        ],
        "template": {
         "data": {
          "bar": [
           {
            "error_x": {
             "color": "#2a3f5f"
            },
            "error_y": {
             "color": "#2a3f5f"
            },
            "marker": {
             "line": {
              "color": "#E5ECF6",
              "width": 0.5
             },
             "pattern": {
              "fillmode": "overlay",
              "size": 10,
              "solidity": 0.2
             }
            },
            "type": "bar"
           }
          ],
          "barpolar": [
           {
            "marker": {
             "line": {
              "color": "#E5ECF6",
              "width": 0.5
             },
             "pattern": {
              "fillmode": "overlay",
              "size": 10,
              "solidity": 0.2
             }
            },
            "type": "barpolar"
           }
          ],
          "carpet": [
           {
            "aaxis": {
             "endlinecolor": "#2a3f5f",
             "gridcolor": "white",
             "linecolor": "white",
             "minorgridcolor": "white",
             "startlinecolor": "#2a3f5f"
            },
            "baxis": {
             "endlinecolor": "#2a3f5f",
             "gridcolor": "white",
             "linecolor": "white",
             "minorgridcolor": "white",
             "startlinecolor": "#2a3f5f"
            },
            "type": "carpet"
           }
          ],
          "choropleth": [
           {
            "colorbar": {
             "outlinewidth": 0,
             "ticks": ""
            },
            "type": "choropleth"
           }
          ],
          "contour": [
           {
            "colorbar": {
             "outlinewidth": 0,
             "ticks": ""
            },
            "colorscale": [
             [
              0,
              "#0d0887"
             ],
             [
              0.1111111111111111,
              "#46039f"
             ],
             [
              0.2222222222222222,
              "#7201a8"
             ],
             [
              0.3333333333333333,
              "#9c179e"
             ],
             [
              0.4444444444444444,
              "#bd3786"
             ],
             [
              0.5555555555555556,
              "#d8576b"
             ],
             [
              0.6666666666666666,
              "#ed7953"
             ],
             [
              0.7777777777777778,
              "#fb9f3a"
             ],
             [
              0.8888888888888888,
              "#fdca26"
             ],
             [
              1,
              "#f0f921"
             ]
            ],
            "type": "contour"
           }
          ],
          "contourcarpet": [
           {
            "colorbar": {
             "outlinewidth": 0,
             "ticks": ""
            },
            "type": "contourcarpet"
           }
          ],
          "heatmap": [
           {
            "colorbar": {
             "outlinewidth": 0,
             "ticks": ""
            },
            "colorscale": [
             [
              0,
              "#0d0887"
             ],
             [
              0.1111111111111111,
              "#46039f"
             ],
             [
              0.2222222222222222,
              "#7201a8"
             ],
             [
              0.3333333333333333,
              "#9c179e"
             ],
             [
              0.4444444444444444,
              "#bd3786"
             ],
             [
              0.5555555555555556,
              "#d8576b"
             ],
             [
              0.6666666666666666,
              "#ed7953"
             ],
             [
              0.7777777777777778,
              "#fb9f3a"
             ],
             [
              0.8888888888888888,
              "#fdca26"
             ],
             [
              1,
              "#f0f921"
             ]
            ],
            "type": "heatmap"
           }
          ],
          "histogram": [
           {
            "marker": {
             "pattern": {
              "fillmode": "overlay",
              "size": 10,
              "solidity": 0.2
             }
            },
            "type": "histogram"
           }
          ],
          "histogram2d": [
           {
            "colorbar": {
             "outlinewidth": 0,
             "ticks": ""
            },
            "colorscale": [
             [
              0,
              "#0d0887"
             ],
             [
              0.1111111111111111,
              "#46039f"
             ],
             [
              0.2222222222222222,
              "#7201a8"
             ],
             [
              0.3333333333333333,
              "#9c179e"
             ],
             [
              0.4444444444444444,
              "#bd3786"
             ],
             [
              0.5555555555555556,
              "#d8576b"
             ],
             [
              0.6666666666666666,
              "#ed7953"
             ],
             [
              0.7777777777777778,
              "#fb9f3a"
             ],
             [
              0.8888888888888888,
              "#fdca26"
             ],
             [
              1,
              "#f0f921"
             ]
            ],
            "type": "histogram2d"
           }
          ],
          "histogram2dcontour": [
           {
            "colorbar": {
             "outlinewidth": 0,
             "ticks": ""
            },
            "colorscale": [
             [
              0,
              "#0d0887"
             ],
             [
              0.1111111111111111,
              "#46039f"
             ],
             [
              0.2222222222222222,
              "#7201a8"
             ],
             [
              0.3333333333333333,
              "#9c179e"
             ],
             [
              0.4444444444444444,
              "#bd3786"
             ],
             [
              0.5555555555555556,
              "#d8576b"
             ],
             [
              0.6666666666666666,
              "#ed7953"
             ],
             [
              0.7777777777777778,
              "#fb9f3a"
             ],
             [
              0.8888888888888888,
              "#fdca26"
             ],
             [
              1,
              "#f0f921"
             ]
            ],
            "type": "histogram2dcontour"
           }
          ],
          "mesh3d": [
           {
            "colorbar": {
             "outlinewidth": 0,
             "ticks": ""
            },
            "type": "mesh3d"
           }
          ],
          "parcoords": [
           {
            "line": {
             "colorbar": {
              "outlinewidth": 0,
              "ticks": ""
             }
            },
            "type": "parcoords"
           }
          ],
          "pie": [
           {
            "automargin": true,
            "type": "pie"
           }
          ],
          "scatter": [
           {
            "fillpattern": {
             "fillmode": "overlay",
             "size": 10,
             "solidity": 0.2
            },
            "type": "scatter"
           }
          ],
          "scatter3d": [
           {
            "line": {
             "colorbar": {
              "outlinewidth": 0,
              "ticks": ""
             }
            },
            "marker": {
             "colorbar": {
              "outlinewidth": 0,
              "ticks": ""
             }
            },
            "type": "scatter3d"
           }
          ],
          "scattercarpet": [
           {
            "marker": {
             "colorbar": {
              "outlinewidth": 0,
              "ticks": ""
             }
            },
            "type": "scattercarpet"
           }
          ],
          "scattergeo": [
           {
            "marker": {
             "colorbar": {
              "outlinewidth": 0,
              "ticks": ""
             }
            },
            "type": "scattergeo"
           }
          ],
          "scattergl": [
           {
            "marker": {
             "colorbar": {
              "outlinewidth": 0,
              "ticks": ""
             }
            },
            "type": "scattergl"
           }
          ],
          "scattermap": [
           {
            "marker": {
             "colorbar": {
              "outlinewidth": 0,
              "ticks": ""
             }
            },
            "type": "scattermap"
           }
          ],
          "scattermapbox": [
           {
            "marker": {
             "colorbar": {
              "outlinewidth": 0,
              "ticks": ""
             }
            },
            "type": "scattermapbox"
           }
          ],
          "scatterpolar": [
           {
            "marker": {
             "colorbar": {
              "outlinewidth": 0,
              "ticks": ""
             }
            },
            "type": "scatterpolar"
           }
          ],
          "scatterpolargl": [
           {
            "marker": {
             "colorbar": {
              "outlinewidth": 0,
              "ticks": ""
             }
            },
            "type": "scatterpolargl"
           }
          ],
          "scatterternary": [
           {
            "marker": {
             "colorbar": {
              "outlinewidth": 0,
              "ticks": ""
             }
            },
            "type": "scatterternary"
           }
          ],
          "surface": [
           {
            "colorbar": {
             "outlinewidth": 0,
             "ticks": ""
            },
            "colorscale": [
             [
              0,
              "#0d0887"
             ],
             [
              0.1111111111111111,
              "#46039f"
             ],
             [
              0.2222222222222222,
              "#7201a8"
             ],
             [
              0.3333333333333333,
              "#9c179e"
             ],
             [
              0.4444444444444444,
              "#bd3786"
             ],
             [
              0.5555555555555556,
              "#d8576b"
             ],
             [
              0.6666666666666666,
              "#ed7953"
             ],
             [
              0.7777777777777778,
              "#fb9f3a"
             ],
             [
              0.8888888888888888,
              "#fdca26"
             ],
             [
              1,
              "#f0f921"
             ]
            ],
            "type": "surface"
           }
          ],
          "table": [
           {
            "cells": {
             "fill": {
              "color": "#EBF0F8"
             },
             "line": {
              "color": "white"
             }
            },
            "header": {
             "fill": {
              "color": "#C8D4E3"
             },
             "line": {
              "color": "white"
             }
            },
            "type": "table"
           }
          ]
         },
         "layout": {
          "annotationdefaults": {
           "arrowcolor": "#2a3f5f",
           "arrowhead": 0,
           "arrowwidth": 1
          },
          "autotypenumbers": "strict",
          "coloraxis": {
           "colorbar": {
            "outlinewidth": 0,
            "ticks": ""
           }
          },
          "colorscale": {
           "diverging": [
            [
             0,
             "#8e0152"
            ],
            [
             0.1,
             "#c51b7d"
            ],
            [
             0.2,
             "#de77ae"
            ],
            [
             0.3,
             "#f1b6da"
            ],
            [
             0.4,
             "#fde0ef"
            ],
            [
             0.5,
             "#f7f7f7"
            ],
            [
             0.6,
             "#e6f5d0"
            ],
            [
             0.7,
             "#b8e186"
            ],
            [
             0.8,
             "#7fbc41"
            ],
            [
             0.9,
             "#4d9221"
            ],
            [
             1,
             "#276419"
            ]
           ],
           "sequential": [
            [
             0,
             "#0d0887"
            ],
            [
             0.1111111111111111,
             "#46039f"
            ],
            [
             0.2222222222222222,
             "#7201a8"
            ],
            [
             0.3333333333333333,
             "#9c179e"
            ],
            [
             0.4444444444444444,
             "#bd3786"
            ],
            [
             0.5555555555555556,
             "#d8576b"
            ],
            [
             0.6666666666666666,
             "#ed7953"
            ],
            [
             0.7777777777777778,
             "#fb9f3a"
            ],
            [
             0.8888888888888888,
             "#fdca26"
            ],
            [
             1,
             "#f0f921"
            ]
           ],
           "sequentialminus": [
            [
             0,
             "#0d0887"
            ],
            [
             0.1111111111111111,
             "#46039f"
            ],
            [
             0.2222222222222222,
             "#7201a8"
            ],
            [
             0.3333333333333333,
             "#9c179e"
            ],
            [
             0.4444444444444444,
             "#bd3786"
            ],
            [
             0.5555555555555556,
             "#d8576b"
            ],
            [
             0.6666666666666666,
             "#ed7953"
            ],
            [
             0.7777777777777778,
             "#fb9f3a"
            ],
            [
             0.8888888888888888,
             "#fdca26"
            ],
            [
             1,
             "#f0f921"
            ]
           ]
          },
          "colorway": [
           "#636efa",
           "#EF553B",
           "#00cc96",
           "#ab63fa",
           "#FFA15A",
           "#19d3f3",
           "#FF6692",
           "#B6E880",
           "#FF97FF",
           "#FECB52"
          ],
          "font": {
           "color": "#2a3f5f"
          },
          "geo": {
           "bgcolor": "white",
           "lakecolor": "white",
           "landcolor": "#E5ECF6",
           "showlakes": true,
           "showland": true,
           "subunitcolor": "white"
          },
          "hoverlabel": {
           "align": "left"
          },
          "hovermode": "closest",
          "mapbox": {
           "style": "light"
          },
          "paper_bgcolor": "white",
          "plot_bgcolor": "#E5ECF6",
          "polar": {
           "angularaxis": {
            "gridcolor": "white",
            "linecolor": "white",
            "ticks": ""
           },
           "bgcolor": "#E5ECF6",
           "radialaxis": {
            "gridcolor": "white",
            "linecolor": "white",
            "ticks": ""
           }
          },
          "scene": {
           "xaxis": {
            "backgroundcolor": "#E5ECF6",
            "gridcolor": "white",
            "gridwidth": 2,
            "linecolor": "white",
            "showbackground": true,
            "ticks": "",
            "zerolinecolor": "white"
           },
           "yaxis": {
            "backgroundcolor": "#E5ECF6",
            "gridcolor": "white",
            "gridwidth": 2,
            "linecolor": "white",
            "showbackground": true,
            "ticks": "",
            "zerolinecolor": "white"
           },
           "zaxis": {
            "backgroundcolor": "#E5ECF6",
            "gridcolor": "white",
            "gridwidth": 2,
            "linecolor": "white",
            "showbackground": true,
            "ticks": "",
            "zerolinecolor": "white"
           }
          },
          "shapedefaults": {
           "line": {
            "color": "#2a3f5f"
           }
          },
          "ternary": {
           "aaxis": {
            "gridcolor": "white",
            "linecolor": "white",
            "ticks": ""
           },
           "baxis": {
            "gridcolor": "white",
            "linecolor": "white",
            "ticks": ""
           },
           "bgcolor": "#E5ECF6",
           "caxis": {
            "gridcolor": "white",
            "linecolor": "white",
            "ticks": ""
           }
          },
          "title": {
           "x": 0.05
          },
          "xaxis": {
           "automargin": true,
           "gridcolor": "white",
           "linecolor": "white",
           "ticks": "",
           "title": {
            "standoff": 15
           },
           "zerolinecolor": "white",
           "zerolinewidth": 2
          },
          "yaxis": {
           "automargin": true,
           "gridcolor": "white",
           "linecolor": "white",
           "ticks": "",
           "title": {
            "standoff": 15
           },
           "zerolinecolor": "white",
           "zerolinewidth": 2
          }
         }
        },
        "title": {
         "text": "PCA — Pick PCs (± direction) • City names shown"
        },
        "updatemenus": [
         {
          "bgcolor": "rgba(255,255,255,0.6)",
          "buttons": [
           {
            "args": [
             {
              "x": [
               [
                -1.608943187642608,
                0.8394927193989595,
                6.264719408324746,
                1.826480333559446,
                -1.1631348025575527,
                -1.3266107115494639,
                -0.6029628176799454,
                -0.30460311483158664,
                0.5259299386909984,
                0.8510364468622647,
                -2.0049750062259775,
                -2.220920052285362,
                -5.6897238660469025,
                5.458094625029366,
                2.437200748547996,
                -1.2473646595111647,
                9.392277265777325,
                -5.6144102260661075,
                -3.7585865865657055,
                1.2267887138911107,
                -0.9300008663622892,
                4.052442893704251,
                0.2416640814490109,
                -3.6666634465392933,
                -1.184734648887559,
                -1.4024451701042584,
                -0.34273899908285616,
                -1.9342579243756037,
                -0.10725654081320257,
                3.2960739823151664,
                1.6893651665489011,
                -4.326547838072789,
                1.3353141411006912
               ]
              ]
             },
             {
              "xaxis.title.text": "PC1 (85.0%)"
             }
            ],
            "label": "PC1 (85%)",
            "method": "update"
           },
           {
            "args": [
             {
              "x": [
               [
                1.608943187642608,
                -0.8394927193989595,
                -6.264719408324746,
                -1.826480333559446,
                1.1631348025575527,
                1.3266107115494639,
                0.6029628176799454,
                0.30460311483158664,
                -0.5259299386909984,
                -0.8510364468622647,
                2.0049750062259775,
                2.220920052285362,
                5.6897238660469025,
                -5.458094625029366,
                -2.437200748547996,
                1.2473646595111647,
                -9.392277265777325,
                5.6144102260661075,
                3.7585865865657055,
                -1.2267887138911107,
                0.9300008663622892,
                -4.052442893704251,
                -0.2416640814490109,
                3.6666634465392933,
                1.184734648887559,
                1.4024451701042584,
                0.34273899908285616,
                1.9342579243756037,
                0.10725654081320257,
                -3.2960739823151664,
                -1.6893651665489011,
                4.326547838072789,
                -1.3353141411006912
               ]
              ]
             },
             {
              "xaxis.title.text": "-PC1 (85.0%)"
             }
            ],
            "label": "-PC1",
            "method": "update"
           },
           {
            "args": [
             {
              "x": [
               [
                -1.5837703120091842,
                0.7701974173140818,
                0.9466438136971318,
                0.6240515499702359,
                0.31019269462402616,
                -0.6595068112664177,
                -0.7587930099741133,
                -0.9703559331056741,
                1.6458044695483902,
                1.311237780356672,
                -0.5104171124308272,
                -2.5914992219010573,
                0.8391920261121915,
                -0.800978608044478,
                -0.9323768503146196,
                -0.674682964484929,
                -0.353900128669167,
                2.4413752245128366,
                -0.5932277968128619,
                -0.31786964023785763,
                0.7443496485482634,
                0.08658829563289058,
                0.5587490828414444,
                0.07988301726240508,
                -1.1331061623423693,
                0.9626083620595486,
                0.5457179165928049,
                -2.7716955516627952,
                0.30832055674806197,
                0.18121733948624996,
                0.5338290507169005,
                0.5317476807928494,
                1.2304741764393652
               ]
              ]
             },
             {
              "xaxis.title.text": "PC2 (10.2%)"
             }
            ],
            "label": "PC2 (10%)",
            "method": "update"
           },
           {
            "args": [
             {
              "x": [
               [
                1.5837703120091842,
                -0.7701974173140818,
                -0.9466438136971318,
                -0.6240515499702359,
                -0.31019269462402616,
                0.6595068112664177,
                0.7587930099741133,
                0.9703559331056741,
                -1.6458044695483902,
                -1.311237780356672,
                0.5104171124308272,
                2.5914992219010573,
                -0.8391920261121915,
                0.800978608044478,
                0.9323768503146196,
                0.674682964484929,
                0.353900128669167,
                -2.4413752245128366,
                0.5932277968128619,
                0.31786964023785763,
                -0.7443496485482634,
                -0.08658829563289058,
                -0.5587490828414444,
                -0.07988301726240508,
                1.1331061623423693,
                -0.9626083620595486,
                -0.5457179165928049,
                2.7716955516627952,
                -0.30832055674806197,
                -0.18121733948624996,
                -0.5338290507169005,
                -0.5317476807928494,
                -1.2304741764393652
               ]
              ]
             },
             {
              "xaxis.title.text": "-PC2 (10.2%)"
             }
            ],
            "label": "-PC2",
            "method": "update"
           }
          ],
          "direction": "down",
          "font": {
           "size": 10
          },
          "pad": {
           "b": 1,
           "l": 1,
           "r": 1,
           "t": 1
          },
          "showactive": true,
          "type": "dropdown",
          "x": 0.34,
          "xanchor": "center",
          "y": 1.08,
          "yanchor": "top"
         },
         {
          "bgcolor": "rgba(255,255,255,0.6)",
          "buttons": [
           {
            "args": [
             {
              "y": [
               [
                -1.608943187642608,
                0.8394927193989595,
                6.264719408324746,
                1.826480333559446,
                -1.1631348025575527,
                -1.3266107115494639,
                -0.6029628176799454,
                -0.30460311483158664,
                0.5259299386909984,
                0.8510364468622647,
                -2.0049750062259775,
                -2.220920052285362,
                -5.6897238660469025,
                5.458094625029366,
                2.437200748547996,
                -1.2473646595111647,
                9.392277265777325,
                -5.6144102260661075,
                -3.7585865865657055,
                1.2267887138911107,
                -0.9300008663622892,
                4.052442893704251,
                0.2416640814490109,
                -3.6666634465392933,
                -1.184734648887559,
                -1.4024451701042584,
                -0.34273899908285616,
                -1.9342579243756037,
                -0.10725654081320257,
                3.2960739823151664,
                1.6893651665489011,
                -4.326547838072789,
                1.3353141411006912
               ]
              ]
             },
             {
              "yaxis.title.text": "PC1 (85.0%)"
             }
            ],
            "label": "PC1 (85%)",
            "method": "update"
           },
           {
            "args": [
             {
              "y": [
               [
                1.608943187642608,
                -0.8394927193989595,
                -6.264719408324746,
                -1.826480333559446,
                1.1631348025575527,
                1.3266107115494639,
                0.6029628176799454,
                0.30460311483158664,
                -0.5259299386909984,
                -0.8510364468622647,
                2.0049750062259775,
                2.220920052285362,
                5.6897238660469025,
                -5.458094625029366,
                -2.437200748547996,
                1.2473646595111647,
                -9.392277265777325,
                5.6144102260661075,
                3.7585865865657055,
                -1.2267887138911107,
                0.9300008663622892,
                -4.052442893704251,
                -0.2416640814490109,
                3.6666634465392933,
                1.184734648887559,
                1.4024451701042584,
                0.34273899908285616,
                1.9342579243756037,
                0.10725654081320257,
                -3.2960739823151664,
                -1.6893651665489011,
                4.326547838072789,
                -1.3353141411006912
               ]
              ]
             },
             {
              "yaxis.title.text": "-PC1 (85.0%)"
             }
            ],
            "label": "-PC1",
            "method": "update"
           },
           {
            "args": [
             {
              "y": [
               [
                -1.5837703120091842,
                0.7701974173140818,
                0.9466438136971318,
                0.6240515499702359,
                0.31019269462402616,
                -0.6595068112664177,
                -0.7587930099741133,
                -0.9703559331056741,
                1.6458044695483902,
                1.311237780356672,
                -0.5104171124308272,
                -2.5914992219010573,
                0.8391920261121915,
                -0.800978608044478,
                -0.9323768503146196,
                -0.674682964484929,
                -0.353900128669167,
                2.4413752245128366,
                -0.5932277968128619,
                -0.31786964023785763,
                0.7443496485482634,
                0.08658829563289058,
                0.5587490828414444,
                0.07988301726240508,
                -1.1331061623423693,
                0.9626083620595486,
                0.5457179165928049,
                -2.7716955516627952,
                0.30832055674806197,
                0.18121733948624996,
                0.5338290507169005,
                0.5317476807928494,
                1.2304741764393652
               ]
              ]
             },
             {
              "yaxis.title.text": "PC2 (10.2%)"
             }
            ],
            "label": "PC2 (10%)",
            "method": "update"
           },
           {
            "args": [
             {
              "y": [
               [
                1.5837703120091842,
                -0.7701974173140818,
                -0.9466438136971318,
                -0.6240515499702359,
                -0.31019269462402616,
                0.6595068112664177,
                0.7587930099741133,
                0.9703559331056741,
                -1.6458044695483902,
                -1.311237780356672,
                0.5104171124308272,
                2.5914992219010573,
                -0.8391920261121915,
                0.800978608044478,
                0.9323768503146196,
                0.674682964484929,
                0.353900128669167,
                -2.4413752245128366,
                0.5932277968128619,
                0.31786964023785763,
                -0.7443496485482634,
                -0.08658829563289058,
                -0.5587490828414444,
                -0.07988301726240508,
                1.1331061623423693,
                -0.9626083620595486,
                -0.5457179165928049,
                2.7716955516627952,
                -0.30832055674806197,
                -0.18121733948624996,
                -0.5338290507169005,
                -0.5317476807928494,
                -1.2304741764393652
               ]
              ]
             },
             {
              "yaxis.title.text": "-PC2 (10.2%)"
             }
            ],
            "label": "-PC2",
            "method": "update"
           }
          ],
          "direction": "down",
          "font": {
           "size": 10
          },
          "pad": {
           "b": 1,
           "l": 1,
           "r": 1,
           "t": 1
          },
          "showactive": true,
          "type": "dropdown",
          "x": 0.58,
          "xanchor": "center",
          "y": 1.08,
          "yanchor": "top"
         }
        ],
        "width": 1000,
        "xaxis": {
         "title": {
          "text": "PC1 (85.0%)"
         }
        },
        "yaxis": {
         "title": {
          "text": "PC2 (10.2%)"
         }
        }
       }
      }
     },
     "metadata": {},
     "output_type": "display_data"
    },
    {
     "data": {
      "application/vnd.plotly.v1+json": {
       "config": {
        "plotlyServerURL": "https://plot.ly"
       },
       "data": [
        {
         "name": "Explained variance (%)",
         "type": "bar",
         "x": {
          "bdata": "AQIDBAUGBwgJCgsM",
          "dtype": "i1"
         },
         "y": {
          "bdata": "jVXkDUFBVUD9yjWtTV4kQBAVBE/yQgFAJY7fqT0h7D8zs6rBtuziPy+YLh3jvto/mEtdMTLxzz/6K45M54vCP0SSkr3FjcA/gDmyOed0vT9UWg23DSSyP84p83SJuaQ/",
          "dtype": "f8"
         }
        }
       ],
       "layout": {
        "annotations": [
         {
          "showarrow": false,
          "text": "k = 2",
          "x": 2.5,
          "xanchor": "center",
          "xref": "x",
          "y": 1,
          "yanchor": "bottom",
          "yref": "y domain"
         }
        ],
        "autosize": false,
        "height": 700,
        "hovermode": "x unified",
        "margin": {
         "b": 60,
         "l": 60,
         "r": 20,
         "t": 80
        },
        "shapes": [
         {
          "line": {
           "dash": "dash"
          },
          "type": "line",
          "x0": 2.5,
          "x1": 2.5,
          "xref": "x",
          "y0": 0,
          "y1": 1,
          "yref": "y domain"
         }
        ],
        "showlegend": false,
        "template": {
         "data": {
          "bar": [
           {
            "error_x": {
             "color": "#2a3f5f"
            },
            "error_y": {
             "color": "#2a3f5f"
            },
            "marker": {
             "line": {
              "color": "#E5ECF6",
              "width": 0.5
             },
             "pattern": {
              "fillmode": "overlay",
              "size": 10,
              "solidity": 0.2
             }
            },
            "type": "bar"
           }
          ],
          "barpolar": [
           {
            "marker": {
             "line": {
              "color": "#E5ECF6",
              "width": 0.5
             },
             "pattern": {
              "fillmode": "overlay",
              "size": 10,
              "solidity": 0.2
             }
            },
            "type": "barpolar"
           }
          ],
          "carpet": [
           {
            "aaxis": {
             "endlinecolor": "#2a3f5f",
             "gridcolor": "white",
             "linecolor": "white",
             "minorgridcolor": "white",
             "startlinecolor": "#2a3f5f"
            },
            "baxis": {
             "endlinecolor": "#2a3f5f",
             "gridcolor": "white",
             "linecolor": "white",
             "minorgridcolor": "white",
             "startlinecolor": "#2a3f5f"
            },
            "type": "carpet"
           }
          ],
          "choropleth": [
           {
            "colorbar": {
             "outlinewidth": 0,
             "ticks": ""
            },
            "type": "choropleth"
           }
          ],
          "contour": [
           {
            "colorbar": {
             "outlinewidth": 0,
             "ticks": ""
            },
            "colorscale": [
             [
              0,
              "#0d0887"
             ],
             [
              0.1111111111111111,
              "#46039f"
             ],
             [
              0.2222222222222222,
              "#7201a8"
             ],
             [
              0.3333333333333333,
              "#9c179e"
             ],
             [
              0.4444444444444444,
              "#bd3786"
             ],
             [
              0.5555555555555556,
              "#d8576b"
             ],
             [
              0.6666666666666666,
              "#ed7953"
             ],
             [
              0.7777777777777778,
              "#fb9f3a"
             ],
             [
              0.8888888888888888,
              "#fdca26"
             ],
             [
              1,
              "#f0f921"
             ]
            ],
            "type": "contour"
           }
          ],
          "contourcarpet": [
           {
            "colorbar": {
             "outlinewidth": 0,
             "ticks": ""
            },
            "type": "contourcarpet"
           }
          ],
          "heatmap": [
           {
            "colorbar": {
             "outlinewidth": 0,
             "ticks": ""
            },
            "colorscale": [
             [
              0,
              "#0d0887"
             ],
             [
              0.1111111111111111,
              "#46039f"
             ],
             [
              0.2222222222222222,
              "#7201a8"
             ],
             [
              0.3333333333333333,
              "#9c179e"
             ],
             [
              0.4444444444444444,
              "#bd3786"
             ],
             [
              0.5555555555555556,
              "#d8576b"
             ],
             [
              0.6666666666666666,
              "#ed7953"
             ],
             [
              0.7777777777777778,
              "#fb9f3a"
             ],
             [
              0.8888888888888888,
              "#fdca26"
             ],
             [
              1,
              "#f0f921"
             ]
            ],
            "type": "heatmap"
           }
          ],
          "histogram": [
           {
            "marker": {
             "pattern": {
              "fillmode": "overlay",
              "size": 10,
              "solidity": 0.2
             }
            },
            "type": "histogram"
           }
          ],
          "histogram2d": [
           {
            "colorbar": {
             "outlinewidth": 0,
             "ticks": ""
            },
            "colorscale": [
             [
              0,
              "#0d0887"
             ],
             [
              0.1111111111111111,
              "#46039f"
             ],
             [
              0.2222222222222222,
              "#7201a8"
             ],
             [
              0.3333333333333333,
              "#9c179e"
             ],
             [
              0.4444444444444444,
              "#bd3786"
             ],
             [
              0.5555555555555556,
              "#d8576b"
             ],
             [
              0.6666666666666666,
              "#ed7953"
             ],
             [
              0.7777777777777778,
              "#fb9f3a"
             ],
             [
              0.8888888888888888,
              "#fdca26"
             ],
             [
              1,
              "#f0f921"
             ]
            ],
            "type": "histogram2d"
           }
          ],
          "histogram2dcontour": [
           {
            "colorbar": {
             "outlinewidth": 0,
             "ticks": ""
            },
            "colorscale": [
             [
              0,
              "#0d0887"
             ],
             [
              0.1111111111111111,
              "#46039f"
             ],
             [
              0.2222222222222222,
              "#7201a8"
             ],
             [
              0.3333333333333333,
              "#9c179e"
             ],
             [
              0.4444444444444444,
              "#bd3786"
             ],
             [
              0.5555555555555556,
              "#d8576b"
             ],
             [
              0.6666666666666666,
              "#ed7953"
             ],
             [
              0.7777777777777778,
              "#fb9f3a"
             ],
             [
              0.8888888888888888,
              "#fdca26"
             ],
             [
              1,
              "#f0f921"
             ]
            ],
            "type": "histogram2dcontour"
           }
          ],
          "mesh3d": [
           {
            "colorbar": {
             "outlinewidth": 0,
             "ticks": ""
            },
            "type": "mesh3d"
           }
          ],
          "parcoords": [
           {
            "line": {
             "colorbar": {
              "outlinewidth": 0,
              "ticks": ""
             }
            },
            "type": "parcoords"
           }
          ],
          "pie": [
           {
            "automargin": true,
            "type": "pie"
           }
          ],
          "scatter": [
           {
            "fillpattern": {
             "fillmode": "overlay",
             "size": 10,
             "solidity": 0.2
            },
            "type": "scatter"
           }
          ],
          "scatter3d": [
           {
            "line": {
             "colorbar": {
              "outlinewidth": 0,
              "ticks": ""
             }
            },
            "marker": {
             "colorbar": {
              "outlinewidth": 0,
              "ticks": ""
             }
            },
            "type": "scatter3d"
           }
          ],
          "scattercarpet": [
           {
            "marker": {
             "colorbar": {
              "outlinewidth": 0,
              "ticks": ""
             }
            },
            "type": "scattercarpet"
           }
          ],
          "scattergeo": [
           {
            "marker": {
             "colorbar": {
              "outlinewidth": 0,
              "ticks": ""
             }
            },
            "type": "scattergeo"
           }
          ],
          "scattergl": [
           {
            "marker": {
             "colorbar": {
              "outlinewidth": 0,
              "ticks": ""
             }
            },
            "type": "scattergl"
           }
          ],
          "scattermap": [
           {
            "marker": {
             "colorbar": {
              "outlinewidth": 0,
              "ticks": ""
             }
            },
            "type": "scattermap"
           }
          ],
          "scattermapbox": [
           {
            "marker": {
             "colorbar": {
              "outlinewidth": 0,
              "ticks": ""
             }
            },
            "type": "scattermapbox"
           }
          ],
          "scatterpolar": [
           {
            "marker": {
             "colorbar": {
              "outlinewidth": 0,
              "ticks": ""
             }
            },
            "type": "scatterpolar"
           }
          ],
          "scatterpolargl": [
           {
            "marker": {
             "colorbar": {
              "outlinewidth": 0,
              "ticks": ""
             }
            },
            "type": "scatterpolargl"
           }
          ],
          "scatterternary": [
           {
            "marker": {
             "colorbar": {
              "outlinewidth": 0,
              "ticks": ""
             }
            },
            "type": "scatterternary"
           }
          ],
          "surface": [
           {
            "colorbar": {
             "outlinewidth": 0,
             "ticks": ""
            },
            "colorscale": [
             [
              0,
              "#0d0887"
             ],
             [
              0.1111111111111111,
              "#46039f"
             ],
             [
              0.2222222222222222,
              "#7201a8"
             ],
             [
              0.3333333333333333,
              "#9c179e"
             ],
             [
              0.4444444444444444,
              "#bd3786"
             ],
             [
              0.5555555555555556,
              "#d8576b"
             ],
             [
              0.6666666666666666,
              "#ed7953"
             ],
             [
              0.7777777777777778,
              "#fb9f3a"
             ],
             [
              0.8888888888888888,
              "#fdca26"
             ],
             [
              1,
              "#f0f921"
             ]
            ],
            "type": "surface"
           }
          ],
          "table": [
           {
            "cells": {
             "fill": {
              "color": "#EBF0F8"
             },
             "line": {
              "color": "white"
             }
            },
            "header": {
             "fill": {
              "color": "#C8D4E3"
             },
             "line": {
              "color": "white"
             }
            },
            "type": "table"
           }
          ]
         },
         "layout": {
          "annotationdefaults": {
           "arrowcolor": "#2a3f5f",
           "arrowhead": 0,
           "arrowwidth": 1
          },
          "autotypenumbers": "strict",
          "coloraxis": {
           "colorbar": {
            "outlinewidth": 0,
            "ticks": ""
           }
          },
          "colorscale": {
           "diverging": [
            [
             0,
             "#8e0152"
            ],
            [
             0.1,
             "#c51b7d"
            ],
            [
             0.2,
             "#de77ae"
            ],
            [
             0.3,
             "#f1b6da"
            ],
            [
             0.4,
             "#fde0ef"
            ],
            [
             0.5,
             "#f7f7f7"
            ],
            [
             0.6,
             "#e6f5d0"
            ],
            [
             0.7,
             "#b8e186"
            ],
            [
             0.8,
             "#7fbc41"
            ],
            [
             0.9,
             "#4d9221"
            ],
            [
             1,
             "#276419"
            ]
           ],
           "sequential": [
            [
             0,
             "#0d0887"
            ],
            [
             0.1111111111111111,
             "#46039f"
            ],
            [
             0.2222222222222222,
             "#7201a8"
            ],
            [
             0.3333333333333333,
             "#9c179e"
            ],
            [
             0.4444444444444444,
             "#bd3786"
            ],
            [
             0.5555555555555556,
             "#d8576b"
            ],
            [
             0.6666666666666666,
             "#ed7953"
            ],
            [
             0.7777777777777778,
             "#fb9f3a"
            ],
            [
             0.8888888888888888,
             "#fdca26"
            ],
            [
             1,
             "#f0f921"
            ]
           ],
           "sequentialminus": [
            [
             0,
             "#0d0887"
            ],
            [
             0.1111111111111111,
             "#46039f"
            ],
            [
             0.2222222222222222,
             "#7201a8"
            ],
            [
             0.3333333333333333,
             "#9c179e"
            ],
            [
             0.4444444444444444,
             "#bd3786"
            ],
            [
             0.5555555555555556,
             "#d8576b"
            ],
            [
             0.6666666666666666,
             "#ed7953"
            ],
            [
             0.7777777777777778,
             "#fb9f3a"
            ],
            [
             0.8888888888888888,
             "#fdca26"
            ],
            [
             1,
             "#f0f921"
            ]
           ]
          },
          "colorway": [
           "#636efa",
           "#EF553B",
           "#00cc96",
           "#ab63fa",
           "#FFA15A",
           "#19d3f3",
           "#FF6692",
           "#B6E880",
           "#FF97FF",
           "#FECB52"
          ],
          "font": {
           "color": "#2a3f5f"
          },
          "geo": {
           "bgcolor": "white",
           "lakecolor": "white",
           "landcolor": "#E5ECF6",
           "showlakes": true,
           "showland": true,
           "subunitcolor": "white"
          },
          "hoverlabel": {
           "align": "left"
          },
          "hovermode": "closest",
          "mapbox": {
           "style": "light"
          },
          "paper_bgcolor": "white",
          "plot_bgcolor": "#E5ECF6",
          "polar": {
           "angularaxis": {
            "gridcolor": "white",
            "linecolor": "white",
            "ticks": ""
           },
           "bgcolor": "#E5ECF6",
           "radialaxis": {
            "gridcolor": "white",
            "linecolor": "white",
            "ticks": ""
           }
          },
          "scene": {
           "xaxis": {
            "backgroundcolor": "#E5ECF6",
            "gridcolor": "white",
            "gridwidth": 2,
            "linecolor": "white",
            "showbackground": true,
            "ticks": "",
            "zerolinecolor": "white"
           },
           "yaxis": {
            "backgroundcolor": "#E5ECF6",
            "gridcolor": "white",
            "gridwidth": 2,
            "linecolor": "white",
            "showbackground": true,
            "ticks": "",
            "zerolinecolor": "white"
           },
           "zaxis": {
            "backgroundcolor": "#E5ECF6",
            "gridcolor": "white",
            "gridwidth": 2,
            "linecolor": "white",
            "showbackground": true,
            "ticks": "",
            "zerolinecolor": "white"
           }
          },
          "shapedefaults": {
           "line": {
            "color": "#2a3f5f"
           }
          },
          "ternary": {
           "aaxis": {
            "gridcolor": "white",
            "linecolor": "white",
            "ticks": ""
           },
           "baxis": {
            "gridcolor": "white",
            "linecolor": "white",
            "ticks": ""
           },
           "bgcolor": "#E5ECF6",
           "caxis": {
            "gridcolor": "white",
            "linecolor": "white",
            "ticks": ""
           }
          },
          "title": {
           "x": 0.05
          },
          "xaxis": {
           "automargin": true,
           "gridcolor": "white",
           "linecolor": "white",
           "ticks": "",
           "title": {
            "standoff": 15
           },
           "zerolinecolor": "white",
           "zerolinewidth": 2
          },
          "yaxis": {
           "automargin": true,
           "gridcolor": "white",
           "linecolor": "white",
           "ticks": "",
           "title": {
            "standoff": 15
           },
           "zerolinecolor": "white",
           "zerolinewidth": 2
          }
         }
        },
        "title": {
         "text": "PCA Scree Plot (per-component explained variance)"
        },
        "width": 900,
        "xaxis": {
         "title": {
          "text": "Principal component"
         }
        },
        "yaxis": {
         "rangemode": "tozero",
         "title": {
          "text": "Explained variance (%)"
         }
        }
       }
      }
     },
     "metadata": {},
     "output_type": "display_data"
    },
    {
     "data": {
      "application/vnd.plotly.v1+json": {
       "config": {
        "plotlyServerURL": "https://plot.ly"
       },
       "data": [
        {
         "mode": "lines+markers",
         "name": "Cumulative EVR (%)",
         "type": "scatter",
         "x": {
          "bdata": "AQIDBAUGBwgJCgsM",
          "dtype": "i1"
         },
         "y": {
          "bdata": "jVXkDUFBVUDtDovDCs1XQJYvA1YiV1hAs+5W0WSPWEAZRNo+PrVYQLFy9yH9z1hAVyEQu/XfWEBtaLauO+lYQLYxlZGC8VhARJ5jy9/4WECaYdHOaP1YQAAAAAAAAFlA",
          "dtype": "f8"
         }
        }
       ],
       "layout": {
        "annotations": [
         {
          "showarrow": false,
          "text": "95% threshold",
          "x": 1,
          "xanchor": "right",
          "xref": "x domain",
          "y": 95,
          "yanchor": "top",
          "yref": "y"
         },
         {
          "showarrow": false,
          "text": "k = 2",
          "x": 2.5,
          "xanchor": "center",
          "xref": "x",
          "y": 1,
          "yanchor": "bottom",
          "yref": "y domain"
         }
        ],
        "autosize": false,
        "height": 700,
        "hovermode": "x unified",
        "margin": {
         "b": 60,
         "l": 60,
         "r": 20,
         "t": 80
        },
        "shapes": [
         {
          "line": {
           "dash": "dash"
          },
          "type": "line",
          "x0": 0,
          "x1": 1,
          "xref": "x domain",
          "y0": 95,
          "y1": 95,
          "yref": "y"
         },
         {
          "line": {
           "dash": "dash"
          },
          "type": "line",
          "x0": 2.5,
          "x1": 2.5,
          "xref": "x",
          "y0": 0,
          "y1": 1,
          "yref": "y domain"
         }
        ],
        "showlegend": false,
        "template": {
         "data": {
          "bar": [
           {
            "error_x": {
             "color": "#2a3f5f"
            },
            "error_y": {
             "color": "#2a3f5f"
            },
            "marker": {
             "line": {
              "color": "#E5ECF6",
              "width": 0.5
             },
             "pattern": {
              "fillmode": "overlay",
              "size": 10,
              "solidity": 0.2
             }
            },
            "type": "bar"
           }
          ],
          "barpolar": [
           {
            "marker": {
             "line": {
              "color": "#E5ECF6",
              "width": 0.5
             },
             "pattern": {
              "fillmode": "overlay",
              "size": 10,
              "solidity": 0.2
             }
            },
            "type": "barpolar"
           }
          ],
          "carpet": [
           {
            "aaxis": {
             "endlinecolor": "#2a3f5f",
             "gridcolor": "white",
             "linecolor": "white",
             "minorgridcolor": "white",
             "startlinecolor": "#2a3f5f"
            },
            "baxis": {
             "endlinecolor": "#2a3f5f",
             "gridcolor": "white",
             "linecolor": "white",
             "minorgridcolor": "white",
             "startlinecolor": "#2a3f5f"
            },
            "type": "carpet"
           }
          ],
          "choropleth": [
           {
            "colorbar": {
             "outlinewidth": 0,
             "ticks": ""
            },
            "type": "choropleth"
           }
          ],
          "contour": [
           {
            "colorbar": {
             "outlinewidth": 0,
             "ticks": ""
            },
            "colorscale": [
             [
              0,
              "#0d0887"
             ],
             [
              0.1111111111111111,
              "#46039f"
             ],
             [
              0.2222222222222222,
              "#7201a8"
             ],
             [
              0.3333333333333333,
              "#9c179e"
             ],
             [
              0.4444444444444444,
              "#bd3786"
             ],
             [
              0.5555555555555556,
              "#d8576b"
             ],
             [
              0.6666666666666666,
              "#ed7953"
             ],
             [
              0.7777777777777778,
              "#fb9f3a"
             ],
             [
              0.8888888888888888,
              "#fdca26"
             ],
             [
              1,
              "#f0f921"
             ]
            ],
            "type": "contour"
           }
          ],
          "contourcarpet": [
           {
            "colorbar": {
             "outlinewidth": 0,
             "ticks": ""
            },
            "type": "contourcarpet"
           }
          ],
          "heatmap": [
           {
            "colorbar": {
             "outlinewidth": 0,
             "ticks": ""
            },
            "colorscale": [
             [
              0,
              "#0d0887"
             ],
             [
              0.1111111111111111,
              "#46039f"
             ],
             [
              0.2222222222222222,
              "#7201a8"
             ],
             [
              0.3333333333333333,
              "#9c179e"
             ],
             [
              0.4444444444444444,
              "#bd3786"
             ],
             [
              0.5555555555555556,
              "#d8576b"
             ],
             [
              0.6666666666666666,
              "#ed7953"
             ],
             [
              0.7777777777777778,
              "#fb9f3a"
             ],
             [
              0.8888888888888888,
              "#fdca26"
             ],
             [
              1,
              "#f0f921"
             ]
            ],
            "type": "heatmap"
           }
          ],
          "histogram": [
           {
            "marker": {
             "pattern": {
              "fillmode": "overlay",
              "size": 10,
              "solidity": 0.2
             }
            },
            "type": "histogram"
           }
          ],
          "histogram2d": [
           {
            "colorbar": {
             "outlinewidth": 0,
             "ticks": ""
            },
            "colorscale": [
             [
              0,
              "#0d0887"
             ],
             [
              0.1111111111111111,
              "#46039f"
             ],
             [
              0.2222222222222222,
              "#7201a8"
             ],
             [
              0.3333333333333333,
              "#9c179e"
             ],
             [
              0.4444444444444444,
              "#bd3786"
             ],
             [
              0.5555555555555556,
              "#d8576b"
             ],
             [
              0.6666666666666666,
              "#ed7953"
             ],
             [
              0.7777777777777778,
              "#fb9f3a"
             ],
             [
              0.8888888888888888,
              "#fdca26"
             ],
             [
              1,
              "#f0f921"
             ]
            ],
            "type": "histogram2d"
           }
          ],
          "histogram2dcontour": [
           {
            "colorbar": {
             "outlinewidth": 0,
             "ticks": ""
            },
            "colorscale": [
             [
              0,
              "#0d0887"
             ],
             [
              0.1111111111111111,
              "#46039f"
             ],
             [
              0.2222222222222222,
              "#7201a8"
             ],
             [
              0.3333333333333333,
              "#9c179e"
             ],
             [
              0.4444444444444444,
              "#bd3786"
             ],
             [
              0.5555555555555556,
              "#d8576b"
             ],
             [
              0.6666666666666666,
              "#ed7953"
             ],
             [
              0.7777777777777778,
              "#fb9f3a"
             ],
             [
              0.8888888888888888,
              "#fdca26"
             ],
             [
              1,
              "#f0f921"
             ]
            ],
            "type": "histogram2dcontour"
           }
          ],
          "mesh3d": [
           {
            "colorbar": {
             "outlinewidth": 0,
             "ticks": ""
            },
            "type": "mesh3d"
           }
          ],
          "parcoords": [
           {
            "line": {
             "colorbar": {
              "outlinewidth": 0,
              "ticks": ""
             }
            },
            "type": "parcoords"
           }
          ],
          "pie": [
           {
            "automargin": true,
            "type": "pie"
           }
          ],
          "scatter": [
           {
            "fillpattern": {
             "fillmode": "overlay",
             "size": 10,
             "solidity": 0.2
            },
            "type": "scatter"
           }
          ],
          "scatter3d": [
           {
            "line": {
             "colorbar": {
              "outlinewidth": 0,
              "ticks": ""
             }
            },
            "marker": {
             "colorbar": {
              "outlinewidth": 0,
              "ticks": ""
             }
            },
            "type": "scatter3d"
           }
          ],
          "scattercarpet": [
           {
            "marker": {
             "colorbar": {
              "outlinewidth": 0,
              "ticks": ""
             }
            },
            "type": "scattercarpet"
           }
          ],
          "scattergeo": [
           {
            "marker": {
             "colorbar": {
              "outlinewidth": 0,
              "ticks": ""
             }
            },
            "type": "scattergeo"
           }
          ],
          "scattergl": [
           {
            "marker": {
             "colorbar": {
              "outlinewidth": 0,
              "ticks": ""
             }
            },
            "type": "scattergl"
           }
          ],
          "scattermap": [
           {
            "marker": {
             "colorbar": {
              "outlinewidth": 0,
              "ticks": ""
             }
            },
            "type": "scattermap"
           }
          ],
          "scattermapbox": [
           {
            "marker": {
             "colorbar": {
              "outlinewidth": 0,
              "ticks": ""
             }
            },
            "type": "scattermapbox"
           }
          ],
          "scatterpolar": [
           {
            "marker": {
             "colorbar": {
              "outlinewidth": 0,
              "ticks": ""
             }
            },
            "type": "scatterpolar"
           }
          ],
          "scatterpolargl": [
           {
            "marker": {
             "colorbar": {
              "outlinewidth": 0,
              "ticks": ""
             }
            },
            "type": "scatterpolargl"
           }
          ],
          "scatterternary": [
           {
            "marker": {
             "colorbar": {
              "outlinewidth": 0,
              "ticks": ""
             }
            },
            "type": "scatterternary"
           }
          ],
          "surface": [
           {
            "colorbar": {
             "outlinewidth": 0,
             "ticks": ""
            },
            "colorscale": [
             [
              0,
              "#0d0887"
             ],
             [
              0.1111111111111111,
              "#46039f"
             ],
             [
              0.2222222222222222,
              "#7201a8"
             ],
             [
              0.3333333333333333,
              "#9c179e"
             ],
             [
              0.4444444444444444,
              "#bd3786"
             ],
             [
              0.5555555555555556,
              "#d8576b"
             ],
             [
              0.6666666666666666,
              "#ed7953"
             ],
             [
              0.7777777777777778,
              "#fb9f3a"
             ],
             [
              0.8888888888888888,
              "#fdca26"
             ],
             [
              1,
              "#f0f921"
             ]
            ],
            "type": "surface"
           }
          ],
          "table": [
           {
            "cells": {
             "fill": {
              "color": "#EBF0F8"
             },
             "line": {
              "color": "white"
             }
            },
            "header": {
             "fill": {
              "color": "#C8D4E3"
             },
             "line": {
              "color": "white"
             }
            },
            "type": "table"
           }
          ]
         },
         "layout": {
          "annotationdefaults": {
           "arrowcolor": "#2a3f5f",
           "arrowhead": 0,
           "arrowwidth": 1
          },
          "autotypenumbers": "strict",
          "coloraxis": {
           "colorbar": {
            "outlinewidth": 0,
            "ticks": ""
           }
          },
          "colorscale": {
           "diverging": [
            [
             0,
             "#8e0152"
            ],
            [
             0.1,
             "#c51b7d"
            ],
            [
             0.2,
             "#de77ae"
            ],
            [
             0.3,
             "#f1b6da"
            ],
            [
             0.4,
             "#fde0ef"
            ],
            [
             0.5,
             "#f7f7f7"
            ],
            [
             0.6,
             "#e6f5d0"
            ],
            [
             0.7,
             "#b8e186"
            ],
            [
             0.8,
             "#7fbc41"
            ],
            [
             0.9,
             "#4d9221"
            ],
            [
             1,
             "#276419"
            ]
           ],
           "sequential": [
            [
             0,
             "#0d0887"
            ],
            [
             0.1111111111111111,
             "#46039f"
            ],
            [
             0.2222222222222222,
             "#7201a8"
            ],
            [
             0.3333333333333333,
             "#9c179e"
            ],
            [
             0.4444444444444444,
             "#bd3786"
            ],
            [
             0.5555555555555556,
             "#d8576b"
            ],
            [
             0.6666666666666666,
             "#ed7953"
            ],
            [
             0.7777777777777778,
             "#fb9f3a"
            ],
            [
             0.8888888888888888,
             "#fdca26"
            ],
            [
             1,
             "#f0f921"
            ]
           ],
           "sequentialminus": [
            [
             0,
             "#0d0887"
            ],
            [
             0.1111111111111111,
             "#46039f"
            ],
            [
             0.2222222222222222,
             "#7201a8"
            ],
            [
             0.3333333333333333,
             "#9c179e"
            ],
            [
             0.4444444444444444,
             "#bd3786"
            ],
            [
             0.5555555555555556,
             "#d8576b"
            ],
            [
             0.6666666666666666,
             "#ed7953"
            ],
            [
             0.7777777777777778,
             "#fb9f3a"
            ],
            [
             0.8888888888888888,
             "#fdca26"
            ],
            [
             1,
             "#f0f921"
            ]
           ]
          },
          "colorway": [
           "#636efa",
           "#EF553B",
           "#00cc96",
           "#ab63fa",
           "#FFA15A",
           "#19d3f3",
           "#FF6692",
           "#B6E880",
           "#FF97FF",
           "#FECB52"
          ],
          "font": {
           "color": "#2a3f5f"
          },
          "geo": {
           "bgcolor": "white",
           "lakecolor": "white",
           "landcolor": "#E5ECF6",
           "showlakes": true,
           "showland": true,
           "subunitcolor": "white"
          },
          "hoverlabel": {
           "align": "left"
          },
          "hovermode": "closest",
          "mapbox": {
           "style": "light"
          },
          "paper_bgcolor": "white",
          "plot_bgcolor": "#E5ECF6",
          "polar": {
           "angularaxis": {
            "gridcolor": "white",
            "linecolor": "white",
            "ticks": ""
           },
           "bgcolor": "#E5ECF6",
           "radialaxis": {
            "gridcolor": "white",
            "linecolor": "white",
            "ticks": ""
           }
          },
          "scene": {
           "xaxis": {
            "backgroundcolor": "#E5ECF6",
            "gridcolor": "white",
            "gridwidth": 2,
            "linecolor": "white",
            "showbackground": true,
            "ticks": "",
            "zerolinecolor": "white"
           },
           "yaxis": {
            "backgroundcolor": "#E5ECF6",
            "gridcolor": "white",
            "gridwidth": 2,
            "linecolor": "white",
            "showbackground": true,
            "ticks": "",
            "zerolinecolor": "white"
           },
           "zaxis": {
            "backgroundcolor": "#E5ECF6",
            "gridcolor": "white",
            "gridwidth": 2,
            "linecolor": "white",
            "showbackground": true,
            "ticks": "",
            "zerolinecolor": "white"
           }
          },
          "shapedefaults": {
           "line": {
            "color": "#2a3f5f"
           }
          },
          "ternary": {
           "aaxis": {
            "gridcolor": "white",
            "linecolor": "white",
            "ticks": ""
           },
           "baxis": {
            "gridcolor": "white",
            "linecolor": "white",
            "ticks": ""
           },
           "bgcolor": "#E5ECF6",
           "caxis": {
            "gridcolor": "white",
            "linecolor": "white",
            "ticks": ""
           }
          },
          "title": {
           "x": 0.05
          },
          "xaxis": {
           "automargin": true,
           "gridcolor": "white",
           "linecolor": "white",
           "ticks": "",
           "title": {
            "standoff": 15
           },
           "zerolinecolor": "white",
           "zerolinewidth": 2
          },
          "yaxis": {
           "automargin": true,
           "gridcolor": "white",
           "linecolor": "white",
           "ticks": "",
           "title": {
            "standoff": 15
           },
           "zerolinecolor": "white",
           "zerolinewidth": 2
          }
         }
        },
        "title": {
         "text": "PCA Cumulative Explained Variance"
        },
        "width": 900,
        "xaxis": {
         "title": {
          "text": "Principal component"
         }
        },
        "yaxis": {
         "rangemode": "tozero",
         "title": {
          "text": "Cumulative explained variance (%)"
         }
        }
       }
      }
     },
     "metadata": {},
     "output_type": "display_data"
    },
    {
     "name": "stdout",
     "output_type": "stream",
     "text": [
      "Outliers (alpha = 1.00%)\n",
      "\n",
      "    City  Q_residual       T2\n",
      "  Vienna    5.603110 1.152162\n",
      "Marbella    0.301382 8.483886\n"
     ]
    },
    {
     "data": {
      "application/vnd.plotly.v1+json": {
       "config": {
        "plotlyServerURL": "https://plot.ly"
       },
       "data": [
        {
         "hovertemplate": "<b>%{text}</b><br>T²=%{x:.3f}<br>Q=%{y:.3f}<extra></extra>",
         "marker": {
          "opacity": 0.9,
          "size": 8
         },
         "mode": "markers+text",
         "text": [
          "Amsterdam",
          "Ankara",
          "Athens",
          "Belgrade",
          "Berlin",
          "Bern",
          "Bonn",
          "Bruxells",
          "Bucarest",
          "Budapest",
          "Copenhagen",
          "Dublin",
          "Helsinki",
          "Lisbon",
          "London",
          "Luxemborg",
          "Marbella",
          "Moscow",
          "Oslo",
          "Paris",
          "Prague",
          "Rome",
          "Sofia",
          "Stockholm",
          "Vienna",
          "Warsaw",
          "Bratislava",
          "St. Petersberg",
          "Ljubljana",
          "Madrid",
          "Milan",
          "Edinburgh",
          "Skopje"
         ],
         "textfont": {
          "size": 10
         },
         "textposition": "top center",
         "type": "scatter",
         "x": {
          "bdata": "ktsD8/vjAUB91O8smjThP4rf/jLnwxFAvBArd+QI5D84uaVrQzvKP5P5Z1Z+ZeA/AVzQaDZz3z/rHpgnpzDoP73l31Z8ZwFA6YHlwOXt9j+swyJebtfiP4UZmd/FMBdALDtjAfgVDUBQmS3RfLkKQEPKanHTEfQ/pNNRBklK4D9+wXnav/cgQMxMtvO65h5A31hiRYbz+T/yrDwXbZLMP4+X4pvWsuA/cdqlgrsR+T+uxEVtmTXQP6PQgOfJhvQ/jm7/9kBv8j8Evvlmf4LtP+K6KAr1rM8/vI5NKhPOGUCN2Zaj6pazP1C15Wg88PA/gUBH5f3U3z9nWzUIPAcAQMIrSE/w7vU/",
          "dtype": "f8"
         },
         "y": {
          "bdata": "wpQcbzJM0T8Bec9wXzbeP3ieKVCedeM/pjLNvjuZ0j//4CgvaI7NP9pka4/vDNc/7AcMi+396z9MNCjaO/3bP0l1hAQXFtg/fpfofcut0j+cpscEP/DKPzO/lKTRic0/xGc0Zb+/5z+mBsuXAVC/P8TPCvyFy8M/k9WdbTki4j9A4sYA2UnTP4fJihnJkeo/cn/GK1BZ9z+MyEOAZ5XRP+Tjh2tfwMU/AlN44yfR0D+ZzeWGsS3RP5n56f61LuY/6QwMlpVpFkAQXIUPE4XnP9mCRQ/m1tA/v/Ch24JxtD9i/7Cgnz7JPwI0Bd1LWeg/rfSCkPE0zz9qMfp74T/bPy94f1Z5psc/",
          "dtype": "f8"
         }
        }
       ],
       "layout": {
        "autosize": false,
        "height": 700,
        "hovermode": "closest",
        "margin": {
         "b": 60,
         "l": 60,
         "r": 20,
         "t": 80
        },
        "shapes": [
         {
          "line": {
           "dash": "dash"
          },
          "type": "line",
          "x0": 8.241145421187621,
          "x1": 8.241145421187621,
          "xref": "x",
          "y0": 0,
          "y1": 1,
          "yref": "y domain"
         },
         {
          "line": {
           "dash": "dash"
          },
          "type": "line",
          "x0": 0,
          "x1": 1,
          "xref": "x domain",
          "y0": 4.277092179269187,
          "y1": 4.277092179269187,
          "yref": "y"
         }
        ],
        "template": {
         "data": {
          "bar": [
           {
            "error_x": {
             "color": "#2a3f5f"
            },
            "error_y": {
             "color": "#2a3f5f"
            },
            "marker": {
             "line": {
              "color": "#E5ECF6",
              "width": 0.5
             },
             "pattern": {
              "fillmode": "overlay",
              "size": 10,
              "solidity": 0.2
             }
            },
            "type": "bar"
           }
          ],
          "barpolar": [
           {
            "marker": {
             "line": {
              "color": "#E5ECF6",
              "width": 0.5
             },
             "pattern": {
              "fillmode": "overlay",
              "size": 10,
              "solidity": 0.2
             }
            },
            "type": "barpolar"
           }
          ],
          "carpet": [
           {
            "aaxis": {
             "endlinecolor": "#2a3f5f",
             "gridcolor": "white",
             "linecolor": "white",
             "minorgridcolor": "white",
             "startlinecolor": "#2a3f5f"
            },
            "baxis": {
             "endlinecolor": "#2a3f5f",
             "gridcolor": "white",
             "linecolor": "white",
             "minorgridcolor": "white",
             "startlinecolor": "#2a3f5f"
            },
            "type": "carpet"
           }
          ],
          "choropleth": [
           {
            "colorbar": {
             "outlinewidth": 0,
             "ticks": ""
            },
            "type": "choropleth"
           }
          ],
          "contour": [
           {
            "colorbar": {
             "outlinewidth": 0,
             "ticks": ""
            },
            "colorscale": [
             [
              0,
              "#0d0887"
             ],
             [
              0.1111111111111111,
              "#46039f"
             ],
             [
              0.2222222222222222,
              "#7201a8"
             ],
             [
              0.3333333333333333,
              "#9c179e"
             ],
             [
              0.4444444444444444,
              "#bd3786"
             ],
             [
              0.5555555555555556,
              "#d8576b"
             ],
             [
              0.6666666666666666,
              "#ed7953"
             ],
             [
              0.7777777777777778,
              "#fb9f3a"
             ],
             [
              0.8888888888888888,
              "#fdca26"
             ],
             [
              1,
              "#f0f921"
             ]
            ],
            "type": "contour"
           }
          ],
          "contourcarpet": [
           {
            "colorbar": {
             "outlinewidth": 0,
             "ticks": ""
            },
            "type": "contourcarpet"
           }
          ],
          "heatmap": [
           {
            "colorbar": {
             "outlinewidth": 0,
             "ticks": ""
            },
            "colorscale": [
             [
              0,
              "#0d0887"
             ],
             [
              0.1111111111111111,
              "#46039f"
             ],
             [
              0.2222222222222222,
              "#7201a8"
             ],
             [
              0.3333333333333333,
              "#9c179e"
             ],
             [
              0.4444444444444444,
              "#bd3786"
             ],
             [
              0.5555555555555556,
              "#d8576b"
             ],
             [
              0.6666666666666666,
              "#ed7953"
             ],
             [
              0.7777777777777778,
              "#fb9f3a"
             ],
             [
              0.8888888888888888,
              "#fdca26"
             ],
             [
              1,
              "#f0f921"
             ]
            ],
            "type": "heatmap"
           }
          ],
          "histogram": [
           {
            "marker": {
             "pattern": {
              "fillmode": "overlay",
              "size": 10,
              "solidity": 0.2
             }
            },
            "type": "histogram"
           }
          ],
          "histogram2d": [
           {
            "colorbar": {
             "outlinewidth": 0,
             "ticks": ""
            },
            "colorscale": [
             [
              0,
              "#0d0887"
             ],
             [
              0.1111111111111111,
              "#46039f"
             ],
             [
              0.2222222222222222,
              "#7201a8"
             ],
             [
              0.3333333333333333,
              "#9c179e"
             ],
             [
              0.4444444444444444,
              "#bd3786"
             ],
             [
              0.5555555555555556,
              "#d8576b"
             ],
             [
              0.6666666666666666,
              "#ed7953"
             ],
             [
              0.7777777777777778,
              "#fb9f3a"
             ],
             [
              0.8888888888888888,
              "#fdca26"
             ],
             [
              1,
              "#f0f921"
             ]
            ],
            "type": "histogram2d"
           }
          ],
          "histogram2dcontour": [
           {
            "colorbar": {
             "outlinewidth": 0,
             "ticks": ""
            },
            "colorscale": [
             [
              0,
              "#0d0887"
             ],
             [
              0.1111111111111111,
              "#46039f"
             ],
             [
              0.2222222222222222,
              "#7201a8"
             ],
             [
              0.3333333333333333,
              "#9c179e"
             ],
             [
              0.4444444444444444,
              "#bd3786"
             ],
             [
              0.5555555555555556,
              "#d8576b"
             ],
             [
              0.6666666666666666,
              "#ed7953"
             ],
             [
              0.7777777777777778,
              "#fb9f3a"
             ],
             [
              0.8888888888888888,
              "#fdca26"
             ],
             [
              1,
              "#f0f921"
             ]
            ],
            "type": "histogram2dcontour"
           }
          ],
          "mesh3d": [
           {
            "colorbar": {
             "outlinewidth": 0,
             "ticks": ""
            },
            "type": "mesh3d"
           }
          ],
          "parcoords": [
           {
            "line": {
             "colorbar": {
              "outlinewidth": 0,
              "ticks": ""
             }
            },
            "type": "parcoords"
           }
          ],
          "pie": [
           {
            "automargin": true,
            "type": "pie"
           }
          ],
          "scatter": [
           {
            "fillpattern": {
             "fillmode": "overlay",
             "size": 10,
             "solidity": 0.2
            },
            "type": "scatter"
           }
          ],
          "scatter3d": [
           {
            "line": {
             "colorbar": {
              "outlinewidth": 0,
              "ticks": ""
             }
            },
            "marker": {
             "colorbar": {
              "outlinewidth": 0,
              "ticks": ""
             }
            },
            "type": "scatter3d"
           }
          ],
          "scattercarpet": [
           {
            "marker": {
             "colorbar": {
              "outlinewidth": 0,
              "ticks": ""
             }
            },
            "type": "scattercarpet"
           }
          ],
          "scattergeo": [
           {
            "marker": {
             "colorbar": {
              "outlinewidth": 0,
              "ticks": ""
             }
            },
            "type": "scattergeo"
           }
          ],
          "scattergl": [
           {
            "marker": {
             "colorbar": {
              "outlinewidth": 0,
              "ticks": ""
             }
            },
            "type": "scattergl"
           }
          ],
          "scattermap": [
           {
            "marker": {
             "colorbar": {
              "outlinewidth": 0,
              "ticks": ""
             }
            },
            "type": "scattermap"
           }
          ],
          "scattermapbox": [
           {
            "marker": {
             "colorbar": {
              "outlinewidth": 0,
              "ticks": ""
             }
            },
            "type": "scattermapbox"
           }
          ],
          "scatterpolar": [
           {
            "marker": {
             "colorbar": {
              "outlinewidth": 0,
              "ticks": ""
             }
            },
            "type": "scatterpolar"
           }
          ],
          "scatterpolargl": [
           {
            "marker": {
             "colorbar": {
              "outlinewidth": 0,
              "ticks": ""
             }
            },
            "type": "scatterpolargl"
           }
          ],
          "scatterternary": [
           {
            "marker": {
             "colorbar": {
              "outlinewidth": 0,
              "ticks": ""
             }
            },
            "type": "scatterternary"
           }
          ],
          "surface": [
           {
            "colorbar": {
             "outlinewidth": 0,
             "ticks": ""
            },
            "colorscale": [
             [
              0,
              "#0d0887"
             ],
             [
              0.1111111111111111,
              "#46039f"
             ],
             [
              0.2222222222222222,
              "#7201a8"
             ],
             [
              0.3333333333333333,
              "#9c179e"
             ],
             [
              0.4444444444444444,
              "#bd3786"
             ],
             [
              0.5555555555555556,
              "#d8576b"
             ],
             [
              0.6666666666666666,
              "#ed7953"
             ],
             [
              0.7777777777777778,
              "#fb9f3a"
             ],
             [
              0.8888888888888888,
              "#fdca26"
             ],
             [
              1,
              "#f0f921"
             ]
            ],
            "type": "surface"
           }
          ],
          "table": [
           {
            "cells": {
             "fill": {
              "color": "#EBF0F8"
             },
             "line": {
              "color": "white"
             }
            },
            "header": {
             "fill": {
              "color": "#C8D4E3"
             },
             "line": {
              "color": "white"
             }
            },
            "type": "table"
           }
          ]
         },
         "layout": {
          "annotationdefaults": {
           "arrowcolor": "#2a3f5f",
           "arrowhead": 0,
           "arrowwidth": 1
          },
          "autotypenumbers": "strict",
          "coloraxis": {
           "colorbar": {
            "outlinewidth": 0,
            "ticks": ""
           }
          },
          "colorscale": {
           "diverging": [
            [
             0,
             "#8e0152"
            ],
            [
             0.1,
             "#c51b7d"
            ],
            [
             0.2,
             "#de77ae"
            ],
            [
             0.3,
             "#f1b6da"
            ],
            [
             0.4,
             "#fde0ef"
            ],
            [
             0.5,
             "#f7f7f7"
            ],
            [
             0.6,
             "#e6f5d0"
            ],
            [
             0.7,
             "#b8e186"
            ],
            [
             0.8,
             "#7fbc41"
            ],
            [
             0.9,
             "#4d9221"
            ],
            [
             1,
             "#276419"
            ]
           ],
           "sequential": [
            [
             0,
             "#0d0887"
            ],
            [
             0.1111111111111111,
             "#46039f"
            ],
            [
             0.2222222222222222,
             "#7201a8"
            ],
            [
             0.3333333333333333,
             "#9c179e"
            ],
            [
             0.4444444444444444,
             "#bd3786"
            ],
            [
             0.5555555555555556,
             "#d8576b"
            ],
            [
             0.6666666666666666,
             "#ed7953"
            ],
            [
             0.7777777777777778,
             "#fb9f3a"
            ],
            [
             0.8888888888888888,
             "#fdca26"
            ],
            [
             1,
             "#f0f921"
            ]
           ],
           "sequentialminus": [
            [
             0,
             "#0d0887"
            ],
            [
             0.1111111111111111,
             "#46039f"
            ],
            [
             0.2222222222222222,
             "#7201a8"
            ],
            [
             0.3333333333333333,
             "#9c179e"
            ],
            [
             0.4444444444444444,
             "#bd3786"
            ],
            [
             0.5555555555555556,
             "#d8576b"
            ],
            [
             0.6666666666666666,
             "#ed7953"
            ],
            [
             0.7777777777777778,
             "#fb9f3a"
            ],
            [
             0.8888888888888888,
             "#fdca26"
            ],
            [
             1,
             "#f0f921"
            ]
           ]
          },
          "colorway": [
           "#636efa",
           "#EF553B",
           "#00cc96",
           "#ab63fa",
           "#FFA15A",
           "#19d3f3",
           "#FF6692",
           "#B6E880",
           "#FF97FF",
           "#FECB52"
          ],
          "font": {
           "color": "#2a3f5f"
          },
          "geo": {
           "bgcolor": "white",
           "lakecolor": "white",
           "landcolor": "#E5ECF6",
           "showlakes": true,
           "showland": true,
           "subunitcolor": "white"
          },
          "hoverlabel": {
           "align": "left"
          },
          "hovermode": "closest",
          "mapbox": {
           "style": "light"
          },
          "paper_bgcolor": "white",
          "plot_bgcolor": "#E5ECF6",
          "polar": {
           "angularaxis": {
            "gridcolor": "white",
            "linecolor": "white",
            "ticks": ""
           },
           "bgcolor": "#E5ECF6",
           "radialaxis": {
            "gridcolor": "white",
            "linecolor": "white",
            "ticks": ""
           }
          },
          "scene": {
           "xaxis": {
            "backgroundcolor": "#E5ECF6",
            "gridcolor": "white",
            "gridwidth": 2,
            "linecolor": "white",
            "showbackground": true,
            "ticks": "",
            "zerolinecolor": "white"
           },
           "yaxis": {
            "backgroundcolor": "#E5ECF6",
            "gridcolor": "white",
            "gridwidth": 2,
            "linecolor": "white",
            "showbackground": true,
            "ticks": "",
            "zerolinecolor": "white"
           },
           "zaxis": {
            "backgroundcolor": "#E5ECF6",
            "gridcolor": "white",
            "gridwidth": 2,
            "linecolor": "white",
            "showbackground": true,
            "ticks": "",
            "zerolinecolor": "white"
           }
          },
          "shapedefaults": {
           "line": {
            "color": "#2a3f5f"
           }
          },
          "ternary": {
           "aaxis": {
            "gridcolor": "white",
            "linecolor": "white",
            "ticks": ""
           },
           "baxis": {
            "gridcolor": "white",
            "linecolor": "white",
            "ticks": ""
           },
           "bgcolor": "#E5ECF6",
           "caxis": {
            "gridcolor": "white",
            "linecolor": "white",
            "ticks": ""
           }
          },
          "title": {
           "x": 0.05
          },
          "xaxis": {
           "automargin": true,
           "gridcolor": "white",
           "linecolor": "white",
           "ticks": "",
           "title": {
            "standoff": 15
           },
           "zerolinecolor": "white",
           "zerolinewidth": 2
          },
          "yaxis": {
           "automargin": true,
           "gridcolor": "white",
           "linecolor": "white",
           "ticks": "",
           "title": {
            "standoff": 15
           },
           "zerolinecolor": "white",
           "zerolinewidth": 2
          }
         }
        },
        "title": {
         "text": "PCA Residual Outlier Map (α=0.01, k=2)"
        },
        "width": 900,
        "xaxis": {
         "title": {
          "text": "Hotelling T²"
         }
        },
        "yaxis": {
         "title": {
          "text": "Q residual (SPE)"
         }
        }
       }
      }
     },
     "metadata": {},
     "output_type": "display_data"
    },
    {
     "name": "stdout",
     "output_type": "stream",
     "text": [
      "LOO PCA widget unavailable: No module named 'ipywidgets'\n",
      "Falling back to dropdown-based figure (no widgets needed).\n"
     ]
    },
    {
     "data": {
      "application/vnd.plotly.v1+json": {
       "config": {
        "plotlyServerURL": "https://plot.ly"
       },
       "data": [
        {
         "marker": {
          "color": "red",
          "opacity": 0.9,
          "size": 8
         },
         "mode": "markers+text",
         "name": "LOO (train without selected city)",
         "text": [
          "Amsterdam",
          "Ankara",
          "Athens",
          "Belgrade",
          "Berlin",
          "Bern",
          "Bonn",
          "Bruxells",
          "Bucarest",
          "Budapest",
          "Copenhagen",
          "Dublin",
          "Helsinki",
          "Lisbon",
          "London",
          "Luxemborg",
          "Marbella",
          "Moscow",
          "Oslo",
          "Paris",
          "Prague",
          "Rome",
          "Sofia",
          "Stockholm",
          "Vienna",
          "Warsaw",
          "Bratislava",
          "St. Petersberg",
          "Ljubljana",
          "Madrid",
          "Milan",
          "Edinburgh",
          "Skopje"
         ],
         "textfont": {
          "size": 10
         },
         "textposition": "top center",
         "type": "scatter",
         "x": {
          "bdata": "hMBANju++b9yjuHVH93qPyl8xZoSDxlAxcw2cUM5/T+JLx09M5zyvz0NSifMOfW/wHXUrXhL47+Khx0Qnn7Tv6lI1QVr1OA/YEdfybA76z/DTQhWMAoAwBrFfLtxxAHAvsQf+UbCFsDm5ePBFtUVQChnJhtjfwNABZYspTT187+x9NaQ2MgiQK4gTfQndRbANd8j2JURDsBFOtQz7aDzP+jiSC2Rwu2/L3gFl7M1EEAhfzg/2e7OP2yZIqVTVQ3A0o+2Uaz08r/GfsBYanD2vyn6B45v79W/iY3zb7jy/r/OJRMnKnW7v8TrOQlcXgpAF0TVxKMH+z+UaHSOYk4RwOmeXlxyXfU/",
          "dtype": "f8"
         },
         "y": {
          "bdata": "akjniR9X+b8mfNoNdaXoP0pHmffnSu4/RH3E9Dr44z9Kkrd1MtrTP9scPAeuGuW/FbZIRwhI6L/gY8XiJw3vv7MiRRE3Vfo/s5V+d9T69D+RsaZEVlXgv2llrfFjuwTA1udmPKna6j9PF8vjnaHpv6nC9PkH1u2/ETJ0ugCX5b/Kyau5TKbWv8pg1LvvhwNACHZM3Lj74r+9n03n+VfUv2e5qVq20ec/Tq31iaYqtj8HK6/BReHhP6rWpaI2c7Q/RoFi7TMh8r8z3DwNsM3uP3Bvk2uFduE/HuKmt24sBsBSt/okhrvTP3riRzkhMsc/h3tPqSAV4T/RVFe2EwThP/ESprAFsPM/",
          "dtype": "f8"
         }
        },
        {
         "marker": {
          "color": "blue",
          "opacity": 0.9,
          "size": 8
         },
         "mode": "markers+text",
         "name": "Full (train with all cities)",
         "text": [
          "Amsterdam",
          "Ankara",
          "Athens",
          "Belgrade",
          "Berlin",
          "Bern",
          "Bonn",
          "Bruxells",
          "Bucarest",
          "Budapest",
          "Copenhagen",
          "Dublin",
          "Helsinki",
          "Lisbon",
          "London",
          "Luxemborg",
          "Marbella",
          "Moscow",
          "Oslo",
          "Paris",
          "Prague",
          "Rome",
          "Sofia",
          "Stockholm",
          "Vienna",
          "Warsaw",
          "Bratislava",
          "St. Petersberg",
          "Ljubljana",
          "Madrid",
          "Milan",
          "Edinburgh",
          "Skopje"
         ],
         "textfont": {
          "size": 10
         },
         "textposition": "bottom center",
         "type": "scatter",
         "x": {
          "bdata": "hMBANju++b9yjuHVH93qPyl8xZoSDxlAxcw2cUM5/T+JLx09M5zyvz0NSifMOfW/wHXUrXhL47+Khx0Qnn7Tv6lI1QVr1OA/YEdfybA76z/DTQhWMAoAwBrFfLtxxAHAvsQf+UbCFsDm5ePBFtUVQChnJhtjfwNABZYspTT187+x9NaQ2MgiQK4gTfQndRbANd8j2JURDsBFOtQz7aDzP+jiSC2Rwu2/L3gFl7M1EEAhfzg/2e7OP2yZIqVTVQ3A0o+2Uaz08r/GfsBYanD2vyn6B45v79W/iY3zb7jy/r/OJRMnKnW7v8TrOQlcXgpAF0TVxKMH+z+UaHSOYk4RwOmeXlxyXfU/",
          "dtype": "f8"
         },
         "y": {
          "bdata": "akjniR9X+b8mfNoNdaXoP0pHmffnSu4/RH3E9Dr44z9Kkrd1MtrTP9scPAeuGuW/FbZIRwhI6L/gY8XiJw3vv7MiRRE3Vfo/s5V+d9T69D+RsaZEVlXgv2llrfFjuwTA1udmPKna6j9PF8vjnaHpv6nC9PkH1u2/ETJ0ugCX5b/Kyau5TKbWv8pg1LvvhwNACHZM3Lj74r+9n03n+VfUv2e5qVq20ec/Tq31iaYqtj8HK6/BReHhP6rWpaI2c7Q/RoFi7TMh8r8z3DwNsM3uP3Bvk2uFduE/HuKmt24sBsBSt/okhrvTP3riRzkhMsc/h3tPqSAV4T/RVFe2EwThP/ESprAFsPM/",
          "dtype": "f8"
         }
        }
       ],
       "layout": {
        "annotations": [
         {
          "showarrow": false,
          "text": "Leave out:",
          "x": 0.02,
          "xanchor": "left",
          "xref": "paper",
          "y": 1.23,
          "yanchor": "top",
          "yref": "paper"
         }
        ],
        "autosize": false,
        "height": 800,
        "hovermode": "closest",
        "legend": {
         "orientation": "h",
         "x": 0,
         "xanchor": "left",
         "y": 1.02,
         "yanchor": "bottom"
        },
        "margin": {
         "b": 60,
         "l": 60,
         "r": 20,
         "t": 90
        },
        "shapes": [
         {
          "line": {
           "width": 1
          },
          "type": "line",
          "x0": 0,
          "x1": 1,
          "xref": "x domain",
          "y0": 0,
          "y1": 0,
          "yref": "y"
         },
         {
          "line": {
           "width": 1
          },
          "type": "line",
          "x0": 0,
          "x1": 0,
          "xref": "x",
          "y0": 0,
          "y1": 1,
          "yref": "y domain"
         }
        ],
        "template": {
         "data": {
          "bar": [
           {
            "error_x": {
             "color": "#2a3f5f"
            },
            "error_y": {
             "color": "#2a3f5f"
            },
            "marker": {
             "line": {
              "color": "#E5ECF6",
              "width": 0.5
             },
             "pattern": {
              "fillmode": "overlay",
              "size": 10,
              "solidity": 0.2
             }
            },
            "type": "bar"
           }
          ],
          "barpolar": [
           {
            "marker": {
             "line": {
              "color": "#E5ECF6",
              "width": 0.5
             },
             "pattern": {
              "fillmode": "overlay",
              "size": 10,
              "solidity": 0.2
             }
            },
            "type": "barpolar"
           }
          ],
          "carpet": [
           {
            "aaxis": {
             "endlinecolor": "#2a3f5f",
             "gridcolor": "white",
             "linecolor": "white",
             "minorgridcolor": "white",
             "startlinecolor": "#2a3f5f"
            },
            "baxis": {
             "endlinecolor": "#2a3f5f",
             "gridcolor": "white",
             "linecolor": "white",
             "minorgridcolor": "white",
             "startlinecolor": "#2a3f5f"
            },
            "type": "carpet"
           }
          ],
          "choropleth": [
           {
            "colorbar": {
             "outlinewidth": 0,
             "ticks": ""
            },
            "type": "choropleth"
           }
          ],
          "contour": [
           {
            "colorbar": {
             "outlinewidth": 0,
             "ticks": ""
            },
            "colorscale": [
             [
              0,
              "#0d0887"
             ],
             [
              0.1111111111111111,
              "#46039f"
             ],
             [
              0.2222222222222222,
              "#7201a8"
             ],
             [
              0.3333333333333333,
              "#9c179e"
             ],
             [
              0.4444444444444444,
              "#bd3786"
             ],
             [
              0.5555555555555556,
              "#d8576b"
             ],
             [
              0.6666666666666666,
              "#ed7953"
             ],
             [
              0.7777777777777778,
              "#fb9f3a"
             ],
             [
              0.8888888888888888,
              "#fdca26"
             ],
             [
              1,
              "#f0f921"
             ]
            ],
            "type": "contour"
           }
          ],
          "contourcarpet": [
           {
            "colorbar": {
             "outlinewidth": 0,
             "ticks": ""
            },
            "type": "contourcarpet"
           }
          ],
          "heatmap": [
           {
            "colorbar": {
             "outlinewidth": 0,
             "ticks": ""
            },
            "colorscale": [
             [
              0,
              "#0d0887"
             ],
             [
              0.1111111111111111,
              "#46039f"
             ],
             [
              0.2222222222222222,
              "#7201a8"
             ],
             [
              0.3333333333333333,
              "#9c179e"
             ],
             [
              0.4444444444444444,
              "#bd3786"
             ],
             [
              0.5555555555555556,
              "#d8576b"
             ],
             [
              0.6666666666666666,
              "#ed7953"
             ],
             [
              0.7777777777777778,
              "#fb9f3a"
             ],
             [
              0.8888888888888888,
              "#fdca26"
             ],
             [
              1,
              "#f0f921"
             ]
            ],
            "type": "heatmap"
           }
          ],
          "histogram": [
           {
            "marker": {
             "pattern": {
              "fillmode": "overlay",
              "size": 10,
              "solidity": 0.2
             }
            },
            "type": "histogram"
           }
          ],
          "histogram2d": [
           {
            "colorbar": {
             "outlinewidth": 0,
             "ticks": ""
            },
            "colorscale": [
             [
              0,
              "#0d0887"
             ],
             [
              0.1111111111111111,
              "#46039f"
             ],
             [
              0.2222222222222222,
              "#7201a8"
             ],
             [
              0.3333333333333333,
              "#9c179e"
             ],
             [
              0.4444444444444444,
              "#bd3786"
             ],
             [
              0.5555555555555556,
              "#d8576b"
             ],
             [
              0.6666666666666666,
              "#ed7953"
             ],
             [
              0.7777777777777778,
              "#fb9f3a"
             ],
             [
              0.8888888888888888,
              "#fdca26"
             ],
             [
              1,
              "#f0f921"
             ]
            ],
            "type": "histogram2d"
           }
          ],
          "histogram2dcontour": [
           {
            "colorbar": {
             "outlinewidth": 0,
             "ticks": ""
            },
            "colorscale": [
             [
              0,
              "#0d0887"
             ],
             [
              0.1111111111111111,
              "#46039f"
             ],
             [
              0.2222222222222222,
              "#7201a8"
             ],
             [
              0.3333333333333333,
              "#9c179e"
             ],
             [
              0.4444444444444444,
              "#bd3786"
             ],
             [
              0.5555555555555556,
              "#d8576b"
             ],
             [
              0.6666666666666666,
              "#ed7953"
             ],
             [
              0.7777777777777778,
              "#fb9f3a"
             ],
             [
              0.8888888888888888,
              "#fdca26"
             ],
             [
              1,
              "#f0f921"
             ]
            ],
            "type": "histogram2dcontour"
           }
          ],
          "mesh3d": [
           {
            "colorbar": {
             "outlinewidth": 0,
             "ticks": ""
            },
            "type": "mesh3d"
           }
          ],
          "parcoords": [
           {
            "line": {
             "colorbar": {
              "outlinewidth": 0,
              "ticks": ""
             }
            },
            "type": "parcoords"
           }
          ],
          "pie": [
           {
            "automargin": true,
            "type": "pie"
           }
          ],
          "scatter": [
           {
            "fillpattern": {
             "fillmode": "overlay",
             "size": 10,
             "solidity": 0.2
            },
            "type": "scatter"
           }
          ],
          "scatter3d": [
           {
            "line": {
             "colorbar": {
              "outlinewidth": 0,
              "ticks": ""
             }
            },
            "marker": {
             "colorbar": {
              "outlinewidth": 0,
              "ticks": ""
             }
            },
            "type": "scatter3d"
           }
          ],
          "scattercarpet": [
           {
            "marker": {
             "colorbar": {
              "outlinewidth": 0,
              "ticks": ""
             }
            },
            "type": "scattercarpet"
           }
          ],
          "scattergeo": [
           {
            "marker": {
             "colorbar": {
              "outlinewidth": 0,
              "ticks": ""
             }
            },
            "type": "scattergeo"
           }
          ],
          "scattergl": [
           {
            "marker": {
             "colorbar": {
              "outlinewidth": 0,
              "ticks": ""
             }
            },
            "type": "scattergl"
           }
          ],
          "scattermap": [
           {
            "marker": {
             "colorbar": {
              "outlinewidth": 0,
              "ticks": ""
             }
            },
            "type": "scattermap"
           }
          ],
          "scattermapbox": [
           {
            "marker": {
             "colorbar": {
              "outlinewidth": 0,
              "ticks": ""
             }
            },
            "type": "scattermapbox"
           }
          ],
          "scatterpolar": [
           {
            "marker": {
             "colorbar": {
              "outlinewidth": 0,
              "ticks": ""
             }
            },
            "type": "scatterpolar"
           }
          ],
          "scatterpolargl": [
           {
            "marker": {
             "colorbar": {
              "outlinewidth": 0,
              "ticks": ""
             }
            },
            "type": "scatterpolargl"
           }
          ],
          "scatterternary": [
           {
            "marker": {
             "colorbar": {
              "outlinewidth": 0,
              "ticks": ""
             }
            },
            "type": "scatterternary"
           }
          ],
          "surface": [
           {
            "colorbar": {
             "outlinewidth": 0,
             "ticks": ""
            },
            "colorscale": [
             [
              0,
              "#0d0887"
             ],
             [
              0.1111111111111111,
              "#46039f"
             ],
             [
              0.2222222222222222,
              "#7201a8"
             ],
             [
              0.3333333333333333,
              "#9c179e"
             ],
             [
              0.4444444444444444,
              "#bd3786"
             ],
             [
              0.5555555555555556,
              "#d8576b"
             ],
             [
              0.6666666666666666,
              "#ed7953"
             ],
             [
              0.7777777777777778,
              "#fb9f3a"
             ],
             [
              0.8888888888888888,
              "#fdca26"
             ],
             [
              1,
              "#f0f921"
             ]
            ],
            "type": "surface"
           }
          ],
          "table": [
           {
            "cells": {
             "fill": {
              "color": "#EBF0F8"
             },
             "line": {
              "color": "white"
             }
            },
            "header": {
             "fill": {
              "color": "#C8D4E3"
             },
             "line": {
              "color": "white"
             }
            },
            "type": "table"
           }
          ]
         },
         "layout": {
          "annotationdefaults": {
           "arrowcolor": "#2a3f5f",
           "arrowhead": 0,
           "arrowwidth": 1
          },
          "autotypenumbers": "strict",
          "coloraxis": {
           "colorbar": {
            "outlinewidth": 0,
            "ticks": ""
           }
          },
          "colorscale": {
           "diverging": [
            [
             0,
             "#8e0152"
            ],
            [
             0.1,
             "#c51b7d"
            ],
            [
             0.2,
             "#de77ae"
            ],
            [
             0.3,
             "#f1b6da"
            ],
            [
             0.4,
             "#fde0ef"
            ],
            [
             0.5,
             "#f7f7f7"
            ],
            [
             0.6,
             "#e6f5d0"
            ],
            [
             0.7,
             "#b8e186"
            ],
            [
             0.8,
             "#7fbc41"
            ],
            [
             0.9,
             "#4d9221"
            ],
            [
             1,
             "#276419"
            ]
           ],
           "sequential": [
            [
             0,
             "#0d0887"
            ],
            [
             0.1111111111111111,
             "#46039f"
            ],
            [
             0.2222222222222222,
             "#7201a8"
            ],
            [
             0.3333333333333333,
             "#9c179e"
            ],
            [
             0.4444444444444444,
             "#bd3786"
            ],
            [
             0.5555555555555556,
             "#d8576b"
            ],
            [
             0.6666666666666666,
             "#ed7953"
            ],
            [
             0.7777777777777778,
             "#fb9f3a"
            ],
            [
             0.8888888888888888,
             "#fdca26"
            ],
            [
             1,
             "#f0f921"
            ]
           ],
           "sequentialminus": [
            [
             0,
             "#0d0887"
            ],
            [
             0.1111111111111111,
             "#46039f"
            ],
            [
             0.2222222222222222,
             "#7201a8"
            ],
            [
             0.3333333333333333,
             "#9c179e"
            ],
            [
             0.4444444444444444,
             "#bd3786"
            ],
            [
             0.5555555555555556,
             "#d8576b"
            ],
            [
             0.6666666666666666,
             "#ed7953"
            ],
            [
             0.7777777777777778,
             "#fb9f3a"
            ],
            [
             0.8888888888888888,
             "#fdca26"
            ],
            [
             1,
             "#f0f921"
            ]
           ]
          },
          "colorway": [
           "#636efa",
           "#EF553B",
           "#00cc96",
           "#ab63fa",
           "#FFA15A",
           "#19d3f3",
           "#FF6692",
           "#B6E880",
           "#FF97FF",
           "#FECB52"
          ],
          "font": {
           "color": "#2a3f5f"
          },
          "geo": {
           "bgcolor": "white",
           "lakecolor": "white",
           "landcolor": "#E5ECF6",
           "showlakes": true,
           "showland": true,
           "subunitcolor": "white"
          },
          "hoverlabel": {
           "align": "left"
          },
          "hovermode": "closest",
          "mapbox": {
           "style": "light"
          },
          "paper_bgcolor": "white",
          "plot_bgcolor": "#E5ECF6",
          "polar": {
           "angularaxis": {
            "gridcolor": "white",
            "linecolor": "white",
            "ticks": ""
           },
           "bgcolor": "#E5ECF6",
           "radialaxis": {
            "gridcolor": "white",
            "linecolor": "white",
            "ticks": ""
           }
          },
          "scene": {
           "xaxis": {
            "backgroundcolor": "#E5ECF6",
            "gridcolor": "white",
            "gridwidth": 2,
            "linecolor": "white",
            "showbackground": true,
            "ticks": "",
            "zerolinecolor": "white"
           },
           "yaxis": {
            "backgroundcolor": "#E5ECF6",
            "gridcolor": "white",
            "gridwidth": 2,
            "linecolor": "white",
            "showbackground": true,
            "ticks": "",
            "zerolinecolor": "white"
           },
           "zaxis": {
            "backgroundcolor": "#E5ECF6",
            "gridcolor": "white",
            "gridwidth": 2,
            "linecolor": "white",
            "showbackground": true,
            "ticks": "",
            "zerolinecolor": "white"
           }
          },
          "shapedefaults": {
           "line": {
            "color": "#2a3f5f"
           }
          },
          "ternary": {
           "aaxis": {
            "gridcolor": "white",
            "linecolor": "white",
            "ticks": ""
           },
           "baxis": {
            "gridcolor": "white",
            "linecolor": "white",
            "ticks": ""
           },
           "bgcolor": "#E5ECF6",
           "caxis": {
            "gridcolor": "white",
            "linecolor": "white",
            "ticks": ""
           }
          },
          "title": {
           "x": 0.05
          },
          "xaxis": {
           "automargin": true,
           "gridcolor": "white",
           "linecolor": "white",
           "ticks": "",
           "title": {
            "standoff": 15
           },
           "zerolinecolor": "white",
           "zerolinewidth": 2
          },
          "yaxis": {
           "automargin": true,
           "gridcolor": "white",
           "linecolor": "white",
           "ticks": "",
           "title": {
            "standoff": 15
           },
           "zerolinecolor": "white",
           "zerolinewidth": 2
          }
         }
        },
        "title": {
         "text": "LOO PCA — choose a city to leave out"
        },
        "updatemenus": [
         {
          "buttons": [
           {
            "args": [
             {
              "text": [
               [
                "Amsterdam",
                "Ankara",
                "Athens",
                "Belgrade",
                "Berlin",
                "Bern",
                "Bonn",
                "Bruxells",
                "Bucarest",
                "Budapest",
                "Copenhagen",
                "Dublin",
                "Helsinki",
                "Lisbon",
                "London",
                "Luxemborg",
                "Marbella",
                "Moscow",
                "Oslo",
                "Paris",
                "Prague",
                "Rome",
                "Sofia",
                "Stockholm",
                "Vienna",
                "Warsaw",
                "Bratislava",
                "St. Petersberg",
                "Ljubljana",
                "Madrid",
                "Milan",
                "Edinburgh",
                "Skopje"
               ],
               [
                "Amsterdam",
                "Ankara",
                "Athens",
                "Belgrade",
                "Berlin",
                "Bern",
                "Bonn",
                "Bruxells",
                "Bucarest",
                "Budapest",
                "Copenhagen",
                "Dublin",
                "Helsinki",
                "Lisbon",
                "London",
                "Luxemborg",
                "Marbella",
                "Moscow",
                "Oslo",
                "Paris",
                "Prague",
                "Rome",
                "Sofia",
                "Stockholm",
                "Vienna",
                "Warsaw",
                "Bratislava",
                "St. Petersberg",
                "Ljubljana",
                "Madrid",
                "Milan",
                "Edinburgh",
                "Skopje"
               ]
              ],
              "x": [
               [
                -1.60894318764261,
                0.8394927193989601,
                6.264719408324745,
                1.8264803335594462,
                -1.1631348025575525,
                -1.3266107115494628,
                -0.6029628176799449,
                -0.30460311483158675,
                0.5259299386909976,
                0.8510364468622633,
                -2.0049750062259775,
                -2.2209200522853623,
                -5.6897238660469025,
                5.458094625029366,
                2.4372007485479976,
                -1.2473646595111643,
                9.392277265777325,
                -5.614410226066111,
                -3.7585865865657078,
                1.2267887138911118,
                -0.9300008663622892,
                4.052442893704252,
                0.24166408144901033,
                -3.666663446539294,
                -1.1847346488875599,
                -1.4024451701042593,
                -0.3427389990828567,
                -1.9342579243756026,
                -0.10725654081320288,
                3.296073982315166,
                1.6893651665489011,
                -4.326547838072788,
                1.3353141411006908
               ],
               [
                -1.60894318764261,
                0.8394927193989601,
                6.264719408324745,
                1.8264803335594462,
                -1.1631348025575525,
                -1.3266107115494628,
                -0.6029628176799449,
                -0.30460311483158675,
                0.5259299386909976,
                0.8510364468622633,
                -2.0049750062259775,
                -2.2209200522853623,
                -5.6897238660469025,
                5.458094625029366,
                2.4372007485479976,
                -1.2473646595111643,
                9.392277265777325,
                -5.614410226066111,
                -3.7585865865657078,
                1.2267887138911118,
                -0.9300008663622892,
                4.052442893704252,
                0.24166408144901033,
                -3.666663446539294,
                -1.1847346488875599,
                -1.4024451701042593,
                -0.3427389990828567,
                -1.9342579243756026,
                -0.10725654081320288,
                3.296073982315166,
                1.6893651665489011,
                -4.326547838072788,
                1.3353141411006908
               ]
              ],
              "y": [
               [
                -1.5837703120091882,
                0.770197417314084,
                0.9466438136971445,
                0.6240515499702401,
                0.3101926946240253,
                -0.659506811266421,
                -0.7587930099741153,
                -0.9703559331056759,
                1.645804469548392,
                1.3112377803566744,
                -0.5104171124308313,
                -2.591499221901064,
                0.8391920261121821,
                -0.8009786080444686,
                -0.9323768503146158,
                -0.6746829644849318,
                -0.35390012866915,
                2.4413752245128295,
                -0.5932277968128696,
                -0.3178696402378554,
                0.7443496485482627,
                0.0865882956328978,
                0.5587490828414453,
                0.07988301726239891,
                -1.1331061623423735,
                0.9626083620595466,
                0.545717916592805,
                -2.771695551662801,
                0.30832055674806214,
                0.181217339486256,
                0.5338290507169042,
                0.531747680792842,
                1.2304741764393692
               ],
               [
                -1.5837703120091882,
                0.770197417314084,
                0.9466438136971445,
                0.6240515499702401,
                0.3101926946240253,
                -0.659506811266421,
                -0.7587930099741153,
                -0.9703559331056759,
                1.645804469548392,
                1.3112377803566744,
                -0.5104171124308313,
                -2.591499221901064,
                0.8391920261121821,
                -0.8009786080444686,
                -0.9323768503146158,
                -0.6746829644849318,
                -0.35390012866915,
                2.4413752245128295,
                -0.5932277968128696,
                -0.3178696402378554,
                0.7443496485482627,
                0.0865882956328978,
                0.5587490828414453,
                0.07988301726239891,
                -1.1331061623423735,
                0.9626083620595466,
                0.545717916592805,
                -2.771695551662801,
                0.30832055674806214,
                0.181217339486256,
                0.5338290507169042,
                0.531747680792842,
                1.2304741764393692
               ]
              ]
             },
             {
              "title": "LOO PCA — choose a city to leave out",
              "xaxis.title.text": "PC1 (full 85.0%)",
              "yaxis.title.text": "PC2 (full 10.2%)"
             }
            ],
            "label": "— Select city —",
            "method": "update"
           },
           {
            "args": [
             {
              "text": [
               [
                "Amsterdam",
                "Ankara",
                "Athens",
                "Belgrade",
                "Berlin",
                "Bern",
                "Bonn",
                "Bruxells",
                "Bucarest",
                "Budapest",
                "Copenhagen",
                "Dublin",
                "Helsinki",
                "Lisbon",
                "London",
                "Luxemborg",
                "Marbella",
                "Moscow",
                "Oslo",
                "Paris",
                "Prague",
                "Rome",
                "Sofia",
                "Stockholm",
                "Vienna",
                "Warsaw",
                "Bratislava",
                "St. Petersberg",
                "Ljubljana",
                "Madrid",
                "Milan",
                "Edinburgh",
                "Skopje"
               ],
               [
                "Amsterdam",
                "Ankara",
                "Athens",
                "Belgrade",
                "Berlin",
                "Bern",
                "Bonn",
                "Bruxells",
                "Bucarest",
                "Budapest",
                "Copenhagen",
                "Dublin",
                "Helsinki",
                "Lisbon",
                "London",
                "Luxemborg",
                "Marbella",
                "Moscow",
                "Oslo",
                "Paris",
                "Prague",
                "Rome",
                "Sofia",
                "Stockholm",
                "Vienna",
                "Warsaw",
                "Bratislava",
                "St. Petersberg",
                "Ljubljana",
                "Madrid",
                "Milan",
                "Edinburgh",
                "Skopje"
               ]
              ],
              "x": [
               [
                -1.6571476516834254,
                0.7861042488512994,
                6.167589558263135,
                1.7643550736515923,
                -1.2008888966762452,
                -1.3698957320596423,
                -0.6526023968870169,
                -0.3603221884516901,
                0.479732674507552,
                0.8011487980518609,
                -2.040420291075184,
                -2.2673577250663906,
                -5.684406329005515,
                5.355383023680524,
                2.3608256920627815,
                -1.2905507962536,
                9.259726017584093,
                -5.602279828124292,
                -3.7788780408680944,
                1.1646667723141302,
                -0.966618391622719,
                3.967488655277607,
                0.19229486939570262,
                -3.682827943558426,
                -1.2386311956747302,
                -1.4346284667608085,
                -0.38489203165020464,
                -1.9859022087680511,
                -0.15345142360686706,
                3.2194583841086644,
                1.62839615750225,
                -4.334220280688589,
                1.2816042415468751
               ],
               [
                -1.60894318764261,
                0.8394927193989601,
                6.264719408324745,
                1.8264803335594462,
                -1.1631348025575525,
                -1.3266107115494628,
                -0.6029628176799449,
                -0.30460311483158675,
                0.5259299386909976,
                0.8510364468622633,
                -2.0049750062259775,
                -2.2209200522853623,
                -5.6897238660469025,
                5.458094625029366,
                2.4372007485479976,
                -1.2473646595111643,
                9.392277265777325,
                -5.614410226066111,
                -3.7585865865657078,
                1.2267887138911118,
                -0.9300008663622892,
                4.052442893704252,
                0.24166408144901033,
                -3.666663446539294,
                -1.1847346488875599,
                -1.4024451701042593,
                -0.3427389990828567,
                -1.9342579243756026,
                -0.10725654081320288,
                3.296073982315166,
                1.6893651665489011,
                -4.326547838072788,
                1.3353141411006908
               ]
              ],
              "y": [
               [
                -1.6244043278256055,
                0.7260980490530028,
                0.9496015300167848,
                0.5813091364159207,
                0.24799237576021302,
                -0.7194890155015018,
                -0.8137900307863851,
                -1.018256430464902,
                1.586428155349322,
                1.2501971713356448,
                -0.5672010972983699,
                -2.639415774676125,
                0.7570959130337551,
                -0.8084992341678405,
                -0.9563838425003433,
                -0.7425344441048715,
                -0.33218544005393646,
                2.335290956058323,
                -0.6564368958802228,
                -0.3632881724744651,
                0.6763242753480306,
                0.07434671999035507,
                0.5009130741630343,
                0.01432114483235936,
                -1.1961320159672064,
                0.8984117517788983,
                0.48374748337591367,
                -2.8126600933133923,
                0.25227928088828344,
                0.1614460150621219,
                0.4922796848872671,
                0.45730665051606345,
                1.1808831193242684
               ],
               [
                -1.5837703120091882,
                0.770197417314084,
                0.9466438136971445,
                0.6240515499702401,
                0.3101926946240253,
                -0.659506811266421,
                -0.7587930099741153,
                -0.9703559331056759,
                1.645804469548392,
                1.3112377803566744,
                -0.5104171124308313,
                -2.591499221901064,
                0.8391920261121821,
                -0.8009786080444686,
                -0.9323768503146158,
                -0.6746829644849318,
                -0.35390012866915,
                2.4413752245128295,
                -0.5932277968128696,
                -0.3178696402378554,
                0.7443496485482627,
                0.0865882956328978,
                0.5587490828414453,
                0.07988301726239891,
                -1.1331061623423735,
                0.9626083620595466,
                0.545717916592805,
                -2.771695551662801,
                0.30832055674806214,
                0.181217339486256,
                0.5338290507169042,
                0.531747680792842,
                1.2304741764393692
               ]
              ]
             },
             {
              "title": "LOO PCA — removed: Amsterdam",
              "xaxis.title.text": "PC1 (LOO 85.5% | full 85.0%)",
              "yaxis.title.text": "PC2 (LOO 9.7% | full 10.2%)"
             }
            ],
            "label": "Amsterdam",
            "method": "update"
           },
           {
            "args": [
             {
              "text": [
               [
                "Amsterdam",
                "Ankara",
                "Athens",
                "Belgrade",
                "Berlin",
                "Bern",
                "Bonn",
                "Bruxells",
                "Bucarest",
                "Budapest",
                "Copenhagen",
                "Dublin",
                "Helsinki",
                "Lisbon",
                "London",
                "Luxemborg",
                "Marbella",
                "Moscow",
                "Oslo",
                "Paris",
                "Prague",
                "Rome",
                "Sofia",
                "Stockholm",
                "Vienna",
                "Warsaw",
                "Bratislava",
                "St. Petersberg",
                "Ljubljana",
                "Madrid",
                "Milan",
                "Edinburgh",
                "Skopje"
               ],
               [
                "Amsterdam",
                "Ankara",
                "Athens",
                "Belgrade",
                "Berlin",
                "Bern",
                "Bonn",
                "Bruxells",
                "Bucarest",
                "Budapest",
                "Copenhagen",
                "Dublin",
                "Helsinki",
                "Lisbon",
                "London",
                "Luxemborg",
                "Marbella",
                "Moscow",
                "Oslo",
                "Paris",
                "Prague",
                "Rome",
                "Sofia",
                "Stockholm",
                "Vienna",
                "Warsaw",
                "Bratislava",
                "St. Petersberg",
                "Ljubljana",
                "Madrid",
                "Milan",
                "Edinburgh",
                "Skopje"
               ]
              ],
              "x": [
               [
                -1.5628216536212256,
                0.8551721123524858,
                6.210243602052895,
                1.828618676845351,
                -1.1217800963352846,
                -1.2845199601795885,
                -0.5699618862556922,
                -0.27567691433528047,
                0.5453880505555622,
                0.8664212180388613,
                -1.953321195751394,
                -2.1670642401315545,
                -5.589816784012179,
                5.4127557578458365,
                2.431605838246895,
                -1.206459006012116,
                9.296119536609048,
                -5.513646112284824,
                -3.6842808321547493,
                1.2367241119017445,
                -0.8920620245689974,
                4.025624407500526,
                0.26467396130445525,
                -3.593279171350279,
                -1.1431456670869942,
                -1.3574496548284751,
                -0.3119328230200584,
                -1.8844158736905865,
                -0.07958141949898312,
                3.279044193072622,
                1.6937774976931206,
                -4.2442987857425,
                1.344517249193846
               ],
               [
                -1.60894318764261,
                0.8394927193989601,
                6.264719408324745,
                1.8264803335594462,
                -1.1631348025575525,
                -1.3266107115494628,
                -0.6029628176799449,
                -0.30460311483158675,
                0.5259299386909976,
                0.8510364468622633,
                -2.0049750062259775,
                -2.2209200522853623,
                -5.6897238660469025,
                5.458094625029366,
                2.4372007485479976,
                -1.2473646595111643,
                9.392277265777325,
                -5.614410226066111,
                -3.7585865865657078,
                1.2267887138911118,
                -0.9300008663622892,
                4.052442893704252,
                0.24166408144901033,
                -3.666663446539294,
                -1.1847346488875599,
                -1.4024451701042593,
                -0.3427389990828567,
                -1.9342579243756026,
                -0.10725654081320288,
                3.296073982315166,
                1.6893651665489011,
                -4.326547838072788,
                1.3353141411006908
               ]
              ],
              "y": [
               [
                -1.5464688970550347,
                0.7760836769696606,
                0.9697420736081526,
                0.6457929259724116,
                0.3301857463732442,
                -0.6286218555396376,
                -0.7277623510653777,
                -0.9347737706153864,
                1.644852357558494,
                1.3191126321238473,
                -0.4807306706443733,
                -2.5370470677278627,
                0.8454012436593171,
                -0.7579418044125786,
                -0.8916349282838502,
                -0.6406231347934138,
                -0.30983365724056966,
                2.4129961799071498,
                -0.5619224506676433,
                -0.28712883268018036,
                0.7578152995281995,
                0.11783686366087172,
                0.572473567714158,
                0.09857337546724311,
                -1.1145723405215204,
                0.9696114355402768,
                0.564099543801669,
                -2.7174709106394523,
                0.3295340683403565,
                0.2149658202464339,
                0.5569820320050203,
                0.5432865444288233,
                1.2432709619512117
               ],
               [
                -1.5837703120091882,
                0.770197417314084,
                0.9466438136971445,
                0.6240515499702401,
                0.3101926946240253,
                -0.659506811266421,
                -0.7587930099741153,
                -0.9703559331056759,
                1.645804469548392,
                1.3112377803566744,
                -0.5104171124308313,
                -2.591499221901064,
                0.8391920261121821,
                -0.8009786080444686,
                -0.9323768503146158,
                -0.6746829644849318,
                -0.35390012866915,
                2.4413752245128295,
                -0.5932277968128696,
                -0.3178696402378554,
                0.7443496485482627,
                0.0865882956328978,
                0.5587490828414453,
                0.07988301726239891,
                -1.1331061623423735,
                0.9626083620595466,
                0.545717916592805,
                -2.771695551662801,
                0.30832055674806214,
                0.181217339486256,
                0.5338290507169042,
                0.531747680792842,
                1.2304741764393692
               ]
              ]
             },
             {
              "title": "LOO PCA — removed: Ankara",
              "xaxis.title.text": "PC1 (LOO 85.2% | full 85.0%)",
              "yaxis.title.text": "PC2 (LOO 10.1% | full 10.2%)"
             }
            ],
            "label": "Ankara",
            "method": "update"
           },
           {
            "args": [
             {
              "text": [
               [
                "Amsterdam",
                "Ankara",
                "Athens",
                "Belgrade",
                "Berlin",
                "Bern",
                "Bonn",
                "Bruxells",
                "Bucarest",
                "Budapest",
                "Copenhagen",
                "Dublin",
                "Helsinki",
                "Lisbon",
                "London",
                "Luxemborg",
                "Marbella",
                "Moscow",
                "Oslo",
                "Paris",
                "Prague",
                "Rome",
                "Sofia",
                "Stockholm",
                "Vienna",
                "Warsaw",
                "Bratislava",
                "St. Petersberg",
                "Ljubljana",
                "Madrid",
                "Milan",
                "Edinburgh",
                "Skopje"
               ],
               [
                "Amsterdam",
                "Ankara",
                "Athens",
                "Belgrade",
                "Berlin",
                "Bern",
                "Bonn",
                "Bruxells",
                "Bucarest",
                "Budapest",
                "Copenhagen",
                "Dublin",
                "Helsinki",
                "Lisbon",
                "London",
                "Luxemborg",
                "Marbella",
                "Moscow",
                "Oslo",
                "Paris",
                "Prague",
                "Rome",
                "Sofia",
                "Stockholm",
                "Vienna",
                "Warsaw",
                "Bratislava",
                "St. Petersberg",
                "Ljubljana",
                "Madrid",
                "Milan",
                "Edinburgh",
                "Skopje"
               ]
              ],
              "x": [
               [
                -1.486017212500702,
                1.092704752764554,
                6.747444330409995,
                2.1140713845295225,
                -1.0045877934269332,
                -1.189500867964902,
                -0.43253559473704756,
                -0.12277452039827981,
                0.774902848428878,
                1.1045390517651628,
                -1.8909283400100676,
                -2.1409721054829283,
                -5.7089699463790415,
                5.880561964751322,
                2.731634633036941,
                -1.1098769448055488,
                9.984581305299619,
                -5.610982176038463,
                -3.7163975016464876,
                1.4744877966170293,
                -0.7586907504152249,
                4.430182404892097,
                0.4625067194099651,
                -3.611411469233931,
                -1.0444024961263607,
                -1.243199877745797,
                -0.15093143019732275,
                -1.8426928982130617,
                0.09316153295888714,
                3.639974149240252,
                1.9683140658442417,
                -4.2950025466606245,
                1.608251862444254
               ],
               [
                -1.60894318764261,
                0.8394927193989601,
                6.264719408324745,
                1.8264803335594462,
                -1.1631348025575525,
                -1.3266107115494628,
                -0.6029628176799449,
                -0.30460311483158675,
                0.5259299386909976,
                0.8510364468622633,
                -2.0049750062259775,
                -2.2209200522853623,
                -5.6897238660469025,
                5.458094625029366,
                2.4372007485479976,
                -1.2473646595111643,
                9.392277265777325,
                -5.614410226066111,
                -3.7585865865657078,
                1.2267887138911118,
                -0.9300008663622892,
                4.052442893704252,
                0.24166408144901033,
                -3.666663446539294,
                -1.1847346488875599,
                -1.4024451701042593,
                -0.3427389990828567,
                -1.9342579243756026,
                -0.10725654081320288,
                3.296073982315166,
                1.6893651665489011,
                -4.326547838072788,
                1.3353141411006908
               ]
              ],
              "y": [
               [
                -1.6634690199523627,
                0.8427752223818801,
                1.1339847612730376,
                0.7164969090837653,
                0.34546599278089346,
                -0.6695306093813695,
                -0.766506202841255,
                -0.9883082138756333,
                1.7512483713749751,
                1.4260038221761462,
                -0.5416276312760231,
                -2.711866580556962,
                0.8007512104616543,
                -0.6941534595173049,
                -0.8927481980311778,
                -0.675083088743628,
                -0.16261803217948487,
                2.453413175578335,
                -0.668530734133941,
                -0.2581398464417191,
                0.8003221397872662,
                0.19722003767494628,
                0.6253651713686064,
                0.04395410090220879,
                -1.1995459075084007,
                0.9984819182576606,
                0.6105949333459396,
                -2.9020308158081325,
                0.36637456364299137,
                0.30579948703916576,
                0.6407583567863552,
                0.5118927358943058,
                1.3572401917102992
               ],
               [
                -1.5837703120091882,
                0.770197417314084,
                0.9466438136971445,
                0.6240515499702401,
                0.3101926946240253,
                -0.659506811266421,
                -0.7587930099741153,
                -0.9703559331056759,
                1.645804469548392,
                1.3112377803566744,
                -0.5104171124308313,
                -2.591499221901064,
                0.8391920261121821,
                -0.8009786080444686,
                -0.9323768503146158,
                -0.6746829644849318,
                -0.35390012866915,
                2.4413752245128295,
                -0.5932277968128696,
                -0.3178696402378554,
                0.7443496485482627,
                0.0865882956328978,
                0.5587490828414453,
                0.07988301726239891,
                -1.1331061623423735,
                0.9626083620595466,
                0.545717916592805,
                -2.771695551662801,
                0.30832055674806214,
                0.181217339486256,
                0.5338290507169042,
                0.531747680792842,
                1.2304741764393692
               ]
              ]
             },
             {
              "title": "LOO PCA — removed: Athens",
              "xaxis.title.text": "PC1 (LOO 83.6% | full 85.0%)",
              "yaxis.title.text": "PC2 (LOO 11.2% | full 10.2%)"
             }
            ],
            "label": "Athens",
            "method": "update"
           },
           {
            "args": [
             {
              "text": [
               [
                "Amsterdam",
                "Ankara",
                "Athens",
                "Belgrade",
                "Berlin",
                "Bern",
                "Bonn",
                "Bruxells",
                "Bucarest",
                "Budapest",
                "Copenhagen",
                "Dublin",
                "Helsinki",
                "Lisbon",
                "London",
                "Luxemborg",
                "Marbella",
                "Moscow",
                "Oslo",
                "Paris",
                "Prague",
                "Rome",
                "Sofia",
                "Stockholm",
                "Vienna",
                "Warsaw",
                "Bratislava",
                "St. Petersberg",
                "Ljubljana",
                "Madrid",
                "Milan",
                "Edinburgh",
                "Skopje"
               ],
               [
                "Amsterdam",
                "Ankara",
                "Athens",
                "Belgrade",
                "Berlin",
                "Bern",
                "Bonn",
                "Bruxells",
                "Bucarest",
                "Budapest",
                "Copenhagen",
                "Dublin",
                "Helsinki",
                "Lisbon",
                "London",
                "Luxemborg",
                "Marbella",
                "Moscow",
                "Oslo",
                "Paris",
                "Prague",
                "Rome",
                "Sofia",
                "Stockholm",
                "Vienna",
                "Warsaw",
                "Bratislava",
                "St. Petersberg",
                "Ljubljana",
                "Madrid",
                "Milan",
                "Edinburgh",
                "Skopje"
               ]
              ],
              "x": [
               [
                -1.5390426395196892,
                0.8878631733959641,
                6.259612386942256,
                1.866618048271086,
                -1.0943647378147645,
                -1.2572739542262885,
                -0.5417295578764535,
                -0.24632226166835278,
                0.5800780304394048,
                0.9013274410824498,
                -1.9280963862000504,
                -2.146526737032853,
                -5.573493901693123,
                5.4577485209758185,
                2.467422586065777,
                -1.1791435603265041,
                9.353031369615552,
                -5.497231781572377,
                -3.6633754568083554,
                1.2699057158560132,
                -0.8623047402542809,
                4.068457452481615,
                0.2960521682676489,
                -3.5721380783279737,
                -1.1211344332482032,
                -1.3300514017563105,
                -0.2816991095209752,
                -1.8632512433326462,
                -0.049116056173753316,
                3.31950336593093,
                1.7295008480166973,
                -4.224770363815665,
                1.3805633420984924
               ],
               [
                -1.60894318764261,
                0.8394927193989601,
                6.264719408324745,
                1.8264803335594462,
                -1.1631348025575525,
                -1.3266107115494628,
                -0.6029628176799449,
                -0.30460311483158675,
                0.5259299386909976,
                0.8510364468622633,
                -2.0049750062259775,
                -2.2209200522853623,
                -5.6897238660469025,
                5.458094625029366,
                2.4372007485479976,
                -1.2473646595111643,
                9.392277265777325,
                -5.614410226066111,
                -3.7585865865657078,
                1.2267887138911118,
                -0.9300008663622892,
                4.052442893704252,
                0.24166408144901033,
                -3.666663446539294,
                -1.1847346488875599,
                -1.4024451701042593,
                -0.3427389990828567,
                -1.9342579243756026,
                -0.10725654081320288,
                3.296073982315166,
                1.6893651665489011,
                -4.326547838072788,
                1.3353141411006908
               ]
              ],
              "y": [
               [
                -1.5536843598281904,
                0.7847117800497144,
                0.9769082559375948,
                0.638207082040805,
                0.3246731914292842,
                -0.6358746905082571,
                -0.7327450997049069,
                -0.9426466859324041,
                1.6464229957405758,
                1.3196261052336637,
                -0.49319056554186314,
                -2.5522624227931225,
                0.8351484670867843,
                -0.7558599047913698,
                -0.895620447785522,
                -0.6534476102691261,
                -0.3013641304657517,
                2.417916638640622,
                -0.5876976944165868,
                -0.28925923937739634,
                0.753768204389988,
                0.11747627550144317,
                0.5739038256124491,
                0.08731211102617992,
                -1.1127451629673144,
                0.9604692862224858,
                0.5613634338036516,
                -2.7293051074727104,
                0.32729923598533284,
                0.2128607612707447,
                0.5564673061446542,
                0.534968221287792,
                1.2444070264915619
               ],
               [
                -1.5837703120091882,
                0.770197417314084,
                0.9466438136971445,
                0.6240515499702401,
                0.3101926946240253,
                -0.659506811266421,
                -0.7587930099741153,
                -0.9703559331056759,
                1.645804469548392,
                1.3112377803566744,
                -0.5104171124308313,
                -2.591499221901064,
                0.8391920261121821,
                -0.8009786080444686,
                -0.9323768503146158,
                -0.6746829644849318,
                -0.35390012866915,
                2.4413752245128295,
                -0.5932277968128696,
                -0.3178696402378554,
                0.7443496485482627,
                0.0865882956328978,
                0.5587490828414453,
                0.07988301726239891,
                -1.1331061623423735,
                0.9626083620595466,
                0.545717916592805,
                -2.771695551662801,
                0.30832055674806214,
                0.181217339486256,
                0.5338290507169042,
                0.531747680792842,
                1.2304741764393692
               ]
              ]
             },
             {
              "title": "LOO PCA — removed: Belgrade",
              "xaxis.title.text": "PC1 (LOO 85.0% | full 85.0%)",
              "yaxis.title.text": "PC2 (LOO 10.2% | full 10.2%)"
             }
            ],
            "label": "Belgrade",
            "method": "update"
           },
           {
            "args": [
             {
              "text": [
               [
                "Amsterdam",
                "Ankara",
                "Athens",
                "Belgrade",
                "Berlin",
                "Bern",
                "Bonn",
                "Bruxells",
                "Bucarest",
                "Budapest",
                "Copenhagen",
                "Dublin",
                "Helsinki",
                "Lisbon",
                "London",
                "Luxemborg",
                "Marbella",
                "Moscow",
                "Oslo",
                "Paris",
                "Prague",
                "Rome",
                "Sofia",
                "Stockholm",
                "Vienna",
                "Warsaw",
                "Bratislava",
                "St. Petersberg",
                "Ljubljana",
                "Madrid",
                "Milan",
                "Edinburgh",
                "Skopje"
               ],
               [
                "Amsterdam",
                "Ankara",
                "Athens",
                "Belgrade",
                "Berlin",
                "Bern",
                "Bonn",
                "Bruxells",
                "Bucarest",
                "Budapest",
                "Copenhagen",
                "Dublin",
                "Helsinki",
                "Lisbon",
                "London",
                "Luxemborg",
                "Marbella",
                "Moscow",
                "Oslo",
                "Paris",
                "Prague",
                "Rome",
                "Sofia",
                "Stockholm",
                "Vienna",
                "Warsaw",
                "Bratislava",
                "St. Petersberg",
                "Ljubljana",
                "Madrid",
                "Milan",
                "Edinburgh",
                "Skopje"
               ]
              ],
              "x": [
               [
                -1.6222639455745576,
                0.7924234879519357,
                6.146730318033735,
                1.7663253236407026,
                -1.1845265816534483,
                -1.3451068488960642,
                -0.630433290676087,
                -0.33602718530447007,
                0.48216270737914413,
                0.8025886542540133,
                -2.014168809917612,
                -2.225463618999656,
                -5.651747262909176,
                5.351381540302437,
                2.370216951495372,
                -1.2668641547054722,
                9.234209809058544,
                -5.578984699782016,
                -3.7439665412120213,
                1.1746441290319753,
                -0.9547020008091536,
                3.963744942099107,
                0.20211597606475776,
                -3.6543115432755826,
                -1.2043498530826289,
                -1.4201957875001887,
                -0.37498532278200125,
                -1.9424168141192162,
                -0.14226973480505317,
                3.2168105688082136,
                1.630531856776553,
                -4.306207928481762,
                1.2805790779362276
               ],
               [
                -1.60894318764261,
                0.8394927193989601,
                6.264719408324745,
                1.8264803335594462,
                -1.1631348025575525,
                -1.3266107115494628,
                -0.6029628176799449,
                -0.30460311483158675,
                0.5259299386909976,
                0.8510364468622633,
                -2.0049750062259775,
                -2.2209200522853623,
                -5.6897238660469025,
                5.458094625029366,
                2.4372007485479976,
                -1.2473646595111643,
                9.392277265777325,
                -5.614410226066111,
                -3.7585865865657078,
                1.2267887138911118,
                -0.9300008663622892,
                4.052442893704252,
                0.24166408144901033,
                -3.666663446539294,
                -1.1847346488875599,
                -1.4024451701042593,
                -0.3427389990828567,
                -1.9342579243756026,
                -0.10725654081320288,
                3.296073982315166,
                1.6893651665489011,
                -4.326547838072788,
                1.3353141411006908
               ]
              ],
              "y": [
               [
                -1.5508754994214071,
                0.7699400001270136,
                0.9366422083334034,
                0.6235235820640325,
                0.3153105955159819,
                -0.6392744894402778,
                -0.7403279722865934,
                -0.9482948530733012,
                1.6344455819459318,
                1.303307412266573,
                -0.4920521465713575,
                -2.546176914417563,
                0.8412998190535566,
                -0.7866007205086442,
                -0.9129526991961936,
                -0.6560055590372076,
                -0.34842743131816306,
                2.426532371689052,
                -0.572968512449151,
                -0.30577439110920257,
                0.7444714607563723,
                0.09055535201825829,
                0.5611869924077162,
                0.08997196646764463,
                -1.0997757085584685,
                0.9611370953767362,
                0.5485033992814853,
                -2.7229874430027823,
                0.31408446102526644,
                0.1831878841423106,
                0.5341755193964061,
                0.536999284609439,
                1.2225299494291149
               ],
               [
                -1.5837703120091882,
                0.770197417314084,
                0.9466438136971445,
                0.6240515499702401,
                0.3101926946240253,
                -0.659506811266421,
                -0.7587930099741153,
                -0.9703559331056759,
                1.645804469548392,
                1.3112377803566744,
                -0.5104171124308313,
                -2.591499221901064,
                0.8391920261121821,
                -0.8009786080444686,
                -0.9323768503146158,
                -0.6746829644849318,
                -0.35390012866915,
                2.4413752245128295,
                -0.5932277968128696,
                -0.3178696402378554,
                0.7443496485482627,
                0.0865882956328978,
                0.5587490828414453,
                0.07988301726239891,
                -1.1331061623423735,
                0.9626083620595466,
                0.545717916592805,
                -2.771695551662801,
                0.30832055674806214,
                0.181217339486256,
                0.5338290507169042,
                0.531747680792842,
                1.2304741764393692
               ]
              ]
             },
             {
              "title": "LOO PCA — removed: Berlin",
              "xaxis.title.text": "PC1 (LOO 85.0% | full 85.0%)",
              "yaxis.title.text": "PC2 (LOO 10.2% | full 10.2%)"
             }
            ],
            "label": "Berlin",
            "method": "update"
           },
           {
            "args": [
             {
              "text": [
               [
                "Amsterdam",
                "Ankara",
                "Athens",
                "Belgrade",
                "Berlin",
                "Bern",
                "Bonn",
                "Bruxells",
                "Bucarest",
                "Budapest",
                "Copenhagen",
                "Dublin",
                "Helsinki",
                "Lisbon",
                "London",
                "Luxemborg",
                "Marbella",
                "Moscow",
                "Oslo",
                "Paris",
                "Prague",
                "Rome",
                "Sofia",
                "Stockholm",
                "Vienna",
                "Warsaw",
                "Bratislava",
                "St. Petersberg",
                "Ljubljana",
                "Madrid",
                "Milan",
                "Edinburgh",
                "Skopje"
               ],
               [
                "Amsterdam",
                "Ankara",
                "Athens",
                "Belgrade",
                "Berlin",
                "Bern",
                "Bonn",
                "Bruxells",
                "Bucarest",
                "Budapest",
                "Copenhagen",
                "Dublin",
                "Helsinki",
                "Lisbon",
                "London",
                "Luxemborg",
                "Marbella",
                "Moscow",
                "Oslo",
                "Paris",
                "Prague",
                "Rome",
                "Sofia",
                "Stockholm",
                "Vienna",
                "Warsaw",
                "Bratislava",
                "St. Petersberg",
                "Ljubljana",
                "Madrid",
                "Milan",
                "Edinburgh",
                "Skopje"
               ]
              ],
              "x": [
               [
                -1.633479093780876,
                0.7904727292359697,
                6.150844678972699,
                1.7638164173005304,
                -1.189418536403858,
                -1.3539407062893254,
                -0.6371597226136342,
                -0.3443949595199538,
                0.48096734964103177,
                0.8012930840691601,
                -2.023113262689167,
                -2.2390891465160654,
                -5.660018334601083,
                5.350019886416005,
                2.3655674445592756,
                -1.2751060223548454,
                9.237561238688558,
                -5.583510490633802,
                -3.7553851758326204,
                1.170488593666117,
                -0.9588086542192936,
                3.962742845384703,
                0.19885332808133763,
                -3.662712858278847,
                -1.2156911717921965,
                -1.424184810293066,
                -0.37865139870314635,
                -1.9568492369971224,
                -0.1463226225000202,
                3.2159771269909205,
                1.629023484926322,
                -4.313813194004242,
                1.2800804838012128
               ],
               [
                -1.60894318764261,
                0.8394927193989601,
                6.264719408324745,
                1.8264803335594462,
                -1.1631348025575525,
                -1.3266107115494628,
                -0.6029628176799449,
                -0.30460311483158675,
                0.5259299386909976,
                0.8510364468622633,
                -2.0049750062259775,
                -2.2209200522853623,
                -5.6897238660469025,
                5.458094625029366,
                2.4372007485479976,
                -1.2473646595111643,
                9.392277265777325,
                -5.614410226066111,
                -3.7585865865657078,
                1.2267887138911118,
                -0.9300008663622892,
                4.052442893704252,
                0.24166408144901033,
                -3.666663446539294,
                -1.1847346488875599,
                -1.4024451701042593,
                -0.3427389990828567,
                -1.9342579243756026,
                -0.10725654081320288,
                3.296073982315166,
                1.6893651665489011,
                -4.326547838072788,
                1.3353141411006908
               ]
              ],
              "y": [
               [
                -1.5923212347771931,
                0.7411816584618282,
                0.9262231489160454,
                0.5991519448156377,
                0.2855493757394505,
                -0.6706106939526902,
                -0.7721234869131154,
                -0.981163187856529,
                1.605035979451985,
                1.2802797860676538,
                -0.5309367614469243,
                -2.5881041313275843,
                0.7945414765905207,
                -0.7985649950634265,
                -0.9368285041214193,
                -0.6851590879112801,
                -0.3503851885638018,
                2.376370352502762,
                -0.6211927443824552,
                -0.3269131286866866,
                0.7157164196281571,
                0.07276294479548098,
                0.5334013965265682,
                0.048099322231867185,
                -1.145594362342883,
                0.9228248897925142,
                0.5219615614042362,
                -2.7659770581321648,
                0.28747236000293125,
                0.17021579228430983,
                0.5154917428797424,
                0.49631361349925945,
                1.202670105934515
               ],
               [
                -1.5837703120091882,
                0.770197417314084,
                0.9466438136971445,
                0.6240515499702401,
                0.3101926946240253,
                -0.659506811266421,
                -0.7587930099741153,
                -0.9703559331056759,
                1.645804469548392,
                1.3112377803566744,
                -0.5104171124308313,
                -2.591499221901064,
                0.8391920261121821,
                -0.8009786080444686,
                -0.9323768503146158,
                -0.6746829644849318,
                -0.35390012866915,
                2.4413752245128295,
                -0.5932277968128696,
                -0.3178696402378554,
                0.7443496485482627,
                0.0865882956328978,
                0.5587490828414453,
                0.07988301726239891,
                -1.1331061623423735,
                0.9626083620595466,
                0.545717916592805,
                -2.771695551662801,
                0.30832055674806214,
                0.181217339486256,
                0.5338290507169042,
                0.531747680792842,
                1.2304741764393692
               ]
              ]
             },
             {
              "title": "LOO PCA — removed: Bern",
              "xaxis.title.text": "PC1 (LOO 85.1% | full 85.0%)",
              "yaxis.title.text": "PC2 (LOO 10.2% | full 10.2%)"
             }
            ],
            "label": "Bern",
            "method": "update"
           },
           {
            "args": [
             {
              "text": [
               [
                "Amsterdam",
                "Ankara",
                "Athens",
                "Belgrade",
                "Berlin",
                "Bern",
                "Bonn",
                "Bruxells",
                "Bucarest",
                "Budapest",
                "Copenhagen",
                "Dublin",
                "Helsinki",
                "Lisbon",
                "London",
                "Luxemborg",
                "Marbella",
                "Moscow",
                "Oslo",
                "Paris",
                "Prague",
                "Rome",
                "Sofia",
                "Stockholm",
                "Vienna",
                "Warsaw",
                "Bratislava",
                "St. Petersberg",
                "Ljubljana",
                "Madrid",
                "Milan",
                "Edinburgh",
                "Skopje"
               ],
               [
                "Amsterdam",
                "Ankara",
                "Athens",
                "Belgrade",
                "Berlin",
                "Bern",
                "Bonn",
                "Bruxells",
                "Bucarest",
                "Budapest",
                "Copenhagen",
                "Dublin",
                "Helsinki",
                "Lisbon",
                "London",
                "Luxemborg",
                "Marbella",
                "Moscow",
                "Oslo",
                "Paris",
                "Prague",
                "Rome",
                "Sofia",
                "Stockholm",
                "Vienna",
                "Warsaw",
                "Bratislava",
                "St. Petersberg",
                "Ljubljana",
                "Madrid",
                "Milan",
                "Edinburgh",
                "Skopje"
               ]
              ],
              "x": [
               [
                -1.6124577550164008,
                0.8123854662448969,
                6.168007962687828,
                1.7861190746998223,
                -1.1673464878580235,
                -1.3285130624837722,
                -0.6246206563545629,
                -0.32579957933342424,
                0.50695126842928,
                0.8267019883987744,
                -1.9990439102736501,
                -2.223373770170747,
                -5.630468938892521,
                5.362515839303476,
                2.381044778891085,
                -1.2532343044034238,
                9.251166268279885,
                -5.552504756598214,
                -3.7305983933348137,
                1.1902071049272167,
                -0.9348524893460597,
                3.9821004052949722,
                0.22126188023410642,
                -3.637125633279954,
                -1.1829436950566765,
                -1.4023911702760974,
                -0.35484810818065426,
                -1.9380238186499623,
                -0.12345041990914005,
                3.2381102422449732,
                1.6513876918005777,
                -4.286451926707037,
                1.3054682483336777
               ],
               [
                -1.60894318764261,
                0.8394927193989601,
                6.264719408324745,
                1.8264803335594462,
                -1.1631348025575525,
                -1.3266107115494628,
                -0.6029628176799449,
                -0.30460311483158675,
                0.5259299386909976,
                0.8510364468622633,
                -2.0049750062259775,
                -2.2209200522853623,
                -5.6897238660469025,
                5.458094625029366,
                2.4372007485479976,
                -1.2473646595111643,
                9.392277265777325,
                -5.614410226066111,
                -3.7585865865657078,
                1.2267887138911118,
                -0.9300008663622892,
                4.052442893704252,
                0.24166408144901033,
                -3.666663446539294,
                -1.1847346488875599,
                -1.4024451701042593,
                -0.3427389990828567,
                -1.9342579243756026,
                -0.10725654081320288,
                3.296073982315166,
                1.6893651665489011,
                -4.326547838072788,
                1.3353141411006908
               ]
              ],
              "y": [
               [
                -1.5908709566218797,
                0.7386963117716221,
                0.9142818972101175,
                0.5935821178599227,
                0.28334545022541907,
                -0.6750490993229615,
                -0.766484412797626,
                -0.979032099100206,
                1.6044453110222312,
                1.274789523283058,
                -0.5317058127564079,
                -2.583264822269604,
                0.7983293852340818,
                -0.8074501641441191,
                -0.9428048375891276,
                -0.6874029627530178,
                -0.36582002516835166,
                2.383320607168807,
                -0.6178000960302589,
                -0.33444028330709097,
                0.7127368713946942,
                0.06355055668608896,
                0.5324310327421383,
                0.04972248764503558,
                -1.1469790541710678,
                0.924123681305465,
                0.5166732204141155,
                -2.7627014061969706,
                0.2826325934517264,
                0.15704686251862265,
                0.5058283882067521,
                0.4961806181764135,
                1.1936047031147554
               ],
               [
                -1.5837703120091882,
                0.770197417314084,
                0.9466438136971445,
                0.6240515499702401,
                0.3101926946240253,
                -0.659506811266421,
                -0.7587930099741153,
                -0.9703559331056759,
                1.645804469548392,
                1.3112377803566744,
                -0.5104171124308313,
                -2.591499221901064,
                0.8391920261121821,
                -0.8009786080444686,
                -0.9323768503146158,
                -0.6746829644849318,
                -0.35390012866915,
                2.4413752245128295,
                -0.5932277968128696,
                -0.3178696402378554,
                0.7443496485482627,
                0.0865882956328978,
                0.5587490828414453,
                0.07988301726239891,
                -1.1331061623423735,
                0.9626083620595466,
                0.545717916592805,
                -2.771695551662801,
                0.30832055674806214,
                0.181217339486256,
                0.5338290507169042,
                0.531747680792842,
                1.2304741764393692
               ]
              ]
             },
             {
              "title": "LOO PCA — removed: Bonn",
              "xaxis.title.text": "PC1 (LOO 85.3% | full 85.0%)",
              "yaxis.title.text": "PC2 (LOO 10.1% | full 10.2%)"
             }
            ],
            "label": "Bonn",
            "method": "update"
           },
           {
            "args": [
             {
              "text": [
               [
                "Amsterdam",
                "Ankara",
                "Athens",
                "Belgrade",
                "Berlin",
                "Bern",
                "Bonn",
                "Bruxells",
                "Bucarest",
                "Budapest",
                "Copenhagen",
                "Dublin",
                "Helsinki",
                "Lisbon",
                "London",
                "Luxemborg",
                "Marbella",
                "Moscow",
                "Oslo",
                "Paris",
                "Prague",
                "Rome",
                "Sofia",
                "Stockholm",
                "Vienna",
                "Warsaw",
                "Bratislava",
                "St. Petersberg",
                "Ljubljana",
                "Madrid",
                "Milan",
                "Edinburgh",
                "Skopje"
               ],
               [
                "Amsterdam",
                "Ankara",
                "Athens",
                "Belgrade",
                "Berlin",
                "Bern",
                "Bonn",
                "Bruxells",
                "Bucarest",
                "Budapest",
                "Copenhagen",
                "Dublin",
                "Helsinki",
                "Lisbon",
                "London",
                "Luxemborg",
                "Marbella",
                "Moscow",
                "Oslo",
                "Paris",
                "Prague",
                "Rome",
                "Sofia",
                "Stockholm",
                "Vienna",
                "Warsaw",
                "Bratislava",
                "St. Petersberg",
                "Ljubljana",
                "Madrid",
                "Milan",
                "Edinburgh",
                "Skopje"
               ]
              ],
              "x": [
               [
                -1.6014030288573076,
                0.8207882466469852,
                6.173415718569821,
                1.793220285532812,
                -1.1562653725956455,
                -1.320281540502627,
                -0.6080074542644759,
                -0.3143613344195115,
                0.5129084170981764,
                0.8333827025417898,
                -1.9887167655020817,
                -2.2072005862393165,
                -5.620384706272243,
                5.372187329280795,
                2.3927420802423036,
                -1.2424353207923933,
                9.255539538422576,
                -5.541467139664131,
                -3.7193853163854858,
                1.2002632435842815,
                -0.9253733013269595,
                3.988100848547442,
                0.23044395590928554,
                -3.62687744234493,
                -1.1787734272361674,
                -1.3904397105822666,
                -0.3451641919864573,
                -1.9248797488933331,
                -0.11365827602888973,
                3.2430166745658138,
                1.6592168039044637,
                -4.276158696322623,
                1.3116461809507873
               ],
               [
                -1.60894318764261,
                0.8394927193989601,
                6.264719408324745,
                1.8264803335594462,
                -1.1631348025575525,
                -1.3266107115494628,
                -0.6029628176799449,
                -0.30460311483158675,
                0.5259299386909976,
                0.8510364468622633,
                -2.0049750062259775,
                -2.2209200522853623,
                -5.6897238660469025,
                5.458094625029366,
                2.4372007485479976,
                -1.2473646595111643,
                9.392277265777325,
                -5.614410226066111,
                -3.7585865865657078,
                1.2267887138911118,
                -0.9300008663622892,
                4.052442893704252,
                0.24166408144901033,
                -3.666663446539294,
                -1.1847346488875599,
                -1.4024451701042593,
                -0.3427389990828567,
                -1.9342579243756026,
                -0.10725654081320288,
                3.296073982315166,
                1.6893651665489011,
                -4.326547838072788,
                1.3353141411006908
               ]
              ],
              "y": [
               [
                1.5938127049811481,
                -0.729685820777284,
                -0.9054637069865877,
                -0.5880402339768032,
                -0.2790025009292023,
                0.6807222606569162,
                0.7727283026832444,
                0.979671398585355,
                -1.598111683969651,
                -1.268414459085555,
                0.5370631336857308,
                2.5903936454704586,
                -0.7944173804349141,
                0.814611185113677,
                0.9504315923363514,
                0.6943661566733895,
                0.3773178696391571,
                -2.3790778607061234,
                0.6229131316822841,
                0.3424754110523999,
                -0.705824526857488,
                -0.05781428942488282,
                -0.5242974616049896,
                -0.044136401281213815,
                1.1516983242018424,
                -0.9169905350568178,
                -0.507103650918765,
                2.768145381606622,
                -0.27353785853457,
                -0.15006577204388175,
                -0.49854209339342365,
                -0.4897291679167447,
                -1.1864236958843264
               ],
               [
                -1.5837703120091882,
                0.770197417314084,
                0.9466438136971445,
                0.6240515499702401,
                0.3101926946240253,
                -0.659506811266421,
                -0.7587930099741153,
                -0.9703559331056759,
                1.645804469548392,
                1.3112377803566744,
                -0.5104171124308313,
                -2.591499221901064,
                0.8391920261121821,
                -0.8009786080444686,
                -0.9323768503146158,
                -0.6746829644849318,
                -0.35390012866915,
                2.4413752245128295,
                -0.5932277968128696,
                -0.3178696402378554,
                0.7443496485482627,
                0.0865882956328978,
                0.5587490828414453,
                0.07988301726239891,
                -1.1331061623423735,
                0.9626083620595466,
                0.545717916592805,
                -2.771695551662801,
                0.30832055674806214,
                0.181217339486256,
                0.5338290507169042,
                0.531747680792842,
                1.2304741764393692
               ]
              ]
             },
             {
              "title": "LOO PCA — removed: Bruxells",
              "xaxis.title.text": "PC1 (LOO 85.3% | full 85.0%)",
              "yaxis.title.text": "PC2 (LOO 10.0% | full 10.2%)"
             }
            ],
            "label": "Bruxells",
            "method": "update"
           },
           {
            "args": [
             {
              "text": [
               [
                "Amsterdam",
                "Ankara",
                "Athens",
                "Belgrade",
                "Berlin",
                "Bern",
                "Bonn",
                "Bruxells",
                "Bucarest",
                "Budapest",
                "Copenhagen",
                "Dublin",
                "Helsinki",
                "Lisbon",
                "London",
                "Luxemborg",
                "Marbella",
                "Moscow",
                "Oslo",
                "Paris",
                "Prague",
                "Rome",
                "Sofia",
                "Stockholm",
                "Vienna",
                "Warsaw",
                "Bratislava",
                "St. Petersberg",
                "Ljubljana",
                "Madrid",
                "Milan",
                "Edinburgh",
                "Skopje"
               ],
               [
                "Amsterdam",
                "Ankara",
                "Athens",
                "Belgrade",
                "Berlin",
                "Bern",
                "Bonn",
                "Bruxells",
                "Bucarest",
                "Budapest",
                "Copenhagen",
                "Dublin",
                "Helsinki",
                "Lisbon",
                "London",
                "Luxemborg",
                "Marbella",
                "Moscow",
                "Oslo",
                "Paris",
                "Prague",
                "Rome",
                "Sofia",
                "Stockholm",
                "Vienna",
                "Warsaw",
                "Bratislava",
                "St. Petersberg",
                "Ljubljana",
                "Madrid",
                "Milan",
                "Edinburgh",
                "Skopje"
               ]
              ],
              "x": [
               [
                -1.5726272730865545,
                0.84314506951856,
                6.210795911239528,
                1.8199367926041734,
                -1.1339568634177861,
                -1.2935558363368507,
                -0.5816413849598511,
                -0.28578100410515916,
                0.5291443241314637,
                0.8538608944370316,
                -1.9639089869333621,
                -2.175107327300158,
                -5.608935736161294,
                5.413691716463895,
                2.4287713690578494,
                -1.2170102062554473,
                9.305348849028421,
                -5.541901953762333,
                -3.699437993385029,
                1.2305461818947618,
                -0.9044345053854648,
                4.023661683216386,
                0.25188507809424365,
                -3.6072820410240194,
                -1.158858794060367,
                -1.3752681593366818,
                -0.32183262600880425,
                -1.891306698381144,
                -0.08912675903314618,
                3.2777608385337995,
                1.687145944700836,
                -4.260060359121886,
                1.3354841792658554
               ],
               [
                -1.60894318764261,
                0.8394927193989601,
                6.264719408324745,
                1.8264803335594462,
                -1.1631348025575525,
                -1.3266107115494628,
                -0.6029628176799449,
                -0.30460311483158675,
                0.5259299386909976,
                0.8510364468622633,
                -2.0049750062259775,
                -2.2209200522853623,
                -5.6897238660469025,
                5.458094625029366,
                2.4372007485479976,
                -1.2473646595111643,
                9.392277265777325,
                -5.614410226066111,
                -3.7585865865657078,
                1.2267887138911118,
                -0.9300008663622892,
                4.052442893704252,
                0.24166408144901033,
                -3.666663446539294,
                -1.1847346488875599,
                -1.4024451701042593,
                -0.3427389990828567,
                -1.9342579243756026,
                -0.10725654081320288,
                3.296073982315166,
                1.6893651665489011,
                -4.326547838072788,
                1.3353141411006908
               ]
              ],
              "y": [
               [
                -1.5249857222422523,
                0.8084754255279557,
                1.0130641621461955,
                0.6703911495020927,
                0.3604423732934658,
                -0.6075630796121289,
                -0.7070301126793439,
                -0.9173017688002048,
                1.6670161779936254,
                1.3447974962997564,
                -0.4560560384515816,
                -2.519604974540881,
                0.8788527908609142,
                -0.7296816380873532,
                -0.862062778861829,
                -0.6226260770125184,
                -0.2729449540516712,
                2.443155327977397,
                -0.5434831870019837,
                -0.2578960745633991,
                0.786109559957482,
                0.15066874664022106,
                0.5968732211826956,
                0.1310169926995463,
                -1.1054282329882754,
                0.9952995888485417,
                0.5945200156508945,
                -2.700645393104959,
                0.3585161941601559,
                0.25191322999439575,
                0.5900368168991135,
                0.577335314270458,
                1.2758416260871008
               ],
               [
                -1.5837703120091882,
                0.770197417314084,
                0.9466438136971445,
                0.6240515499702401,
                0.3101926946240253,
                -0.659506811266421,
                -0.7587930099741153,
                -0.9703559331056759,
                1.645804469548392,
                1.3112377803566744,
                -0.5104171124308313,
                -2.591499221901064,
                0.8391920261121821,
                -0.8009786080444686,
                -0.9323768503146158,
                -0.6746829644849318,
                -0.35390012866915,
                2.4413752245128295,
                -0.5932277968128696,
                -0.3178696402378554,
                0.7443496485482627,
                0.0865882956328978,
                0.5587490828414453,
                0.07988301726239891,
                -1.1331061623423735,
                0.9626083620595466,
                0.545717916592805,
                -2.771695551662801,
                0.30832055674806214,
                0.181217339486256,
                0.5338290507169042,
                0.531747680792842,
                1.2304741764393692
               ]
              ]
             },
             {
              "title": "LOO PCA — removed: Bucarest",
              "xaxis.title.text": "PC1 (LOO 85.7% | full 85.0%)",
              "yaxis.title.text": "PC2 (LOO 9.6% | full 10.2%)"
             }
            ],
            "label": "Bucarest",
            "method": "update"
           },
           {
            "args": [
             {
              "text": [
               [
                "Amsterdam",
                "Ankara",
                "Athens",
                "Belgrade",
                "Berlin",
                "Bern",
                "Bonn",
                "Bruxells",
                "Bucarest",
                "Budapest",
                "Copenhagen",
                "Dublin",
                "Helsinki",
                "Lisbon",
                "London",
                "Luxemborg",
                "Marbella",
                "Moscow",
                "Oslo",
                "Paris",
                "Prague",
                "Rome",
                "Sofia",
                "Stockholm",
                "Vienna",
                "Warsaw",
                "Bratislava",
                "St. Petersberg",
                "Ljubljana",
                "Madrid",
                "Milan",
                "Edinburgh",
                "Skopje"
               ],
               [
                "Amsterdam",
                "Ankara",
                "Athens",
                "Belgrade",
                "Berlin",
                "Bern",
                "Bonn",
                "Bruxells",
                "Bucarest",
                "Budapest",
                "Copenhagen",
                "Dublin",
                "Helsinki",
                "Lisbon",
                "London",
                "Luxemborg",
                "Marbella",
                "Moscow",
                "Oslo",
                "Paris",
                "Prague",
                "Rome",
                "Sofia",
                "Stockholm",
                "Vienna",
                "Warsaw",
                "Bratislava",
                "St. Petersberg",
                "Ljubljana",
                "Madrid",
                "Milan",
                "Edinburgh",
                "Skopje"
               ]
              ],
              "x": [
               [
                -1.5653615756882233,
                0.8559338416886524,
                6.217936952107206,
                1.8319049965429646,
                -1.123205701192239,
                -1.2845489667746024,
                -0.5716368732074353,
                -0.277024953367735,
                0.5461062739468728,
                0.8676755708448312,
                -1.9542322614480903,
                -2.1702267088539613,
                -5.594729095924037,
                5.418349552418747,
                2.434156832444222,
                -1.206600318209403,
                9.308114431310642,
                -5.52046989212832,
                -3.686794591965903,
                1.2383956582291233,
                -0.891562449849065,
                4.030801657155222,
                0.26452858511507027,
                -3.5954203653780255,
                -1.1465323829390055,
                -1.3590183785645757,
                -0.3111838117759013,
                -1.8871677720468285,
                -0.07918062362124625,
                3.2836777622783058,
                1.6958016168557195,
                -4.247413632424879,
                1.3466021952667309
               ],
               [
                -1.60894318764261,
                0.8394927193989601,
                6.264719408324745,
                1.8264803335594462,
                -1.1631348025575525,
                -1.3266107115494628,
                -0.6029628176799449,
                -0.30460311483158675,
                0.5259299386909976,
                0.8510364468622633,
                -2.0049750062259775,
                -2.2209200522853623,
                -5.6897238660469025,
                5.458094625029366,
                2.4372007485479976,
                -1.2473646595111643,
                9.392277265777325,
                -5.614410226066111,
                -3.7585865865657078,
                1.2267887138911118,
                -0.9300008663622892,
                4.052442893704252,
                0.24166408144901033,
                -3.666663446539294,
                -1.1847346488875599,
                -1.4024451701042593,
                -0.3427389990828567,
                -1.9342579243756026,
                -0.10725654081320288,
                3.296073982315166,
                1.6893651665489011,
                -4.326547838072788,
                1.3353141411006908
               ]
              ],
              "y": [
               [
                -1.5269010392233622,
                0.8041048013851979,
                1.0118474868390563,
                0.6628779464445586,
                0.34138473440191747,
                -0.6239929096366744,
                -0.7163319638170124,
                -0.9262539699057868,
                1.6627847385563668,
                1.328072857627735,
                -0.46522609030579115,
                -2.526215534157703,
                0.8662448021441476,
                -0.7369489189289197,
                -0.870314596066603,
                -0.6411941674945365,
                -0.27312027149679385,
                2.429054743904712,
                -0.5437470238278937,
                -0.276549067534905,
                0.7683486663915718,
                0.14727459360440073,
                0.5855503667091864,
                0.12126558042136559,
                -1.108856484709252,
                0.9918452000675255,
                0.5751126421624979,
                -2.7042289591704733,
                0.3416869772870676,
                0.238015314236405,
                0.5720824672591622,
                0.5623254466293648,
                1.2580744878312047
               ],
               [
                -1.5837703120091882,
                0.770197417314084,
                0.9466438136971445,
                0.6240515499702401,
                0.3101926946240253,
                -0.659506811266421,
                -0.7587930099741153,
                -0.9703559331056759,
                1.645804469548392,
                1.3112377803566744,
                -0.5104171124308313,
                -2.591499221901064,
                0.8391920261121821,
                -0.8009786080444686,
                -0.9323768503146158,
                -0.6746829644849318,
                -0.35390012866915,
                2.4413752245128295,
                -0.5932277968128696,
                -0.3178696402378554,
                0.7443496485482627,
                0.0865882956328978,
                0.5587490828414453,
                0.07988301726239891,
                -1.1331061623423735,
                0.9626083620595466,
                0.545717916592805,
                -2.771695551662801,
                0.30832055674806214,
                0.181217339486256,
                0.5338290507169042,
                0.531747680792842,
                1.2304741764393692
               ]
              ]
             },
             {
              "title": "LOO PCA — removed: Budapest",
              "xaxis.title.text": "PC1 (LOO 85.4% | full 85.0%)",
              "yaxis.title.text": "PC2 (LOO 9.8% | full 10.2%)"
             }
            ],
            "label": "Budapest",
            "method": "update"
           },
           {
            "args": [
             {
              "text": [
               [
                "Amsterdam",
                "Ankara",
                "Athens",
                "Belgrade",
                "Berlin",
                "Bern",
                "Bonn",
                "Bruxells",
                "Bucarest",
                "Budapest",
                "Copenhagen",
                "Dublin",
                "Helsinki",
                "Lisbon",
                "London",
                "Luxemborg",
                "Marbella",
                "Moscow",
                "Oslo",
                "Paris",
                "Prague",
                "Rome",
                "Sofia",
                "Stockholm",
                "Vienna",
                "Warsaw",
                "Bratislava",
                "St. Petersberg",
                "Ljubljana",
                "Madrid",
                "Milan",
                "Edinburgh",
                "Skopje"
               ],
               [
                "Amsterdam",
                "Ankara",
                "Athens",
                "Belgrade",
                "Berlin",
                "Bern",
                "Bonn",
                "Bruxells",
                "Bucarest",
                "Budapest",
                "Copenhagen",
                "Dublin",
                "Helsinki",
                "Lisbon",
                "London",
                "Luxemborg",
                "Marbella",
                "Moscow",
                "Oslo",
                "Paris",
                "Prague",
                "Rome",
                "Sofia",
                "Stockholm",
                "Vienna",
                "Warsaw",
                "Bratislava",
                "St. Petersberg",
                "Ljubljana",
                "Madrid",
                "Milan",
                "Edinburgh",
                "Skopje"
               ]
              ],
              "x": [
               [
                -1.6582330585496405,
                0.7714011054603818,
                6.144554841236511,
                1.7478210833823256,
                -1.2136334787190717,
                -1.3773467343425059,
                -0.6597156385224644,
                -0.3648071245760547,
                0.4615970279604368,
                0.7831867726515559,
                -2.049938312213158,
                -2.266140966534983,
                -5.698351320205158,
                5.344213489081217,
                2.350758572284678,
                -1.298227505710351,
                9.24137025052664,
                -5.619751543809901,
                -3.7877664173901446,
                1.1532715289765723,
                -0.9822078649399912,
                3.9520233578153134,
                0.1787228056611901,
                -3.695098891555511,
                -1.2350835669816236,
                -1.4497550158697319,
                -0.401153413977168,
                -1.9823831776417031,
                -0.1682090995880512,
                3.2028067173228285,
                1.6120839477660187,
                -4.348114309289888,
                1.2621676280782745
               ],
               [
                -1.60894318764261,
                0.8394927193989601,
                6.264719408324745,
                1.8264803335594462,
                -1.1631348025575525,
                -1.3266107115494628,
                -0.6029628176799449,
                -0.30460311483158675,
                0.5259299386909976,
                0.8510364468622633,
                -2.0049750062259775,
                -2.2209200522853623,
                -5.6897238660469025,
                5.458094625029366,
                2.4372007485479976,
                -1.2473646595111643,
                9.392277265777325,
                -5.614410226066111,
                -3.7585865865657078,
                1.2267887138911118,
                -0.9300008663622892,
                4.052442893704252,
                0.24166408144901033,
                -3.666663446539294,
                -1.1847346488875599,
                -1.4024451701042593,
                -0.3427389990828567,
                -1.9342579243756026,
                -0.10725654081320288,
                3.296073982315166,
                1.6893651665489011,
                -4.326547838072788,
                1.3353141411006908
               ]
              ],
              "y": [
               [
                -1.5882399030401235,
                0.7465151019315647,
                0.9453855090616797,
                0.6082115211110336,
                0.28772426576127186,
                -0.6750172568654021,
                -0.7722810946847931,
                -0.9808027700559895,
                1.6102719285515492,
                1.2802367867742934,
                -0.5234538926288953,
                -2.585907924768707,
                0.8035829253373825,
                -0.7942954961035571,
                -0.9295464784363514,
                -0.6899920248613155,
                -0.3356614481805997,
                2.3795052737403055,
                -0.6059988311068031,
                -0.32849512160456834,
                0.717186968766666,
                0.08467149098720099,
                0.5334612187480183,
                0.05904724320920708,
                -1.152845445118179,
                0.9344348141390362,
                0.5231680047016202,
                -2.7646662085847202,
                0.2883718436517559,
                0.17700967345056184,
                0.5173282329421306,
                0.5025327238433116,
                1.2051044767025234
               ],
               [
                -1.5837703120091882,
                0.770197417314084,
                0.9466438136971445,
                0.6240515499702401,
                0.3101926946240253,
                -0.659506811266421,
                -0.7587930099741153,
                -0.9703559331056759,
                1.645804469548392,
                1.3112377803566744,
                -0.5104171124308313,
                -2.591499221901064,
                0.8391920261121821,
                -0.8009786080444686,
                -0.9323768503146158,
                -0.6746829644849318,
                -0.35390012866915,
                2.4413752245128295,
                -0.5932277968128696,
                -0.3178696402378554,
                0.7443496485482627,
                0.0865882956328978,
                0.5587490828414453,
                0.07988301726239891,
                -1.1331061623423735,
                0.9626083620595466,
                0.545717916592805,
                -2.771695551662801,
                0.30832055674806214,
                0.181217339486256,
                0.5338290507169042,
                0.531747680792842,
                1.2304741764393692
               ]
              ]
             },
             {
              "title": "LOO PCA — removed: Copenhagen",
              "xaxis.title.text": "PC1 (LOO 85.0% | full 85.0%)",
              "yaxis.title.text": "PC2 (LOO 10.2% | full 10.2%)"
             }
            ],
            "label": "Copenhagen",
            "method": "update"
           },
           {
            "args": [
             {
              "text": [
               [
                "Amsterdam",
                "Ankara",
                "Athens",
                "Belgrade",
                "Berlin",
                "Bern",
                "Bonn",
                "Bruxells",
                "Bucarest",
                "Budapest",
                "Copenhagen",
                "Dublin",
                "Helsinki",
                "Lisbon",
                "London",
                "Luxemborg",
                "Marbella",
                "Moscow",
                "Oslo",
                "Paris",
                "Prague",
                "Rome",
                "Sofia",
                "Stockholm",
                "Vienna",
                "Warsaw",
                "Bratislava",
                "St. Petersberg",
                "Ljubljana",
                "Madrid",
                "Milan",
                "Edinburgh",
                "Skopje"
               ],
               [
                "Amsterdam",
                "Ankara",
                "Athens",
                "Belgrade",
                "Berlin",
                "Bern",
                "Bonn",
                "Bruxells",
                "Bucarest",
                "Budapest",
                "Copenhagen",
                "Dublin",
                "Helsinki",
                "Lisbon",
                "London",
                "Luxemborg",
                "Marbella",
                "Moscow",
                "Oslo",
                "Paris",
                "Prague",
                "Rome",
                "Sofia",
                "Stockholm",
                "Vienna",
                "Warsaw",
                "Bratislava",
                "St. Petersberg",
                "Ljubljana",
                "Madrid",
                "Milan",
                "Edinburgh",
                "Skopje"
               ]
              ],
              "x": [
               [
                -1.6977689468314572,
                0.775226151876997,
                6.208456428802236,
                1.7628606493617776,
                -1.2301239017024854,
                -1.4031483783597252,
                -0.6915772950773167,
                -0.39075623040902857,
                0.47037630027156735,
                0.7938064563966325,
                -2.078869011901347,
                -2.324316419182362,
                -5.745784663844303,
                5.375725251988742,
                2.3558934146089165,
                -1.3271920791983565,
                9.320766578763692,
                -5.6611069638102745,
                -3.8344374107295986,
                1.1527853790931617,
                -0.9925120820071727,
                3.9860549505887755,
                0.17414772729609893,
                -3.733166512209301,
                -1.2665378940739076,
                -1.464635516205936,
                -0.40543908579265964,
                -2.037205799082609,
                -0.1735500684939459,
                3.2349295827605222,
                1.628178359962689,
                -4.387264737659832,
                1.2818693456174468
               ],
               [
                -1.60894318764261,
                0.8394927193989601,
                6.264719408324745,
                1.8264803335594462,
                -1.1631348025575525,
                -1.3266107115494628,
                -0.6029628176799449,
                -0.30460311483158675,
                0.5259299386909976,
                0.8510364468622633,
                -2.0049750062259775,
                -2.2209200522853623,
                -5.6897238660469025,
                5.458094625029366,
                2.4372007485479976,
                -1.2473646595111643,
                9.392277265777325,
                -5.614410226066111,
                -3.7585865865657078,
                1.2267887138911118,
                -0.9300008663622892,
                4.052442893704252,
                0.24166408144901033,
                -3.666663446539294,
                -1.1847346488875599,
                -1.4024451701042593,
                -0.3427389990828567,
                -1.9342579243756026,
                -0.10725654081320288,
                3.296073982315166,
                1.6893651665489011,
                -4.326547838072788,
                1.3353141411006908
               ]
              ],
              "y": [
               [
                -1.7065585999312953,
                0.6953482776964628,
                0.99277150297456,
                0.5736310424730503,
                0.21198866197056995,
                -0.7782296663995223,
                -0.8442522305480836,
                -1.0725738858307432,
                1.5649719817959296,
                1.236348046180824,
                -0.618960274001742,
                -2.694229744053103,
                0.6853402231476843,
                -0.7977157941617101,
                -0.9683496891262074,
                -0.7836168056353261,
                -0.27683608929221476,
                2.2477685777105787,
                -0.7087919074463396,
                -0.3836640022252956,
                0.6459549578588031,
                0.07499554866657678,
                0.4782292948252626,
                -0.0381092183020619,
                -1.330192184298923,
                0.8600557248905933,
                0.4674028525073513,
                -2.889106210820063,
                0.2351290138553149,
                0.16879448990768806,
                0.4838425059422411,
                0.40013038429923037,
                1.174253471316805
               ],
               [
                -1.5837703120091882,
                0.770197417314084,
                0.9466438136971445,
                0.6240515499702401,
                0.3101926946240253,
                -0.659506811266421,
                -0.7587930099741153,
                -0.9703559331056759,
                1.645804469548392,
                1.3112377803566744,
                -0.5104171124308313,
                -2.591499221901064,
                0.8391920261121821,
                -0.8009786080444686,
                -0.9323768503146158,
                -0.6746829644849318,
                -0.35390012866915,
                2.4413752245128295,
                -0.5932277968128696,
                -0.3178696402378554,
                0.7443496485482627,
                0.0865882956328978,
                0.5587490828414453,
                0.07988301726239891,
                -1.1331061623423735,
                0.9626083620595466,
                0.545717916592805,
                -2.771695551662801,
                0.30832055674806214,
                0.181217339486256,
                0.5338290507169042,
                0.531747680792842,
                1.2304741764393692
               ]
              ]
             },
             {
              "title": "LOO PCA — removed: Dublin",
              "xaxis.title.text": "PC1 (LOO 86.3% | full 85.0%)",
              "yaxis.title.text": "PC2 (LOO 8.8% | full 10.2%)"
             }
            ],
            "label": "Dublin",
            "method": "update"
           },
           {
            "args": [
             {
              "text": [
               [
                "Amsterdam",
                "Ankara",
                "Athens",
                "Belgrade",
                "Berlin",
                "Bern",
                "Bonn",
                "Bruxells",
                "Bucarest",
                "Budapest",
                "Copenhagen",
                "Dublin",
                "Helsinki",
                "Lisbon",
                "London",
                "Luxemborg",
                "Marbella",
                "Moscow",
                "Oslo",
                "Paris",
                "Prague",
                "Rome",
                "Sofia",
                "Stockholm",
                "Vienna",
                "Warsaw",
                "Bratislava",
                "St. Petersberg",
                "Ljubljana",
                "Madrid",
                "Milan",
                "Edinburgh",
                "Skopje"
               ],
               [
                "Amsterdam",
                "Ankara",
                "Athens",
                "Belgrade",
                "Berlin",
                "Bern",
                "Bonn",
                "Bruxells",
                "Bucarest",
                "Budapest",
                "Copenhagen",
                "Dublin",
                "Helsinki",
                "Lisbon",
                "London",
                "Luxemborg",
                "Marbella",
                "Moscow",
                "Oslo",
                "Paris",
                "Prague",
                "Rome",
                "Sofia",
                "Stockholm",
                "Vienna",
                "Warsaw",
                "Bratislava",
                "St. Petersberg",
                "Ljubljana",
                "Madrid",
                "Milan",
                "Edinburgh",
                "Skopje"
               ]
              ],
              "x": [
               [
                -1.8332335102400117,
                0.6799818444490364,
                6.267908187357177,
                1.6968693588359156,
                -1.388761051701427,
                -1.5456124914667895,
                -0.7934462953307022,
                -0.48526138232838095,
                0.3504605720372323,
                0.6900428162406738,
                -2.256326793221008,
                -2.4552231454803253,
                -6.083034646376274,
                5.464947428815594,
                2.3402980749644318,
                -1.4602600657704865,
                9.517345865513862,
                -5.998985201589978,
                -4.071316451861505,
                1.089837074674031,
                -1.1493829323591107,
                3.994459435690168,
                0.06702320000562072,
                -3.9834800400297894,
                -1.3767920422870374,
                -1.6408841595835646,
                -0.5430848586813322,
                -2.157649018152826,
                -0.2974817875296194,
                3.2089990926623444,
                1.5540741534698517,
                -4.667853550147645,
                1.1827876730456002
               ],
               [
                -1.60894318764261,
                0.8394927193989601,
                6.264719408324745,
                1.8264803335594462,
                -1.1631348025575525,
                -1.3266107115494628,
                -0.6029628176799449,
                -0.30460311483158675,
                0.5259299386909976,
                0.8510364468622633,
                -2.0049750062259775,
                -2.2209200522853623,
                -5.6897238660469025,
                5.458094625029366,
                2.4372007485479976,
                -1.2473646595111643,
                9.392277265777325,
                -5.614410226066111,
                -3.7585865865657078,
                1.2267887138911118,
                -0.9300008663622892,
                4.052442893704252,
                0.24166408144901033,
                -3.666663446539294,
                -1.1847346488875599,
                -1.4024451701042593,
                -0.3427389990828567,
                -1.9342579243756026,
                -0.10725654081320288,
                3.296073982315166,
                1.6893651665489011,
                -4.326547838072788,
                1.3353141411006908
               ]
              ],
              "y": [
               [
                1.5675424761928936,
                -0.8219253595721664,
                -0.8808772539333813,
                -0.6378157344105531,
                -0.356680578163523,
                0.6221152104368819,
                0.7320019024833629,
                0.9565031758268567,
                -1.7177544665213496,
                -1.3708244302859882,
                0.4732534445752352,
                2.59801465758304,
                -0.9299860292427851,
                0.8638671862748203,
                0.9580355366419017,
                0.6415674573205928,
                0.4682363188869884,
                -2.65190833639362,
                0.5572128822288562,
                0.308061180039858,
                -0.8094833762591671,
                -0.040379990449886216,
                -0.6091107208552669,
                -0.1293828856192185,
                1.0178911240621749,
                -1.0451327713599925,
                -0.595669356566428,
                2.779972429371815,
                -0.34547871443680345,
                -0.12396681087961381,
                -0.5404188692892704,
                -0.6058216948863371,
                -1.2616436320427118
               ],
               [
                -1.5837703120091882,
                0.770197417314084,
                0.9466438136971445,
                0.6240515499702401,
                0.3101926946240253,
                -0.659506811266421,
                -0.7587930099741153,
                -0.9703559331056759,
                1.645804469548392,
                1.3112377803566744,
                -0.5104171124308313,
                -2.591499221901064,
                0.8391920261121821,
                -0.8009786080444686,
                -0.9323768503146158,
                -0.6746829644849318,
                -0.35390012866915,
                2.4413752245128295,
                -0.5932277968128696,
                -0.3178696402378554,
                0.7443496485482627,
                0.0865882956328978,
                0.5587490828414453,
                0.07988301726239891,
                -1.1331061623423735,
                0.9626083620595466,
                0.545717916592805,
                -2.771695551662801,
                0.30832055674806214,
                0.181217339486256,
                0.5338290507169042,
                0.531747680792842,
                1.2304741764393692
               ]
              ]
             },
             {
              "title": "LOO PCA — removed: Helsinki",
              "xaxis.title.text": "PC1 (LOO 84.2% | full 85.0%)",
              "yaxis.title.text": "PC2 (LOO 10.8% | full 10.2%)"
             }
            ],
            "label": "Helsinki",
            "method": "update"
           },
           {
            "args": [
             {
              "text": [
               [
                "Amsterdam",
                "Ankara",
                "Athens",
                "Belgrade",
                "Berlin",
                "Bern",
                "Bonn",
                "Bruxells",
                "Bucarest",
                "Budapest",
                "Copenhagen",
                "Dublin",
                "Helsinki",
                "Lisbon",
                "London",
                "Luxemborg",
                "Marbella",
                "Moscow",
                "Oslo",
                "Paris",
                "Prague",
                "Rome",
                "Sofia",
                "Stockholm",
                "Vienna",
                "Warsaw",
                "Bratislava",
                "St. Petersberg",
                "Ljubljana",
                "Madrid",
                "Milan",
                "Edinburgh",
                "Skopje"
               ],
               [
                "Amsterdam",
                "Ankara",
                "Athens",
                "Belgrade",
                "Berlin",
                "Bern",
                "Bonn",
                "Bruxells",
                "Bucarest",
                "Budapest",
                "Copenhagen",
                "Dublin",
                "Helsinki",
                "Lisbon",
                "London",
                "Luxemborg",
                "Marbella",
                "Moscow",
                "Oslo",
                "Paris",
                "Prague",
                "Rome",
                "Sofia",
                "Stockholm",
                "Vienna",
                "Warsaw",
                "Bratislava",
                "St. Petersberg",
                "Ljubljana",
                "Madrid",
                "Milan",
                "Edinburgh",
                "Skopje"
               ]
              ],
              "x": [
               [
                -1.459049211445088,
                1.0330808474005666,
                6.599150934391188,
                2.04481266744055,
                -1.022585419916628,
                -1.1798127043220679,
                -0.43235960545719243,
                -0.12307422885665097,
                0.7020755849399172,
                1.0386373141693255,
                -1.882100308402791,
                -2.0801889626154924,
                -5.683535272658943,
                5.794228648517861,
                2.6885683566163787,
                -1.0985532881511184,
                9.827371829308534,
                -5.61402212882876,
                -3.6861724153542816,
                1.4400462834594812,
                -0.7879033437815985,
                4.337061049267546,
                0.4208453810913925,
                -3.5973686498227164,
                -1.020314271545722,
                -1.275860092737865,
                -0.1840742354048782,
                -1.7823789149923273,
                0.06118780608444672,
                3.5567028974291146,
                1.9050126800222884,
                -4.279355570889369,
                1.5341549935627656
               ],
               [
                -1.60894318764261,
                0.8394927193989601,
                6.264719408324745,
                1.8264803335594462,
                -1.1631348025575525,
                -1.3266107115494628,
                -0.6029628176799449,
                -0.30460311483158675,
                0.5259299386909976,
                0.8510364468622633,
                -2.0049750062259775,
                -2.2209200522853623,
                -5.6897238660469025,
                5.458094625029366,
                2.4372007485479976,
                -1.2473646595111643,
                9.392277265777325,
                -5.614410226066111,
                -3.7585865865657078,
                1.2267887138911118,
                -0.9300008663622892,
                4.052442893704252,
                0.24166408144901033,
                -3.666663446539294,
                -1.1847346488875599,
                -1.4024451701042593,
                -0.3427389990828567,
                -1.9342579243756026,
                -0.10725654081320288,
                3.296073982315166,
                1.6893651665489011,
                -4.326547838072788,
                1.3353141411006908
               ]
              ],
              "y": [
               [
                1.6222054268856354,
                -0.7553855953973745,
                -0.8464061592258625,
                -0.5871153924493118,
                -0.3059945072933949,
                0.6849156485579496,
                0.7803252451336268,
                1.0038275744963119,
                -1.6564603849769406,
                -1.3065424928895983,
                0.5282610393907943,
                2.649775948907333,
                -0.8928880828730096,
                0.9128081331153717,
                1.0132780354873847,
                0.6984886713903018,
                0.5197847151202657,
                -2.561349165295179,
                0.5960004885224345,
                0.36821608503154385,
                -0.7484829812180248,
                -0.0015807680969129243,
                -0.5458940022299494,
                -0.0906519244000641,
                1.1477947754206075,
                -0.9829577259306185,
                -0.5303236335985811,
                2.8371854150906635,
                -0.28450891803026074,
                -0.09559290277500443,
                -0.4895700016773651,
                -0.5613077056506637,
                -1.2070467254267367
               ],
               [
                -1.5837703120091882,
                0.770197417314084,
                0.9466438136971445,
                0.6240515499702401,
                0.3101926946240253,
                -0.659506811266421,
                -0.7587930099741153,
                -0.9703559331056759,
                1.645804469548392,
                1.3112377803566744,
                -0.5104171124308313,
                -2.591499221901064,
                0.8391920261121821,
                -0.8009786080444686,
                -0.9323768503146158,
                -0.6746829644849318,
                -0.35390012866915,
                2.4413752245128295,
                -0.5932277968128696,
                -0.3178696402378554,
                0.7443496485482627,
                0.0865882956328978,
                0.5587490828414453,
                0.07988301726239891,
                -1.1331061623423735,
                0.9626083620595466,
                0.545717916592805,
                -2.771695551662801,
                0.30832055674806214,
                0.181217339486256,
                0.5338290507169042,
                0.531747680792842,
                1.2304741764393692
               ]
              ]
             },
             {
              "title": "LOO PCA — removed: Lisbon",
              "xaxis.title.text": "PC1 (LOO 84.1% | full 85.0%)",
              "yaxis.title.text": "PC2 (LOO 10.8% | full 10.2%)"
             }
            ],
            "label": "Lisbon",
            "method": "update"
           },
           {
            "args": [
             {
              "text": [
               [
                "Amsterdam",
                "Ankara",
                "Athens",
                "Belgrade",
                "Berlin",
                "Bern",
                "Bonn",
                "Bruxells",
                "Bucarest",
                "Budapest",
                "Copenhagen",
                "Dublin",
                "Helsinki",
                "Lisbon",
                "London",
                "Luxemborg",
                "Marbella",
                "Moscow",
                "Oslo",
                "Paris",
                "Prague",
                "Rome",
                "Sofia",
                "Stockholm",
                "Vienna",
                "Warsaw",
                "Bratislava",
                "St. Petersberg",
                "Ljubljana",
                "Madrid",
                "Milan",
                "Edinburgh",
                "Skopje"
               ],
               [
                "Amsterdam",
                "Ankara",
                "Athens",
                "Belgrade",
                "Berlin",
                "Bern",
                "Bonn",
                "Bruxells",
                "Bucarest",
                "Budapest",
                "Copenhagen",
                "Dublin",
                "Helsinki",
                "Lisbon",
                "London",
                "Luxemborg",
                "Marbella",
                "Moscow",
                "Oslo",
                "Paris",
                "Prague",
                "Rome",
                "Sofia",
                "Stockholm",
                "Vienna",
                "Warsaw",
                "Bratislava",
                "St. Petersberg",
                "Ljubljana",
                "Madrid",
                "Milan",
                "Edinburgh",
                "Skopje"
               ]
              ],
              "x": [
               [
                -1.51464357409152,
                0.905957189088783,
                6.298261473442746,
                1.887777109633761,
                -1.0817582422272904,
                -1.2395059928499232,
                -0.5205472042910918,
                -0.2225391408243025,
                0.5889987446061713,
                0.9141061547763107,
                -1.9135107199017902,
                -2.117620567320261,
                -5.582439961158787,
                5.50428269696422,
                2.503443933692536,
                -1.1612268713400247,
                9.412787609014641,
                -5.51721972480206,
                -3.6555093818031876,
                1.2965618071800091,
                -0.8526667990171072,
                4.103446567941033,
                0.3122807171955089,
                -3.5676517307353426,
                -1.0968928860050176,
                -1.3230596756780464,
                -0.2675991892803959,
                -1.8317508621616778,
                -0.032352141410395,
                3.3513972264166534,
                1.7521464707817636,
                -4.226026823454737,
                1.3965177213113615
               ],
               [
                -1.60894318764261,
                0.8394927193989601,
                6.264719408324745,
                1.8264803335594462,
                -1.1631348025575525,
                -1.3266107115494628,
                -0.6029628176799449,
                -0.30460311483158675,
                0.5259299386909976,
                0.8510364468622633,
                -2.0049750062259775,
                -2.2209200522853623,
                -5.6897238660469025,
                5.458094625029366,
                2.4372007485479976,
                -1.2473646595111643,
                9.392277265777325,
                -5.614410226066111,
                -3.7585865865657078,
                1.2267887138911118,
                -0.9300008663622892,
                4.052442893704252,
                0.24166408144901033,
                -3.666663446539294,
                -1.1847346488875599,
                -1.4024451701042593,
                -0.3427389990828567,
                -1.9342579243756026,
                -0.10725654081320288,
                3.296073982315166,
                1.6893651665489011,
                -4.326547838072788,
                1.3353141411006908
               ]
              ],
              "y": [
               [
                -1.5929736427656576,
                0.7354127206372436,
                0.8694808930949852,
                0.5795730590001771,
                0.28519695137396944,
                -0.6791973916640477,
                -0.7735121065501842,
                -0.9906378959978589,
                1.6071927168033726,
                1.270326612605096,
                -0.5257666108526832,
                -2.591294105107923,
                0.8337514259703506,
                -0.8576522941703293,
                -0.9692482053447511,
                -0.694238647312988,
                -0.44183142563026784,
                2.4439714672434616,
                -0.5989101563790872,
                -0.35339398468765865,
                0.7166474659856744,
                0.02806933105100638,
                0.5271345114652737,
                0.06636983824761886,
                -1.1388838470286167,
                0.9435657115604246,
                0.5151861079244541,
                -2.773463305437753,
                0.27779813251997937,
                0.11956848567670444,
                0.48826440290919987,
                0.5209303211659051,
                1.1833152583501583
               ],
               [
                -1.5837703120091882,
                0.770197417314084,
                0.9466438136971445,
                0.6240515499702401,
                0.3101926946240253,
                -0.659506811266421,
                -0.7587930099741153,
                -0.9703559331056759,
                1.645804469548392,
                1.3112377803566744,
                -0.5104171124308313,
                -2.591499221901064,
                0.8391920261121821,
                -0.8009786080444686,
                -0.9323768503146158,
                -0.6746829644849318,
                -0.35390012866915,
                2.4413752245128295,
                -0.5932277968128696,
                -0.3178696402378554,
                0.7443496485482627,
                0.0865882956328978,
                0.5587490828414453,
                0.07988301726239891,
                -1.1331061623423735,
                0.9626083620595466,
                0.545717916592805,
                -2.771695551662801,
                0.30832055674806214,
                0.181217339486256,
                0.5338290507169042,
                0.531747680792842,
                1.2304741764393692
               ]
              ]
             },
             {
              "title": "LOO PCA — removed: London",
              "xaxis.title.text": "PC1 (LOO 85.0% | full 85.0%)",
              "yaxis.title.text": "PC2 (LOO 10.2% | full 10.2%)"
             }
            ],
            "label": "London",
            "method": "update"
           },
           {
            "args": [
             {
              "text": [
               [
                "Amsterdam",
                "Ankara",
                "Athens",
                "Belgrade",
                "Berlin",
                "Bern",
                "Bonn",
                "Bruxells",
                "Bucarest",
                "Budapest",
                "Copenhagen",
                "Dublin",
                "Helsinki",
                "Lisbon",
                "London",
                "Luxemborg",
                "Marbella",
                "Moscow",
                "Oslo",
                "Paris",
                "Prague",
                "Rome",
                "Sofia",
                "Stockholm",
                "Vienna",
                "Warsaw",
                "Bratislava",
                "St. Petersberg",
                "Ljubljana",
                "Madrid",
                "Milan",
                "Edinburgh",
                "Skopje"
               ],
               [
                "Amsterdam",
                "Ankara",
                "Athens",
                "Belgrade",
                "Berlin",
                "Bern",
                "Bonn",
                "Bruxells",
                "Bucarest",
                "Budapest",
                "Copenhagen",
                "Dublin",
                "Helsinki",
                "Lisbon",
                "London",
                "Luxemborg",
                "Marbella",
                "Moscow",
                "Oslo",
                "Paris",
                "Prague",
                "Rome",
                "Sofia",
                "Stockholm",
                "Vienna",
                "Warsaw",
                "Bratislava",
                "St. Petersberg",
                "Ljubljana",
                "Madrid",
                "Milan",
                "Edinburgh",
                "Skopje"
               ]
              ],
              "x": [
               [
                -1.630083621661208,
                0.7930551519660557,
                6.152657934063341,
                1.7667532585545882,
                -1.1879627008737046,
                -1.3503490746531641,
                -0.6355064859676638,
                -0.3410766474091935,
                0.48421190048216983,
                0.804503646934489,
                -2.0208019733337683,
                -2.2367345563517453,
                -5.6602515665131286,
                5.353494851774732,
                2.368294549609741,
                -1.272594909939409,
                9.241101094849938,
                -5.581615710527677,
                -3.7537911689359564,
                1.1730769002582935,
                -0.956893328680001,
                3.9654746768487237,
                0.2015416518231254,
                -3.662398440516675,
                -1.208310071892454,
                -1.4226294869809188,
                -0.37662999667859853,
                -1.953423463612774,
                -0.14399841071062203,
                3.2177743025908554,
                1.6313329437421802,
                -4.313410834471062,
                1.282594676272088
               ],
               [
                -1.60894318764261,
                0.8394927193989601,
                6.264719408324745,
                1.8264803335594462,
                -1.1631348025575525,
                -1.3266107115494628,
                -0.6029628176799449,
                -0.30460311483158675,
                0.5259299386909976,
                0.8510364468622633,
                -2.0049750062259775,
                -2.2209200522853623,
                -5.6897238660469025,
                5.458094625029366,
                2.4372007485479976,
                -1.2473646595111643,
                9.392277265777325,
                -5.614410226066111,
                -3.7585865865657078,
                1.2267887138911118,
                -0.9300008663622892,
                4.052442893704252,
                0.24166408144901033,
                -3.666663446539294,
                -1.1847346488875599,
                -1.4024451701042593,
                -0.3427389990828567,
                -1.9342579243756026,
                -0.10725654081320288,
                3.296073982315166,
                1.6893651665489011,
                -4.326547838072788,
                1.3353141411006908
               ]
              ],
              "y": [
               [
                -1.5948352099563086,
                0.7378524210597501,
                0.9210850209069821,
                0.6009148939948404,
                0.28548566555685284,
                -0.6702110546217778,
                -0.7694648211452139,
                -0.9800267179305296,
                1.6053902319673539,
                1.2810360203548785,
                -0.5311152851906205,
                -2.5860303738322443,
                0.790510944141615,
                -0.7983198610966851,
                -0.9372123076521568,
                -0.6797180950168482,
                -0.3515339883708389,
                2.373090487302516,
                -0.618843464925102,
                -0.32605998071985165,
                0.7168185320644308,
                0.07013713077614199,
                0.5342546043950444,
                0.045698848893567304,
                -1.1423712018767802,
                0.9251985328061897,
                0.5223202611961696,
                -2.765947781117757,
                0.28703709174206726,
                0.16739141634901694,
                0.514066061207275,
                0.4928299931135015,
                1.2008538906076742
               ],
               [
                -1.5837703120091882,
                0.770197417314084,
                0.9466438136971445,
                0.6240515499702401,
                0.3101926946240253,
                -0.659506811266421,
                -0.7587930099741153,
                -0.9703559331056759,
                1.645804469548392,
                1.3112377803566744,
                -0.5104171124308313,
                -2.591499221901064,
                0.8391920261121821,
                -0.8009786080444686,
                -0.9323768503146158,
                -0.6746829644849318,
                -0.35390012866915,
                2.4413752245128295,
                -0.5932277968128696,
                -0.3178696402378554,
                0.7443496485482627,
                0.0865882956328978,
                0.5587490828414453,
                0.07988301726239891,
                -1.1331061623423735,
                0.9626083620595466,
                0.545717916592805,
                -2.771695551662801,
                0.30832055674806214,
                0.181217339486256,
                0.5338290507169042,
                0.531747680792842,
                1.2304741764393692
               ]
              ]
             },
             {
              "title": "LOO PCA — removed: Luxemborg",
              "xaxis.title.text": "PC1 (LOO 85.2% | full 85.0%)",
              "yaxis.title.text": "PC2 (LOO 10.1% | full 10.2%)"
             }
            ],
            "label": "Luxemborg",
            "method": "update"
           },
           {
            "args": [
             {
              "text": [
               [
                "Amsterdam",
                "Ankara",
                "Athens",
                "Belgrade",
                "Berlin",
                "Bern",
                "Bonn",
                "Bruxells",
                "Bucarest",
                "Budapest",
                "Copenhagen",
                "Dublin",
                "Helsinki",
                "Lisbon",
                "London",
                "Luxemborg",
                "Marbella",
                "Moscow",
                "Oslo",
                "Paris",
                "Prague",
                "Rome",
                "Sofia",
                "Stockholm",
                "Vienna",
                "Warsaw",
                "Bratislava",
                "St. Petersberg",
                "Ljubljana",
                "Madrid",
                "Milan",
                "Edinburgh",
                "Skopje"
               ],
               [
                "Amsterdam",
                "Ankara",
                "Athens",
                "Belgrade",
                "Berlin",
                "Bern",
                "Bonn",
                "Bruxells",
                "Bucarest",
                "Budapest",
                "Copenhagen",
                "Dublin",
                "Helsinki",
                "Lisbon",
                "London",
                "Luxemborg",
                "Marbella",
                "Moscow",
                "Oslo",
                "Paris",
                "Prague",
                "Rome",
                "Sofia",
                "Stockholm",
                "Vienna",
                "Warsaw",
                "Bratislava",
                "St. Petersberg",
                "Ljubljana",
                "Madrid",
                "Milan",
                "Edinburgh",
                "Skopje"
               ]
              ],
              "x": [
               [
                -1.444991681031704,
                1.2760369210388982,
                7.361983348513056,
                2.37406771109856,
                -0.9883300302356829,
                -1.1556959398784594,
                -0.3302208301137554,
                0.01160720993826795,
                0.9075680363442632,
                1.2673083567997436,
                -1.9213646462565854,
                -2.1283605758026054,
                -6.093249894312714,
                6.4868987753365035,
                3.085514344150438,
                -1.0697999428555194,
                10.908352901772775,
                -6.006133281435977,
                -3.898484154787854,
                1.7096086979593286,
                -0.7309444683171152,
                4.8877550436446375,
                0.5991720316472327,
                -3.803129272304166,
                -0.9438148288588388,
                -1.2584055091416755,
                -0.0728299692492383,
                -1.7958218820430807,
                0.19686114741931718,
                4.0189823348263465,
                2.2114115099268434,
                -4.557463524347762,
                1.8042649623293
               ],
               [
                -1.60894318764261,
                0.8394927193989601,
                6.264719408324745,
                1.8264803335594462,
                -1.1631348025575525,
                -1.3266107115494628,
                -0.6029628176799449,
                -0.30460311483158675,
                0.5259299386909976,
                0.8510364468622633,
                -2.0049750062259775,
                -2.2209200522853623,
                -5.6897238660469025,
                5.458094625029366,
                2.4372007485479976,
                -1.2473646595111643,
                9.392277265777325,
                -5.614410226066111,
                -3.7585865865657078,
                1.2267887138911118,
                -0.9300008663622892,
                4.052442893704252,
                0.24166408144901033,
                -3.666663446539294,
                -1.1847346488875599,
                -1.4024451701042593,
                -0.3427389990828567,
                -1.9342579243756026,
                -0.10725654081320288,
                3.296073982315166,
                1.6893651665489011,
                -4.326547838072788,
                1.3353141411006908
               ]
              ],
              "y": [
               [
                1.762328353375093,
                -0.8368566778574859,
                -0.9270640657819227,
                -0.6527433158894906,
                -0.34432248780198127,
                0.7191627682396321,
                0.8597860529045944,
                1.088247313089332,
                -1.8248021088965503,
                -1.4548849588026396,
                0.5691791789639401,
                2.8927704080921135,
                -0.9648934364032938,
                0.979221090902734,
                1.0935916011044065,
                0.7430428280623964,
                0.545987484994316,
                -2.80742262706947,
                0.6644765298643779,
                0.3768733380550149,
                -0.8308708682185499,
                -0.013072115674638242,
                -0.6162995142970681,
                -0.08516618943861132,
                1.176430606592585,
                -1.0724246507860287,
                -0.6030912088058831,
                3.086921066803523,
                -0.3338611653133746,
                -0.12481952051633627,
                -0.5624266802322341,
                -0.6098366105633142,
                -1.347172933700872
               ],
               [
                -1.5837703120091882,
                0.770197417314084,
                0.9466438136971445,
                0.6240515499702401,
                0.3101926946240253,
                -0.659506811266421,
                -0.7587930099741153,
                -0.9703559331056759,
                1.645804469548392,
                1.3112377803566744,
                -0.5104171124308313,
                -2.591499221901064,
                0.8391920261121821,
                -0.8009786080444686,
                -0.9323768503146158,
                -0.6746829644849318,
                -0.35390012866915,
                2.4413752245128295,
                -0.5932277968128696,
                -0.3178696402378554,
                0.7443496485482627,
                0.0865882956328978,
                0.5587490828414453,
                0.07988301726239891,
                -1.1331061623423735,
                0.9626083620595466,
                0.545717916592805,
                -2.771695551662801,
                0.30832055674806214,
                0.181217339486256,
                0.5338290507169042,
                0.531747680792842,
                1.2304741764393692
               ]
              ]
             },
             {
              "title": "LOO PCA — removed: Marbella",
              "xaxis.title.text": "PC1 (LOO 80.9% | full 85.0%)",
              "yaxis.title.text": "PC2 (LOO 13.0% | full 10.2%)"
             }
            ],
            "label": "Marbella",
            "method": "update"
           },
           {
            "args": [
             {
              "text": [
               [
                "Amsterdam",
                "Ankara",
                "Athens",
                "Belgrade",
                "Berlin",
                "Bern",
                "Bonn",
                "Bruxells",
                "Bucarest",
                "Budapest",
                "Copenhagen",
                "Dublin",
                "Helsinki",
                "Lisbon",
                "London",
                "Luxemborg",
                "Marbella",
                "Moscow",
                "Oslo",
                "Paris",
                "Prague",
                "Rome",
                "Sofia",
                "Stockholm",
                "Vienna",
                "Warsaw",
                "Bratislava",
                "St. Petersberg",
                "Ljubljana",
                "Madrid",
                "Milan",
                "Edinburgh",
                "Skopje"
               ],
               [
                "Amsterdam",
                "Ankara",
                "Athens",
                "Belgrade",
                "Berlin",
                "Bern",
                "Bonn",
                "Bruxells",
                "Bucarest",
                "Budapest",
                "Copenhagen",
                "Dublin",
                "Helsinki",
                "Lisbon",
                "London",
                "Luxemborg",
                "Marbella",
                "Moscow",
                "Oslo",
                "Paris",
                "Prague",
                "Rome",
                "Sofia",
                "Stockholm",
                "Vienna",
                "Warsaw",
                "Bratislava",
                "St. Petersberg",
                "Ljubljana",
                "Madrid",
                "Milan",
                "Edinburgh",
                "Skopje"
               ]
              ],
              "x": [
               [
                -1.7985610030021455,
                0.649997149656205,
                6.294174214705734,
                1.690543351490535,
                -1.4103909787944033,
                -1.5393150282399082,
                -0.785216127284543,
                -0.4696703409850828,
                0.29007650016054876,
                0.6436446190241341,
                -2.248763954037135,
                -2.387076184610931,
                -6.139455083616386,
                5.524670263216045,
                2.3903193454741394,
                -1.4526151125885802,
                9.600113380454003,
                -6.140366116797112,
                -4.061876500799418,
                1.1047940637226332,
                -1.1856561328164104,
                4.027569179899584,
                0.040325400423752496,
                -4.003895238894384,
                -1.3840690027291336,
                -1.6806558909332219,
                -0.5618299432869881,
                -2.085367860363328,
                -0.3068426291482779,
                3.2426468530196706,
                1.5540636816440199,
                -4.706965206816213,
                1.1552842160554853
               ],
               [
                -1.60894318764261,
                0.8394927193989601,
                6.264719408324745,
                1.8264803335594462,
                -1.1631348025575525,
                -1.3266107115494628,
                -0.6029628176799449,
                -0.30460311483158675,
                0.5259299386909976,
                0.8510364468622633,
                -2.0049750062259775,
                -2.2209200522853623,
                -5.6897238660469025,
                5.458094625029366,
                2.4372007485479976,
                -1.2473646595111643,
                9.392277265777325,
                -5.614410226066111,
                -3.7585865865657078,
                1.2267887138911118,
                -0.9300008663622892,
                4.052442893704252,
                0.24166408144901033,
                -3.666663446539294,
                -1.1847346488875599,
                -1.4024451701042593,
                -0.3427389990828567,
                -1.9342579243756026,
                -0.10725654081320288,
                3.296073982315166,
                1.6893651665489011,
                -4.326547838072788,
                1.3353141411006908
               ]
              ],
              "y": [
               [
                -1.500885837032271,
                0.8367291493169708,
                0.8053905444627186,
                0.6732069190347265,
                0.46551411785274566,
                -0.5405254255714398,
                -0.6690364627279101,
                -0.8904299677231426,
                1.798176486687612,
                1.4258444387315612,
                -0.3631785626883165,
                -2.5257565353817903,
                1.2278523840969842,
                -0.9861808277318457,
                -1.0112641801556754,
                -0.5476372365195399,
                -0.705833237963756,
                2.8394614311091217,
                -0.3469116481308921,
                -0.3069014828969983,
                0.9031647780697677,
                0.012859973994302214,
                0.6618243366180293,
                0.34294794194003686,
                -1.1164241174359888,
                1.1388364512123132,
                0.6564468641112934,
                -2.7300816081071835,
                0.4052135930133466,
                0.16007280488387945,
                0.5723906325873077,
                0.8365418707529244,
                1.3180338427002314
               ],
               [
                -1.5837703120091882,
                0.770197417314084,
                0.9466438136971445,
                0.6240515499702401,
                0.3101926946240253,
                -0.659506811266421,
                -0.7587930099741153,
                -0.9703559331056759,
                1.645804469548392,
                1.3112377803566744,
                -0.5104171124308313,
                -2.591499221901064,
                0.8391920261121821,
                -0.8009786080444686,
                -0.9323768503146158,
                -0.6746829644849318,
                -0.35390012866915,
                2.4413752245128295,
                -0.5932277968128696,
                -0.3178696402378554,
                0.7443496485482627,
                0.0865882956328978,
                0.5587490828414453,
                0.07988301726239891,
                -1.1331061623423735,
                0.9626083620595466,
                0.545717916592805,
                -2.771695551662801,
                0.30832055674806214,
                0.181217339486256,
                0.5338290507169042,
                0.531747680792842,
                1.2304741764393692
               ]
              ]
             },
             {
              "title": "LOO PCA — removed: Moscow",
              "xaxis.title.text": "PC1 (LOO 85.4% | full 85.0%)",
              "yaxis.title.text": "PC2 (LOO 9.6% | full 10.2%)"
             }
            ],
            "label": "Moscow",
            "method": "update"
           },
           {
            "args": [
             {
              "text": [
               [
                "Amsterdam",
                "Ankara",
                "Athens",
                "Belgrade",
                "Berlin",
                "Bern",
                "Bonn",
                "Bruxells",
                "Bucarest",
                "Budapest",
                "Copenhagen",
                "Dublin",
                "Helsinki",
                "Lisbon",
                "London",
                "Luxemborg",
                "Marbella",
                "Moscow",
                "Oslo",
                "Paris",
                "Prague",
                "Rome",
                "Sofia",
                "Stockholm",
                "Vienna",
                "Warsaw",
                "Bratislava",
                "St. Petersberg",
                "Ljubljana",
                "Madrid",
                "Milan",
                "Edinburgh",
                "Skopje"
               ],
               [
                "Amsterdam",
                "Ankara",
                "Athens",
                "Belgrade",
                "Berlin",
                "Bern",
                "Bonn",
                "Bruxells",
                "Bucarest",
                "Budapest",
                "Copenhagen",
                "Dublin",
                "Helsinki",
                "Lisbon",
                "London",
                "Luxemborg",
                "Marbella",
                "Moscow",
                "Oslo",
                "Paris",
                "Prague",
                "Rome",
                "Sofia",
                "Stockholm",
                "Vienna",
                "Warsaw",
                "Bratislava",
                "St. Petersberg",
                "Ljubljana",
                "Madrid",
                "Milan",
                "Edinburgh",
                "Skopje"
               ]
              ],
              "x": [
               [
                -1.7399789520788835,
                0.729380845450676,
                6.183389538451532,
                1.7212134137268786,
                -1.2880910277566773,
                -1.4537972062561815,
                -0.7247187742465699,
                -0.4239990716488757,
                0.41489525338399713,
                0.7419059388220954,
                -2.1391342206789923,
                -2.3598585971706365,
                -5.849867208853946,
                5.37561516275962,
                2.3329620922333527,
                -1.3720957734979462,
                9.334410084392731,
                -5.760424208909877,
                -3.907782599917347,
                1.117660232884867,
                -1.0516855325449008,
                3.958266215794517,
                0.12713786946500708,
                -3.8135925827169723,
                -1.2951650169596127,
                -1.5259580159967463,
                -0.46339833811172393,
                -2.0702552465948596,
                -0.22786294708347024,
                3.193982426128157,
                1.5810442944373455,
                -4.4775117508278806,
                1.225531104003977
               ],
               [
                -1.60894318764261,
                0.8394927193989601,
                6.264719408324745,
                1.8264803335594462,
                -1.1631348025575525,
                -1.3266107115494628,
                -0.6029628176799449,
                -0.30460311483158675,
                0.5259299386909976,
                0.8510364468622633,
                -2.0049750062259775,
                -2.2209200522853623,
                -5.6897238660469025,
                5.458094625029366,
                2.4372007485479976,
                -1.2473646595111643,
                9.392277265777325,
                -5.614410226066111,
                -3.7585865865657078,
                1.2267887138911118,
                -0.9300008663622892,
                4.052442893704252,
                0.24166408144901033,
                -3.666663446539294,
                -1.1847346488875599,
                -1.4024451701042593,
                -0.3427389990828567,
                -1.9342579243756026,
                -0.10725654081320288,
                3.296073982315166,
                1.6893651665489011,
                -4.326547838072788,
                1.3353141411006908
               ]
              ],
              "y": [
               [
                -1.6146429464962715,
                0.7557333804395234,
                0.9840445563862514,
                0.6278381395978986,
                0.2782461360341827,
                -0.6968261280115244,
                -0.7925845488930973,
                -1.002235953821837,
                1.6330235629290872,
                1.2919497180228918,
                -0.5347793129451693,
                -2.6275558039838227,
                0.7903640804905827,
                -0.7889875916742595,
                -0.9323441445557437,
                -0.7087493690262412,
                -0.30349988008784173,
                2.380964960445134,
                -0.6073664874189427,
                -0.33683079508569996,
                0.7160444312796537,
                0.10273511805157397,
                0.5337510541927727,
                0.04785328507669092,
                -1.172066127149961,
                0.954196540063766,
                0.5211278760882747,
                -2.8087875778968967,
                0.2844496273552178,
                0.1872851992715274,
                0.5225874196585144,
                0.4901189136396817,
                1.2175761806051428
               ],
               [
                -1.5837703120091882,
                0.770197417314084,
                0.9466438136971445,
                0.6240515499702401,
                0.3101926946240253,
                -0.659506811266421,
                -0.7587930099741153,
                -0.9703559331056759,
                1.645804469548392,
                1.3112377803566744,
                -0.5104171124308313,
                -2.591499221901064,
                0.8391920261121821,
                -0.8009786080444686,
                -0.9323768503146158,
                -0.6746829644849318,
                -0.35390012866915,
                2.4413752245128295,
                -0.5932277968128696,
                -0.3178696402378554,
                0.7443496485482627,
                0.0865882956328978,
                0.5587490828414453,
                0.07988301726239891,
                -1.1331061623423735,
                0.9626083620595466,
                0.545717916592805,
                -2.771695551662801,
                0.30832055674806214,
                0.181217339486256,
                0.5338290507169042,
                0.531747680792842,
                1.2304741764393692
               ]
              ]
             },
             {
              "title": "LOO PCA — removed: Oslo",
              "xaxis.title.text": "PC1 (LOO 85.0% | full 85.0%)",
              "yaxis.title.text": "PC2 (LOO 10.4% | full 10.2%)"
             }
            ],
            "label": "Oslo",
            "method": "update"
           },
           {
            "args": [
             {
              "text": [
               [
                "Amsterdam",
                "Ankara",
                "Athens",
                "Belgrade",
                "Berlin",
                "Bern",
                "Bonn",
                "Bruxells",
                "Bucarest",
                "Budapest",
                "Copenhagen",
                "Dublin",
                "Helsinki",
                "Lisbon",
                "London",
                "Luxemborg",
                "Marbella",
                "Moscow",
                "Oslo",
                "Paris",
                "Prague",
                "Rome",
                "Sofia",
                "Stockholm",
                "Vienna",
                "Warsaw",
                "Bratislava",
                "St. Petersberg",
                "Ljubljana",
                "Madrid",
                "Milan",
                "Edinburgh",
                "Skopje"
               ],
               [
                "Amsterdam",
                "Ankara",
                "Athens",
                "Belgrade",
                "Berlin",
                "Bern",
                "Bonn",
                "Bruxells",
                "Bucarest",
                "Budapest",
                "Copenhagen",
                "Dublin",
                "Helsinki",
                "Lisbon",
                "London",
                "Luxemborg",
                "Marbella",
                "Moscow",
                "Oslo",
                "Paris",
                "Prague",
                "Rome",
                "Sofia",
                "Stockholm",
                "Vienna",
                "Warsaw",
                "Bratislava",
                "St. Petersberg",
                "Ljubljana",
                "Madrid",
                "Milan",
                "Edinburgh",
                "Skopje"
               ]
              ],
              "x": [
               [
                -1.5491080898686407,
                0.8655353347959921,
                6.219968558289749,
                1.839950174165646,
                -1.110324414294369,
                -1.2701786198460432,
                -0.5558774248428536,
                -0.26137715182734017,
                0.5550525616579597,
                0.8771665793840566,
                -1.9412319706937122,
                -2.1514945036026543,
                -5.5807075124984635,
                5.427227101549159,
                2.444759476506991,
                -1.1915642762071263,
                9.309708662928971,
                -5.507447033906952,
                -3.6732251262797315,
                1.2501554006166062,
                -0.8805049247316901,
                4.037544822083482,
                0.2763413074439289,
                -3.582648788329077,
                -1.1296773968224438,
                -1.3484715994615075,
                -0.3005114172999,
                -1.8684460541827592,
                -0.06787902043907172,
                3.291322309458984,
                1.7053398345442923,
                -4.234218615997505,
                1.3549772183226312
               ],
               [
                -1.60894318764261,
                0.8394927193989601,
                6.264719408324745,
                1.8264803335594462,
                -1.1631348025575525,
                -1.3266107115494628,
                -0.6029628176799449,
                -0.30460311483158675,
                0.5259299386909976,
                0.8510364468622633,
                -2.0049750062259775,
                -2.2209200522853623,
                -5.6897238660469025,
                5.458094625029366,
                2.4372007485479976,
                -1.2473646595111643,
                9.392277265777325,
                -5.614410226066111,
                -3.7585865865657078,
                1.2267887138911118,
                -0.9300008663622892,
                4.052442893704252,
                0.24166408144901033,
                -3.666663446539294,
                -1.1847346488875599,
                -1.4024451701042593,
                -0.3427389990828567,
                -1.9342579243756026,
                -0.10725654081320288,
                3.296073982315166,
                1.6893651665489011,
                -4.326547838072788,
                1.3353141411006908
               ]
              ],
              "y": [
               [
                -1.5722381519337445,
                0.7506102878127112,
                0.9157459325601539,
                0.6039378202997977,
                0.2981261484885377,
                -0.659116887638321,
                -0.7568538844818781,
                -0.9668941344038985,
                1.6147740469591905,
                1.2849133055803743,
                -0.5129738915341132,
                -2.5658887762784324,
                0.821492648418182,
                -0.805300892559452,
                -0.9327569843241076,
                -0.6727461003564014,
                -0.36933572262284514,
                2.4078405120452295,
                -0.5944240882076633,
                -0.3233313225869202,
                0.7267925233387801,
                0.06976274416496828,
                0.5428659503276392,
                0.07062405790465648,
                -1.1211220611943231,
                0.9425708975603123,
                0.5296565000138854,
                -2.74426067201658,
                0.2946997946177993,
                0.16362934647681024,
                0.5152084073078677,
                0.517604076846477,
                1.203057246828389
               ],
               [
                -1.5837703120091882,
                0.770197417314084,
                0.9466438136971445,
                0.6240515499702401,
                0.3101926946240253,
                -0.659506811266421,
                -0.7587930099741153,
                -0.9703559331056759,
                1.645804469548392,
                1.3112377803566744,
                -0.5104171124308313,
                -2.591499221901064,
                0.8391920261121821,
                -0.8009786080444686,
                -0.9323768503146158,
                -0.6746829644849318,
                -0.35390012866915,
                2.4413752245128295,
                -0.5932277968128696,
                -0.3178696402378554,
                0.7443496485482627,
                0.0865882956328978,
                0.5587490828414453,
                0.07988301726239891,
                -1.1331061623423735,
                0.9626083620595466,
                0.545717916592805,
                -2.771695551662801,
                0.30832055674806214,
                0.181217339486256,
                0.5338290507169042,
                0.531747680792842,
                1.2304741764393692
               ]
              ]
             },
             {
              "title": "LOO PCA — removed: Paris",
              "xaxis.title.text": "PC1 (LOO 85.0% | full 85.0%)",
              "yaxis.title.text": "PC2 (LOO 10.2% | full 10.2%)"
             }
            ],
            "label": "Paris",
            "method": "update"
           },
           {
            "args": [
             {
              "text": [
               [
                "Amsterdam",
                "Ankara",
                "Athens",
                "Belgrade",
                "Berlin",
                "Bern",
                "Bonn",
                "Bruxells",
                "Bucarest",
                "Budapest",
                "Copenhagen",
                "Dublin",
                "Helsinki",
                "Lisbon",
                "London",
                "Luxemborg",
                "Marbella",
                "Moscow",
                "Oslo",
                "Paris",
                "Prague",
                "Rome",
                "Sofia",
                "Stockholm",
                "Vienna",
                "Warsaw",
                "Bratislava",
                "St. Petersberg",
                "Ljubljana",
                "Madrid",
                "Milan",
                "Edinburgh",
                "Skopje"
               ],
               [
                "Amsterdam",
                "Ankara",
                "Athens",
                "Belgrade",
                "Berlin",
                "Bern",
                "Bonn",
                "Bruxells",
                "Bucarest",
                "Budapest",
                "Copenhagen",
                "Dublin",
                "Helsinki",
                "Lisbon",
                "London",
                "Luxemborg",
                "Marbella",
                "Moscow",
                "Oslo",
                "Paris",
                "Prague",
                "Rome",
                "Sofia",
                "Stockholm",
                "Vienna",
                "Warsaw",
                "Bratislava",
                "St. Petersberg",
                "Ljubljana",
                "Madrid",
                "Milan",
                "Edinburgh",
                "Skopje"
               ]
              ],
              "x": [
               [
                -1.6140356213206504,
                0.7984992384390033,
                6.152557239149132,
                1.7729973175212579,
                -1.1771547808161085,
                -1.337309933617381,
                -0.6224456827508894,
                -0.32782859120660335,
                0.48800941666523584,
                0.8089167724226811,
                -2.006276889411882,
                -2.2161099376827758,
                -5.644386774803236,
                5.358536880139031,
                2.377819333647092,
                -1.259009787824164,
                9.240485033467749,
                -5.572967175620645,
                -3.7359118237372204,
                1.1819068750528978,
                -0.9477881527884271,
                3.970380736806898,
                0.20882994765711593,
                -3.6466897497983686,
                -1.197411334101045,
                -1.4138466935108143,
                -0.36797977429842504,
                -1.9331793171263367,
                -0.13516018538984229,
                3.22352744490836,
                1.6372324454851481,
                -4.298888099409153,
                1.2868934710639377
               ],
               [
                -1.60894318764261,
                0.8394927193989601,
                6.264719408324745,
                1.8264803335594462,
                -1.1631348025575525,
                -1.3266107115494628,
                -0.6029628176799449,
                -0.30460311483158675,
                0.5259299386909976,
                0.8510364468622633,
                -2.0049750062259775,
                -2.2209200522853623,
                -5.6897238660469025,
                5.458094625029366,
                2.4372007485479976,
                -1.2473646595111643,
                9.392277265777325,
                -5.614410226066111,
                -3.7585865865657078,
                1.2267887138911118,
                -0.9300008663622892,
                4.052442893704252,
                0.24166408144901033,
                -3.666663446539294,
                -1.1847346488875599,
                -1.4024451701042593,
                -0.3427389990828567,
                -1.9342579243756026,
                -0.10725654081320288,
                3.296073982315166,
                1.6893651665489011,
                -4.326547838072788,
                1.3353141411006908
               ]
              ],
              "y": [
               [
                -1.5333704094165275,
                0.7837813787919378,
                0.9481940600311028,
                0.6345901657442372,
                0.32952722002477974,
                -0.6274655754671872,
                -0.7267775051845486,
                -0.9343380175052738,
                1.64747492866302,
                1.3135078886008638,
                -0.4770367830265806,
                -2.530310876638859,
                0.8635839246098551,
                -0.7784561756090159,
                -0.9018675224897562,
                -0.6449785731712033,
                -0.3441900977284781,
                2.443701221678238,
                -0.5533391076405618,
                -0.29564891372537305,
                0.7559804910801768,
                0.10279373265384577,
                0.5733821727681194,
                0.10935037759135385,
                -1.0896357943751769,
                0.9769072167369287,
                0.559244359862942,
                -2.7069181908868467,
                0.32584725902507944,
                0.19634888444532372,
                0.5458581424383255,
                0.5562854905794864,
                1.233955118619949
               ],
               [
                -1.5837703120091882,
                0.770197417314084,
                0.9466438136971445,
                0.6240515499702401,
                0.3101926946240253,
                -0.659506811266421,
                -0.7587930099741153,
                -0.9703559331056759,
                1.645804469548392,
                1.3112377803566744,
                -0.5104171124308313,
                -2.591499221901064,
                0.8391920261121821,
                -0.8009786080444686,
                -0.9323768503146158,
                -0.6746829644849318,
                -0.35390012866915,
                2.4413752245128295,
                -0.5932277968128696,
                -0.3178696402378554,
                0.7443496485482627,
                0.0865882956328978,
                0.5587490828414453,
                0.07988301726239891,
                -1.1331061623423735,
                0.9626083620595466,
                0.545717916592805,
                -2.771695551662801,
                0.30832055674806214,
                0.181217339486256,
                0.5338290507169042,
                0.531747680792842,
                1.2304741764393692
               ]
              ]
             },
             {
              "title": "LOO PCA — removed: Prague",
              "xaxis.title.text": "PC1 (LOO 85.2% | full 85.0%)",
              "yaxis.title.text": "PC2 (LOO 10.1% | full 10.2%)"
             }
            ],
            "label": "Prague",
            "method": "update"
           },
           {
            "args": [
             {
              "text": [
               [
                "Amsterdam",
                "Ankara",
                "Athens",
                "Belgrade",
                "Berlin",
                "Bern",
                "Bonn",
                "Bruxells",
                "Bucarest",
                "Budapest",
                "Copenhagen",
                "Dublin",
                "Helsinki",
                "Lisbon",
                "London",
                "Luxemborg",
                "Marbella",
                "Moscow",
                "Oslo",
                "Paris",
                "Prague",
                "Rome",
                "Sofia",
                "Stockholm",
                "Vienna",
                "Warsaw",
                "Bratislava",
                "St. Petersberg",
                "Ljubljana",
                "Madrid",
                "Milan",
                "Edinburgh",
                "Skopje"
               ],
               [
                "Amsterdam",
                "Ankara",
                "Athens",
                "Belgrade",
                "Berlin",
                "Bern",
                "Bonn",
                "Bruxells",
                "Bucarest",
                "Budapest",
                "Copenhagen",
                "Dublin",
                "Helsinki",
                "Lisbon",
                "London",
                "Luxemborg",
                "Marbella",
                "Moscow",
                "Oslo",
                "Paris",
                "Prague",
                "Rome",
                "Sofia",
                "Stockholm",
                "Vienna",
                "Warsaw",
                "Bratislava",
                "St. Petersberg",
                "Ljubljana",
                "Madrid",
                "Milan",
                "Edinburgh",
                "Skopje"
               ]
              ],
              "x": [
               [
                -1.4900109640384953,
                0.9740086647936298,
                6.437531323939512,
                1.967290790021035,
                -1.044298716891905,
                -1.2091091367949476,
                -0.48013103009302804,
                -0.17731250578670596,
                0.6586552171169373,
                0.983794654713796,
                -1.8914445076655886,
                -2.1103015068851323,
                -5.600927941394314,
                5.624074375487275,
                2.5813304393909577,
                -1.1307978874627609,
                9.585701299627761,
                -5.524816749111711,
                -3.6568649898046095,
                1.3610813561464676,
                -0.8102460626475904,
                4.210293887029317,
                0.37030371877917095,
                -3.564570081173223,
                -1.062612597388057,
                -1.2839055887413156,
                -0.2202423877632949,
                -1.819845500495039,
                0.017461769863905494,
                3.446701384658931,
                1.8278089899570953,
                -4.22975276221175,
                1.4714469318529908
               ],
               [
                -1.60894318764261,
                0.8394927193989601,
                6.264719408324745,
                1.8264803335594462,
                -1.1631348025575525,
                -1.3266107115494628,
                -0.6029628176799449,
                -0.30460311483158675,
                0.5259299386909976,
                0.8510364468622633,
                -2.0049750062259775,
                -2.2209200522853623,
                -5.6897238660469025,
                5.458094625029366,
                2.4372007485479976,
                -1.2473646595111643,
                9.392277265777325,
                -5.614410226066111,
                -3.7585865865657078,
                1.2267887138911118,
                -0.9300008663622892,
                4.052442893704252,
                0.24166408144901033,
                -3.666663446539294,
                -1.1847346488875599,
                -1.4024451701042593,
                -0.3427389990828567,
                -1.9342579243756026,
                -0.10725654081320288,
                3.296073982315166,
                1.6893651665489011,
                -4.326547838072788,
                1.3353141411006908
               ]
              ],
              "y": [
               [
                -1.5928560826354439,
                0.7763850405444919,
                0.960426765866497,
                0.6320653584743765,
                0.3155920733004154,
                -0.6586165804128719,
                -0.7620134157078633,
                -0.9716358692541015,
                1.658622806989881,
                1.3249743354413461,
                -0.5136279447645814,
                -2.6088677212833193,
                0.842740130294558,
                -0.7969090606432485,
                -0.9344495123644487,
                -0.6749419671454926,
                -0.34518623996021497,
                2.450108425773153,
                -0.6020013271245962,
                -0.3139579791529707,
                0.7518146061621968,
                0.09486357719327143,
                0.5655989058531448,
                0.07886684296475215,
                -1.1419228831868586,
                0.9641204441244098,
                0.5523881008731524,
                -2.788722740962301,
                0.3140674361789943,
                0.19336044748395806,
                0.5448135375118275,
                0.5343369361272724,
                1.2454271306338844
               ],
               [
                -1.5837703120091882,
                0.770197417314084,
                0.9466438136971445,
                0.6240515499702401,
                0.3101926946240253,
                -0.659506811266421,
                -0.7587930099741153,
                -0.9703559331056759,
                1.645804469548392,
                1.3112377803566744,
                -0.5104171124308313,
                -2.591499221901064,
                0.8391920261121821,
                -0.8009786080444686,
                -0.9323768503146158,
                -0.6746829644849318,
                -0.35390012866915,
                2.4413752245128295,
                -0.5932277968128696,
                -0.3178696402378554,
                0.7443496485482627,
                0.0865882956328978,
                0.5587490828414453,
                0.07988301726239891,
                -1.1331061623423735,
                0.9626083620595466,
                0.545717916592805,
                -2.771695551662801,
                0.30832055674806214,
                0.181217339486256,
                0.5338290507169042,
                0.531747680792842,
                1.2304741764393692
               ]
              ]
             },
             {
              "title": "LOO PCA — removed: Rome",
              "xaxis.title.text": "PC1 (LOO 84.4% | full 85.0%)",
              "yaxis.title.text": "PC2 (LOO 10.6% | full 10.2%)"
             }
            ],
            "label": "Rome",
            "method": "update"
           },
           {
            "args": [
             {
              "text": [
               [
                "Amsterdam",
                "Ankara",
                "Athens",
                "Belgrade",
                "Berlin",
                "Bern",
                "Bonn",
                "Bruxells",
                "Bucarest",
                "Budapest",
                "Copenhagen",
                "Dublin",
                "Helsinki",
                "Lisbon",
                "London",
                "Luxemborg",
                "Marbella",
                "Moscow",
                "Oslo",
                "Paris",
                "Prague",
                "Rome",
                "Sofia",
                "Stockholm",
                "Vienna",
                "Warsaw",
                "Bratislava",
                "St. Petersberg",
                "Ljubljana",
                "Madrid",
                "Milan",
                "Edinburgh",
                "Skopje"
               ],
               [
                "Amsterdam",
                "Ankara",
                "Athens",
                "Belgrade",
                "Berlin",
                "Bern",
                "Bonn",
                "Bruxells",
                "Bucarest",
                "Budapest",
                "Copenhagen",
                "Dublin",
                "Helsinki",
                "Lisbon",
                "London",
                "Luxemborg",
                "Marbella",
                "Moscow",
                "Oslo",
                "Paris",
                "Prague",
                "Rome",
                "Sofia",
                "Stockholm",
                "Vienna",
                "Warsaw",
                "Bratislava",
                "St. Petersberg",
                "Ljubljana",
                "Madrid",
                "Milan",
                "Edinburgh",
                "Skopje"
               ]
              ],
              "x": [
               [
                -1.5775192727843168,
                0.8342074512157577,
                6.1809878088329615,
                1.8072597107857404,
                -1.1391658511724956,
                -1.299719311499572,
                -0.5865331926566876,
                -0.2927378281937475,
                0.5243254869474557,
                0.8450489936048767,
                -1.967981556661458,
                -2.179512061125991,
                -5.600621647174099,
                5.386947233755864,
                2.4101954360901354,
                -1.221238416547129,
                9.264382729597617,
                -5.527554638251945,
                -3.695694942143516,
                1.2167847129954117,
                -0.9094398281513324,
                4.0010639809875075,
                0.24496468372742117,
                -3.605868219865046,
                -1.1596159848231562,
                -1.374784279239327,
                -0.3305364061965182,
                -1.8971572816053808,
                -0.09850503742477738,
                3.2555213492251602,
                1.6718047863167467,
                -4.256690294902137,
                1.3223463700633988
               ],
               [
                -1.60894318764261,
                0.8394927193989601,
                6.264719408324745,
                1.8264803335594462,
                -1.1631348025575525,
                -1.3266107115494628,
                -0.6029628176799449,
                -0.30460311483158675,
                0.5259299386909976,
                0.8510364468622633,
                -2.0049750062259775,
                -2.2209200522853623,
                -5.6897238660469025,
                5.458094625029366,
                2.4372007485479976,
                -1.2473646595111643,
                9.392277265777325,
                -5.614410226066111,
                -3.7585865865657078,
                1.2267887138911118,
                -0.9300008663622892,
                4.052442893704252,
                0.24166408144901033,
                -3.666663446539294,
                -1.1847346488875599,
                -1.4024451701042593,
                -0.3427389990828567,
                -1.9342579243756026,
                -0.10725654081320288,
                3.296073982315166,
                1.6893651665489011,
                -4.326547838072788,
                1.3353141411006908
               ]
              ],
              "y": [
               [
                -1.5435379701115408,
                0.7748529301526931,
                0.9574004631122837,
                0.6342298302770156,
                0.3222052006336502,
                -0.634671844768172,
                -0.7340776151382538,
                -0.9407386469908205,
                1.63694887011293,
                1.307127124608,
                -0.4842872901041555,
                -2.538433438157617,
                0.8458326114716024,
                -0.7707323536040692,
                -0.8995861789910545,
                -0.651140043278127,
                -0.3258672533703835,
                2.418153188046829,
                -0.5639550038127155,
                -0.29729679108546325,
                0.7494097133843645,
                0.10734232736997139,
                0.5642277928123024,
                0.09841577847433187,
                -1.1085589373130638,
                0.9659521436967474,
                0.5538170942839513,
                -2.7157667488049113,
                0.3198883964257233,
                0.20022952045210465,
                0.5440991981217123,
                0.5424648568707504,
                1.230280868035689
               ],
               [
                -1.5837703120091882,
                0.770197417314084,
                0.9466438136971445,
                0.6240515499702401,
                0.3101926946240253,
                -0.659506811266421,
                -0.7587930099741153,
                -0.9703559331056759,
                1.645804469548392,
                1.3112377803566744,
                -0.5104171124308313,
                -2.591499221901064,
                0.8391920261121821,
                -0.8009786080444686,
                -0.9323768503146158,
                -0.6746829644849318,
                -0.35390012866915,
                2.4413752245128295,
                -0.5932277968128696,
                -0.3178696402378554,
                0.7443496485482627,
                0.0865882956328978,
                0.5587490828414453,
                0.07988301726239891,
                -1.1331061623423735,
                0.9626083620595466,
                0.545717916592805,
                -2.771695551662801,
                0.30832055674806214,
                0.181217339486256,
                0.5338290507169042,
                0.531747680792842,
                1.2304741764393692
               ]
              ]
             },
             {
              "title": "LOO PCA — removed: Sofia",
              "xaxis.title.text": "PC1 (LOO 85.1% | full 85.0%)",
              "yaxis.title.text": "PC2 (LOO 10.1% | full 10.2%)"
             }
            ],
            "label": "Sofia",
            "method": "update"
           },
           {
            "args": [
             {
              "text": [
               [
                "Amsterdam",
                "Ankara",
                "Athens",
                "Belgrade",
                "Berlin",
                "Bern",
                "Bonn",
                "Bruxells",
                "Bucarest",
                "Budapest",
                "Copenhagen",
                "Dublin",
                "Helsinki",
                "Lisbon",
                "London",
                "Luxemborg",
                "Marbella",
                "Moscow",
                "Oslo",
                "Paris",
                "Prague",
                "Rome",
                "Sofia",
                "Stockholm",
                "Vienna",
                "Warsaw",
                "Bratislava",
                "St. Petersberg",
                "Ljubljana",
                "Madrid",
                "Milan",
                "Edinburgh",
                "Skopje"
               ],
               [
                "Amsterdam",
                "Ankara",
                "Athens",
                "Belgrade",
                "Berlin",
                "Bern",
                "Bonn",
                "Bruxells",
                "Bucarest",
                "Budapest",
                "Copenhagen",
                "Dublin",
                "Helsinki",
                "Lisbon",
                "London",
                "Luxemborg",
                "Marbella",
                "Moscow",
                "Oslo",
                "Paris",
                "Prague",
                "Rome",
                "Sofia",
                "Stockholm",
                "Vienna",
                "Warsaw",
                "Bratislava",
                "St. Petersberg",
                "Ljubljana",
                "Madrid",
                "Milan",
                "Edinburgh",
                "Skopje"
               ]
              ],
              "x": [
               [
                -1.7303029396355076,
                0.7289728754354342,
                6.168601664401782,
                1.7176572838492892,
                -1.2833142438481158,
                -1.4452563956413547,
                -0.7170362668652427,
                -0.41852333354851634,
                0.41490393579977064,
                0.7419036558154807,
                -2.1310717551535654,
                -2.344970950400181,
                -5.835071052503,
                5.367367647829698,
                2.3318530646733633,
                -1.3644728120334868,
                9.312778484797581,
                -5.749709288003769,
                -3.89532086600061,
                1.118884931969241,
                -1.0486250957437613,
                3.9505750035942833,
                0.13054570107176613,
                -3.8041795213068172,
                -1.2914784892501958,
                -1.5227299491035249,
                -0.45903091132352136,
                -2.0566613175487127,
                -0.22232301051887562,
                3.1899698861949672,
                1.5813080757417983,
                -4.464843174588097,
                1.2254196405355837
               ],
               [
                -1.60894318764261,
                0.8394927193989601,
                6.264719408324745,
                1.8264803335594462,
                -1.1631348025575525,
                -1.3266107115494628,
                -0.6029628176799449,
                -0.30460311483158675,
                0.5259299386909976,
                0.8510364468622633,
                -2.0049750062259775,
                -2.2209200522853623,
                -5.6897238660469025,
                5.458094625029366,
                2.4372007485479976,
                -1.2473646595111643,
                9.392277265777325,
                -5.614410226066111,
                -3.7585865865657078,
                1.2267887138911118,
                -0.9300008663622892,
                4.052442893704252,
                0.24166408144901033,
                -3.666663446539294,
                -1.1847346488875599,
                -1.4024451701042593,
                -0.3427389990828567,
                -1.9342579243756026,
                -0.10725654081320288,
                3.296073982315166,
                1.6893651665489011,
                -4.326547838072788,
                1.3353141411006908
               ]
              ],
              "y": [
               [
                -1.5767379735038152,
                0.7765745549932225,
                0.94268551113647,
                0.6244811715566961,
                0.30962260637007905,
                -0.6569871592115135,
                -0.758795015250789,
                -0.9711739632517961,
                1.6463605827025714,
                1.3103204149643208,
                -0.5040431066436429,
                -2.5881708083960078,
                0.8385836769551588,
                -0.8023448821659768,
                -0.9271587133201802,
                -0.6760317174323421,
                -0.3525482873630142,
                2.4602186472494445,
                -0.5907769963058954,
                -0.3170693019281866,
                0.7473932029189893,
                0.0841494205140648,
                0.5589285786250779,
                0.07999322902825477,
                -1.1025502287942173,
                0.9731987780335837,
                0.5489633025253217,
                -2.765533205149705,
                0.3092595166337228,
                0.16920556869452172,
                0.5305259704089476,
                0.5320044257061777,
                1.2274454287287124
               ],
               [
                -1.5837703120091882,
                0.770197417314084,
                0.9466438136971445,
                0.6240515499702401,
                0.3101926946240253,
                -0.659506811266421,
                -0.7587930099741153,
                -0.9703559331056759,
                1.645804469548392,
                1.3112377803566744,
                -0.5104171124308313,
                -2.591499221901064,
                0.8391920261121821,
                -0.8009786080444686,
                -0.9323768503146158,
                -0.6746829644849318,
                -0.35390012866915,
                2.4413752245128295,
                -0.5932277968128696,
                -0.3178696402378554,
                0.7443496485482627,
                0.0865882956328978,
                0.5587490828414453,
                0.07988301726239891,
                -1.1331061623423735,
                0.9626083620595466,
                0.545717916592805,
                -2.771695551662801,
                0.30832055674806214,
                0.181217339486256,
                0.5338290507169042,
                0.531747680792842,
                1.2304741764393692
               ]
              ]
             },
             {
              "title": "LOO PCA — removed: Stockholm",
              "xaxis.title.text": "PC1 (LOO 84.7% | full 85.0%)",
              "yaxis.title.text": "PC2 (LOO 10.5% | full 10.2%)"
             }
            ],
            "label": "Stockholm",
            "method": "update"
           },
           {
            "args": [
             {
              "text": [
               [
                "Amsterdam",
                "Ankara",
                "Athens",
                "Belgrade",
                "Berlin",
                "Bern",
                "Bonn",
                "Bruxells",
                "Bucarest",
                "Budapest",
                "Copenhagen",
                "Dublin",
                "Helsinki",
                "Lisbon",
                "London",
                "Luxemborg",
                "Marbella",
                "Moscow",
                "Oslo",
                "Paris",
                "Prague",
                "Rome",
                "Sofia",
                "Stockholm",
                "Vienna",
                "Warsaw",
                "Bratislava",
                "St. Petersberg",
                "Ljubljana",
                "Madrid",
                "Milan",
                "Edinburgh",
                "Skopje"
               ],
               [
                "Amsterdam",
                "Ankara",
                "Athens",
                "Belgrade",
                "Berlin",
                "Bern",
                "Bonn",
                "Bruxells",
                "Bucarest",
                "Budapest",
                "Copenhagen",
                "Dublin",
                "Helsinki",
                "Lisbon",
                "London",
                "Luxemborg",
                "Marbella",
                "Moscow",
                "Oslo",
                "Paris",
                "Prague",
                "Rome",
                "Sofia",
                "Stockholm",
                "Vienna",
                "Warsaw",
                "Bratislava",
                "St. Petersberg",
                "Ljubljana",
                "Madrid",
                "Milan",
                "Edinburgh",
                "Skopje"
               ]
              ],
              "x": [
               [
                -1.6875218268720145,
                0.8002410629817723,
                6.228069916246082,
                1.800863575121337,
                -1.1853439890440114,
                -1.3776161713376698,
                -0.6468262089976027,
                -0.36098865977354827,
                0.5196720858202865,
                0.8372937970401215,
                -2.0423484953489353,
                -2.3076065770571716,
                -5.669099361339846,
                5.3750052446987935,
                2.3638134724972346,
                -1.2937312083316599,
                9.298565085687788,
                -5.588586480702534,
                -3.777869749984972,
                1.1703185498152568,
                -0.9435727864813704,
                4.001179813089146,
                0.20873299993006952,
                -3.6730527292319426,
                -1.3256049926388502,
                -1.4181489294897516,
                -0.3667028275098629,
                -2.037272514861684,
                -0.1372594144420242,
                3.2554154019682175,
                1.6557653058798825,
                -4.322349622338912,
                1.3209612423695283
               ],
               [
                -1.60894318764261,
                0.8394927193989601,
                6.264719408324745,
                1.8264803335594462,
                -1.1631348025575525,
                -1.3266107115494628,
                -0.6029628176799449,
                -0.30460311483158675,
                0.5259299386909976,
                0.8510364468622633,
                -2.0049750062259775,
                -2.2209200522853623,
                -5.6897238660469025,
                5.458094625029366,
                2.4372007485479976,
                -1.2473646595111643,
                9.392277265777325,
                -5.614410226066111,
                -3.7585865865657078,
                1.2267887138911118,
                -0.9300008663622892,
                4.052442893704252,
                0.24166408144901033,
                -3.666663446539294,
                -1.1847346488875599,
                -1.4024451701042593,
                -0.3427389990828567,
                -1.9342579243756026,
                -0.10725654081320288,
                3.296073982315166,
                1.6893651665489011,
                -4.326547838072788,
                1.3353141411006908
               ]
              ],
              "y": [
               [
                1.621674337695737,
                -0.7419839506788833,
                -0.9072572245832743,
                -0.5925003856801436,
                -0.2734284407887171,
                0.6892801329200046,
                0.7986168160897532,
                1.0034514017754912,
                -1.62104588554373,
                -1.2877574242622432,
                0.5518699774872521,
                2.6370687727184112,
                -0.7839135062305562,
                0.8286147600714356,
                0.9679542436404188,
                0.7041036494815034,
                0.37584712547771426,
                -2.413866033786212,
                0.6476891572589415,
                0.34642979711296085,
                -0.7126591556994403,
                -0.05139905569798966,
                -0.5324780314165142,
                -0.02695296211468031,
                1.1144785772190695,
                -0.9274235407985302,
                -0.513450728436301,
                2.8106784580977773,
                -0.27406474609234405,
                -0.1420327699768323,
                -0.501316771706249,
                -0.47991835842336267,
                -1.1998296579113967
               ],
               [
                -1.5837703120091882,
                0.770197417314084,
                0.9466438136971445,
                0.6240515499702401,
                0.3101926946240253,
                -0.659506811266421,
                -0.7587930099741153,
                -0.9703559331056759,
                1.645804469548392,
                1.3112377803566744,
                -0.5104171124308313,
                -2.591499221901064,
                0.8391920261121821,
                -0.8009786080444686,
                -0.9323768503146158,
                -0.6746829644849318,
                -0.35390012866915,
                2.4413752245128295,
                -0.5932277968128696,
                -0.3178696402378554,
                0.7443496485482627,
                0.0865882956328978,
                0.5587490828414453,
                0.07988301726239891,
                -1.1331061623423735,
                0.9626083620595466,
                0.545717916592805,
                -2.771695551662801,
                0.30832055674806214,
                0.181217339486256,
                0.5338290507169042,
                0.531747680792842,
                1.2304741764393692
               ]
              ]
             },
             {
              "title": "LOO PCA — removed: Vienna",
              "xaxis.title.text": "PC1 (LOO 86.5% | full 85.0%)",
              "yaxis.title.text": "PC2 (LOO 10.2% | full 10.2%)"
             }
            ],
            "label": "Vienna",
            "method": "update"
           },
           {
            "args": [
             {
              "text": [
               [
                "Amsterdam",
                "Ankara",
                "Athens",
                "Belgrade",
                "Berlin",
                "Bern",
                "Bonn",
                "Bruxells",
                "Bucarest",
                "Budapest",
                "Copenhagen",
                "Dublin",
                "Helsinki",
                "Lisbon",
                "London",
                "Luxemborg",
                "Marbella",
                "Moscow",
                "Oslo",
                "Paris",
                "Prague",
                "Rome",
                "Sofia",
                "Stockholm",
                "Vienna",
                "Warsaw",
                "Bratislava",
                "St. Petersberg",
                "Ljubljana",
                "Madrid",
                "Milan",
                "Edinburgh",
                "Skopje"
               ],
               [
                "Amsterdam",
                "Ankara",
                "Athens",
                "Belgrade",
                "Berlin",
                "Bern",
                "Bonn",
                "Bruxells",
                "Bucarest",
                "Budapest",
                "Copenhagen",
                "Dublin",
                "Helsinki",
                "Lisbon",
                "London",
                "Luxemborg",
                "Marbella",
                "Moscow",
                "Oslo",
                "Paris",
                "Prague",
                "Rome",
                "Sofia",
                "Stockholm",
                "Vienna",
                "Warsaw",
                "Bratislava",
                "St. Petersberg",
                "Ljubljana",
                "Madrid",
                "Milan",
                "Edinburgh",
                "Skopje"
               ]
              ],
              "x": [
               [
                -1.629781611227136,
                0.7835258127726719,
                6.150845774151904,
                1.7591979624630456,
                -1.1945104280115428,
                -1.3530437168304366,
                -0.6371344950666762,
                -0.3420473059840827,
                0.4677223069383339,
                0.7930963021263548,
                -2.0252003389924553,
                -2.2297251068277744,
                -5.676081171559982,
                5.360010149208021,
                2.3726268931800845,
                -1.275340163404464,
                9.250726798591167,
                -5.607703547485031,
                -3.762945343417556,
                1.1729646402916372,
                -0.9662760014209524,
                3.964728717216671,
                0.1933366940649893,
                -3.672081467400931,
                -1.212359817771007,
                -1.43706051102233,
                -0.3827223546683138,
                -1.9457906382149701,
                -0.1490904956163902,
                3.217500998346878,
                1.6273561321218741,
                -4.3256503669678334,
                1.2738451893939038
               ],
               [
                -1.60894318764261,
                0.8394927193989601,
                6.264719408324745,
                1.8264803335594462,
                -1.1631348025575525,
                -1.3266107115494628,
                -0.6029628176799449,
                -0.30460311483158675,
                0.5259299386909976,
                0.8510364468622633,
                -2.0049750062259775,
                -2.2209200522853623,
                -5.6897238660469025,
                5.458094625029366,
                2.4372007485479976,
                -1.2473646595111643,
                9.392277265777325,
                -5.614410226066111,
                -3.7585865865657078,
                1.2267887138911118,
                -0.9300008663622892,
                4.052442893704252,
                0.24166408144901033,
                -3.666663446539294,
                -1.1847346488875599,
                -1.4024451701042593,
                -0.3427389990828567,
                -1.9342579243756026,
                -0.10725654081320288,
                3.296073982315166,
                1.6893651665489011,
                -4.326547838072788,
                1.3353141411006908
               ]
              ],
              "y": [
               [
                -1.532800960978889,
                0.7884966178358527,
                0.9404310220685718,
                0.6396714974000927,
                0.34254907645925836,
                -0.612449029540877,
                -0.7219125264340308,
                -0.9252688833058129,
                1.6599723033870237,
                1.329968586303472,
                -0.47095682934646277,
                -2.5314489984023956,
                0.8815934505904269,
                -0.7838692865273871,
                -0.9078781790294987,
                -0.6307996510291131,
                -0.3570028373017506,
                2.4658761346580333,
                -0.5524679328402999,
                -0.2882203826663581,
                0.7715313788643157,
                0.10003466933544643,
                0.5848948087107216,
                0.12141468448489838,
                -1.0838757902728593,
                0.9756183970745882,
                0.5711525295893375,
                -2.7072375638754465,
                0.33588807211919497,
                0.20097351164136093,
                0.5535143010081865,
                0.5717102893261276,
                1.2465159177688616
               ],
               [
                -1.5837703120091882,
                0.770197417314084,
                0.9466438136971445,
                0.6240515499702401,
                0.3101926946240253,
                -0.659506811266421,
                -0.7587930099741153,
                -0.9703559331056759,
                1.645804469548392,
                1.3112377803566744,
                -0.5104171124308313,
                -2.591499221901064,
                0.8391920261121821,
                -0.8009786080444686,
                -0.9323768503146158,
                -0.6746829644849318,
                -0.35390012866915,
                2.4413752245128295,
                -0.5932277968128696,
                -0.3178696402378554,
                0.7443496485482627,
                0.0865882956328978,
                0.5587490828414453,
                0.07988301726239891,
                -1.1331061623423735,
                0.9626083620595466,
                0.545717916592805,
                -2.771695551662801,
                0.30832055674806214,
                0.181217339486256,
                0.5338290507169042,
                0.531747680792842,
                1.2304741764393692
               ]
              ]
             },
             {
              "title": "LOO PCA — removed: Warsaw",
              "xaxis.title.text": "PC1 (LOO 85.3% | full 85.0%)",
              "yaxis.title.text": "PC2 (LOO 10.1% | full 10.2%)"
             }
            ],
            "label": "Warsaw",
            "method": "update"
           },
           {
            "args": [
             {
              "text": [
               [
                "Amsterdam",
                "Ankara",
                "Athens",
                "Belgrade",
                "Berlin",
                "Bern",
                "Bonn",
                "Bruxells",
                "Bucarest",
                "Budapest",
                "Copenhagen",
                "Dublin",
                "Helsinki",
                "Lisbon",
                "London",
                "Luxemborg",
                "Marbella",
                "Moscow",
                "Oslo",
                "Paris",
                "Prague",
                "Rome",
                "Sofia",
                "Stockholm",
                "Vienna",
                "Warsaw",
                "Bratislava",
                "St. Petersberg",
                "Ljubljana",
                "Madrid",
                "Milan",
                "Edinburgh",
                "Skopje"
               ],
               [
                "Amsterdam",
                "Ankara",
                "Athens",
                "Belgrade",
                "Berlin",
                "Bern",
                "Bonn",
                "Bruxells",
                "Bucarest",
                "Budapest",
                "Copenhagen",
                "Dublin",
                "Helsinki",
                "Lisbon",
                "London",
                "Luxemborg",
                "Marbella",
                "Moscow",
                "Oslo",
                "Paris",
                "Prague",
                "Rome",
                "Sofia",
                "Stockholm",
                "Vienna",
                "Warsaw",
                "Bratislava",
                "St. Petersberg",
                "Ljubljana",
                "Madrid",
                "Milan",
                "Edinburgh",
                "Skopje"
               ]
              ],
              "x": [
               [
                -1.5962200397792725,
                0.8172238917791242,
                6.164625017803484,
                1.789966774080002,
                -1.1574304052405815,
                -1.3186860900352844,
                -0.6050041549827768,
                -0.31118005165731405,
                0.5081121456172008,
                0.8279601104995628,
                -1.9864804991551457,
                -2.199508577885032,
                -5.618680757884614,
                5.368993474369101,
                2.3918934760284585,
                -1.2406396638816424,
                9.247110726283935,
                -5.543725740652914,
                -3.7142156164162925,
                1.1981228810104256,
                -0.9274540097720285,
                3.983779937590051,
                0.22745528524620995,
                -3.6244743333943092,
                -1.177846170822791,
                -1.3917878436489128,
                -0.34859902280471433,
                -1.9170396643332812,
                -0.11649999555200166,
                3.2374731224506474,
                1.654065402135077,
                -4.275082851567511,
                1.3051742217684246
               ],
               [
                -1.60894318764261,
                0.8394927193989601,
                6.264719408324745,
                1.8264803335594462,
                -1.1631348025575525,
                -1.3266107115494628,
                -0.6029628176799449,
                -0.30460311483158675,
                0.5259299386909976,
                0.8510364468622633,
                -2.0049750062259775,
                -2.2209200522853623,
                -5.6897238660469025,
                5.458094625029366,
                2.4372007485479976,
                -1.2473646595111643,
                9.392277265777325,
                -5.614410226066111,
                -3.7585865865657078,
                1.2267887138911118,
                -0.9300008663622892,
                4.052442893704252,
                0.24166408144901033,
                -3.666663446539294,
                -1.1847346488875599,
                -1.4024451701042593,
                -0.3427389990828567,
                -1.9342579243756026,
                -0.10725654081320288,
                3.296073982315166,
                1.6893651665489011,
                -4.326547838072788,
                1.3353141411006908
               ]
              ],
              "y": [
               [
                -1.5403203248816262,
                0.7768561548603407,
                0.9483581574012133,
                0.6310908158536427,
                0.32241190000001624,
                -0.6340174333344739,
                -0.730820201154113,
                -0.9377113049144472,
                1.639779722536868,
                1.3071441609183843,
                -0.4853728474979802,
                -2.5367397499743793,
                0.848470789698748,
                -0.7754288188253252,
                -0.9039625784701925,
                -0.6500686940379212,
                -0.33730744409249597,
                2.426463453391105,
                -0.5642155873514648,
                -0.29933172746018105,
                0.7490796526902825,
                0.10192004461363995,
                0.5664782594685869,
                0.0987372168429763,
                -1.0987421865630747,
                0.9673698525566439,
                0.5513866718506913,
                -2.713113408569732,
                0.3181326098804821,
                0.19377976391646495,
                0.5405077665029101,
                0.5433307933936599,
                1.2272411926014437
               ],
               [
                -1.5837703120091882,
                0.770197417314084,
                0.9466438136971445,
                0.6240515499702401,
                0.3101926946240253,
                -0.659506811266421,
                -0.7587930099741153,
                -0.9703559331056759,
                1.645804469548392,
                1.3112377803566744,
                -0.5104171124308313,
                -2.591499221901064,
                0.8391920261121821,
                -0.8009786080444686,
                -0.9323768503146158,
                -0.6746829644849318,
                -0.35390012866915,
                2.4413752245128295,
                -0.5932277968128696,
                -0.3178696402378554,
                0.7443496485482627,
                0.0865882956328978,
                0.5587490828414453,
                0.07988301726239891,
                -1.1331061623423735,
                0.9626083620595466,
                0.545717916592805,
                -2.771695551662801,
                0.30832055674806214,
                0.181217339486256,
                0.5338290507169042,
                0.531747680792842,
                1.2304741764393692
               ]
              ]
             },
             {
              "title": "LOO PCA — removed: Bratislava",
              "xaxis.title.text": "PC1 (LOO 85.1% | full 85.0%)",
              "yaxis.title.text": "PC2 (LOO 10.1% | full 10.2%)"
             }
            ],
            "label": "Bratislava",
            "method": "update"
           },
           {
            "args": [
             {
              "text": [
               [
                "Amsterdam",
                "Ankara",
                "Athens",
                "Belgrade",
                "Berlin",
                "Bern",
                "Bonn",
                "Bruxells",
                "Bucarest",
                "Budapest",
                "Copenhagen",
                "Dublin",
                "Helsinki",
                "Lisbon",
                "London",
                "Luxemborg",
                "Marbella",
                "Moscow",
                "Oslo",
                "Paris",
                "Prague",
                "Rome",
                "Sofia",
                "Stockholm",
                "Vienna",
                "Warsaw",
                "Bratislava",
                "St. Petersberg",
                "Ljubljana",
                "Madrid",
                "Milan",
                "Edinburgh",
                "Skopje"
               ],
               [
                "Amsterdam",
                "Ankara",
                "Athens",
                "Belgrade",
                "Berlin",
                "Bern",
                "Bonn",
                "Bruxells",
                "Bucarest",
                "Budapest",
                "Copenhagen",
                "Dublin",
                "Helsinki",
                "Lisbon",
                "London",
                "Luxemborg",
                "Marbella",
                "Moscow",
                "Oslo",
                "Paris",
                "Prague",
                "Rome",
                "Sofia",
                "Stockholm",
                "Vienna",
                "Warsaw",
                "Bratislava",
                "St. Petersberg",
                "Ljubljana",
                "Madrid",
                "Milan",
                "Edinburgh",
                "Skopje"
               ]
              ],
              "x": [
               [
                -1.6905686853967063,
                0.7833681278399901,
                6.215026193239535,
                1.7700902139465968,
                -1.2186058236931467,
                -1.3959453614466533,
                -0.6756840542482258,
                -0.38245411451050065,
                0.47729162008700116,
                0.8011486427649002,
                -2.068406059221359,
                -2.31015679260659,
                -5.73047552886226,
                5.381552056605638,
                2.3648163378133056,
                -1.3169106658460008,
                9.321950032721757,
                -5.648634258524021,
                -3.820596655567535,
                1.1614249430443249,
                -0.9814931452584217,
                3.990854689338361,
                0.18326803503193762,
                -3.7184532274469,
                -1.2762588221602842,
                -1.45298748568705,
                -0.39436413679452165,
                -2.02810455865271,
                -0.16268918723431855,
                3.2408437610863645,
                1.6358955123733163,
                -4.372137982029763,
                1.2892918206412332
               ],
               [
                -1.60894318764261,
                0.8394927193989601,
                6.264719408324745,
                1.8264803335594462,
                -1.1631348025575525,
                -1.3266107115494628,
                -0.6029628176799449,
                -0.30460311483158675,
                0.5259299386909976,
                0.8510364468622633,
                -2.0049750062259775,
                -2.2209200522853623,
                -5.6897238660469025,
                5.458094625029366,
                2.4372007485479976,
                -1.2473646595111643,
                9.392277265777325,
                -5.614410226066111,
                -3.7585865865657078,
                1.2267887138911118,
                -0.9300008663622892,
                4.052442893704252,
                0.24166408144901033,
                -3.666663446539294,
                -1.1847346488875599,
                -1.4024451701042593,
                -0.3427389990828567,
                -1.9342579243756026,
                -0.10725654081320288,
                3.296073982315166,
                1.6893651665489011,
                -4.326547838072788,
                1.3353141411006908
               ]
              ],
              "y": [
               [
                -1.7009392673456598,
                0.7006420916901291,
                0.9820678923920438,
                0.5611922648792685,
                0.20359153151280712,
                -0.780145005808999,
                -0.8666428099138106,
                -1.0789832285996097,
                1.565834314517282,
                1.2309853005724145,
                -0.6260333574404345,
                -2.715406531466381,
                0.6893334643900424,
                -0.8146752580898401,
                -0.9842249128707146,
                -0.8007653259673501,
                -0.29198811697567967,
                2.2668967981237738,
                -0.726407065030907,
                -0.3955768064821201,
                0.6374704782685654,
                0.06933006825222879,
                0.4723097794841386,
                -0.043464800824600386,
                -1.288198295798026,
                0.8512329480555603,
                0.4555079365071603,
                -2.894880950065246,
                0.22357798681527435,
                0.16014647561848652,
                0.47579755165735743,
                0.3978693326148333,
                1.1696645672627652
               ],
               [
                -1.5837703120091882,
                0.770197417314084,
                0.9466438136971445,
                0.6240515499702401,
                0.3101926946240253,
                -0.659506811266421,
                -0.7587930099741153,
                -0.9703559331056759,
                1.645804469548392,
                1.3112377803566744,
                -0.5104171124308313,
                -2.591499221901064,
                0.8391920261121821,
                -0.8009786080444686,
                -0.9323768503146158,
                -0.6746829644849318,
                -0.35390012866915,
                2.4413752245128295,
                -0.5932277968128696,
                -0.3178696402378554,
                0.7443496485482627,
                0.0865882956328978,
                0.5587490828414453,
                0.07988301726239891,
                -1.1331061623423735,
                0.9626083620595466,
                0.545717916592805,
                -2.771695551662801,
                0.30832055674806214,
                0.181217339486256,
                0.5338290507169042,
                0.531747680792842,
                1.2304741764393692
               ]
              ]
             },
             {
              "title": "LOO PCA — removed: St. Petersberg",
              "xaxis.title.text": "PC1 (LOO 86.5% | full 85.0%)",
              "yaxis.title.text": "PC2 (LOO 8.5% | full 10.2%)"
             }
            ],
            "label": "St. Petersberg",
            "method": "update"
           },
           {
            "args": [
             {
              "text": [
               [
                "Amsterdam",
                "Ankara",
                "Athens",
                "Belgrade",
                "Berlin",
                "Bern",
                "Bonn",
                "Bruxells",
                "Bucarest",
                "Budapest",
                "Copenhagen",
                "Dublin",
                "Helsinki",
                "Lisbon",
                "London",
                "Luxemborg",
                "Marbella",
                "Moscow",
                "Oslo",
                "Paris",
                "Prague",
                "Rome",
                "Sofia",
                "Stockholm",
                "Vienna",
                "Warsaw",
                "Bratislava",
                "St. Petersberg",
                "Ljubljana",
                "Madrid",
                "Milan",
                "Edinburgh",
                "Skopje"
               ],
               [
                "Amsterdam",
                "Ankara",
                "Athens",
                "Belgrade",
                "Berlin",
                "Bern",
                "Bonn",
                "Bruxells",
                "Bucarest",
                "Budapest",
                "Copenhagen",
                "Dublin",
                "Helsinki",
                "Lisbon",
                "London",
                "Luxemborg",
                "Marbella",
                "Moscow",
                "Oslo",
                "Paris",
                "Prague",
                "Rome",
                "Sofia",
                "Stockholm",
                "Vienna",
                "Warsaw",
                "Bratislava",
                "St. Petersberg",
                "Ljubljana",
                "Madrid",
                "Milan",
                "Edinburgh",
                "Skopje"
               ]
              ],
              "x": [
               [
                -1.5882512453308113,
                0.8236892448180264,
                6.168421128407955,
                1.7962422430245153,
                -1.1493490003512237,
                -1.310468287464351,
                -0.5973776428721722,
                -0.3035670390748147,
                0.5148595829276827,
                0.8348446076501399,
                -1.9782585086788615,
                -2.1911355537516504,
                -5.608439010585393,
                5.373548870173313,
                2.397815092454402,
                -1.2322997843755017,
                9.249435754494785,
                -5.534159457733757,
                -3.70530330971499,
                1.2050020624728985,
                -0.919596256099804,
                3.988973228284767,
                0.23457757444839747,
                -3.6153826547428207,
                -1.170271463782298,
                -1.3842109171034283,
                -0.34107743084442943,
                -1.9088115075175247,
                -0.10912637729341068,
                3.2434884625692764,
                1.660723733806783,
                -4.265581904369839,
                1.311919388860732
               ],
               [
                -1.60894318764261,
                0.8394927193989601,
                6.264719408324745,
                1.8264803335594462,
                -1.1631348025575525,
                -1.3266107115494628,
                -0.6029628176799449,
                -0.30460311483158675,
                0.5259299386909976,
                0.8510364468622633,
                -2.0049750062259775,
                -2.2209200522853623,
                -5.6897238660469025,
                5.458094625029366,
                2.4372007485479976,
                -1.2473646595111643,
                9.392277265777325,
                -5.614410226066111,
                -3.7585865865657078,
                1.2267887138911118,
                -0.9300008663622892,
                4.052442893704252,
                0.24166408144901033,
                -3.666663446539294,
                -1.1847346488875599,
                -1.4024451701042593,
                -0.3427389990828567,
                -1.9342579243756026,
                -0.10725654081320288,
                3.296073982315166,
                1.6893651665489011,
                -4.326547838072788,
                1.3353141411006908
               ]
              ],
              "y": [
               [
                -1.5494714788515107,
                0.768803446509632,
                0.9422759249033928,
                0.6242772618337666,
                0.3149303436340128,
                -0.6408042132742312,
                -0.738191843033115,
                -0.9457778092821425,
                1.6311456748730704,
                1.3004230844484377,
                -0.4931528056649365,
                -2.543888623408715,
                0.8372562307581456,
                -0.7800586279778416,
                -0.909432262796616,
                -0.6561073662853119,
                -0.3396061219176048,
                2.4157833858805895,
                -0.5741887408539388,
                -0.3046644866462854,
                0.7423485485427836,
                0.0952367211443138,
                0.5593985613435837,
                0.08907348588801943,
                -1.1052407969020017,
                0.9586076822755351,
                0.5457087319827006,
                -2.720697873006362,
                0.311902730487063,
                0.18741131133385075,
                0.5343507676385788,
                0.5335857503365771,
                1.2206661365736216
               ],
               [
                -1.5837703120091882,
                0.770197417314084,
                0.9466438136971445,
                0.6240515499702401,
                0.3101926946240253,
                -0.659506811266421,
                -0.7587930099741153,
                -0.9703559331056759,
                1.645804469548392,
                1.3112377803566744,
                -0.5104171124308313,
                -2.591499221901064,
                0.8391920261121821,
                -0.8009786080444686,
                -0.9323768503146158,
                -0.6746829644849318,
                -0.35390012866915,
                2.4413752245128295,
                -0.5932277968128696,
                -0.3178696402378554,
                0.7443496485482627,
                0.0865882956328978,
                0.5587490828414453,
                0.07988301726239891,
                -1.1331061623423735,
                0.9626083620595466,
                0.545717916592805,
                -2.771695551662801,
                0.30832055674806214,
                0.181217339486256,
                0.5338290507169042,
                0.531747680792842,
                1.2304741764393692
               ]
              ]
             },
             {
              "title": "LOO PCA — removed: Ljubljana",
              "xaxis.title.text": "PC1 (LOO 85.1% | full 85.0%)",
              "yaxis.title.text": "PC2 (LOO 10.2% | full 10.2%)"
             }
            ],
            "label": "Ljubljana",
            "method": "update"
           },
           {
            "args": [
             {
              "text": [
               [
                "Amsterdam",
                "Ankara",
                "Athens",
                "Belgrade",
                "Berlin",
                "Bern",
                "Bonn",
                "Bruxells",
                "Bucarest",
                "Budapest",
                "Copenhagen",
                "Dublin",
                "Helsinki",
                "Lisbon",
                "London",
                "Luxemborg",
                "Marbella",
                "Moscow",
                "Oslo",
                "Paris",
                "Prague",
                "Rome",
                "Sofia",
                "Stockholm",
                "Vienna",
                "Warsaw",
                "Bratislava",
                "St. Petersberg",
                "Ljubljana",
                "Madrid",
                "Milan",
                "Edinburgh",
                "Skopje"
               ],
               [
                "Amsterdam",
                "Ankara",
                "Athens",
                "Belgrade",
                "Berlin",
                "Bern",
                "Bonn",
                "Bruxells",
                "Bucarest",
                "Budapest",
                "Copenhagen",
                "Dublin",
                "Helsinki",
                "Lisbon",
                "London",
                "Luxemborg",
                "Marbella",
                "Moscow",
                "Oslo",
                "Paris",
                "Prague",
                "Rome",
                "Sofia",
                "Stockholm",
                "Vienna",
                "Warsaw",
                "Bratislava",
                "St. Petersberg",
                "Ljubljana",
                "Madrid",
                "Milan",
                "Edinburgh",
                "Skopje"
               ]
              ],
              "x": [
               [
                -1.5084537308881978,
                0.9433784072559999,
                6.369112807650354,
                1.9297918187693845,
                -1.0582765639176883,
                -1.224177140915853,
                -0.5031878413171703,
                -0.2034533406283432,
                0.6317079291805735,
                0.9565231707790757,
                -1.9029831977433065,
                -2.123841978067992,
                -5.581242479095805,
                5.557770266164282,
                2.5367505221636666,
                -1.1452796467073711,
                9.491755628079584,
                -5.50730338501384,
                -3.65650494100584,
                1.3292405349084089,
                -0.8257047992841202,
                4.155979276351262,
                0.3456199101261121,
                -3.561533216275424,
                -1.0844890898608686,
                -1.2988573706172395,
                -0.2388684851256395,
                -1.8367663797406515,
                -0.0036234912045602333,
                3.4027864339674245,
                1.7948653395016074,
                -4.219946245318353,
                1.4419977117979461
               ],
               [
                -1.60894318764261,
                0.8394927193989601,
                6.264719408324745,
                1.8264803335594462,
                -1.1631348025575525,
                -1.3266107115494628,
                -0.6029628176799449,
                -0.30460311483158675,
                0.5259299386909976,
                0.8510364468622633,
                -2.0049750062259775,
                -2.2209200522853623,
                -5.6897238660469025,
                5.458094625029366,
                2.4372007485479976,
                -1.2473646595111643,
                9.392277265777325,
                -5.614410226066111,
                -3.7585865865657078,
                1.2267887138911118,
                -0.9300008663622892,
                4.052442893704252,
                0.24166408144901033,
                -3.666663446539294,
                -1.1847346488875599,
                -1.4024451701042593,
                -0.3427389990828567,
                -1.9342579243756026,
                -0.10725654081320288,
                3.296073982315166,
                1.6893651665489011,
                -4.326547838072788,
                1.3353141411006908
               ]
              ],
              "y": [
               [
                -1.5835636126096524,
                0.7800475167419217,
                0.9705624646308179,
                0.6352164711839526,
                0.31506340635299307,
                -0.6592582694564962,
                -0.7588966356605407,
                -0.9682234132394149,
                1.6565457236149799,
                1.319461808467944,
                -0.5088802039351698,
                -2.595679205622039,
                0.8437721370034451,
                -0.789561397361023,
                -0.9268550459579395,
                -0.6732534885121112,
                -0.3312496731037261,
                2.4381151278564688,
                -0.5893523516781228,
                -0.31250254425300106,
                0.749258045669852,
                0.10282158059464139,
                0.5650693538842815,
                0.08764011049346919,
                -1.139124371516556,
                0.9673716057836745,
                0.549231566051488,
                -2.7752891911474022,
                0.3120977187350103,
                0.1992188028100592,
                0.542701247390841,
                0.536336286548077,
                1.240377233049336
               ],
               [
                -1.5837703120091882,
                0.770197417314084,
                0.9466438136971445,
                0.6240515499702401,
                0.3101926946240253,
                -0.659506811266421,
                -0.7587930099741153,
                -0.9703559331056759,
                1.645804469548392,
                1.3112377803566744,
                -0.5104171124308313,
                -2.591499221901064,
                0.8391920261121821,
                -0.8009786080444686,
                -0.9323768503146158,
                -0.6746829644849318,
                -0.35390012866915,
                2.4413752245128295,
                -0.5932277968128696,
                -0.3178696402378554,
                0.7443496485482627,
                0.0865882956328978,
                0.5587490828414453,
                0.07988301726239891,
                -1.1331061623423735,
                0.9626083620595466,
                0.545717916592805,
                -2.771695551662801,
                0.30832055674806214,
                0.181217339486256,
                0.5338290507169042,
                0.531747680792842,
                1.2304741764393692
               ]
              ]
             },
             {
              "title": "LOO PCA — removed: Madrid",
              "xaxis.title.text": "PC1 (LOO 84.7% | full 85.0%)",
              "yaxis.title.text": "PC2 (LOO 10.5% | full 10.2%)"
             }
            ],
            "label": "Madrid",
            "method": "update"
           },
           {
            "args": [
             {
              "text": [
               [
                "Amsterdam",
                "Ankara",
                "Athens",
                "Belgrade",
                "Berlin",
                "Bern",
                "Bonn",
                "Bruxells",
                "Bucarest",
                "Budapest",
                "Copenhagen",
                "Dublin",
                "Helsinki",
                "Lisbon",
                "London",
                "Luxemborg",
                "Marbella",
                "Moscow",
                "Oslo",
                "Paris",
                "Prague",
                "Rome",
                "Sofia",
                "Stockholm",
                "Vienna",
                "Warsaw",
                "Bratislava",
                "St. Petersberg",
                "Ljubljana",
                "Madrid",
                "Milan",
                "Edinburgh",
                "Skopje"
               ],
               [
                "Amsterdam",
                "Ankara",
                "Athens",
                "Belgrade",
                "Berlin",
                "Bern",
                "Bonn",
                "Bruxells",
                "Bucarest",
                "Budapest",
                "Copenhagen",
                "Dublin",
                "Helsinki",
                "Lisbon",
                "London",
                "Luxemborg",
                "Marbella",
                "Moscow",
                "Oslo",
                "Paris",
                "Prague",
                "Rome",
                "Sofia",
                "Stockholm",
                "Vienna",
                "Warsaw",
                "Bratislava",
                "St. Petersberg",
                "Ljubljana",
                "Madrid",
                "Milan",
                "Edinburgh",
                "Skopje"
               ]
              ],
              "x": [
               [
                -1.5416600705852674,
                0.8835562181181038,
                6.24970593279337,
                1.859617471054241,
                -1.0974621247156422,
                -1.2608366397009692,
                -0.5457804097857099,
                -0.2507808947831803,
                0.5750184491265444,
                0.8960750945277729,
                -1.931642349254022,
                -2.1488619293704474,
                -5.573221099256189,
                5.448927290730262,
                2.4609804169510054,
                -1.182379114290032,
                9.340486936548643,
                -5.496978163390278,
                -3.666030205894879,
                1.265149370112281,
                -0.8664531744723163,
                4.060523724049984,
                0.29214563319097936,
                -3.574077608375501,
                -1.1210446415373945,
                -1.3331523730706516,
                -0.2858212257774693,
                -1.865530714193192,
                -0.053278031725333554,
                3.3132527113927432,
                1.7244438686038364,
                -4.225739432059652,
                1.3752909536421967
               ],
               [
                -1.60894318764261,
                0.8394927193989601,
                6.264719408324745,
                1.8264803335594462,
                -1.1631348025575525,
                -1.3266107115494628,
                -0.6029628176799449,
                -0.30460311483158675,
                0.5259299386909976,
                0.8510364468622633,
                -2.0049750062259775,
                -2.2209200522853623,
                -5.6897238660469025,
                5.458094625029366,
                2.4372007485479976,
                -1.2473646595111643,
                9.392277265777325,
                -5.614410226066111,
                -3.7585865865657078,
                1.2267887138911118,
                -0.9300008663622892,
                4.052442893704252,
                0.24166408144901033,
                -3.666663446539294,
                -1.1847346488875599,
                -1.4024451701042593,
                -0.3427389990828567,
                -1.9342579243756026,
                -0.10725654081320288,
                3.296073982315166,
                1.6893651665489011,
                -4.326547838072788,
                1.3353141411006908
               ]
              ],
              "y": [
               [
                -1.5540556867889235,
                0.782789308413251,
                0.9740077301001386,
                0.6403555101319649,
                0.3183779762720923,
                -0.6427925510209207,
                -0.7371040267872151,
                -0.9466408759435725,
                1.6471904990162223,
                1.3134079599934199,
                -0.49193223938551345,
                -2.552846143692473,
                0.8344220901353991,
                -0.7632737395844368,
                -0.8993227784466338,
                -0.6574915994988249,
                -0.3057073633072143,
                2.4186295614579465,
                -0.5737312972420159,
                -0.2980184249099358,
                0.7498259992003395,
                0.11434183221218462,
                0.5683183537682598,
                0.0908457332713676,
                -1.1106735284699047,
                0.9691620838365124,
                0.5536034858463186,
                -2.7307051742912,
                0.31898488654874746,
                0.202514159569046,
                0.5453093820810914,
                0.5332171954780814,
                1.234301064117493
               ],
               [
                -1.5837703120091882,
                0.770197417314084,
                0.9466438136971445,
                0.6240515499702401,
                0.3101926946240253,
                -0.659506811266421,
                -0.7587930099741153,
                -0.9703559331056759,
                1.645804469548392,
                1.3112377803566744,
                -0.5104171124308313,
                -2.591499221901064,
                0.8391920261121821,
                -0.8009786080444686,
                -0.9323768503146158,
                -0.6746829644849318,
                -0.35390012866915,
                2.4413752245128295,
                -0.5932277968128696,
                -0.3178696402378554,
                0.7443496485482627,
                0.0865882956328978,
                0.5587490828414453,
                0.07988301726239891,
                -1.1331061623423735,
                0.9626083620595466,
                0.545717916592805,
                -2.771695551662801,
                0.30832055674806214,
                0.181217339486256,
                0.5338290507169042,
                0.531747680792842,
                1.2304741764393692
               ]
              ]
             },
             {
              "title": "LOO PCA — removed: Milan",
              "xaxis.title.text": "PC1 (LOO 85.0% | full 85.0%)",
              "yaxis.title.text": "PC2 (LOO 10.2% | full 10.2%)"
             }
            ],
            "label": "Milan",
            "method": "update"
           },
           {
            "args": [
             {
              "text": [
               [
                "Amsterdam",
                "Ankara",
                "Athens",
                "Belgrade",
                "Berlin",
                "Bern",
                "Bonn",
                "Bruxells",
                "Bucarest",
                "Budapest",
                "Copenhagen",
                "Dublin",
                "Helsinki",
                "Lisbon",
                "London",
                "Luxemborg",
                "Marbella",
                "Moscow",
                "Oslo",
                "Paris",
                "Prague",
                "Rome",
                "Sofia",
                "Stockholm",
                "Vienna",
                "Warsaw",
                "Bratislava",
                "St. Petersberg",
                "Ljubljana",
                "Madrid",
                "Milan",
                "Edinburgh",
                "Skopje"
               ],
               [
                "Amsterdam",
                "Ankara",
                "Athens",
                "Belgrade",
                "Berlin",
                "Bern",
                "Bonn",
                "Bruxells",
                "Bucarest",
                "Budapest",
                "Copenhagen",
                "Dublin",
                "Helsinki",
                "Lisbon",
                "London",
                "Luxemborg",
                "Marbella",
                "Moscow",
                "Oslo",
                "Paris",
                "Prague",
                "Rome",
                "Sofia",
                "Stockholm",
                "Vienna",
                "Warsaw",
                "Bratislava",
                "St. Petersberg",
                "Ljubljana",
                "Madrid",
                "Milan",
                "Edinburgh",
                "Skopje"
               ]
              ],
              "x": [
               [
                -1.7577402538370783,
                0.7110101405095846,
                6.191331051128924,
                1.707831679419486,
                -1.314795824269892,
                -1.4756039454493748,
                -0.7398488944263819,
                -0.4375023334845754,
                0.3918441746492231,
                0.7213585041912611,
                -2.16588329776155,
                -2.3731668841069053,
                -5.901901720954966,
                5.389442614747573,
                2.331292951204494,
                -1.3936505256515073,
                9.363759521301658,
                -5.8222858844455905,
                -3.941957432181159,
                1.106330676548636,
                -1.0802694548278589,
                3.9593517014188717,
                0.10864871407959367,
                -3.851979652742253,
                -1.3182899334342995,
                -1.5588060587015213,
                -0.4867759562259736,
                -2.081935781486039,
                -0.2474234021804765,
                3.191504010794316,
                1.5684331305724175,
                -4.52114279442747,
                1.2076783656013652
               ],
               [
                -1.60894318764261,
                0.8394927193989601,
                6.264719408324745,
                1.8264803335594462,
                -1.1631348025575525,
                -1.3266107115494628,
                -0.6029628176799449,
                -0.30460311483158675,
                0.5259299386909976,
                0.8510364468622633,
                -2.0049750062259775,
                -2.2209200522853623,
                -5.6897238660469025,
                5.458094625029366,
                2.4372007485479976,
                -1.2473646595111643,
                9.392277265777325,
                -5.614410226066111,
                -3.7585865865657078,
                1.2267887138911118,
                -0.9300008663622892,
                4.052442893704252,
                0.24166408144901033,
                -3.666663446539294,
                -1.1847346488875599,
                -1.4024451701042593,
                -0.3427389990828567,
                -1.9342579243756026,
                -0.10725654081320288,
                3.296073982315166,
                1.6893651665489011,
                -4.326547838072788,
                1.3353141411006908
               ]
              ],
              "y": [
               [
                1.561834515599788,
                -0.7940250250799199,
                -0.9150109140146403,
                -0.6310253155625248,
                -0.33387865089878815,
                0.6332021458333956,
                0.7393028214240283,
                0.954009066948221,
                -1.6736499552981654,
                -1.3347435612409182,
                0.4856878685584356,
                2.5787563255048243,
                -0.8821680213505908,
                0.821593452058791,
                0.9352446901644831,
                0.6520854913976645,
                0.40035624705919404,
                -2.5304720262148592,
                0.5707413182042125,
                0.30782336957823836,
                -0.774778846246103,
                -0.07032660838251756,
                -0.5817496014003518,
                -0.1061071373265053,
                1.066206192280413,
                -0.9997162242121191,
                -0.5692690644708192,
                2.756684515167891,
                -0.3269324689892522,
                -0.15860310815873718,
                -0.5385268093461261,
                -0.5674925439585697,
                -1.2425446815866403
               ],
               [
                -1.5837703120091882,
                0.770197417314084,
                0.9466438136971445,
                0.6240515499702401,
                0.3101926946240253,
                -0.659506811266421,
                -0.7587930099741153,
                -0.9703559331056759,
                1.645804469548392,
                1.3112377803566744,
                -0.5104171124308313,
                -2.591499221901064,
                0.8391920261121821,
                -0.8009786080444686,
                -0.9323768503146158,
                -0.6746829644849318,
                -0.35390012866915,
                2.4413752245128295,
                -0.5932277968128696,
                -0.3178696402378554,
                0.7443496485482627,
                0.0865882956328978,
                0.5587490828414453,
                0.07988301726239891,
                -1.1331061623423735,
                0.9626083620595466,
                0.545717916592805,
                -2.771695551662801,
                0.30832055674806214,
                0.181217339486256,
                0.5338290507169042,
                0.531747680792842,
                1.2304741764393692
               ]
              ]
             },
             {
              "title": "LOO PCA — removed: Edinburgh",
              "xaxis.title.text": "PC1 (LOO 84.6% | full 85.0%)",
              "yaxis.title.text": "PC2 (LOO 10.5% | full 10.2%)"
             }
            ],
            "label": "Edinburgh",
            "method": "update"
           },
           {
            "args": [
             {
              "text": [
               [
                "Amsterdam",
                "Ankara",
                "Athens",
                "Belgrade",
                "Berlin",
                "Bern",
                "Bonn",
                "Bruxells",
                "Bucarest",
                "Budapest",
                "Copenhagen",
                "Dublin",
                "Helsinki",
                "Lisbon",
                "London",
                "Luxemborg",
                "Marbella",
                "Moscow",
                "Oslo",
                "Paris",
                "Prague",
                "Rome",
                "Sofia",
                "Stockholm",
                "Vienna",
                "Warsaw",
                "Bratislava",
                "St. Petersberg",
                "Ljubljana",
                "Madrid",
                "Milan",
                "Edinburgh",
                "Skopje"
               ],
               [
                "Amsterdam",
                "Ankara",
                "Athens",
                "Belgrade",
                "Berlin",
                "Bern",
                "Bonn",
                "Bruxells",
                "Bucarest",
                "Budapest",
                "Copenhagen",
                "Dublin",
                "Helsinki",
                "Lisbon",
                "London",
                "Luxemborg",
                "Marbella",
                "Moscow",
                "Oslo",
                "Paris",
                "Prague",
                "Rome",
                "Sofia",
                "Stockholm",
                "Vienna",
                "Warsaw",
                "Bratislava",
                "St. Petersberg",
                "Ljubljana",
                "Madrid",
                "Milan",
                "Edinburgh",
                "Skopje"
               ]
              ],
              "x": [
               [
                -1.555897811193093,
                0.873729682400169,
                6.242309160893928,
                1.8507646221112117,
                -1.1083920437998804,
                -1.273031944362875,
                -0.5601922908895389,
                -0.26501042781665696,
                0.5669853785919168,
                0.8871808859270106,
                -1.9423170828213527,
                -2.1650370856008476,
                -5.581270165833531,
                5.435681515437913,
                2.4484249479857616,
                -1.1952343862075565,
                9.330376316730916,
                -5.504177926822298,
                -3.675591934062292,
                1.2529963647790887,
                -0.8759115900532706,
                4.05070868449108,
                0.2813180036776732,
                -3.58309845759957,
                -1.1360781938106672,
                -1.3420175105707395,
                -0.2953944992808748,
                -1.881956460303645,
                -0.06353885358507032,
                3.3036424371072464,
                1.7144100238376427,
                -4.2343793593578045,
                1.3669137804180205
               ],
               [
                -1.60894318764261,
                0.8394927193989601,
                6.264719408324745,
                1.8264803335594462,
                -1.1631348025575525,
                -1.3266107115494628,
                -0.6029628176799449,
                -0.30460311483158675,
                0.5259299386909976,
                0.8510364468622633,
                -2.0049750062259775,
                -2.2209200522853623,
                -5.6897238660469025,
                5.458094625029366,
                2.4372007485479976,
                -1.2473646595111643,
                9.392277265777325,
                -5.614410226066111,
                -3.7585865865657078,
                1.2267887138911118,
                -0.9300008663622892,
                4.052442893704252,
                0.24166408144901033,
                -3.666663446539294,
                -1.1847346488875599,
                -1.4024451701042593,
                -0.3427389990828567,
                -1.9342579243756026,
                -0.10725654081320288,
                3.296073982315166,
                1.6893651665489011,
                -4.326547838072788,
                1.3353141411006908
               ]
              ],
              "y": [
               [
                -1.5365656018726055,
                0.8073792123050398,
                1.012088927871339,
                0.6663558025126859,
                0.3373824580237021,
                -0.6270413315456755,
                -0.7163342046215527,
                -0.927628569966811,
                1.6700444202291422,
                1.3351675722000353,
                -0.4738719504425887,
                -2.5360740955313066,
                0.8468982824314499,
                -0.7312856952269446,
                -0.8722687616099937,
                -0.6406990914039511,
                -0.2635310243289015,
                2.4301300783381143,
                -0.5565888941882648,
                -0.27547131534828856,
                0.7694561755734486,
                0.14517699859741343,
                0.5895535017951233,
                0.10806279378664883,
                -1.0979178845995645,
                0.9911598685166108,
                0.5739853570904615,
                -2.714654818607202,
                0.33956469705695325,
                0.23047402702666367,
                0.5691264535257364,
                0.5479266124130842,
                1.2575080184463865
               ],
               [
                -1.5837703120091882,
                0.770197417314084,
                0.9466438136971445,
                0.6240515499702401,
                0.3101926946240253,
                -0.659506811266421,
                -0.7587930099741153,
                -0.9703559331056759,
                1.645804469548392,
                1.3112377803566744,
                -0.5104171124308313,
                -2.591499221901064,
                0.8391920261121821,
                -0.8009786080444686,
                -0.9323768503146158,
                -0.6746829644849318,
                -0.35390012866915,
                2.4413752245128295,
                -0.5932277968128696,
                -0.3178696402378554,
                0.7443496485482627,
                0.0865882956328978,
                0.5587490828414453,
                0.07988301726239891,
                -1.1331061623423735,
                0.9626083620595466,
                0.545717916592805,
                -2.771695551662801,
                0.30832055674806214,
                0.181217339486256,
                0.5338290507169042,
                0.531747680792842,
                1.2304741764393692
               ]
              ]
             },
             {
              "title": "LOO PCA — removed: Skopje",
              "xaxis.title.text": "PC1 (LOO 85.3% | full 85.0%)",
              "yaxis.title.text": "PC2 (LOO 9.9% | full 10.2%)"
             }
            ],
            "label": "Skopje",
            "method": "update"
           }
          ],
          "direction": "down",
          "showactive": true,
          "type": "dropdown",
          "x": 0.02,
          "xanchor": "left",
          "y": 1.18,
          "yanchor": "top"
         }
        ],
        "width": 800,
        "xaxis": {
         "title": {
          "text": "PC1 (full 85.0%)"
         }
        },
        "yaxis": {
         "scaleanchor": "x",
         "scaleratio": 1,
         "title": {
          "text": "PC2 (full 10.2%)"
         }
        }
       }
      }
     },
     "metadata": {},
     "output_type": "display_data"
    },
    {
     "name": "stdout",
     "output_type": "stream",
     "text": [
      "Done.\n"
     ]
    }
   ],
   "source": [
    "# ===================== City Temperatures — All Interactive Plots =====================\n",
    "# pip install pandas numpy plotly openpyxl scikit-learn ipywidgets\n",
    "\n",
    "from pathlib import Path\n",
    "import numpy as np\n",
    "import pandas as pd\n",
    "import plotly.express as px\n",
    "import plotly.graph_objects as go\n",
    "from sklearn.decomposition import PCA\n",
    "from sklearn.preprocessing import StandardScaler\n",
    "from sklearn.impute import SimpleImputer\n",
    "\n",
    "# ----------------------------- Constants & Parsing -----------------------------\n",
    "MONTH_NAMES = [\"Jan\",\"Feb\",\"Mar\",\"Apr\",\"May\",\"Jun\",\"Jul\",\"Aug\",\"Sep\",\"Oct\",\"Nov\",\"Dec\"]\n",
    "MONTH_MAP = {\n",
    "    \"jan\":1,\"january\":1,\"1\":1,\"01\":1,\n",
    "    \"feb\":2,\"february\":2,\"2\":2,\"02\":2,\n",
    "    \"mar\":3,\"march\":3,\"3\":3,\"03\":3,\n",
    "    \"apr\":4,\"april\":4,\"4\":4,\"04\":4,\n",
    "    \"may\":5,\"5\":5,\"05\":5,\n",
    "    \"jun\":6,\"june\":6,\"6\":6,\"06\":6,\n",
    "    \"jul\":7,\"july\":7,\"7\":7,\"07\":7,\n",
    "    \"aug\":8,\"august\":8,\"8\":8,\"08\":8,\n",
    "    \"sep\":9,\"sept\":9,\"september\":9,\"9\":9,\"09\":9,\n",
    "    \"oct\":10,\"october\":10,\"10\":10,\n",
    "    \"nov\":11,\"november\":11,\"11\":11,\n",
    "    \"dec\":12,\"december\":12,\"12\":12,\n",
    "}\n",
    "def parse_month_header(colname: str):\n",
    "    s = str(colname).strip()\n",
    "    try:\n",
    "        n = int(s)\n",
    "        if 1 <= n <= 12:\n",
    "            return n\n",
    "    except Exception:\n",
    "        pass\n",
    "    key3 = s.lower()[:3]\n",
    "    return MONTH_MAP.get(key3, MONTH_MAP.get(s.lower(), np.nan))\n",
    "\n",
    "# ----------------------------- Robust Path Resolver -----------------------------\n",
    "def resolve_xlsx_path(xlsx_path=None, filename_candidates=(\"CityTemp.xlsx\",\"citytemp.xlsx\")) -> Path:\n",
    "    \"\"\"Find Excel path from explicit path, ./data/, ./, or shallow rglob under base dir.\"\"\"\n",
    "    if xlsx_path:\n",
    "        p = Path(xlsx_path)\n",
    "        if p.exists():\n",
    "            return p\n",
    "    base = Path(__file__).resolve().parent if \"__file__\" in globals() else Path.cwd()\n",
    "    candidates = []\n",
    "    for fn in filename_candidates:\n",
    "        candidates += [base/\"data\"/fn, base/fn]\n",
    "    for p in candidates:\n",
    "        if p.exists():\n",
    "            return p\n",
    "    for fn in filename_candidates:\n",
    "        matches = list(base.rglob(fn))\n",
    "        if matches:\n",
    "            return matches[0]\n",
    "    tried = \"\\n  - \" + \"\\n  - \".join(str(p) for p in candidates)\n",
    "    raise FileNotFoundError(f\"Could not find Excel. Tried:{tried}\\nWorking directory: {base}\")\n",
    "\n",
    "# ----------------------------- Load & Tidy Data -----------------------------\n",
    "def load_city_temps(xlsx_path=None, sheet=0):\n",
    "    \"\"\"\n",
    "    Load Excel: first column is City; 12 month columns (auto-detect by name, else next 12).\n",
    "    Returns (df, city_col, month_cols, col_to_num).\n",
    "    \"\"\"\n",
    "    xlsx_path = resolve_xlsx_path(xlsx_path)\n",
    "    df = pd.read_excel(xlsx_path, sheet_name=sheet)\n",
    "    df.columns = [str(c).strip() for c in df.columns]\n",
    "    city_col = df.columns[0]\n",
    "    cand = [c for c in df.columns if c != city_col]\n",
    "\n",
    "    col_to_num = {}\n",
    "    for c in cand:\n",
    "        n = parse_month_header(c)\n",
    "        if pd.notna(n) and 1 <= int(n) <= 12:\n",
    "            col_to_num.setdefault(c, int(n))  # keep first occurrence per month\n",
    "\n",
    "    if len(set(col_to_num.values())) < 12 and len(cand) >= 12:\n",
    "        month_cols = cand[:12]\n",
    "        col_to_num = {c: i+1 for i, c in enumerate(month_cols)}\n",
    "    else:\n",
    "        month_cols = sorted(col_to_num, key=lambda c: col_to_num[c])\n",
    "\n",
    "    for c in month_cols:\n",
    "        df[c] = pd.to_numeric(df[c], errors=\"coerce\")\n",
    "\n",
    "    print(f\"Loaded: {xlsx_path.resolve()}\")\n",
    "    return df, city_col, month_cols, col_to_num\n",
    "\n",
    "def to_long(df, city_col, month_cols, col_to_num):\n",
    "    \"\"\"Wide -> long (City, Month, Temperature) with ordered month labels.\"\"\"\n",
    "    long_df = df[[city_col] + month_cols].melt(\n",
    "        id_vars=[city_col], value_vars=month_cols, var_name=\"MonthCol\", value_name=\"Temperature\"\n",
    "    ).dropna(subset=[\"Temperature\"])\n",
    "    long_df[\"MonthNum\"] = long_df[\"MonthCol\"].map(col_to_num)\n",
    "    long_df[\"Month\"] = long_df[\"MonthNum\"].apply(lambda n: MONTH_NAMES[int(n)-1] if pd.notna(n) else str(n))\n",
    "    return long_df.sort_values([\"MonthNum\", city_col])\n",
    "\n",
    "# ----------------------------- Figures -----------------------------\n",
    "def fig_line_monthly(long_df, city_col, S=800):\n",
    "    fig = px.line(\n",
    "        long_df, x=\"Month\", y=\"Temperature\", color=city_col,\n",
    "        markers=True, title=\"Monthly Temperature by City\",\n",
    "        labels={\"Month\":\"Month\", city_col:\"City\"}\n",
    "    )\n",
    "    fig.update_layout(\n",
    "        xaxis=dict(type=\"category\", categoryorder=\"array\", categoryarray=MONTH_NAMES),\n",
    "        hovermode=\"x unified\", legend_title_text=\"Click a city to toggle\",\n",
    "        margin=dict(l=40,r=20,t=80,b=40)\n",
    "    )\n",
    "    n = len(fig.data)\n",
    "    fig.update_layout(updatemenus=[dict(\n",
    "        type=\"buttons\", direction=\"right\", x=1, xanchor=\"right\", y=1.15, yanchor=\"top\",\n",
    "        buttons=[dict(label=\"Show All\", method=\"update\", args=[{\"visible\":[True]*n}]),\n",
    "                 dict(label=\"Hide All\", method=\"update\", args=[{\"visible\":[False]*n}])]\n",
    "    )])\n",
    "    fig.update_layout(width=S*1.5, height=S, autosize=False)\n",
    "    return fig\n",
    "\n",
    "def fig_scatter3d_month_picker(df, city_col, col_to_num, S=800):\n",
    "    \"\"\"3D scatter with dropdowns to pick X/Y/Z months; labels and show/hide buttons.\"\"\"\n",
    "    if not col_to_num:\n",
    "        month_cols = [c for c in df.columns if c != city_col][:12]\n",
    "        col_to_num = {c:i+1 for i,c in enumerate(month_cols)}\n",
    "    num_to_col   = {v:k for k,v in col_to_num.items()}\n",
    "    num_to_label = {i: MONTH_NAMES[i-1] for i in range(1,13)}\n",
    "    cities       = df[city_col].astype(str).tolist()\n",
    "    n_cities     = len(cities)\n",
    "    def month_values(m): return df[num_to_col[m]].astype(float).tolist()\n",
    "    M = {m: month_values(m) for m in range(1,13)}          # precompute\n",
    "    mx,my,mz = 1,2,3\n",
    "    traces = [go.Scatter3d(\n",
    "        x=[M[mx][i]], y=[M[my][i]], z=[M[mz][i]],\n",
    "        mode=\"markers\", name=city, text=[city], textfont=dict(size=10),\n",
    "        marker=dict(size=6),\n",
    "        customdata=[[num_to_label[mx], num_to_label[my], num_to_label[mz]]],\n",
    "        hovertemplate=\"<b>%{text}</b><br>X (%{customdata[0]}): %{x}<br>\"\n",
    "                      \"Y (%{customdata[1]}): %{y}<br>Z (%{customdata[2]}): %{z}<extra></extra>\"\n",
    "    ) for i, city in enumerate(cities)]\n",
    "    fig = go.Figure(traces)\n",
    "\n",
    "    def axis_button(axis, m):\n",
    "        vals = [[M[m][i]] for i in range(n_cities)]\n",
    "        axis_idx = {\"x\":0,\"y\":1,\"z\":2}[axis]\n",
    "        new_custom = []\n",
    "        for i in range(n_cities):\n",
    "            cur = list(traces[i].customdata[0]); cur[axis_idx] = num_to_label[m]\n",
    "            new_custom.append([cur])\n",
    "        return dict(method=\"update\",\n",
    "                    args=[{axis: vals, \"customdata\": new_custom},\n",
    "                          {f\"scene.{axis}axis.title.text\": num_to_label[m]}],\n",
    "                    label=num_to_label[m])\n",
    "\n",
    "    def axis_dropdown(axis, xpos):\n",
    "        return dict(type=\"dropdown\", x=xpos, y=1.12, xanchor=\"center\", yanchor=\"top\",\n",
    "                    direction=\"down\", showactive=True,\n",
    "                    buttons=[axis_button(axis, m) for m in range(1,13)],\n",
    "                    pad={\"t\":4,\"b\":2,\"r\":2,\"l\":2})\n",
    "    def label_anno(txt, xpos):\n",
    "        return dict(text=txt, x=xpos, y=1.18, xref=\"paper\", yref=\"paper\",\n",
    "                    xanchor=\"center\", yanchor=\"top\", showarrow=False)\n",
    "\n",
    "    # show/hide & labels on/off\n",
    "    showhide_menu = dict(type=\"buttons\", x=0.93, y=1.12, xanchor=\"center\", yanchor=\"top\",\n",
    "                         direction=\"right\",\n",
    "                         buttons=[dict(label=\"Show All\", method=\"update\", args=[{\"visible\":[True]*n_cities}]),\n",
    "                                  dict(label=\"Hide All\", method=\"update\", args=[{\"visible\":[False]*n_cities}])])\n",
    "    def labels_button(on=True):\n",
    "        modes = [(\"markers+text\" if on else \"markers\")] * n_cities\n",
    "        return dict(label=(\"Labels: On\" if on else \"Labels: Off\"), method=\"update\", args=[{\"mode\": modes}])\n",
    "    labels_menu = dict(type=\"buttons\", x=0.78, y=1.12, xanchor=\"center\", yanchor=\"top\",\n",
    "                       direction=\"right\", buttons=[labels_button(True), labels_button(False)])\n",
    "\n",
    "    xpos_x, xpos_y, xpos_z = 0.14, 0.39, 0.64\n",
    "    fig.update_layout(\n",
    "        scene=dict(xaxis_title=num_to_label[mx], yaxis_title=num_to_label[my], zaxis_title=num_to_label[mz],\n",
    "                   xaxis=dict(showspikes=False), yaxis=dict(showspikes=False), zaxis=dict(showspikes=False)),\n",
    "        legend_title_text=\"Toggle cities\",\n",
    "        margin=dict(l=10,r=10,t=140,b=10),\n",
    "        updatemenus=[axis_dropdown('x', xpos_x), axis_dropdown('y', xpos_y), axis_dropdown('z', xpos_z),\n",
    "                     labels_menu, showhide_menu],\n",
    "        annotations=[label_anno(\"X Month\", xpos_x), label_anno(\"Y Month\", xpos_y), label_anno(\"Z Month\", xpos_z),\n",
    "                     label_anno(\"Point Labels\", 0.78), label_anno(\"Cities\", 0.93)],\n",
    "        title_y=0.92, width=S*1.75, height=S, autosize=False\n",
    "    )\n",
    "    return fig\n",
    "\n",
    "# ----------------------------- PCA Utilities & Plots -----------------------------\n",
    "def compute_pca_matrix(df, city_col, month_cols, retain=0.95):\n",
    "    \"\"\"\n",
    "    Matrix (rows=cities, cols=months) -> impute -> standardize -> full PCA.\n",
    "    Returns selected-k PCA pieces, plus full variance arrays for scree & cumulative plots.\n",
    "    \"\"\"\n",
    "    X = df[month_cols].apply(pd.to_numeric, errors=\"coerce\").values\n",
    "    cities = df[city_col].astype(str).values\n",
    "    X_proc = SimpleImputer(strategy=\"mean\").fit_transform(X)\n",
    "    X_proc = StandardScaler().fit_transform(X_proc)\n",
    "\n",
    "    # Full PCA for EVR curves\n",
    "    pca_full = PCA().fit(X_proc)\n",
    "    full_var_all = pca_full.explained_variance_ratio_ * 100.0   # per-PC %\n",
    "    full_eig_all = pca_full.explained_variance_                  # eigenvalues\n",
    "    cumvar_all   = np.cumsum(pca_full.explained_variance_ratio_) * 100.0\n",
    "\n",
    "    # Choose k to reach retain (min 2)\n",
    "    k = max(2, int(np.searchsorted(np.cumsum(pca_full.explained_variance_ratio_), retain) + 1))\n",
    "\n",
    "    # Fit final PCA with k comps (used by axis picker & residual map)\n",
    "    pca = PCA(n_components=k, random_state=0)\n",
    "    Z = pca.fit_transform(X_proc)        # scores\n",
    "    P = pca.components_.T                # loadings\n",
    "    eig = pca.explained_variance_\n",
    "    var = pca.explained_variance_ratio_ * 100.0\n",
    "\n",
    "    return {\n",
    "        \"X_proc\":X_proc, \"Z\":Z, \"P\":P, \"eig\":eig, \"var\":var, \"k\":k, \"cities\":cities,\n",
    "        \"full_var_all\": full_var_all, \"full_eig_all\": full_eig_all, \"cumvar_all\": cumvar_all,\n",
    "        \"retain\": retain\n",
    "    }\n",
    "\n",
    "def fig_pca_axis_picker(Z, cities, var, S=1000):\n",
    "    \"\"\"2D PCA scatter with dropdowns to pick ±PC for X and Y; city labels shown.\"\"\"\n",
    "    k = Z.shape[1]; pcx,pcy = 1,2\n",
    "    fig = go.Figure()\n",
    "    fig.add_trace(go.Scatter(\n",
    "        x=Z[:,pcx-1], y=Z[:,pcy-1], mode=\"markers+text\",\n",
    "        text=cities, textposition=\"top center\", textfont=dict(size=10),\n",
    "        marker=dict(size=8, opacity=0.9),\n",
    "        hovertemplate=\"<b>%{text}</b><br>PCX=%{x:.3f}<br>PCY=%{y:.3f}<extra></extra>\"\n",
    "    ))\n",
    "    fig.add_hline(y=0); fig.add_vline(x=0)\n",
    "    def title_pc(i, neg=False): return f\"{'-' if neg else ''}PC{i} ({var[i-1]:.1f}%)\"\n",
    "    fig.update_xaxes(title_text=title_pc(pcx)); fig.update_yaxes(title_text=title_pc(pcy))\n",
    "    SMALL = dict(font=dict(size=10), pad={\"t\":1,\"b\":1,\"l\":1,\"r\":1}, bgcolor=\"rgba(255,255,255,0.6)\")\n",
    "    def pc_dropdown(axis, xpos):\n",
    "        buttons=[]\n",
    "        for j in range(1, k+1):\n",
    "            if axis=='x':\n",
    "                buttons += [dict(label=f\"PC{j} ({var[j-1]:.0f}%)\", method=\"update\",\n",
    "                                 args=[{\"x\":[Z[:,j-1]]}, {\"xaxis.title.text\": title_pc(j)}]),\n",
    "                            dict(label=f\"-PC{j}\", method=\"update\",\n",
    "                                 args=[{\"x\":[-Z[:,j-1]]}, {\"xaxis.title.text\": title_pc(j,True)}])]\n",
    "            else:\n",
    "                buttons += [dict(label=f\"PC{j} ({var[j-1]:.0f}%)\", method=\"update\",\n",
    "                                 args=[{\"y\":[Z[:,j-1]]}, {\"yaxis.title.text\": title_pc(j)}]),\n",
    "                            dict(label=f\"-PC{j}\", method=\"update\",\n",
    "                                 args=[{\"y\":[-Z[:,j-1]]}, {\"yaxis.title.text\": title_pc(j,True)}])]\n",
    "        d = dict(type=\"dropdown\", x=xpos, y=1.08, xanchor=\"center\", yanchor=\"top\",\n",
    "                 direction=\"down\", showactive=True, buttons=buttons); d.update(SMALL); return d\n",
    "    def label_anno(txt, xpos):\n",
    "        return dict(text=txt, x=xpos, y=1.13, xref=\"paper\", yref=\"paper\",\n",
    "                    xanchor=\"center\", yanchor=\"top\", showarrow=False, font=dict(size=11))\n",
    "    xpos_xpc, xpos_ypc = 0.34, 0.58\n",
    "    fig.update_layout(\n",
    "        title=\"PCA — Pick PCs (± direction) • City names shown\",\n",
    "        updatemenus=[pc_dropdown('x', xpos_xpc), pc_dropdown('y', xpos_ypc)],\n",
    "        annotations=[label_anno(\"X PC\", xpos_xpc), label_anno(\"Y PC\", xpos_ypc)],\n",
    "        margin=dict(l=60,r=20,t=105,b=60), hovermode=\"closest\",\n",
    "        width=S, height=S, autosize=False\n",
    "    )\n",
    "    return fig\n",
    "\n",
    "def fig_pca_residual_map(X_proc, Z, P, eig, cities, alpha=0.01, S=700):\n",
    "    \"\"\"Residual map: Hotelling T² vs Q residual with empirical thresholds (top 1%).\"\"\"\n",
    "    X_hat = Z @ P.T\n",
    "    R = X_proc - X_hat\n",
    "    Q = np.sum(R**2, axis=1)\n",
    "    T2 = np.sum((Z**2) / eig, axis=1)\n",
    "    Q_thr  = float(np.quantile(Q,  1 - alpha))\n",
    "    T2_thr = float(np.quantile(T2, 1 - alpha))\n",
    "    out_df = pd.DataFrame({\"City\":cities,\"Q_residual\":Q,\"T2\":T2})\n",
    "    outliers = out_df[(Q > Q_thr) | (T2 > T2_thr)].sort_values([\"Q_residual\",\"T2\"], ascending=False)\n",
    "    if len(outliers):\n",
    "        print(f\"Outliers (alpha = {alpha:.2%})\\n\"); print(outliers.to_string(index=False))\n",
    "    else:\n",
    "        print(f\"No outliers at alpha = {alpha:.2%}\")\n",
    "    fig = go.Figure()\n",
    "    fig.add_trace(go.Scatter(\n",
    "        x=T2, y=Q, mode=\"markers+text\", text=cities, textposition=\"top center\", textfont=dict(size=10),\n",
    "        marker=dict(size=8, opacity=0.9),\n",
    "        hovertemplate=\"<b>%{text}</b><br>T²=%{x:.3f}<br>Q=%{y:.3f}<extra></extra>\"\n",
    "    ))\n",
    "    fig.add_vline(x=T2_thr, line_dash=\"dash\"); fig.add_hline(y=Q_thr, line_dash=\"dash\")\n",
    "    fig.update_xaxes(title=\"Hotelling T²\"); fig.update_yaxes(title=\"Q residual (SPE)\")\n",
    "    fig.update_layout(title=f\"PCA Residual Outlier Map (α={alpha}, k={Z.shape[1]})\",\n",
    "                      margin=dict(l=60,r=20,t=80,b=60), hovermode=\"closest\",\n",
    "                      width=900, height=S, autosize=False)\n",
    "    return fig\n",
    "\n",
    "# -------- Explained Variance Plots (scree and cumulative) --------\n",
    "def fig_pca_scree(full_var_all, k_selected, S=700):\n",
    "    \"\"\"Scree plot: explained variance ratio (%) per component with a vertical line at selected k.\"\"\"\n",
    "    comps = np.arange(1, len(full_var_all)+1)\n",
    "    fig = go.Figure()\n",
    "    fig.add_bar(x=comps, y=full_var_all, name=\"Explained variance (%)\")\n",
    "    fig.add_vline(x=k_selected + 0.5, line_dash=\"dash\",\n",
    "                  annotation_text=f\"k = {k_selected}\", annotation_position=\"top\")\n",
    "    fig.update_xaxes(title=\"Principal component\")\n",
    "    fig.update_yaxes(title=\"Explained variance (%)\", rangemode=\"tozero\")\n",
    "    fig.update_layout(title=\"PCA Scree Plot (per-component explained variance)\",\n",
    "                      margin=dict(l=60,r=20,t=80,b=60), hovermode=\"x unified\",\n",
    "                      width=900, height=S, autosize=False, showlegend=False)\n",
    "    return fig\n",
    "\n",
    "def fig_pca_cumulative(cumvar_all, k_selected, retain=0.95, S=700):\n",
    "    \"\"\"Cumulative explained variance (%) with horizontal retain line and vertical k marker.\"\"\"\n",
    "    comps = np.arange(1, len(cumvar_all)+1)\n",
    "    fig = go.Figure()\n",
    "    fig.add_scatter(x=comps, y=cumvar_all, mode=\"lines+markers\", name=\"Cumulative EVR (%)\")\n",
    "    fig.add_hline(y=retain*100.0, line_dash=\"dash\",\n",
    "                  annotation_text=f\"{retain*100:.0f}% threshold\", annotation_position=\"bottom right\")\n",
    "    fig.add_vline(x=k_selected + 0.5, line_dash=\"dash\",\n",
    "                  annotation_text=f\"k = {k_selected}\", annotation_position=\"top\")\n",
    "    fig.update_xaxes(title=\"Principal component\")\n",
    "    fig.update_yaxes(title=\"Cumulative explained variance (%)\", rangemode=\"tozero\")\n",
    "    fig.update_layout(title=\"PCA Cumulative Explained Variance\",\n",
    "                      margin=dict(l=60,r=20,t=80,b=60), hovermode=\"x unified\",\n",
    "                      width=900, height=S, autosize=False, showlegend=False)\n",
    "    return fig\n",
    "\n",
    "# ----------------------------- LOO PCA — Clickable Widget -----------------------------\n",
    "def fig_loo_pca_widget(df, city_col, month_cols, S=800):\n",
    "    \"\"\"\n",
    "    Interactive LOO PCA (2 PCs): click any BLUE city to recompute PCA trained\n",
    "    without that city; RED points show the LOO projection; titles show LOO vs full variance.\n",
    "    Returns a VBox to display in Jupyter.\n",
    "    \"\"\"\n",
    "    import plotly.graph_objects as go\n",
    "    from ipywidgets import HTML, VBox\n",
    "\n",
    "    X = df[month_cols].apply(pd.to_numeric, errors=\"coerce\").values\n",
    "    cities = df[city_col].astype(str).values\n",
    "    n = X.shape[0]\n",
    "    idx_all = np.arange(n)\n",
    "\n",
    "    def project_with_pca_2pc(X, train_idx):\n",
    "        imp = SimpleImputer(strategy=\"mean\").fit(X[train_idx])\n",
    "        X_imp_train = imp.transform(X[train_idx]); X_imp_full = imp.transform(X)\n",
    "        scaler = StandardScaler().fit(X_imp_train)\n",
    "        X_std_train = scaler.transform(X_imp_train); X_std_full = scaler.transform(X_imp_full)\n",
    "        pca = PCA(n_components=2, random_state=0).fit(X_std_train)\n",
    "        scores_full = pca.transform(X_std_full); var = pca.explained_variance_ratio_ * 100.0\n",
    "        return scores_full, var\n",
    "\n",
    "    full_scores, full_var = project_with_pca_2pc(X, idx_all)\n",
    "    fig = go.FigureWidget()\n",
    "    # Trace 0: LOO (red)\n",
    "    fig.add_scatter(x=full_scores[:,0], y=full_scores[:,1], mode=\"markers+text\",\n",
    "                    text=cities, textposition=\"top center\", textfont=dict(size=10),\n",
    "                    marker=dict(size=8, opacity=0.9, color=\"red\"),\n",
    "                    name=\"LOO (train without selected city)\")\n",
    "    # Trace 1: Full (blue) — clickable\n",
    "    fig.add_scatter(x=full_scores[:,0], y=full_scores[:,1], mode=\"markers+text\",\n",
    "                    text=cities, textposition=\"bottom center\", textfont=dict(size=10),\n",
    "                    marker=dict(size=8, opacity=0.9, color=\"blue\"),\n",
    "                    name=\"Full (train with all cities)\")\n",
    "    fig.add_hline(y=0, line_width=1); fig.add_vline(x=0, line_width=1)\n",
    "    fig.update_xaxes(title=f\"PC1 (full {full_var[0]:.1f}%)\")\n",
    "    fig.update_yaxes(title=f\"PC2 (full {full_var[1]:.1f}%)\", scaleanchor=\"x\", scaleratio=1)\n",
    "    fig.update_layout(title=\"LOO PCA (click a blue city to recompute)\",\n",
    "                      margin=dict(l=60,r=20,t=80,b=60), hovermode=\"closest\",\n",
    "                      legend=dict(orientation=\"h\", yanchor=\"bottom\", y=1.02, xanchor=\"left\", x=0.0),\n",
    "                      width=S, height=S, autosize=False)\n",
    "    info = HTML(value=\"<b>Click a blue city to compute the LOO model…</b>\")\n",
    "\n",
    "    def handle_click(trace, points, selector):\n",
    "        if not points.point_inds: return\n",
    "        i = points.point_inds[0]; city = cities[i]\n",
    "        train_idx = np.delete(idx_all, i)\n",
    "        loo_scores, loo_var = project_with_pca_2pc(X, train_idx)\n",
    "        full_scores_now, full_var_now = project_with_pca_2pc(X, idx_all)\n",
    "        with fig.batch_update():\n",
    "            fig.data[0].x, fig.data[0].y, fig.data[0].text = loo_scores[:,0], loo_scores[:,1], cities\n",
    "            fig.data[1].x, fig.data[1].y, fig.data[1].text = full_scores_now[:,0], full_scores_now[:,1], cities\n",
    "            fig.layout.xaxis.title = f\"PC1 (LOO {loo_var[0]:.1f}% | full {full_var_now[0]:.1f}%)\"\n",
    "            fig.layout.yaxis.title = f\"PC2 (LOO {loo_var[1]:.1f}% | full {full_var_now[1]:.1f}%)\"\n",
    "            fig.layout.title = f\"LOO PCA — removed: {city}\"\n",
    "        info.value = (f\"<b>Removed:</b> {city} &nbsp; | &nbsp; \"\n",
    "                      f\"<b>LOO var:</b> ({loo_var[0]:.1f}%, {loo_var[1]:.1f}%) &nbsp; | &nbsp; \"\n",
    "                      f\"<b>Full var:</b> ({full_var_now[0]:.1f}%, {full_var_now[1]:.1f}%)\")\n",
    "\n",
    "    fig.data[1].on_click(handle_click)  # attach to blue trace\n",
    "    return VBox([info, fig])\n",
    "\n",
    "# ----------------------------- LOO PCA — Dropdown Fallback (no widgets) -----------------------------\n",
    "def fig_loo_pca_dropdown(df, city_col, month_cols, S=800):\n",
    "    \"\"\"\n",
    "    LOO PCA without ipywidgets: use a dropdown to choose the city to leave out.\n",
    "    Red = LOO projection (trained without selected city); Blue = full model.\n",
    "    \"\"\"\n",
    "    import plotly.graph_objects as go\n",
    "\n",
    "    # Data matrix\n",
    "    X = df[month_cols].apply(pd.to_numeric, errors=\"coerce\").values\n",
    "    cities = df[city_col].astype(str).values\n",
    "    n = X.shape[0]\n",
    "    idx_all = np.arange(n)\n",
    "\n",
    "    def project_with_pca_2pc(X, train_idx):\n",
    "        imp = SimpleImputer(strategy=\"mean\").fit(X[train_idx])\n",
    "        X_imp_train = imp.transform(X[train_idx]); X_imp_full = imp.transform(X)\n",
    "        scaler = StandardScaler().fit(X_imp_train)\n",
    "        X_std_train = scaler.transform(X_imp_train); X_std_full = scaler.transform(X_imp_full)\n",
    "        pca = PCA(n_components=2, random_state=0).fit(X_std_train)\n",
    "        scores_full = pca.transform(X_std_full)          # (n_cities, 2)\n",
    "        var = pca.explained_variance_ratio_ * 100.0      # (2,)\n",
    "        return scores_full, var\n",
    "\n",
    "    # Full model once\n",
    "    full_scores, full_var = project_with_pca_2pc(X, idx_all)\n",
    "\n",
    "    # Precompute LOO for each city\n",
    "    loo_scores = []\n",
    "    loo_vars = []\n",
    "    for i in range(n):\n",
    "        train_idx = np.delete(idx_all, i)\n",
    "        s, v = project_with_pca_2pc(X, train_idx)\n",
    "        loo_scores.append(s); loo_vars.append(v)\n",
    "\n",
    "    # Base fig with two traces\n",
    "    fig = go.Figure()\n",
    "    # Trace 0: LOO (red) — start as full\n",
    "    fig.add_trace(go.Scatter(\n",
    "        x=full_scores[:,0], y=full_scores[:,1],\n",
    "        mode=\"markers+text\", text=cities, textposition=\"top center\", textfont=dict(size=10),\n",
    "        marker=dict(size=8, opacity=0.9, color=\"red\"),\n",
    "        name=\"LOO (train without selected city)\"\n",
    "    ))\n",
    "    # Trace 1: Full (blue)\n",
    "    fig.add_trace(go.Scatter(\n",
    "        x=full_scores[:,0], y=full_scores[:,1],\n",
    "        mode=\"markers+text\", text=cities, textposition=\"bottom center\", textfont=dict(size=10),\n",
    "        marker=dict(size=8, opacity=0.9, color=\"blue\"),\n",
    "        name=\"Full (train with all cities)\"\n",
    "    ))\n",
    "\n",
    "    # Crosshairs + layout\n",
    "    fig.add_hline(y=0, line_width=1); fig.add_vline(x=0, line_width=1)\n",
    "    fig.update_xaxes(title=f\"PC1 (full {full_var[0]:.1f}%)\")\n",
    "    fig.update_yaxes(title=f\"PC2 (full {full_var[1]:.1f}%)\", scaleanchor=\"x\", scaleratio=1)\n",
    "    fig.update_layout(\n",
    "        title=\"LOO PCA — choose a city to leave out\",\n",
    "        margin=dict(l=60, r=20, t=90, b=60),\n",
    "        hovermode=\"closest\",\n",
    "        legend=dict(orientation=\"h\", yanchor=\"bottom\", y=1.02, xanchor=\"left\", x=0.0),\n",
    "        width=S, height=S, autosize=False\n",
    "    )\n",
    "\n",
    "    # Build dropdown buttons\n",
    "    buttons = []\n",
    "    # Button 0: reset (no LOO)\n",
    "    buttons.append(dict(\n",
    "        label=\"— Select city —\",\n",
    "        method=\"update\",\n",
    "        args=[\n",
    "            {\"x\":[full_scores[:,0], full_scores[:,0]],\n",
    "             \"y\":[full_scores[:,1], full_scores[:,1]],\n",
    "             \"text\":[cities, cities]},\n",
    "            {\"xaxis.title.text\": f\"PC1 (full {full_var[0]:.1f}%)\",\n",
    "             \"yaxis.title.text\": f\"PC2 (full {full_var[1]:.1f}%)\",\n",
    "             \"title\": \"LOO PCA — choose a city to leave out\"}\n",
    "        ]\n",
    "    ))\n",
    "    # One button per city\n",
    "    for i, city in enumerate(cities):\n",
    "        loo_s = loo_scores[i]; loo_v = loo_vars[i]\n",
    "        buttons.append(dict(\n",
    "            label=str(city),\n",
    "            method=\"update\",\n",
    "            args=[\n",
    "                {\"x\":[loo_s[:,0], full_scores[:,0]], \"y\":[loo_s[:,1], full_scores[:,1]],\n",
    "                 \"text\":[cities, cities]},\n",
    "                {\"xaxis.title.text\": f\"PC1 (LOO {loo_v[0]:.1f}% | full {full_var[0]:.1f}%)\",\n",
    "                 \"yaxis.title.text\": f\"PC2 (LOO {loo_v[1]:.1f}% | full {full_var[1]:.1f}%)\",\n",
    "                 \"title\": f\"LOO PCA — removed: {city}\"}\n",
    "            ]\n",
    "        ))\n",
    "\n",
    "    fig.update_layout(\n",
    "        updatemenus=[dict(\n",
    "            type=\"dropdown\", direction=\"down\",\n",
    "            x=0.02, xanchor=\"left\", y=1.18, yanchor=\"top\",\n",
    "            buttons=buttons, showactive=True\n",
    "        )],\n",
    "        annotations=[dict(\n",
    "            text=\"Leave out:\", x=0.02, y=1.23, xref=\"paper\", yref=\"paper\",\n",
    "            xanchor=\"left\", yanchor=\"top\", showarrow=False\n",
    "        )]\n",
    "    )\n",
    "    return fig\n",
    "\n",
    "# ----------------------------- Run Everything -----------------------------\n",
    "if __name__ == \"__main__\":\n",
    "    # Point to ./data/CityTemp.xlsx relative to this file (with robust fallback)\n",
    "    BASE_DIR = Path(__file__).resolve().parent if \"__file__\" in globals() else Path.cwd()\n",
    "    XLSX = (BASE_DIR / \"data\" / \"CityTemp.xlsx\")\n",
    "    df, city_col, month_cols, col_to_num = load_city_temps(XLSX, sheet=0)\n",
    "    long_df = to_long(df, city_col, month_cols, col_to_num)\n",
    "\n",
    "    # 1) Line chart\n",
    "    fig1 = fig_line_monthly(long_df, city_col); fig1.show()\n",
    "\n",
    "    # 2) 3D month-picker\n",
    "    fig2 = fig_scatter3d_month_picker(df, city_col, col_to_num); fig2.show()\n",
    "\n",
    "    # 3) PCA axis picker + Explained variance + Residual map\n",
    "    p = compute_pca_matrix(df, city_col, month_cols, retain=0.95)\n",
    "    fig3 = fig_pca_axis_picker(p[\"Z\"], p[\"cities\"], p[\"var\"]); fig3.show()\n",
    "\n",
    "    # 4) Explained variance — scree\n",
    "    fig4 = fig_pca_scree(p[\"full_var_all\"], p[\"k\"]); fig4.show()\n",
    "\n",
    "    # 5) Explained variance — cumulative\n",
    "    fig5 = fig_pca_cumulative(p[\"cumvar_all\"], p[\"k\"], retain=p[\"retain\"]); fig5.show()\n",
    "\n",
    "    # 6) Residual outlier map\n",
    "    fig6 = fig_pca_residual_map(p[\"X_proc\"], p[\"Z\"], p[\"P\"], p[\"eig\"], p[\"cities\"]); fig6.show()\n",
    "\n",
    "    # 7) LOO PCA\n",
    "    try:\n",
    "        # Try the clickable widget version (requires ipywidgets)\n",
    "        from IPython.display import display\n",
    "        loo_widget = fig_loo_pca_widget(df, city_col, month_cols, S=800)\n",
    "        display(loo_widget)\n",
    "    except Exception as e:\n",
    "        print(\"LOO PCA widget unavailable:\", e)\n",
    "        print(\"Falling back to dropdown-based figure (no widgets needed).\")\n",
    "        fig_loo = fig_loo_pca_dropdown(df, city_col, month_cols, S=800)\n",
    "        fig_loo.show()\n",
    "\n",
    "    # Optional: save standalone HTMLs\n",
    "    # fig1.write_html(\"city_temps_interactive.html\", include_plotlyjs=\"cdn\")\n",
    "    # fig2.write_html(\"city_temps_3d.html\", include_plotlyjs=\"cdn\")\n",
    "    # fig3.write_html(\"pca_axis_picker.html\", include_plotlyjs=\"cdn\")\n",
    "    # fig4.write_html(\"pca_scree.html\", include_plotlyjs=\"cdn\")\n",
    "    # fig5.write_html(\"pca_cumulative.html\", include_plotlyjs=\"cdn\")\n",
    "    # fig6.write_html(\"pca_residual_map.html\", include_plotlyjs=\"cdn\")\n",
    "\n",
    "    print(\"Done.\")\n"
   ]
  }
 ],
 "metadata": {
  "kernelspec": {
   "display_name": "ham",
   "language": "python",
   "name": "python3"
  },
  "language_info": {
   "codemirror_mode": {
    "name": "ipython",
    "version": 3
   },
   "file_extension": ".py",
   "mimetype": "text/x-python",
   "name": "python",
   "nbconvert_exporter": "python",
   "pygments_lexer": "ipython3",
   "version": "3.12.7"
  }
 },
 "nbformat": 4,
 "nbformat_minor": 5
}
