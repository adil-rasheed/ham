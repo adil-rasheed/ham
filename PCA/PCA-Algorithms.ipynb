{
 "cells": [
  {
   "cell_type": "markdown",
   "metadata": {},
   "source": [
    "# Test data"
   ]
  },
  {
   "cell_type": "code",
   "execution_count": 1,
   "metadata": {},
   "outputs": [],
   "source": [
    "import numpy as np\n",
    "from scipy import linalg as LA\n",
    "X = np.array([\n",
    "        [0.387,4878, 5.42],\n",
    "        [0.723,12104,5.25],\n",
    "        [1,12756,5.52],\n",
    "        [1.524,6787,3.94],\n",
    "    ])"
   ]
  },
  {
   "cell_type": "markdown",
   "metadata": {},
   "source": [
    "# Non-Iinear Iterative Partial Least-Squares (NIPALS) algorithm"
   ]
  },
  {
   "cell_type": "markdown",
   "metadata": {},
   "source": [
    "## ALGORITHM"
   ]
  },
  {
   "cell_type": "markdown",
   "metadata": {},
   "source": [
    "Steps to compute PCA using NIPALS algorithm\n",
    "\n",
    "* Step 1: Initialize an arbitrary column vector $\\mathbf{t}_{a}$ either randomly or by just copying any column of X. \n",
    "* Step 2: Take very column of $X$, $X_{k}$ and regress it onto the $\\mathbf{t}_{a}$ vector and store the regression coefficeints as $\\mathbf{p}_{ka}$. (Note: This simply means performing an ordinary least squares regression ($y=mx$) with $x=t_{a}$ and $y=X_{k}$ with $m=(\\mathbf{x}'\\mathbf{x})^{-1}\\mathbf{x}'\\mathbf{y}$). In the current notation we get \n",
    "$$p_{ka}=\\frac{\\mathbf{t}_{a}^{'}\\mathbf{X}_{k}}{\\mathbf{t}_{a}^{'}\\mathbf{t}_{a}}$$\n",
    "Repeat it for each of the columns of $X$ to get the entire vector $\\mathbf{p}_{k}$. This is shown in the illustration\n",
    "above where each column from $X$ is regressed, one at a time, on $\\mathbf{t}_{a}$, to calculate the loading entry, $\\mathbf{𝑝}_{ka}$ In\n",
    "practice we don’t do this one column at time; we can regress all columns in $X$ in go: $$\\mathbf{p}_{a}^{'}=\\frac{1}{\\mathbf{t}_{a}^{'}\\mathbf{t}_{a}}.\\mathbf{t}_{a}^{'}\\mathbf{X}_{a}$$  where $\\mathbf{t}_{a}$ is an $N \\times 1$ column vector, and $\\mathbf{X}_{a}$ us an $N \\times K$ matrix.\n",
    "* The loading vector $\\mathbf{p}_{a}^{'}$ won’t have unit length (magnitude) yet. So we simply rescale it to have\n",
    "magnitude of 1.0: $$\\mathbf{p}_{a}^{'}=\\frac{1}{\\sqrt{\\mathbf{p}_{a}^{'}\\mathbf{p}_{a}}.\\mathbf{p}_{a}^{'}}$$\n",
    "* Step 4: Regress every row in $X$ onto this normalized loadings vector. As illustrated below, in our linear regression the rows in X are our y-variable each time, while the loadings vector is our x-variable. The regression coefficient becomes the score value for that $𝑖^{th}$ row:\n",
    "$$p_{i,a}=\\frac{\\mathbf{x}_{i}^{'}\\mathbf{p}_{a}}{\\mathbf{p}_{a}^{'}\\mathbf{p}_{a}}$$\n",
    "where $x_{i}^{'}$ is a $K \\times 1$ column vector. We can combine these $N$ separate least-squares models and\n",
    "calculate them in one go to get the entire vector, \n",
    "$$\\mathbf{t}_{a}^{'}=\\frac{1}{\\mathbf{p}_{a}^{'}\\mathbf{p}_{a}}\\mathbf{X}\\mathbf{p}_{a}^{'}$$  where $p_{a}$ is a $K \\times 1$ column vector.\n",
    "* Step 5: Continue looping over steps 2,3,4 until the change in vector $t_{a}$ is below a chosen tolerance\n",
    "* Step 6: On convergence, the score vector and the loading vectors, $\\mathbf{t}_{a}$ and $\\mathbf{p}_{a}$ are stored as the $a^{th}$ column in matrix $\\mathbf{T}$ and $\\mathbf{P}$. We then deflate the $\\mathbf{X}$ matrix. This crucial step removes the variability captured in this component ($t_{a}$ and $p_{a}$) from $\\mathbf{X}$:\n",
    "$$E_{a}=X_{a}-t_{a}p_{a}^{'}$$\n",
    "$$X_{a+1} = E_{a}$$ \n",
    "\n",
    "For the first component, $X_{a}$ is just the preprocessed raw data. So we can see that the second component is actually calculated on the residuals $E_{1}$, obtained after extracting the first component. This is called deflation, and nicely shows why each component is orthogonal to the others. Each subsequent component is only seeing variation remaining after removing all the others; there is no possibility that two components can explain the same type of variability. After deflation we go back to step 1 and repeat the entire process for the next component. "
   ]
  },
  {
   "cell_type": "markdown",
   "metadata": {},
   "source": [
    "## IMPLEMENTATION IN PYTHON"
   ]
  },
  {
   "cell_type": "code",
   "execution_count": 2,
   "metadata": {},
   "outputs": [],
   "source": [
    "def PCA(X,no_components):\n",
    "    tol = 0.0000001\n",
    "    it=1000\n",
    "    obsCount,varCount = X.shape\n",
    "    Xa = X - np.mean(X, axis = 0) \n",
    "    #Xh = X-np.tile(np.mean(X,axis=0).reshape(-1,1).T, obsCount).reshape(4,3)\n",
    "    T = np.zeros((obsCount,no_components))\n",
    "    P = np.zeros((varCount,no_components))\n",
    "    pcvar = np.zeros((varCount,1))\n",
    "    varTotal = np.sum(np.var(Xa,axis=0,ddof=1))\n",
    "    currVar = varTotal\n",
    "    nr=0\n",
    "    for h in range(no_components):\n",
    "        th = Xa[:,0].reshape(-1,1)\n",
    "        ende = False\n",
    "        while ende != True:\n",
    "            nr = nr + 1\n",
    "            ph = np.dot(Xa.T,th)/np.dot(th.T,th)\n",
    "            ph = ph /np.linalg.norm(ph)\n",
    "            thnew = np.dot(Xa,ph)/np.dot(ph.T,ph)\n",
    "            prec = np.dot((thnew-th).T,(thnew-th))\n",
    "            th = thnew\n",
    "            if prec <= (tol*tol):\n",
    "                ende = True\n",
    "            elif it <=nr:\n",
    "                ende = True\n",
    "                print(\"Iternation stops without convergence\")\n",
    "        Ea = Xa - np.dot(th,ph.T)\n",
    "        Xa = Ea    \n",
    "        T[:,h] = th.flatten()\n",
    "        P[:,h] = ph.flatten()\n",
    "        oldVar = currVar\n",
    "        currVar = np.sum(np.var(Xa,axis=0,ddof=1))\n",
    "        pcvar[h] = (oldVar - currVar) / varTotal\n",
    "        nr = 0\n",
    "    return T,P,pcvar      "
   ]
  },
  {
   "cell_type": "markdown",
   "metadata": {},
   "source": [
    "## Advantages of the NIPALS algorithm\n",
    "* The NIPALS algorithm computes one component at a time. The first component computed is\n",
    "equivalent to the t1 and p1 vectors that would have been found from an eigenvalue or singular value\n",
    "decomposition.\n",
    "* The algorithm can handle missing data in X.\n",
    "* The algorithm always converges, but the convergence can sometimes be slow.\n",
    "* It is also known as the Power algorithm to calculate eigenvectors and eigenvalues.\n",
    "* It works well for very large data sets.\n",
    "* It is used by most software packages, especially those that handle missing data.\n",
    "* Of interest: it is well known that Google used this algorithm for the early versions of their search engine, called PageRank148."
   ]
  },
  {
   "cell_type": "code",
   "execution_count": 3,
   "metadata": {},
   "outputs": [],
   "source": [
    "no_components=3\n",
    "T,P,pcvar = PCA(X,no_components)"
   ]
  },
  {
   "cell_type": "code",
   "execution_count": 4,
   "metadata": {},
   "outputs": [
    {
     "data": {
      "text/plain": [
       "array([[-4.25324997e+03, -8.41288672e-01,  8.37859036e-03],\n",
       "       [ 2.97275001e+03, -1.25977272e-01, -1.82476780e-01],\n",
       "       [ 3.62475003e+03, -1.56843494e-01,  1.65224286e-01],\n",
       "       [-2.34425007e+03,  1.12410944e+00,  8.87390330e-03]])"
      ]
     },
     "execution_count": 4,
     "metadata": {},
     "output_type": "execute_result"
    }
   ],
   "source": [
    "T"
   ]
  },
  {
   "cell_type": "code",
   "execution_count": 5,
   "metadata": {},
   "outputs": [
    {
     "data": {
      "text/plain": [
       "array([[ 1.21901390e-05,  5.66460728e-01,  8.24088735e-01],\n",
       "       [ 9.99999997e-01,  5.32639787e-05, -5.14047689e-05],\n",
       "       [ 7.30130279e-05, -8.24088733e-01,  5.66460726e-01]])"
      ]
     },
     "execution_count": 5,
     "metadata": {},
     "output_type": "execute_result"
    }
   ],
   "source": [
    "P"
   ]
  },
  {
   "cell_type": "code",
   "execution_count": 6,
   "metadata": {},
   "outputs": [
    {
     "data": {
      "text/plain": [
       "array([[9.99999955e-01],\n",
       "       [4.41567976e-08],\n",
       "       [1.33326424e-09]])"
      ]
     },
     "execution_count": 6,
     "metadata": {},
     "output_type": "execute_result"
    }
   ],
   "source": [
    "pcvar"
   ]
  },
  {
   "cell_type": "markdown",
   "metadata": {},
   "source": [
    "# Eigenvalue decomposition approach"
   ]
  },
  {
   "cell_type": "markdown",
   "metadata": {},
   "source": [
    "## ALGORITHM\n",
    "Recall that the latent variable directions (the loading vectors) were oriented so that the variance of the\n",
    "scores in that direction were maximal. We can cast this as an optimization problem. For the first\n",
    "component: $$max (\\phi)=\\mathbf{t}_{1}^{'}\\mathbf{t}_{1}=\\mathbf{p}_{1}^{'} \\mathbf{X}^{'}\\mathbf{X}\\mathbf{p}_{1}$$\n",
    "such that $$\\mathbf{p}_{1}^{'}\\mathbf{p}_{1}=1$$.\n",
    "\n",
    "This is equivalent to $$max (\\phi)=\\mathbf{p}_{1}^{'} \\mathbf{X}^{'}\\mathbf{X}\\mathbf{p}_{1}-\\lambda(\\mathbf{p}_{1}^{'}\\mathbf{p}_{1}-1)$$ because we can move the constraint into the objective function with a Lagrange multiplier, $\\lambda$. The maximum value must occur when the partial derivatives with respect to $\\mathbf{p}_{1}$, our search variable, are zero: $$\\frac{\\partial \\phi}{\\partial p_1}= \\frac{\\partial (\\mathbf{p}_{1}^{'} \\mathbf{X}^{'}\\mathbf{X}\\mathbf{p}_{1}-\\lambda(\\mathbf{p}_{1}^{'}\\mathbf{p}_{1}-1))}{\\partial \\mathbf{p}_1}=0$$\n",
    "$$2\\mathbf{X}^{'}\\mathbf{X}\\mathbf{p}_{1}-2\\lambda_{1}\\mathbf{p}_{1}=0$$\n",
    "$$(\\mathbf{X}^{'}\\mathbf{X}-\\lambda_{1}\\mathbf{I})\\mathbf{p}_1=0$$\n",
    "$$\\mathbf{X}^{'}\\mathbf{X}\\mathbf{p}_1=\\lambda_{1}\\mathbf{p}_1$$\n",
    "\n",
    "which is just the eigenvalue equation, indicating that $\\mathbf{p}_1$ is the eigenvector of $\\mathbf{X}^{'}\\mathbf{X}$ and $\\lambda_{1}$ is the eigenvalue. One can show that $\\lambda_{1}=\\mathbf{t}_{1}^{'}\\mathbf{t}_{1}$, which is proportional to the variance of the first component. In a similar manner we can calculate the second eigenvalue, but this time we add the additional constraint that $\\mathbf{p}_1 \\perp \\mathbf{p}_2$. Writing out this objective function and taking partial derivatives leads to showing that $$\\mathbf{X}^{'}\\mathbf{X}\\mathbf{p}_2 = \\lambda_2 \\mathbf{p}_2$$.\n",
    "\n",
    "From this we learn that:\n",
    "* The loadings are the eigenvectors of $\\mathbf{X}^{'}\\mathbf{X}$.\n",
    "* Sorting the eigenvalues in order from largest to smallest gives the order of the corresponding eigenvectors, the loadings.\n",
    "* We know from the theory of eigenvalues that if there are distinct eigenvalues, then their eigenvectors are linearly independent (orthogonal).\n",
    "* We also know the eigenvalues of $\\mathbf{X}^{'}\\mathbf{X}$ must be real values and positive; this matches with the interpretation that the eigenvalues are proportional to the variance of each score vector.\n",
    "* Also, the sum of the eigenvalues must add up to sum of the diagonal entries of $\\mathbf{X}^{'}\\mathbf{X}$, which represents of the total variance of the X matrix, if all eigenvectors are extracted. So plotting the eigenvalues is equivalent to showing the proportion of variance explained in X by each component. This is not necessarily a good way to judge the number of components to use, but it is a rough guide: use a Pareto plot of the eigenvalues (though in the context of eigenvalue problems, this plot is called a scree plot)."
   ]
  },
  {
   "cell_type": "code",
   "execution_count": 7,
   "metadata": {},
   "outputs": [],
   "source": [
    "cov = np.cov(X, rowvar = False)\n",
    "evals , evecs = LA.eigh(cov)\n",
    "idx = np.argsort(evals)[::-1]\n",
    "evecs = evecs[:,idx]\n",
    "evals = evals[idx]\n",
    "score_eig = np.dot(X, evecs) "
   ]
  },
  {
   "cell_type": "code",
   "execution_count": 8,
   "metadata": {},
   "outputs": [
    {
     "data": {
      "text/plain": [
       "array([[-4.87800039e+03,  3.98751895e+00,  3.13838701e+00],\n",
       "       [-1.21040004e+04,  3.27220755e+00,  2.94753164e+00],\n",
       "       [-1.27560004e+04,  3.30307377e+00,  3.29523270e+00],\n",
       "       [-6.78700029e+03,  2.02212084e+00,  3.13888232e+00]])"
      ]
     },
     "execution_count": 8,
     "metadata": {},
     "output_type": "execute_result"
    }
   ],
   "source": [
    "score_eig"
   ]
  },
  {
   "cell_type": "code",
   "execution_count": 9,
   "metadata": {},
   "outputs": [
    {
     "data": {
      "text/plain": [
       "array([[-1.21901390e-05, -5.66460727e-01,  8.24088736e-01],\n",
       "       [-9.99999997e-01, -5.32639789e-05, -5.14047691e-05],\n",
       "       [-7.30130279e-05,  8.24088734e-01,  5.66460725e-01]])"
      ]
     },
     "execution_count": 9,
     "metadata": {},
     "output_type": "execute_result"
    }
   ],
   "source": [
    "evecs"
   ]
  },
  {
   "cell_type": "code",
   "execution_count": 10,
   "metadata": {},
   "outputs": [
    {
     "data": {
      "text/plain": [
       "array([1.51872330e+07, 6.70619604e-01, 2.02485956e-02])"
      ]
     },
     "execution_count": 10,
     "metadata": {},
     "output_type": "execute_result"
    }
   ],
   "source": [
    "evals"
   ]
  },
  {
   "cell_type": "markdown",
   "metadata": {},
   "source": [
    "# SKLEARN PCA"
   ]
  },
  {
   "cell_type": "code",
   "execution_count": 11,
   "metadata": {},
   "outputs": [],
   "source": [
    "from sklearn.decomposition import PCA\n",
    "pca = PCA()  # project from 64 to 2 dimensions\n",
    "score=pca.fit_transform(X)\n",
    "coeff=pca.components_ #eigen vectors.T\n",
    "latent = pca.explained_variance_\n",
    "explained = pca.explained_variance_ratio_"
   ]
  },
  {
   "cell_type": "code",
   "execution_count": 12,
   "metadata": {},
   "outputs": [
    {
     "data": {
      "text/plain": [
       "array([[-1.21901390e-05, -9.99999997e-01, -7.30130279e-05],\n",
       "       [ 5.66460727e-01,  5.32639789e-05, -8.24088734e-01],\n",
       "       [-8.24088736e-01,  5.14047691e-05, -5.66460725e-01]])"
      ]
     },
     "execution_count": 12,
     "metadata": {},
     "output_type": "execute_result"
    }
   ],
   "source": [
    "coeff"
   ]
  },
  {
   "cell_type": "code",
   "execution_count": 13,
   "metadata": {},
   "outputs": [
    {
     "data": {
      "text/plain": [
       "array([[ 4.25324997e+03, -8.41288672e-01, -8.37858943e-03],\n",
       "       [-2.97275001e+03, -1.25977271e-01,  1.82476780e-01],\n",
       "       [-3.62475003e+03, -1.56843494e-01, -1.65224286e-01],\n",
       "       [ 2.34425007e+03,  1.12410944e+00, -8.87390454e-03]])"
      ]
     },
     "execution_count": 13,
     "metadata": {},
     "output_type": "execute_result"
    }
   ],
   "source": [
    "score"
   ]
  },
  {
   "cell_type": "code",
   "execution_count": 14,
   "metadata": {},
   "outputs": [
    {
     "data": {
      "text/plain": [
       "array([9.99999955e-01, 4.41567976e-08, 1.33326424e-09])"
      ]
     },
     "execution_count": 14,
     "metadata": {},
     "output_type": "execute_result"
    }
   ],
   "source": [
    "explained"
   ]
  },
  {
   "cell_type": "code",
   "execution_count": 15,
   "metadata": {},
   "outputs": [
    {
     "data": {
      "text/plain": [
       "array([1.51872330e+07, 6.70619604e-01, 2.02485956e-02])"
      ]
     },
     "execution_count": 15,
     "metadata": {},
     "output_type": "execute_result"
    }
   ],
   "source": [
    "latent"
   ]
  },
  {
   "cell_type": "code",
   "execution_count": 16,
   "metadata": {},
   "outputs": [
    {
     "data": {
      "text/plain": [
       "array([3.89708006e+03, 8.18913673e-01, 1.42297560e-01])"
      ]
     },
     "execution_count": 16,
     "metadata": {},
     "output_type": "execute_result"
    }
   ],
   "source": [
    "pca.singular_values_/np.sqrt(3)"
   ]
  },
  {
   "cell_type": "code",
   "execution_count": 17,
   "metadata": {},
   "outputs": [
    {
     "data": {
      "text/plain": [
       "array([3.89708006e+03, 8.18913673e-01, 1.42297560e-01])"
      ]
     },
     "execution_count": 17,
     "metadata": {},
     "output_type": "execute_result"
    }
   ],
   "source": [
    "np.sqrt(evals)"
   ]
  }
 ],
 "metadata": {
  "kernelspec": {
   "display_name": "Python 3 (ipykernel)",
   "language": "python",
   "name": "python3"
  },
  "language_info": {
   "codemirror_mode": {
    "name": "ipython",
    "version": 3
   },
   "file_extension": ".py",
   "mimetype": "text/x-python",
   "name": "python",
   "nbconvert_exporter": "python",
   "pygments_lexer": "ipython3",
   "version": "3.9.12"
  }
 },
 "nbformat": 4,
 "nbformat_minor": 2
}
