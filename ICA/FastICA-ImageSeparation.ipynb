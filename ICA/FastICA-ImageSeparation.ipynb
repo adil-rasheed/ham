{
 "cells": [
  {
   "cell_type": "code",
   "execution_count": 14,
   "metadata": {},
   "outputs": [],
   "source": [
    "import numpy as np\n",
    "from PIL import Image\n",
    "\n",
    "# Load images\n",
    "x1 = np.array(Image.open('data/x1_100.jpg').convert('L'))\n",
    "x2 = np.array(Image.open('data/x2_100.jpg').convert('L'))\n",
    "x3 = np.array(Image.open('data/x3_100.jpg').convert('L'))\n",
    "\n",
    "# Define mixing matrix A\n",
    "A = np.array([[1, 0.5, 0.2],\n",
    "              [0.3, 1, 0.1],\n",
    "              [0.1, 0.7, 1]])\n",
    "X=np.stack([x1.flatten(),x2.flatten(),x3.flatten()],axis=1)\n",
    "Y=np.dot(A,X.T)\n"
   ]
  },
  {
   "cell_type": "code",
   "execution_count": 15,
   "metadata": {},
   "outputs": [
    {
     "data": {
      "text/plain": [
       "(3, 10000)"
      ]
     },
     "execution_count": 15,
     "metadata": {},
     "output_type": "execute_result"
    }
   ],
   "source": [
    "Y.shape"
   ]
  },
  {
   "cell_type": "code",
   "execution_count": 16,
   "metadata": {},
   "outputs": [
    {
     "ename": "OSError",
     "evalue": "cannot write mode F as JPEG",
     "output_type": "error",
     "traceback": [
      "\u001b[1;31m---------------------------------------------------------------------------\u001b[0m",
      "\u001b[1;31mKeyError\u001b[0m                                  Traceback (most recent call last)",
      "File \u001b[1;32mc:\\Users\\adil\\anaconda3\\envs\\smarthouse\\lib\\site-packages\\PIL\\JpegImagePlugin.py:643\u001b[0m, in \u001b[0;36m_save\u001b[1;34m(im, fp, filename)\u001b[0m\n\u001b[0;32m    642\u001b[0m \u001b[39mtry\u001b[39;00m:\n\u001b[1;32m--> 643\u001b[0m     rawmode \u001b[39m=\u001b[39m RAWMODE[im\u001b[39m.\u001b[39;49mmode]\n\u001b[0;32m    644\u001b[0m \u001b[39mexcept\u001b[39;00m \u001b[39mKeyError\u001b[39;00m \u001b[39mas\u001b[39;00m e:\n",
      "\u001b[1;31mKeyError\u001b[0m: 'F'",
      "\nThe above exception was the direct cause of the following exception:\n",
      "\u001b[1;31mOSError\u001b[0m                                   Traceback (most recent call last)",
      "Cell \u001b[1;32mIn[16], line 10\u001b[0m\n\u001b[0;32m      3\u001b[0m y1\u001b[39m=\u001b[39mY[\u001b[39m2\u001b[39m,:]\u001b[39m.\u001b[39mT\u001b[39m.\u001b[39mreshape(x3\u001b[39m.\u001b[39mshape)\n\u001b[0;32m      4\u001b[0m \u001b[39m# Mix images\u001b[39;00m\n\u001b[0;32m      5\u001b[0m \u001b[39m#y1 = np.dot(A, np.ravel(x1)).reshape(x1.shape)\u001b[39;00m\n\u001b[0;32m      6\u001b[0m \u001b[39m#y2 = np.dot(A, np.ravel(x2)).reshape(x2.shape)\u001b[39;00m\n\u001b[0;32m      7\u001b[0m \u001b[39m#y3 = np.dot(A, np.ravel(x3)).reshape(x3.shape)\u001b[39;00m\n\u001b[0;32m      8\u001b[0m \n\u001b[0;32m      9\u001b[0m \u001b[39m# Save mixed images\u001b[39;00m\n\u001b[1;32m---> 10\u001b[0m Image\u001b[39m.\u001b[39;49mfromarray(y1)\u001b[39m.\u001b[39;49msave(\u001b[39m'\u001b[39;49m\u001b[39mimage1.jpg\u001b[39;49m\u001b[39m'\u001b[39;49m)\n\u001b[0;32m     11\u001b[0m Image\u001b[39m.\u001b[39mfromarray(y2)\u001b[39m.\u001b[39msave(\u001b[39m'\u001b[39m\u001b[39mimage2.jpg\u001b[39m\u001b[39m'\u001b[39m)\n\u001b[0;32m     12\u001b[0m Image\u001b[39m.\u001b[39mfromarray(y3)\u001b[39m.\u001b[39msave(\u001b[39m'\u001b[39m\u001b[39mimage3.jpg\u001b[39m\u001b[39m'\u001b[39m)\n",
      "File \u001b[1;32mc:\\Users\\adil\\anaconda3\\envs\\smarthouse\\lib\\site-packages\\PIL\\Image.py:2431\u001b[0m, in \u001b[0;36mImage.save\u001b[1;34m(self, fp, format, **params)\u001b[0m\n\u001b[0;32m   2428\u001b[0m         fp \u001b[39m=\u001b[39m builtins\u001b[39m.\u001b[39mopen(filename, \u001b[39m\"\u001b[39m\u001b[39mw+b\u001b[39m\u001b[39m\"\u001b[39m)\n\u001b[0;32m   2430\u001b[0m \u001b[39mtry\u001b[39;00m:\n\u001b[1;32m-> 2431\u001b[0m     save_handler(\u001b[39mself\u001b[39;49m, fp, filename)\n\u001b[0;32m   2432\u001b[0m \u001b[39mexcept\u001b[39;00m \u001b[39mException\u001b[39;00m:\n\u001b[0;32m   2433\u001b[0m     \u001b[39mif\u001b[39;00m open_fp:\n",
      "File \u001b[1;32mc:\\Users\\adil\\anaconda3\\envs\\smarthouse\\lib\\site-packages\\PIL\\JpegImagePlugin.py:646\u001b[0m, in \u001b[0;36m_save\u001b[1;34m(im, fp, filename)\u001b[0m\n\u001b[0;32m    644\u001b[0m \u001b[39mexcept\u001b[39;00m \u001b[39mKeyError\u001b[39;00m \u001b[39mas\u001b[39;00m e:\n\u001b[0;32m    645\u001b[0m     msg \u001b[39m=\u001b[39m \u001b[39mf\u001b[39m\u001b[39m\"\u001b[39m\u001b[39mcannot write mode \u001b[39m\u001b[39m{\u001b[39;00mim\u001b[39m.\u001b[39mmode\u001b[39m}\u001b[39;00m\u001b[39m as JPEG\u001b[39m\u001b[39m\"\u001b[39m\n\u001b[1;32m--> 646\u001b[0m     \u001b[39mraise\u001b[39;00m \u001b[39mOSError\u001b[39;00m(msg) \u001b[39mfrom\u001b[39;00m \u001b[39me\u001b[39;00m\n\u001b[0;32m    648\u001b[0m info \u001b[39m=\u001b[39m im\u001b[39m.\u001b[39mencoderinfo\n\u001b[0;32m    650\u001b[0m dpi \u001b[39m=\u001b[39m [\u001b[39mround\u001b[39m(x) \u001b[39mfor\u001b[39;00m x \u001b[39min\u001b[39;00m info\u001b[39m.\u001b[39mget(\u001b[39m\"\u001b[39m\u001b[39mdpi\u001b[39m\u001b[39m\"\u001b[39m, (\u001b[39m0\u001b[39m, \u001b[39m0\u001b[39m))]\n",
      "\u001b[1;31mOSError\u001b[0m: cannot write mode F as JPEG"
     ]
    }
   ],
   "source": [
    "y1=Y[0,:].T.reshape(x1.shape)\n",
    "y1=Y[1,:].T.reshape(x2.shape)\n",
    "y1=Y[2,:].T.reshape(x3.shape)\n",
    "# Mix images\n",
    "#y1 = np.dot(A, np.ravel(x1)).reshape(x1.shape)\n",
    "#y2 = np.dot(A, np.ravel(x2)).reshape(x2.shape)\n",
    "#y3 = np.dot(A, np.ravel(x3)).reshape(x3.shape)\n",
    "\n",
    "# Save mixed images\n",
    "Image.fromarray(y1).save('image1.jpg')\n",
    "Image.fromarray(y2).save('image2.jpg')\n",
    "Image.fromarray(y3).save('image3.jpg')"
   ]
  },
  {
   "cell_type": "code",
   "execution_count": null,
   "metadata": {},
   "outputs": [
    {
     "data": {
      "text/plain": [
       "(500, 500)"
      ]
     },
     "execution_count": 13,
     "metadata": {},
     "output_type": "execute_result"
    }
   ],
   "source": [
    "y1.shape"
   ]
  }
 ],
 "metadata": {
  "kernelspec": {
   "display_name": "smarthouse",
   "language": "python",
   "name": "python3"
  },
  "language_info": {
   "codemirror_mode": {
    "name": "ipython",
    "version": 3
   },
   "file_extension": ".py",
   "mimetype": "text/x-python",
   "name": "python",
   "nbconvert_exporter": "python",
   "pygments_lexer": "ipython3",
   "version": "3.10.9"
  },
  "orig_nbformat": 4,
  "vscode": {
   "interpreter": {
    "hash": "430b629fc8318725e27907a539c84fb1944b0eecd3339434d3f68b0f2caf5d78"
   }
  }
 },
 "nbformat": 4,
 "nbformat_minor": 2
}
